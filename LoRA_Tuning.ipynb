{
  "nbformat": 4,
  "nbformat_minor": 0,
  "metadata": {
    "colab": {
      "provenance": [],
      "machine_shape": "hm",
      "gpuType": "L4",
      "authorship_tag": "ABX9TyOpAfM2qL/Em5nqVd4y1N4i",
      "include_colab_link": true
    },
    "kernelspec": {
      "name": "python3",
      "display_name": "Python 3"
    },
    "language_info": {
      "name": "python"
    },
    "accelerator": "GPU",
    "widgets": {
      "application/vnd.jupyter.widget-state+json": {
        "cc6cbf80eaad4eb393031195f1b818a2": {
          "model_module": "@jupyter-widgets/controls",
          "model_name": "VBoxModel",
          "model_module_version": "1.5.0",
          "state": {
            "_dom_classes": [],
            "_model_module": "@jupyter-widgets/controls",
            "_model_module_version": "1.5.0",
            "_model_name": "VBoxModel",
            "_view_count": null,
            "_view_module": "@jupyter-widgets/controls",
            "_view_module_version": "1.5.0",
            "_view_name": "VBoxView",
            "box_style": "",
            "children": [],
            "layout": "IPY_MODEL_9a58144d99a34cd4b288e8f7f6562a80"
          }
        },
        "e3b8ef85eb1149cf83e13e26679dd27e": {
          "model_module": "@jupyter-widgets/controls",
          "model_name": "HTMLModel",
          "model_module_version": "1.5.0",
          "state": {
            "_dom_classes": [],
            "_model_module": "@jupyter-widgets/controls",
            "_model_module_version": "1.5.0",
            "_model_name": "HTMLModel",
            "_view_count": null,
            "_view_module": "@jupyter-widgets/controls",
            "_view_module_version": "1.5.0",
            "_view_name": "HTMLView",
            "description": "",
            "description_tooltip": null,
            "layout": "IPY_MODEL_e6604bca14604d3bb3c4f0a71c67289c",
            "placeholder": "​",
            "style": "IPY_MODEL_49cc5a86a73445b687a34f9e4ecdf18e",
            "value": "<center> <img\nsrc=https://huggingface.co/front/assets/huggingface_logo-noborder.svg\nalt='Hugging Face'> <br> Copy a token from <a\nhref=\"https://huggingface.co/settings/tokens\" target=\"_blank\">your Hugging Face\ntokens page</a> and paste it below. <br> Immediately click login after copying\nyour token or it might be stored in plain text in this notebook file. </center>"
          }
        },
        "846992d19e064628b12e48b295ebe58d": {
          "model_module": "@jupyter-widgets/controls",
          "model_name": "PasswordModel",
          "model_module_version": "1.5.0",
          "state": {
            "_dom_classes": [],
            "_model_module": "@jupyter-widgets/controls",
            "_model_module_version": "1.5.0",
            "_model_name": "PasswordModel",
            "_view_count": null,
            "_view_module": "@jupyter-widgets/controls",
            "_view_module_version": "1.5.0",
            "_view_name": "PasswordView",
            "continuous_update": true,
            "description": "Token:",
            "description_tooltip": null,
            "disabled": false,
            "layout": "IPY_MODEL_a50eb2a3bdca4c0088fbd9174c72f028",
            "placeholder": "​",
            "style": "IPY_MODEL_5ada00baa38b466ab64b898ba1a37c16",
            "value": ""
          }
        },
        "51189a84a88b40ba9741c7e508a14957": {
          "model_module": "@jupyter-widgets/controls",
          "model_name": "CheckboxModel",
          "model_module_version": "1.5.0",
          "state": {
            "_dom_classes": [],
            "_model_module": "@jupyter-widgets/controls",
            "_model_module_version": "1.5.0",
            "_model_name": "CheckboxModel",
            "_view_count": null,
            "_view_module": "@jupyter-widgets/controls",
            "_view_module_version": "1.5.0",
            "_view_name": "CheckboxView",
            "description": "Add token as git credential?",
            "description_tooltip": null,
            "disabled": false,
            "indent": true,
            "layout": "IPY_MODEL_81b741cae523419cbc0c3695465ff51f",
            "style": "IPY_MODEL_4b4b2fc5a5c64e3787f7ed35c20aee5e",
            "value": true
          }
        },
        "198f6644343747518990b19a55dec81d": {
          "model_module": "@jupyter-widgets/controls",
          "model_name": "ButtonModel",
          "model_module_version": "1.5.0",
          "state": {
            "_dom_classes": [],
            "_model_module": "@jupyter-widgets/controls",
            "_model_module_version": "1.5.0",
            "_model_name": "ButtonModel",
            "_view_count": null,
            "_view_module": "@jupyter-widgets/controls",
            "_view_module_version": "1.5.0",
            "_view_name": "ButtonView",
            "button_style": "",
            "description": "Login",
            "disabled": false,
            "icon": "",
            "layout": "IPY_MODEL_98114fcbfcbb4de7a5ecc27f389f126d",
            "style": "IPY_MODEL_070073c1751c4e3fbb7dbe1348a86913",
            "tooltip": ""
          }
        },
        "e80187fd082b4d8c9130b18d6d2e1a6f": {
          "model_module": "@jupyter-widgets/controls",
          "model_name": "HTMLModel",
          "model_module_version": "1.5.0",
          "state": {
            "_dom_classes": [],
            "_model_module": "@jupyter-widgets/controls",
            "_model_module_version": "1.5.0",
            "_model_name": "HTMLModel",
            "_view_count": null,
            "_view_module": "@jupyter-widgets/controls",
            "_view_module_version": "1.5.0",
            "_view_name": "HTMLView",
            "description": "",
            "description_tooltip": null,
            "layout": "IPY_MODEL_d19e69af577c487999acbff399327f3d",
            "placeholder": "​",
            "style": "IPY_MODEL_645a4d1f8d294874b5c80d57ec1e3151",
            "value": "\n<b>Pro Tip:</b> If you don't already have one, you can create a dedicated\n'notebooks' token with 'write' access, that you can then easily reuse for all\nnotebooks. </center>"
          }
        },
        "9a58144d99a34cd4b288e8f7f6562a80": {
          "model_module": "@jupyter-widgets/base",
          "model_name": "LayoutModel",
          "model_module_version": "1.2.0",
          "state": {
            "_model_module": "@jupyter-widgets/base",
            "_model_module_version": "1.2.0",
            "_model_name": "LayoutModel",
            "_view_count": null,
            "_view_module": "@jupyter-widgets/base",
            "_view_module_version": "1.2.0",
            "_view_name": "LayoutView",
            "align_content": null,
            "align_items": "center",
            "align_self": null,
            "border": null,
            "bottom": null,
            "display": "flex",
            "flex": null,
            "flex_flow": "column",
            "grid_area": null,
            "grid_auto_columns": null,
            "grid_auto_flow": null,
            "grid_auto_rows": null,
            "grid_column": null,
            "grid_gap": null,
            "grid_row": null,
            "grid_template_areas": null,
            "grid_template_columns": null,
            "grid_template_rows": null,
            "height": null,
            "justify_content": null,
            "justify_items": null,
            "left": null,
            "margin": null,
            "max_height": null,
            "max_width": null,
            "min_height": null,
            "min_width": null,
            "object_fit": null,
            "object_position": null,
            "order": null,
            "overflow": null,
            "overflow_x": null,
            "overflow_y": null,
            "padding": null,
            "right": null,
            "top": null,
            "visibility": null,
            "width": "50%"
          }
        },
        "e6604bca14604d3bb3c4f0a71c67289c": {
          "model_module": "@jupyter-widgets/base",
          "model_name": "LayoutModel",
          "model_module_version": "1.2.0",
          "state": {
            "_model_module": "@jupyter-widgets/base",
            "_model_module_version": "1.2.0",
            "_model_name": "LayoutModel",
            "_view_count": null,
            "_view_module": "@jupyter-widgets/base",
            "_view_module_version": "1.2.0",
            "_view_name": "LayoutView",
            "align_content": null,
            "align_items": null,
            "align_self": null,
            "border": null,
            "bottom": null,
            "display": null,
            "flex": null,
            "flex_flow": null,
            "grid_area": null,
            "grid_auto_columns": null,
            "grid_auto_flow": null,
            "grid_auto_rows": null,
            "grid_column": null,
            "grid_gap": null,
            "grid_row": null,
            "grid_template_areas": null,
            "grid_template_columns": null,
            "grid_template_rows": null,
            "height": null,
            "justify_content": null,
            "justify_items": null,
            "left": null,
            "margin": null,
            "max_height": null,
            "max_width": null,
            "min_height": null,
            "min_width": null,
            "object_fit": null,
            "object_position": null,
            "order": null,
            "overflow": null,
            "overflow_x": null,
            "overflow_y": null,
            "padding": null,
            "right": null,
            "top": null,
            "visibility": null,
            "width": null
          }
        },
        "49cc5a86a73445b687a34f9e4ecdf18e": {
          "model_module": "@jupyter-widgets/controls",
          "model_name": "DescriptionStyleModel",
          "model_module_version": "1.5.0",
          "state": {
            "_model_module": "@jupyter-widgets/controls",
            "_model_module_version": "1.5.0",
            "_model_name": "DescriptionStyleModel",
            "_view_count": null,
            "_view_module": "@jupyter-widgets/base",
            "_view_module_version": "1.2.0",
            "_view_name": "StyleView",
            "description_width": ""
          }
        },
        "a50eb2a3bdca4c0088fbd9174c72f028": {
          "model_module": "@jupyter-widgets/base",
          "model_name": "LayoutModel",
          "model_module_version": "1.2.0",
          "state": {
            "_model_module": "@jupyter-widgets/base",
            "_model_module_version": "1.2.0",
            "_model_name": "LayoutModel",
            "_view_count": null,
            "_view_module": "@jupyter-widgets/base",
            "_view_module_version": "1.2.0",
            "_view_name": "LayoutView",
            "align_content": null,
            "align_items": null,
            "align_self": null,
            "border": null,
            "bottom": null,
            "display": null,
            "flex": null,
            "flex_flow": null,
            "grid_area": null,
            "grid_auto_columns": null,
            "grid_auto_flow": null,
            "grid_auto_rows": null,
            "grid_column": null,
            "grid_gap": null,
            "grid_row": null,
            "grid_template_areas": null,
            "grid_template_columns": null,
            "grid_template_rows": null,
            "height": null,
            "justify_content": null,
            "justify_items": null,
            "left": null,
            "margin": null,
            "max_height": null,
            "max_width": null,
            "min_height": null,
            "min_width": null,
            "object_fit": null,
            "object_position": null,
            "order": null,
            "overflow": null,
            "overflow_x": null,
            "overflow_y": null,
            "padding": null,
            "right": null,
            "top": null,
            "visibility": null,
            "width": null
          }
        },
        "5ada00baa38b466ab64b898ba1a37c16": {
          "model_module": "@jupyter-widgets/controls",
          "model_name": "DescriptionStyleModel",
          "model_module_version": "1.5.0",
          "state": {
            "_model_module": "@jupyter-widgets/controls",
            "_model_module_version": "1.5.0",
            "_model_name": "DescriptionStyleModel",
            "_view_count": null,
            "_view_module": "@jupyter-widgets/base",
            "_view_module_version": "1.2.0",
            "_view_name": "StyleView",
            "description_width": ""
          }
        },
        "81b741cae523419cbc0c3695465ff51f": {
          "model_module": "@jupyter-widgets/base",
          "model_name": "LayoutModel",
          "model_module_version": "1.2.0",
          "state": {
            "_model_module": "@jupyter-widgets/base",
            "_model_module_version": "1.2.0",
            "_model_name": "LayoutModel",
            "_view_count": null,
            "_view_module": "@jupyter-widgets/base",
            "_view_module_version": "1.2.0",
            "_view_name": "LayoutView",
            "align_content": null,
            "align_items": null,
            "align_self": null,
            "border": null,
            "bottom": null,
            "display": null,
            "flex": null,
            "flex_flow": null,
            "grid_area": null,
            "grid_auto_columns": null,
            "grid_auto_flow": null,
            "grid_auto_rows": null,
            "grid_column": null,
            "grid_gap": null,
            "grid_row": null,
            "grid_template_areas": null,
            "grid_template_columns": null,
            "grid_template_rows": null,
            "height": null,
            "justify_content": null,
            "justify_items": null,
            "left": null,
            "margin": null,
            "max_height": null,
            "max_width": null,
            "min_height": null,
            "min_width": null,
            "object_fit": null,
            "object_position": null,
            "order": null,
            "overflow": null,
            "overflow_x": null,
            "overflow_y": null,
            "padding": null,
            "right": null,
            "top": null,
            "visibility": null,
            "width": null
          }
        },
        "4b4b2fc5a5c64e3787f7ed35c20aee5e": {
          "model_module": "@jupyter-widgets/controls",
          "model_name": "DescriptionStyleModel",
          "model_module_version": "1.5.0",
          "state": {
            "_model_module": "@jupyter-widgets/controls",
            "_model_module_version": "1.5.0",
            "_model_name": "DescriptionStyleModel",
            "_view_count": null,
            "_view_module": "@jupyter-widgets/base",
            "_view_module_version": "1.2.0",
            "_view_name": "StyleView",
            "description_width": ""
          }
        },
        "98114fcbfcbb4de7a5ecc27f389f126d": {
          "model_module": "@jupyter-widgets/base",
          "model_name": "LayoutModel",
          "model_module_version": "1.2.0",
          "state": {
            "_model_module": "@jupyter-widgets/base",
            "_model_module_version": "1.2.0",
            "_model_name": "LayoutModel",
            "_view_count": null,
            "_view_module": "@jupyter-widgets/base",
            "_view_module_version": "1.2.0",
            "_view_name": "LayoutView",
            "align_content": null,
            "align_items": null,
            "align_self": null,
            "border": null,
            "bottom": null,
            "display": null,
            "flex": null,
            "flex_flow": null,
            "grid_area": null,
            "grid_auto_columns": null,
            "grid_auto_flow": null,
            "grid_auto_rows": null,
            "grid_column": null,
            "grid_gap": null,
            "grid_row": null,
            "grid_template_areas": null,
            "grid_template_columns": null,
            "grid_template_rows": null,
            "height": null,
            "justify_content": null,
            "justify_items": null,
            "left": null,
            "margin": null,
            "max_height": null,
            "max_width": null,
            "min_height": null,
            "min_width": null,
            "object_fit": null,
            "object_position": null,
            "order": null,
            "overflow": null,
            "overflow_x": null,
            "overflow_y": null,
            "padding": null,
            "right": null,
            "top": null,
            "visibility": null,
            "width": null
          }
        },
        "070073c1751c4e3fbb7dbe1348a86913": {
          "model_module": "@jupyter-widgets/controls",
          "model_name": "ButtonStyleModel",
          "model_module_version": "1.5.0",
          "state": {
            "_model_module": "@jupyter-widgets/controls",
            "_model_module_version": "1.5.0",
            "_model_name": "ButtonStyleModel",
            "_view_count": null,
            "_view_module": "@jupyter-widgets/base",
            "_view_module_version": "1.2.0",
            "_view_name": "StyleView",
            "button_color": null,
            "font_weight": ""
          }
        },
        "d19e69af577c487999acbff399327f3d": {
          "model_module": "@jupyter-widgets/base",
          "model_name": "LayoutModel",
          "model_module_version": "1.2.0",
          "state": {
            "_model_module": "@jupyter-widgets/base",
            "_model_module_version": "1.2.0",
            "_model_name": "LayoutModel",
            "_view_count": null,
            "_view_module": "@jupyter-widgets/base",
            "_view_module_version": "1.2.0",
            "_view_name": "LayoutView",
            "align_content": null,
            "align_items": null,
            "align_self": null,
            "border": null,
            "bottom": null,
            "display": null,
            "flex": null,
            "flex_flow": null,
            "grid_area": null,
            "grid_auto_columns": null,
            "grid_auto_flow": null,
            "grid_auto_rows": null,
            "grid_column": null,
            "grid_gap": null,
            "grid_row": null,
            "grid_template_areas": null,
            "grid_template_columns": null,
            "grid_template_rows": null,
            "height": null,
            "justify_content": null,
            "justify_items": null,
            "left": null,
            "margin": null,
            "max_height": null,
            "max_width": null,
            "min_height": null,
            "min_width": null,
            "object_fit": null,
            "object_position": null,
            "order": null,
            "overflow": null,
            "overflow_x": null,
            "overflow_y": null,
            "padding": null,
            "right": null,
            "top": null,
            "visibility": null,
            "width": null
          }
        },
        "645a4d1f8d294874b5c80d57ec1e3151": {
          "model_module": "@jupyter-widgets/controls",
          "model_name": "DescriptionStyleModel",
          "model_module_version": "1.5.0",
          "state": {
            "_model_module": "@jupyter-widgets/controls",
            "_model_module_version": "1.5.0",
            "_model_name": "DescriptionStyleModel",
            "_view_count": null,
            "_view_module": "@jupyter-widgets/base",
            "_view_module_version": "1.2.0",
            "_view_name": "StyleView",
            "description_width": ""
          }
        },
        "689b47a9366041b78383a18fe9cf07bd": {
          "model_module": "@jupyter-widgets/controls",
          "model_name": "LabelModel",
          "model_module_version": "1.5.0",
          "state": {
            "_dom_classes": [],
            "_model_module": "@jupyter-widgets/controls",
            "_model_module_version": "1.5.0",
            "_model_name": "LabelModel",
            "_view_count": null,
            "_view_module": "@jupyter-widgets/controls",
            "_view_module_version": "1.5.0",
            "_view_name": "LabelView",
            "description": "",
            "description_tooltip": null,
            "layout": "IPY_MODEL_e2b116bf495441d3bdd82cf60daa68a4",
            "placeholder": "​",
            "style": "IPY_MODEL_424d551ca56e429d99c3f910045110a8",
            "value": "Connecting..."
          }
        },
        "e2b116bf495441d3bdd82cf60daa68a4": {
          "model_module": "@jupyter-widgets/base",
          "model_name": "LayoutModel",
          "model_module_version": "1.2.0",
          "state": {
            "_model_module": "@jupyter-widgets/base",
            "_model_module_version": "1.2.0",
            "_model_name": "LayoutModel",
            "_view_count": null,
            "_view_module": "@jupyter-widgets/base",
            "_view_module_version": "1.2.0",
            "_view_name": "LayoutView",
            "align_content": null,
            "align_items": null,
            "align_self": null,
            "border": null,
            "bottom": null,
            "display": null,
            "flex": null,
            "flex_flow": null,
            "grid_area": null,
            "grid_auto_columns": null,
            "grid_auto_flow": null,
            "grid_auto_rows": null,
            "grid_column": null,
            "grid_gap": null,
            "grid_row": null,
            "grid_template_areas": null,
            "grid_template_columns": null,
            "grid_template_rows": null,
            "height": null,
            "justify_content": null,
            "justify_items": null,
            "left": null,
            "margin": null,
            "max_height": null,
            "max_width": null,
            "min_height": null,
            "min_width": null,
            "object_fit": null,
            "object_position": null,
            "order": null,
            "overflow": null,
            "overflow_x": null,
            "overflow_y": null,
            "padding": null,
            "right": null,
            "top": null,
            "visibility": null,
            "width": null
          }
        },
        "424d551ca56e429d99c3f910045110a8": {
          "model_module": "@jupyter-widgets/controls",
          "model_name": "DescriptionStyleModel",
          "model_module_version": "1.5.0",
          "state": {
            "_model_module": "@jupyter-widgets/controls",
            "_model_module_version": "1.5.0",
            "_model_name": "DescriptionStyleModel",
            "_view_count": null,
            "_view_module": "@jupyter-widgets/base",
            "_view_module_version": "1.2.0",
            "_view_name": "StyleView",
            "description_width": ""
          }
        },
        "aa1001d43d214ce9a35fb1623066bab8": {
          "model_module": "@jupyter-widgets/controls",
          "model_name": "HBoxModel",
          "model_module_version": "1.5.0",
          "state": {
            "_dom_classes": [],
            "_model_module": "@jupyter-widgets/controls",
            "_model_module_version": "1.5.0",
            "_model_name": "HBoxModel",
            "_view_count": null,
            "_view_module": "@jupyter-widgets/controls",
            "_view_module_version": "1.5.0",
            "_view_name": "HBoxView",
            "box_style": "",
            "children": [
              "IPY_MODEL_c1f00c98ebb84432b9b9009ad9fe64d2",
              "IPY_MODEL_7777e967d6454ea4bd6b85f67531b414",
              "IPY_MODEL_64f123f0541f462cb4ae990ff4268267"
            ],
            "layout": "IPY_MODEL_9856e53674b54cb5a41e6e55caf1faf1"
          }
        },
        "c1f00c98ebb84432b9b9009ad9fe64d2": {
          "model_module": "@jupyter-widgets/controls",
          "model_name": "HTMLModel",
          "model_module_version": "1.5.0",
          "state": {
            "_dom_classes": [],
            "_model_module": "@jupyter-widgets/controls",
            "_model_module_version": "1.5.0",
            "_model_name": "HTMLModel",
            "_view_count": null,
            "_view_module": "@jupyter-widgets/controls",
            "_view_module_version": "1.5.0",
            "_view_name": "HTMLView",
            "description": "",
            "description_tooltip": null,
            "layout": "IPY_MODEL_9c47dcc97bb5433bac7c4a3979e9dff7",
            "placeholder": "​",
            "style": "IPY_MODEL_2ffc95b133cb4e92bf81963b34c761fe",
            "value": "config.json: 100%"
          }
        },
        "7777e967d6454ea4bd6b85f67531b414": {
          "model_module": "@jupyter-widgets/controls",
          "model_name": "FloatProgressModel",
          "model_module_version": "1.5.0",
          "state": {
            "_dom_classes": [],
            "_model_module": "@jupyter-widgets/controls",
            "_model_module_version": "1.5.0",
            "_model_name": "FloatProgressModel",
            "_view_count": null,
            "_view_module": "@jupyter-widgets/controls",
            "_view_module_version": "1.5.0",
            "_view_name": "ProgressView",
            "bar_style": "success",
            "description": "",
            "description_tooltip": null,
            "layout": "IPY_MODEL_ae50dee5dcf34f579bcf4761658dcbc1",
            "max": 665,
            "min": 0,
            "orientation": "horizontal",
            "style": "IPY_MODEL_6fa5bd677cf04e7bbcf6198a259561cb",
            "value": 665
          }
        },
        "64f123f0541f462cb4ae990ff4268267": {
          "model_module": "@jupyter-widgets/controls",
          "model_name": "HTMLModel",
          "model_module_version": "1.5.0",
          "state": {
            "_dom_classes": [],
            "_model_module": "@jupyter-widgets/controls",
            "_model_module_version": "1.5.0",
            "_model_name": "HTMLModel",
            "_view_count": null,
            "_view_module": "@jupyter-widgets/controls",
            "_view_module_version": "1.5.0",
            "_view_name": "HTMLView",
            "description": "",
            "description_tooltip": null,
            "layout": "IPY_MODEL_582d1bad30e94b22b6c73c3d9dccac40",
            "placeholder": "​",
            "style": "IPY_MODEL_92b7fbcd17634ad3b0b56b8eaed79934",
            "value": " 665/665 [00:00&lt;00:00, 70.1kB/s]"
          }
        },
        "9856e53674b54cb5a41e6e55caf1faf1": {
          "model_module": "@jupyter-widgets/base",
          "model_name": "LayoutModel",
          "model_module_version": "1.2.0",
          "state": {
            "_model_module": "@jupyter-widgets/base",
            "_model_module_version": "1.2.0",
            "_model_name": "LayoutModel",
            "_view_count": null,
            "_view_module": "@jupyter-widgets/base",
            "_view_module_version": "1.2.0",
            "_view_name": "LayoutView",
            "align_content": null,
            "align_items": null,
            "align_self": null,
            "border": null,
            "bottom": null,
            "display": null,
            "flex": null,
            "flex_flow": null,
            "grid_area": null,
            "grid_auto_columns": null,
            "grid_auto_flow": null,
            "grid_auto_rows": null,
            "grid_column": null,
            "grid_gap": null,
            "grid_row": null,
            "grid_template_areas": null,
            "grid_template_columns": null,
            "grid_template_rows": null,
            "height": null,
            "justify_content": null,
            "justify_items": null,
            "left": null,
            "margin": null,
            "max_height": null,
            "max_width": null,
            "min_height": null,
            "min_width": null,
            "object_fit": null,
            "object_position": null,
            "order": null,
            "overflow": null,
            "overflow_x": null,
            "overflow_y": null,
            "padding": null,
            "right": null,
            "top": null,
            "visibility": null,
            "width": null
          }
        },
        "9c47dcc97bb5433bac7c4a3979e9dff7": {
          "model_module": "@jupyter-widgets/base",
          "model_name": "LayoutModel",
          "model_module_version": "1.2.0",
          "state": {
            "_model_module": "@jupyter-widgets/base",
            "_model_module_version": "1.2.0",
            "_model_name": "LayoutModel",
            "_view_count": null,
            "_view_module": "@jupyter-widgets/base",
            "_view_module_version": "1.2.0",
            "_view_name": "LayoutView",
            "align_content": null,
            "align_items": null,
            "align_self": null,
            "border": null,
            "bottom": null,
            "display": null,
            "flex": null,
            "flex_flow": null,
            "grid_area": null,
            "grid_auto_columns": null,
            "grid_auto_flow": null,
            "grid_auto_rows": null,
            "grid_column": null,
            "grid_gap": null,
            "grid_row": null,
            "grid_template_areas": null,
            "grid_template_columns": null,
            "grid_template_rows": null,
            "height": null,
            "justify_content": null,
            "justify_items": null,
            "left": null,
            "margin": null,
            "max_height": null,
            "max_width": null,
            "min_height": null,
            "min_width": null,
            "object_fit": null,
            "object_position": null,
            "order": null,
            "overflow": null,
            "overflow_x": null,
            "overflow_y": null,
            "padding": null,
            "right": null,
            "top": null,
            "visibility": null,
            "width": null
          }
        },
        "2ffc95b133cb4e92bf81963b34c761fe": {
          "model_module": "@jupyter-widgets/controls",
          "model_name": "DescriptionStyleModel",
          "model_module_version": "1.5.0",
          "state": {
            "_model_module": "@jupyter-widgets/controls",
            "_model_module_version": "1.5.0",
            "_model_name": "DescriptionStyleModel",
            "_view_count": null,
            "_view_module": "@jupyter-widgets/base",
            "_view_module_version": "1.2.0",
            "_view_name": "StyleView",
            "description_width": ""
          }
        },
        "ae50dee5dcf34f579bcf4761658dcbc1": {
          "model_module": "@jupyter-widgets/base",
          "model_name": "LayoutModel",
          "model_module_version": "1.2.0",
          "state": {
            "_model_module": "@jupyter-widgets/base",
            "_model_module_version": "1.2.0",
            "_model_name": "LayoutModel",
            "_view_count": null,
            "_view_module": "@jupyter-widgets/base",
            "_view_module_version": "1.2.0",
            "_view_name": "LayoutView",
            "align_content": null,
            "align_items": null,
            "align_self": null,
            "border": null,
            "bottom": null,
            "display": null,
            "flex": null,
            "flex_flow": null,
            "grid_area": null,
            "grid_auto_columns": null,
            "grid_auto_flow": null,
            "grid_auto_rows": null,
            "grid_column": null,
            "grid_gap": null,
            "grid_row": null,
            "grid_template_areas": null,
            "grid_template_columns": null,
            "grid_template_rows": null,
            "height": null,
            "justify_content": null,
            "justify_items": null,
            "left": null,
            "margin": null,
            "max_height": null,
            "max_width": null,
            "min_height": null,
            "min_width": null,
            "object_fit": null,
            "object_position": null,
            "order": null,
            "overflow": null,
            "overflow_x": null,
            "overflow_y": null,
            "padding": null,
            "right": null,
            "top": null,
            "visibility": null,
            "width": null
          }
        },
        "6fa5bd677cf04e7bbcf6198a259561cb": {
          "model_module": "@jupyter-widgets/controls",
          "model_name": "ProgressStyleModel",
          "model_module_version": "1.5.0",
          "state": {
            "_model_module": "@jupyter-widgets/controls",
            "_model_module_version": "1.5.0",
            "_model_name": "ProgressStyleModel",
            "_view_count": null,
            "_view_module": "@jupyter-widgets/base",
            "_view_module_version": "1.2.0",
            "_view_name": "StyleView",
            "bar_color": null,
            "description_width": ""
          }
        },
        "582d1bad30e94b22b6c73c3d9dccac40": {
          "model_module": "@jupyter-widgets/base",
          "model_name": "LayoutModel",
          "model_module_version": "1.2.0",
          "state": {
            "_model_module": "@jupyter-widgets/base",
            "_model_module_version": "1.2.0",
            "_model_name": "LayoutModel",
            "_view_count": null,
            "_view_module": "@jupyter-widgets/base",
            "_view_module_version": "1.2.0",
            "_view_name": "LayoutView",
            "align_content": null,
            "align_items": null,
            "align_self": null,
            "border": null,
            "bottom": null,
            "display": null,
            "flex": null,
            "flex_flow": null,
            "grid_area": null,
            "grid_auto_columns": null,
            "grid_auto_flow": null,
            "grid_auto_rows": null,
            "grid_column": null,
            "grid_gap": null,
            "grid_row": null,
            "grid_template_areas": null,
            "grid_template_columns": null,
            "grid_template_rows": null,
            "height": null,
            "justify_content": null,
            "justify_items": null,
            "left": null,
            "margin": null,
            "max_height": null,
            "max_width": null,
            "min_height": null,
            "min_width": null,
            "object_fit": null,
            "object_position": null,
            "order": null,
            "overflow": null,
            "overflow_x": null,
            "overflow_y": null,
            "padding": null,
            "right": null,
            "top": null,
            "visibility": null,
            "width": null
          }
        },
        "92b7fbcd17634ad3b0b56b8eaed79934": {
          "model_module": "@jupyter-widgets/controls",
          "model_name": "DescriptionStyleModel",
          "model_module_version": "1.5.0",
          "state": {
            "_model_module": "@jupyter-widgets/controls",
            "_model_module_version": "1.5.0",
            "_model_name": "DescriptionStyleModel",
            "_view_count": null,
            "_view_module": "@jupyter-widgets/base",
            "_view_module_version": "1.2.0",
            "_view_name": "StyleView",
            "description_width": ""
          }
        },
        "557b22ec40514e328a5c4cf9e879aebe": {
          "model_module": "@jupyter-widgets/controls",
          "model_name": "HBoxModel",
          "model_module_version": "1.5.0",
          "state": {
            "_dom_classes": [],
            "_model_module": "@jupyter-widgets/controls",
            "_model_module_version": "1.5.0",
            "_model_name": "HBoxModel",
            "_view_count": null,
            "_view_module": "@jupyter-widgets/controls",
            "_view_module_version": "1.5.0",
            "_view_name": "HBoxView",
            "box_style": "",
            "children": [
              "IPY_MODEL_3f6ff920370b48c0a23b24c8e3045930",
              "IPY_MODEL_1b8dd759661a4b04ac13f39a194b5d14",
              "IPY_MODEL_ce933495db2c416e9bd5659b73ba01e2"
            ],
            "layout": "IPY_MODEL_8671664f00474eb2a3ebac9896e90fd9"
          }
        },
        "3f6ff920370b48c0a23b24c8e3045930": {
          "model_module": "@jupyter-widgets/controls",
          "model_name": "HTMLModel",
          "model_module_version": "1.5.0",
          "state": {
            "_dom_classes": [],
            "_model_module": "@jupyter-widgets/controls",
            "_model_module_version": "1.5.0",
            "_model_name": "HTMLModel",
            "_view_count": null,
            "_view_module": "@jupyter-widgets/controls",
            "_view_module_version": "1.5.0",
            "_view_name": "HTMLView",
            "description": "",
            "description_tooltip": null,
            "layout": "IPY_MODEL_3825464d09314ee5829c9b7bde8ab262",
            "placeholder": "​",
            "style": "IPY_MODEL_64da21c17a044d59a57159bdb216f703",
            "value": "model.safetensors: 100%"
          }
        },
        "1b8dd759661a4b04ac13f39a194b5d14": {
          "model_module": "@jupyter-widgets/controls",
          "model_name": "FloatProgressModel",
          "model_module_version": "1.5.0",
          "state": {
            "_dom_classes": [],
            "_model_module": "@jupyter-widgets/controls",
            "_model_module_version": "1.5.0",
            "_model_name": "FloatProgressModel",
            "_view_count": null,
            "_view_module": "@jupyter-widgets/controls",
            "_view_module_version": "1.5.0",
            "_view_name": "ProgressView",
            "bar_style": "success",
            "description": "",
            "description_tooltip": null,
            "layout": "IPY_MODEL_15eef785a179420087f4e18eedbfaa27",
            "max": 548105171,
            "min": 0,
            "orientation": "horizontal",
            "style": "IPY_MODEL_828badf3bd3043db88fd7edd35c22610",
            "value": 548105171
          }
        },
        "ce933495db2c416e9bd5659b73ba01e2": {
          "model_module": "@jupyter-widgets/controls",
          "model_name": "HTMLModel",
          "model_module_version": "1.5.0",
          "state": {
            "_dom_classes": [],
            "_model_module": "@jupyter-widgets/controls",
            "_model_module_version": "1.5.0",
            "_model_name": "HTMLModel",
            "_view_count": null,
            "_view_module": "@jupyter-widgets/controls",
            "_view_module_version": "1.5.0",
            "_view_name": "HTMLView",
            "description": "",
            "description_tooltip": null,
            "layout": "IPY_MODEL_3bdb4b510d9c4452b3099613a45826b1",
            "placeholder": "​",
            "style": "IPY_MODEL_51fd704a551742bcaa9e7090f4ecee7e",
            "value": " 548M/548M [00:01&lt;00:00, 320MB/s]"
          }
        },
        "8671664f00474eb2a3ebac9896e90fd9": {
          "model_module": "@jupyter-widgets/base",
          "model_name": "LayoutModel",
          "model_module_version": "1.2.0",
          "state": {
            "_model_module": "@jupyter-widgets/base",
            "_model_module_version": "1.2.0",
            "_model_name": "LayoutModel",
            "_view_count": null,
            "_view_module": "@jupyter-widgets/base",
            "_view_module_version": "1.2.0",
            "_view_name": "LayoutView",
            "align_content": null,
            "align_items": null,
            "align_self": null,
            "border": null,
            "bottom": null,
            "display": null,
            "flex": null,
            "flex_flow": null,
            "grid_area": null,
            "grid_auto_columns": null,
            "grid_auto_flow": null,
            "grid_auto_rows": null,
            "grid_column": null,
            "grid_gap": null,
            "grid_row": null,
            "grid_template_areas": null,
            "grid_template_columns": null,
            "grid_template_rows": null,
            "height": null,
            "justify_content": null,
            "justify_items": null,
            "left": null,
            "margin": null,
            "max_height": null,
            "max_width": null,
            "min_height": null,
            "min_width": null,
            "object_fit": null,
            "object_position": null,
            "order": null,
            "overflow": null,
            "overflow_x": null,
            "overflow_y": null,
            "padding": null,
            "right": null,
            "top": null,
            "visibility": null,
            "width": null
          }
        },
        "3825464d09314ee5829c9b7bde8ab262": {
          "model_module": "@jupyter-widgets/base",
          "model_name": "LayoutModel",
          "model_module_version": "1.2.0",
          "state": {
            "_model_module": "@jupyter-widgets/base",
            "_model_module_version": "1.2.0",
            "_model_name": "LayoutModel",
            "_view_count": null,
            "_view_module": "@jupyter-widgets/base",
            "_view_module_version": "1.2.0",
            "_view_name": "LayoutView",
            "align_content": null,
            "align_items": null,
            "align_self": null,
            "border": null,
            "bottom": null,
            "display": null,
            "flex": null,
            "flex_flow": null,
            "grid_area": null,
            "grid_auto_columns": null,
            "grid_auto_flow": null,
            "grid_auto_rows": null,
            "grid_column": null,
            "grid_gap": null,
            "grid_row": null,
            "grid_template_areas": null,
            "grid_template_columns": null,
            "grid_template_rows": null,
            "height": null,
            "justify_content": null,
            "justify_items": null,
            "left": null,
            "margin": null,
            "max_height": null,
            "max_width": null,
            "min_height": null,
            "min_width": null,
            "object_fit": null,
            "object_position": null,
            "order": null,
            "overflow": null,
            "overflow_x": null,
            "overflow_y": null,
            "padding": null,
            "right": null,
            "top": null,
            "visibility": null,
            "width": null
          }
        },
        "64da21c17a044d59a57159bdb216f703": {
          "model_module": "@jupyter-widgets/controls",
          "model_name": "DescriptionStyleModel",
          "model_module_version": "1.5.0",
          "state": {
            "_model_module": "@jupyter-widgets/controls",
            "_model_module_version": "1.5.0",
            "_model_name": "DescriptionStyleModel",
            "_view_count": null,
            "_view_module": "@jupyter-widgets/base",
            "_view_module_version": "1.2.0",
            "_view_name": "StyleView",
            "description_width": ""
          }
        },
        "15eef785a179420087f4e18eedbfaa27": {
          "model_module": "@jupyter-widgets/base",
          "model_name": "LayoutModel",
          "model_module_version": "1.2.0",
          "state": {
            "_model_module": "@jupyter-widgets/base",
            "_model_module_version": "1.2.0",
            "_model_name": "LayoutModel",
            "_view_count": null,
            "_view_module": "@jupyter-widgets/base",
            "_view_module_version": "1.2.0",
            "_view_name": "LayoutView",
            "align_content": null,
            "align_items": null,
            "align_self": null,
            "border": null,
            "bottom": null,
            "display": null,
            "flex": null,
            "flex_flow": null,
            "grid_area": null,
            "grid_auto_columns": null,
            "grid_auto_flow": null,
            "grid_auto_rows": null,
            "grid_column": null,
            "grid_gap": null,
            "grid_row": null,
            "grid_template_areas": null,
            "grid_template_columns": null,
            "grid_template_rows": null,
            "height": null,
            "justify_content": null,
            "justify_items": null,
            "left": null,
            "margin": null,
            "max_height": null,
            "max_width": null,
            "min_height": null,
            "min_width": null,
            "object_fit": null,
            "object_position": null,
            "order": null,
            "overflow": null,
            "overflow_x": null,
            "overflow_y": null,
            "padding": null,
            "right": null,
            "top": null,
            "visibility": null,
            "width": null
          }
        },
        "828badf3bd3043db88fd7edd35c22610": {
          "model_module": "@jupyter-widgets/controls",
          "model_name": "ProgressStyleModel",
          "model_module_version": "1.5.0",
          "state": {
            "_model_module": "@jupyter-widgets/controls",
            "_model_module_version": "1.5.0",
            "_model_name": "ProgressStyleModel",
            "_view_count": null,
            "_view_module": "@jupyter-widgets/base",
            "_view_module_version": "1.2.0",
            "_view_name": "StyleView",
            "bar_color": null,
            "description_width": ""
          }
        },
        "3bdb4b510d9c4452b3099613a45826b1": {
          "model_module": "@jupyter-widgets/base",
          "model_name": "LayoutModel",
          "model_module_version": "1.2.0",
          "state": {
            "_model_module": "@jupyter-widgets/base",
            "_model_module_version": "1.2.0",
            "_model_name": "LayoutModel",
            "_view_count": null,
            "_view_module": "@jupyter-widgets/base",
            "_view_module_version": "1.2.0",
            "_view_name": "LayoutView",
            "align_content": null,
            "align_items": null,
            "align_self": null,
            "border": null,
            "bottom": null,
            "display": null,
            "flex": null,
            "flex_flow": null,
            "grid_area": null,
            "grid_auto_columns": null,
            "grid_auto_flow": null,
            "grid_auto_rows": null,
            "grid_column": null,
            "grid_gap": null,
            "grid_row": null,
            "grid_template_areas": null,
            "grid_template_columns": null,
            "grid_template_rows": null,
            "height": null,
            "justify_content": null,
            "justify_items": null,
            "left": null,
            "margin": null,
            "max_height": null,
            "max_width": null,
            "min_height": null,
            "min_width": null,
            "object_fit": null,
            "object_position": null,
            "order": null,
            "overflow": null,
            "overflow_x": null,
            "overflow_y": null,
            "padding": null,
            "right": null,
            "top": null,
            "visibility": null,
            "width": null
          }
        },
        "51fd704a551742bcaa9e7090f4ecee7e": {
          "model_module": "@jupyter-widgets/controls",
          "model_name": "DescriptionStyleModel",
          "model_module_version": "1.5.0",
          "state": {
            "_model_module": "@jupyter-widgets/controls",
            "_model_module_version": "1.5.0",
            "_model_name": "DescriptionStyleModel",
            "_view_count": null,
            "_view_module": "@jupyter-widgets/base",
            "_view_module_version": "1.2.0",
            "_view_name": "StyleView",
            "description_width": ""
          }
        },
        "0cbec0c17b714c7b8e00dbcac28b70be": {
          "model_module": "@jupyter-widgets/controls",
          "model_name": "HBoxModel",
          "model_module_version": "1.5.0",
          "state": {
            "_dom_classes": [],
            "_model_module": "@jupyter-widgets/controls",
            "_model_module_version": "1.5.0",
            "_model_name": "HBoxModel",
            "_view_count": null,
            "_view_module": "@jupyter-widgets/controls",
            "_view_module_version": "1.5.0",
            "_view_name": "HBoxView",
            "box_style": "",
            "children": [
              "IPY_MODEL_79ec61739229450abf24b02df8a453d7",
              "IPY_MODEL_7bf082d721c1448ebe10ba5e4c5eda08",
              "IPY_MODEL_0a348c1a869e45ebba595354e1cf047b"
            ],
            "layout": "IPY_MODEL_59148f06fb0b4a43b79a17ddd26be6bd"
          }
        },
        "79ec61739229450abf24b02df8a453d7": {
          "model_module": "@jupyter-widgets/controls",
          "model_name": "HTMLModel",
          "model_module_version": "1.5.0",
          "state": {
            "_dom_classes": [],
            "_model_module": "@jupyter-widgets/controls",
            "_model_module_version": "1.5.0",
            "_model_name": "HTMLModel",
            "_view_count": null,
            "_view_module": "@jupyter-widgets/controls",
            "_view_module_version": "1.5.0",
            "_view_name": "HTMLView",
            "description": "",
            "description_tooltip": null,
            "layout": "IPY_MODEL_482f2116b05e4a4b840af5cde4176b20",
            "placeholder": "​",
            "style": "IPY_MODEL_74c88b78555545f4bf8314abc3dd188a",
            "value": "generation_config.json: 100%"
          }
        },
        "7bf082d721c1448ebe10ba5e4c5eda08": {
          "model_module": "@jupyter-widgets/controls",
          "model_name": "FloatProgressModel",
          "model_module_version": "1.5.0",
          "state": {
            "_dom_classes": [],
            "_model_module": "@jupyter-widgets/controls",
            "_model_module_version": "1.5.0",
            "_model_name": "FloatProgressModel",
            "_view_count": null,
            "_view_module": "@jupyter-widgets/controls",
            "_view_module_version": "1.5.0",
            "_view_name": "ProgressView",
            "bar_style": "success",
            "description": "",
            "description_tooltip": null,
            "layout": "IPY_MODEL_4de16ed57b004698a95f39b9fe813092",
            "max": 124,
            "min": 0,
            "orientation": "horizontal",
            "style": "IPY_MODEL_2fe4796ed68d422b9a55d197e28e80a8",
            "value": 124
          }
        },
        "0a348c1a869e45ebba595354e1cf047b": {
          "model_module": "@jupyter-widgets/controls",
          "model_name": "HTMLModel",
          "model_module_version": "1.5.0",
          "state": {
            "_dom_classes": [],
            "_model_module": "@jupyter-widgets/controls",
            "_model_module_version": "1.5.0",
            "_model_name": "HTMLModel",
            "_view_count": null,
            "_view_module": "@jupyter-widgets/controls",
            "_view_module_version": "1.5.0",
            "_view_name": "HTMLView",
            "description": "",
            "description_tooltip": null,
            "layout": "IPY_MODEL_5fe18ae1a7b548a0b521370739e5de18",
            "placeholder": "​",
            "style": "IPY_MODEL_1b9126e786ed4eac9fe53407005aa598",
            "value": " 124/124 [00:00&lt;00:00, 15.1kB/s]"
          }
        },
        "59148f06fb0b4a43b79a17ddd26be6bd": {
          "model_module": "@jupyter-widgets/base",
          "model_name": "LayoutModel",
          "model_module_version": "1.2.0",
          "state": {
            "_model_module": "@jupyter-widgets/base",
            "_model_module_version": "1.2.0",
            "_model_name": "LayoutModel",
            "_view_count": null,
            "_view_module": "@jupyter-widgets/base",
            "_view_module_version": "1.2.0",
            "_view_name": "LayoutView",
            "align_content": null,
            "align_items": null,
            "align_self": null,
            "border": null,
            "bottom": null,
            "display": null,
            "flex": null,
            "flex_flow": null,
            "grid_area": null,
            "grid_auto_columns": null,
            "grid_auto_flow": null,
            "grid_auto_rows": null,
            "grid_column": null,
            "grid_gap": null,
            "grid_row": null,
            "grid_template_areas": null,
            "grid_template_columns": null,
            "grid_template_rows": null,
            "height": null,
            "justify_content": null,
            "justify_items": null,
            "left": null,
            "margin": null,
            "max_height": null,
            "max_width": null,
            "min_height": null,
            "min_width": null,
            "object_fit": null,
            "object_position": null,
            "order": null,
            "overflow": null,
            "overflow_x": null,
            "overflow_y": null,
            "padding": null,
            "right": null,
            "top": null,
            "visibility": null,
            "width": null
          }
        },
        "482f2116b05e4a4b840af5cde4176b20": {
          "model_module": "@jupyter-widgets/base",
          "model_name": "LayoutModel",
          "model_module_version": "1.2.0",
          "state": {
            "_model_module": "@jupyter-widgets/base",
            "_model_module_version": "1.2.0",
            "_model_name": "LayoutModel",
            "_view_count": null,
            "_view_module": "@jupyter-widgets/base",
            "_view_module_version": "1.2.0",
            "_view_name": "LayoutView",
            "align_content": null,
            "align_items": null,
            "align_self": null,
            "border": null,
            "bottom": null,
            "display": null,
            "flex": null,
            "flex_flow": null,
            "grid_area": null,
            "grid_auto_columns": null,
            "grid_auto_flow": null,
            "grid_auto_rows": null,
            "grid_column": null,
            "grid_gap": null,
            "grid_row": null,
            "grid_template_areas": null,
            "grid_template_columns": null,
            "grid_template_rows": null,
            "height": null,
            "justify_content": null,
            "justify_items": null,
            "left": null,
            "margin": null,
            "max_height": null,
            "max_width": null,
            "min_height": null,
            "min_width": null,
            "object_fit": null,
            "object_position": null,
            "order": null,
            "overflow": null,
            "overflow_x": null,
            "overflow_y": null,
            "padding": null,
            "right": null,
            "top": null,
            "visibility": null,
            "width": null
          }
        },
        "74c88b78555545f4bf8314abc3dd188a": {
          "model_module": "@jupyter-widgets/controls",
          "model_name": "DescriptionStyleModel",
          "model_module_version": "1.5.0",
          "state": {
            "_model_module": "@jupyter-widgets/controls",
            "_model_module_version": "1.5.0",
            "_model_name": "DescriptionStyleModel",
            "_view_count": null,
            "_view_module": "@jupyter-widgets/base",
            "_view_module_version": "1.2.0",
            "_view_name": "StyleView",
            "description_width": ""
          }
        },
        "4de16ed57b004698a95f39b9fe813092": {
          "model_module": "@jupyter-widgets/base",
          "model_name": "LayoutModel",
          "model_module_version": "1.2.0",
          "state": {
            "_model_module": "@jupyter-widgets/base",
            "_model_module_version": "1.2.0",
            "_model_name": "LayoutModel",
            "_view_count": null,
            "_view_module": "@jupyter-widgets/base",
            "_view_module_version": "1.2.0",
            "_view_name": "LayoutView",
            "align_content": null,
            "align_items": null,
            "align_self": null,
            "border": null,
            "bottom": null,
            "display": null,
            "flex": null,
            "flex_flow": null,
            "grid_area": null,
            "grid_auto_columns": null,
            "grid_auto_flow": null,
            "grid_auto_rows": null,
            "grid_column": null,
            "grid_gap": null,
            "grid_row": null,
            "grid_template_areas": null,
            "grid_template_columns": null,
            "grid_template_rows": null,
            "height": null,
            "justify_content": null,
            "justify_items": null,
            "left": null,
            "margin": null,
            "max_height": null,
            "max_width": null,
            "min_height": null,
            "min_width": null,
            "object_fit": null,
            "object_position": null,
            "order": null,
            "overflow": null,
            "overflow_x": null,
            "overflow_y": null,
            "padding": null,
            "right": null,
            "top": null,
            "visibility": null,
            "width": null
          }
        },
        "2fe4796ed68d422b9a55d197e28e80a8": {
          "model_module": "@jupyter-widgets/controls",
          "model_name": "ProgressStyleModel",
          "model_module_version": "1.5.0",
          "state": {
            "_model_module": "@jupyter-widgets/controls",
            "_model_module_version": "1.5.0",
            "_model_name": "ProgressStyleModel",
            "_view_count": null,
            "_view_module": "@jupyter-widgets/base",
            "_view_module_version": "1.2.0",
            "_view_name": "StyleView",
            "bar_color": null,
            "description_width": ""
          }
        },
        "5fe18ae1a7b548a0b521370739e5de18": {
          "model_module": "@jupyter-widgets/base",
          "model_name": "LayoutModel",
          "model_module_version": "1.2.0",
          "state": {
            "_model_module": "@jupyter-widgets/base",
            "_model_module_version": "1.2.0",
            "_model_name": "LayoutModel",
            "_view_count": null,
            "_view_module": "@jupyter-widgets/base",
            "_view_module_version": "1.2.0",
            "_view_name": "LayoutView",
            "align_content": null,
            "align_items": null,
            "align_self": null,
            "border": null,
            "bottom": null,
            "display": null,
            "flex": null,
            "flex_flow": null,
            "grid_area": null,
            "grid_auto_columns": null,
            "grid_auto_flow": null,
            "grid_auto_rows": null,
            "grid_column": null,
            "grid_gap": null,
            "grid_row": null,
            "grid_template_areas": null,
            "grid_template_columns": null,
            "grid_template_rows": null,
            "height": null,
            "justify_content": null,
            "justify_items": null,
            "left": null,
            "margin": null,
            "max_height": null,
            "max_width": null,
            "min_height": null,
            "min_width": null,
            "object_fit": null,
            "object_position": null,
            "order": null,
            "overflow": null,
            "overflow_x": null,
            "overflow_y": null,
            "padding": null,
            "right": null,
            "top": null,
            "visibility": null,
            "width": null
          }
        },
        "1b9126e786ed4eac9fe53407005aa598": {
          "model_module": "@jupyter-widgets/controls",
          "model_name": "DescriptionStyleModel",
          "model_module_version": "1.5.0",
          "state": {
            "_model_module": "@jupyter-widgets/controls",
            "_model_module_version": "1.5.0",
            "_model_name": "DescriptionStyleModel",
            "_view_count": null,
            "_view_module": "@jupyter-widgets/base",
            "_view_module_version": "1.2.0",
            "_view_name": "StyleView",
            "description_width": ""
          }
        },
        "cfbf73a0306a4ec5a375b160b9a884a0": {
          "model_module": "@jupyter-widgets/controls",
          "model_name": "HBoxModel",
          "model_module_version": "1.5.0",
          "state": {
            "_dom_classes": [],
            "_model_module": "@jupyter-widgets/controls",
            "_model_module_version": "1.5.0",
            "_model_name": "HBoxModel",
            "_view_count": null,
            "_view_module": "@jupyter-widgets/controls",
            "_view_module_version": "1.5.0",
            "_view_name": "HBoxView",
            "box_style": "",
            "children": [
              "IPY_MODEL_adfe2c0f5db945ac9bef8da867504210",
              "IPY_MODEL_fc3bcd7d11d540c4b6ba5f8441a08dd9",
              "IPY_MODEL_31755b0175e0479a85042d9a2f83ae81"
            ],
            "layout": "IPY_MODEL_cfa66eb984e84de3b1c1f8de042c9868"
          }
        },
        "adfe2c0f5db945ac9bef8da867504210": {
          "model_module": "@jupyter-widgets/controls",
          "model_name": "HTMLModel",
          "model_module_version": "1.5.0",
          "state": {
            "_dom_classes": [],
            "_model_module": "@jupyter-widgets/controls",
            "_model_module_version": "1.5.0",
            "_model_name": "HTMLModel",
            "_view_count": null,
            "_view_module": "@jupyter-widgets/controls",
            "_view_module_version": "1.5.0",
            "_view_name": "HTMLView",
            "description": "",
            "description_tooltip": null,
            "layout": "IPY_MODEL_5060f96118944029a44a48ac73e220f1",
            "placeholder": "​",
            "style": "IPY_MODEL_6fc703e0e36b4f3381042d3ea2519b7e",
            "value": "tokenizer_config.json: 100%"
          }
        },
        "fc3bcd7d11d540c4b6ba5f8441a08dd9": {
          "model_module": "@jupyter-widgets/controls",
          "model_name": "FloatProgressModel",
          "model_module_version": "1.5.0",
          "state": {
            "_dom_classes": [],
            "_model_module": "@jupyter-widgets/controls",
            "_model_module_version": "1.5.0",
            "_model_name": "FloatProgressModel",
            "_view_count": null,
            "_view_module": "@jupyter-widgets/controls",
            "_view_module_version": "1.5.0",
            "_view_name": "ProgressView",
            "bar_style": "success",
            "description": "",
            "description_tooltip": null,
            "layout": "IPY_MODEL_77d9308451af43af9ed9580b6d176769",
            "max": 26,
            "min": 0,
            "orientation": "horizontal",
            "style": "IPY_MODEL_37dad0b4a09d405b9c800b2a2227eb30",
            "value": 26
          }
        },
        "31755b0175e0479a85042d9a2f83ae81": {
          "model_module": "@jupyter-widgets/controls",
          "model_name": "HTMLModel",
          "model_module_version": "1.5.0",
          "state": {
            "_dom_classes": [],
            "_model_module": "@jupyter-widgets/controls",
            "_model_module_version": "1.5.0",
            "_model_name": "HTMLModel",
            "_view_count": null,
            "_view_module": "@jupyter-widgets/controls",
            "_view_module_version": "1.5.0",
            "_view_name": "HTMLView",
            "description": "",
            "description_tooltip": null,
            "layout": "IPY_MODEL_0097b7ef85054804bdd77dec89bfb7b6",
            "placeholder": "​",
            "style": "IPY_MODEL_2ed9163c68da4d919c36c5e31f74b915",
            "value": " 26.0/26.0 [00:00&lt;00:00, 3.31kB/s]"
          }
        },
        "cfa66eb984e84de3b1c1f8de042c9868": {
          "model_module": "@jupyter-widgets/base",
          "model_name": "LayoutModel",
          "model_module_version": "1.2.0",
          "state": {
            "_model_module": "@jupyter-widgets/base",
            "_model_module_version": "1.2.0",
            "_model_name": "LayoutModel",
            "_view_count": null,
            "_view_module": "@jupyter-widgets/base",
            "_view_module_version": "1.2.0",
            "_view_name": "LayoutView",
            "align_content": null,
            "align_items": null,
            "align_self": null,
            "border": null,
            "bottom": null,
            "display": null,
            "flex": null,
            "flex_flow": null,
            "grid_area": null,
            "grid_auto_columns": null,
            "grid_auto_flow": null,
            "grid_auto_rows": null,
            "grid_column": null,
            "grid_gap": null,
            "grid_row": null,
            "grid_template_areas": null,
            "grid_template_columns": null,
            "grid_template_rows": null,
            "height": null,
            "justify_content": null,
            "justify_items": null,
            "left": null,
            "margin": null,
            "max_height": null,
            "max_width": null,
            "min_height": null,
            "min_width": null,
            "object_fit": null,
            "object_position": null,
            "order": null,
            "overflow": null,
            "overflow_x": null,
            "overflow_y": null,
            "padding": null,
            "right": null,
            "top": null,
            "visibility": null,
            "width": null
          }
        },
        "5060f96118944029a44a48ac73e220f1": {
          "model_module": "@jupyter-widgets/base",
          "model_name": "LayoutModel",
          "model_module_version": "1.2.0",
          "state": {
            "_model_module": "@jupyter-widgets/base",
            "_model_module_version": "1.2.0",
            "_model_name": "LayoutModel",
            "_view_count": null,
            "_view_module": "@jupyter-widgets/base",
            "_view_module_version": "1.2.0",
            "_view_name": "LayoutView",
            "align_content": null,
            "align_items": null,
            "align_self": null,
            "border": null,
            "bottom": null,
            "display": null,
            "flex": null,
            "flex_flow": null,
            "grid_area": null,
            "grid_auto_columns": null,
            "grid_auto_flow": null,
            "grid_auto_rows": null,
            "grid_column": null,
            "grid_gap": null,
            "grid_row": null,
            "grid_template_areas": null,
            "grid_template_columns": null,
            "grid_template_rows": null,
            "height": null,
            "justify_content": null,
            "justify_items": null,
            "left": null,
            "margin": null,
            "max_height": null,
            "max_width": null,
            "min_height": null,
            "min_width": null,
            "object_fit": null,
            "object_position": null,
            "order": null,
            "overflow": null,
            "overflow_x": null,
            "overflow_y": null,
            "padding": null,
            "right": null,
            "top": null,
            "visibility": null,
            "width": null
          }
        },
        "6fc703e0e36b4f3381042d3ea2519b7e": {
          "model_module": "@jupyter-widgets/controls",
          "model_name": "DescriptionStyleModel",
          "model_module_version": "1.5.0",
          "state": {
            "_model_module": "@jupyter-widgets/controls",
            "_model_module_version": "1.5.0",
            "_model_name": "DescriptionStyleModel",
            "_view_count": null,
            "_view_module": "@jupyter-widgets/base",
            "_view_module_version": "1.2.0",
            "_view_name": "StyleView",
            "description_width": ""
          }
        },
        "77d9308451af43af9ed9580b6d176769": {
          "model_module": "@jupyter-widgets/base",
          "model_name": "LayoutModel",
          "model_module_version": "1.2.0",
          "state": {
            "_model_module": "@jupyter-widgets/base",
            "_model_module_version": "1.2.0",
            "_model_name": "LayoutModel",
            "_view_count": null,
            "_view_module": "@jupyter-widgets/base",
            "_view_module_version": "1.2.0",
            "_view_name": "LayoutView",
            "align_content": null,
            "align_items": null,
            "align_self": null,
            "border": null,
            "bottom": null,
            "display": null,
            "flex": null,
            "flex_flow": null,
            "grid_area": null,
            "grid_auto_columns": null,
            "grid_auto_flow": null,
            "grid_auto_rows": null,
            "grid_column": null,
            "grid_gap": null,
            "grid_row": null,
            "grid_template_areas": null,
            "grid_template_columns": null,
            "grid_template_rows": null,
            "height": null,
            "justify_content": null,
            "justify_items": null,
            "left": null,
            "margin": null,
            "max_height": null,
            "max_width": null,
            "min_height": null,
            "min_width": null,
            "object_fit": null,
            "object_position": null,
            "order": null,
            "overflow": null,
            "overflow_x": null,
            "overflow_y": null,
            "padding": null,
            "right": null,
            "top": null,
            "visibility": null,
            "width": null
          }
        },
        "37dad0b4a09d405b9c800b2a2227eb30": {
          "model_module": "@jupyter-widgets/controls",
          "model_name": "ProgressStyleModel",
          "model_module_version": "1.5.0",
          "state": {
            "_model_module": "@jupyter-widgets/controls",
            "_model_module_version": "1.5.0",
            "_model_name": "ProgressStyleModel",
            "_view_count": null,
            "_view_module": "@jupyter-widgets/base",
            "_view_module_version": "1.2.0",
            "_view_name": "StyleView",
            "bar_color": null,
            "description_width": ""
          }
        },
        "0097b7ef85054804bdd77dec89bfb7b6": {
          "model_module": "@jupyter-widgets/base",
          "model_name": "LayoutModel",
          "model_module_version": "1.2.0",
          "state": {
            "_model_module": "@jupyter-widgets/base",
            "_model_module_version": "1.2.0",
            "_model_name": "LayoutModel",
            "_view_count": null,
            "_view_module": "@jupyter-widgets/base",
            "_view_module_version": "1.2.0",
            "_view_name": "LayoutView",
            "align_content": null,
            "align_items": null,
            "align_self": null,
            "border": null,
            "bottom": null,
            "display": null,
            "flex": null,
            "flex_flow": null,
            "grid_area": null,
            "grid_auto_columns": null,
            "grid_auto_flow": null,
            "grid_auto_rows": null,
            "grid_column": null,
            "grid_gap": null,
            "grid_row": null,
            "grid_template_areas": null,
            "grid_template_columns": null,
            "grid_template_rows": null,
            "height": null,
            "justify_content": null,
            "justify_items": null,
            "left": null,
            "margin": null,
            "max_height": null,
            "max_width": null,
            "min_height": null,
            "min_width": null,
            "object_fit": null,
            "object_position": null,
            "order": null,
            "overflow": null,
            "overflow_x": null,
            "overflow_y": null,
            "padding": null,
            "right": null,
            "top": null,
            "visibility": null,
            "width": null
          }
        },
        "2ed9163c68da4d919c36c5e31f74b915": {
          "model_module": "@jupyter-widgets/controls",
          "model_name": "DescriptionStyleModel",
          "model_module_version": "1.5.0",
          "state": {
            "_model_module": "@jupyter-widgets/controls",
            "_model_module_version": "1.5.0",
            "_model_name": "DescriptionStyleModel",
            "_view_count": null,
            "_view_module": "@jupyter-widgets/base",
            "_view_module_version": "1.2.0",
            "_view_name": "StyleView",
            "description_width": ""
          }
        },
        "f68a99b64abb4fd7b45f4ec4ef973c76": {
          "model_module": "@jupyter-widgets/controls",
          "model_name": "HBoxModel",
          "model_module_version": "1.5.0",
          "state": {
            "_dom_classes": [],
            "_model_module": "@jupyter-widgets/controls",
            "_model_module_version": "1.5.0",
            "_model_name": "HBoxModel",
            "_view_count": null,
            "_view_module": "@jupyter-widgets/controls",
            "_view_module_version": "1.5.0",
            "_view_name": "HBoxView",
            "box_style": "",
            "children": [
              "IPY_MODEL_50abfe43780a47489dad82ffd0bd6415",
              "IPY_MODEL_fb49781c76ec478ba6992384128c1042",
              "IPY_MODEL_7452beee97234165a8efe1fb7af5694f"
            ],
            "layout": "IPY_MODEL_d3fb7bd4e16240fbac86dc7064be3278"
          }
        },
        "50abfe43780a47489dad82ffd0bd6415": {
          "model_module": "@jupyter-widgets/controls",
          "model_name": "HTMLModel",
          "model_module_version": "1.5.0",
          "state": {
            "_dom_classes": [],
            "_model_module": "@jupyter-widgets/controls",
            "_model_module_version": "1.5.0",
            "_model_name": "HTMLModel",
            "_view_count": null,
            "_view_module": "@jupyter-widgets/controls",
            "_view_module_version": "1.5.0",
            "_view_name": "HTMLView",
            "description": "",
            "description_tooltip": null,
            "layout": "IPY_MODEL_86e34bd1f8f24a38b1a30ba2c4116bac",
            "placeholder": "​",
            "style": "IPY_MODEL_007606777884415783c87a679ec7f3e1",
            "value": "vocab.json: 100%"
          }
        },
        "fb49781c76ec478ba6992384128c1042": {
          "model_module": "@jupyter-widgets/controls",
          "model_name": "FloatProgressModel",
          "model_module_version": "1.5.0",
          "state": {
            "_dom_classes": [],
            "_model_module": "@jupyter-widgets/controls",
            "_model_module_version": "1.5.0",
            "_model_name": "FloatProgressModel",
            "_view_count": null,
            "_view_module": "@jupyter-widgets/controls",
            "_view_module_version": "1.5.0",
            "_view_name": "ProgressView",
            "bar_style": "success",
            "description": "",
            "description_tooltip": null,
            "layout": "IPY_MODEL_cf66135a6b504b6495f40cd9ae2a4e60",
            "max": 1042301,
            "min": 0,
            "orientation": "horizontal",
            "style": "IPY_MODEL_41b7ff035142411ba61e26f00fc63fe6",
            "value": 1042301
          }
        },
        "7452beee97234165a8efe1fb7af5694f": {
          "model_module": "@jupyter-widgets/controls",
          "model_name": "HTMLModel",
          "model_module_version": "1.5.0",
          "state": {
            "_dom_classes": [],
            "_model_module": "@jupyter-widgets/controls",
            "_model_module_version": "1.5.0",
            "_model_name": "HTMLModel",
            "_view_count": null,
            "_view_module": "@jupyter-widgets/controls",
            "_view_module_version": "1.5.0",
            "_view_name": "HTMLView",
            "description": "",
            "description_tooltip": null,
            "layout": "IPY_MODEL_1dc57040cd854ad69330da0c096bd881",
            "placeholder": "​",
            "style": "IPY_MODEL_a432293e320c4d048b0f2daf0c305b9a",
            "value": " 1.04M/1.04M [00:00&lt;00:00, 2.42MB/s]"
          }
        },
        "d3fb7bd4e16240fbac86dc7064be3278": {
          "model_module": "@jupyter-widgets/base",
          "model_name": "LayoutModel",
          "model_module_version": "1.2.0",
          "state": {
            "_model_module": "@jupyter-widgets/base",
            "_model_module_version": "1.2.0",
            "_model_name": "LayoutModel",
            "_view_count": null,
            "_view_module": "@jupyter-widgets/base",
            "_view_module_version": "1.2.0",
            "_view_name": "LayoutView",
            "align_content": null,
            "align_items": null,
            "align_self": null,
            "border": null,
            "bottom": null,
            "display": null,
            "flex": null,
            "flex_flow": null,
            "grid_area": null,
            "grid_auto_columns": null,
            "grid_auto_flow": null,
            "grid_auto_rows": null,
            "grid_column": null,
            "grid_gap": null,
            "grid_row": null,
            "grid_template_areas": null,
            "grid_template_columns": null,
            "grid_template_rows": null,
            "height": null,
            "justify_content": null,
            "justify_items": null,
            "left": null,
            "margin": null,
            "max_height": null,
            "max_width": null,
            "min_height": null,
            "min_width": null,
            "object_fit": null,
            "object_position": null,
            "order": null,
            "overflow": null,
            "overflow_x": null,
            "overflow_y": null,
            "padding": null,
            "right": null,
            "top": null,
            "visibility": null,
            "width": null
          }
        },
        "86e34bd1f8f24a38b1a30ba2c4116bac": {
          "model_module": "@jupyter-widgets/base",
          "model_name": "LayoutModel",
          "model_module_version": "1.2.0",
          "state": {
            "_model_module": "@jupyter-widgets/base",
            "_model_module_version": "1.2.0",
            "_model_name": "LayoutModel",
            "_view_count": null,
            "_view_module": "@jupyter-widgets/base",
            "_view_module_version": "1.2.0",
            "_view_name": "LayoutView",
            "align_content": null,
            "align_items": null,
            "align_self": null,
            "border": null,
            "bottom": null,
            "display": null,
            "flex": null,
            "flex_flow": null,
            "grid_area": null,
            "grid_auto_columns": null,
            "grid_auto_flow": null,
            "grid_auto_rows": null,
            "grid_column": null,
            "grid_gap": null,
            "grid_row": null,
            "grid_template_areas": null,
            "grid_template_columns": null,
            "grid_template_rows": null,
            "height": null,
            "justify_content": null,
            "justify_items": null,
            "left": null,
            "margin": null,
            "max_height": null,
            "max_width": null,
            "min_height": null,
            "min_width": null,
            "object_fit": null,
            "object_position": null,
            "order": null,
            "overflow": null,
            "overflow_x": null,
            "overflow_y": null,
            "padding": null,
            "right": null,
            "top": null,
            "visibility": null,
            "width": null
          }
        },
        "007606777884415783c87a679ec7f3e1": {
          "model_module": "@jupyter-widgets/controls",
          "model_name": "DescriptionStyleModel",
          "model_module_version": "1.5.0",
          "state": {
            "_model_module": "@jupyter-widgets/controls",
            "_model_module_version": "1.5.0",
            "_model_name": "DescriptionStyleModel",
            "_view_count": null,
            "_view_module": "@jupyter-widgets/base",
            "_view_module_version": "1.2.0",
            "_view_name": "StyleView",
            "description_width": ""
          }
        },
        "cf66135a6b504b6495f40cd9ae2a4e60": {
          "model_module": "@jupyter-widgets/base",
          "model_name": "LayoutModel",
          "model_module_version": "1.2.0",
          "state": {
            "_model_module": "@jupyter-widgets/base",
            "_model_module_version": "1.2.0",
            "_model_name": "LayoutModel",
            "_view_count": null,
            "_view_module": "@jupyter-widgets/base",
            "_view_module_version": "1.2.0",
            "_view_name": "LayoutView",
            "align_content": null,
            "align_items": null,
            "align_self": null,
            "border": null,
            "bottom": null,
            "display": null,
            "flex": null,
            "flex_flow": null,
            "grid_area": null,
            "grid_auto_columns": null,
            "grid_auto_flow": null,
            "grid_auto_rows": null,
            "grid_column": null,
            "grid_gap": null,
            "grid_row": null,
            "grid_template_areas": null,
            "grid_template_columns": null,
            "grid_template_rows": null,
            "height": null,
            "justify_content": null,
            "justify_items": null,
            "left": null,
            "margin": null,
            "max_height": null,
            "max_width": null,
            "min_height": null,
            "min_width": null,
            "object_fit": null,
            "object_position": null,
            "order": null,
            "overflow": null,
            "overflow_x": null,
            "overflow_y": null,
            "padding": null,
            "right": null,
            "top": null,
            "visibility": null,
            "width": null
          }
        },
        "41b7ff035142411ba61e26f00fc63fe6": {
          "model_module": "@jupyter-widgets/controls",
          "model_name": "ProgressStyleModel",
          "model_module_version": "1.5.0",
          "state": {
            "_model_module": "@jupyter-widgets/controls",
            "_model_module_version": "1.5.0",
            "_model_name": "ProgressStyleModel",
            "_view_count": null,
            "_view_module": "@jupyter-widgets/base",
            "_view_module_version": "1.2.0",
            "_view_name": "StyleView",
            "bar_color": null,
            "description_width": ""
          }
        },
        "1dc57040cd854ad69330da0c096bd881": {
          "model_module": "@jupyter-widgets/base",
          "model_name": "LayoutModel",
          "model_module_version": "1.2.0",
          "state": {
            "_model_module": "@jupyter-widgets/base",
            "_model_module_version": "1.2.0",
            "_model_name": "LayoutModel",
            "_view_count": null,
            "_view_module": "@jupyter-widgets/base",
            "_view_module_version": "1.2.0",
            "_view_name": "LayoutView",
            "align_content": null,
            "align_items": null,
            "align_self": null,
            "border": null,
            "bottom": null,
            "display": null,
            "flex": null,
            "flex_flow": null,
            "grid_area": null,
            "grid_auto_columns": null,
            "grid_auto_flow": null,
            "grid_auto_rows": null,
            "grid_column": null,
            "grid_gap": null,
            "grid_row": null,
            "grid_template_areas": null,
            "grid_template_columns": null,
            "grid_template_rows": null,
            "height": null,
            "justify_content": null,
            "justify_items": null,
            "left": null,
            "margin": null,
            "max_height": null,
            "max_width": null,
            "min_height": null,
            "min_width": null,
            "object_fit": null,
            "object_position": null,
            "order": null,
            "overflow": null,
            "overflow_x": null,
            "overflow_y": null,
            "padding": null,
            "right": null,
            "top": null,
            "visibility": null,
            "width": null
          }
        },
        "a432293e320c4d048b0f2daf0c305b9a": {
          "model_module": "@jupyter-widgets/controls",
          "model_name": "DescriptionStyleModel",
          "model_module_version": "1.5.0",
          "state": {
            "_model_module": "@jupyter-widgets/controls",
            "_model_module_version": "1.5.0",
            "_model_name": "DescriptionStyleModel",
            "_view_count": null,
            "_view_module": "@jupyter-widgets/base",
            "_view_module_version": "1.2.0",
            "_view_name": "StyleView",
            "description_width": ""
          }
        },
        "7f5e3736b95b407eb8709368ad419d8f": {
          "model_module": "@jupyter-widgets/controls",
          "model_name": "HBoxModel",
          "model_module_version": "1.5.0",
          "state": {
            "_dom_classes": [],
            "_model_module": "@jupyter-widgets/controls",
            "_model_module_version": "1.5.0",
            "_model_name": "HBoxModel",
            "_view_count": null,
            "_view_module": "@jupyter-widgets/controls",
            "_view_module_version": "1.5.0",
            "_view_name": "HBoxView",
            "box_style": "",
            "children": [
              "IPY_MODEL_e9c3574a37ce49eabef533aba0fee30f",
              "IPY_MODEL_cd3786a4d5514b83820b16a01c9e91db",
              "IPY_MODEL_13d6ae3e824e44a1abb377ce9ad4e7c6"
            ],
            "layout": "IPY_MODEL_95fbbd9cc1ec4580b5d90baff6ed0f54"
          }
        },
        "e9c3574a37ce49eabef533aba0fee30f": {
          "model_module": "@jupyter-widgets/controls",
          "model_name": "HTMLModel",
          "model_module_version": "1.5.0",
          "state": {
            "_dom_classes": [],
            "_model_module": "@jupyter-widgets/controls",
            "_model_module_version": "1.5.0",
            "_model_name": "HTMLModel",
            "_view_count": null,
            "_view_module": "@jupyter-widgets/controls",
            "_view_module_version": "1.5.0",
            "_view_name": "HTMLView",
            "description": "",
            "description_tooltip": null,
            "layout": "IPY_MODEL_212a2a5891714d63bc02aff93f12580d",
            "placeholder": "​",
            "style": "IPY_MODEL_2a0e65af41b74c9fb886d55b83e1420a",
            "value": "merges.txt: 100%"
          }
        },
        "cd3786a4d5514b83820b16a01c9e91db": {
          "model_module": "@jupyter-widgets/controls",
          "model_name": "FloatProgressModel",
          "model_module_version": "1.5.0",
          "state": {
            "_dom_classes": [],
            "_model_module": "@jupyter-widgets/controls",
            "_model_module_version": "1.5.0",
            "_model_name": "FloatProgressModel",
            "_view_count": null,
            "_view_module": "@jupyter-widgets/controls",
            "_view_module_version": "1.5.0",
            "_view_name": "ProgressView",
            "bar_style": "success",
            "description": "",
            "description_tooltip": null,
            "layout": "IPY_MODEL_7afd993c89504bf0b05a52bea91dc0c2",
            "max": 456318,
            "min": 0,
            "orientation": "horizontal",
            "style": "IPY_MODEL_810bf730032248fa9ba00ec5a8760b01",
            "value": 456318
          }
        },
        "13d6ae3e824e44a1abb377ce9ad4e7c6": {
          "model_module": "@jupyter-widgets/controls",
          "model_name": "HTMLModel",
          "model_module_version": "1.5.0",
          "state": {
            "_dom_classes": [],
            "_model_module": "@jupyter-widgets/controls",
            "_model_module_version": "1.5.0",
            "_model_name": "HTMLModel",
            "_view_count": null,
            "_view_module": "@jupyter-widgets/controls",
            "_view_module_version": "1.5.0",
            "_view_name": "HTMLView",
            "description": "",
            "description_tooltip": null,
            "layout": "IPY_MODEL_75bfec8d1f3946adb5e9e102728270bb",
            "placeholder": "​",
            "style": "IPY_MODEL_eb3a5e7098d947069949671195c12c91",
            "value": " 456k/456k [00:00&lt;00:00, 1.06MB/s]"
          }
        },
        "95fbbd9cc1ec4580b5d90baff6ed0f54": {
          "model_module": "@jupyter-widgets/base",
          "model_name": "LayoutModel",
          "model_module_version": "1.2.0",
          "state": {
            "_model_module": "@jupyter-widgets/base",
            "_model_module_version": "1.2.0",
            "_model_name": "LayoutModel",
            "_view_count": null,
            "_view_module": "@jupyter-widgets/base",
            "_view_module_version": "1.2.0",
            "_view_name": "LayoutView",
            "align_content": null,
            "align_items": null,
            "align_self": null,
            "border": null,
            "bottom": null,
            "display": null,
            "flex": null,
            "flex_flow": null,
            "grid_area": null,
            "grid_auto_columns": null,
            "grid_auto_flow": null,
            "grid_auto_rows": null,
            "grid_column": null,
            "grid_gap": null,
            "grid_row": null,
            "grid_template_areas": null,
            "grid_template_columns": null,
            "grid_template_rows": null,
            "height": null,
            "justify_content": null,
            "justify_items": null,
            "left": null,
            "margin": null,
            "max_height": null,
            "max_width": null,
            "min_height": null,
            "min_width": null,
            "object_fit": null,
            "object_position": null,
            "order": null,
            "overflow": null,
            "overflow_x": null,
            "overflow_y": null,
            "padding": null,
            "right": null,
            "top": null,
            "visibility": null,
            "width": null
          }
        },
        "212a2a5891714d63bc02aff93f12580d": {
          "model_module": "@jupyter-widgets/base",
          "model_name": "LayoutModel",
          "model_module_version": "1.2.0",
          "state": {
            "_model_module": "@jupyter-widgets/base",
            "_model_module_version": "1.2.0",
            "_model_name": "LayoutModel",
            "_view_count": null,
            "_view_module": "@jupyter-widgets/base",
            "_view_module_version": "1.2.0",
            "_view_name": "LayoutView",
            "align_content": null,
            "align_items": null,
            "align_self": null,
            "border": null,
            "bottom": null,
            "display": null,
            "flex": null,
            "flex_flow": null,
            "grid_area": null,
            "grid_auto_columns": null,
            "grid_auto_flow": null,
            "grid_auto_rows": null,
            "grid_column": null,
            "grid_gap": null,
            "grid_row": null,
            "grid_template_areas": null,
            "grid_template_columns": null,
            "grid_template_rows": null,
            "height": null,
            "justify_content": null,
            "justify_items": null,
            "left": null,
            "margin": null,
            "max_height": null,
            "max_width": null,
            "min_height": null,
            "min_width": null,
            "object_fit": null,
            "object_position": null,
            "order": null,
            "overflow": null,
            "overflow_x": null,
            "overflow_y": null,
            "padding": null,
            "right": null,
            "top": null,
            "visibility": null,
            "width": null
          }
        },
        "2a0e65af41b74c9fb886d55b83e1420a": {
          "model_module": "@jupyter-widgets/controls",
          "model_name": "DescriptionStyleModel",
          "model_module_version": "1.5.0",
          "state": {
            "_model_module": "@jupyter-widgets/controls",
            "_model_module_version": "1.5.0",
            "_model_name": "DescriptionStyleModel",
            "_view_count": null,
            "_view_module": "@jupyter-widgets/base",
            "_view_module_version": "1.2.0",
            "_view_name": "StyleView",
            "description_width": ""
          }
        },
        "7afd993c89504bf0b05a52bea91dc0c2": {
          "model_module": "@jupyter-widgets/base",
          "model_name": "LayoutModel",
          "model_module_version": "1.2.0",
          "state": {
            "_model_module": "@jupyter-widgets/base",
            "_model_module_version": "1.2.0",
            "_model_name": "LayoutModel",
            "_view_count": null,
            "_view_module": "@jupyter-widgets/base",
            "_view_module_version": "1.2.0",
            "_view_name": "LayoutView",
            "align_content": null,
            "align_items": null,
            "align_self": null,
            "border": null,
            "bottom": null,
            "display": null,
            "flex": null,
            "flex_flow": null,
            "grid_area": null,
            "grid_auto_columns": null,
            "grid_auto_flow": null,
            "grid_auto_rows": null,
            "grid_column": null,
            "grid_gap": null,
            "grid_row": null,
            "grid_template_areas": null,
            "grid_template_columns": null,
            "grid_template_rows": null,
            "height": null,
            "justify_content": null,
            "justify_items": null,
            "left": null,
            "margin": null,
            "max_height": null,
            "max_width": null,
            "min_height": null,
            "min_width": null,
            "object_fit": null,
            "object_position": null,
            "order": null,
            "overflow": null,
            "overflow_x": null,
            "overflow_y": null,
            "padding": null,
            "right": null,
            "top": null,
            "visibility": null,
            "width": null
          }
        },
        "810bf730032248fa9ba00ec5a8760b01": {
          "model_module": "@jupyter-widgets/controls",
          "model_name": "ProgressStyleModel",
          "model_module_version": "1.5.0",
          "state": {
            "_model_module": "@jupyter-widgets/controls",
            "_model_module_version": "1.5.0",
            "_model_name": "ProgressStyleModel",
            "_view_count": null,
            "_view_module": "@jupyter-widgets/base",
            "_view_module_version": "1.2.0",
            "_view_name": "StyleView",
            "bar_color": null,
            "description_width": ""
          }
        },
        "75bfec8d1f3946adb5e9e102728270bb": {
          "model_module": "@jupyter-widgets/base",
          "model_name": "LayoutModel",
          "model_module_version": "1.2.0",
          "state": {
            "_model_module": "@jupyter-widgets/base",
            "_model_module_version": "1.2.0",
            "_model_name": "LayoutModel",
            "_view_count": null,
            "_view_module": "@jupyter-widgets/base",
            "_view_module_version": "1.2.0",
            "_view_name": "LayoutView",
            "align_content": null,
            "align_items": null,
            "align_self": null,
            "border": null,
            "bottom": null,
            "display": null,
            "flex": null,
            "flex_flow": null,
            "grid_area": null,
            "grid_auto_columns": null,
            "grid_auto_flow": null,
            "grid_auto_rows": null,
            "grid_column": null,
            "grid_gap": null,
            "grid_row": null,
            "grid_template_areas": null,
            "grid_template_columns": null,
            "grid_template_rows": null,
            "height": null,
            "justify_content": null,
            "justify_items": null,
            "left": null,
            "margin": null,
            "max_height": null,
            "max_width": null,
            "min_height": null,
            "min_width": null,
            "object_fit": null,
            "object_position": null,
            "order": null,
            "overflow": null,
            "overflow_x": null,
            "overflow_y": null,
            "padding": null,
            "right": null,
            "top": null,
            "visibility": null,
            "width": null
          }
        },
        "eb3a5e7098d947069949671195c12c91": {
          "model_module": "@jupyter-widgets/controls",
          "model_name": "DescriptionStyleModel",
          "model_module_version": "1.5.0",
          "state": {
            "_model_module": "@jupyter-widgets/controls",
            "_model_module_version": "1.5.0",
            "_model_name": "DescriptionStyleModel",
            "_view_count": null,
            "_view_module": "@jupyter-widgets/base",
            "_view_module_version": "1.2.0",
            "_view_name": "StyleView",
            "description_width": ""
          }
        },
        "2da9fd580e9242508caeffa09c6c7f05": {
          "model_module": "@jupyter-widgets/controls",
          "model_name": "HBoxModel",
          "model_module_version": "1.5.0",
          "state": {
            "_dom_classes": [],
            "_model_module": "@jupyter-widgets/controls",
            "_model_module_version": "1.5.0",
            "_model_name": "HBoxModel",
            "_view_count": null,
            "_view_module": "@jupyter-widgets/controls",
            "_view_module_version": "1.5.0",
            "_view_name": "HBoxView",
            "box_style": "",
            "children": [
              "IPY_MODEL_923e6061064a4f629e0ff4bf57adbef6",
              "IPY_MODEL_689b1b0e925c4a6fbeb64083f6eaecc9",
              "IPY_MODEL_161d294fdeff45338eec746843b37386"
            ],
            "layout": "IPY_MODEL_87ded5ddc3c144298c819840ce37bbb5"
          }
        },
        "923e6061064a4f629e0ff4bf57adbef6": {
          "model_module": "@jupyter-widgets/controls",
          "model_name": "HTMLModel",
          "model_module_version": "1.5.0",
          "state": {
            "_dom_classes": [],
            "_model_module": "@jupyter-widgets/controls",
            "_model_module_version": "1.5.0",
            "_model_name": "HTMLModel",
            "_view_count": null,
            "_view_module": "@jupyter-widgets/controls",
            "_view_module_version": "1.5.0",
            "_view_name": "HTMLView",
            "description": "",
            "description_tooltip": null,
            "layout": "IPY_MODEL_4d8ff334e4c94d7dac04d378191c2f86",
            "placeholder": "​",
            "style": "IPY_MODEL_4e919ce6e09245189bfb1625e78adb97",
            "value": "tokenizer.json: 100%"
          }
        },
        "689b1b0e925c4a6fbeb64083f6eaecc9": {
          "model_module": "@jupyter-widgets/controls",
          "model_name": "FloatProgressModel",
          "model_module_version": "1.5.0",
          "state": {
            "_dom_classes": [],
            "_model_module": "@jupyter-widgets/controls",
            "_model_module_version": "1.5.0",
            "_model_name": "FloatProgressModel",
            "_view_count": null,
            "_view_module": "@jupyter-widgets/controls",
            "_view_module_version": "1.5.0",
            "_view_name": "ProgressView",
            "bar_style": "success",
            "description": "",
            "description_tooltip": null,
            "layout": "IPY_MODEL_f5c00f8512ca40f89dc357829897d892",
            "max": 1355256,
            "min": 0,
            "orientation": "horizontal",
            "style": "IPY_MODEL_ee0a7b51b8634dd7bb7e531ba9467d8d",
            "value": 1355256
          }
        },
        "161d294fdeff45338eec746843b37386": {
          "model_module": "@jupyter-widgets/controls",
          "model_name": "HTMLModel",
          "model_module_version": "1.5.0",
          "state": {
            "_dom_classes": [],
            "_model_module": "@jupyter-widgets/controls",
            "_model_module_version": "1.5.0",
            "_model_name": "HTMLModel",
            "_view_count": null,
            "_view_module": "@jupyter-widgets/controls",
            "_view_module_version": "1.5.0",
            "_view_name": "HTMLView",
            "description": "",
            "description_tooltip": null,
            "layout": "IPY_MODEL_45d4eeb2419644659a49cda90c82c3fd",
            "placeholder": "​",
            "style": "IPY_MODEL_bc01fa6cd1d043cebe2eacfeda5d2dcb",
            "value": " 1.36M/1.36M [00:00&lt;00:00, 2.06MB/s]"
          }
        },
        "87ded5ddc3c144298c819840ce37bbb5": {
          "model_module": "@jupyter-widgets/base",
          "model_name": "LayoutModel",
          "model_module_version": "1.2.0",
          "state": {
            "_model_module": "@jupyter-widgets/base",
            "_model_module_version": "1.2.0",
            "_model_name": "LayoutModel",
            "_view_count": null,
            "_view_module": "@jupyter-widgets/base",
            "_view_module_version": "1.2.0",
            "_view_name": "LayoutView",
            "align_content": null,
            "align_items": null,
            "align_self": null,
            "border": null,
            "bottom": null,
            "display": null,
            "flex": null,
            "flex_flow": null,
            "grid_area": null,
            "grid_auto_columns": null,
            "grid_auto_flow": null,
            "grid_auto_rows": null,
            "grid_column": null,
            "grid_gap": null,
            "grid_row": null,
            "grid_template_areas": null,
            "grid_template_columns": null,
            "grid_template_rows": null,
            "height": null,
            "justify_content": null,
            "justify_items": null,
            "left": null,
            "margin": null,
            "max_height": null,
            "max_width": null,
            "min_height": null,
            "min_width": null,
            "object_fit": null,
            "object_position": null,
            "order": null,
            "overflow": null,
            "overflow_x": null,
            "overflow_y": null,
            "padding": null,
            "right": null,
            "top": null,
            "visibility": null,
            "width": null
          }
        },
        "4d8ff334e4c94d7dac04d378191c2f86": {
          "model_module": "@jupyter-widgets/base",
          "model_name": "LayoutModel",
          "model_module_version": "1.2.0",
          "state": {
            "_model_module": "@jupyter-widgets/base",
            "_model_module_version": "1.2.0",
            "_model_name": "LayoutModel",
            "_view_count": null,
            "_view_module": "@jupyter-widgets/base",
            "_view_module_version": "1.2.0",
            "_view_name": "LayoutView",
            "align_content": null,
            "align_items": null,
            "align_self": null,
            "border": null,
            "bottom": null,
            "display": null,
            "flex": null,
            "flex_flow": null,
            "grid_area": null,
            "grid_auto_columns": null,
            "grid_auto_flow": null,
            "grid_auto_rows": null,
            "grid_column": null,
            "grid_gap": null,
            "grid_row": null,
            "grid_template_areas": null,
            "grid_template_columns": null,
            "grid_template_rows": null,
            "height": null,
            "justify_content": null,
            "justify_items": null,
            "left": null,
            "margin": null,
            "max_height": null,
            "max_width": null,
            "min_height": null,
            "min_width": null,
            "object_fit": null,
            "object_position": null,
            "order": null,
            "overflow": null,
            "overflow_x": null,
            "overflow_y": null,
            "padding": null,
            "right": null,
            "top": null,
            "visibility": null,
            "width": null
          }
        },
        "4e919ce6e09245189bfb1625e78adb97": {
          "model_module": "@jupyter-widgets/controls",
          "model_name": "DescriptionStyleModel",
          "model_module_version": "1.5.0",
          "state": {
            "_model_module": "@jupyter-widgets/controls",
            "_model_module_version": "1.5.0",
            "_model_name": "DescriptionStyleModel",
            "_view_count": null,
            "_view_module": "@jupyter-widgets/base",
            "_view_module_version": "1.2.0",
            "_view_name": "StyleView",
            "description_width": ""
          }
        },
        "f5c00f8512ca40f89dc357829897d892": {
          "model_module": "@jupyter-widgets/base",
          "model_name": "LayoutModel",
          "model_module_version": "1.2.0",
          "state": {
            "_model_module": "@jupyter-widgets/base",
            "_model_module_version": "1.2.0",
            "_model_name": "LayoutModel",
            "_view_count": null,
            "_view_module": "@jupyter-widgets/base",
            "_view_module_version": "1.2.0",
            "_view_name": "LayoutView",
            "align_content": null,
            "align_items": null,
            "align_self": null,
            "border": null,
            "bottom": null,
            "display": null,
            "flex": null,
            "flex_flow": null,
            "grid_area": null,
            "grid_auto_columns": null,
            "grid_auto_flow": null,
            "grid_auto_rows": null,
            "grid_column": null,
            "grid_gap": null,
            "grid_row": null,
            "grid_template_areas": null,
            "grid_template_columns": null,
            "grid_template_rows": null,
            "height": null,
            "justify_content": null,
            "justify_items": null,
            "left": null,
            "margin": null,
            "max_height": null,
            "max_width": null,
            "min_height": null,
            "min_width": null,
            "object_fit": null,
            "object_position": null,
            "order": null,
            "overflow": null,
            "overflow_x": null,
            "overflow_y": null,
            "padding": null,
            "right": null,
            "top": null,
            "visibility": null,
            "width": null
          }
        },
        "ee0a7b51b8634dd7bb7e531ba9467d8d": {
          "model_module": "@jupyter-widgets/controls",
          "model_name": "ProgressStyleModel",
          "model_module_version": "1.5.0",
          "state": {
            "_model_module": "@jupyter-widgets/controls",
            "_model_module_version": "1.5.0",
            "_model_name": "ProgressStyleModel",
            "_view_count": null,
            "_view_module": "@jupyter-widgets/base",
            "_view_module_version": "1.2.0",
            "_view_name": "StyleView",
            "bar_color": null,
            "description_width": ""
          }
        },
        "45d4eeb2419644659a49cda90c82c3fd": {
          "model_module": "@jupyter-widgets/base",
          "model_name": "LayoutModel",
          "model_module_version": "1.2.0",
          "state": {
            "_model_module": "@jupyter-widgets/base",
            "_model_module_version": "1.2.0",
            "_model_name": "LayoutModel",
            "_view_count": null,
            "_view_module": "@jupyter-widgets/base",
            "_view_module_version": "1.2.0",
            "_view_name": "LayoutView",
            "align_content": null,
            "align_items": null,
            "align_self": null,
            "border": null,
            "bottom": null,
            "display": null,
            "flex": null,
            "flex_flow": null,
            "grid_area": null,
            "grid_auto_columns": null,
            "grid_auto_flow": null,
            "grid_auto_rows": null,
            "grid_column": null,
            "grid_gap": null,
            "grid_row": null,
            "grid_template_areas": null,
            "grid_template_columns": null,
            "grid_template_rows": null,
            "height": null,
            "justify_content": null,
            "justify_items": null,
            "left": null,
            "margin": null,
            "max_height": null,
            "max_width": null,
            "min_height": null,
            "min_width": null,
            "object_fit": null,
            "object_position": null,
            "order": null,
            "overflow": null,
            "overflow_x": null,
            "overflow_y": null,
            "padding": null,
            "right": null,
            "top": null,
            "visibility": null,
            "width": null
          }
        },
        "bc01fa6cd1d043cebe2eacfeda5d2dcb": {
          "model_module": "@jupyter-widgets/controls",
          "model_name": "DescriptionStyleModel",
          "model_module_version": "1.5.0",
          "state": {
            "_model_module": "@jupyter-widgets/controls",
            "_model_module_version": "1.5.0",
            "_model_name": "DescriptionStyleModel",
            "_view_count": null,
            "_view_module": "@jupyter-widgets/base",
            "_view_module_version": "1.2.0",
            "_view_name": "StyleView",
            "description_width": ""
          }
        },
        "a6b5fb2bdfee494a98180dcdf0619f9b": {
          "model_module": "@jupyter-widgets/controls",
          "model_name": "HBoxModel",
          "model_module_version": "1.5.0",
          "state": {
            "_dom_classes": [],
            "_model_module": "@jupyter-widgets/controls",
            "_model_module_version": "1.5.0",
            "_model_name": "HBoxModel",
            "_view_count": null,
            "_view_module": "@jupyter-widgets/controls",
            "_view_module_version": "1.5.0",
            "_view_name": "HBoxView",
            "box_style": "",
            "children": [
              "IPY_MODEL_4b07bf0a489c48f8bdf428348e7b39d0",
              "IPY_MODEL_b928dde2ab3642619caba6aa4f3d0a84",
              "IPY_MODEL_1a095415f6914fa1a43e44b60b23b1cf"
            ],
            "layout": "IPY_MODEL_f5aeeaed18ef4a27b1e6a467068f6733"
          }
        },
        "4b07bf0a489c48f8bdf428348e7b39d0": {
          "model_module": "@jupyter-widgets/controls",
          "model_name": "HTMLModel",
          "model_module_version": "1.5.0",
          "state": {
            "_dom_classes": [],
            "_model_module": "@jupyter-widgets/controls",
            "_model_module_version": "1.5.0",
            "_model_name": "HTMLModel",
            "_view_count": null,
            "_view_module": "@jupyter-widgets/controls",
            "_view_module_version": "1.5.0",
            "_view_name": "HTMLView",
            "description": "",
            "description_tooltip": null,
            "layout": "IPY_MODEL_21e3241ca662440491bf0c9a13a717f7",
            "placeholder": "​",
            "style": "IPY_MODEL_5b8f4a89de9e4eea8d041d4b576c4a8e",
            "value": "Map: 100%"
          }
        },
        "b928dde2ab3642619caba6aa4f3d0a84": {
          "model_module": "@jupyter-widgets/controls",
          "model_name": "FloatProgressModel",
          "model_module_version": "1.5.0",
          "state": {
            "_dom_classes": [],
            "_model_module": "@jupyter-widgets/controls",
            "_model_module_version": "1.5.0",
            "_model_name": "FloatProgressModel",
            "_view_count": null,
            "_view_module": "@jupyter-widgets/controls",
            "_view_module_version": "1.5.0",
            "_view_name": "ProgressView",
            "bar_style": "success",
            "description": "",
            "description_tooltip": null,
            "layout": "IPY_MODEL_da184d60222e4f8bacd1d5f6d8459e60",
            "max": 9741,
            "min": 0,
            "orientation": "horizontal",
            "style": "IPY_MODEL_0653e70081bd4956acc16214102035fc",
            "value": 9741
          }
        },
        "1a095415f6914fa1a43e44b60b23b1cf": {
          "model_module": "@jupyter-widgets/controls",
          "model_name": "HTMLModel",
          "model_module_version": "1.5.0",
          "state": {
            "_dom_classes": [],
            "_model_module": "@jupyter-widgets/controls",
            "_model_module_version": "1.5.0",
            "_model_name": "HTMLModel",
            "_view_count": null,
            "_view_module": "@jupyter-widgets/controls",
            "_view_module_version": "1.5.0",
            "_view_name": "HTMLView",
            "description": "",
            "description_tooltip": null,
            "layout": "IPY_MODEL_4d1d1be8e9f04025b78cb077f2b1a755",
            "placeholder": "​",
            "style": "IPY_MODEL_a804854c565a4e039db950bbbfb02ff4",
            "value": " 9741/9741 [00:06&lt;00:00, 1585.30 examples/s]"
          }
        },
        "f5aeeaed18ef4a27b1e6a467068f6733": {
          "model_module": "@jupyter-widgets/base",
          "model_name": "LayoutModel",
          "model_module_version": "1.2.0",
          "state": {
            "_model_module": "@jupyter-widgets/base",
            "_model_module_version": "1.2.0",
            "_model_name": "LayoutModel",
            "_view_count": null,
            "_view_module": "@jupyter-widgets/base",
            "_view_module_version": "1.2.0",
            "_view_name": "LayoutView",
            "align_content": null,
            "align_items": null,
            "align_self": null,
            "border": null,
            "bottom": null,
            "display": null,
            "flex": null,
            "flex_flow": null,
            "grid_area": null,
            "grid_auto_columns": null,
            "grid_auto_flow": null,
            "grid_auto_rows": null,
            "grid_column": null,
            "grid_gap": null,
            "grid_row": null,
            "grid_template_areas": null,
            "grid_template_columns": null,
            "grid_template_rows": null,
            "height": null,
            "justify_content": null,
            "justify_items": null,
            "left": null,
            "margin": null,
            "max_height": null,
            "max_width": null,
            "min_height": null,
            "min_width": null,
            "object_fit": null,
            "object_position": null,
            "order": null,
            "overflow": null,
            "overflow_x": null,
            "overflow_y": null,
            "padding": null,
            "right": null,
            "top": null,
            "visibility": null,
            "width": null
          }
        },
        "21e3241ca662440491bf0c9a13a717f7": {
          "model_module": "@jupyter-widgets/base",
          "model_name": "LayoutModel",
          "model_module_version": "1.2.0",
          "state": {
            "_model_module": "@jupyter-widgets/base",
            "_model_module_version": "1.2.0",
            "_model_name": "LayoutModel",
            "_view_count": null,
            "_view_module": "@jupyter-widgets/base",
            "_view_module_version": "1.2.0",
            "_view_name": "LayoutView",
            "align_content": null,
            "align_items": null,
            "align_self": null,
            "border": null,
            "bottom": null,
            "display": null,
            "flex": null,
            "flex_flow": null,
            "grid_area": null,
            "grid_auto_columns": null,
            "grid_auto_flow": null,
            "grid_auto_rows": null,
            "grid_column": null,
            "grid_gap": null,
            "grid_row": null,
            "grid_template_areas": null,
            "grid_template_columns": null,
            "grid_template_rows": null,
            "height": null,
            "justify_content": null,
            "justify_items": null,
            "left": null,
            "margin": null,
            "max_height": null,
            "max_width": null,
            "min_height": null,
            "min_width": null,
            "object_fit": null,
            "object_position": null,
            "order": null,
            "overflow": null,
            "overflow_x": null,
            "overflow_y": null,
            "padding": null,
            "right": null,
            "top": null,
            "visibility": null,
            "width": null
          }
        },
        "5b8f4a89de9e4eea8d041d4b576c4a8e": {
          "model_module": "@jupyter-widgets/controls",
          "model_name": "DescriptionStyleModel",
          "model_module_version": "1.5.0",
          "state": {
            "_model_module": "@jupyter-widgets/controls",
            "_model_module_version": "1.5.0",
            "_model_name": "DescriptionStyleModel",
            "_view_count": null,
            "_view_module": "@jupyter-widgets/base",
            "_view_module_version": "1.2.0",
            "_view_name": "StyleView",
            "description_width": ""
          }
        },
        "da184d60222e4f8bacd1d5f6d8459e60": {
          "model_module": "@jupyter-widgets/base",
          "model_name": "LayoutModel",
          "model_module_version": "1.2.0",
          "state": {
            "_model_module": "@jupyter-widgets/base",
            "_model_module_version": "1.2.0",
            "_model_name": "LayoutModel",
            "_view_count": null,
            "_view_module": "@jupyter-widgets/base",
            "_view_module_version": "1.2.0",
            "_view_name": "LayoutView",
            "align_content": null,
            "align_items": null,
            "align_self": null,
            "border": null,
            "bottom": null,
            "display": null,
            "flex": null,
            "flex_flow": null,
            "grid_area": null,
            "grid_auto_columns": null,
            "grid_auto_flow": null,
            "grid_auto_rows": null,
            "grid_column": null,
            "grid_gap": null,
            "grid_row": null,
            "grid_template_areas": null,
            "grid_template_columns": null,
            "grid_template_rows": null,
            "height": null,
            "justify_content": null,
            "justify_items": null,
            "left": null,
            "margin": null,
            "max_height": null,
            "max_width": null,
            "min_height": null,
            "min_width": null,
            "object_fit": null,
            "object_position": null,
            "order": null,
            "overflow": null,
            "overflow_x": null,
            "overflow_y": null,
            "padding": null,
            "right": null,
            "top": null,
            "visibility": null,
            "width": null
          }
        },
        "0653e70081bd4956acc16214102035fc": {
          "model_module": "@jupyter-widgets/controls",
          "model_name": "ProgressStyleModel",
          "model_module_version": "1.5.0",
          "state": {
            "_model_module": "@jupyter-widgets/controls",
            "_model_module_version": "1.5.0",
            "_model_name": "ProgressStyleModel",
            "_view_count": null,
            "_view_module": "@jupyter-widgets/base",
            "_view_module_version": "1.2.0",
            "_view_name": "StyleView",
            "bar_color": null,
            "description_width": ""
          }
        },
        "4d1d1be8e9f04025b78cb077f2b1a755": {
          "model_module": "@jupyter-widgets/base",
          "model_name": "LayoutModel",
          "model_module_version": "1.2.0",
          "state": {
            "_model_module": "@jupyter-widgets/base",
            "_model_module_version": "1.2.0",
            "_model_name": "LayoutModel",
            "_view_count": null,
            "_view_module": "@jupyter-widgets/base",
            "_view_module_version": "1.2.0",
            "_view_name": "LayoutView",
            "align_content": null,
            "align_items": null,
            "align_self": null,
            "border": null,
            "bottom": null,
            "display": null,
            "flex": null,
            "flex_flow": null,
            "grid_area": null,
            "grid_auto_columns": null,
            "grid_auto_flow": null,
            "grid_auto_rows": null,
            "grid_column": null,
            "grid_gap": null,
            "grid_row": null,
            "grid_template_areas": null,
            "grid_template_columns": null,
            "grid_template_rows": null,
            "height": null,
            "justify_content": null,
            "justify_items": null,
            "left": null,
            "margin": null,
            "max_height": null,
            "max_width": null,
            "min_height": null,
            "min_width": null,
            "object_fit": null,
            "object_position": null,
            "order": null,
            "overflow": null,
            "overflow_x": null,
            "overflow_y": null,
            "padding": null,
            "right": null,
            "top": null,
            "visibility": null,
            "width": null
          }
        },
        "a804854c565a4e039db950bbbfb02ff4": {
          "model_module": "@jupyter-widgets/controls",
          "model_name": "DescriptionStyleModel",
          "model_module_version": "1.5.0",
          "state": {
            "_model_module": "@jupyter-widgets/controls",
            "_model_module_version": "1.5.0",
            "_model_name": "DescriptionStyleModel",
            "_view_count": null,
            "_view_module": "@jupyter-widgets/base",
            "_view_module_version": "1.2.0",
            "_view_name": "StyleView",
            "description_width": ""
          }
        },
        "58c314865c2d49e4b9194160515f0bea": {
          "model_module": "@jupyter-widgets/controls",
          "model_name": "HBoxModel",
          "model_module_version": "1.5.0",
          "state": {
            "_dom_classes": [],
            "_model_module": "@jupyter-widgets/controls",
            "_model_module_version": "1.5.0",
            "_model_name": "HBoxModel",
            "_view_count": null,
            "_view_module": "@jupyter-widgets/controls",
            "_view_module_version": "1.5.0",
            "_view_name": "HBoxView",
            "box_style": "",
            "children": [
              "IPY_MODEL_94c5609a7bef4d8eba8eef716cfe4313",
              "IPY_MODEL_44350a548d9b40989ea1099b9d476b66",
              "IPY_MODEL_27b640abc4e24cf9a61558084cd07c22"
            ],
            "layout": "IPY_MODEL_e36a87d9f0564061a7e90c1ee063f093"
          }
        },
        "94c5609a7bef4d8eba8eef716cfe4313": {
          "model_module": "@jupyter-widgets/controls",
          "model_name": "HTMLModel",
          "model_module_version": "1.5.0",
          "state": {
            "_dom_classes": [],
            "_model_module": "@jupyter-widgets/controls",
            "_model_module_version": "1.5.0",
            "_model_name": "HTMLModel",
            "_view_count": null,
            "_view_module": "@jupyter-widgets/controls",
            "_view_module_version": "1.5.0",
            "_view_name": "HTMLView",
            "description": "",
            "description_tooltip": null,
            "layout": "IPY_MODEL_aa56e201dbf14117ae726c741b05db97",
            "placeholder": "​",
            "style": "IPY_MODEL_edabb38f15d645b4b9b63d2893526a75",
            "value": "Map: 100%"
          }
        },
        "44350a548d9b40989ea1099b9d476b66": {
          "model_module": "@jupyter-widgets/controls",
          "model_name": "FloatProgressModel",
          "model_module_version": "1.5.0",
          "state": {
            "_dom_classes": [],
            "_model_module": "@jupyter-widgets/controls",
            "_model_module_version": "1.5.0",
            "_model_name": "FloatProgressModel",
            "_view_count": null,
            "_view_module": "@jupyter-widgets/controls",
            "_view_module_version": "1.5.0",
            "_view_name": "ProgressView",
            "bar_style": "success",
            "description": "",
            "description_tooltip": null,
            "layout": "IPY_MODEL_696b567eedaa446eadd7a7ffaddfff20",
            "max": 1221,
            "min": 0,
            "orientation": "horizontal",
            "style": "IPY_MODEL_52dce80ad07642a1a0ee98b9743183c8",
            "value": 1221
          }
        },
        "27b640abc4e24cf9a61558084cd07c22": {
          "model_module": "@jupyter-widgets/controls",
          "model_name": "HTMLModel",
          "model_module_version": "1.5.0",
          "state": {
            "_dom_classes": [],
            "_model_module": "@jupyter-widgets/controls",
            "_model_module_version": "1.5.0",
            "_model_name": "HTMLModel",
            "_view_count": null,
            "_view_module": "@jupyter-widgets/controls",
            "_view_module_version": "1.5.0",
            "_view_name": "HTMLView",
            "description": "",
            "description_tooltip": null,
            "layout": "IPY_MODEL_12469eea4d4f492fbfa93ab62fcd47fb",
            "placeholder": "​",
            "style": "IPY_MODEL_d7ecc1f63a124b859bbdff8eeb54d86a",
            "value": " 1221/1221 [00:01&lt;00:00, 899.71 examples/s]"
          }
        },
        "e36a87d9f0564061a7e90c1ee063f093": {
          "model_module": "@jupyter-widgets/base",
          "model_name": "LayoutModel",
          "model_module_version": "1.2.0",
          "state": {
            "_model_module": "@jupyter-widgets/base",
            "_model_module_version": "1.2.0",
            "_model_name": "LayoutModel",
            "_view_count": null,
            "_view_module": "@jupyter-widgets/base",
            "_view_module_version": "1.2.0",
            "_view_name": "LayoutView",
            "align_content": null,
            "align_items": null,
            "align_self": null,
            "border": null,
            "bottom": null,
            "display": null,
            "flex": null,
            "flex_flow": null,
            "grid_area": null,
            "grid_auto_columns": null,
            "grid_auto_flow": null,
            "grid_auto_rows": null,
            "grid_column": null,
            "grid_gap": null,
            "grid_row": null,
            "grid_template_areas": null,
            "grid_template_columns": null,
            "grid_template_rows": null,
            "height": null,
            "justify_content": null,
            "justify_items": null,
            "left": null,
            "margin": null,
            "max_height": null,
            "max_width": null,
            "min_height": null,
            "min_width": null,
            "object_fit": null,
            "object_position": null,
            "order": null,
            "overflow": null,
            "overflow_x": null,
            "overflow_y": null,
            "padding": null,
            "right": null,
            "top": null,
            "visibility": null,
            "width": null
          }
        },
        "aa56e201dbf14117ae726c741b05db97": {
          "model_module": "@jupyter-widgets/base",
          "model_name": "LayoutModel",
          "model_module_version": "1.2.0",
          "state": {
            "_model_module": "@jupyter-widgets/base",
            "_model_module_version": "1.2.0",
            "_model_name": "LayoutModel",
            "_view_count": null,
            "_view_module": "@jupyter-widgets/base",
            "_view_module_version": "1.2.0",
            "_view_name": "LayoutView",
            "align_content": null,
            "align_items": null,
            "align_self": null,
            "border": null,
            "bottom": null,
            "display": null,
            "flex": null,
            "flex_flow": null,
            "grid_area": null,
            "grid_auto_columns": null,
            "grid_auto_flow": null,
            "grid_auto_rows": null,
            "grid_column": null,
            "grid_gap": null,
            "grid_row": null,
            "grid_template_areas": null,
            "grid_template_columns": null,
            "grid_template_rows": null,
            "height": null,
            "justify_content": null,
            "justify_items": null,
            "left": null,
            "margin": null,
            "max_height": null,
            "max_width": null,
            "min_height": null,
            "min_width": null,
            "object_fit": null,
            "object_position": null,
            "order": null,
            "overflow": null,
            "overflow_x": null,
            "overflow_y": null,
            "padding": null,
            "right": null,
            "top": null,
            "visibility": null,
            "width": null
          }
        },
        "edabb38f15d645b4b9b63d2893526a75": {
          "model_module": "@jupyter-widgets/controls",
          "model_name": "DescriptionStyleModel",
          "model_module_version": "1.5.0",
          "state": {
            "_model_module": "@jupyter-widgets/controls",
            "_model_module_version": "1.5.0",
            "_model_name": "DescriptionStyleModel",
            "_view_count": null,
            "_view_module": "@jupyter-widgets/base",
            "_view_module_version": "1.2.0",
            "_view_name": "StyleView",
            "description_width": ""
          }
        },
        "696b567eedaa446eadd7a7ffaddfff20": {
          "model_module": "@jupyter-widgets/base",
          "model_name": "LayoutModel",
          "model_module_version": "1.2.0",
          "state": {
            "_model_module": "@jupyter-widgets/base",
            "_model_module_version": "1.2.0",
            "_model_name": "LayoutModel",
            "_view_count": null,
            "_view_module": "@jupyter-widgets/base",
            "_view_module_version": "1.2.0",
            "_view_name": "LayoutView",
            "align_content": null,
            "align_items": null,
            "align_self": null,
            "border": null,
            "bottom": null,
            "display": null,
            "flex": null,
            "flex_flow": null,
            "grid_area": null,
            "grid_auto_columns": null,
            "grid_auto_flow": null,
            "grid_auto_rows": null,
            "grid_column": null,
            "grid_gap": null,
            "grid_row": null,
            "grid_template_areas": null,
            "grid_template_columns": null,
            "grid_template_rows": null,
            "height": null,
            "justify_content": null,
            "justify_items": null,
            "left": null,
            "margin": null,
            "max_height": null,
            "max_width": null,
            "min_height": null,
            "min_width": null,
            "object_fit": null,
            "object_position": null,
            "order": null,
            "overflow": null,
            "overflow_x": null,
            "overflow_y": null,
            "padding": null,
            "right": null,
            "top": null,
            "visibility": null,
            "width": null
          }
        },
        "52dce80ad07642a1a0ee98b9743183c8": {
          "model_module": "@jupyter-widgets/controls",
          "model_name": "ProgressStyleModel",
          "model_module_version": "1.5.0",
          "state": {
            "_model_module": "@jupyter-widgets/controls",
            "_model_module_version": "1.5.0",
            "_model_name": "ProgressStyleModel",
            "_view_count": null,
            "_view_module": "@jupyter-widgets/base",
            "_view_module_version": "1.2.0",
            "_view_name": "StyleView",
            "bar_color": null,
            "description_width": ""
          }
        },
        "12469eea4d4f492fbfa93ab62fcd47fb": {
          "model_module": "@jupyter-widgets/base",
          "model_name": "LayoutModel",
          "model_module_version": "1.2.0",
          "state": {
            "_model_module": "@jupyter-widgets/base",
            "_model_module_version": "1.2.0",
            "_model_name": "LayoutModel",
            "_view_count": null,
            "_view_module": "@jupyter-widgets/base",
            "_view_module_version": "1.2.0",
            "_view_name": "LayoutView",
            "align_content": null,
            "align_items": null,
            "align_self": null,
            "border": null,
            "bottom": null,
            "display": null,
            "flex": null,
            "flex_flow": null,
            "grid_area": null,
            "grid_auto_columns": null,
            "grid_auto_flow": null,
            "grid_auto_rows": null,
            "grid_column": null,
            "grid_gap": null,
            "grid_row": null,
            "grid_template_areas": null,
            "grid_template_columns": null,
            "grid_template_rows": null,
            "height": null,
            "justify_content": null,
            "justify_items": null,
            "left": null,
            "margin": null,
            "max_height": null,
            "max_width": null,
            "min_height": null,
            "min_width": null,
            "object_fit": null,
            "object_position": null,
            "order": null,
            "overflow": null,
            "overflow_x": null,
            "overflow_y": null,
            "padding": null,
            "right": null,
            "top": null,
            "visibility": null,
            "width": null
          }
        },
        "d7ecc1f63a124b859bbdff8eeb54d86a": {
          "model_module": "@jupyter-widgets/controls",
          "model_name": "DescriptionStyleModel",
          "model_module_version": "1.5.0",
          "state": {
            "_model_module": "@jupyter-widgets/controls",
            "_model_module_version": "1.5.0",
            "_model_name": "DescriptionStyleModel",
            "_view_count": null,
            "_view_module": "@jupyter-widgets/base",
            "_view_module_version": "1.2.0",
            "_view_name": "StyleView",
            "description_width": ""
          }
        }
      }
    }
  },
  "cells": [
    {
      "cell_type": "markdown",
      "metadata": {
        "id": "view-in-github",
        "colab_type": "text"
      },
      "source": [
        "<a href=\"https://colab.research.google.com/github/MSDS-Capstone-Project/LLM_FineTuning/blob/main/LoRA_Tuning.ipynb\" target=\"_parent\"><img src=\"https://colab.research.google.com/assets/colab-badge.svg\" alt=\"Open In Colab\"/></a>"
      ]
    },
    {
      "cell_type": "code",
      "execution_count": 4,
      "metadata": {
        "colab": {
          "base_uri": "https://localhost:8080/"
        },
        "id": "Cyc1rhHVMIKd",
        "outputId": "789d31db-7058-4a14-84d1-c2ac84e7bb0f"
      },
      "outputs": [
        {
          "output_type": "stream",
          "name": "stdout",
          "text": [
            "Dataset({\n",
            "    features: ['id', 'question', 'question_concept', 'choices', 'answerKey'],\n",
            "    num_rows: 9741\n",
            "})\n"
          ]
        }
      ],
      "source": [
        "### Loading the Dataset\n",
        "\n",
        "try: from datasets import load_dataset\n",
        "except:\n",
        "    !pip install datasets\n",
        "    from datasets import load_dataset\n",
        "\n",
        "\n",
        "# dataset = load_dataset(\"nvidia/OpenMathInstruct-2\", split = \"train_1M\")\n",
        "dataset = load_dataset(\"commonsense_qa\")\n",
        "# dataset_small = dataset.select(range(10000))\n",
        "# dataset_split = dataset_small.train_test_split(test_size=0.1, seed=42)\n",
        "# train_data, eval_data = dataset_split[\"train\"], dataset_split[\"test\"]\n",
        "train_data, eval_data = dataset[\"train\"], dataset[\"validation\"]\n",
        "\n",
        "print(train_data)"
      ]
    },
    {
      "cell_type": "code",
      "source": [
        "eval_data.to_pandas().head()"
      ],
      "metadata": {
        "colab": {
          "base_uri": "https://localhost:8080/",
          "height": 206
        },
        "id": "cj0kX79iMXR3",
        "outputId": "44c4353d-2e10-45a9-84c1-a3eb6bb46783"
      },
      "execution_count": 2,
      "outputs": [
        {
          "output_type": "execute_result",
          "data": {
            "text/plain": [
              "                                 id  \\\n",
              "0  1afa02df02c908a558b4036e80242fac   \n",
              "1  a7ab086045575bb497933726e4e6ad28   \n",
              "2  b8c0a4703079cf661d7261a60a1bcbff   \n",
              "3  e68fb2448fd74e402aae9982aa76e527   \n",
              "4  2435de612dd69f2012b9e40d6af4ce38   \n",
              "\n",
              "                                            question question_concept  \\\n",
              "0  A revolving door is convenient for two directi...   revolving door   \n",
              "1                  What do people aim to do at work?           people   \n",
              "2  Where would you find magazines along side many...        magazines   \n",
              "3         Where are  you likely to find a hamburger?        hamburger   \n",
              "4  James was looking for a good place to buy farm...         farmland   \n",
              "\n",
              "                                             choices answerKey  \n",
              "0  {'label': ['A', 'B', 'C', 'D', 'E'], 'text': [...         A  \n",
              "1  {'label': ['A', 'B', 'C', 'D', 'E'], 'text': [...         A  \n",
              "2  {'label': ['A', 'B', 'C', 'D', 'E'], 'text': [...         B  \n",
              "3  {'label': ['A', 'B', 'C', 'D', 'E'], 'text': [...         A  \n",
              "4  {'label': ['A', 'B', 'C', 'D', 'E'], 'text': [...         A  "
            ],
            "text/html": [
              "\n",
              "  <div id=\"df-be8484a0-7c19-42e1-b108-d82c56be78f1\" class=\"colab-df-container\">\n",
              "    <div>\n",
              "<style scoped>\n",
              "    .dataframe tbody tr th:only-of-type {\n",
              "        vertical-align: middle;\n",
              "    }\n",
              "\n",
              "    .dataframe tbody tr th {\n",
              "        vertical-align: top;\n",
              "    }\n",
              "\n",
              "    .dataframe thead th {\n",
              "        text-align: right;\n",
              "    }\n",
              "</style>\n",
              "<table border=\"1\" class=\"dataframe\">\n",
              "  <thead>\n",
              "    <tr style=\"text-align: right;\">\n",
              "      <th></th>\n",
              "      <th>id</th>\n",
              "      <th>question</th>\n",
              "      <th>question_concept</th>\n",
              "      <th>choices</th>\n",
              "      <th>answerKey</th>\n",
              "    </tr>\n",
              "  </thead>\n",
              "  <tbody>\n",
              "    <tr>\n",
              "      <th>0</th>\n",
              "      <td>1afa02df02c908a558b4036e80242fac</td>\n",
              "      <td>A revolving door is convenient for two directi...</td>\n",
              "      <td>revolving door</td>\n",
              "      <td>{'label': ['A', 'B', 'C', 'D', 'E'], 'text': [...</td>\n",
              "      <td>A</td>\n",
              "    </tr>\n",
              "    <tr>\n",
              "      <th>1</th>\n",
              "      <td>a7ab086045575bb497933726e4e6ad28</td>\n",
              "      <td>What do people aim to do at work?</td>\n",
              "      <td>people</td>\n",
              "      <td>{'label': ['A', 'B', 'C', 'D', 'E'], 'text': [...</td>\n",
              "      <td>A</td>\n",
              "    </tr>\n",
              "    <tr>\n",
              "      <th>2</th>\n",
              "      <td>b8c0a4703079cf661d7261a60a1bcbff</td>\n",
              "      <td>Where would you find magazines along side many...</td>\n",
              "      <td>magazines</td>\n",
              "      <td>{'label': ['A', 'B', 'C', 'D', 'E'], 'text': [...</td>\n",
              "      <td>B</td>\n",
              "    </tr>\n",
              "    <tr>\n",
              "      <th>3</th>\n",
              "      <td>e68fb2448fd74e402aae9982aa76e527</td>\n",
              "      <td>Where are  you likely to find a hamburger?</td>\n",
              "      <td>hamburger</td>\n",
              "      <td>{'label': ['A', 'B', 'C', 'D', 'E'], 'text': [...</td>\n",
              "      <td>A</td>\n",
              "    </tr>\n",
              "    <tr>\n",
              "      <th>4</th>\n",
              "      <td>2435de612dd69f2012b9e40d6af4ce38</td>\n",
              "      <td>James was looking for a good place to buy farm...</td>\n",
              "      <td>farmland</td>\n",
              "      <td>{'label': ['A', 'B', 'C', 'D', 'E'], 'text': [...</td>\n",
              "      <td>A</td>\n",
              "    </tr>\n",
              "  </tbody>\n",
              "</table>\n",
              "</div>\n",
              "    <div class=\"colab-df-buttons\">\n",
              "\n",
              "  <div class=\"colab-df-container\">\n",
              "    <button class=\"colab-df-convert\" onclick=\"convertToInteractive('df-be8484a0-7c19-42e1-b108-d82c56be78f1')\"\n",
              "            title=\"Convert this dataframe to an interactive table.\"\n",
              "            style=\"display:none;\">\n",
              "\n",
              "  <svg xmlns=\"http://www.w3.org/2000/svg\" height=\"24px\" viewBox=\"0 -960 960 960\">\n",
              "    <path d=\"M120-120v-720h720v720H120Zm60-500h600v-160H180v160Zm220 220h160v-160H400v160Zm0 220h160v-160H400v160ZM180-400h160v-160H180v160Zm440 0h160v-160H620v160ZM180-180h160v-160H180v160Zm440 0h160v-160H620v160Z\"/>\n",
              "  </svg>\n",
              "    </button>\n",
              "\n",
              "  <style>\n",
              "    .colab-df-container {\n",
              "      display:flex;\n",
              "      gap: 12px;\n",
              "    }\n",
              "\n",
              "    .colab-df-convert {\n",
              "      background-color: #E8F0FE;\n",
              "      border: none;\n",
              "      border-radius: 50%;\n",
              "      cursor: pointer;\n",
              "      display: none;\n",
              "      fill: #1967D2;\n",
              "      height: 32px;\n",
              "      padding: 0 0 0 0;\n",
              "      width: 32px;\n",
              "    }\n",
              "\n",
              "    .colab-df-convert:hover {\n",
              "      background-color: #E2EBFA;\n",
              "      box-shadow: 0px 1px 2px rgba(60, 64, 67, 0.3), 0px 1px 3px 1px rgba(60, 64, 67, 0.15);\n",
              "      fill: #174EA6;\n",
              "    }\n",
              "\n",
              "    .colab-df-buttons div {\n",
              "      margin-bottom: 4px;\n",
              "    }\n",
              "\n",
              "    [theme=dark] .colab-df-convert {\n",
              "      background-color: #3B4455;\n",
              "      fill: #D2E3FC;\n",
              "    }\n",
              "\n",
              "    [theme=dark] .colab-df-convert:hover {\n",
              "      background-color: #434B5C;\n",
              "      box-shadow: 0px 1px 3px 1px rgba(0, 0, 0, 0.15);\n",
              "      filter: drop-shadow(0px 1px 2px rgba(0, 0, 0, 0.3));\n",
              "      fill: #FFFFFF;\n",
              "    }\n",
              "  </style>\n",
              "\n",
              "    <script>\n",
              "      const buttonEl =\n",
              "        document.querySelector('#df-be8484a0-7c19-42e1-b108-d82c56be78f1 button.colab-df-convert');\n",
              "      buttonEl.style.display =\n",
              "        google.colab.kernel.accessAllowed ? 'block' : 'none';\n",
              "\n",
              "      async function convertToInteractive(key) {\n",
              "        const element = document.querySelector('#df-be8484a0-7c19-42e1-b108-d82c56be78f1');\n",
              "        const dataTable =\n",
              "          await google.colab.kernel.invokeFunction('convertToInteractive',\n",
              "                                                    [key], {});\n",
              "        if (!dataTable) return;\n",
              "\n",
              "        const docLinkHtml = 'Like what you see? Visit the ' +\n",
              "          '<a target=\"_blank\" href=https://colab.research.google.com/notebooks/data_table.ipynb>data table notebook</a>'\n",
              "          + ' to learn more about interactive tables.';\n",
              "        element.innerHTML = '';\n",
              "        dataTable['output_type'] = 'display_data';\n",
              "        await google.colab.output.renderOutput(dataTable, element);\n",
              "        const docLink = document.createElement('div');\n",
              "        docLink.innerHTML = docLinkHtml;\n",
              "        element.appendChild(docLink);\n",
              "      }\n",
              "    </script>\n",
              "  </div>\n",
              "\n",
              "\n",
              "<div id=\"df-3f8b6622-a627-4ddb-a778-7377189b7cf8\">\n",
              "  <button class=\"colab-df-quickchart\" onclick=\"quickchart('df-3f8b6622-a627-4ddb-a778-7377189b7cf8')\"\n",
              "            title=\"Suggest charts\"\n",
              "            style=\"display:none;\">\n",
              "\n",
              "<svg xmlns=\"http://www.w3.org/2000/svg\" height=\"24px\"viewBox=\"0 0 24 24\"\n",
              "     width=\"24px\">\n",
              "    <g>\n",
              "        <path d=\"M19 3H5c-1.1 0-2 .9-2 2v14c0 1.1.9 2 2 2h14c1.1 0 2-.9 2-2V5c0-1.1-.9-2-2-2zM9 17H7v-7h2v7zm4 0h-2V7h2v10zm4 0h-2v-4h2v4z\"/>\n",
              "    </g>\n",
              "</svg>\n",
              "  </button>\n",
              "\n",
              "<style>\n",
              "  .colab-df-quickchart {\n",
              "      --bg-color: #E8F0FE;\n",
              "      --fill-color: #1967D2;\n",
              "      --hover-bg-color: #E2EBFA;\n",
              "      --hover-fill-color: #174EA6;\n",
              "      --disabled-fill-color: #AAA;\n",
              "      --disabled-bg-color: #DDD;\n",
              "  }\n",
              "\n",
              "  [theme=dark] .colab-df-quickchart {\n",
              "      --bg-color: #3B4455;\n",
              "      --fill-color: #D2E3FC;\n",
              "      --hover-bg-color: #434B5C;\n",
              "      --hover-fill-color: #FFFFFF;\n",
              "      --disabled-bg-color: #3B4455;\n",
              "      --disabled-fill-color: #666;\n",
              "  }\n",
              "\n",
              "  .colab-df-quickchart {\n",
              "    background-color: var(--bg-color);\n",
              "    border: none;\n",
              "    border-radius: 50%;\n",
              "    cursor: pointer;\n",
              "    display: none;\n",
              "    fill: var(--fill-color);\n",
              "    height: 32px;\n",
              "    padding: 0;\n",
              "    width: 32px;\n",
              "  }\n",
              "\n",
              "  .colab-df-quickchart:hover {\n",
              "    background-color: var(--hover-bg-color);\n",
              "    box-shadow: 0 1px 2px rgba(60, 64, 67, 0.3), 0 1px 3px 1px rgba(60, 64, 67, 0.15);\n",
              "    fill: var(--button-hover-fill-color);\n",
              "  }\n",
              "\n",
              "  .colab-df-quickchart-complete:disabled,\n",
              "  .colab-df-quickchart-complete:disabled:hover {\n",
              "    background-color: var(--disabled-bg-color);\n",
              "    fill: var(--disabled-fill-color);\n",
              "    box-shadow: none;\n",
              "  }\n",
              "\n",
              "  .colab-df-spinner {\n",
              "    border: 2px solid var(--fill-color);\n",
              "    border-color: transparent;\n",
              "    border-bottom-color: var(--fill-color);\n",
              "    animation:\n",
              "      spin 1s steps(1) infinite;\n",
              "  }\n",
              "\n",
              "  @keyframes spin {\n",
              "    0% {\n",
              "      border-color: transparent;\n",
              "      border-bottom-color: var(--fill-color);\n",
              "      border-left-color: var(--fill-color);\n",
              "    }\n",
              "    20% {\n",
              "      border-color: transparent;\n",
              "      border-left-color: var(--fill-color);\n",
              "      border-top-color: var(--fill-color);\n",
              "    }\n",
              "    30% {\n",
              "      border-color: transparent;\n",
              "      border-left-color: var(--fill-color);\n",
              "      border-top-color: var(--fill-color);\n",
              "      border-right-color: var(--fill-color);\n",
              "    }\n",
              "    40% {\n",
              "      border-color: transparent;\n",
              "      border-right-color: var(--fill-color);\n",
              "      border-top-color: var(--fill-color);\n",
              "    }\n",
              "    60% {\n",
              "      border-color: transparent;\n",
              "      border-right-color: var(--fill-color);\n",
              "    }\n",
              "    80% {\n",
              "      border-color: transparent;\n",
              "      border-right-color: var(--fill-color);\n",
              "      border-bottom-color: var(--fill-color);\n",
              "    }\n",
              "    90% {\n",
              "      border-color: transparent;\n",
              "      border-bottom-color: var(--fill-color);\n",
              "    }\n",
              "  }\n",
              "</style>\n",
              "\n",
              "  <script>\n",
              "    async function quickchart(key) {\n",
              "      const quickchartButtonEl =\n",
              "        document.querySelector('#' + key + ' button');\n",
              "      quickchartButtonEl.disabled = true;  // To prevent multiple clicks.\n",
              "      quickchartButtonEl.classList.add('colab-df-spinner');\n",
              "      try {\n",
              "        const charts = await google.colab.kernel.invokeFunction(\n",
              "            'suggestCharts', [key], {});\n",
              "      } catch (error) {\n",
              "        console.error('Error during call to suggestCharts:', error);\n",
              "      }\n",
              "      quickchartButtonEl.classList.remove('colab-df-spinner');\n",
              "      quickchartButtonEl.classList.add('colab-df-quickchart-complete');\n",
              "    }\n",
              "    (() => {\n",
              "      let quickchartButtonEl =\n",
              "        document.querySelector('#df-3f8b6622-a627-4ddb-a778-7377189b7cf8 button');\n",
              "      quickchartButtonEl.style.display =\n",
              "        google.colab.kernel.accessAllowed ? 'block' : 'none';\n",
              "    })();\n",
              "  </script>\n",
              "</div>\n",
              "\n",
              "    </div>\n",
              "  </div>\n"
            ],
            "application/vnd.google.colaboratory.intrinsic+json": {
              "type": "dataframe",
              "summary": "{\n  \"name\": \"eval_data\",\n  \"rows\": 5,\n  \"fields\": [\n    {\n      \"column\": \"id\",\n      \"properties\": {\n        \"dtype\": \"string\",\n        \"num_unique_values\": 5,\n        \"samples\": [\n          \"a7ab086045575bb497933726e4e6ad28\",\n          \"2435de612dd69f2012b9e40d6af4ce38\",\n          \"b8c0a4703079cf661d7261a60a1bcbff\"\n        ],\n        \"semantic_type\": \"\",\n        \"description\": \"\"\n      }\n    },\n    {\n      \"column\": \"question\",\n      \"properties\": {\n        \"dtype\": \"string\",\n        \"num_unique_values\": 5,\n        \"samples\": [\n          \"What do people aim to do at work?\",\n          \"James was looking for a good place to buy farmland.  Where might he look?\",\n          \"Where would you find magazines along side many other printed works?\"\n        ],\n        \"semantic_type\": \"\",\n        \"description\": \"\"\n      }\n    },\n    {\n      \"column\": \"question_concept\",\n      \"properties\": {\n        \"dtype\": \"string\",\n        \"num_unique_values\": 5,\n        \"samples\": [\n          \"people\",\n          \"farmland\",\n          \"magazines\"\n        ],\n        \"semantic_type\": \"\",\n        \"description\": \"\"\n      }\n    },\n    {\n      \"column\": \"choices\",\n      \"properties\": {\n        \"dtype\": \"object\",\n        \"semantic_type\": \"\",\n        \"description\": \"\"\n      }\n    },\n    {\n      \"column\": \"answerKey\",\n      \"properties\": {\n        \"dtype\": \"category\",\n        \"num_unique_values\": 2,\n        \"samples\": [\n          \"B\",\n          \"A\"\n        ],\n        \"semantic_type\": \"\",\n        \"description\": \"\"\n      }\n    }\n  ]\n}"
            }
          },
          "metadata": {},
          "execution_count": 2
        }
      ]
    },
    {
      "cell_type": "code",
      "source": [
        "### Logging into HuggingFace\n",
        "\n",
        "try:\n",
        "  from dotenv import load_dotenv\n",
        "except:\n",
        "  !pip install python-dotenv\n",
        "  from dotenv import load_dotenv\n",
        "\n",
        "from huggingface_hub import login, whoami\n",
        "import os\n",
        "\n",
        "load_dotenv()\n",
        "login(os.getenv(\"hugging_face_key2\"))"
      ],
      "metadata": {
        "colab": {
          "base_uri": "https://localhost:8080/",
          "height": 104,
          "referenced_widgets": [
            "cc6cbf80eaad4eb393031195f1b818a2",
            "e3b8ef85eb1149cf83e13e26679dd27e",
            "846992d19e064628b12e48b295ebe58d",
            "51189a84a88b40ba9741c7e508a14957",
            "198f6644343747518990b19a55dec81d",
            "e80187fd082b4d8c9130b18d6d2e1a6f",
            "9a58144d99a34cd4b288e8f7f6562a80",
            "e6604bca14604d3bb3c4f0a71c67289c",
            "49cc5a86a73445b687a34f9e4ecdf18e",
            "a50eb2a3bdca4c0088fbd9174c72f028",
            "5ada00baa38b466ab64b898ba1a37c16",
            "81b741cae523419cbc0c3695465ff51f",
            "4b4b2fc5a5c64e3787f7ed35c20aee5e",
            "98114fcbfcbb4de7a5ecc27f389f126d",
            "070073c1751c4e3fbb7dbe1348a86913",
            "d19e69af577c487999acbff399327f3d",
            "645a4d1f8d294874b5c80d57ec1e3151",
            "689b47a9366041b78383a18fe9cf07bd",
            "e2b116bf495441d3bdd82cf60daa68a4",
            "424d551ca56e429d99c3f910045110a8"
          ]
        },
        "id": "WGz-XnQSMaR-",
        "outputId": "a37f7852-777c-44a0-b9ed-fcc7c035512e"
      },
      "execution_count": 3,
      "outputs": [
        {
          "output_type": "stream",
          "name": "stdout",
          "text": [
            "Collecting python-dotenv\n",
            "  Downloading python_dotenv-1.1.0-py3-none-any.whl.metadata (24 kB)\n",
            "Downloading python_dotenv-1.1.0-py3-none-any.whl (20 kB)\n",
            "Installing collected packages: python-dotenv\n",
            "Successfully installed python-dotenv-1.1.0\n"
          ]
        },
        {
          "output_type": "display_data",
          "data": {
            "text/plain": [
              "VBox(children=(HTML(value='<center> <img\\nsrc=https://huggingface.co/front/assets/huggingface_logo-noborder.sv…"
            ],
            "application/vnd.jupyter.widget-view+json": {
              "version_major": 2,
              "version_minor": 0,
              "model_id": "cc6cbf80eaad4eb393031195f1b818a2"
            }
          },
          "metadata": {}
        }
      ]
    },
    {
      "cell_type": "code",
      "source": [
        "!pip install peft"
      ],
      "metadata": {
        "colab": {
          "base_uri": "https://localhost:8080/"
        },
        "id": "5-oTKuw3Meje",
        "outputId": "40c13dc5-5992-497f-80a5-2bd1fb8eff89"
      },
      "execution_count": 1,
      "outputs": [
        {
          "output_type": "stream",
          "name": "stdout",
          "text": [
            "\u001b[33mWARNING: Ignoring invalid distribution ~vidia-cusparse-cu12 (/usr/local/lib/python3.11/dist-packages)\u001b[0m\u001b[33m\n",
            "\u001b[0m\u001b[33mWARNING: Ignoring invalid distribution ~vidia-cusparse-cu12 (/usr/local/lib/python3.11/dist-packages)\u001b[0m\u001b[33m\n",
            "\u001b[0mRequirement already satisfied: peft in /usr/local/lib/python3.11/dist-packages (0.14.0)\n",
            "Requirement already satisfied: numpy>=1.17 in /usr/local/lib/python3.11/dist-packages (from peft) (2.0.2)\n",
            "Requirement already satisfied: packaging>=20.0 in /usr/local/lib/python3.11/dist-packages (from peft) (24.2)\n",
            "Requirement already satisfied: psutil in /usr/local/lib/python3.11/dist-packages (from peft) (5.9.5)\n",
            "Requirement already satisfied: pyyaml in /usr/local/lib/python3.11/dist-packages (from peft) (6.0.2)\n",
            "Requirement already satisfied: torch>=1.13.0 in /usr/local/lib/python3.11/dist-packages (from peft) (2.6.0+cu124)\n",
            "Requirement already satisfied: transformers in /usr/local/lib/python3.11/dist-packages (from peft) (4.51.3)\n",
            "Requirement already satisfied: tqdm in /usr/local/lib/python3.11/dist-packages (from peft) (4.67.1)\n",
            "Requirement already satisfied: accelerate>=0.21.0 in /usr/local/lib/python3.11/dist-packages (from peft) (1.5.2)\n",
            "Requirement already satisfied: safetensors in /usr/local/lib/python3.11/dist-packages (from peft) (0.5.3)\n",
            "Requirement already satisfied: huggingface-hub>=0.25.0 in /usr/local/lib/python3.11/dist-packages (from peft) (0.30.2)\n",
            "Requirement already satisfied: filelock in /usr/local/lib/python3.11/dist-packages (from huggingface-hub>=0.25.0->peft) (3.18.0)\n",
            "Requirement already satisfied: fsspec>=2023.5.0 in /usr/local/lib/python3.11/dist-packages (from huggingface-hub>=0.25.0->peft) (2024.12.0)\n",
            "Requirement already satisfied: requests in /usr/local/lib/python3.11/dist-packages (from huggingface-hub>=0.25.0->peft) (2.32.3)\n",
            "Requirement already satisfied: typing-extensions>=3.7.4.3 in /usr/local/lib/python3.11/dist-packages (from huggingface-hub>=0.25.0->peft) (4.13.2)\n",
            "Requirement already satisfied: networkx in /usr/local/lib/python3.11/dist-packages (from torch>=1.13.0->peft) (3.4.2)\n",
            "Requirement already satisfied: jinja2 in /usr/local/lib/python3.11/dist-packages (from torch>=1.13.0->peft) (3.1.6)\n",
            "Requirement already satisfied: nvidia-cuda-nvrtc-cu12==12.4.127 in /usr/local/lib/python3.11/dist-packages (from torch>=1.13.0->peft) (12.4.127)\n",
            "Requirement already satisfied: nvidia-cuda-runtime-cu12==12.4.127 in /usr/local/lib/python3.11/dist-packages (from torch>=1.13.0->peft) (12.4.127)\n",
            "Requirement already satisfied: nvidia-cuda-cupti-cu12==12.4.127 in /usr/local/lib/python3.11/dist-packages (from torch>=1.13.0->peft) (12.4.127)\n",
            "Collecting nvidia-cudnn-cu12==9.1.0.70 (from torch>=1.13.0->peft)\n",
            "  Using cached nvidia_cudnn_cu12-9.1.0.70-py3-none-manylinux2014_x86_64.whl.metadata (1.6 kB)\n",
            "Requirement already satisfied: nvidia-cublas-cu12==12.4.5.8 in /usr/local/lib/python3.11/dist-packages (from torch>=1.13.0->peft) (12.4.5.8)\n",
            "Requirement already satisfied: nvidia-cufft-cu12==11.2.1.3 in /usr/local/lib/python3.11/dist-packages (from torch>=1.13.0->peft) (11.2.1.3)\n",
            "Requirement already satisfied: nvidia-curand-cu12==10.3.5.147 in /usr/local/lib/python3.11/dist-packages (from torch>=1.13.0->peft) (10.3.5.147)\n",
            "Collecting nvidia-cusolver-cu12==11.6.1.9 (from torch>=1.13.0->peft)\n",
            "  Using cached nvidia_cusolver_cu12-11.6.1.9-py3-none-manylinux2014_x86_64.whl.metadata (1.6 kB)\n",
            "Collecting nvidia-cusparse-cu12==12.3.1.170 (from torch>=1.13.0->peft)\n",
            "  Using cached nvidia_cusparse_cu12-12.3.1.170-py3-none-manylinux2014_x86_64.whl.metadata (1.6 kB)\n",
            "Requirement already satisfied: nvidia-cusparselt-cu12==0.6.2 in /usr/local/lib/python3.11/dist-packages (from torch>=1.13.0->peft) (0.6.2)\n",
            "Requirement already satisfied: nvidia-nccl-cu12==2.21.5 in /usr/local/lib/python3.11/dist-packages (from torch>=1.13.0->peft) (2.21.5)\n",
            "Requirement already satisfied: nvidia-nvtx-cu12==12.4.127 in /usr/local/lib/python3.11/dist-packages (from torch>=1.13.0->peft) (12.4.127)\n",
            "Requirement already satisfied: nvidia-nvjitlink-cu12==12.4.127 in /usr/local/lib/python3.11/dist-packages (from torch>=1.13.0->peft) (12.4.127)\n",
            "Requirement already satisfied: triton==3.2.0 in /usr/local/lib/python3.11/dist-packages (from torch>=1.13.0->peft) (3.2.0)\n",
            "Requirement already satisfied: sympy==1.13.1 in /usr/local/lib/python3.11/dist-packages (from torch>=1.13.0->peft) (1.13.1)\n",
            "Requirement already satisfied: mpmath<1.4,>=1.1.0 in /usr/local/lib/python3.11/dist-packages (from sympy==1.13.1->torch>=1.13.0->peft) (1.3.0)\n",
            "Requirement already satisfied: regex!=2019.12.17 in /usr/local/lib/python3.11/dist-packages (from transformers->peft) (2024.11.6)\n",
            "Requirement already satisfied: tokenizers<0.22,>=0.21 in /usr/local/lib/python3.11/dist-packages (from transformers->peft) (0.21.1)\n",
            "Requirement already satisfied: MarkupSafe>=2.0 in /usr/local/lib/python3.11/dist-packages (from jinja2->torch>=1.13.0->peft) (3.0.2)\n",
            "Requirement already satisfied: charset-normalizer<4,>=2 in /usr/local/lib/python3.11/dist-packages (from requests->huggingface-hub>=0.25.0->peft) (3.4.1)\n",
            "Requirement already satisfied: idna<4,>=2.5 in /usr/local/lib/python3.11/dist-packages (from requests->huggingface-hub>=0.25.0->peft) (3.10)\n",
            "Requirement already satisfied: urllib3<3,>=1.21.1 in /usr/local/lib/python3.11/dist-packages (from requests->huggingface-hub>=0.25.0->peft) (2.3.0)\n",
            "Requirement already satisfied: certifi>=2017.4.17 in /usr/local/lib/python3.11/dist-packages (from requests->huggingface-hub>=0.25.0->peft) (2025.1.31)\n",
            "Using cached nvidia_cudnn_cu12-9.1.0.70-py3-none-manylinux2014_x86_64.whl (664.8 MB)\n",
            "Using cached nvidia_cusolver_cu12-11.6.1.9-py3-none-manylinux2014_x86_64.whl (127.9 MB)\n",
            "Using cached nvidia_cusparse_cu12-12.3.1.170-py3-none-manylinux2014_x86_64.whl (207.5 MB)\n",
            "\u001b[33mWARNING: Ignoring invalid distribution ~vidia-cusparse-cu12 (/usr/local/lib/python3.11/dist-packages)\u001b[0m\u001b[33m\n",
            "\u001b[0mInstalling collected packages: nvidia-cusparse-cu12, nvidia-cudnn-cu12, nvidia-cusolver-cu12\n",
            "  Attempting uninstall: nvidia-cudnn-cu12\n",
            "\u001b[33m    WARNING: Ignoring invalid distribution ~vidia-cusparse-cu12 (/usr/local/lib/python3.11/dist-packages)\u001b[0m\u001b[33m\n",
            "\u001b[0m    Found existing installation: nvidia-cudnn-cu12 9.3.0.75\n",
            "    Uninstalling nvidia-cudnn-cu12-9.3.0.75:\n",
            "      Successfully uninstalled nvidia-cudnn-cu12-9.3.0.75\n",
            "  Attempting uninstall: nvidia-cusolver-cu12\n",
            "\u001b[33m    WARNING: Ignoring invalid distribution ~vidia-cusparse-cu12 (/usr/local/lib/python3.11/dist-packages)\u001b[0m\u001b[33m\n",
            "\u001b[0m    Found existing installation: nvidia-cusolver-cu12 11.6.3.83\n",
            "    Uninstalling nvidia-cusolver-cu12-11.6.3.83:\n",
            "      Successfully uninstalled nvidia-cusolver-cu12-11.6.3.83\n",
            "\u001b[33mWARNING: Ignoring invalid distribution ~vidia-cusparse-cu12 (/usr/local/lib/python3.11/dist-packages)\u001b[0m\u001b[33m\n",
            "\u001b[0mSuccessfully installed nvidia-cudnn-cu12-9.1.0.70 nvidia-cusolver-cu12-11.6.1.9 nvidia-cusparse-cu12\n"
          ]
        }
      ]
    },
    {
      "cell_type": "code",
      "source": [
        "from transformers import AutoTokenizer, AutoModelForCausalLM, BitsAndBytesConfig\n",
        "import torch\n",
        "\n",
        "# model_name = \"mistralai/Mistral-7B-Instruct-v0.2\"\n",
        "model_name = \"gpt2\"\n",
        "\n",
        "# bnb_config = BitsAndBytesConfig(\n",
        "#     load_in_4bit=True,\n",
        "#     bnb_4bit_compute_dtype=torch.float16,\n",
        "#     bnb_4bit_use_double_quant=True,\n",
        "#     bnb_4bit_quant_type=\"nf4\"\n",
        "# )\n",
        "\n",
        "model = AutoModelForCausalLM.from_pretrained(\n",
        "    model_name,\n",
        "    # device_map=\"auto\",\n",
        "    # quantization_config=bnb_config,\n",
        "    # torch_dtype=torch.float16\n",
        ")\n",
        "\n",
        "tokenizer = AutoTokenizer.from_pretrained(model_name)\n",
        "tokenizer.pad_token = tokenizer.eos_token\n",
        "\n",
        "### LoRA Config\n",
        "\n",
        "from peft import LoraConfig, get_peft_model\n",
        "\n",
        "peft_config = LoraConfig(\n",
        "    r=8,  # Rank of the low-rank adaptation - attention heads\n",
        "    lora_alpha=32, # alpha scaling\n",
        "    lora_dropout=0.1,\n",
        "    bias=\"none\",\n",
        "    target_modules=[\"c_attn\", \"c_proj\"]  # GPT-2 specific layers\n",
        ")\n",
        "\n",
        "\n",
        "peft_model = get_peft_model(model, peft_config)\n",
        "peft_model.print_trainable_parameters()\n"
      ],
      "metadata": {
        "colab": {
          "base_uri": "https://localhost:8080/",
          "height": 452,
          "referenced_widgets": [
            "aa1001d43d214ce9a35fb1623066bab8",
            "c1f00c98ebb84432b9b9009ad9fe64d2",
            "7777e967d6454ea4bd6b85f67531b414",
            "64f123f0541f462cb4ae990ff4268267",
            "9856e53674b54cb5a41e6e55caf1faf1",
            "9c47dcc97bb5433bac7c4a3979e9dff7",
            "2ffc95b133cb4e92bf81963b34c761fe",
            "ae50dee5dcf34f579bcf4761658dcbc1",
            "6fa5bd677cf04e7bbcf6198a259561cb",
            "582d1bad30e94b22b6c73c3d9dccac40",
            "92b7fbcd17634ad3b0b56b8eaed79934",
            "557b22ec40514e328a5c4cf9e879aebe",
            "3f6ff920370b48c0a23b24c8e3045930",
            "1b8dd759661a4b04ac13f39a194b5d14",
            "ce933495db2c416e9bd5659b73ba01e2",
            "8671664f00474eb2a3ebac9896e90fd9",
            "3825464d09314ee5829c9b7bde8ab262",
            "64da21c17a044d59a57159bdb216f703",
            "15eef785a179420087f4e18eedbfaa27",
            "828badf3bd3043db88fd7edd35c22610",
            "3bdb4b510d9c4452b3099613a45826b1",
            "51fd704a551742bcaa9e7090f4ecee7e",
            "0cbec0c17b714c7b8e00dbcac28b70be",
            "79ec61739229450abf24b02df8a453d7",
            "7bf082d721c1448ebe10ba5e4c5eda08",
            "0a348c1a869e45ebba595354e1cf047b",
            "59148f06fb0b4a43b79a17ddd26be6bd",
            "482f2116b05e4a4b840af5cde4176b20",
            "74c88b78555545f4bf8314abc3dd188a",
            "4de16ed57b004698a95f39b9fe813092",
            "2fe4796ed68d422b9a55d197e28e80a8",
            "5fe18ae1a7b548a0b521370739e5de18",
            "1b9126e786ed4eac9fe53407005aa598",
            "cfbf73a0306a4ec5a375b160b9a884a0",
            "adfe2c0f5db945ac9bef8da867504210",
            "fc3bcd7d11d540c4b6ba5f8441a08dd9",
            "31755b0175e0479a85042d9a2f83ae81",
            "cfa66eb984e84de3b1c1f8de042c9868",
            "5060f96118944029a44a48ac73e220f1",
            "6fc703e0e36b4f3381042d3ea2519b7e",
            "77d9308451af43af9ed9580b6d176769",
            "37dad0b4a09d405b9c800b2a2227eb30",
            "0097b7ef85054804bdd77dec89bfb7b6",
            "2ed9163c68da4d919c36c5e31f74b915",
            "f68a99b64abb4fd7b45f4ec4ef973c76",
            "50abfe43780a47489dad82ffd0bd6415",
            "fb49781c76ec478ba6992384128c1042",
            "7452beee97234165a8efe1fb7af5694f",
            "d3fb7bd4e16240fbac86dc7064be3278",
            "86e34bd1f8f24a38b1a30ba2c4116bac",
            "007606777884415783c87a679ec7f3e1",
            "cf66135a6b504b6495f40cd9ae2a4e60",
            "41b7ff035142411ba61e26f00fc63fe6",
            "1dc57040cd854ad69330da0c096bd881",
            "a432293e320c4d048b0f2daf0c305b9a",
            "7f5e3736b95b407eb8709368ad419d8f",
            "e9c3574a37ce49eabef533aba0fee30f",
            "cd3786a4d5514b83820b16a01c9e91db",
            "13d6ae3e824e44a1abb377ce9ad4e7c6",
            "95fbbd9cc1ec4580b5d90baff6ed0f54",
            "212a2a5891714d63bc02aff93f12580d",
            "2a0e65af41b74c9fb886d55b83e1420a",
            "7afd993c89504bf0b05a52bea91dc0c2",
            "810bf730032248fa9ba00ec5a8760b01",
            "75bfec8d1f3946adb5e9e102728270bb",
            "eb3a5e7098d947069949671195c12c91",
            "2da9fd580e9242508caeffa09c6c7f05",
            "923e6061064a4f629e0ff4bf57adbef6",
            "689b1b0e925c4a6fbeb64083f6eaecc9",
            "161d294fdeff45338eec746843b37386",
            "87ded5ddc3c144298c819840ce37bbb5",
            "4d8ff334e4c94d7dac04d378191c2f86",
            "4e919ce6e09245189bfb1625e78adb97",
            "f5c00f8512ca40f89dc357829897d892",
            "ee0a7b51b8634dd7bb7e531ba9467d8d",
            "45d4eeb2419644659a49cda90c82c3fd",
            "bc01fa6cd1d043cebe2eacfeda5d2dcb"
          ]
        },
        "id": "cTlHzKKgMjfl",
        "outputId": "4bdc6998-8dd9-4c03-c0a0-3f3f043a8105"
      },
      "execution_count": 2,
      "outputs": [
        {
          "output_type": "stream",
          "name": "stderr",
          "text": [
            "/usr/local/lib/python3.11/dist-packages/huggingface_hub/utils/_auth.py:94: UserWarning: \n",
            "The secret `HF_TOKEN` does not exist in your Colab secrets.\n",
            "To authenticate with the Hugging Face Hub, create a token in your settings tab (https://huggingface.co/settings/tokens), set it as secret in your Google Colab and restart your session.\n",
            "You will be able to reuse this secret in all of your notebooks.\n",
            "Please note that authentication is recommended but still optional to access public models or datasets.\n",
            "  warnings.warn(\n"
          ]
        },
        {
          "output_type": "display_data",
          "data": {
            "text/plain": [
              "config.json:   0%|          | 0.00/665 [00:00<?, ?B/s]"
            ],
            "application/vnd.jupyter.widget-view+json": {
              "version_major": 2,
              "version_minor": 0,
              "model_id": "aa1001d43d214ce9a35fb1623066bab8"
            }
          },
          "metadata": {}
        },
        {
          "output_type": "stream",
          "name": "stderr",
          "text": [
            "Xet Storage is enabled for this repo, but the 'hf_xet' package is not installed. Falling back to regular HTTP download. For better performance, install the package with: `pip install huggingface_hub[hf_xet]` or `pip install hf_xet`\n",
            "WARNING:huggingface_hub.file_download:Xet Storage is enabled for this repo, but the 'hf_xet' package is not installed. Falling back to regular HTTP download. For better performance, install the package with: `pip install huggingface_hub[hf_xet]` or `pip install hf_xet`\n"
          ]
        },
        {
          "output_type": "display_data",
          "data": {
            "text/plain": [
              "model.safetensors:   0%|          | 0.00/548M [00:00<?, ?B/s]"
            ],
            "application/vnd.jupyter.widget-view+json": {
              "version_major": 2,
              "version_minor": 0,
              "model_id": "557b22ec40514e328a5c4cf9e879aebe"
            }
          },
          "metadata": {}
        },
        {
          "output_type": "display_data",
          "data": {
            "text/plain": [
              "generation_config.json:   0%|          | 0.00/124 [00:00<?, ?B/s]"
            ],
            "application/vnd.jupyter.widget-view+json": {
              "version_major": 2,
              "version_minor": 0,
              "model_id": "0cbec0c17b714c7b8e00dbcac28b70be"
            }
          },
          "metadata": {}
        },
        {
          "output_type": "display_data",
          "data": {
            "text/plain": [
              "tokenizer_config.json:   0%|          | 0.00/26.0 [00:00<?, ?B/s]"
            ],
            "application/vnd.jupyter.widget-view+json": {
              "version_major": 2,
              "version_minor": 0,
              "model_id": "cfbf73a0306a4ec5a375b160b9a884a0"
            }
          },
          "metadata": {}
        },
        {
          "output_type": "display_data",
          "data": {
            "text/plain": [
              "vocab.json:   0%|          | 0.00/1.04M [00:00<?, ?B/s]"
            ],
            "application/vnd.jupyter.widget-view+json": {
              "version_major": 2,
              "version_minor": 0,
              "model_id": "f68a99b64abb4fd7b45f4ec4ef973c76"
            }
          },
          "metadata": {}
        },
        {
          "output_type": "display_data",
          "data": {
            "text/plain": [
              "merges.txt:   0%|          | 0.00/456k [00:00<?, ?B/s]"
            ],
            "application/vnd.jupyter.widget-view+json": {
              "version_major": 2,
              "version_minor": 0,
              "model_id": "7f5e3736b95b407eb8709368ad419d8f"
            }
          },
          "metadata": {}
        },
        {
          "output_type": "display_data",
          "data": {
            "text/plain": [
              "tokenizer.json:   0%|          | 0.00/1.36M [00:00<?, ?B/s]"
            ],
            "application/vnd.jupyter.widget-view+json": {
              "version_major": 2,
              "version_minor": 0,
              "model_id": "2da9fd580e9242508caeffa09c6c7f05"
            }
          },
          "metadata": {}
        },
        {
          "output_type": "stream",
          "name": "stdout",
          "text": [
            "trainable params: 811,008 || all params: 125,250,816 || trainable%: 0.6475\n"
          ]
        },
        {
          "output_type": "stream",
          "name": "stderr",
          "text": [
            "/usr/local/lib/python3.11/dist-packages/peft/tuners/lora/layer.py:1264: UserWarning: fan_in_fan_out is set to False but the target module is `Conv1D`. Setting fan_in_fan_out to True.\n",
            "  warnings.warn(\n"
          ]
        }
      ]
    },
    {
      "cell_type": "code",
      "source": [
        "import numpy as np\n",
        "def format_prompt(example):\n",
        "    question = example['question']\n",
        "    choices = example['choices']['text']\n",
        "    labels = example['choices']['label']\n",
        "    answer_key = example['answerKey']\n",
        "\n",
        "    # Find the correct answer text\n",
        "    answer_index = labels.index(answer_key)\n",
        "    answer_text = choices[answer_index]\n",
        "\n",
        "    # Create the prompt\n",
        "    prompt = f\"Q: {question}\\nO: {' /// '.join(choices)}\\nA: \"\n",
        "    full_text = prompt + \" \" + answer_text\n",
        "\n",
        "    # Tokenize full input\n",
        "    tokenized = tokenizer(\n",
        "        full_text,\n",
        "        padding=\"max_length\",\n",
        "        truncation=True,\n",
        "        max_length=128,\n",
        "    )\n",
        "\n",
        "    # Calculate where the completion starts\n",
        "    prompt_ids = tokenizer(prompt,\n",
        "                           truncation=True,\n",
        "                           max_length=128)[\"input_ids\"]\n",
        "    completion_start = len(prompt_ids)\n",
        "\n",
        "    # Mask prompt tokens in the labels\n",
        "    labels = [-np.inf] * completion_start + tokenized[\"input_ids\"][completion_start:]\n",
        "    labels += [-np.inf] * (128 - len(labels))  # pad label to match input\n",
        "\n",
        "    tokenized[\"labels\"] = labels\n",
        "    return tokenized\n",
        "\n",
        "\n",
        "tokenized_train = train_data.map(format_prompt, batched=False, remove_columns=train_data.column_names)\n",
        "tokenized_eval = eval_data.map(format_prompt, batched=False, remove_columns=eval_data.column_names)\n",
        "\n",
        "tokenized_train.set_format(type=\"torch\", columns=[\"input_ids\", \"attention_mask\", \"labels\"])\n",
        "tokenized_eval.set_format(type=\"torch\", columns=[\"input_ids\", \"attention_mask\", \"labels\"])\n"
      ],
      "metadata": {
        "colab": {
          "base_uri": "https://localhost:8080/",
          "height": 81,
          "referenced_widgets": [
            "a6b5fb2bdfee494a98180dcdf0619f9b",
            "4b07bf0a489c48f8bdf428348e7b39d0",
            "b928dde2ab3642619caba6aa4f3d0a84",
            "1a095415f6914fa1a43e44b60b23b1cf",
            "f5aeeaed18ef4a27b1e6a467068f6733",
            "21e3241ca662440491bf0c9a13a717f7",
            "5b8f4a89de9e4eea8d041d4b576c4a8e",
            "da184d60222e4f8bacd1d5f6d8459e60",
            "0653e70081bd4956acc16214102035fc",
            "4d1d1be8e9f04025b78cb077f2b1a755",
            "a804854c565a4e039db950bbbfb02ff4",
            "58c314865c2d49e4b9194160515f0bea",
            "94c5609a7bef4d8eba8eef716cfe4313",
            "44350a548d9b40989ea1099b9d476b66",
            "27b640abc4e24cf9a61558084cd07c22",
            "e36a87d9f0564061a7e90c1ee063f093",
            "aa56e201dbf14117ae726c741b05db97",
            "edabb38f15d645b4b9b63d2893526a75",
            "696b567eedaa446eadd7a7ffaddfff20",
            "52dce80ad07642a1a0ee98b9743183c8",
            "12469eea4d4f492fbfa93ab62fcd47fb",
            "d7ecc1f63a124b859bbdff8eeb54d86a"
          ]
        },
        "id": "s-9fpvEfMmsg",
        "outputId": "2470b95f-662b-4175-f718-126cdf7ede37"
      },
      "execution_count": 5,
      "outputs": [
        {
          "output_type": "display_data",
          "data": {
            "text/plain": [
              "Map:   0%|          | 0/9741 [00:00<?, ? examples/s]"
            ],
            "application/vnd.jupyter.widget-view+json": {
              "version_major": 2,
              "version_minor": 0,
              "model_id": "a6b5fb2bdfee494a98180dcdf0619f9b"
            }
          },
          "metadata": {}
        },
        {
          "output_type": "display_data",
          "data": {
            "text/plain": [
              "Map:   0%|          | 0/1221 [00:00<?, ? examples/s]"
            ],
            "application/vnd.jupyter.widget-view+json": {
              "version_major": 2,
              "version_minor": 0,
              "model_id": "58c314865c2d49e4b9194160515f0bea"
            }
          },
          "metadata": {}
        }
      ]
    },
    {
      "cell_type": "code",
      "source": [
        "tokenized_train.to_pandas().head()"
      ],
      "metadata": {
        "colab": {
          "base_uri": "https://localhost:8080/",
          "height": 206
        },
        "id": "YqxOtlUMNOTF",
        "outputId": "ca05cf84-fca8-4eeb-f855-a3423505fe38"
      },
      "execution_count": 6,
      "outputs": [
        {
          "output_type": "execute_result",
          "data": {
            "text/plain": [
              "                                           input_ids  \\\n",
              "0  [48, 25, 383, 9388, 1028, 262, 1524, 547, 257,...   \n",
              "1  [48, 25, 44067, 2227, 284, 467, 284, 810, 262,...   \n",
              "2  [48, 25, 1675, 17276, 257, 442, 11020, 407, 51...   \n",
              "3  [48, 25, 3012, 20347, 290, 584, 12763, 290, 46...   \n",
              "4  [48, 25, 383, 21831, 6807, 422, 262, 1748, 656...   \n",
              "\n",
              "                                      attention_mask  \\\n",
              "0  [1, 1, 1, 1, 1, 1, 1, 1, 1, 1, 1, 1, 1, 1, 1, ...   \n",
              "1  [1, 1, 1, 1, 1, 1, 1, 1, 1, 1, 1, 1, 1, 1, 1, ...   \n",
              "2  [1, 1, 1, 1, 1, 1, 1, 1, 1, 1, 1, 1, 1, 1, 1, ...   \n",
              "3  [1, 1, 1, 1, 1, 1, 1, 1, 1, 1, 1, 1, 1, 1, 1, ...   \n",
              "4  [1, 1, 1, 1, 1, 1, 1, 1, 1, 1, 1, 1, 1, 1, 1, ...   \n",
              "\n",
              "                                              labels  \n",
              "0  [-inf, -inf, -inf, -inf, -inf, -inf, -inf, -in...  \n",
              "1  [-inf, -inf, -inf, -inf, -inf, -inf, -inf, -in...  \n",
              "2  [-inf, -inf, -inf, -inf, -inf, -inf, -inf, -in...  \n",
              "3  [-inf, -inf, -inf, -inf, -inf, -inf, -inf, -in...  \n",
              "4  [-inf, -inf, -inf, -inf, -inf, -inf, -inf, -in...  "
            ],
            "text/html": [
              "\n",
              "  <div id=\"df-fa4a5bcf-dcc5-4c08-94d4-bc9815ac6324\" class=\"colab-df-container\">\n",
              "    <div>\n",
              "<style scoped>\n",
              "    .dataframe tbody tr th:only-of-type {\n",
              "        vertical-align: middle;\n",
              "    }\n",
              "\n",
              "    .dataframe tbody tr th {\n",
              "        vertical-align: top;\n",
              "    }\n",
              "\n",
              "    .dataframe thead th {\n",
              "        text-align: right;\n",
              "    }\n",
              "</style>\n",
              "<table border=\"1\" class=\"dataframe\">\n",
              "  <thead>\n",
              "    <tr style=\"text-align: right;\">\n",
              "      <th></th>\n",
              "      <th>input_ids</th>\n",
              "      <th>attention_mask</th>\n",
              "      <th>labels</th>\n",
              "    </tr>\n",
              "  </thead>\n",
              "  <tbody>\n",
              "    <tr>\n",
              "      <th>0</th>\n",
              "      <td>[48, 25, 383, 9388, 1028, 262, 1524, 547, 257,...</td>\n",
              "      <td>[1, 1, 1, 1, 1, 1, 1, 1, 1, 1, 1, 1, 1, 1, 1, ...</td>\n",
              "      <td>[-inf, -inf, -inf, -inf, -inf, -inf, -inf, -in...</td>\n",
              "    </tr>\n",
              "    <tr>\n",
              "      <th>1</th>\n",
              "      <td>[48, 25, 44067, 2227, 284, 467, 284, 810, 262,...</td>\n",
              "      <td>[1, 1, 1, 1, 1, 1, 1, 1, 1, 1, 1, 1, 1, 1, 1, ...</td>\n",
              "      <td>[-inf, -inf, -inf, -inf, -inf, -inf, -inf, -in...</td>\n",
              "    </tr>\n",
              "    <tr>\n",
              "      <th>2</th>\n",
              "      <td>[48, 25, 1675, 17276, 257, 442, 11020, 407, 51...</td>\n",
              "      <td>[1, 1, 1, 1, 1, 1, 1, 1, 1, 1, 1, 1, 1, 1, 1, ...</td>\n",
              "      <td>[-inf, -inf, -inf, -inf, -inf, -inf, -inf, -in...</td>\n",
              "    </tr>\n",
              "    <tr>\n",
              "      <th>3</th>\n",
              "      <td>[48, 25, 3012, 20347, 290, 584, 12763, 290, 46...</td>\n",
              "      <td>[1, 1, 1, 1, 1, 1, 1, 1, 1, 1, 1, 1, 1, 1, 1, ...</td>\n",
              "      <td>[-inf, -inf, -inf, -inf, -inf, -inf, -inf, -in...</td>\n",
              "    </tr>\n",
              "    <tr>\n",
              "      <th>4</th>\n",
              "      <td>[48, 25, 383, 21831, 6807, 422, 262, 1748, 656...</td>\n",
              "      <td>[1, 1, 1, 1, 1, 1, 1, 1, 1, 1, 1, 1, 1, 1, 1, ...</td>\n",
              "      <td>[-inf, -inf, -inf, -inf, -inf, -inf, -inf, -in...</td>\n",
              "    </tr>\n",
              "  </tbody>\n",
              "</table>\n",
              "</div>\n",
              "    <div class=\"colab-df-buttons\">\n",
              "\n",
              "  <div class=\"colab-df-container\">\n",
              "    <button class=\"colab-df-convert\" onclick=\"convertToInteractive('df-fa4a5bcf-dcc5-4c08-94d4-bc9815ac6324')\"\n",
              "            title=\"Convert this dataframe to an interactive table.\"\n",
              "            style=\"display:none;\">\n",
              "\n",
              "  <svg xmlns=\"http://www.w3.org/2000/svg\" height=\"24px\" viewBox=\"0 -960 960 960\">\n",
              "    <path d=\"M120-120v-720h720v720H120Zm60-500h600v-160H180v160Zm220 220h160v-160H400v160Zm0 220h160v-160H400v160ZM180-400h160v-160H180v160Zm440 0h160v-160H620v160ZM180-180h160v-160H180v160Zm440 0h160v-160H620v160Z\"/>\n",
              "  </svg>\n",
              "    </button>\n",
              "\n",
              "  <style>\n",
              "    .colab-df-container {\n",
              "      display:flex;\n",
              "      gap: 12px;\n",
              "    }\n",
              "\n",
              "    .colab-df-convert {\n",
              "      background-color: #E8F0FE;\n",
              "      border: none;\n",
              "      border-radius: 50%;\n",
              "      cursor: pointer;\n",
              "      display: none;\n",
              "      fill: #1967D2;\n",
              "      height: 32px;\n",
              "      padding: 0 0 0 0;\n",
              "      width: 32px;\n",
              "    }\n",
              "\n",
              "    .colab-df-convert:hover {\n",
              "      background-color: #E2EBFA;\n",
              "      box-shadow: 0px 1px 2px rgba(60, 64, 67, 0.3), 0px 1px 3px 1px rgba(60, 64, 67, 0.15);\n",
              "      fill: #174EA6;\n",
              "    }\n",
              "\n",
              "    .colab-df-buttons div {\n",
              "      margin-bottom: 4px;\n",
              "    }\n",
              "\n",
              "    [theme=dark] .colab-df-convert {\n",
              "      background-color: #3B4455;\n",
              "      fill: #D2E3FC;\n",
              "    }\n",
              "\n",
              "    [theme=dark] .colab-df-convert:hover {\n",
              "      background-color: #434B5C;\n",
              "      box-shadow: 0px 1px 3px 1px rgba(0, 0, 0, 0.15);\n",
              "      filter: drop-shadow(0px 1px 2px rgba(0, 0, 0, 0.3));\n",
              "      fill: #FFFFFF;\n",
              "    }\n",
              "  </style>\n",
              "\n",
              "    <script>\n",
              "      const buttonEl =\n",
              "        document.querySelector('#df-fa4a5bcf-dcc5-4c08-94d4-bc9815ac6324 button.colab-df-convert');\n",
              "      buttonEl.style.display =\n",
              "        google.colab.kernel.accessAllowed ? 'block' : 'none';\n",
              "\n",
              "      async function convertToInteractive(key) {\n",
              "        const element = document.querySelector('#df-fa4a5bcf-dcc5-4c08-94d4-bc9815ac6324');\n",
              "        const dataTable =\n",
              "          await google.colab.kernel.invokeFunction('convertToInteractive',\n",
              "                                                    [key], {});\n",
              "        if (!dataTable) return;\n",
              "\n",
              "        const docLinkHtml = 'Like what you see? Visit the ' +\n",
              "          '<a target=\"_blank\" href=https://colab.research.google.com/notebooks/data_table.ipynb>data table notebook</a>'\n",
              "          + ' to learn more about interactive tables.';\n",
              "        element.innerHTML = '';\n",
              "        dataTable['output_type'] = 'display_data';\n",
              "        await google.colab.output.renderOutput(dataTable, element);\n",
              "        const docLink = document.createElement('div');\n",
              "        docLink.innerHTML = docLinkHtml;\n",
              "        element.appendChild(docLink);\n",
              "      }\n",
              "    </script>\n",
              "  </div>\n",
              "\n",
              "\n",
              "<div id=\"df-baf43000-7373-4417-ad27-30af8c70fa9c\">\n",
              "  <button class=\"colab-df-quickchart\" onclick=\"quickchart('df-baf43000-7373-4417-ad27-30af8c70fa9c')\"\n",
              "            title=\"Suggest charts\"\n",
              "            style=\"display:none;\">\n",
              "\n",
              "<svg xmlns=\"http://www.w3.org/2000/svg\" height=\"24px\"viewBox=\"0 0 24 24\"\n",
              "     width=\"24px\">\n",
              "    <g>\n",
              "        <path d=\"M19 3H5c-1.1 0-2 .9-2 2v14c0 1.1.9 2 2 2h14c1.1 0 2-.9 2-2V5c0-1.1-.9-2-2-2zM9 17H7v-7h2v7zm4 0h-2V7h2v10zm4 0h-2v-4h2v4z\"/>\n",
              "    </g>\n",
              "</svg>\n",
              "  </button>\n",
              "\n",
              "<style>\n",
              "  .colab-df-quickchart {\n",
              "      --bg-color: #E8F0FE;\n",
              "      --fill-color: #1967D2;\n",
              "      --hover-bg-color: #E2EBFA;\n",
              "      --hover-fill-color: #174EA6;\n",
              "      --disabled-fill-color: #AAA;\n",
              "      --disabled-bg-color: #DDD;\n",
              "  }\n",
              "\n",
              "  [theme=dark] .colab-df-quickchart {\n",
              "      --bg-color: #3B4455;\n",
              "      --fill-color: #D2E3FC;\n",
              "      --hover-bg-color: #434B5C;\n",
              "      --hover-fill-color: #FFFFFF;\n",
              "      --disabled-bg-color: #3B4455;\n",
              "      --disabled-fill-color: #666;\n",
              "  }\n",
              "\n",
              "  .colab-df-quickchart {\n",
              "    background-color: var(--bg-color);\n",
              "    border: none;\n",
              "    border-radius: 50%;\n",
              "    cursor: pointer;\n",
              "    display: none;\n",
              "    fill: var(--fill-color);\n",
              "    height: 32px;\n",
              "    padding: 0;\n",
              "    width: 32px;\n",
              "  }\n",
              "\n",
              "  .colab-df-quickchart:hover {\n",
              "    background-color: var(--hover-bg-color);\n",
              "    box-shadow: 0 1px 2px rgba(60, 64, 67, 0.3), 0 1px 3px 1px rgba(60, 64, 67, 0.15);\n",
              "    fill: var(--button-hover-fill-color);\n",
              "  }\n",
              "\n",
              "  .colab-df-quickchart-complete:disabled,\n",
              "  .colab-df-quickchart-complete:disabled:hover {\n",
              "    background-color: var(--disabled-bg-color);\n",
              "    fill: var(--disabled-fill-color);\n",
              "    box-shadow: none;\n",
              "  }\n",
              "\n",
              "  .colab-df-spinner {\n",
              "    border: 2px solid var(--fill-color);\n",
              "    border-color: transparent;\n",
              "    border-bottom-color: var(--fill-color);\n",
              "    animation:\n",
              "      spin 1s steps(1) infinite;\n",
              "  }\n",
              "\n",
              "  @keyframes spin {\n",
              "    0% {\n",
              "      border-color: transparent;\n",
              "      border-bottom-color: var(--fill-color);\n",
              "      border-left-color: var(--fill-color);\n",
              "    }\n",
              "    20% {\n",
              "      border-color: transparent;\n",
              "      border-left-color: var(--fill-color);\n",
              "      border-top-color: var(--fill-color);\n",
              "    }\n",
              "    30% {\n",
              "      border-color: transparent;\n",
              "      border-left-color: var(--fill-color);\n",
              "      border-top-color: var(--fill-color);\n",
              "      border-right-color: var(--fill-color);\n",
              "    }\n",
              "    40% {\n",
              "      border-color: transparent;\n",
              "      border-right-color: var(--fill-color);\n",
              "      border-top-color: var(--fill-color);\n",
              "    }\n",
              "    60% {\n",
              "      border-color: transparent;\n",
              "      border-right-color: var(--fill-color);\n",
              "    }\n",
              "    80% {\n",
              "      border-color: transparent;\n",
              "      border-right-color: var(--fill-color);\n",
              "      border-bottom-color: var(--fill-color);\n",
              "    }\n",
              "    90% {\n",
              "      border-color: transparent;\n",
              "      border-bottom-color: var(--fill-color);\n",
              "    }\n",
              "  }\n",
              "</style>\n",
              "\n",
              "  <script>\n",
              "    async function quickchart(key) {\n",
              "      const quickchartButtonEl =\n",
              "        document.querySelector('#' + key + ' button');\n",
              "      quickchartButtonEl.disabled = true;  // To prevent multiple clicks.\n",
              "      quickchartButtonEl.classList.add('colab-df-spinner');\n",
              "      try {\n",
              "        const charts = await google.colab.kernel.invokeFunction(\n",
              "            'suggestCharts', [key], {});\n",
              "      } catch (error) {\n",
              "        console.error('Error during call to suggestCharts:', error);\n",
              "      }\n",
              "      quickchartButtonEl.classList.remove('colab-df-spinner');\n",
              "      quickchartButtonEl.classList.add('colab-df-quickchart-complete');\n",
              "    }\n",
              "    (() => {\n",
              "      let quickchartButtonEl =\n",
              "        document.querySelector('#df-baf43000-7373-4417-ad27-30af8c70fa9c button');\n",
              "      quickchartButtonEl.style.display =\n",
              "        google.colab.kernel.accessAllowed ? 'block' : 'none';\n",
              "    })();\n",
              "  </script>\n",
              "</div>\n",
              "\n",
              "    </div>\n",
              "  </div>\n"
            ],
            "application/vnd.google.colaboratory.intrinsic+json": {
              "type": "dataframe",
              "summary": "{\n  \"name\": \"tokenized_train\",\n  \"rows\": 5,\n  \"fields\": [\n    {\n      \"column\": \"input_ids\",\n      \"properties\": {\n        \"dtype\": \"object\",\n        \"semantic_type\": \"\",\n        \"description\": \"\"\n      }\n    },\n    {\n      \"column\": \"attention_mask\",\n      \"properties\": {\n        \"dtype\": \"object\",\n        \"semantic_type\": \"\",\n        \"description\": \"\"\n      }\n    },\n    {\n      \"column\": \"labels\",\n      \"properties\": {\n        \"dtype\": \"object\",\n        \"semantic_type\": \"\",\n        \"description\": \"\"\n      }\n    }\n  ]\n}"
            }
          },
          "metadata": {},
          "execution_count": 6
        }
      ]
    },
    {
      "cell_type": "code",
      "source": [
        "from transformers import Trainer, TrainingArguments, DataCollatorForLanguageModeling\n",
        "\n",
        "data_collator = DataCollatorForLanguageModeling(\n",
        "    tokenizer=tokenizer,\n",
        "    mlm=False\n",
        ")\n",
        "\n",
        "\n",
        "training_args = TrainingArguments(\n",
        "    output_dir=f\"./IA3_{model_name}\",\n",
        "    per_device_train_batch_size=8,\n",
        "    per_device_eval_batch_size=8,\n",
        "    num_train_epochs=3,\n",
        "    eval_strategy=\"steps\",\n",
        "    eval_steps=100,\n",
        "    save_steps=1000,\n",
        "    logging_dir=\"./logs\",\n",
        "    logging_steps=100,\n",
        "    report_to=\"none\",\n",
        "\n",
        "    learning_rate=5e-3,\n",
        "\n",
        ")\n",
        "\n",
        "trainer = Trainer(\n",
        "    model=peft_model,\n",
        "    args=training_args,\n",
        "    train_dataset=tokenized_train,\n",
        "    eval_dataset=tokenized_eval,\n",
        "    data_collator=data_collator,\n",
        ")\n",
        "\n",
        "\n",
        "trainer.train()\n",
        "\n"
      ],
      "metadata": {
        "colab": {
          "base_uri": "https://localhost:8080/",
          "height": 1000
        },
        "id": "kJt3imCsNQEd",
        "outputId": "453b9069-eb66-4887-a9d1-1086951c23f3"
      },
      "execution_count": 7,
      "outputs": [
        {
          "output_type": "stream",
          "name": "stderr",
          "text": [
            "No label_names provided for model class `PeftModel`. Since `PeftModel` hides base models input arguments, if label_names is not given, label_names can't be set automatically within `Trainer`. Note that empty label_names list will be used instead.\n",
            "`loss_type=None` was set in the config but it is unrecognised.Using the default loss: `ForCausalLMLoss`.\n"
          ]
        },
        {
          "output_type": "display_data",
          "data": {
            "text/plain": [
              "<IPython.core.display.HTML object>"
            ],
            "text/html": [
              "\n",
              "    <div>\n",
              "      \n",
              "      <progress value='3654' max='3654' style='width:300px; height:20px; vertical-align: middle;'></progress>\n",
              "      [3654/3654 10:08, Epoch 3/3]\n",
              "    </div>\n",
              "    <table border=\"1\" class=\"dataframe\">\n",
              "  <thead>\n",
              " <tr style=\"text-align: left;\">\n",
              "      <th>Step</th>\n",
              "      <th>Training Loss</th>\n",
              "      <th>Validation Loss</th>\n",
              "    </tr>\n",
              "  </thead>\n",
              "  <tbody>\n",
              "    <tr>\n",
              "      <td>100</td>\n",
              "      <td>3.308800</td>\n",
              "      <td>No log</td>\n",
              "    </tr>\n",
              "    <tr>\n",
              "      <td>200</td>\n",
              "      <td>3.133700</td>\n",
              "      <td>No log</td>\n",
              "    </tr>\n",
              "    <tr>\n",
              "      <td>300</td>\n",
              "      <td>3.112100</td>\n",
              "      <td>No log</td>\n",
              "    </tr>\n",
              "    <tr>\n",
              "      <td>400</td>\n",
              "      <td>3.155500</td>\n",
              "      <td>No log</td>\n",
              "    </tr>\n",
              "    <tr>\n",
              "      <td>500</td>\n",
              "      <td>3.128600</td>\n",
              "      <td>No log</td>\n",
              "    </tr>\n",
              "    <tr>\n",
              "      <td>600</td>\n",
              "      <td>3.117100</td>\n",
              "      <td>No log</td>\n",
              "    </tr>\n",
              "    <tr>\n",
              "      <td>700</td>\n",
              "      <td>3.137500</td>\n",
              "      <td>No log</td>\n",
              "    </tr>\n",
              "    <tr>\n",
              "      <td>800</td>\n",
              "      <td>3.108600</td>\n",
              "      <td>No log</td>\n",
              "    </tr>\n",
              "    <tr>\n",
              "      <td>900</td>\n",
              "      <td>3.081300</td>\n",
              "      <td>No log</td>\n",
              "    </tr>\n",
              "    <tr>\n",
              "      <td>1000</td>\n",
              "      <td>3.079300</td>\n",
              "      <td>No log</td>\n",
              "    </tr>\n",
              "    <tr>\n",
              "      <td>1100</td>\n",
              "      <td>3.047200</td>\n",
              "      <td>No log</td>\n",
              "    </tr>\n",
              "    <tr>\n",
              "      <td>1200</td>\n",
              "      <td>3.018800</td>\n",
              "      <td>No log</td>\n",
              "    </tr>\n",
              "    <tr>\n",
              "      <td>1300</td>\n",
              "      <td>2.926300</td>\n",
              "      <td>No log</td>\n",
              "    </tr>\n",
              "    <tr>\n",
              "      <td>1400</td>\n",
              "      <td>2.929400</td>\n",
              "      <td>No log</td>\n",
              "    </tr>\n",
              "    <tr>\n",
              "      <td>1500</td>\n",
              "      <td>2.926600</td>\n",
              "      <td>No log</td>\n",
              "    </tr>\n",
              "    <tr>\n",
              "      <td>1600</td>\n",
              "      <td>2.885800</td>\n",
              "      <td>No log</td>\n",
              "    </tr>\n",
              "    <tr>\n",
              "      <td>1700</td>\n",
              "      <td>2.890200</td>\n",
              "      <td>No log</td>\n",
              "    </tr>\n",
              "    <tr>\n",
              "      <td>1800</td>\n",
              "      <td>2.858900</td>\n",
              "      <td>No log</td>\n",
              "    </tr>\n",
              "    <tr>\n",
              "      <td>1900</td>\n",
              "      <td>2.839900</td>\n",
              "      <td>No log</td>\n",
              "    </tr>\n",
              "    <tr>\n",
              "      <td>2000</td>\n",
              "      <td>2.846700</td>\n",
              "      <td>No log</td>\n",
              "    </tr>\n",
              "    <tr>\n",
              "      <td>2100</td>\n",
              "      <td>2.830000</td>\n",
              "      <td>No log</td>\n",
              "    </tr>\n",
              "    <tr>\n",
              "      <td>2200</td>\n",
              "      <td>2.792500</td>\n",
              "      <td>No log</td>\n",
              "    </tr>\n",
              "    <tr>\n",
              "      <td>2300</td>\n",
              "      <td>2.790800</td>\n",
              "      <td>No log</td>\n",
              "    </tr>\n",
              "    <tr>\n",
              "      <td>2400</td>\n",
              "      <td>2.760100</td>\n",
              "      <td>No log</td>\n",
              "    </tr>\n",
              "    <tr>\n",
              "      <td>2500</td>\n",
              "      <td>2.717200</td>\n",
              "      <td>No log</td>\n",
              "    </tr>\n",
              "    <tr>\n",
              "      <td>2600</td>\n",
              "      <td>2.633400</td>\n",
              "      <td>No log</td>\n",
              "    </tr>\n",
              "    <tr>\n",
              "      <td>2700</td>\n",
              "      <td>2.649100</td>\n",
              "      <td>No log</td>\n",
              "    </tr>\n",
              "    <tr>\n",
              "      <td>2800</td>\n",
              "      <td>2.585500</td>\n",
              "      <td>No log</td>\n",
              "    </tr>\n",
              "    <tr>\n",
              "      <td>2900</td>\n",
              "      <td>2.616500</td>\n",
              "      <td>No log</td>\n",
              "    </tr>\n",
              "    <tr>\n",
              "      <td>3000</td>\n",
              "      <td>2.580400</td>\n",
              "      <td>No log</td>\n",
              "    </tr>\n",
              "    <tr>\n",
              "      <td>3100</td>\n",
              "      <td>2.552600</td>\n",
              "      <td>No log</td>\n",
              "    </tr>\n",
              "    <tr>\n",
              "      <td>3200</td>\n",
              "      <td>2.547200</td>\n",
              "      <td>No log</td>\n",
              "    </tr>\n",
              "    <tr>\n",
              "      <td>3300</td>\n",
              "      <td>2.553500</td>\n",
              "      <td>No log</td>\n",
              "    </tr>\n",
              "    <tr>\n",
              "      <td>3400</td>\n",
              "      <td>2.527800</td>\n",
              "      <td>No log</td>\n",
              "    </tr>\n",
              "    <tr>\n",
              "      <td>3500</td>\n",
              "      <td>2.524300</td>\n",
              "      <td>No log</td>\n",
              "    </tr>\n",
              "    <tr>\n",
              "      <td>3600</td>\n",
              "      <td>2.515300</td>\n",
              "      <td>No log</td>\n",
              "    </tr>\n",
              "  </tbody>\n",
              "</table><p>"
            ]
          },
          "metadata": {}
        },
        {
          "output_type": "execute_result",
          "data": {
            "text/plain": [
              "TrainOutput(global_step=3654, training_loss=2.848482901370127, metrics={'train_runtime': 609.4037, 'train_samples_per_second': 47.953, 'train_steps_per_second': 5.996, 'total_flos': 1927135929434112.0, 'train_loss': 2.848482901370127, 'epoch': 3.0})"
            ]
          },
          "metadata": {},
          "execution_count": 7
        }
      ]
    },
    {
      "cell_type": "code",
      "source": [
        "peft_model.save_pretrained(f\"./LoRA_{model_name}_final\")\n",
        "tokenizer.save_pretrained(f\"./LoRA_{model_name}_final\")"
      ],
      "metadata": {
        "colab": {
          "base_uri": "https://localhost:8080/"
        },
        "id": "p70AooaCNu4E",
        "outputId": "80da1ae6-ad7a-46a9-ee0b-c70f5b4e4b6b"
      },
      "execution_count": 8,
      "outputs": [
        {
          "output_type": "execute_result",
          "data": {
            "text/plain": [
              "('./LoRA_gpt2_final/tokenizer_config.json',\n",
              " './LoRA_gpt2_final/special_tokens_map.json',\n",
              " './LoRA_gpt2_final/vocab.json',\n",
              " './LoRA_gpt2_final/merges.txt',\n",
              " './LoRA_gpt2_final/added_tokens.json',\n",
              " './LoRA_gpt2_final/tokenizer.json')"
            ]
          },
          "metadata": {},
          "execution_count": 8
        }
      ]
    },
    {
      "cell_type": "code",
      "source": [
        "from peft import PeftModel, PeftConfig\n",
        "peft_config = PeftConfig.from_pretrained(f\"./LoRA_{model_name}_final\")\n",
        "\n",
        "base_model = AutoModelForCausalLM.from_pretrained(peft_config.base_model_name_or_path)\n",
        "model = PeftModel.from_pretrained(base_model, f\"./LoRA_{model_name}_final\")\n",
        "\n",
        "tokenizer = AutoTokenizer.from_pretrained(f\"./LoRA_{model_name}_final\")"
      ],
      "metadata": {
        "id": "d8wgbLB2Omil"
      },
      "execution_count": 9,
      "outputs": []
    },
    {
      "cell_type": "code",
      "source": [
        "from transformers import pipeline\n",
        "import torch\n",
        "from tqdm import tqdm\n",
        "\n",
        "# Use the PEFT model (already trained) and tokenizer\n",
        "peft_model.eval()\n",
        "pipe = pipeline(\"text-generation\", model=peft_model, tokenizer=tokenizer, device=0 if torch.cuda.is_available() else -1)\n",
        "\n",
        "def format_prompt(example):\n",
        "    question = example[\"question\"]\n",
        "    choices = example[\"choices\"][\"text\"]\n",
        "    prompt = f\"Q: {question}\\nO: {' /// '.join(choices)}\\nA: \"\n",
        "    return prompt, choices\n",
        "\n",
        "correct = 0\n",
        "total = 0\n",
        "\n",
        "for example in tqdm(eval_data, total=len(eval_data)):\n",
        "    prompt, choices = format_prompt(example)\n",
        "\n",
        "    # Generate prediction\n",
        "    output = pipe(prompt, max_new_tokens=10, do_sample=False, eos_token_id=tokenizer.eos_token_id)[0][\"generated_text\"]\n",
        "\n",
        "    # Extract generated answer (after \"Answer:\")\n",
        "    generated = output.split(\"\\n\")[2].split(\"A:\")[-1].strip().split(\" /// \")[0].strip()\n",
        "\n",
        "\n",
        "    # Get ground truth\n",
        "    answer_key = example[\"answerKey\"]\n",
        "    labels = example[\"choices\"][\"label\"]\n",
        "    true_answer = example[\"choices\"][\"text\"][labels.index(answer_key)].strip()\n",
        "\n",
        "    print(\"\\n\".join(output.split(\"\\n\")[:3]))\n",
        "    print(f\"\\n\\nModel: {generated} and Actual Answer: {true_answer}\")\n",
        "\n",
        "    if generated == true_answer:\n",
        "        correct += 1\n",
        "    total += 1\n",
        "\n",
        "accuracy = correct / total\n",
        "print(f\"Accuracy: {accuracy:.2%}\")\n"
      ],
      "metadata": {
        "colab": {
          "base_uri": "https://localhost:8080/"
        },
        "id": "9YyJpG3fOxXj",
        "outputId": "9fe11246-619c-4bf0-ee70-18b5999e22c0"
      },
      "execution_count": 10,
      "outputs": [
        {
          "output_type": "stream",
          "name": "stderr",
          "text": [
            "Device set to use cuda:0\n",
            "The model 'PeftModel' is not supported for text-generation. Supported models are ['AriaTextForCausalLM', 'BambaForCausalLM', 'BartForCausalLM', 'BertLMHeadModel', 'BertGenerationDecoder', 'BigBirdForCausalLM', 'BigBirdPegasusForCausalLM', 'BioGptForCausalLM', 'BlenderbotForCausalLM', 'BlenderbotSmallForCausalLM', 'BloomForCausalLM', 'CamembertForCausalLM', 'LlamaForCausalLM', 'CodeGenForCausalLM', 'CohereForCausalLM', 'Cohere2ForCausalLM', 'CpmAntForCausalLM', 'CTRLLMHeadModel', 'Data2VecTextForCausalLM', 'DbrxForCausalLM', 'DeepseekV3ForCausalLM', 'DiffLlamaForCausalLM', 'ElectraForCausalLM', 'Emu3ForCausalLM', 'ErnieForCausalLM', 'FalconForCausalLM', 'FalconMambaForCausalLM', 'FuyuForCausalLM', 'GemmaForCausalLM', 'Gemma2ForCausalLM', 'Gemma3ForConditionalGeneration', 'Gemma3ForCausalLM', 'GitForCausalLM', 'GlmForCausalLM', 'Glm4ForCausalLM', 'GotOcr2ForConditionalGeneration', 'GPT2LMHeadModel', 'GPT2LMHeadModel', 'GPTBigCodeForCausalLM', 'GPTNeoForCausalLM', 'GPTNeoXForCausalLM', 'GPTNeoXJapaneseForCausalLM', 'GPTJForCausalLM', 'GraniteForCausalLM', 'GraniteMoeForCausalLM', 'GraniteMoeSharedForCausalLM', 'HeliumForCausalLM', 'JambaForCausalLM', 'JetMoeForCausalLM', 'LlamaForCausalLM', 'Llama4ForCausalLM', 'Llama4ForCausalLM', 'MambaForCausalLM', 'Mamba2ForCausalLM', 'MarianForCausalLM', 'MBartForCausalLM', 'MegaForCausalLM', 'MegatronBertForCausalLM', 'MistralForCausalLM', 'MixtralForCausalLM', 'MllamaForCausalLM', 'MoshiForCausalLM', 'MptForCausalLM', 'MusicgenForCausalLM', 'MusicgenMelodyForCausalLM', 'MvpForCausalLM', 'NemotronForCausalLM', 'OlmoForCausalLM', 'Olmo2ForCausalLM', 'OlmoeForCausalLM', 'OpenLlamaForCausalLM', 'OpenAIGPTLMHeadModel', 'OPTForCausalLM', 'PegasusForCausalLM', 'PersimmonForCausalLM', 'PhiForCausalLM', 'Phi3ForCausalLM', 'Phi4MultimodalForCausalLM', 'PhimoeForCausalLM', 'PLBartForCausalLM', 'ProphetNetForCausalLM', 'QDQBertLMHeadModel', 'Qwen2ForCausalLM', 'Qwen2MoeForCausalLM', 'Qwen3ForCausalLM', 'Qwen3MoeForCausalLM', 'RecurrentGemmaForCausalLM', 'ReformerModelWithLMHead', 'RemBertForCausalLM', 'RobertaForCausalLM', 'RobertaPreLayerNormForCausalLM', 'RoCBertForCausalLM', 'RoFormerForCausalLM', 'RwkvForCausalLM', 'Speech2Text2ForCausalLM', 'StableLmForCausalLM', 'Starcoder2ForCausalLM', 'TransfoXLLMHeadModel', 'TrOCRForCausalLM', 'WhisperForCausalLM', 'XGLMForCausalLM', 'XLMWithLMHeadModel', 'XLMProphetNetForCausalLM', 'XLMRobertaForCausalLM', 'XLMRobertaXLForCausalLM', 'XLNetLMHeadModel', 'XmodForCausalLM', 'ZambaForCausalLM', 'Zamba2ForCausalLM'].\n",
            "  0%|          | 2/1221 [00:00<05:39,  3.59it/s]"
          ]
        },
        {
          "output_type": "stream",
          "name": "stdout",
          "text": [
            "Q: A revolving door is convenient for two direction travel, but it also serves as a security measure at a what?\n",
            "O: bank /// library /// department store /// mall /// new york\n",
            "A:  mall store store store store store store store store store\n",
            "\n",
            "\n",
            "Model: mall store store store store store store store store store and Actual Answer: bank\n",
            "Q: What do people aim to do at work?\n",
            "O: complete job /// learn from each other /// kill animals /// wear hats /// talk to each other\n",
            "A:  complete job or complete job or complete job or complete\n",
            "\n",
            "\n",
            "Model: complete job or complete job or complete job or complete and Actual Answer: complete job\n"
          ]
        },
        {
          "output_type": "stream",
          "name": "stderr",
          "text": [
            "  0%|          | 4/1221 [00:00<04:24,  4.61it/s]"
          ]
        },
        {
          "output_type": "stream",
          "name": "stdout",
          "text": [
            "Q: Where would you find magazines along side many other printed works?\n",
            "O: doctor /// bookstore /// market /// train station /// mortuary\n",
            "A:  bookstore station station station station station station station station station\n",
            "\n",
            "\n",
            "Model: bookstore station station station station station station station station station and Actual Answer: bookstore\n",
            "Q: Where are  you likely to find a hamburger?\n",
            "O: fast food restaurant /// pizza /// ground up dead cows /// mouth /// cow carcus\n",
            "A:  pizza restaurant restaurant restaurant restaurant restaurant restaurant restaurant restaurant restaurant\n",
            "\n",
            "\n",
            "Model: pizza restaurant restaurant restaurant restaurant restaurant restaurant restaurant restaurant restaurant and Actual Answer: fast food restaurant\n"
          ]
        },
        {
          "output_type": "stream",
          "name": "stderr",
          "text": [
            "  0%|          | 6/1221 [00:01<03:51,  5.24it/s]"
          ]
        },
        {
          "output_type": "stream",
          "name": "stdout",
          "text": [
            "Q: James was looking for a good place to buy farmland.  Where might he look?\n",
            "O: midwest /// countryside /// estate /// farming areas /// illinois\n",
            "A:  countryside areas.  countryside areas.  countryside areas\n",
            "\n",
            "\n",
            "Model: countryside areas.  countryside areas.  countryside areas and Actual Answer: midwest\n",
            "Q: What island country is ferret popular?\n",
            "O: own home /// north carolina /// great britain /// hutch /// outdoors\n",
            "A:  hutch carolina is ferret home country.\n",
            "\n",
            "\n",
            "Model: hutch carolina is ferret home country. and Actual Answer: great britain\n"
          ]
        },
        {
          "output_type": "stream",
          "name": "stderr",
          "text": [
            "  1%|          | 8/1221 [00:01<03:38,  5.56it/s]"
          ]
        },
        {
          "output_type": "stream",
          "name": "stdout",
          "text": [
            "Q: In what Spanish speaking North American country can you get a great cup of coffee?\n",
            "O: mildred's coffee shop /// mexico /// diner /// kitchen /// canteen\n",
            "A:  mexico cafe cafe cafe cafe cafe cafe cafe\n",
            "\n",
            "\n",
            "Model: mexico cafe cafe cafe cafe cafe cafe cafe and Actual Answer: mexico\n",
            "Q: What do animals do when an enemy is approaching?\n",
            "O: feel pleasure /// procreate /// pass water /// listen to each other /// sing\n",
            "A:  sing to each other /// sing to each other ///\n",
            "\n",
            "\n",
            "Model: sing to each other and Actual Answer: listen to each other\n"
          ]
        },
        {
          "output_type": "stream",
          "name": "stderr",
          "text": [
            "  1%|          | 10/1221 [00:02<03:33,  5.67it/s]You seem to be using the pipelines sequentially on GPU. In order to maximize efficiency please use a dataset\n"
          ]
        },
        {
          "output_type": "stream",
          "name": "stdout",
          "text": [
            "Q: Reading newspaper one of many ways to practice your what?\n",
            "O: literacy /// knowing how to read /// money /// buying /// money bank\n",
            "A:  literacy bank account bank account account account account account account\n",
            "\n",
            "\n",
            "Model: literacy bank account bank account account account account account account and Actual Answer: literacy\n",
            "Q: What do people typically do while playing guitar?\n",
            "O: cry /// hear sounds /// singing /// arthritis /// making music\n",
            "A:  sing sounds sounds sounds sounds sounds sounds sounds sounds sounds\n",
            "\n",
            "\n",
            "Model: sing sounds sounds sounds sounds sounds sounds sounds sounds sounds and Actual Answer: singing\n"
          ]
        },
        {
          "output_type": "stream",
          "name": "stderr",
          "text": [
            "  1%|          | 12/1221 [00:02<03:29,  5.78it/s]"
          ]
        },
        {
          "output_type": "stream",
          "name": "stdout",
          "text": [
            "Q: What would vinyl be an odd thing to replace?\n",
            "O: pants /// record albums /// record store /// cheese /// wallpaper\n",
            "A:  record albums and record albums /// record albums and record\n",
            "\n",
            "\n",
            "Model: record albums and record albums and Actual Answer: wallpaper\n",
            "Q: If you want harmony, what is something you should try to do with the world?\n",
            "O: take time /// make noise /// make war /// make peace /// make haste\n",
            "A:  make peace /// make peace /// make peace\n",
            "\n",
            "\n",
            "Model: make peace and Actual Answer: make peace\n"
          ]
        },
        {
          "output_type": "stream",
          "name": "stderr",
          "text": [
            "  1%|          | 14/1221 [00:02<03:25,  5.87it/s]"
          ]
        },
        {
          "output_type": "stream",
          "name": "stdout",
          "text": [
            "Q: Where does a heifer's master live?\n",
            "O: farm house /// barnyard /// stockyard /// slaughter house /// eat cake\n",
            "A:  barnyard houseyard yard yard yard yard yard yard\n",
            "\n",
            "\n",
            "Model: barnyard houseyard yard yard yard yard yard yard and Actual Answer: farm house\n",
            "Q: Aside from water and nourishment what does your dog need?\n",
            "O: bone /// charm /// petted /// lots of attention /// walked\n",
            "A:  petted by petted by petted by pet\n",
            "\n",
            "\n",
            "Model: petted by petted by petted by pet and Actual Answer: lots of attention\n"
          ]
        },
        {
          "output_type": "stream",
          "name": "stderr",
          "text": [
            "  1%|▏         | 16/1221 [00:03<03:25,  5.86it/s]"
          ]
        },
        {
          "output_type": "stream",
          "name": "stdout",
          "text": [
            "Q: Janet was watching the film because she liked what?\n",
            "O: erection /// laughter /// being entertained /// fear /// bordem\n",
            "A:  being entertained by people who are entertained by people who\n",
            "\n",
            "\n",
            "Model: being entertained by people who are entertained by people who and Actual Answer: being entertained\n",
            "Q: What are you waiting alongside with when you're in a reception area?\n",
            "O: motel /// chair /// hospital /// people /// hotels\n",
            "A:  hotel hotel hotel hotel hotel hotel hotel hotel hotel hotel\n",
            "\n",
            "\n",
            "Model: hotel hotel hotel hotel hotel hotel hotel hotel hotel hotel and Actual Answer: people\n"
          ]
        },
        {
          "output_type": "stream",
          "name": "stderr",
          "text": [
            "  1%|▏         | 18/1221 [00:03<03:24,  5.88it/s]"
          ]
        },
        {
          "output_type": "stream",
          "name": "stdout",
          "text": [
            "Q: When drinking booze what can you do to stay busy?\n",
            "O: reach tentative agreement /// stay in bed /// stop bicycle /// examine thing /// suicide\n",
            "A:  reach tentative agreement with thing to reach tentative agreement with\n",
            "\n",
            "\n",
            "Model: reach tentative agreement with thing to reach tentative agreement with and Actual Answer: examine thing\n",
            "Q: A fencing thrust with a sharp sword towards a person would result in what?\n",
            "O: injury /// small cuts /// fever /// competition /// puncture wound\n",
            "A:  injury wound wound wound wound wound wound wound wound wound\n",
            "\n",
            "\n",
            "Model: injury wound wound wound wound wound wound wound wound wound and Actual Answer: puncture wound\n"
          ]
        },
        {
          "output_type": "stream",
          "name": "stderr",
          "text": [
            "  2%|▏         | 20/1221 [00:03<03:25,  5.85it/s]"
          ]
        },
        {
          "output_type": "stream",
          "name": "stdout",
          "text": [
            "Q: Unlike a spider and his many sight seers, people only have what?\n",
            "O: tongues /// names /// brains /// feelings /// two eyes\n",
            "A:  tongues and brains and brains and brains and brains and\n",
            "\n",
            "\n",
            "Model: tongues and brains and brains and brains and brains and and Actual Answer: two eyes\n",
            "Q: Where do adults use glue sticks?\n",
            "O: classroom /// desk drawer /// at school /// office /// kitchen drawer\n",
            "A:  classroom drawer drawer drawer drawer drawer drawer drawer drawer drawer\n",
            "\n",
            "\n",
            "Model: classroom drawer drawer drawer drawer drawer drawer drawer drawer drawer and Actual Answer: office\n"
          ]
        },
        {
          "output_type": "stream",
          "name": "stderr",
          "text": [
            "  2%|▏         | 22/1221 [00:04<03:25,  5.85it/s]"
          ]
        },
        {
          "output_type": "stream",
          "name": "stdout",
          "text": [
            "Q: What could go on top of wood?\n",
            "O: lumberyard /// synagogue /// floor /// carpet /// hardware store\n",
            "A:  carpet store store store store store store store store store\n",
            "\n",
            "\n",
            "Model: carpet store store store store store store store store store and Actual Answer: carpet\n",
            "Q: The artist was sitting quietly pondering, then suddenly he began to paint when what struck him?\n",
            "O: sadness /// anxiety /// inspiration /// discomfort /// insights\n",
            "A:  inspiration inspiration inspiration inspiration inspiration inspiration inspiration inspiration inspiration inspiration\n",
            "\n",
            "\n",
            "Model: inspiration inspiration inspiration inspiration inspiration inspiration inspiration inspiration inspiration inspiration and Actual Answer: inspiration\n"
          ]
        },
        {
          "output_type": "stream",
          "name": "stderr",
          "text": [
            "  2%|▏         | 24/1221 [00:04<03:23,  5.88it/s]"
          ]
        },
        {
          "output_type": "stream",
          "name": "stdout",
          "text": [
            "Q: Though the thin film seemed fragile, for it's intended purpose it was actually nearly what?\n",
            "O: indestructible /// durable /// undestroyable /// indestructible /// unbreakable\n",
            "A:  indestructible\n",
            "\n",
            "\n",
            "Model: indestructible and Actual Answer: indestructible\n",
            "Q: Where could you find a toilet that only friends can use?\n",
            "O: rest area /// school /// stadium /// apartment /// hospital\n",
            "A:  hospital building /// hospital building /// hospital building\n",
            "\n",
            "\n",
            "Model: hospital building and Actual Answer: apartment\n"
          ]
        },
        {
          "output_type": "stream",
          "name": "stderr",
          "text": [
            "  2%|▏         | 26/1221 [00:04<03:22,  5.91it/s]"
          ]
        },
        {
          "output_type": "stream",
          "name": "stdout",
          "text": [
            "Q: What is someone who isn't clever, bright, or competent called?\n",
            "O: clumsy /// ineffectual /// dull /// clumsy /// stupid\n",
            "A:  stupid, ineffectual or ineffectual in\n",
            "\n",
            "\n",
            "Model: stupid, ineffectual or ineffectual in and Actual Answer: stupid\n",
            "Q: When wildlife reproduce we often refer to what comes out as what?\n",
            "O: raise children /// have children /// photo copy /// offspring /// accidently got pregnant somehow\n",
            "A:  offspring offspring offspring offspring offspring offspring offspring offspring offspring offspring\n",
            "\n",
            "\n",
            "Model: offspring offspring offspring offspring offspring offspring offspring offspring offspring offspring and Actual Answer: offspring\n"
          ]
        },
        {
          "output_type": "stream",
          "name": "stderr",
          "text": [
            "  2%|▏         | 28/1221 [00:05<03:21,  5.91it/s]"
          ]
        },
        {
          "output_type": "stream",
          "name": "stdout",
          "text": [
            "Q: The weasel was becoming a problem, it kept getting into the chicken eggs kept in the what?\n",
            "O: forrest /// barn /// public office /// out of doors /// freezer\n",
            "A:  barnyard office office office office office office office office\n",
            "\n",
            "\n",
            "Model: barnyard office office office office office office office office and Actual Answer: barn\n",
            "Q: Blue read material outside of his comfort zone because he wanted to gain what?\n",
            "O: new perspective /// entertained /// understanding /// hunger /// tired eyes\n",
            "A:  new perspective view view view view view view view view\n",
            "\n",
            "\n",
            "Model: new perspective view view view view view view view view and Actual Answer: new perspective\n"
          ]
        },
        {
          "output_type": "stream",
          "name": "stderr",
          "text": [
            "  2%|▏         | 30/1221 [00:05<03:21,  5.92it/s]"
          ]
        },
        {
          "output_type": "stream",
          "name": "stdout",
          "text": [
            "Q: After he got hired he hoped for success at his what?\n",
            "O: vocation /// new job /// michigan /// working hard /// manual\n",
            "A:  new job candidate's job's job's job's\n",
            "\n",
            "\n",
            "Model: new job candidate's job's job's job's and Actual Answer: new job\n",
            "Q: Committing perjury is a serious what?\n",
            "O: indictment /// crime /// violence /// lie /// go to jail\n",
            "A:  go to jail /// go to jail /// go to\n",
            "\n",
            "\n",
            "Model: go to jail and Actual Answer: crime\n"
          ]
        },
        {
          "output_type": "stream",
          "name": "stderr",
          "text": [
            "  3%|▎         | 32/1221 [00:05<03:24,  5.80it/s]"
          ]
        },
        {
          "output_type": "stream",
          "name": "stdout",
          "text": [
            "Q: If you are prone to postpone work what will you have to do in order to finish on time?\n",
            "O: eat /// hasten /// antedate /// bring forward /// advance\n",
            "A:  hasten forward time forward forward forward forward forward forward\n",
            "\n",
            "\n",
            "Model: hasten forward time forward forward forward forward forward forward and Actual Answer: hasten\n",
            "Q: James wanted to find an old underground map from the 50s.  Where might he look for one?\n",
            "O: library /// subway station /// county engineer's office /// super market /// home\n",
            "A:  super market station station station station station station station station\n",
            "\n",
            "\n",
            "Model: super market station station station station station station station station and Actual Answer: library\n"
          ]
        },
        {
          "output_type": "stream",
          "name": "stderr",
          "text": [
            "  3%|▎         | 34/1221 [00:06<03:24,  5.81it/s]"
          ]
        },
        {
          "output_type": "stream",
          "name": "stdout",
          "text": [
            "Q: Sean was in a rush to get home, but the light turned yellow and he was forced to do what?\n",
            "O: take time /// dawdle /// go slowly /// ocean /// slow down\n",
            "A:  take time slowly down.  slow down. ///\n",
            "\n",
            "\n",
            "Model: take time slowly down.  slow down. /// and Actual Answer: slow down\n",
            "Q: Where would a person be doing when having to wait their turn?\n",
            "O: have patience /// get in line /// sing /// stand in line /// turn left\n",
            "A:  have patience and turn left line line line line line\n",
            "\n",
            "\n",
            "Model: have patience and turn left line line line line line and Actual Answer: stand in line\n"
          ]
        },
        {
          "output_type": "stream",
          "name": "stderr",
          "text": [
            "  3%|▎         | 36/1221 [00:06<03:21,  5.88it/s]"
          ]
        },
        {
          "output_type": "stream",
          "name": "stdout",
          "text": [
            "Q: She was always helping at the senior center, it brought her what?\n",
            "O: satisfaction /// heart /// feel better /// pay /// happiness\n",
            "A:  satisfaction at the senior center center center center center center\n",
            "\n",
            "\n",
            "Model: satisfaction at the senior center center center center center center and Actual Answer: happiness\n",
            "Q: The lock kept the steering wheel from moving, but the thief still took his chances and began to work on the what?\n",
            "O: keep cloesd /// train /// ignition switch /// drawer /// firearm\n",
            "A:  ignition switch switch switch switch switch switch switch switch switch\n",
            "\n",
            "\n",
            "Model: ignition switch switch switch switch switch switch switch switch switch and Actual Answer: ignition switch\n"
          ]
        },
        {
          "output_type": "stream",
          "name": "stderr",
          "text": [
            "  3%|▎         | 38/1221 [00:06<03:19,  5.92it/s]"
          ]
        },
        {
          "output_type": "stream",
          "name": "stdout",
          "text": [
            "Q: Who is a police officer likely to work for?\n",
            "O: beat /// direct traffic /// city /// street /// president\n",
            "A:  direct traffic traffic traffic traffic traffic traffic traffic traffic traffic\n",
            "\n",
            "\n",
            "Model: direct traffic traffic traffic traffic traffic traffic traffic traffic traffic and Actual Answer: city\n",
            "Q: If you have leftover cake, where would you put it?\n",
            "O: quandry /// refrigerator /// oven /// night stand /// bakery\n",
            "A:  oven\n",
            "\n",
            "\n",
            "Model: oven and Actual Answer: refrigerator\n"
          ]
        },
        {
          "output_type": "stream",
          "name": "stderr",
          "text": [
            "  3%|▎         | 40/1221 [00:07<03:20,  5.89it/s]"
          ]
        },
        {
          "output_type": "stream",
          "name": "stdout",
          "text": [
            "Q: A human wants to submerge himself in water, what should he use?\n",
            "O: whirlpool bath /// coffee cup /// cup /// soft drink /// puddle\n",
            "A:  soft drink cup cup cup cup cup cup cup cup\n",
            "\n",
            "\n",
            "Model: soft drink cup cup cup cup cup cup cup cup and Actual Answer: whirlpool bath\n",
            "Q: Where is a doormat likely to be in front of?\n",
            "O: facade /// front door /// doorway /// entrance porch /// hallway\n",
            "A:  doorway porch door door door door door door door door\n",
            "\n",
            "\n",
            "Model: doorway porch door door door door door door door door and Actual Answer: front door\n"
          ]
        },
        {
          "output_type": "stream",
          "name": "stderr",
          "text": [
            "  3%|▎         | 42/1221 [00:07<03:18,  5.93it/s]"
          ]
        },
        {
          "output_type": "stream",
          "name": "stdout",
          "text": [
            "Q: Bob the lizard lives in a warm place with lots of water.  Where does he probably live?\n",
            "O: rock /// tropical rainforest /// jazz club /// new mexico /// rocky places\n",
            "A:  rock formations /// rock formations /// tropical rainforest area\n",
            "\n",
            "\n",
            "Model: rock formations and Actual Answer: tropical rainforest\n",
            "Q: August needed  money because he was afraid that he'd be kicked out of his house.  What did he need money to do?\n",
            "O: control people /// pay bills /// hurt people /// buy food /// get things\n",
            "A:  control people who are hurt people who are hurt people\n",
            "\n",
            "\n",
            "Model: control people who are hurt people who are hurt people and Actual Answer: pay bills\n"
          ]
        },
        {
          "output_type": "stream",
          "name": "stderr",
          "text": [
            "  4%|▎         | 44/1221 [00:07<03:24,  5.75it/s]"
          ]
        },
        {
          "output_type": "stream",
          "name": "stdout",
          "text": [
            "Q: He needed more information to fix it, so he consulted the what?\n",
            "O: chickens /// google /// newspaper /// online /// manual\n",
            "A:  online newspaper article article article article article article article article\n",
            "\n",
            "\n",
            "Model: online newspaper article article article article article article article article and Actual Answer: manual\n",
            "Q: Where can you put a picture frame when it's not hung vertically?\n",
            "O: art show /// wall /// newspaper /// car /// table\n",
            "A:  wallpaper drawer drawer drawer drawer drawer drawer drawer drawer\n",
            "\n",
            "\n",
            "Model: wallpaper drawer drawer drawer drawer drawer drawer drawer drawer and Actual Answer: table\n"
          ]
        },
        {
          "output_type": "stream",
          "name": "stderr",
          "text": [
            "  4%|▍         | 46/1221 [00:08<03:20,  5.85it/s]"
          ]
        },
        {
          "output_type": "stream",
          "name": "stdout",
          "text": [
            "Q: James knew that he shouldn't have been buying beer for minors.  He didn't even get paid for it.  Why was this bad?\n",
            "O: lose money /// fun /// have no money /// broken law /// relaxation\n",
            "A:  have no money /// have no money /// have no\n",
            "\n",
            "\n",
            "Model: have no money and Actual Answer: broken law\n",
            "Q: What is the result of applying for  job?\n",
            "O: anxiety and fear /// increased workload /// praise /// less sleep /// being employed\n",
            "A:  increased workload and less sleepiness /// more sleepiness\n",
            "\n",
            "\n",
            "Model: increased workload and less sleepiness and Actual Answer: being employed\n"
          ]
        },
        {
          "output_type": "stream",
          "name": "stderr",
          "text": [
            "  4%|▍         | 48/1221 [00:08<03:18,  5.90it/s]"
          ]
        },
        {
          "output_type": "stream",
          "name": "stdout",
          "text": [
            "Q: What must someone do before they shop?\n",
            "O: get money /// have money /// bring cash /// go to market /// bring cash\n",
            "A:  bring cash to market /// bring cash to market ///\n",
            "\n",
            "\n",
            "Model: bring cash to market and Actual Answer: get money\n",
            "Q: Because John was first violin, he had to bring something important to work ever day. What did he need to bring to work?\n",
            "O: music store /// obesity /// symphony orchestra /// ochestra /// violin case\n",
            "A:  symphony orchestra orchestra case case case case case case\n",
            "\n",
            "\n",
            "Model: symphony orchestra orchestra case case case case case case and Actual Answer: violin case\n"
          ]
        },
        {
          "output_type": "stream",
          "name": "stderr",
          "text": [
            "\r  4%|▍         | 49/1221 [00:08<03:20,  5.85it/s]"
          ]
        },
        {
          "output_type": "stream",
          "name": "stdout",
          "text": [
            "Q: What is a place that usually does not have an elevator and that sometimes has a telephone book?\n",
            "O: at hotel /// kitchen /// library /// telephone booth /// house\n",
            "A:  house hotel room room room room room room room room\n",
            "\n",
            "\n",
            "Model: house hotel room room room room room room room room and Actual Answer: house\n"
          ]
        },
        {
          "output_type": "stream",
          "name": "stderr",
          "text": [
            "  4%|▍         | 51/1221 [00:09<03:27,  5.65it/s]"
          ]
        },
        {
          "output_type": "stream",
          "name": "stdout",
          "text": [
            "Q: Who is likely to be excited about a crab?\n",
            "O: fish market /// pet shop /// fishmongers /// intertidal zone /// obesity\n",
            "A:  fish market stalls stalls stalls stalls stalls stalls stalls stalls\n",
            "\n",
            "\n",
            "Model: fish market stalls stalls stalls stalls stalls stalls stalls stalls and Actual Answer: fishmongers\n",
            "Q: Where can a human find clothes that aren't pants?\n",
            "O: pants shop /// on planet earth /// dress shop /// school /// train wreck\n",
            "A:  train wreck shop shop shop shop shop shop shop shop\n",
            "\n",
            "\n",
            "Model: train wreck shop shop shop shop shop shop shop shop and Actual Answer: dress shop\n"
          ]
        },
        {
          "output_type": "stream",
          "name": "stderr",
          "text": [
            "  4%|▍         | 53/1221 [00:09<03:21,  5.81it/s]"
          ]
        },
        {
          "output_type": "stream",
          "name": "stdout",
          "text": [
            "Q: If I was getting drunk, and people couldn't understand me, what might I be having?\n",
            "O: a seizure /// slurred speech /// death /// forgetfulness /// pass out\n",
            "A:  pass out of slurred speech /// pass out of\n",
            "\n",
            "\n",
            "Model: pass out of slurred speech and Actual Answer: slurred speech\n",
            "Q: When a person is beginning work, what are they building?\n",
            "O: time /// accomplishing /// working /// momentum /// tiredness\n",
            "A:  accomplishing work time time time time time time time\n",
            "\n",
            "\n",
            "Model: accomplishing work time time time time time time time and Actual Answer: momentum\n"
          ]
        },
        {
          "output_type": "stream",
          "name": "stderr",
          "text": [
            "  5%|▍         | 55/1221 [00:09<03:22,  5.75it/s]"
          ]
        },
        {
          "output_type": "stream",
          "name": "stdout",
          "text": [
            "Q: A child wants to play, what would they likely want?\n",
            "O: fall down /// breathe /// play tag /// be dismembered by a chainsaw /// become adult\n",
            "A:  fall down down down down down down down down down\n",
            "\n",
            "\n",
            "Model: fall down down down down down down down down down and Actual Answer: play tag\n",
            "Q: Talking to the same person about the same thing over and over again is something someone can what?\n",
            "O: social life /// friendship /// eye contact /// get tired of /// learn lessons from\n",
            "A:  learn lessons from each other about each other about each\n",
            "\n",
            "\n",
            "Model: learn lessons from each other about each other about each and Actual Answer: get tired of\n"
          ]
        },
        {
          "output_type": "stream",
          "name": "stderr",
          "text": [
            "  5%|▍         | 57/1221 [00:10<03:29,  5.57it/s]"
          ]
        },
        {
          "output_type": "stream",
          "name": "stdout",
          "text": [
            "Q: The teacher doesn't tolerate noise during a test in their what?\n",
            "O: movie theatre /// bowling alley /// factory /// store /// classroom\n",
            "A:  classroom theatre theatre theatre theatre theatre theatre theatre theatre theatre\n",
            "\n",
            "\n",
            "Model: classroom theatre theatre theatre theatre theatre theatre theatre theatre theatre and Actual Answer: classroom\n",
            "Q: The freeway had no traffic and few buildings, where is it?\n",
            "O: california /// countryside /// big town /// florida /// america\n",
            "A:  california, california, calif\n",
            "\n",
            "\n",
            "Model: california, california, calif and Actual Answer: countryside\n"
          ]
        },
        {
          "output_type": "stream",
          "name": "stderr",
          "text": [
            "  5%|▍         | 59/1221 [00:10<03:21,  5.77it/s]"
          ]
        },
        {
          "output_type": "stream",
          "name": "stdout",
          "text": [
            "Q: Where would you go if you wanted to have fun with a few people?\n",
            "O: watching television /// good /// cinema /// friend's house /// fairgrounds\n",
            "A:  friend's house /// friend's house /// friend's\n",
            "\n",
            "\n",
            "Model: friend's house and Actual Answer: friend's house\n",
            "Q: If there is a place that is hot and arid, what could it be?\n",
            "O: bland /// lifeless /// sandy /// neutral /// freezing\n",
            "A:  neutral neutral neutral neutral neutral neutral neutral neutral neutral neutral\n",
            "\n",
            "\n",
            "Model: neutral neutral neutral neutral neutral neutral neutral neutral neutral neutral and Actual Answer: lifeless\n"
          ]
        },
        {
          "output_type": "stream",
          "name": "stderr",
          "text": [
            "  5%|▍         | 61/1221 [00:10<03:17,  5.86it/s]"
          ]
        },
        {
          "output_type": "stream",
          "name": "stdout",
          "text": [
            "Q: What is likely to satisfy someone's curiosity?\n",
            "O: hear news /// read book /// see favorite show /// comedy show /// go somewhere\n",
            "A:  hear favorite show show show show show show show show\n",
            "\n",
            "\n",
            "Model: hear favorite show show show show show show show show and Actual Answer: hear news\n",
            "Q: If you are in a bar in a glove shaped state where are you?\n",
            "O: in my pocket /// michigan /// new york city /// restaurant /// public house\n",
            "A:  public house city city city city city city city city\n",
            "\n",
            "\n",
            "Model: public house city city city city city city city city and Actual Answer: michigan\n"
          ]
        },
        {
          "output_type": "stream",
          "name": "stderr",
          "text": [
            "  5%|▌         | 63/1221 [00:11<03:18,  5.85it/s]"
          ]
        },
        {
          "output_type": "stream",
          "name": "stdout",
          "text": [
            "Q: Where would a computer user be using their own computer?\n",
            "O: hell /// school /// indoors /// internet cafe /// house\n",
            "A:  internet cafe cafe cafe cafe cafe cafe cafe cafe cafe\n",
            "\n",
            "\n",
            "Model: internet cafe cafe cafe cafe cafe cafe cafe cafe cafe and Actual Answer: house\n",
            "Q: Crabs live in what sort of environment?\n",
            "O: maritime /// bodies of water /// saltwater /// galapagos /// fish market\n",
            "A:  sea water marketplaces of water marketplaces of water\n",
            "\n",
            "\n",
            "Model: sea water marketplaces of water marketplaces of water and Actual Answer: saltwater\n"
          ]
        },
        {
          "output_type": "stream",
          "name": "stderr",
          "text": [
            "  5%|▌         | 65/1221 [00:11<03:16,  5.87it/s]"
          ]
        },
        {
          "output_type": "stream",
          "name": "stdout",
          "text": [
            "Q: Where can you find a snake in tall grass?\n",
            "O: tree /// in a jar /// pet shops /// feild /// tropical forest\n",
            "A:  pet shops in pet shops in pet shops in pet\n",
            "\n",
            "\n",
            "Model: pet shops in pet shops in pet shops in pet and Actual Answer: feild\n",
            "Q: What is a place that has a bench nestled in trees?\n",
            "O: state park /// bus stop /// bus depot /// statue /// train station\n",
            "A:  bus depot depot depot depot depot depot depot depot depot\n",
            "\n",
            "\n",
            "Model: bus depot depot depot depot depot depot depot depot depot and Actual Answer: state park\n"
          ]
        },
        {
          "output_type": "stream",
          "name": "stderr",
          "text": [
            "  5%|▌         | 67/1221 [00:11<03:16,  5.86it/s]"
          ]
        },
        {
          "output_type": "stream",
          "name": "stdout",
          "text": [
            "Q: Where is a human likely to go as a result of being hungry?\n",
            "O: eat in restaurant /// make bread /// have lunch /// cook dinner /// friends house\n",
            "A:  eat in restaurant restaurant restaurant restaurant restaurant restaurant restaurant restaurant\n",
            "\n",
            "\n",
            "Model: eat in restaurant restaurant restaurant restaurant restaurant restaurant restaurant restaurant and Actual Answer: eat in restaurant\n",
            "Q: He was beginning to regret taking the fight when he saw how what his opponent was?\n",
            "O: fun /// joy /// satisfaction /// confident /// pride\n",
            "A:  pride and pride and pride and pride and pride and\n",
            "\n",
            "\n",
            "Model: pride and pride and pride and pride and pride and and Actual Answer: confident\n"
          ]
        },
        {
          "output_type": "stream",
          "name": "stderr",
          "text": [
            "  6%|▌         | 69/1221 [00:12<03:17,  5.83it/s]"
          ]
        },
        {
          "output_type": "stream",
          "name": "stdout",
          "text": [
            "Q: Where would you find a single shower curtain being used?\n",
            "O: bathtub /// washing area /// hotel /// shower stall /// department store\n",
            "A:  department store stall stall stall stall stall stall stall stall\n",
            "\n",
            "\n",
            "Model: department store stall stall stall stall stall stall stall stall and Actual Answer: bathtub\n",
            "Q: Where is a good idea but not required to have a fire extinguisher?\n",
            "O: school bus /// boat /// house /// hospital /// school\n",
            "A:  school bus bus bus bus bus bus bus bus bus\n",
            "\n",
            "\n",
            "Model: school bus bus bus bus bus bus bus bus bus and Actual Answer: house\n"
          ]
        },
        {
          "output_type": "stream",
          "name": "stderr",
          "text": [
            "  6%|▌         | 71/1221 [00:12<03:20,  5.74it/s]"
          ]
        },
        {
          "output_type": "stream",
          "name": "stdout",
          "text": [
            "Q: What continent has the most castles?\n",
            "O: fairy tale /// edinburgh /// germany /// europe /// antarctica\n",
            "A:  europepepepepepe /// europe\n",
            "\n",
            "\n",
            "Model: europepepepepepe and Actual Answer: europe\n",
            "Q: If you have to read a book that is very dry and long you may become what?\n",
            "O: have time /// boring /// learn new /// enjoyable /// bored\n",
            "A:  bored and bored and bored are bored are bored.\n",
            "\n",
            "\n",
            "Model: bored and bored and bored are bored are bored. and Actual Answer: bored\n"
          ]
        },
        {
          "output_type": "stream",
          "name": "stderr",
          "text": [
            "  6%|▌         | 73/1221 [00:12<03:17,  5.82it/s]"
          ]
        },
        {
          "output_type": "stream",
          "name": "stdout",
          "text": [
            "Q: Sally used a clipboard to hold her papers while she read off names at the beginning of the day.  Where might she work?\n",
            "O: desk /// windows 95 /// office supply store /// see work /// school\n",
            "A:  office supply store store store store store store store store\n",
            "\n",
            "\n",
            "Model: office supply store store store store store store store store and Actual Answer: school\n",
            "Q: The kids didn't clean up after they had done what?\n",
            "O: learn things /// play games /// disneyland /// play with toys /// talking\n",
            "A:  play games with toys /// play games with toys ///\n",
            "\n",
            "\n",
            "Model: play games with toys and Actual Answer: play with toys\n"
          ]
        },
        {
          "output_type": "stream",
          "name": "stderr",
          "text": [
            "  6%|▌         | 75/1221 [00:13<03:15,  5.85it/s]"
          ]
        },
        {
          "output_type": "stream",
          "name": "stdout",
          "text": [
            "Q: Despite the name a pawn can be quite versatile, all the parts are important in a what?\n",
            "O: chess game /// scheme /// chess set /// checkers /// north carolina\n",
            "A:  chess set set set set /// chess set set set\n",
            "\n",
            "\n",
            "Model: chess set set set set and Actual Answer: chess game\n",
            "Q: What would not be true about a basketball if it had a hole in it but it did not lose its general shape?\n",
            "O: punctured /// popular in america /// full of air /// gone /// round\n",
            "A:  punctured in america. /// punctured in\n",
            "\n",
            "\n",
            "Model: punctured in america. and Actual Answer: full of air\n"
          ]
        },
        {
          "output_type": "stream",
          "name": "stderr",
          "text": [
            "  6%|▋         | 77/1221 [00:13<03:14,  5.87it/s]"
          ]
        },
        {
          "output_type": "stream",
          "name": "stdout",
          "text": [
            "Q: If you are awaking multiple times throughout the night because a lot is on your mind, what is a likely cause?\n",
            "O: irritability /// depression /// getting out of bed /// happiness /// discomfort\n",
            "A:  irritability or discomfort or discomfort /// discomfort or discomfort\n",
            "\n",
            "\n",
            "Model: irritability or discomfort or discomfort and Actual Answer: depression\n",
            "Q: Where does a wild bird usually live?\n",
            "O: cage /// sky /// countryside /// desert /// windowsill\n",
            "A:  countryside area /// countryside area /// countryside area\n",
            "\n",
            "\n",
            "Model: countryside area and Actual Answer: countryside\n"
          ]
        },
        {
          "output_type": "stream",
          "name": "stderr",
          "text": [
            "  6%|▋         | 79/1221 [00:13<03:14,  5.88it/s]"
          ]
        },
        {
          "output_type": "stream",
          "name": "stdout",
          "text": [
            "Q: Where would you expect to find white mice?\n",
            "O: bell cat /// bush /// attic /// countryside /// laboratory\n",
            "A:  bush cat's nest nest nest nest nest nest nest\n",
            "\n",
            "\n",
            "Model: bush cat's nest nest nest nest nest nest nest and Actual Answer: laboratory\n",
            "Q: John felt that his actions were fate.   Harry said that he could have always made a different what?\n",
            "O: free will /// choice /// will /// alcohol /// freedom\n",
            "A:  freedom will will will will will freedom will freedom will\n",
            "\n",
            "\n",
            "Model: freedom will will will will will freedom will freedom will and Actual Answer: choice\n"
          ]
        },
        {
          "output_type": "stream",
          "name": "stderr",
          "text": [
            "  7%|▋         | 81/1221 [00:14<03:13,  5.91it/s]"
          ]
        },
        {
          "output_type": "stream",
          "name": "stdout",
          "text": [
            "Q: What could committing murder prevent someone from doing?\n",
            "O: go to jail /// cry /// find god /// guilty conscience /// problems\n",
            "A:  problems arise /// problems arise /// problems arise /// problems\n",
            "\n",
            "\n",
            "Model: problems arise and Actual Answer: find god\n",
            "Q: George didn't have a car, but he still had his two feet.   His socks were smelly and his soles were blistered, but that didn't matter.  He could still do what?\n",
            "O: michigan /// walk /// stay still /// stink /// hands\n",
            "A:  stay still still still still still still still still still\n",
            "\n",
            "\n",
            "Model: stay still still still still still still still still still and Actual Answer: walk\n"
          ]
        },
        {
          "output_type": "stream",
          "name": "stderr",
          "text": [
            "  7%|▋         | 83/1221 [00:14<03:10,  5.96it/s]"
          ]
        },
        {
          "output_type": "stream",
          "name": "stdout",
          "text": [
            "Q: A crane uses many a steel cable when working a what?\n",
            "O: abaft /// ship /// winch /// construction site /// building\n",
            "A:  shipyard site site site site site site site site\n",
            "\n",
            "\n",
            "Model: shipyard site site site site site site site site and Actual Answer: construction site\n",
            "Q: What is the main purpose of farmers?\n",
            "O: raise cattle /// grow corn /// farm land /// drive tractors /// supply food\n",
            "A:  raise cattle land land land land land land land land\n",
            "\n",
            "\n",
            "Model: raise cattle land land land land land land land land and Actual Answer: supply food\n"
          ]
        },
        {
          "output_type": "stream",
          "name": "stderr",
          "text": [
            "  7%|▋         | 85/1221 [00:14<03:11,  5.94it/s]"
          ]
        },
        {
          "output_type": "stream",
          "name": "stdout",
          "text": [
            "Q: Where can I put this penny to save for later?\n",
            "O: piggy bank /// wallet /// toy /// ground /// pocket\n",
            "A:  pocket pocket pocket pocket pocket pocket pocket pocket pocket pocket\n",
            "\n",
            "\n",
            "Model: pocket pocket pocket pocket pocket pocket pocket pocket pocket pocket and Actual Answer: piggy bank\n",
            "Q: Where would you put uncooked crab meat?\n",
            "O: wharf /// red lobster /// tidepools /// boss's office /// stew pot\n",
            "A:  stew potty potty potty potty pot\n",
            "\n",
            "\n",
            "Model: stew potty potty potty potty pot and Actual Answer: stew pot\n"
          ]
        },
        {
          "output_type": "stream",
          "name": "stderr",
          "text": [
            "  7%|▋         | 87/1221 [00:15<03:10,  5.96it/s]"
          ]
        },
        {
          "output_type": "stream",
          "name": "stdout",
          "text": [
            "Q: The man had a fear of illness, so he never visited friends who were a what?\n",
            "O: sick person /// hospital /// elderly person /// graveyard /// doctor's office\n",
            "A:  hospital doctor's office office office office office office office\n",
            "\n",
            "\n",
            "Model: hospital doctor's office office office office office office office and Actual Answer: sick person\n",
            "Q: Where would you put pans if you want to bring them with you?\n",
            "O: cooking /// cook food /// kitchen /// backpack /// drawer\n",
            "A:  backpack baggie baggie baggie baggie bag\n",
            "\n",
            "\n",
            "Model: backpack baggie baggie baggie baggie bag and Actual Answer: backpack\n"
          ]
        },
        {
          "output_type": "stream",
          "name": "stderr",
          "text": [
            "  7%|▋         | 89/1221 [00:15<03:10,  5.95it/s]"
          ]
        },
        {
          "output_type": "stream",
          "name": "stdout",
          "text": [
            "Q: If you're remembering something, it's because of your what of it to begin with?\n",
            "O: knowledge /// knowing /// forgetful /// pleasure /// depression\n",
            "A:  knowledge of something of something to begin with /// knowledge\n",
            "\n",
            "\n",
            "Model: knowledge of something of something to begin with and Actual Answer: knowing\n",
            "Q: Which large land mass is home to the most monkeys?\n",
            "O: amazon basin /// friend's house /// lift number 3 /// research laboratory /// african continent\n",
            "A:  research laboratory laboratory laboratory laboratory laboratory laboratory laboratory laboratory laboratory\n",
            "\n",
            "\n",
            "Model: research laboratory laboratory laboratory laboratory laboratory laboratory laboratory laboratory laboratory and Actual Answer: african continent\n"
          ]
        },
        {
          "output_type": "stream",
          "name": "stderr",
          "text": [
            "  7%|▋         | 91/1221 [00:15<03:12,  5.88it/s]"
          ]
        },
        {
          "output_type": "stream",
          "name": "stdout",
          "text": [
            "Q: Friday was James's 5th Anniversary.  They planned on going to bed early so that they could spend a long time doing what?\n",
            "O: rest /// insomnia /// making love /// sleeping in /// texting\n",
            "A:  sleeping in bed early in bed early in bed early\n",
            "\n",
            "\n",
            "Model: sleeping in bed early in bed early in bed early and Actual Answer: making love\n",
            "Q: The teens were trying to hide that they get drink, but when they walked in the door their what gave it away?\n",
            "O: health /// fall down /// stagger /// get arrested /// vomit\n",
            "A:  fall down down down down down down down down down\n",
            "\n",
            "\n",
            "Model: fall down down down down down down down down down and Actual Answer: stagger\n"
          ]
        },
        {
          "output_type": "stream",
          "name": "stderr",
          "text": [
            "  8%|▊         | 93/1221 [00:16<03:12,  5.85it/s]"
          ]
        },
        {
          "output_type": "stream",
          "name": "stdout",
          "text": [
            "Q: You'll find a landing at the top of what?\n",
            "O: ocean /// apartment building /// stairwell /// airport /// room\n",
            "A:  stairwellwellwells of apartment building /// apartment\n",
            "\n",
            "\n",
            "Model: stairwellwellwells of apartment building and Actual Answer: stairwell\n",
            "Q: Anybody could be hired in the kitchen, what was needed of them?\n",
            "O: forget /// oil squeaky hinge /// question authority /// wash dishes /// oik squeaky hinge\n",
            "A:  question authority authority authority authority authority authority authority authority authority\n",
            "\n",
            "\n",
            "Model: question authority authority authority authority authority authority authority authority authority and Actual Answer: wash dishes\n"
          ]
        },
        {
          "output_type": "stream",
          "name": "stderr",
          "text": [
            "  8%|▊         | 95/1221 [00:16<03:11,  5.89it/s]"
          ]
        },
        {
          "output_type": "stream",
          "name": "stdout",
          "text": [
            "Q: Where can you find a number of wind instruments together in public?\n",
            "O: music store /// create music /// zoo /// music room /// symphony\n",
            "A:  symphony orchestra room /// symphony room /// sym\n",
            "\n",
            "\n",
            "Model: symphony orchestra room and Actual Answer: symphony\n",
            "Q: A mountie got off at a subway stop.  What city might he be in?\n",
            "O: urban area /// metropolis /// chicago /// new york city /// toronto\n",
            "A:  metropolis city city city city city city city city\n",
            "\n",
            "\n",
            "Model: metropolis city city city city city city city city and Actual Answer: toronto\n"
          ]
        },
        {
          "output_type": "stream",
          "name": "stderr",
          "text": [
            "  8%|▊         | 97/1221 [00:16<03:10,  5.91it/s]"
          ]
        },
        {
          "output_type": "stream",
          "name": "stdout",
          "text": [
            "Q: What do you want someone to do when you illustrate point?\n",
            "O: did not understand /// accepting /// make clear /// understood /// understanding\n",
            "A:  understood or understood or understood /// understood or understood or\n",
            "\n",
            "\n",
            "Model: understood or understood or understood and Actual Answer: understanding\n",
            "Q: Billy set aside a block of time for having fun after work. Why might he do this?\n",
            "O: happiness /// stress relief /// pleasure /// ocean /// may laugh\n",
            "A:  stress relief relief relief relief relief relief relief relief relief\n",
            "\n",
            "\n",
            "Model: stress relief relief relief relief relief relief relief relief relief and Actual Answer: stress relief\n"
          ]
        },
        {
          "output_type": "stream",
          "name": "stderr",
          "text": [
            "  8%|▊         | 99/1221 [00:17<03:13,  5.80it/s]"
          ]
        },
        {
          "output_type": "stream",
          "name": "stdout",
          "text": [
            "Q: The man in the white suit was very lazy.  He did nothing useful.  Meanwhile, the ban in the blue had put in effort and was very what?\n",
            "O: restless /// active /// lazybutt /// productive /// hard work\n",
            "A:  productive\n",
            "\n",
            "\n",
            "Model: productive and Actual Answer: productive\n",
            "Q: What would you be unable to do if you have too much greed?\n",
            "O: keep things /// make friends /// play poker /// conquer opponent /// lie\n",
            "A:  keep things in mind mind mind mind mind mind mind\n",
            "\n",
            "\n",
            "Model: keep things in mind mind mind mind mind mind mind and Actual Answer: make friends\n"
          ]
        },
        {
          "output_type": "stream",
          "name": "stderr",
          "text": [
            "  8%|▊         | 101/1221 [00:17<03:11,  5.85it/s]"
          ]
        },
        {
          "output_type": "stream",
          "name": "stdout",
          "text": [
            "Q: It was a long trip from the farm, so he stayed in a hotel when he arrived at the what?\n",
            "O: bed away from home /// wwii bunker /// resort /// las vegas /// city\n",
            "A:  resort town town town town town town town town town\n",
            "\n",
            "\n",
            "Model: resort town town town town town town town town town and Actual Answer: city\n",
            "Q: I did not need a servant.  I was not a what?\n",
            "O: freedom /// rich person /// hired help /// in charge /// busy\n",
            "A:  hired help help help help.  hired help.\n",
            "\n",
            "\n",
            "Model: hired help help help help.  hired help. and Actual Answer: rich person\n"
          ]
        },
        {
          "output_type": "stream",
          "name": "stderr",
          "text": [
            "  8%|▊         | 103/1221 [00:17<03:17,  5.66it/s]"
          ]
        },
        {
          "output_type": "stream",
          "name": "stdout",
          "text": [
            "Q: How would you get from one side of a canal to another?\n",
            "O: michigan /// amsterdam /// venice /// bridge /// barges to travel on\n",
            "A:  bridge to travel on barges to travel on barg\n",
            "\n",
            "\n",
            "Model: bridge to travel on barges to travel on barg and Actual Answer: bridge\n",
            "Q: When learning about the world and different cultures, what is important if you are committed to eliminating preconceived notions\n",
            "O: newness /// loss of innocence /// enlightenment /// open mind /// smartness\n",
            "A:  open mind and newness and newness of mind\n",
            "\n",
            "\n",
            "Model: open mind and newness and newness of mind and Actual Answer: open mind\n"
          ]
        },
        {
          "output_type": "stream",
          "name": "stderr",
          "text": [
            "  9%|▊         | 105/1221 [00:18<03:21,  5.54it/s]"
          ]
        },
        {
          "output_type": "stream",
          "name": "stdout",
          "text": [
            "Q: An underrated thing about computers is how they manage workflow, at one time it was a big deal when they could first do what?\n",
            "O: share files /// do arithmetic /// turn on /// cost money /// multitask\n",
            "A:  multitaskaskaskaskaskaskaskaskask\n",
            "\n",
            "\n",
            "Model: multitaskaskaskaskaskaskaskaskask and Actual Answer: multitask\n",
            "Q: Obstructing justice is sometimes an excuse used for police brutality which causes what in people?\n",
            "O: committing perjury /// prosecution /// attack /// getting hurt /// riot\n",
            "A:  getting hurt or attack or attack or attack or attack\n",
            "\n",
            "\n",
            "Model: getting hurt or attack or attack or attack or attack and Actual Answer: getting hurt\n"
          ]
        },
        {
          "output_type": "stream",
          "name": "stderr",
          "text": [
            "  9%|▉         | 107/1221 [00:18<03:18,  5.61it/s]"
          ]
        },
        {
          "output_type": "stream",
          "name": "stdout",
          "text": [
            "Q: While washing clothes they became what when caught on the sharp object?\n",
            "O: damaged /// wet clothes /// wear out /// torn /// have fun\n",
            "A:  wet clothes /// wet clothes /// wet clothes\n",
            "\n",
            "\n",
            "Model: wet clothes and Actual Answer: torn\n",
            "Q: Seafood restaurants are used to draw tourists where?\n",
            "O: maine /// shoe shop /// city /// boston /// coastal cities\n",
            "A:  maine city cities are used to draw tourists where\n",
            "\n",
            "\n",
            "Model: maine city cities are used to draw tourists where and Actual Answer: coastal cities\n"
          ]
        },
        {
          "output_type": "stream",
          "name": "stderr",
          "text": [
            "  9%|▉         | 109/1221 [00:18<03:11,  5.80it/s]"
          ]
        },
        {
          "output_type": "stream",
          "name": "stdout",
          "text": [
            "Q: James's nice asked him about her grandfather. She was interested in learning about what?\n",
            "O: family tree /// family reunion /// babysitting /// brother's house /// heirlooms\n",
            "A:  brother's house reunion reunion reunion reunion reunion reunion reunion\n",
            "\n",
            "\n",
            "Model: brother's house reunion reunion reunion reunion reunion reunion reunion and Actual Answer: family tree\n",
            "Q: James looked up and saw the start twinkling in the black yonder.  He marveled the sheer number of them and the size of what?\n",
            "O: universe /// orbit /// night sky /// outer space /// his wallet\n",
            "A:  universe universe universe universe universe universe universe universe universe universe\n",
            "\n",
            "\n",
            "Model: universe universe universe universe universe universe universe universe universe universe and Actual Answer: universe\n"
          ]
        },
        {
          "output_type": "stream",
          "name": "stderr",
          "text": [
            "  9%|▉         | 111/1221 [00:19<03:08,  5.89it/s]"
          ]
        },
        {
          "output_type": "stream",
          "name": "stdout",
          "text": [
            "Q: What would encourage someone to continue playing tennis?\n",
            "O: becoming tired /// tennis elbow /// exercise /// hunger /// victory\n",
            "A:  becoming tiredness and exhaustion and exhaustion are not likely\n",
            "\n",
            "\n",
            "Model: becoming tiredness and exhaustion and exhaustion are not likely and Actual Answer: victory\n",
            "Q: James found the sound relaxing.   It was so relaxing he almost did what despite his efforts?\n",
            "O: deep breathing /// worried /// fall asleep /// invigorating /// feeling good\n",
            "A:  fall asleep asleep asleep asleep asleep asleep asleep asleep asleep\n",
            "\n",
            "\n",
            "Model: fall asleep asleep asleep asleep asleep asleep asleep asleep asleep and Actual Answer: fall asleep\n"
          ]
        },
        {
          "output_type": "stream",
          "name": "stderr",
          "text": [
            "  9%|▉         | 113/1221 [00:19<03:06,  5.96it/s]"
          ]
        },
        {
          "output_type": "stream",
          "name": "stdout",
          "text": [
            "Q: What regions of a town would you have found a dime store?\n",
            "O: commercial building /// old movie /// small neighborhood /// past /// mall\n",
            "A:  old movie past movie past movie past movie past movie\n",
            "\n",
            "\n",
            "Model: old movie past movie past movie past movie past movie and Actual Answer: small neighborhood\n",
            "Q: Where might an unused chess set be stored?\n",
            "O: toy store /// michigan /// living room /// attic /// cupboard\n",
            "A:  cupboardboardboard /// cupboard /// cupboard\n",
            "\n",
            "\n",
            "Model: cupboardboardboard and Actual Answer: cupboard\n"
          ]
        },
        {
          "output_type": "stream",
          "name": "stderr",
          "text": [
            "  9%|▉         | 115/1221 [00:19<03:07,  5.88it/s]"
          ]
        },
        {
          "output_type": "stream",
          "name": "stdout",
          "text": [
            "Q: james told his son to settle down and be careful.  There were many frogs mating in the area, and James didn't want his son to do what to them?\n",
            "O: wander /// migrate /// scare /// disturb /// agitate\n",
            "A:  wander\n",
            "\n",
            "\n",
            "Model: wander and Actual Answer: disturb\n",
            "Q: A man wants air conditioning while we watches the game on Saturday, where will it likely be installed?\n",
            "O: car /// house /// offices /// park /// movie theatre\n",
            "A:  movie theatre theatre theatre theatre theatre theatre theatre theatre theatre\n",
            "\n",
            "\n",
            "Model: movie theatre theatre theatre theatre theatre theatre theatre theatre theatre and Actual Answer: house\n"
          ]
        },
        {
          "output_type": "stream",
          "name": "stderr",
          "text": [
            " 10%|▉         | 117/1221 [00:20<03:06,  5.92it/s]"
          ]
        },
        {
          "output_type": "stream",
          "name": "stdout",
          "text": [
            "Q: What could be playing a balailaika?\n",
            "O: movie dr /// orchestra /// music store /// cat /// symphony\n",
            "A:  symphony orchestra orchestra orchestra orchestra orchestra orchestra orchestra orchestra\n",
            "\n",
            "\n",
            "Model: symphony orchestra orchestra orchestra orchestra orchestra orchestra orchestra orchestra and Actual Answer: orchestra\n",
            "Q: Sailors drive many different types of boats, what type of boat involves their namesake.\n",
            "O: coming home /// row boat /// board ship /// inflatable raft /// sail boat\n",
            "A:  inflatable rafts boat ( boat boat boat boat\n",
            "\n",
            "\n",
            "Model: inflatable rafts boat ( boat boat boat boat and Actual Answer: sail boat\n"
          ]
        },
        {
          "output_type": "stream",
          "name": "stderr",
          "text": [
            " 10%|▉         | 119/1221 [00:20<03:05,  5.95it/s]"
          ]
        },
        {
          "output_type": "stream",
          "name": "stdout",
          "text": [
            "Q: Where could a person avoid the rain?\n",
            "O: bus stop /// tunnel /// synagogue /// fairy tale /// street corner\n",
            "A:  street corner corner corner corner corner corner corner corner corner\n",
            "\n",
            "\n",
            "Model: street corner corner corner corner corner corner corner corner corner and Actual Answer: synagogue\n",
            "Q: Why would a person like to have a large house?\n",
            "O: have choice /// mentally challenged /// own house /// obesity /// lots of space\n",
            "A:  have choice house. /// own house. /// own\n",
            "\n",
            "\n",
            "Model: have choice house. and Actual Answer: lots of space\n"
          ]
        },
        {
          "output_type": "stream",
          "name": "stderr",
          "text": [
            " 10%|▉         | 121/1221 [00:21<03:05,  5.92it/s]"
          ]
        },
        {
          "output_type": "stream",
          "name": "stdout",
          "text": [
            "Q: Where will a cheap book be found?\n",
            "O: bookstore /// classroom /// discount store /// school room /// bedside table\n",
            "A:  bookstore room room room room room room room room room\n",
            "\n",
            "\n",
            "Model: bookstore room room room room room room room room room and Actual Answer: discount store\n",
            "Q: John and James are idiots. They bought two tickets to the Falcons vs the Jets even though neither wanted to see the what?\n",
            "O: internet cafe /// sporting event /// pressing wrong buttons /// obesity /// hockey game\n",
            "A:  hockey game hockey game is not press wrong buttons.\n",
            "\n",
            "\n",
            "Model: hockey game hockey game is not press wrong buttons. and Actual Answer: sporting event\n"
          ]
        },
        {
          "output_type": "stream",
          "name": "stderr",
          "text": [
            " 10%|█         | 123/1221 [00:21<03:09,  5.80it/s]"
          ]
        },
        {
          "output_type": "stream",
          "name": "stdout",
          "text": [
            "Q: James noticed that his penis was bigger. .  How might he act toward his plastic surgeon?\n",
            "O: accidental /// detestable /// effusive /// enabled /// apathetic\n",
            "A:  apathetic and effusive and effusive. \n",
            "\n",
            "\n",
            "Model: apathetic and effusive and effusive. and Actual Answer: effusive\n",
            "Q: Who do professors work with?\n",
            "O: methods of facts /// teach courses /// wear wrinkled tweed jackets /// school students /// state facts\n",
            "A:  state facts /// state facts /// state facts\n",
            "\n",
            "\n",
            "Model: state facts and Actual Answer: school students\n"
          ]
        },
        {
          "output_type": "stream",
          "name": "stderr",
          "text": [
            " 10%|█         | 125/1221 [00:21<03:06,  5.87it/s]"
          ]
        },
        {
          "output_type": "stream",
          "name": "stdout",
          "text": [
            "Q: Colorful anemone look somewhat like what object you find on window sills?\n",
            "O: intertidal zone /// coral sea /// under water /// flower bed /// florida keys\n",
            "A:  flower bed sills bed sills bed sills\n",
            "\n",
            "\n",
            "Model: flower bed sills bed sills bed sills and Actual Answer: flower bed\n",
            "Q: From where do aliens arrive?\n",
            "O: outer space /// weekly world news /// roswell /// universe /// mars\n",
            "A:  outer space world news news news news news news news\n",
            "\n",
            "\n",
            "Model: outer space world news news news news news news news and Actual Answer: outer space\n"
          ]
        },
        {
          "output_type": "stream",
          "name": "stderr",
          "text": [
            " 10%|█         | 127/1221 [00:22<03:05,  5.90it/s]"
          ]
        },
        {
          "output_type": "stream",
          "name": "stdout",
          "text": [
            "Q: The hikers stopped to have a drink, simply put they what?\n",
            "O: had a party /// were thirsty /// refreshment /// getting drunk /// celebrating\n",
            "A:  celebrate having a party celebrating having a party celebrating having\n",
            "\n",
            "\n",
            "Model: celebrate having a party celebrating having a party celebrating having and Actual Answer: were thirsty\n",
            "Q: When you get up in the morning before you begin work you should do what?\n",
            "O: apply for job /// sleep /// concentrate /// shower /// just do\n",
            "A:  concentrate on job\n",
            "\n",
            "\n",
            "Model: concentrate on job and Actual Answer: shower\n"
          ]
        },
        {
          "output_type": "stream",
          "name": "stderr",
          "text": [
            " 11%|█         | 129/1221 [00:22<03:05,  5.90it/s]"
          ]
        },
        {
          "output_type": "stream",
          "name": "stdout",
          "text": [
            "Q: The kitten had nothing to dig it's claws into, so when it tried to stop it slid across what?\n",
            "O: living room /// floor /// warm place /// carpet /// farmhouse\n",
            "A:  carpet househouse /// carpet househouse /// carpet house\n",
            "\n",
            "\n",
            "Model: carpet househouse and Actual Answer: floor\n",
            "Q: If a person is trying to keep something in their hand what should they do?\n",
            "O: complete collection /// own house /// procrastinate /// explode /// have to hold\n",
            "A:  procrastinate and procrastinate and procrast\n",
            "\n",
            "\n",
            "Model: procrastinate and procrastinate and procrast and Actual Answer: have to hold\n"
          ]
        },
        {
          "output_type": "stream",
          "name": "stderr",
          "text": [
            " 11%|█         | 131/1221 [00:22<03:07,  5.82it/s]"
          ]
        },
        {
          "output_type": "stream",
          "name": "stdout",
          "text": [
            "Q: Where could you find hundreds of thousands of home?\n",
            "O: field /// neighborhood /// star can /// city or town /// apartment building\n",
            "A:  city or town or town building or town building or\n",
            "\n",
            "\n",
            "Model: city or town or town building or town building or and Actual Answer: city or town\n",
            "Q: Playing baseball is a lot like any other sport, there is always a risk of what?\n",
            "O: sore muscles /// errors /// happiness /// injury /// fun\n",
            "A:  injury or injury or injury or injury or injury or\n",
            "\n",
            "\n",
            "Model: injury or injury or injury or injury or injury or and Actual Answer: injury\n"
          ]
        },
        {
          "output_type": "stream",
          "name": "stderr",
          "text": [
            " 11%|█         | 133/1221 [00:23<03:04,  5.90it/s]"
          ]
        },
        {
          "output_type": "stream",
          "name": "stdout",
          "text": [
            "Q: If I want to watch a movie without leaving my home what might I use?\n",
            "O: drive in movie /// drive in movie /// television /// video store /// show\n",
            "A:  television show show show show show show show show show\n",
            "\n",
            "\n",
            "Model: television show show show show show show show show show and Actual Answer: television\n",
            "Q: The victim was to take stand today, they were going to do what?\n",
            "O: testify /// runaway /// witness /// tell truth /// go home\n",
            "A:  witness truth tell truth tell truth tell truth tell truth\n",
            "\n",
            "\n",
            "Model: witness truth tell truth tell truth tell truth tell truth and Actual Answer: testify\n"
          ]
        },
        {
          "output_type": "stream",
          "name": "stderr",
          "text": [
            " 11%|█         | 135/1221 [00:23<03:03,  5.93it/s]"
          ]
        },
        {
          "output_type": "stream",
          "name": "stdout",
          "text": [
            "Q: What does a successful dog grooming session likely to make a owner feel?\n",
            "O: cleanliness /// mistakes /// growth /// satisfaction /// late\n",
            "A:  satisfaction\n",
            "\n",
            "\n",
            "Model: satisfaction and Actual Answer: satisfaction\n",
            "Q: The runner was in third place, but he pushed harder and thought he might be able to reach second.  What was beginning to do?\n",
            "O: near finish line /// finish /// get tired /// gain ground /// trip over\n",
            "A:  finish line line line line line line line line line\n",
            "\n",
            "\n",
            "Model: finish line line line line line line line line line and Actual Answer: gain ground\n"
          ]
        },
        {
          "output_type": "stream",
          "name": "stderr",
          "text": [
            " 11%|█         | 137/1221 [00:23<03:02,  5.94it/s]"
          ]
        },
        {
          "output_type": "stream",
          "name": "stdout",
          "text": [
            "Q: The tourist entered Mammoth cave, what state were they in?\n",
            "O: west virginia /// kentucky /// rocky hills /// scotland /// canyon\n",
            "A:  kentucky valley valley valley valley valley valley valley\n",
            "\n",
            "\n",
            "Model: kentucky valley valley valley valley valley valley valley and Actual Answer: kentucky\n",
            "Q: What does someone typically feel when applying for a job?\n",
            "O: horror /// anxiety and fear /// rejection /// increased workload /// being employed\n",
            "A:  rejection and fear and fear /// rejection and fear ///\n",
            "\n",
            "\n",
            "Model: rejection and fear and fear and Actual Answer: anxiety and fear\n"
          ]
        },
        {
          "output_type": "stream",
          "name": "stderr",
          "text": [
            " 11%|█▏        | 139/1221 [00:24<03:02,  5.94it/s]"
          ]
        },
        {
          "output_type": "stream",
          "name": "stdout",
          "text": [
            "Q: He was on trial for obstructing justice, during which he made a questionable comment and was also found guilty of what?\n",
            "O: prosecution /// getting hurt /// sweat /// steam /// committing perjury\n",
            "A:  prosecution for obstructing justice, prosecution for obstructing\n",
            "\n",
            "\n",
            "Model: prosecution for obstructing justice, prosecution for obstructing and Actual Answer: committing perjury\n",
            "Q: What kind of feelings does buying presents for others create?\n",
            "O: tears /// please /// like /// thank /// make happy\n",
            "A:  love love love love love love love love love love\n",
            "\n",
            "\n",
            "Model: love love love love love love love love love love and Actual Answer: make happy\n"
          ]
        },
        {
          "output_type": "stream",
          "name": "stderr",
          "text": [
            " 12%|█▏        | 141/1221 [00:24<03:01,  5.96it/s]"
          ]
        },
        {
          "output_type": "stream",
          "name": "stdout",
          "text": [
            "Q: What green area is a marmot likely to be found in?\n",
            "O: countryside /// great plains /// encyclopedia /// jungle /// north america\n",
            "A:  countryside area of america.  countryside of americ\n",
            "\n",
            "\n",
            "Model: countryside area of america.  countryside of americ and Actual Answer: countryside\n",
            "Q: Jan tested the current, and noticed that it was high.  He thought that the wires might have too much what?\n",
            "O: later /// updated /// still /// resistance /// now\n",
            "A:  resistance to resistance to resistance to resistance to resistance to\n",
            "\n",
            "\n",
            "Model: resistance to resistance to resistance to resistance to resistance to and Actual Answer: resistance\n"
          ]
        },
        {
          "output_type": "stream",
          "name": "stderr",
          "text": [
            " 12%|█▏        | 143/1221 [00:24<03:00,  5.98it/s]"
          ]
        },
        {
          "output_type": "stream",
          "name": "stdout",
          "text": [
            "Q: What does a kindergarten teacher do before nap time?\n",
            "O: lower expectations /// encourage /// fear /// time test /// tell story\n",
            "A:  teach story story story story story story story story story\n",
            "\n",
            "\n",
            "Model: teach story story story story story story story story story and Actual Answer: tell story\n",
            "Q: Sam was a stranger.  Even so, Mark treated him like what?\n",
            "O: friend /// family /// known person /// park /// outsider\n",
            "A:  friend known person.  friend known person. Even\n",
            "\n",
            "\n",
            "Model: friend known person.  friend known person. Even and Actual Answer: family\n"
          ]
        },
        {
          "output_type": "stream",
          "name": "stderr",
          "text": [
            " 12%|█▏        | 145/1221 [00:25<02:59,  5.99it/s]"
          ]
        },
        {
          "output_type": "stream",
          "name": "stdout",
          "text": [
            "Q: Bob's only light source was a small bulb.  There were four walls, if there was a door he couldn't see it.  What was Bob in?\n",
            "O: closed room /// sky /// dard /// his grave /// house\n",
            "A:  dardardardardardardardardard\n",
            "\n",
            "\n",
            "Model: dardardardardardardardardard and Actual Answer: closed room\n",
            "Q: James thought of criminal justice like a computer program.  It need to work right.   What ideas might James not like?\n",
            "O: manual /// process information /// power down /// control model /// reason exists\n",
            "A:  power down model model model model model model model model\n",
            "\n",
            "\n",
            "Model: power down model model model model model model model model and Actual Answer: control model\n"
          ]
        },
        {
          "output_type": "stream",
          "name": "stderr",
          "text": [
            " 12%|█▏        | 147/1221 [00:25<03:01,  5.92it/s]"
          ]
        },
        {
          "output_type": "stream",
          "name": "stdout",
          "text": [
            "Q: With the card slot lit up he knew how to get started finding his balance with what?\n",
            "O: slot machine /// ticket machine /// bank machine /// telephone /// automated teller\n",
            "A:  bank machine teller machine teller teller machine\n",
            "\n",
            "\n",
            "Model: bank machine teller machine teller teller machine and Actual Answer: automated teller\n",
            "Q: To play sports professionally you must do what very often?\n",
            "O: wash your clothes /// get in shape /// practice /// take off uniform /// stretch\n",
            "A:  practice sports sport sport sport sport sport sport sport sport\n",
            "\n",
            "\n",
            "Model: practice sports sport sport sport sport sport sport sport sport and Actual Answer: practice\n"
          ]
        },
        {
          "output_type": "stream",
          "name": "stderr",
          "text": [
            " 12%|█▏        | 149/1221 [00:25<02:59,  5.96it/s]"
          ]
        },
        {
          "output_type": "stream",
          "name": "stdout",
          "text": [
            "Q: Some people prefer releasing energy through work while others prefer to release it through what?\n",
            "O: motion /// stretch /// exercise /// movement /// muscles\n",
            "A:  motion motion motion motion motion motion motion motion motion motion\n",
            "\n",
            "\n",
            "Model: motion motion motion motion motion motion motion motion motion motion and Actual Answer: exercise\n",
            "Q: What will a person going for a jog likely be wearing?\n",
            "O: grope /// acknowledgment /// comfortable clothes /// ipod /// passionate kisses\n",
            "A:  gropepepepeve clothes /// grope\n",
            "\n",
            "\n",
            "Model: gropepepepeve clothes and Actual Answer: comfortable clothes\n"
          ]
        },
        {
          "output_type": "stream",
          "name": "stderr",
          "text": [
            " 12%|█▏        | 151/1221 [00:26<03:01,  5.90it/s]"
          ]
        },
        {
          "output_type": "stream",
          "name": "stdout",
          "text": [
            "Q: The child pretended he was reading newspaper, he couldn't actually do it without what?\n",
            "O: patience /// falling down /// literacy /// buying /// knowing how to read\n",
            "A:  literacy literacy literacy literacy literacy literacy literacy literacy literacy literacy\n",
            "\n",
            "\n",
            "Model: literacy literacy literacy literacy literacy literacy literacy literacy literacy literacy and Actual Answer: knowing how to read\n",
            "Q: Jenny enjoyed helping people.  It brought her a great deal of what?\n",
            "O: satisfaction /// complications /// train /// feel good about yourself /// enjoyment\n",
            "A:  satisfaction about yourself and feel good about yourself and feel\n",
            "\n",
            "\n",
            "Model: satisfaction about yourself and feel good about yourself and feel and Actual Answer: satisfaction\n"
          ]
        },
        {
          "output_type": "stream",
          "name": "stderr",
          "text": [
            " 13%|█▎        | 153/1221 [00:26<03:03,  5.81it/s]"
          ]
        },
        {
          "output_type": "stream",
          "name": "stdout",
          "text": [
            "Q: What might someone believe in if they are cleaning clothes?\n",
            "O: feminism /// sanitation /// ruined /// wrinkles /// buttons to fall off\n",
            "A:  wrinkles to fall off buttons to fall off buttons to\n",
            "\n",
            "\n",
            "Model: wrinkles to fall off buttons to fall off buttons to and Actual Answer: sanitation\n",
            "Q: Where would you find a basement that can be accessed with an elevator?\n",
            "O: eat cake /// closet /// church /// office building /// own house\n",
            "A:  own house building /// own house building /// own house\n",
            "\n",
            "\n",
            "Model: own house building and Actual Answer: office building\n"
          ]
        },
        {
          "output_type": "stream",
          "name": "stderr",
          "text": [
            " 13%|█▎        | 155/1221 [00:26<03:02,  5.83it/s]"
          ]
        },
        {
          "output_type": "stream",
          "name": "stdout",
          "text": [
            "Q: In order to learn to program from another person you can do what?\n",
            "O: learn how to /// have a friend /// knowledge /// take class /// have computer\n",
            "A:  learn how to program from another person who has computer\n",
            "\n",
            "\n",
            "Model: learn how to program from another person who has computer and Actual Answer: take class\n",
            "Q: He was at the gym trying to build muscle, what is it called that he is trying to build muscle on?\n",
            "O: body of animal /// arm /// bodybuilder /// body of dog /// human body\n",
            "A:  body of animal body of animal body of animal body\n",
            "\n",
            "\n",
            "Model: body of animal body of animal body of animal body and Actual Answer: human body\n"
          ]
        },
        {
          "output_type": "stream",
          "name": "stderr",
          "text": [
            " 13%|█▎        | 157/1221 [00:27<02:59,  5.91it/s]"
          ]
        },
        {
          "output_type": "stream",
          "name": "stdout",
          "text": [
            "Q: What part of plants is pretty?\n",
            "O: dirt /// no neurons in /// millions of cells /// flowers on /// roots\n",
            "A:  roots on roots on roots on roots on roots on\n",
            "\n",
            "\n",
            "Model: roots on roots on roots on roots on roots on and Actual Answer: flowers on\n",
            "Q: The man was going fishing instead of work, what is he seeking?\n",
            "O: food /// relaxation /// killing /// missing morning cartoons /// boredom\n",
            "A:  boredom and boredom and boredom and loss of morning cartoons\n",
            "\n",
            "\n",
            "Model: boredom and boredom and boredom and loss of morning cartoons and Actual Answer: relaxation\n"
          ]
        },
        {
          "output_type": "stream",
          "name": "stderr",
          "text": [
            " 13%|█▎        | 159/1221 [00:27<02:58,  5.93it/s]"
          ]
        },
        {
          "output_type": "stream",
          "name": "stdout",
          "text": [
            "Q: What could you get an unsmooth pit from?\n",
            "O: backyard /// rock /// mine /// cherry /// peach\n",
            "A:  mine or cherry pie pie pie pie pie pie pie\n",
            "\n",
            "\n",
            "Model: mine or cherry pie pie pie pie pie pie pie and Actual Answer: peach\n",
            "Q: The man tried to reply to the woman, but he had difficulty keeping track of conversations that he didn't do what to?\n",
            "O: initiate /// ignore /// question /// answer /// ask\n",
            "A:  ask why why why why why why why why why\n",
            "\n",
            "\n",
            "Model: ask why why why why why why why why why and Actual Answer: initiate\n"
          ]
        },
        {
          "output_type": "stream",
          "name": "stderr",
          "text": [
            " 13%|█▎        | 161/1221 [00:27<02:59,  5.91it/s]"
          ]
        },
        {
          "output_type": "stream",
          "name": "stdout",
          "text": [
            "Q: I couldn't find anybody who recalled the event, what were they adroit at doing?\n",
            "O: question authority /// act fool /// wash dishes /// act innocent /// forget\n",
            "A:  act fool, act fool, act fool, act\n",
            "\n",
            "\n",
            "Model: act fool, act fool, act fool, act and Actual Answer: forget\n",
            "Q: Where would you find a large dining room containing a fancy chandelier?\n",
            "O: mansion /// every house /// own home /// table /// restaurant\n",
            "A:  restaurant restaurant restaurant restaurant restaurant restaurant restaurant restaurant restaurant restaurant\n",
            "\n",
            "\n",
            "Model: restaurant restaurant restaurant restaurant restaurant restaurant restaurant restaurant restaurant restaurant and Actual Answer: mansion\n"
          ]
        },
        {
          "output_type": "stream",
          "name": "stderr",
          "text": [
            " 13%|█▎        | 163/1221 [00:28<02:59,  5.88it/s]"
          ]
        },
        {
          "output_type": "stream",
          "name": "stdout",
          "text": [
            "Q: The extremely large cargo plane could only land at a specialized runway, these were only located at a what?\n",
            "O: back yard /// bowling alley /// city /// military base /// fashion show\n",
            "A:  military base base base base base base base base base\n",
            "\n",
            "\n",
            "Model: military base base base base base base base base base and Actual Answer: military base\n",
            "Q: The carpet was smelly and discouraged the league from playing there, where was this smelly carpet installed?\n",
            "O: bedroom /// movie theater /// bowling alley /// church /// office\n",
            "A:  bowling alley\n",
            "\n",
            "\n",
            "Model: bowling alley and Actual Answer: bowling alley\n"
          ]
        },
        {
          "output_type": "stream",
          "name": "stderr",
          "text": [
            " 14%|█▎        | 165/1221 [00:28<03:01,  5.83it/s]"
          ]
        },
        {
          "output_type": "stream",
          "name": "stdout",
          "text": [
            "Q: How can someone be let into a brownstone?\n",
            "O: brooklyn /// ring /// subdivision /// bricks /// new york city\n",
            "A:  brooklyn city city city city city city city\n",
            "\n",
            "\n",
            "Model: brooklyn city city city city city city city and Actual Answer: ring\n",
            "Q: Where would someone purchase an upright piano?\n",
            "O: music class /// college /// music store /// music room /// music band\n",
            "A:  music store place place place place place place place place\n",
            "\n",
            "\n",
            "Model: music store place place place place place place place place and Actual Answer: music store\n"
          ]
        },
        {
          "output_type": "stream",
          "name": "stderr",
          "text": [
            " 14%|█▎        | 167/1221 [00:28<03:04,  5.72it/s]"
          ]
        },
        {
          "output_type": "stream",
          "name": "stdout",
          "text": [
            "Q: Where would you keep an ottoman near your front door?\n",
            "O: living room /// parlor /// furniture store /// basement /// kitchen\n",
            "A:  basement basement basement basement basement basement basement basement basement basement\n",
            "\n",
            "\n",
            "Model: basement basement basement basement basement basement basement basement basement basement and Actual Answer: living room\n",
            "Q: Diving into backyard pools can be very dangerous and can lead to serious head and what?\n",
            "O: going somewhere /// splats /// cancer /// getting wet /// spinal injuries\n",
            "A:  getting wet and getting wet and getting wet and getting\n",
            "\n",
            "\n",
            "Model: getting wet and getting wet and getting wet and getting and Actual Answer: spinal injuries\n"
          ]
        },
        {
          "output_type": "stream",
          "name": "stderr",
          "text": [
            " 14%|█▍        | 169/1221 [00:29<03:01,  5.81it/s]"
          ]
        },
        {
          "output_type": "stream",
          "name": "stdout",
          "text": [
            "Q: Where would one find a snake in a cage?\n",
            "O: tropical forest /// oregon /// woods /// pet store /// louisiana\n",
            "A:  louisianaianaianaianaianaianaianaiana\n",
            "\n",
            "\n",
            "Model: louisianaianaianaianaianaianaianaiana and Actual Answer: pet store\n",
            "Q: Where are people likely to become impatient?\n",
            "O: end of line /// buildings /// apartment /// neighbor's house /// address\n",
            "A:  end of line line line line line line line line\n",
            "\n",
            "\n",
            "Model: end of line line line line line line line line and Actual Answer: end of line\n"
          ]
        },
        {
          "output_type": "stream",
          "name": "stderr",
          "text": [
            " 14%|█▍        | 171/1221 [00:29<03:00,  5.83it/s]"
          ]
        },
        {
          "output_type": "stream",
          "name": "stdout",
          "text": [
            "Q: When you fail to finish something, you failed at doing what to it\n",
            "O: winning /// passing /// completing /// do well /// succeeding\n",
            "A:  completing\n",
            "\n",
            "\n",
            "Model: completing and Actual Answer: completing\n",
            "Q: John didn't care about style.  He felt that form was less important than what?\n",
            "O: shapeless /// quality /// function /// change shape /// chaos\n",
            "A:  quality of form.  quality of form. form\n",
            "\n",
            "\n",
            "Model: quality of form.  quality of form. form and Actual Answer: function\n"
          ]
        },
        {
          "output_type": "stream",
          "name": "stderr",
          "text": [
            " 14%|█▍        | 173/1221 [00:29<03:00,  5.80it/s]"
          ]
        },
        {
          "output_type": "stream",
          "name": "stdout",
          "text": [
            "Q: When you get together with friends to watch film, you might do plenty of this?\n",
            "O: see what happens /// enjoy stories /// pass time /// have fun /// interesting\n",
            "A:  enjoy stories and enjoy stories and enjoy stories and enjoy\n",
            "\n",
            "\n",
            "Model: enjoy stories and enjoy stories and enjoy stories and enjoy and Actual Answer: have fun\n",
            "Q: A supermarket is uncommon in what type of collection of shops?\n",
            "O: strip mall /// city or town /// shoppingcentre /// boutique /// vermont\n",
            "A:  shoppingcentre or town or town or town or\n",
            "\n",
            "\n",
            "Model: shoppingcentre or town or town or town or and Actual Answer: strip mall\n"
          ]
        },
        {
          "output_type": "stream",
          "name": "stderr",
          "text": [
            " 14%|█▍        | 175/1221 [00:30<02:57,  5.88it/s]"
          ]
        },
        {
          "output_type": "stream",
          "name": "stdout",
          "text": [
            "Q: Bill puts meat on the scale, where does Bill work?\n",
            "O: music store /// assay office /// tidal wave /// butcher shop /// bathroom\n",
            "A:  butcher shop shop shop shop shop shop shop shop shop\n",
            "\n",
            "\n",
            "Model: butcher shop shop shop shop shop shop shop shop shop and Actual Answer: butcher shop\n",
            "Q: I'm having some food at my party, what will I need to serve it?\n",
            "O: zoo /// pan /// bowl /// kitchen /// spoon\n",
            "A:  bowl\n",
            "\n",
            "\n",
            "Model: bowl and Actual Answer: spoon\n"
          ]
        },
        {
          "output_type": "stream",
          "name": "stderr",
          "text": [
            " 14%|█▍        | 177/1221 [00:30<03:02,  5.73it/s]"
          ]
        },
        {
          "output_type": "stream",
          "name": "stdout",
          "text": [
            "Q: Before racers start to run they must do what at the starting line?\n",
            "O: learn to walk /// walking /// walk slowly /// breathe /// stand still\n",
            "A:  walk slowly walking slowly /// walk slowly /// walk slowly\n",
            "\n",
            "\n",
            "Model: walk slowly walking slowly and Actual Answer: stand still\n",
            "Q: What does an actor do when they are bored of their roles?\n",
            "O: mask /// branch out /// wear costume /// pretend /// sing songs\n",
            "A:  pretend to wear costume /// pretend to wear costume ///\n",
            "\n",
            "\n",
            "Model: pretend to wear costume and Actual Answer: branch out\n"
          ]
        },
        {
          "output_type": "stream",
          "name": "stderr",
          "text": [
            " 15%|█▍        | 179/1221 [00:30<02:58,  5.82it/s]"
          ]
        },
        {
          "output_type": "stream",
          "name": "stdout",
          "text": [
            "Q: What is a person called who doesn't have immortality?\n",
            "O: mortal /// dying /// death /// dead /// mortal\n",
            "A:  mortal ( mortal ( mortal ( mortal ( mortal (\n",
            "\n",
            "\n",
            "Model: mortal ( mortal ( mortal ( mortal ( mortal ( and Actual Answer: mortal\n",
            "Q: Why would you be watching tv instead of doing something else?\n",
            "O: headache /// laughter /// laziness /// erections /// wasting time\n",
            "A:  laziness /// laziness /// laziness\n",
            "\n",
            "\n",
            "Model: laziness and Actual Answer: laziness\n"
          ]
        },
        {
          "output_type": "stream",
          "name": "stderr",
          "text": [
            " 15%|█▍        | 181/1221 [00:31<02:58,  5.83it/s]"
          ]
        },
        {
          "output_type": "stream",
          "name": "stdout",
          "text": [
            "Q: If chewing food is difficult for you, what is a possible reason?\n",
            "O: broken jaw /// sore mouth /// eating /// good digestion /// avoiding choking\n",
            "A:  bad digestion /// bad digestion /// bad digestion\n",
            "\n",
            "\n",
            "Model: bad digestion and Actual Answer: sore mouth\n",
            "Q: He had to wear a tuxedo while playing the keyboard instrument, so did the other hundred members of the what?\n",
            "O: music store /// band /// medium /// orchestra /// piano store\n",
            "A:  orchestra store store store store store store store store store\n",
            "\n",
            "\n",
            "Model: orchestra store store store store store store store store store and Actual Answer: orchestra\n"
          ]
        },
        {
          "output_type": "stream",
          "name": "stderr",
          "text": [
            " 15%|█▍        | 183/1221 [00:31<02:58,  5.83it/s]"
          ]
        },
        {
          "output_type": "stream",
          "name": "stdout",
          "text": [
            "Q: Where do you find the most amount of leafs?\n",
            "O: floral arrangement /// ground /// forrest /// field /// compost pile\n",
            "A:  ground pile pile pile pile pile pile pile pile pile\n",
            "\n",
            "\n",
            "Model: ground pile pile pile pile pile pile pile pile pile and Actual Answer: forrest\n",
            "Q: Where can children play with animals?\n",
            "O: meadow /// play room /// surface of earth /// zoos /// fairgrounds\n",
            "A:  fairgroundsgroundsgroundsgroundsgroundsgroundsgroundsgroundsgrounds\n",
            "\n",
            "\n",
            "Model: fairgroundsgroundsgroundsgroundsgroundsgroundsgroundsgroundsgrounds and Actual Answer: fairgrounds\n"
          ]
        },
        {
          "output_type": "stream",
          "name": "stderr",
          "text": [
            " 15%|█▌        | 185/1221 [00:31<03:01,  5.71it/s]"
          ]
        },
        {
          "output_type": "stream",
          "name": "stdout",
          "text": [
            "Q: What kind of tale might feature a talking weasel?\n",
            "O: mulberry bush /// animated film /// chicken coop /// history book /// children's story\n",
            "A:  animated film history book /// animated film history book ///\n",
            "\n",
            "\n",
            "Model: animated film history book and Actual Answer: children's story\n",
            "Q: What kind of status is the bald eagle given?\n",
            "O: outside /// world /// protection /// colorado /// america\n",
            "A:  protection statusado america.a.a.\n",
            "\n",
            "\n",
            "Model: protection statusado america.a.a. and Actual Answer: protection\n"
          ]
        },
        {
          "output_type": "stream",
          "name": "stderr",
          "text": [
            " 15%|█▌        | 187/1221 [00:32<03:00,  5.72it/s]"
          ]
        },
        {
          "output_type": "stream",
          "name": "stdout",
          "text": [
            "Q: Why do most people take a quick rest during the day?\n",
            "O: need to /// hungry /// feel more energetic /// weak /// regenerate\n",
            "A:  need to rest during the day /// need to rest\n",
            "\n",
            "\n",
            "Model: need to rest during the day and Actual Answer: feel more energetic\n",
            "Q: What could suddenly stop someone when he or she is running?\n",
            "O: mushroom /// falling down /// sweating /// exhaustion /// getting tired\n",
            "A:  exhaustion and sweating are sweating are sweating.  sweating\n",
            "\n",
            "\n",
            "Model: exhaustion and sweating are sweating are sweating.  sweating and Actual Answer: falling down\n"
          ]
        },
        {
          "output_type": "stream",
          "name": "stderr",
          "text": [
            " 15%|█▌        | 189/1221 [00:32<03:02,  5.67it/s]"
          ]
        },
        {
          "output_type": "stream",
          "name": "stdout",
          "text": [
            "Q: Where would you find a monkey in the wild?\n",
            "O: zoo /// barrel /// research laboratory /// captivity /// thailand\n",
            "A:  zoo zoo zoo zoo zoo zoo zoo zoo zoo zoo\n",
            "\n",
            "\n",
            "Model: zoo zoo zoo zoo zoo zoo zoo zoo zoo zoo and Actual Answer: thailand\n",
            "Q: Where could a sloth live?\n",
            "O: tropical jungle /// manual /// work /// transit /// countryside\n",
            "A:  countryside countryside countryside countryside countryside countryside countryside countryside countryside countryside\n",
            "\n",
            "\n",
            "Model: countryside countryside countryside countryside countryside countryside countryside countryside countryside countryside and Actual Answer: tropical jungle\n"
          ]
        },
        {
          "output_type": "stream",
          "name": "stderr",
          "text": [
            " 16%|█▌        | 191/1221 [00:33<03:02,  5.65it/s]"
          ]
        },
        {
          "output_type": "stream",
          "name": "stdout",
          "text": [
            "Q: A gentleman is carrying equipment for golf, what is he likely to have?\n",
            "O: club /// assembly hall /// meditation center /// meeting /// church\n",
            "A:  club hall meeting hall meeting hall meeting hall meeting hall\n",
            "\n",
            "\n",
            "Model: club hall meeting hall meeting hall meeting hall meeting hall and Actual Answer: club\n",
            "Q: If you have a home with a courtyard, what's one thing you probably don't have to care for any longer?\n",
            "O: lawn /// kids /// asshole /// spain /// office complex\n",
            "A:  lawn complex complex complex complex complex complex complex complex complex\n",
            "\n",
            "\n",
            "Model: lawn complex complex complex complex complex complex complex complex complex and Actual Answer: lawn\n"
          ]
        },
        {
          "output_type": "stream",
          "name": "stderr",
          "text": [
            " 16%|█▌        | 193/1221 [00:33<02:56,  5.82it/s]"
          ]
        },
        {
          "output_type": "stream",
          "name": "stdout",
          "text": [
            "Q: The computer was difficult for he to understand at the store, so what did she sign up for to learn more?\n",
            "O: classroom /// facebook /// school /// apartment /// demonstration\n",
            "A:  school classroom /// school classroom /// school classroom\n",
            "\n",
            "\n",
            "Model: school classroom and Actual Answer: demonstration\n",
            "Q: If you take the risk buying a used car, you still hope it can what?\n",
            "O: go fast /// start running /// going too fast /// look good /// last several years\n",
            "A:  go too fast /// go too fast /// go too\n",
            "\n",
            "\n",
            "Model: go too fast and Actual Answer: last several years\n"
          ]
        },
        {
          "output_type": "stream",
          "name": "stderr",
          "text": [
            " 16%|█▌        | 195/1221 [00:33<02:54,  5.87it/s]"
          ]
        },
        {
          "output_type": "stream",
          "name": "stdout",
          "text": [
            "Q: Dan was ditting quietly on the couch with a book in his hand.  Laurie thought that he was just focused on what he was doing, but he actually did what?\n",
            "O: eat /// think /// reading /// meditate /// fall asleep\n",
            "A:  meditate /// meditate\n",
            "\n",
            "\n",
            "Model: meditate and Actual Answer: fall asleep\n",
            "Q: What is the primary purpose of cars?\n",
            "O: cost money /// slow down /// move people /// turn right /// get girls\n",
            "A:  cost money money money money to move people to move\n",
            "\n",
            "\n",
            "Model: cost money money money money to move people to move and Actual Answer: move people\n"
          ]
        },
        {
          "output_type": "stream",
          "name": "stderr",
          "text": [
            " 16%|█▌        | 197/1221 [00:34<03:00,  5.68it/s]"
          ]
        },
        {
          "output_type": "stream",
          "name": "stdout",
          "text": [
            "Q: Alabama is full of different people, but they are all citizens of what?\n",
            "O: united states /// deep south /// floribama /// gulf states /// florabama\n",
            "A:  floribama state /// floribama\n",
            "\n",
            "\n",
            "Model: floribama state and Actual Answer: united states\n",
            "Q: They were hoping their campaign would create a rise in awareness of the problem and hopefully do what to its effect?\n",
            "O: set /// fall /// park /// descend /// reduce\n",
            "A:  reduce the amount of awareness of the problem and reduce\n",
            "\n",
            "\n",
            "Model: reduce the amount of awareness of the problem and reduce and Actual Answer: reduce\n"
          ]
        },
        {
          "output_type": "stream",
          "name": "stderr",
          "text": [
            " 16%|█▋        | 199/1221 [00:34<02:56,  5.78it/s]"
          ]
        },
        {
          "output_type": "stream",
          "name": "stdout",
          "text": [
            "Q: What do airplanes do as they are arriving at the gate?\n",
            "O: slow down /// crash /// speed up /// land /// carry people\n",
            "A:  land at the gate /// land at gate /// land\n",
            "\n",
            "\n",
            "Model: land at the gate and Actual Answer: slow down\n",
            "Q: If a person with mental illness stops treatment what will likely happen?\n",
            "O: managed /// dancing /// recur /// effectively treated /// cause suffering\n",
            "A:  recur\n",
            "\n",
            "\n",
            "Model: recur and Actual Answer: recur\n"
          ]
        },
        {
          "output_type": "stream",
          "name": "stderr",
          "text": [
            " 16%|█▋        | 201/1221 [00:34<02:55,  5.82it/s]"
          ]
        },
        {
          "output_type": "stream",
          "name": "stdout",
          "text": [
            "Q: The gimmicky low brow TV show was about animals when they what?\n",
            "O: sick /// mammals /// males /// bite /// attack\n",
            "A:  males and females attack each other while attacking each other\n",
            "\n",
            "\n",
            "Model: males and females attack each other while attacking each other and Actual Answer: attack\n",
            "Q: A loud machine is irritating, but many are expected where?\n",
            "O: museum /// house /// laboratory /// library /// industrial area\n",
            "A:  laboratory area library area library area library area library area\n",
            "\n",
            "\n",
            "Model: laboratory area library area library area library area library area and Actual Answer: industrial area\n"
          ]
        },
        {
          "output_type": "stream",
          "name": "stderr",
          "text": [
            " 17%|█▋        | 203/1221 [00:35<02:55,  5.81it/s]"
          ]
        },
        {
          "output_type": "stream",
          "name": "stdout",
          "text": [
            "Q: What part of a table would you put a ruler in?\n",
            "O: drawer /// desk /// the backside /// office /// measure distance\n",
            "A:  desk drawer /// desk drawer /// desk drawer\n",
            "\n",
            "\n",
            "Model: desk drawer and Actual Answer: drawer\n",
            "Q: What happens if someone kisses too long?\n",
            "O: strong feelings /// herpes /// shortness of breath /// excitement /// arousal\n",
            "A:  shortness of breath or shortness of breath ///\n",
            "\n",
            "\n",
            "Model: shortness of breath or shortness of breath /// and Actual Answer: shortness of breath\n"
          ]
        },
        {
          "output_type": "stream",
          "name": "stderr",
          "text": [
            " 17%|█▋        | 205/1221 [00:35<02:53,  5.86it/s]"
          ]
        },
        {
          "output_type": "stream",
          "name": "stdout",
          "text": [
            "Q: If I have a modern light source in my living room, what is it likely to be?\n",
            "O: sky /// house /// lamp /// match /// candle\n",
            "A:  match match match match match match match match match match\n",
            "\n",
            "\n",
            "Model: match match match match match match match match match match and Actual Answer: lamp\n",
            "Q: The person saw the mess his children made, what was his following reaction?\n",
            "O: smell smoke /// cross street /// cry /// bank savings /// look angry\n",
            "A:  look angry at smoke smoke smoke smoke smoke smoke smoke\n",
            "\n",
            "\n",
            "Model: look angry at smoke smoke smoke smoke smoke smoke smoke and Actual Answer: look angry\n"
          ]
        },
        {
          "output_type": "stream",
          "name": "stderr",
          "text": [
            " 17%|█▋        | 207/1221 [00:35<02:51,  5.92it/s]"
          ]
        },
        {
          "output_type": "stream",
          "name": "stdout",
          "text": [
            "Q: Who might wear dark glasses indoors?\n",
            "O: blind person /// glove box /// movie studio /// ray charles /// glove compartment\n",
            "A:  glove box /// glove box /// glove compartment\n",
            "\n",
            "\n",
            "Model: glove box and Actual Answer: blind person\n",
            "Q: Where would stones not be arranged in a path?\n",
            "O: quarries /// field /// park /// bridge /// made from rocks\n",
            "A:  quarryries not made from rocks. /// quarryries\n",
            "\n",
            "\n",
            "Model: quarryries not made from rocks. and Actual Answer: field\n"
          ]
        },
        {
          "output_type": "stream",
          "name": "stderr",
          "text": [
            " 17%|█▋        | 209/1221 [00:36<02:55,  5.76it/s]"
          ]
        },
        {
          "output_type": "stream",
          "name": "stdout",
          "text": [
            "Q: A bald eagle is likely to be found on what kind of work?\n",
            "O: rural area /// book /// canada /// painting /// aviary\n",
            "A:  rural area area area area area area area area area\n",
            "\n",
            "\n",
            "Model: rural area area area area area area area area area and Actual Answer: painting\n",
            "Q: The hostess was good at her job, she always had a smile when she would what?\n",
            "O: group people /// ready parlor for guests /// welcome guests /// work room /// park\n",
            "A:  welcome guests guests guests guests guests guests guests guests guests\n",
            "\n",
            "\n",
            "Model: welcome guests guests guests guests guests guests guests guests guests and Actual Answer: welcome guests\n"
          ]
        },
        {
          "output_type": "stream",
          "name": "stderr",
          "text": [
            " 17%|█▋        | 211/1221 [00:36<02:53,  5.80it/s]"
          ]
        },
        {
          "output_type": "stream",
          "name": "stdout",
          "text": [
            "Q: What is likely to happen to someone who is learning?\n",
            "O: overconfidence /// effectiveness /// knowing more /// head grows larger /// growth\n",
            "A:  growth larger size larger than growth larger than growth larger\n",
            "\n",
            "\n",
            "Model: growth larger size larger than growth larger than growth larger and Actual Answer: knowing more\n",
            "Q: The inspector was agreeing with the factory protocols, what was the status of the factory?\n",
            "O: compliance /// eligible /// contract /// harmony /// friendship\n",
            "A:  compliance with contract /// compliance with contract /// compliance with\n",
            "\n",
            "\n",
            "Model: compliance with contract and Actual Answer: compliance\n"
          ]
        },
        {
          "output_type": "stream",
          "name": "stderr",
          "text": [
            " 17%|█▋        | 213/1221 [00:36<02:56,  5.72it/s]"
          ]
        },
        {
          "output_type": "stream",
          "name": "stdout",
          "text": [
            "Q: After standing up I had to sit right back down, why would I feel like this?\n",
            "O: train /// effort /// balance /// feet /// muscles\n",
            "A:  muscles muscles muscles muscles muscles muscles muscles muscles muscles muscles\n",
            "\n",
            "\n",
            "Model: muscles muscles muscles muscles muscles muscles muscles muscles muscles muscles and Actual Answer: balance\n",
            "Q: Where do you go on a night out before going to the bar?\n",
            "O: new york city /// las vegas /// restaurant /// nightclub /// park\n",
            "A:  restaurant restaurant restaurant restaurant restaurant restaurant restaurant restaurant restaurant restaurant\n",
            "\n",
            "\n",
            "Model: restaurant restaurant restaurant restaurant restaurant restaurant restaurant restaurant restaurant restaurant and Actual Answer: restaurant\n"
          ]
        },
        {
          "output_type": "stream",
          "name": "stderr",
          "text": [
            " 18%|█▊        | 215/1221 [00:37<02:52,  5.82it/s]"
          ]
        },
        {
          "output_type": "stream",
          "name": "stdout",
          "text": [
            "Q: The dad wanted to protect his house, where did he put his gun?\n",
            "O: police station /// crime scene /// restroom /// drawer /// holster\n",
            "A:  holster holster holster holster holster holster holster holster holster holster\n",
            "\n",
            "\n",
            "Model: holster holster holster holster holster holster holster holster holster holster and Actual Answer: drawer\n",
            "Q: What instrument can be played with an air of happiness?\n",
            "O: jump up and down /// jump up and down /// sing /// play games /// fiddle\n",
            "A:  fiddle games are played with an air of happiness\n",
            "\n",
            "\n",
            "Model: fiddle games are played with an air of happiness and Actual Answer: fiddle\n"
          ]
        },
        {
          "output_type": "stream",
          "name": "stderr",
          "text": [
            " 18%|█▊        | 217/1221 [00:37<02:51,  5.84it/s]"
          ]
        },
        {
          "output_type": "stream",
          "name": "stdout",
          "text": [
            "Q: What to kids do for boredom on a ramp?\n",
            "O: watch film /// fire game /// hang out at bar /// go skiing /// skateboard\n",
            "A:  go skiing rink rink rink rink rink rink rink rink\n",
            "\n",
            "\n",
            "Model: go skiing rink rink rink rink rink rink rink rink and Actual Answer: skateboard\n",
            "Q: What animal has quills all over it?\n",
            "O: feather /// chicken /// calligraphy /// porcupine /// hedgehog\n",
            "A:  hen's calligraphy calligraphy calligraph\n",
            "\n",
            "\n",
            "Model: hen's calligraphy calligraphy calligraph and Actual Answer: hedgehog\n"
          ]
        },
        {
          "output_type": "stream",
          "name": "stderr",
          "text": [
            " 18%|█▊        | 219/1221 [00:37<02:50,  5.88it/s]"
          ]
        },
        {
          "output_type": "stream",
          "name": "stdout",
          "text": [
            "Q: Why would you go to an office?\n",
            "O: work /// school building /// paper /// city /// habit\n",
            "A:  school building /// city building /// city building\n",
            "\n",
            "\n",
            "Model: school building and Actual Answer: work\n",
            "Q: When is the worst time for having food?\n",
            "O: digesting /// not hungry /// gas /// weight gain /// feeling of fullness\n",
            "A:  digesting food and digesting food and digesting\n",
            "\n",
            "\n",
            "Model: digesting food and digesting food and digesting and Actual Answer: not hungry\n"
          ]
        },
        {
          "output_type": "stream",
          "name": "stderr",
          "text": [
            " 18%|█▊        | 221/1221 [00:38<02:49,  5.90it/s]"
          ]
        },
        {
          "output_type": "stream",
          "name": "stdout",
          "text": [
            "Q: If you spend all your time buying and not saving what is is likely to happen?\n",
            "O: using money /// feel better /// ocean /// losing money /// go broke\n",
            "A:  losing money /// losing money /// losing money\n",
            "\n",
            "\n",
            "Model: losing money and Actual Answer: go broke\n",
            "Q: Though a mouse might prefer your house, you might also see him where?\n",
            "O: tin /// department store /// garden /// small hole /// cupboard\n",
            "A:  garden store store store store store store store store store\n",
            "\n",
            "\n",
            "Model: garden store store store store store store store store store and Actual Answer: garden\n"
          ]
        },
        {
          "output_type": "stream",
          "name": "stderr",
          "text": [
            " 18%|█▊        | 223/1221 [00:38<02:48,  5.92it/s]"
          ]
        },
        {
          "output_type": "stream",
          "name": "stdout",
          "text": [
            "Q: What is performing a type of?\n",
            "O: singing /// act /// feat /// smile /// acting\n",
            "A:  acting acting acting acting acting acting acting acting acting acting\n",
            "\n",
            "\n",
            "Model: acting acting acting acting acting acting acting acting acting acting and Actual Answer: act\n",
            "Q: The car was going from Alabama to New York, what was its goal?\n",
            "O: head north /// speed up /// heading north /// go fast /// headed south\n",
            "A:  heading north north north north north north north north north\n",
            "\n",
            "\n",
            "Model: heading north north north north north north north north north and Actual Answer: head north\n"
          ]
        },
        {
          "output_type": "stream",
          "name": "stderr",
          "text": [
            " 18%|█▊        | 225/1221 [00:38<02:48,  5.91it/s]"
          ]
        },
        {
          "output_type": "stream",
          "name": "stdout",
          "text": [
            "Q: What do they call the trash in Australia?\n",
            "O: dirt /// subway /// state park /// container /// dustbin\n",
            "A:  state park park park park park park park park park\n",
            "\n",
            "\n",
            "Model: state park park park park park park park park park and Actual Answer: dustbin\n",
            "Q: Joan wants to cook a potato, where should she place it?\n",
            "O: boiling water /// paper bag /// restaurants /// underground /// cupboard\n",
            "A:  cupboard /// cupboard /// cupboard\n",
            "\n",
            "\n",
            "Model: cupboard and Actual Answer: boiling water\n"
          ]
        },
        {
          "output_type": "stream",
          "name": "stderr",
          "text": [
            " 19%|█▊        | 227/1221 [00:39<02:52,  5.77it/s]"
          ]
        },
        {
          "output_type": "stream",
          "name": "stdout",
          "text": [
            "Q: Writers with a great what can amass a large fortune?\n",
            "O: cookie /// bank /// real estate /// imagination /// bank roll\n",
            "A:  bank roll roll roll roll roll roll roll roll roll\n",
            "\n",
            "\n",
            "Model: bank roll roll roll roll roll roll roll roll roll and Actual Answer: imagination\n",
            "Q: Where do all animals live?\n",
            "O: the moon /// fairgrounds /// surface of earth /// meadow /// zoos\n",
            "A:  zoosgrounds of earth earth earth earth earth earth\n",
            "\n",
            "\n",
            "Model: zoosgrounds of earth earth earth earth earth earth and Actual Answer: surface of earth\n"
          ]
        },
        {
          "output_type": "stream",
          "name": "stderr",
          "text": [
            " 19%|█▉        | 229/1221 [00:39<02:48,  5.87it/s]"
          ]
        },
        {
          "output_type": "stream",
          "name": "stdout",
          "text": [
            "Q: How are the conditions for someone who is living in a homeless shelter?\n",
            "O: sometimes bad /// happy /// respiration /// growing older /// death\n",
            "A:  respirationiration and growth older age age age age\n",
            "\n",
            "\n",
            "Model: respirationiration and growth older age age age age and Actual Answer: sometimes bad\n",
            "Q: You can do knitting to get the feeling of what?\n",
            "O: relaxation /// arthritis /// adrenaline /// your /// sweater may produced\n",
            "A:  relaxation or relaxation or relaxation or relaxation or relaxation or\n",
            "\n",
            "\n",
            "Model: relaxation or relaxation or relaxation or relaxation or relaxation or and Actual Answer: relaxation\n"
          ]
        },
        {
          "output_type": "stream",
          "name": "stderr",
          "text": [
            " 19%|█▉        | 231/1221 [00:39<02:49,  5.83it/s]"
          ]
        },
        {
          "output_type": "stream",
          "name": "stdout",
          "text": [
            "Q: What might a very large table be?\n",
            "O: dining room /// conference /// kitchen /// in a lake /// demonstration\n",
            "A:  conference room /// conference room /// conference room\n",
            "\n",
            "\n",
            "Model: conference room and Actual Answer: conference\n",
            "Q: John got his tax refund back.  He treated it like it was what?\n",
            "O: candy /// death and /// free money /// discount /// credit\n",
            "A:  free money and free money and free money and free\n",
            "\n",
            "\n",
            "Model: free money and free money and free money and free and Actual Answer: free money\n"
          ]
        },
        {
          "output_type": "stream",
          "name": "stderr",
          "text": [
            " 19%|█▉        | 233/1221 [00:40<02:47,  5.90it/s]"
          ]
        },
        {
          "output_type": "stream",
          "name": "stdout",
          "text": [
            "Q: A person with an allergy might be doing what if they awake suddenly?\n",
            "O: have fun /// enjoy with friends /// stretch /// yawn /// sneezing\n",
            "A:  yawning with friends /// yawning with friends ///\n",
            "\n",
            "\n",
            "Model: yawning with friends and Actual Answer: sneezing\n",
            "Q: Where is a ferret unlikely to be?\n",
            "O: classroom /// outdoors /// aquarium /// north carolina /// great britain\n",
            "A:  aquarium aquarium aquarium aquarium aquarium aquarium aquarium aquarium aquarium aquarium\n",
            "\n",
            "\n",
            "Model: aquarium aquarium aquarium aquarium aquarium aquarium aquarium aquarium aquarium aquarium and Actual Answer: classroom\n"
          ]
        },
        {
          "output_type": "stream",
          "name": "stderr",
          "text": [
            " 19%|█▉        | 235/1221 [00:40<02:46,  5.91it/s]"
          ]
        },
        {
          "output_type": "stream",
          "name": "stdout",
          "text": [
            "Q: If you jump in any of the oceans you will get?\n",
            "O: tanned /// wet /// wide /// very deep /// fish\n",
            "A:  wetting water very deep and wide /// very deep\n",
            "\n",
            "\n",
            "Model: wetting water very deep and wide and Actual Answer: wet\n",
            "Q: Immediately after peeing, a person's bladder is what?\n",
            "O: collapsed /// empty /// full /// filled /// stretchable\n",
            "A:  filled up and filled up and filled up /// filled\n",
            "\n",
            "\n",
            "Model: filled up and filled up and filled up and Actual Answer: empty\n"
          ]
        },
        {
          "output_type": "stream",
          "name": "stderr",
          "text": [
            " 19%|█▉        | 237/1221 [00:40<02:46,  5.90it/s]"
          ]
        },
        {
          "output_type": "stream",
          "name": "stdout",
          "text": [
            "Q: The lady would eat and eat, and because of mental issues would then make herself what?\n",
            "O: wash dishes /// throwing up /// drinking /// throw up /// turn inside out\n",
            "A:  drink up dishes dishes dishes dishes dishes dishes dishes dishes\n",
            "\n",
            "\n",
            "Model: drink up dishes dishes dishes dishes dishes dishes dishes dishes and Actual Answer: throw up\n",
            "Q: A car was hailed to chauffeur someone to the opera house, where was it heading?\n",
            "O: go downtown /// appear suddenly /// go fast /// bottom out /// east\n",
            "A:  eastwardwardwardwardwardwardwardwardward\n",
            "\n",
            "\n",
            "Model: eastwardwardwardwardwardwardwardwardward and Actual Answer: go downtown\n"
          ]
        },
        {
          "output_type": "stream",
          "name": "stderr",
          "text": [
            " 20%|█▉        | 239/1221 [00:41<02:47,  5.86it/s]"
          ]
        },
        {
          "output_type": "stream",
          "name": "stdout",
          "text": [
            "Q: What do you go to see for live entertainment?\n",
            "O: movie /// show /// concert venue /// casino /// theatre\n",
            "A:  movie venue venue venue venue venue venue venue venue venue\n",
            "\n",
            "\n",
            "Model: movie venue venue venue venue venue venue venue venue venue and Actual Answer: show\n",
            "Q: The teacher thought that a ferret can be very mischievous and probably wouldn't make a great pet for the entire what?\n",
            "O: bad mood /// hutch /// classroom /// pair of trousers /// year\n",
            "A:  bad mood mood mood mood.  bad mood.\n",
            "\n",
            "\n",
            "Model: bad mood mood mood mood.  bad mood. and Actual Answer: classroom\n"
          ]
        },
        {
          "output_type": "stream",
          "name": "stderr",
          "text": [
            " 20%|█▉        | 241/1221 [00:41<02:46,  5.90it/s]"
          ]
        },
        {
          "output_type": "stream",
          "name": "stdout",
          "text": [
            "Q: A creek is a body of water found in what low land?\n",
            "O: forest /// valley /// outdoors /// countryside /// woods\n",
            "A:  countryside countryside countryside countryside countryside countryside countryside countryside countryside countryside\n",
            "\n",
            "\n",
            "Model: countryside countryside countryside countryside countryside countryside countryside countryside countryside countryside and Actual Answer: valley\n",
            "Q: If I have a pet bird, what does it likely live in?\n",
            "O: forest /// bathroom /// windowsill /// countryside /// cage\n",
            "A:  countryside area area area area area area area area area\n",
            "\n",
            "\n",
            "Model: countryside area area area area area area area area area and Actual Answer: cage\n"
          ]
        },
        {
          "output_type": "stream",
          "name": "stderr",
          "text": [
            " 20%|█▉        | 243/1221 [00:41<02:46,  5.89it/s]"
          ]
        },
        {
          "output_type": "stream",
          "name": "stdout",
          "text": [
            "Q: Joe and Mac were playing basketball. They did it every day in their back yard.  Why were they playing basketball?\n",
            "O: study /// have fun /// pain /// cheers /// knee injury\n",
            "A:  have fun and cheerleading\n",
            "\n",
            "\n",
            "Model: have fun and cheerleading and Actual Answer: have fun\n",
            "Q: What makes someone a nomad?\n",
            "O: unpleasant things /// hangnail /// have no home /// have no car /// schizophrenia\n",
            "A:  hangnail no home no home no home no\n",
            "\n",
            "\n",
            "Model: hangnail no home no home no home no and Actual Answer: have no home\n"
          ]
        },
        {
          "output_type": "stream",
          "name": "stderr",
          "text": [
            " 20%|██        | 245/1221 [00:42<02:45,  5.89it/s]"
          ]
        },
        {
          "output_type": "stream",
          "name": "stdout",
          "text": [
            "Q: What is a treat that you dog will enjoy?\n",
            "O: salad /// petted /// affection /// bone /// lots of attention\n",
            "A:  petted by petted by petted by pet\n",
            "\n",
            "\n",
            "Model: petted by petted by petted by pet and Actual Answer: bone\n",
            "Q: Women used to be expected to wear a dress but it's now acceptable for them to wear what?\n",
            "O: man suit /// pants /// naked /// action /// long skirt\n",
            "A:  long skirt skirt skirt skirt skirt skirt skirt skirt skirt\n",
            "\n",
            "\n",
            "Model: long skirt skirt skirt skirt skirt skirt skirt skirt skirt and Actual Answer: pants\n"
          ]
        },
        {
          "output_type": "stream",
          "name": "stderr",
          "text": [
            " 20%|██        | 247/1221 [00:42<02:45,  5.87it/s]"
          ]
        },
        {
          "output_type": "stream",
          "name": "stdout",
          "text": [
            "Q: The fact that Joe was able to memorize the list in spite of his apparent  state proved that part of his brain was what?\n",
            "O: awake /// repeat /// sleeping /// concentrate /// read aloud\n",
            "A:  awake awake awake awake awake awake awake awake awake awake\n",
            "\n",
            "\n",
            "Model: awake awake awake awake awake awake awake awake awake awake and Actual Answer: awake\n",
            "Q: What is a wet person likely to do?\n",
            "O: gain weight /// thank god /// catch cold /// suicide /// cross street\n",
            "A:  cross street street street street street street street street street\n",
            "\n",
            "\n",
            "Model: cross street street street street street street street street street and Actual Answer: catch cold\n"
          ]
        },
        {
          "output_type": "stream",
          "name": "stderr",
          "text": [
            " 20%|██        | 249/1221 [00:42<02:51,  5.66it/s]"
          ]
        },
        {
          "output_type": "stream",
          "name": "stdout",
          "text": [
            "Q: After recovering from the disease, what did the doctor call the patient?\n",
            "O: healthy /// passing around /// cure /// wellness /// healthy\n",
            "A:  healthy healthy healthy healthy healthy healthy healthy healthy healthy healthy\n",
            "\n",
            "\n",
            "Model: healthy healthy healthy healthy healthy healthy healthy healthy healthy healthy and Actual Answer: healthy\n",
            "Q: The painter started to edge the room with tape, he always took extra care to make the lines clean and crisp when working with an what?\n",
            "O: triangle /// middle /// corner /// center /// interior\n",
            "A:  center corner corner corner corner corner corner corner corner corner\n",
            "\n",
            "\n",
            "Model: center corner corner corner corner corner corner corner corner corner and Actual Answer: interior\n"
          ]
        },
        {
          "output_type": "stream",
          "name": "stderr",
          "text": [
            " 21%|██        | 251/1221 [00:43<02:47,  5.79it/s]"
          ]
        },
        {
          "output_type": "stream",
          "name": "stdout",
          "text": [
            "Q: After high tide, where on the coast can you look to find a sea anemone?\n",
            "O: nursery /// museum /// gulf of mexico /// tide pool /// intertidal zone\n",
            "A:  gulf of mexico /// gulf of mex\n",
            "\n",
            "\n",
            "Model: gulf of mexico and Actual Answer: tide pool\n",
            "Q: What could a driving car do to a pedestrian?\n",
            "O: say hello /// wreak /// pollution /// smoke /// relaxation\n",
            "A:  smoke pollution and pollution and pollution and pollution and pollution\n",
            "\n",
            "\n",
            "Model: smoke pollution and pollution and pollution and pollution and pollution and Actual Answer: wreak\n"
          ]
        },
        {
          "output_type": "stream",
          "name": "stderr",
          "text": [
            " 21%|██        | 253/1221 [00:43<02:45,  5.87it/s]"
          ]
        },
        {
          "output_type": "stream",
          "name": "stdout",
          "text": [
            "Q: People do many things to alleviate boredom.  If you can't get out of the house you might decide to do what?\n",
            "O: play cards /// skateboard /// meet interesting people /// listen to music /// go to a concert\n",
            "A:  go to a concert hall hall hall hall hall hall\n",
            "\n",
            "\n",
            "Model: go to a concert hall hall hall hall hall hall and Actual Answer: listen to music\n",
            "Q: At a grocery store they sell individual potatoes, where does the grocery clerk likely put the potato?\n",
            "O: boiling water /// root cellar /// rocket ship /// paper bag /// underground\n",
            "A:  paper bag /// paper bag /// paper bag\n",
            "\n",
            "\n",
            "Model: paper bag and Actual Answer: paper bag\n"
          ]
        },
        {
          "output_type": "stream",
          "name": "stderr",
          "text": [
            " 21%|██        | 255/1221 [00:43<02:45,  5.82it/s]"
          ]
        },
        {
          "output_type": "stream",
          "name": "stdout",
          "text": [
            "Q: What room is a rubber bath mat usually kept?\n",
            "O: doorway /// living room /// sand /// floors /// bathroom\n",
            "A:  bathroom floor floor floor floor floor floor floor floor floor\n",
            "\n",
            "\n",
            "Model: bathroom floor floor floor floor floor floor floor floor floor and Actual Answer: bathroom\n",
            "Q: What would you put meat on top of to cook it?\n",
            "O: oil /// freezer /// ham sandwich /// oven /// frying pan\n",
            "A:  frying pan pan pan pan pan pan pan pan pan\n",
            "\n",
            "\n",
            "Model: frying pan pan pan pan pan pan pan pan pan and Actual Answer: frying pan\n"
          ]
        },
        {
          "output_type": "stream",
          "name": "stderr",
          "text": [
            " 21%|██        | 257/1221 [00:44<02:44,  5.86it/s]"
          ]
        },
        {
          "output_type": "stream",
          "name": "stdout",
          "text": [
            "Q: Minerals can be obtained in what way for a person who avoids leafy greens?\n",
            "O: multivitamin /// farm /// michigan /// earth /// ore\n",
            "A:  michigan /// michigan /// mich\n",
            "\n",
            "\n",
            "Model: michigan and Actual Answer: multivitamin\n",
            "Q: What could you be a few hours after you finish cashing in due to your cash?\n",
            "O: happy /// receiving money /// getting paid /// spending money /// selling out\n",
            "A:  spending money out of money /// spending money out of\n",
            "\n",
            "\n",
            "Model: spending money out of money and Actual Answer: happy\n"
          ]
        },
        {
          "output_type": "stream",
          "name": "stderr",
          "text": [
            " 21%|██        | 259/1221 [00:44<02:42,  5.91it/s]"
          ]
        },
        {
          "output_type": "stream",
          "name": "stdout",
          "text": [
            "Q: The smelly man was having a bath, but what is he pursuing?\n",
            "O: hydration /// being clear /// personal cleanliness /// will drown /// use of water\n",
            "A:  hydration of water flow from water flow from water\n",
            "\n",
            "\n",
            "Model: hydration of water flow from water flow from water and Actual Answer: personal cleanliness\n",
            "Q: What might a couple have a lot of when they are deciding on stopping being married to each other?\n",
            "O: pleasure /// detachment /// exercise /// bankruptcy /// fights\n",
            "A:  separation of love and bankruptcy.  separation of love\n",
            "\n",
            "\n",
            "Model: separation of love and bankruptcy.  separation of love and Actual Answer: fights\n"
          ]
        },
        {
          "output_type": "stream",
          "name": "stderr",
          "text": [
            " 21%|██▏       | 261/1221 [00:44<02:45,  5.80it/s]"
          ]
        },
        {
          "output_type": "stream",
          "name": "stdout",
          "text": [
            "Q: If a person is working a lot, what are they likely trying to earn?\n",
            "O: much money /// own house /// creativity /// new car /// caregiver\n",
            "A:  much money new car career's house /// careg\n",
            "\n",
            "\n",
            "Model: much money new car career's house and Actual Answer: much money\n",
            "Q: The traveling business man was glad his credit card had perks, it offset the high prices for travel from a what?\n",
            "O: car /// theatre /// airport /// hotel /// disneyland\n",
            "A:  hotel hotel hotel hotel hotel hotel hotel hotel hotel hotel\n",
            "\n",
            "\n",
            "Model: hotel hotel hotel hotel hotel hotel hotel hotel hotel hotel and Actual Answer: airport\n"
          ]
        },
        {
          "output_type": "stream",
          "name": "stderr",
          "text": [
            " 22%|██▏       | 263/1221 [00:45<02:45,  5.80it/s]"
          ]
        },
        {
          "output_type": "stream",
          "name": "stdout",
          "text": [
            "Q: Billy hated using other people's toilets. He was only comfortable on his own.  So whenever he needed to poop, he would go back to his what?\n",
            "O: bathroom /// motel room /// nearest public restroom /// house /// apartment\n",
            "A:  apartment room room room room room room room room room\n",
            "\n",
            "\n",
            "Model: apartment room room room room room room room room room and Actual Answer: house\n",
            "Q: The forest experienced a cold winter, where is it located?\n",
            "O: earth /// south america /// amazon basin /// temperate zone /// national park\n",
            "A:  amazon basin basin basin basin basin basin basin basin\n",
            "\n",
            "\n",
            "Model: amazon basin basin basin basin basin basin basin basin and Actual Answer: temperate zone\n"
          ]
        },
        {
          "output_type": "stream",
          "name": "stderr",
          "text": [
            " 22%|██▏       | 265/1221 [00:45<02:46,  5.74it/s]"
          ]
        },
        {
          "output_type": "stream",
          "name": "stdout",
          "text": [
            "Q: How can you let someone know about your anger without hurting him or her?\n",
            "O: release energy /// destroy enemy /// punch /// write letter /// lose your temper\n",
            "A:  release energy force force force force force force force force\n",
            "\n",
            "\n",
            "Model: release energy force force force force force force force force and Actual Answer: write letter\n",
            "Q: Where is one likely to find a brownstone?\n",
            "O: new york city /// subdivision /// ring /// hazleton /// live in\n",
            "A:  new york city city city city city city city\n",
            "\n",
            "\n",
            "Model: new york city city city city city city city and Actual Answer: new york city\n"
          ]
        },
        {
          "output_type": "stream",
          "name": "stderr",
          "text": [
            " 22%|██▏       | 267/1221 [00:46<02:51,  5.57it/s]"
          ]
        },
        {
          "output_type": "stream",
          "name": "stdout",
          "text": [
            "Q: What may I place the telephone on?\n",
            "O: bar /// friend's house /// desktop /// party /// office\n",
            "A:  desktop PC:  desktop PC:  desktop PC\n",
            "\n",
            "\n",
            "Model: desktop PC:  desktop PC:  desktop PC and Actual Answer: desktop\n",
            "Q: What language type is someone from Iran likely to use?\n",
            "O: books /// dard /// sky /// closed room /// television\n",
            "A:  books books books books books books books books books books\n",
            "\n",
            "\n",
            "Model: books books books books books books books books books books and Actual Answer: dard\n"
          ]
        },
        {
          "output_type": "stream",
          "name": "stderr",
          "text": [
            " 22%|██▏       | 269/1221 [00:46<02:48,  5.64it/s]"
          ]
        },
        {
          "output_type": "stream",
          "name": "stdout",
          "text": [
            "Q: John went to a party that lasted all night.  Because of this, he didn't have time for what?\n",
            "O: meeting /// blowing off steam /// stay home /// partying hard /// studying\n",
            "A:  partying hard hard hard hard hard hard hard hard hard\n",
            "\n",
            "\n",
            "Model: partying hard hard hard hard hard hard hard hard hard and Actual Answer: studying\n",
            "Q: The child wasn't allowed in the kitchen but still wanted to help, what could it do to help in the dining room?\n",
            "O: set table /// form opinions /// make honey /// become adult /// gather flowers\n",
            "A:  gather flowers flowers flowers flowers flowers flowers flowers flowers flowers\n",
            "\n",
            "\n",
            "Model: gather flowers flowers flowers flowers flowers flowers flowers flowers flowers and Actual Answer: set table\n"
          ]
        },
        {
          "output_type": "stream",
          "name": "stderr",
          "text": [
            " 22%|██▏       | 271/1221 [00:46<02:44,  5.77it/s]"
          ]
        },
        {
          "output_type": "stream",
          "name": "stdout",
          "text": [
            "Q: He was having a hard time expressing himself in a healthy way, the psychologist said he was mentally what?\n",
            "O: slow /// understood /// suffering /// embarrassment /// fun\n",
            "A:  slow\n",
            "\n",
            "\n",
            "Model: slow and Actual Answer: suffering\n",
            "Q: When someone is physically competing what does their body do?\n",
            "O: tension /// perform better /// releases heat /// winning or losing /// sweat\n",
            "A:  sweat or sweat or sweat or sweat or sweat or\n",
            "\n",
            "\n",
            "Model: sweat or sweat or sweat or sweat or sweat or and Actual Answer: sweat\n"
          ]
        },
        {
          "output_type": "stream",
          "name": "stderr",
          "text": [
            " 22%|██▏       | 273/1221 [00:47<02:41,  5.85it/s]"
          ]
        },
        {
          "output_type": "stream",
          "name": "stdout",
          "text": [
            "Q: How would you express information to a deaf person?\n",
            "O: summarize main points /// close mouth /// write down /// may disagree /// talk\n",
            "A:  summarize main points points points points points points points points\n",
            "\n",
            "\n",
            "Model: summarize main points points points points points points points points and Actual Answer: write down\n",
            "Q: Printing on a printer can get expensive because it does what?\n",
            "O: explode /// use paper /// store information /// queue /// noise\n",
            "A:  use paper paper and store information about information about information\n",
            "\n",
            "\n",
            "Model: use paper paper and store information about information about information and Actual Answer: use paper\n"
          ]
        },
        {
          "output_type": "stream",
          "name": "stderr",
          "text": [
            " 23%|██▎       | 275/1221 [00:47<02:40,  5.90it/s]"
          ]
        },
        {
          "output_type": "stream",
          "name": "stdout",
          "text": [
            "Q: What will god never do according to religion?\n",
            "O: anything /// judge people /// work miracles /// judge men /// everywhere\n",
            "A:  judge men men men men men men men men men\n",
            "\n",
            "\n",
            "Model: judge men men men men men men men men men and Actual Answer: judge people\n",
            "Q: One of the potential hazards of attending school is what?\n",
            "O: cooties /// get smart /// boredom /// colds and flu /// taking tests\n",
            "A:  boredom and fluidity and fluidity /// boredom and\n",
            "\n",
            "\n",
            "Model: boredom and fluidity and fluidity and Actual Answer: colds and flu\n"
          ]
        },
        {
          "output_type": "stream",
          "name": "stderr",
          "text": [
            " 23%|██▎       | 277/1221 [00:47<02:38,  5.94it/s]"
          ]
        },
        {
          "output_type": "stream",
          "name": "stdout",
          "text": [
            "Q: What has a surface with many sides?\n",
            "O: tetrahedron /// object /// geometry problem /// lake /// triangle\n",
            "A:  triangle problem solved /// triangle problem solved /// triangle problem\n",
            "\n",
            "\n",
            "Model: triangle problem solved and Actual Answer: tetrahedron\n",
            "Q: What could bring a container from one place to another?\n",
            "O: food /// refrigerator /// cargo ship /// port /// fuel\n",
            "A:  container ship container ship container ship container ship container ship\n",
            "\n",
            "\n",
            "Model: container ship container ship container ship container ship container ship and Actual Answer: cargo ship\n"
          ]
        },
        {
          "output_type": "stream",
          "name": "stderr",
          "text": [
            " 23%|██▎       | 279/1221 [00:48<02:39,  5.90it/s]"
          ]
        },
        {
          "output_type": "stream",
          "name": "stdout",
          "text": [
            "Q: The old style pop ups literally let you see the story when you did what?\n",
            "O: giggle /// visualize /// open book /// reading /// go to movies\n",
            "A:  visualize the story when you did what?  visualize\n",
            "\n",
            "\n",
            "Model: visualize the story when you did what?  visualize and Actual Answer: open book\n",
            "Q: What is it called when you are talking to someone?\n",
            "O: communication /// quiet /// boredom /// persuaded /// learn\n",
            "A:  communication between people /// communication between people /// communication between\n",
            "\n",
            "\n",
            "Model: communication between people and Actual Answer: communication\n"
          ]
        },
        {
          "output_type": "stream",
          "name": "stderr",
          "text": [
            " 23%|██▎       | 281/1221 [00:48<02:43,  5.76it/s]"
          ]
        },
        {
          "output_type": "stream",
          "name": "stdout",
          "text": [
            "Q: The family finished dinner, the child's chore was to load the dirty dishes where?\n",
            "O: restaurant kitchen /// dishwasher /// son's room /// cabinet /// party\n",
            "A:  restaurant kitchen kitchen cabinet cabinet cabinet cabinet cabinet cabinet cabinet\n",
            "\n",
            "\n",
            "Model: restaurant kitchen kitchen cabinet cabinet cabinet cabinet cabinet cabinet cabinet and Actual Answer: dishwasher\n",
            "Q: Where could you find a bureau as well as many politicians?\n",
            "O: each city /// office building /// a zoo /// french government /// washington dc\n",
            "A:  french government building /// french government building /// french government\n",
            "\n",
            "\n",
            "Model: french government building and Actual Answer: washington dc\n"
          ]
        },
        {
          "output_type": "stream",
          "name": "stderr",
          "text": [
            " 23%|██▎       | 283/1221 [00:48<02:43,  5.74it/s]"
          ]
        },
        {
          "output_type": "stream",
          "name": "stdout",
          "text": [
            "Q: Dad wanted to hide the check in his office, where did he put it?\n",
            "O: cash register /// desk drawer /// fish tank /// bank /// pay envelope\n",
            "A:  bank drawer drawer drawer drawer drawer drawer drawer drawer drawer\n",
            "\n",
            "\n",
            "Model: bank drawer drawer drawer drawer drawer drawer drawer drawer drawer and Actual Answer: desk drawer\n",
            "Q: For some reason she was devoid of regular emotions, buying products was the only way she could feel what?\n",
            "O: pleasure /// owning /// debt /// spending money /// smart\n",
            "A:  pleasure and spending money /// spending money\n",
            "\n",
            "\n",
            "Model: pleasure and spending money and Actual Answer: pleasure\n"
          ]
        },
        {
          "output_type": "stream",
          "name": "stderr",
          "text": [
            " 23%|██▎       | 285/1221 [00:49<02:40,  5.85it/s]"
          ]
        },
        {
          "output_type": "stream",
          "name": "stdout",
          "text": [
            "Q: Where are horses judged on appearance?\n",
            "O: race track /// fair /// raised by humans /// in a field /// countryside\n",
            "A:  race track track track track track track track track track\n",
            "\n",
            "\n",
            "Model: race track track track track track track track track track and Actual Answer: fair\n",
            "Q: Why do people read non fiction?\n",
            "O: having fun /// it's more relatable /// learn new things /// becoming absorbed /// falling asleep\n",
            "A:  learning new things is more relatable to new things\n",
            "\n",
            "\n",
            "Model: learning new things is more relatable to new things and Actual Answer: learn new things\n"
          ]
        },
        {
          "output_type": "stream",
          "name": "stderr",
          "text": [
            " 24%|██▎       | 287/1221 [00:49<02:38,  5.88it/s]"
          ]
        },
        {
          "output_type": "stream",
          "name": "stdout",
          "text": [
            "Q: While knitting you can do what using a radio?\n",
            "O: listen to music /// watch television /// making blankets /// eat /// watching tv\n",
            "A:  make blankets /// make blankets /// make blankets\n",
            "\n",
            "\n",
            "Model: make blankets and Actual Answer: listen to music\n",
            "Q: Where are you likely to set papers while working on them?\n",
            "O: table /// meeting /// drawer /// toilet /// garage\n",
            "A:  table meeting table /// meeting table /// meeting table\n",
            "\n",
            "\n",
            "Model: table meeting table and Actual Answer: table\n"
          ]
        },
        {
          "output_type": "stream",
          "name": "stderr",
          "text": [
            " 24%|██▎       | 289/1221 [00:49<02:37,  5.91it/s]"
          ]
        },
        {
          "output_type": "stream",
          "name": "stdout",
          "text": [
            "Q: John had a massive debt to 50 million dollars.  Compared to that, Leo's 2000 dollar debt seemed what?\n",
            "O: dwarf /// inconsequential /// insubstantial /// lame /// tiny\n",
            "A:  insignificant.  insignificant.  insignificant.  insignificant\n",
            "\n",
            "\n",
            "Model: insignificant.  insignificant.  insignificant.  insignificant and Actual Answer: insubstantial\n",
            "Q: The man flew his airplane over the city and saw pollution visibly in the sky, what was polluted?\n",
            "O: forest /// street /// air /// caused by humans /// car show\n",
            "A:  air show show show show show show show show show\n",
            "\n",
            "\n",
            "Model: air show show show show show show show show show and Actual Answer: air\n"
          ]
        },
        {
          "output_type": "stream",
          "name": "stderr",
          "text": [
            " 24%|██▍       | 291/1221 [00:50<02:40,  5.80it/s]"
          ]
        },
        {
          "output_type": "stream",
          "name": "stdout",
          "text": [
            "Q: What is a very unlikely side effect of becoming inebriated?\n",
            "O: fights /// drunkenness /// staggering /// puke /// paralysis\n",
            "A:  paralysis paralysis paralysis paralysis paralysis paralysis paralysis paralysis paralysis paralysis\n",
            "\n",
            "\n",
            "Model: paralysis paralysis paralysis paralysis paralysis paralysis paralysis paralysis paralysis paralysis and Actual Answer: paralysis\n",
            "Q: when communicating with my boss what should i do\n",
            "O: misunderstandings /// transfer of information /// learning /// confusion /// silence\n",
            "A:  transfer of information /// transfer of information /// transfer of\n",
            "\n",
            "\n",
            "Model: transfer of information and Actual Answer: transfer of information\n"
          ]
        },
        {
          "output_type": "stream",
          "name": "stderr",
          "text": [
            " 24%|██▍       | 293/1221 [00:50<02:39,  5.83it/s]"
          ]
        },
        {
          "output_type": "stream",
          "name": "stdout",
          "text": [
            "Q: If not in a stream but in a market where will you find fish?\n",
            "O: stream /// aquarium /// refrigerator /// boat ride /// market\n",
            "A:  market place where will you find fish market place where\n",
            "\n",
            "\n",
            "Model: market place where will you find fish market place where and Actual Answer: refrigerator\n",
            "Q: What are people likely to want to do with their friends?\n",
            "O: own land /// own home /// talk to each other /// believe in god /// spend time\n",
            "A:  own home land land land land land land land land\n",
            "\n",
            "\n",
            "Model: own home land land land land land land land land and Actual Answer: spend time\n"
          ]
        },
        {
          "output_type": "stream",
          "name": "stderr",
          "text": [
            " 24%|██▍       | 295/1221 [00:50<02:38,  5.84it/s]"
          ]
        },
        {
          "output_type": "stream",
          "name": "stdout",
          "text": [
            "Q: During a shark filled tornado where should you not be?\n",
            "O: marine museum /// pool hall /// noodle house /// bad movie /// outside\n",
            "A:  pool hall hall hall hall hall hall hall hall hall\n",
            "\n",
            "\n",
            "Model: pool hall hall hall hall hall hall hall hall hall and Actual Answer: outside\n",
            "Q: What is the likely result of buying products in excess?\n",
            "O: running out of money /// spending money /// poverty /// comparison shopping /// overstocking\n",
            "A:  overstocking\n",
            "\n",
            "\n",
            "Model: overstocking and Actual Answer: overstocking\n"
          ]
        },
        {
          "output_type": "stream",
          "name": "stderr",
          "text": [
            " 24%|██▍       | 297/1221 [00:51<02:38,  5.83it/s]"
          ]
        },
        {
          "output_type": "stream",
          "name": "stdout",
          "text": [
            "Q: What is a person trying to accomplish when taking analgesics?\n",
            "O: acceptance /// avoid pain /// acknowledgment /// passing grade /// intellectual challenge\n",
            "A:  acceptance of pain or passing grade or passing grade or\n",
            "\n",
            "\n",
            "Model: acceptance of pain or passing grade or passing grade or and Actual Answer: avoid pain\n",
            "Q: Where would you put a glass after drinking from it?\n",
            "O: ocean /// water cooler /// cabinet /// dishwasher /// dining room\n",
            "A:  dishwasherwasherwasherwasherwasherwasherwasherwasherwasher\n",
            "\n",
            "\n",
            "Model: dishwasherwasherwasherwasherwasherwasherwasherwasherwasher and Actual Answer: dishwasher\n"
          ]
        },
        {
          "output_type": "stream",
          "name": "stderr",
          "text": [
            " 24%|██▍       | 299/1221 [00:51<02:37,  5.87it/s]"
          ]
        },
        {
          "output_type": "stream",
          "name": "stdout",
          "text": [
            "Q: Where would you buy food?\n",
            "O: freezer /// store /// home /// hatred /// kitchen\n",
            "A:  store food market place place place place place place place\n",
            "\n",
            "\n",
            "Model: store food market place place place place place place place and Actual Answer: store\n",
            "Q: When a person admits his mistakes, what are they doing?\n",
            "O: accident /// learn to swim /// thank god /// feel relieved /// act responsibly\n",
            "A:  act responsibly /// act responsibly /// act responsibly\n",
            "\n",
            "\n",
            "Model: act responsibly and Actual Answer: act responsibly\n"
          ]
        },
        {
          "output_type": "stream",
          "name": "stderr",
          "text": [
            " 25%|██▍       | 301/1221 [00:51<02:37,  5.85it/s]"
          ]
        },
        {
          "output_type": "stream",
          "name": "stdout",
          "text": [
            "Q: Where do play a game for money?\n",
            "O: casino /// football ground /// ballpark /// family room /// toy store\n",
            "A:  family room and family room and family room and family\n",
            "\n",
            "\n",
            "Model: family room and family room and family room and family and Actual Answer: casino\n",
            "Q: When you travel you should what in case of unexpected costs?\n",
            "O: go somewhere /// energy /// spend frivilously /// fly in airplane /// have money\n",
            "A:  spend frivilously too much energy in airplane in\n",
            "\n",
            "\n",
            "Model: spend frivilously too much energy in airplane in and Actual Answer: have money\n"
          ]
        },
        {
          "output_type": "stream",
          "name": "stderr",
          "text": [
            " 25%|██▍       | 303/1221 [00:52<02:36,  5.88it/s]"
          ]
        },
        {
          "output_type": "stream",
          "name": "stdout",
          "text": [
            "Q: Donald is a prominent figure for the federal government, so in what city does he likely spend a lot of time?\n",
            "O: everything /// capitol building /// tourist sites /// canada /// washington d.c\n",
            "A:  washington d.c.c.c.\n",
            "\n",
            "\n",
            "Model: washington d.c.c.c. and Actual Answer: washington d.c\n",
            "Q: There was more than one bum asking for change or a ticket, it was the cheapest way to travel so it was no surprise sight at the what?\n",
            "O: train station /// beach /// bus depot /// bridge /// stumblebum\n",
            "A:  train station station station station station station station station station\n",
            "\n",
            "\n",
            "Model: train station station station station station station station station station and Actual Answer: bus depot\n"
          ]
        },
        {
          "output_type": "stream",
          "name": "stderr",
          "text": [
            " 25%|██▍       | 305/1221 [00:52<02:34,  5.92it/s]"
          ]
        },
        {
          "output_type": "stream",
          "name": "stdout",
          "text": [
            "Q: John and Joe like planning games but Joe  was hit by a ball and fell down. What might have happened to Joe.\n",
            "O: anger /// good natured ribbing. /// enjoying /// injury /// enjoyment\n",
            "A:  injury injury.  injury.  injury. injury\n",
            "\n",
            "\n",
            "Model: injury injury.  injury.  injury. injury and Actual Answer: injury\n",
            "Q: Where can you buy jeans at one of may indoor merchants?\n",
            "O: gap /// shopping mall /// bedroom /// laundromat /// bathroom\n",
            "A:  shopping mall /// shopping mall /// shopping mall\n",
            "\n",
            "\n",
            "Model: shopping mall and Actual Answer: shopping mall\n"
          ]
        },
        {
          "output_type": "stream",
          "name": "stderr",
          "text": [
            " 25%|██▌       | 307/1221 [00:52<02:34,  5.93it/s]"
          ]
        },
        {
          "output_type": "stream",
          "name": "stdout",
          "text": [
            "Q: What do you write letter in in America?\n",
            "O: syllable /// post office /// envelope /// english alphabet /// word\n",
            "A:  syllable word in America alphabetical alphabetical alphabet\n",
            "\n",
            "\n",
            "Model: syllable word in America alphabetical alphabetical alphabet and Actual Answer: english alphabet\n",
            "Q: Joe owned back taxes as well as what other type of taxes?\n",
            "O: anterior /// front /// main /// front /// current\n",
            "A:  front current current current current current current current current current\n",
            "\n",
            "\n",
            "Model: front current current current current current current current current current and Actual Answer: current\n"
          ]
        },
        {
          "output_type": "stream",
          "name": "stderr",
          "text": [
            " 25%|██▌       | 309/1221 [00:53<02:33,  5.94it/s]"
          ]
        },
        {
          "output_type": "stream",
          "name": "stdout",
          "text": [
            "Q: Where is a broadcast studio likely to be heard?\n",
            "O: microphone /// arena /// radio station /// trees /// town\n",
            "A:  radio station station station station station station station station station\n",
            "\n",
            "\n",
            "Model: radio station station station station station station station station station and Actual Answer: radio station\n",
            "Q: Kramer wrote a self-referential book.  What might that book be about?\n",
            "O: counter /// coffee table /// school room /// backpack /// bedside table\n",
            "A:  counter tableside tableside tableside tableside table\n",
            "\n",
            "\n",
            "Model: counter tableside tableside tableside tableside table and Actual Answer: coffee table\n"
          ]
        },
        {
          "output_type": "stream",
          "name": "stderr",
          "text": [
            " 25%|██▌       | 311/1221 [00:53<02:33,  5.94it/s]"
          ]
        },
        {
          "output_type": "stream",
          "name": "stdout",
          "text": [
            "Q: Of all the sports, Billy enjoys football, but what does his concerned mother think of the sport?\n",
            "O: very entertaining /// fun /// slow /// competitive /// violent\n",
            "A:  very entertaining\n",
            "\n",
            "\n",
            "Model: very entertaining and Actual Answer: violent\n",
            "Q: What city will likely have many parking structures?\n",
            "O: chicago /// big city /// large city building /// environment /// college campus\n",
            "A:  large city building building building building building building building building\n",
            "\n",
            "\n",
            "Model: large city building building building building building building building building and Actual Answer: chicago\n"
          ]
        },
        {
          "output_type": "stream",
          "name": "stderr",
          "text": [
            " 26%|██▌       | 313/1221 [00:53<02:33,  5.90it/s]"
          ]
        },
        {
          "output_type": "stream",
          "name": "stdout",
          "text": [
            "Q: Sally was afraid of danger and always double checked what?\n",
            "O: fight enemy /// secure /// being safe /// safety /// vicinity\n",
            "A:  safe place safe place safe place safe place safe place\n",
            "\n",
            "\n",
            "Model: safe place safe place safe place safe place safe place and Actual Answer: safety\n",
            "Q: What is the habitat of the fox?\n",
            "O: hen house /// burrow /// california /// england /// mountains\n",
            "A:  burrowrowrowrowrowrowrowrowrow\n",
            "\n",
            "\n",
            "Model: burrowrowrowrowrowrowrowrowrow and Actual Answer: mountains\n"
          ]
        },
        {
          "output_type": "stream",
          "name": "stderr",
          "text": [
            " 26%|██▌       | 315/1221 [00:54<02:33,  5.88it/s]"
          ]
        },
        {
          "output_type": "stream",
          "name": "stdout",
          "text": [
            "Q: People are very much like the animals, but one thing has secured or dominance over the planet.  We're better at doing what?\n",
            "O: eat eggs /// make tools /// eat dosa /// talk to each other /// smoke pot\n",
            "A:  eat eggs and make tools /// eat eggs and make\n",
            "\n",
            "\n",
            "Model: eat eggs and make tools and Actual Answer: make tools\n",
            "Q: They children loved having a back yard, and the parents loved that it was a safe what?\n",
            "O: suburb /// neighborhood /// back of house /// roundabout /// property\n",
            "A:  neighborhood property property property property property property property property property\n",
            "\n",
            "\n",
            "Model: neighborhood property property property property property property property property property and Actual Answer: neighborhood\n"
          ]
        },
        {
          "output_type": "stream",
          "name": "stderr",
          "text": [
            " 26%|██▌       | 317/1221 [00:54<02:34,  5.86it/s]"
          ]
        },
        {
          "output_type": "stream",
          "name": "stdout",
          "text": [
            "Q: While people just throw coins down them now, what originally had a pail to be lowered for it's intended use?\n",
            "O: garage /// utility room /// slide /// wishing well /// garden\n",
            "A:  utility room /// garage garage garage garage garage garage garage\n",
            "\n",
            "\n",
            "Model: utility room and Actual Answer: wishing well\n",
            "Q: Joe was thrown from his boat into the water.  The water was cold because it was the middle of winter and he cried out to his crew for help.  They couldn't hear him over the sound of the what?\n",
            "O: surface of earth /// teardrops /// snowflake /// typhoon /// motor\n",
            "A:  surface of earth of earth of earth of earth of\n",
            "\n",
            "\n",
            "Model: surface of earth of earth of earth of earth of and Actual Answer: typhoon\n"
          ]
        },
        {
          "output_type": "stream",
          "name": "stderr",
          "text": [
            " 26%|██▌       | 319/1221 [00:54<02:34,  5.85it/s]"
          ]
        },
        {
          "output_type": "stream",
          "name": "stdout",
          "text": [
            "Q: When a human is earning money, where are they often found?\n",
            "O: deep thought /// park /// friend's house /// place of work /// school\n",
            "A:  park of work place of work place of workplace\n",
            "\n",
            "\n",
            "Model: park of work place of work place of workplace and Actual Answer: place of work\n",
            "Q: They passed a apple tree on their way to the racetrack, the were going to watch the biggest motorsport spectacle in the world where?\n",
            "O: maryland /// indiana /// on tv /// park /// new jersey\n",
            "A:  park park park park park park park park park park\n",
            "\n",
            "\n",
            "Model: park park park park park park park park park park and Actual Answer: indiana\n"
          ]
        },
        {
          "output_type": "stream",
          "name": "stderr",
          "text": [
            " 26%|██▋       | 321/1221 [00:55<02:32,  5.90it/s]"
          ]
        },
        {
          "output_type": "stream",
          "name": "stdout",
          "text": [
            "Q: Why do people play chess on the weekends?\n",
            "O: satisfaction /// have fun /// thrilling /// made /// smart\n",
            "A:  fun fun fun fun fun fun fun fun fun fun\n",
            "\n",
            "\n",
            "Model: fun fun fun fun fun fun fun fun fun fun and Actual Answer: have fun\n",
            "Q: What do you need energy to do in gym class?\n",
            "O: work /// tacos /// mass /// play sports /// wrestle\n",
            "A:  work sports sports sports sports sports sports sports sports sports\n",
            "\n",
            "\n",
            "Model: work sports sports sports sports sports sports sports sports sports and Actual Answer: play sports\n"
          ]
        },
        {
          "output_type": "stream",
          "name": "stderr",
          "text": [
            " 26%|██▋       | 323/1221 [00:55<02:32,  5.89it/s]"
          ]
        },
        {
          "output_type": "stream",
          "name": "stdout",
          "text": [
            "Q: Sarah dropped the marble because she wanted to do what?\n",
            "O: game /// pouch /// home /// store /// jar\n",
            "A:  store store store store store store store store store store\n",
            "\n",
            "\n",
            "Model: store store store store store store store store store store and Actual Answer: game\n",
            "Q: We are all human, and we all what?\n",
            "O: write /// eat cake /// smile /// think critically /// die\n",
            "A:  think critically critically critically critically critically critically critically critically critically\n",
            "\n",
            "\n",
            "Model: think critically critically critically critically critically critically critically critically critically and Actual Answer: die\n"
          ]
        },
        {
          "output_type": "stream",
          "name": "stderr",
          "text": [
            " 27%|██▋       | 325/1221 [00:55<02:34,  5.81it/s]"
          ]
        },
        {
          "output_type": "stream",
          "name": "stdout",
          "text": [
            "Q: If a person were going to bed, what would be their goal?\n",
            "O: lazy /// insomnia /// rest /// falling asleep /// dreaming of\n",
            "A:  insomnia /// insomnia /// insomnia\n",
            "\n",
            "\n",
            "Model: insomnia and Actual Answer: falling asleep\n",
            "Q: What are candles good for eliminating?\n",
            "O: shelf /// board /// church /// table /// dark\n",
            "A:  church shelf shelf shelf shelf shelf shelf shelf shelf shelf\n",
            "\n",
            "\n",
            "Model: church shelf shelf shelf shelf shelf shelf shelf shelf shelf and Actual Answer: dark\n"
          ]
        },
        {
          "output_type": "stream",
          "name": "stderr",
          "text": [
            " 27%|██▋       | 327/1221 [00:56<02:34,  5.80it/s]"
          ]
        },
        {
          "output_type": "stream",
          "name": "stdout",
          "text": [
            "Q: WHat leads to an early death?\n",
            "O: poisonous gas /// homicide /// cinder /// nuclear weapons /// cyanide\n",
            "A:  cyanide gas chamber /// cinder gas chamber ///\n",
            "\n",
            "\n",
            "Model: cyanide gas chamber and Actual Answer: homicide\n",
            "Q: What room would you find many bookcases and is used for contemplation?\n",
            "O: study /// house /// homw /// kitchen /// den\n",
            "A:  denwwwwwwwww\n",
            "\n",
            "\n",
            "Model: denwwwwwwwww and Actual Answer: study\n"
          ]
        },
        {
          "output_type": "stream",
          "name": "stderr",
          "text": [
            " 27%|██▋       | 329/1221 [00:56<02:34,  5.79it/s]"
          ]
        },
        {
          "output_type": "stream",
          "name": "stdout",
          "text": [
            "Q: Where do you head to travel to a star?\n",
            "O: night sky /// galaxy /// outer space /// hollywood /// eat cake\n",
            "A:  outer space space space space space space space space space\n",
            "\n",
            "\n",
            "Model: outer space space space space space space space space space and Actual Answer: outer space\n",
            "Q: The player lifted his cornet and walked in rhythm, what was the player a member of?\n",
            "O: museum /// high school band /// marching band /// orchestra /// band\n",
            "A:  marching band band band band band band band band band\n",
            "\n",
            "\n",
            "Model: marching band band band band band band band band band and Actual Answer: marching band\n"
          ]
        },
        {
          "output_type": "stream",
          "name": "stderr",
          "text": [
            " 27%|██▋       | 331/1221 [00:56<02:32,  5.85it/s]"
          ]
        },
        {
          "output_type": "stream",
          "name": "stdout",
          "text": [
            "Q: What happens at soon as a living being is born?\n",
            "O: expiration /// growing older /// sometimes bad /// death /// start reproduction\n",
            "A:  birth birth birth birth birth birth birth birth birth birth\n",
            "\n",
            "\n",
            "Model: birth birth birth birth birth birth birth birth birth birth and Actual Answer: growing older\n",
            "Q: When someone is talking and you missed something, what can you do to get them to repeat it?\n",
            "O: walking /// ask question /// think /// write question in crayon /// sneeze\n",
            "A:  write question in crayon question in cray\n",
            "\n",
            "\n",
            "Model: write question in crayon question in cray and Actual Answer: ask question\n"
          ]
        },
        {
          "output_type": "stream",
          "name": "stderr",
          "text": [
            " 27%|██▋       | 333/1221 [00:57<02:30,  5.92it/s]"
          ]
        },
        {
          "output_type": "stream",
          "name": "stdout",
          "text": [
            "Q: Where does one store fabric in their own home?\n",
            "O: sewing room /// clothing store /// tailor shop /// clothes store /// cotton mill\n",
            "A:  clothing store /// clothing store /// clothing store\n",
            "\n",
            "\n",
            "Model: clothing store and Actual Answer: sewing room\n",
            "Q: What do most companies not want to have relative to demand?\n",
            "O: oversupply /// plentitude /// stockpile /// superabundance /// busy\n",
            "A:  superabundance stockpile stockpile stockpile stockpile stockpile stockpile\n",
            "\n",
            "\n",
            "Model: superabundance stockpile stockpile stockpile stockpile stockpile stockpile and Actual Answer: oversupply\n"
          ]
        },
        {
          "output_type": "stream",
          "name": "stderr",
          "text": [
            " 27%|██▋       | 335/1221 [00:57<02:29,  5.91it/s]"
          ]
        },
        {
          "output_type": "stream",
          "name": "stdout",
          "text": [
            "Q: What is happening while he's playing basketball for such a long time?\n",
            "O: sweating /// pain /// having fun /// medium /// knee injury\n",
            "A:  knee injury injury injury injury injury injury injury injury injury\n",
            "\n",
            "\n",
            "Model: knee injury injury injury injury injury injury injury injury injury and Actual Answer: sweating\n",
            "Q: A traveler laments the fact that mass transit is limited in his city when his groceries get soaked by the rain as he waits where?\n",
            "O: bus stop /// library /// motel /// airport /// subway\n",
            "A:  subway stop stop stop stop stop stop stop stop stop\n",
            "\n",
            "\n",
            "Model: subway stop stop stop stop stop stop stop stop stop and Actual Answer: bus stop\n"
          ]
        },
        {
          "output_type": "stream",
          "name": "stderr",
          "text": [
            " 28%|██▊       | 337/1221 [00:58<02:33,  5.77it/s]"
          ]
        },
        {
          "output_type": "stream",
          "name": "stdout",
          "text": [
            "Q: The person was in physical distress, where should he go?\n",
            "O: synagogue /// for help /// hospital /// bus stop /// building\n",
            "A:  synagogue building /// synagogue building /// building\n",
            "\n",
            "\n",
            "Model: synagogue building and Actual Answer: hospital\n",
            "Q: The cancer patient was expecting to die, so he made out his what?\n",
            "O: not to live /// write will /// never want /// seek help /// go to hell\n",
            "A:  not to live forever.  never want to live\n",
            "\n",
            "\n",
            "Model: not to live forever.  never want to live and Actual Answer: write will\n"
          ]
        },
        {
          "output_type": "stream",
          "name": "stderr",
          "text": [
            " 28%|██▊       | 339/1221 [00:58<02:30,  5.87it/s]"
          ]
        },
        {
          "output_type": "stream",
          "name": "stdout",
          "text": [
            "Q: There was a toll road that meandered from Maine to New Hampshire, where was it?\n",
            "O: massachusetts /// new england /// my house /// new jersey /// connecticut\n",
            "A:  new jersey jersey jersey jersey jersey jersey jersey jersey jersey\n",
            "\n",
            "\n",
            "Model: new jersey jersey jersey jersey jersey jersey jersey jersey jersey and Actual Answer: new england\n",
            "Q: If you partied all night you could find yourself already what, even when just beginning work?\n",
            "O: getting tired /// working /// procrastination /// jumping /// sitting down\n",
            "A:  procrastination and procrastination and procrast\n",
            "\n",
            "\n",
            "Model: procrastination and procrastination and procrast and Actual Answer: getting tired\n"
          ]
        },
        {
          "output_type": "stream",
          "name": "stderr",
          "text": [
            " 28%|██▊       | 341/1221 [00:58<02:28,  5.93it/s]"
          ]
        },
        {
          "output_type": "stream",
          "name": "stdout",
          "text": [
            "Q: The cat carefully navigated the area, they do everything they can to avoid what?\n",
            "O: get wet /// eat vegetables /// falling /// wool sweater /// sharp claws\n",
            "A:  falling asleep and eating vegetables vegetables vegetables vegetables vegetables vegetables\n",
            "\n",
            "\n",
            "Model: falling asleep and eating vegetables vegetables vegetables vegetables vegetables vegetables and Actual Answer: get wet\n",
            "Q: What is someone usually doing if someone else is talking to him or her?\n",
            "O: listening /// language /// looking at eyes /// planning the perfect murder /// voice\n",
            "A:  listening to voices /// listening to voices\n",
            "\n",
            "\n",
            "Model: listening to voices and Actual Answer: listening\n"
          ]
        },
        {
          "output_type": "stream",
          "name": "stderr",
          "text": [
            " 28%|██▊       | 343/1221 [00:59<02:27,  5.95it/s]"
          ]
        },
        {
          "output_type": "stream",
          "name": "stdout",
          "text": [
            "Q: What does the sky do before a rain?\n",
            "O: appear beautiful /// appear blue /// shows a rainbow /// rain water /// cloud over\n",
            "A:  appear blue or appear blue or appear blue or appear\n",
            "\n",
            "\n",
            "Model: appear blue or appear blue or appear blue or appear and Actual Answer: cloud over\n",
            "Q: Pens, computers, text books and paper clips can all be found where?\n",
            "O: desktop /// university /// drawer /// table /// work\n",
            "A:  desktop drawer /// desktop drawer /// desktop drawer\n",
            "\n",
            "\n",
            "Model: desktop drawer and Actual Answer: university\n"
          ]
        },
        {
          "output_type": "stream",
          "name": "stderr",
          "text": [
            " 28%|██▊       | 345/1221 [00:59<02:27,  5.94it/s]"
          ]
        },
        {
          "output_type": "stream",
          "name": "stdout",
          "text": [
            "Q: What geographic area is a lizard likely to be?\n",
            "O: ball stopped /// west texas /// arid regions /// garden /// warm place\n",
            "A:  arid regions /// arid regions /// arid\n",
            "\n",
            "\n",
            "Model: arid regions and Actual Answer: west texas\n",
            "Q: What do you use to carry your briefcase?\n",
            "O: office building /// school /// courtroom /// airport /// hand\n",
            "A:  handbag case case case case case case case case\n",
            "\n",
            "\n",
            "Model: handbag case case case case case case case case and Actual Answer: hand\n"
          ]
        },
        {
          "output_type": "stream",
          "name": "stderr",
          "text": [
            " 28%|██▊       | 347/1221 [00:59<02:26,  5.98it/s]"
          ]
        },
        {
          "output_type": "stream",
          "name": "stdout",
          "text": [
            "Q: He picked up his pace to a run, he wanted to do what?\n",
            "O: learn to walk /// frightened /// get away from /// exercise /// go faster\n",
            "A:  exercise away from work and go faster than go faster\n",
            "\n",
            "\n",
            "Model: exercise away from work and go faster than go faster and Actual Answer: go faster\n",
            "Q: What would a person do if they do not have any friends?\n",
            "O: talk to people /// try again /// fall asleep /// stand alone /// thank god\n",
            "A:  talk to people /// talk to people /// talk to\n",
            "\n",
            "\n",
            "Model: talk to people and Actual Answer: stand alone\n"
          ]
        },
        {
          "output_type": "stream",
          "name": "stderr",
          "text": [
            " 29%|██▊       | 349/1221 [01:00<02:32,  5.70it/s]"
          ]
        },
        {
          "output_type": "stream",
          "name": "stdout",
          "text": [
            "Q: As a result of dying, what happens to organic material?\n",
            "O: change of color /// stop breathing /// wake up /// death and decay /// getting cold\n",
            "A:  get cold and die and decay and decay and decay\n",
            "\n",
            "\n",
            "Model: get cold and die and decay and decay and decay and Actual Answer: death and decay\n",
            "Q: What does everyone have in relation to other people?\n",
            "O: feelings /// food /// unique personality /// different standards /// values\n",
            "A:  values values values values values values values values values values\n",
            "\n",
            "\n",
            "Model: values values values values values values values values values values and Actual Answer: feelings\n"
          ]
        },
        {
          "output_type": "stream",
          "name": "stderr",
          "text": [
            " 29%|██▊       | 351/1221 [01:00<02:30,  5.78it/s]"
          ]
        },
        {
          "output_type": "stream",
          "name": "stdout",
          "text": [
            "Q: What do you ask a child to do when you first meet her?\n",
            "O: ask questions /// count to ten /// costume /// state name /// dress herself\n",
            "A:  ask questions /// ask questions /// ask questions\n",
            "\n",
            "\n",
            "Model: ask questions and Actual Answer: state name\n",
            "Q: Where can you buy a clock, clothing and wrenches?\n",
            "O: counter /// train station /// school room /// desk /// department store\n",
            "A:  department store store store store store store store store store\n",
            "\n",
            "\n",
            "Model: department store store store store store store store store store and Actual Answer: department store\n"
          ]
        },
        {
          "output_type": "stream",
          "name": "stderr",
          "text": [
            " 29%|██▉       | 353/1221 [01:00<02:29,  5.82it/s]"
          ]
        },
        {
          "output_type": "stream",
          "name": "stdout",
          "text": [
            "Q: What do you do when you're in a new place and want to see new things?\n",
            "O: interesting /// look around /// take pictures /// change of surroundings /// new experience\n",
            "A:  look around new experiences are new experiences are new experiences\n",
            "\n",
            "\n",
            "Model: look around new experiences are new experiences are new experiences and Actual Answer: look around\n",
            "Q: What happens when to ice when it is in the sun?\n",
            "O: carved /// melted /// ice cream /// antarctica /// sculptured\n",
            "A:  melted /// melted /// melted\n",
            "\n",
            "\n",
            "Model: melted and Actual Answer: melted\n"
          ]
        },
        {
          "output_type": "stream",
          "name": "stderr",
          "text": [
            " 29%|██▉       | 355/1221 [01:01<02:28,  5.82it/s]"
          ]
        },
        {
          "output_type": "stream",
          "name": "stdout",
          "text": [
            "Q: Where can you store your dishes in your dwelling?\n",
            "O: drawer /// shelf /// pantry /// apartment /// cabinet\n",
            "A:  cabinet cabinet cabinet cabinet cabinet cabinet cabinet cabinet cabinet cabinet\n",
            "\n",
            "\n",
            "Model: cabinet cabinet cabinet cabinet cabinet cabinet cabinet cabinet cabinet cabinet and Actual Answer: shelf\n",
            "Q: The man laid on the soft moss and looked up at the trees, where was the man?\n",
            "O: niagra falls /// forest /// waterfall /// ground /// tree\n",
            "A:  tree tree tree tree tree tree tree tree tree tree\n",
            "\n",
            "\n",
            "Model: tree tree tree tree tree tree tree tree tree tree and Actual Answer: forest\n"
          ]
        },
        {
          "output_type": "stream",
          "name": "stderr",
          "text": [
            " 29%|██▉       | 357/1221 [01:01<02:27,  5.87it/s]"
          ]
        },
        {
          "output_type": "stream",
          "name": "stdout",
          "text": [
            "Q: What is someone doing if he or she is sitting quietly and his or her eyes are moving?\n",
            "O: reading /// meditate /// fall asleep /// bunk /// think\n",
            "A:  meditate /// meditate\n",
            "\n",
            "\n",
            "Model: meditate and Actual Answer: reading\n",
            "Q: Where can I find a stapler in many places?\n",
            "O: desk drawer /// office building /// manual /// office supply store /// desktop\n",
            "A:  desk drawer drawer drawer drawer drawer drawer drawer drawer drawer\n",
            "\n",
            "\n",
            "Model: desk drawer drawer drawer drawer drawer drawer drawer drawer drawer and Actual Answer: office building\n"
          ]
        },
        {
          "output_type": "stream",
          "name": "stderr",
          "text": [
            " 29%|██▉       | 359/1221 [01:01<02:25,  5.91it/s]"
          ]
        },
        {
          "output_type": "stream",
          "name": "stdout",
          "text": [
            "Q: A man takes a seat at a museum outside of Barcelona, where is he likely?\n",
            "O: in cinema /// martorell /// falling down /// show /// airplane\n",
            "A:  martorellainville, where is he likely\n",
            "\n",
            "\n",
            "Model: martorellainville, where is he likely and Actual Answer: martorell\n",
            "Q: Where would you find a toy soldier that is being played with?\n",
            "O: toy box /// movies /// child's hand /// toybos /// child park\n",
            "A:  toy box /// toy box /// toy box\n",
            "\n",
            "\n",
            "Model: toy box and Actual Answer: child's hand\n"
          ]
        },
        {
          "output_type": "stream",
          "name": "stderr",
          "text": [
            " 30%|██▉       | 361/1221 [01:02<02:26,  5.86it/s]"
          ]
        },
        {
          "output_type": "stream",
          "name": "stdout",
          "text": [
            "Q: Where are you when you're about to use your plane ticket?\n",
            "O: pocket /// terrorists hands /// airport /// sea ship /// briefcase\n",
            "A:  airport ticket office ticket office ticket office ticket office ticket\n",
            "\n",
            "\n",
            "Model: airport ticket office ticket office ticket office ticket office ticket and Actual Answer: airport\n",
            "Q: Flowers make a good center focal point, just one of many arrangements that look good on a what?\n",
            "O: market /// table /// countryside /// anthology /// vase\n",
            "A:  landscape anthology anthology anthology anthology anthology anthology anthology anthology anthology\n",
            "\n",
            "\n",
            "Model: landscape anthology anthology anthology anthology anthology anthology anthology anthology anthology and Actual Answer: table\n"
          ]
        },
        {
          "output_type": "stream",
          "name": "stderr",
          "text": [
            " 30%|██▉       | 363/1221 [01:02<02:26,  5.85it/s]"
          ]
        },
        {
          "output_type": "stream",
          "name": "stdout",
          "text": [
            "Q: How can a human cross a river and not mess up their hair?\n",
            "O: wisconsin /// waterfall /// hatred /// bridge /// valley\n",
            "A:  bridge bridge bridge bridge bridge bridge bridge bridge bridge bridge\n",
            "\n",
            "\n",
            "Model: bridge bridge bridge bridge bridge bridge bridge bridge bridge bridge and Actual Answer: bridge\n",
            "Q: Batman bought beer.  There were no bottles available.  He had to settle for what?.\n",
            "O: shelf /// soccer game /// keg /// can /// refrigerator\n",
            "A:  shelf\n",
            "\n",
            "\n",
            "Model: shelf and Actual Answer: can\n"
          ]
        },
        {
          "output_type": "stream",
          "name": "stderr",
          "text": [
            " 30%|██▉       | 365/1221 [01:02<02:28,  5.75it/s]"
          ]
        },
        {
          "output_type": "stream",
          "name": "stdout",
          "text": [
            "Q: You can find a monkey in what West African region on the Gulf of Guinea\n",
            "O: south american country /// rain forest /// pay debts /// works /// nigeria\n",
            "A:  south american country island is south american\n",
            "\n",
            "\n",
            "Model: south american country island is south american and Actual Answer: nigeria\n",
            "Q: Surprising an angry person could lead to what?\n",
            "O: humor /// fight /// jocose /// laughter /// accidents\n",
            "A:  accidents accidents accidents accidents accidents accidents accidents accidents accidents accidents\n",
            "\n",
            "\n",
            "Model: accidents accidents accidents accidents accidents accidents accidents accidents accidents accidents and Actual Answer: fight\n"
          ]
        },
        {
          "output_type": "stream",
          "name": "stderr",
          "text": [
            " 30%|███       | 367/1221 [01:03<02:25,  5.86it/s]"
          ]
        },
        {
          "output_type": "stream",
          "name": "stdout",
          "text": [
            "Q: Where is a dining area likely to be small?\n",
            "O: cruise ship /// home /// mall /// restaurant /// dark cave\n",
            "A:  restaurant restaurant restaurant restaurant restaurant restaurant restaurant restaurant restaurant restaurant\n",
            "\n",
            "\n",
            "Model: restaurant restaurant restaurant restaurant restaurant restaurant restaurant restaurant restaurant restaurant and Actual Answer: home\n",
            "Q: Killing people should not cause what emotion?\n",
            "O: vengeance /// going to prison /// joy /// afraid /// terrible\n",
            "A:  vengeance vengeance or vengeance or vengeance or vengeance or vengeance\n",
            "\n",
            "\n",
            "Model: vengeance vengeance or vengeance or vengeance or vengeance or vengeance and Actual Answer: joy\n"
          ]
        },
        {
          "output_type": "stream",
          "name": "stderr",
          "text": [
            " 30%|███       | 369/1221 [01:03<02:25,  5.85it/s]"
          ]
        },
        {
          "output_type": "stream",
          "name": "stdout",
          "text": [
            "Q: James slamed into someone playing football, and not for the first time.  He was concerned about the consequences of many what?\n",
            "O: exhilaration /// interactions /// head injuries /// death /// having fun\n",
            "A:  having fun with friends\n",
            "\n",
            "\n",
            "Model: having fun with friends and Actual Answer: head injuries\n",
            "Q: More people should lower the guard and just have fun, we don't got long just what?\n",
            "O: enjoy living /// happy /// enjoyable /// get laid /// do enjoy\n",
            "A:  enjoy living life life life life life life life life\n",
            "\n",
            "\n",
            "Model: enjoy living life life life life life life life life and Actual Answer: enjoy living\n"
          ]
        },
        {
          "output_type": "stream",
          "name": "stderr",
          "text": [
            " 30%|███       | 371/1221 [01:03<02:25,  5.86it/s]"
          ]
        },
        {
          "output_type": "stream",
          "name": "stdout",
          "text": [
            "Q: Where can you get a lizard to keep in your home?\n",
            "O: desert country /// dessert /// pet shop /// tropical areas /// zoo\n",
            "A:  pet shop shop shop shop shop shop shop shop shop\n",
            "\n",
            "\n",
            "Model: pet shop shop shop shop shop shop shop shop shop and Actual Answer: pet shop\n",
            "Q: What would use a musical instrument?\n",
            "O: guitar /// music room /// orchestra /// case /// movie\n",
            "A:  case case case case case case case case case case\n",
            "\n",
            "\n",
            "Model: case case case case case case case case case case and Actual Answer: orchestra\n"
          ]
        },
        {
          "output_type": "stream",
          "name": "stderr",
          "text": [
            " 31%|███       | 373/1221 [01:04<02:26,  5.80it/s]"
          ]
        },
        {
          "output_type": "stream",
          "name": "stdout",
          "text": [
            "Q: She was in an affair, what did that end upon discovery by her husband?\n",
            "O: relationship /// marriage /// fidelity /// love /// divorce\n",
            "A:  marriage fidelity to marriage to marriage to marriage to marriage\n",
            "\n",
            "\n",
            "Model: marriage fidelity to marriage to marriage to marriage to marriage and Actual Answer: marriage\n",
            "Q: What is the most famous constellation out of earth?\n",
            "O: one moon /// milky way /// god's creation /// stars /// universe\n",
            "A:  milky way way way way way way way way\n",
            "\n",
            "\n",
            "Model: milky way way way way way way way way and Actual Answer: milky way\n"
          ]
        },
        {
          "output_type": "stream",
          "name": "stderr",
          "text": [
            " 31%|███       | 375/1221 [01:04<02:25,  5.83it/s]"
          ]
        },
        {
          "output_type": "stream",
          "name": "stdout",
          "text": [
            "Q: If a reception is held with hotel guests walking by, what is the likely venue?\n",
            "O: room service /// church basement /// lobby /// large room /// country club\n",
            "A:  large room service room service room service room service room\n",
            "\n",
            "\n",
            "Model: large room service room service room service room service room and Actual Answer: lobby\n",
            "Q: What is a place that is far away from your house and where you could consume beer?\n",
            "O: refrigerator /// friend's house /// keg /// neighbor's house /// kitchen\n",
            "A:  neighbor's house and neighbor's house and neighbor's\n",
            "\n",
            "\n",
            "Model: neighbor's house and neighbor's house and neighbor's and Actual Answer: friend's house\n"
          ]
        },
        {
          "output_type": "stream",
          "name": "stderr",
          "text": [
            " 31%|███       | 377/1221 [01:04<02:29,  5.65it/s]"
          ]
        },
        {
          "output_type": "stream",
          "name": "stdout",
          "text": [
            "Q: If a court case is dismissed after hearing testimony, what would be a likely cause?\n",
            "O: change of heart /// anguish /// anger /// boredom /// anxiety\n",
            "A:  anger or anxiety /// anxiety or anxiety /// anxiety or\n",
            "\n",
            "\n",
            "Model: anger or anxiety and Actual Answer: change of heart\n",
            "Q: Sitting down quickly after eating beans could lead to what?\n",
            "O: flatulence /// happiness /// laziness /// fall asleep /// comfort\n",
            "A:  fall asleep asleep asleep asleep asleep asleep asleep asleep asleep\n",
            "\n",
            "\n",
            "Model: fall asleep asleep asleep asleep asleep asleep asleep asleep asleep and Actual Answer: flatulence\n"
          ]
        },
        {
          "output_type": "stream",
          "name": "stderr",
          "text": [
            " 31%|███       | 379/1221 [01:05<02:26,  5.75it/s]"
          ]
        },
        {
          "output_type": "stream",
          "name": "stdout",
          "text": [
            "Q: John was my neighbor, it was easy to talk to him. He was never what?\n",
            "O: away /// distant /// remote person /// bore /// foe\n",
            "A:  distant person.  distant person.  distant person\n",
            "\n",
            "\n",
            "Model: distant person.  distant person.  distant person and Actual Answer: distant\n",
            "Q: Where do people want to have a lot of coffee?\n",
            "O: table /// office /// desk /// kitchen /// ocean\n",
            "A:  desk desk desk desk desk desk desk desk desk desk\n",
            "\n",
            "\n",
            "Model: desk desk desk desk desk desk desk desk desk desk and Actual Answer: office\n"
          ]
        },
        {
          "output_type": "stream",
          "name": "stderr",
          "text": [
            " 31%|███       | 381/1221 [01:05<02:23,  5.85it/s]"
          ]
        },
        {
          "output_type": "stream",
          "name": "stdout",
          "text": [
            "Q: You stop and have food all around you, what are you?\n",
            "O: stay alive /// wanted to survive /// nutrition /// grew /// full\n",
            "A:  hungry and full of food all around you, hungry\n",
            "\n",
            "\n",
            "Model: hungry and full of food all around you, hungry and Actual Answer: full\n",
            "Q: James was meeting a friend.  They had planed a slow day. They didn't want to do much.  They just wanted what?\n",
            "O: relaxation /// panic /// alarm /// joy /// cheer\n",
            "A:  panic.  panic.  panic.\n",
            "\n",
            "\n",
            "Model: panic.  panic.  panic. and Actual Answer: relaxation\n"
          ]
        },
        {
          "output_type": "stream",
          "name": "stderr",
          "text": [
            " 31%|███▏      | 383/1221 [01:05<02:25,  5.75it/s]"
          ]
        },
        {
          "output_type": "stream",
          "name": "stdout",
          "text": [
            "Q: The car's steering seem quite loose, but he still considered purchasing it because he needed something small and what?\n",
            "O: sturdy /// faithful /// bound /// compact /// packaged\n",
            "A:  compact and faithful.  faithful.\n",
            "\n",
            "\n",
            "Model: compact and faithful.  faithful. and Actual Answer: compact\n",
            "Q: Dan was a farmer with just one heifer.  But that was okay, he only kept her for milk, and he didn't think he'd find good farmland in a place as cold as where?\n",
            "O: arizona /// farm yard /// michigan /// german field /// dairy farm\n",
            "A:  farm yard yard yard yard yard yard yard yard yard\n",
            "\n",
            "\n",
            "Model: farm yard yard yard yard yard yard yard yard yard and Actual Answer: michigan\n"
          ]
        },
        {
          "output_type": "stream",
          "name": "stderr",
          "text": [
            " 32%|███▏      | 385/1221 [01:06<02:22,  5.85it/s]"
          ]
        },
        {
          "output_type": "stream",
          "name": "stdout",
          "text": [
            "Q: It's Friday night and Alice puts off going to bed because she plans on doing what Saturday?\n",
            "O: hatred /// sleeping in /// rest /// making love /// insomnia\n",
            "A:  sleeping in and rest in bed and rest in bed\n",
            "\n",
            "\n",
            "Model: sleeping in and rest in bed and rest in bed and Actual Answer: sleeping in\n",
            "Q: His phone was dead and they couldn't find the expressway, he opened up the glove compartment and handed his passenger the what to navigate?\n",
            "O: eastern united states /// michigan /// map /// choppers /// american city\n",
            "A:  map map map map map map map map map map\n",
            "\n",
            "\n",
            "Model: map map map map map map map map map map and Actual Answer: map\n"
          ]
        },
        {
          "output_type": "stream",
          "name": "stderr",
          "text": [
            " 32%|███▏      | 387/1221 [01:06<02:21,  5.89it/s]"
          ]
        },
        {
          "output_type": "stream",
          "name": "stdout",
          "text": [
            "Q: What would someone use a personal key for?\n",
            "O: car stand /// at hotel /// own home /// front door /// bus depot\n",
            "A:  car stand stand stand stand stand stand stand stand stand\n",
            "\n",
            "\n",
            "Model: car stand stand stand stand stand stand stand stand stand and Actual Answer: own home\n",
            "Q: The cat kept pestering it's owner, it was that time of the day and it was what?\n",
            "O: litter tray /// whiskers /// hungry /// feline /// thirsty\n",
            "A:  hungry and hungry and hungry and hungry and hungry and\n",
            "\n",
            "\n",
            "Model: hungry and hungry and hungry and hungry and hungry and and Actual Answer: hungry\n"
          ]
        },
        {
          "output_type": "stream",
          "name": "stderr",
          "text": [
            " 32%|███▏      | 389/1221 [01:06<02:22,  5.82it/s]"
          ]
        },
        {
          "output_type": "stream",
          "name": "stdout",
          "text": [
            "Q: Her voice lent her to the alto section, what group did she join?\n",
            "O: symphony /// concerto /// choir /// theater troupe /// marching band\n",
            "A:  choir troupe troupe troupe troupe trou\n",
            "\n",
            "\n",
            "Model: choir troupe troupe troupe troupe trou and Actual Answer: choir\n",
            "Q: Where are you likely to find a Japanese restaurant not run by people from Japan?\n",
            "O: california /// downtown /// large town /// tokio /// china town\n",
            "A:  california town town town town town town town\n",
            "\n",
            "\n",
            "Model: california town town town town town town town and Actual Answer: california\n"
          ]
        },
        {
          "output_type": "stream",
          "name": "stderr",
          "text": [
            " 32%|███▏      | 391/1221 [01:07<02:21,  5.85it/s]"
          ]
        },
        {
          "output_type": "stream",
          "name": "stdout",
          "text": [
            "Q: Animals who have hair and don't lay eggs are what?\n",
            "O: reproduce asexually /// males /// mammals /// attack /// ocean\n",
            "A:  males and females are male and females are male and\n",
            "\n",
            "\n",
            "Model: males and females are male and females are male and and Actual Answer: mammals\n",
            "Q: John was an aristocratic fox hunter.  Where might he live?\n",
            "O: england /// new hampshire /// street /// arkansas /// north dakota\n",
            "A:  englandshire dakota dakota d\n",
            "\n",
            "\n",
            "Model: englandshire dakota dakota d and Actual Answer: new hampshire\n"
          ]
        },
        {
          "output_type": "stream",
          "name": "stderr",
          "text": [
            " 32%|███▏      | 393/1221 [01:07<02:21,  5.85it/s]"
          ]
        },
        {
          "output_type": "stream",
          "name": "stdout",
          "text": [
            "Q: Where is a grape likely to be being fed to someone else?\n",
            "O: field /// bathroom /// michigan /// minnesota /// painting\n",
            "A:  michigan /// michigan /// mich\n",
            "\n",
            "\n",
            "Model: michigan and Actual Answer: painting\n",
            "Q: Some food can be stored at room temperature until you open it, then you should keep it in what?\n",
            "O: shop /// bookcase /// shelf /// refrigerators /// kitchen\n",
            "A:  shelf case case case case case case case case case\n",
            "\n",
            "\n",
            "Model: shelf case case case case case case case case case and Actual Answer: refrigerators\n"
          ]
        },
        {
          "output_type": "stream",
          "name": "stderr",
          "text": [
            " 32%|███▏      | 395/1221 [01:07<02:21,  5.84it/s]"
          ]
        },
        {
          "output_type": "stream",
          "name": "stdout",
          "text": [
            "Q: Sam couldn't get back to sleep because of a dream he had.  It was a what?\n",
            "O: awake /// horror /// dreamworker /// reality /// nightmare\n",
            "A:  nightmareworker dreamworker's nightmareworker's nightmare nightmare\n",
            "\n",
            "\n",
            "Model: nightmareworker dreamworker's nightmareworker's nightmare nightmare and Actual Answer: nightmare\n",
            "Q: If you're going to a party in a new town what are you hoping to make?\n",
            "O: getting drunk /// making new friends /// new contacts /// doing drugs /// set home\n",
            "A:  getting drunk /// getting drunk /// getting drunk\n",
            "\n",
            "\n",
            "Model: getting drunk and Actual Answer: making new friends\n"
          ]
        },
        {
          "output_type": "stream",
          "name": "stderr",
          "text": [
            " 33%|███▎      | 397/1221 [01:08<02:21,  5.84it/s]"
          ]
        },
        {
          "output_type": "stream",
          "name": "stdout",
          "text": [
            "Q: How is riding a bike getting it to move?\n",
            "O: practice /// sense of balance /// driving /// good balance /// pedalling\n",
            "A:  pedalling a bike to move to move to move\n",
            "\n",
            "\n",
            "Model: pedalling a bike to move to move to move and Actual Answer: pedalling\n",
            "Q: Where does one usually keep literature?\n",
            "O: books and magazines /// own home /// kitchen /// shelf /// meeting\n",
            "A:  library and magazines and magazines and magazines meeting meeting meeting\n",
            "\n",
            "\n",
            "Model: library and magazines and magazines and magazines meeting meeting meeting and Actual Answer: shelf\n"
          ]
        },
        {
          "output_type": "stream",
          "name": "stderr",
          "text": [
            " 33%|███▎      | 399/1221 [01:08<02:21,  5.83it/s]"
          ]
        },
        {
          "output_type": "stream",
          "name": "stdout",
          "text": [
            "Q: WHat type of keyboard is made up of one or more pipe divisions?\n",
            "O: killing /// typewriter /// office /// terminal /// organ\n",
            "A:  terminal organ organ organ organ organ organ organ organ organ\n",
            "\n",
            "\n",
            "Model: terminal organ organ organ organ organ organ organ organ organ and Actual Answer: organ\n",
            "Q: The bell rang, and the congregation began to what in to the church?\n",
            "O: run away /// wind instrument /// funnel /// blunderbuss /// associated with telephones\n",
            "A:  wind instrument /// wind instrument /// wind instrument\n",
            "\n",
            "\n",
            "Model: wind instrument and Actual Answer: funnel\n"
          ]
        },
        {
          "output_type": "stream",
          "name": "stderr",
          "text": [
            " 33%|███▎      | 401/1221 [01:08<02:21,  5.81it/s]"
          ]
        },
        {
          "output_type": "stream",
          "name": "stdout",
          "text": [
            "Q: James needed smooth sandpaper, but instead he got what type?\n",
            "O: rough /// non smooth /// uneven /// plastic /// bumpy\n",
            "A:  smooth sandpaper and smooth /// smooth and smooth ///\n",
            "\n",
            "\n",
            "Model: smooth sandpaper and smooth and Actual Answer: rough\n",
            "Q: Where would you borrow furniture if you do not have any?\n",
            "O: sewer /// neighbor's house /// apartment /// room /// floor\n",
            "A:  apartment apartment apartment apartment apartment apartment apartment apartment apartment apartment\n",
            "\n",
            "\n",
            "Model: apartment apartment apartment apartment apartment apartment apartment apartment apartment apartment and Actual Answer: neighbor's house\n"
          ]
        },
        {
          "output_type": "stream",
          "name": "stderr",
          "text": [
            " 33%|███▎      | 403/1221 [01:09<02:20,  5.80it/s]"
          ]
        },
        {
          "output_type": "stream",
          "name": "stdout",
          "text": [
            "Q: What must happen for an animal to and it's offspring to continue livng?\n",
            "O: death /// flying /// reproducing /// food consumed /// eventually die\n",
            "A:  reproducecing and reproduce and reproduce /// reproduce and reproduce\n",
            "\n",
            "\n",
            "Model: reproducecing and reproduce and reproduce and Actual Answer: reproducing\n",
            "Q: I want my wine stored in darkness, where should it go?\n",
            "O: movies /// bed /// moon /// vault /// cellar\n",
            "A:  cellar cellar cellar cellar cellar cellar cellar cellar cellar cellar\n",
            "\n",
            "\n",
            "Model: cellar cellar cellar cellar cellar cellar cellar cellar cellar cellar and Actual Answer: cellar\n"
          ]
        },
        {
          "output_type": "stream",
          "name": "stderr",
          "text": [
            " 33%|███▎      | 405/1221 [01:09<02:20,  5.82it/s]"
          ]
        },
        {
          "output_type": "stream",
          "name": "stdout",
          "text": [
            "Q: If I want to open a steakhouse, what should I get first?\n",
            "O: michigan /// florida /// wine /// texas /// building\n",
            "A:  michigan /// florida /// flor\n",
            "\n",
            "\n",
            "Model: michigan and Actual Answer: building\n",
            "Q: Sarah didn't like to play but she didn't want to be sedentary and bored, either, so she took up what?\n",
            "O: serious /// longplay /// musical /// eat cake /// doing nothing\n",
            "A:  longplay piano playing music and eating cake cake cake\n",
            "\n",
            "\n",
            "Model: longplay piano playing music and eating cake cake cake and Actual Answer: musical\n"
          ]
        },
        {
          "output_type": "stream",
          "name": "stderr",
          "text": [
            " 33%|███▎      | 407/1221 [01:10<02:20,  5.80it/s]"
          ]
        },
        {
          "output_type": "stream",
          "name": "stdout",
          "text": [
            "Q: Joe found spiders while checking something outside.  What might that be?\n",
            "O: cupboard /// closet /// storage bag /// mail box /// garage\n",
            "A:  garage garage garage garage garage garage garage garage garage garage\n",
            "\n",
            "\n",
            "Model: garage garage garage garage garage garage garage garage garage garage and Actual Answer: mail box\n",
            "Q: What would you do if your date does not show up?\n",
            "O: wait for /// bathe /// go for haircut /// plan revenge /// dress nice\n",
            "A:  wait for haircut /// wait for haircut /// wait for\n",
            "\n",
            "\n",
            "Model: wait for haircut and Actual Answer: wait for\n"
          ]
        },
        {
          "output_type": "stream",
          "name": "stderr",
          "text": [
            " 33%|███▎      | 409/1221 [01:10<02:17,  5.89it/s]"
          ]
        },
        {
          "output_type": "stream",
          "name": "stdout",
          "text": [
            "Q: What did the adult do before the job interview?\n",
            "O: work /// dress himself /// marry /// dress herself /// drive train\n",
            "A:  dress herself herself herself herself herself herself herself herself herself\n",
            "\n",
            "\n",
            "Model: dress herself herself herself herself herself herself herself herself herself and Actual Answer: dress himself\n",
            "Q: Most items in retail stores are what even when they are on sale?\n",
            "O: overpriced /// purchase /// expensive /// park /// buying\n",
            "A:  expensive overpriced /// expensive overpriced /// expensive over\n",
            "\n",
            "\n",
            "Model: expensive overpriced and Actual Answer: overpriced\n"
          ]
        },
        {
          "output_type": "stream",
          "name": "stderr",
          "text": [
            " 34%|███▎      | 411/1221 [01:10<02:16,  5.92it/s]"
          ]
        },
        {
          "output_type": "stream",
          "name": "stdout",
          "text": [
            "Q: John farms anemone in what type of facility?\n",
            "O: michigan /// swimming pool /// atlantic ocean /// nursery /// gulf of mexico\n",
            "A:  michigan ocean nursery nursery nursery nursery nursery nursery\n",
            "\n",
            "\n",
            "Model: michigan ocean nursery nursery nursery nursery nursery nursery and Actual Answer: nursery\n",
            "Q: Brawn opened the curtains so that the sun could do what?\n",
            "O: dry clothes /// warm house /// warm room /// shine brightly /// get dark\n",
            "A:  warm house warm house warm room warm room warm room\n",
            "\n",
            "\n",
            "Model: warm house warm house warm room warm room warm room and Actual Answer: warm room\n"
          ]
        },
        {
          "output_type": "stream",
          "name": "stderr",
          "text": [
            " 34%|███▍      | 413/1221 [01:11<02:16,  5.91it/s]"
          ]
        },
        {
          "output_type": "stream",
          "name": "stdout",
          "text": [
            "Q: How might releasing energy that has built up feel?\n",
            "O: damage /// wonderful /// exhaustion /// orgasm /// lazy\n",
            "A:  damage damage damage damage damage damage damage damage damage damage\n",
            "\n",
            "\n",
            "Model: damage damage damage damage damage damage damage damage damage damage and Actual Answer: wonderful\n",
            "Q: What would you do if you have curiosity but are blind and paralyzed?\n",
            "O: hear news /// analyse /// go somewhere /// examine thing /// see favorite show\n",
            "A:  see favorite show show show show show show show show\n",
            "\n",
            "\n",
            "Model: see favorite show show show show show show show show and Actual Answer: analyse\n"
          ]
        },
        {
          "output_type": "stream",
          "name": "stderr",
          "text": [
            " 34%|███▍      | 415/1221 [01:11<02:17,  5.88it/s]"
          ]
        },
        {
          "output_type": "stream",
          "name": "stdout",
          "text": [
            "Q: Where might it be hard to get furniture to?\n",
            "O: apartment /// loft /// store /// rug /// stairs\n",
            "A:  apartment building /// apartment building /// apartment building\n",
            "\n",
            "\n",
            "Model: apartment building and Actual Answer: loft\n",
            "Q: A great teacher can be what when you are attending school?\n",
            "O: detention /// graduate /// follower /// inspiration /// boredom\n",
            "A:  follower follower follower follower follower follower follower follower follower follower\n",
            "\n",
            "\n",
            "Model: follower follower follower follower follower follower follower follower follower follower and Actual Answer: inspiration\n"
          ]
        },
        {
          "output_type": "stream",
          "name": "stderr",
          "text": [
            " 34%|███▍      | 417/1221 [01:11<02:17,  5.83it/s]"
          ]
        },
        {
          "output_type": "stream",
          "name": "stdout",
          "text": [
            "Q: Where would you get jeans and other wearable items to take home with you?\n",
            "O: shopping mall /// museum /// laundromat /// clothing store /// bedroom\n",
            "A:  shopping mall mall mall mall mall mall mall mall mall\n",
            "\n",
            "\n",
            "Model: shopping mall mall mall mall mall mall mall mall mall and Actual Answer: clothing store\n",
            "Q: In what substance do clouds float?\n",
            "O: sky /// top of mountain /// air /// ground level /// outer space\n",
            "A:  sky level of mountain level of mountain mountain mountain mountain\n",
            "\n",
            "\n",
            "Model: sky level of mountain level of mountain mountain mountain mountain and Actual Answer: air\n"
          ]
        },
        {
          "output_type": "stream",
          "name": "stderr",
          "text": [
            " 34%|███▍      | 419/1221 [01:12<02:18,  5.78it/s]"
          ]
        },
        {
          "output_type": "stream",
          "name": "stdout",
          "text": [
            "Q: Where is the large area location of the empire state building?\n",
            "O: manhattan /// office /// the city /// fifth avenue /// new york city\n",
            "A:  manhattan city city city city city city city city\n",
            "\n",
            "\n",
            "Model: manhattan city city city city city city city city and Actual Answer: new york city\n",
            "Q: Where do most people make coffee?\n",
            "O: coffee shop /// office /// table /// washing /// kitchen\n",
            "A:  coffee shop cafe cafe cafe cafe cafe cafe cafe cafe\n",
            "\n",
            "\n",
            "Model: coffee shop cafe cafe cafe cafe cafe cafe cafe cafe and Actual Answer: kitchen\n"
          ]
        },
        {
          "output_type": "stream",
          "name": "stderr",
          "text": [
            " 34%|███▍      | 421/1221 [01:12<02:17,  5.83it/s]"
          ]
        },
        {
          "output_type": "stream",
          "name": "stdout",
          "text": [
            "Q: What kind of service is my body a part of when I'm no longer here?\n",
            "O: bodycam /// home /// coffin /// funeral /// graveyard\n",
            "A:  coffin coffin coffin coffin coffin coffin coffin coffin coffin coffin\n",
            "\n",
            "\n",
            "Model: coffin coffin coffin coffin coffin coffin coffin coffin coffin coffin and Actual Answer: funeral\n",
            "Q: Many people wanted to leave their country estates for row houses, what did they need to move to?\n",
            "O: living less expensively /// england /// prison /// city /// town\n",
            "A:  city town town town town town town town town town\n",
            "\n",
            "\n",
            "Model: city town town town town town town town town town and Actual Answer: city\n"
          ]
        },
        {
          "output_type": "stream",
          "name": "stderr",
          "text": [
            " 35%|███▍      | 423/1221 [01:12<02:16,  5.84it/s]"
          ]
        },
        {
          "output_type": "stream",
          "name": "stdout",
          "text": [
            "Q: Where can someone get a new saw?\n",
            "O: hardware store /// toolbox /// logging camp /// tool kit /// auger\n",
            "A:  tool kit /// tool kit /// tool kit /// tool\n",
            "\n",
            "\n",
            "Model: tool kit and Actual Answer: hardware store\n",
            "Q: What would you do to a crime scene before asking a question?\n",
            "O: express information /// touch everything /// think /// give clue /// analyse\n",
            "A:  express information about everything about everything about everything about everything\n",
            "\n",
            "\n",
            "Model: express information about everything about everything about everything about everything and Actual Answer: analyse\n"
          ]
        },
        {
          "output_type": "stream",
          "name": "stderr",
          "text": [
            " 35%|███▍      | 425/1221 [01:13<02:16,  5.84it/s]"
          ]
        },
        {
          "output_type": "stream",
          "name": "stdout",
          "text": [
            "Q: The man didn't do great in college, all his best memories were late night with his brothers at the what?\n",
            "O: big city /// fraternity house /// school /// building /// big town\n",
            "A:  fraternity house building building building building building building building building\n",
            "\n",
            "\n",
            "Model: fraternity house building building building building building building building building and Actual Answer: fraternity house\n",
            "Q: In a horror movie victims usually trip when the run in order to do what in regards to the killer?\n",
            "O: frightened /// run up stairs /// get away from /// go quickly /// go faster\n",
            "A:  go fast forward forward forward forward forward forward forward forward\n",
            "\n",
            "\n",
            "Model: go fast forward forward forward forward forward forward forward forward and Actual Answer: get away from\n"
          ]
        },
        {
          "output_type": "stream",
          "name": "stderr",
          "text": [
            " 35%|███▍      | 427/1221 [01:13<02:15,  5.86it/s]"
          ]
        },
        {
          "output_type": "stream",
          "name": "stdout",
          "text": [
            "Q: The coach decided to make a lineup change, the team's effort was suffering from what?\n",
            "O: stagnant /// stagnation /// tradition /// hunger /// paper money\n",
            "A:  stagnation and stagnation and stagnation were stagnation and stagnation were\n",
            "\n",
            "\n",
            "Model: stagnation and stagnation and stagnation were stagnation and stagnation were and Actual Answer: stagnation\n",
            "Q: Where would you go if you want to buy some clothes?\n",
            "O: mall /// grocery store /// grocery store /// shop /// supermarket\n",
            "A:  shopping store store store store store store store store store\n",
            "\n",
            "\n",
            "Model: shopping store store store store store store store store store and Actual Answer: mall\n"
          ]
        },
        {
          "output_type": "stream",
          "name": "stderr",
          "text": [
            " 35%|███▌      | 429/1221 [01:13<02:16,  5.81it/s]"
          ]
        },
        {
          "output_type": "stream",
          "name": "stdout",
          "text": [
            "Q: Where is food likely to stay dry?\n",
            "O: etna /// cupboard /// oven /// stomach /// fridge\n",
            "A:  fridge /// fridge /// fridge\n",
            "\n",
            "\n",
            "Model: fridge and Actual Answer: cupboard\n",
            "Q: What is it called when a person with mental illness is able to lead a relatively normal life?\n",
            "O: managed /// effectively treated /// recur /// cause delusion /// illusion\n",
            "A:  effectively treated effectively treated effectively treated effectively treated effectively treated\n",
            "\n",
            "\n",
            "Model: effectively treated effectively treated effectively treated effectively treated effectively treated and Actual Answer: managed\n"
          ]
        },
        {
          "output_type": "stream",
          "name": "stderr",
          "text": [
            " 35%|███▌      | 431/1221 [01:14<02:18,  5.69it/s]"
          ]
        },
        {
          "output_type": "stream",
          "name": "stdout",
          "text": [
            "Q: Where do you keep musical instrument so it doesn't get scratched?\n",
            "O: bank /// orchestra /// case /// music room /// movie\n",
            "A:  case case case case case case case case case case\n",
            "\n",
            "\n",
            "Model: case case case case case case case case case case and Actual Answer: case\n",
            "Q: The woman is watching television and trying to forget her day, what is her goal?\n",
            "O: entertainment /// falling asleep /// getting fat /// crying /// relaxation\n",
            "A:  relaxation and relaxation and relaxation and relaxation and relaxation and\n",
            "\n",
            "\n",
            "Model: relaxation and relaxation and relaxation and relaxation and relaxation and and Actual Answer: relaxation\n"
          ]
        },
        {
          "output_type": "stream",
          "name": "stderr",
          "text": [
            " 35%|███▌      | 433/1221 [01:14<02:16,  5.79it/s]"
          ]
        },
        {
          "output_type": "stream",
          "name": "stdout",
          "text": [
            "Q: While John Candy and Dan Aykroyd didn't run into a gazelle, you'd have to go where to see one?\n",
            "O: eastern hemisphere /// the city /// open plain /// television program /// great outdoors\n",
            "A:  television program show show show show show show show show\n",
            "\n",
            "\n",
            "Model: television program show show show show show show show show and Actual Answer: great outdoors\n",
            "Q: When we are running what are we doing?\n",
            "O: stretches /// running from police /// learn to walk /// go quickly /// get out of bed\n",
            "A:  running from police force /// running from police force ///\n",
            "\n",
            "\n",
            "Model: running from police force and Actual Answer: go quickly\n"
          ]
        },
        {
          "output_type": "stream",
          "name": "stderr",
          "text": [
            " 36%|███▌      | 435/1221 [01:14<02:15,  5.82it/s]"
          ]
        },
        {
          "output_type": "stream",
          "name": "stdout",
          "text": [
            "Q: It's dangerous to let pet birds free so it's better to keep them what?\n",
            "O: slavery /// caught /// caged in /// topfree /// prisoner\n",
            "A:  caged in prisoner in prisoner in prisoner in prisoner\n",
            "\n",
            "\n",
            "Model: caged in prisoner in prisoner in prisoner in prisoner and Actual Answer: caged in\n",
            "Q: A beaver is know for building prowess, their supplies come from where?\n",
            "O: british columbia /// body of water /// wooded area /// pay debts /// zoo\n",
            "A:  british columbia columbia col\n",
            "\n",
            "\n",
            "Model: british columbia columbia col and Actual Answer: wooded area\n"
          ]
        },
        {
          "output_type": "stream",
          "name": "stderr",
          "text": [
            " 36%|███▌      | 437/1221 [01:15<02:19,  5.64it/s]"
          ]
        },
        {
          "output_type": "stream",
          "name": "stdout",
          "text": [
            "Q: Zane doesn't like answering questions.  He's not good at it because he suffers from what?\n",
            "O: panic /// discussion /// attention /// confusion /// satisfaction\n",
            "A:  confusion and confusion about the topic of topic of topic\n",
            "\n",
            "\n",
            "Model: confusion and confusion about the topic of topic of topic and Actual Answer: confusion\n",
            "Q: Going public about a common problem can gain what for a celebrity?\n",
            "O: wide acceptance /// a degree /// pain /// getting high /// press coverage\n",
            "A:  publicity coverage of a common problem. /// publicity of\n",
            "\n",
            "\n",
            "Model: publicity coverage of a common problem. and Actual Answer: wide acceptance\n"
          ]
        },
        {
          "output_type": "stream",
          "name": "stderr",
          "text": [
            " 36%|███▌      | 439/1221 [01:15<02:16,  5.75it/s]"
          ]
        },
        {
          "output_type": "stream",
          "name": "stdout",
          "text": [
            "Q: The electricity went out and everyone was shrouded in darkness.  They all remained in their seats, because it would have been dangerous to try to find there way out.  Where mihgt they have been?\n",
            "O: opera /// concert /// basement /// bedroom /// grand canyon\n",
            "A:  basement basement basement basement basement basement basement basement basement basement\n",
            "\n",
            "\n",
            "Model: basement basement basement basement basement basement basement basement basement basement and Actual Answer: opera\n",
            "Q: Where could you find hundreds of beauty salon?\n",
            "O: clerk /// mall /// strip mall /// city /// neighborhood\n",
            "A:  strip mall mall mall mall mall mall mall mall mall\n",
            "\n",
            "\n",
            "Model: strip mall mall mall mall mall mall mall mall mall and Actual Answer: city\n"
          ]
        },
        {
          "output_type": "stream",
          "name": "stderr",
          "text": [
            " 36%|███▌      | 441/1221 [01:15<02:14,  5.79it/s]"
          ]
        },
        {
          "output_type": "stream",
          "name": "stdout",
          "text": [
            "Q: If it is Chrismas time what came most recently before?\n",
            "O: halloween /// summer /// easter /// kwaanza /// give gift\n",
            "A:  summer summer summer summer summer summer summer summer summer summer\n",
            "\n",
            "\n",
            "Model: summer summer summer summer summer summer summer summer summer summer and Actual Answer: halloween\n",
            "Q: If someone found out their brother was having a daughter, they would have to add a niece limb to the what?\n",
            "O: family picture book /// family reunion /// brother's house /// family tree /// baby shower\n",
            "A:  family picture book book book book book book book book\n",
            "\n",
            "\n",
            "Model: family picture book book book book book book book book and Actual Answer: family tree\n"
          ]
        },
        {
          "output_type": "stream",
          "name": "stderr",
          "text": [
            " 36%|███▋      | 443/1221 [01:16<02:13,  5.82it/s]"
          ]
        },
        {
          "output_type": "stream",
          "name": "stdout",
          "text": [
            "Q: The criminal insisted he must do the crime to the bank teller, but she tried to convince him there were other ways in life and this was what?\n",
            "O: willing /// optional /// should not /// have to /// unnecessary\n",
            "A:  optional should not should not have to have to have\n",
            "\n",
            "\n",
            "Model: optional should not should not have to have to have and Actual Answer: unnecessary\n",
            "Q: what do you fill with ink to write?\n",
            "O: squid /// fountain pen /// pencil case /// newspaper /// printer\n",
            "A:  fountain pen case case case case case case case case\n",
            "\n",
            "\n",
            "Model: fountain pen case case case case case case case case and Actual Answer: fountain pen\n"
          ]
        },
        {
          "output_type": "stream",
          "name": "stderr",
          "text": [
            " 36%|███▋      | 445/1221 [01:16<02:13,  5.83it/s]"
          ]
        },
        {
          "output_type": "stream",
          "name": "stdout",
          "text": [
            "Q: He walked into the room and had a great shock, his friends had what him?\n",
            "O: expected /// wanting /// calm /// thundershock /// surprised\n",
            "A:  expected expected expected expected expected expected expected expected expected expected\n",
            "\n",
            "\n",
            "Model: expected expected expected expected expected expected expected expected expected expected and Actual Answer: surprised\n",
            "Q: He wasn't the hugging type, even when he meet friend he'd just do what?\n",
            "O: have sex /// smile /// hug each other /// conversation /// handshake\n",
            "A:  hug each other /// hug each other /// hug each\n",
            "\n",
            "\n",
            "Model: hug each other and Actual Answer: handshake\n"
          ]
        },
        {
          "output_type": "stream",
          "name": "stderr",
          "text": [
            " 37%|███▋      | 447/1221 [01:16<02:13,  5.81it/s]"
          ]
        },
        {
          "output_type": "stream",
          "name": "stdout",
          "text": [
            "Q: If you were lost you might need a map, the best place to find one on the road is at any what?\n",
            "O: truck stop /// amusement park /// atlas /// mall /// gas station\n",
            "A:  gas station stop stop stop stop stop stop stop stop\n",
            "\n",
            "\n",
            "Model: gas station stop stop stop stop stop stop stop stop and Actual Answer: gas station\n",
            "Q: Where would you put a net if you wanted to use it?\n",
            "O: sports /// fishing gear /// soccer game /// fishing boat /// badminton\n",
            "A:  fishing gear bag /// fishing gear bag /// fishing gear\n",
            "\n",
            "\n",
            "Model: fishing gear bag and Actual Answer: fishing boat\n"
          ]
        },
        {
          "output_type": "stream",
          "name": "stderr",
          "text": [
            " 37%|███▋      | 449/1221 [01:17<02:12,  5.84it/s]"
          ]
        },
        {
          "output_type": "stream",
          "name": "stdout",
          "text": [
            "Q: Sage loved communicating  He liked doing what with his peers?\n",
            "O: exchanging ideas /// confusion /// peer pressure /// response /// learning\n",
            "A:  exchanging ideas\n",
            "\n",
            "\n",
            "Model: exchanging ideas and Actual Answer: exchanging ideas\n",
            "Q: Where would a cat snuggle up with their human?\n",
            "O: floor /// humane society /// bed /// comfortable chair /// window sill\n",
            "A:  bed sill sill sill sill sill sill sill sill sill\n",
            "\n",
            "\n",
            "Model: bed sill sill sill sill sill sill sill sill sill and Actual Answer: comfortable chair\n"
          ]
        },
        {
          "output_type": "stream",
          "name": "stderr",
          "text": [
            " 37%|███▋      | 451/1221 [01:17<02:11,  5.85it/s]"
          ]
        },
        {
          "output_type": "stream",
          "name": "stdout",
          "text": [
            "Q: What is a place that has large cable hanging overhead?\n",
            "O: radio shack /// electrical device /// shower /// substation /// television\n",
            "A:  television shack /// television shack /// television shack\n",
            "\n",
            "\n",
            "Model: television shack and Actual Answer: substation\n",
            "Q: Where do cars usually travel at very high speeds?\n",
            "O: freeway /// road /// race track /// alley /// parking lot\n",
            "A:  freeway track track track track track track track track track\n",
            "\n",
            "\n",
            "Model: freeway track track track track track track track track track and Actual Answer: race track\n"
          ]
        },
        {
          "output_type": "stream",
          "name": "stderr",
          "text": [
            " 37%|███▋      | 453/1221 [01:17<02:13,  5.74it/s]"
          ]
        },
        {
          "output_type": "stream",
          "name": "stdout",
          "text": [
            "Q: What might a person be watching if they see a man with a suitcase full of money?\n",
            "O: baggage compartment /// movie /// subway /// airplane /// cargo hold\n",
            "A:  airplane compartment compartment compartment compartment compartment compartment compartment compartment compartment\n",
            "\n",
            "\n",
            "Model: airplane compartment compartment compartment compartment compartment compartment compartment compartment compartment and Actual Answer: movie\n",
            "Q: Eating breakfast in bed while seeing a homeless person shivering outside your window may cause you to what?\n",
            "O: mess /// hungry /// feel guilty /// indigestion /// spills\n",
            "A:  feel guilty for guilt for guilt for guilt for guilt\n",
            "\n",
            "\n",
            "Model: feel guilty for guilt for guilt for guilt for guilt and Actual Answer: feel guilty\n"
          ]
        },
        {
          "output_type": "stream",
          "name": "stderr",
          "text": [
            " 37%|███▋      | 455/1221 [01:18<02:11,  5.84it/s]"
          ]
        },
        {
          "output_type": "stream",
          "name": "stdout",
          "text": [
            "Q: If I put in my key and open a hinged door, where am I likely entering?\n",
            "O: kitchen /// safe /// own house /// building /// pantry\n",
            "A:  safe house building /// safe house /// safe house\n",
            "\n",
            "\n",
            "Model: safe house building and Actual Answer: own house\n",
            "Q: If somebody is working at a reception desk, they are located at the front entrance of the what?\n",
            "O: motel /// hostel /// building /// lobby /// office park\n",
            "A:  motel building /// motel building /// motel building\n",
            "\n",
            "\n",
            "Model: motel building and Actual Answer: building\n"
          ]
        },
        {
          "output_type": "stream",
          "name": "stderr",
          "text": [
            " 37%|███▋      | 457/1221 [01:18<02:09,  5.91it/s]"
          ]
        },
        {
          "output_type": "stream",
          "name": "stdout",
          "text": [
            "Q: If you're reading a newspaper from another country what are you doing?\n",
            "O: learning about world /// education /// get angry /// concern /// eat cake\n",
            "A:  education about world world world world world world world world\n",
            "\n",
            "\n",
            "Model: education about world world world world world world world world and Actual Answer: learning about world\n",
            "Q: They wanted to recognize his accomplishment, where should they put his name?\n",
            "O: certificate /// directory /// phone book /// lineup /// roster\n",
            "A:  phone book list list list list list list list list\n",
            "\n",
            "\n",
            "Model: phone book list list list list list list list list and Actual Answer: certificate\n"
          ]
        },
        {
          "output_type": "stream",
          "name": "stderr",
          "text": [
            " 38%|███▊      | 459/1221 [01:18<02:08,  5.92it/s]"
          ]
        },
        {
          "output_type": "stream",
          "name": "stdout",
          "text": [
            "Q: What is it called when a person tends to leave things to the last minute?\n",
            "O: procrastinate /// complete collection /// headache /// good time management /// have to hold\n",
            "A:  procrastinate management strategy manager strategy manager strategy manager\n",
            "\n",
            "\n",
            "Model: procrastinate management strategy manager strategy manager strategy manager and Actual Answer: procrastinate\n",
            "Q: What will you do if you do not want to settle in one place?\n",
            "O: walk /// agitate /// wander /// remove /// disturb\n",
            "A:  walk away from one place /// walk away from one\n",
            "\n",
            "\n",
            "Model: walk away from one place and Actual Answer: wander\n"
          ]
        },
        {
          "output_type": "stream",
          "name": "stderr",
          "text": [
            " 38%|███▊      | 461/1221 [01:19<02:08,  5.90it/s]"
          ]
        },
        {
          "output_type": "stream",
          "name": "stdout",
          "text": [
            "Q: Where would a person live that isn't in the metro area but still has good schools?\n",
            "O: woods /// bed /// suburbs /// rural /// neighborhood\n",
            "A:  suburbs neighborhood neighborhood neighborhood neighborhood neighborhood neighborhood neighborhood neighborhood neighborhood\n",
            "\n",
            "\n",
            "Model: suburbs neighborhood neighborhood neighborhood neighborhood neighborhood neighborhood neighborhood neighborhood neighborhood and Actual Answer: suburbs\n",
            "Q: Jane works for the government as a senator, where does she spend a lot of time?\n",
            "O: capitol building /// everything /// washington d.c /// russia /// canada\n",
            "A:  washington d.c.c.c.\n",
            "\n",
            "\n",
            "Model: washington d.c.c.c. and Actual Answer: capitol building\n"
          ]
        },
        {
          "output_type": "stream",
          "name": "stderr",
          "text": [
            " 38%|███▊      | 463/1221 [01:19<02:08,  5.89it/s]"
          ]
        },
        {
          "output_type": "stream",
          "name": "stdout",
          "text": [
            "Q: What is it called when two people in love have children?\n",
            "O: take oath /// procreate /// matrimony /// please parents /// live life\n",
            "A:  procreate and live life and live life and live\n",
            "\n",
            "\n",
            "Model: procreate and live life and live life and live and Actual Answer: procreate\n",
            "Q: What did the policemen do when they heard a cry from a distance?\n",
            "O: run away /// hurry along /// fine motorists /// direct traffic /// help\n",
            "A:  hurry along along along along along along along along along\n",
            "\n",
            "\n",
            "Model: hurry along along along along along along along along along and Actual Answer: help\n"
          ]
        },
        {
          "output_type": "stream",
          "name": "stderr",
          "text": [
            " 38%|███▊      | 465/1221 [01:19<02:08,  5.89it/s]"
          ]
        },
        {
          "output_type": "stream",
          "name": "stdout",
          "text": [
            "Q: It takes ambition to complete a job, but the first step is to what?\n",
            "O: take care of proposals /// begin work /// in charge of project /// eat cake /// go to school\n",
            "A:  begin work project project project project project project project project\n",
            "\n",
            "\n",
            "Model: begin work project project project project project project project project and Actual Answer: begin work\n",
            "Q: Where would I not want a fox?\n",
            "O: hen house /// english hunt /// mountains /// outside bedroom window /// england\n",
            "A:  england window window window window window window window window\n",
            "\n",
            "\n",
            "Model: england window window window window window window window window and Actual Answer: hen house\n"
          ]
        },
        {
          "output_type": "stream",
          "name": "stderr",
          "text": [
            " 38%|███▊      | 467/1221 [01:20<02:07,  5.90it/s]"
          ]
        },
        {
          "output_type": "stream",
          "name": "stdout",
          "text": [
            "Q: What type of building has the most top floor?\n",
            "O: go down /// apartment building /// tall building /// office building /// cabin\n",
            "A:  apartment building complex building complex complex complex complex complex complex\n",
            "\n",
            "\n",
            "Model: apartment building complex building complex complex complex complex complex complex and Actual Answer: tall building\n",
            "Q: What do humans do to other humans after death?\n",
            "O: celebrate /// burial /// life /// rebirth /// decomposition\n",
            "A:  decompositionationationationationationationationation\n",
            "\n",
            "\n",
            "Model: decompositionationationationationationationationation and Actual Answer: burial\n"
          ]
        },
        {
          "output_type": "stream",
          "name": "stderr",
          "text": [
            " 38%|███▊      | 469/1221 [01:20<02:07,  5.91it/s]"
          ]
        },
        {
          "output_type": "stream",
          "name": "stdout",
          "text": [
            "Q: Where can you find a restaurant's phone number?\n",
            "O: yellow pages /// town /// business sector /// town /// at hotel\n",
            "A:  town hall hall hall hall hall hall hall hall hall\n",
            "\n",
            "\n",
            "Model: town hall hall hall hall hall hall hall hall hall and Actual Answer: yellow pages\n",
            "Q: What would you put coins into to make it work?\n",
            "O: stove /// water fountain /// desk /// purse /// jar\n",
            "A:  jar jar jar jar jar jar jar jar jar jar\n",
            "\n",
            "\n",
            "Model: jar jar jar jar jar jar jar jar jar jar and Actual Answer: water fountain\n"
          ]
        },
        {
          "output_type": "stream",
          "name": "stderr",
          "text": [
            " 39%|███▊      | 471/1221 [01:20<02:06,  5.91it/s]"
          ]
        },
        {
          "output_type": "stream",
          "name": "stdout",
          "text": [
            "Q: A patriotic guy with a camera is looking for a bald eagle, what is he likely to do with the eagle if he finds one?\n",
            "O: city /// canada /// minnesota /// thermal /// photograph\n",
            "A:  minnesota city /// minnesota city council council council\n",
            "\n",
            "\n",
            "Model: minnesota city and Actual Answer: photograph\n",
            "Q: Where can you go to use a piano in your neighborhood if you don't have one?\n",
            "O: music school /// music store /// neighbor's house /// lunch /// drawing room\n",
            "A:  neighbor's house in neighbor's house in neighbor's\n",
            "\n",
            "\n",
            "Model: neighbor's house in neighbor's house in neighbor's and Actual Answer: neighbor's house\n"
          ]
        },
        {
          "output_type": "stream",
          "name": "stderr",
          "text": [
            " 39%|███▊      | 473/1221 [01:21<02:08,  5.83it/s]"
          ]
        },
        {
          "output_type": "stream",
          "name": "stdout",
          "text": [
            "Q: Where would you get a shower curtain if you do not have one?\n",
            "O: department store /// restaurant /// hotel /// dime store /// bathtub\n",
            "A:  department store store store store store store store store store\n",
            "\n",
            "\n",
            "Model: department store store store store store store store store store and Actual Answer: department store\n",
            "Q: Kissing is normally an activity reserved for your romantic what?\n",
            "O: anus /// partner /// arousal /// trust /// cooperation\n",
            "A:  partner in partner in partner in partner in partner in\n",
            "\n",
            "\n",
            "Model: partner in partner in partner in partner in partner in and Actual Answer: partner\n"
          ]
        },
        {
          "output_type": "stream",
          "name": "stderr",
          "text": [
            " 39%|███▉      | 475/1221 [01:21<02:07,  5.84it/s]"
          ]
        },
        {
          "output_type": "stream",
          "name": "stdout",
          "text": [
            "Q: What does a child learn to do before school?\n",
            "O: count to ten /// state name /// dress herself /// clean room /// socialize\n",
            "A:  dress herself herself herself herself herself herself herself herself herself\n",
            "\n",
            "\n",
            "Model: dress herself herself herself herself herself herself herself herself herself and Actual Answer: dress herself\n",
            "Q: He was getting advice for the job interview, they told him when talking to the interviewer always make what?\n",
            "O: get tired of /// small talk /// eye contact /// friendship /// social life\n",
            "A:  eye contact contact contact contact contact contact contact contact contact\n",
            "\n",
            "\n",
            "Model: eye contact contact contact contact contact contact contact contact contact and Actual Answer: eye contact\n"
          ]
        },
        {
          "output_type": "stream",
          "name": "stderr",
          "text": [
            " 39%|███▉      | 477/1221 [01:22<02:06,  5.87it/s]"
          ]
        },
        {
          "output_type": "stream",
          "name": "stdout",
          "text": [
            "Q: According to what book did an apple tree lead to the downfall of man?\n",
            "O: bible /// spain /// harry potter /// new york /// woods\n",
            "A:  harry potter potter's potter's\n",
            "\n",
            "\n",
            "Model: harry potter potter's potter's and Actual Answer: bible\n",
            "Q: The neighborhood had a great sense of community, there was always a crowd at the landing of the what?\n",
            "O: stairwell /// arena /// ocean /// airport /// apartment building\n",
            "A:  apartment building complex building complex building complex complex complex complex\n",
            "\n",
            "\n",
            "Model: apartment building complex building complex building complex complex complex complex and Actual Answer: apartment building\n"
          ]
        },
        {
          "output_type": "stream",
          "name": "stderr",
          "text": [
            " 39%|███▉      | 479/1221 [01:22<02:05,  5.93it/s]"
          ]
        },
        {
          "output_type": "stream",
          "name": "stdout",
          "text": [
            "Q: What might a kind person do?\n",
            "O: cross street /// talk to themselves /// open doors /// throw away /// study greek\n",
            "A:  throw away from themselves /// throw away from themselves ///\n",
            "\n",
            "\n",
            "Model: throw away from themselves and Actual Answer: open doors\n",
            "Q: What will a person do at work?\n",
            "O: cross street /// draw attention to themselves /// make money /// falling down /// come home\n",
            "A:  draw attention to themselves and draw attention to themselves and\n",
            "\n",
            "\n",
            "Model: draw attention to themselves and draw attention to themselves and and Actual Answer: make money\n"
          ]
        },
        {
          "output_type": "stream",
          "name": "stderr",
          "text": [
            " 39%|███▉      | 481/1221 [01:22<02:04,  5.95it/s]"
          ]
        },
        {
          "output_type": "stream",
          "name": "stdout",
          "text": [
            "Q: John saw a fox running along the beach and was glad to be on the east coast.  Where might he have been?\n",
            "O: tennessee /// south carolina /// louisiana /// oklahoma /// mountains\n",
            "A:  louisiana louisiana louisiana lou\n",
            "\n",
            "\n",
            "Model: louisiana louisiana louisiana lou and Actual Answer: south carolina\n",
            "Q: Name a location where you would not want to find mice.\n",
            "O: loft /// attic /// bell cat /// countryside /// laboratory\n",
            "A:  loft loft loft loft loft loft loft loft loft loft\n",
            "\n",
            "\n",
            "Model: loft loft loft loft loft loft loft loft loft loft and Actual Answer: attic\n"
          ]
        },
        {
          "output_type": "stream",
          "name": "stderr",
          "text": [
            " 40%|███▉      | 483/1221 [01:23<02:05,  5.86it/s]"
          ]
        },
        {
          "output_type": "stream",
          "name": "stdout",
          "text": [
            "Q: The man started to learn jogging, what was he hoping to do?\n",
            "O: exhaustion /// getting in shape /// fitness /// injure himself /// fatigue\n",
            "A:  exhaustion himself /// exhaustion himself /// exhaustion himself\n",
            "\n",
            "\n",
            "Model: exhaustion himself and Actual Answer: getting in shape\n",
            "Q: Where do most people turn to get information on their phones?\n",
            "O: internet /// book /// online /// google /// manual\n",
            "A:  internet book online book book book book book book book\n",
            "\n",
            "\n",
            "Model: internet book online book book book book book book book and Actual Answer: google\n"
          ]
        },
        {
          "output_type": "stream",
          "name": "stderr",
          "text": [
            " 40%|███▉      | 485/1221 [01:23<02:05,  5.87it/s]"
          ]
        },
        {
          "output_type": "stream",
          "name": "stdout",
          "text": [
            "Q: What happens to a body after death?\n",
            "O: rebirth /// human experience /// sadness /// decomposition /// obesity\n",
            "A:  decompositionation of body /// decomposition of body\n",
            "\n",
            "\n",
            "Model: decompositionation of body and Actual Answer: decomposition\n",
            "Q: What type of non-vegetarian soup is one likely to find a potato?\n",
            "O: beef stew /// own kitchen /// clam chowder /// kitchen cabinet /// pantry\n",
            "A:  own kitchen cabinet cabinet cabinet cabinet cabinet cabinet cabinet cabinet\n",
            "\n",
            "\n",
            "Model: own kitchen cabinet cabinet cabinet cabinet cabinet cabinet cabinet cabinet and Actual Answer: clam chowder\n"
          ]
        },
        {
          "output_type": "stream",
          "name": "stderr",
          "text": [
            " 40%|███▉      | 487/1221 [01:23<02:04,  5.88it/s]"
          ]
        },
        {
          "output_type": "stream",
          "name": "stdout",
          "text": [
            "Q: Though she had a disability, what did her encouraging and positive coach see in her?\n",
            "O: qualification /// strength /// pity /// competence /// potential\n",
            "A:  potential qualification qualification qualification qualification qualification qualification qualification qualification qualification\n",
            "\n",
            "\n",
            "Model: potential qualification qualification qualification qualification qualification qualification qualification qualification qualification and Actual Answer: potential\n",
            "Q: They had a theory of what they could do in t he big game, so over and over they would what?\n",
            "O: park /// practice /// fact /// practical /// practise\n",
            "A:  practice of practice of practice of practice of practice of\n",
            "\n",
            "\n",
            "Model: practice of practice of practice of practice of practice of and Actual Answer: practice\n"
          ]
        },
        {
          "output_type": "stream",
          "name": "stderr",
          "text": [
            " 40%|████      | 489/1221 [01:24<02:05,  5.82it/s]"
          ]
        },
        {
          "output_type": "stream",
          "name": "stdout",
          "text": [
            "Q: When you see something rise, you are where in relation to it?\n",
            "O: sun set /// near /// fall /// below /// lower\n",
            "A:  below below below below below below below below below below\n",
            "\n",
            "\n",
            "Model: below below below below below below below below below below and Actual Answer: below\n",
            "Q: They were getting ready for a really long hike, he put the food can in his what?\n",
            "O: cabinet /// house /// recycling center /// backpack /// make person sick\n",
            "A:  backpack bag of food cans of food cans of food\n",
            "\n",
            "\n",
            "Model: backpack bag of food cans of food cans of food and Actual Answer: backpack\n"
          ]
        },
        {
          "output_type": "stream",
          "name": "stderr",
          "text": [
            " 40%|████      | 491/1221 [01:24<02:04,  5.87it/s]"
          ]
        },
        {
          "output_type": "stream",
          "name": "stdout",
          "text": [
            "Q: Where would you keep a rug near your front door?\n",
            "O: persia /// desk /// table /// living room /// hall\n",
            "A:  living room hall hall hall hall hall hall hall hall\n",
            "\n",
            "\n",
            "Model: living room hall hall hall hall hall hall hall hall and Actual Answer: living room\n",
            "Q: When you slip from a ladder propped on anything what will you do?\n",
            "O: obesity /// fall down /// matter to /// whatever /// surprise\n",
            "A:  fall down down down down down down down down down\n",
            "\n",
            "\n",
            "Model: fall down down down down down down down down down and Actual Answer: fall down\n"
          ]
        },
        {
          "output_type": "stream",
          "name": "stderr",
          "text": [
            " 40%|████      | 493/1221 [01:24<02:02,  5.94it/s]"
          ]
        },
        {
          "output_type": "stream",
          "name": "stdout",
          "text": [
            "Q: What do you do when you need to get food?\n",
            "O: table /// disneyland /// refrigerators /// pantry /// shop\n",
            "A:  table table\n",
            "\n",
            "\n",
            "Model: table table and Actual Answer: shop\n",
            "Q: Brad tried to arise from bed but he could not.  Instead, he just continued to do what?\n",
            "O: go down /// fall down /// lie down /// lie to himself /// sit down\n",
            "A:  lie down to himself /// lie down to himself ///\n",
            "\n",
            "\n",
            "Model: lie down to himself and Actual Answer: lie down\n"
          ]
        },
        {
          "output_type": "stream",
          "name": "stderr",
          "text": [
            " 41%|████      | 495/1221 [01:25<02:03,  5.90it/s]"
          ]
        },
        {
          "output_type": "stream",
          "name": "stdout",
          "text": [
            "Q: If a heifer is really high quality, you might take her where?\n",
            "O: home /// dairy farm /// cattle show /// dairy barn /// corral\n",
            "A:  dairy farm farm farm farm farm farm farm farm farm\n",
            "\n",
            "\n",
            "Model: dairy farm farm farm farm farm farm farm farm farm and Actual Answer: cattle show\n",
            "Q: What do people want to acquire from opening business?\n",
            "O: home /// wealth /// bankruptcy /// lose money /// get rich\n",
            "A:  wealth and wealth /// wealth and wealth /// bankruptcy\n",
            "\n",
            "\n",
            "Model: wealth and wealth and Actual Answer: wealth\n"
          ]
        },
        {
          "output_type": "stream",
          "name": "stderr",
          "text": [
            " 41%|████      | 497/1221 [01:25<02:02,  5.93it/s]"
          ]
        },
        {
          "output_type": "stream",
          "name": "stdout",
          "text": [
            "Q: What has someone who had finished their undergraduate done?\n",
            "O: graduated /// masters /// postgraduate /// phd /// professor\n",
            "A:  graduate graduate graduate graduate graduate graduate graduate graduate graduate graduate\n",
            "\n",
            "\n",
            "Model: graduate graduate graduate graduate graduate graduate graduate graduate graduate graduate and Actual Answer: graduated\n",
            "Q: Where are bus stops more common in what parts?\n",
            "O: ocean /// getting off of bus /// airport /// urban area /// towns\n",
            "A:  airport airport airport airport airport airport airport airport airport airport\n",
            "\n",
            "\n",
            "Model: airport airport airport airport airport airport airport airport airport airport and Actual Answer: urban area\n"
          ]
        },
        {
          "output_type": "stream",
          "name": "stderr",
          "text": [
            " 41%|████      | 499/1221 [01:25<02:02,  5.89it/s]"
          ]
        },
        {
          "output_type": "stream",
          "name": "stdout",
          "text": [
            "Q: Bill wanted to pick up a stranger, preferably a responsible one with kids.  Where might he look for one?\n",
            "O: bus station /// paradise /// train station /// park /// sea\n",
            "A:  train station station station station station station station station station\n",
            "\n",
            "\n",
            "Model: train station station station station station station station station station and Actual Answer: park\n",
            "Q: Where might a lemur frolic in the market?\n",
            "O: desert /// hole /// india /// cage /// rain forest\n",
            "A:  desert forest forest forest forest forest forest forest forest forest\n",
            "\n",
            "\n",
            "Model: desert forest forest forest forest forest forest forest forest forest and Actual Answer: india\n"
          ]
        },
        {
          "output_type": "stream",
          "name": "stderr",
          "text": [
            " 41%|████      | 501/1221 [01:26<02:05,  5.72it/s]"
          ]
        },
        {
          "output_type": "stream",
          "name": "stdout",
          "text": [
            "Q: What might I place under the furniture?\n",
            "O: rug /// room /// toy /// friend's house /// building\n",
            "A:  rug /// rug /// rug\n",
            "\n",
            "\n",
            "Model: rug and Actual Answer: rug\n",
            "Q: Everybody began performing once their director stated what?\n",
            "O: fear /// injury /// happiness /// action /// cut\n",
            "A:  action action action action action action action action action action\n",
            "\n",
            "\n",
            "Model: action action action action action action action action action action and Actual Answer: action\n"
          ]
        },
        {
          "output_type": "stream",
          "name": "stderr",
          "text": [
            " 41%|████      | 503/1221 [01:26<02:04,  5.76it/s]"
          ]
        },
        {
          "output_type": "stream",
          "name": "stdout",
          "text": [
            "Q: By learning about the world, many poor college students gain what?\n",
            "O: pleasure /// greater mobility /// desire to travel /// global warming /// increased security\n",
            "A:  greater mobility and greater mobility and greater mobility and greater\n",
            "\n",
            "\n",
            "Model: greater mobility and greater mobility and greater mobility and greater and Actual Answer: desire to travel\n",
            "Q: Where are required to carry books all day?\n",
            "O: friend's house /// university /// large city /// storage /// table\n",
            "A:  large city hall hall hall hall hall hall hall hall\n",
            "\n",
            "\n",
            "Model: large city hall hall hall hall hall hall hall hall and Actual Answer: university\n"
          ]
        },
        {
          "output_type": "stream",
          "name": "stderr",
          "text": [
            " 41%|████▏     | 505/1221 [01:26<02:05,  5.68it/s]"
          ]
        },
        {
          "output_type": "stream",
          "name": "stdout",
          "text": [
            "Q: where is seaweed from?\n",
            "O: beach /// sea /// ocean /// water /// sea plant\n",
            "A:  sea plant plant plant plant plant plant plant plant plant\n",
            "\n",
            "\n",
            "Model: sea plant plant plant plant plant plant plant plant plant and Actual Answer: ocean\n",
            "Q: how can i store cooked steak?\n",
            "O: oven /// freezer /// plate /// tupperware /// grill\n",
            "A:  platewarewarewarewarewarewarewarewareware\n",
            "\n",
            "\n",
            "Model: platewarewarewarewarewarewarewarewareware and Actual Answer: freezer\n"
          ]
        },
        {
          "output_type": "stream",
          "name": "stderr",
          "text": [
            " 42%|████▏     | 507/1221 [01:27<02:05,  5.69it/s]"
          ]
        },
        {
          "output_type": "stream",
          "name": "stdout",
          "text": [
            "Q: John wanted to clean all of the dust out of his place before settling down to watch his favorite shows.  What might he hardest do dust?\n",
            "O: closet /// under the bed /// television /// attic /// most buildings\n",
            "A:  television attic attic attic attic attic attic attic attic attic\n",
            "\n",
            "\n",
            "Model: television attic attic attic attic attic attic attic attic attic and Actual Answer: attic\n",
            "Q: Something had the nerve to break into the garbage last night, what did it?\n",
            "O: eyes /// animal /// fingertips /// brainstem /// human body\n",
            "A:  human body stemstemstemstemstemstemstemstem\n",
            "\n",
            "\n",
            "Model: human body stemstemstemstemstemstemstemstem and Actual Answer: animal\n"
          ]
        },
        {
          "output_type": "stream",
          "name": "stderr",
          "text": [
            " 42%|████▏     | 509/1221 [01:27<02:01,  5.84it/s]"
          ]
        },
        {
          "output_type": "stream",
          "name": "stdout",
          "text": [
            "Q: Where would you go to get some pamphlets if you want to own them?\n",
            "O: bookstore /// drawer /// health department /// mail box /// library\n",
            "A:  mail box /// library bookcase /// library bookcase\n",
            "\n",
            "\n",
            "Model: mail box and Actual Answer: bookstore\n",
            "Q: The audience cheered when a goal was scored, what were they spectating?\n",
            "O: school /// sporting event /// concert hall /// show /// television\n",
            "A:  sporting event hall hall hall hall hall hall hall hall\n",
            "\n",
            "\n",
            "Model: sporting event hall hall hall hall hall hall hall hall and Actual Answer: sporting event\n"
          ]
        },
        {
          "output_type": "stream",
          "name": "stderr",
          "text": [
            " 42%|████▏     | 511/1221 [01:27<02:00,  5.91it/s]"
          ]
        },
        {
          "output_type": "stream",
          "name": "stdout",
          "text": [
            "Q: What western state has thousands of miles of shore?\n",
            "O: picture of sea side /// seaside town /// beach /// california /// see side picture\n",
            "A:  california town town town town town town town\n",
            "\n",
            "\n",
            "Model: california town town town town town town town and Actual Answer: california\n",
            "Q: Everybody seemed to be crying at the holy site, the tour guide explained that this was what?\n",
            "O: profane /// halibut /// damaged /// common /// halibut\n",
            "A:  common and common and common and common and common and\n",
            "\n",
            "\n",
            "Model: common and common and common and common and common and and Actual Answer: common\n"
          ]
        },
        {
          "output_type": "stream",
          "name": "stderr",
          "text": [
            " 42%|████▏     | 513/1221 [01:28<02:01,  5.83it/s]"
          ]
        },
        {
          "output_type": "stream",
          "name": "stdout",
          "text": [
            "Q: The smile gave away that the what was one of happiness?\n",
            "O: manual /// rainbow /// cry /// frown /// make others happy too\n",
            "A:  smile too much too much too much too much too\n",
            "\n",
            "\n",
            "Model: smile too much too much too much too much too and Actual Answer: cry\n",
            "Q: Where is a public monument likely to be erected by a city?\n",
            "O: municipal park /// office /// state park /// cemetary /// public gardens\n",
            "A:  city park park park park park park park park park\n",
            "\n",
            "\n",
            "Model: city park park park park park park park park park and Actual Answer: municipal park\n"
          ]
        },
        {
          "output_type": "stream",
          "name": "stderr",
          "text": [
            " 42%|████▏     | 515/1221 [01:28<02:01,  5.79it/s]"
          ]
        },
        {
          "output_type": "stream",
          "name": "stdout",
          "text": [
            "Q: Where would a person live if they wanted no neighbors?\n",
            "O: housing estate /// neighborhood /// mars /// woods /// suburbs\n",
            "A:  neighborhood estate estate estate estate estate estate estate estate estate\n",
            "\n",
            "\n",
            "Model: neighborhood estate estate estate estate estate estate estate estate estate and Actual Answer: woods\n",
            "Q: Where is the control room that controls a PWR located?\n",
            "O: building /// factory /// window /// prison /// nuclear power plant\n",
            "A:  building building building building building building building building building building\n",
            "\n",
            "\n",
            "Model: building building building building building building building building building building and Actual Answer: nuclear power plant\n"
          ]
        },
        {
          "output_type": "stream",
          "name": "stderr",
          "text": [
            " 42%|████▏     | 517/1221 [01:28<02:03,  5.70it/s]"
          ]
        },
        {
          "output_type": "stream",
          "name": "stdout",
          "text": [
            "Q: What happens to a dog before someone puts up posters of them?\n",
            "O: get lost /// require water /// trained /// bark /// roll over\n",
            "A:  bark over the floor /// bark over the floor ///\n",
            "\n",
            "\n",
            "Model: bark over the floor and Actual Answer: get lost\n",
            "Q: Where are the most famous BBQ steakhouses in america?\n",
            "O: texas /// building /// kansas city /// maine /// falling down\n",
            "A:  maine city city city city city city city city\n",
            "\n",
            "\n",
            "Model: maine city city city city city city city city and Actual Answer: texas\n"
          ]
        },
        {
          "output_type": "stream",
          "name": "stderr",
          "text": [
            " 43%|████▎     | 519/1221 [01:29<02:01,  5.79it/s]"
          ]
        },
        {
          "output_type": "stream",
          "name": "stdout",
          "text": [
            "Q: He kept plugging away in his cubicle, it seemed he was the only person not called into the what?\n",
            "O: building /// conference /// assessment /// demonstration /// garage\n",
            "A:  conference assessment assessment assessment assessment assessment assessment assessment assessment assessment\n",
            "\n",
            "\n",
            "Model: conference assessment assessment assessment assessment assessment assessment assessment assessment assessment and Actual Answer: conference\n",
            "Q: If you're attending school and are falling asleep you're likely experiencing what?\n",
            "O: boredom /// malaria /// graduate /// inspiration /// detention\n",
            "A:  boredom and malaria infection infection infection infection infection infection infection\n",
            "\n",
            "\n",
            "Model: boredom and malaria infection infection infection infection infection infection infection and Actual Answer: boredom\n"
          ]
        },
        {
          "output_type": "stream",
          "name": "stderr",
          "text": [
            " 43%|████▎     | 521/1221 [01:29<01:59,  5.85it/s]"
          ]
        },
        {
          "output_type": "stream",
          "name": "stdout",
          "text": [
            "Q: I want to buy a gong, where should I look for one?\n",
            "O: orchestra /// church /// chinese temple /// chinatown /// music store\n",
            "A:  music store store store store store store store store store\n",
            "\n",
            "\n",
            "Model: music store store store store store store store store store and Actual Answer: music store\n",
            "Q: What would friends do if they need each others' help?\n",
            "O: call each other /// group together /// understand each other /// meet for lunch /// part company\n",
            "A:  meet for lunch /// meet for lunch /// meet for\n",
            "\n",
            "\n",
            "Model: meet for lunch and Actual Answer: group together\n"
          ]
        },
        {
          "output_type": "stream",
          "name": "stderr",
          "text": [
            " 43%|████▎     | 523/1221 [01:29<02:00,  5.78it/s]"
          ]
        },
        {
          "output_type": "stream",
          "name": "stdout",
          "text": [
            "Q: When people are playing a game, what is their motivation to play?\n",
            "O: believe in god /// dance /// desire to win /// destroy each other /// run amok\n",
            "A:  desire to win or destroy each other /// desire to\n",
            "\n",
            "\n",
            "Model: desire to win or destroy each other and Actual Answer: desire to win\n",
            "Q: Where could there be a battle that involves words?\n",
            "O: court room /// war /// video game /// iraq /// church\n",
            "A:  war room room room room room room room room room\n",
            "\n",
            "\n",
            "Model: war room room room room room room room room room and Actual Answer: court room\n"
          ]
        },
        {
          "output_type": "stream",
          "name": "stderr",
          "text": [
            " 43%|████▎     | 525/1221 [01:30<01:59,  5.82it/s]"
          ]
        },
        {
          "output_type": "stream",
          "name": "stdout",
          "text": [
            "Q: John didn't mind getting in line.  It was what game after that he hated.  The time, the sore feet. He did not like doing what?\n",
            "O: have to wait for /// standing in line /// eat cake /// less confusion /// being ordered\n",
            "A:  less confusion /// waiting for line\n",
            "\n",
            "\n",
            "Model: less confusion and Actual Answer: standing in line\n",
            "Q: What is the process of going somewhere?\n",
            "O: fire /// energy /// car /// transporting /// staying in place\n",
            "A:  energy transportation /// energy transportation /// transportation\n",
            "\n",
            "\n",
            "Model: energy transportation and Actual Answer: transporting\n"
          ]
        },
        {
          "output_type": "stream",
          "name": "stderr",
          "text": [
            " 43%|████▎     | 527/1221 [01:30<01:58,  5.83it/s]"
          ]
        },
        {
          "output_type": "stream",
          "name": "stdout",
          "text": [
            "Q: The old man needed to have rest multiple times a day, he would do what on the couch and catnap?\n",
            "O: lay in bed /// lay in bed /// go to bed /// relax /// lie down\n",
            "A:  lay in bed in bed in bed in bed in\n",
            "\n",
            "\n",
            "Model: lay in bed in bed in bed in bed in and Actual Answer: lie down\n",
            "Q: The end of the barrel of what primitive firearm is bell shaped?\n",
            "O: barbell /// funnel /// blunderbuss /// wind instrument /// kettlebell\n",
            "A:  barbell bussbussbussbuss\n",
            "\n",
            "\n",
            "Model: barbell bussbussbussbuss and Actual Answer: blunderbuss\n"
          ]
        },
        {
          "output_type": "stream",
          "name": "stderr",
          "text": [
            " 43%|████▎     | 529/1221 [01:30<02:00,  5.75it/s]"
          ]
        },
        {
          "output_type": "stream",
          "name": "stdout",
          "text": [
            "Q: Where is a good place to store pamphlets in your home or office?\n",
            "O: library /// health department /// mail box /// drawer /// bookstore\n",
            "A:  library bookcase in your home or office or office\n",
            "\n",
            "\n",
            "Model: library bookcase in your home or office or office and Actual Answer: drawer\n",
            "Q: Many humans enjoy fishing and enjoy another relaxing activity at the same time, what activity is it?\n",
            "O: getting tied up lure. /// looking for information /// get wet /// drink beer /// sit quietly\n",
            "A:  sitting quietly quietly quietly. /// sitting quietly. ///\n",
            "\n",
            "\n",
            "Model: sitting quietly quietly quietly. and Actual Answer: drink beer\n"
          ]
        },
        {
          "output_type": "stream",
          "name": "stderr",
          "text": [
            " 43%|████▎     | 531/1221 [01:31<01:57,  5.85it/s]"
          ]
        },
        {
          "output_type": "stream",
          "name": "stdout",
          "text": [
            "Q: Where would you get some maps that you own?\n",
            "O: bookstore /// library /// electrical circuit /// cabinet /// important when traveling\n",
            "A:  library library library library library library library library library library\n",
            "\n",
            "\n",
            "Model: library library library library library library library library library library and Actual Answer: cabinet\n",
            "Q: Where is a good place to put a hamburger?\n",
            "O: resturant /// fast food restaurant /// mouth /// kitchen /// pizza\n",
            "A:  pizza restaurant restaurant restaurant restaurant restaurant restaurant restaurant restaurant restaurant\n",
            "\n",
            "\n",
            "Model: pizza restaurant restaurant restaurant restaurant restaurant restaurant restaurant restaurant restaurant and Actual Answer: mouth\n"
          ]
        },
        {
          "output_type": "stream",
          "name": "stderr",
          "text": [
            " 44%|████▎     | 533/1221 [01:31<01:58,  5.81it/s]"
          ]
        },
        {
          "output_type": "stream",
          "name": "stdout",
          "text": [
            "Q: Where is a handy place to store a steel pen in your office?\n",
            "O: car shop /// desk drawer /// car. /// warehouse /// hand\n",
            "A:  car shop. /// desk drawer. drawer. drawer\n",
            "\n",
            "\n",
            "Model: car shop. and Actual Answer: desk drawer\n",
            "Q: A story about World War II would be set when?\n",
            "O: book or library /// book or magazine /// newspaper /// past /// future\n",
            "A:  future history book or magazine or magazine or magazine or\n",
            "\n",
            "\n",
            "Model: future history book or magazine or magazine or magazine or and Actual Answer: past\n"
          ]
        },
        {
          "output_type": "stream",
          "name": "stderr",
          "text": [
            " 44%|████▍     | 535/1221 [01:32<02:00,  5.70it/s]"
          ]
        },
        {
          "output_type": "stream",
          "name": "stdout",
          "text": [
            "Q: What type of geographic area will you find a marmot?\n",
            "O: mountainous area /// wood pile /// jungle /// petting zoo /// animals\n",
            "A:  jungle area /// jungle area /// jungle area /// jungle\n",
            "\n",
            "\n",
            "Model: jungle area and Actual Answer: mountainous area\n",
            "Q: Most people make stupid assumptions that are based on their prejudices.  What might they do instead to achieve better outcomes?\n",
            "O: set table /// think /// read books /// play games /// lie\n",
            "A:  think critically about things critically about things critically about things\n",
            "\n",
            "\n",
            "Model: think critically about things critically about things critically about things and Actual Answer: think\n"
          ]
        },
        {
          "output_type": "stream",
          "name": "stderr",
          "text": [
            " 44%|████▍     | 537/1221 [01:32<01:57,  5.80it/s]"
          ]
        },
        {
          "output_type": "stream",
          "name": "stdout",
          "text": [
            "Q: What is something children can do while traveling in a car?\n",
            "O: listen to music /// watch television /// play chess /// walk /// play basketball\n",
            "A:  play basketball basketball basketball basketball basketball basketball basketball basketball basketball\n",
            "\n",
            "\n",
            "Model: play basketball basketball basketball basketball basketball basketball basketball basketball basketball and Actual Answer: listen to music\n",
            "Q: Where would you hear a trumpet along with other instruments made from the same material?\n",
            "O: music store /// bass /// brass band /// orchestra /// marching band\n",
            "A:  brass band /// brass band /// brass band\n",
            "\n",
            "\n",
            "Model: brass band and Actual Answer: brass band\n"
          ]
        },
        {
          "output_type": "stream",
          "name": "stderr",
          "text": [
            " 44%|████▍     | 539/1221 [01:32<01:58,  5.74it/s]"
          ]
        },
        {
          "output_type": "stream",
          "name": "stdout",
          "text": [
            "Q: The audience listened to the orchestra play, where were they watching the performance?\n",
            "O: concert hall /// museum /// school /// hockey game /// sporting event\n",
            "A:  hockey game rink rink rink rink rink rink rink rink\n",
            "\n",
            "\n",
            "Model: hockey game rink rink rink rink rink rink rink rink and Actual Answer: concert hall\n",
            "Q: Stabbing to death of a person is what sort of way to die?\n",
            "O: pool of blood /// gruesome /// charming /// being arrested /// killing\n",
            "A:  gruesome killing of a person is what sort of way\n",
            "\n",
            "\n",
            "Model: gruesome killing of a person is what sort of way and Actual Answer: gruesome\n"
          ]
        },
        {
          "output_type": "stream",
          "name": "stderr",
          "text": [
            " 44%|████▍     | 541/1221 [01:33<01:56,  5.84it/s]"
          ]
        },
        {
          "output_type": "stream",
          "name": "stdout",
          "text": [
            "Q: What are you getting from you boss at the end of the week?\n",
            "O: asking for /// money /// food /// work /// energy\n",
            "A:  food and energy /// energy\n",
            "\n",
            "\n",
            "Model: food and energy and Actual Answer: money\n",
            "Q: If you have a ticket and you are planning to eat hot dogs, where would you go?\n",
            "O: lottery /// person's hand /// baseball stadium /// movie /// kitchen\n",
            "A:  movie stadium stadium stadium stadium stadium stadium stadium stadium stadium\n",
            "\n",
            "\n",
            "Model: movie stadium stadium stadium stadium stadium stadium stadium stadium stadium and Actual Answer: baseball stadium\n"
          ]
        },
        {
          "output_type": "stream",
          "name": "stderr",
          "text": [
            " 44%|████▍     | 543/1221 [01:33<01:54,  5.90it/s]"
          ]
        },
        {
          "output_type": "stream",
          "name": "stdout",
          "text": [
            "Q: Where is a great place to buy fresh fruit?\n",
            "O: san francisco /// refrigerator /// big box retailer /// tree /// market\n",
            "A:  market store or market or market place or market place\n",
            "\n",
            "\n",
            "Model: market store or market or market place or market place and Actual Answer: market\n",
            "Q: The man took paperwork to other people to consult over it, where was he heading?\n",
            "O: desk /// meeting /// office /// table /// work\n",
            "A:  office meeting meeting meeting meeting meeting meeting meeting meeting meeting\n",
            "\n",
            "\n",
            "Model: office meeting meeting meeting meeting meeting meeting meeting meeting meeting and Actual Answer: meeting\n"
          ]
        },
        {
          "output_type": "stream",
          "name": "stderr",
          "text": [
            " 45%|████▍     | 545/1221 [01:33<01:53,  5.94it/s]"
          ]
        },
        {
          "output_type": "stream",
          "name": "stdout",
          "text": [
            "Q: Stark was just having fun, and he wasn't hurting anyone.  What might have he been doing?\n",
            "O: painting his nails /// playing marbles /// constructing /// need for rest /// wild ride\n",
            "A:  painting his nails nails nails nails nails nails nails nails\n",
            "\n",
            "\n",
            "Model: painting his nails nails nails nails nails nails nails nails and Actual Answer: playing marbles\n",
            "Q: The church was giving assistance, what were they hoping to accomplish?\n",
            "O: exhilliration /// hardship /// risk taking /// helping others /// happiness\n",
            "A:  helping others /// help others /// help others\n",
            "\n",
            "\n",
            "Model: helping others and Actual Answer: helping others\n"
          ]
        },
        {
          "output_type": "stream",
          "name": "stderr",
          "text": [
            " 45%|████▍     | 547/1221 [01:34<01:54,  5.90it/s]"
          ]
        },
        {
          "output_type": "stream",
          "name": "stdout",
          "text": [
            "Q: I you believe in god, where will you go when you die?\n",
            "O: heaven /// church /// imagination /// synagogue /// monastery\n",
            "A:  heaven or heaven or heaven or heaven or heaven or\n",
            "\n",
            "\n",
            "Model: heaven or heaven or heaven or heaven or heaven or and Actual Answer: heaven\n",
            "Q: What can eating hamburger cause immediately after eating it?\n",
            "O: tasty /// health problems /// eat cake /// indigestion /// gain weight\n",
            "A:  health problems /// health problems /// health problems\n",
            "\n",
            "\n",
            "Model: health problems and Actual Answer: indigestion\n"
          ]
        },
        {
          "output_type": "stream",
          "name": "stderr",
          "text": [
            " 45%|████▍     | 549/1221 [01:34<01:53,  5.92it/s]"
          ]
        },
        {
          "output_type": "stream",
          "name": "stdout",
          "text": [
            "Q: Where is a shelf likely to be hidden behind a door?\n",
            "O: refrigerator /// bookstore /// cupboard /// school building /// wardrobe\n",
            "A:  school building /// school building /// school building\n",
            "\n",
            "\n",
            "Model: school building and Actual Answer: cupboard\n",
            "Q: The man got a pail to catch the draining motor oil, where was he likely doing this at home?\n",
            "O: garage /// hardware store /// utility room /// wishing well /// laundry\n",
            "A:  garage garage garage garage garage garage garage garage garage garage\n",
            "\n",
            "\n",
            "Model: garage garage garage garage garage garage garage garage garage garage and Actual Answer: garage\n"
          ]
        },
        {
          "output_type": "stream",
          "name": "stderr",
          "text": [
            " 45%|████▌     | 551/1221 [01:34<01:53,  5.89it/s]"
          ]
        },
        {
          "output_type": "stream",
          "name": "stdout",
          "text": [
            "Q: What kind of cold storage could you find in your house?\n",
            "O: ice pack /// freezer /// laboratory /// warehouse /// refrigerator\n",
            "A:  freezer room /// freezer room /// freezer room\n",
            "\n",
            "\n",
            "Model: freezer room and Actual Answer: refrigerator\n",
            "Q: Where could you go to between 1000 and 10000 restaurant?\n",
            "O: big city /// town /// small town /// canada /// yellow pages\n",
            "A:  town town town town town town town town town town\n",
            "\n",
            "\n",
            "Model: town town town town town town town town town town and Actual Answer: big city\n"
          ]
        },
        {
          "output_type": "stream",
          "name": "stderr",
          "text": [
            " 45%|████▌     | 553/1221 [01:35<01:53,  5.89it/s]"
          ]
        },
        {
          "output_type": "stream",
          "name": "stdout",
          "text": [
            "Q: The pitcher stepped on the mound ready to throw, where was he located specifically?\n",
            "O: hell /// baseball stadium /// golf course /// africa /// baseball diamond\n",
            "A:  baseball stadium stadium stadium /// baseball stadium /// baseball stadium\n",
            "\n",
            "\n",
            "Model: baseball stadium stadium stadium and Actual Answer: baseball diamond\n",
            "Q: Where is a statute found on a platform?\n",
            "O: below /// arena /// concert hall /// museum /// building\n",
            "A:  arena hall hall hall hall hall hall hall hall hall\n",
            "\n",
            "\n",
            "Model: arena hall hall hall hall hall hall hall hall hall and Actual Answer: museum\n"
          ]
        },
        {
          "output_type": "stream",
          "name": "stderr",
          "text": [
            " 45%|████▌     | 555/1221 [01:35<01:52,  5.91it/s]"
          ]
        },
        {
          "output_type": "stream",
          "name": "stdout",
          "text": [
            "Q: If it's not used for hair a round brush is an example of what?\n",
            "O: hair brush /// ladies bathroom /// art supplies /// shower /// hair salon\n",
            "A:  hair salon salon salon salon salon salon salon salon salon\n",
            "\n",
            "\n",
            "Model: hair salon salon salon salon salon salon salon salon salon and Actual Answer: art supplies\n",
            "Q: His parents thought he was suffering from boredom, but the teen loved to lay in bed and just do what?\n",
            "O: meet interesting people /// lift weights /// listen to music /// play chess /// entertain\n",
            "A:  play chess chess chess chess chess chess chess chess chess\n",
            "\n",
            "\n",
            "Model: play chess chess chess chess chess chess chess chess chess and Actual Answer: listen to music\n"
          ]
        },
        {
          "output_type": "stream",
          "name": "stderr",
          "text": [
            " 46%|████▌     | 557/1221 [01:35<01:52,  5.89it/s]"
          ]
        },
        {
          "output_type": "stream",
          "name": "stdout",
          "text": [
            "Q: At the picnic she was stuck eating hamburger, she was worried because she forgot her chewables to prevent what?\n",
            "O: eat cake /// have fun /// food poisoning /// heartburn /// gain weight\n",
            "A:  food poisoning poisoning poisoning poisoning poisoning poisoning poisoning poisoning poisoning\n",
            "\n",
            "\n",
            "Model: food poisoning poisoning poisoning poisoning poisoning poisoning poisoning poisoning poisoning and Actual Answer: heartburn\n",
            "Q: The electrode wouldn't spark, it turned out that the what hadn't been connected?\n",
            "O: battery /// electronic equipment /// electrolytic cell /// charge /// tube\n",
            "A:  battery cell cell cell cell cell cell cell cell cell\n",
            "\n",
            "\n",
            "Model: battery cell cell cell cell cell cell cell cell cell and Actual Answer: battery\n"
          ]
        },
        {
          "output_type": "stream",
          "name": "stderr",
          "text": [
            " 46%|████▌     | 559/1221 [01:36<01:51,  5.92it/s]"
          ]
        },
        {
          "output_type": "stream",
          "name": "stdout",
          "text": [
            "Q: For what entity should the government work?\n",
            "O: country /// democracy /// canada /// civilization /// tax office\n",
            "A:  country or democracy or democracy or democracy or democracy or\n",
            "\n",
            "\n",
            "Model: country or democracy or democracy or democracy or democracy or and Actual Answer: country\n",
            "Q: What must a student in engineering do?\n",
            "O: answer question /// learn language /// do mathematics /// be able to count /// begin to study\n",
            "A:  learn language /// learn language /// learn language /// learn\n",
            "\n",
            "\n",
            "Model: learn language and Actual Answer: do mathematics\n"
          ]
        },
        {
          "output_type": "stream",
          "name": "stderr",
          "text": [
            " 46%|████▌     | 561/1221 [01:36<01:51,  5.92it/s]"
          ]
        },
        {
          "output_type": "stream",
          "name": "stdout",
          "text": [
            "Q: The teacher knew her students understood division, what was she hoping they would learn next?\n",
            "O: multiplication /// multiply /// putting together /// unity /// pay debts\n",
            "A:  multiply together together together together together together together together together\n",
            "\n",
            "\n",
            "Model: multiply together together together together together together together together together and Actual Answer: multiplication\n",
            "Q: There were times where kids wanted to know a definition, so there was a nice big dictionary in the what?\n",
            "O: pocket /// classroom /// table /// library /// shelf\n",
            "A:  classroom library shelf library shelf library shelf library shelf library\n",
            "\n",
            "\n",
            "Model: classroom library shelf library shelf library shelf library shelf library and Actual Answer: classroom\n"
          ]
        },
        {
          "output_type": "stream",
          "name": "stderr",
          "text": [
            " 46%|████▌     | 563/1221 [01:36<01:51,  5.91it/s]"
          ]
        },
        {
          "output_type": "stream",
          "name": "stdout",
          "text": [
            "Q: Riding a bike for a long time can cause what?\n",
            "O: enjoyment /// fatigue /// falling down /// getting lost /// thirst\n",
            "A:  thirsting downfall downfall downfall downfall\n",
            "\n",
            "\n",
            "Model: thirsting downfall downfall downfall downfall and Actual Answer: fatigue\n",
            "Q: What could happen to a cat other than wanting food?\n",
            "O: feline /// thirsty /// sharp claws /// pussycat /// hungry\n",
            "A:  hungry catfishfishfishfishfishfishfishfish\n",
            "\n",
            "\n",
            "Model: hungry catfishfishfishfishfishfishfishfish and Actual Answer: thirsty\n"
          ]
        },
        {
          "output_type": "stream",
          "name": "stderr",
          "text": [
            " 46%|████▋     | 565/1221 [01:37<01:54,  5.73it/s]"
          ]
        },
        {
          "output_type": "stream",
          "name": "stdout",
          "text": [
            "Q: If you turn off the music in a room with no other noise that room would be what?\n",
            "O: silent /// opera /// silence /// television /// elevator\n",
            "A:  silent elevator elevator elevator elevator elevator elevator elevator elevator elevator\n",
            "\n",
            "\n",
            "Model: silent elevator elevator elevator elevator elevator elevator elevator elevator elevator and Actual Answer: silent\n",
            "Q: In what country are the most fast food restaurants?\n",
            "O: new york /// blocks of flats /// center of town /// america /// big cities\n",
            "A:  america.a. america. america\n",
            "\n",
            "\n",
            "Model: america.a. america. america and Actual Answer: america\n"
          ]
        },
        {
          "output_type": "stream",
          "name": "stderr",
          "text": [
            " 46%|████▋     | 567/1221 [01:37<01:51,  5.87it/s]"
          ]
        },
        {
          "output_type": "stream",
          "name": "stdout",
          "text": [
            "Q: I want to use string to keep something from moving, how should I do it?\n",
            "O: tie around /// wind around /// weave /// stringbed /// ball up\n",
            "A:  stringbedsbeds are stringbeds are\n",
            "\n",
            "\n",
            "Model: stringbedsbeds are stringbeds are and Actual Answer: tie around\n",
            "Q: Where would walk through a central passage to catch an elevator?\n",
            "O: tomb /// arena /// access rooms /// public building /// house\n",
            "A:  public building /// public building /// public building\n",
            "\n",
            "\n",
            "Model: public building and Actual Answer: public building\n"
          ]
        },
        {
          "output_type": "stream",
          "name": "stderr",
          "text": [
            " 47%|████▋     | 569/1221 [01:37<01:51,  5.85it/s]"
          ]
        },
        {
          "output_type": "stream",
          "name": "stdout",
          "text": [
            "Q: A potato is kept in the cellar, where is likely to be stored?\n",
            "O: farmer's market /// grocery bag /// pantry /// bushel basket /// fridge\n",
            "A:  farmer's market basket basket basket basket basket basket basket\n",
            "\n",
            "\n",
            "Model: farmer's market basket basket basket basket basket basket basket and Actual Answer: bushel basket\n",
            "Q: What do people do when networking?\n",
            "O: build trust /// hurry home /// ignore people /// believe in god /// jump to conclusions\n",
            "A:  build trust in god /// build trust in god ///\n",
            "\n",
            "\n",
            "Model: build trust in god and Actual Answer: build trust\n"
          ]
        },
        {
          "output_type": "stream",
          "name": "stderr",
          "text": [
            " 47%|████▋     | 571/1221 [01:38<01:50,  5.87it/s]"
          ]
        },
        {
          "output_type": "stream",
          "name": "stdout",
          "text": [
            "Q: Where can you store you spare linens near your socks?\n",
            "O: hospital /// chest /// home /// dresser drawers /// cabinet\n",
            "A:  chest drawers drawers drawers drawers draw\n",
            "\n",
            "\n",
            "Model: chest drawers drawers drawers drawers draw and Actual Answer: dresser drawers\n",
            "Q: What do people do when they think too quickly?\n",
            "O: jump to conclusions /// hurry home /// build trust /// pay bills /// sing\n",
            "A:  build trust trust and build trust and build trust ///\n",
            "\n",
            "\n",
            "Model: build trust trust and build trust and build trust /// and Actual Answer: jump to conclusions\n"
          ]
        },
        {
          "output_type": "stream",
          "name": "stderr",
          "text": [
            " 47%|████▋     | 573/1221 [01:38<01:49,  5.89it/s]"
          ]
        },
        {
          "output_type": "stream",
          "name": "stdout",
          "text": [
            "Q: What is someone likely to want as a result of sex?\n",
            "O: sexploiter /// chicken /// reproductive cycle /// procreation /// human experience\n",
            "A:  reproductive cycle cycle cycle cycle cycle cycle cycle cycle cycle\n",
            "\n",
            "\n",
            "Model: reproductive cycle cycle cycle cycle cycle cycle cycle cycle cycle and Actual Answer: procreation\n",
            "Q: What might someone do after they finish creating art?\n",
            "O: frustration /// relax /// eat /// enlightenment /// communication\n",
            "A:  communicate with friends /// communicate with friends /// communicate with\n",
            "\n",
            "\n",
            "Model: communicate with friends and Actual Answer: relax\n"
          ]
        },
        {
          "output_type": "stream",
          "name": "stderr",
          "text": [
            " 47%|████▋     | 575/1221 [01:38<01:49,  5.92it/s]"
          ]
        },
        {
          "output_type": "stream",
          "name": "stdout",
          "text": [
            "Q: To get clean clothes you to what to them?\n",
            "O: get dirty /// writing /// use water /// launder /// soap\n",
            "A:  use water and soap /// use water and soap ///\n",
            "\n",
            "\n",
            "Model: use water and soap and Actual Answer: launder\n",
            "Q: The person tried to reduce his weight with a shrink ray, but he got it backwards and only did what?\n",
            "O: grow /// gain weight /// make larger /// augment /// get bigger\n",
            "A:  grow larger /// grow larger /// grow larger\n",
            "\n",
            "\n",
            "Model: grow larger and Actual Answer: make larger\n"
          ]
        },
        {
          "output_type": "stream",
          "name": "stderr",
          "text": [
            " 47%|████▋     | 577/1221 [01:39<01:49,  5.86it/s]"
          ]
        },
        {
          "output_type": "stream",
          "name": "stdout",
          "text": [
            "Q: Christine couldn't be having a baby at her age, she thought to herself. What was Christine?\n",
            "O: old person /// begin to talk /// adult /// old man /// girl\n",
            "A:  old man's old man's old man's old\n",
            "\n",
            "\n",
            "Model: old man's old man's old man's old and Actual Answer: old person\n",
            "Q: Joe plays a percussion instrument in something.  What might be play in?\n",
            "O: own home /// music store /// marching band /// orchestra /// party\n",
            "A:  marching band ensemble ensemble ensemble ensemble ensemble ensemble ensemble ensemble\n",
            "\n",
            "\n",
            "Model: marching band ensemble ensemble ensemble ensemble ensemble ensemble ensemble ensemble and Actual Answer: orchestra\n"
          ]
        },
        {
          "output_type": "stream",
          "name": "stderr",
          "text": [
            " 47%|████▋     | 579/1221 [01:39<01:49,  5.87it/s]"
          ]
        },
        {
          "output_type": "stream",
          "name": "stdout",
          "text": [
            "Q: If I'm playing ball, I'm mostly trying to do what?\n",
            "O: losing /// competition /// having fun /// win /// injury\n",
            "A:  losing or injury or injury or injury or injury or\n",
            "\n",
            "\n",
            "Model: losing or injury or injury or injury or injury or and Actual Answer: having fun\n",
            "Q: What do the terms need to be in order to compete against someone?\n",
            "O: cheat /// fair /// in competition /// practice /// sabotage\n",
            "A:  cheat in competition against someone else /// cheat in competition\n",
            "\n",
            "\n",
            "Model: cheat in competition against someone else and Actual Answer: fair\n"
          ]
        },
        {
          "output_type": "stream",
          "name": "stderr",
          "text": [
            " 48%|████▊     | 581/1221 [01:39<01:49,  5.82it/s]"
          ]
        },
        {
          "output_type": "stream",
          "name": "stdout",
          "text": [
            "Q: If you wanted to show off silk, what item could it be on?\n",
            "O: jean /// mulberry tree /// garments /// expensive clothing /// parachutes\n",
            "A:  jean tree tree tree tree tree tree tree tree\n",
            "\n",
            "\n",
            "Model: jean tree tree tree tree tree tree tree tree and Actual Answer: expensive clothing\n",
            "Q: Where is known to be a wealth of information?\n",
            "O: park /// internet /// meeting /// library /// book\n",
            "A:  internet meeting meeting meeting meeting meeting meeting meeting meeting meeting\n",
            "\n",
            "\n",
            "Model: internet meeting meeting meeting meeting meeting meeting meeting meeting meeting and Actual Answer: library\n"
          ]
        },
        {
          "output_type": "stream",
          "name": "stderr",
          "text": [
            " 48%|████▊     | 583/1221 [01:40<01:49,  5.83it/s]"
          ]
        },
        {
          "output_type": "stream",
          "name": "stdout",
          "text": [
            "Q: I saw the receptionist carelessly toss my resume into the drawer, where did I want it to end up?\n",
            "O: file cabinet /// nightstand /// kitchen cabinet /// office desk /// the floor\n",
            "A:  desk cabinet cabinet cabinet cabinet cabinet cabinet cabinet cabinet cabinet\n",
            "\n",
            "\n",
            "Model: desk cabinet cabinet cabinet cabinet cabinet cabinet cabinet cabinet cabinet and Actual Answer: office desk\n",
            "Q: What will happen if you inject water into yourself?\n",
            "O: dilute /// thin blood /// take several forms /// wet clothes /// move mountains\n",
            "A:  take several forms of water into yourself /// take several\n",
            "\n",
            "\n",
            "Model: take several forms of water into yourself and Actual Answer: thin blood\n"
          ]
        },
        {
          "output_type": "stream",
          "name": "stderr",
          "text": [
            " 48%|████▊     | 585/1221 [01:40<01:48,  5.86it/s]"
          ]
        },
        {
          "output_type": "stream",
          "name": "stdout",
          "text": [
            "Q: Athletes soak in hot tubs to relieve what after playing baseball?\n",
            "O: fame /// errors /// pain /// strikes /// sore muscles\n",
            "A:  sore muscles muscles muscles muscles muscles muscles muscles muscles muscles\n",
            "\n",
            "\n",
            "Model: sore muscles muscles muscles muscles muscles muscles muscles muscles muscles and Actual Answer: sore muscles\n",
            "Q: What does a gambler do that causes him or her to be unhappy?\n",
            "O: play cards /// double winnings /// lose money /// play poker /// to win the prize\n",
            "A:  play poker to win the prize in poker game to\n",
            "\n",
            "\n",
            "Model: play poker to win the prize in poker game to and Actual Answer: lose money\n"
          ]
        },
        {
          "output_type": "stream",
          "name": "stderr",
          "text": [
            " 48%|████▊     | 587/1221 [01:40<01:48,  5.83it/s]"
          ]
        },
        {
          "output_type": "stream",
          "name": "stdout",
          "text": [
            "Q: There's one obvious reason to eat vegetables, they're plain what you?\n",
            "O: lose weight /// good for /// bland /// chewing /// fibre\n",
            "A:  good for food and good for food /// good for\n",
            "\n",
            "\n",
            "Model: good for food and good for food and Actual Answer: good for\n",
            "Q: John was a bit think in the head, but he knew that he never saw the lady before.  They were what?\n",
            "O: pay debts /// slender /// unacquainted /// free flowing /// sparse\n",
            "A:  free flowing flowing flowing flowing flowing flowing flowing flowing flowing\n",
            "\n",
            "\n",
            "Model: free flowing flowing flowing flowing flowing flowing flowing flowing flowing and Actual Answer: unacquainted\n"
          ]
        },
        {
          "output_type": "stream",
          "name": "stderr",
          "text": [
            " 48%|████▊     | 589/1221 [01:41<01:47,  5.85it/s]"
          ]
        },
        {
          "output_type": "stream",
          "name": "stdout",
          "text": [
            "Q: Where would you hear a violin along side many string and wind instruments?\n",
            "O: school /// string quartet /// orchestra /// kitchen /// music room\n",
            "A:  music room /// music room\n",
            "\n",
            "\n",
            "Model: music room and Actual Answer: orchestra\n",
            "Q: What is the sun ultimately responsible for?\n",
            "O: earth warming /// sun tan /// light /// life on earth /// heat\n",
            "A:  sun tan tan tan tan tan tan tan tan tan\n",
            "\n",
            "\n",
            "Model: sun tan tan tan tan tan tan tan tan tan and Actual Answer: life on earth\n"
          ]
        },
        {
          "output_type": "stream",
          "name": "stderr",
          "text": [
            " 48%|████▊     | 591/1221 [01:41<01:47,  5.85it/s]"
          ]
        },
        {
          "output_type": "stream",
          "name": "stdout",
          "text": [
            "Q: Mandy lived in a train station.  She longed to see distant places. Where might she imagine going?\n",
            "O: downtown area /// centre of town /// bedroom /// europe /// big city\n",
            "A:  european city area of town of town of\n",
            "\n",
            "\n",
            "Model: european city area of town of town of and Actual Answer: europe\n",
            "Q: Joe is a  squirrel, which is an animal. He probably lives in what sort of place.\n",
            "O: pet store /// outside /// woodland /// ocean /// cafe\n",
            "A:  forest cafe cafe cafe cafe cafe cafe cafe cafe cafe\n",
            "\n",
            "\n",
            "Model: forest cafe cafe cafe cafe cafe cafe cafe cafe cafe and Actual Answer: woodland\n"
          ]
        },
        {
          "output_type": "stream",
          "name": "stderr",
          "text": [
            " 49%|████▊     | 593/1221 [01:41<01:47,  5.84it/s]"
          ]
        },
        {
          "output_type": "stream",
          "name": "stdout",
          "text": [
            "Q: Where could a personal ficus live?\n",
            "O: cabin in the woods /// california /// front yard /// conservatory /// tropical forest\n",
            "A:  conservatory in the woods. woods. woods.\n",
            "\n",
            "\n",
            "Model: conservatory in the woods. woods. woods. and Actual Answer: front yard\n",
            "Q: The shark actually counted as evidence, so where did the legal team bring it?\n",
            "O: court room /// shallow waters /// poker game /// sea world /// pond arena\n",
            "A:  court room room room room room room room room room\n",
            "\n",
            "\n",
            "Model: court room room room room room room room room room and Actual Answer: court room\n"
          ]
        },
        {
          "output_type": "stream",
          "name": "stderr",
          "text": [
            " 49%|████▊     | 595/1221 [01:42<01:47,  5.82it/s]"
          ]
        },
        {
          "output_type": "stream",
          "name": "stdout",
          "text": [
            "Q: If the president wanted to ban snakes, where would he issue such a decree?\n",
            "O: street /// tropical forest /// garden of eden /// new mexico /// white house\n",
            "A:  street of edenney house of edenney\n",
            "\n",
            "\n",
            "Model: street of edenney house of edenney and Actual Answer: white house\n",
            "Q: They were searching for rocks, so they missed the birds overhead as they stared at the what?\n",
            "O: ground /// drawer /// surface of earth /// pizza /// waterfall\n",
            "A:  ground of earth of earth of earth of earth of\n",
            "\n",
            "\n",
            "Model: ground of earth of earth of earth of earth of and Actual Answer: ground\n"
          ]
        },
        {
          "output_type": "stream",
          "name": "stderr",
          "text": [
            " 49%|████▉     | 597/1221 [01:42<01:47,  5.83it/s]"
          ]
        },
        {
          "output_type": "stream",
          "name": "stdout",
          "text": [
            "Q: Her son scraped his knee, she fetched a bottle of peroxide from the what?\n",
            "O: supermarket /// diaper bag /// liquor store /// hollow log /// medicine cabinet\n",
            "A:  medicine cabinet /// medicine cabinet /// medicine cabinet\n",
            "\n",
            "\n",
            "Model: medicine cabinet and Actual Answer: medicine cabinet\n",
            "Q: Where would you expect to find a dictionary along side other writings you can borrow?\n",
            "O: classroom /// shelf /// explain meaning of words /// table /// library\n",
            "A:  classroom library library library library library library library library library\n",
            "\n",
            "\n",
            "Model: classroom library library library library library library library library library and Actual Answer: library\n"
          ]
        },
        {
          "output_type": "stream",
          "name": "stderr",
          "text": [
            " 49%|████▉     | 599/1221 [01:42<01:47,  5.77it/s]"
          ]
        },
        {
          "output_type": "stream",
          "name": "stdout",
          "text": [
            "Q: What would be necessary for getting in shape?\n",
            "O: good health /// exercise /// muscle tone /// sweat /// feel better\n",
            "A:  exercise properly health health health health health health health health\n",
            "\n",
            "\n",
            "Model: exercise properly health health health health health health health health and Actual Answer: exercise\n",
            "Q: A statue that shoots liquid is called a what?\n",
            "O: water fountain /// large city /// museum /// pool /// central park\n",
            "A:  water fountain is called a fountain.  fountain.\n",
            "\n",
            "\n",
            "Model: water fountain is called a fountain.  fountain. and Actual Answer: water fountain\n"
          ]
        },
        {
          "output_type": "stream",
          "name": "stderr",
          "text": [
            " 49%|████▉     | 601/1221 [01:43<01:46,  5.81it/s]"
          ]
        },
        {
          "output_type": "stream",
          "name": "stdout",
          "text": [
            "Q: If you have a child who gets in trouble for being hyperactive you may need to teach them how to what down?\n",
            "O: park /// calm /// being good /// good behavior /// safe\n",
            "A:  park park park park park park park park park park\n",
            "\n",
            "\n",
            "Model: park park park park park park park park park park and Actual Answer: calm\n",
            "Q: John loved to paint houses.  How did he usually do it?\n",
            "O: clothes get stained /// with brush /// wallpaper /// electrical circuit /// draw\n",
            "A:  draw brush brush with brush with brush with brush with\n",
            "\n",
            "\n",
            "Model: draw brush brush with brush with brush with brush with and Actual Answer: with brush\n"
          ]
        },
        {
          "output_type": "stream",
          "name": "stderr",
          "text": [
            " 49%|████▉     | 603/1221 [01:43<01:45,  5.86it/s]"
          ]
        },
        {
          "output_type": "stream",
          "name": "stdout",
          "text": [
            "Q: When you wipe you feet on the door mat and walk through the door where do you enter?\n",
            "O: a chair /// school /// living room /// doorway /// bathroom\n",
            "A:  bathroom room room room room room room room room room\n",
            "\n",
            "\n",
            "Model: bathroom room room room room room room room room room and Actual Answer: living room\n",
            "Q: What can you use to store a book while traveling?\n",
            "O: library of congress /// pocket /// backpack /// suitcase /// synagogue\n",
            "A:  backpack of congressperson's congressperson's congressperson\n",
            "\n",
            "\n",
            "Model: backpack of congressperson's congressperson's congressperson and Actual Answer: suitcase\n"
          ]
        },
        {
          "output_type": "stream",
          "name": "stderr",
          "text": [
            " 50%|████▉     | 605/1221 [01:43<01:45,  5.83it/s]"
          ]
        },
        {
          "output_type": "stream",
          "name": "stdout",
          "text": [
            "Q: Where would you find gazelle under a G?\n",
            "O: open field /// ivory coast /// dictionary /// steppe /// encyclopedia\n",
            "A:  encyclopedia encyclopedia encyclopedia encyclopedia encyclopedia encyclopedia encyclopedia encyclopedia encyclopedia encyclopedia\n",
            "\n",
            "\n",
            "Model: encyclopedia encyclopedia encyclopedia encyclopedia encyclopedia encyclopedia encyclopedia encyclopedia encyclopedia encyclopedia and Actual Answer: encyclopedia\n",
            "Q: Competing can lead to great highs, and also great lows when suffering what?\n",
            "O: winning or losing /// aggression /// gain /// defeat /// sweat\n",
            "A:  victory or losing or losing or losing or losing or\n",
            "\n",
            "\n",
            "Model: victory or losing or losing or losing or losing or and Actual Answer: defeat\n"
          ]
        },
        {
          "output_type": "stream",
          "name": "stderr",
          "text": [
            " 50%|████▉     | 607/1221 [01:44<01:45,  5.81it/s]"
          ]
        },
        {
          "output_type": "stream",
          "name": "stdout",
          "text": [
            "Q: What blocks sunshine?\n",
            "O: summer /// park /// desktop /// sea /// moon\n",
            "A:  desktop park park park park park park park park park\n",
            "\n",
            "\n",
            "Model: desktop park park park park park park park park park and Actual Answer: moon\n",
            "Q: When you feel too much heat in your home you can turn on what?\n",
            "O: coolness /// fan /// get wet /// coldness /// air conditioning\n",
            "A:  coolnessnessness and coolness /// coolness\n",
            "\n",
            "\n",
            "Model: coolnessnessness and coolness and Actual Answer: air conditioning\n"
          ]
        },
        {
          "output_type": "stream",
          "name": "stderr",
          "text": [
            " 50%|████▉     | 609/1221 [01:44<01:45,  5.82it/s]"
          ]
        },
        {
          "output_type": "stream",
          "name": "stdout",
          "text": [
            "Q: Where would you store a pillow case that is not in use?\n",
            "O: kitchen cupboard /// bedding store /// england /// drawer /// bedroom\n",
            "A:  bedroom cupboard store store store store store store store\n",
            "\n",
            "\n",
            "Model: bedroom cupboard store store store store store store store and Actual Answer: drawer\n",
            "Q: If the kitten was going to grow up to be a mouser like it's mother, where should it spend most of it's time?\n",
            "O: shelter /// floor /// warm place /// farmhouse /// living room\n",
            "A:  living room\n",
            "\n",
            "\n",
            "Model: living room and Actual Answer: farmhouse\n"
          ]
        },
        {
          "output_type": "stream",
          "name": "stderr",
          "text": [
            " 50%|█████     | 611/1221 [01:44<01:44,  5.81it/s]"
          ]
        },
        {
          "output_type": "stream",
          "name": "stdout",
          "text": [
            "Q: Where is that man buying silk from?\n",
            "O: space shuttle /// theater /// china /// indian resteraunt /// bar\n",
            "A:  theater theater theater theater theater theater theater theater theater theater\n",
            "\n",
            "\n",
            "Model: theater theater theater theater theater theater theater theater theater theater and Actual Answer: china\n",
            "Q: Where is a teacher likely to keep her clavichord?\n",
            "O: living room /// parlor /// music hall /// music room /// museum\n",
            "A:  music hall hall hall hall hall hall hall hall hall\n",
            "\n",
            "\n",
            "Model: music hall hall hall hall hall hall hall hall hall and Actual Answer: music room\n"
          ]
        },
        {
          "output_type": "stream",
          "name": "stderr",
          "text": [
            " 50%|█████     | 613/1221 [01:45<01:44,  5.81it/s]"
          ]
        },
        {
          "output_type": "stream",
          "name": "stdout",
          "text": [
            "Q: Where are you if your bieifcase is going through an x-ray machine?\n",
            "O: luggage store /// courtroom /// airport /// office building /// hand\n",
            "A:  airport building /// airport building /// airport building\n",
            "\n",
            "\n",
            "Model: airport building and Actual Answer: airport\n",
            "Q: They were kissing each other good bye, they had no worries because their relationship had a strong foundation of what?\n",
            "O: partner /// trust /// cooperation /// bricks /// herpes\n",
            "A:  friendship\n",
            "\n",
            "\n",
            "Model: friendship and Actual Answer: trust\n"
          ]
        },
        {
          "output_type": "stream",
          "name": "stderr",
          "text": [
            " 50%|█████     | 615/1221 [01:45<01:44,  5.80it/s]"
          ]
        },
        {
          "output_type": "stream",
          "name": "stdout",
          "text": [
            "Q: Why would you take a bus to work?\n",
            "O: commute /// flying /// get somewhere /// travel /// go home\n",
            "A:  travel home to somewhere else to somewhere else to somewhere\n",
            "\n",
            "\n",
            "Model: travel home to somewhere else to somewhere else to somewhere and Actual Answer: commute\n",
            "Q: If you are hungry and going fishing, why would you be going fishing?\n",
            "O: to see the fish /// have fun /// catching fish /// wet clothes /// killing\n",
            "A:  catching fish fish fish fish fish fish fish fish fish\n",
            "\n",
            "\n",
            "Model: catching fish fish fish fish fish fish fish fish fish and Actual Answer: catching fish\n"
          ]
        },
        {
          "output_type": "stream",
          "name": "stderr",
          "text": [
            " 51%|█████     | 617/1221 [01:46<01:43,  5.81it/s]"
          ]
        },
        {
          "output_type": "stream",
          "name": "stdout",
          "text": [
            "Q: Dogs are very loyal if they have a good owner, they will always what them?\n",
            "O: fleas /// eat cake /// attack /// defend /// run fast\n",
            "A:  defend yourself /// defend yourself /// defend yourself\n",
            "\n",
            "\n",
            "Model: defend yourself and Actual Answer: defend\n",
            "Q: What does a farmer need to do to make  a maze on his farm in the fall?\n",
            "O: seed plants /// plant seeds /// garden /// grow corn /// produce food\n",
            "A:  grow corn plants seeds seed plants seed plants seed plants\n",
            "\n",
            "\n",
            "Model: grow corn plants seeds seed plants seed plants seed plants and Actual Answer: grow corn\n"
          ]
        },
        {
          "output_type": "stream",
          "name": "stderr",
          "text": [
            " 51%|█████     | 619/1221 [01:46<01:43,  5.80it/s]"
          ]
        },
        {
          "output_type": "stream",
          "name": "stdout",
          "text": [
            "Q: For many males hair is a concern as they get older, it begins to what, causing a receding hairline?\n",
            "O: thin out /// grow in ear /// fall out /// bulge /// composted\n",
            "A:  grow in ear and ear and ear and ear and\n",
            "\n",
            "\n",
            "Model: grow in ear and ear and ear and ear and and Actual Answer: fall out\n",
            "Q: What happens someone who is bad play poker?\n",
            "O: think /// ante up /// drink /// win money /// losing money\n",
            "A:  win money money money money money money money money money\n",
            "\n",
            "\n",
            "Model: win money money money money money money money money money and Actual Answer: losing money\n"
          ]
        },
        {
          "output_type": "stream",
          "name": "stderr",
          "text": [
            " 51%|█████     | 621/1221 [01:46<01:43,  5.82it/s]"
          ]
        },
        {
          "output_type": "stream",
          "name": "stdout",
          "text": [
            "Q: John loved his snake.  It was the only ting he loved. He hated everyone else and was abrasive to most people, but he loved his snake.   How might you describe the snake?\n",
            "O: sun itself /// tropical forest /// pet /// rude /// sharp\n",
            "A:  rude petting himself /// rude petting himself ///\n",
            "\n",
            "\n",
            "Model: rude petting himself and Actual Answer: pet\n",
            "Q: The fresh herbs, flowers, and vegetables will shrivel up if people don't do this?\n",
            "O: water plants /// believe in god /// drive to the nearest pool /// speaking english /// raise children\n",
            "A:  raise children to speak english language /// raise children to\n",
            "\n",
            "\n",
            "Model: raise children to speak english language and Actual Answer: water plants\n"
          ]
        },
        {
          "output_type": "stream",
          "name": "stderr",
          "text": [
            " 51%|█████     | 623/1221 [01:47<01:41,  5.88it/s]"
          ]
        },
        {
          "output_type": "stream",
          "name": "stdout",
          "text": [
            "Q: I picked from an apple tree outside of Fort Wayne, where am I?\n",
            "O: woods /// illinois /// indiana /// washington state /// tampa\n",
            "A:  indiana stateiana stateiana stateiana stateiana\n",
            "\n",
            "\n",
            "Model: indiana stateiana stateiana stateiana stateiana and Actual Answer: indiana\n",
            "Q: The janitor never had much to clean after services, but there was still always a paper or two to pick up where?\n",
            "O: synagogue /// front porch /// classroom /// obesity /// grocery store\n",
            "A:  synagogue front porch door door door door door door door\n",
            "\n",
            "\n",
            "Model: synagogue front porch door door door door door door door and Actual Answer: synagogue\n"
          ]
        },
        {
          "output_type": "stream",
          "name": "stderr",
          "text": [
            " 51%|█████     | 625/1221 [01:47<01:40,  5.92it/s]"
          ]
        },
        {
          "output_type": "stream",
          "name": "stdout",
          "text": [
            "Q: If you're celebrating with too many cocktails what may you have in the morning?\n",
            "O: drunkenness /// have fun /// headache /// hang over /// intimacy\n",
            "A:  hang over and hang over and hang over and hang\n",
            "\n",
            "\n",
            "Model: hang over and hang over and hang over and hang and Actual Answer: hang over\n",
            "Q: Danny found an old film in a sealed what?\n",
            "O: clingfilm /// disneyland /// cave /// cabinet /// movie\n",
            "A:  cabinet cabinet cabinet cabinet cabinet cabinet cabinet cabinet cabinet cabinet\n",
            "\n",
            "\n",
            "Model: cabinet cabinet cabinet cabinet cabinet cabinet cabinet cabinet cabinet cabinet and Actual Answer: cabinet\n"
          ]
        },
        {
          "output_type": "stream",
          "name": "stderr",
          "text": [
            " 51%|█████▏    | 627/1221 [01:47<01:39,  5.96it/s]"
          ]
        },
        {
          "output_type": "stream",
          "name": "stdout",
          "text": [
            "Q: Where are you likely to find much more than a drop of blood on the floor?\n",
            "O: crime scene /// vein /// blood bank /// slaughter house /// needle\n",
            "A:  needlepoint site site site site site site site site\n",
            "\n",
            "\n",
            "Model: needlepoint site site site site site site site site and Actual Answer: slaughter house\n",
            "Q: Where is the first place someone leaving the planet ends up?\n",
            "O: pay debts /// galaxy /// outer space /// orbit /// universe\n",
            "A:  outer space space space space space space space space space\n",
            "\n",
            "\n",
            "Model: outer space space space space space space space space space and Actual Answer: outer space\n"
          ]
        },
        {
          "output_type": "stream",
          "name": "stderr",
          "text": [
            " 52%|█████▏    | 629/1221 [01:48<01:40,  5.89it/s]"
          ]
        },
        {
          "output_type": "stream",
          "name": "stdout",
          "text": [
            "Q: The town house went right to the curb, a slot effectively made a mailbox of the what?\n",
            "O: apartment building /// front door /// back door /// street corner /// porch\n",
            "A:  front door door door door door door door door door\n",
            "\n",
            "\n",
            "Model: front door door door door door door door door door and Actual Answer: front door\n",
            "Q: The architect thought that a mezzanine would look good, but the planning committee rejected it.  They told the architect that they felt it was a potential hazard given the ages of the people who would be using it.  What might they be designing?\n",
            "O: actors /// theater /// concert hall /// floors /// school\n",
            "A:  theater hall hall hall hall hall hall hall hall hall\n",
            "\n",
            "\n",
            "Model: theater hall hall hall hall hall hall hall hall hall and Actual Answer: school\n"
          ]
        },
        {
          "output_type": "stream",
          "name": "stderr",
          "text": [
            " 52%|█████▏    | 631/1221 [01:48<01:39,  5.91it/s]"
          ]
        },
        {
          "output_type": "stream",
          "name": "stdout",
          "text": [
            "Q: The person wasn't bothered by the weather, she had remembered to bring her what?\n",
            "O: read book /// own house /// apartment /// more rice /// warm coat\n",
            "A:  warm coat coat coat coat coat coat coat coat coat\n",
            "\n",
            "\n",
            "Model: warm coat coat coat coat coat coat coat coat coat and Actual Answer: warm coat\n",
            "Q: If you want to learn about the world and understand the real reasons behind cultural norms and mores, you have achieved a sense of what?\n",
            "O: enlightenment /// open mind /// confusion /// smartness /// anger\n",
            "A:  enlightenment knowledge of the world and mores and more\n",
            "\n",
            "\n",
            "Model: enlightenment knowledge of the world and mores and more and Actual Answer: enlightenment\n"
          ]
        },
        {
          "output_type": "stream",
          "name": "stderr",
          "text": [
            " 52%|█████▏    | 633/1221 [01:48<01:38,  5.96it/s]"
          ]
        },
        {
          "output_type": "stream",
          "name": "stdout",
          "text": [
            "Q: What is the hopeful result of going to see a play?\n",
            "O: sit /// being entertained /// jobless /// meet /// laugh\n",
            "A:  meeting people /// meeting people /// meeting people\n",
            "\n",
            "\n",
            "Model: meeting people and Actual Answer: being entertained\n",
            "Q: A person would join a trade school for finding information related to what?\n",
            "O: ulcers /// degree /// understanding of /// gaining knowledge /// happiness\n",
            "A:  knowledge of science and knowledge of science and knowledge of\n",
            "\n",
            "\n",
            "Model: knowledge of science and knowledge of science and knowledge of and Actual Answer: gaining knowledge\n"
          ]
        },
        {
          "output_type": "stream",
          "name": "stderr",
          "text": [
            " 52%|█████▏    | 635/1221 [01:49<01:38,  5.98it/s]"
          ]
        },
        {
          "output_type": "stream",
          "name": "stdout",
          "text": [
            "Q: Joan was a baby, so there were many things she couldn't do, which caused problems for her parents.  Name one thing that makes raising a baby difficult.\n",
            "O: arrive early /// learn to walk /// boy or girl /// bring joy /// talk nonsense\n",
            "A:  bring joy to walk early morning morning morning morning morning\n",
            "\n",
            "\n",
            "Model: bring joy to walk early morning morning morning morning morning and Actual Answer: talk nonsense\n",
            "Q: Where would you put some ham if you want to cook it?\n",
            "O: hamshackle /// pizza /// fridge /// refrigerator /// part of meal\n",
            "A:  pizza place place place place place place place place place\n",
            "\n",
            "\n",
            "Model: pizza place place place place place place place place place and Actual Answer: pizza\n"
          ]
        },
        {
          "output_type": "stream",
          "name": "stderr",
          "text": [
            " 52%|█████▏    | 637/1221 [01:49<01:37,  5.99it/s]"
          ]
        },
        {
          "output_type": "stream",
          "name": "stdout",
          "text": [
            "Q: Running errands with screaming kids will likely cause what?\n",
            "O: efficiency /// insanity /// aggravation /// tiredness /// stress\n",
            "A:  stressoration /// aggravation of the situation.\n",
            "\n",
            "\n",
            "Model: stressoration and Actual Answer: aggravation\n",
            "Q: Sam wasn't lying, but he left out important details. He was being what?\n",
            "O: dishonesty /// deceitful /// imagination /// deceptive /// poker face\n",
            "A:  deceitful, deceptive, deceptive, deceptive, deceptive\n",
            "\n",
            "\n",
            "Model: deceitful, deceptive, deceptive, deceptive, deceptive and Actual Answer: deceitful\n"
          ]
        },
        {
          "output_type": "stream",
          "name": "stderr",
          "text": [
            " 52%|█████▏    | 639/1221 [01:49<01:37,  5.97it/s]"
          ]
        },
        {
          "output_type": "stream",
          "name": "stdout",
          "text": [
            "Q: what does someone have that causes them committing murder?\n",
            "O: problems /// distress /// fear /// go to jail /// killer\n",
            "A:  problems arise from fear of going to jail /// problems\n",
            "\n",
            "\n",
            "Model: problems arise from fear of going to jail and Actual Answer: problems\n",
            "Q: What kind of place has a leader?\n",
            "O: army /// battle /// wildlife /// country /// organization\n",
            "A:  army corps corps corps corps corps corps corps corps corps\n",
            "\n",
            "\n",
            "Model: army corps corps corps corps corps corps corps corps corps and Actual Answer: country\n"
          ]
        },
        {
          "output_type": "stream",
          "name": "stderr",
          "text": [
            " 52%|█████▏    | 641/1221 [01:50<01:38,  5.87it/s]"
          ]
        },
        {
          "output_type": "stream",
          "name": "stdout",
          "text": [
            "Q: How is a person likely to communicatewith others?\n",
            "O: say words /// meet friends /// open mouth /// thank god /// die of cancer\n",
            "A:  say words say words say words say words say words\n",
            "\n",
            "\n",
            "Model: say words say words say words say words say words and Actual Answer: say words\n",
            "Q: Where may you be if you're buying pork chops at a corner shop?\n",
            "O: england /// town /// desert /// kentucky /// iowa\n",
            "A:  town hall hall hall hall hall hall hall hall hall\n",
            "\n",
            "\n",
            "Model: town hall hall hall hall hall hall hall hall hall and Actual Answer: iowa\n"
          ]
        },
        {
          "output_type": "stream",
          "name": "stderr",
          "text": [
            " 53%|█████▎    | 643/1221 [01:50<01:38,  5.89it/s]"
          ]
        },
        {
          "output_type": "stream",
          "name": "stdout",
          "text": [
            "Q: Where is a well used toy car likely to be found?\n",
            "O: child's room /// boy's bedroom /// own home /// toy store /// house\n",
            "A:  toy store /// toy store /// toy store\n",
            "\n",
            "\n",
            "Model: toy store and Actual Answer: child's room\n",
            "Q: Where can fisherman store their rods when on a fishing trip?\n",
            "O: hardware store /// engine /// fishing camp /// lake /// sporting goods store\n",
            "A:  sporting goods store /// sporting goods store /// sporting goods\n",
            "\n",
            "\n",
            "Model: sporting goods store and Actual Answer: fishing camp\n"
          ]
        },
        {
          "output_type": "stream",
          "name": "stderr",
          "text": [
            " 53%|█████▎    | 645/1221 [01:50<01:37,  5.91it/s]"
          ]
        },
        {
          "output_type": "stream",
          "name": "stdout",
          "text": [
            "Q: Danny is having fun just dancing and singing with his friends. He wasn't concerned with things that weren't fun. For him having fun is the same as what?\n",
            "O: injuries /// smiling /// being happy /// glee /// jump\n",
            "A:  injuries are injuries are injuries are injuries are injuries.\n",
            "\n",
            "\n",
            "Model: injuries are injuries are injuries are injuries are injuries. and Actual Answer: being happy\n",
            "Q: Where would you find an office worker gossiping with their colleagues?\n",
            "O: water cooler /// space shuttle /// baby shower /// bus stop /// family\n",
            "A:  bus stop stop stop stop stop stop stop stop stop\n",
            "\n",
            "\n",
            "Model: bus stop stop stop stop stop stop stop stop stop and Actual Answer: water cooler\n"
          ]
        },
        {
          "output_type": "stream",
          "name": "stderr",
          "text": [
            " 53%|█████▎    | 647/1221 [01:51<01:36,  5.94it/s]"
          ]
        },
        {
          "output_type": "stream",
          "name": "stdout",
          "text": [
            "Q: Where would you put nails if they are already packaged?\n",
            "O: pocket /// container /// cabinet /// jar /// store\n",
            "A:  container container container container container container container container container container\n",
            "\n",
            "\n",
            "Model: container container container container container container container container container container and Actual Answer: cabinet\n",
            "Q: What is a person who is good at sports considered?\n",
            "O: lazy /// own house /// talented /// affluent /// reproduce\n",
            "A:  talented and talented and talented and talented and talented and\n",
            "\n",
            "\n",
            "Model: talented and talented and talented and talented and talented and and Actual Answer: talented\n"
          ]
        },
        {
          "output_type": "stream",
          "name": "stderr",
          "text": [
            " 53%|█████▎    | 649/1221 [01:51<01:36,  5.95it/s]"
          ]
        },
        {
          "output_type": "stream",
          "name": "stdout",
          "text": [
            "Q: The man acted ridiculous at the funeral, what attitude should he have taken?\n",
            "O: straightforward /// serious /// solemn /// somber /// funny\n",
            "A:  solemn and solemn and solemn and solemn and solemn and\n",
            "\n",
            "\n",
            "Model: solemn and solemn and solemn and solemn and solemn and and Actual Answer: solemn\n",
            "Q: The pencil sharpener was broken in the classroom, where did the teacher recommend the student go?\n",
            "O: home /// library /// stationery store /// cabinet /// desk drawer\n",
            "A:  desk drawer drawer drawer drawer drawer drawer drawer drawer drawer\n",
            "\n",
            "\n",
            "Model: desk drawer drawer drawer drawer drawer drawer drawer drawer drawer and Actual Answer: library\n"
          ]
        },
        {
          "output_type": "stream",
          "name": "stderr",
          "text": [
            " 53%|█████▎    | 651/1221 [01:51<01:35,  5.96it/s]"
          ]
        },
        {
          "output_type": "stream",
          "name": "stdout",
          "text": [
            "Q: Where does a child likely sit at a desk?\n",
            "O: furniture store /// schoolroom /// patio /// office building /// library\n",
            "A:  office building /// office building /// schoolroom\n",
            "\n",
            "\n",
            "Model: office building and Actual Answer: schoolroom\n",
            "Q: He was trying to procreate with many individuals, this led to a what?\n",
            "O: moaning /// die /// kiss /// std /// sanity\n",
            "A:  die and die and die and die and die and\n",
            "\n",
            "\n",
            "Model: die and die and die and die and die and and Actual Answer: std\n"
          ]
        },
        {
          "output_type": "stream",
          "name": "stderr",
          "text": [
            " 53%|█████▎    | 653/1221 [01:52<01:37,  5.82it/s]"
          ]
        },
        {
          "output_type": "stream",
          "name": "stdout",
          "text": [
            "Q: What does playing soccer and winning lead to?\n",
            "O: excitement /// getting tired /// overtime /// anger /// fights\n",
            "A:  excitement and frustration /// excitement and frustration\n",
            "\n",
            "\n",
            "Model: excitement and frustration and Actual Answer: excitement\n",
            "Q: What attraction is sometimes so large that you need a map to find your way around?\n",
            "O: amusement park /// truck stop /// mcdonalds /// backpack /// classroom\n",
            "A:  truck stop stop stop stop stop stop stop stop stop\n",
            "\n",
            "\n",
            "Model: truck stop stop stop stop stop stop stop stop stop and Actual Answer: amusement park\n"
          ]
        },
        {
          "output_type": "stream",
          "name": "stderr",
          "text": [
            " 54%|█████▎    | 655/1221 [01:52<01:36,  5.85it/s]"
          ]
        },
        {
          "output_type": "stream",
          "name": "stdout",
          "text": [
            "Q: If my husband never helps me doing housework, what might that lead to?\n",
            "O: boredom /// arguments /// headache /// exhaustion /// park\n",
            "A:  exhaustion and exhaustion and exhaustion and exhaustion and exhaustion and\n",
            "\n",
            "\n",
            "Model: exhaustion and exhaustion and exhaustion and exhaustion and exhaustion and and Actual Answer: arguments\n",
            "Q: The advertisement came in the form of a pop-up, where did it appear?\n",
            "O: web page /// store /// la ville /// bus /// email\n",
            "A:  web page page page page page page page page page\n",
            "\n",
            "\n",
            "Model: web page page page page page page page page page and Actual Answer: web page\n"
          ]
        },
        {
          "output_type": "stream",
          "name": "stderr",
          "text": [
            " 54%|█████▍    | 657/1221 [01:52<01:35,  5.89it/s]"
          ]
        },
        {
          "output_type": "stream",
          "name": "stdout",
          "text": [
            "Q: WHere do people live?\n",
            "O: apartment /// eat cake /// bus depot /// football stadium /// surface of earth\n",
            "A:  apartment building /// apartment building /// apartment building\n",
            "\n",
            "\n",
            "Model: apartment building and Actual Answer: surface of earth\n",
            "Q: People are what when you're a stranger?\n",
            "O: train /// strange /// human /// stupid /// dangerous\n",
            "A:  dangerous and dangerous and dangerous and dangerous.  dangerous\n",
            "\n",
            "\n",
            "Model: dangerous and dangerous and dangerous and dangerous.  dangerous and Actual Answer: strange\n"
          ]
        },
        {
          "output_type": "stream",
          "name": "stderr",
          "text": [
            " 54%|█████▍    | 659/1221 [01:53<01:35,  5.91it/s]"
          ]
        },
        {
          "output_type": "stream",
          "name": "stdout",
          "text": [
            "Q: The juror was quite bored and zoning out but wanted to convey he was hearing testimony, so he just sat there doing what?\n",
            "O: take notes /// nodding /// change of heart /// writing down /// listening\n",
            "A:  nodding down to testimony /// nodding down to testimony ///\n",
            "\n",
            "\n",
            "Model: nodding down to testimony and Actual Answer: nodding\n",
            "Q: They wanted to try blowfish, so they went to get some where?\n",
            "O: atlantic ocean /// books /// france /// aquarium /// fish market\n",
            "A:  aquarium aquarium aquarium aquarium aquarium aquarium aquarium aquarium aquarium aquarium\n",
            "\n",
            "\n",
            "Model: aquarium aquarium aquarium aquarium aquarium aquarium aquarium aquarium aquarium aquarium and Actual Answer: fish market\n"
          ]
        },
        {
          "output_type": "stream",
          "name": "stderr",
          "text": [
            " 54%|█████▍    | 661/1221 [01:53<01:38,  5.66it/s]"
          ]
        },
        {
          "output_type": "stream",
          "name": "stdout",
          "text": [
            "Q: When a main artery is used to expedite travel what would it be referred to as?\n",
            "O: neck /// busy city /// own brain /// thruway /// food\n",
            "A:  thruwaywaywayway city center center center center\n",
            "\n",
            "\n",
            "Model: thruwaywaywayway city center center center center and Actual Answer: thruway\n",
            "Q: If someone rules the universe of what are they in charge?\n",
            "O: classroom /// football game /// everything /// text book /// lawbook\n",
            "A:  lawbook book book book book book book book book\n",
            "\n",
            "\n",
            "Model: lawbook book book book book book book book book and Actual Answer: everything\n"
          ]
        },
        {
          "output_type": "stream",
          "name": "stderr",
          "text": [
            " 54%|█████▍    | 663/1221 [01:53<01:40,  5.58it/s]"
          ]
        },
        {
          "output_type": "stream",
          "name": "stdout",
          "text": [
            "Q: The butt was bare, and Sam couldn't stop staring at it.  It was very what?\n",
            "O: full /// ample /// covered /// bareword /// ample\n",
            "A:  barewordable\n",
            "\n",
            "\n",
            "Model: barewordable and Actual Answer: ample\n",
            "Q: Where can many stores with clothing be found?\n",
            "O: shop /// mall /// department store /// drawer /// library\n",
            "A:  department store store store store store store store store ///\n",
            "\n",
            "\n",
            "Model: department store store store store store store store store /// and Actual Answer: mall\n"
          ]
        },
        {
          "output_type": "stream",
          "name": "stderr",
          "text": [
            " 54%|█████▍    | 665/1221 [01:54<01:36,  5.75it/s]"
          ]
        },
        {
          "output_type": "stream",
          "name": "stdout",
          "text": [
            "Q: After working on the car, what did it end up doing?\n",
            "O: going too fast /// last several years /// honk the horn /// go fast /// start running\n",
            "A:  going too fast /// go fast /// go fast\n",
            "\n",
            "\n",
            "Model: going too fast and Actual Answer: start running\n",
            "Q: When an elderly person needs help performing daily tasks, who might they call?\n",
            "O: creativity /// hatred /// caregiver /// own house /// much money\n",
            "A:  caregiver housekeeper's housekeeper's housekeeper\n",
            "\n",
            "\n",
            "Model: caregiver housekeeper's housekeeper's housekeeper and Actual Answer: caregiver\n"
          ]
        },
        {
          "output_type": "stream",
          "name": "stderr",
          "text": [
            " 55%|█████▍    | 667/1221 [01:54<01:34,  5.84it/s]"
          ]
        },
        {
          "output_type": "stream",
          "name": "stdout",
          "text": [
            "Q: Where is beer drank by people watching sticks and pucks?\n",
            "O: bottle /// refrigerator /// hockey game /// casino /// bar\n",
            "A:  barbershop game game game game game game game\n",
            "\n",
            "\n",
            "Model: barbershop game game game game game game game and Actual Answer: hockey game\n",
            "Q: Where is there a telephone book in almost every room?\n",
            "O: at hotel /// house /// library /// bedsit /// closet\n",
            "A:  bedroomit hotel room room room room room room room\n",
            "\n",
            "\n",
            "Model: bedroomit hotel room room room room room room room and Actual Answer: at hotel\n"
          ]
        },
        {
          "output_type": "stream",
          "name": "stderr",
          "text": [
            " 55%|█████▍    | 669/1221 [01:54<01:34,  5.83it/s]"
          ]
        },
        {
          "output_type": "stream",
          "name": "stdout",
          "text": [
            "Q: Where might you see a green field while driving?\n",
            "O: kansas /// meadow /// farmland /// countryside /// rural area\n",
            "A:  countryside area area area area area area area area area\n",
            "\n",
            "\n",
            "Model: countryside area area area area area area area area area and Actual Answer: countryside\n",
            "Q: Some people got escorted out of the library, they were probably what?\n",
            "O: state facts /// talking loudly /// making money /// amount to nothing /// believe in god\n",
            "A:  state facts /// state facts /// state facts\n",
            "\n",
            "\n",
            "Model: state facts and Actual Answer: talking loudly\n"
          ]
        },
        {
          "output_type": "stream",
          "name": "stderr",
          "text": [
            " 55%|█████▍    | 671/1221 [01:55<01:33,  5.90it/s]"
          ]
        },
        {
          "output_type": "stream",
          "name": "stdout",
          "text": [
            "Q: If there is a pond with trees around it, where it it likely located?\n",
            "O: ground /// bathroom /// forest /// countryside /// rural area\n",
            "A:  countryside area of earths of earths of earth\n",
            "\n",
            "\n",
            "Model: countryside area of earths of earths of earth and Actual Answer: forest\n",
            "Q: Blowfish require what specific thing to live?\n",
            "O: sea water /// hatred /// fish market /// body of water /// jungle\n",
            "A:  body of water or fish market or fish market or\n",
            "\n",
            "\n",
            "Model: body of water or fish market or fish market or and Actual Answer: sea water\n"
          ]
        },
        {
          "output_type": "stream",
          "name": "stderr",
          "text": [
            " 55%|█████▌    | 673/1221 [01:55<01:32,  5.93it/s]"
          ]
        },
        {
          "output_type": "stream",
          "name": "stdout",
          "text": [
            "Q: What is the least likely immediate side effect of eating hamburger?\n",
            "O: nausea /// death /// illness /// health problems /// gain weight\n",
            "A:  health problems /// health problems\n",
            "\n",
            "\n",
            "Model: health problems and Actual Answer: death\n",
            "Q: What would I be doing while going to work and walking?\n",
            "O: listen to radio /// solve problems /// driving /// walk /// being late\n",
            "A:  solve problems /// solve problems /// solve problems\n",
            "\n",
            "\n",
            "Model: solve problems and Actual Answer: listen to radio\n"
          ]
        },
        {
          "output_type": "stream",
          "name": "stderr",
          "text": [
            " 55%|█████▌    | 675/1221 [01:55<01:32,  5.91it/s]"
          ]
        },
        {
          "output_type": "stream",
          "name": "stdout",
          "text": [
            "Q: A showroom feature washers and refrigerators, where is this showroom located?\n",
            "O: appliance store /// vegas /// electronics store /// car dealership /// kitchen\n",
            "A:  appliance store location location location location location location location location\n",
            "\n",
            "\n",
            "Model: appliance store location location location location location location location location and Actual Answer: appliance store\n",
            "Q: The man often made smart remarks, like that any restaurant is a mexican restaurant where?\n",
            "O: city /// mexica /// san diego /// spain /// mexico\n",
            "A:  city hall hall hall hall hall hall hall hall hall\n",
            "\n",
            "\n",
            "Model: city hall hall hall hall hall hall hall hall hall and Actual Answer: mexico\n"
          ]
        },
        {
          "output_type": "stream",
          "name": "stderr",
          "text": [
            " 55%|█████▌    | 677/1221 [01:56<01:32,  5.88it/s]"
          ]
        },
        {
          "output_type": "stream",
          "name": "stdout",
          "text": [
            "Q: I am looking for honey right from the source, where should I look?\n",
            "O: last all night /// beehive /// farmer's market /// jar /// honeyful\n",
            "A:  jar jar jar jar jar jar jar jar jar jar\n",
            "\n",
            "\n",
            "Model: jar jar jar jar jar jar jar jar jar jar and Actual Answer: beehive\n",
            "Q: Where are there likely to be a variety of flats to choose from?\n",
            "O: london /// apartment building /// city /// falling down /// town\n",
            "A:  london building /// town building /// town building\n",
            "\n",
            "\n",
            "Model: london building and Actual Answer: city\n"
          ]
        },
        {
          "output_type": "stream",
          "name": "stderr",
          "text": [
            " 56%|█████▌    | 679/1221 [01:56<01:32,  5.88it/s]"
          ]
        },
        {
          "output_type": "stream",
          "name": "stdout",
          "text": [
            "Q: A weasel has a thin body and short legs to easier burrow after prey in a what?\n",
            "O: tree /// mulberry bush /// chicken coop /// viking ship /// rabbit warren\n",
            "A:  mulberry bush bush bush bush bush bush bush bush\n",
            "\n",
            "\n",
            "Model: mulberry bush bush bush bush bush bush bush bush and Actual Answer: rabbit warren\n",
            "Q: What can disease destroy?\n",
            "O: rug /// third world country /// human body /// hospital /// building\n",
            "A:  human body body body body body body body body body\n",
            "\n",
            "\n",
            "Model: human body body body body body body body body body and Actual Answer: human body\n"
          ]
        },
        {
          "output_type": "stream",
          "name": "stderr",
          "text": [
            " 56%|█████▌    | 681/1221 [01:56<01:33,  5.80it/s]"
          ]
        },
        {
          "output_type": "stream",
          "name": "stdout",
          "text": [
            "Q: What does a person from Avalon live in?\n",
            "O: pain /// meaningful work /// english house /// cotton candy /// headache\n",
            "A:  english house. /// english house. /// english house\n",
            "\n",
            "\n",
            "Model: english house. and Actual Answer: english house\n",
            "Q: Where is one likely to find a fan for their stove?\n",
            "O: appliance store /// sports stadium /// dress emporium /// hot room /// football stadium\n",
            "A:  football stadium stadium stadium stadium stadium stadium stadium stadium stadium\n",
            "\n",
            "\n",
            "Model: football stadium stadium stadium stadium stadium stadium stadium stadium stadium and Actual Answer: appliance store\n"
          ]
        },
        {
          "output_type": "stream",
          "name": "stderr",
          "text": [
            " 56%|█████▌    | 683/1221 [01:57<01:32,  5.84it/s]"
          ]
        },
        {
          "output_type": "stream",
          "name": "stdout",
          "text": [
            "Q: Jodie felt a tightness in her chest. She was worried but didn't want to go to the hospital. Where might she go instead?\n",
            "O: istanbul /// concert /// bedroom /// antique shop /// human being\n",
            "A:  concert hall hall hall hall hall hall hall hall hall\n",
            "\n",
            "\n",
            "Model: concert hall hall hall hall hall hall hall hall hall and Actual Answer: bedroom\n",
            "Q: If you're buying beer for a float trip what are you preparing to do?\n",
            "O: get arrested /// have fun /// get sick /// spend money /// stupidity\n",
            "A:  spend money /// spend money /// spend money\n",
            "\n",
            "\n",
            "Model: spend money and Actual Answer: have fun\n"
          ]
        },
        {
          "output_type": "stream",
          "name": "stderr",
          "text": [
            " 56%|█████▌    | 685/1221 [01:57<01:31,  5.86it/s]"
          ]
        },
        {
          "output_type": "stream",
          "name": "stdout",
          "text": [
            "Q: Piece of land in Canada where you can find marmot?\n",
            "O: north america /// united states /// vancouver island /// american /// cage\n",
            "A:  united states of america island island island island island\n",
            "\n",
            "\n",
            "Model: united states of america island island island island island and Actual Answer: vancouver island\n",
            "Q: The surgeon's clients had begun to reduce, it seemed girls no longer want to what?\n",
            "O: reduction /// make larger /// augment /// gain weight /// expand\n",
            "A:  increase weight and increase weight /// increase weight and increase\n",
            "\n",
            "\n",
            "Model: increase weight and increase weight and Actual Answer: augment\n"
          ]
        },
        {
          "output_type": "stream",
          "name": "stderr",
          "text": [
            " 56%|█████▋    | 687/1221 [01:57<01:31,  5.82it/s]"
          ]
        },
        {
          "output_type": "stream",
          "name": "stdout",
          "text": [
            "Q: While waiting for this appointment, people often read magazines.\n",
            "O: doctor /// train station /// newsagent /// market /// table\n",
            "A:  newsagent agent agent agent agent agent agent agent agent\n",
            "\n",
            "\n",
            "Model: newsagent agent agent agent agent agent agent agent agent and Actual Answer: doctor\n",
            "Q: Where would you find a fox that is made up?\n",
            "O: storybook /// woods /// hen house /// natural habitat /// back yard\n",
            "A:  storybook book book book book book book book book\n",
            "\n",
            "\n",
            "Model: storybook book book book book book book book book and Actual Answer: storybook\n"
          ]
        },
        {
          "output_type": "stream",
          "name": "stderr",
          "text": [
            " 56%|█████▋    | 689/1221 [01:58<01:31,  5.84it/s]"
          ]
        },
        {
          "output_type": "stream",
          "name": "stdout",
          "text": [
            "Q: In basic training they build you up only to do what, all in hopes of building you up even stronger the next time?\n",
            "O: destroying /// tear down /// raze /// mutilate /// demolition\n",
            "A:  tear down down down down down down down down down\n",
            "\n",
            "\n",
            "Model: tear down down down down down down down down down and Actual Answer: tear down\n",
            "Q: Billy saw a dog running from him and did his best to get away from it.  The leaped up to where the dog couldn't reach and was stuck.  Where might he have been trapped?\n",
            "O: kennel /// table /// porch /// backyard /// park\n",
            "A:  backyard park yard yard yard yard yard yard yard yard\n",
            "\n",
            "\n",
            "Model: backyard park yard yard yard yard yard yard yard yard and Actual Answer: table\n"
          ]
        },
        {
          "output_type": "stream",
          "name": "stderr",
          "text": [
            " 57%|█████▋    | 691/1221 [01:58<01:29,  5.92it/s]"
          ]
        },
        {
          "output_type": "stream",
          "name": "stdout",
          "text": [
            "Q: John and Judy were parents.  They had two wonderful kids who weren't always well behaved.  They were light tough, though.  They felt it was a parent's job to do what?\n",
            "O: control children /// guide children /// speak freely /// cry /// understand children\n",
            "A:  control children children children children children children children children children\n",
            "\n",
            "\n",
            "Model: control children children children children children children children children children and Actual Answer: guide children\n",
            "Q: What are you playing if you're fiddling on a violin?\n",
            "O: bluegrass music /// make music /// drop /// string instrument /// troubles\n",
            "A:  string instrument instrument instrument instrument instrument instrument instrument instrument instrument\n",
            "\n",
            "\n",
            "Model: string instrument instrument instrument instrument instrument instrument instrument instrument instrument and Actual Answer: bluegrass music\n"
          ]
        },
        {
          "output_type": "stream",
          "name": "stderr",
          "text": [
            " 57%|█████▋    | 693/1221 [01:58<01:30,  5.82it/s]"
          ]
        },
        {
          "output_type": "stream",
          "name": "stdout",
          "text": [
            "Q: If somebody buys something and gives it to me as a free gift, what is the cost status of the gift?\n",
            "O: deadly /// imprisoned /// paid for /// expensive /// in prison\n",
            "A:  paid for for for for /// paid for for for\n",
            "\n",
            "\n",
            "Model: paid for for for for and Actual Answer: paid for\n",
            "Q: Why does someone flirt with many people at once?\n",
            "O: have sex /// get laid /// were lonely /// attract attention /// dance\n",
            "A:  attract attention from many people at once.  attract\n",
            "\n",
            "\n",
            "Model: attract attention from many people at once.  attract and Actual Answer: attract attention\n"
          ]
        },
        {
          "output_type": "stream",
          "name": "stderr",
          "text": [
            " 57%|█████▋    | 695/1221 [01:59<01:29,  5.87it/s]"
          ]
        },
        {
          "output_type": "stream",
          "name": "stdout",
          "text": [
            "Q: James tore the antenna off of his boat due to bad reception as he was crossing the channel from France.  Where was he going?\n",
            "O: river /// television /// india /// england /// europe\n",
            "A:  england or india or india or ind\n",
            "\n",
            "\n",
            "Model: england or india or india or ind and Actual Answer: england\n",
            "Q: Why would a band be performing when there are no people nearby?\n",
            "O: record album /// play music /// hold concert /// blaring /// practice\n",
            "A:  blaring music store /// blaring music store ///\n",
            "\n",
            "\n",
            "Model: blaring music store and Actual Answer: record album\n"
          ]
        },
        {
          "output_type": "stream",
          "name": "stderr",
          "text": [
            " 57%|█████▋    | 697/1221 [01:59<01:29,  5.86it/s]"
          ]
        },
        {
          "output_type": "stream",
          "name": "stdout",
          "text": [
            "Q: The dogs were protecting their own when they decided to what the bad man?\n",
            "O: bad breath /// defend /// run fast /// ocean /// attack\n",
            "A:  run fast forward forward forward forward forward forward forward forward\n",
            "\n",
            "\n",
            "Model: run fast forward forward forward forward forward forward forward forward and Actual Answer: attack\n",
            "Q: What is used to grind wheat for bread?\n",
            "O: farmer's field /// countryside /// cereal packets /// bread /// mill\n",
            "A:  milling wheat for bread packets for bread packets for\n",
            "\n",
            "\n",
            "Model: milling wheat for bread packets for bread packets for and Actual Answer: mill\n"
          ]
        },
        {
          "output_type": "stream",
          "name": "stderr",
          "text": [
            " 57%|█████▋    | 699/1221 [02:00<01:32,  5.66it/s]"
          ]
        },
        {
          "output_type": "stream",
          "name": "stdout",
          "text": [
            "Q: If you have a large satchel with you when you fly you'll be asked to store it where?\n",
            "O: airport /// luggage compartment /// with the pilot /// room /// clothing store\n",
            "A:  luggage compartment compartment compartment compartment compartment compartment compartment compartment compartment\n",
            "\n",
            "\n",
            "Model: luggage compartment compartment compartment compartment compartment compartment compartment compartment compartment and Actual Answer: luggage compartment\n",
            "Q: Where would someone keep their nylon leggings?\n",
            "O: stockings /// rope /// car /// clothing /// drawer\n",
            "A:  stockings and rope /// stockings and rope ///\n",
            "\n",
            "\n",
            "Model: stockings and rope and Actual Answer: drawer\n"
          ]
        },
        {
          "output_type": "stream",
          "name": "stderr",
          "text": [
            " 57%|█████▋    | 701/1221 [02:00<01:31,  5.67it/s]"
          ]
        },
        {
          "output_type": "stream",
          "name": "stdout",
          "text": [
            "Q: If you spend a long time running after a ball how are you likely to feel?\n",
            "O: laughter /// sweating /// embarrassed /// breathing heavily /// tiredness\n",
            "A:  tirednessiness and sweating are tiredness and sweating\n",
            "\n",
            "\n",
            "Model: tirednessiness and sweating are tiredness and sweating and Actual Answer: tiredness\n",
            "Q: When you need to rest it's often because you have been doing what?\n",
            "O: action /// sleep /// sleeping /// in motion /// using energy\n",
            "A:  sleep in motion motion motion motion motion motion motion motion\n",
            "\n",
            "\n",
            "Model: sleep in motion motion motion motion motion motion motion motion and Actual Answer: using energy\n"
          ]
        },
        {
          "output_type": "stream",
          "name": "stderr",
          "text": [
            " 58%|█████▊    | 703/1221 [02:00<01:30,  5.70it/s]"
          ]
        },
        {
          "output_type": "stream",
          "name": "stdout",
          "text": [
            "Q: Boredom and hunger led to a wandering waste of time and a cart full of unhealthy snacks during her trip to where?\n",
            "O: new moon /// play cards /// read book /// see art /// grocery shop\n",
            "A:  grocery shop shop shop shop shop shop shop shop shop\n",
            "\n",
            "\n",
            "Model: grocery shop shop shop shop shop shop shop shop shop and Actual Answer: grocery shop\n",
            "Q: He was beginning to worry they wouldn't get on the ride before closing, they had been standing in queue for a long what?\n",
            "O: frustration /// waiting /// hair /// time /// patience\n",
            "A:  time patience time patience time time time time time time\n",
            "\n",
            "\n",
            "Model: time patience time patience time time time time time time and Actual Answer: time\n"
          ]
        },
        {
          "output_type": "stream",
          "name": "stderr",
          "text": [
            " 58%|█████▊    | 705/1221 [02:01<01:32,  5.59it/s]"
          ]
        },
        {
          "output_type": "stream",
          "name": "stdout",
          "text": [
            "Q: This is an unavoidable physiological consequence of running.  What is it?\n",
            "O: breathlessness /// increased heart rate /// falling down /// muscle bulk /// calluses\n",
            "A:  breathinglessness and muscle bulk are not breathing. \n",
            "\n",
            "\n",
            "Model: breathinglessness and muscle bulk are not breathing. and Actual Answer: increased heart rate\n",
            "Q: Sometimes a person has a fear of water or a dislike of being wet, it is still important to make sure they are having a bath why?\n",
            "O: flooding /// drowning /// wet skin /// get wet /// rash\n",
            "A:  wet skin or wet skin or wet skin or wet\n",
            "\n",
            "\n",
            "Model: wet skin or wet skin or wet skin or wet and Actual Answer: rash\n"
          ]
        },
        {
          "output_type": "stream",
          "name": "stderr",
          "text": [
            " 58%|█████▊    | 707/1221 [02:01<01:30,  5.68it/s]"
          ]
        },
        {
          "output_type": "stream",
          "name": "stdout",
          "text": [
            "Q: Where would there be an auditorium with only a single person speaking?\n",
            "O: lights /// crowd /// university campus /// theater /// park\n",
            "A:  university campus campus campus campus campus campus campus campus campus\n",
            "\n",
            "\n",
            "Model: university campus campus campus campus campus campus campus campus campus and Actual Answer: university campus\n",
            "Q: To get out of there the person had to keep on walking, they had to keep on what?\n",
            "O: moving forward /// locomotion /// blisters /// rollerskate /// exercise\n",
            "A:  rollingerskate forward forward forward forward forward forward\n",
            "\n",
            "\n",
            "Model: rollingerskate forward forward forward forward forward forward and Actual Answer: moving forward\n"
          ]
        },
        {
          "output_type": "stream",
          "name": "stderr",
          "text": [
            " 58%|█████▊    | 709/1221 [02:01<01:29,  5.72it/s]"
          ]
        },
        {
          "output_type": "stream",
          "name": "stdout",
          "text": [
            "Q: What very large group of western citizens has bees everywhere?\n",
            "O: united states /// space station /// trash can /// field of flowers /// bouquet of flowers\n",
            "A:  space station or bouquet of flowers bouquet of\n",
            "\n",
            "\n",
            "Model: space station or bouquet of flowers bouquet of and Actual Answer: united states\n",
            "Q: Miss Grady took a stick from Bob because he was playing with it during class.  She wanted to make sure that he couldn't get to it so she put it where?\n",
            "O: desk drawer /// kitchen drawer /// classroom /// pocket /// office\n",
            "A:  desk drawer drawer drawer drawer drawer drawer drawer drawer drawer\n",
            "\n",
            "\n",
            "Model: desk drawer drawer drawer drawer drawer drawer drawer drawer drawer and Actual Answer: desk drawer\n"
          ]
        },
        {
          "output_type": "stream",
          "name": "stderr",
          "text": [
            " 58%|█████▊    | 711/1221 [02:02<01:28,  5.77it/s]"
          ]
        },
        {
          "output_type": "stream",
          "name": "stdout",
          "text": [
            "Q: How does a person begin reproducing?\n",
            "O: genetic mutation /// have sex /// kiss /// flirting /// going on a date\n",
            "A:  genetic mutation mutation mutation mutation mutation mutation mutation mutation mutation\n",
            "\n",
            "\n",
            "Model: genetic mutation mutation mutation mutation mutation mutation mutation mutation mutation and Actual Answer: have sex\n",
            "Q: Joe and Jill didn't want their children to be sedentary.  They might limit the time they children spend doing what?\n",
            "O: play sports /// throw things /// reading /// watch tv /// play with toys\n",
            "A:  play sports sports sports sports sports sports sports sports sports\n",
            "\n",
            "\n",
            "Model: play sports sports sports sports sports sports sports sports sports and Actual Answer: watch tv\n"
          ]
        },
        {
          "output_type": "stream",
          "name": "stderr",
          "text": [
            " 58%|█████▊    | 713/1221 [02:02<01:28,  5.72it/s]"
          ]
        },
        {
          "output_type": "stream",
          "name": "stdout",
          "text": [
            "Q: They were making sauerkraut, the instructor explained the liquid should be above the cabbage in the what?\n",
            "O: jar /// drinking glass /// pot /// container /// can\n",
            "A:  container container container container container container container container container container\n",
            "\n",
            "\n",
            "Model: container container container container container container container container container container and Actual Answer: jar\n",
            "Q: From where would you normally take a cup when you're about to get a drink?\n",
            "O: dishwasher /// water fountain /// sand box /// toilet /// kitchen cabinet\n",
            "A:  bathroom cabinet cabinet cabinet cabinet cabinet cabinet cabinet cabinet cabinet\n",
            "\n",
            "\n",
            "Model: bathroom cabinet cabinet cabinet cabinet cabinet cabinet cabinet cabinet cabinet and Actual Answer: kitchen cabinet\n"
          ]
        },
        {
          "output_type": "stream",
          "name": "stderr",
          "text": [
            " 59%|█████▊    | 715/1221 [02:02<01:28,  5.75it/s]"
          ]
        },
        {
          "output_type": "stream",
          "name": "stdout",
          "text": [
            "Q: What are you using if there are speakers strapped on your ears?\n",
            "O: take it all in /// headphones /// desktop /// conference /// concert\n",
            "A:  desktop conference conference conference conference conference conference conference conference conference\n",
            "\n",
            "\n",
            "Model: desktop conference conference conference conference conference conference conference conference conference and Actual Answer: headphones\n",
            "Q: Because of his anger he couldn't clearly explain or what?\n",
            "O: cool off /// write letter /// get mad /// illustrate point /// destroy enemy\n",
            "A:  cool off off off off off off off off off\n",
            "\n",
            "\n",
            "Model: cool off off off off off off off off off and Actual Answer: illustrate point\n"
          ]
        },
        {
          "output_type": "stream",
          "name": "stderr",
          "text": [
            " 59%|█████▊    | 717/1221 [02:03<01:27,  5.77it/s]"
          ]
        },
        {
          "output_type": "stream",
          "name": "stdout",
          "text": [
            "Q: Where is likely to not just have a kosher restaurant?\n",
            "O: jerusalem /// jewish neighborhoods /// dining in /// new york city /// dining\n",
            "A:  dining in town city city city city city city city\n",
            "\n",
            "\n",
            "Model: dining in town city city city city city city city and Actual Answer: new york city\n",
            "Q: The bald eagle flew from Mount St Helen's to the Puget Sound and all over what?\n",
            "O: washington state /// utah /// pacific northwest /// northern california /// the desert\n",
            "A:  pacific northwest california state /// calif\n",
            "\n",
            "\n",
            "Model: pacific northwest california state and Actual Answer: washington state\n"
          ]
        },
        {
          "output_type": "stream",
          "name": "stderr",
          "text": [
            " 59%|█████▉    | 719/1221 [02:03<01:26,  5.78it/s]"
          ]
        },
        {
          "output_type": "stream",
          "name": "stdout",
          "text": [
            "Q: Where could you get some knives if you are planning to bring them outside with you?\n",
            "O: sporting goods store /// backpack /// kitchen /// sharp edges /// dog house\n",
            "A:  sporting goods store store store store store /// sporting goods\n",
            "\n",
            "\n",
            "Model: sporting goods store store store store store and Actual Answer: kitchen\n",
            "Q: How can people fulfill their own calorie requirements?\n",
            "O: compete with each other /// feed themselves /// feel lonely /// talk to each other /// ask a doctor\n",
            "A:  compete with each other /// eat food and feed themselves\n",
            "\n",
            "\n",
            "Model: compete with each other and Actual Answer: feed themselves\n"
          ]
        },
        {
          "output_type": "stream",
          "name": "stderr",
          "text": [
            " 59%|█████▉    | 721/1221 [02:03<01:26,  5.76it/s]"
          ]
        },
        {
          "output_type": "stream",
          "name": "stdout",
          "text": [
            "Q: What does a stove do to the place that it's in?\n",
            "O: cool house /// warm room /// gas or electric /// burn child /// brown meat\n",
            "A:  cool house or electric or electric or electric or electric\n",
            "\n",
            "\n",
            "Model: cool house or electric or electric or electric or electric and Actual Answer: warm room\n",
            "Q: What is the best way to begin going into trance?\n",
            "O: religious experience /// closed eyes /// loss of control /// sleep /// hallucination\n",
            "A:  closed eyes and closed eyes and closed eyes and closed\n",
            "\n",
            "\n",
            "Model: closed eyes and closed eyes and closed eyes and closed and Actual Answer: closed eyes\n"
          ]
        },
        {
          "output_type": "stream",
          "name": "stderr",
          "text": [
            " 59%|█████▉    | 723/1221 [02:04<01:26,  5.75it/s]"
          ]
        },
        {
          "output_type": "stream",
          "name": "stdout",
          "text": [
            "Q: A computer user working on an important work assignment is located in what structure?\n",
            "O: office building /// internet cafe /// house /// school /// internet cafe\n",
            "A:  office building /// school building /// school building\n",
            "\n",
            "\n",
            "Model: office building and Actual Answer: office building\n",
            "Q: The music was festive but why are the horses dancing in circles\n",
            "O: carnival /// night club /// theatre /// opera /// ringmaster\n",
            "A:  carnival dance club night club night club night club\n",
            "\n",
            "\n",
            "Model: carnival dance club night club night club night club and Actual Answer: carnival\n"
          ]
        },
        {
          "output_type": "stream",
          "name": "stderr",
          "text": [
            " 59%|█████▉    | 725/1221 [02:04<01:25,  5.79it/s]"
          ]
        },
        {
          "output_type": "stream",
          "name": "stdout",
          "text": [
            "Q: In the building where James worked there was a small mezzanine in the auditorium to make more space for seats.  Where might James work?\n",
            "O: theater /// floors /// concert hall /// education /// school\n",
            "A:  auditorium auditorium auditorium auditorium auditorium\n",
            "\n",
            "\n",
            "Model: auditorium auditorium auditorium auditorium auditorium and Actual Answer: theater\n",
            "Q: If you aren't well rested and it's a rainy day what might you do?\n",
            "O: sleep /// write /// make bread /// stay in bed /// enjoy film\n",
            "A:  sleep in bed and write in bed and write in\n",
            "\n",
            "\n",
            "Model: sleep in bed and write in bed and write in and Actual Answer: stay in bed\n"
          ]
        },
        {
          "output_type": "stream",
          "name": "stderr",
          "text": [
            " 60%|█████▉    | 727/1221 [02:04<01:25,  5.77it/s]"
          ]
        },
        {
          "output_type": "stream",
          "name": "stdout",
          "text": [
            "Q: Where would you have a stove if you don't live in a detached dwelling?\n",
            "O: tent /// car /// living room /// friend's house /// apartment\n",
            "A:  friend's house /// friend's house /// friend's\n",
            "\n",
            "\n",
            "Model: friend's house and Actual Answer: apartment\n",
            "Q: What kind of place has a revolving door and has things to buy in it?\n",
            "O: new york /// public place /// bank /// mall /// supermarket door\n",
            "A:  mall door door door door door door door door door\n",
            "\n",
            "\n",
            "Model: mall door door door door door door door door door and Actual Answer: mall\n"
          ]
        },
        {
          "output_type": "stream",
          "name": "stderr",
          "text": [
            " 60%|█████▉    | 729/1221 [02:05<01:24,  5.85it/s]"
          ]
        },
        {
          "output_type": "stream",
          "name": "stdout",
          "text": [
            "Q: Where can books be read?\n",
            "O: cabinet /// backpack /// table /// shelf /// sink\n",
            "A:  shelf shelf shelf /// shelf /// shelf\n",
            "\n",
            "\n",
            "Model: shelf shelf shelf and Actual Answer: table\n",
            "Q: Where is seaweed usually found alive?\n",
            "O: ocean /// found in ocean /// water /// found in sea /// beach\n",
            "A:  ocean water found in ocean water found in ocean water\n",
            "\n",
            "\n",
            "Model: ocean water found in ocean water found in ocean water and Actual Answer: water\n"
          ]
        },
        {
          "output_type": "stream",
          "name": "stderr",
          "text": [
            " 60%|█████▉    | 731/1221 [02:05<01:25,  5.75it/s]"
          ]
        },
        {
          "output_type": "stream",
          "name": "stdout",
          "text": [
            "Q: If a lizard is fed by people every day, what has happened to it?\n",
            "O: documentary /// costa rica /// garden /// encouragement /// captivity\n",
            "A:  captivity captivity captivity captivity captivity captivity captivity captivity captivity captivity\n",
            "\n",
            "\n",
            "Model: captivity captivity captivity captivity captivity captivity captivity captivity captivity captivity and Actual Answer: captivity\n",
            "Q: What will happen to someone if his or her spirits cannot elevate?\n",
            "O: sadden /// demote /// depress /// drop /// decrease\n",
            "A:  decrease in spirits /// decrease in spirits /// decrease in\n",
            "\n",
            "\n",
            "Model: decrease in spirits and Actual Answer: depress\n"
          ]
        },
        {
          "output_type": "stream",
          "name": "stderr",
          "text": [
            " 60%|██████    | 733/1221 [02:05<01:27,  5.56it/s]"
          ]
        },
        {
          "output_type": "stream",
          "name": "stdout",
          "text": [
            "Q: If you wanted a license to catch crabs, what government office would you go to?\n",
            "O: most offices /// fish department /// fancy restaurant /// government submarine /// chesapeake bay\n",
            "A:  chesapeake bay bay bay bay bay bay bay\n",
            "\n",
            "\n",
            "Model: chesapeake bay bay bay bay bay bay bay and Actual Answer: fish department\n",
            "Q: What furniture will you normally find near a side chair?\n",
            "O: bedroom /// table /// wheel barrow /// building /// office\n",
            "A:  office building /// office building /// office building\n",
            "\n",
            "\n",
            "Model: office building and Actual Answer: table\n"
          ]
        },
        {
          "output_type": "stream",
          "name": "stderr",
          "text": [
            " 60%|██████    | 735/1221 [02:06<01:27,  5.56it/s]"
          ]
        },
        {
          "output_type": "stream",
          "name": "stdout",
          "text": [
            "Q: Metal is used to make what?\n",
            "O: junkyard /// ore /// instruments /// metal fabrication shop /// bowls\n",
            "A:  instruments fabrication shop shop shop shop shop shop shop shop\n",
            "\n",
            "\n",
            "Model: instruments fabrication shop shop shop shop shop shop shop shop and Actual Answer: instruments\n",
            "Q: What is the word added to Manchester that signifies what county it is in?\n",
            "O: england /// united kingdome /// lancashire /// greater manchester /// cheshire\n",
            "A:  englandshire lancashirence lanc\n",
            "\n",
            "\n",
            "Model: englandshire lancashirence lanc and Actual Answer: greater manchester\n"
          ]
        },
        {
          "output_type": "stream",
          "name": "stderr",
          "text": [
            " 60%|██████    | 737/1221 [02:06<01:25,  5.67it/s]"
          ]
        },
        {
          "output_type": "stream",
          "name": "stdout",
          "text": [
            "Q: The program kept getting errors, the amateur end user began to what?\n",
            "O: get mad /// compile /// debug /// write code /// get frustrated\n",
            "A:  compile code code code code code code code code code\n",
            "\n",
            "\n",
            "Model: compile code code code code code code code code code and Actual Answer: get frustrated\n",
            "Q: John knew that the sun produced a massive amount of energy in two forms.  If you were on the surface of the sun, what would kill you first?\n",
            "O: ocean /// heat /// life on earth /// wrinkles /// light\n",
            "A:  heat on earth earth earth earth earth earth earth earth\n",
            "\n",
            "\n",
            "Model: heat on earth earth earth earth earth earth earth earth and Actual Answer: heat\n"
          ]
        },
        {
          "output_type": "stream",
          "name": "stderr",
          "text": [
            " 61%|██████    | 739/1221 [02:07<01:26,  5.57it/s]"
          ]
        },
        {
          "output_type": "stream",
          "name": "stdout",
          "text": [
            "Q: Lawyers often talk in front of an audience where?\n",
            "O: work /// courtroom /// office building /// press charges /// theatre\n",
            "A:  press charges against defendants /// press charges against defendants ///\n",
            "\n",
            "\n",
            "Model: press charges against defendants and Actual Answer: courtroom\n",
            "Q: James bought a new set of tire chains and put them somewhere he could find them.  Where would he put them?\n",
            "O: gear shift /// garage /// kitchen /// jewelry store /// hardware store\n",
            "A:  hardware store /// hardware store /// hardware store\n",
            "\n",
            "\n",
            "Model: hardware store and Actual Answer: garage\n"
          ]
        },
        {
          "output_type": "stream",
          "name": "stderr",
          "text": [
            " 61%|██████    | 741/1221 [02:07<01:24,  5.65it/s]"
          ]
        },
        {
          "output_type": "stream",
          "name": "stdout",
          "text": [
            "Q: If I wanted to eat something that is made from plants and needs to be washed, what would it be?\n",
            "O: roots /// millions of cells /// see work /// leaves to gather light /// flowers on\n",
            "A:  leaves to gather light flowers on plants and leaves to\n",
            "\n",
            "\n",
            "Model: leaves to gather light flowers on plants and leaves to and Actual Answer: roots\n",
            "Q: Ficus can be planted in a yard to make summer more bearable, what sort of areas do they create?\n",
            "O: shady places /// screened porch /// pots /// ceramics /// clay pot\n",
            "A:  clay pottery pottery pottery pottery pot\n",
            "\n",
            "\n",
            "Model: clay pottery pottery pottery pottery pot and Actual Answer: shady places\n"
          ]
        },
        {
          "output_type": "stream",
          "name": "stderr",
          "text": [
            " 61%|██████    | 743/1221 [02:07<01:23,  5.72it/s]"
          ]
        },
        {
          "output_type": "stream",
          "name": "stdout",
          "text": [
            "Q: Children's behavior is a direct reflection of their what?\n",
            "O: parents /// old people /// play ball /// many adults /// grown ups\n",
            "A:  parents' behavior is a direct reflection of their behavior\n",
            "\n",
            "\n",
            "Model: parents' behavior is a direct reflection of their behavior and Actual Answer: parents\n",
            "Q: Most people who are family like to greet each other with a what?\n",
            "O: apartments /// listen to music /// have friends /// know what ophiolites /// hug\n",
            "A:  hug and hug and hug and hug together with friends\n",
            "\n",
            "\n",
            "Model: hug and hug and hug and hug together with friends and Actual Answer: hug\n"
          ]
        },
        {
          "output_type": "stream",
          "name": "stderr",
          "text": [
            " 61%|██████    | 745/1221 [02:08<01:22,  5.75it/s]"
          ]
        },
        {
          "output_type": "stream",
          "name": "stdout",
          "text": [
            "Q: John bought a new water hose.  But he found his old one near his car.  Where did he find the old one?\n",
            "O: garden shed /// hardware store /// greenhouse /// garage /// in a van\n",
            "A:  garage shed /// garage shed\n",
            "\n",
            "\n",
            "Model: garage shed and Actual Answer: garage\n",
            "Q: Where is a control room needed to prevent wide spread disaster?\n",
            "O: airbase /// prison /// mill /// nuclear plant /// recording studio\n",
            "A:  nuclear plant /// nuclear plant /// nuclear plant /// nuclear\n",
            "\n",
            "\n",
            "Model: nuclear plant and Actual Answer: nuclear plant\n"
          ]
        },
        {
          "output_type": "stream",
          "name": "stderr",
          "text": [
            " 61%|██████    | 747/1221 [02:08<01:21,  5.79it/s]"
          ]
        },
        {
          "output_type": "stream",
          "name": "stdout",
          "text": [
            "Q: Where do you keep your pizza slice before you eat it?\n",
            "O: table /// plate /// restaurant /// oven /// popular\n",
            "A:  plate plate plate plate plate plate plate plate plate plate\n",
            "\n",
            "\n",
            "Model: plate plate plate plate plate plate plate plate plate plate and Actual Answer: plate\n",
            "Q: Everybody was changing into costumes in the dressing room, it was almost time to take the what stage?\n",
            "O: theater /// train /// bathhouse /// dwelling /// actors and actresses\n",
            "A:  theater theater theater theater theater theater theater theater theater theater\n",
            "\n",
            "\n",
            "Model: theater theater theater theater theater theater theater theater theater theater and Actual Answer: theater\n"
          ]
        },
        {
          "output_type": "stream",
          "name": "stderr",
          "text": [
            " 61%|██████▏   | 749/1221 [02:08<01:21,  5.81it/s]"
          ]
        },
        {
          "output_type": "stream",
          "name": "stdout",
          "text": [
            "Q: The homeowner frowned at the price of gas, what did he have to do later?\n",
            "O: own home /// mail property tax payments /// board windows /// cut grass /// receive mail\n",
            "A:  mail property tax payments payments received from the government agency\n",
            "\n",
            "\n",
            "Model: mail property tax payments payments received from the government agency and Actual Answer: cut grass\n",
            "Q: A thoroughfare meandered through fields and woods, where was it passing though?\n",
            "O: move about /// city /// country /// town /// new york city\n",
            "A:  town city city city city city city city city city\n",
            "\n",
            "\n",
            "Model: town city city city city city city city city city and Actual Answer: country\n"
          ]
        },
        {
          "output_type": "stream",
          "name": "stderr",
          "text": [
            " 62%|██████▏   | 751/1221 [02:09<01:20,  5.83it/s]"
          ]
        },
        {
          "output_type": "stream",
          "name": "stdout",
          "text": [
            "Q: If I want a new ottoman, where should I go?\n",
            "O: furniture store /// parlor /// turkey /// living room /// den\n",
            "A:  living room /// living room /// living room\n",
            "\n",
            "\n",
            "Model: living room and Actual Answer: furniture store\n",
            "Q: Sean was leaving work and took the roadway that led to his what?\n",
            "O: neighborhood /// city /// fate /// countryside /// maps\n",
            "A:  countryside countryside countryside countryside countryside countryside countryside countryside countryside countryside\n",
            "\n",
            "\n",
            "Model: countryside countryside countryside countryside countryside countryside countryside countryside countryside countryside and Actual Answer: neighborhood\n"
          ]
        },
        {
          "output_type": "stream",
          "name": "stderr",
          "text": [
            " 62%|██████▏   | 753/1221 [02:09<01:20,  5.85it/s]"
          ]
        },
        {
          "output_type": "stream",
          "name": "stdout",
          "text": [
            "Q: What can you use to get a jellyfish?\n",
            "O: adriatic sea /// mediterranean sea /// hand /// see /// atlantic ocean\n",
            "A:  mediterranean sea sea sea sea sea sea sea sea\n",
            "\n",
            "\n",
            "Model: mediterranean sea sea sea sea sea sea sea sea and Actual Answer: hand\n",
            "Q: What has a shelf that does not allow you to see what is inside of it?\n",
            "O: chest of drawers /// stove /// hold alcohol /// bookcase /// grocery store\n",
            "A:  chest of drawers store store store store store store\n",
            "\n",
            "\n",
            "Model: chest of drawers store store store store store store and Actual Answer: chest of drawers\n"
          ]
        },
        {
          "output_type": "stream",
          "name": "stderr",
          "text": [
            " 62%|██████▏   | 755/1221 [02:09<01:20,  5.76it/s]"
          ]
        },
        {
          "output_type": "stream",
          "name": "stdout",
          "text": [
            "Q: What will likely happen after stabbing to death a person?\n",
            "O: gruesome /// being arrested /// pool of blood /// mess /// grisly\n",
            "A:  grislylylylylylylyly\n",
            "\n",
            "\n",
            "Model: grislylylylylylylyly and Actual Answer: being arrested\n",
            "Q: The boat passenger was explaining his fear of blowfish, but the captain figured he meant piranhas since they were on a river in the what?\n",
            "O: cuba /// styx /// atlantic ocean /// france /// jungle\n",
            "A:  atlantic ocean ocean ocean ocean ocean ocean ocean\n",
            "\n",
            "\n",
            "Model: atlantic ocean ocean ocean ocean ocean ocean ocean and Actual Answer: jungle\n"
          ]
        },
        {
          "output_type": "stream",
          "name": "stderr",
          "text": [
            " 62%|██████▏   | 757/1221 [02:10<01:20,  5.76it/s]"
          ]
        },
        {
          "output_type": "stream",
          "name": "stdout",
          "text": [
            "Q: Where could you find only a few office?\n",
            "O: skyscraper /// new york /// school building /// city /// work\n",
            "A:  city building /// skyscraper building building complex /// skysc\n",
            "\n",
            "\n",
            "Model: city building and Actual Answer: school building\n",
            "Q: Where can I go to be a religious gentleman?\n",
            "O: club /// restaurant /// university /// pub /// church\n",
            "A:  pub club club club club club club club club club\n",
            "\n",
            "\n",
            "Model: pub club club club club club club club club club and Actual Answer: church\n"
          ]
        },
        {
          "output_type": "stream",
          "name": "stderr",
          "text": [
            " 62%|██████▏   | 759/1221 [02:10<01:19,  5.80it/s]"
          ]
        },
        {
          "output_type": "stream",
          "name": "stdout",
          "text": [
            "Q: I want to see a prepared slide up close, what would I use to help?\n",
            "O: microscope /// abbreviate /// glasses /// camera /// telescope\n",
            "A:  telescope telescope telescope telescope telescope telescope telescope telescope telescope telescope\n",
            "\n",
            "\n",
            "Model: telescope telescope telescope telescope telescope telescope telescope telescope telescope telescope and Actual Answer: microscope\n",
            "Q: Where can you buy a magazine, paper or gum?\n",
            "O: bank /// rack /// bed /// newsstand /// bus depot\n",
            "A:  bank depot depot depot depot depot depot depot depot depot\n",
            "\n",
            "\n",
            "Model: bank depot depot depot depot depot depot depot depot depot and Actual Answer: newsstand\n"
          ]
        },
        {
          "output_type": "stream",
          "name": "stderr",
          "text": [
            " 62%|██████▏   | 761/1221 [02:10<01:20,  5.70it/s]"
          ]
        },
        {
          "output_type": "stream",
          "name": "stdout",
          "text": [
            "Q: Where would you get some wood if you do not have any?\n",
            "O: carpet /// boat /// river /// lumberyard /// synagogue\n",
            "A:  lumberyardyardyard /// lumberyardyardyard\n",
            "\n",
            "\n",
            "Model: lumberyardyardyard and Actual Answer: lumberyard\n",
            "Q: The pitcher felt stress and tension on the mound, what did he feel like?\n",
            "O: desert /// baseball field /// hell /// baseball diamond /// baseball stadium\n",
            "A:  baseball field stadium stadium stadium stadium stadium stadium stadium stadium\n",
            "\n",
            "\n",
            "Model: baseball field stadium stadium stadium stadium stadium stadium stadium stadium and Actual Answer: hell\n"
          ]
        },
        {
          "output_type": "stream",
          "name": "stderr",
          "text": [
            " 62%|██████▏   | 763/1221 [02:11<01:20,  5.72it/s]"
          ]
        },
        {
          "output_type": "stream",
          "name": "stdout",
          "text": [
            "Q: What negative effect can competing in a chess game on a cold day have?\n",
            "O: enemies /// perform better /// sweat /// tension /// frostbite\n",
            "A:  tensionbitebitebitebitebitebitebitebitebite\n",
            "\n",
            "\n",
            "Model: tensionbitebitebitebitebitebitebitebitebite and Actual Answer: tension\n",
            "Q: Why is it hard for a young child to read a long book?\n",
            "O: knowledge /// cover /// no pictures /// past /// many words\n",
            "A:  knowledge of past past past past past past past past\n",
            "\n",
            "\n",
            "Model: knowledge of past past past past past past past past and Actual Answer: many words\n"
          ]
        },
        {
          "output_type": "stream",
          "name": "stderr",
          "text": [
            " 63%|██████▎   | 765/1221 [02:11<01:19,  5.73it/s]"
          ]
        },
        {
          "output_type": "stream",
          "name": "stdout",
          "text": [
            "Q: On a hot day what can you do to enjoy something cool and sweet?\n",
            "O: dive /// cool off /// fresh cake /// go for swim /// eat ice cream\n",
            "A:  cool off off off and go for swim for swim\n",
            "\n",
            "\n",
            "Model: cool off off off and go for swim for swim and Actual Answer: eat ice cream\n",
            "Q: What is likely to be found in a book that is not a foreword?\n",
            "O: last word /// conclusion /// ikea instructions /// afterword /// epilogue\n",
            "A:  epilogue instructions are followed by instructions. \n",
            "\n",
            "\n",
            "Model: epilogue instructions are followed by instructions. and Actual Answer: epilogue\n"
          ]
        },
        {
          "output_type": "stream",
          "name": "stderr",
          "text": [
            " 63%|██████▎   | 767/1221 [02:11<01:18,  5.78it/s]"
          ]
        },
        {
          "output_type": "stream",
          "name": "stdout",
          "text": [
            "Q: How many hours are in a day?\n",
            "O: week /// bright /// night /// twenty four /// year\n",
            "A:  night time night time night time night time night time\n",
            "\n",
            "\n",
            "Model: night time night time night time night time night time and Actual Answer: twenty four\n",
            "Q: Why is religion so hard to understand?\n",
            "O: both positive and negative /// unknowable /// important to people /// ocean /// confusing\n",
            "A:  important to people who are both positive and negative and\n",
            "\n",
            "\n",
            "Model: important to people who are both positive and negative and and Actual Answer: confusing\n"
          ]
        },
        {
          "output_type": "stream",
          "name": "stderr",
          "text": [
            " 63%|██████▎   | 769/1221 [02:12<01:17,  5.81it/s]"
          ]
        },
        {
          "output_type": "stream",
          "name": "stdout",
          "text": [
            "Q: The couple explained they were having trouble communicating, it seemed every conversation took great what?\n",
            "O: thinking /// effort /// laugh /// force /// medium\n",
            "A:  effort\n",
            "\n",
            "\n",
            "Model: effort and Actual Answer: effort\n",
            "Q: What would a person need to do if his or her captain dies at sea?\n",
            "O: cross street /// have a party /// experience life /// cross road /// man crew\n",
            "A:  cross road road road road road road road road road\n",
            "\n",
            "\n",
            "Model: cross road road road road road road road road road and Actual Answer: man crew\n"
          ]
        },
        {
          "output_type": "stream",
          "name": "stderr",
          "text": [
            " 63%|██████▎   | 771/1221 [02:12<01:16,  5.87it/s]"
          ]
        },
        {
          "output_type": "stream",
          "name": "stdout",
          "text": [
            "Q: What do children require to grow up healthy?\n",
            "O: need care /// come home /// fast food /// watch television /// wash dishes\n",
            "A:  need caretaker's hand /// need caretaker's\n",
            "\n",
            "\n",
            "Model: need caretaker's hand and Actual Answer: need care\n",
            "Q: I house outside the center of a community is said to be where?\n",
            "O: city /// subdivision /// newspaper /// residential area /// street\n",
            "A:  residential area is said to be where? city area\n",
            "\n",
            "\n",
            "Model: residential area is said to be where? city area and Actual Answer: subdivision\n"
          ]
        },
        {
          "output_type": "stream",
          "name": "stderr",
          "text": [
            " 63%|██████▎   | 773/1221 [02:12<01:16,  5.86it/s]"
          ]
        },
        {
          "output_type": "stream",
          "name": "stdout",
          "text": [
            "Q: The field general began to write out a letter to the king, he was told to send what when the enemy was near?\n",
            "O: syllable /// english alphabet /// word /// email /// invitation\n",
            "A:  syllable word list /// syllable list /// syll\n",
            "\n",
            "\n",
            "Model: syllable word list and Actual Answer: word\n",
            "Q: What will you put on a pen to prevent it from drying out?\n",
            "O: write sentences on paper /// ink in /// ink cartridges /// caps /// cling film\n",
            "A:  ink cartridges in paper cartridges in paper cartridges in paper\n",
            "\n",
            "\n",
            "Model: ink cartridges in paper cartridges in paper cartridges in paper and Actual Answer: caps\n"
          ]
        },
        {
          "output_type": "stream",
          "name": "stderr",
          "text": [
            " 63%|██████▎   | 775/1221 [02:13<01:16,  5.87it/s]"
          ]
        },
        {
          "output_type": "stream",
          "name": "stdout",
          "text": [
            "Q: After climbing the mountains, the explored found the cave, what was the general goegraphy of the region he found it in?\n",
            "O: west virginia /// kentucky /// desert /// sea /// rocky hills\n",
            "A:  kentucky valley valley valley valley valley valley valley\n",
            "\n",
            "\n",
            "Model: kentucky valley valley valley valley valley valley valley and Actual Answer: rocky hills\n",
            "Q: They dealt with combustible mixtures in their experiments, this is why they kept a fire extinguisher where?\n",
            "O: hospital /// chemistry lab /// most businesses /// classroom /// public building\n",
            "A:  public building /// public building /// public building\n",
            "\n",
            "\n",
            "Model: public building and Actual Answer: chemistry lab\n"
          ]
        },
        {
          "output_type": "stream",
          "name": "stderr",
          "text": [
            " 64%|██████▎   | 777/1221 [02:13<01:15,  5.89it/s]"
          ]
        },
        {
          "output_type": "stream",
          "name": "stdout",
          "text": [
            "Q: If someone mean wanted to insult somebody by calling them a fruit, where is probably not the smartest place to do it?\n",
            "O: gay bar /// market /// grocery store /// refrigerator /// container\n",
            "A:  grocery store store store store store store store store store\n",
            "\n",
            "\n",
            "Model: grocery store store store store store store store store store and Actual Answer: gay bar\n",
            "Q: Where would you get a toothpick if you do not have any?\n",
            "O: box /// grocery store /// eyes /// chewing /// mouth\n",
            "A:  mouthpiece /// mouthpiece /// mouthpiece\n",
            "\n",
            "\n",
            "Model: mouthpiece and Actual Answer: grocery store\n"
          ]
        },
        {
          "output_type": "stream",
          "name": "stderr",
          "text": [
            " 64%|██████▍   | 779/1221 [02:13<01:16,  5.76it/s]"
          ]
        },
        {
          "output_type": "stream",
          "name": "stdout",
          "text": [
            "Q: What would you be building if you designed a place for an annoying critter to stay?\n",
            "O: spread disease /// swamp /// fly away /// cat condo /// bug campers\n",
            "A:  cat condoers campers campers campers camp\n",
            "\n",
            "\n",
            "Model: cat condoers campers campers campers camp and Actual Answer: bug campers\n",
            "Q: The man working in the attic swatted away a bee, but soon the single bee was an entire what?\n",
            "O: swarm /// pack /// countryside /// soft drink /// field of flowers\n",
            "A:  swarm of flowers swarm of flowers swarm of flowers swarm\n",
            "\n",
            "\n",
            "Model: swarm of flowers swarm of flowers swarm of flowers swarm and Actual Answer: swarm\n"
          ]
        },
        {
          "output_type": "stream",
          "name": "stderr",
          "text": [
            " 64%|██████▍   | 781/1221 [02:14<01:17,  5.71it/s]"
          ]
        },
        {
          "output_type": "stream",
          "name": "stdout",
          "text": [
            "Q: What do you need to wear when hiking?\n",
            "O: cast iron stomach /// physical exertion /// shin splints /// adventure /// fatigue\n",
            "A:  cast iron stomach and cast iron stomach and cast iron\n",
            "\n",
            "\n",
            "Model: cast iron stomach and cast iron stomach and cast iron and Actual Answer: shin splints\n",
            "Q: What type of store would have lots of sports equipment?\n",
            "O: mall /// office supply store /// school /// sporting goods store /// sporting event\n",
            "A:  sporting goods store store store store store store store store\n",
            "\n",
            "\n",
            "Model: sporting goods store store store store store store store store and Actual Answer: sporting goods store\n"
          ]
        },
        {
          "output_type": "stream",
          "name": "stderr",
          "text": [
            " 64%|██████▍   | 783/1221 [02:14<01:18,  5.61it/s]"
          ]
        },
        {
          "output_type": "stream",
          "name": "stdout",
          "text": [
            "Q: The business man was promoted recently, to celebrate he went where to buy an expensive wristwatch?\n",
            "O: case /// jewelry store /// shopping /// jewelery box /// hock\n",
            "A:  jewelry store store store store store store store store store\n",
            "\n",
            "\n",
            "Model: jewelry store store store store store store store store store and Actual Answer: jewelry store\n",
            "Q: How is a child eager to be going to play likely to get there?\n",
            "O: slowly /// rush /// being entertained /// have fun /// enjoyment\n",
            "A:  enjoying yourself /// enjoying yourself\n",
            "\n",
            "\n",
            "Model: enjoying yourself and Actual Answer: rush\n"
          ]
        },
        {
          "output_type": "stream",
          "name": "stderr",
          "text": [
            " 64%|██████▍   | 785/1221 [02:15<01:17,  5.61it/s]"
          ]
        },
        {
          "output_type": "stream",
          "name": "stdout",
          "text": [
            "Q: There's some new buying products designed to get you money if you have none. The first step is that it will show you how to declare what?\n",
            "O: tax return /// bankruptcy /// pleasure /// debt /// spending money\n",
            "A:  bankruptcy return return return return return return return return return\n",
            "\n",
            "\n",
            "Model: bankruptcy return return return return return return return return return and Actual Answer: bankruptcy\n",
            "Q: Where can you buy a replacement ax handle?\n",
            "O: bathroom /// hardware store /// water fountain /// grocery store /// fridge\n",
            "A:  hardware store store store store store /// hardware store ///\n",
            "\n",
            "\n",
            "Model: hardware store store store store store and Actual Answer: hardware store\n"
          ]
        },
        {
          "output_type": "stream",
          "name": "stderr",
          "text": [
            " 64%|██████▍   | 787/1221 [02:15<01:15,  5.73it/s]"
          ]
        },
        {
          "output_type": "stream",
          "name": "stdout",
          "text": [
            "Q: Is that person acting as silly as a clown?\n",
            "O: make mistakes /// ridiculous /// have no home /// mentally unhinged /// schizophrenia\n",
            "A:  mentally unhinged as silly as silly as silly\n",
            "\n",
            "\n",
            "Model: mentally unhinged as silly as silly as silly and Actual Answer: ridiculous\n",
            "Q: Which group of states is Louisiana part of?\n",
            "O: deep south /// 98 of world's crayfish /// united states /// gulf states /// bible belt\n",
            "A:  united states of america.\n",
            "\n",
            "\n",
            "Model: united states of america. and Actual Answer: gulf states\n"
          ]
        },
        {
          "output_type": "stream",
          "name": "stderr",
          "text": [
            " 65%|██████▍   | 789/1221 [02:15<01:14,  5.78it/s]"
          ]
        },
        {
          "output_type": "stream",
          "name": "stdout",
          "text": [
            "Q: Where would you put a plate immediately after eating from it?\n",
            "O: kitchen cupboard /// floor /// table /// dishwasher /// flea market\n",
            "A:  table cupboard /// table cupboard /// table cup\n",
            "\n",
            "\n",
            "Model: table cupboard and Actual Answer: dishwasher\n",
            "Q: James couldn't get comfortable.  There was too much dirt.  He needed to clean out what?\n",
            "O: ground /// subway /// bank /// bed /// street\n",
            "A:  ground floor floor floor floor floor floor floor floor floor\n",
            "\n",
            "\n",
            "Model: ground floor floor floor floor floor floor floor floor floor and Actual Answer: bed\n"
          ]
        },
        {
          "output_type": "stream",
          "name": "stderr",
          "text": [
            " 65%|██████▍   | 791/1221 [02:16<01:14,  5.80it/s]"
          ]
        },
        {
          "output_type": "stream",
          "name": "stdout",
          "text": [
            "Q: The rats were hiding in the house, where were they?\n",
            "O: sewers /// laboratory /// basement /// clinic /// cellar\n",
            "A:  basement basement basement basement basement basement basement basement basement basement\n",
            "\n",
            "\n",
            "Model: basement basement basement basement basement basement basement basement basement basement and Actual Answer: cellar\n",
            "Q: What do people do when they don't understand something?\n",
            "O: ask questions /// experience joy /// believe in god /// talk to each other /// get sick\n",
            "A:  experience joy in godgodgodgodgodgodgod\n",
            "\n",
            "\n",
            "Model: experience joy in godgodgodgodgodgodgod and Actual Answer: ask questions\n"
          ]
        },
        {
          "output_type": "stream",
          "name": "stderr",
          "text": [
            " 65%|██████▍   | 793/1221 [02:16<01:14,  5.72it/s]"
          ]
        },
        {
          "output_type": "stream",
          "name": "stdout",
          "text": [
            "Q: James saw a kite flying in the sky.  He traced the string back to its origin and found it.  Where did the string begin?\n",
            "O: end of line /// hobby shop /// his hand /// toy store /// child's hand\n",
            "A:  toy store /// toy store /// toy store\n",
            "\n",
            "\n",
            "Model: toy store and Actual Answer: child's hand\n",
            "Q: What rubber toy filled with helium will make a child happy?\n",
            "O: loved /// learn /// eat cake /// balloon /// become adult\n",
            "A:  love cake cake cake cake cake cake cake cake cake\n",
            "\n",
            "\n",
            "Model: love cake cake cake cake cake cake cake cake cake and Actual Answer: balloon\n"
          ]
        },
        {
          "output_type": "stream",
          "name": "stderr",
          "text": [
            " 65%|██████▌   | 795/1221 [02:16<01:13,  5.77it/s]"
          ]
        },
        {
          "output_type": "stream",
          "name": "stdout",
          "text": [
            "Q: Where do people get beer after a bit of gambling?\n",
            "O: bottle /// grocery store /// casino /// spaceship /// hockey game\n",
            "A:  grocery store store store store /// casino casino casino casino\n",
            "\n",
            "\n",
            "Model: grocery store store store store and Actual Answer: casino\n",
            "Q: What can happen to you when you are using television and it is not interesting?\n",
            "O: turn off /// functions /// turning off /// entertainment /// fall asleep\n",
            "A:  turn off off off off off off off off off\n",
            "\n",
            "\n",
            "Model: turn off off off off off off off off off and Actual Answer: fall asleep\n"
          ]
        },
        {
          "output_type": "stream",
          "name": "stderr",
          "text": [
            " 65%|██████▌   | 797/1221 [02:17<01:14,  5.69it/s]"
          ]
        },
        {
          "output_type": "stream",
          "name": "stdout",
          "text": [
            "Q: The business men left the discussion in the dressing room, now they just wanted to relax in the sauna of the what?\n",
            "O: brush hair /// theater /// house /// dwelling /// bathhouse\n",
            "A:  house\n",
            "\n",
            "\n",
            "Model: house and Actual Answer: bathhouse\n",
            "Q: Where is a likely place for an ivy plant?\n",
            "O: flower pot /// shelf /// windowsill /// outside /// sill\n",
            "A:  flower pot /// flower pot /// flower pot\n",
            "\n",
            "\n",
            "Model: flower pot and Actual Answer: outside\n"
          ]
        },
        {
          "output_type": "stream",
          "name": "stderr",
          "text": [
            " 65%|██████▌   | 799/1221 [02:17<01:13,  5.73it/s]"
          ]
        },
        {
          "output_type": "stream",
          "name": "stdout",
          "text": [
            "Q: Where has the newest baseball stadium?\n",
            "O: phoenix /// chicago /// antarctica /// san francisco /// urban areas\n",
            "A:  san francisco colisco colisco colisco col\n",
            "\n",
            "\n",
            "Model: san francisco colisco colisco colisco col and Actual Answer: phoenix\n",
            "Q: What type of residence has a ground floor with a stoop?\n",
            "O: brownstone /// hotel /// condominium /// entering building /// office building\n",
            "A:  hotel building complex building complex building complex building complex building\n",
            "\n",
            "\n",
            "Model: hotel building complex building complex building complex building complex building and Actual Answer: brownstone\n"
          ]
        },
        {
          "output_type": "stream",
          "name": "stderr",
          "text": [
            " 66%|██████▌   | 801/1221 [02:17<01:13,  5.74it/s]"
          ]
        },
        {
          "output_type": "stream",
          "name": "stdout",
          "text": [
            "Q: If the wood texture is not smooth it is what?\n",
            "O: gilded /// porous /// solid /// painted /// less dense than water\n",
            "A:  porous than waterless than waterless than waterless\n",
            "\n",
            "\n",
            "Model: porous than waterless than waterless than waterless and Actual Answer: porous\n",
            "Q: What might happen if someone is not losing weight?\n",
            "O: loose skin /// beauty /// miss universe /// death /// healthier\n",
            "A:  loose skin skin skin skin skin skin skin skin skin\n",
            "\n",
            "\n",
            "Model: loose skin skin skin skin skin skin skin skin skin and Actual Answer: death\n"
          ]
        },
        {
          "output_type": "stream",
          "name": "stderr",
          "text": [
            " 66%|██████▌   | 803/1221 [02:18<01:12,  5.78it/s]"
          ]
        },
        {
          "output_type": "stream",
          "name": "stdout",
          "text": [
            "Q: Billy lived in the capital of his country, then he moved.  Where might he move to?\n",
            "O: small town /// jail /// lower case /// contain governmental activities /// lowercase\n",
            "A:  small town town town town town town town town town\n",
            "\n",
            "\n",
            "Model: small town town town town town town town town town and Actual Answer: small town\n",
            "Q: Making a schedule was easy to pick, the major called for knowledge that required a certain what?\n",
            "O: color /// class /// meeting /// university /// encyclopedia\n",
            "A:  class meeting class meeting class meeting class meeting class meeting\n",
            "\n",
            "\n",
            "Model: class meeting class meeting class meeting class meeting class meeting and Actual Answer: class\n"
          ]
        },
        {
          "output_type": "stream",
          "name": "stderr",
          "text": [
            " 66%|██████▌   | 805/1221 [02:18<01:11,  5.83it/s]"
          ]
        },
        {
          "output_type": "stream",
          "name": "stdout",
          "text": [
            "Q: When getting in shape, this is something that does wonders?\n",
            "O: eat more /// starve /// give up /// period of recovery /// jogging\n",
            "A:  period of recovery from recovery from illness /// period of\n",
            "\n",
            "\n",
            "Model: period of recovery from recovery from illness and Actual Answer: jogging\n",
            "Q: What could prevent a driving car from continuing to drive?\n",
            "O: automobile accidents /// backache /// pollution /// smoke /// low fuel tank\n",
            "A:  backacheting car accidents and pollution tanks tank accidents\n",
            "\n",
            "\n",
            "Model: backacheting car accidents and pollution tanks tank accidents and Actual Answer: automobile accidents\n"
          ]
        },
        {
          "output_type": "stream",
          "name": "stderr",
          "text": [
            " 66%|██████▌   | 807/1221 [02:18<01:10,  5.86it/s]"
          ]
        },
        {
          "output_type": "stream",
          "name": "stdout",
          "text": [
            "Q: Where do you store a large container?\n",
            "O: supermarket /// factory /// juice /// hostel /// cabinet\n",
            "A:  supermarket supermarket supermarket supermarket supermarket supermarket supermarket supermarket supermarket supermarket\n",
            "\n",
            "\n",
            "Model: supermarket supermarket supermarket supermarket supermarket supermarket supermarket supermarket supermarket supermarket and Actual Answer: cabinet\n",
            "Q: What is a person likely to experience after they stop being married to a mean person?\n",
            "O: isolation /// grief /// happiness /// relief /// angry\n",
            "A:  relief relief relief relief relief relief relief relief relief relief\n",
            "\n",
            "\n",
            "Model: relief relief relief relief relief relief relief relief relief relief and Actual Answer: happiness\n"
          ]
        },
        {
          "output_type": "stream",
          "name": "stderr",
          "text": [
            " 66%|██████▋   | 809/1221 [02:19<01:10,  5.88it/s]"
          ]
        },
        {
          "output_type": "stream",
          "name": "stdout",
          "text": [
            "Q: Despite the large crowds, how did the depressed man feel?\n",
            "O: small group /// alone /// solitary /// solitude /// panic\n",
            "A:  alone group of people /// solitary group of people ///\n",
            "\n",
            "\n",
            "Model: alone group of people and Actual Answer: solitary\n",
            "Q: Where does a maid empty a trash can?\n",
            "O: bus stop /// corner /// hockey game /// motel /// alley\n",
            "A:  alleyway stop stop stop stop stop stop stop stop\n",
            "\n",
            "\n",
            "Model: alleyway stop stop stop stop stop stop stop stop and Actual Answer: motel\n"
          ]
        },
        {
          "output_type": "stream",
          "name": "stderr",
          "text": [
            " 66%|██████▋   | 811/1221 [02:19<01:10,  5.86it/s]"
          ]
        },
        {
          "output_type": "stream",
          "name": "stdout",
          "text": [
            "Q: The dog curled up for a nap, it was tuckered out because it had just been what?\n",
            "O: walked /// petted /// affection /// go outside /// scratch\n",
            "A:  petted out petted out for napsterted\n",
            "\n",
            "\n",
            "Model: petted out petted out for napsterted and Actual Answer: walked\n",
            "Q: He used an umbrella while tanning, where was he likely?\n",
            "O: waves /// seattle /// suitcase /// beach /// jacket closet\n",
            "A:  beach closet closet closet closet closet closet closet closet closet\n",
            "\n",
            "\n",
            "Model: beach closet closet closet closet closet closet closet closet closet and Actual Answer: beach\n"
          ]
        },
        {
          "output_type": "stream",
          "name": "stderr",
          "text": [
            " 67%|██████▋   | 813/1221 [02:19<01:10,  5.75it/s]"
          ]
        },
        {
          "output_type": "stream",
          "name": "stdout",
          "text": [
            "Q: What do the feathers look like on birds found in the rainforest?\n",
            "O: pretty smart /// singing /// dark /// very colorful /// light\n",
            "A:  dark colorful colorful colorful colorful colorful colorful colorful colorful colorful\n",
            "\n",
            "\n",
            "Model: dark colorful colorful colorful colorful colorful colorful colorful colorful colorful and Actual Answer: very colorful\n",
            "Q: The ancient seafaring Norse tribesman brought pelts of weasel aboard his what?\n",
            "O: rabbit warren /// used car lot /// chicken coop /// cruise /// viking ship\n",
            "A:  used car lot lot lot lot lot lot lot lot\n",
            "\n",
            "\n",
            "Model: used car lot lot lot lot lot lot lot lot and Actual Answer: viking ship\n"
          ]
        },
        {
          "output_type": "stream",
          "name": "stderr",
          "text": [
            " 67%|██████▋   | 815/1221 [02:20<01:10,  5.78it/s]"
          ]
        },
        {
          "output_type": "stream",
          "name": "stdout",
          "text": [
            "Q: What is the opposite of an area of elevation?\n",
            "O: disgust /// reduction /// depression /// demotion /// diminishment\n",
            "A:  diminishment of elevation of elevation of elevation of elevation\n",
            "\n",
            "\n",
            "Model: diminishment of elevation of elevation of elevation of elevation and Actual Answer: depression\n",
            "Q: What do singers need to do before a show?\n",
            "O: warm up /// use microphones /// clear throats /// create music /// sound beautiful\n",
            "A:  create music /// create music /// create music\n",
            "\n",
            "\n",
            "Model: create music and Actual Answer: warm up\n"
          ]
        },
        {
          "output_type": "stream",
          "name": "stderr",
          "text": [
            " 67%|██████▋   | 817/1221 [02:20<01:09,  5.83it/s]"
          ]
        },
        {
          "output_type": "stream",
          "name": "stdout",
          "text": [
            "Q: When a person with mental illness receives medication and therapy, what has happened?\n",
            "O: cause irrational behaviour /// recur /// effectively treated /// managed /// cause suffering\n",
            "A:  recur /// recur\n",
            "\n",
            "\n",
            "Model: recur and Actual Answer: effectively treated\n",
            "Q: What type of feeling is performing for the first time likely to produce?\n",
            "O: action /// butterflies /// happiness /// a sense of calm /// anxiety\n",
            "A:  anxiety and butterflies butterflies butterflies butterflies butterflies butterflies butterflies butterflies\n",
            "\n",
            "\n",
            "Model: anxiety and butterflies butterflies butterflies butterflies butterflies butterflies butterflies butterflies and Actual Answer: anxiety\n"
          ]
        },
        {
          "output_type": "stream",
          "name": "stderr",
          "text": [
            " 67%|██████▋   | 819/1221 [02:20<01:09,  5.80it/s]"
          ]
        },
        {
          "output_type": "stream",
          "name": "stdout",
          "text": [
            "Q: If someone is found to be committing murder, what did they do to someone?\n",
            "O: misery /// kill /// distress /// tickel /// go to jail\n",
            "A:  go to jail /// go to jail /// go to\n",
            "\n",
            "\n",
            "Model: go to jail and Actual Answer: kill\n",
            "Q: The computer was hooked up to the internet, what could it do as a result?\n",
            "O: process information /// believe in god /// make decisions /// process information /// receive data\n",
            "A:  process information information information information information information information information information\n",
            "\n",
            "\n",
            "Model: process information information information information information information information information information and Actual Answer: receive data\n"
          ]
        },
        {
          "output_type": "stream",
          "name": "stderr",
          "text": [
            " 67%|██████▋   | 821/1221 [02:21<01:09,  5.78it/s]"
          ]
        },
        {
          "output_type": "stream",
          "name": "stdout",
          "text": [
            "Q: The planet Mercury is unsuitable for human life or what?\n",
            "O: toxic /// uninhabitable /// mercury sulphide /// poisonous /// jupiter\n",
            "A:  poisonous poisonous poisonous poisonous poisonous poisonous poisonous poisonous poisonous poisonous\n",
            "\n",
            "\n",
            "Model: poisonous poisonous poisonous poisonous poisonous poisonous poisonous poisonous poisonous poisonous and Actual Answer: uninhabitable\n",
            "Q: Seeing idea become reality was a dream of hers for a long time, but as the time came to get on stage she had more what?\n",
            "O: build /// anxiety /// celebrate /// very nice /// ocean\n",
            "A:  excitement and happiness and happiness and happiness and happiness and\n",
            "\n",
            "\n",
            "Model: excitement and happiness and happiness and happiness and happiness and and Actual Answer: anxiety\n"
          ]
        },
        {
          "output_type": "stream",
          "name": "stderr",
          "text": [
            " 67%|██████▋   | 823/1221 [02:21<01:08,  5.77it/s]"
          ]
        },
        {
          "output_type": "stream",
          "name": "stdout",
          "text": [
            "Q: A creek could be located in the opposite for the city which is called what?\n",
            "O: meadow /// stick /// valley /// forest /// countryside\n",
            "A:  meadow valley valley valley valley valley valley valley valley\n",
            "\n",
            "\n",
            "Model: meadow valley valley valley valley valley valley valley valley and Actual Answer: countryside\n",
            "Q: Where off the eastern U.S. would you find an anemone?\n",
            "O: flower bed /// tide pool /// florida keys /// coral sea /// aquarium\n",
            "A:  flower bed pool pool pool pool pool pool pool pool\n",
            "\n",
            "\n",
            "Model: flower bed pool pool pool pool pool pool pool pool and Actual Answer: florida keys\n"
          ]
        },
        {
          "output_type": "stream",
          "name": "stderr",
          "text": [
            " 68%|██████▊   | 825/1221 [02:21<01:08,  5.77it/s]"
          ]
        },
        {
          "output_type": "stream",
          "name": "stdout",
          "text": [
            "Q: Where are traveling clothes often kept?\n",
            "O: suitcase /// bedroom /// closet /// draws /// dresser\n",
            "A:  suitcase drawer drawer drawer drawer drawer drawer drawer drawer drawer\n",
            "\n",
            "\n",
            "Model: suitcase drawer drawer drawer drawer drawer drawer drawer drawer drawer and Actual Answer: suitcase\n",
            "Q: If one needed the bathroom they needed a key, to get it they had to also buy something from the what?\n",
            "O: school /// convenience store /// rest area /// mall /// theater\n",
            "A:  mall mall mall mall mall mall mall mall mall mall\n",
            "\n",
            "\n",
            "Model: mall mall mall mall mall mall mall mall mall mall and Actual Answer: convenience store\n"
          ]
        },
        {
          "output_type": "stream",
          "name": "stderr",
          "text": [
            " 68%|██████▊   | 827/1221 [02:22<01:07,  5.85it/s]"
          ]
        },
        {
          "output_type": "stream",
          "name": "stdout",
          "text": [
            "Q: Although the sun did rise, what did the pessimist warn everyone it would do?\n",
            "O: lay /// go down /// fall /// below /// sundown\n",
            "A:  fall down down down down down down down down down\n",
            "\n",
            "\n",
            "Model: fall down down down down down down down down down and Actual Answer: go down\n",
            "Q: The hardcovers were especially tall, so he removed a shelf on the what to make room?\n",
            "O: chest of drawers /// grocery store /// hold alcohol /// nightstand /// bookcase\n",
            "A:  chest of drawers /// bookcase of drawers\n",
            "\n",
            "\n",
            "Model: chest of drawers and Actual Answer: bookcase\n"
          ]
        },
        {
          "output_type": "stream",
          "name": "stderr",
          "text": [
            " 68%|██████▊   | 829/1221 [02:22<01:06,  5.86it/s]"
          ]
        },
        {
          "output_type": "stream",
          "name": "stdout",
          "text": [
            "Q: If you're watching a comedy film what would you expect to hear from the audience?\n",
            "O: park /// insight /// being entertained /// laughter /// fear\n",
            "A:  laughter and laughter and laughter /// laughter and laughter ///\n",
            "\n",
            "\n",
            "Model: laughter and laughter and laughter and Actual Answer: laughter\n",
            "Q: What can eating lunch cause that is painful?\n",
            "O: headache /// bad breath /// heartburn /// gain weight /// farts\n",
            "A:  heartburn /// heartburn\n",
            "\n",
            "\n",
            "Model: heartburn and Actual Answer: heartburn\n"
          ]
        },
        {
          "output_type": "stream",
          "name": "stderr",
          "text": [
            " 68%|██████▊   | 831/1221 [02:22<01:07,  5.81it/s]"
          ]
        },
        {
          "output_type": "stream",
          "name": "stdout",
          "text": [
            "Q: The performer was ready to put on a show and stepped onto the launch platform, what was his job?\n",
            "O: cape canaveral florida /// nasa /// battleship /// ocean /// trapeze\n",
            "A:  battleship canaveral florida flor\n",
            "\n",
            "\n",
            "Model: battleship canaveral florida flor and Actual Answer: trapeze\n",
            "Q: Eating is part of living, but your body doesn't use it all and the next day you will be doing what?\n",
            "O: reduced /// getting full /// becoming full /// chewing /// defecating\n",
            "A:  defecating\n",
            "\n",
            "\n",
            "Model: defecating and Actual Answer: defecating\n"
          ]
        },
        {
          "output_type": "stream",
          "name": "stderr",
          "text": [
            " 68%|██████▊   | 833/1221 [02:23<01:07,  5.77it/s]"
          ]
        },
        {
          "output_type": "stream",
          "name": "stdout",
          "text": [
            "Q: Where are you if you've paid to get a pizza?\n",
            "O: popular /// baked in oven /// restaurant /// oven /// plate\n",
            "A:  restaurant restaurant restaurant restaurant restaurant restaurant restaurant restaurant restaurant restaurant\n",
            "\n",
            "\n",
            "Model: restaurant restaurant restaurant restaurant restaurant restaurant restaurant restaurant restaurant restaurant and Actual Answer: restaurant\n",
            "Q: What would you use to find a place to stay?\n",
            "O: mexico /// phone book /// town /// city /// sun dial\n",
            "A:  town or city or city or city or city or\n",
            "\n",
            "\n",
            "Model: town or city or city or city or city or and Actual Answer: phone book\n"
          ]
        },
        {
          "output_type": "stream",
          "name": "stderr",
          "text": [
            " 68%|██████▊   | 835/1221 [02:23<01:08,  5.62it/s]"
          ]
        },
        {
          "output_type": "stream",
          "name": "stdout",
          "text": [
            "Q: If you're seeking a connection for your laptop, what are you trying to hook up with?\n",
            "O: computer network /// electrical circuit /// lineage /// company /// wall\n",
            "A:  company network network network network network network network network network\n",
            "\n",
            "\n",
            "Model: company network network network network network network network network network and Actual Answer: computer network\n",
            "Q: The child didn't know the problems his mother was going through, all he had was what for her?\n",
            "O: care /// balloon /// loved /// become adult /// learn\n",
            "A:  caretaker's caretaker's caretaker's care\n",
            "\n",
            "\n",
            "Model: caretaker's caretaker's caretaker's care and Actual Answer: loved\n"
          ]
        },
        {
          "output_type": "stream",
          "name": "stderr",
          "text": [
            " 69%|██████▊   | 837/1221 [02:24<01:08,  5.63it/s]"
          ]
        },
        {
          "output_type": "stream",
          "name": "stdout",
          "text": [
            "Q: To see new films you must?\n",
            "O: open eyes /// go to movies /// kick ball /// make art /// look for\n",
            "A:  open eyes and open eyes and open eyes and open\n",
            "\n",
            "\n",
            "Model: open eyes and open eyes and open eyes and open and Actual Answer: go to movies\n",
            "Q: What can happen when you contemplate alone for a long time?\n",
            "O: daydream /// headache /// get ideas /// sleep /// become distracted\n",
            "A:  become distracted by ideas for long time.  become\n",
            "\n",
            "\n",
            "Model: become distracted by ideas for long time.  become and Actual Answer: daydream\n"
          ]
        },
        {
          "output_type": "stream",
          "name": "stderr",
          "text": [
            " 69%|██████▊   | 839/1221 [02:24<01:06,  5.78it/s]"
          ]
        },
        {
          "output_type": "stream",
          "name": "stdout",
          "text": [
            "Q: The pioneer went to the general store for storage measures, what was he looking for?\n",
            "O: checkers /// barrels /// baking soda /// buffalo /// salt\n",
            "A:  barrels barrels barrels barrels barrels barrels barrels barrels barrels barrels\n",
            "\n",
            "\n",
            "Model: barrels barrels barrels barrels barrels barrels barrels barrels barrels barrels and Actual Answer: barrels\n",
            "Q: I was apprehensive to buy the expensive equipment to play a game with so much walking and swinging around in grass, but now I understand why people what?\n",
            "O: care less /// play golf /// shake hands /// believe in god /// trip over\n",
            "A:  play golf golf golf golf golf golf golf golf golf\n",
            "\n",
            "\n",
            "Model: play golf golf golf golf golf golf golf golf golf and Actual Answer: play golf\n"
          ]
        },
        {
          "output_type": "stream",
          "name": "stderr",
          "text": [
            " 69%|██████▉   | 841/1221 [02:24<01:04,  5.85it/s]"
          ]
        },
        {
          "output_type": "stream",
          "name": "stdout",
          "text": [
            "Q: What can a newspaper be used to do to an engagement?\n",
            "O: announce /// communicate /// educate /// inform /// cancel\n",
            "A:  informations informations and cancelate engagements with engagements\n",
            "\n",
            "\n",
            "Model: informations informations and cancelate engagements with engagements and Actual Answer: announce\n",
            "Q: John needed a straight wire.  Unfortunately, this one had endured some abuse and had become what?\n",
            "O: bent /// bent /// crooked /// straightforth /// curved\n",
            "A:  bentwardly bentwardly bentwardly bent\n",
            "\n",
            "\n",
            "Model: bentwardly bentwardly bentwardly bent and Actual Answer: bent\n"
          ]
        },
        {
          "output_type": "stream",
          "name": "stderr",
          "text": [
            " 69%|██████▉   | 843/1221 [02:25<01:04,  5.89it/s]"
          ]
        },
        {
          "output_type": "stream",
          "name": "stdout",
          "text": [
            "Q: Metal is taken from what which is pulled from the ground?\n",
            "O: dirt /// instruments /// ore /// car /// junkyard\n",
            "A:  ore ore ore ore ore ore ore ore ore ore\n",
            "\n",
            "\n",
            "Model: ore ore ore ore ore ore ore ore ore ore and Actual Answer: ore\n",
            "Q: When not in use where on your property would you store you bucket?\n",
            "O: utility closet /// outside /// well /// garden shed /// garage\n",
            "A:  utility closet /// utility closet /// utility closet\n",
            "\n",
            "\n",
            "Model: utility closet and Actual Answer: garden shed\n"
          ]
        },
        {
          "output_type": "stream",
          "name": "stderr",
          "text": [
            " 69%|██████▉   | 845/1221 [02:25<01:06,  5.69it/s]"
          ]
        },
        {
          "output_type": "stream",
          "name": "stdout",
          "text": [
            "Q: What does someone do to relax at night?\n",
            "O: find time /// check mail /// listen to music /// go to bed /// stop worrying\n",
            "A:  stop worrying about music at night /// stop worrying about\n",
            "\n",
            "\n",
            "Model: stop worrying about music at night and Actual Answer: go to bed\n",
            "Q: Where might the stapler be if I cannot find it?\n",
            "O: office building /// office supply store /// desk drawer /// with dwight /// desktop\n",
            "A:  office supply store /// office supply store /// office supply\n",
            "\n",
            "\n",
            "Model: office supply store and Actual Answer: desk drawer\n"
          ]
        },
        {
          "output_type": "stream",
          "name": "stderr",
          "text": [
            " 69%|██████▉   | 847/1221 [02:25<01:05,  5.67it/s]"
          ]
        },
        {
          "output_type": "stream",
          "name": "stdout",
          "text": [
            "Q: Many homes in this country are built around a courtyard. Where is it?\n",
            "O: candidate /// spain /// lawn /// asshole /// office complex\n",
            "A:  candidate candidate candidate candidate candidate candidate candidate candidate candidate candidate\n",
            "\n",
            "\n",
            "Model: candidate candidate candidate candidate candidate candidate candidate candidate candidate candidate and Actual Answer: spain\n",
            "Q: Sean was a wreck.  He  loved to build houses, but in his current state, he couldn't do what?\n",
            "O: stand up /// produce /// construct /// make /// build\n",
            "A:  construct construct /// construct\n",
            "\n",
            "\n",
            "Model: construct construct and Actual Answer: construct\n"
          ]
        },
        {
          "output_type": "stream",
          "name": "stderr",
          "text": [
            " 70%|██████▉   | 849/1221 [02:26<01:05,  5.69it/s]"
          ]
        },
        {
          "output_type": "stream",
          "name": "stdout",
          "text": [
            "Q: What would be happening if you are pretending to be a police officer?\n",
            "O: fighting /// misunderstanding /// deception /// play /// distrust\n",
            "A:  misunderstanding or misunderstanding or misunderstanding or misunderstanding or misunderstanding or\n",
            "\n",
            "\n",
            "Model: misunderstanding or misunderstanding or misunderstanding or misunderstanding or misunderstanding or and Actual Answer: deception\n",
            "Q: Where would you buy a finely crafted writing instrument?\n",
            "O: nasa /// classroom /// stationery store /// purse /// office supply store\n",
            "A:  stationery store store store store store store store store\n",
            "\n",
            "\n",
            "Model: stationery store store store store store store store store and Actual Answer: stationery store\n"
          ]
        },
        {
          "output_type": "stream",
          "name": "stderr",
          "text": [
            " 70%|██████▉   | 851/1221 [02:26<01:03,  5.81it/s]"
          ]
        },
        {
          "output_type": "stream",
          "name": "stdout",
          "text": [
            "Q: The detective was finding information from witnesses, why would he do that?\n",
            "O: fun /// ulcers /// get answers /// happiness /// power\n",
            "A:  get answers from witnesses /// get answers from witnesses ///\n",
            "\n",
            "\n",
            "Model: get answers from witnesses and Actual Answer: get answers\n",
            "Q: Joe found spiders in the place where he keeps his tools.  Where might that be?\n",
            "O: cupboard /// toolbox /// closet /// garage /// mail box\n",
            "A:  garage garage garage garage garage garage garage garage garage garage\n",
            "\n",
            "\n",
            "Model: garage garage garage garage garage garage garage garage garage garage and Actual Answer: garage\n"
          ]
        },
        {
          "output_type": "stream",
          "name": "stderr",
          "text": [
            " 70%|██████▉   | 853/1221 [02:26<01:03,  5.80it/s]"
          ]
        },
        {
          "output_type": "stream",
          "name": "stdout",
          "text": [
            "Q: While on the fan boat he thought he'd see swamps and gators, but he was surprised to spot a bald eagle in what nature area?\n",
            "O: everglades /// high places /// natural habitat /// new york /// colorado\n",
            "A:  natural habitat habitat habitat habitat habitat habitat habitat habitat habitat\n",
            "\n",
            "\n",
            "Model: natural habitat habitat habitat habitat habitat habitat habitat habitat habitat and Actual Answer: everglades\n",
            "Q: Where are you likely to find a supermarket?\n",
            "O: buy food for family /// city or town /// get supplies /// strip mall /// vermont\n",
            "A:  strip mall or town or town or town town town\n",
            "\n",
            "\n",
            "Model: strip mall or town or town or town town town and Actual Answer: city or town\n"
          ]
        },
        {
          "output_type": "stream",
          "name": "stderr",
          "text": [
            " 70%|███████   | 855/1221 [02:27<01:03,  5.75it/s]"
          ]
        },
        {
          "output_type": "stream",
          "name": "stdout",
          "text": [
            "Q: Where would you need to use a lantern?\n",
            "O: grocery store /// antique shop /// house /// dark place /// street\n",
            "A:  house store store store store store store store store store\n",
            "\n",
            "\n",
            "Model: house store store store store store store store store store and Actual Answer: dark place\n",
            "Q: What area does a police officer patrol?\n",
            "O: direct traffic /// city /// beat /// street /// park\n",
            "A:  street street street street street street street street street street\n",
            "\n",
            "\n",
            "Model: street street street street street street street street street street and Actual Answer: beat\n"
          ]
        },
        {
          "output_type": "stream",
          "name": "stderr",
          "text": [
            " 70%|███████   | 857/1221 [02:27<01:02,  5.80it/s]"
          ]
        },
        {
          "output_type": "stream",
          "name": "stdout",
          "text": [
            "Q: Why would a woman kill a stranger she met in a dark alley?\n",
            "O: being raped /// get rid of /// they didn't know the passcode /// get revenge /// were evil\n",
            "A:  they didn't know the passcode passcode pass\n",
            "\n",
            "\n",
            "Model: they didn't know the passcode passcode pass and Actual Answer: being raped\n",
            "Q: The baby was cranky, it needed to eat breakfast but refused to what?\n",
            "O: buy food /// open mouth /// get out of bed /// cry /// wake up\n",
            "A:  get out of bed and get out of bed and\n",
            "\n",
            "\n",
            "Model: get out of bed and get out of bed and and Actual Answer: open mouth\n"
          ]
        },
        {
          "output_type": "stream",
          "name": "stderr",
          "text": [
            " 70%|███████   | 859/1221 [02:27<01:02,  5.80it/s]"
          ]
        },
        {
          "output_type": "stream",
          "name": "stdout",
          "text": [
            "Q: What is made up of people?\n",
            "O: buildings /// audience /// apartment /// classroom /// falling down\n",
            "A:  buildings and classrooms and classrooms and classrooms and classrooms and\n",
            "\n",
            "\n",
            "Model: buildings and classrooms and classrooms and classrooms and classrooms and and Actual Answer: audience\n",
            "Q: He was afraid he would die from his cold, so he wisely decided to what?\n",
            "O: ocean /// write will /// never want /// were shot /// seek help\n",
            "A:  seek help /// seek help /// seek help\n",
            "\n",
            "\n",
            "Model: seek help and Actual Answer: seek help\n"
          ]
        },
        {
          "output_type": "stream",
          "name": "stderr",
          "text": [
            " 71%|███████   | 861/1221 [02:28<01:02,  5.73it/s]"
          ]
        },
        {
          "output_type": "stream",
          "name": "stdout",
          "text": [
            "Q: Where would you get a pen if you do not have one?\n",
            "O: briefcase /// desk drawer /// friend's house /// pocket /// sidewalk\n",
            "A:  briefcase drawer drawer drawer drawer drawer drawer drawer drawer\n",
            "\n",
            "\n",
            "Model: briefcase drawer drawer drawer drawer drawer drawer drawer drawer and Actual Answer: friend's house\n",
            "Q: Why would a small dog pant if it's hot outside?\n",
            "O: outside /// europe /// heat /// wet /// dog show\n",
            "A:  warm outside /// warm outside /// warm outside\n",
            "\n",
            "\n",
            "Model: warm outside and Actual Answer: heat\n"
          ]
        },
        {
          "output_type": "stream",
          "name": "stderr",
          "text": [
            " 71%|███████   | 863/1221 [02:28<01:02,  5.73it/s]"
          ]
        },
        {
          "output_type": "stream",
          "name": "stdout",
          "text": [
            "Q: She asked her little boy why, he replied that he didn't know and it was just what?\n",
            "O: case /// reason /// how /// because /// answer\n",
            "A:  reason why why why why why why why why why\n",
            "\n",
            "\n",
            "Model: reason why why why why why why why why why and Actual Answer: because\n",
            "Q: Where would you display a picture on a horizontal surface?\n",
            "O: microwave /// desktop /// shelf /// art show /// wall\n",
            "A:  desktop shelf /// desktop shelf /// desktop shelf\n",
            "\n",
            "\n",
            "Model: desktop shelf and Actual Answer: shelf\n"
          ]
        },
        {
          "output_type": "stream",
          "name": "stderr",
          "text": [
            " 71%|███████   | 865/1221 [02:28<01:01,  5.76it/s]"
          ]
        },
        {
          "output_type": "stream",
          "name": "stdout",
          "text": [
            "Q: What skill is needed for riding a bike?\n",
            "O: wheels /// feet /// pedalling /// practice /// good balance\n",
            "A:  pedalling a bike wheel or pedaling wheel or\n",
            "\n",
            "\n",
            "Model: pedalling a bike wheel or pedaling wheel or and Actual Answer: good balance\n",
            "Q: He looked at the field of pumps, all slowing churning oil out of the what?\n",
            "O: manual /// street /// restaurant /// ground /// service station\n",
            "A:  ground station station station station station station station station station\n",
            "\n",
            "\n",
            "Model: ground station station station station station station station station station and Actual Answer: ground\n"
          ]
        },
        {
          "output_type": "stream",
          "name": "stderr",
          "text": [
            " 71%|███████   | 867/1221 [02:29<01:01,  5.80it/s]"
          ]
        },
        {
          "output_type": "stream",
          "name": "stdout",
          "text": [
            "Q: The department to where vendors deliver goods for sale is called what?\n",
            "O: delivered /// take away /// receiving /// pick up /// keep\n",
            "A:  deliver goods for sale /// deliver goods for sale ///\n",
            "\n",
            "\n",
            "Model: deliver goods for sale and Actual Answer: receiving\n",
            "Q: Where is the worst place to be in a ticket office?\n",
            "O: at the top /// movie theaters /// train station /// end of line /// opera house\n",
            "A:  train station station station station station station station station station\n",
            "\n",
            "\n",
            "Model: train station station station station station station station station station and Actual Answer: end of line\n"
          ]
        },
        {
          "output_type": "stream",
          "name": "stderr",
          "text": [
            " 71%|███████   | 869/1221 [02:29<01:00,  5.83it/s]"
          ]
        },
        {
          "output_type": "stream",
          "name": "stdout",
          "text": [
            "Q: Exercise is very good for you, for faster recovery you should always do what afterwards?\n",
            "O: stretch /// lower cholesterol /// weigh /// track /// expend energy\n",
            "A:  expend energy\n",
            "\n",
            "\n",
            "Model: expend energy and Actual Answer: stretch\n",
            "Q: What happens when you go somewhere and forget something at home?\n",
            "O: arriving /// arrive there /// turn around /// go back /// fart\n",
            "A:  arrive there /// arrive there /// arrive there\n",
            "\n",
            "\n",
            "Model: arrive there and Actual Answer: go back\n"
          ]
        },
        {
          "output_type": "stream",
          "name": "stderr",
          "text": [
            " 71%|███████▏  | 871/1221 [02:29<01:00,  5.79it/s]"
          ]
        },
        {
          "output_type": "stream",
          "name": "stdout",
          "text": [
            "Q: Where would you acquire a wind instrument for you own use?\n",
            "O: band practice /// concert /// music store /// symphony /// music room\n",
            "A:  music store store store store store store store store.\n",
            "\n",
            "\n",
            "Model: music store store store store store store store store. and Actual Answer: music store\n",
            "Q: Where would a person light alcohol on fire to observe the reaction?\n",
            "O: supermarket /// bar /// pub /// restaurants /// chemistry lab\n",
            "A:  restaurant restaurant restaurant restaurant restaurant restaurant restaurant restaurant restaurant restaurant\n",
            "\n",
            "\n",
            "Model: restaurant restaurant restaurant restaurant restaurant restaurant restaurant restaurant restaurant restaurant and Actual Answer: chemistry lab\n"
          ]
        },
        {
          "output_type": "stream",
          "name": "stderr",
          "text": [
            " 71%|███████▏  | 873/1221 [02:30<01:00,  5.73it/s]"
          ]
        },
        {
          "output_type": "stream",
          "name": "stdout",
          "text": [
            "Q: If a storey contained a panoramic view, what kind of structure would it be in?\n",
            "O: horizontal room /// storey book /// mall /// tall building /// book of stories\n",
            "A:  tall building /// tall building /// tall building\n",
            "\n",
            "\n",
            "Model: tall building and Actual Answer: tall building\n",
            "Q: Where does lettuce arrive by large trucks?\n",
            "O: kitchen /// supermarket /// farmer's market /// salad /// refrigerator\n",
            "A:  supermarket market market market market market market market market market\n",
            "\n",
            "\n",
            "Model: supermarket market market market market market market market market market and Actual Answer: supermarket\n"
          ]
        },
        {
          "output_type": "stream",
          "name": "stderr",
          "text": [
            " 72%|███████▏  | 875/1221 [02:30<01:00,  5.76it/s]"
          ]
        },
        {
          "output_type": "stream",
          "name": "stdout",
          "text": [
            "Q: Why do people who are dying receive social security payments?\n",
            "O: rejuvenation /// born again /// no longer exist /// unable to work /// change of color\n",
            "A:  no longer existent existent existenceent existenceent\n",
            "\n",
            "\n",
            "Model: no longer existent existent existenceent existenceent and Actual Answer: unable to work\n",
            "Q: What should I do with a jumping rope?\n",
            "O: fatigue /// sweating /// get tired /// tiredness /// hopping\n",
            "A:  sweating and sweating and sweating are tiredness are tired\n",
            "\n",
            "\n",
            "Model: sweating and sweating and sweating are tiredness are tired and Actual Answer: hopping\n"
          ]
        },
        {
          "output_type": "stream",
          "name": "stderr",
          "text": [
            " 72%|███████▏  | 877/1221 [02:30<01:01,  5.57it/s]"
          ]
        },
        {
          "output_type": "stream",
          "name": "stdout",
          "text": [
            "Q: What do geese do every fall in fields?\n",
            "O: guard house /// fly /// eat /// follow ultralight airplane /// group together\n",
            "A:  follow ultralight airplane airplane airplane airplane airplane airplane\n",
            "\n",
            "\n",
            "Model: follow ultralight airplane airplane airplane airplane airplane airplane and Actual Answer: group together\n",
            "Q: I took my seat, the curtains drew back and I enjoyed the what?\n",
            "O: airplane /// movie /// auditorium /// theatre /// show\n",
            "A:  auditorium /// auditorium /// auditorium\n",
            "\n",
            "\n",
            "Model: auditorium and Actual Answer: show\n"
          ]
        },
        {
          "output_type": "stream",
          "name": "stderr",
          "text": [
            " 72%|███████▏  | 879/1221 [02:31<01:03,  5.40it/s]"
          ]
        },
        {
          "output_type": "stream",
          "name": "stdout",
          "text": [
            "Q: What should everyone do who doesn't want to fight anymore?\n",
            "O: explicate /// pay tribute to king /// hope for peace /// wear shoes /// do well\n",
            "A:  pay tribute to king king king king king king king\n",
            "\n",
            "\n",
            "Model: pay tribute to king king king king king king king and Actual Answer: hope for peace\n",
            "Q: Where is the ideal location for a post office?\n",
            "O: building /// business district /// above ground /// most towns /// center of town\n",
            "A:  business district /// business district /// business district\n",
            "\n",
            "\n",
            "Model: business district and Actual Answer: center of town\n"
          ]
        },
        {
          "output_type": "stream",
          "name": "stderr",
          "text": [
            " 72%|███████▏  | 881/1221 [02:31<01:02,  5.44it/s]"
          ]
        },
        {
          "output_type": "stream",
          "name": "stdout",
          "text": [
            "Q: Where outside of a city would a squirrel live?\n",
            "O: roof /// inside home /// forest /// yard /// park\n",
            "A:  roofing home park /// roofing property park ///\n",
            "\n",
            "\n",
            "Model: roofing home park and Actual Answer: forest\n",
            "Q: You should watch out for snakes if floating down what African body of water?\n",
            "O: wet grass /// western texas /// high grass /// amazon river /// tree\n",
            "A:  amazon river river river river river river river river\n",
            "\n",
            "\n",
            "Model: amazon river river river river river river river river and Actual Answer: amazon river\n"
          ]
        },
        {
          "output_type": "stream",
          "name": "stderr",
          "text": [
            " 72%|███████▏  | 883/1221 [02:32<01:02,  5.45it/s]"
          ]
        },
        {
          "output_type": "stream",
          "name": "stdout",
          "text": [
            "Q: At the end of the day as he began to eat he paused and thanked her, it wasn't often she would what?\n",
            "O: cook dinner /// did chores /// make food /// stretch out /// get food\n",
            "A:  stretch out out out food and stretch out food and\n",
            "\n",
            "\n",
            "Model: stretch out out out food and stretch out food and and Actual Answer: cook dinner\n",
            "Q: To what do trees roots cling?\n",
            "O: yard /// orchard /// museum /// countryside /// surface of earth\n",
            "A:  surface of earth earth earth earth earth earth earth earth\n",
            "\n",
            "\n",
            "Model: surface of earth earth earth earth earth earth earth earth and Actual Answer: surface of earth\n"
          ]
        },
        {
          "output_type": "stream",
          "name": "stderr",
          "text": [
            " 72%|███████▏  | 885/1221 [02:32<00:59,  5.67it/s]"
          ]
        },
        {
          "output_type": "stream",
          "name": "stdout",
          "text": [
            "Q: What probably has a lot of dust in the back?\n",
            "O: closet /// door /// corner /// shelf /// library\n",
            "A:  shelf shelf shelf /// shelf\n",
            "\n",
            "\n",
            "Model: shelf shelf shelf and Actual Answer: closet\n",
            "Q: At the new comic store he found himself making friends, it was nice to meet people with what?\n",
            "O: smiling /// smile /// open mind /// common interests /// laughter\n",
            "A:  smile smile smile smile smile smile smile smile smile smile\n",
            "\n",
            "\n",
            "Model: smile smile smile smile smile smile smile smile smile smile and Actual Answer: common interests\n"
          ]
        },
        {
          "output_type": "stream",
          "name": "stderr",
          "text": [
            " 73%|███████▎  | 887/1221 [02:32<00:58,  5.76it/s]"
          ]
        },
        {
          "output_type": "stream",
          "name": "stdout",
          "text": [
            "Q: The student explained he had a clue what neuroepithelium was and got really nervous, he then lost his balance because a what issue?\n",
            "O: tastebud /// retina /// inner ear /// nasal cavity /// autistic\n",
            "A:  retina retina retina retina retina retina retina retina retina retina\n",
            "\n",
            "\n",
            "Model: retina retina retina retina retina retina retina retina retina retina and Actual Answer: inner ear\n",
            "Q: What could people do that involves talking?\n",
            "O: confession /// state park /// sing /// carnival /// opera\n",
            "A:  state park park park park park park park park park\n",
            "\n",
            "\n",
            "Model: state park park park park park park park park park and Actual Answer: confession\n"
          ]
        },
        {
          "output_type": "stream",
          "name": "stderr",
          "text": [
            " 73%|███████▎  | 889/1221 [02:33<00:57,  5.78it/s]"
          ]
        },
        {
          "output_type": "stream",
          "name": "stdout",
          "text": [
            "Q: If you're a child answering questions and an adult is asking them that adult is doing what?\n",
            "O: discussion /// explaning /// teaching /// confusion /// correct\n",
            "A:  correcting\n",
            "\n",
            "\n",
            "Model: correcting and Actual Answer: teaching\n",
            "Q: He has lactose intolerant, but was eating dinner made of cheese, what followed for him?\n",
            "O: digestive /// feel better /// sleepiness /// indigestion /// illness\n",
            "A:  digestive tract symptoms are not contagious.  digestive tract\n",
            "\n",
            "\n",
            "Model: digestive tract symptoms are not contagious.  digestive tract and Actual Answer: indigestion\n"
          ]
        },
        {
          "output_type": "stream",
          "name": "stderr",
          "text": [
            " 73%|███████▎  | 891/1221 [02:33<00:56,  5.80it/s]"
          ]
        },
        {
          "output_type": "stream",
          "name": "stdout",
          "text": [
            "Q: The teacher played on the upright piano, she was explaining the song to all the students in the what?\n",
            "O: music room /// bathroom /// house /// living room /// music store\n",
            "A:  music room /// music room /// music room\n",
            "\n",
            "\n",
            "Model: music room and Actual Answer: music room\n",
            "Q: When you get an F, you fail. If you get A's you are?\n",
            "O: passed /// completing /// passed /// passing /// succeeding\n",
            "A:  passing through the pass through the pass through the pass\n",
            "\n",
            "\n",
            "Model: passing through the pass through the pass through the pass and Actual Answer: passing\n"
          ]
        },
        {
          "output_type": "stream",
          "name": "stderr",
          "text": [
            " 73%|███████▎  | 893/1221 [02:33<00:57,  5.68it/s]"
          ]
        },
        {
          "output_type": "stream",
          "name": "stdout",
          "text": [
            "Q: What is the main purpose of having a bath?\n",
            "O: cleanness /// wetness /// exfoliation /// use water /// hygiene\n",
            "A:  use water and water and water and water and water\n",
            "\n",
            "\n",
            "Model: use water and water and water and water and water and Actual Answer: cleanness\n",
            "Q: The ball was hit over a boundary and struck an audience member.  What kind of game were they playing?\n",
            "O: sporting event /// sporting /// basketball /// society /// ranch country\n",
            "A:  sporting event /// sporting event\n",
            "\n",
            "\n",
            "Model: sporting event and Actual Answer: sporting event\n"
          ]
        },
        {
          "output_type": "stream",
          "name": "stderr",
          "text": [
            " 73%|███████▎  | 895/1221 [02:34<00:57,  5.68it/s]"
          ]
        },
        {
          "output_type": "stream",
          "name": "stdout",
          "text": [
            "Q: What is someone operating a vehicle likely to be accused of after becoming inebriated?\n",
            "O: punish /// arrest /// automobile accidents /// drunk driving /// talking nonsense\n",
            "A:  arrest or automobile accidents accident accidents accident accidents accident accidents\n",
            "\n",
            "\n",
            "Model: arrest or automobile accidents accident accidents accident accidents accident accidents and Actual Answer: drunk driving\n",
            "Q: Where would you get jewelry if you do not have any?\n",
            "O: vault /// suitcase /// neighbour's house /// department store /// safe deposit box\n",
            "A:  safe deposit box box box box box box box box\n",
            "\n",
            "\n",
            "Model: safe deposit box box box box box box box box and Actual Answer: department store\n"
          ]
        },
        {
          "output_type": "stream",
          "name": "stderr",
          "text": [
            " 73%|███████▎  | 897/1221 [02:34<00:56,  5.69it/s]"
          ]
        },
        {
          "output_type": "stream",
          "name": "stdout",
          "text": [
            "Q: What is a philosopher waiting for to eventually gain through his studies?\n",
            "O: job /// boredom /// anxiety /// impatience /// wisdom\n",
            "A:  boredom and impatience /// impatience /// impatience\n",
            "\n",
            "\n",
            "Model: boredom and impatience and Actual Answer: wisdom\n",
            "Q: What do young boys do on the ice in the winter?\n",
            "O: ski /// play hockey /// summer /// knit /// warm\n",
            "A:  play hockey hockey hockey hockey hockey hockey hockey hockey hockey\n",
            "\n",
            "\n",
            "Model: play hockey hockey hockey hockey hockey hockey hockey hockey hockey and Actual Answer: play hockey\n"
          ]
        },
        {
          "output_type": "stream",
          "name": "stderr",
          "text": [
            " 74%|███████▎  | 899/1221 [02:34<00:56,  5.68it/s]"
          ]
        },
        {
          "output_type": "stream",
          "name": "stdout",
          "text": [
            "Q: She loved spending money at the thrift store on knickknacks, this resulted in a lot of what on every shelf in her house?\n",
            "O: poverty /// clutter /// getting /// satisfaction /// more happiness\n",
            "A:  more happiness and more happiness and more happiness than more\n",
            "\n",
            "\n",
            "Model: more happiness and more happiness and more happiness than more and Actual Answer: clutter\n",
            "Q: I listened to lecture intensely, what is my goal?\n",
            "O: gain confidence /// concentrate /// get attention /// pay attention /// stop talking\n",
            "A:  get attention and pay attention to lecture intensely, get\n",
            "\n",
            "\n",
            "Model: get attention and pay attention to lecture intensely, get and Actual Answer: concentrate\n"
          ]
        },
        {
          "output_type": "stream",
          "name": "stderr",
          "text": [
            " 74%|███████▍  | 901/1221 [02:35<00:56,  5.68it/s]"
          ]
        },
        {
          "output_type": "stream",
          "name": "stdout",
          "text": [
            "Q: If a person is using a computer to talk to their granddaughter, what might the computer cause for them?\n",
            "O: program created /// stress /// happiness /// ocean /// headache\n",
            "A:  stress caused by stress caused by stress caused by stress\n",
            "\n",
            "\n",
            "Model: stress caused by stress caused by stress caused by stress and Actual Answer: happiness\n",
            "Q: Joe was there to meet a large number of people.  As he filed though the entrance hall, he saw many strangers who came from far away.  What sort of building is he probably in?\n",
            "O: person /// box /// convention center /// public building /// large building\n",
            "A:  convention center building /// large building /// large building\n",
            "\n",
            "\n",
            "Model: convention center building and Actual Answer: convention center\n"
          ]
        },
        {
          "output_type": "stream",
          "name": "stderr",
          "text": [
            " 74%|███████▍  | 903/1221 [02:35<00:55,  5.68it/s]"
          ]
        },
        {
          "output_type": "stream",
          "name": "stdout",
          "text": [
            "Q: John wanted scatter his wife's remains in a lake in the wilderness.  He had to delay before of where he lived.  Where did he live?\n",
            "O: mountains /// dead body /// pay debts /// state park /// new york\n",
            "A:  state park park park park park park park park park\n",
            "\n",
            "\n",
            "Model: state park park park park park park park park park and Actual Answer: new york\n",
            "Q: Many towns and cities have trash cans where on sidewalks?\n",
            "O: hospital /// park /// corner /// motel /// office\n",
            "A:  park or park or park or park or park or\n",
            "\n",
            "\n",
            "Model: park or park or park or park or park or and Actual Answer: corner\n"
          ]
        },
        {
          "output_type": "stream",
          "name": "stderr",
          "text": [
            " 74%|███████▍  | 905/1221 [02:35<00:55,  5.70it/s]"
          ]
        },
        {
          "output_type": "stream",
          "name": "stdout",
          "text": [
            "Q: The family wanted to adopt for enviro-ethical reasons, what did they abhor?\n",
            "O: orphan /// biological child /// give away /// foster child /// abandon\n",
            "A:  foster child adopt child /// foster child adopt child ///\n",
            "\n",
            "\n",
            "Model: foster child adopt child and Actual Answer: biological child\n",
            "Q: What happens when airplane engines cut off and are unable to be restarted in flight?\n",
            "O: stall /// start melting /// taxi /// crash /// speed up\n",
            "A:  start melting down and start melting down and start melting\n",
            "\n",
            "\n",
            "Model: start melting down and start melting down and start melting and Actual Answer: crash\n"
          ]
        },
        {
          "output_type": "stream",
          "name": "stderr",
          "text": [
            " 74%|███████▍  | 907/1221 [02:36<00:55,  5.61it/s]"
          ]
        },
        {
          "output_type": "stream",
          "name": "stdout",
          "text": [
            "Q: Where would you be concerned about finding a cavity?\n",
            "O: solid object /// molar /// dentist /// unbrushed tooth /// teeth\n",
            "A:  dentist office office office office office office office office office\n",
            "\n",
            "\n",
            "Model: dentist office office office office office office office office office and Actual Answer: teeth\n",
            "Q: Human beings learn about current events from what print item?\n",
            "O: question authority /// melt /// read newspapers /// act /// dictionary\n",
            "A:  question authority authority authority authority authority authority authority authority authority\n",
            "\n",
            "\n",
            "Model: question authority authority authority authority authority authority authority authority authority and Actual Answer: read newspapers\n"
          ]
        },
        {
          "output_type": "stream",
          "name": "stderr",
          "text": [
            " 74%|███████▍  | 909/1221 [02:36<00:54,  5.72it/s]"
          ]
        },
        {
          "output_type": "stream",
          "name": "stdout",
          "text": [
            "Q: In what kind of environment does an anemone live?\n",
            "O: nursery /// south pacific /// desert /// sea water /// atlantic ocean\n",
            "A:  south pacific ocean ocean ocean ocean ocean ocean ocean\n",
            "\n",
            "\n",
            "Model: south pacific ocean ocean ocean ocean ocean ocean ocean and Actual Answer: sea water\n",
            "Q: He wanted lodging in the actual what, so that he was already where he needed to be?\n",
            "O: a yurt /// resort area /// big city /// michigan /// going on vacation\n",
            "A:  resort area area area area area area area area area\n",
            "\n",
            "\n",
            "Model: resort area area area area area area area area area and Actual Answer: resort area\n"
          ]
        },
        {
          "output_type": "stream",
          "name": "stderr",
          "text": [
            " 75%|███████▍  | 911/1221 [02:36<00:53,  5.75it/s]"
          ]
        },
        {
          "output_type": "stream",
          "name": "stdout",
          "text": [
            "Q: If I am suffering from boredom, and I want to see something beautiful, what should I do?\n",
            "O: see art /// see ghost /// watch film /// grocery shop /// do crossword puzzle\n",
            "A:  see art show movie movie movie movie movie movie movie\n",
            "\n",
            "\n",
            "Model: see art show movie movie movie movie movie movie movie and Actual Answer: see art\n",
            "Q: The goal was to hit the target, but a projectile ball can't hit anything if it isn't in what?\n",
            "O: motion /// ocean /// flintlock /// arcade /// tennis court\n",
            "A:  motion ball is motion ball is motion ball. ///\n",
            "\n",
            "\n",
            "Model: motion ball is motion ball is motion ball. /// and Actual Answer: motion\n"
          ]
        },
        {
          "output_type": "stream",
          "name": "stderr",
          "text": [
            " 75%|███████▍  | 913/1221 [02:37<00:53,  5.79it/s]"
          ]
        },
        {
          "output_type": "stream",
          "name": "stdout",
          "text": [
            "Q: Where is a good place to set a cup of coffee while relaxing?\n",
            "O: coffee shop /// kitchen /// hand /// table /// office\n",
            "A:  coffee shop cafe cafe cafe cafe cafe cafe cafe cafe\n",
            "\n",
            "\n",
            "Model: coffee shop cafe cafe cafe cafe cafe cafe cafe cafe and Actual Answer: table\n",
            "Q: If a fried egg was runny and there was no toast to sop it up, after the meal there'd be a messy what?\n",
            "O: henhouse /// garden /// plate /// supermarket /// bird's nest\n",
            "A:  chicken's nest nest nest nest nest nest nest nest\n",
            "\n",
            "\n",
            "Model: chicken's nest nest nest nest nest nest nest nest and Actual Answer: plate\n"
          ]
        },
        {
          "output_type": "stream",
          "name": "stderr",
          "text": [
            " 75%|███████▍  | 915/1221 [02:37<00:52,  5.80it/s]"
          ]
        },
        {
          "output_type": "stream",
          "name": "stdout",
          "text": [
            "Q: If I want to behave with proper aplomb, what manners should I avoid?\n",
            "O: inappropriate /// incomplete /// impolite /// none /// incorrect\n",
            "A:  inappropriate inappropriate inappropriate inappropriate inappropriate inappropriate aplomb.\n",
            "\n",
            "\n",
            "Model: inappropriate inappropriate inappropriate inappropriate inappropriate inappropriate aplomb. and Actual Answer: inappropriate\n",
            "Q: Before lifting weights he liked to warm up on the squash court, he really enjoyed the facilities of the what?\n",
            "O: swimming pool /// rich person's house /// country club /// fitness center /// park\n",
            "A:  park park club park club park club park club park\n",
            "\n",
            "\n",
            "Model: park park club park club park club park club park and Actual Answer: fitness center\n"
          ]
        },
        {
          "output_type": "stream",
          "name": "stderr",
          "text": [
            " 75%|███████▌  | 917/1221 [02:38<00:55,  5.52it/s]"
          ]
        },
        {
          "output_type": "stream",
          "name": "stdout",
          "text": [
            "Q: What will happen to animals after eating food?\n",
            "O: bite /// digestion /// feel pleasure /// pass water /// listen to each other\n",
            "A:  bite and pass water water water water water water water\n",
            "\n",
            "\n",
            "Model: bite and pass water water water water water water water and Actual Answer: feel pleasure\n",
            "Q: If I wanted to grow plants, where could I put a lot of dirt?\n",
            "O: corner /// street /// closet /// garden /// bathtub\n",
            "A:  garden tub tub tub tub tub tub tub tub tub\n",
            "\n",
            "\n",
            "Model: garden tub tub tub tub tub tub tub tub tub and Actual Answer: garden\n"
          ]
        },
        {
          "output_type": "stream",
          "name": "stderr",
          "text": [
            " 75%|███████▌  | 919/1221 [02:38<00:53,  5.63it/s]"
          ]
        },
        {
          "output_type": "stream",
          "name": "stdout",
          "text": [
            "Q: What does a person often feel about someone judging them guilty?\n",
            "O: controversy /// responsibility /// resentment /// judge feelings /// hurt feelings\n",
            "A:  resentment feelings of guilt or resentment feelings of guilt or\n",
            "\n",
            "\n",
            "Model: resentment feelings of guilt or resentment feelings of guilt or and Actual Answer: resentment\n",
            "Q: A town between two mountains is located in a what?\n",
            "O: valley /// hospital /// state /// train station /// michigan\n",
            "A:  michigan state park state park state park state\n",
            "\n",
            "\n",
            "Model: michigan state park state park state park state and Actual Answer: valley\n"
          ]
        },
        {
          "output_type": "stream",
          "name": "stderr",
          "text": [
            " 75%|███████▌  | 921/1221 [02:38<00:52,  5.69it/s]"
          ]
        },
        {
          "output_type": "stream",
          "name": "stdout",
          "text": [
            "Q: James need to use a toilet but there were no public ones in sight.  Eventually he broke down and did something very expensive so that he could get a toilet.  Where might he have gone?\n",
            "O: motel room /// apartment /// bathroom /// games /// house\n",
            "A:  apartment room room room room room room room room room\n",
            "\n",
            "\n",
            "Model: apartment room room room room room room room room room and Actual Answer: motel room\n",
            "Q: Why did the heavy metal band need electricity at the stadium?\n",
            "O: concert /// bedroom /// make person sick /// building /// church\n",
            "A:  church building building building building building building building building building\n",
            "\n",
            "\n",
            "Model: church building building building building building building building building building and Actual Answer: concert\n"
          ]
        },
        {
          "output_type": "stream",
          "name": "stderr",
          "text": [
            " 76%|███████▌  | 923/1221 [02:39<00:52,  5.67it/s]"
          ]
        },
        {
          "output_type": "stream",
          "name": "stdout",
          "text": [
            "Q: What is a person looking for when completing puzzles or riddles?\n",
            "O: avoid pain /// compliments /// intellectual challenge /// passing grade /// attention\n",
            "A:  attention span span span span span span span span span\n",
            "\n",
            "\n",
            "Model: attention span span span span span span span span span and Actual Answer: intellectual challenge\n",
            "Q: If someone was making breakfast, they'd probably put two slices of bread in the what?\n",
            "O: plastic bag /// pantry /// supermarket /// toaster /// prison\n",
            "A:  supermarket supermarket supermarket supermarket supermarket supermarket supermarket supermarket supermarket supermarket\n",
            "\n",
            "\n",
            "Model: supermarket supermarket supermarket supermarket supermarket supermarket supermarket supermarket supermarket supermarket and Actual Answer: toaster\n"
          ]
        },
        {
          "output_type": "stream",
          "name": "stderr",
          "text": [
            " 76%|███████▌  | 925/1221 [02:39<00:51,  5.71it/s]"
          ]
        },
        {
          "output_type": "stream",
          "name": "stdout",
          "text": [
            "Q: His house was a mess, he began doing housework to get what?\n",
            "O: boredom /// nice home /// michigan /// feeling satisfied /// house clean\n",
            "A:  house clean house clean house clean house clean house clean\n",
            "\n",
            "\n",
            "Model: house clean house clean house clean house clean house clean and Actual Answer: house clean\n",
            "Q: Where would a corpse be covered by a blanket?\n",
            "O: bath store /// bedroom /// hospital /// flower garden /// michigan\n",
            "A:  bedroom garden garden garden garden garden garden garden garden garden\n",
            "\n",
            "\n",
            "Model: bedroom garden garden garden garden garden garden garden garden garden and Actual Answer: hospital\n"
          ]
        },
        {
          "output_type": "stream",
          "name": "stderr",
          "text": [
            " 76%|███████▌  | 927/1221 [02:39<00:51,  5.69it/s]"
          ]
        },
        {
          "output_type": "stream",
          "name": "stdout",
          "text": [
            "Q: The man  tried to break the glass in order to make his escape in time, but he could not.  The person in the cat, trying to kill him, did what?\n",
            "O: accelerate /// putting together /// working /// construct /// train\n",
            "A:  train train train train train train train train train train\n",
            "\n",
            "\n",
            "Model: train train train train train train train train train train and Actual Answer: accelerate\n",
            "Q: The trucker plopped on the bench with a sense of relief, where did he arrive?\n",
            "O: bordello /// rest area /// garden /// bus stop /// state park\n",
            "A:  rest area area area area area area area area area\n",
            "\n",
            "\n",
            "Model: rest area area area area area area area area area and Actual Answer: rest area\n"
          ]
        },
        {
          "output_type": "stream",
          "name": "stderr",
          "text": [
            " 76%|███████▌  | 929/1221 [02:40<00:51,  5.70it/s]"
          ]
        },
        {
          "output_type": "stream",
          "name": "stdout",
          "text": [
            "Q: What is part of a republic like the USA?\n",
            "O: state /// democratic /// kingdom /// democracy /// dictatorship\n",
            "A:  democracy state or democracy state or democracy state or democracy\n",
            "\n",
            "\n",
            "Model: democracy state or democracy state or democracy state or democracy and Actual Answer: state\n",
            "Q: Where do you keep extra clothing on a hike?\n",
            "O: person /// hamper /// closet /// upstairs /// backpack\n",
            "A:  backpack bag of clothing bag of clothing bag of clothing\n",
            "\n",
            "\n",
            "Model: backpack bag of clothing bag of clothing bag of clothing and Actual Answer: backpack\n"
          ]
        },
        {
          "output_type": "stream",
          "name": "stderr",
          "text": [
            " 76%|███████▌  | 931/1221 [02:40<00:50,  5.72it/s]"
          ]
        },
        {
          "output_type": "stream",
          "name": "stdout",
          "text": [
            "Q: What could an apple tree do?\n",
            "O: new hampshire /// bloom /// washington state /// sunshine /// spontaneously combust\n",
            "A:  bloom bloom bloom bloom bloom bloom bloom bloom bloom bloom\n",
            "\n",
            "\n",
            "Model: bloom bloom bloom bloom bloom bloom bloom bloom bloom bloom and Actual Answer: bloom\n",
            "Q: What very cold area in the east can a crab be found?\n",
            "O: fish market /// shallow waters /// atlantic ocean /// fresh water /// shore line\n",
            "A:  shallow waters in east coast of atlantic ocean\n",
            "\n",
            "\n",
            "Model: shallow waters in east coast of atlantic ocean and Actual Answer: atlantic ocean\n"
          ]
        },
        {
          "output_type": "stream",
          "name": "stderr",
          "text": [
            " 76%|███████▋  | 933/1221 [02:40<00:51,  5.60it/s]"
          ]
        },
        {
          "output_type": "stream",
          "name": "stdout",
          "text": [
            "Q: The chef wanted to perfect his craft, what did he do?\n",
            "O: thin potatos /// prepare food /// study french cooking /// drink /// cook dinner\n",
            "A:  prepare food and prepare food and prepare food /// prepare\n",
            "\n",
            "\n",
            "Model: prepare food and prepare food and prepare food and Actual Answer: study french cooking\n",
            "Q: She wanted a kitten and puppy so why did she only get the puppy?\n",
            "O: one choice for pet /// cute /// kennel /// soft /// waxy\n",
            "A:  soft petting petting catting catting cat\n",
            "\n",
            "\n",
            "Model: soft petting petting catting catting cat and Actual Answer: one choice for pet\n"
          ]
        },
        {
          "output_type": "stream",
          "name": "stderr",
          "text": [
            " 77%|███████▋  | 935/1221 [02:41<00:50,  5.64it/s]"
          ]
        },
        {
          "output_type": "stream",
          "name": "stdout",
          "text": [
            "Q: There was no shade for Jenny.  She was forced to lie there exposed to what?\n",
            "O: full sunlight /// bright sunshine /// sunny place /// eat cake /// direct sunlight\n",
            "A:  direct sunlight reflected sunlight reflected sunlight reflected sunlight reflected sunlight\n",
            "\n",
            "\n",
            "Model: direct sunlight reflected sunlight reflected sunlight reflected sunlight reflected sunlight and Actual Answer: full sunlight\n",
            "Q: What could happen to you after you are cleaning house for a long time?\n",
            "O: neatness /// tiredness /// order /// exhaustion /// sneezing\n",
            "A:  sneezing and sneezing and sneez\n",
            "\n",
            "\n",
            "Model: sneezing and sneezing and sneez and Actual Answer: exhaustion\n"
          ]
        },
        {
          "output_type": "stream",
          "name": "stderr",
          "text": [
            " 77%|███████▋  | 937/1221 [02:41<00:50,  5.66it/s]"
          ]
        },
        {
          "output_type": "stream",
          "name": "stdout",
          "text": [
            "Q: What is someone doing when scheduling when to go to party?\n",
            "O: rumpspringa /// meeting new people /// having fun /// meet new people /// plan\n",
            "A:  meeting new people new people new people new people new\n",
            "\n",
            "\n",
            "Model: meeting new people new people new people new people new and Actual Answer: plan\n",
            "Q: What kind of path do comets tend to have?\n",
            "O: ice /// set orbits /// universe /// space /// solid nucleus\n",
            "A:  solid nucleus nucleus nucleus nucleus nucleus nucleus nucleus nucleus nucleus\n",
            "\n",
            "\n",
            "Model: solid nucleus nucleus nucleus nucleus nucleus nucleus nucleus nucleus nucleus and Actual Answer: set orbits\n"
          ]
        },
        {
          "output_type": "stream",
          "name": "stderr",
          "text": [
            " 77%|███████▋  | 939/1221 [02:41<00:49,  5.70it/s]"
          ]
        },
        {
          "output_type": "stream",
          "name": "stdout",
          "text": [
            "Q: What do people feel after having sex that requires them to shower?\n",
            "O: bedroom /// pleasant /// obesity /// painful /// dirty\n",
            "A:  pleasantness and painfulness /// pleasure and painfulness\n",
            "\n",
            "\n",
            "Model: pleasantness and painfulness and Actual Answer: dirty\n",
            "Q: The vet found malignant tumors on the animals, what is their likely fate?\n",
            "O: euthanasia /// pass water /// die of cancer /// feel pain /// feel pleasure\n",
            "A:  pass water water water water water water water water water\n",
            "\n",
            "\n",
            "Model: pass water water water water water water water water water and Actual Answer: die of cancer\n"
          ]
        },
        {
          "output_type": "stream",
          "name": "stderr",
          "text": [
            " 77%|███████▋  | 941/1221 [02:42<00:48,  5.75it/s]"
          ]
        },
        {
          "output_type": "stream",
          "name": "stdout",
          "text": [
            "Q: What is the thing that is agitated in your head when kissing?\n",
            "O: sexual stimulation /// herpes /// headache /// catch cold /// happiness\n",
            "A:  herpes stimulation of nerve nerve nerve nerve nerve nerve nerve\n",
            "\n",
            "\n",
            "Model: herpes stimulation of nerve nerve nerve nerve nerve nerve nerve and Actual Answer: happiness\n",
            "Q: Billy was reading the newspaper as he commuted to work, but once he got to his destination he balled it up and put it somewhere. Where did it put it?\n",
            "O: trash /// floor /// subway /// ground /// lawn\n",
            "A:  ground floor floor floor floor floor floor floor floor floor\n",
            "\n",
            "\n",
            "Model: ground floor floor floor floor floor floor floor floor floor and Actual Answer: trash\n"
          ]
        },
        {
          "output_type": "stream",
          "name": "stderr",
          "text": [
            " 77%|███████▋  | 943/1221 [02:42<00:48,  5.74it/s]"
          ]
        },
        {
          "output_type": "stream",
          "name": "stdout",
          "text": [
            "Q: Where do you keep a pail in your house?\n",
            "O: garage /// pool /// utility room /// hardware store /// wishing well\n",
            "A:  garage garage garage garage garage garage garage garage garage garage\n",
            "\n",
            "\n",
            "Model: garage garage garage garage garage garage garage garage garage garage and Actual Answer: utility room\n",
            "Q: what is printed with ink and distributed daily?\n",
            "O: fountain pen /// squid /// newspaper /// book /// printer\n",
            "A:  fountain pen and ink /// fountain pen and ink ///\n",
            "\n",
            "\n",
            "Model: fountain pen and ink and Actual Answer: newspaper\n"
          ]
        },
        {
          "output_type": "stream",
          "name": "stderr",
          "text": [
            " 77%|███████▋  | 945/1221 [02:42<00:49,  5.60it/s]"
          ]
        },
        {
          "output_type": "stream",
          "name": "stdout",
          "text": [
            "Q: What are people likely to do when an unexpected decent outcome occurs?\n",
            "O: kill each other /// thank god /// experience pain /// hatred /// talk to each other\n",
            "A:  experience pain pain pain pain pain pain pain pain pain\n",
            "\n",
            "\n",
            "Model: experience pain pain pain pain pain pain pain pain pain and Actual Answer: thank god\n",
            "Q: The terrace had Kanji written on it, indicating that it was made where?\n",
            "O: japan /// rice paddy /// garden /// michigan /// italy\n",
            "A:  rice paddy paddy paddy paddy p\n",
            "\n",
            "\n",
            "Model: rice paddy paddy paddy paddy p and Actual Answer: japan\n"
          ]
        },
        {
          "output_type": "stream",
          "name": "stderr",
          "text": [
            " 78%|███████▊  | 947/1221 [02:43<00:48,  5.68it/s]"
          ]
        },
        {
          "output_type": "stream",
          "name": "stdout",
          "text": [
            "Q: The company sent off many purchases, they used recycled cardboard as their what?\n",
            "O: packaging materials /// recycle bin /// box factory /// warehouse /// bowler hats\n",
            "A:  recycling bin factory /// recycling bin factory /// recycling bin\n",
            "\n",
            "\n",
            "Model: recycling bin factory and Actual Answer: packaging materials\n",
            "Q: Why might a person be known as a liar?\n",
            "O: have no home /// false information /// hungry /// made fun of /// brain tumor\n",
            "A:  false information about the truth about the truth about the\n",
            "\n",
            "\n",
            "Model: false information about the truth about the truth about the and Actual Answer: false information\n"
          ]
        },
        {
          "output_type": "stream",
          "name": "stderr",
          "text": [
            " 78%|███████▊  | 949/1221 [02:43<00:47,  5.71it/s]"
          ]
        },
        {
          "output_type": "stream",
          "name": "stdout",
          "text": [
            "Q: The child was politely waiting for dessert, he was eventually rewarded for his what?\n",
            "O: timing /// expenditure of time /// getting bored /// anger /// patience\n",
            "A:  patience of time of time of time of time of\n",
            "\n",
            "\n",
            "Model: patience of time of time of time of time of and Actual Answer: patience\n",
            "Q: The man was giving assistance to a pan handler in the streets, how did he give assistance?\n",
            "O: feeling good /// killing /// law suits /// out of pocket /// feel loved\n",
            "A:  law suits suit suit suit suit suit suit suit suit\n",
            "\n",
            "\n",
            "Model: law suits suit suit suit suit suit suit suit suit and Actual Answer: out of pocket\n"
          ]
        },
        {
          "output_type": "stream",
          "name": "stderr",
          "text": [
            " 78%|███████▊  | 951/1221 [02:44<00:47,  5.71it/s]"
          ]
        },
        {
          "output_type": "stream",
          "name": "stdout",
          "text": [
            "Q: What do you call the caretakers of a child?\n",
            "O: principal /// birth /// loving couple /// act of sex /// parents\n",
            "A:  parents are parents are parents of parents of parents of\n",
            "\n",
            "\n",
            "Model: parents are parents are parents of parents of parents of and Actual Answer: parents\n",
            "Q: Where would you run in to a niece you only see every one and a while?\n",
            "O: family reunion /// brother's house /// family picture book /// family tree /// party\n",
            "A:  family picture book book book book book book book book\n",
            "\n",
            "\n",
            "Model: family picture book book book book book book book book and Actual Answer: family reunion\n"
          ]
        },
        {
          "output_type": "stream",
          "name": "stderr",
          "text": [
            " 78%|███████▊  | 953/1221 [02:44<00:47,  5.68it/s]"
          ]
        },
        {
          "output_type": "stream",
          "name": "stdout",
          "text": [
            "Q: Working on the elaborate task was taxing, it require extreme what?\n",
            "O: holding /// concentration /// energy /// job /// energh\n",
            "A:  energy energy energy energy energy energy energy energy energy energy\n",
            "\n",
            "\n",
            "Model: energy energy energy energy energy energy energy energy energy energy and Actual Answer: concentration\n",
            "Q: What may you have after awaking after a night of heavy drinking?\n",
            "O: get up /// discomfort /// discomfort /// headache /// shock\n",
            "A:  discomfort and discomfort and discomfort /// discomfort and discomfort\n",
            "\n",
            "\n",
            "Model: discomfort and discomfort and discomfort and Actual Answer: headache\n"
          ]
        },
        {
          "output_type": "stream",
          "name": "stderr",
          "text": [
            " 78%|███████▊  | 955/1221 [02:44<00:46,  5.71it/s]"
          ]
        },
        {
          "output_type": "stream",
          "name": "stdout",
          "text": [
            "Q: What uses a ribbon to put words on paper?\n",
            "O: wrapping paper /// girl's hair /// bath /// floral arrangement /// typewriter\n",
            "A:  wrapping paper letter paper letter letter letter letter letter letter\n",
            "\n",
            "\n",
            "Model: wrapping paper letter paper letter letter letter letter letter letter and Actual Answer: typewriter\n",
            "Q: Where are sheep likely to live?\n",
            "O: school /// meadow /// lamb /// farm /// fairgrounds\n",
            "A:  fairgroundsgrounds and fairgrounds and fairgrounds and\n",
            "\n",
            "\n",
            "Model: fairgroundsgrounds and fairgrounds and fairgrounds and and Actual Answer: farm\n"
          ]
        },
        {
          "output_type": "stream",
          "name": "stderr",
          "text": [
            " 78%|███████▊  | 957/1221 [02:45<00:46,  5.68it/s]"
          ]
        },
        {
          "output_type": "stream",
          "name": "stdout",
          "text": [
            "Q: If I was watching TV on the couch and the air was stuffy, I might turn the fan on to make the what more comfortable?\n",
            "O: hockey game /// living room /// bathroom /// football stadium /// hot room\n",
            "A:  hot room room room room /// football stadium stadium stadium\n",
            "\n",
            "\n",
            "Model: hot room room room room and Actual Answer: living room\n",
            "Q: While walking the student needed to store his writing insturment away, where did he put it?\n",
            "O: desk drawer /// cabinet /// purse /// classroom /// pocket\n",
            "A:  desk drawer drawer drawer drawer drawer drawer drawer drawer drawer\n",
            "\n",
            "\n",
            "Model: desk drawer drawer drawer drawer drawer drawer drawer drawer drawer and Actual Answer: pocket\n"
          ]
        },
        {
          "output_type": "stream",
          "name": "stderr",
          "text": [
            " 79%|███████▊  | 959/1221 [02:45<00:46,  5.69it/s]"
          ]
        },
        {
          "output_type": "stream",
          "name": "stdout",
          "text": [
            "Q: Who watches a play in an auditorium?\n",
            "O: building /// crowd /// city /// group /// high school\n",
            "A:  crowd gathers in city hall building /// city hall building\n",
            "\n",
            "\n",
            "Model: crowd gathers in city hall building and Actual Answer: crowd\n",
            "Q: What is a possible outcome for committing murder?\n",
            "O: problems /// incarceration /// trial /// imprisonment /// prosecution\n",
            "A:  incarceration or imprisonment or imprisonment or imprisonment or imprisonment or\n",
            "\n",
            "\n",
            "Model: incarceration or imprisonment or imprisonment or imprisonment or imprisonment or and Actual Answer: imprisonment\n"
          ]
        },
        {
          "output_type": "stream",
          "name": "stderr",
          "text": [
            " 79%|███████▊  | 961/1221 [02:45<00:46,  5.54it/s]"
          ]
        },
        {
          "output_type": "stream",
          "name": "stdout",
          "text": [
            "Q: where is a good place to obtain new soap?\n",
            "O: supermarket /// washing /// cabinet /// own home /// sink\n",
            "A:  supermarket supermarket supermarket supermarket supermarket supermarket supermarket supermarket supermarket supermarket\n",
            "\n",
            "\n",
            "Model: supermarket supermarket supermarket supermarket supermarket supermarket supermarket supermarket supermarket supermarket and Actual Answer: supermarket\n",
            "Q: What do people do for food?\n",
            "O: talk to each other /// complete job /// wear hats /// kill animals /// believe in god\n",
            "A:  complete job job job job job job job job job\n",
            "\n",
            "\n",
            "Model: complete job job job job job job job job job and Actual Answer: kill animals\n"
          ]
        },
        {
          "output_type": "stream",
          "name": "stderr",
          "text": [
            " 79%|███████▉  | 963/1221 [02:46<00:46,  5.58it/s]"
          ]
        },
        {
          "output_type": "stream",
          "name": "stdout",
          "text": [
            "Q: There was many a bottle to choose from behind the cashier where?\n",
            "O: grocery store /// diaper bag /// gas station /// liquor store /// medicine cabinet\n",
            "A:  grocery store store store store store store store store ///\n",
            "\n",
            "\n",
            "Model: grocery store store store store store store store store /// and Actual Answer: liquor store\n",
            "Q: They had to know where to go, they got on the national highway after consulting the what?\n",
            "O: canada /// atlas /// united states /// major cities /// book\n",
            "A:  major cities like major cities like major cities like major\n",
            "\n",
            "\n",
            "Model: major cities like major cities like major cities like major and Actual Answer: atlas\n"
          ]
        },
        {
          "output_type": "stream",
          "name": "stderr",
          "text": [
            " 79%|███████▉  | 965/1221 [02:46<00:46,  5.47it/s]"
          ]
        },
        {
          "output_type": "stream",
          "name": "stdout",
          "text": [
            "Q: What do professors primarily do?\n",
            "O: master physics /// state facts /// wear wrinkled tweed jackets /// school students /// teach courses\n",
            "A:  teach courses courses courses courses courses courses courses courses courses\n",
            "\n",
            "\n",
            "Model: teach courses courses courses courses courses courses courses courses courses and Actual Answer: teach courses\n",
            "Q: Where do you throw a ball at pins?\n",
            "O: bowling alley /// football stadium /// soccer field /// sporting event /// sporting goods store\n",
            "A:  sporting goods store store store store store store store store\n",
            "\n",
            "\n",
            "Model: sporting goods store store store store store store store store and Actual Answer: bowling alley\n"
          ]
        },
        {
          "output_type": "stream",
          "name": "stderr",
          "text": [
            " 79%|███████▉  | 967/1221 [02:46<00:45,  5.59it/s]"
          ]
        },
        {
          "output_type": "stream",
          "name": "stdout",
          "text": [
            "Q: What might you need to do cleaning?\n",
            "O: sing a song /// neatness /// allergies /// healthy living /// using water\n",
            "A:  cleanliness and hygiene /// cleanliness and hygiene ///\n",
            "\n",
            "\n",
            "Model: cleanliness and hygiene and Actual Answer: using water\n",
            "Q: If i were to spit a lot without noticing i may have extra what?\n",
            "O: phlegm /// saliva nd mouth /// disease /// germs /// spittle\n",
            "A:  germs nd mouth nd mouth nd\n",
            "\n",
            "\n",
            "Model: germs nd mouth nd mouth nd and Actual Answer: saliva nd mouth\n"
          ]
        },
        {
          "output_type": "stream",
          "name": "stderr",
          "text": [
            " 79%|███████▉  | 969/1221 [02:47<00:44,  5.72it/s]"
          ]
        },
        {
          "output_type": "stream",
          "name": "stdout",
          "text": [
            "Q: If student got a list of supplies from class like paper and pencils, their parent would have to go where?\n",
            "O: classroom /// parking garage /// store /// backpack /// cabinet\n",
            "A:  classroom garage garage garage garage garage garage garage garage garage\n",
            "\n",
            "\n",
            "Model: classroom garage garage garage garage garage garage garage garage garage and Actual Answer: store\n",
            "Q: Why do young people swallow semen ?\n",
            "O: you're into /// prostitute /// you're curious /// curiosity /// heterosexual woman in love\n",
            "A:  you're curious woman in love.  you're\n",
            "\n",
            "\n",
            "Model: you're curious woman in love.  you're and Actual Answer: you're curious\n"
          ]
        },
        {
          "output_type": "stream",
          "name": "stderr",
          "text": [
            " 80%|███████▉  | 971/1221 [02:47<00:43,  5.78it/s]"
          ]
        },
        {
          "output_type": "stream",
          "name": "stdout",
          "text": [
            "Q: Sally was standing in queue.  The line was very, very slow.  What was she feeling?\n",
            "O: frustration /// delays /// being annoyed /// moving forward /// progress\n",
            "A:  frustration was delayed.  frustration was delayed. \n",
            "\n",
            "\n",
            "Model: frustration was delayed.  frustration was delayed. and Actual Answer: frustration\n",
            "Q: What is the animal trying to accomplish?\n",
            "O: sand trap /// live long /// leave home /// feel pain /// eating\n",
            "A:  live long long long long long long long long long\n",
            "\n",
            "\n",
            "Model: live long long long long long long long long long and Actual Answer: live long\n"
          ]
        },
        {
          "output_type": "stream",
          "name": "stderr",
          "text": [
            " 80%|███████▉  | 973/1221 [02:47<00:43,  5.67it/s]"
          ]
        },
        {
          "output_type": "stream",
          "name": "stdout",
          "text": [
            "Q: James and Holly went dancing together. As they danced, he  pressed himself against her what?\n",
            "O: euphoria /// moving body /// rhythmic movement /// happiness /// fatigue\n",
            "A:  euphoria /// euphoria /// euphoria\n",
            "\n",
            "\n",
            "Model: euphoria and Actual Answer: moving body\n",
            "Q: If a house has a subscription, what likely shows up in the driveway every morning?\n",
            "O: subdivision /// newspaper /// street /// laundry mat /// surface of earth\n",
            "A:  newspaper newspaper newspaper newspaper newspaper newspaper newspaper newspaper newspaper newspaper\n",
            "\n",
            "\n",
            "Model: newspaper newspaper newspaper newspaper newspaper newspaper newspaper newspaper newspaper newspaper and Actual Answer: newspaper\n"
          ]
        },
        {
          "output_type": "stream",
          "name": "stderr",
          "text": [
            " 80%|███████▉  | 975/1221 [02:48<00:42,  5.73it/s]"
          ]
        },
        {
          "output_type": "stream",
          "name": "stdout",
          "text": [
            "Q: What does a person do when they feel dirty?\n",
            "O: feel lucky /// cross street /// wash themselves /// eat /// wonder what happened\n",
            "A:  wash themselves /// wash themselves themselves themselves themselves themselves themselves\n",
            "\n",
            "\n",
            "Model: wash themselves and Actual Answer: wash themselves\n",
            "Q: After the weight cut he was worried about his energy levels, but this was part of participating in a what?\n",
            "O: work /// wrestle /// play sports /// matter /// sleep\n",
            "A:  wrestle sports sports sports sports sports sports sports sports sports\n",
            "\n",
            "\n",
            "Model: wrestle sports sports sports sports sports sports sports sports sports and Actual Answer: wrestle\n"
          ]
        },
        {
          "output_type": "stream",
          "name": "stderr",
          "text": [
            " 80%|████████  | 977/1221 [02:48<00:42,  5.76it/s]"
          ]
        },
        {
          "output_type": "stream",
          "name": "stdout",
          "text": [
            "Q: what does a person do to stay healthy?\n",
            "O: fever /// eat every day /// excited /// headache /// expressive\n",
            "A:  excited by eating every day, excited by eating every\n",
            "\n",
            "\n",
            "Model: excited by eating every day, excited by eating every and Actual Answer: eat every day\n",
            "Q: Who is the guard here for?\n",
            "O: man post /// attack /// intimidation /// prisoner /// unprotected\n",
            "A:  prisoner post post post post post post post post post\n",
            "\n",
            "\n",
            "Model: prisoner post post post post post post post post post and Actual Answer: prisoner\n"
          ]
        },
        {
          "output_type": "stream",
          "name": "stderr",
          "text": [
            " 80%|████████  | 979/1221 [02:48<00:41,  5.82it/s]"
          ]
        },
        {
          "output_type": "stream",
          "name": "stdout",
          "text": [
            "Q: If a person stutters when he experiences anxiety or excitement, he'll have difficult doing what?\n",
            "O: express information /// dance /// library /// go somewhere /// study\n",
            "A:  express information about information about the study place place place\n",
            "\n",
            "\n",
            "Model: express information about information about the study place place place and Actual Answer: express information\n",
            "Q: Where can you keep letter opener when it likely to be needed soon?\n",
            "O: office supply store /// stationery store /// dek /// martyr's chest /// refrigerator\n",
            "A:  stationery store store store store store store store store\n",
            "\n",
            "\n",
            "Model: stationery store store store store store store store store and Actual Answer: dek\n"
          ]
        },
        {
          "output_type": "stream",
          "name": "stderr",
          "text": [
            " 80%|████████  | 981/1221 [02:49<00:41,  5.77it/s]"
          ]
        },
        {
          "output_type": "stream",
          "name": "stdout",
          "text": [
            "Q: Danny found that the carpet did not ,match the drapes, which was disappointing, because this place was expensive.  But it was the only place in town that wasn't booked solid for the week and he needed it while he was in town, so he couldn't complain.   Where might this place be?\n",
            "O: brothel /// restaurant /// building /// bowling alley /// at hotel\n",
            "A:  building complex building complex building complex /// building complex building\n",
            "\n",
            "\n",
            "Model: building complex building complex building complex and Actual Answer: at hotel\n",
            "Q: What do people need to do to change their lives?\n",
            "O: face problems /// better themselves /// pay bills /// become disillusioned /// eat chicken\n",
            "A:  become disillusioned and become disillusioned and become disillusion\n",
            "\n",
            "\n",
            "Model: become disillusioned and become disillusioned and become disillusion and Actual Answer: face problems\n"
          ]
        },
        {
          "output_type": "stream",
          "name": "stderr",
          "text": [
            " 81%|████████  | 983/1221 [02:49<00:41,  5.78it/s]"
          ]
        },
        {
          "output_type": "stream",
          "name": "stdout",
          "text": [
            "Q: Humans need shelter to survive.  They usually find shelter where?\n",
            "O: underpass /// homes /// workplace /// school /// space shuttle\n",
            "A:  space shuttle shuttle shuttle shuttle shuttle shuttle shuttle shuttle shuttle\n",
            "\n",
            "\n",
            "Model: space shuttle shuttle shuttle shuttle shuttle shuttle shuttle shuttle shuttle and Actual Answer: homes\n",
            "Q: Someone who had a very bad flight might be given a trip in this to make up for it?\n",
            "O: first class /// propitious /// reputable /// one /// sufficient\n",
            "A:  sufficient sufficient sufficient sufficient sufficient sufficient sufficient sufficient sufficient sufficient\n",
            "\n",
            "\n",
            "Model: sufficient sufficient sufficient sufficient sufficient sufficient sufficient sufficient sufficient sufficient and Actual Answer: first class\n"
          ]
        },
        {
          "output_type": "stream",
          "name": "stderr",
          "text": [
            " 81%|████████  | 985/1221 [02:50<00:41,  5.70it/s]"
          ]
        },
        {
          "output_type": "stream",
          "name": "stdout",
          "text": [
            "Q: Nature can be good and bad for the person who walks, what are some things?\n",
            "O: seeing bear /// see beautiful views /// get wet /// getting lost /// murdered by a landshark\n",
            "A:  see beautiful views and see beautiful views and see beautiful\n",
            "\n",
            "\n",
            "Model: see beautiful views and see beautiful views and see beautiful and Actual Answer: see beautiful views\n",
            "Q: Jim decided to lose weight.  He thought that exercise is the best way to lose weight because you can't get rid of what?\n",
            "O: need for food /// fitness /// sweating /// fastfood /// thirst\n",
            "A:  thirst fastfood chain is fast food chain is fast\n",
            "\n",
            "\n",
            "Model: thirst fastfood chain is fast food chain is fast and Actual Answer: need for food\n"
          ]
        },
        {
          "output_type": "stream",
          "name": "stderr",
          "text": [
            " 81%|████████  | 987/1221 [02:50<00:41,  5.66it/s]"
          ]
        },
        {
          "output_type": "stream",
          "name": "stdout",
          "text": [
            "Q: Nature creates more beautiful structures than those that are what?\n",
            "O: artificial /// indoors /// city /// man made /// eat cake\n",
            "A:  man made city made city made city made city made\n",
            "\n",
            "\n",
            "Model: man made city made city made city made city made and Actual Answer: man made\n",
            "Q: The water in clouds turn in to what when it gets cold?\n",
            "O: typhoon /// snowflake /// laddle /// teardrops /// sink\n",
            "A:  laddleropskiing down teardro\n",
            "\n",
            "\n",
            "Model: laddleropskiing down teardro and Actual Answer: snowflake\n"
          ]
        },
        {
          "output_type": "stream",
          "name": "stderr",
          "text": [
            " 81%|████████  | 989/1221 [02:50<00:40,  5.67it/s]"
          ]
        },
        {
          "output_type": "stream",
          "name": "stdout",
          "text": [
            "Q: What southern U.S. state is know for having many swamps?\n",
            "O: wetlands /// new york /// michigan /// louisiana /// river delta\n",
            "A:  michiganiana isiana isiana isiana\n",
            "\n",
            "\n",
            "Model: michiganiana isiana isiana isiana and Actual Answer: louisiana\n",
            "Q: When going to sleep what happens to your body?\n",
            "O: snoring /// latency /// dreams /// relaxation /// dreaming\n",
            "A:  dreams and dreams and dreams /// dreams and dreams\n",
            "\n",
            "\n",
            "Model: dreams and dreams and dreams and Actual Answer: relaxation\n"
          ]
        },
        {
          "output_type": "stream",
          "name": "stderr",
          "text": [
            " 81%|████████  | 991/1221 [02:51<00:40,  5.69it/s]"
          ]
        },
        {
          "output_type": "stream",
          "name": "stdout",
          "text": [
            "Q: Where is a monkey likely to enjoy being?\n",
            "O: banana tree /// sailor suit /// theatre /// mulberry bush /// research laboratory\n",
            "A:  mulberry bush bush bush bush bush bush bush bush\n",
            "\n",
            "\n",
            "Model: mulberry bush bush bush bush bush bush bush bush and Actual Answer: banana tree\n",
            "Q: What is a form of anaerobic exercising?\n",
            "O: shortness of breath /// lift weights /// error /// fall down /// run\n",
            "A:  run down stairs /// run down stairs /// run down\n",
            "\n",
            "\n",
            "Model: run down stairs and Actual Answer: run\n"
          ]
        },
        {
          "output_type": "stream",
          "name": "stderr",
          "text": [
            " 81%|████████▏ | 993/1221 [02:51<00:39,  5.75it/s]"
          ]
        },
        {
          "output_type": "stream",
          "name": "stdout",
          "text": [
            "Q: The earth is one planet in what?\n",
            "O: tree /// orbit /// solar system /// fotograph /// dreams\n",
            "A:  orbit earth orbit earth /// orbit earth earth earth earth\n",
            "\n",
            "\n",
            "Model: orbit earth orbit earth and Actual Answer: solar system\n",
            "Q: Where would you put a container can after you buy it?\n",
            "O: pantry /// store /// gas /// liquid /// garage\n",
            "A:  garage garage garage garage garage garage garage garage garage garage\n",
            "\n",
            "\n",
            "Model: garage garage garage garage garage garage garage garage garage garage and Actual Answer: garage\n"
          ]
        },
        {
          "output_type": "stream",
          "name": "stderr",
          "text": [
            " 81%|████████▏ | 995/1221 [02:51<00:39,  5.76it/s]"
          ]
        },
        {
          "output_type": "stream",
          "name": "stdout",
          "text": [
            "Q: Where did you meet your best friend since Kindergarten?\n",
            "O: friend's house /// school /// fraternity house /// internet cafe /// airplane\n",
            "A:  friend's house in friend's house in friend's\n",
            "\n",
            "\n",
            "Model: friend's house in friend's house in friend's and Actual Answer: school\n",
            "Q: James was below the balloon.  He watched it rise.  What direction did he look in?\n",
            "O: upstairs /// aloft /// diagonal /// upstream /// upwards\n",
            "A:  upward upwards upwards upwards upwards upwards upwards upwards upwards upwards\n",
            "\n",
            "\n",
            "Model: upward upwards upwards upwards upwards upwards upwards upwards upwards upwards and Actual Answer: upwards\n"
          ]
        },
        {
          "output_type": "stream",
          "name": "stderr",
          "text": [
            " 82%|████████▏ | 997/1221 [02:52<00:39,  5.73it/s]"
          ]
        },
        {
          "output_type": "stream",
          "name": "stdout",
          "text": [
            "Q: John and Tim like playing. It makes them what?\n",
            "O: feeling happy /// learning /// injury /// burn /// get hungry\n",
            "A:  feel happy and feel happy and feel happy and feel\n",
            "\n",
            "\n",
            "Model: feel happy and feel happy and feel happy and feel and Actual Answer: feeling happy\n",
            "Q: What could happen if someone is seeing new presents at a birthday party?\n",
            "O: envy /// jealousy /// education /// fear /// excitement\n",
            "A:  jealousy or jealousy or jealousy or jealousy or jealousy or\n",
            "\n",
            "\n",
            "Model: jealousy or jealousy or jealousy or jealousy or jealousy or and Actual Answer: excitement\n"
          ]
        },
        {
          "output_type": "stream",
          "name": "stderr",
          "text": [
            " 82%|████████▏ | 999/1221 [02:52<00:38,  5.76it/s]"
          ]
        },
        {
          "output_type": "stream",
          "name": "stdout",
          "text": [
            "Q: Joe's cat smelled something delicious and jumped into this, causing him to panic and fear for its life. Where might it have jumped?\n",
            "O: meat loaf /// bedroom /// microwave /// living room /// floor\n",
            "A:  living room floor floor floor floor floor floor floor floor\n",
            "\n",
            "\n",
            "Model: living room floor floor floor floor floor floor floor floor and Actual Answer: microwave\n",
            "Q: Why would a person put flowers in a room with dirty gym socks?\n",
            "O: continue to grow /// plant themselves /// many colors /// smell good /// make pretty\n",
            "A:  plant themselves themselves themselves themselves themselves themselves themselves themselves themselves\n",
            "\n",
            "\n",
            "Model: plant themselves themselves themselves themselves themselves themselves themselves themselves themselves and Actual Answer: smell good\n"
          ]
        },
        {
          "output_type": "stream",
          "name": "stderr",
          "text": [
            " 82%|████████▏ | 1001/1221 [02:52<00:38,  5.75it/s]"
          ]
        },
        {
          "output_type": "stream",
          "name": "stdout",
          "text": [
            "Q: The table wasn't level.  some parts were higher and some were lower with no rhyme or reason.   It was very what?\n",
            "O: electrical circuit /// build evenly /// uneven /// unbalanced /// tilted\n",
            "A:  unevenly shaped /// unevenly shaped /// unevenly\n",
            "\n",
            "\n",
            "Model: unevenly shaped and Actual Answer: uneven\n",
            "Q: The person signed up for home insurance, what is he seeking?\n",
            "O: financial security /// live well /// good relationship /// compliments /// discounted furniture\n",
            "A:  discounted furniture store or discounted furniture store or discounted furniture\n",
            "\n",
            "\n",
            "Model: discounted furniture store or discounted furniture store or discounted furniture and Actual Answer: financial security\n"
          ]
        },
        {
          "output_type": "stream",
          "name": "stderr",
          "text": [
            " 82%|████████▏ | 1003/1221 [02:53<00:38,  5.69it/s]"
          ]
        },
        {
          "output_type": "stream",
          "name": "stdout",
          "text": [
            "Q: James know that committing murder was wrong, but he thought that he could get away with it.  He was really troubled  and fearful because of what?\n",
            "O: happiness /// problems /// prosecution /// distress /// misery\n",
            "A:  distress and distress and distress\n",
            "\n",
            "\n",
            "Model: distress and distress and distress and Actual Answer: prosecution\n",
            "Q: How can someone die from eating hamburger?\n",
            "O: gas /// getting full /// mad cow disease /// death /// feel full\n",
            "A:  gas gas gas gas gas gas gas gas gas gas\n",
            "\n",
            "\n",
            "Model: gas gas gas gas gas gas gas gas gas gas and Actual Answer: mad cow disease\n"
          ]
        },
        {
          "output_type": "stream",
          "name": "stderr",
          "text": [
            " 82%|████████▏ | 1005/1221 [02:53<00:38,  5.63it/s]"
          ]
        },
        {
          "output_type": "stream",
          "name": "stdout",
          "text": [
            "Q: Where would using a boat not require navigation skills?\n",
            "O: water /// ocean /// garage /// harbor /// river\n",
            "A:  water garage garage garage garage garage garage garage garage garage\n",
            "\n",
            "\n",
            "Model: water garage garage garage garage garage garage garage garage garage and Actual Answer: river\n",
            "Q: What does a self assured person often do?\n",
            "O: acknowledgment /// focused /// know what time /// feel important /// trust himself\n",
            "A:  focus himself or herself or herself /// focus herself or\n",
            "\n",
            "\n",
            "Model: focus himself or herself or herself and Actual Answer: feel important\n"
          ]
        },
        {
          "output_type": "stream",
          "name": "stderr",
          "text": [
            " 82%|████████▏ | 1007/1221 [02:53<00:38,  5.53it/s]"
          ]
        },
        {
          "output_type": "stream",
          "name": "stdout",
          "text": [
            "Q: He was very outgoing, for him making friends was no personal what?\n",
            "O: scary /// having friends /// good feeling /// conflict /// friendship\n",
            "A:  friendship /// friendship /// friendship\n",
            "\n",
            "\n",
            "Model: friendship and Actual Answer: conflict\n",
            "Q: What do you feel when giving assistance to the needy?\n",
            "O: reward /// boredom /// pleasure /// happiness /// satisfaction\n",
            "A:  satisfaction and satisfaction and satisfaction /// satisfaction and satisfaction\n",
            "\n",
            "\n",
            "Model: satisfaction and satisfaction and satisfaction and Actual Answer: satisfaction\n"
          ]
        },
        {
          "output_type": "stream",
          "name": "stderr",
          "text": [
            " 83%|████████▎ | 1009/1221 [02:54<00:37,  5.69it/s]"
          ]
        },
        {
          "output_type": "stream",
          "name": "stdout",
          "text": [
            "Q: Paul wants carrots and doesn't need to drive anywhere. He gets them from where?\n",
            "O: refrigerator /// store /// farmer's market /// supermarket /// dryer\n",
            "A:  farmer's market market market market market market market market\n",
            "\n",
            "\n",
            "Model: farmer's market market market market market market market market and Actual Answer: refrigerator\n",
            "Q: He was a sloppy eater, so where did he leave a mess?\n",
            "O: sailboat /// desk /// closet /// table /// apartment\n",
            "A:  desk drawer drawer drawer drawer drawer drawer drawer drawer drawer\n",
            "\n",
            "\n",
            "Model: desk drawer drawer drawer drawer drawer drawer drawer drawer drawer and Actual Answer: table\n"
          ]
        },
        {
          "output_type": "stream",
          "name": "stderr",
          "text": [
            " 83%|████████▎ | 1011/1221 [02:54<00:36,  5.73it/s]"
          ]
        },
        {
          "output_type": "stream",
          "name": "stdout",
          "text": [
            "Q: What does every person want?\n",
            "O: life partner /// larger house /// second chances /// money /// headache\n",
            "A:  life partner partner partner partner's house, larger house\n",
            "\n",
            "\n",
            "Model: life partner partner partner partner's house, larger house and Actual Answer: life partner\n",
            "Q: If a small flying animal picks up a string, where are they taking it?\n",
            "O: bird's nest /// park /// guitar /// kite /// quark\n",
            "A:  quark nest nest nest nest nest nest nest nest\n",
            "\n",
            "\n",
            "Model: quark nest nest nest nest nest nest nest nest and Actual Answer: bird's nest\n"
          ]
        },
        {
          "output_type": "stream",
          "name": "stderr",
          "text": [
            " 83%|████████▎ | 1013/1221 [02:54<00:36,  5.75it/s]"
          ]
        },
        {
          "output_type": "stream",
          "name": "stdout",
          "text": [
            "Q: He had no issue committing perjury, he had a what that he would get away with it?\n",
            "O: confidence /// go to jail /// telling lies /// lying /// manual\n",
            "A:  lying about lying about lying about lying about lying about\n",
            "\n",
            "\n",
            "Model: lying about lying about lying about lying about lying about and Actual Answer: confidence\n",
            "Q: What could go to a tennis court?\n",
            "O: desert /// college campus /// recreational center /// athletic club /// park\n",
            "A:  recreational center campus campus campus campus campus campus campus campus\n",
            "\n",
            "\n",
            "Model: recreational center campus campus campus campus campus campus campus campus and Actual Answer: athletic club\n"
          ]
        },
        {
          "output_type": "stream",
          "name": "stderr",
          "text": [
            " 83%|████████▎ | 1015/1221 [02:55<00:35,  5.77it/s]"
          ]
        },
        {
          "output_type": "stream",
          "name": "stdout",
          "text": [
            "Q: What could you use to fill a cup and then drink from it?\n",
            "O: sand box /// kitchen cabinet /// waterfall /// water fountain /// table\n",
            "A:  water fountain and water fountain and waterfall cabinet /// water\n",
            "\n",
            "\n",
            "Model: water fountain and water fountain and waterfall cabinet and Actual Answer: water fountain\n",
            "Q: The two played video games all night in the living room, he enjoyed visiting where?\n",
            "O: formal seating /// friend's house /// movies /// home /// apartment\n",
            "A:  friend's house apartment apartment apartment apartment apartment apartment apartment\n",
            "\n",
            "\n",
            "Model: friend's house apartment apartment apartment apartment apartment apartment apartment and Actual Answer: friend's house\n"
          ]
        },
        {
          "output_type": "stream",
          "name": "stderr",
          "text": [
            " 83%|████████▎ | 1017/1221 [02:55<00:35,  5.76it/s]"
          ]
        },
        {
          "output_type": "stream",
          "name": "stdout",
          "text": [
            "Q: The weasel ran up away from danger, somebody joked only our first president could get him down from the what?\n",
            "O: washington dc /// ladder /// natural history museum /// cherry tree /// chicken coop\n",
            "A:  natural history museum museum museum museum museum museum museum museum\n",
            "\n",
            "\n",
            "Model: natural history museum museum museum museum museum museum museum museum and Actual Answer: cherry tree\n",
            "Q: If you were looking for a blowfish, you wouldn't look on dry land, you'd look in a what?\n",
            "O: fish market /// jungle /// sea water /// body of water /// soup\n",
            "A:  sea water market\n",
            "\n",
            "\n",
            "Model: sea water market and Actual Answer: body of water\n"
          ]
        },
        {
          "output_type": "stream",
          "name": "stderr",
          "text": [
            " 83%|████████▎ | 1019/1221 [02:55<00:36,  5.56it/s]"
          ]
        },
        {
          "output_type": "stream",
          "name": "stdout",
          "text": [
            "Q: George checked the rotor of the Apache, which wasn't powered by internal combustion, but by what?\n",
            "O: jet engine /// helicopter /// electric motor /// rotator /// electrical circuit\n",
            "A:  electric motor motor motor motor motor motor motor motor motor\n",
            "\n",
            "\n",
            "Model: electric motor motor motor motor motor motor motor motor motor and Actual Answer: jet engine\n",
            "Q: The poker dealer spread the flop of cards across the what?\n",
            "O: players /// play games /// casino /// table /// toy store\n",
            "A:  casino casino casino casino casino casino casino casino casino casino\n",
            "\n",
            "\n",
            "Model: casino casino casino casino casino casino casino casino casino casino and Actual Answer: table\n"
          ]
        },
        {
          "output_type": "stream",
          "name": "stderr",
          "text": [
            " 84%|████████▎ | 1021/1221 [02:56<00:35,  5.66it/s]"
          ]
        },
        {
          "output_type": "stream",
          "name": "stdout",
          "text": [
            "Q: Where is a salt shaker most often kept?\n",
            "O: cruet /// table setting /// kitchen cupboard /// cabinet /// store\n",
            "A:  cabinet setting cupboard cabinet cabinet cabinet cabinet cabinet cabinet\n",
            "\n",
            "\n",
            "Model: cabinet setting cupboard cabinet cabinet cabinet cabinet cabinet cabinet and Actual Answer: table setting\n",
            "Q: Where would you put a dollar if you want to go to a store and buy something with it?\n",
            "O: cash drawer /// teh bank /// safety deposit box /// pocket /// piggy bank\n",
            "A:  cash drawer box /// cash drawer /// cash drawer\n",
            "\n",
            "\n",
            "Model: cash drawer box and Actual Answer: pocket\n"
          ]
        },
        {
          "output_type": "stream",
          "name": "stderr",
          "text": [
            " 84%|████████▍ | 1023/1221 [02:56<00:34,  5.68it/s]"
          ]
        },
        {
          "output_type": "stream",
          "name": "stdout",
          "text": [
            "Q: What room is likely to have a sideboard on the counter?\n",
            "O: home /// serve food buffet /// dining room /// living room /// kitchen\n",
            "A:  dining room /// dining room /// dining room\n",
            "\n",
            "\n",
            "Model: dining room and Actual Answer: kitchen\n",
            "Q: What is unlikely to get bugs on its windshield due to bugs' inability to reach it when it is moving?\n",
            "O: airplane /// scooter /// motorboat /// car /// motor vehicle\n",
            "A:  motor vehicle /// motor vehicle /// motor vehicle\n",
            "\n",
            "\n",
            "Model: motor vehicle and Actual Answer: airplane\n"
          ]
        },
        {
          "output_type": "stream",
          "name": "stderr",
          "text": [
            " 84%|████████▍ | 1025/1221 [02:57<00:34,  5.73it/s]"
          ]
        },
        {
          "output_type": "stream",
          "name": "stdout",
          "text": [
            "Q: What mall store sells jeans for a decent price?\n",
            "O: clothing store /// bedroom /// thrift store /// apartment /// gap\n",
            "A:  clothing store sells jeans for a decent price. ///\n",
            "\n",
            "\n",
            "Model: clothing store sells jeans for a decent price. /// and Actual Answer: gap\n",
            "Q: Where can a bath towel be borrowed?\n",
            "O: cupboard /// at hotel /// swimming pool /// clothes line /// backpack\n",
            "A:  backpack bagboard /// backpack bagboard /// backpack bag\n",
            "\n",
            "\n",
            "Model: backpack bagboard and Actual Answer: at hotel\n"
          ]
        },
        {
          "output_type": "stream",
          "name": "stderr",
          "text": [
            " 84%|████████▍ | 1027/1221 [02:57<00:33,  5.73it/s]"
          ]
        },
        {
          "output_type": "stream",
          "name": "stdout",
          "text": [
            "Q: Why do people stop caring about their problems?\n",
            "O: no problems /// better themselves /// face problems /// learn from each other /// become disillusioned\n",
            "A:  become disillusioned and become disillusioned and become disillusion\n",
            "\n",
            "\n",
            "Model: become disillusioned and become disillusioned and become disillusion and Actual Answer: become disillusioned\n",
            "Q: John rode on the plain until it reached the ocean and couldn't go any farther. What might he have bee on?\n",
            "O: mountain /// fancy /// sandplain /// cliff /// gorge\n",
            "A:  gorge plain sandplain /// gorge plain sandplain,\n",
            "\n",
            "\n",
            "Model: gorge plain sandplain and Actual Answer: cliff\n"
          ]
        },
        {
          "output_type": "stream",
          "name": "stderr",
          "text": [
            " 84%|████████▍ | 1029/1221 [02:57<00:33,  5.67it/s]"
          ]
        },
        {
          "output_type": "stream",
          "name": "stdout",
          "text": [
            "Q: They were never going to be big actors, but they all had passion for the local what?\n",
            "O: theater /// opera /// show /// television /// blockbuster feature\n",
            "A:  opera feature television feature feature television feature television feature television\n",
            "\n",
            "\n",
            "Model: opera feature television feature feature television feature television feature television and Actual Answer: theater\n",
            "Q: Where would you use a folding chair but not store one?\n",
            "O: beach /// city hall /// closet /// garage /// school\n",
            "A:  garage hall hall hall hall hall hall hall hall hall\n",
            "\n",
            "\n",
            "Model: garage hall hall hall hall hall hall hall hall hall and Actual Answer: beach\n"
          ]
        },
        {
          "output_type": "stream",
          "name": "stderr",
          "text": [
            " 84%|████████▍ | 1031/1221 [02:58<00:33,  5.69it/s]"
          ]
        },
        {
          "output_type": "stream",
          "name": "stdout",
          "text": [
            "Q: If you spend a long time shopping in uncomfortable shoes, you might develop what?\n",
            "O: tiredness /// calluses /// bankruptcy /// standing in line /// sleepyness\n",
            "A:  tirednessinessnessinessinessinessinessinessiness\n",
            "\n",
            "\n",
            "Model: tirednessinessnessinessinessinessinessinessiness and Actual Answer: calluses\n",
            "Q: What does impeachment mean for the president?\n",
            "O: vote /// election /// trouble /// board room /// corporation\n",
            "A:  election boardroom room room room room room room room\n",
            "\n",
            "\n",
            "Model: election boardroom room room room room room room room and Actual Answer: trouble\n"
          ]
        },
        {
          "output_type": "stream",
          "name": "stderr",
          "text": [
            " 85%|████████▍ | 1033/1221 [02:58<00:33,  5.69it/s]"
          ]
        },
        {
          "output_type": "stream",
          "name": "stdout",
          "text": [
            "Q: Noble citizen of the Roman empire believed those born with lower status were what to them?\n",
            "O: loser /// ignoble /// peasant /// inferior /// plebeian\n",
            "A:  peasant peasant peasant peasant peasant peasant peasant peasant peasant peasant\n",
            "\n",
            "\n",
            "Model: peasant peasant peasant peasant peasant peasant peasant peasant peasant peasant and Actual Answer: inferior\n",
            "Q: Spraining an ankle while playing baseball will cause what?\n",
            "O: strikes /// eating /// injury /// sore muscles /// pain\n",
            "A:  sore muscles /// sore muscles /// sore muscles\n",
            "\n",
            "\n",
            "Model: sore muscles and Actual Answer: pain\n"
          ]
        },
        {
          "output_type": "stream",
          "name": "stderr",
          "text": [
            " 85%|████████▍ | 1035/1221 [02:58<00:32,  5.72it/s]"
          ]
        },
        {
          "output_type": "stream",
          "name": "stdout",
          "text": [
            "Q: John was traveling to a new city and took time to check out a business.  He noticed that its carpet was stained with sauces and ketchup. What type of business might that be?\n",
            "O: bedroom /// chair /// bowling alley /// at hotel /// restaurant\n",
            "A:  restaurant restaurant restaurant restaurant restaurant restaurant restaurant restaurant restaurant restaurant\n",
            "\n",
            "\n",
            "Model: restaurant restaurant restaurant restaurant restaurant restaurant restaurant restaurant restaurant restaurant and Actual Answer: restaurant\n",
            "Q: If you have a condo in a Wisconsin city known for beer, where are you?\n",
            "O: city /// electrical circuit /// residential area /// suburbia /// milwaukee\n",
            "A:  suburbia.  suburbia. suburbsia.\n",
            "\n",
            "\n",
            "Model: suburbia.  suburbia. suburbsia. and Actual Answer: milwaukee\n"
          ]
        },
        {
          "output_type": "stream",
          "name": "stderr",
          "text": [
            " 85%|████████▍ | 1037/1221 [02:59<00:32,  5.63it/s]"
          ]
        },
        {
          "output_type": "stream",
          "name": "stdout",
          "text": [
            "Q: Where is hard to read note likely to be?\n",
            "O: fridge /// sheet music /// desk /// bed /// medical chart\n",
            "A:  desk music room or sheet music room or sheet music\n",
            "\n",
            "\n",
            "Model: desk music room or sheet music room or sheet music and Actual Answer: medical chart\n",
            "Q: How does someone go about buying beer?\n",
            "O: have no money /// pants /// relaxation /// lose money /// spend money\n",
            "A:  have no money /// have no money /// have no\n",
            "\n",
            "\n",
            "Model: have no money and Actual Answer: spend money\n"
          ]
        },
        {
          "output_type": "stream",
          "name": "stderr",
          "text": [
            " 85%|████████▌ | 1039/1221 [02:59<00:32,  5.68it/s]"
          ]
        },
        {
          "output_type": "stream",
          "name": "stdout",
          "text": [
            "Q: If there is gum on your shoe where did it likely come from?\n",
            "O: shelf /// movies /// sidewalk /// water fountain /// table\n",
            "A:  shelf /// shelf place place place place place place place\n",
            "\n",
            "\n",
            "Model: shelf and Actual Answer: sidewalk\n",
            "Q: If a person isn't able to pay their bills what must they do?\n",
            "O: know everything /// acknowledgment /// make more money /// throw a party /// spare time\n",
            "A:  make more money /// make more money /// make more\n",
            "\n",
            "\n",
            "Model: make more money and Actual Answer: make more money\n"
          ]
        },
        {
          "output_type": "stream",
          "name": "stderr",
          "text": [
            " 85%|████████▌ | 1041/1221 [02:59<00:32,  5.54it/s]"
          ]
        },
        {
          "output_type": "stream",
          "name": "stdout",
          "text": [
            "Q: What is main benefit to exercising?\n",
            "O: losing weight /// healthy /// get in shape /// weight loss /// sweat\n",
            "A:  weight loss and weight loss and weight loss /// weight\n",
            "\n",
            "\n",
            "Model: weight loss and weight loss and weight loss and Actual Answer: get in shape\n",
            "Q: Steve thought that it was possible, but he agreed that it was what?\n",
            "O: no go /// unable /// unlikely /// impossibility /// cant do\n",
            "A:  impossible to do so.  impossible to do so\n",
            "\n",
            "\n",
            "Model: impossible to do so.  impossible to do so and Actual Answer: unlikely\n"
          ]
        },
        {
          "output_type": "stream",
          "name": "stderr",
          "text": [
            " 85%|████████▌ | 1043/1221 [03:00<00:31,  5.65it/s]"
          ]
        },
        {
          "output_type": "stream",
          "name": "stdout",
          "text": [
            "Q: What region of a west coast U.S. city would you find a Japanese restaurant?\n",
            "O: california /// tokio /// downtown /// narnia /// large town\n",
            "A:  california city city city city city city city\n",
            "\n",
            "\n",
            "Model: california city city city city city city city and Actual Answer: downtown\n",
            "Q: What is a tactic used to interfere with learning about science?\n",
            "O: repetition /// sense of wonder /// accidents /// intimidation /// increased knowledge\n",
            "A:  intimidation /// intimidation /// intimidation\n",
            "\n",
            "\n",
            "Model: intimidation and Actual Answer: intimidation\n"
          ]
        },
        {
          "output_type": "stream",
          "name": "stderr",
          "text": [
            " 86%|████████▌ | 1045/1221 [03:00<00:30,  5.71it/s]"
          ]
        },
        {
          "output_type": "stream",
          "name": "stdout",
          "text": [
            "Q: What do people usually feel when falling in love?\n",
            "O: getting married /// pain /// happiness /// getting married /// suffering\n",
            "A:  happiness and happiness and happiness and happiness and happiness and\n",
            "\n",
            "\n",
            "Model: happiness and happiness and happiness and happiness and happiness and and Actual Answer: happiness\n",
            "Q: The tiger was stuck in what animal prison where he got lazy and fat?\n",
            "O: jungle /// zoo /// kill /// india /// eat cake\n",
            "A:  jungle zoo zoo zoo zoo zoo zoo zoo zoo zoo\n",
            "\n",
            "\n",
            "Model: jungle zoo zoo zoo zoo zoo zoo zoo zoo zoo and Actual Answer: zoo\n"
          ]
        },
        {
          "output_type": "stream",
          "name": "stderr",
          "text": [
            " 86%|████████▌ | 1047/1221 [03:00<00:30,  5.73it/s]"
          ]
        },
        {
          "output_type": "stream",
          "name": "stdout",
          "text": [
            "Q: What do parents tell a child to do on the weekend?\n",
            "O: study /// begin school /// go out to play /// row boat /// clean room\n",
            "A:  begin school and go out to play basketball game ///\n",
            "\n",
            "\n",
            "Model: begin school and go out to play basketball game /// and Actual Answer: go out to play\n",
            "Q: Why are dogs often known as man's best friend?\n",
            "O: aggressive /// friendly /// very loyal /// found outside /// very smart\n",
            "A:  friendly:  friendly:  friendly:  friendly\n",
            "\n",
            "\n",
            "Model: friendly:  friendly:  friendly:  friendly and Actual Answer: very loyal\n"
          ]
        },
        {
          "output_type": "stream",
          "name": "stderr",
          "text": [
            " 86%|████████▌ | 1049/1221 [03:01<00:29,  5.78it/s]"
          ]
        },
        {
          "output_type": "stream",
          "name": "stdout",
          "text": [
            "Q: Where can you buy a two wheel transportation machine?\n",
            "O: boat /// michigan /// train station /// bicycle shop /// trunk of car\n",
            "A:  train station station station station station station station station station\n",
            "\n",
            "\n",
            "Model: train station station station station station station station station station and Actual Answer: bicycle shop\n",
            "Q: Where might an alien use a vacuum?\n",
            "O: space /// closet /// kitchen /// orbit /// container\n",
            "A:  space closet /// space closet /// space closet\n",
            "\n",
            "\n",
            "Model: space closet and Actual Answer: space\n"
          ]
        },
        {
          "output_type": "stream",
          "name": "stderr",
          "text": [
            " 86%|████████▌ | 1051/1221 [03:01<00:29,  5.81it/s]"
          ]
        },
        {
          "output_type": "stream",
          "name": "stdout",
          "text": [
            "Q: Where do you buy condoms?\n",
            "O: supermarket /// sock drawer /// cd store /// medicine chest /// bedroom\n",
            "A:  pharmacy chestnut bag /// pharmacy baggie baggie\n",
            "\n",
            "\n",
            "Model: pharmacy chestnut bag and Actual Answer: supermarket\n",
            "Q: What animal is known for being a follower?\n",
            "O: goat /// expensive /// lion /// wolf /// meadow\n",
            "A:  lion:  lion:  lion:  lion\n",
            "\n",
            "\n",
            "Model: lion:  lion:  lion:  lion and Actual Answer: goat\n"
          ]
        },
        {
          "output_type": "stream",
          "name": "stderr",
          "text": [
            " 86%|████████▌ | 1053/1221 [03:01<00:29,  5.76it/s]"
          ]
        },
        {
          "output_type": "stream",
          "name": "stdout",
          "text": [
            "Q: The soldier was told to get to the rendezvous point, for there he was suppose to what?\n",
            "O: fight enemy /// go to war /// fight for freedom /// wait for orders /// follow instructions\n",
            "A:  follow instructions /// follow instructions /// follow instructions /// follow\n",
            "\n",
            "\n",
            "Model: follow instructions and Actual Answer: wait for orders\n",
            "Q: If you want to kill someone you can do what to them with a gun?\n",
            "O: sip through /// damnation /// shoot /// commit crime /// eat breakfast\n",
            "A:  commit crime committed crime committed crime committed crime committed crime\n",
            "\n",
            "\n",
            "Model: commit crime committed crime committed crime committed crime committed crime and Actual Answer: shoot\n"
          ]
        },
        {
          "output_type": "stream",
          "name": "stderr",
          "text": [
            " 86%|████████▋ | 1055/1221 [03:02<00:28,  5.82it/s]"
          ]
        },
        {
          "output_type": "stream",
          "name": "stdout",
          "text": [
            "Q: The hostess greeted the employees to the program, she then led them to their what?\n",
            "O: group people /// welcome guests /// occupations /// work room /// seat customer\n",
            "A:  work room customer customers were invited guests were invited guests\n",
            "\n",
            "\n",
            "Model: work room customer customers were invited guests were invited guests and Actual Answer: work room\n",
            "Q: Where is a likely place to store unused soap?\n",
            "O: cabinet /// supermarket /// jail /// butt /// own home\n",
            "A:  own home home home home home home home home home\n",
            "\n",
            "\n",
            "Model: own home home home home home home home home home and Actual Answer: cabinet\n"
          ]
        },
        {
          "output_type": "stream",
          "name": "stderr",
          "text": [
            " 87%|████████▋ | 1057/1221 [03:02<00:28,  5.81it/s]"
          ]
        },
        {
          "output_type": "stream",
          "name": "stdout",
          "text": [
            "Q: Loss of someone you love can cause what kind of feeling in your heart?\n",
            "O: painful /// happy /// blind /// contagious /// bring joy\n",
            "A:  painful and contagious contagious contagious contagious contagious contagious contagious contagious\n",
            "\n",
            "\n",
            "Model: painful and contagious contagious contagious contagious contagious contagious contagious contagious and Actual Answer: painful\n",
            "Q: Where in your home would you keep a ballpoint pen when not in use?\n",
            "O: backpack /// bank /// desk drawer /// eat cake /// office desk\n",
            "A:  desk drawer drawer drawer drawer drawer drawer drawer drawer drawer\n",
            "\n",
            "\n",
            "Model: desk drawer drawer drawer drawer drawer drawer drawer drawer drawer and Actual Answer: desk drawer\n"
          ]
        },
        {
          "output_type": "stream",
          "name": "stderr",
          "text": [
            " 87%|████████▋ | 1059/1221 [03:02<00:28,  5.76it/s]"
          ]
        },
        {
          "output_type": "stream",
          "name": "stdout",
          "text": [
            "Q: James was someone who was caught in his own delusions.  To him, the truth didn't do what what?\n",
            "O: work to advantage /// matter to /// help /// free mind /// further knowledge\n",
            "A:  further knowledge of knowledge of the truth of the truth\n",
            "\n",
            "\n",
            "Model: further knowledge of knowledge of the truth of the truth and Actual Answer: matter to\n",
            "Q: He wanted to live somewhere were every yard was uniform in size and landscaping, where should he look for a house?\n",
            "O: city /// three feet /// subdivision /// parking garage /// michigan\n",
            "A:  city garage garage garage garage garage garage garage garage garage\n",
            "\n",
            "\n",
            "Model: city garage garage garage garage garage garage garage garage garage and Actual Answer: subdivision\n"
          ]
        },
        {
          "output_type": "stream",
          "name": "stderr",
          "text": [
            " 87%|████████▋ | 1061/1221 [03:03<00:27,  5.72it/s]"
          ]
        },
        {
          "output_type": "stream",
          "name": "stdout",
          "text": [
            "Q: The flasks was used to distill elements, where was is being used?\n",
            "O: laboratory /// chemistry lab /// coat pocket /// after hours speakeasy /// bordello\n",
            "A:  laboratory lab lab lab lab lab lab lab lab lab\n",
            "\n",
            "\n",
            "Model: laboratory lab lab lab lab lab lab lab lab lab and Actual Answer: chemistry lab\n",
            "Q: What was the man encouraged to do after he expressed his anger violently?\n",
            "O: cool off /// punch /// illustrate point /// fight /// release energy\n",
            "A:  punch off /// punch off /// punch off\n",
            "\n",
            "\n",
            "Model: punch off and Actual Answer: cool off\n"
          ]
        },
        {
          "output_type": "stream",
          "name": "stderr",
          "text": [
            " 87%|████████▋ | 1063/1221 [03:03<00:27,  5.70it/s]"
          ]
        },
        {
          "output_type": "stream",
          "name": "stdout",
          "text": [
            "Q: Where can a student learn to play a triangle?\n",
            "O: math class /// math book /// in pythagorus' band /// orchestra /// music class\n",
            "A:  music class class class class class class class class class\n",
            "\n",
            "\n",
            "Model: music class class class class class class class class class and Actual Answer: music class\n",
            "Q: What do you need to do to use television if it is already turned on?\n",
            "O: get wet /// open eyes /// kill /// plug in /// first turn on power\n",
            "A:  plug in power in power in power in power in\n",
            "\n",
            "\n",
            "Model: plug in power in power in power in power in and Actual Answer: open eyes\n"
          ]
        },
        {
          "output_type": "stream",
          "name": "stderr",
          "text": [
            " 87%|████████▋ | 1065/1221 [03:04<00:27,  5.63it/s]"
          ]
        },
        {
          "output_type": "stream",
          "name": "stdout",
          "text": [
            "Q: The guys had a regular poker game, rather than going to the movies this what their what?\n",
            "O: competition /// fun game /// losing money /// fun /// social event\n",
            "A:  competition event event event event event event event event event\n",
            "\n",
            "\n",
            "Model: competition event event event event event event event event event and Actual Answer: social event\n",
            "Q: When you stroke a dogs fur what have you done?\n",
            "O: start fighting /// play /// lots of attention /// petted /// bone\n",
            "A:  petted petted by petted by petted\n",
            "\n",
            "\n",
            "Model: petted petted by petted by petted and Actual Answer: petted\n"
          ]
        },
        {
          "output_type": "stream",
          "name": "stderr",
          "text": [
            " 87%|████████▋ | 1067/1221 [03:04<00:26,  5.75it/s]"
          ]
        },
        {
          "output_type": "stream",
          "name": "stdout",
          "text": [
            "Q: Dan fell off a bar stool.  He did this because he was what than ever before?\n",
            "O: kitchen /// drunker /// tavern /// restaurant /// shorter\n",
            "A:  drunker than ever before before before before before before\n",
            "\n",
            "\n",
            "Model: drunker than ever before before before before before before and Actual Answer: drunker\n",
            "Q: The wood was still rough to the touch, what did the woodworker have to do?\n",
            "O: petrify /// sanded /// warp /// composted /// clean\n",
            "A:  sanded /// composted /// composted\n",
            "\n",
            "\n",
            "Model: sanded and Actual Answer: sanded\n"
          ]
        },
        {
          "output_type": "stream",
          "name": "stderr",
          "text": [
            " 88%|████████▊ | 1069/1221 [03:04<00:26,  5.80it/s]"
          ]
        },
        {
          "output_type": "stream",
          "name": "stdout",
          "text": [
            "Q: The chief saw his entire tribe wiped out, he was a leader with a single what?\n",
            "O: peon /// indian /// minister /// follower /// employee\n",
            "A:  follower employee employee employee employee employee employee employee employee employee\n",
            "\n",
            "\n",
            "Model: follower employee employee employee employee employee employee employee employee employee and Actual Answer: follower\n",
            "Q: The flower grew tall to compete for sunlight, what did its neighbor do?\n",
            "O: blossom /// park /// open /// cast shadow /// vase\n",
            "A:  blossom bloom bloom bloom bloom bloom bloom bloom bloom\n",
            "\n",
            "\n",
            "Model: blossom bloom bloom bloom bloom bloom bloom bloom bloom and Actual Answer: cast shadow\n"
          ]
        },
        {
          "output_type": "stream",
          "name": "stderr",
          "text": [
            " 88%|████████▊ | 1071/1221 [03:05<00:26,  5.65it/s]"
          ]
        },
        {
          "output_type": "stream",
          "name": "stdout",
          "text": [
            "Q: If while driving to work another car makes a careless maneuver, what emotion might you feel?\n",
            "O: boredom /// happiness /// transportation cost /// getting there /// road rage\n",
            "A:  road rage rage rage cost money /// road rage cost\n",
            "\n",
            "\n",
            "Model: road rage rage rage cost money and Actual Answer: road rage\n",
            "Q: What kind of food makes someone sick?\n",
            "O: boat /// necessary to live /// edible /// unhealthy /// kitchen\n",
            "A:  unhealthy food and edible food.  unhealthy food.\n",
            "\n",
            "\n",
            "Model: unhealthy food and edible food.  unhealthy food. and Actual Answer: unhealthy\n"
          ]
        },
        {
          "output_type": "stream",
          "name": "stderr",
          "text": [
            " 88%|████████▊ | 1073/1221 [03:05<00:26,  5.66it/s]"
          ]
        },
        {
          "output_type": "stream",
          "name": "stdout",
          "text": [
            "Q: Where would you find the sharpest parts of a triangle?\n",
            "O: three vertices /// point /// 3 sides /// three sides /// math book\n",
            "A:  three sides of triangles /// three sides of triangles ///\n",
            "\n",
            "\n",
            "Model: three sides of triangles and Actual Answer: three vertices\n",
            "Q: How might a automobile get off a freeway?\n",
            "O: exit ramp /// garage /// driveway /// repair shop /// stop light\n",
            "A:  stop light ramp stop light ramp stop light ramp stop\n",
            "\n",
            "\n",
            "Model: stop light ramp stop light ramp stop light ramp stop and Actual Answer: exit ramp\n"
          ]
        },
        {
          "output_type": "stream",
          "name": "stderr",
          "text": [
            " 88%|████████▊ | 1075/1221 [03:05<00:25,  5.74it/s]"
          ]
        },
        {
          "output_type": "stream",
          "name": "stdout",
          "text": [
            "Q: What does going to bed with your spouse for sex lead to?\n",
            "O: bad dreams /// a good nights sleep /// rest /// sleepiness /// get pregnant\n",
            "A:  bad dreams sleepiness and sleepiness /// bad dreams\n",
            "\n",
            "\n",
            "Model: bad dreams sleepiness and sleepiness and Actual Answer: get pregnant\n",
            "Q: What would it be if they get a surprising show over and over?\n",
            "O: surprise /// fight /// annoyance /// might scare /// irritated\n",
            "A:  annoyance might scare or annoyance might scare or annoyance might\n",
            "\n",
            "\n",
            "Model: annoyance might scare or annoyance might scare or annoyance might and Actual Answer: annoyance\n"
          ]
        },
        {
          "output_type": "stream",
          "name": "stderr",
          "text": [
            " 88%|████████▊ | 1077/1221 [03:06<00:25,  5.74it/s]"
          ]
        },
        {
          "output_type": "stream",
          "name": "stdout",
          "text": [
            "Q: Sally thought that competing wasn't worth the risk. If she pushed more what might happen?\n",
            "O: pressure /// trying harder /// put harder /// enemies /// death\n",
            "A:  pressure would happen to you.  put harder harder\n",
            "\n",
            "\n",
            "Model: pressure would happen to you.  put harder harder and Actual Answer: death\n",
            "Q: John is sitting in a toilet stall in a bathroom, outside he can hear cars going around in circles.  What is the function of the place he is most likely at?\n",
            "O: eating food /// public place /// race track /// at hotel /// public building\n",
            "A:  public building /// public building /// public building /// public\n",
            "\n",
            "\n",
            "Model: public building and Actual Answer: race track\n"
          ]
        },
        {
          "output_type": "stream",
          "name": "stderr",
          "text": [
            " 88%|████████▊ | 1079/1221 [03:06<00:24,  5.77it/s]"
          ]
        },
        {
          "output_type": "stream",
          "name": "stdout",
          "text": [
            "Q: What event might one buy tickets for seats?\n",
            "O: park /// show /// auditorium /// movies /// rest area\n",
            "A:  auditorium /// auditorium /// auditorium area\n",
            "\n",
            "\n",
            "Model: auditorium and Actual Answer: show\n",
            "Q: The merchant wanted to open in a high-traffic space, where did he rent space?\n",
            "O: mall /// business /// store /// sale /// sell goods\n",
            "A:  store space space space space space space space space space\n",
            "\n",
            "\n",
            "Model: store space space space space space space space space space and Actual Answer: mall\n"
          ]
        },
        {
          "output_type": "stream",
          "name": "stderr",
          "text": [
            " 89%|████████▊ | 1081/1221 [03:06<00:24,  5.77it/s]"
          ]
        },
        {
          "output_type": "stream",
          "name": "stdout",
          "text": [
            "Q: The newlyweds began copulating their marriage, they wanted many what?\n",
            "O: babies /// odors /// sadness /// rapport /// ejaculation\n",
            "A:  babies babies babies babies babies babies babies babies babies babies\n",
            "\n",
            "\n",
            "Model: babies babies babies babies babies babies babies babies babies babies and Actual Answer: babies\n",
            "Q: How does a planet usually move around the sun?\n",
            "O: writing /// universe /// outer space /// outerspace /// orbit\n",
            "A:  outer space space space space space space space space space\n",
            "\n",
            "\n",
            "Model: outer space space space space space space space space space and Actual Answer: orbit\n"
          ]
        },
        {
          "output_type": "stream",
          "name": "stderr",
          "text": [
            " 89%|████████▊ | 1083/1221 [03:07<00:23,  5.83it/s]"
          ]
        },
        {
          "output_type": "stream",
          "name": "stdout",
          "text": [
            "Q: When a group of people are talking at work they might be doing what?\n",
            "O: having a concert. /// cough /// sharing of ideas /// speak /// sneeze\n",
            "A:  sharing of ideas. /// sharing of ideas. ///\n",
            "\n",
            "\n",
            "Model: sharing of ideas. and Actual Answer: sharing of ideas\n",
            "Q: What emotion leads to punching?\n",
            "O: fists /// hitting /// boxing gloves /// anger /// hands\n",
            "A:  fists fists fists fists fists fists fists fists fists fists\n",
            "\n",
            "\n",
            "Model: fists fists fists fists fists fists fists fists fists fists and Actual Answer: anger\n"
          ]
        },
        {
          "output_type": "stream",
          "name": "stderr",
          "text": [
            " 89%|████████▉ | 1085/1221 [03:07<00:23,  5.86it/s]"
          ]
        },
        {
          "output_type": "stream",
          "name": "stdout",
          "text": [
            "Q: They kept doing things the same, she suggested they also try doing things what?\n",
            "O: differently /// otherwise /// expensive /// only /// mere\n",
            "A:  only otherwise than expensive /// otherwise\n",
            "\n",
            "\n",
            "Model: only otherwise than expensive and Actual Answer: differently\n",
            "Q: Where could you find a shark before it was caught?\n",
            "O: pool hall /// tomales bay /// marine museum /// business /// desert\n",
            "A:  ocean museum museum museum museum museum museum museum museum museum\n",
            "\n",
            "\n",
            "Model: ocean museum museum museum museum museum museum museum museum museum and Actual Answer: tomales bay\n"
          ]
        },
        {
          "output_type": "stream",
          "name": "stderr",
          "text": [
            " 89%|████████▉ | 1087/1221 [03:07<00:22,  5.85it/s]"
          ]
        },
        {
          "output_type": "stream",
          "name": "stdout",
          "text": [
            "Q: Where is one likely to find poker chips?\n",
            "O: supermarket /// pantry /// motherboard /// bar /// bar\n",
            "A:  barber shop shop shop shop shop shop shop shop\n",
            "\n",
            "\n",
            "Model: barber shop shop shop shop shop shop shop shop and Actual Answer: bar\n",
            "Q: Dance can be elegant and specific, or you can just have fun and what?\n",
            "O: falling down /// trip /// fall down /// move around /// celebrate\n",
            "A:  fall down down down down down down down down down\n",
            "\n",
            "\n",
            "Model: fall down down down down down down down down down and Actual Answer: move around\n"
          ]
        },
        {
          "output_type": "stream",
          "name": "stderr",
          "text": [
            " 89%|████████▉ | 1089/1221 [03:08<00:23,  5.70it/s]"
          ]
        },
        {
          "output_type": "stream",
          "name": "stdout",
          "text": [
            "Q: Where can one obtain a bass fiddle?\n",
            "O: jazz band /// string quartet /// group band /// nursery rhyme /// music store\n",
            "A:  jazz band band band band band band band band band\n",
            "\n",
            "\n",
            "Model: jazz band band band band band band band band band and Actual Answer: music store\n",
            "Q: Why does having a disability sometimes making academic tasks hard for a person?\n",
            "O: mentally challenged /// have choice /// lots of space /// hungry /// acknowledgment\n",
            "A:  mentally challenged or have choice to do many things for\n",
            "\n",
            "\n",
            "Model: mentally challenged or have choice to do many things for and Actual Answer: mentally challenged\n"
          ]
        },
        {
          "output_type": "stream",
          "name": "stderr",
          "text": [
            " 89%|████████▉ | 1091/1221 [03:08<00:22,  5.74it/s]"
          ]
        },
        {
          "output_type": "stream",
          "name": "stdout",
          "text": [
            "Q: What is the purpose of playing games for children?\n",
            "O: winning /// learning /// losing /// fatigue /// skill\n",
            "A:  learning about game /// learning about game\n",
            "\n",
            "\n",
            "Model: learning about game and Actual Answer: learning\n",
            "Q: If for some reason you were to start killing people, what would you be likely to receive?\n",
            "O: feelings of guilt /// prison sentence /// terrible /// encouragement /// die\n",
            "A:  prison sentence sentence sentence sentence sentence sentence sentence sentence sentence\n",
            "\n",
            "\n",
            "Model: prison sentence sentence sentence sentence sentence sentence sentence sentence sentence and Actual Answer: prison sentence\n"
          ]
        },
        {
          "output_type": "stream",
          "name": "stderr",
          "text": [
            " 90%|████████▉ | 1093/1221 [03:08<00:22,  5.76it/s]"
          ]
        },
        {
          "output_type": "stream",
          "name": "stdout",
          "text": [
            "Q: If someone laughs after surprising them they have a good sense of what?\n",
            "O: joy /// fight /// frightened /// humor /// laughter\n",
            "A:  laughter and laughter and laughter are funny.  laughter\n",
            "\n",
            "\n",
            "Model: laughter and laughter and laughter are funny.  laughter and Actual Answer: humor\n",
            "Q: People played a variety of games in the soccer field.  It was the closest thing they had to what?\n",
            "O: town /// beach /// park /// near /// outside\n",
            "A:  park near town outside town outside town outside town outside\n",
            "\n",
            "\n",
            "Model: park near town outside town outside town outside town outside and Actual Answer: park\n"
          ]
        },
        {
          "output_type": "stream",
          "name": "stderr",
          "text": [
            " 90%|████████▉ | 1095/1221 [03:09<00:21,  5.81it/s]"
          ]
        },
        {
          "output_type": "stream",
          "name": "stdout",
          "text": [
            "Q: What is likely to have a better school cafeteria?\n",
            "O: high school /// canteen /// polytechnic /// large room /// all kinds of schools\n",
            "A:  large room room room room room room room room room\n",
            "\n",
            "\n",
            "Model: large room room room room room room room room room and Actual Answer: polytechnic\n",
            "Q: When someone has little knowledge and is judging someone they are considered what?\n",
            "O: objectivity /// knowing yourself /// experience /// ignorance /// introduction\n",
            "A:  knowledge of yourself and experience yourself and experience yourself and\n",
            "\n",
            "\n",
            "Model: knowledge of yourself and experience yourself and experience yourself and and Actual Answer: ignorance\n"
          ]
        },
        {
          "output_type": "stream",
          "name": "stderr",
          "text": [
            " 90%|████████▉ | 1097/1221 [03:09<00:21,  5.83it/s]"
          ]
        },
        {
          "output_type": "stream",
          "name": "stdout",
          "text": [
            "Q: She wanted to get in shape, but she couldn't stay focused on the hour long what?\n",
            "O: sweating /// excercise /// work out /// video /// swim\n",
            "A:  sweating out of sweat and sweating out of sweat and\n",
            "\n",
            "\n",
            "Model: sweating out of sweat and sweating out of sweat and and Actual Answer: work out\n",
            "Q: When you do something and have fun, its something you?\n",
            "O: spontaneous /// stop working /// pay for /// do like /// do enjoy\n",
            "A:  spontaneous do like like like like like like like like\n",
            "\n",
            "\n",
            "Model: spontaneous do like like like like like like like like and Actual Answer: do enjoy\n"
          ]
        },
        {
          "output_type": "stream",
          "name": "stderr",
          "text": [
            " 90%|█████████ | 1099/1221 [03:09<00:21,  5.78it/s]"
          ]
        },
        {
          "output_type": "stream",
          "name": "stdout",
          "text": [
            "Q: What is a salesman responsible to do at work?\n",
            "O: traveling to chicago /// get fired /// books /// sell products /// service account\n",
            "A:  get fired or sell products or sell products or sell\n",
            "\n",
            "\n",
            "Model: get fired or sell products or sell products or sell and Actual Answer: sell products\n",
            "Q: How does going jogging generally affect one's self esteem?\n",
            "O: feel better /// feel pride /// sweating /// ocean /// arthritis\n",
            "A:  feel pride and feel pride and feel pride and feel\n",
            "\n",
            "\n",
            "Model: feel pride and feel pride and feel pride and feel and Actual Answer: feel better\n"
          ]
        },
        {
          "output_type": "stream",
          "name": "stderr",
          "text": [
            " 90%|█████████ | 1101/1221 [03:10<00:20,  5.83it/s]"
          ]
        },
        {
          "output_type": "stream",
          "name": "stdout",
          "text": [
            "Q: Where would you find people standing in a line outside?\n",
            "O: bus depot /// end of line /// opera /// neighbor's house /// meeting\n",
            "A:  bus depot depot depot depot depot depot depot depot depot\n",
            "\n",
            "\n",
            "Model: bus depot depot depot depot depot depot depot depot depot and Actual Answer: bus depot\n",
            "Q: If you are committing perjury you have done what while under oath?\n",
            "O: crime /// disrespect judge /// embarrassment /// lie /// indictment\n",
            "A:  perjury indictment indictment indictment indictment indictment indictment indictment indictment indictment\n",
            "\n",
            "\n",
            "Model: perjury indictment indictment indictment indictment indictment indictment indictment indictment indictment and Actual Answer: lie\n"
          ]
        },
        {
          "output_type": "stream",
          "name": "stderr",
          "text": [
            " 90%|█████████ | 1103/1221 [03:10<00:20,  5.85it/s]"
          ]
        },
        {
          "output_type": "stream",
          "name": "stdout",
          "text": [
            "Q: Where can you find the meaning of \"ficus\"?\n",
            "O: dictionary /// apartment /// libary /// middle east /// arboretum\n",
            "A:  dictionary dictionary dictionary dictionary dictionary dictionary dictionary dictionary dictionary dictionary\n",
            "\n",
            "\n",
            "Model: dictionary dictionary dictionary dictionary dictionary dictionary dictionary dictionary dictionary dictionary and Actual Answer: dictionary\n",
            "Q: When are people buying products more?\n",
            "O: debt /// economic boom /// being able to use /// disagreements /// trading\n",
            "A:  trading boom or being able to use money /// trade\n",
            "\n",
            "\n",
            "Model: trading boom or being able to use money and Actual Answer: economic boom\n"
          ]
        },
        {
          "output_type": "stream",
          "name": "stderr",
          "text": [
            " 90%|█████████ | 1105/1221 [03:10<00:19,  5.84it/s]"
          ]
        },
        {
          "output_type": "stream",
          "name": "stdout",
          "text": [
            "Q: The buildings were intended to not have residential kitchens in them, what were they designed for?\n",
            "O: large city /// small /// eat cake /// university /// town\n",
            "A:  town town town town town town town town town town\n",
            "\n",
            "\n",
            "Model: town town town town town town town town town town and Actual Answer: university\n",
            "Q: Animals come in all types, some fly thanks to their lightweight hollow what?\n",
            "O: tails /// bones /// eyes /// heads /// bodies\n",
            "A:  tails tails tails tails tails tails tails tails tails tails\n",
            "\n",
            "\n",
            "Model: tails tails tails tails tails tails tails tails tails tails and Actual Answer: bones\n"
          ]
        },
        {
          "output_type": "stream",
          "name": "stderr",
          "text": [
            " 91%|█████████ | 1107/1221 [03:11<00:19,  5.83it/s]"
          ]
        },
        {
          "output_type": "stream",
          "name": "stdout",
          "text": [
            "Q: The child felt like it was all pretend, he didn't understand what?\n",
            "O: people believe /// daydreams /// transcendentalism /// laughter /// religion\n",
            "A:  people believe in godfathers belief in godfather\n",
            "\n",
            "\n",
            "Model: people believe in godfathers belief in godfather and Actual Answer: religion\n",
            "Q: Where is a lake likely to be glacial?\n",
            "O: michigan /// new york /// new york /// mountains /// countryside\n",
            "A:  countryside countryside countryside countryside countryside countryside countryside countryside countryside countryside\n",
            "\n",
            "\n",
            "Model: countryside countryside countryside countryside countryside countryside countryside countryside countryside countryside and Actual Answer: mountains\n"
          ]
        },
        {
          "output_type": "stream",
          "name": "stderr",
          "text": [
            " 91%|█████████ | 1109/1221 [03:11<00:19,  5.87it/s]"
          ]
        },
        {
          "output_type": "stream",
          "name": "stdout",
          "text": [
            "Q: They needed grape juice for their party, they went to buy it and other snacks at the what?\n",
            "O: field /// restaurant /// salad /// market /// food store\n",
            "A:  restaurant restaurant restaurant restaurant restaurant restaurant restaurant restaurant restaurant restaurant\n",
            "\n",
            "\n",
            "Model: restaurant restaurant restaurant restaurant restaurant restaurant restaurant restaurant restaurant restaurant and Actual Answer: food store\n",
            "Q: Why do some people get passports and go to different locations?\n",
            "O: believe in god /// smoke marijuana /// desire to travel /// use weapons /// throw away\n",
            "A:  desire to travel to travel to different locations /// desire\n",
            "\n",
            "\n",
            "Model: desire to travel to travel to different locations and Actual Answer: desire to travel\n"
          ]
        },
        {
          "output_type": "stream",
          "name": "stderr",
          "text": [
            " 91%|█████████ | 1111/1221 [03:12<00:19,  5.68it/s]"
          ]
        },
        {
          "output_type": "stream",
          "name": "stdout",
          "text": [
            "Q: Where do apples form on an apple tree?\n",
            "O: south africa /// sunshine /// new york /// bloom /// trunk\n",
            "A:  new york city /// new york city ///\n",
            "\n",
            "\n",
            "Model: new york city and Actual Answer: bloom\n",
            "Q: Where areas are there likely to be many nightclubs?\n",
            "O: manhattan /// drink and dance /// alcohol /// major city /// downtown area\n",
            "A:  downtown area area area area area area area area area\n",
            "\n",
            "\n",
            "Model: downtown area area area area area area area area area and Actual Answer: major city\n"
          ]
        },
        {
          "output_type": "stream",
          "name": "stderr",
          "text": [
            " 91%|█████████ | 1113/1221 [03:12<00:18,  5.69it/s]"
          ]
        },
        {
          "output_type": "stream",
          "name": "stdout",
          "text": [
            "Q: What can machines do that humans cannot?\n",
            "O: fail to work /// perform work /// answering questions /// see work /// fly\n",
            "A:  perform work workworkworkworkworkworkworkwork\n",
            "\n",
            "\n",
            "Model: perform work workworkworkworkworkworkworkwork and Actual Answer: fly\n",
            "Q: What does someone stop doing when being dead?\n",
            "O: moving /// working /// breathing /// alive /// deadworks\n",
            "A:  breathing alive alive alive alive alive alive alive alive alive\n",
            "\n",
            "\n",
            "Model: breathing alive alive alive alive alive alive alive alive alive and Actual Answer: breathing\n"
          ]
        },
        {
          "output_type": "stream",
          "name": "stderr",
          "text": [
            " 91%|█████████▏| 1115/1221 [03:12<00:18,  5.77it/s]"
          ]
        },
        {
          "output_type": "stream",
          "name": "stdout",
          "text": [
            "Q: The place where my linen closet is really needs repainting a light color as it only has one overhead light.\n",
            "O: house /// home /// pool house /// hallway /// bedroom\n",
            "A:  bedroom hall hall hall hall hall hall hall hall hall\n",
            "\n",
            "\n",
            "Model: bedroom hall hall hall hall hall hall hall hall hall and Actual Answer: hallway\n",
            "Q: Punk rock music is an important part of what action sport?\n",
            "O: skate /// listen /// opera /// opera /// relax\n",
            "A:  opera opera opera opera opera opera opera opera opera opera\n",
            "\n",
            "\n",
            "Model: opera opera opera opera opera opera opera opera opera opera and Actual Answer: skate\n"
          ]
        },
        {
          "output_type": "stream",
          "name": "stderr",
          "text": [
            " 91%|█████████▏| 1117/1221 [03:13<00:18,  5.75it/s]"
          ]
        },
        {
          "output_type": "stream",
          "name": "stdout",
          "text": [
            "Q: Where might a mouse be found to make it country?\n",
            "O: kitchen /// cook /// computer lab /// old barn /// research laboratory\n",
            "A:  research laboratory laboratory laboratory laboratory laboratory laboratory laboratory laboratory laboratory\n",
            "\n",
            "\n",
            "Model: research laboratory laboratory laboratory laboratory laboratory laboratory laboratory laboratory laboratory and Actual Answer: old barn\n",
            "Q: Where is a bird likely to make it's home?\n",
            "O: forest /// nest /// roof /// leaves /// sky\n",
            "A:  roof roof roof roof roof roof roof roof roof roof\n",
            "\n",
            "\n",
            "Model: roof roof roof roof roof roof roof roof roof roof and Actual Answer: forest\n"
          ]
        },
        {
          "output_type": "stream",
          "name": "stderr",
          "text": [
            " 92%|█████████▏| 1119/1221 [03:13<00:17,  5.70it/s]"
          ]
        },
        {
          "output_type": "stream",
          "name": "stdout",
          "text": [
            "Q: When a person suffers from hunger early in the day what do they do?\n",
            "O: eat hamburger /// eat breakfast /// open fridge /// buy food /// cook dinner\n",
            "A:  eat breakfast early in the day of day of day\n",
            "\n",
            "\n",
            "Model: eat breakfast early in the day of day of day and Actual Answer: eat breakfast\n",
            "Q: How would you express information if you do not have a pen or pencil?\n",
            "O: may disagree /// close mouth /// write down /// talk /// eyes\n",
            "A:  may disagree with me or close mouth /// open mouth\n",
            "\n",
            "\n",
            "Model: may disagree with me or close mouth and Actual Answer: talk\n"
          ]
        },
        {
          "output_type": "stream",
          "name": "stderr",
          "text": [
            " 92%|█████████▏| 1121/1221 [03:13<00:17,  5.67it/s]"
          ]
        },
        {
          "output_type": "stream",
          "name": "stdout",
          "text": [
            "Q: What does everyone feel of monsters?\n",
            "O: looking for love /// afraid of /// good at /// make pet /// different\n",
            "A:  fear of love or make petting each other ///\n",
            "\n",
            "\n",
            "Model: fear of love or make petting each other /// and Actual Answer: afraid of\n",
            "Q: Why does someone want to examine thing closely?\n",
            "O: buy /// learn about /// buy /// complex /// interesting\n",
            "A:  learn about about about about about about about about about\n",
            "\n",
            "\n",
            "Model: learn about about about about about about about about about and Actual Answer: learn about\n"
          ]
        },
        {
          "output_type": "stream",
          "name": "stderr",
          "text": [
            " 92%|█████████▏| 1123/1221 [03:14<00:17,  5.63it/s]"
          ]
        },
        {
          "output_type": "stream",
          "name": "stdout",
          "text": [
            "Q: What does \tdrinking alcohol lead to?\n",
            "O: have fun /// intoxication /// vomiting /// drinking more alcohol /// nausea\n",
            "A:  nausea and vomiting is vomiting.  nausea and vomiting\n",
            "\n",
            "\n",
            "Model: nausea and vomiting is vomiting.  nausea and vomiting and Actual Answer: intoxication\n",
            "Q: Where would your hear a bass clarinet along side other wood wind instruments?\n",
            "O: opera house /// school band /// music store /// orchestra /// bathroom stall\n",
            "A:  orchestra stall stall stall stall stall stall stall stall stall\n",
            "\n",
            "\n",
            "Model: orchestra stall stall stall stall stall stall stall stall stall and Actual Answer: orchestra\n"
          ]
        },
        {
          "output_type": "stream",
          "name": "stderr",
          "text": [
            " 92%|█████████▏| 1125/1221 [03:14<00:17,  5.61it/s]"
          ]
        },
        {
          "output_type": "stream",
          "name": "stdout",
          "text": [
            "Q: What is the opposite of a little of something?\n",
            "O: much /// plenty /// more /// big /// lot of\n",
            "A:  big lot of\n",
            "\n",
            "\n",
            "Model: big lot of and Actual Answer: lot of\n",
            "Q: The princess was pure, the evil wizard wished to do what to her?\n",
            "O: dirty /// tarnish /// corrupt /// contaminated /// applied\n",
            "A:  applied to her, applied to her, applied to\n",
            "\n",
            "\n",
            "Model: applied to her, applied to her, applied to and Actual Answer: corrupt\n"
          ]
        },
        {
          "output_type": "stream",
          "name": "stderr",
          "text": [
            " 92%|█████████▏| 1127/1221 [03:14<00:16,  5.65it/s]"
          ]
        },
        {
          "output_type": "stream",
          "name": "stdout",
          "text": [
            "Q: The piece of paper was worth a lot of money, it was an old Apple Inc what?\n",
            "O: notebook /// copy machine /// stock certificate /// ream /// thumb drive\n",
            "A:  stock certificate certificate certificate certificate certificate certificate certificate certificate certificate\n",
            "\n",
            "\n",
            "Model: stock certificate certificate certificate certificate certificate certificate certificate certificate certificate and Actual Answer: stock certificate\n",
            "Q: During the winter hunt he could hear every motion in the woods, this was because of the what of everything?\n",
            "O: being still /// silence /// stationary /// stillness /// standing still\n",
            "A:  silence stillness stillness stillness stillness still\n",
            "\n",
            "\n",
            "Model: silence stillness stillness stillness stillness still and Actual Answer: stillness\n"
          ]
        },
        {
          "output_type": "stream",
          "name": "stderr",
          "text": [
            " 92%|█████████▏| 1129/1221 [03:15<00:16,  5.67it/s]"
          ]
        },
        {
          "output_type": "stream",
          "name": "stdout",
          "text": [
            "Q: If a car-less person want to listen to talk radio in private, where might they listen to it?\n",
            "O: trunk /// bedroom /// diner /// space shuttle /// shop\n",
            "A:  space shuttle shuttle shuttle shuttle shuttle shuttle shuttle shuttle shuttle\n",
            "\n",
            "\n",
            "Model: space shuttle shuttle shuttle shuttle shuttle shuttle shuttle shuttle shuttle and Actual Answer: bedroom\n",
            "Q: Billy was an astronaut.  When he looked at the world from space, how did it look?\n",
            "O: diverse /// round /// square /// orange /// complicated\n",
            "A:  square roundabout\n",
            "\n",
            "\n",
            "Model: square roundabout and Actual Answer: round\n"
          ]
        },
        {
          "output_type": "stream",
          "name": "stderr",
          "text": [
            " 93%|█████████▎| 1131/1221 [03:15<00:15,  5.73it/s]"
          ]
        },
        {
          "output_type": "stream",
          "name": "stdout",
          "text": [
            "Q: Where is a good place to have a fireplace in a house?\n",
            "O: big house /// train /// cabin /// living room /// home\n",
            "A:  living room /// living room /// living room\n",
            "\n",
            "\n",
            "Model: living room and Actual Answer: living room\n",
            "Q: If you own a cat where is the last place you'd want to find it?\n",
            "O: trouble /// dog's mouth /// backyard /// nature /// home\n",
            "A:  backyard backyard backyard backyard backyard backyard backyard backyard backyard backyard\n",
            "\n",
            "\n",
            "Model: backyard backyard backyard backyard backyard backyard backyard backyard backyard backyard and Actual Answer: dog's mouth\n"
          ]
        },
        {
          "output_type": "stream",
          "name": "stderr",
          "text": [
            " 93%|█████████▎| 1133/1221 [03:15<00:15,  5.72it/s]"
          ]
        },
        {
          "output_type": "stream",
          "name": "stdout",
          "text": [
            "Q: Where would you find a kosher deli along side a number of different places to eat?\n",
            "O: los angeles /// food court /// new york city /// jewish community /// jewish neighborhoods\n",
            "A:  jewish community neighborhood\n",
            "\n",
            "\n",
            "Model: jewish community neighborhood and Actual Answer: food court\n",
            "Q: What do you do when you're going to market?\n",
            "O: buy food /// see other people /// buying vegetables /// buy a fat pig /// traveling\n",
            "A:  buy food and vegetables and vegetables and vegetables and vegetables\n",
            "\n",
            "\n",
            "Model: buy food and vegetables and vegetables and vegetables and vegetables and Actual Answer: buy food\n"
          ]
        },
        {
          "output_type": "stream",
          "name": "stderr",
          "text": [
            " 93%|█████████▎| 1135/1221 [03:16<00:15,  5.67it/s]"
          ]
        },
        {
          "output_type": "stream",
          "name": "stdout",
          "text": [
            "Q: She feared that she had cancer, but upon discovering truth that she hadn't, what was her attitude toward life?\n",
            "O: conclusion /// pain /// happiness /// relief /// boring\n",
            "A:  relief from cancer. /// relief from cancer. ///\n",
            "\n",
            "\n",
            "Model: relief from cancer. and Actual Answer: happiness\n",
            "Q: What is the feeling of one having fun?\n",
            "O: smiling /// pleasure /// hurt /// injuries /// laughter\n",
            "A:  happiness and injury injury injury injury injury injury injury injury\n",
            "\n",
            "\n",
            "Model: happiness and injury injury injury injury injury injury injury injury and Actual Answer: pleasure\n"
          ]
        },
        {
          "output_type": "stream",
          "name": "stderr",
          "text": [
            " 93%|█████████▎| 1137/1221 [03:16<00:14,  5.64it/s]"
          ]
        },
        {
          "output_type": "stream",
          "name": "stdout",
          "text": [
            "Q: If I keep getting crumbs under my table, what should I put under it?\n",
            "O: conference /// neighbor's house /// rug /// net /// card room\n",
            "A:  rug room room room room room room room room room\n",
            "\n",
            "\n",
            "Model: rug room room room room room room room room room and Actual Answer: rug\n",
            "Q: Christians believe you will go to heaven if you're what?\n",
            "O: unable to work /// born again /// change of color /// dead /// no longer exist\n",
            "A:  no longer exist or exist or exist or exist or\n",
            "\n",
            "\n",
            "Model: no longer exist or exist or exist or exist or and Actual Answer: born again\n"
          ]
        },
        {
          "output_type": "stream",
          "name": "stderr",
          "text": [
            " 93%|█████████▎| 1139/1221 [03:16<00:14,  5.48it/s]"
          ]
        },
        {
          "output_type": "stream",
          "name": "stdout",
          "text": [
            "Q: James loved to surf but he wasn't good at it. He would always do what?\n",
            "O: wipe out /// enjoy yourself /// start fighting /// get wet /// drown\n",
            "A:  enjoy yourselfselfselfselfselfselfselfselfself\n",
            "\n",
            "\n",
            "Model: enjoy yourselfselfselfselfselfselfselfselfself and Actual Answer: wipe out\n",
            "Q: Sarah gave her brother a guy to her home.  While she was gone, he used it to do what?\n",
            "O: front door /// turn lock /// solution to problem /// install /// open doors\n",
            "A:  install solution to problem to problem to problem to problem\n",
            "\n",
            "\n",
            "Model: install solution to problem to problem to problem to problem and Actual Answer: open doors\n"
          ]
        },
        {
          "output_type": "stream",
          "name": "stderr",
          "text": [
            " 93%|█████████▎| 1141/1221 [03:17<00:14,  5.61it/s]"
          ]
        },
        {
          "output_type": "stream",
          "name": "stdout",
          "text": [
            "Q: When did mammoth's live?\n",
            "O: boscage /// forest /// prehistory /// prehistoric times /// ancient times\n",
            "A:  prehistory times history times times times times times times\n",
            "\n",
            "\n",
            "Model: prehistory times history times times times times times times and Actual Answer: ancient times\n",
            "Q: After killing people, the murderer went to church after feeling what?\n",
            "O: murder /// remorse /// religious /// retaliation /// anguish\n",
            "A:  retribution vengeance. vengeance. vengeance. retribution. retribution\n",
            "\n",
            "\n",
            "Model: retribution vengeance. vengeance. vengeance. retribution. retribution and Actual Answer: remorse\n"
          ]
        },
        {
          "output_type": "stream",
          "name": "stderr",
          "text": [
            " 94%|█████████▎| 1143/1221 [03:17<00:13,  5.68it/s]"
          ]
        },
        {
          "output_type": "stream",
          "name": "stdout",
          "text": [
            "Q: What might result in an unsuccessful suicide attempt?\n",
            "O: die /// interruption /// bleed /// hatred /// dying\n",
            "A:  die instantlyaneously in death in death in death in\n",
            "\n",
            "\n",
            "Model: die instantlyaneously in death in death in death in and Actual Answer: interruption\n",
            "Q: What can happen if you are buying products that someone else does not want you to buy?\n",
            "O: joy /// disagreements /// agony /// pleasure /// owning\n",
            "A:  joy and pleasure /// pleasure and pleasure /// pleasure and\n",
            "\n",
            "\n",
            "Model: joy and pleasure and Actual Answer: disagreements\n"
          ]
        },
        {
          "output_type": "stream",
          "name": "stderr",
          "text": [
            " 94%|█████████▍| 1145/1221 [03:18<00:13,  5.63it/s]"
          ]
        },
        {
          "output_type": "stream",
          "name": "stdout",
          "text": [
            "Q: The child was getting many gifts for his birthday, his father reminded him to do what after opening each one?\n",
            "O: show appreciation /// asking for /// exchanging /// say thank /// smile\n",
            "A:  exchange greetings for gifts for gifts for gifts for\n",
            "\n",
            "\n",
            "Model: exchange greetings for gifts for gifts for gifts for and Actual Answer: say thank\n",
            "Q: Bob stands in the grass surrounded by trees and nature, where is Bob?\n",
            "O: rest area /// desert /// state park /// fairgrounds /// soccer game\n",
            "A:  state park park park park park park park park park\n",
            "\n",
            "\n",
            "Model: state park park park park park park park park park and Actual Answer: state park\n"
          ]
        },
        {
          "output_type": "stream",
          "name": "stderr",
          "text": [
            " 94%|█████████▍| 1147/1221 [03:18<00:13,  5.61it/s]"
          ]
        },
        {
          "output_type": "stream",
          "name": "stdout",
          "text": [
            "Q: Bart entered his horse into the contest.  Where did he do this?\n",
            "O: circus /// in kentucky /// western movie /// central park /// state fair\n",
            "A:  state fairgrounds fairgrounds fairgroundsgroundsgroundsgrounds\n",
            "\n",
            "\n",
            "Model: state fairgrounds fairgrounds fairgroundsgroundsgroundsgrounds and Actual Answer: state fair\n",
            "Q: From where does a snowflake form?\n",
            "O: cloud /// snow storm /// billow /// air /// snowstorm\n",
            "A:  snowstormstormstormstormstormstormstormstormstorm\n",
            "\n",
            "\n",
            "Model: snowstormstormstormstormstormstormstormstormstorm and Actual Answer: cloud\n"
          ]
        },
        {
          "output_type": "stream",
          "name": "stderr",
          "text": [
            " 94%|█████████▍| 1149/1221 [03:18<00:12,  5.66it/s]"
          ]
        },
        {
          "output_type": "stream",
          "name": "stdout",
          "text": [
            "Q: All the power tools like the drill used for fixing cars made for a very loud workplace where?\n",
            "O: basement /// work shop /// tool shed /// repair shop /// store room\n",
            "A:  repair shoproom room room room room room room room\n",
            "\n",
            "\n",
            "Model: repair shoproom room room room room room room room and Actual Answer: repair shop\n",
            "Q: Applying for a job can make someone feel what sort of emotion, even if they get it?\n",
            "O: working hard /// frustration /// rejection /// defeat /// stress\n",
            "A:  stressor or frustration /// frustration or frustration\n",
            "\n",
            "\n",
            "Model: stressor or frustration and Actual Answer: stress\n"
          ]
        },
        {
          "output_type": "stream",
          "name": "stderr",
          "text": [
            " 94%|█████████▍| 1151/1221 [03:19<00:12,  5.64it/s]"
          ]
        },
        {
          "output_type": "stream",
          "name": "stdout",
          "text": [
            "Q: A farmer sees a weasel in the woods, where is the farmer?\n",
            "O: chicken coop /// beach /// fairytale /// great outdoors /// corn fields\n",
            "A:  great outdoors outdoors outdoors.  great outdoors. great\n",
            "\n",
            "\n",
            "Model: great outdoors outdoors outdoors.  great outdoors. great and Actual Answer: great outdoors\n",
            "Q: He picked up the perfect pebble, he planned to skip it across the entire small what?\n",
            "O: manual /// lake /// aquarium /// pond /// playground\n",
            "A:  pond pond pond pond pond pond pond pond pond pond\n",
            "\n",
            "\n",
            "Model: pond pond pond pond pond pond pond pond pond pond and Actual Answer: pond\n"
          ]
        },
        {
          "output_type": "stream",
          "name": "stderr",
          "text": [
            " 94%|█████████▍| 1153/1221 [03:19<00:12,  5.66it/s]"
          ]
        },
        {
          "output_type": "stream",
          "name": "stdout",
          "text": [
            "Q: Traveling from new place to new place is likely to be what?\n",
            "O: going somewhere /// exhilarating /// diarrhea /// relocation /// exhausting\n",
            "A:  exhausting and exhausting and exhausting and exhausting and exhausting and\n",
            "\n",
            "\n",
            "Model: exhausting and exhausting and exhausting and exhausting and exhausting and and Actual Answer: exhilarating\n",
            "Q: Turkey only has a small northern part of their country located in part of the what?\n",
            "O: middle east /// oven /// balkan peninsula /// provide meat /// asia minor\n",
            "A:  middle east /// middle east /// middle east\n",
            "\n",
            "\n",
            "Model: middle east and Actual Answer: balkan peninsula\n"
          ]
        },
        {
          "output_type": "stream",
          "name": "stderr",
          "text": [
            " 95%|█████████▍| 1155/1221 [03:19<00:11,  5.59it/s]"
          ]
        },
        {
          "output_type": "stream",
          "name": "stdout",
          "text": [
            "Q: Where might someone store a reusable shopping bag?\n",
            "O: supermarket /// home /// mart /// obesity /// closet\n",
            "A:  home depot store store store store store store store store\n",
            "\n",
            "\n",
            "Model: home depot store store store store store store store store and Actual Answer: closet\n",
            "Q: How could you have fun by yourself with no one around you?\n",
            "O: fairgrounds /// watching television /// tired /// enjoyable /// friend's house\n",
            "A:  friend's house is friend's house is friend's\n",
            "\n",
            "\n",
            "Model: friend's house is friend's house is friend's and Actual Answer: watching television\n"
          ]
        },
        {
          "output_type": "stream",
          "name": "stderr",
          "text": [
            " 95%|█████████▍| 1157/1221 [03:20<00:11,  5.57it/s]"
          ]
        },
        {
          "output_type": "stream",
          "name": "stdout",
          "text": [
            "Q: The potato might be the official vegetable of what?\n",
            "O: vegans /// kitchen cupboard /// restaurants /// chicken /// maryland\n",
            "A:  restaurant cupboardboardboard cupboard cupboard cup\n",
            "\n",
            "\n",
            "Model: restaurant cupboardboardboard cupboard cupboard cup and Actual Answer: maryland\n",
            "Q: Where is the sky most beautiful?\n",
            "O: planetarium /// outdoors /// atmosphere /// night /// photo\n",
            "A:  atmosphereariumariumariumariumariumariumariumariumarium\n",
            "\n",
            "\n",
            "Model: atmosphereariumariumariumariumariumariumariumariumarium and Actual Answer: outdoors\n"
          ]
        },
        {
          "output_type": "stream",
          "name": "stderr",
          "text": [
            " 95%|█████████▍| 1159/1221 [03:20<00:11,  5.61it/s]"
          ]
        },
        {
          "output_type": "stream",
          "name": "stdout",
          "text": [
            "Q: What type of fruit is easily broken in to sections?\n",
            "O: slide /// citrus /// band /// orchestra /// coconut\n",
            "A:  band orchestra orchestra orchestra orchestra orchestra orchestra orchestra orchestra orchestra\n",
            "\n",
            "\n",
            "Model: band orchestra orchestra orchestra orchestra orchestra orchestra orchestra orchestra orchestra and Actual Answer: citrus\n",
            "Q: Marathoners feel fatigued after running twenty six miles, but some that have pushed them self too hard might be prone to what?\n",
            "O: excruciating pain /// passing out /// death /// drunk /// exhaustion\n",
            "A:  exhaustion and exhaustion and exhaustion are not possible to be\n",
            "\n",
            "\n",
            "Model: exhaustion and exhaustion and exhaustion are not possible to be and Actual Answer: passing out\n"
          ]
        },
        {
          "output_type": "stream",
          "name": "stderr",
          "text": [
            " 95%|█████████▌| 1161/1221 [03:20<00:10,  5.65it/s]"
          ]
        },
        {
          "output_type": "stream",
          "name": "stdout",
          "text": [
            "Q: Billy liked driving cars.  He was good at it.  But he was rattled ever since his father experienced what?\n",
            "O: transportation /// pollution /// stress /// death /// go somewhere\n",
            "A:  stress\n",
            "\n",
            "\n",
            "Model: stress and Actual Answer: death\n",
            "Q: I am cold, what should I do to stay warm?\n",
            "O: stay in bed /// light fire /// freezer /// lay on ice /// spit\n",
            "A:  stay in bed /// stay in bed /// stay in\n",
            "\n",
            "\n",
            "Model: stay in bed and Actual Answer: light fire\n"
          ]
        },
        {
          "output_type": "stream",
          "name": "stderr",
          "text": [
            " 95%|█████████▌| 1163/1221 [03:21<00:10,  5.68it/s]"
          ]
        },
        {
          "output_type": "stream",
          "name": "stdout",
          "text": [
            "Q: Copulating with the wrong partner may be ill advised, many diseases can be transferred that can cause different types of what?\n",
            "O: intense pleasure /// ejaculation /// period of rest /// enjoyment /// skin irritation\n",
            "A:  skin irritation can be transferred from the period of rest\n",
            "\n",
            "\n",
            "Model: skin irritation can be transferred from the period of rest and Actual Answer: skin irritation\n",
            "Q: What do audiences clap for?\n",
            "O: cinema /// theatre /// movies /// show /// hockey game\n",
            "A:  movies show show show show show show show show show\n",
            "\n",
            "\n",
            "Model: movies show show show show show show show show show and Actual Answer: show\n"
          ]
        },
        {
          "output_type": "stream",
          "name": "stderr",
          "text": [
            " 95%|█████████▌| 1165/1221 [03:21<00:09,  5.75it/s]"
          ]
        },
        {
          "output_type": "stream",
          "name": "stdout",
          "text": [
            "Q: Where would you get a balalaika if you do not have one?\n",
            "O: orchestra /// music store /// buy music /// make music /// symphony\n",
            "A:  symphony orchestra store /// symphony orchestra store ///\n",
            "\n",
            "\n",
            "Model: symphony orchestra store and Actual Answer: music store\n",
            "Q: Hoping for a beautiful day, what did the clouds do that disappointed everyone?\n",
            "O: homely /// overcast /// hideous /// overrated /// misshapen\n",
            "A:  overcastrated /// overcastrated /// overcast\n",
            "\n",
            "\n",
            "Model: overcastrated and Actual Answer: overcast\n"
          ]
        },
        {
          "output_type": "stream",
          "name": "stderr",
          "text": [
            " 96%|█████████▌| 1167/1221 [03:21<00:09,  5.69it/s]"
          ]
        },
        {
          "output_type": "stream",
          "name": "stdout",
          "text": [
            "Q: What type of demands to the unions need to be making to go off strike?\n",
            "O: reasonable /// more money /// not go to work /// return to work /// union\n",
            "A:  union members need to go off strike /// union members\n",
            "\n",
            "\n",
            "Model: union members need to go off strike and Actual Answer: reasonable\n",
            "Q: The landscaper was carefully arching stones together, he was creating an elaborate what over the creek?\n",
            "O: park /// made from rocks /// balloon /// field /// bridge\n",
            "A:  park park park park park park park park park park\n",
            "\n",
            "\n",
            "Model: park park park park park park park park park park and Actual Answer: bridge\n"
          ]
        },
        {
          "output_type": "stream",
          "name": "stderr",
          "text": [
            " 96%|█████████▌| 1169/1221 [03:22<00:09,  5.68it/s]"
          ]
        },
        {
          "output_type": "stream",
          "name": "stdout",
          "text": [
            "Q: John was not happy with his marriage. He and his wife drifted apart.     All and all, recent turns could be described as what?\n",
            "O: inappropriate /// sadness /// unsatisfied /// unfortunate /// disenchanted\n",
            "A:  inappropriate and unhappy.  inappropriate.  inappropriate.\n",
            "\n",
            "\n",
            "Model: inappropriate and unhappy.  inappropriate.  inappropriate. and Actual Answer: unfortunate\n",
            "Q: The poor girls needed a light to see, what was the relationship between that light and finishing her homework?\n",
            "O: darkness /// cumbersome /// obesity /// forceful /// crucial\n",
            "A:  forceful and forceful and forceful and forceful and forceful and\n",
            "\n",
            "\n",
            "Model: forceful and forceful and forceful and forceful and forceful and and Actual Answer: crucial\n"
          ]
        },
        {
          "output_type": "stream",
          "name": "stderr",
          "text": [
            " 96%|█████████▌| 1171/1221 [03:22<00:08,  5.65it/s]"
          ]
        },
        {
          "output_type": "stream",
          "name": "stdout",
          "text": [
            "Q: Where would you find a ticket booth and see a concert?\n",
            "O: clerk /// indoors /// movie theater /// venue /// auditorium\n",
            "A:  auditorium auditorium auditorium auditorium auditorium\n",
            "\n",
            "\n",
            "Model: auditorium auditorium auditorium auditorium auditorium and Actual Answer: venue\n",
            "Q: Who is not famous for a superhighway with no speed limit?\n",
            "O: europe /// germany /// industrialized country /// city /// america\n",
            "A:  european country city city city city city city\n",
            "\n",
            "\n",
            "Model: european country city city city city city city and Actual Answer: america\n"
          ]
        },
        {
          "output_type": "stream",
          "name": "stderr",
          "text": [
            " 96%|█████████▌| 1173/1221 [03:22<00:08,  5.66it/s]"
          ]
        },
        {
          "output_type": "stream",
          "name": "stdout",
          "text": [
            "Q: The low trickle of water revealed a stone, where was the stone found?\n",
            "O: ocean /// gallbladder /// driveway /// river bed /// creek bed\n",
            "A:  creek bed bed bed bed bed bed bed bed bed\n",
            "\n",
            "\n",
            "Model: creek bed bed bed bed bed bed bed bed bed and Actual Answer: creek bed\n",
            "Q: Where is the closest place from where you could borrow salt?\n",
            "O: ocean water /// table /// shaker /// neighbor's house /// lake\n",
            "A:  ocean water water water water water water water water water\n",
            "\n",
            "\n",
            "Model: ocean water water water water water water water water water and Actual Answer: neighbor's house\n"
          ]
        },
        {
          "output_type": "stream",
          "name": "stderr",
          "text": [
            " 96%|█████████▌| 1175/1221 [03:23<00:08,  5.68it/s]"
          ]
        },
        {
          "output_type": "stream",
          "name": "stdout",
          "text": [
            "Q: No matter what date you put on it, we all know the universe to be what?\n",
            "O: very old /// infiniverse /// getting younger /// infinite /// real\n",
            "A:  infinite universe /// infinite universe /// infinite universe\n",
            "\n",
            "\n",
            "Model: infinite universe and Actual Answer: very old\n",
            "Q: A meteor travels through galaxies which are a part of what?\n",
            "O: republic of ireland /// sky /// orbit /// universe /// school\n",
            "A:  universe of ireland of ireland of ireland\n",
            "\n",
            "\n",
            "Model: universe of ireland of ireland of ireland and Actual Answer: universe\n"
          ]
        },
        {
          "output_type": "stream",
          "name": "stderr",
          "text": [
            " 96%|█████████▋| 1177/1221 [03:23<00:07,  5.68it/s]"
          ]
        },
        {
          "output_type": "stream",
          "name": "stdout",
          "text": [
            "Q: What is a person considered a bully known for?\n",
            "O: ridiculous /// false information /// made fun of /// brain tumor /// bull rider\n",
            "A:  bull rider known for bull rider known for bull rider\n",
            "\n",
            "\n",
            "Model: bull rider known for bull rider known for bull rider and Actual Answer: made fun of\n",
            "Q: She had an interest in the man, what did she want to do with him?\n",
            "O: see particular program /// see exhibits /// see people play game /// have conversation /// watch film\n",
            "A:  see particular program show show show show show show show\n",
            "\n",
            "\n",
            "Model: see particular program show show show show show show show and Actual Answer: have conversation\n"
          ]
        },
        {
          "output_type": "stream",
          "name": "stderr",
          "text": [
            " 97%|█████████▋| 1179/1221 [03:24<00:07,  5.55it/s]"
          ]
        },
        {
          "output_type": "stream",
          "name": "stdout",
          "text": [
            "Q: Where is a drug kept in a home bathroom?\n",
            "O: nursery /// ghetto /// cupboard /// pharmacy /// medicine cabinet\n",
            "A:  pharmacy cabinet cabinet cabinet cabinet cabinet cabinet cabinet cabinet cabinet\n",
            "\n",
            "\n",
            "Model: pharmacy cabinet cabinet cabinet cabinet cabinet cabinet cabinet cabinet cabinet and Actual Answer: medicine cabinet\n",
            "Q: When cooking sheep meat a lot of people might want to be well?\n",
            "O: ram /// lamb /// done /// ram /// wolf\n",
            "A:  lamb meat done in lamb meat done in lamb meat\n",
            "\n",
            "\n",
            "Model: lamb meat done in lamb meat done in lamb meat and Actual Answer: done\n"
          ]
        },
        {
          "output_type": "stream",
          "name": "stderr",
          "text": [
            " 97%|█████████▋| 1181/1221 [03:24<00:07,  5.61it/s]"
          ]
        },
        {
          "output_type": "stream",
          "name": "stdout",
          "text": [
            "Q: Where would you sit in a chair while working toward an advanced degree?\n",
            "O: aeroport /// church /// furniture store /// university /// living room\n",
            "A:  university building /// university building /// university building\n",
            "\n",
            "\n",
            "Model: university building and Actual Answer: university\n",
            "Q: Farm land makes use of what?\n",
            "O: countryside /// michigan /// north dakota /// farming areas /// illinois\n",
            "A:  countryside land makes use of land makes use of land\n",
            "\n",
            "\n",
            "Model: countryside land makes use of land makes use of land and Actual Answer: farming areas\n"
          ]
        },
        {
          "output_type": "stream",
          "name": "stderr",
          "text": [
            " 97%|█████████▋| 1183/1221 [03:24<00:06,  5.61it/s]"
          ]
        },
        {
          "output_type": "stream",
          "name": "stdout",
          "text": [
            "Q: A good interview after applying for a job may cause you to feel what?\n",
            "O: offer /// income /// rejection /// hostile /// hope\n",
            "A:  rejection of opportunity /// rejection of opportunity /// rejection of\n",
            "\n",
            "\n",
            "Model: rejection of opportunity and Actual Answer: hope\n",
            "Q: Computers have allowed everybody to answer questions they have quickly, but still we seem to be getting duller despite access to this what?\n",
            "O: economic boom /// advance knowledge /// produce sound /// teach /// follow instructions\n",
            "A:  advance knowledge of sound and produce sound\n",
            "\n",
            "\n",
            "Model: advance knowledge of sound and produce sound and Actual Answer: advance knowledge\n"
          ]
        },
        {
          "output_type": "stream",
          "name": "stderr",
          "text": [
            " 97%|█████████▋| 1185/1221 [03:25<00:06,  5.66it/s]"
          ]
        },
        {
          "output_type": "stream",
          "name": "stdout",
          "text": [
            "Q: There was a long cottage somewhere.  People thought it was haunted.  It was overgrown, there was nothing near it.  It's was far into the what?\n",
            "O: mountains /// countryside /// train /// painting /// village\n",
            "A:  countryside village village village village village village village village village\n",
            "\n",
            "\n",
            "Model: countryside village village village village village village village village village and Actual Answer: countryside\n",
            "Q: Where is knight always portrayed as a hero?\n",
            "O: middle ages /// chess board /// kids story /// fairy tale /// castle\n",
            "A:  fairy tale story story story story story story story story\n",
            "\n",
            "\n",
            "Model: fairy tale story story story story story story story story and Actual Answer: fairy tale\n"
          ]
        },
        {
          "output_type": "stream",
          "name": "stderr",
          "text": [
            " 97%|█████████▋| 1187/1221 [03:25<00:05,  5.74it/s]"
          ]
        },
        {
          "output_type": "stream",
          "name": "stdout",
          "text": [
            "Q: James is carrying a duffel bag with him because he doesn't have a vehicle of his own and needs a bag to carry his things in while he uses what?\n",
            "O: library /// transit /// bus station /// army barracks /// locker room\n",
            "A:  bus station station station station station station station station station\n",
            "\n",
            "\n",
            "Model: bus station station station station station station station station station and Actual Answer: transit\n",
            "Q: What would you need if you want to smoke?\n",
            "O: you're stupid /// kill yourself /// roll joint /// cigarette /// lighter fluid.\n",
            "A:  you're stupid.  you're stupid. ///\n",
            "\n",
            "\n",
            "Model: you're stupid.  you're stupid. /// and Actual Answer: cigarette\n"
          ]
        },
        {
          "output_type": "stream",
          "name": "stderr",
          "text": [
            " 97%|█████████▋| 1189/1221 [03:25<00:05,  5.71it/s]"
          ]
        },
        {
          "output_type": "stream",
          "name": "stdout",
          "text": [
            "Q: James decided that competing was the right choice.   Not competing has a defined outcome, but if he competes then what could happen?\n",
            "O: might win /// perform better /// enemies /// winners and losers /// lose\n",
            "A:  might win and losers and losers and losers and losers\n",
            "\n",
            "\n",
            "Model: might win and losers and losers and losers and losers and Actual Answer: might win\n",
            "Q: What could you use to get to some airplanes?\n",
            "O: taxi /// carry people /// car /// stall /// crash\n",
            "A:  taxi cab cab cab cab cab cab cab cab cab\n",
            "\n",
            "\n",
            "Model: taxi cab cab cab cab cab cab cab cab cab and Actual Answer: taxi\n"
          ]
        },
        {
          "output_type": "stream",
          "name": "stderr",
          "text": [
            " 98%|█████████▊| 1191/1221 [03:26<00:05,  5.73it/s]"
          ]
        },
        {
          "output_type": "stream",
          "name": "stdout",
          "text": [
            "Q: What happens when driving?\n",
            "O: lack of fuel /// paint scratching /// wheels turning /// tire wear /// traffic accident\n",
            "A:  tire wear scratching /// tire wear scratching /// tire wear\n",
            "\n",
            "\n",
            "Model: tire wear scratching and Actual Answer: wheels turning\n",
            "Q: What are our bodies doing after having food?\n",
            "O: falling down /// digesting /// gas /// weight gain /// not hungry\n",
            "A:  digesting /// digesting /// digesting\n",
            "\n",
            "\n",
            "Model: digesting and Actual Answer: digesting\n"
          ]
        },
        {
          "output_type": "stream",
          "name": "stderr",
          "text": [
            " 98%|█████████▊| 1193/1221 [03:26<00:04,  5.74it/s]"
          ]
        },
        {
          "output_type": "stream",
          "name": "stdout",
          "text": [
            "Q: Why would one try to avoid work?\n",
            "O: making money /// leave home /// success /// malaise /// bad mood\n",
            "A:  bad mood mood mood moods /// bad moods\n",
            "\n",
            "\n",
            "Model: bad mood mood mood moods and Actual Answer: malaise\n",
            "Q: What do you do in order to fly in airplane?\n",
            "O: buy tickets /// passenger /// read /// add gas /// run through checklists\n",
            "A:  add gas station ticket station ticket station ticket station ticket\n",
            "\n",
            "\n",
            "Model: add gas station ticket station ticket station ticket station ticket and Actual Answer: buy tickets\n"
          ]
        },
        {
          "output_type": "stream",
          "name": "stderr",
          "text": [
            " 98%|█████████▊| 1195/1221 [03:26<00:04,  5.70it/s]"
          ]
        },
        {
          "output_type": "stream",
          "name": "stdout",
          "text": [
            "Q: What is another name for the color of the fur of a dog with light colored fur?\n",
            "O: fair /// basket /// dog hair /// game /// sun\n",
            "A:  fair skinned fur color of dog hair /// fair\n",
            "\n",
            "\n",
            "Model: fair skinned fur color of dog hair and Actual Answer: fair\n",
            "Q: Sally was bored because she didn't like the junk that was on what?\n",
            "O: drawer /// garage /// caddy /// bed /// television\n",
            "A:  bed drawer drawer drawer drawer drawer drawer drawer drawer drawer\n",
            "\n",
            "\n",
            "Model: bed drawer drawer drawer drawer drawer drawer drawer drawer drawer and Actual Answer: television\n"
          ]
        },
        {
          "output_type": "stream",
          "name": "stderr",
          "text": [
            " 98%|█████████▊| 1197/1221 [03:27<00:04,  5.75it/s]"
          ]
        },
        {
          "output_type": "stream",
          "name": "stdout",
          "text": [
            "Q: The lion sensed his competitor was timid, so what attitude did the lion take?\n",
            "O: reckless /// bellicose /// defensive /// aggressive /// dauntless\n",
            "A:  aggressive, aggressive, aggressive, aggressive, aggressive,\n",
            "\n",
            "\n",
            "Model: aggressive, aggressive, aggressive, aggressive, aggressive, and Actual Answer: aggressive\n",
            "Q: John felt a snake slither over him as he rested.  He was afraid to raise his covers for fear of startling it.  Where might he be?\n",
            "O: pet shops /// oklahoma /// basement /// bedroom /// dreams\n",
            "A:  bedroom dreams.  bedroom dreams.  bedroom dreams\n",
            "\n",
            "\n",
            "Model: bedroom dreams.  bedroom dreams.  bedroom dreams and Actual Answer: bedroom\n"
          ]
        },
        {
          "output_type": "stream",
          "name": "stderr",
          "text": [
            " 98%|█████████▊| 1199/1221 [03:27<00:03,  5.81it/s]"
          ]
        },
        {
          "output_type": "stream",
          "name": "stdout",
          "text": [
            "Q: Where can you find a place to eat in an urban area close to local nightlife?\n",
            "O: city /// downtown /// mall /// shopping center /// own house\n",
            "A:  mall city center mall center mall center mall center mall\n",
            "\n",
            "\n",
            "Model: mall city center mall center mall center mall center mall and Actual Answer: downtown\n",
            "Q: You have to a lot of thinking while studying a new subject, but it is how you gain what?\n",
            "O: fatigue /// depression /// best way /// weight /// knowledge\n",
            "A:  knowledge of new subjectivity and knowledge of new subject\n",
            "\n",
            "\n",
            "Model: knowledge of new subjectivity and knowledge of new subject and Actual Answer: knowledge\n"
          ]
        },
        {
          "output_type": "stream",
          "name": "stderr",
          "text": [
            " 98%|█████████▊| 1201/1221 [03:27<00:03,  5.75it/s]"
          ]
        },
        {
          "output_type": "stream",
          "name": "stdout",
          "text": [
            "Q: How will you communicate if you are far away from who you want to communicate with?\n",
            "O: think /// talk with people /// talk to people /// speak out /// send email\n",
            "A:  talk with people who you who you want to communicate\n",
            "\n",
            "\n",
            "Model: talk with people who you who you want to communicate and Actual Answer: send email\n",
            "Q: Why would you not trust your friends after chatting with friends?\n",
            "O: fever /// smoke /// laughing /// coughing /// lie\n",
            "A:  laughing at friends /// laughing at friends /// laughing at\n",
            "\n",
            "\n",
            "Model: laughing at friends and Actual Answer: lie\n"
          ]
        },
        {
          "output_type": "stream",
          "name": "stderr",
          "text": [
            " 99%|█████████▊| 1203/1221 [03:28<00:03,  5.73it/s]"
          ]
        },
        {
          "output_type": "stream",
          "name": "stdout",
          "text": [
            "Q: He came from old money and had a fortune, but he made new money making shrewd trades where?\n",
            "O: eat cake /// cookie /// stock market /// real estate /// treasure chest\n",
            "A:  stock market market market market market market market market market\n",
            "\n",
            "\n",
            "Model: stock market market market market market market market market market and Actual Answer: stock market\n",
            "Q: Animals make up a large part of the?\n",
            "O: carrying cargo /// favorite /// ecosystem /// nature /// ecology\n",
            "A:  ecology ecology ecology ecology ecology ecology ecology ec ec ec\n",
            "\n",
            "\n",
            "Model: ecology ecology ecology ecology ecology ecology ecology ec ec ec and Actual Answer: ecosystem\n"
          ]
        },
        {
          "output_type": "stream",
          "name": "stderr",
          "text": [
            " 99%|█████████▊| 1205/1221 [03:28<00:02,  5.72it/s]"
          ]
        },
        {
          "output_type": "stream",
          "name": "stdout",
          "text": [
            "Q: At a shop what can you buy to put your spare unused things?\n",
            "O: basement /// cardboard box /// ocean floor /// high school /// container\n",
            "A:  cardboard box box box box box box box box box\n",
            "\n",
            "\n",
            "Model: cardboard box box box box box box box box box and Actual Answer: container\n",
            "Q: A person with digestion issues eats a meat-filled breakfast, what does he feel?\n",
            "O: heartburn /// overeating /// happiness /// being satisfied /// gain energy\n",
            "A:  heartburn and overeating is a health problem.\n",
            "\n",
            "\n",
            "Model: heartburn and overeating is a health problem. and Actual Answer: heartburn\n"
          ]
        },
        {
          "output_type": "stream",
          "name": "stderr",
          "text": [
            " 99%|█████████▉| 1207/1221 [03:28<00:02,  5.55it/s]"
          ]
        },
        {
          "output_type": "stream",
          "name": "stdout",
          "text": [
            "Q: What is a prisoner sentenced to do?\n",
            "O: scape jail /// dream of freedom /// become a hairdresser /// attempt to escape /// do time\n",
            "A:  attempt to escape from prison space space space space space\n",
            "\n",
            "\n",
            "Model: attempt to escape from prison space space space space space and Actual Answer: do time\n",
            "Q: Jesse  enjoyed remembering the past because he helped him understand it.  And understanding the past helped him with doing what?\n",
            "O: phoning /// nostalgia /// writing down /// active /// being prepared\n",
            "A:  writing down down down down down down down down down\n",
            "\n",
            "\n",
            "Model: writing down down down down down down down down down and Actual Answer: being prepared\n"
          ]
        },
        {
          "output_type": "stream",
          "name": "stderr",
          "text": [
            " 99%|█████████▉| 1209/1221 [03:29<00:02,  5.68it/s]"
          ]
        },
        {
          "output_type": "stream",
          "name": "stdout",
          "text": [
            "Q: David watched some nesting birds using his binoculars while on vacation.  Where might David be?.\n",
            "O: sky /// vaccation /// forest /// countryside /// roof\n",
            "A:  countryside area /// countryside area /// countryside area\n",
            "\n",
            "\n",
            "Model: countryside area and Actual Answer: forest\n",
            "Q: Where would you find many varieties of plants including a rosebush?\n",
            "O: kew gardens /// garder /// backyard /// shop /// beautiful garden\n",
            "A:  garden garden garden garden garden garden garden garden garden garden\n",
            "\n",
            "\n",
            "Model: garden garden garden garden garden garden garden garden garden garden and Actual Answer: beautiful garden\n"
          ]
        },
        {
          "output_type": "stream",
          "name": "stderr",
          "text": [
            " 99%|█████████▉| 1211/1221 [03:29<00:01,  5.69it/s]"
          ]
        },
        {
          "output_type": "stream",
          "name": "stdout",
          "text": [
            "Q: If I did not have a rosebush, where would I get one?\n",
            "O: pot /// museum /// garden center /// formal garden /// backyard\n",
            "A:  garden center center center center center center center center center\n",
            "\n",
            "\n",
            "Model: garden center center center center center center center center center and Actual Answer: garden center\n",
            "Q: What does a person with a what likely do?\n",
            "O: feel important /// trust himself /// own house /// electrical circuit /// know what time\n",
            "A:  own house house /// own house /// own house\n",
            "\n",
            "\n",
            "Model: own house house and Actual Answer: know what time\n"
          ]
        },
        {
          "output_type": "stream",
          "name": "stderr",
          "text": [
            " 99%|█████████▉| 1213/1221 [03:30<00:01,  5.75it/s]"
          ]
        },
        {
          "output_type": "stream",
          "name": "stdout",
          "text": [
            "Q: What are cats often known for?\n",
            "O: whiskers /// sharp teeth /// purr /// four legs /// sharp claws\n",
            "A:  sharp teeth teeth teeth teeth teeth teeth teeth teeth teeth\n",
            "\n",
            "\n",
            "Model: sharp teeth teeth teeth teeth teeth teeth teeth teeth teeth and Actual Answer: sharp claws\n",
            "Q: As he looked out the window, he knew the landing was happening soon, and it made him nervous, but where would he be soon?\n",
            "O: apartment building /// disembark /// stairwell /// deplane /// airport\n",
            "A:  airport building /// airport building /// airport building\n",
            "\n",
            "\n",
            "Model: airport building and Actual Answer: airport\n"
          ]
        },
        {
          "output_type": "stream",
          "name": "stderr",
          "text": [
            "100%|█████████▉| 1215/1221 [03:30<00:01,  5.79it/s]"
          ]
        },
        {
          "output_type": "stream",
          "name": "stdout",
          "text": [
            "Q: Where can you find a dogs house?\n",
            "O: found outside /// faithful /// frightening /// cold /// four legs\n",
            "A:  found outside /// found outside /// found outside\n",
            "\n",
            "\n",
            "Model: found outside and Actual Answer: found outside\n",
            "Q: Tweed is a rare fabric in modern clothing, what brand should I look for when buying it?\n",
            "O: scotland /// brown /// fabric store /// clothing stores /// eddie bauer\n",
            "A:  clothing stores and clothing stores and clothing stores and clothing\n",
            "\n",
            "\n",
            "Model: clothing stores and clothing stores and clothing stores and clothing and Actual Answer: eddie bauer\n"
          ]
        },
        {
          "output_type": "stream",
          "name": "stderr",
          "text": [
            "100%|█████████▉| 1217/1221 [03:30<00:00,  5.84it/s]"
          ]
        },
        {
          "output_type": "stream",
          "name": "stdout",
          "text": [
            "Q: If you really wanted a grape, where would you go to get it?\n",
            "O: winery /// fruit stand /// field /// kitchen /// food\n",
            "A:  fruit stand stand stand stand stand stand stand stand stand\n",
            "\n",
            "\n",
            "Model: fruit stand stand stand stand stand stand stand stand stand and Actual Answer: fruit stand\n",
            "Q: What would you do to a rock when climb up a cliff?\n",
            "O: grab /// look down /// throw /// falling /// may fall\n",
            "A:  fall down the cliff /// fall down the cliff ///\n",
            "\n",
            "\n",
            "Model: fall down the cliff and Actual Answer: grab\n"
          ]
        },
        {
          "output_type": "stream",
          "name": "stderr",
          "text": [
            "100%|█████████▉| 1219/1221 [03:31<00:00,  5.83it/s]"
          ]
        },
        {
          "output_type": "stream",
          "name": "stdout",
          "text": [
            "Q: His compressor needed a new hose, where did he go?\n",
            "O: garden shed /// hardware store /// brothel /// garage /// greenhouse\n",
            "A:  hardware store /// hardware store /// hardware store\n",
            "\n",
            "\n",
            "Model: hardware store and Actual Answer: hardware store\n",
            "Q: The man closed his eyes as the music played, what effect did the music have?\n",
            "O: coma /// enjoyable /// soothing /// universal /// good or bad\n",
            "A:  soothing or bad or bad or bad or bad or\n",
            "\n",
            "\n",
            "Model: soothing or bad or bad or bad or bad or and Actual Answer: soothing\n"
          ]
        },
        {
          "output_type": "stream",
          "name": "stderr",
          "text": [
            "100%|██████████| 1221/1221 [03:31<00:00,  5.78it/s]"
          ]
        },
        {
          "output_type": "stream",
          "name": "stdout",
          "text": [
            "Q: Setting up framing, truss and beam are some of the first steps in what?\n",
            "O: new construction /// warehouse /// driving /// ceiling /// bridge\n",
            "A:  bridge truss and beam truss and beam tr\n",
            "\n",
            "\n",
            "Model: bridge truss and beam truss and beam tr and Actual Answer: new construction\n",
            "Q: What is another name for a disk for storing information?\n",
            "O: computer store /// computer to store data /// computer hard drive /// cd player /// usb mouse\n",
            "A:  computer store data to store data to computer hard drive\n",
            "\n",
            "\n",
            "Model: computer store data to store data to computer hard drive and Actual Answer: computer hard drive\n",
            "Accuracy: 3.11%\n"
          ]
        },
        {
          "output_type": "stream",
          "name": "stderr",
          "text": [
            "\n"
          ]
        }
      ]
    },
    {
      "cell_type": "code",
      "source": [
        "model.eval()\n",
        "import torch\n",
        "# prompt = f\"Q: {question}\\nChoices:\\n\"\n",
        "#     for choice in choices:\n",
        "#         prompt += f\"- {choice}\\n\"\n",
        "#     prompt += \"Answer:\"\n",
        "q = \"What do people aim to do at work?\"\n",
        "options = ['complete job', 'learn from each other', 'kill animals', 'wear hats', 'talk to each other']\n",
        "options2 = ' /// '.join(options)\n",
        "from IPython.display import display, Math\n",
        "prompt = f\"Q: {q}\\nO: {options2}\\nA: \"\n",
        "inputs = tokenizer(prompt, return_tensors=\"pt\").to(base_model.device)\n",
        "\n",
        "with torch.no_grad():\n",
        "    outputs = model.generate(\n",
        "    input_ids=inputs[\"input_ids\"],\n",
        "    attention_mask=inputs[\"attention_mask\"],\n",
        "    max_new_tokens=10,\n",
        "    do_sample=False,\n",
        "    pad_token_id=tokenizer.eos_token_id,\n",
        "    eos_token_id=tokenizer.eos_token_id,\n",
        "    early_stopping=True,\n",
        "    num_beams=5,  # Optional: beam search for stronger outputs\n",
        "  )\n",
        "\n",
        "print(tokenizer.decode(outputs[0], skip_special_tokens=False))"
      ],
      "metadata": {
        "colab": {
          "base_uri": "https://localhost:8080/"
        },
        "id": "jh5lyEeTOz40",
        "outputId": "b48f5e31-64df-48a5-eb30-333c6751387c"
      },
      "execution_count": 11,
      "outputs": [
        {
          "output_type": "stream",
          "name": "stdout",
          "text": [
            "Q: What do people aim to do at work?\n",
            "O: complete job /// learn from each other /// kill animals /// wear hats /// talk to each other\n",
            "A:  complete job or complete job or complete job or complete\n"
          ]
        }
      ]
    },
    {
      "cell_type": "code",
      "source": [],
      "metadata": {
        "id": "xwM6oaMTO2Fk"
      },
      "execution_count": null,
      "outputs": []
    }
  ]
}