{
  "nbformat": 4,
  "nbformat_minor": 0,
  "metadata": {
    "colab": {
      "provenance": [],
      "machine_shape": "hm",
      "gpuType": "A100",
      "authorship_tag": "ABX9TyMiBwTR3Zp49bzdiZJrnqzy",
      "include_colab_link": true
    },
    "kernelspec": {
      "name": "python3",
      "display_name": "Python 3"
    },
    "language_info": {
      "name": "python"
    },
    "accelerator": "GPU",
    "widgets": {
      "application/vnd.jupyter.widget-state+json": {
        "fc55feb6d4db4f358080b40b1e390468": {
          "model_module": "@jupyter-widgets/controls",
          "model_name": "VBoxModel",
          "model_module_version": "1.5.0",
          "state": {
            "_dom_classes": [],
            "_model_module": "@jupyter-widgets/controls",
            "_model_module_version": "1.5.0",
            "_model_name": "VBoxModel",
            "_view_count": null,
            "_view_module": "@jupyter-widgets/controls",
            "_view_module_version": "1.5.0",
            "_view_name": "VBoxView",
            "box_style": "",
            "children": [
              "IPY_MODEL_c27c96a522d84e7c8c364d0fbeab1af5",
              "IPY_MODEL_b519a3edd3414eaf8a3406a14f5e2394",
              "IPY_MODEL_ea83241387524a9db4dae8a7e47d9987",
              "IPY_MODEL_8c40686f5f6c417bb6a982699078cd2f",
              "IPY_MODEL_e323860bb5394ae388485e5618aaeb83"
            ],
            "layout": "IPY_MODEL_c561b000fe464c23a965fd0a29be1c2c"
          }
        },
        "c27c96a522d84e7c8c364d0fbeab1af5": {
          "model_module": "@jupyter-widgets/controls",
          "model_name": "HTMLModel",
          "model_module_version": "1.5.0",
          "state": {
            "_dom_classes": [],
            "_model_module": "@jupyter-widgets/controls",
            "_model_module_version": "1.5.0",
            "_model_name": "HTMLModel",
            "_view_count": null,
            "_view_module": "@jupyter-widgets/controls",
            "_view_module_version": "1.5.0",
            "_view_name": "HTMLView",
            "description": "",
            "description_tooltip": null,
            "layout": "IPY_MODEL_8c0e1231c9e64b1bbdc4395e67a2591f",
            "placeholder": "​",
            "style": "IPY_MODEL_c5c600c3d26e4f689099ae3e37d9fc83",
            "value": "<center> <img\nsrc=https://huggingface.co/front/assets/huggingface_logo-noborder.svg\nalt='Hugging Face'> <br> Copy a token from <a\nhref=\"https://huggingface.co/settings/tokens\" target=\"_blank\">your Hugging Face\ntokens page</a> and paste it below. <br> Immediately click login after copying\nyour token or it might be stored in plain text in this notebook file. </center>"
          }
        },
        "b519a3edd3414eaf8a3406a14f5e2394": {
          "model_module": "@jupyter-widgets/controls",
          "model_name": "PasswordModel",
          "model_module_version": "1.5.0",
          "state": {
            "_dom_classes": [],
            "_model_module": "@jupyter-widgets/controls",
            "_model_module_version": "1.5.0",
            "_model_name": "PasswordModel",
            "_view_count": null,
            "_view_module": "@jupyter-widgets/controls",
            "_view_module_version": "1.5.0",
            "_view_name": "PasswordView",
            "continuous_update": true,
            "description": "Token:",
            "description_tooltip": null,
            "disabled": false,
            "layout": "IPY_MODEL_b737839085414ca7a2c86d5870632789",
            "placeholder": "​",
            "style": "IPY_MODEL_8223dc31af62442293952d5d86bdc670",
            "value": ""
          }
        },
        "ea83241387524a9db4dae8a7e47d9987": {
          "model_module": "@jupyter-widgets/controls",
          "model_name": "CheckboxModel",
          "model_module_version": "1.5.0",
          "state": {
            "_dom_classes": [],
            "_model_module": "@jupyter-widgets/controls",
            "_model_module_version": "1.5.0",
            "_model_name": "CheckboxModel",
            "_view_count": null,
            "_view_module": "@jupyter-widgets/controls",
            "_view_module_version": "1.5.0",
            "_view_name": "CheckboxView",
            "description": "Add token as git credential?",
            "description_tooltip": null,
            "disabled": false,
            "indent": true,
            "layout": "IPY_MODEL_b35aabfe0523463584e2c59a0e02359e",
            "style": "IPY_MODEL_bf04bcc1370d4513bacd259bbed49421",
            "value": true
          }
        },
        "8c40686f5f6c417bb6a982699078cd2f": {
          "model_module": "@jupyter-widgets/controls",
          "model_name": "ButtonModel",
          "model_module_version": "1.5.0",
          "state": {
            "_dom_classes": [],
            "_model_module": "@jupyter-widgets/controls",
            "_model_module_version": "1.5.0",
            "_model_name": "ButtonModel",
            "_view_count": null,
            "_view_module": "@jupyter-widgets/controls",
            "_view_module_version": "1.5.0",
            "_view_name": "ButtonView",
            "button_style": "",
            "description": "Login",
            "disabled": false,
            "icon": "",
            "layout": "IPY_MODEL_72d5ddb7372e4245ae5cfe045764dbf1",
            "style": "IPY_MODEL_2667f24ad093484bb6a5ee44e902d106",
            "tooltip": ""
          }
        },
        "e323860bb5394ae388485e5618aaeb83": {
          "model_module": "@jupyter-widgets/controls",
          "model_name": "HTMLModel",
          "model_module_version": "1.5.0",
          "state": {
            "_dom_classes": [],
            "_model_module": "@jupyter-widgets/controls",
            "_model_module_version": "1.5.0",
            "_model_name": "HTMLModel",
            "_view_count": null,
            "_view_module": "@jupyter-widgets/controls",
            "_view_module_version": "1.5.0",
            "_view_name": "HTMLView",
            "description": "",
            "description_tooltip": null,
            "layout": "IPY_MODEL_fd3afef0c7824d6994315804fe667ba8",
            "placeholder": "​",
            "style": "IPY_MODEL_fc110133c04746e588e38925f0f9abca",
            "value": "\n<b>Pro Tip:</b> If you don't already have one, you can create a dedicated\n'notebooks' token with 'write' access, that you can then easily reuse for all\nnotebooks. </center>"
          }
        },
        "c561b000fe464c23a965fd0a29be1c2c": {
          "model_module": "@jupyter-widgets/base",
          "model_name": "LayoutModel",
          "model_module_version": "1.2.0",
          "state": {
            "_model_module": "@jupyter-widgets/base",
            "_model_module_version": "1.2.0",
            "_model_name": "LayoutModel",
            "_view_count": null,
            "_view_module": "@jupyter-widgets/base",
            "_view_module_version": "1.2.0",
            "_view_name": "LayoutView",
            "align_content": null,
            "align_items": "center",
            "align_self": null,
            "border": null,
            "bottom": null,
            "display": "flex",
            "flex": null,
            "flex_flow": "column",
            "grid_area": null,
            "grid_auto_columns": null,
            "grid_auto_flow": null,
            "grid_auto_rows": null,
            "grid_column": null,
            "grid_gap": null,
            "grid_row": null,
            "grid_template_areas": null,
            "grid_template_columns": null,
            "grid_template_rows": null,
            "height": null,
            "justify_content": null,
            "justify_items": null,
            "left": null,
            "margin": null,
            "max_height": null,
            "max_width": null,
            "min_height": null,
            "min_width": null,
            "object_fit": null,
            "object_position": null,
            "order": null,
            "overflow": null,
            "overflow_x": null,
            "overflow_y": null,
            "padding": null,
            "right": null,
            "top": null,
            "visibility": null,
            "width": "50%"
          }
        },
        "8c0e1231c9e64b1bbdc4395e67a2591f": {
          "model_module": "@jupyter-widgets/base",
          "model_name": "LayoutModel",
          "model_module_version": "1.2.0",
          "state": {
            "_model_module": "@jupyter-widgets/base",
            "_model_module_version": "1.2.0",
            "_model_name": "LayoutModel",
            "_view_count": null,
            "_view_module": "@jupyter-widgets/base",
            "_view_module_version": "1.2.0",
            "_view_name": "LayoutView",
            "align_content": null,
            "align_items": null,
            "align_self": null,
            "border": null,
            "bottom": null,
            "display": null,
            "flex": null,
            "flex_flow": null,
            "grid_area": null,
            "grid_auto_columns": null,
            "grid_auto_flow": null,
            "grid_auto_rows": null,
            "grid_column": null,
            "grid_gap": null,
            "grid_row": null,
            "grid_template_areas": null,
            "grid_template_columns": null,
            "grid_template_rows": null,
            "height": null,
            "justify_content": null,
            "justify_items": null,
            "left": null,
            "margin": null,
            "max_height": null,
            "max_width": null,
            "min_height": null,
            "min_width": null,
            "object_fit": null,
            "object_position": null,
            "order": null,
            "overflow": null,
            "overflow_x": null,
            "overflow_y": null,
            "padding": null,
            "right": null,
            "top": null,
            "visibility": null,
            "width": null
          }
        },
        "c5c600c3d26e4f689099ae3e37d9fc83": {
          "model_module": "@jupyter-widgets/controls",
          "model_name": "DescriptionStyleModel",
          "model_module_version": "1.5.0",
          "state": {
            "_model_module": "@jupyter-widgets/controls",
            "_model_module_version": "1.5.0",
            "_model_name": "DescriptionStyleModel",
            "_view_count": null,
            "_view_module": "@jupyter-widgets/base",
            "_view_module_version": "1.2.0",
            "_view_name": "StyleView",
            "description_width": ""
          }
        },
        "b737839085414ca7a2c86d5870632789": {
          "model_module": "@jupyter-widgets/base",
          "model_name": "LayoutModel",
          "model_module_version": "1.2.0",
          "state": {
            "_model_module": "@jupyter-widgets/base",
            "_model_module_version": "1.2.0",
            "_model_name": "LayoutModel",
            "_view_count": null,
            "_view_module": "@jupyter-widgets/base",
            "_view_module_version": "1.2.0",
            "_view_name": "LayoutView",
            "align_content": null,
            "align_items": null,
            "align_self": null,
            "border": null,
            "bottom": null,
            "display": null,
            "flex": null,
            "flex_flow": null,
            "grid_area": null,
            "grid_auto_columns": null,
            "grid_auto_flow": null,
            "grid_auto_rows": null,
            "grid_column": null,
            "grid_gap": null,
            "grid_row": null,
            "grid_template_areas": null,
            "grid_template_columns": null,
            "grid_template_rows": null,
            "height": null,
            "justify_content": null,
            "justify_items": null,
            "left": null,
            "margin": null,
            "max_height": null,
            "max_width": null,
            "min_height": null,
            "min_width": null,
            "object_fit": null,
            "object_position": null,
            "order": null,
            "overflow": null,
            "overflow_x": null,
            "overflow_y": null,
            "padding": null,
            "right": null,
            "top": null,
            "visibility": null,
            "width": null
          }
        },
        "8223dc31af62442293952d5d86bdc670": {
          "model_module": "@jupyter-widgets/controls",
          "model_name": "DescriptionStyleModel",
          "model_module_version": "1.5.0",
          "state": {
            "_model_module": "@jupyter-widgets/controls",
            "_model_module_version": "1.5.0",
            "_model_name": "DescriptionStyleModel",
            "_view_count": null,
            "_view_module": "@jupyter-widgets/base",
            "_view_module_version": "1.2.0",
            "_view_name": "StyleView",
            "description_width": ""
          }
        },
        "b35aabfe0523463584e2c59a0e02359e": {
          "model_module": "@jupyter-widgets/base",
          "model_name": "LayoutModel",
          "model_module_version": "1.2.0",
          "state": {
            "_model_module": "@jupyter-widgets/base",
            "_model_module_version": "1.2.0",
            "_model_name": "LayoutModel",
            "_view_count": null,
            "_view_module": "@jupyter-widgets/base",
            "_view_module_version": "1.2.0",
            "_view_name": "LayoutView",
            "align_content": null,
            "align_items": null,
            "align_self": null,
            "border": null,
            "bottom": null,
            "display": null,
            "flex": null,
            "flex_flow": null,
            "grid_area": null,
            "grid_auto_columns": null,
            "grid_auto_flow": null,
            "grid_auto_rows": null,
            "grid_column": null,
            "grid_gap": null,
            "grid_row": null,
            "grid_template_areas": null,
            "grid_template_columns": null,
            "grid_template_rows": null,
            "height": null,
            "justify_content": null,
            "justify_items": null,
            "left": null,
            "margin": null,
            "max_height": null,
            "max_width": null,
            "min_height": null,
            "min_width": null,
            "object_fit": null,
            "object_position": null,
            "order": null,
            "overflow": null,
            "overflow_x": null,
            "overflow_y": null,
            "padding": null,
            "right": null,
            "top": null,
            "visibility": null,
            "width": null
          }
        },
        "bf04bcc1370d4513bacd259bbed49421": {
          "model_module": "@jupyter-widgets/controls",
          "model_name": "DescriptionStyleModel",
          "model_module_version": "1.5.0",
          "state": {
            "_model_module": "@jupyter-widgets/controls",
            "_model_module_version": "1.5.0",
            "_model_name": "DescriptionStyleModel",
            "_view_count": null,
            "_view_module": "@jupyter-widgets/base",
            "_view_module_version": "1.2.0",
            "_view_name": "StyleView",
            "description_width": ""
          }
        },
        "72d5ddb7372e4245ae5cfe045764dbf1": {
          "model_module": "@jupyter-widgets/base",
          "model_name": "LayoutModel",
          "model_module_version": "1.2.0",
          "state": {
            "_model_module": "@jupyter-widgets/base",
            "_model_module_version": "1.2.0",
            "_model_name": "LayoutModel",
            "_view_count": null,
            "_view_module": "@jupyter-widgets/base",
            "_view_module_version": "1.2.0",
            "_view_name": "LayoutView",
            "align_content": null,
            "align_items": null,
            "align_self": null,
            "border": null,
            "bottom": null,
            "display": null,
            "flex": null,
            "flex_flow": null,
            "grid_area": null,
            "grid_auto_columns": null,
            "grid_auto_flow": null,
            "grid_auto_rows": null,
            "grid_column": null,
            "grid_gap": null,
            "grid_row": null,
            "grid_template_areas": null,
            "grid_template_columns": null,
            "grid_template_rows": null,
            "height": null,
            "justify_content": null,
            "justify_items": null,
            "left": null,
            "margin": null,
            "max_height": null,
            "max_width": null,
            "min_height": null,
            "min_width": null,
            "object_fit": null,
            "object_position": null,
            "order": null,
            "overflow": null,
            "overflow_x": null,
            "overflow_y": null,
            "padding": null,
            "right": null,
            "top": null,
            "visibility": null,
            "width": null
          }
        },
        "2667f24ad093484bb6a5ee44e902d106": {
          "model_module": "@jupyter-widgets/controls",
          "model_name": "ButtonStyleModel",
          "model_module_version": "1.5.0",
          "state": {
            "_model_module": "@jupyter-widgets/controls",
            "_model_module_version": "1.5.0",
            "_model_name": "ButtonStyleModel",
            "_view_count": null,
            "_view_module": "@jupyter-widgets/base",
            "_view_module_version": "1.2.0",
            "_view_name": "StyleView",
            "button_color": null,
            "font_weight": ""
          }
        },
        "fd3afef0c7824d6994315804fe667ba8": {
          "model_module": "@jupyter-widgets/base",
          "model_name": "LayoutModel",
          "model_module_version": "1.2.0",
          "state": {
            "_model_module": "@jupyter-widgets/base",
            "_model_module_version": "1.2.0",
            "_model_name": "LayoutModel",
            "_view_count": null,
            "_view_module": "@jupyter-widgets/base",
            "_view_module_version": "1.2.0",
            "_view_name": "LayoutView",
            "align_content": null,
            "align_items": null,
            "align_self": null,
            "border": null,
            "bottom": null,
            "display": null,
            "flex": null,
            "flex_flow": null,
            "grid_area": null,
            "grid_auto_columns": null,
            "grid_auto_flow": null,
            "grid_auto_rows": null,
            "grid_column": null,
            "grid_gap": null,
            "grid_row": null,
            "grid_template_areas": null,
            "grid_template_columns": null,
            "grid_template_rows": null,
            "height": null,
            "justify_content": null,
            "justify_items": null,
            "left": null,
            "margin": null,
            "max_height": null,
            "max_width": null,
            "min_height": null,
            "min_width": null,
            "object_fit": null,
            "object_position": null,
            "order": null,
            "overflow": null,
            "overflow_x": null,
            "overflow_y": null,
            "padding": null,
            "right": null,
            "top": null,
            "visibility": null,
            "width": null
          }
        },
        "fc110133c04746e588e38925f0f9abca": {
          "model_module": "@jupyter-widgets/controls",
          "model_name": "DescriptionStyleModel",
          "model_module_version": "1.5.0",
          "state": {
            "_model_module": "@jupyter-widgets/controls",
            "_model_module_version": "1.5.0",
            "_model_name": "DescriptionStyleModel",
            "_view_count": null,
            "_view_module": "@jupyter-widgets/base",
            "_view_module_version": "1.2.0",
            "_view_name": "StyleView",
            "description_width": ""
          }
        },
        "c7689868758c433d8ad7a18c1c726948": {
          "model_module": "@jupyter-widgets/controls",
          "model_name": "HBoxModel",
          "model_module_version": "1.5.0",
          "state": {
            "_dom_classes": [],
            "_model_module": "@jupyter-widgets/controls",
            "_model_module_version": "1.5.0",
            "_model_name": "HBoxModel",
            "_view_count": null,
            "_view_module": "@jupyter-widgets/controls",
            "_view_module_version": "1.5.0",
            "_view_name": "HBoxView",
            "box_style": "",
            "children": [
              "IPY_MODEL_c5219acf07cb4ace8d5c1248b8253535",
              "IPY_MODEL_df22e21628c44830bea0e5334f2e161c",
              "IPY_MODEL_70b82432131d4290b68723ca7f827b0f"
            ],
            "layout": "IPY_MODEL_87ee92b2915e4be8b5db14f77cb604ce"
          }
        },
        "c5219acf07cb4ace8d5c1248b8253535": {
          "model_module": "@jupyter-widgets/controls",
          "model_name": "HTMLModel",
          "model_module_version": "1.5.0",
          "state": {
            "_dom_classes": [],
            "_model_module": "@jupyter-widgets/controls",
            "_model_module_version": "1.5.0",
            "_model_name": "HTMLModel",
            "_view_count": null,
            "_view_module": "@jupyter-widgets/controls",
            "_view_module_version": "1.5.0",
            "_view_name": "HTMLView",
            "description": "",
            "description_tooltip": null,
            "layout": "IPY_MODEL_dd48959fb873467da496ad3a763ec1db",
            "placeholder": "​",
            "style": "IPY_MODEL_bad355319c914ee2b2ae3cd8f8ac2561",
            "value": "Map: 100%"
          }
        },
        "df22e21628c44830bea0e5334f2e161c": {
          "model_module": "@jupyter-widgets/controls",
          "model_name": "FloatProgressModel",
          "model_module_version": "1.5.0",
          "state": {
            "_dom_classes": [],
            "_model_module": "@jupyter-widgets/controls",
            "_model_module_version": "1.5.0",
            "_model_name": "FloatProgressModel",
            "_view_count": null,
            "_view_module": "@jupyter-widgets/controls",
            "_view_module_version": "1.5.0",
            "_view_name": "ProgressView",
            "bar_style": "success",
            "description": "",
            "description_tooltip": null,
            "layout": "IPY_MODEL_e325b667b76847ffaa118ea7cf83ac2e",
            "max": 1221,
            "min": 0,
            "orientation": "horizontal",
            "style": "IPY_MODEL_dbbbaf98afe34ddea8c531c51fb82fbd",
            "value": 1221
          }
        },
        "70b82432131d4290b68723ca7f827b0f": {
          "model_module": "@jupyter-widgets/controls",
          "model_name": "HTMLModel",
          "model_module_version": "1.5.0",
          "state": {
            "_dom_classes": [],
            "_model_module": "@jupyter-widgets/controls",
            "_model_module_version": "1.5.0",
            "_model_name": "HTMLModel",
            "_view_count": null,
            "_view_module": "@jupyter-widgets/controls",
            "_view_module_version": "1.5.0",
            "_view_name": "HTMLView",
            "description": "",
            "description_tooltip": null,
            "layout": "IPY_MODEL_a38e7cf949a84aae8c4f8e637de07216",
            "placeholder": "​",
            "style": "IPY_MODEL_a91ece55eb3c475587d941d887f9410c",
            "value": " 1221/1221 [00:01&lt;00:00, 1360.43 examples/s]"
          }
        },
        "87ee92b2915e4be8b5db14f77cb604ce": {
          "model_module": "@jupyter-widgets/base",
          "model_name": "LayoutModel",
          "model_module_version": "1.2.0",
          "state": {
            "_model_module": "@jupyter-widgets/base",
            "_model_module_version": "1.2.0",
            "_model_name": "LayoutModel",
            "_view_count": null,
            "_view_module": "@jupyter-widgets/base",
            "_view_module_version": "1.2.0",
            "_view_name": "LayoutView",
            "align_content": null,
            "align_items": null,
            "align_self": null,
            "border": null,
            "bottom": null,
            "display": null,
            "flex": null,
            "flex_flow": null,
            "grid_area": null,
            "grid_auto_columns": null,
            "grid_auto_flow": null,
            "grid_auto_rows": null,
            "grid_column": null,
            "grid_gap": null,
            "grid_row": null,
            "grid_template_areas": null,
            "grid_template_columns": null,
            "grid_template_rows": null,
            "height": null,
            "justify_content": null,
            "justify_items": null,
            "left": null,
            "margin": null,
            "max_height": null,
            "max_width": null,
            "min_height": null,
            "min_width": null,
            "object_fit": null,
            "object_position": null,
            "order": null,
            "overflow": null,
            "overflow_x": null,
            "overflow_y": null,
            "padding": null,
            "right": null,
            "top": null,
            "visibility": null,
            "width": null
          }
        },
        "dd48959fb873467da496ad3a763ec1db": {
          "model_module": "@jupyter-widgets/base",
          "model_name": "LayoutModel",
          "model_module_version": "1.2.0",
          "state": {
            "_model_module": "@jupyter-widgets/base",
            "_model_module_version": "1.2.0",
            "_model_name": "LayoutModel",
            "_view_count": null,
            "_view_module": "@jupyter-widgets/base",
            "_view_module_version": "1.2.0",
            "_view_name": "LayoutView",
            "align_content": null,
            "align_items": null,
            "align_self": null,
            "border": null,
            "bottom": null,
            "display": null,
            "flex": null,
            "flex_flow": null,
            "grid_area": null,
            "grid_auto_columns": null,
            "grid_auto_flow": null,
            "grid_auto_rows": null,
            "grid_column": null,
            "grid_gap": null,
            "grid_row": null,
            "grid_template_areas": null,
            "grid_template_columns": null,
            "grid_template_rows": null,
            "height": null,
            "justify_content": null,
            "justify_items": null,
            "left": null,
            "margin": null,
            "max_height": null,
            "max_width": null,
            "min_height": null,
            "min_width": null,
            "object_fit": null,
            "object_position": null,
            "order": null,
            "overflow": null,
            "overflow_x": null,
            "overflow_y": null,
            "padding": null,
            "right": null,
            "top": null,
            "visibility": null,
            "width": null
          }
        },
        "bad355319c914ee2b2ae3cd8f8ac2561": {
          "model_module": "@jupyter-widgets/controls",
          "model_name": "DescriptionStyleModel",
          "model_module_version": "1.5.0",
          "state": {
            "_model_module": "@jupyter-widgets/controls",
            "_model_module_version": "1.5.0",
            "_model_name": "DescriptionStyleModel",
            "_view_count": null,
            "_view_module": "@jupyter-widgets/base",
            "_view_module_version": "1.2.0",
            "_view_name": "StyleView",
            "description_width": ""
          }
        },
        "e325b667b76847ffaa118ea7cf83ac2e": {
          "model_module": "@jupyter-widgets/base",
          "model_name": "LayoutModel",
          "model_module_version": "1.2.0",
          "state": {
            "_model_module": "@jupyter-widgets/base",
            "_model_module_version": "1.2.0",
            "_model_name": "LayoutModel",
            "_view_count": null,
            "_view_module": "@jupyter-widgets/base",
            "_view_module_version": "1.2.0",
            "_view_name": "LayoutView",
            "align_content": null,
            "align_items": null,
            "align_self": null,
            "border": null,
            "bottom": null,
            "display": null,
            "flex": null,
            "flex_flow": null,
            "grid_area": null,
            "grid_auto_columns": null,
            "grid_auto_flow": null,
            "grid_auto_rows": null,
            "grid_column": null,
            "grid_gap": null,
            "grid_row": null,
            "grid_template_areas": null,
            "grid_template_columns": null,
            "grid_template_rows": null,
            "height": null,
            "justify_content": null,
            "justify_items": null,
            "left": null,
            "margin": null,
            "max_height": null,
            "max_width": null,
            "min_height": null,
            "min_width": null,
            "object_fit": null,
            "object_position": null,
            "order": null,
            "overflow": null,
            "overflow_x": null,
            "overflow_y": null,
            "padding": null,
            "right": null,
            "top": null,
            "visibility": null,
            "width": null
          }
        },
        "dbbbaf98afe34ddea8c531c51fb82fbd": {
          "model_module": "@jupyter-widgets/controls",
          "model_name": "ProgressStyleModel",
          "model_module_version": "1.5.0",
          "state": {
            "_model_module": "@jupyter-widgets/controls",
            "_model_module_version": "1.5.0",
            "_model_name": "ProgressStyleModel",
            "_view_count": null,
            "_view_module": "@jupyter-widgets/base",
            "_view_module_version": "1.2.0",
            "_view_name": "StyleView",
            "bar_color": null,
            "description_width": ""
          }
        },
        "a38e7cf949a84aae8c4f8e637de07216": {
          "model_module": "@jupyter-widgets/base",
          "model_name": "LayoutModel",
          "model_module_version": "1.2.0",
          "state": {
            "_model_module": "@jupyter-widgets/base",
            "_model_module_version": "1.2.0",
            "_model_name": "LayoutModel",
            "_view_count": null,
            "_view_module": "@jupyter-widgets/base",
            "_view_module_version": "1.2.0",
            "_view_name": "LayoutView",
            "align_content": null,
            "align_items": null,
            "align_self": null,
            "border": null,
            "bottom": null,
            "display": null,
            "flex": null,
            "flex_flow": null,
            "grid_area": null,
            "grid_auto_columns": null,
            "grid_auto_flow": null,
            "grid_auto_rows": null,
            "grid_column": null,
            "grid_gap": null,
            "grid_row": null,
            "grid_template_areas": null,
            "grid_template_columns": null,
            "grid_template_rows": null,
            "height": null,
            "justify_content": null,
            "justify_items": null,
            "left": null,
            "margin": null,
            "max_height": null,
            "max_width": null,
            "min_height": null,
            "min_width": null,
            "object_fit": null,
            "object_position": null,
            "order": null,
            "overflow": null,
            "overflow_x": null,
            "overflow_y": null,
            "padding": null,
            "right": null,
            "top": null,
            "visibility": null,
            "width": null
          }
        },
        "a91ece55eb3c475587d941d887f9410c": {
          "model_module": "@jupyter-widgets/controls",
          "model_name": "DescriptionStyleModel",
          "model_module_version": "1.5.0",
          "state": {
            "_model_module": "@jupyter-widgets/controls",
            "_model_module_version": "1.5.0",
            "_model_name": "DescriptionStyleModel",
            "_view_count": null,
            "_view_module": "@jupyter-widgets/base",
            "_view_module_version": "1.2.0",
            "_view_name": "StyleView",
            "description_width": ""
          }
        }
      }
    }
  },
  "cells": [
    {
      "cell_type": "markdown",
      "metadata": {
        "id": "view-in-github",
        "colab_type": "text"
      },
      "source": [
        "<a href=\"https://colab.research.google.com/github/MSDS-Capstone-Project/LLM_FineTuning/blob/main/LoRA_Tuning.ipynb\" target=\"_parent\"><img src=\"https://colab.research.google.com/assets/colab-badge.svg\" alt=\"Open In Colab\"/></a>"
      ]
    },
    {
      "cell_type": "code",
      "execution_count": 1,
      "metadata": {
        "colab": {
          "base_uri": "https://localhost:8080/"
        },
        "id": "Cyc1rhHVMIKd",
        "outputId": "4c2e48ef-7fe2-4dd4-9f35-6dda492e5183"
      },
      "outputs": [
        {
          "output_type": "stream",
          "name": "stderr",
          "text": [
            "/usr/local/lib/python3.11/dist-packages/huggingface_hub/utils/_auth.py:94: UserWarning: \n",
            "The secret `HF_TOKEN` does not exist in your Colab secrets.\n",
            "To authenticate with the Hugging Face Hub, create a token in your settings tab (https://huggingface.co/settings/tokens), set it as secret in your Google Colab and restart your session.\n",
            "You will be able to reuse this secret in all of your notebooks.\n",
            "Please note that authentication is recommended but still optional to access public models or datasets.\n",
            "  warnings.warn(\n"
          ]
        },
        {
          "output_type": "stream",
          "name": "stdout",
          "text": [
            "Dataset({\n",
            "    features: ['id', 'question', 'question_concept', 'choices', 'answerKey'],\n",
            "    num_rows: 9741\n",
            "})\n"
          ]
        }
      ],
      "source": [
        "### Loading the Dataset\n",
        "\n",
        "try: from datasets import load_dataset\n",
        "except:\n",
        "    !pip install datasets\n",
        "    from datasets import load_dataset\n",
        "\n",
        "\n",
        "# dataset = load_dataset(\"nvidia/OpenMathInstruct-2\", split = \"train_1M\")\n",
        "dataset = load_dataset(\"commonsense_qa\")\n",
        "# dataset_small = dataset.select(range(10000))\n",
        "# dataset_split = dataset_small.train_test_split(test_size=0.1, seed=42)\n",
        "# train_data, eval_data = dataset_split[\"train\"], dataset_split[\"test\"]\n",
        "train_data, eval_data = dataset[\"train\"], dataset[\"validation\"]\n",
        "\n",
        "print(train_data)"
      ]
    },
    {
      "cell_type": "code",
      "source": [
        "eval_data.to_pandas().head()"
      ],
      "metadata": {
        "colab": {
          "base_uri": "https://localhost:8080/",
          "height": 206
        },
        "id": "cj0kX79iMXR3",
        "outputId": "f746f749-93ee-49e8-a157-8b8d4941b4fd"
      },
      "execution_count": 2,
      "outputs": [
        {
          "output_type": "execute_result",
          "data": {
            "text/plain": [
              "                                 id  \\\n",
              "0  1afa02df02c908a558b4036e80242fac   \n",
              "1  a7ab086045575bb497933726e4e6ad28   \n",
              "2  b8c0a4703079cf661d7261a60a1bcbff   \n",
              "3  e68fb2448fd74e402aae9982aa76e527   \n",
              "4  2435de612dd69f2012b9e40d6af4ce38   \n",
              "\n",
              "                                            question question_concept  \\\n",
              "0  A revolving door is convenient for two directi...   revolving door   \n",
              "1                  What do people aim to do at work?           people   \n",
              "2  Where would you find magazines along side many...        magazines   \n",
              "3         Where are  you likely to find a hamburger?        hamburger   \n",
              "4  James was looking for a good place to buy farm...         farmland   \n",
              "\n",
              "                                             choices answerKey  \n",
              "0  {'label': ['A', 'B', 'C', 'D', 'E'], 'text': [...         A  \n",
              "1  {'label': ['A', 'B', 'C', 'D', 'E'], 'text': [...         A  \n",
              "2  {'label': ['A', 'B', 'C', 'D', 'E'], 'text': [...         B  \n",
              "3  {'label': ['A', 'B', 'C', 'D', 'E'], 'text': [...         A  \n",
              "4  {'label': ['A', 'B', 'C', 'D', 'E'], 'text': [...         A  "
            ],
            "text/html": [
              "\n",
              "  <div id=\"df-ac701a30-9a74-497e-bb5d-f3344203b1f7\" class=\"colab-df-container\">\n",
              "    <div>\n",
              "<style scoped>\n",
              "    .dataframe tbody tr th:only-of-type {\n",
              "        vertical-align: middle;\n",
              "    }\n",
              "\n",
              "    .dataframe tbody tr th {\n",
              "        vertical-align: top;\n",
              "    }\n",
              "\n",
              "    .dataframe thead th {\n",
              "        text-align: right;\n",
              "    }\n",
              "</style>\n",
              "<table border=\"1\" class=\"dataframe\">\n",
              "  <thead>\n",
              "    <tr style=\"text-align: right;\">\n",
              "      <th></th>\n",
              "      <th>id</th>\n",
              "      <th>question</th>\n",
              "      <th>question_concept</th>\n",
              "      <th>choices</th>\n",
              "      <th>answerKey</th>\n",
              "    </tr>\n",
              "  </thead>\n",
              "  <tbody>\n",
              "    <tr>\n",
              "      <th>0</th>\n",
              "      <td>1afa02df02c908a558b4036e80242fac</td>\n",
              "      <td>A revolving door is convenient for two directi...</td>\n",
              "      <td>revolving door</td>\n",
              "      <td>{'label': ['A', 'B', 'C', 'D', 'E'], 'text': [...</td>\n",
              "      <td>A</td>\n",
              "    </tr>\n",
              "    <tr>\n",
              "      <th>1</th>\n",
              "      <td>a7ab086045575bb497933726e4e6ad28</td>\n",
              "      <td>What do people aim to do at work?</td>\n",
              "      <td>people</td>\n",
              "      <td>{'label': ['A', 'B', 'C', 'D', 'E'], 'text': [...</td>\n",
              "      <td>A</td>\n",
              "    </tr>\n",
              "    <tr>\n",
              "      <th>2</th>\n",
              "      <td>b8c0a4703079cf661d7261a60a1bcbff</td>\n",
              "      <td>Where would you find magazines along side many...</td>\n",
              "      <td>magazines</td>\n",
              "      <td>{'label': ['A', 'B', 'C', 'D', 'E'], 'text': [...</td>\n",
              "      <td>B</td>\n",
              "    </tr>\n",
              "    <tr>\n",
              "      <th>3</th>\n",
              "      <td>e68fb2448fd74e402aae9982aa76e527</td>\n",
              "      <td>Where are  you likely to find a hamburger?</td>\n",
              "      <td>hamburger</td>\n",
              "      <td>{'label': ['A', 'B', 'C', 'D', 'E'], 'text': [...</td>\n",
              "      <td>A</td>\n",
              "    </tr>\n",
              "    <tr>\n",
              "      <th>4</th>\n",
              "      <td>2435de612dd69f2012b9e40d6af4ce38</td>\n",
              "      <td>James was looking for a good place to buy farm...</td>\n",
              "      <td>farmland</td>\n",
              "      <td>{'label': ['A', 'B', 'C', 'D', 'E'], 'text': [...</td>\n",
              "      <td>A</td>\n",
              "    </tr>\n",
              "  </tbody>\n",
              "</table>\n",
              "</div>\n",
              "    <div class=\"colab-df-buttons\">\n",
              "\n",
              "  <div class=\"colab-df-container\">\n",
              "    <button class=\"colab-df-convert\" onclick=\"convertToInteractive('df-ac701a30-9a74-497e-bb5d-f3344203b1f7')\"\n",
              "            title=\"Convert this dataframe to an interactive table.\"\n",
              "            style=\"display:none;\">\n",
              "\n",
              "  <svg xmlns=\"http://www.w3.org/2000/svg\" height=\"24px\" viewBox=\"0 -960 960 960\">\n",
              "    <path d=\"M120-120v-720h720v720H120Zm60-500h600v-160H180v160Zm220 220h160v-160H400v160Zm0 220h160v-160H400v160ZM180-400h160v-160H180v160Zm440 0h160v-160H620v160ZM180-180h160v-160H180v160Zm440 0h160v-160H620v160Z\"/>\n",
              "  </svg>\n",
              "    </button>\n",
              "\n",
              "  <style>\n",
              "    .colab-df-container {\n",
              "      display:flex;\n",
              "      gap: 12px;\n",
              "    }\n",
              "\n",
              "    .colab-df-convert {\n",
              "      background-color: #E8F0FE;\n",
              "      border: none;\n",
              "      border-radius: 50%;\n",
              "      cursor: pointer;\n",
              "      display: none;\n",
              "      fill: #1967D2;\n",
              "      height: 32px;\n",
              "      padding: 0 0 0 0;\n",
              "      width: 32px;\n",
              "    }\n",
              "\n",
              "    .colab-df-convert:hover {\n",
              "      background-color: #E2EBFA;\n",
              "      box-shadow: 0px 1px 2px rgba(60, 64, 67, 0.3), 0px 1px 3px 1px rgba(60, 64, 67, 0.15);\n",
              "      fill: #174EA6;\n",
              "    }\n",
              "\n",
              "    .colab-df-buttons div {\n",
              "      margin-bottom: 4px;\n",
              "    }\n",
              "\n",
              "    [theme=dark] .colab-df-convert {\n",
              "      background-color: #3B4455;\n",
              "      fill: #D2E3FC;\n",
              "    }\n",
              "\n",
              "    [theme=dark] .colab-df-convert:hover {\n",
              "      background-color: #434B5C;\n",
              "      box-shadow: 0px 1px 3px 1px rgba(0, 0, 0, 0.15);\n",
              "      filter: drop-shadow(0px 1px 2px rgba(0, 0, 0, 0.3));\n",
              "      fill: #FFFFFF;\n",
              "    }\n",
              "  </style>\n",
              "\n",
              "    <script>\n",
              "      const buttonEl =\n",
              "        document.querySelector('#df-ac701a30-9a74-497e-bb5d-f3344203b1f7 button.colab-df-convert');\n",
              "      buttonEl.style.display =\n",
              "        google.colab.kernel.accessAllowed ? 'block' : 'none';\n",
              "\n",
              "      async function convertToInteractive(key) {\n",
              "        const element = document.querySelector('#df-ac701a30-9a74-497e-bb5d-f3344203b1f7');\n",
              "        const dataTable =\n",
              "          await google.colab.kernel.invokeFunction('convertToInteractive',\n",
              "                                                    [key], {});\n",
              "        if (!dataTable) return;\n",
              "\n",
              "        const docLinkHtml = 'Like what you see? Visit the ' +\n",
              "          '<a target=\"_blank\" href=https://colab.research.google.com/notebooks/data_table.ipynb>data table notebook</a>'\n",
              "          + ' to learn more about interactive tables.';\n",
              "        element.innerHTML = '';\n",
              "        dataTable['output_type'] = 'display_data';\n",
              "        await google.colab.output.renderOutput(dataTable, element);\n",
              "        const docLink = document.createElement('div');\n",
              "        docLink.innerHTML = docLinkHtml;\n",
              "        element.appendChild(docLink);\n",
              "      }\n",
              "    </script>\n",
              "  </div>\n",
              "\n",
              "\n",
              "<div id=\"df-8509ec15-e139-4955-a176-880f0a46142f\">\n",
              "  <button class=\"colab-df-quickchart\" onclick=\"quickchart('df-8509ec15-e139-4955-a176-880f0a46142f')\"\n",
              "            title=\"Suggest charts\"\n",
              "            style=\"display:none;\">\n",
              "\n",
              "<svg xmlns=\"http://www.w3.org/2000/svg\" height=\"24px\"viewBox=\"0 0 24 24\"\n",
              "     width=\"24px\">\n",
              "    <g>\n",
              "        <path d=\"M19 3H5c-1.1 0-2 .9-2 2v14c0 1.1.9 2 2 2h14c1.1 0 2-.9 2-2V5c0-1.1-.9-2-2-2zM9 17H7v-7h2v7zm4 0h-2V7h2v10zm4 0h-2v-4h2v4z\"/>\n",
              "    </g>\n",
              "</svg>\n",
              "  </button>\n",
              "\n",
              "<style>\n",
              "  .colab-df-quickchart {\n",
              "      --bg-color: #E8F0FE;\n",
              "      --fill-color: #1967D2;\n",
              "      --hover-bg-color: #E2EBFA;\n",
              "      --hover-fill-color: #174EA6;\n",
              "      --disabled-fill-color: #AAA;\n",
              "      --disabled-bg-color: #DDD;\n",
              "  }\n",
              "\n",
              "  [theme=dark] .colab-df-quickchart {\n",
              "      --bg-color: #3B4455;\n",
              "      --fill-color: #D2E3FC;\n",
              "      --hover-bg-color: #434B5C;\n",
              "      --hover-fill-color: #FFFFFF;\n",
              "      --disabled-bg-color: #3B4455;\n",
              "      --disabled-fill-color: #666;\n",
              "  }\n",
              "\n",
              "  .colab-df-quickchart {\n",
              "    background-color: var(--bg-color);\n",
              "    border: none;\n",
              "    border-radius: 50%;\n",
              "    cursor: pointer;\n",
              "    display: none;\n",
              "    fill: var(--fill-color);\n",
              "    height: 32px;\n",
              "    padding: 0;\n",
              "    width: 32px;\n",
              "  }\n",
              "\n",
              "  .colab-df-quickchart:hover {\n",
              "    background-color: var(--hover-bg-color);\n",
              "    box-shadow: 0 1px 2px rgba(60, 64, 67, 0.3), 0 1px 3px 1px rgba(60, 64, 67, 0.15);\n",
              "    fill: var(--button-hover-fill-color);\n",
              "  }\n",
              "\n",
              "  .colab-df-quickchart-complete:disabled,\n",
              "  .colab-df-quickchart-complete:disabled:hover {\n",
              "    background-color: var(--disabled-bg-color);\n",
              "    fill: var(--disabled-fill-color);\n",
              "    box-shadow: none;\n",
              "  }\n",
              "\n",
              "  .colab-df-spinner {\n",
              "    border: 2px solid var(--fill-color);\n",
              "    border-color: transparent;\n",
              "    border-bottom-color: var(--fill-color);\n",
              "    animation:\n",
              "      spin 1s steps(1) infinite;\n",
              "  }\n",
              "\n",
              "  @keyframes spin {\n",
              "    0% {\n",
              "      border-color: transparent;\n",
              "      border-bottom-color: var(--fill-color);\n",
              "      border-left-color: var(--fill-color);\n",
              "    }\n",
              "    20% {\n",
              "      border-color: transparent;\n",
              "      border-left-color: var(--fill-color);\n",
              "      border-top-color: var(--fill-color);\n",
              "    }\n",
              "    30% {\n",
              "      border-color: transparent;\n",
              "      border-left-color: var(--fill-color);\n",
              "      border-top-color: var(--fill-color);\n",
              "      border-right-color: var(--fill-color);\n",
              "    }\n",
              "    40% {\n",
              "      border-color: transparent;\n",
              "      border-right-color: var(--fill-color);\n",
              "      border-top-color: var(--fill-color);\n",
              "    }\n",
              "    60% {\n",
              "      border-color: transparent;\n",
              "      border-right-color: var(--fill-color);\n",
              "    }\n",
              "    80% {\n",
              "      border-color: transparent;\n",
              "      border-right-color: var(--fill-color);\n",
              "      border-bottom-color: var(--fill-color);\n",
              "    }\n",
              "    90% {\n",
              "      border-color: transparent;\n",
              "      border-bottom-color: var(--fill-color);\n",
              "    }\n",
              "  }\n",
              "</style>\n",
              "\n",
              "  <script>\n",
              "    async function quickchart(key) {\n",
              "      const quickchartButtonEl =\n",
              "        document.querySelector('#' + key + ' button');\n",
              "      quickchartButtonEl.disabled = true;  // To prevent multiple clicks.\n",
              "      quickchartButtonEl.classList.add('colab-df-spinner');\n",
              "      try {\n",
              "        const charts = await google.colab.kernel.invokeFunction(\n",
              "            'suggestCharts', [key], {});\n",
              "      } catch (error) {\n",
              "        console.error('Error during call to suggestCharts:', error);\n",
              "      }\n",
              "      quickchartButtonEl.classList.remove('colab-df-spinner');\n",
              "      quickchartButtonEl.classList.add('colab-df-quickchart-complete');\n",
              "    }\n",
              "    (() => {\n",
              "      let quickchartButtonEl =\n",
              "        document.querySelector('#df-8509ec15-e139-4955-a176-880f0a46142f button');\n",
              "      quickchartButtonEl.style.display =\n",
              "        google.colab.kernel.accessAllowed ? 'block' : 'none';\n",
              "    })();\n",
              "  </script>\n",
              "</div>\n",
              "\n",
              "    </div>\n",
              "  </div>\n"
            ],
            "application/vnd.google.colaboratory.intrinsic+json": {
              "type": "dataframe",
              "summary": "{\n  \"name\": \"eval_data\",\n  \"rows\": 5,\n  \"fields\": [\n    {\n      \"column\": \"id\",\n      \"properties\": {\n        \"dtype\": \"string\",\n        \"num_unique_values\": 5,\n        \"samples\": [\n          \"a7ab086045575bb497933726e4e6ad28\",\n          \"2435de612dd69f2012b9e40d6af4ce38\",\n          \"b8c0a4703079cf661d7261a60a1bcbff\"\n        ],\n        \"semantic_type\": \"\",\n        \"description\": \"\"\n      }\n    },\n    {\n      \"column\": \"question\",\n      \"properties\": {\n        \"dtype\": \"string\",\n        \"num_unique_values\": 5,\n        \"samples\": [\n          \"What do people aim to do at work?\",\n          \"James was looking for a good place to buy farmland.  Where might he look?\",\n          \"Where would you find magazines along side many other printed works?\"\n        ],\n        \"semantic_type\": \"\",\n        \"description\": \"\"\n      }\n    },\n    {\n      \"column\": \"question_concept\",\n      \"properties\": {\n        \"dtype\": \"string\",\n        \"num_unique_values\": 5,\n        \"samples\": [\n          \"people\",\n          \"farmland\",\n          \"magazines\"\n        ],\n        \"semantic_type\": \"\",\n        \"description\": \"\"\n      }\n    },\n    {\n      \"column\": \"choices\",\n      \"properties\": {\n        \"dtype\": \"object\",\n        \"semantic_type\": \"\",\n        \"description\": \"\"\n      }\n    },\n    {\n      \"column\": \"answerKey\",\n      \"properties\": {\n        \"dtype\": \"category\",\n        \"num_unique_values\": 2,\n        \"samples\": [\n          \"B\",\n          \"A\"\n        ],\n        \"semantic_type\": \"\",\n        \"description\": \"\"\n      }\n    }\n  ]\n}"
            }
          },
          "metadata": {},
          "execution_count": 2
        }
      ]
    },
    {
      "cell_type": "code",
      "source": [
        "### Logging into HuggingFace\n",
        "\n",
        "try:\n",
        "  from dotenv import load_dotenv\n",
        "except:\n",
        "  !pip install python-dotenv\n",
        "  from dotenv import load_dotenv\n",
        "\n",
        "from huggingface_hub import login, whoami\n",
        "import os\n",
        "\n",
        "load_dotenv()\n",
        "login(os.getenv(\"hugging_face_key2\"))"
      ],
      "metadata": {
        "colab": {
          "base_uri": "https://localhost:8080/",
          "height": 358,
          "referenced_widgets": [
            "fc55feb6d4db4f358080b40b1e390468",
            "c27c96a522d84e7c8c364d0fbeab1af5",
            "b519a3edd3414eaf8a3406a14f5e2394",
            "ea83241387524a9db4dae8a7e47d9987",
            "8c40686f5f6c417bb6a982699078cd2f",
            "e323860bb5394ae388485e5618aaeb83",
            "c561b000fe464c23a965fd0a29be1c2c",
            "8c0e1231c9e64b1bbdc4395e67a2591f",
            "c5c600c3d26e4f689099ae3e37d9fc83",
            "b737839085414ca7a2c86d5870632789",
            "8223dc31af62442293952d5d86bdc670",
            "b35aabfe0523463584e2c59a0e02359e",
            "bf04bcc1370d4513bacd259bbed49421",
            "72d5ddb7372e4245ae5cfe045764dbf1",
            "2667f24ad093484bb6a5ee44e902d106",
            "fd3afef0c7824d6994315804fe667ba8",
            "fc110133c04746e588e38925f0f9abca"
          ]
        },
        "id": "WGz-XnQSMaR-",
        "outputId": "ed4a8b52-6881-4d69-c384-7a6cfa6784eb"
      },
      "execution_count": 3,
      "outputs": [
        {
          "output_type": "display_data",
          "data": {
            "text/plain": [
              "VBox(children=(HTML(value='<center> <img\\nsrc=https://huggingface.co/front/assets/huggingface_logo-noborder.sv…"
            ],
            "application/vnd.jupyter.widget-view+json": {
              "version_major": 2,
              "version_minor": 0,
              "model_id": "fc55feb6d4db4f358080b40b1e390468"
            }
          },
          "metadata": {}
        }
      ]
    },
    {
      "cell_type": "code",
      "source": [
        "!pip install peft\n",
        "!pip install -U bitsandbytes\n",
        "!pip install --upgrade transformers accelerate"
      ],
      "metadata": {
        "colab": {
          "base_uri": "https://localhost:8080/"
        },
        "id": "5-oTKuw3Meje",
        "outputId": "52701ed5-2c67-4fc4-8050-ef1d262324d2"
      },
      "execution_count": 4,
      "outputs": [
        {
          "output_type": "stream",
          "name": "stdout",
          "text": [
            "Requirement already satisfied: peft in /usr/local/lib/python3.11/dist-packages (0.14.0)\n",
            "Requirement already satisfied: numpy>=1.17 in /usr/local/lib/python3.11/dist-packages (from peft) (2.0.2)\n",
            "Requirement already satisfied: packaging>=20.0 in /usr/local/lib/python3.11/dist-packages (from peft) (24.2)\n",
            "Requirement already satisfied: psutil in /usr/local/lib/python3.11/dist-packages (from peft) (5.9.5)\n",
            "Requirement already satisfied: pyyaml in /usr/local/lib/python3.11/dist-packages (from peft) (6.0.2)\n",
            "Requirement already satisfied: torch>=1.13.0 in /usr/local/lib/python3.11/dist-packages (from peft) (2.6.0+cu124)\n",
            "Requirement already satisfied: transformers in /usr/local/lib/python3.11/dist-packages (from peft) (4.51.3)\n",
            "Requirement already satisfied: tqdm in /usr/local/lib/python3.11/dist-packages (from peft) (4.67.1)\n",
            "Requirement already satisfied: accelerate>=0.21.0 in /usr/local/lib/python3.11/dist-packages (from peft) (1.6.0)\n",
            "Requirement already satisfied: safetensors in /usr/local/lib/python3.11/dist-packages (from peft) (0.5.3)\n",
            "Requirement already satisfied: huggingface-hub>=0.25.0 in /usr/local/lib/python3.11/dist-packages (from peft) (0.30.2)\n",
            "Requirement already satisfied: filelock in /usr/local/lib/python3.11/dist-packages (from huggingface-hub>=0.25.0->peft) (3.18.0)\n",
            "Requirement already satisfied: fsspec>=2023.5.0 in /usr/local/lib/python3.11/dist-packages (from huggingface-hub>=0.25.0->peft) (2024.12.0)\n",
            "Requirement already satisfied: requests in /usr/local/lib/python3.11/dist-packages (from huggingface-hub>=0.25.0->peft) (2.32.3)\n",
            "Requirement already satisfied: typing-extensions>=3.7.4.3 in /usr/local/lib/python3.11/dist-packages (from huggingface-hub>=0.25.0->peft) (4.13.2)\n",
            "Requirement already satisfied: networkx in /usr/local/lib/python3.11/dist-packages (from torch>=1.13.0->peft) (3.4.2)\n",
            "Requirement already satisfied: jinja2 in /usr/local/lib/python3.11/dist-packages (from torch>=1.13.0->peft) (3.1.6)\n",
            "Requirement already satisfied: nvidia-cuda-nvrtc-cu12==12.4.127 in /usr/local/lib/python3.11/dist-packages (from torch>=1.13.0->peft) (12.4.127)\n",
            "Requirement already satisfied: nvidia-cuda-runtime-cu12==12.4.127 in /usr/local/lib/python3.11/dist-packages (from torch>=1.13.0->peft) (12.4.127)\n",
            "Requirement already satisfied: nvidia-cuda-cupti-cu12==12.4.127 in /usr/local/lib/python3.11/dist-packages (from torch>=1.13.0->peft) (12.4.127)\n",
            "Requirement already satisfied: nvidia-cudnn-cu12==9.1.0.70 in /usr/local/lib/python3.11/dist-packages (from torch>=1.13.0->peft) (9.1.0.70)\n",
            "Requirement already satisfied: nvidia-cublas-cu12==12.4.5.8 in /usr/local/lib/python3.11/dist-packages (from torch>=1.13.0->peft) (12.4.5.8)\n",
            "Requirement already satisfied: nvidia-cufft-cu12==11.2.1.3 in /usr/local/lib/python3.11/dist-packages (from torch>=1.13.0->peft) (11.2.1.3)\n",
            "Requirement already satisfied: nvidia-curand-cu12==10.3.5.147 in /usr/local/lib/python3.11/dist-packages (from torch>=1.13.0->peft) (10.3.5.147)\n",
            "Requirement already satisfied: nvidia-cusolver-cu12==11.6.1.9 in /usr/local/lib/python3.11/dist-packages (from torch>=1.13.0->peft) (11.6.1.9)\n",
            "Requirement already satisfied: nvidia-cusparse-cu12==12.3.1.170 in /usr/local/lib/python3.11/dist-packages (from torch>=1.13.0->peft) (12.3.1.170)\n",
            "Requirement already satisfied: nvidia-cusparselt-cu12==0.6.2 in /usr/local/lib/python3.11/dist-packages (from torch>=1.13.0->peft) (0.6.2)\n",
            "Requirement already satisfied: nvidia-nccl-cu12==2.21.5 in /usr/local/lib/python3.11/dist-packages (from torch>=1.13.0->peft) (2.21.5)\n",
            "Requirement already satisfied: nvidia-nvtx-cu12==12.4.127 in /usr/local/lib/python3.11/dist-packages (from torch>=1.13.0->peft) (12.4.127)\n",
            "Requirement already satisfied: nvidia-nvjitlink-cu12==12.4.127 in /usr/local/lib/python3.11/dist-packages (from torch>=1.13.0->peft) (12.4.127)\n",
            "Requirement already satisfied: triton==3.2.0 in /usr/local/lib/python3.11/dist-packages (from torch>=1.13.0->peft) (3.2.0)\n",
            "Requirement already satisfied: sympy==1.13.1 in /usr/local/lib/python3.11/dist-packages (from torch>=1.13.0->peft) (1.13.1)\n",
            "Requirement already satisfied: mpmath<1.4,>=1.1.0 in /usr/local/lib/python3.11/dist-packages (from sympy==1.13.1->torch>=1.13.0->peft) (1.3.0)\n",
            "Requirement already satisfied: regex!=2019.12.17 in /usr/local/lib/python3.11/dist-packages (from transformers->peft) (2024.11.6)\n",
            "Requirement already satisfied: tokenizers<0.22,>=0.21 in /usr/local/lib/python3.11/dist-packages (from transformers->peft) (0.21.1)\n",
            "Requirement already satisfied: MarkupSafe>=2.0 in /usr/local/lib/python3.11/dist-packages (from jinja2->torch>=1.13.0->peft) (3.0.2)\n",
            "Requirement already satisfied: charset-normalizer<4,>=2 in /usr/local/lib/python3.11/dist-packages (from requests->huggingface-hub>=0.25.0->peft) (3.4.1)\n",
            "Requirement already satisfied: idna<4,>=2.5 in /usr/local/lib/python3.11/dist-packages (from requests->huggingface-hub>=0.25.0->peft) (3.10)\n",
            "Requirement already satisfied: urllib3<3,>=1.21.1 in /usr/local/lib/python3.11/dist-packages (from requests->huggingface-hub>=0.25.0->peft) (2.3.0)\n",
            "Requirement already satisfied: certifi>=2017.4.17 in /usr/local/lib/python3.11/dist-packages (from requests->huggingface-hub>=0.25.0->peft) (2025.1.31)\n",
            "Requirement already satisfied: bitsandbytes in /usr/local/lib/python3.11/dist-packages (0.45.5)\n",
            "Requirement already satisfied: torch<3,>=2.0 in /usr/local/lib/python3.11/dist-packages (from bitsandbytes) (2.6.0+cu124)\n",
            "Requirement already satisfied: numpy>=1.17 in /usr/local/lib/python3.11/dist-packages (from bitsandbytes) (2.0.2)\n",
            "Requirement already satisfied: filelock in /usr/local/lib/python3.11/dist-packages (from torch<3,>=2.0->bitsandbytes) (3.18.0)\n",
            "Requirement already satisfied: typing-extensions>=4.10.0 in /usr/local/lib/python3.11/dist-packages (from torch<3,>=2.0->bitsandbytes) (4.13.2)\n",
            "Requirement already satisfied: networkx in /usr/local/lib/python3.11/dist-packages (from torch<3,>=2.0->bitsandbytes) (3.4.2)\n",
            "Requirement already satisfied: jinja2 in /usr/local/lib/python3.11/dist-packages (from torch<3,>=2.0->bitsandbytes) (3.1.6)\n",
            "Requirement already satisfied: fsspec in /usr/local/lib/python3.11/dist-packages (from torch<3,>=2.0->bitsandbytes) (2024.12.0)\n",
            "Requirement already satisfied: nvidia-cuda-nvrtc-cu12==12.4.127 in /usr/local/lib/python3.11/dist-packages (from torch<3,>=2.0->bitsandbytes) (12.4.127)\n",
            "Requirement already satisfied: nvidia-cuda-runtime-cu12==12.4.127 in /usr/local/lib/python3.11/dist-packages (from torch<3,>=2.0->bitsandbytes) (12.4.127)\n",
            "Requirement already satisfied: nvidia-cuda-cupti-cu12==12.4.127 in /usr/local/lib/python3.11/dist-packages (from torch<3,>=2.0->bitsandbytes) (12.4.127)\n",
            "Requirement already satisfied: nvidia-cudnn-cu12==9.1.0.70 in /usr/local/lib/python3.11/dist-packages (from torch<3,>=2.0->bitsandbytes) (9.1.0.70)\n",
            "Requirement already satisfied: nvidia-cublas-cu12==12.4.5.8 in /usr/local/lib/python3.11/dist-packages (from torch<3,>=2.0->bitsandbytes) (12.4.5.8)\n",
            "Requirement already satisfied: nvidia-cufft-cu12==11.2.1.3 in /usr/local/lib/python3.11/dist-packages (from torch<3,>=2.0->bitsandbytes) (11.2.1.3)\n",
            "Requirement already satisfied: nvidia-curand-cu12==10.3.5.147 in /usr/local/lib/python3.11/dist-packages (from torch<3,>=2.0->bitsandbytes) (10.3.5.147)\n",
            "Requirement already satisfied: nvidia-cusolver-cu12==11.6.1.9 in /usr/local/lib/python3.11/dist-packages (from torch<3,>=2.0->bitsandbytes) (11.6.1.9)\n",
            "Requirement already satisfied: nvidia-cusparse-cu12==12.3.1.170 in /usr/local/lib/python3.11/dist-packages (from torch<3,>=2.0->bitsandbytes) (12.3.1.170)\n",
            "Requirement already satisfied: nvidia-cusparselt-cu12==0.6.2 in /usr/local/lib/python3.11/dist-packages (from torch<3,>=2.0->bitsandbytes) (0.6.2)\n",
            "Requirement already satisfied: nvidia-nccl-cu12==2.21.5 in /usr/local/lib/python3.11/dist-packages (from torch<3,>=2.0->bitsandbytes) (2.21.5)\n",
            "Requirement already satisfied: nvidia-nvtx-cu12==12.4.127 in /usr/local/lib/python3.11/dist-packages (from torch<3,>=2.0->bitsandbytes) (12.4.127)\n",
            "Requirement already satisfied: nvidia-nvjitlink-cu12==12.4.127 in /usr/local/lib/python3.11/dist-packages (from torch<3,>=2.0->bitsandbytes) (12.4.127)\n",
            "Requirement already satisfied: triton==3.2.0 in /usr/local/lib/python3.11/dist-packages (from torch<3,>=2.0->bitsandbytes) (3.2.0)\n",
            "Requirement already satisfied: sympy==1.13.1 in /usr/local/lib/python3.11/dist-packages (from torch<3,>=2.0->bitsandbytes) (1.13.1)\n",
            "Requirement already satisfied: mpmath<1.4,>=1.1.0 in /usr/local/lib/python3.11/dist-packages (from sympy==1.13.1->torch<3,>=2.0->bitsandbytes) (1.3.0)\n",
            "Requirement already satisfied: MarkupSafe>=2.0 in /usr/local/lib/python3.11/dist-packages (from jinja2->torch<3,>=2.0->bitsandbytes) (3.0.2)\n",
            "Requirement already satisfied: transformers in /usr/local/lib/python3.11/dist-packages (4.51.3)\n",
            "Requirement already satisfied: accelerate in /usr/local/lib/python3.11/dist-packages (1.6.0)\n",
            "Requirement already satisfied: filelock in /usr/local/lib/python3.11/dist-packages (from transformers) (3.18.0)\n",
            "Requirement already satisfied: huggingface-hub<1.0,>=0.30.0 in /usr/local/lib/python3.11/dist-packages (from transformers) (0.30.2)\n",
            "Requirement already satisfied: numpy>=1.17 in /usr/local/lib/python3.11/dist-packages (from transformers) (2.0.2)\n",
            "Requirement already satisfied: packaging>=20.0 in /usr/local/lib/python3.11/dist-packages (from transformers) (24.2)\n",
            "Requirement already satisfied: pyyaml>=5.1 in /usr/local/lib/python3.11/dist-packages (from transformers) (6.0.2)\n",
            "Requirement already satisfied: regex!=2019.12.17 in /usr/local/lib/python3.11/dist-packages (from transformers) (2024.11.6)\n",
            "Requirement already satisfied: requests in /usr/local/lib/python3.11/dist-packages (from transformers) (2.32.3)\n",
            "Requirement already satisfied: tokenizers<0.22,>=0.21 in /usr/local/lib/python3.11/dist-packages (from transformers) (0.21.1)\n",
            "Requirement already satisfied: safetensors>=0.4.3 in /usr/local/lib/python3.11/dist-packages (from transformers) (0.5.3)\n",
            "Requirement already satisfied: tqdm>=4.27 in /usr/local/lib/python3.11/dist-packages (from transformers) (4.67.1)\n",
            "Requirement already satisfied: psutil in /usr/local/lib/python3.11/dist-packages (from accelerate) (5.9.5)\n",
            "Requirement already satisfied: torch>=2.0.0 in /usr/local/lib/python3.11/dist-packages (from accelerate) (2.6.0+cu124)\n",
            "Requirement already satisfied: fsspec>=2023.5.0 in /usr/local/lib/python3.11/dist-packages (from huggingface-hub<1.0,>=0.30.0->transformers) (2024.12.0)\n",
            "Requirement already satisfied: typing-extensions>=3.7.4.3 in /usr/local/lib/python3.11/dist-packages (from huggingface-hub<1.0,>=0.30.0->transformers) (4.13.2)\n",
            "Requirement already satisfied: networkx in /usr/local/lib/python3.11/dist-packages (from torch>=2.0.0->accelerate) (3.4.2)\n",
            "Requirement already satisfied: jinja2 in /usr/local/lib/python3.11/dist-packages (from torch>=2.0.0->accelerate) (3.1.6)\n",
            "Requirement already satisfied: nvidia-cuda-nvrtc-cu12==12.4.127 in /usr/local/lib/python3.11/dist-packages (from torch>=2.0.0->accelerate) (12.4.127)\n",
            "Requirement already satisfied: nvidia-cuda-runtime-cu12==12.4.127 in /usr/local/lib/python3.11/dist-packages (from torch>=2.0.0->accelerate) (12.4.127)\n",
            "Requirement already satisfied: nvidia-cuda-cupti-cu12==12.4.127 in /usr/local/lib/python3.11/dist-packages (from torch>=2.0.0->accelerate) (12.4.127)\n",
            "Requirement already satisfied: nvidia-cudnn-cu12==9.1.0.70 in /usr/local/lib/python3.11/dist-packages (from torch>=2.0.0->accelerate) (9.1.0.70)\n",
            "Requirement already satisfied: nvidia-cublas-cu12==12.4.5.8 in /usr/local/lib/python3.11/dist-packages (from torch>=2.0.0->accelerate) (12.4.5.8)\n",
            "Requirement already satisfied: nvidia-cufft-cu12==11.2.1.3 in /usr/local/lib/python3.11/dist-packages (from torch>=2.0.0->accelerate) (11.2.1.3)\n",
            "Requirement already satisfied: nvidia-curand-cu12==10.3.5.147 in /usr/local/lib/python3.11/dist-packages (from torch>=2.0.0->accelerate) (10.3.5.147)\n",
            "Requirement already satisfied: nvidia-cusolver-cu12==11.6.1.9 in /usr/local/lib/python3.11/dist-packages (from torch>=2.0.0->accelerate) (11.6.1.9)\n",
            "Requirement already satisfied: nvidia-cusparse-cu12==12.3.1.170 in /usr/local/lib/python3.11/dist-packages (from torch>=2.0.0->accelerate) (12.3.1.170)\n",
            "Requirement already satisfied: nvidia-cusparselt-cu12==0.6.2 in /usr/local/lib/python3.11/dist-packages (from torch>=2.0.0->accelerate) (0.6.2)\n",
            "Requirement already satisfied: nvidia-nccl-cu12==2.21.5 in /usr/local/lib/python3.11/dist-packages (from torch>=2.0.0->accelerate) (2.21.5)\n",
            "Requirement already satisfied: nvidia-nvtx-cu12==12.4.127 in /usr/local/lib/python3.11/dist-packages (from torch>=2.0.0->accelerate) (12.4.127)\n",
            "Requirement already satisfied: nvidia-nvjitlink-cu12==12.4.127 in /usr/local/lib/python3.11/dist-packages (from torch>=2.0.0->accelerate) (12.4.127)\n",
            "Requirement already satisfied: triton==3.2.0 in /usr/local/lib/python3.11/dist-packages (from torch>=2.0.0->accelerate) (3.2.0)\n",
            "Requirement already satisfied: sympy==1.13.1 in /usr/local/lib/python3.11/dist-packages (from torch>=2.0.0->accelerate) (1.13.1)\n",
            "Requirement already satisfied: mpmath<1.4,>=1.1.0 in /usr/local/lib/python3.11/dist-packages (from sympy==1.13.1->torch>=2.0.0->accelerate) (1.3.0)\n",
            "Requirement already satisfied: charset-normalizer<4,>=2 in /usr/local/lib/python3.11/dist-packages (from requests->transformers) (3.4.1)\n",
            "Requirement already satisfied: idna<4,>=2.5 in /usr/local/lib/python3.11/dist-packages (from requests->transformers) (3.10)\n",
            "Requirement already satisfied: urllib3<3,>=1.21.1 in /usr/local/lib/python3.11/dist-packages (from requests->transformers) (2.3.0)\n",
            "Requirement already satisfied: certifi>=2017.4.17 in /usr/local/lib/python3.11/dist-packages (from requests->transformers) (2025.1.31)\n",
            "Requirement already satisfied: MarkupSafe>=2.0 in /usr/local/lib/python3.11/dist-packages (from jinja2->torch>=2.0.0->accelerate) (3.0.2)\n"
          ]
        }
      ]
    },
    {
      "cell_type": "code",
      "source": [
        "# from transformers import AutoTokenizer, AutoModelForCausalLM, BitsAndBytesConfig\n",
        "# import torch\n",
        "\n",
        "# # model_name = \"mistralai/Mistral-7B-Instruct-v0.2\"\n",
        "# model_name = \"gpt2\"\n",
        "\n",
        "# # bnb_config = BitsAndBytesConfig(\n",
        "# #     load_in_4bit=True,\n",
        "# #     bnb_4bit_compute_dtype=torch.float16,\n",
        "# #     bnb_4bit_use_double_quant=True,\n",
        "# #     bnb_4bit_quant_type=\"nf4\"\n",
        "# # )\n",
        "\n",
        "# model = AutoModelForCausalLM.from_pretrained(\n",
        "#     model_name,\n",
        "#     # device_map=\"auto\",\n",
        "#     # quantization_config=bnb_config,\n",
        "#     # torch_dtype=torch.float16\n",
        "# )\n",
        "\n",
        "# tokenizer = AutoTokenizer.from_pretrained(model_name)\n",
        "# tokenizer.pad_token = tokenizer.eos_token\n",
        "\n",
        "# ### LoRA Config\n",
        "\n",
        "# from peft import LoraConfig, get_peft_model\n",
        "\n",
        "# peft_config = LoraConfig(\n",
        "#     r=8,  # Rank of the low-rank adaptation - attention heads\n",
        "#     lora_alpha=32, # alpha scaling\n",
        "#     lora_dropout=0.1,\n",
        "#     bias=\"none\",\n",
        "#     target_modules=[\"c_attn\", \"c_proj\"]  # GPT-2 specific layers\n",
        "# )\n",
        "\n",
        "\n",
        "# peft_model = get_peft_model(model, peft_config)\n",
        "# peft_model.print_trainable_parameters()\n"
      ],
      "metadata": {
        "id": "cTlHzKKgMjfl"
      },
      "execution_count": 5,
      "outputs": []
    },
    {
      "cell_type": "code",
      "source": [
        "from transformers import AutoModelForCausalLM, AutoTokenizer, BitsAndBytesConfig\n",
        "from peft import LoraConfig, get_peft_model, TaskType\n",
        "import torch\n",
        "\n",
        "model_name = \"gpt2\"\n",
        "\n",
        "# bnb_config = BitsAndBytesConfig(\n",
        "#     load_in_4bit=True,\n",
        "#     bnb_4bit_quant_type=\"nf4\",\n",
        "#     bnb_4bit_use_double_quant=True,\n",
        "#     bnb_4bit_compute_dtype=torch.float16\n",
        "# )\n",
        "\n",
        "model = AutoModelForCausalLM.from_pretrained(\n",
        "    model_name,\n",
        "    device_map=\"auto\",\n",
        "    # quantization_config=bnb_config,\n",
        "    torch_dtype=torch.float16\n",
        ")\n",
        "\n",
        "tokenizer = AutoTokenizer.from_pretrained(model_name)\n",
        "tokenizer.pad_token = tokenizer.eos_token\n",
        "\n",
        "lora_config = LoraConfig(\n",
        "    r=8,\n",
        "    lora_alpha=32,\n",
        "    lora_dropout=0.1,\n",
        "    bias=\"none\",\n",
        "    task_type=TaskType.CAUSAL_LM,\n",
        "    target_modules=[\"c_attn\", \"c_proj\"]\n",
        ")\n",
        "\n",
        "peft_model = get_peft_model(model, lora_config)\n",
        "peft_model.print_trainable_parameters()"
      ],
      "metadata": {
        "colab": {
          "base_uri": "https://localhost:8080/"
        },
        "id": "4LVKWTPpu4AV",
        "outputId": "f4cae172-1257-4e9a-f0e5-a6a681156bc3"
      },
      "execution_count": 6,
      "outputs": [
        {
          "output_type": "stream",
          "name": "stdout",
          "text": [
            "trainable params: 811,008 || all params: 125,250,816 || trainable%: 0.6475\n"
          ]
        },
        {
          "output_type": "stream",
          "name": "stderr",
          "text": [
            "/usr/local/lib/python3.11/dist-packages/peft/tuners/lora/layer.py:1264: UserWarning: fan_in_fan_out is set to False but the target module is `Conv1D`. Setting fan_in_fan_out to True.\n",
            "  warnings.warn(\n"
          ]
        }
      ]
    },
    {
      "cell_type": "code",
      "source": [
        "import numpy as np\n",
        "def format_prompt(example):\n",
        "    question = example['question']\n",
        "    choices = example['choices']['text']\n",
        "    labels = example['choices']['label']\n",
        "    answer_key = example['answerKey']\n",
        "\n",
        "    # Find the correct answer text\n",
        "    answer_index = labels.index(answer_key)\n",
        "    answer_text = choices[answer_index]\n",
        "\n",
        "    # Create the prompt\n",
        "    prompt = f\"Q: {question}\\nO: {' /// '.join(choices)}\\nA: \"\n",
        "    full_text = prompt + \" \" + answer_text\n",
        "\n",
        "    # Tokenize full input\n",
        "    tokenized = tokenizer(\n",
        "        full_text,\n",
        "        padding=\"max_length\",\n",
        "        truncation=True,\n",
        "        max_length=128,\n",
        "    )\n",
        "\n",
        "    # Calculate where the completion starts\n",
        "    prompt_ids = tokenizer(prompt,\n",
        "                           truncation=True,\n",
        "                           max_length=128)[\"input_ids\"]\n",
        "    completion_start = len(prompt_ids)\n",
        "\n",
        "    # Mask prompt tokens in the labels\n",
        "    labels = [-np.inf] * completion_start + tokenized[\"input_ids\"][completion_start:]\n",
        "    labels += [-np.inf] * (128 - len(labels))  # pad label to match input\n",
        "\n",
        "    tokenized[\"labels\"] = labels\n",
        "    return tokenized\n",
        "\n",
        "\n",
        "tokenized_train = train_data.map(format_prompt, batched=False, remove_columns=train_data.column_names)\n",
        "tokenized_eval = eval_data.map(format_prompt, batched=False, remove_columns=eval_data.column_names)\n",
        "\n",
        "tokenized_train.set_format(type=\"torch\", columns=[\"input_ids\", \"attention_mask\", \"labels\"])\n",
        "tokenized_eval.set_format(type=\"torch\", columns=[\"input_ids\", \"attention_mask\", \"labels\"])\n"
      ],
      "metadata": {
        "colab": {
          "base_uri": "https://localhost:8080/",
          "height": 49,
          "referenced_widgets": [
            "c7689868758c433d8ad7a18c1c726948",
            "c5219acf07cb4ace8d5c1248b8253535",
            "df22e21628c44830bea0e5334f2e161c",
            "70b82432131d4290b68723ca7f827b0f",
            "87ee92b2915e4be8b5db14f77cb604ce",
            "dd48959fb873467da496ad3a763ec1db",
            "bad355319c914ee2b2ae3cd8f8ac2561",
            "e325b667b76847ffaa118ea7cf83ac2e",
            "dbbbaf98afe34ddea8c531c51fb82fbd",
            "a38e7cf949a84aae8c4f8e637de07216",
            "a91ece55eb3c475587d941d887f9410c"
          ]
        },
        "id": "s-9fpvEfMmsg",
        "outputId": "29db5c88-8cf1-4c6f-efa8-9b310256ce11"
      },
      "execution_count": 7,
      "outputs": [
        {
          "output_type": "display_data",
          "data": {
            "text/plain": [
              "Map:   0%|          | 0/1221 [00:00<?, ? examples/s]"
            ],
            "application/vnd.jupyter.widget-view+json": {
              "version_major": 2,
              "version_minor": 0,
              "model_id": "c7689868758c433d8ad7a18c1c726948"
            }
          },
          "metadata": {}
        }
      ]
    },
    {
      "cell_type": "code",
      "source": [
        "tokenized_train.to_pandas().head()"
      ],
      "metadata": {
        "colab": {
          "base_uri": "https://localhost:8080/",
          "height": 206
        },
        "id": "YqxOtlUMNOTF",
        "outputId": "086bbba1-28be-461c-d7c9-6a30c771b8a8"
      },
      "execution_count": 8,
      "outputs": [
        {
          "output_type": "execute_result",
          "data": {
            "text/plain": [
              "                                           input_ids  \\\n",
              "0  [48, 25, 383, 9388, 1028, 262, 1524, 547, 257,...   \n",
              "1  [48, 25, 44067, 2227, 284, 467, 284, 810, 262,...   \n",
              "2  [48, 25, 1675, 17276, 257, 442, 11020, 407, 51...   \n",
              "3  [48, 25, 3012, 20347, 290, 584, 12763, 290, 46...   \n",
              "4  [48, 25, 383, 21831, 6807, 422, 262, 1748, 656...   \n",
              "\n",
              "                                      attention_mask  \\\n",
              "0  [1, 1, 1, 1, 1, 1, 1, 1, 1, 1, 1, 1, 1, 1, 1, ...   \n",
              "1  [1, 1, 1, 1, 1, 1, 1, 1, 1, 1, 1, 1, 1, 1, 1, ...   \n",
              "2  [1, 1, 1, 1, 1, 1, 1, 1, 1, 1, 1, 1, 1, 1, 1, ...   \n",
              "3  [1, 1, 1, 1, 1, 1, 1, 1, 1, 1, 1, 1, 1, 1, 1, ...   \n",
              "4  [1, 1, 1, 1, 1, 1, 1, 1, 1, 1, 1, 1, 1, 1, 1, ...   \n",
              "\n",
              "                                              labels  \n",
              "0  [-inf, -inf, -inf, -inf, -inf, -inf, -inf, -in...  \n",
              "1  [-inf, -inf, -inf, -inf, -inf, -inf, -inf, -in...  \n",
              "2  [-inf, -inf, -inf, -inf, -inf, -inf, -inf, -in...  \n",
              "3  [-inf, -inf, -inf, -inf, -inf, -inf, -inf, -in...  \n",
              "4  [-inf, -inf, -inf, -inf, -inf, -inf, -inf, -in...  "
            ],
            "text/html": [
              "\n",
              "  <div id=\"df-792c56e0-68ab-49b3-8dc6-47cb0b44e23a\" class=\"colab-df-container\">\n",
              "    <div>\n",
              "<style scoped>\n",
              "    .dataframe tbody tr th:only-of-type {\n",
              "        vertical-align: middle;\n",
              "    }\n",
              "\n",
              "    .dataframe tbody tr th {\n",
              "        vertical-align: top;\n",
              "    }\n",
              "\n",
              "    .dataframe thead th {\n",
              "        text-align: right;\n",
              "    }\n",
              "</style>\n",
              "<table border=\"1\" class=\"dataframe\">\n",
              "  <thead>\n",
              "    <tr style=\"text-align: right;\">\n",
              "      <th></th>\n",
              "      <th>input_ids</th>\n",
              "      <th>attention_mask</th>\n",
              "      <th>labels</th>\n",
              "    </tr>\n",
              "  </thead>\n",
              "  <tbody>\n",
              "    <tr>\n",
              "      <th>0</th>\n",
              "      <td>[48, 25, 383, 9388, 1028, 262, 1524, 547, 257,...</td>\n",
              "      <td>[1, 1, 1, 1, 1, 1, 1, 1, 1, 1, 1, 1, 1, 1, 1, ...</td>\n",
              "      <td>[-inf, -inf, -inf, -inf, -inf, -inf, -inf, -in...</td>\n",
              "    </tr>\n",
              "    <tr>\n",
              "      <th>1</th>\n",
              "      <td>[48, 25, 44067, 2227, 284, 467, 284, 810, 262,...</td>\n",
              "      <td>[1, 1, 1, 1, 1, 1, 1, 1, 1, 1, 1, 1, 1, 1, 1, ...</td>\n",
              "      <td>[-inf, -inf, -inf, -inf, -inf, -inf, -inf, -in...</td>\n",
              "    </tr>\n",
              "    <tr>\n",
              "      <th>2</th>\n",
              "      <td>[48, 25, 1675, 17276, 257, 442, 11020, 407, 51...</td>\n",
              "      <td>[1, 1, 1, 1, 1, 1, 1, 1, 1, 1, 1, 1, 1, 1, 1, ...</td>\n",
              "      <td>[-inf, -inf, -inf, -inf, -inf, -inf, -inf, -in...</td>\n",
              "    </tr>\n",
              "    <tr>\n",
              "      <th>3</th>\n",
              "      <td>[48, 25, 3012, 20347, 290, 584, 12763, 290, 46...</td>\n",
              "      <td>[1, 1, 1, 1, 1, 1, 1, 1, 1, 1, 1, 1, 1, 1, 1, ...</td>\n",
              "      <td>[-inf, -inf, -inf, -inf, -inf, -inf, -inf, -in...</td>\n",
              "    </tr>\n",
              "    <tr>\n",
              "      <th>4</th>\n",
              "      <td>[48, 25, 383, 21831, 6807, 422, 262, 1748, 656...</td>\n",
              "      <td>[1, 1, 1, 1, 1, 1, 1, 1, 1, 1, 1, 1, 1, 1, 1, ...</td>\n",
              "      <td>[-inf, -inf, -inf, -inf, -inf, -inf, -inf, -in...</td>\n",
              "    </tr>\n",
              "  </tbody>\n",
              "</table>\n",
              "</div>\n",
              "    <div class=\"colab-df-buttons\">\n",
              "\n",
              "  <div class=\"colab-df-container\">\n",
              "    <button class=\"colab-df-convert\" onclick=\"convertToInteractive('df-792c56e0-68ab-49b3-8dc6-47cb0b44e23a')\"\n",
              "            title=\"Convert this dataframe to an interactive table.\"\n",
              "            style=\"display:none;\">\n",
              "\n",
              "  <svg xmlns=\"http://www.w3.org/2000/svg\" height=\"24px\" viewBox=\"0 -960 960 960\">\n",
              "    <path d=\"M120-120v-720h720v720H120Zm60-500h600v-160H180v160Zm220 220h160v-160H400v160Zm0 220h160v-160H400v160ZM180-400h160v-160H180v160Zm440 0h160v-160H620v160ZM180-180h160v-160H180v160Zm440 0h160v-160H620v160Z\"/>\n",
              "  </svg>\n",
              "    </button>\n",
              "\n",
              "  <style>\n",
              "    .colab-df-container {\n",
              "      display:flex;\n",
              "      gap: 12px;\n",
              "    }\n",
              "\n",
              "    .colab-df-convert {\n",
              "      background-color: #E8F0FE;\n",
              "      border: none;\n",
              "      border-radius: 50%;\n",
              "      cursor: pointer;\n",
              "      display: none;\n",
              "      fill: #1967D2;\n",
              "      height: 32px;\n",
              "      padding: 0 0 0 0;\n",
              "      width: 32px;\n",
              "    }\n",
              "\n",
              "    .colab-df-convert:hover {\n",
              "      background-color: #E2EBFA;\n",
              "      box-shadow: 0px 1px 2px rgba(60, 64, 67, 0.3), 0px 1px 3px 1px rgba(60, 64, 67, 0.15);\n",
              "      fill: #174EA6;\n",
              "    }\n",
              "\n",
              "    .colab-df-buttons div {\n",
              "      margin-bottom: 4px;\n",
              "    }\n",
              "\n",
              "    [theme=dark] .colab-df-convert {\n",
              "      background-color: #3B4455;\n",
              "      fill: #D2E3FC;\n",
              "    }\n",
              "\n",
              "    [theme=dark] .colab-df-convert:hover {\n",
              "      background-color: #434B5C;\n",
              "      box-shadow: 0px 1px 3px 1px rgba(0, 0, 0, 0.15);\n",
              "      filter: drop-shadow(0px 1px 2px rgba(0, 0, 0, 0.3));\n",
              "      fill: #FFFFFF;\n",
              "    }\n",
              "  </style>\n",
              "\n",
              "    <script>\n",
              "      const buttonEl =\n",
              "        document.querySelector('#df-792c56e0-68ab-49b3-8dc6-47cb0b44e23a button.colab-df-convert');\n",
              "      buttonEl.style.display =\n",
              "        google.colab.kernel.accessAllowed ? 'block' : 'none';\n",
              "\n",
              "      async function convertToInteractive(key) {\n",
              "        const element = document.querySelector('#df-792c56e0-68ab-49b3-8dc6-47cb0b44e23a');\n",
              "        const dataTable =\n",
              "          await google.colab.kernel.invokeFunction('convertToInteractive',\n",
              "                                                    [key], {});\n",
              "        if (!dataTable) return;\n",
              "\n",
              "        const docLinkHtml = 'Like what you see? Visit the ' +\n",
              "          '<a target=\"_blank\" href=https://colab.research.google.com/notebooks/data_table.ipynb>data table notebook</a>'\n",
              "          + ' to learn more about interactive tables.';\n",
              "        element.innerHTML = '';\n",
              "        dataTable['output_type'] = 'display_data';\n",
              "        await google.colab.output.renderOutput(dataTable, element);\n",
              "        const docLink = document.createElement('div');\n",
              "        docLink.innerHTML = docLinkHtml;\n",
              "        element.appendChild(docLink);\n",
              "      }\n",
              "    </script>\n",
              "  </div>\n",
              "\n",
              "\n",
              "<div id=\"df-abb08c5f-03b0-4c64-a916-2e24397da1c2\">\n",
              "  <button class=\"colab-df-quickchart\" onclick=\"quickchart('df-abb08c5f-03b0-4c64-a916-2e24397da1c2')\"\n",
              "            title=\"Suggest charts\"\n",
              "            style=\"display:none;\">\n",
              "\n",
              "<svg xmlns=\"http://www.w3.org/2000/svg\" height=\"24px\"viewBox=\"0 0 24 24\"\n",
              "     width=\"24px\">\n",
              "    <g>\n",
              "        <path d=\"M19 3H5c-1.1 0-2 .9-2 2v14c0 1.1.9 2 2 2h14c1.1 0 2-.9 2-2V5c0-1.1-.9-2-2-2zM9 17H7v-7h2v7zm4 0h-2V7h2v10zm4 0h-2v-4h2v4z\"/>\n",
              "    </g>\n",
              "</svg>\n",
              "  </button>\n",
              "\n",
              "<style>\n",
              "  .colab-df-quickchart {\n",
              "      --bg-color: #E8F0FE;\n",
              "      --fill-color: #1967D2;\n",
              "      --hover-bg-color: #E2EBFA;\n",
              "      --hover-fill-color: #174EA6;\n",
              "      --disabled-fill-color: #AAA;\n",
              "      --disabled-bg-color: #DDD;\n",
              "  }\n",
              "\n",
              "  [theme=dark] .colab-df-quickchart {\n",
              "      --bg-color: #3B4455;\n",
              "      --fill-color: #D2E3FC;\n",
              "      --hover-bg-color: #434B5C;\n",
              "      --hover-fill-color: #FFFFFF;\n",
              "      --disabled-bg-color: #3B4455;\n",
              "      --disabled-fill-color: #666;\n",
              "  }\n",
              "\n",
              "  .colab-df-quickchart {\n",
              "    background-color: var(--bg-color);\n",
              "    border: none;\n",
              "    border-radius: 50%;\n",
              "    cursor: pointer;\n",
              "    display: none;\n",
              "    fill: var(--fill-color);\n",
              "    height: 32px;\n",
              "    padding: 0;\n",
              "    width: 32px;\n",
              "  }\n",
              "\n",
              "  .colab-df-quickchart:hover {\n",
              "    background-color: var(--hover-bg-color);\n",
              "    box-shadow: 0 1px 2px rgba(60, 64, 67, 0.3), 0 1px 3px 1px rgba(60, 64, 67, 0.15);\n",
              "    fill: var(--button-hover-fill-color);\n",
              "  }\n",
              "\n",
              "  .colab-df-quickchart-complete:disabled,\n",
              "  .colab-df-quickchart-complete:disabled:hover {\n",
              "    background-color: var(--disabled-bg-color);\n",
              "    fill: var(--disabled-fill-color);\n",
              "    box-shadow: none;\n",
              "  }\n",
              "\n",
              "  .colab-df-spinner {\n",
              "    border: 2px solid var(--fill-color);\n",
              "    border-color: transparent;\n",
              "    border-bottom-color: var(--fill-color);\n",
              "    animation:\n",
              "      spin 1s steps(1) infinite;\n",
              "  }\n",
              "\n",
              "  @keyframes spin {\n",
              "    0% {\n",
              "      border-color: transparent;\n",
              "      border-bottom-color: var(--fill-color);\n",
              "      border-left-color: var(--fill-color);\n",
              "    }\n",
              "    20% {\n",
              "      border-color: transparent;\n",
              "      border-left-color: var(--fill-color);\n",
              "      border-top-color: var(--fill-color);\n",
              "    }\n",
              "    30% {\n",
              "      border-color: transparent;\n",
              "      border-left-color: var(--fill-color);\n",
              "      border-top-color: var(--fill-color);\n",
              "      border-right-color: var(--fill-color);\n",
              "    }\n",
              "    40% {\n",
              "      border-color: transparent;\n",
              "      border-right-color: var(--fill-color);\n",
              "      border-top-color: var(--fill-color);\n",
              "    }\n",
              "    60% {\n",
              "      border-color: transparent;\n",
              "      border-right-color: var(--fill-color);\n",
              "    }\n",
              "    80% {\n",
              "      border-color: transparent;\n",
              "      border-right-color: var(--fill-color);\n",
              "      border-bottom-color: var(--fill-color);\n",
              "    }\n",
              "    90% {\n",
              "      border-color: transparent;\n",
              "      border-bottom-color: var(--fill-color);\n",
              "    }\n",
              "  }\n",
              "</style>\n",
              "\n",
              "  <script>\n",
              "    async function quickchart(key) {\n",
              "      const quickchartButtonEl =\n",
              "        document.querySelector('#' + key + ' button');\n",
              "      quickchartButtonEl.disabled = true;  // To prevent multiple clicks.\n",
              "      quickchartButtonEl.classList.add('colab-df-spinner');\n",
              "      try {\n",
              "        const charts = await google.colab.kernel.invokeFunction(\n",
              "            'suggestCharts', [key], {});\n",
              "      } catch (error) {\n",
              "        console.error('Error during call to suggestCharts:', error);\n",
              "      }\n",
              "      quickchartButtonEl.classList.remove('colab-df-spinner');\n",
              "      quickchartButtonEl.classList.add('colab-df-quickchart-complete');\n",
              "    }\n",
              "    (() => {\n",
              "      let quickchartButtonEl =\n",
              "        document.querySelector('#df-abb08c5f-03b0-4c64-a916-2e24397da1c2 button');\n",
              "      quickchartButtonEl.style.display =\n",
              "        google.colab.kernel.accessAllowed ? 'block' : 'none';\n",
              "    })();\n",
              "  </script>\n",
              "</div>\n",
              "\n",
              "    </div>\n",
              "  </div>\n"
            ],
            "application/vnd.google.colaboratory.intrinsic+json": {
              "type": "dataframe",
              "summary": "{\n  \"name\": \"tokenized_train\",\n  \"rows\": 5,\n  \"fields\": [\n    {\n      \"column\": \"input_ids\",\n      \"properties\": {\n        \"dtype\": \"object\",\n        \"semantic_type\": \"\",\n        \"description\": \"\"\n      }\n    },\n    {\n      \"column\": \"attention_mask\",\n      \"properties\": {\n        \"dtype\": \"object\",\n        \"semantic_type\": \"\",\n        \"description\": \"\"\n      }\n    },\n    {\n      \"column\": \"labels\",\n      \"properties\": {\n        \"dtype\": \"object\",\n        \"semantic_type\": \"\",\n        \"description\": \"\"\n      }\n    }\n  ]\n}"
            }
          },
          "metadata": {},
          "execution_count": 8
        }
      ]
    },
    {
      "cell_type": "code",
      "source": [
        "from transformers import Trainer, TrainingArguments, DataCollatorForLanguageModeling\n",
        "\n",
        "data_collator = DataCollatorForLanguageModeling(\n",
        "    tokenizer=tokenizer,\n",
        "    mlm=False\n",
        ")\n",
        "\n",
        "\n",
        "training_args = TrainingArguments(\n",
        "    output_dir=f\"./IA3_{model_name}\",\n",
        "    per_device_train_batch_size=8,\n",
        "    per_device_eval_batch_size=8,\n",
        "    num_train_epochs=3,\n",
        "    eval_strategy=\"steps\",\n",
        "    eval_steps=100,\n",
        "    save_steps=1000,\n",
        "    logging_dir=\"./logs\",\n",
        "    logging_steps=100,\n",
        "    report_to=\"none\",\n",
        "\n",
        "    learning_rate=5e-3,\n",
        "\n",
        ")\n",
        "\n",
        "trainer = Trainer(\n",
        "    model=peft_model,\n",
        "    args=training_args,\n",
        "    train_dataset=tokenized_train,\n",
        "    eval_dataset=tokenized_eval,\n",
        "    data_collator=data_collator,\n",
        ")\n",
        "\n",
        "\n",
        "trainer.train()\n"
      ],
      "metadata": {
        "colab": {
          "base_uri": "https://localhost:8080/",
          "height": 1000
        },
        "id": "kJt3imCsNQEd",
        "outputId": "b05c92c8-8730-4242-bee1-13784a6c25ea"
      },
      "execution_count": 9,
      "outputs": [
        {
          "output_type": "stream",
          "name": "stderr",
          "text": [
            "No label_names provided for model class `PeftModelForCausalLM`. Since `PeftModel` hides base models input arguments, if label_names is not given, label_names can't be set automatically within `Trainer`. Note that empty label_names list will be used instead.\n",
            "`loss_type=None` was set in the config but it is unrecognised.Using the default loss: `ForCausalLMLoss`.\n"
          ]
        },
        {
          "output_type": "display_data",
          "data": {
            "text/plain": [
              "<IPython.core.display.HTML object>"
            ],
            "text/html": [
              "\n",
              "    <div>\n",
              "      \n",
              "      <progress value='3654' max='3654' style='width:300px; height:20px; vertical-align: middle;'></progress>\n",
              "      [3654/3654 05:31, Epoch 3/3]\n",
              "    </div>\n",
              "    <table border=\"1\" class=\"dataframe\">\n",
              "  <thead>\n",
              " <tr style=\"text-align: left;\">\n",
              "      <th>Step</th>\n",
              "      <th>Training Loss</th>\n",
              "      <th>Validation Loss</th>\n",
              "    </tr>\n",
              "  </thead>\n",
              "  <tbody>\n",
              "    <tr>\n",
              "      <td>100</td>\n",
              "      <td>3.764100</td>\n",
              "      <td>3.234744</td>\n",
              "    </tr>\n",
              "    <tr>\n",
              "      <td>200</td>\n",
              "      <td>3.339800</td>\n",
              "      <td>3.174899</td>\n",
              "    </tr>\n",
              "    <tr>\n",
              "      <td>300</td>\n",
              "      <td>3.305300</td>\n",
              "      <td>3.183425</td>\n",
              "    </tr>\n",
              "    <tr>\n",
              "      <td>400</td>\n",
              "      <td>3.326500</td>\n",
              "      <td>3.160097</td>\n",
              "    </tr>\n",
              "    <tr>\n",
              "      <td>500</td>\n",
              "      <td>3.277100</td>\n",
              "      <td>3.173862</td>\n",
              "    </tr>\n",
              "    <tr>\n",
              "      <td>600</td>\n",
              "      <td>3.274800</td>\n",
              "      <td>3.134918</td>\n",
              "    </tr>\n",
              "    <tr>\n",
              "      <td>700</td>\n",
              "      <td>3.284600</td>\n",
              "      <td>3.125344</td>\n",
              "    </tr>\n",
              "    <tr>\n",
              "      <td>800</td>\n",
              "      <td>3.249200</td>\n",
              "      <td>3.102061</td>\n",
              "    </tr>\n",
              "    <tr>\n",
              "      <td>900</td>\n",
              "      <td>3.212500</td>\n",
              "      <td>3.074513</td>\n",
              "    </tr>\n",
              "    <tr>\n",
              "      <td>1000</td>\n",
              "      <td>3.223500</td>\n",
              "      <td>3.071784</td>\n",
              "    </tr>\n",
              "    <tr>\n",
              "      <td>1100</td>\n",
              "      <td>3.200400</td>\n",
              "      <td>3.043976</td>\n",
              "    </tr>\n",
              "    <tr>\n",
              "      <td>1200</td>\n",
              "      <td>3.162900</td>\n",
              "      <td>3.024777</td>\n",
              "    </tr>\n",
              "    <tr>\n",
              "      <td>1300</td>\n",
              "      <td>3.065500</td>\n",
              "      <td>3.022087</td>\n",
              "    </tr>\n",
              "    <tr>\n",
              "      <td>1400</td>\n",
              "      <td>3.078200</td>\n",
              "      <td>2.996724</td>\n",
              "    </tr>\n",
              "    <tr>\n",
              "      <td>1500</td>\n",
              "      <td>3.081600</td>\n",
              "      <td>3.030065</td>\n",
              "    </tr>\n",
              "    <tr>\n",
              "      <td>1600</td>\n",
              "      <td>3.039000</td>\n",
              "      <td>2.973486</td>\n",
              "    </tr>\n",
              "    <tr>\n",
              "      <td>1700</td>\n",
              "      <td>3.046500</td>\n",
              "      <td>2.968946</td>\n",
              "    </tr>\n",
              "    <tr>\n",
              "      <td>1800</td>\n",
              "      <td>2.997300</td>\n",
              "      <td>2.933104</td>\n",
              "    </tr>\n",
              "    <tr>\n",
              "      <td>1900</td>\n",
              "      <td>2.978200</td>\n",
              "      <td>2.907603</td>\n",
              "    </tr>\n",
              "    <tr>\n",
              "      <td>2000</td>\n",
              "      <td>3.009200</td>\n",
              "      <td>2.883589</td>\n",
              "    </tr>\n",
              "    <tr>\n",
              "      <td>2100</td>\n",
              "      <td>2.978700</td>\n",
              "      <td>2.866304</td>\n",
              "    </tr>\n",
              "    <tr>\n",
              "      <td>2200</td>\n",
              "      <td>2.947200</td>\n",
              "      <td>2.867682</td>\n",
              "    </tr>\n",
              "    <tr>\n",
              "      <td>2300</td>\n",
              "      <td>2.933900</td>\n",
              "      <td>2.859334</td>\n",
              "    </tr>\n",
              "    <tr>\n",
              "      <td>2400</td>\n",
              "      <td>2.890900</td>\n",
              "      <td>2.813145</td>\n",
              "    </tr>\n",
              "    <tr>\n",
              "      <td>2500</td>\n",
              "      <td>2.879000</td>\n",
              "      <td>2.809455</td>\n",
              "    </tr>\n",
              "    <tr>\n",
              "      <td>2600</td>\n",
              "      <td>2.785600</td>\n",
              "      <td>2.779514</td>\n",
              "    </tr>\n",
              "    <tr>\n",
              "      <td>2700</td>\n",
              "      <td>2.794200</td>\n",
              "      <td>2.778959</td>\n",
              "    </tr>\n",
              "    <tr>\n",
              "      <td>2800</td>\n",
              "      <td>2.725400</td>\n",
              "      <td>2.756279</td>\n",
              "    </tr>\n",
              "    <tr>\n",
              "      <td>2900</td>\n",
              "      <td>2.757000</td>\n",
              "      <td>2.729698</td>\n",
              "    </tr>\n",
              "    <tr>\n",
              "      <td>3000</td>\n",
              "      <td>2.731600</td>\n",
              "      <td>2.728061</td>\n",
              "    </tr>\n",
              "    <tr>\n",
              "      <td>3100</td>\n",
              "      <td>2.688500</td>\n",
              "      <td>2.716497</td>\n",
              "    </tr>\n",
              "    <tr>\n",
              "      <td>3200</td>\n",
              "      <td>2.687900</td>\n",
              "      <td>2.696513</td>\n",
              "    </tr>\n",
              "    <tr>\n",
              "      <td>3300</td>\n",
              "      <td>2.703700</td>\n",
              "      <td>2.687595</td>\n",
              "    </tr>\n",
              "    <tr>\n",
              "      <td>3400</td>\n",
              "      <td>2.662600</td>\n",
              "      <td>2.678097</td>\n",
              "    </tr>\n",
              "    <tr>\n",
              "      <td>3500</td>\n",
              "      <td>2.672700</td>\n",
              "      <td>2.666017</td>\n",
              "    </tr>\n",
              "    <tr>\n",
              "      <td>3600</td>\n",
              "      <td>2.663600</td>\n",
              "      <td>2.662417</td>\n",
              "    </tr>\n",
              "  </tbody>\n",
              "</table><p>"
            ]
          },
          "metadata": {}
        },
        {
          "output_type": "execute_result",
          "data": {
            "text/plain": [
              "TrainOutput(global_step=3654, training_loss=3.0068998039258132, metrics={'train_runtime': 331.9194, 'train_samples_per_second': 88.042, 'train_steps_per_second': 11.009, 'total_flos': 1927135929434112.0, 'train_loss': 3.0068998039258132, 'epoch': 3.0})"
            ]
          },
          "metadata": {},
          "execution_count": 9
        }
      ]
    },
    {
      "cell_type": "code",
      "source": [],
      "metadata": {
        "id": "EJH325xvu2Ey"
      },
      "execution_count": null,
      "outputs": []
    },
    {
      "cell_type": "code",
      "source": [
        "peft_model.save_pretrained(f\"./LoRA_{model_name}_final\")\n",
        "tokenizer.save_pretrained(f\"./LoRA_{model_name}_final\")"
      ],
      "metadata": {
        "colab": {
          "base_uri": "https://localhost:8080/"
        },
        "id": "p70AooaCNu4E",
        "outputId": "a06f98f4-68a0-4d0c-e31a-51d069ed72f8"
      },
      "execution_count": 10,
      "outputs": [
        {
          "output_type": "execute_result",
          "data": {
            "text/plain": [
              "('./LoRA_gpt2_final/tokenizer_config.json',\n",
              " './LoRA_gpt2_final/special_tokens_map.json',\n",
              " './LoRA_gpt2_final/vocab.json',\n",
              " './LoRA_gpt2_final/merges.txt',\n",
              " './LoRA_gpt2_final/added_tokens.json',\n",
              " './LoRA_gpt2_final/tokenizer.json')"
            ]
          },
          "metadata": {},
          "execution_count": 10
        }
      ]
    },
    {
      "cell_type": "code",
      "source": [
        "from peft import PeftModel, PeftConfig\n",
        "peft_config = PeftConfig.from_pretrained(f\"./LoRA_{model_name}_final\")\n",
        "\n",
        "base_model = AutoModelForCausalLM.from_pretrained(peft_config.base_model_name_or_path)\n",
        "model = PeftModel.from_pretrained(base_model, f\"./LoRA_{model_name}_final\")\n",
        "\n",
        "tokenizer = AutoTokenizer.from_pretrained(f\"./LoRA_{model_name}_final\")"
      ],
      "metadata": {
        "id": "d8wgbLB2Omil"
      },
      "execution_count": 11,
      "outputs": []
    },
    {
      "cell_type": "code",
      "source": [
        "from transformers import pipeline\n",
        "import torch\n",
        "from tqdm import tqdm\n",
        "\n",
        "# Use the PEFT model (already trained) and tokenizer\n",
        "peft_model.eval()\n",
        "pipe = pipeline(\"text-generation\", model=peft_model, tokenizer=tokenizer)\n",
        "\n",
        "def format_prompt(example):\n",
        "    question = example[\"question\"]\n",
        "    choices = example[\"choices\"][\"text\"]\n",
        "    prompt = f\"Q: {question}\\nO: {' /// '.join(choices)}\\nA: \"\n",
        "    return prompt, choices\n",
        "\n",
        "correct = 0\n",
        "total = 0\n",
        "\n",
        "for example in tqdm(eval_data, total=len(eval_data)):\n",
        "    prompt, choices = format_prompt(example)\n",
        "\n",
        "    # Generate prediction\n",
        "    output = pipe(prompt, max_new_tokens=10, do_sample=False, eos_token_id=tokenizer.eos_token_id)[0][\"generated_text\"]\n",
        "\n",
        "    # Extract generated answer (after \"Answer:\")\n",
        "    generated = output.split(\"\\n\")[2].split(\"A:\")[-1].strip().split(\" /// \")[0].strip()\n",
        "\n",
        "\n",
        "    # Get ground truth\n",
        "    answer_key = example[\"answerKey\"]\n",
        "    labels = example[\"choices\"][\"label\"]\n",
        "    true_answer = example[\"choices\"][\"text\"][labels.index(answer_key)].strip()\n",
        "\n",
        "    print(\"\\n\".join(output.split(\"\\n\")[:3]))\n",
        "    print(f\"\\n\\nModel: {generated} and Actual Answer: {true_answer}\")\n",
        "\n",
        "    if generated == true_answer:\n",
        "        correct += 1\n",
        "    total += 1\n",
        "\n",
        "accuracy = correct / total\n",
        "print(f\"Accuracy: {accuracy:.2%}\")\n"
      ],
      "metadata": {
        "colab": {
          "base_uri": "https://localhost:8080/"
        },
        "id": "9YyJpG3fOxXj",
        "outputId": "6c884964-921a-426e-f7c8-6eb23bc964b5"
      },
      "execution_count": 13,
      "outputs": [
        {
          "output_type": "stream",
          "name": "stderr",
          "text": [
            "Device set to use cuda:0\n",
            "The model 'PeftModelForCausalLM' is not supported for text-generation. Supported models are ['AriaTextForCausalLM', 'BambaForCausalLM', 'BartForCausalLM', 'BertLMHeadModel', 'BertGenerationDecoder', 'BigBirdForCausalLM', 'BigBirdPegasusForCausalLM', 'BioGptForCausalLM', 'BlenderbotForCausalLM', 'BlenderbotSmallForCausalLM', 'BloomForCausalLM', 'CamembertForCausalLM', 'LlamaForCausalLM', 'CodeGenForCausalLM', 'CohereForCausalLM', 'Cohere2ForCausalLM', 'CpmAntForCausalLM', 'CTRLLMHeadModel', 'Data2VecTextForCausalLM', 'DbrxForCausalLM', 'DeepseekV3ForCausalLM', 'DiffLlamaForCausalLM', 'ElectraForCausalLM', 'Emu3ForCausalLM', 'ErnieForCausalLM', 'FalconForCausalLM', 'FalconMambaForCausalLM', 'FuyuForCausalLM', 'GemmaForCausalLM', 'Gemma2ForCausalLM', 'Gemma3ForConditionalGeneration', 'Gemma3ForCausalLM', 'GitForCausalLM', 'GlmForCausalLM', 'Glm4ForCausalLM', 'GotOcr2ForConditionalGeneration', 'GPT2LMHeadModel', 'GPT2LMHeadModel', 'GPTBigCodeForCausalLM', 'GPTNeoForCausalLM', 'GPTNeoXForCausalLM', 'GPTNeoXJapaneseForCausalLM', 'GPTJForCausalLM', 'GraniteForCausalLM', 'GraniteMoeForCausalLM', 'GraniteMoeSharedForCausalLM', 'HeliumForCausalLM', 'JambaForCausalLM', 'JetMoeForCausalLM', 'LlamaForCausalLM', 'Llama4ForCausalLM', 'Llama4ForCausalLM', 'MambaForCausalLM', 'Mamba2ForCausalLM', 'MarianForCausalLM', 'MBartForCausalLM', 'MegaForCausalLM', 'MegatronBertForCausalLM', 'MistralForCausalLM', 'MixtralForCausalLM', 'MllamaForCausalLM', 'MoshiForCausalLM', 'MptForCausalLM', 'MusicgenForCausalLM', 'MusicgenMelodyForCausalLM', 'MvpForCausalLM', 'NemotronForCausalLM', 'OlmoForCausalLM', 'Olmo2ForCausalLM', 'OlmoeForCausalLM', 'OpenLlamaForCausalLM', 'OpenAIGPTLMHeadModel', 'OPTForCausalLM', 'PegasusForCausalLM', 'PersimmonForCausalLM', 'PhiForCausalLM', 'Phi3ForCausalLM', 'Phi4MultimodalForCausalLM', 'PhimoeForCausalLM', 'PLBartForCausalLM', 'ProphetNetForCausalLM', 'QDQBertLMHeadModel', 'Qwen2ForCausalLM', 'Qwen2MoeForCausalLM', 'Qwen3ForCausalLM', 'Qwen3MoeForCausalLM', 'RecurrentGemmaForCausalLM', 'ReformerModelWithLMHead', 'RemBertForCausalLM', 'RobertaForCausalLM', 'RobertaPreLayerNormForCausalLM', 'RoCBertForCausalLM', 'RoFormerForCausalLM', 'RwkvForCausalLM', 'Speech2Text2ForCausalLM', 'StableLmForCausalLM', 'Starcoder2ForCausalLM', 'TransfoXLLMHeadModel', 'TrOCRForCausalLM', 'WhisperForCausalLM', 'XGLMForCausalLM', 'XLMWithLMHeadModel', 'XLMProphetNetForCausalLM', 'XLMRobertaForCausalLM', 'XLMRobertaXLForCausalLM', 'XLNetLMHeadModel', 'XmodForCausalLM', 'ZambaForCausalLM', 'Zamba2ForCausalLM'].\n",
            "  0%|          | 2/1221 [00:00<05:17,  3.84it/s]"
          ]
        },
        {
          "output_type": "stream",
          "name": "stdout",
          "text": [
            "Q: A revolving door is convenient for two direction travel, but it also serves as a security measure at a what?\n",
            "O: bank /// library /// department store /// mall /// new york\n",
            "A:  mall store store store store store store store store store\n",
            "\n",
            "\n",
            "Model: mall store store store store store store store store store and Actual Answer: bank\n",
            "Q: What do people aim to do at work?\n",
            "O: complete job /// learn from each other /// kill animals /// wear hats /// talk to each other\n",
            "A:  learn from each other's own source of information from\n",
            "\n",
            "\n",
            "Model: learn from each other's own source of information from and Actual Answer: complete job\n"
          ]
        },
        {
          "output_type": "stream",
          "name": "stderr",
          "text": [
            "  0%|          | 4/1221 [00:00<04:28,  4.54it/s]"
          ]
        },
        {
          "output_type": "stream",
          "name": "stdout",
          "text": [
            "Q: Where would you find magazines along side many other printed works?\n",
            "O: doctor /// bookstore /// market /// train station /// mortuary\n",
            "A:  library station station station station station station station station station\n",
            "\n",
            "\n",
            "Model: library station station station station station station station station station and Actual Answer: bookstore\n",
            "Q: Where are  you likely to find a hamburger?\n",
            "O: fast food restaurant /// pizza /// ground up dead cows /// mouth /// cow carcus\n",
            "A:  pizza restaurant carcuscuscus carcus carcus\n",
            "\n",
            "\n",
            "Model: pizza restaurant carcuscuscus carcus carcus and Actual Answer: fast food restaurant\n"
          ]
        },
        {
          "output_type": "stream",
          "name": "stderr",
          "text": [
            "  0%|          | 6/1221 [00:01<04:11,  4.83it/s]"
          ]
        },
        {
          "output_type": "stream",
          "name": "stdout",
          "text": [
            "Q: James was looking for a good place to buy farmland.  Where might he look?\n",
            "O: midwest /// countryside /// estate /// farming areas /// illinois\n",
            "A:  countryside area of countryside of countryside of countryside of countryside\n",
            "\n",
            "\n",
            "Model: countryside area of countryside of countryside of countryside of countryside and Actual Answer: midwest\n",
            "Q: What island country is ferret popular?\n",
            "O: own home /// north carolina /// great britain /// hutch /// outdoors\n",
            "A:  hutchainville hutchville hutchville\n",
            "\n",
            "\n",
            "Model: hutchainville hutchville hutchville and Actual Answer: great britain\n"
          ]
        },
        {
          "output_type": "stream",
          "name": "stderr",
          "text": [
            "  1%|          | 8/1221 [00:01<04:02,  4.99it/s]"
          ]
        },
        {
          "output_type": "stream",
          "name": "stdout",
          "text": [
            "Q: In what Spanish speaking North American country can you get a great cup of coffee?\n",
            "O: mildred's coffee shop /// mexico /// diner /// kitchen /// canteen\n",
            "A:  canteen cafe cafe cafe cafe cafe cafe cafe cafe\n",
            "\n",
            "\n",
            "Model: canteen cafe cafe cafe cafe cafe cafe cafe cafe and Actual Answer: mexico\n",
            "Q: What do animals do when an enemy is approaching?\n",
            "O: feel pleasure /// procreate /// pass water /// listen to each other /// sing\n",
            "A:  listen to each other's own music to each other\n",
            "\n",
            "\n",
            "Model: listen to each other's own music to each other and Actual Answer: listen to each other\n"
          ]
        },
        {
          "output_type": "stream",
          "name": "stderr",
          "text": [
            "\r  1%|          | 9/1221 [00:01<04:01,  5.01it/s]"
          ]
        },
        {
          "output_type": "stream",
          "name": "stdout",
          "text": [
            "Q: Reading newspaper one of many ways to practice your what?\n",
            "O: literacy /// knowing how to read /// money /// buying /// money bank\n",
            "A:  knowledge of how to read newspaper one of many ways\n",
            "\n",
            "\n",
            "Model: knowledge of how to read newspaper one of many ways and Actual Answer: literacy\n"
          ]
        },
        {
          "output_type": "stream",
          "name": "stderr",
          "text": [
            "  1%|          | 10/1221 [00:02<04:04,  4.95it/s]You seem to be using the pipelines sequentially on GPU. In order to maximize efficiency please use a dataset\n",
            "  1%|          | 11/1221 [00:02<04:03,  4.97it/s]"
          ]
        },
        {
          "output_type": "stream",
          "name": "stdout",
          "text": [
            "Q: What do people typically do while playing guitar?\n",
            "O: cry /// hear sounds /// singing /// arthritis /// making music\n",
            "A:  make music /// make music /// make music\n",
            "\n",
            "\n",
            "Model: make music and Actual Answer: singing\n",
            "Q: What would vinyl be an odd thing to replace?\n",
            "O: pants /// record albums /// record store /// cheese /// wallpaper\n",
            "A:  record albums /// record albums /// record albums\n",
            "\n",
            "\n",
            "Model: record albums and Actual Answer: wallpaper\n"
          ]
        },
        {
          "output_type": "stream",
          "name": "stderr",
          "text": [
            "  1%|          | 13/1221 [00:02<03:59,  5.05it/s]"
          ]
        },
        {
          "output_type": "stream",
          "name": "stdout",
          "text": [
            "Q: If you want harmony, what is something you should try to do with the world?\n",
            "O: take time /// make noise /// make war /// make peace /// make haste\n",
            "A:  make peace with world /// make peace with world\n",
            "\n",
            "\n",
            "Model: make peace with world and Actual Answer: make peace\n",
            "Q: Where does a heifer's master live?\n",
            "O: farm house /// barnyard /// stockyard /// slaughter house /// eat cake\n",
            "A:  stockyard house house house house house house house house\n",
            "\n",
            "\n",
            "Model: stockyard house house house house house house house house and Actual Answer: farm house\n"
          ]
        },
        {
          "output_type": "stream",
          "name": "stderr",
          "text": [
            "  1%|          | 15/1221 [00:03<03:56,  5.11it/s]"
          ]
        },
        {
          "output_type": "stream",
          "name": "stdout",
          "text": [
            "Q: Aside from water and nourishment what does your dog need?\n",
            "O: bone /// charm /// petted /// lots of attention /// walked\n",
            "A:  petted attention to petted attention to petted\n",
            "\n",
            "\n",
            "Model: petted attention to petted attention to petted and Actual Answer: lots of attention\n",
            "Q: Janet was watching the film because she liked what?\n",
            "O: erection /// laughter /// being entertained /// fear /// bordem\n",
            "A:  being entertained /// being entertained /// being entertained\n",
            "\n",
            "\n",
            "Model: being entertained and Actual Answer: being entertained\n"
          ]
        },
        {
          "output_type": "stream",
          "name": "stderr",
          "text": [
            "  1%|▏         | 17/1221 [00:03<03:56,  5.08it/s]"
          ]
        },
        {
          "output_type": "stream",
          "name": "stdout",
          "text": [
            "Q: What are you waiting alongside with when you're in a reception area?\n",
            "O: motel /// chair /// hospital /// people /// hotels\n",
            "A:  hotel room room room room room room room room room\n",
            "\n",
            "\n",
            "Model: hotel room room room room room room room room room and Actual Answer: people\n",
            "Q: When drinking booze what can you do to stay busy?\n",
            "O: reach tentative agreement /// stay in bed /// stop bicycle /// examine thing /// suicide\n",
            "A:  stay in bed in bed in bed in bed in\n",
            "\n",
            "\n",
            "Model: stay in bed in bed in bed in bed in and Actual Answer: examine thing\n"
          ]
        },
        {
          "output_type": "stream",
          "name": "stderr",
          "text": [
            "  2%|▏         | 19/1221 [00:03<03:53,  5.15it/s]"
          ]
        },
        {
          "output_type": "stream",
          "name": "stdout",
          "text": [
            "Q: A fencing thrust with a sharp sword towards a person would result in what?\n",
            "O: injury /// small cuts /// fever /// competition /// puncture wound\n",
            "A:  injury wound wound wound wound wound wound wound wound wound\n",
            "\n",
            "\n",
            "Model: injury wound wound wound wound wound wound wound wound wound and Actual Answer: puncture wound\n",
            "Q: Unlike a spider and his many sight seers, people only have what?\n",
            "O: tongues /// names /// brains /// feelings /// two eyes\n",
            "A:  brains /// brains /// brains\n",
            "\n",
            "\n",
            "Model: brains and Actual Answer: two eyes\n"
          ]
        },
        {
          "output_type": "stream",
          "name": "stderr",
          "text": [
            "  2%|▏         | 21/1221 [00:04<03:51,  5.17it/s]"
          ]
        },
        {
          "output_type": "stream",
          "name": "stdout",
          "text": [
            "Q: Where do adults use glue sticks?\n",
            "O: classroom /// desk drawer /// at school /// office /// kitchen drawer\n",
            "A:  desk drawer drawer drawer drawer drawer drawer drawer drawer drawer\n",
            "\n",
            "\n",
            "Model: desk drawer drawer drawer drawer drawer drawer drawer drawer drawer and Actual Answer: office\n",
            "Q: What could go on top of wood?\n",
            "O: lumberyard /// synagogue /// floor /// carpet /// hardware store\n",
            "A:  carpet store /// carpet store\n",
            "\n",
            "\n",
            "Model: carpet store and Actual Answer: carpet\n"
          ]
        },
        {
          "output_type": "stream",
          "name": "stderr",
          "text": [
            "  2%|▏         | 23/1221 [00:04<03:50,  5.20it/s]"
          ]
        },
        {
          "output_type": "stream",
          "name": "stdout",
          "text": [
            "Q: The artist was sitting quietly pondering, then suddenly he began to paint when what struck him?\n",
            "O: sadness /// anxiety /// inspiration /// discomfort /// insights\n",
            "A:  inspiration inspiration inspiration inspiration inspiration inspiration inspiration inspiration inspiration inspiration\n",
            "\n",
            "\n",
            "Model: inspiration inspiration inspiration inspiration inspiration inspiration inspiration inspiration inspiration inspiration and Actual Answer: inspiration\n",
            "Q: Though the thin film seemed fragile, for it's intended purpose it was actually nearly what?\n",
            "O: indestructible /// durable /// undestroyable /// indestructible /// unbreakable\n",
            "A:  durable\n",
            "\n",
            "\n",
            "Model: durable and Actual Answer: indestructible\n"
          ]
        },
        {
          "output_type": "stream",
          "name": "stderr",
          "text": [
            "  2%|▏         | 25/1221 [00:05<03:49,  5.20it/s]"
          ]
        },
        {
          "output_type": "stream",
          "name": "stdout",
          "text": [
            "Q: Where could you find a toilet that only friends can use?\n",
            "O: rest area /// school /// stadium /// apartment /// hospital\n",
            "A:  school building /// school building\n",
            "\n",
            "\n",
            "Model: school building and Actual Answer: apartment\n",
            "Q: What is someone who isn't clever, bright, or competent called?\n",
            "O: clumsy /// ineffectual /// dull /// clumsy /// stupid\n",
            "A:  stupidensicalensicalensicalensicalensicalensicalensicalensicalensical\n",
            "\n",
            "\n",
            "Model: stupidensicalensicalensicalensicalensicalensicalensicalensicalensical and Actual Answer: stupid\n"
          ]
        },
        {
          "output_type": "stream",
          "name": "stderr",
          "text": [
            "  2%|▏         | 27/1221 [00:05<03:47,  5.26it/s]"
          ]
        },
        {
          "output_type": "stream",
          "name": "stdout",
          "text": [
            "Q: When wildlife reproduce we often refer to what comes out as what?\n",
            "O: raise children /// have children /// photo copy /// offspring /// accidently got pregnant somehow\n",
            "A:  offspring born child born child born child born child born\n",
            "\n",
            "\n",
            "Model: offspring born child born child born child born child born and Actual Answer: offspring\n",
            "Q: The weasel was becoming a problem, it kept getting into the chicken eggs kept in the what?\n",
            "O: forrest /// barn /// public office /// out of doors /// freezer\n",
            "A:  barnyard /// barnyard /// barnyard\n",
            "\n",
            "\n",
            "Model: barnyard and Actual Answer: barn\n"
          ]
        },
        {
          "output_type": "stream",
          "name": "stderr",
          "text": [
            "  2%|▏         | 29/1221 [00:05<03:45,  5.28it/s]"
          ]
        },
        {
          "output_type": "stream",
          "name": "stdout",
          "text": [
            "Q: Blue read material outside of his comfort zone because he wanted to gain what?\n",
            "O: new perspective /// entertained /// understanding /// hunger /// tired eyes\n",
            "A:  new perspective perspective perspective perspective perspective perspective perspective perspective perspective\n",
            "\n",
            "\n",
            "Model: new perspective perspective perspective perspective perspective perspective perspective perspective perspective and Actual Answer: new perspective\n",
            "Q: After he got hired he hoped for success at his what?\n",
            "O: vocation /// new job /// michigan /// working hard /// manual\n",
            "A:  new job job job job job job job job job\n",
            "\n",
            "\n",
            "Model: new job job job job job job job job job and Actual Answer: new job\n"
          ]
        },
        {
          "output_type": "stream",
          "name": "stderr",
          "text": [
            "  3%|▎         | 31/1221 [00:06<03:45,  5.29it/s]"
          ]
        },
        {
          "output_type": "stream",
          "name": "stdout",
          "text": [
            "Q: Committing perjury is a serious what?\n",
            "O: indictment /// crime /// violence /// lie /// go to jail\n",
            "A:  crime\n",
            "\n",
            "\n",
            "Model: crime and Actual Answer: crime\n",
            "Q: If you are prone to postpone work what will you have to do in order to finish on time?\n",
            "O: eat /// hasten /// antedate /// bring forward /// advance\n",
            "A:  advance forward forward forward forward forward forward forward forward forward\n",
            "\n",
            "\n",
            "Model: advance forward forward forward forward forward forward forward forward forward and Actual Answer: hasten\n"
          ]
        },
        {
          "output_type": "stream",
          "name": "stderr",
          "text": [
            "  3%|▎         | 33/1221 [00:06<03:44,  5.29it/s]"
          ]
        },
        {
          "output_type": "stream",
          "name": "stdout",
          "text": [
            "Q: James wanted to find an old underground map from the 50s.  Where might he look for one?\n",
            "O: library /// subway station /// county engineer's office /// super market /// home\n",
            "A:  neighborhood engineer's office building /// neighborhood engineer's office\n",
            "\n",
            "\n",
            "Model: neighborhood engineer's office building and Actual Answer: library\n",
            "Q: Sean was in a rush to get home, but the light turned yellow and he was forced to do what?\n",
            "O: take time /// dawdle /// go slowly /// ocean /// slow down\n",
            "A:  slow down down down down down down down down down\n",
            "\n",
            "\n",
            "Model: slow down down down down down down down down down and Actual Answer: slow down\n"
          ]
        },
        {
          "output_type": "stream",
          "name": "stderr",
          "text": [
            "  3%|▎         | 35/1221 [00:06<03:44,  5.28it/s]"
          ]
        },
        {
          "output_type": "stream",
          "name": "stdout",
          "text": [
            "Q: Where would a person be doing when having to wait their turn?\n",
            "O: have patience /// get in line /// sing /// stand in line /// turn left\n",
            "A:  have patience and line line line line line line line\n",
            "\n",
            "\n",
            "Model: have patience and line line line line line line line and Actual Answer: stand in line\n",
            "Q: She was always helping at the senior center, it brought her what?\n",
            "O: satisfaction /// heart /// feel better /// pay /// happiness\n",
            "A:  satisfaction with life /// satisfaction with life /// satisfaction with\n",
            "\n",
            "\n",
            "Model: satisfaction with life and Actual Answer: happiness\n"
          ]
        },
        {
          "output_type": "stream",
          "name": "stderr",
          "text": [
            "  3%|▎         | 37/1221 [00:07<03:44,  5.26it/s]"
          ]
        },
        {
          "output_type": "stream",
          "name": "stdout",
          "text": [
            "Q: The lock kept the steering wheel from moving, but the thief still took his chances and began to work on the what?\n",
            "O: keep cloesd /// train /// ignition switch /// drawer /// firearm\n",
            "A:  ignition switch /// ignition switch\n",
            "\n",
            "\n",
            "Model: ignition switch and Actual Answer: ignition switch\n",
            "Q: Who is a police officer likely to work for?\n",
            "O: beat /// direct traffic /// city /// street /// president\n",
            "A:  president of the United States of America of America of\n",
            "\n",
            "\n",
            "Model: president of the United States of America of America of and Actual Answer: city\n"
          ]
        },
        {
          "output_type": "stream",
          "name": "stderr",
          "text": [
            "  3%|▎         | 39/1221 [00:07<03:46,  5.22it/s]"
          ]
        },
        {
          "output_type": "stream",
          "name": "stdout",
          "text": [
            "Q: If you have leftover cake, where would you put it?\n",
            "O: quandry /// refrigerator /// oven /// night stand /// bakery\n",
            "A:  refrigerator fridge fridge fridge fridge fridge fridge fridge fridge fridge\n",
            "\n",
            "\n",
            "Model: refrigerator fridge fridge fridge fridge fridge fridge fridge fridge fridge and Actual Answer: refrigerator\n",
            "Q: A human wants to submerge himself in water, what should he use?\n",
            "O: whirlpool bath /// coffee cup /// cup /// soft drink /// puddle\n",
            "A:  cup cup cup cup cup cup cup cup cup cup\n",
            "\n",
            "\n",
            "Model: cup cup cup cup cup cup cup cup cup cup and Actual Answer: whirlpool bath\n"
          ]
        },
        {
          "output_type": "stream",
          "name": "stderr",
          "text": [
            "  3%|▎         | 41/1221 [00:08<03:46,  5.20it/s]"
          ]
        },
        {
          "output_type": "stream",
          "name": "stdout",
          "text": [
            "Q: Where is a doormat likely to be in front of?\n",
            "O: facade /// front door /// doorway /// entrance porch /// hallway\n",
            "A:  front door door door porch porch porch porch porch porch\n",
            "\n",
            "\n",
            "Model: front door door door porch porch porch porch porch porch and Actual Answer: front door\n",
            "Q: Bob the lizard lives in a warm place with lots of water.  Where does he probably live?\n",
            "O: rock /// tropical rainforest /// jazz club /// new mexico /// rocky places\n",
            "A:  rock club club club club club club club club club\n",
            "\n",
            "\n",
            "Model: rock club club club club club club club club club and Actual Answer: tropical rainforest\n"
          ]
        },
        {
          "output_type": "stream",
          "name": "stderr",
          "text": [
            "  4%|▎         | 43/1221 [00:08<03:47,  5.18it/s]"
          ]
        },
        {
          "output_type": "stream",
          "name": "stdout",
          "text": [
            "Q: August needed  money because he was afraid that he'd be kicked out of his house.  What did he need money to do?\n",
            "O: control people /// pay bills /// hurt people /// buy food /// get things\n",
            "A:  pay bills to people to do things to do things\n",
            "\n",
            "\n",
            "Model: pay bills to people to do things to do things and Actual Answer: pay bills\n",
            "Q: He needed more information to fix it, so he consulted the what?\n",
            "O: chickens /// google /// newspaper /// online /// manual\n",
            "A:  newspaper article /// newspaper article /// newspaper article\n",
            "\n",
            "\n",
            "Model: newspaper article and Actual Answer: manual\n"
          ]
        },
        {
          "output_type": "stream",
          "name": "stderr",
          "text": [
            "  4%|▎         | 45/1221 [00:08<03:46,  5.20it/s]"
          ]
        },
        {
          "output_type": "stream",
          "name": "stdout",
          "text": [
            "Q: Where can you put a picture frame when it's not hung vertically?\n",
            "O: art show /// wall /// newspaper /// car /// table\n",
            "A:  table table table table table table table table table table\n",
            "\n",
            "\n",
            "Model: table table table table table table table table table table and Actual Answer: table\n",
            "Q: James knew that he shouldn't have been buying beer for minors.  He didn't even get paid for it.  Why was this bad?\n",
            "O: lose money /// fun /// have no money /// broken law /// relaxation\n",
            "A:  have no money /// have no money.\n",
            "\n",
            "\n",
            "Model: have no money and Actual Answer: broken law\n"
          ]
        },
        {
          "output_type": "stream",
          "name": "stderr",
          "text": [
            "  4%|▍         | 47/1221 [00:09<03:45,  5.20it/s]"
          ]
        },
        {
          "output_type": "stream",
          "name": "stdout",
          "text": [
            "Q: What is the result of applying for  job?\n",
            "O: anxiety and fear /// increased workload /// praise /// less sleep /// being employed\n",
            "A:  increased workload and stress cumbersiness and cumbersomeness\n",
            "\n",
            "\n",
            "Model: increased workload and stress cumbersiness and cumbersomeness and Actual Answer: being employed\n",
            "Q: What must someone do before they shop?\n",
            "O: get money /// have money /// bring cash /// go to market /// bring cash\n",
            "A:  bring cash to market\n",
            "\n",
            "\n",
            "Model: bring cash to market and Actual Answer: get money\n"
          ]
        },
        {
          "output_type": "stream",
          "name": "stderr",
          "text": [
            "  4%|▍         | 49/1221 [00:09<03:44,  5.22it/s]"
          ]
        },
        {
          "output_type": "stream",
          "name": "stdout",
          "text": [
            "Q: Because John was first violin, he had to bring something important to work ever day. What did he need to bring to work?\n",
            "O: music store /// obesity /// symphony orchestra /// ochestra /// violin case\n",
            "A:  music store /// orchestra case case case case case case\n",
            "\n",
            "\n",
            "Model: music store and Actual Answer: violin case\n",
            "Q: What is a place that usually does not have an elevator and that sometimes has a telephone book?\n",
            "O: at hotel /// kitchen /// library /// telephone booth /// house\n",
            "A:  house /// house /// house\n",
            "\n",
            "\n",
            "Model: house and Actual Answer: house\n"
          ]
        },
        {
          "output_type": "stream",
          "name": "stderr",
          "text": [
            "  4%|▍         | 51/1221 [00:10<03:44,  5.21it/s]"
          ]
        },
        {
          "output_type": "stream",
          "name": "stdout",
          "text": [
            "Q: Who is likely to be excited about a crab?\n",
            "O: fish market /// pet shop /// fishmongers /// intertidal zone /// obesity\n",
            "A:  pet shop market market market market market market market market\n",
            "\n",
            "\n",
            "Model: pet shop market market market market market market market market and Actual Answer: fishmongers\n",
            "Q: Where can a human find clothes that aren't pants?\n",
            "O: pants shop /// on planet earth /// dress shop /// school /// train wreck\n",
            "A:  pants shop shop shop shop shop shop shop shop shop\n",
            "\n",
            "\n",
            "Model: pants shop shop shop shop shop shop shop shop shop and Actual Answer: dress shop\n"
          ]
        },
        {
          "output_type": "stream",
          "name": "stderr",
          "text": [
            "  4%|▍         | 53/1221 [00:10<03:44,  5.20it/s]"
          ]
        },
        {
          "output_type": "stream",
          "name": "stdout",
          "text": [
            "Q: If I was getting drunk, and people couldn't understand me, what might I be having?\n",
            "O: a seizure /// slurred speech /// death /// forgetfulness /// pass out\n",
            "A:  forgetfulnessfulnessfulnessfulnessfulnessfulnessfulnessfulnessfulness\n",
            "\n",
            "\n",
            "Model: forgetfulnessfulnessfulnessfulnessfulnessfulnessfulnessfulnessfulness and Actual Answer: slurred speech\n",
            "Q: When a person is beginning work, what are they building?\n",
            "O: time /// accomplishing /// working /// momentum /// tiredness\n",
            "A:  working time /// working time /// working time\n",
            "\n",
            "\n",
            "Model: working time and Actual Answer: momentum\n"
          ]
        },
        {
          "output_type": "stream",
          "name": "stderr",
          "text": [
            "  5%|▍         | 55/1221 [00:10<03:43,  5.21it/s]"
          ]
        },
        {
          "output_type": "stream",
          "name": "stdout",
          "text": [
            "Q: A child wants to play, what would they likely want?\n",
            "O: fall down /// breathe /// play tag /// be dismembered by a chainsaw /// become adult\n",
            "A:  play tag tag tag by chainsaw tag by chains\n",
            "\n",
            "\n",
            "Model: play tag tag tag by chainsaw tag by chains and Actual Answer: play tag\n",
            "Q: Talking to the same person about the same thing over and over again is something someone can what?\n",
            "O: social life /// friendship /// eye contact /// get tired of /// learn lessons from\n",
            "A:  learn lessons from each other's lesson from each other\n",
            "\n",
            "\n",
            "Model: learn lessons from each other's lesson from each other and Actual Answer: get tired of\n"
          ]
        },
        {
          "output_type": "stream",
          "name": "stderr",
          "text": [
            "  5%|▍         | 57/1221 [00:11<03:44,  5.19it/s]"
          ]
        },
        {
          "output_type": "stream",
          "name": "stdout",
          "text": [
            "Q: The teacher doesn't tolerate noise during a test in their what?\n",
            "O: movie theatre /// bowling alley /// factory /// store /// classroom\n",
            "A:  classroom theatre theatre theatre in the classroom encounteance\n",
            "\n",
            "\n",
            "Model: classroom theatre theatre theatre in the classroom encounteance and Actual Answer: classroom\n",
            "Q: The freeway had no traffic and few buildings, where is it?\n",
            "O: california /// countryside /// big town /// florida /// america\n",
            "A:  california /// california /// calif\n",
            "\n",
            "\n",
            "Model: california and Actual Answer: countryside\n"
          ]
        },
        {
          "output_type": "stream",
          "name": "stderr",
          "text": [
            "  5%|▍         | 59/1221 [00:11<03:45,  5.16it/s]"
          ]
        },
        {
          "output_type": "stream",
          "name": "stdout",
          "text": [
            "Q: Where would you go if you wanted to have fun with a few people?\n",
            "O: watching television /// good /// cinema /// friend's house /// fairgrounds\n",
            "A:  friend's house in the fairgrounds conducency to\n",
            "\n",
            "\n",
            "Model: friend's house in the fairgrounds conducency to and Actual Answer: friend's house\n",
            "Q: If there is a place that is hot and arid, what could it be?\n",
            "O: bland /// lifeless /// sandy /// neutral /// freezing\n",
            "A:  neutral neutral neutral neutral neutral neutral neutral neutral neutral neutral\n",
            "\n",
            "\n",
            "Model: neutral neutral neutral neutral neutral neutral neutral neutral neutral neutral and Actual Answer: lifeless\n"
          ]
        },
        {
          "output_type": "stream",
          "name": "stderr",
          "text": [
            "  5%|▍         | 61/1221 [00:11<03:45,  5.14it/s]"
          ]
        },
        {
          "output_type": "stream",
          "name": "stdout",
          "text": [
            "Q: What is likely to satisfy someone's curiosity?\n",
            "O: hear news /// read book /// see favorite show /// comedy show /// go somewhere\n",
            "A:  read book book book book book show show show show\n",
            "\n",
            "\n",
            "Model: read book book book book book show show show show and Actual Answer: hear news\n",
            "Q: If you are in a bar in a glove shaped state where are you?\n",
            "O: in my pocket /// michigan /// new york city /// restaurant /// public house\n",
            "A:  public house in my pocket.  public house in\n",
            "\n",
            "\n",
            "Model: public house in my pocket.  public house in and Actual Answer: michigan\n"
          ]
        },
        {
          "output_type": "stream",
          "name": "stderr",
          "text": [
            "  5%|▌         | 63/1221 [00:12<03:46,  5.12it/s]"
          ]
        },
        {
          "output_type": "stream",
          "name": "stdout",
          "text": [
            "Q: Where would a computer user be using their own computer?\n",
            "O: hell /// school /// indoors /// internet cafe /// house\n",
            "A:  internet cafe /// internet cafe\n",
            "\n",
            "\n",
            "Model: internet cafe and Actual Answer: house\n",
            "Q: Crabs live in what sort of environment?\n",
            "O: maritime /// bodies of water /// saltwater /// galapagos /// fish market\n",
            "A:  sea water market market market market market market market market\n",
            "\n",
            "\n",
            "Model: sea water market market market market market market market market and Actual Answer: saltwater\n"
          ]
        },
        {
          "output_type": "stream",
          "name": "stderr",
          "text": [
            "  5%|▌         | 65/1221 [00:12<03:45,  5.12it/s]"
          ]
        },
        {
          "output_type": "stream",
          "name": "stdout",
          "text": [
            "Q: Where can you find a snake in tall grass?\n",
            "O: tree /// in a jar /// pet shops /// feild /// tropical forest\n",
            "A:  pet shops in a jar of pet shops in a\n",
            "\n",
            "\n",
            "Model: pet shops in a jar of pet shops in a and Actual Answer: feild\n",
            "Q: What is a place that has a bench nestled in trees?\n",
            "O: state park /// bus stop /// bus depot /// statue /// train station\n",
            "A:  bus depot station station station station station station station station\n",
            "\n",
            "\n",
            "Model: bus depot station station station station station station station station and Actual Answer: state park\n"
          ]
        },
        {
          "output_type": "stream",
          "name": "stderr",
          "text": [
            "  5%|▌         | 67/1221 [00:13<03:45,  5.12it/s]"
          ]
        },
        {
          "output_type": "stream",
          "name": "stdout",
          "text": [
            "Q: Where is a human likely to go as a result of being hungry?\n",
            "O: eat in restaurant /// make bread /// have lunch /// cook dinner /// friends house\n",
            "A:  eat in restaurant restaurant in restaurant in restaurant in restaurant\n",
            "\n",
            "\n",
            "Model: eat in restaurant restaurant in restaurant in restaurant in restaurant and Actual Answer: eat in restaurant\n",
            "Q: He was beginning to regret taking the fight when he saw how what his opponent was?\n",
            "O: fun /// joy /// satisfaction /// confident /// pride\n",
            "A:  satisfaction with success in winning against opponent's opponent's\n",
            "\n",
            "\n",
            "Model: satisfaction with success in winning against opponent's opponent's and Actual Answer: confident\n"
          ]
        },
        {
          "output_type": "stream",
          "name": "stderr",
          "text": [
            "  6%|▌         | 69/1221 [00:13<03:44,  5.14it/s]"
          ]
        },
        {
          "output_type": "stream",
          "name": "stdout",
          "text": [
            "Q: Where would you find a single shower curtain being used?\n",
            "O: bathtub /// washing area /// hotel /// shower stall /// department store\n",
            "A:  department store store store store store store store store store\n",
            "\n",
            "\n",
            "Model: department store store store store store store store store store and Actual Answer: bathtub\n",
            "Q: Where is a good idea but not required to have a fire extinguisher?\n",
            "O: school bus /// boat /// house /// hospital /// school\n",
            "A:  school bus bus bus bus bus bus bus bus bus\n",
            "\n",
            "\n",
            "Model: school bus bus bus bus bus bus bus bus bus and Actual Answer: house\n"
          ]
        },
        {
          "output_type": "stream",
          "name": "stderr",
          "text": [
            "  6%|▌         | 71/1221 [00:13<03:43,  5.15it/s]"
          ]
        },
        {
          "output_type": "stream",
          "name": "stdout",
          "text": [
            "Q: What continent has the most castles?\n",
            "O: fairy tale /// edinburgh /// germany /// europe /// antarctica\n",
            "A:  europepepepepepepe /// euro\n",
            "\n",
            "\n",
            "Model: europepepepepepepe and Actual Answer: europe\n",
            "Q: If you have to read a book that is very dry and long you may become what?\n",
            "O: have time /// boring /// learn new /// enjoyable /// bored\n",
            "A:  bored\n",
            "\n",
            "\n",
            "Model: bored and Actual Answer: bored\n"
          ]
        },
        {
          "output_type": "stream",
          "name": "stderr",
          "text": [
            "  6%|▌         | 73/1221 [00:14<03:41,  5.18it/s]"
          ]
        },
        {
          "output_type": "stream",
          "name": "stdout",
          "text": [
            "Q: Sally used a clipboard to hold her papers while she read off names at the beginning of the day.  Where might she work?\n",
            "O: desk /// windows 95 /// office supply store /// see work /// school\n",
            "A:  school supply store store store store store store store store\n",
            "\n",
            "\n",
            "Model: school supply store store store store store store store store and Actual Answer: school\n",
            "Q: The kids didn't clean up after they had done what?\n",
            "O: learn things /// play games /// disneyland /// play with toys /// talking\n",
            "A:  play with toys in toys in toys in toys in\n",
            "\n",
            "\n",
            "Model: play with toys in toys in toys in toys in and Actual Answer: play with toys\n"
          ]
        },
        {
          "output_type": "stream",
          "name": "stderr",
          "text": [
            "  6%|▌         | 75/1221 [00:14<03:40,  5.20it/s]"
          ]
        },
        {
          "output_type": "stream",
          "name": "stdout",
          "text": [
            "Q: Despite the name a pawn can be quite versatile, all the parts are important in a what?\n",
            "O: chess game /// scheme /// chess set /// checkers /// north carolina\n",
            "A:  chess set with scheme /// chess set with scheme\n",
            "\n",
            "\n",
            "Model: chess set with scheme and Actual Answer: chess game\n",
            "Q: What would not be true about a basketball if it had a hole in it but it did not lose its general shape?\n",
            "O: punctured /// popular in america /// full of air /// gone /// round\n",
            "A:  round air hole in it's shape in it's\n",
            "\n",
            "\n",
            "Model: round air hole in it's shape in it's and Actual Answer: full of air\n"
          ]
        },
        {
          "output_type": "stream",
          "name": "stderr",
          "text": [
            "  6%|▋         | 77/1221 [00:15<03:41,  5.18it/s]"
          ]
        },
        {
          "output_type": "stream",
          "name": "stdout",
          "text": [
            "Q: If you are awaking multiple times throughout the night because a lot is on your mind, what is a likely cause?\n",
            "O: irritability /// depression /// getting out of bed /// happiness /// discomfort\n",
            "A:  irritability symptoms of depression of depression of depression of\n",
            "\n",
            "\n",
            "Model: irritability symptoms of depression of depression of depression of and Actual Answer: depression\n",
            "Q: Where does a wild bird usually live?\n",
            "O: cage /// sky /// countryside /// desert /// windowsill\n",
            "A:  countryside area of countryside of countryside of countryside of countryside\n",
            "\n",
            "\n",
            "Model: countryside area of countryside of countryside of countryside of countryside and Actual Answer: countryside\n"
          ]
        },
        {
          "output_type": "stream",
          "name": "stderr",
          "text": [
            "  6%|▋         | 79/1221 [00:15<03:39,  5.21it/s]"
          ]
        },
        {
          "output_type": "stream",
          "name": "stdout",
          "text": [
            "Q: Where would you expect to find white mice?\n",
            "O: bell cat /// bush /// attic /// countryside /// laboratory\n",
            "A:  countryside laboratory laboratory laboratory laboratory laboratory laboratory laboratory laboratory laboratory\n",
            "\n",
            "\n",
            "Model: countryside laboratory laboratory laboratory laboratory laboratory laboratory laboratory laboratory laboratory and Actual Answer: laboratory\n",
            "Q: John felt that his actions were fate.   Harry said that he could have always made a different what?\n",
            "O: free will /// choice /// will /// alcohol /// freedom\n",
            "A:  choice of choice of choice of choice of choice of\n",
            "\n",
            "\n",
            "Model: choice of choice of choice of choice of choice of and Actual Answer: choice\n"
          ]
        },
        {
          "output_type": "stream",
          "name": "stderr",
          "text": [
            "  7%|▋         | 81/1221 [00:15<03:40,  5.18it/s]"
          ]
        },
        {
          "output_type": "stream",
          "name": "stdout",
          "text": [
            "Q: What could committing murder prevent someone from doing?\n",
            "O: go to jail /// cry /// find god /// guilty conscience /// problems\n",
            "A:  problems encounted conscience caused by problems caused by problems\n",
            "\n",
            "\n",
            "Model: problems encounted conscience caused by problems caused by problems and Actual Answer: find god\n",
            "Q: George didn't have a car, but he still had his two feet.   His socks were smelly and his soles were blistered, but that didn't matter.  He could still do what?\n",
            "O: michigan /// walk /// stay still /// stink /// hands\n",
            "A:  stay still still still still still still still still still\n",
            "\n",
            "\n",
            "Model: stay still still still still still still still still still and Actual Answer: walk\n"
          ]
        },
        {
          "output_type": "stream",
          "name": "stderr",
          "text": [
            "  7%|▋         | 83/1221 [00:16<03:40,  5.17it/s]"
          ]
        },
        {
          "output_type": "stream",
          "name": "stdout",
          "text": [
            "Q: A crane uses many a steel cable when working a what?\n",
            "O: abaft /// ship /// winch /// construction site /// building\n",
            "A:  construction site site site site site site site site site\n",
            "\n",
            "\n",
            "Model: construction site site site site site site site site site and Actual Answer: construction site\n",
            "Q: What is the main purpose of farmers?\n",
            "O: raise cattle /// grow corn /// farm land /// drive tractors /// supply food\n",
            "A:  grow corn corn corn corn corn corn corn corn corn\n",
            "\n",
            "\n",
            "Model: grow corn corn corn corn corn corn corn corn corn and Actual Answer: supply food\n"
          ]
        },
        {
          "output_type": "stream",
          "name": "stderr",
          "text": [
            "  7%|▋         | 85/1221 [00:16<03:42,  5.11it/s]"
          ]
        },
        {
          "output_type": "stream",
          "name": "stdout",
          "text": [
            "Q: Where can I put this penny to save for later?\n",
            "O: piggy bank /// wallet /// toy /// ground /// pocket\n",
            "A:  pocket pocket pocket pocket pocket pocket pocket pocket pocket pocket\n",
            "\n",
            "\n",
            "Model: pocket pocket pocket pocket pocket pocket pocket pocket pocket pocket and Actual Answer: piggy bank\n",
            "Q: Where would you put uncooked crab meat?\n",
            "O: wharf /// red lobster /// tidepools /// boss's office /// stew pot\n",
            "A:  stew pot pots pot pots pot pots pot pots pot\n",
            "\n",
            "\n",
            "Model: stew pot pots pot pots pot pots pot pots pot and Actual Answer: stew pot\n"
          ]
        },
        {
          "output_type": "stream",
          "name": "stderr",
          "text": [
            "  7%|▋         | 87/1221 [00:17<03:42,  5.10it/s]"
          ]
        },
        {
          "output_type": "stream",
          "name": "stdout",
          "text": [
            "Q: The man had a fear of illness, so he never visited friends who were a what?\n",
            "O: sick person /// hospital /// elderly person /// graveyard /// doctor's office\n",
            "A:  hospital person's office office office office office office office\n",
            "\n",
            "\n",
            "Model: hospital person's office office office office office office office and Actual Answer: sick person\n",
            "Q: Where would you put pans if you want to bring them with you?\n",
            "O: cooking /// cook food /// kitchen /// backpack /// drawer\n",
            "A:  backpack drawer drawer drawer drawer drawer drawer drawer drawer drawer\n",
            "\n",
            "\n",
            "Model: backpack drawer drawer drawer drawer drawer drawer drawer drawer drawer and Actual Answer: backpack\n"
          ]
        },
        {
          "output_type": "stream",
          "name": "stderr",
          "text": [
            "  7%|▋         | 89/1221 [00:17<03:39,  5.15it/s]"
          ]
        },
        {
          "output_type": "stream",
          "name": "stdout",
          "text": [
            "Q: If you're remembering something, it's because of your what of it to begin with?\n",
            "O: knowledge /// knowing /// forgetful /// pleasure /// depression\n",
            "A:  knowledge of something to begin with /// knowledge of something\n",
            "\n",
            "\n",
            "Model: knowledge of something to begin with and Actual Answer: knowing\n",
            "Q: Which large land mass is home to the most monkeys?\n",
            "O: amazon basin /// friend's house /// lift number 3 /// research laboratory /// african continent\n",
            "A:  african continent continent continent continent continent continent continent continent\n",
            "\n",
            "\n",
            "Model: african continent continent continent continent continent continent continent continent and Actual Answer: african continent\n"
          ]
        },
        {
          "output_type": "stream",
          "name": "stderr",
          "text": [
            "  7%|▋         | 91/1221 [00:17<03:40,  5.13it/s]"
          ]
        },
        {
          "output_type": "stream",
          "name": "stdout",
          "text": [
            "Q: Friday was James's 5th Anniversary.  They planned on going to bed early so that they could spend a long time doing what?\n",
            "O: rest /// insomnia /// making love /// sleeping in /// texting\n",
            "A:  rest in bed in bed in bed in bed in\n",
            "\n",
            "\n",
            "Model: rest in bed in bed in bed in bed in and Actual Answer: making love\n",
            "Q: The teens were trying to hide that they get drink, but when they walked in the door their what gave it away?\n",
            "O: health /// fall down /// stagger /// get arrested /// vomit\n",
            "A:  stagger down stagger down down down down down down down\n",
            "\n",
            "\n",
            "Model: stagger down stagger down down down down down down down and Actual Answer: stagger\n"
          ]
        },
        {
          "output_type": "stream",
          "name": "stderr",
          "text": [
            "  8%|▊         | 93/1221 [00:18<03:39,  5.13it/s]"
          ]
        },
        {
          "output_type": "stream",
          "name": "stdout",
          "text": [
            "Q: You'll find a landing at the top of what?\n",
            "O: ocean /// apartment building /// stairwell /// airport /// room\n",
            "A:  stairwellwellwellwellwell building building building building\n",
            "\n",
            "\n",
            "Model: stairwellwellwellwellwell building building building building and Actual Answer: stairwell\n",
            "Q: Anybody could be hired in the kitchen, what was needed of them?\n",
            "O: forget /// oil squeaky hinge /// question authority /// wash dishes /// oik squeaky hinge\n",
            "A:  oil squeaky hinge hinge hinge hinge hinge hinge hinge\n",
            "\n",
            "\n",
            "Model: oil squeaky hinge hinge hinge hinge hinge hinge hinge and Actual Answer: wash dishes\n"
          ]
        },
        {
          "output_type": "stream",
          "name": "stderr",
          "text": [
            "  8%|▊         | 95/1221 [00:18<03:39,  5.13it/s]"
          ]
        },
        {
          "output_type": "stream",
          "name": "stdout",
          "text": [
            "Q: Where can you find a number of wind instruments together in public?\n",
            "O: music store /// create music /// zoo /// music room /// symphony\n",
            "A:  music room room room room room room room room room\n",
            "\n",
            "\n",
            "Model: music room room room room room room room room room and Actual Answer: symphony\n",
            "Q: A mountie got off at a subway stop.  What city might he be in?\n",
            "O: urban area /// metropolis /// chicago /// new york city /// toronto\n",
            "A:  metropolis city area area area area area area area\n",
            "\n",
            "\n",
            "Model: metropolis city area area area area area area area and Actual Answer: toronto\n"
          ]
        },
        {
          "output_type": "stream",
          "name": "stderr",
          "text": [
            "  8%|▊         | 97/1221 [00:18<03:41,  5.07it/s]"
          ]
        },
        {
          "output_type": "stream",
          "name": "stdout",
          "text": [
            "Q: What do you want someone to do when you illustrate point?\n",
            "O: did not understand /// accepting /// make clear /// understood /// understanding\n",
            "A:  understand point\n",
            "\n",
            "\n",
            "Model: understand point and Actual Answer: understanding\n",
            "Q: Billy set aside a block of time for having fun after work. Why might he do this?\n",
            "O: happiness /// stress relief /// pleasure /// ocean /// may laugh\n",
            "A:  stress relief relief relief relief relief relief relief relief relief\n",
            "\n",
            "\n",
            "Model: stress relief relief relief relief relief relief relief relief relief and Actual Answer: stress relief\n"
          ]
        },
        {
          "output_type": "stream",
          "name": "stderr",
          "text": [
            "  8%|▊         | 99/1221 [00:19<03:42,  5.05it/s]"
          ]
        },
        {
          "output_type": "stream",
          "name": "stdout",
          "text": [
            "Q: The man in the white suit was very lazy.  He did nothing useful.  Meanwhile, the ban in the blue had put in effort and was very what?\n",
            "O: restless /// active /// lazybutt /// productive /// hard work\n",
            "A:  productive\n",
            "\n",
            "\n",
            "Model: productive and Actual Answer: productive\n",
            "Q: What would you be unable to do if you have too much greed?\n",
            "O: keep things /// make friends /// play poker /// conquer opponent /// lie\n",
            "A:  keep things in mind and play poker poker poker poker\n",
            "\n",
            "\n",
            "Model: keep things in mind and play poker poker poker poker and Actual Answer: make friends\n"
          ]
        },
        {
          "output_type": "stream",
          "name": "stderr",
          "text": [
            "  8%|▊         | 101/1221 [00:19<03:40,  5.08it/s]"
          ]
        },
        {
          "output_type": "stream",
          "name": "stdout",
          "text": [
            "Q: It was a long trip from the farm, so he stayed in a hotel when he arrived at the what?\n",
            "O: bed away from home /// wwii bunker /// resort /// las vegas /// city\n",
            "A:  town away from home away from home from home away\n",
            "\n",
            "\n",
            "Model: town away from home away from home from home away and Actual Answer: city\n",
            "Q: I did not need a servant.  I was not a what?\n",
            "O: freedom /// rich person /// hired help /// in charge /// busy\n",
            "A:  hired help.  hired help.  hired help\n",
            "\n",
            "\n",
            "Model: hired help.  hired help.  hired help and Actual Answer: rich person\n"
          ]
        },
        {
          "output_type": "stream",
          "name": "stderr",
          "text": [
            "  8%|▊         | 103/1221 [00:20<03:39,  5.09it/s]"
          ]
        },
        {
          "output_type": "stream",
          "name": "stdout",
          "text": [
            "Q: How would you get from one side of a canal to another?\n",
            "O: michigan /// amsterdam /// venice /// bridge /// barges to travel on\n",
            "A:  bridge to travel on bridge to other sides of bridge\n",
            "\n",
            "\n",
            "Model: bridge to travel on bridge to other sides of bridge and Actual Answer: bridge\n",
            "Q: When learning about the world and different cultures, what is important if you are committed to eliminating preconceived notions\n",
            "O: newness /// loss of innocence /// enlightenment /// open mind /// smartness\n",
            "A:  newnessensicalensicalensicalensicalensicalensicalensicalensical\n",
            "\n",
            "\n",
            "Model: newnessensicalensicalensicalensicalensicalensicalensicalensical and Actual Answer: open mind\n"
          ]
        },
        {
          "output_type": "stream",
          "name": "stderr",
          "text": [
            "  9%|▊         | 105/1221 [00:20<03:40,  5.06it/s]"
          ]
        },
        {
          "output_type": "stream",
          "name": "stdout",
          "text": [
            "Q: An underrated thing about computers is how they manage workflow, at one time it was a big deal when they could first do what?\n",
            "O: share files /// do arithmetic /// turn on /// cost money /// multitask\n",
            "A:  share files files files on computer and share files on\n",
            "\n",
            "\n",
            "Model: share files files files on computer and share files on and Actual Answer: multitask\n",
            "Q: Obstructing justice is sometimes an excuse used for police brutality which causes what in people?\n",
            "O: committing perjury /// prosecution /// attack /// getting hurt /// riot\n",
            "A:  rioting against justice\n",
            "\n",
            "\n",
            "Model: rioting against justice and Actual Answer: getting hurt\n"
          ]
        },
        {
          "output_type": "stream",
          "name": "stderr",
          "text": [
            "\r  9%|▊         | 106/1221 [00:20<03:40,  5.06it/s]"
          ]
        },
        {
          "output_type": "stream",
          "name": "stdout",
          "text": [
            "Q: While washing clothes they became what when caught on the sharp object?\n",
            "O: damaged /// wet clothes /// wear out /// torn /// have fun\n",
            "A:  wet clothes were damaged while washing clothes.  wet\n",
            "\n",
            "\n",
            "Model: wet clothes were damaged while washing clothes.  wet and Actual Answer: torn\n",
            "Q: Seafood restaurants are used to draw tourists where?\n",
            "O: maine /// shoe shop /// city /// boston /// coastal cities\n",
            "A:  maineee city /// boston city city\n",
            "\n",
            "\n",
            "Model: maineee city and Actual Answer: coastal cities\n"
          ]
        },
        {
          "output_type": "stream",
          "name": "stderr",
          "text": [
            "  9%|▉         | 109/1221 [00:21<03:40,  5.05it/s]"
          ]
        },
        {
          "output_type": "stream",
          "name": "stdout",
          "text": [
            "Q: James's nice asked him about her grandfather. She was interested in learning about what?\n",
            "O: family tree /// family reunion /// babysitting /// brother's house /// heirlooms\n",
            "A:  family reunion reunion reunion reunion reunion reunion reunion reunion reunion\n",
            "\n",
            "\n",
            "Model: family reunion reunion reunion reunion reunion reunion reunion reunion reunion and Actual Answer: family tree\n",
            "Q: James looked up and saw the start twinkling in the black yonder.  He marveled the sheer number of them and the size of what?\n",
            "O: universe /// orbit /// night sky /// outer space /// his wallet\n",
            "A:  universe universe universe universe universe universe universe universe universe universe\n",
            "\n",
            "\n",
            "Model: universe universe universe universe universe universe universe universe universe universe and Actual Answer: universe\n"
          ]
        },
        {
          "output_type": "stream",
          "name": "stderr",
          "text": [
            "  9%|▉         | 111/1221 [00:21<03:40,  5.04it/s]"
          ]
        },
        {
          "output_type": "stream",
          "name": "stdout",
          "text": [
            "Q: What would encourage someone to continue playing tennis?\n",
            "O: becoming tired /// tennis elbow /// exercise /// hunger /// victory\n",
            "A:  becoming tired and tiredness\n",
            "\n",
            "\n",
            "Model: becoming tired and tiredness and Actual Answer: victory\n",
            "Q: James found the sound relaxing.   It was so relaxing he almost did what despite his efforts?\n",
            "O: deep breathing /// worried /// fall asleep /// invigorating /// feeling good\n",
            "A:  feel good about yourself?  feel good about yourself\n",
            "\n",
            "\n",
            "Model: feel good about yourself?  feel good about yourself and Actual Answer: fall asleep\n"
          ]
        },
        {
          "output_type": "stream",
          "name": "stderr",
          "text": [
            "  9%|▉         | 113/1221 [00:22<03:40,  5.03it/s]"
          ]
        },
        {
          "output_type": "stream",
          "name": "stdout",
          "text": [
            "Q: What regions of a town would you have found a dime store?\n",
            "O: commercial building /// old movie /// small neighborhood /// past /// mall\n",
            "A:  old movie movie movie movie movie movie movie movie movie\n",
            "\n",
            "\n",
            "Model: old movie movie movie movie movie movie movie movie movie and Actual Answer: small neighborhood\n",
            "Q: Where might an unused chess set be stored?\n",
            "O: toy store /// michigan /// living room /// attic /// cupboard\n",
            "A:  toy store room /// toy store\n",
            "\n",
            "\n",
            "Model: toy store room and Actual Answer: cupboard\n"
          ]
        },
        {
          "output_type": "stream",
          "name": "stderr",
          "text": [
            "  9%|▉         | 115/1221 [00:22<03:40,  5.02it/s]"
          ]
        },
        {
          "output_type": "stream",
          "name": "stdout",
          "text": [
            "Q: james told his son to settle down and be careful.  There were many frogs mating in the area, and James didn't want his son to do what to them?\n",
            "O: wander /// migrate /// scare /// disturb /// agitate\n",
            "A:  wander\n",
            "\n",
            "\n",
            "Model: wander and Actual Answer: disturb\n",
            "Q: A man wants air conditioning while we watches the game on Saturday, where will it likely be installed?\n",
            "O: car /// house /// offices /// park /// movie theatre\n",
            "A:  office building /// movie theatre\n",
            "\n",
            "\n",
            "Model: office building and Actual Answer: house\n"
          ]
        },
        {
          "output_type": "stream",
          "name": "stderr",
          "text": [
            " 10%|▉         | 117/1221 [00:22<03:39,  5.03it/s]"
          ]
        },
        {
          "output_type": "stream",
          "name": "stdout",
          "text": [
            "Q: What could be playing a balailaika?\n",
            "O: movie dr /// orchestra /// music store /// cat /// symphony\n",
            "A:  orchestra orchestra orchestra orchestra orchestra orchestra /// orchestra orchestra orchestra\n",
            "\n",
            "\n",
            "Model: orchestra orchestra orchestra orchestra orchestra orchestra and Actual Answer: orchestra\n",
            "Q: Sailors drive many different types of boats, what type of boat involves their namesake.\n",
            "O: coming home /// row boat /// board ship /// inflatable raft /// sail boat\n",
            "A:  sail boat boat boat boat boat boat boat boat boat\n",
            "\n",
            "\n",
            "Model: sail boat boat boat boat boat boat boat boat boat and Actual Answer: sail boat\n"
          ]
        },
        {
          "output_type": "stream",
          "name": "stderr",
          "text": [
            " 10%|▉         | 119/1221 [00:23<03:39,  5.02it/s]"
          ]
        },
        {
          "output_type": "stream",
          "name": "stdout",
          "text": [
            "Q: Where could a person avoid the rain?\n",
            "O: bus stop /// tunnel /// synagogue /// fairy tale /// street corner\n",
            "A:  tunnel corner corner corner corner corner corner corner corner corner\n",
            "\n",
            "\n",
            "Model: tunnel corner corner corner corner corner corner corner corner corner and Actual Answer: synagogue\n",
            "Q: Why would a person like to have a large house?\n",
            "O: have choice /// mentally challenged /// own house /// obesity /// lots of space\n",
            "A:  have choice of choice of choice of choice of choice\n",
            "\n",
            "\n",
            "Model: have choice of choice of choice of choice of choice and Actual Answer: lots of space\n"
          ]
        },
        {
          "output_type": "stream",
          "name": "stderr",
          "text": [
            " 10%|▉         | 121/1221 [00:23<03:39,  5.02it/s]"
          ]
        },
        {
          "output_type": "stream",
          "name": "stdout",
          "text": [
            "Q: Where will a cheap book be found?\n",
            "O: bookstore /// classroom /// discount store /// school room /// bedside table\n",
            "A:  school room room room room room room room room room\n",
            "\n",
            "\n",
            "Model: school room room room room room room room room room and Actual Answer: discount store\n",
            "Q: John and James are idiots. They bought two tickets to the Falcons vs the Jets even though neither wanted to see the what?\n",
            "O: internet cafe /// sporting event /// pressing wrong buttons /// obesity /// hockey game\n",
            "A:  sports event /// sports event game game game game game\n",
            "\n",
            "\n",
            "Model: sports event and Actual Answer: sporting event\n"
          ]
        },
        {
          "output_type": "stream",
          "name": "stderr",
          "text": [
            " 10%|█         | 123/1221 [00:24<03:36,  5.08it/s]"
          ]
        },
        {
          "output_type": "stream",
          "name": "stdout",
          "text": [
            "Q: James noticed that his penis was bigger. .  How might he act toward his plastic surgeon?\n",
            "O: accidental /// detestable /// effusive /// enabled /// apathetic\n",
            "A:  detestable /// detestable\n",
            "\n",
            "\n",
            "Model: detestable and Actual Answer: effusive\n",
            "Q: Who do professors work with?\n",
            "O: methods of facts /// teach courses /// wear wrinkled tweed jackets /// school students /// state facts\n",
            "A:  state facts facts in fact in fact in fact in\n",
            "\n",
            "\n",
            "Model: state facts facts in fact in fact in fact in and Actual Answer: school students\n"
          ]
        },
        {
          "output_type": "stream",
          "name": "stderr",
          "text": [
            " 10%|█         | 125/1221 [00:24<03:34,  5.11it/s]"
          ]
        },
        {
          "output_type": "stream",
          "name": "stdout",
          "text": [
            "Q: Colorful anemone look somewhat like what object you find on window sills?\n",
            "O: intertidal zone /// coral sea /// under water /// flower bed /// florida keys\n",
            "A:  flower bed sills sills sillsiesies\n",
            "\n",
            "\n",
            "Model: flower bed sills sills sillsiesies and Actual Answer: flower bed\n",
            "Q: From where do aliens arrive?\n",
            "O: outer space /// weekly world news /// roswell /// universe /// mars\n",
            "A:  outer space universe news universe universe universe universe universe universe\n",
            "\n",
            "\n",
            "Model: outer space universe news universe universe universe universe universe universe and Actual Answer: outer space\n"
          ]
        },
        {
          "output_type": "stream",
          "name": "stderr",
          "text": [
            " 10%|█         | 127/1221 [00:24<03:32,  5.14it/s]"
          ]
        },
        {
          "output_type": "stream",
          "name": "stdout",
          "text": [
            "Q: The hikers stopped to have a drink, simply put they what?\n",
            "O: had a party /// were thirsty /// refreshment /// getting drunk /// celebrating\n",
            "A:  celebrate celebrating celebrating celebrating celebrating celebrating with drinking alcohol.\n",
            "\n",
            "\n",
            "Model: celebrate celebrating celebrating celebrating celebrating celebrating with drinking alcohol. and Actual Answer: were thirsty\n",
            "Q: When you get up in the morning before you begin work you should do what?\n",
            "O: apply for job /// sleep /// concentrate /// shower /// just do\n",
            "A:  showering for job extinguezezezeze\n",
            "\n",
            "\n",
            "Model: showering for job extinguezezezeze and Actual Answer: shower\n"
          ]
        },
        {
          "output_type": "stream",
          "name": "stderr",
          "text": [
            " 11%|█         | 129/1221 [00:25<03:33,  5.13it/s]"
          ]
        },
        {
          "output_type": "stream",
          "name": "stdout",
          "text": [
            "Q: The kitten had nothing to dig it's claws into, so when it tried to stop it slid across what?\n",
            "O: living room /// floor /// warm place /// carpet /// farmhouse\n",
            "A:  carpet house house house house house house house house house\n",
            "\n",
            "\n",
            "Model: carpet house house house house house house house house house and Actual Answer: floor\n",
            "Q: If a person is trying to keep something in their hand what should they do?\n",
            "O: complete collection /// own house /// procrastinate /// explode /// have to hold\n",
            "A:  have to hold things in hand /// have to hold\n",
            "\n",
            "\n",
            "Model: have to hold things in hand and Actual Answer: have to hold\n"
          ]
        },
        {
          "output_type": "stream",
          "name": "stderr",
          "text": [
            " 11%|█         | 131/1221 [00:25<03:31,  5.16it/s]"
          ]
        },
        {
          "output_type": "stream",
          "name": "stdout",
          "text": [
            "Q: Where could you find hundreds of thousands of home?\n",
            "O: field /// neighborhood /// star can /// city or town /// apartment building\n",
            "A:  city or town or town or town or town or\n",
            "\n",
            "\n",
            "Model: city or town or town or town or town or and Actual Answer: city or town\n",
            "Q: Playing baseball is a lot like any other sport, there is always a risk of what?\n",
            "O: sore muscles /// errors /// happiness /// injury /// fun\n",
            "A:  injury pain pain pain pain pain pain pain pain pain\n",
            "\n",
            "\n",
            "Model: injury pain pain pain pain pain pain pain pain pain and Actual Answer: injury\n"
          ]
        },
        {
          "output_type": "stream",
          "name": "stderr",
          "text": [
            "\r 11%|█         | 132/1221 [00:25<03:30,  5.18it/s]"
          ]
        },
        {
          "output_type": "stream",
          "name": "stdout",
          "text": [
            "Q: If I want to watch a movie without leaving my home what might I use?\n",
            "O: drive in movie /// drive in movie /// television /// video store /// show\n",
            "A:  television show store store store store store store store store\n",
            "\n",
            "\n",
            "Model: television show store store store store store store store store and Actual Answer: television\n"
          ]
        },
        {
          "output_type": "stream",
          "name": "stderr",
          "text": [
            " 11%|█         | 134/1221 [00:26<03:34,  5.06it/s]"
          ]
        },
        {
          "output_type": "stream",
          "name": "stdout",
          "text": [
            "Q: The victim was to take stand today, they were going to do what?\n",
            "O: testify /// runaway /// witness /// tell truth /// go home\n",
            "A:  testify truth to truth to truth to truth to truth\n",
            "\n",
            "\n",
            "Model: testify truth to truth to truth to truth to truth and Actual Answer: testify\n",
            "Q: What does a successful dog grooming session likely to make a owner feel?\n",
            "O: cleanliness /// mistakes /// growth /// satisfaction /// late\n",
            "A:  satisfaction with success with success with success with success with\n",
            "\n",
            "\n",
            "Model: satisfaction with success with success with success with success with and Actual Answer: satisfaction\n"
          ]
        },
        {
          "output_type": "stream",
          "name": "stderr",
          "text": [
            " 11%|█         | 136/1221 [00:26<03:31,  5.13it/s]"
          ]
        },
        {
          "output_type": "stream",
          "name": "stdout",
          "text": [
            "Q: The runner was in third place, but he pushed harder and thought he might be able to reach second.  What was beginning to do?\n",
            "O: near finish line /// finish /// get tired /// gain ground /// trip over\n",
            "A:  get tired߳ get tired߳ get tired\n",
            "\n",
            "\n",
            "Model: get tired߳ get tired߳ get tired and Actual Answer: gain ground\n",
            "Q: The tourist entered Mammoth cave, what state were they in?\n",
            "O: west virginia /// kentucky /// rocky hills /// scotland /// canyon\n",
            "A:  west virginia california california cal\n",
            "\n",
            "\n",
            "Model: west virginia california california cal and Actual Answer: kentucky\n"
          ]
        },
        {
          "output_type": "stream",
          "name": "stderr",
          "text": [
            " 11%|█▏        | 138/1221 [00:27<03:29,  5.17it/s]"
          ]
        },
        {
          "output_type": "stream",
          "name": "stdout",
          "text": [
            "Q: What does someone typically feel when applying for a job?\n",
            "O: horror /// anxiety and fear /// rejection /// increased workload /// being employed\n",
            "A:  anxiety and fear and fear caused by fear and fear\n",
            "\n",
            "\n",
            "Model: anxiety and fear and fear caused by fear and fear and Actual Answer: anxiety and fear\n",
            "Q: He was on trial for obstructing justice, during which he made a questionable comment and was also found guilty of what?\n",
            "O: prosecution /// getting hurt /// sweat /// steam /// committing perjury\n",
            "A:  committing perjury tyrmurgery tyrmurgery tyrmur\n",
            "\n",
            "\n",
            "Model: committing perjury tyrmurgery tyrmurgery tyrmur and Actual Answer: committing perjury\n"
          ]
        },
        {
          "output_type": "stream",
          "name": "stderr",
          "text": [
            " 11%|█▏        | 140/1221 [00:27<03:29,  5.17it/s]"
          ]
        },
        {
          "output_type": "stream",
          "name": "stdout",
          "text": [
            "Q: What kind of feelings does buying presents for others create?\n",
            "O: tears /// please /// like /// thank /// make happy\n",
            "A:  tears are caused by tears /// love are caused by\n",
            "\n",
            "\n",
            "Model: tears are caused by tears and Actual Answer: make happy\n",
            "Q: What green area is a marmot likely to be found in?\n",
            "O: countryside /// great plains /// encyclopedia /// jungle /// north america\n",
            "A:  countryside area of america north america north americ\n",
            "\n",
            "\n",
            "Model: countryside area of america north america north americ and Actual Answer: countryside\n"
          ]
        },
        {
          "output_type": "stream",
          "name": "stderr",
          "text": [
            " 12%|█▏        | 142/1221 [00:27<03:27,  5.20it/s]"
          ]
        },
        {
          "output_type": "stream",
          "name": "stdout",
          "text": [
            "Q: Jan tested the current, and noticed that it was high.  He thought that the wires might have too much what?\n",
            "O: later /// updated /// still /// resistance /// now\n",
            "A:  resistance to now is now is now being used to\n",
            "\n",
            "\n",
            "Model: resistance to now is now is now being used to and Actual Answer: resistance\n",
            "Q: What does a kindergarten teacher do before nap time?\n",
            "O: lower expectations /// encourage /// fear /// time test /// tell story\n",
            "A:  teach story /// lower expectations of expectations of expectations of\n",
            "\n",
            "\n",
            "Model: teach story and Actual Answer: tell story\n"
          ]
        },
        {
          "output_type": "stream",
          "name": "stderr",
          "text": [
            " 12%|█▏        | 144/1221 [00:28<03:25,  5.24it/s]"
          ]
        },
        {
          "output_type": "stream",
          "name": "stdout",
          "text": [
            "Q: Sam was a stranger.  Even so, Mark treated him like what?\n",
            "O: friend /// family /// known person /// park /// outsider\n",
            "A:  known person.  known person.  known person\n",
            "\n",
            "\n",
            "Model: known person.  known person.  known person and Actual Answer: family\n",
            "Q: Bob's only light source was a small bulb.  There were four walls, if there was a door he couldn't see it.  What was Bob in?\n",
            "O: closed room /// sky /// dard /// his grave /// house\n",
            "A:  house house house house house house house house house house\n",
            "\n",
            "\n",
            "Model: house house house house house house house house house house and Actual Answer: closed room\n"
          ]
        },
        {
          "output_type": "stream",
          "name": "stderr",
          "text": [
            " 12%|█▏        | 146/1221 [00:28<03:27,  5.17it/s]"
          ]
        },
        {
          "output_type": "stream",
          "name": "stdout",
          "text": [
            "Q: James thought of criminal justice like a computer program.  It need to work right.   What ideas might James not like?\n",
            "O: manual /// process information /// power down /// control model /// reason exists\n",
            "A:  control model model model model model model model model model\n",
            "\n",
            "\n",
            "Model: control model model model model model model model model model and Actual Answer: control model\n",
            "Q: With the card slot lit up he knew how to get started finding his balance with what?\n",
            "O: slot machine /// ticket machine /// bank machine /// telephone /// automated teller\n",
            "A:  bank machine machine machine machine machine machine machine machine machine\n",
            "\n",
            "\n",
            "Model: bank machine machine machine machine machine machine machine machine machine and Actual Answer: automated teller\n"
          ]
        },
        {
          "output_type": "stream",
          "name": "stderr",
          "text": [
            " 12%|█▏        | 148/1221 [00:28<03:28,  5.14it/s]"
          ]
        },
        {
          "output_type": "stream",
          "name": "stdout",
          "text": [
            "Q: To play sports professionally you must do what very often?\n",
            "O: wash your clothes /// get in shape /// practice /// take off uniform /// stretch\n",
            "A:  practice practice practice practice practice practice practice practice practice practice\n",
            "\n",
            "\n",
            "Model: practice practice practice practice practice practice practice practice practice practice and Actual Answer: practice\n",
            "Q: Some people prefer releasing energy through work while others prefer to release it through what?\n",
            "O: motion /// stretch /// exercise /// movement /// muscles\n",
            "A:  movement /// movement\n",
            "\n",
            "\n",
            "Model: movement and Actual Answer: exercise\n"
          ]
        },
        {
          "output_type": "stream",
          "name": "stderr",
          "text": [
            " 12%|█▏        | 150/1221 [00:29<03:27,  5.15it/s]"
          ]
        },
        {
          "output_type": "stream",
          "name": "stdout",
          "text": [
            "Q: What will a person going for a jog likely be wearing?\n",
            "O: grope /// acknowledgment /// comfortable clothes /// ipod /// passionate kisses\n",
            "A:  comfortable clothes pants pants pants pants pants pants pants pants\n",
            "\n",
            "\n",
            "Model: comfortable clothes pants pants pants pants pants pants pants pants and Actual Answer: comfortable clothes\n",
            "Q: The child pretended he was reading newspaper, he couldn't actually do it without what?\n",
            "O: patience /// falling down /// literacy /// buying /// knowing how to read\n",
            "A:  reading newspaper /// reading newspaper\n",
            "\n",
            "\n",
            "Model: reading newspaper and Actual Answer: knowing how to read\n"
          ]
        },
        {
          "output_type": "stream",
          "name": "stderr",
          "text": [
            " 12%|█▏        | 152/1221 [00:29<03:26,  5.18it/s]"
          ]
        },
        {
          "output_type": "stream",
          "name": "stdout",
          "text": [
            "Q: Jenny enjoyed helping people.  It brought her a great deal of what?\n",
            "O: satisfaction /// complications /// train /// feel good about yourself /// enjoyment\n",
            "A:  satisfaction with yourself about yourself and enjoyment of yourself and\n",
            "\n",
            "\n",
            "Model: satisfaction with yourself about yourself and enjoyment of yourself and and Actual Answer: satisfaction\n",
            "Q: What might someone believe in if they are cleaning clothes?\n",
            "O: feminism /// sanitation /// ruined /// wrinkles /// buttons to fall off\n",
            "A:  wrinkles to fall off of buttons to fall off of\n",
            "\n",
            "\n",
            "Model: wrinkles to fall off of buttons to fall off of and Actual Answer: sanitation\n"
          ]
        },
        {
          "output_type": "stream",
          "name": "stderr",
          "text": [
            " 13%|█▎        | 154/1221 [00:30<03:26,  5.17it/s]"
          ]
        },
        {
          "output_type": "stream",
          "name": "stdout",
          "text": [
            "Q: Where would you find a basement that can be accessed with an elevator?\n",
            "O: eat cake /// closet /// church /// office building /// own house\n",
            "A:  church building building building building building building building building building\n",
            "\n",
            "\n",
            "Model: church building building building building building building building building building and Actual Answer: office building\n",
            "Q: In order to learn to program from another person you can do what?\n",
            "O: learn how to /// have a friend /// knowledge /// take class /// have computer\n",
            "A:  learn how to program from another person's friend's\n",
            "\n",
            "\n",
            "Model: learn how to program from another person's friend's and Actual Answer: take class\n"
          ]
        },
        {
          "output_type": "stream",
          "name": "stderr",
          "text": [
            " 13%|█▎        | 156/1221 [00:30<03:26,  5.16it/s]"
          ]
        },
        {
          "output_type": "stream",
          "name": "stdout",
          "text": [
            "Q: He was at the gym trying to build muscle, what is it called that he is trying to build muscle on?\n",
            "O: body of animal /// arm /// bodybuilder /// body of dog /// human body\n",
            "A:  body of animal body of animal body of animal body\n",
            "\n",
            "\n",
            "Model: body of animal body of animal body of animal body and Actual Answer: human body\n",
            "Q: What part of plants is pretty?\n",
            "O: dirt /// no neurons in /// millions of cells /// flowers on /// roots\n",
            "A:  roots on roots on roots on roots on roots on\n",
            "\n",
            "\n",
            "Model: roots on roots on roots on roots on roots on and Actual Answer: flowers on\n"
          ]
        },
        {
          "output_type": "stream",
          "name": "stderr",
          "text": [
            " 13%|█▎        | 158/1221 [00:30<03:26,  5.16it/s]"
          ]
        },
        {
          "output_type": "stream",
          "name": "stdout",
          "text": [
            "Q: The man was going fishing instead of work, what is he seeking?\n",
            "O: food /// relaxation /// killing /// missing morning cartoons /// boredom\n",
            "A:  boredom cartoons cartoons cartoons /// boredom cartoons\n",
            "\n",
            "\n",
            "Model: boredom cartoons cartoons cartoons and Actual Answer: relaxation\n",
            "Q: What could you get an unsmooth pit from?\n",
            "O: backyard /// rock /// mine /// cherry /// peach\n",
            "A:  peach peach peach peach peach peach peach peach peach peach\n",
            "\n",
            "\n",
            "Model: peach peach peach peach peach peach peach peach peach peach and Actual Answer: peach\n"
          ]
        },
        {
          "output_type": "stream",
          "name": "stderr",
          "text": [
            " 13%|█▎        | 160/1221 [00:31<03:27,  5.12it/s]"
          ]
        },
        {
          "output_type": "stream",
          "name": "stdout",
          "text": [
            "Q: The man tried to reply to the woman, but he had difficulty keeping track of conversations that he didn't do what to?\n",
            "O: initiate /// ignore /// question /// answer /// ask\n",
            "A:  answer\n",
            "\n",
            "\n",
            "Model: answer and Actual Answer: initiate\n",
            "Q: I couldn't find anybody who recalled the event, what were they adroit at doing?\n",
            "O: question authority /// act fool /// wash dishes /// act innocent /// forget\n",
            "A:  act foolery act foolery act foolery act\n",
            "\n",
            "\n",
            "Model: act foolery act foolery act foolery act and Actual Answer: forget\n"
          ]
        },
        {
          "output_type": "stream",
          "name": "stderr",
          "text": [
            " 13%|█▎        | 162/1221 [00:31<03:24,  5.18it/s]"
          ]
        },
        {
          "output_type": "stream",
          "name": "stdout",
          "text": [
            "Q: Where would you find a large dining room containing a fancy chandelier?\n",
            "O: mansion /// every house /// own home /// table /// restaurant\n",
            "A:  every house house house house house house house house house\n",
            "\n",
            "\n",
            "Model: every house house house house house house house house house and Actual Answer: mansion\n",
            "Q: The extremely large cargo plane could only land at a specialized runway, these were only located at a what?\n",
            "O: back yard /// bowling alley /// city /// military base /// fashion show\n",
            "A:  military base base\n",
            "\n",
            "\n",
            "Model: military base base and Actual Answer: military base\n"
          ]
        },
        {
          "output_type": "stream",
          "name": "stderr",
          "text": [
            " 13%|█▎        | 164/1221 [00:32<03:23,  5.19it/s]"
          ]
        },
        {
          "output_type": "stream",
          "name": "stdout",
          "text": [
            "Q: The carpet was smelly and discouraged the league from playing there, where was this smelly carpet installed?\n",
            "O: bedroom /// movie theater /// bowling alley /// church /// office\n",
            "A:  bowling alley alley alley alley alley alley alley alley alley\n",
            "\n",
            "\n",
            "Model: bowling alley alley alley alley alley alley alley alley alley and Actual Answer: bowling alley\n",
            "Q: How can someone be let into a brownstone?\n",
            "O: brooklyn /// ring /// subdivision /// bricks /// new york city\n",
            "A:  brooklyn city city city city city city city\n",
            "\n",
            "\n",
            "Model: brooklyn city city city city city city city and Actual Answer: ring\n"
          ]
        },
        {
          "output_type": "stream",
          "name": "stderr",
          "text": [
            " 14%|█▎        | 166/1221 [00:32<03:22,  5.21it/s]"
          ]
        },
        {
          "output_type": "stream",
          "name": "stdout",
          "text": [
            "Q: Where would someone purchase an upright piano?\n",
            "O: music class /// college /// music store /// music room /// music band\n",
            "A:  music class room room room room room room room music\n",
            "\n",
            "\n",
            "Model: music class room room room room room room room music and Actual Answer: music store\n",
            "Q: Where would you keep an ottoman near your front door?\n",
            "O: living room /// parlor /// furniture store /// basement /// kitchen\n",
            "A:  kitchen cabinet store basement basement basement basement basement basement basement\n",
            "\n",
            "\n",
            "Model: kitchen cabinet store basement basement basement basement basement basement basement and Actual Answer: living room\n"
          ]
        },
        {
          "output_type": "stream",
          "name": "stderr",
          "text": [
            " 14%|█▍        | 168/1221 [00:32<03:21,  5.22it/s]"
          ]
        },
        {
          "output_type": "stream",
          "name": "stdout",
          "text": [
            "Q: Diving into backyard pools can be very dangerous and can lead to serious head and what?\n",
            "O: going somewhere /// splats /// cancer /// getting wet /// spinal injuries\n",
            "A:  spinal injuries caused by spinal injuries caused by spinal injuries\n",
            "\n",
            "\n",
            "Model: spinal injuries caused by spinal injuries caused by spinal injuries and Actual Answer: spinal injuries\n",
            "Q: Where would one find a snake in a cage?\n",
            "O: tropical forest /// oregon /// woods /// pet store /// louisiana\n",
            "A:  louisiana louisiana louisiana lou\n",
            "\n",
            "\n",
            "Model: louisiana louisiana louisiana lou and Actual Answer: pet store\n"
          ]
        },
        {
          "output_type": "stream",
          "name": "stderr",
          "text": [
            " 14%|█▍        | 170/1221 [00:33<03:20,  5.24it/s]"
          ]
        },
        {
          "output_type": "stream",
          "name": "stdout",
          "text": [
            "Q: Where are people likely to become impatient?\n",
            "O: end of line /// buildings /// apartment /// neighbor's house /// address\n",
            "A:  neighbor's house building building building building building building building\n",
            "\n",
            "\n",
            "Model: neighbor's house building building building building building building building and Actual Answer: end of line\n",
            "Q: When you fail to finish something, you failed at doing what to it\n",
            "O: winning /// passing /// completing /// do well /// succeeding\n",
            "A:  succeeding at doing well at doing well at doing well\n",
            "\n",
            "\n",
            "Model: succeeding at doing well at doing well at doing well and Actual Answer: completing\n"
          ]
        },
        {
          "output_type": "stream",
          "name": "stderr",
          "text": [
            " 14%|█▍        | 172/1221 [00:33<03:20,  5.24it/s]"
          ]
        },
        {
          "output_type": "stream",
          "name": "stdout",
          "text": [
            "Q: John didn't care about style.  He felt that form was less important than what?\n",
            "O: shapeless /// quality /// function /// change shape /// chaos\n",
            "A:  quality of shape is less important than what? \n",
            "\n",
            "\n",
            "Model: quality of shape is less important than what? and Actual Answer: function\n",
            "Q: When you get together with friends to watch film, you might do plenty of this?\n",
            "O: see what happens /// enjoy stories /// pass time /// have fun /// interesting\n",
            "A:  enjoy stories happening to people who enjoy stories happening to\n",
            "\n",
            "\n",
            "Model: enjoy stories happening to people who enjoy stories happening to and Actual Answer: have fun\n"
          ]
        },
        {
          "output_type": "stream",
          "name": "stderr",
          "text": [
            " 14%|█▍        | 174/1221 [00:33<03:18,  5.26it/s]"
          ]
        },
        {
          "output_type": "stream",
          "name": "stdout",
          "text": [
            "Q: A supermarket is uncommon in what type of collection of shops?\n",
            "O: strip mall /// city or town /// shoppingcentre /// boutique /// vermont\n",
            "A:  shopping centre or town or town or town or town\n",
            "\n",
            "\n",
            "Model: shopping centre or town or town or town or town and Actual Answer: strip mall\n",
            "Q: Bill puts meat on the scale, where does Bill work?\n",
            "O: music store /// assay office /// tidal wave /// butcher shop /// bathroom\n",
            "A:  music store office store office store office store office store\n",
            "\n",
            "\n",
            "Model: music store office store office store office store office store and Actual Answer: butcher shop\n"
          ]
        },
        {
          "output_type": "stream",
          "name": "stderr",
          "text": [
            " 14%|█▍        | 176/1221 [00:34<03:20,  5.21it/s]"
          ]
        },
        {
          "output_type": "stream",
          "name": "stdout",
          "text": [
            "Q: I'm having some food at my party, what will I need to serve it?\n",
            "O: zoo /// pan /// bowl /// kitchen /// spoon\n",
            "A:  bowl of soup of soup of soup of soup of\n",
            "\n",
            "\n",
            "Model: bowl of soup of soup of soup of soup of and Actual Answer: spoon\n",
            "Q: Before racers start to run they must do what at the starting line?\n",
            "O: learn to walk /// walking /// walk slowly /// breathe /// stand still\n",
            "A:  walk slowly and walk slowly and walk slowly and walk\n",
            "\n",
            "\n",
            "Model: walk slowly and walk slowly and walk slowly and walk and Actual Answer: stand still\n"
          ]
        },
        {
          "output_type": "stream",
          "name": "stderr",
          "text": [
            " 15%|█▍        | 178/1221 [00:34<03:21,  5.18it/s]"
          ]
        },
        {
          "output_type": "stream",
          "name": "stdout",
          "text": [
            "Q: What does an actor do when they are bored of their roles?\n",
            "O: mask /// branch out /// wear costume /// pretend /// sing songs\n",
            "A:  pretend songs and pretend songs and pretend songs and pretend\n",
            "\n",
            "\n",
            "Model: pretend songs and pretend songs and pretend songs and pretend and Actual Answer: branch out\n",
            "Q: What is a person called who doesn't have immortality?\n",
            "O: mortal /// dying /// death /// dead /// mortal\n",
            "A:  mortal body body body body body body body body body\n",
            "\n",
            "\n",
            "Model: mortal body body body body body body body body body and Actual Answer: mortal\n"
          ]
        },
        {
          "output_type": "stream",
          "name": "stderr",
          "text": [
            " 15%|█▍        | 180/1221 [00:35<03:21,  5.18it/s]"
          ]
        },
        {
          "output_type": "stream",
          "name": "stdout",
          "text": [
            "Q: Why would you be watching tv instead of doing something else?\n",
            "O: headache /// laughter /// laziness /// erections /// wasting time\n",
            "A:  wasting time /// wasting time /// wasting time\n",
            "\n",
            "\n",
            "Model: wasting time and Actual Answer: laziness\n",
            "Q: If chewing food is difficult for you, what is a possible reason?\n",
            "O: broken jaw /// sore mouth /// eating /// good digestion /// avoiding choking\n",
            "A:  bad digestion /// bad digestion /// bad digestion\n",
            "\n",
            "\n",
            "Model: bad digestion and Actual Answer: sore mouth\n"
          ]
        },
        {
          "output_type": "stream",
          "name": "stderr",
          "text": [
            " 15%|█▍        | 182/1221 [00:35<03:21,  5.16it/s]"
          ]
        },
        {
          "output_type": "stream",
          "name": "stdout",
          "text": [
            "Q: He had to wear a tuxedo while playing the keyboard instrument, so did the other hundred members of the what?\n",
            "O: music store /// band /// medium /// orchestra /// piano store\n",
            "A:  orchestra store store /// orchestra store store\n",
            "\n",
            "\n",
            "Model: orchestra store store and Actual Answer: orchestra\n",
            "Q: Where do you find the most amount of leafs?\n",
            "O: floral arrangement /// ground /// forrest /// field /// compost pile\n",
            "A:  compost pile pile pile pile pile pile pile pile pile\n",
            "\n",
            "\n",
            "Model: compost pile pile pile pile pile pile pile pile pile and Actual Answer: forrest\n"
          ]
        },
        {
          "output_type": "stream",
          "name": "stderr",
          "text": [
            " 15%|█▌        | 184/1221 [00:35<03:18,  5.22it/s]"
          ]
        },
        {
          "output_type": "stream",
          "name": "stdout",
          "text": [
            "Q: Where can children play with animals?\n",
            "O: meadow /// play room /// surface of earth /// zoos /// fairgrounds\n",
            "A:  play room area of earth earth earth earth earth earth\n",
            "\n",
            "\n",
            "Model: play room area of earth earth earth earth earth earth and Actual Answer: fairgrounds\n",
            "Q: What kind of tale might feature a talking weasel?\n",
            "O: mulberry bush /// animated film /// chicken coop /// history book /// children's story\n",
            "A:  children's story book story book story book book book\n",
            "\n",
            "\n",
            "Model: children's story book story book story book book book and Actual Answer: children's story\n"
          ]
        },
        {
          "output_type": "stream",
          "name": "stderr",
          "text": [
            " 15%|█▌        | 186/1221 [00:36<03:17,  5.23it/s]"
          ]
        },
        {
          "output_type": "stream",
          "name": "stdout",
          "text": [
            "Q: What kind of status is the bald eagle given?\n",
            "O: outside /// world /// protection /// colorado /// america\n",
            "A:  protection against enemy enemy enemy enemy enemy enemy enemy enemy\n",
            "\n",
            "\n",
            "Model: protection against enemy enemy enemy enemy enemy enemy enemy enemy and Actual Answer: protection\n",
            "Q: Why do most people take a quick rest during the day?\n",
            "O: need to /// hungry /// feel more energetic /// weak /// regenerate\n",
            "A:  need to rest during the day to feel more energetic\n",
            "\n",
            "\n",
            "Model: need to rest during the day to feel more energetic and Actual Answer: feel more energetic\n"
          ]
        },
        {
          "output_type": "stream",
          "name": "stderr",
          "text": [
            " 15%|█▌        | 188/1221 [00:36<03:18,  5.21it/s]"
          ]
        },
        {
          "output_type": "stream",
          "name": "stdout",
          "text": [
            "Q: What could suddenly stop someone when he or she is running?\n",
            "O: mushroom /// falling down /// sweating /// exhaustion /// getting tired\n",
            "A:  exhaustion or sweating down down down down down down down\n",
            "\n",
            "\n",
            "Model: exhaustion or sweating down down down down down down down and Actual Answer: falling down\n",
            "Q: Where would you find a monkey in the wild?\n",
            "O: zoo /// barrel /// research laboratory /// captivity /// thailand\n",
            "A:  zoo zoo zoo zoo zoo zoo zoo zoo zoo zoo\n",
            "\n",
            "\n",
            "Model: zoo zoo zoo zoo zoo zoo zoo zoo zoo zoo and Actual Answer: thailand\n"
          ]
        },
        {
          "output_type": "stream",
          "name": "stderr",
          "text": [
            " 16%|█▌        | 190/1221 [00:37<03:19,  5.17it/s]"
          ]
        },
        {
          "output_type": "stream",
          "name": "stdout",
          "text": [
            "Q: Where could a sloth live?\n",
            "O: tropical jungle /// manual /// work /// transit /// countryside\n",
            "A:  countryside area of countryside of countryside of countryside of countryside\n",
            "\n",
            "\n",
            "Model: countryside area of countryside of countryside of countryside of countryside and Actual Answer: tropical jungle\n",
            "Q: A gentleman is carrying equipment for golf, what is he likely to have?\n",
            "O: club /// assembly hall /// meditation center /// meeting /// church\n",
            "A:  meeting hall hall hall hall hall hall hall hall hall\n",
            "\n",
            "\n",
            "Model: meeting hall hall hall hall hall hall hall hall hall and Actual Answer: club\n"
          ]
        },
        {
          "output_type": "stream",
          "name": "stderr",
          "text": [
            " 16%|█▌        | 192/1221 [00:37<03:19,  5.15it/s]"
          ]
        },
        {
          "output_type": "stream",
          "name": "stdout",
          "text": [
            "Q: If you have a home with a courtyard, what's one thing you probably don't have to care for any longer?\n",
            "O: lawn /// kids /// asshole /// spain /// office complex\n",
            "A:  kids office complex /// kids office complex\n",
            "\n",
            "\n",
            "Model: kids office complex and Actual Answer: lawn\n",
            "Q: The computer was difficult for he to understand at the store, so what did she sign up for to learn more?\n",
            "O: classroom /// facebook /// school /// apartment /// demonstration\n",
            "A:  school classroom /// school classroom /// school classroom\n",
            "\n",
            "\n",
            "Model: school classroom and Actual Answer: demonstration\n"
          ]
        },
        {
          "output_type": "stream",
          "name": "stderr",
          "text": [
            " 16%|█▌        | 194/1221 [00:37<03:17,  5.20it/s]"
          ]
        },
        {
          "output_type": "stream",
          "name": "stdout",
          "text": [
            "Q: If you take the risk buying a used car, you still hope it can what?\n",
            "O: go fast /// start running /// going too fast /// look good /// last several years\n",
            "A:  go fast and run fast and run fast and run\n",
            "\n",
            "\n",
            "Model: go fast and run fast and run fast and run and Actual Answer: last several years\n",
            "Q: Dan was ditting quietly on the couch with a book in his hand.  Laurie thought that he was just focused on what he was doing, but he actually did what?\n",
            "O: eat /// think /// reading /// meditate /// fall asleep\n",
            "A:  meditate\n",
            "\n",
            "\n",
            "Model: meditate and Actual Answer: fall asleep\n"
          ]
        },
        {
          "output_type": "stream",
          "name": "stderr",
          "text": [
            " 16%|█▌        | 196/1221 [00:38<03:16,  5.21it/s]"
          ]
        },
        {
          "output_type": "stream",
          "name": "stdout",
          "text": [
            "Q: What is the primary purpose of cars?\n",
            "O: cost money /// slow down /// move people /// turn right /// get girls\n",
            "A:  cost money /// cost money /// cost money\n",
            "\n",
            "\n",
            "Model: cost money and Actual Answer: move people\n",
            "Q: Alabama is full of different people, but they are all citizens of what?\n",
            "O: united states /// deep south /// floribama /// gulf states /// florabama\n",
            "A:  united states united states united states united states united states\n",
            "\n",
            "\n",
            "Model: united states united states united states united states united states and Actual Answer: united states\n"
          ]
        },
        {
          "output_type": "stream",
          "name": "stderr",
          "text": [
            " 16%|█▌        | 198/1221 [00:38<03:19,  5.12it/s]"
          ]
        },
        {
          "output_type": "stream",
          "name": "stdout",
          "text": [
            "Q: They were hoping their campaign would create a rise in awareness of the problem and hopefully do what to its effect?\n",
            "O: set /// fall /// park /// descend /// reduce\n",
            "A:  fall down down down down down down down down down\n",
            "\n",
            "\n",
            "Model: fall down down down down down down down down down and Actual Answer: reduce\n",
            "Q: What do airplanes do as they are arriving at the gate?\n",
            "O: slow down /// crash /// speed up /// land /// carry people\n",
            "A:  slow down down down down down down down down down\n",
            "\n",
            "\n",
            "Model: slow down down down down down down down down down and Actual Answer: slow down\n"
          ]
        },
        {
          "output_type": "stream",
          "name": "stderr",
          "text": [
            " 16%|█▋        | 200/1221 [00:38<03:18,  5.14it/s]"
          ]
        },
        {
          "output_type": "stream",
          "name": "stdout",
          "text": [
            "Q: If a person with mental illness stops treatment what will likely happen?\n",
            "O: managed /// dancing /// recur /// effectively treated /// cause suffering\n",
            "A:  cause suffering suffering suffering suffering suffering suffering suffering suffering suffering\n",
            "\n",
            "\n",
            "Model: cause suffering suffering suffering suffering suffering suffering suffering suffering suffering and Actual Answer: recur\n",
            "Q: The gimmicky low brow TV show was about animals when they what?\n",
            "O: sick /// mammals /// males /// bite /// attack\n",
            "A:  males bite /// males bite /// males bite\n",
            "\n",
            "\n",
            "Model: males bite and Actual Answer: attack\n"
          ]
        },
        {
          "output_type": "stream",
          "name": "stderr",
          "text": [
            " 17%|█▋        | 202/1221 [00:39<03:16,  5.19it/s]"
          ]
        },
        {
          "output_type": "stream",
          "name": "stdout",
          "text": [
            "Q: A loud machine is irritating, but many are expected where?\n",
            "O: museum /// house /// laboratory /// library /// industrial area\n",
            "A:  laboratory area /// laboratory area\n",
            "\n",
            "\n",
            "Model: laboratory area and Actual Answer: industrial area\n",
            "Q: What part of a table would you put a ruler in?\n",
            "O: drawer /// desk /// the backside /// office /// measure distance\n",
            "A:  desk drawer drawer drawer drawer drawer drawer drawer drawer drawer\n",
            "\n",
            "\n",
            "Model: desk drawer drawer drawer drawer drawer drawer drawer drawer drawer and Actual Answer: drawer\n"
          ]
        },
        {
          "output_type": "stream",
          "name": "stderr",
          "text": [
            " 17%|█▋        | 204/1221 [00:39<03:12,  5.30it/s]"
          ]
        },
        {
          "output_type": "stream",
          "name": "stdout",
          "text": [
            "Q: What happens if someone kisses too long?\n",
            "O: strong feelings /// herpes /// shortness of breath /// excitement /// arousal\n",
            "A:  excitement of breath /// excitement of breath /// excitement of\n",
            "\n",
            "\n",
            "Model: excitement of breath and Actual Answer: shortness of breath\n",
            "Q: If I have a modern light source in my living room, what is it likely to be?\n",
            "O: sky /// house /// lamp /// match /// candle\n",
            "A:  lamp light source in my living room /// lamp\n",
            "\n",
            "\n",
            "Model: lamp light source in my living room and Actual Answer: lamp\n"
          ]
        },
        {
          "output_type": "stream",
          "name": "stderr",
          "text": [
            " 17%|█▋        | 206/1221 [00:40<03:10,  5.32it/s]"
          ]
        },
        {
          "output_type": "stream",
          "name": "stdout",
          "text": [
            "Q: The person saw the mess his children made, what was his following reaction?\n",
            "O: smell smoke /// cross street /// cry /// bank savings /// look angry\n",
            "A:  look angry at smoke smoke extingueous smoke exting\n",
            "\n",
            "\n",
            "Model: look angry at smoke smoke extingueous smoke exting and Actual Answer: look angry\n",
            "Q: Who might wear dark glasses indoors?\n",
            "O: blind person /// glove box /// movie studio /// ray charles /// glove compartment\n",
            "A:  blind person's box box office studio studio studio studio\n",
            "\n",
            "\n",
            "Model: blind person's box box office studio studio studio studio and Actual Answer: blind person\n"
          ]
        },
        {
          "output_type": "stream",
          "name": "stderr",
          "text": [
            " 17%|█▋        | 208/1221 [00:40<03:11,  5.30it/s]"
          ]
        },
        {
          "output_type": "stream",
          "name": "stdout",
          "text": [
            "Q: Where would stones not be arranged in a path?\n",
            "O: quarries /// field /// park /// bridge /// made from rocks\n",
            "A:  quarries /// quarries /// quarries\n",
            "\n",
            "\n",
            "Model: quarries and Actual Answer: field\n",
            "Q: A bald eagle is likely to be found on what kind of work?\n",
            "O: rural area /// book /// canada /// painting /// aviary\n",
            "A:  rural area area area area area area area area area\n",
            "\n",
            "\n",
            "Model: rural area area area area area area area area area and Actual Answer: painting\n"
          ]
        },
        {
          "output_type": "stream",
          "name": "stderr",
          "text": [
            " 17%|█▋        | 210/1221 [00:40<03:11,  5.29it/s]"
          ]
        },
        {
          "output_type": "stream",
          "name": "stdout",
          "text": [
            "Q: The hostess was good at her job, she always had a smile when she would what?\n",
            "O: group people /// ready parlor for guests /// welcome guests /// work room /// park\n",
            "A:  group people for guests for guests for guests for guests\n",
            "\n",
            "\n",
            "Model: group people for guests for guests for guests for guests and Actual Answer: welcome guests\n",
            "Q: What is likely to happen to someone who is learning?\n",
            "O: overconfidence /// effectiveness /// knowing more /// head grows larger /// growth\n",
            "A:  growth larger size larger size larger size larger size larger\n",
            "\n",
            "\n",
            "Model: growth larger size larger size larger size larger size larger and Actual Answer: knowing more\n"
          ]
        },
        {
          "output_type": "stream",
          "name": "stderr",
          "text": [
            " 17%|█▋        | 212/1221 [00:41<03:12,  5.25it/s]"
          ]
        },
        {
          "output_type": "stream",
          "name": "stdout",
          "text": [
            "Q: The inspector was agreeing with the factory protocols, what was the status of the factory?\n",
            "O: compliance /// eligible /// contract /// harmony /// friendship\n",
            "A:  compliance with contract /// agreement with contract with contract\n",
            "\n",
            "\n",
            "Model: compliance with contract and Actual Answer: compliance\n",
            "Q: After standing up I had to sit right back down, why would I feel like this?\n",
            "O: train /// effort /// balance /// feet /// muscles\n",
            "A:  muscles muscles muscles muscles muscles muscles muscles muscles muscles muscles\n",
            "\n",
            "\n",
            "Model: muscles muscles muscles muscles muscles muscles muscles muscles muscles muscles and Actual Answer: balance\n"
          ]
        },
        {
          "output_type": "stream",
          "name": "stderr",
          "text": [
            " 18%|█▊        | 214/1221 [00:41<03:10,  5.30it/s]"
          ]
        },
        {
          "output_type": "stream",
          "name": "stdout",
          "text": [
            "Q: Where do you go on a night out before going to the bar?\n",
            "O: new york city /// las vegas /// restaurant /// nightclub /// park\n",
            "A:  new york city city city city city city city\n",
            "\n",
            "\n",
            "Model: new york city city city city city city city and Actual Answer: restaurant\n",
            "Q: The dad wanted to protect his house, where did he put his gun?\n",
            "O: police station /// crime scene /// restroom /// drawer /// holster\n",
            "A:  police station station station station station station station station station\n",
            "\n",
            "\n",
            "Model: police station station station station station station station station station and Actual Answer: drawer\n"
          ]
        },
        {
          "output_type": "stream",
          "name": "stderr",
          "text": [
            " 18%|█▊        | 216/1221 [00:42<03:08,  5.33it/s]"
          ]
        },
        {
          "output_type": "stream",
          "name": "stdout",
          "text": [
            "Q: What instrument can be played with an air of happiness?\n",
            "O: jump up and down /// jump up and down /// sing /// play games /// fiddle\n",
            "A:  jump up and down and down down down down and\n",
            "\n",
            "\n",
            "Model: jump up and down and down down down down and and Actual Answer: fiddle\n",
            "Q: What to kids do for boredom on a ramp?\n",
            "O: watch film /// fire game /// hang out at bar /// go skiing /// skateboard\n",
            "A:  go skiing skiing while skiing while skiing while skiing while\n",
            "\n",
            "\n",
            "Model: go skiing skiing while skiing while skiing while skiing while and Actual Answer: skateboard\n"
          ]
        },
        {
          "output_type": "stream",
          "name": "stderr",
          "text": [
            " 18%|█▊        | 218/1221 [00:42<03:10,  5.28it/s]"
          ]
        },
        {
          "output_type": "stream",
          "name": "stdout",
          "text": [
            "Q: What animal has quills all over it?\n",
            "O: feather /// chicken /// calligraphy /// porcupine /// hedgehog\n",
            "A:  porcupine calligraphy is a porcup\n",
            "\n",
            "\n",
            "Model: porcupine calligraphy is a porcup and Actual Answer: hedgehog\n",
            "Q: Why would you go to an office?\n",
            "O: work /// school building /// paper /// city /// habit\n",
            "A:  school building building building building building building building building building\n",
            "\n",
            "\n",
            "Model: school building building building building building building building building building and Actual Answer: work\n"
          ]
        },
        {
          "output_type": "stream",
          "name": "stderr",
          "text": [
            " 18%|█▊        | 220/1221 [00:42<03:10,  5.26it/s]"
          ]
        },
        {
          "output_type": "stream",
          "name": "stdout",
          "text": [
            "Q: When is the worst time for having food?\n",
            "O: digesting /// not hungry /// gas /// weight gain /// feeling of fullness\n",
            "A:  digesting food while eating food while eating food while\n",
            "\n",
            "\n",
            "Model: digesting food while eating food while eating food while and Actual Answer: not hungry\n",
            "Q: If you spend all your time buying and not saving what is is likely to happen?\n",
            "O: using money /// feel better /// ocean /// losing money /// go broke\n",
            "A:  losing money in money in money in money in money\n",
            "\n",
            "\n",
            "Model: losing money in money in money in money in money and Actual Answer: go broke\n"
          ]
        },
        {
          "output_type": "stream",
          "name": "stderr",
          "text": [
            " 18%|█▊        | 222/1221 [00:43<03:10,  5.25it/s]"
          ]
        },
        {
          "output_type": "stream",
          "name": "stdout",
          "text": [
            "Q: Though a mouse might prefer your house, you might also see him where?\n",
            "O: tin /// department store /// garden /// small hole /// cupboard\n",
            "A:  garden garden garden garden garden garden garden garden garden garden\n",
            "\n",
            "\n",
            "Model: garden garden garden garden garden garden garden garden garden garden and Actual Answer: garden\n",
            "Q: What is performing a type of?\n",
            "O: singing /// act /// feat /// smile /// acting\n",
            "A:  acting a type of act a type of act a\n",
            "\n",
            "\n",
            "Model: acting a type of act a type of act a and Actual Answer: act\n"
          ]
        },
        {
          "output_type": "stream",
          "name": "stderr",
          "text": [
            " 18%|█▊        | 224/1221 [00:43<03:09,  5.26it/s]"
          ]
        },
        {
          "output_type": "stream",
          "name": "stdout",
          "text": [
            "Q: The car was going from Alabama to New York, what was its goal?\n",
            "O: head north /// speed up /// heading north /// go fast /// headed south\n",
            "A:  heading north north north north north north north north north\n",
            "\n",
            "\n",
            "Model: heading north north north north north north north north north and Actual Answer: head north\n",
            "Q: What do they call the trash in Australia?\n",
            "O: dirt /// subway /// state park /// container /// dustbin\n",
            "A:  trash bin in Australia.  trash bin in Australia\n",
            "\n",
            "\n",
            "Model: trash bin in Australia.  trash bin in Australia and Actual Answer: dustbin\n"
          ]
        },
        {
          "output_type": "stream",
          "name": "stderr",
          "text": [
            " 19%|█▊        | 226/1221 [00:43<03:09,  5.25it/s]"
          ]
        },
        {
          "output_type": "stream",
          "name": "stdout",
          "text": [
            "Q: Joan wants to cook a potato, where should she place it?\n",
            "O: boiling water /// paper bag /// restaurants /// underground /// cupboard\n",
            "A:  cupboard /// cupboard\n",
            "\n",
            "\n",
            "Model: cupboard and Actual Answer: boiling water\n",
            "Q: Writers with a great what can amass a large fortune?\n",
            "O: cookie /// bank /// real estate /// imagination /// bank roll\n",
            "A:  bank roll roll roll roll roll roll roll roll roll\n",
            "\n",
            "\n",
            "Model: bank roll roll roll roll roll roll roll roll roll and Actual Answer: imagination\n"
          ]
        },
        {
          "output_type": "stream",
          "name": "stderr",
          "text": [
            " 19%|█▊        | 228/1221 [00:44<03:10,  5.22it/s]"
          ]
        },
        {
          "output_type": "stream",
          "name": "stdout",
          "text": [
            "Q: Where do all animals live?\n",
            "O: the moon /// fairgrounds /// surface of earth /// meadow /// zoos\n",
            "A:  fairgrounds area of earth earth earth earth earth earth\n",
            "\n",
            "\n",
            "Model: fairgrounds area of earth earth earth earth earth earth and Actual Answer: surface of earth\n",
            "Q: How are the conditions for someone who is living in a homeless shelter?\n",
            "O: sometimes bad /// happy /// respiration /// growing older /// death\n",
            "A:  respirationiration and growth older than usual life longer\n",
            "\n",
            "\n",
            "Model: respirationiration and growth older than usual life longer and Actual Answer: sometimes bad\n"
          ]
        },
        {
          "output_type": "stream",
          "name": "stderr",
          "text": [
            " 19%|█▉        | 230/1221 [00:44<03:07,  5.28it/s]"
          ]
        },
        {
          "output_type": "stream",
          "name": "stdout",
          "text": [
            "Q: You can do knitting to get the feeling of what?\n",
            "O: relaxation /// arthritis /// adrenaline /// your /// sweater may produced\n",
            "A:  relaxation /// relaxation /// relaxation\n",
            "\n",
            "\n",
            "Model: relaxation and Actual Answer: relaxation\n",
            "Q: What might a very large table be?\n",
            "O: dining room /// conference /// kitchen /// in a lake /// demonstration\n",
            "A:  conference room in a lake lake lake lake lake lake\n",
            "\n",
            "\n",
            "Model: conference room in a lake lake lake lake lake lake and Actual Answer: conference\n"
          ]
        },
        {
          "output_type": "stream",
          "name": "stderr",
          "text": [
            " 19%|█▉        | 232/1221 [00:45<03:06,  5.31it/s]"
          ]
        },
        {
          "output_type": "stream",
          "name": "stdout",
          "text": [
            "Q: John got his tax refund back.  He treated it like it was what?\n",
            "O: candy /// death and /// free money /// discount /// credit\n",
            "A:  free money /// free money /// free money\n",
            "\n",
            "\n",
            "Model: free money and Actual Answer: free money\n",
            "Q: A person with an allergy might be doing what if they awake suddenly?\n",
            "O: have fun /// enjoy with friends /// stretch /// yawn /// sneezing\n",
            "A:  yawning with friends while yawning with friends while\n",
            "\n",
            "\n",
            "Model: yawning with friends while yawning with friends while and Actual Answer: sneezing\n"
          ]
        },
        {
          "output_type": "stream",
          "name": "stderr",
          "text": [
            " 19%|█▉        | 234/1221 [00:45<03:05,  5.32it/s]"
          ]
        },
        {
          "output_type": "stream",
          "name": "stdout",
          "text": [
            "Q: Where is a ferret unlikely to be?\n",
            "O: classroom /// outdoors /// aquarium /// north carolina /// great britain\n",
            "A:  aquariums classroom area area area area area area area\n",
            "\n",
            "\n",
            "Model: aquariums classroom area area area area area area area and Actual Answer: classroom\n",
            "Q: If you jump in any of the oceans you will get?\n",
            "O: tanned /// wet /// wide /// very deep /// fish\n",
            "A:  very deep water water water water water water water water\n",
            "\n",
            "\n",
            "Model: very deep water water water water water water water water and Actual Answer: wet\n"
          ]
        },
        {
          "output_type": "stream",
          "name": "stderr",
          "text": [
            " 19%|█▉        | 236/1221 [00:45<03:07,  5.26it/s]"
          ]
        },
        {
          "output_type": "stream",
          "name": "stdout",
          "text": [
            "Q: Immediately after peeing, a person's bladder is what?\n",
            "O: collapsed /// empty /// full /// filled /// stretchable\n",
            "A:  empty filled with urine tissable tissable tissable\n",
            "\n",
            "\n",
            "Model: empty filled with urine tissable tissable tissable and Actual Answer: empty\n",
            "Q: The lady would eat and eat, and because of mental issues would then make herself what?\n",
            "O: wash dishes /// throwing up /// drinking /// throw up /// turn inside out\n",
            "A:  drink water and drink water and drink water and drink\n",
            "\n",
            "\n",
            "Model: drink water and drink water and drink water and drink and Actual Answer: throw up\n"
          ]
        },
        {
          "output_type": "stream",
          "name": "stderr",
          "text": [
            " 19%|█▉        | 238/1221 [00:46<03:08,  5.22it/s]"
          ]
        },
        {
          "output_type": "stream",
          "name": "stdout",
          "text": [
            "Q: A car was hailed to chauffeur someone to the opera house, where was it heading?\n",
            "O: go downtown /// appear suddenly /// go fast /// bottom out /// east\n",
            "A:  east east east east east east east east east east\n",
            "\n",
            "\n",
            "Model: east east east east east east east east east east and Actual Answer: go downtown\n",
            "Q: What do you go to see for live entertainment?\n",
            "O: movie /// show /// concert venue /// casino /// theatre\n",
            "A:  movie venue venue venue venue venue venue venue venue venue\n",
            "\n",
            "\n",
            "Model: movie venue venue venue venue venue venue venue venue venue and Actual Answer: show\n"
          ]
        },
        {
          "output_type": "stream",
          "name": "stderr",
          "text": [
            " 20%|█▉        | 240/1221 [00:46<03:08,  5.21it/s]"
          ]
        },
        {
          "output_type": "stream",
          "name": "stdout",
          "text": [
            "Q: The teacher thought that a ferret can be very mischievous and probably wouldn't make a great pet for the entire what?\n",
            "O: bad mood /// hutch /// classroom /// pair of trousers /// year\n",
            "A:  classroom classroom classroom classroom classroom classroom classroom classroom classroom classroom\n",
            "\n",
            "\n",
            "Model: classroom classroom classroom classroom classroom classroom classroom classroom classroom classroom and Actual Answer: classroom\n",
            "Q: A creek is a body of water found in what low land?\n",
            "O: forest /// valley /// outdoors /// countryside /// woods\n",
            "A:  countryside countryside countryside countryside countryside countryside countryside countryside countryside countryside\n",
            "\n",
            "\n",
            "Model: countryside countryside countryside countryside countryside countryside countryside countryside countryside countryside and Actual Answer: valley\n"
          ]
        },
        {
          "output_type": "stream",
          "name": "stderr",
          "text": [
            " 20%|█▉        | 242/1221 [00:46<03:08,  5.19it/s]"
          ]
        },
        {
          "output_type": "stream",
          "name": "stdout",
          "text": [
            "Q: If I have a pet bird, what does it likely live in?\n",
            "O: forest /// bathroom /// windowsill /// countryside /// cage\n",
            "A:  countryside area of countryside of countryside of countryside of countryside\n",
            "\n",
            "\n",
            "Model: countryside area of countryside of countryside of countryside of countryside and Actual Answer: cage\n",
            "Q: Joe and Mac were playing basketball. They did it every day in their back yard.  Why were they playing basketball?\n",
            "O: study /// have fun /// pain /// cheers /// knee injury\n",
            "A:  have fun with fun with fun with fun. \n",
            "\n",
            "\n",
            "Model: have fun with fun with fun with fun. and Actual Answer: have fun\n"
          ]
        },
        {
          "output_type": "stream",
          "name": "stderr",
          "text": [
            " 20%|█▉        | 244/1221 [00:47<03:08,  5.19it/s]"
          ]
        },
        {
          "output_type": "stream",
          "name": "stdout",
          "text": [
            "Q: What makes someone a nomad?\n",
            "O: unpleasant things /// hangnail /// have no home /// have no car /// schizophrenia\n",
            "A:  have no home car car car car car car car\n",
            "\n",
            "\n",
            "Model: have no home car car car car car car car and Actual Answer: have no home\n",
            "Q: What is a treat that you dog will enjoy?\n",
            "O: salad /// petted /// affection /// bone /// lots of attention\n",
            "A:  petted bone bone bone bone bone meal meal meal\n",
            "\n",
            "\n",
            "Model: petted bone bone bone bone bone meal meal meal and Actual Answer: bone\n"
          ]
        },
        {
          "output_type": "stream",
          "name": "stderr",
          "text": [
            " 20%|██        | 246/1221 [00:47<03:09,  5.15it/s]"
          ]
        },
        {
          "output_type": "stream",
          "name": "stdout",
          "text": [
            "Q: Women used to be expected to wear a dress but it's now acceptable for them to wear what?\n",
            "O: man suit /// pants /// naked /// action /// long skirt\n",
            "A:  man suit suit suit suit suit suit suit suit suit\n",
            "\n",
            "\n",
            "Model: man suit suit suit suit suit suit suit suit suit and Actual Answer: pants\n",
            "Q: The fact that Joe was able to memorize the list in spite of his apparent  state proved that part of his brain was what?\n",
            "O: awake /// repeat /// sleeping /// concentrate /// read aloud\n",
            "A:  awake aloud aloud aloud aloud aloud aloud aloud aloud aloud\n",
            "\n",
            "\n",
            "Model: awake aloud aloud aloud aloud aloud aloud aloud aloud aloud and Actual Answer: awake\n"
          ]
        },
        {
          "output_type": "stream",
          "name": "stderr",
          "text": [
            " 20%|██        | 248/1221 [00:48<03:11,  5.08it/s]"
          ]
        },
        {
          "output_type": "stream",
          "name": "stdout",
          "text": [
            "Q: What is a wet person likely to do?\n",
            "O: gain weight /// thank god /// catch cold /// suicide /// cross street\n",
            "A:  cross street street street street street street street street street\n",
            "\n",
            "\n",
            "Model: cross street street street street street street street street street and Actual Answer: catch cold\n",
            "Q: After recovering from the disease, what did the doctor call the patient?\n",
            "O: healthy /// passing around /// cure /// wellness /// healthy\n",
            "A:  healthy healthy healthy healthy healthy healthy healthy healthy healthy healthy\n",
            "\n",
            "\n",
            "Model: healthy healthy healthy healthy healthy healthy healthy healthy healthy healthy and Actual Answer: healthy\n"
          ]
        },
        {
          "output_type": "stream",
          "name": "stderr",
          "text": [
            " 20%|██        | 250/1221 [00:48<03:10,  5.10it/s]"
          ]
        },
        {
          "output_type": "stream",
          "name": "stdout",
          "text": [
            "Q: The painter started to edge the room with tape, he always took extra care to make the lines clean and crisp when working with an what?\n",
            "O: triangle /// middle /// corner /// center /// interior\n",
            "A:  center corner corner corner corner corner corner corner corner corner\n",
            "\n",
            "\n",
            "Model: center corner corner corner corner corner corner corner corner corner and Actual Answer: interior\n",
            "Q: After high tide, where on the coast can you look to find a sea anemone?\n",
            "O: nursery /// museum /// gulf of mexico /// tide pool /// intertidal zone\n",
            "A:  gulf of mexico river of mexico\n",
            "\n",
            "\n",
            "Model: gulf of mexico river of mexico and Actual Answer: tide pool\n"
          ]
        },
        {
          "output_type": "stream",
          "name": "stderr",
          "text": [
            " 21%|██        | 252/1221 [00:48<03:11,  5.07it/s]"
          ]
        },
        {
          "output_type": "stream",
          "name": "stdout",
          "text": [
            "Q: What could a driving car do to a pedestrian?\n",
            "O: say hello /// wreak /// pollution /// smoke /// relaxation\n",
            "A:  smoke smoke smoke smoke smoke smoke smoke smoke smoke smoke\n",
            "\n",
            "\n",
            "Model: smoke smoke smoke smoke smoke smoke smoke smoke smoke smoke and Actual Answer: wreak\n",
            "Q: People do many things to alleviate boredom.  If you can't get out of the house you might decide to do what?\n",
            "O: play cards /// skateboard /// meet interesting people /// listen to music /// go to a concert\n",
            "A:  listen to music to music to music to music to\n",
            "\n",
            "\n",
            "Model: listen to music to music to music to music to and Actual Answer: listen to music\n"
          ]
        },
        {
          "output_type": "stream",
          "name": "stderr",
          "text": [
            " 21%|██        | 254/1221 [00:49<03:09,  5.09it/s]"
          ]
        },
        {
          "output_type": "stream",
          "name": "stdout",
          "text": [
            "Q: At a grocery store they sell individual potatoes, where does the grocery clerk likely put the potato?\n",
            "O: boiling water /// root cellar /// rocket ship /// paper bag /// underground\n",
            "A:  paper bag\n",
            "\n",
            "\n",
            "Model: paper bag and Actual Answer: paper bag\n",
            "Q: What room is a rubber bath mat usually kept?\n",
            "O: doorway /// living room /// sand /// floors /// bathroom\n",
            "A:  floor floor floor floor floor floor floor floor floor floor\n",
            "\n",
            "\n",
            "Model: floor floor floor floor floor floor floor floor floor floor and Actual Answer: bathroom\n"
          ]
        },
        {
          "output_type": "stream",
          "name": "stderr",
          "text": [
            " 21%|██        | 256/1221 [00:49<03:07,  5.15it/s]"
          ]
        },
        {
          "output_type": "stream",
          "name": "stdout",
          "text": [
            "Q: What would you put meat on top of to cook it?\n",
            "O: oil /// freezer /// ham sandwich /// oven /// frying pan\n",
            "A:  oven pan /// oven pan\n",
            "\n",
            "\n",
            "Model: oven pan and Actual Answer: frying pan\n",
            "Q: Minerals can be obtained in what way for a person who avoids leafy greens?\n",
            "O: multivitamin /// farm /// michigan /// earth /// ore\n",
            "A:  michigan michigan michigan m\n",
            "\n",
            "\n",
            "Model: michigan michigan michigan m and Actual Answer: multivitamin\n"
          ]
        },
        {
          "output_type": "stream",
          "name": "stderr",
          "text": [
            " 21%|██        | 258/1221 [00:50<03:07,  5.13it/s]"
          ]
        },
        {
          "output_type": "stream",
          "name": "stdout",
          "text": [
            "Q: What could you be a few hours after you finish cashing in due to your cash?\n",
            "O: happy /// receiving money /// getting paid /// spending money /// selling out\n",
            "A:  getting paid out of money in money in money in\n",
            "\n",
            "\n",
            "Model: getting paid out of money in money in money in and Actual Answer: happy\n",
            "Q: The smelly man was having a bath, but what is he pursuing?\n",
            "O: hydration /// being clear /// personal cleanliness /// will drown /// use of water\n",
            "A:  hydration and use of water /// hydration and\n",
            "\n",
            "\n",
            "Model: hydration and use of water and Actual Answer: personal cleanliness\n"
          ]
        },
        {
          "output_type": "stream",
          "name": "stderr",
          "text": [
            " 21%|██▏       | 260/1221 [00:50<03:05,  5.17it/s]"
          ]
        },
        {
          "output_type": "stream",
          "name": "stdout",
          "text": [
            "Q: What might a couple have a lot of when they are deciding on stopping being married to each other?\n",
            "O: pleasure /// detachment /// exercise /// bankruptcy /// fights\n",
            "A:  separation between themselves and each other's choice of choice\n",
            "\n",
            "\n",
            "Model: separation between themselves and each other's choice of choice and Actual Answer: fights\n",
            "Q: If a person is working a lot, what are they likely trying to earn?\n",
            "O: much money /// own house /// creativity /// new car /// caregiver\n",
            "A:  much money invested in house and caregiver's house\n",
            "\n",
            "\n",
            "Model: much money invested in house and caregiver's house and Actual Answer: much money\n"
          ]
        },
        {
          "output_type": "stream",
          "name": "stderr",
          "text": [
            " 21%|██▏       | 262/1221 [00:50<03:04,  5.19it/s]"
          ]
        },
        {
          "output_type": "stream",
          "name": "stdout",
          "text": [
            "Q: The traveling business man was glad his credit card had perks, it offset the high prices for travel from a what?\n",
            "O: car /// theatre /// airport /// hotel /// disneyland\n",
            "A:  airport terminal terminal terminal terminal terminal terminal terminal terminal terminal\n",
            "\n",
            "\n",
            "Model: airport terminal terminal terminal terminal terminal terminal terminal terminal terminal and Actual Answer: airport\n",
            "Q: Billy hated using other people's toilets. He was only comfortable on his own.  So whenever he needed to poop, he would go back to his what?\n",
            "O: bathroom /// motel room /// nearest public restroom /// house /// apartment\n",
            "A:  apartment room room room room room room room room room\n",
            "\n",
            "\n",
            "Model: apartment room room room room room room room room room and Actual Answer: house\n"
          ]
        },
        {
          "output_type": "stream",
          "name": "stderr",
          "text": [
            " 22%|██▏       | 264/1221 [00:51<03:04,  5.20it/s]"
          ]
        },
        {
          "output_type": "stream",
          "name": "stdout",
          "text": [
            "Q: The forest experienced a cold winter, where is it located?\n",
            "O: earth /// south america /// amazon basin /// temperate zone /// national park\n",
            "A:  amazon basin basin basin basin basin basin basin basin\n",
            "\n",
            "\n",
            "Model: amazon basin basin basin basin basin basin basin basin and Actual Answer: temperate zone\n",
            "Q: How can you let someone know about your anger without hurting him or her?\n",
            "O: release energy /// destroy enemy /// punch /// write letter /// lose your temper\n",
            "A:  release energy /// release energy\n",
            "\n",
            "\n",
            "Model: release energy and Actual Answer: write letter\n"
          ]
        },
        {
          "output_type": "stream",
          "name": "stderr",
          "text": [
            " 22%|██▏       | 266/1221 [00:51<03:04,  5.17it/s]"
          ]
        },
        {
          "output_type": "stream",
          "name": "stdout",
          "text": [
            "Q: Where is one likely to find a brownstone?\n",
            "O: new york city /// subdivision /// ring /// hazleton /// live in\n",
            "A:  new york city area area area area area area\n",
            "\n",
            "\n",
            "Model: new york city area area area area area area and Actual Answer: new york city\n",
            "Q: What may I place the telephone on?\n",
            "O: bar /// friend's house /// desktop /// party /// office\n",
            "A:  desktop desktop desktop desktop desktop desktop desktop desktop desktop desktop\n",
            "\n",
            "\n",
            "Model: desktop desktop desktop desktop desktop desktop desktop desktop desktop desktop and Actual Answer: desktop\n"
          ]
        },
        {
          "output_type": "stream",
          "name": "stderr",
          "text": [
            " 22%|██▏       | 268/1221 [00:52<03:05,  5.15it/s]"
          ]
        },
        {
          "output_type": "stream",
          "name": "stdout",
          "text": [
            "Q: What language type is someone from Iran likely to use?\n",
            "O: books /// dard /// sky /// closed room /// television\n",
            "A:  television show television show show show show show show show\n",
            "\n",
            "\n",
            "Model: television show television show show show show show show show and Actual Answer: dard\n",
            "Q: John went to a party that lasted all night.  Because of this, he didn't have time for what?\n",
            "O: meeting /// blowing off steam /// stay home /// partying hard /// studying\n",
            "A:  meeting hard hard hard hard hard hard hard hard hard\n",
            "\n",
            "\n",
            "Model: meeting hard hard hard hard hard hard hard hard hard and Actual Answer: studying\n"
          ]
        },
        {
          "output_type": "stream",
          "name": "stderr",
          "text": [
            " 22%|██▏       | 270/1221 [00:52<03:04,  5.14it/s]"
          ]
        },
        {
          "output_type": "stream",
          "name": "stdout",
          "text": [
            "Q: The child wasn't allowed in the kitchen but still wanted to help, what could it do to help in the dining room?\n",
            "O: set table /// form opinions /// make honey /// become adult /// gather flowers\n",
            "A:  form opinions opinions on opinions on opinions on opinions on\n",
            "\n",
            "\n",
            "Model: form opinions opinions on opinions on opinions on opinions on and Actual Answer: set table\n",
            "Q: He was having a hard time expressing himself in a healthy way, the psychologist said he was mentally what?\n",
            "O: slow /// understood /// suffering /// embarrassment /// fun\n",
            "A:  embarrassed /// embarrassed\n",
            "\n",
            "\n",
            "Model: embarrassed and Actual Answer: suffering\n"
          ]
        },
        {
          "output_type": "stream",
          "name": "stderr",
          "text": [
            " 22%|██▏       | 272/1221 [00:52<03:05,  5.13it/s]"
          ]
        },
        {
          "output_type": "stream",
          "name": "stdout",
          "text": [
            "Q: When someone is physically competing what does their body do?\n",
            "O: tension /// perform better /// releases heat /// winning or losing /// sweat\n",
            "A:  sweat release heat release heat release heat release heat release\n",
            "\n",
            "\n",
            "Model: sweat release heat release heat release heat release heat release and Actual Answer: sweat\n",
            "Q: How would you express information to a deaf person?\n",
            "O: summarize main points /// close mouth /// write down /// may disagree /// talk\n",
            "A:  may disagree with each other's point of point of\n",
            "\n",
            "\n",
            "Model: may disagree with each other's point of point of and Actual Answer: write down\n"
          ]
        },
        {
          "output_type": "stream",
          "name": "stderr",
          "text": [
            " 22%|██▏       | 274/1221 [00:53<03:04,  5.13it/s]"
          ]
        },
        {
          "output_type": "stream",
          "name": "stdout",
          "text": [
            "Q: Printing on a printer can get expensive because it does what?\n",
            "O: explode /// use paper /// store information /// queue /// noise\n",
            "A:  explode in the machine explosion in the machine explosion in\n",
            "\n",
            "\n",
            "Model: explode in the machine explosion in the machine explosion in and Actual Answer: use paper\n",
            "Q: What will god never do according to religion?\n",
            "O: anything /// judge people /// work miracles /// judge men /// everywhere\n",
            "A:  judge men and everywhere else everywhere else\n",
            "\n",
            "\n",
            "Model: judge men and everywhere else everywhere else and Actual Answer: judge people\n"
          ]
        },
        {
          "output_type": "stream",
          "name": "stderr",
          "text": [
            " 23%|██▎       | 276/1221 [00:53<03:04,  5.11it/s]"
          ]
        },
        {
          "output_type": "stream",
          "name": "stdout",
          "text": [
            "Q: One of the potential hazards of attending school is what?\n",
            "O: cooties /// get smart /// boredom /// colds and flu /// taking tests\n",
            "A:  boredom and flu flu flu flu flu infections caused by\n",
            "\n",
            "\n",
            "Model: boredom and flu flu flu flu flu infections caused by and Actual Answer: colds and flu\n",
            "Q: What has a surface with many sides?\n",
            "O: tetrahedron /// object /// geometry problem /// lake /// triangle\n",
            "A:  triangle problem problem problem problem problem problem problem problem problem\n",
            "\n",
            "\n",
            "Model: triangle problem problem problem problem problem problem problem problem problem and Actual Answer: tetrahedron\n"
          ]
        },
        {
          "output_type": "stream",
          "name": "stderr",
          "text": [
            " 23%|██▎       | 278/1221 [00:53<03:02,  5.16it/s]"
          ]
        },
        {
          "output_type": "stream",
          "name": "stdout",
          "text": [
            "Q: What could bring a container from one place to another?\n",
            "O: food /// refrigerator /// cargo ship /// port /// fuel\n",
            "A:  cargo ship container ship container container container container container container\n",
            "\n",
            "\n",
            "Model: cargo ship container ship container container container container container container and Actual Answer: cargo ship\n",
            "Q: The old style pop ups literally let you see the story when you did what?\n",
            "O: giggle /// visualize /// open book /// reading /// go to movies\n",
            "A:  open book /// open book /// open book\n",
            "\n",
            "\n",
            "Model: open book and Actual Answer: open book\n"
          ]
        },
        {
          "output_type": "stream",
          "name": "stderr",
          "text": [
            " 23%|██▎       | 280/1221 [00:54<03:00,  5.21it/s]"
          ]
        },
        {
          "output_type": "stream",
          "name": "stdout",
          "text": [
            "Q: What is it called when you are talking to someone?\n",
            "O: communication /// quiet /// boredom /// persuaded /// learn\n",
            "A:  communication with someone /// communication with someone /// communication with\n",
            "\n",
            "\n",
            "Model: communication with someone and Actual Answer: communication\n",
            "Q: The family finished dinner, the child's chore was to load the dirty dishes where?\n",
            "O: restaurant kitchen /// dishwasher /// son's room /// cabinet /// party\n",
            "A:  dishwasher kitchen cabinet /// dishwasher cabinet\n",
            "\n",
            "\n",
            "Model: dishwasher kitchen cabinet and Actual Answer: dishwasher\n"
          ]
        },
        {
          "output_type": "stream",
          "name": "stderr",
          "text": [
            " 23%|██▎       | 282/1221 [00:54<02:57,  5.28it/s]"
          ]
        },
        {
          "output_type": "stream",
          "name": "stdout",
          "text": [
            "Q: Where could you find a bureau as well as many politicians?\n",
            "O: each city /// office building /// a zoo /// french government /// washington dc\n",
            "A:  french government government government government government government government government government\n",
            "\n",
            "\n",
            "Model: french government government government government government government government government government and Actual Answer: washington dc\n",
            "Q: Dad wanted to hide the check in his office, where did he put it?\n",
            "O: cash register /// desk drawer /// fish tank /// bank /// pay envelope\n",
            "A:  bank drawer drawer drawer drawer drawer drawer drawer drawer drawer\n",
            "\n",
            "\n",
            "Model: bank drawer drawer drawer drawer drawer drawer drawer drawer drawer and Actual Answer: desk drawer\n"
          ]
        },
        {
          "output_type": "stream",
          "name": "stderr",
          "text": [
            " 23%|██▎       | 284/1221 [00:55<02:55,  5.33it/s]"
          ]
        },
        {
          "output_type": "stream",
          "name": "stdout",
          "text": [
            "Q: For some reason she was devoid of regular emotions, buying products was the only way she could feel what?\n",
            "O: pleasure /// owning /// debt /// spending money /// smart\n",
            "A:  satisfaction with owning products /// satisfaction with owning products\n",
            "\n",
            "\n",
            "Model: satisfaction with owning products and Actual Answer: pleasure\n",
            "Q: Where are horses judged on appearance?\n",
            "O: race track /// fair /// raised by humans /// in a field /// countryside\n",
            "A:  race track track track track track track track track track\n",
            "\n",
            "\n",
            "Model: race track track track track track track track track track and Actual Answer: fair\n"
          ]
        },
        {
          "output_type": "stream",
          "name": "stderr",
          "text": [
            " 23%|██▎       | 286/1221 [00:55<02:54,  5.37it/s]"
          ]
        },
        {
          "output_type": "stream",
          "name": "stdout",
          "text": [
            "Q: Why do people read non fiction?\n",
            "O: having fun /// it's more relatable /// learn new things /// becoming absorbed /// falling asleep\n",
            "A:  become absorbed absorbed absorbed absorbed absorbed absorbed absorbed absorbed absorbed\n",
            "\n",
            "\n",
            "Model: become absorbed absorbed absorbed absorbed absorbed absorbed absorbed absorbed absorbed and Actual Answer: learn new things\n",
            "Q: While knitting you can do what using a radio?\n",
            "O: listen to music /// watch television /// making blankets /// eat /// watching tv\n",
            "A:  listen to music while watching tv while watching tv while\n",
            "\n",
            "\n",
            "Model: listen to music while watching tv while watching tv while and Actual Answer: listen to music\n"
          ]
        },
        {
          "output_type": "stream",
          "name": "stderr",
          "text": [
            " 24%|██▎       | 288/1221 [00:55<02:52,  5.39it/s]"
          ]
        },
        {
          "output_type": "stream",
          "name": "stdout",
          "text": [
            "Q: Where are you likely to set papers while working on them?\n",
            "O: table /// meeting /// drawer /// toilet /// garage\n",
            "A:  meeting meeting meeting meeting meeting meeting meeting meeting meeting meeting\n",
            "\n",
            "\n",
            "Model: meeting meeting meeting meeting meeting meeting meeting meeting meeting meeting and Actual Answer: table\n",
            "Q: John had a massive debt to 50 million dollars.  Compared to that, Leo's 2000 dollar debt seemed what?\n",
            "O: dwarf /// inconsequential /// insubstantial /// lame /// tiny\n",
            "A:  insignificant insignificant insignificant insignificant insignificant insignificant insignificant insignificant insignificant insignificant\n",
            "\n",
            "\n",
            "Model: insignificant insignificant insignificant insignificant insignificant insignificant insignificant insignificant insignificant insignificant and Actual Answer: insubstantial\n"
          ]
        },
        {
          "output_type": "stream",
          "name": "stderr",
          "text": [
            " 24%|██▍       | 290/1221 [00:56<02:51,  5.41it/s]"
          ]
        },
        {
          "output_type": "stream",
          "name": "stdout",
          "text": [
            "Q: The man flew his airplane over the city and saw pollution visibly in the sky, what was polluted?\n",
            "O: forest /// street /// air /// caused by humans /// car show\n",
            "A:  air pollution caused by humans caused by humans caused by\n",
            "\n",
            "\n",
            "Model: air pollution caused by humans caused by humans caused by and Actual Answer: air\n",
            "Q: What is a very unlikely side effect of becoming inebriated?\n",
            "O: fights /// drunkenness /// staggering /// puke /// paralysis\n",
            "A:  paralysis paralysis paralysis caused by paralysis caused by paralysis caused\n",
            "\n",
            "\n",
            "Model: paralysis paralysis paralysis caused by paralysis caused by paralysis caused and Actual Answer: paralysis\n"
          ]
        },
        {
          "output_type": "stream",
          "name": "stderr",
          "text": [
            " 24%|██▍       | 292/1221 [00:56<02:52,  5.40it/s]"
          ]
        },
        {
          "output_type": "stream",
          "name": "stdout",
          "text": [
            "Q: when communicating with my boss what should i do\n",
            "O: misunderstandings /// transfer of information /// learning /// confusion /// silence\n",
            "A:  communicate with my boss's boss's boss's boss\n",
            "\n",
            "\n",
            "Model: communicate with my boss's boss's boss's boss and Actual Answer: transfer of information\n",
            "Q: If not in a stream but in a market where will you find fish?\n",
            "O: stream /// aquarium /// refrigerator /// boat ride /// market\n",
            "A:  aquarium ride ride ride ride ride ride ride ride ride\n",
            "\n",
            "\n",
            "Model: aquarium ride ride ride ride ride ride ride ride ride and Actual Answer: refrigerator\n"
          ]
        },
        {
          "output_type": "stream",
          "name": "stderr",
          "text": [
            " 24%|██▍       | 294/1221 [00:56<02:51,  5.41it/s]"
          ]
        },
        {
          "output_type": "stream",
          "name": "stdout",
          "text": [
            "Q: What are people likely to want to do with their friends?\n",
            "O: own land /// own home /// talk to each other /// believe in god /// spend time\n",
            "A:  own land and own land and own land and own\n",
            "\n",
            "\n",
            "Model: own land and own land and own land and own and Actual Answer: spend time\n",
            "Q: During a shark filled tornado where should you not be?\n",
            "O: marine museum /// pool hall /// noodle house /// bad movie /// outside\n",
            "A:  bad movie movie movie movie movie movie movie movie movie\n",
            "\n",
            "\n",
            "Model: bad movie movie movie movie movie movie movie movie movie and Actual Answer: outside\n"
          ]
        },
        {
          "output_type": "stream",
          "name": "stderr",
          "text": [
            " 24%|██▍       | 296/1221 [00:57<02:51,  5.39it/s]"
          ]
        },
        {
          "output_type": "stream",
          "name": "stdout",
          "text": [
            "Q: What is the likely result of buying products in excess?\n",
            "O: running out of money /// spending money /// poverty /// comparison shopping /// overstocking\n",
            "A:  overstocking out of money in money in money\n",
            "\n",
            "\n",
            "Model: overstocking out of money in money in money and Actual Answer: overstocking\n",
            "Q: What is a person trying to accomplish when taking analgesics?\n",
            "O: acceptance /// avoid pain /// acknowledgment /// passing grade /// intellectual challenge\n",
            "A:  pass grade on grade on grade on grade on grade\n",
            "\n",
            "\n",
            "Model: pass grade on grade on grade on grade on grade and Actual Answer: avoid pain\n"
          ]
        },
        {
          "output_type": "stream",
          "name": "stderr",
          "text": [
            " 24%|██▍       | 298/1221 [00:57<02:51,  5.39it/s]"
          ]
        },
        {
          "output_type": "stream",
          "name": "stdout",
          "text": [
            "Q: Where would you put a glass after drinking from it?\n",
            "O: ocean /// water cooler /// cabinet /// dishwasher /// dining room\n",
            "A:  dishwasherwasher drawer drawer drawer drawer drawer drawer drawer\n",
            "\n",
            "\n",
            "Model: dishwasherwasher drawer drawer drawer drawer drawer drawer drawer and Actual Answer: dishwasher\n",
            "Q: Where would you buy food?\n",
            "O: freezer /// store /// home /// hatred /// kitchen\n",
            "A:  supermarket store room room room room room room room room\n",
            "\n",
            "\n",
            "Model: supermarket store room room room room room room room room and Actual Answer: store\n"
          ]
        },
        {
          "output_type": "stream",
          "name": "stderr",
          "text": [
            " 25%|██▍       | 300/1221 [00:58<02:50,  5.40it/s]"
          ]
        },
        {
          "output_type": "stream",
          "name": "stdout",
          "text": [
            "Q: When a person admits his mistakes, what are they doing?\n",
            "O: accident /// learn to swim /// thank god /// feel relieved /// act responsibly\n",
            "A:  feel relieved when they feel relieved when they feel relieved\n",
            "\n",
            "\n",
            "Model: feel relieved when they feel relieved when they feel relieved and Actual Answer: act responsibly\n",
            "Q: Where do play a game for money?\n",
            "O: casino /// football ground /// ballpark /// family room /// toy store\n",
            "A:  casino ground floor area area area area area area area\n",
            "\n",
            "\n",
            "Model: casino ground floor area area area area area area area and Actual Answer: casino\n"
          ]
        },
        {
          "output_type": "stream",
          "name": "stderr",
          "text": [
            " 25%|██▍       | 302/1221 [00:58<02:50,  5.40it/s]"
          ]
        },
        {
          "output_type": "stream",
          "name": "stdout",
          "text": [
            "Q: When you travel you should what in case of unexpected costs?\n",
            "O: go somewhere /// energy /// spend frivilously /// fly in airplane /// have money\n",
            "A:  spend frivilously spent frivilously spent fri\n",
            "\n",
            "\n",
            "Model: spend frivilously spent frivilously spent fri and Actual Answer: have money\n",
            "Q: Donald is a prominent figure for the federal government, so in what city does he likely spend a lot of time?\n",
            "O: everything /// capitol building /// tourist sites /// canada /// washington d.c\n",
            "A:  tourist sites are tourist sites are tourist sites are tourist\n",
            "\n",
            "\n",
            "Model: tourist sites are tourist sites are tourist sites are tourist and Actual Answer: washington d.c\n"
          ]
        },
        {
          "output_type": "stream",
          "name": "stderr",
          "text": [
            " 25%|██▍       | 304/1221 [00:58<02:50,  5.39it/s]"
          ]
        },
        {
          "output_type": "stream",
          "name": "stdout",
          "text": [
            "Q: There was more than one bum asking for change or a ticket, it was the cheapest way to travel so it was no surprise sight at the what?\n",
            "O: train station /// beach /// bus depot /// bridge /// stumblebum\n",
            "A:  train station station station station station station station station station\n",
            "\n",
            "\n",
            "Model: train station station station station station station station station station and Actual Answer: bus depot\n",
            "Q: John and Joe like planning games but Joe  was hit by a ball and fell down. What might have happened to Joe.\n",
            "O: anger /// good natured ribbing. /// enjoying /// injury /// enjoyment\n",
            "A:  injury caused by ball and falling down\n",
            "\n",
            "\n",
            "Model: injury caused by ball and falling down and Actual Answer: injury\n"
          ]
        },
        {
          "output_type": "stream",
          "name": "stderr",
          "text": [
            " 25%|██▌       | 306/1221 [00:59<02:49,  5.39it/s]"
          ]
        },
        {
          "output_type": "stream",
          "name": "stdout",
          "text": [
            "Q: Where can you buy jeans at one of may indoor merchants?\n",
            "O: gap /// shopping mall /// bedroom /// laundromat /// bathroom\n",
            "A:  shopping mall area area area area area area area area\n",
            "\n",
            "\n",
            "Model: shopping mall area area area area area area area area and Actual Answer: shopping mall\n",
            "Q: What do you write letter in in America?\n",
            "O: syllable /// post office /// envelope /// english alphabet /// word\n",
            "A:  syllable word word word word word word word word\n",
            "\n",
            "\n",
            "Model: syllable word word word word word word word word and Actual Answer: english alphabet\n"
          ]
        },
        {
          "output_type": "stream",
          "name": "stderr",
          "text": [
            " 25%|██▌       | 308/1221 [00:59<02:50,  5.36it/s]"
          ]
        },
        {
          "output_type": "stream",
          "name": "stdout",
          "text": [
            "Q: Joe owned back taxes as well as what other type of taxes?\n",
            "O: anterior /// front /// main /// front /// current\n",
            "A:  main\n",
            "\n",
            "\n",
            "Model: main and Actual Answer: current\n",
            "Q: Where is a broadcast studio likely to be heard?\n",
            "O: microphone /// arena /// radio station /// trees /// town\n",
            "A:  radio station station station station station station station station station\n",
            "\n",
            "\n",
            "Model: radio station station station station station station station station station and Actual Answer: radio station\n"
          ]
        },
        {
          "output_type": "stream",
          "name": "stderr",
          "text": [
            " 25%|██▌       | 310/1221 [00:59<02:49,  5.38it/s]"
          ]
        },
        {
          "output_type": "stream",
          "name": "stdout",
          "text": [
            "Q: Kramer wrote a self-referential book.  What might that book be about?\n",
            "O: counter /// coffee table /// school room /// backpack /// bedside table\n",
            "A:  school room room room room room room room room room\n",
            "\n",
            "\n",
            "Model: school room room room room room room room room room and Actual Answer: coffee table\n",
            "Q: Of all the sports, Billy enjoys football, but what does his concerned mother think of the sport?\n",
            "O: very entertaining /// fun /// slow /// competitive /// violent\n",
            "A:  competitively entertained /// fun fun fun entertained\n",
            "\n",
            "\n",
            "Model: competitively entertained and Actual Answer: violent\n"
          ]
        },
        {
          "output_type": "stream",
          "name": "stderr",
          "text": [
            " 26%|██▌       | 312/1221 [01:00<02:49,  5.38it/s]"
          ]
        },
        {
          "output_type": "stream",
          "name": "stdout",
          "text": [
            "Q: What city will likely have many parking structures?\n",
            "O: chicago /// big city /// large city building /// environment /// college campus\n",
            "A:  big city building building building building building building building building\n",
            "\n",
            "\n",
            "Model: big city building building building building building building building building and Actual Answer: chicago\n",
            "Q: Sally was afraid of danger and always double checked what?\n",
            "O: fight enemy /// secure /// being safe /// safety /// vicinity\n",
            "A:  safe zone area of danger and vicinity of danger of\n",
            "\n",
            "\n",
            "Model: safe zone area of danger and vicinity of danger of and Actual Answer: safety\n"
          ]
        },
        {
          "output_type": "stream",
          "name": "stderr",
          "text": [
            " 26%|██▌       | 314/1221 [01:00<02:49,  5.36it/s]"
          ]
        },
        {
          "output_type": "stream",
          "name": "stdout",
          "text": [
            "Q: What is the habitat of the fox?\n",
            "O: hen house /// burrow /// california /// england /// mountains\n",
            "A:  california california california cal\n",
            "\n",
            "\n",
            "Model: california california california cal and Actual Answer: mountains\n",
            "Q: People are very much like the animals, but one thing has secured or dominance over the planet.  We're better at doing what?\n",
            "O: eat eggs /// make tools /// eat dosa /// talk to each other /// smoke pot\n",
            "A:  eat eggs dosa dosa dosa dosa\n",
            "\n",
            "\n",
            "Model: eat eggs dosa dosa dosa dosa and Actual Answer: make tools\n"
          ]
        },
        {
          "output_type": "stream",
          "name": "stderr",
          "text": [
            " 26%|██▌       | 316/1221 [01:01<02:48,  5.37it/s]"
          ]
        },
        {
          "output_type": "stream",
          "name": "stdout",
          "text": [
            "Q: They children loved having a back yard, and the parents loved that it was a safe what?\n",
            "O: suburb /// neighborhood /// back of house /// roundabout /// property\n",
            "A:  neighborhood neighborhood neighborhood neighborhood neighborhood neighborhood neighborhood neighborhood neighborhood neighborhood\n",
            "\n",
            "\n",
            "Model: neighborhood neighborhood neighborhood neighborhood neighborhood neighborhood neighborhood neighborhood neighborhood neighborhood and Actual Answer: neighborhood\n",
            "Q: While people just throw coins down them now, what originally had a pail to be lowered for it's intended use?\n",
            "O: garage /// utility room /// slide /// wishing well /// garden\n",
            "A:  utility room room room /// utility room\n",
            "\n",
            "\n",
            "Model: utility room room room and Actual Answer: wishing well\n"
          ]
        },
        {
          "output_type": "stream",
          "name": "stderr",
          "text": [
            " 26%|██▌       | 318/1221 [01:01<02:48,  5.37it/s]"
          ]
        },
        {
          "output_type": "stream",
          "name": "stdout",
          "text": [
            "Q: Joe was thrown from his boat into the water.  The water was cold because it was the middle of winter and he cried out to his crew for help.  They couldn't hear him over the sound of the what?\n",
            "O: surface of earth /// teardrops /// snowflake /// typhoon /// motor\n",
            "A:  teardropship /// teardrops\n",
            "\n",
            "\n",
            "Model: teardropship and Actual Answer: typhoon\n",
            "Q: When a human is earning money, where are they often found?\n",
            "O: deep thought /// park /// friend's house /// place of work /// school\n",
            "A:  friend's house of work of work of work of\n",
            "\n",
            "\n",
            "Model: friend's house of work of work of work of and Actual Answer: place of work\n"
          ]
        },
        {
          "output_type": "stream",
          "name": "stderr",
          "text": [
            " 26%|██▌       | 320/1221 [01:01<02:47,  5.36it/s]"
          ]
        },
        {
          "output_type": "stream",
          "name": "stdout",
          "text": [
            "Q: They passed a apple tree on their way to the racetrack, the were going to watch the biggest motorsport spectacle in the world where?\n",
            "O: maryland /// indiana /// on tv /// park /// new jersey\n",
            "A:  maryland /// maryland /// mary\n",
            "\n",
            "\n",
            "Model: maryland and Actual Answer: indiana\n",
            "Q: Why do people play chess on the weekends?\n",
            "O: satisfaction /// have fun /// thrilling /// made /// smart\n",
            "A:  fun fun fun on weekends /// fun on weekends ///\n",
            "\n",
            "\n",
            "Model: fun fun fun on weekends and Actual Answer: have fun\n"
          ]
        },
        {
          "output_type": "stream",
          "name": "stderr",
          "text": [
            " 26%|██▋       | 322/1221 [01:02<02:46,  5.39it/s]"
          ]
        },
        {
          "output_type": "stream",
          "name": "stdout",
          "text": [
            "Q: What do you need energy to do in gym class?\n",
            "O: work /// tacos /// mass /// play sports /// wrestle\n",
            "A:  work sports sports sports sports sports sports sports sports sports\n",
            "\n",
            "\n",
            "Model: work sports sports sports sports sports sports sports sports sports and Actual Answer: play sports\n",
            "Q: Sarah dropped the marble because she wanted to do what?\n",
            "O: game /// pouch /// home /// store /// jar\n",
            "A:  store jar jar jar jar jar jar jar jar jar\n",
            "\n",
            "\n",
            "Model: store jar jar jar jar jar jar jar jar jar and Actual Answer: game\n"
          ]
        },
        {
          "output_type": "stream",
          "name": "stderr",
          "text": [
            " 27%|██▋       | 324/1221 [01:02<02:45,  5.42it/s]"
          ]
        },
        {
          "output_type": "stream",
          "name": "stdout",
          "text": [
            "Q: We are all human, and we all what?\n",
            "O: write /// eat cake /// smile /// think critically /// die\n",
            "A:  die in death in death in death in death in\n",
            "\n",
            "\n",
            "Model: die in death in death in death in death in and Actual Answer: die\n",
            "Q: If a person were going to bed, what would be their goal?\n",
            "O: lazy /// insomnia /// rest /// falling asleep /// dreaming of\n",
            "A:  restlessness of sleep of sleep of sleep of sleep\n",
            "\n",
            "\n",
            "Model: restlessness of sleep of sleep of sleep of sleep and Actual Answer: falling asleep\n"
          ]
        },
        {
          "output_type": "stream",
          "name": "stderr",
          "text": [
            " 27%|██▋       | 326/1221 [01:02<02:44,  5.43it/s]"
          ]
        },
        {
          "output_type": "stream",
          "name": "stdout",
          "text": [
            "Q: What are candles good for eliminating?\n",
            "O: shelf /// board /// church /// table /// dark\n",
            "A:  shelf shelf shelf shelf shelf shelf shelf shelf shelf shelf\n",
            "\n",
            "\n",
            "Model: shelf shelf shelf shelf shelf shelf shelf shelf shelf shelf and Actual Answer: dark\n",
            "Q: WHat leads to an early death?\n",
            "O: poisonous gas /// homicide /// cinder /// nuclear weapons /// cyanide\n",
            "A:  cyanide gas gas gas gas gas gas gas gas\n",
            "\n",
            "\n",
            "Model: cyanide gas gas gas gas gas gas gas gas and Actual Answer: homicide\n"
          ]
        },
        {
          "output_type": "stream",
          "name": "stderr",
          "text": [
            " 27%|██▋       | 328/1221 [01:03<02:44,  5.42it/s]"
          ]
        },
        {
          "output_type": "stream",
          "name": "stdout",
          "text": [
            "Q: What room would you find many bookcases and is used for contemplation?\n",
            "O: study /// house /// homw /// kitchen /// den\n",
            "A:  house building house building building building building building building building\n",
            "\n",
            "\n",
            "Model: house building house building building building building building building building and Actual Answer: study\n",
            "Q: Where do you head to travel to a star?\n",
            "O: night sky /// galaxy /// outer space /// hollywood /// eat cake\n",
            "A:  outer space galaxy galaxy galaxy galaxy galaxy galaxy galaxy galaxy\n",
            "\n",
            "\n",
            "Model: outer space galaxy galaxy galaxy galaxy galaxy galaxy galaxy galaxy and Actual Answer: outer space\n"
          ]
        },
        {
          "output_type": "stream",
          "name": "stderr",
          "text": [
            " 27%|██▋       | 330/1221 [01:03<02:44,  5.42it/s]"
          ]
        },
        {
          "output_type": "stream",
          "name": "stdout",
          "text": [
            "Q: The player lifted his cornet and walked in rhythm, what was the player a member of?\n",
            "O: museum /// high school band /// marching band /// orchestra /// band\n",
            "A:  marching band band band band band band band band band\n",
            "\n",
            "\n",
            "Model: marching band band band band band band band band band and Actual Answer: marching band\n",
            "Q: What happens at soon as a living being is born?\n",
            "O: expiration /// growing older /// sometimes bad /// death /// start reproduction\n",
            "A:  death and reproduction\n",
            "\n",
            "\n",
            "Model: death and reproduction and Actual Answer: growing older\n"
          ]
        },
        {
          "output_type": "stream",
          "name": "stderr",
          "text": [
            " 27%|██▋       | 332/1221 [01:04<02:44,  5.40it/s]"
          ]
        },
        {
          "output_type": "stream",
          "name": "stdout",
          "text": [
            "Q: When someone is talking and you missed something, what can you do to get them to repeat it?\n",
            "O: walking /// ask question /// think /// write question in crayon /// sneeze\n",
            "A:  ask question in crayon question in cray\n",
            "\n",
            "\n",
            "Model: ask question in crayon question in cray and Actual Answer: ask question\n",
            "Q: Where does one store fabric in their own home?\n",
            "O: sewing room /// clothing store /// tailor shop /// clothes store /// cotton mill\n",
            "A:  clothing store store store store store store store store store\n",
            "\n",
            "\n",
            "Model: clothing store store store store store store store store store and Actual Answer: sewing room\n"
          ]
        },
        {
          "output_type": "stream",
          "name": "stderr",
          "text": [
            " 27%|██▋       | 334/1221 [01:04<02:44,  5.40it/s]"
          ]
        },
        {
          "output_type": "stream",
          "name": "stdout",
          "text": [
            "Q: What do most companies not want to have relative to demand?\n",
            "O: oversupply /// plentitude /// stockpile /// superabundance /// busy\n",
            "A:  plentitude of supply of supply of supply of supply\n",
            "\n",
            "\n",
            "Model: plentitude of supply of supply of supply of supply and Actual Answer: oversupply\n",
            "Q: What is happening while he's playing basketball for such a long time?\n",
            "O: sweating /// pain /// having fun /// medium /// knee injury\n",
            "A:  pain pain pain pain pain pain pain pain pain pain\n",
            "\n",
            "\n",
            "Model: pain pain pain pain pain pain pain pain pain pain and Actual Answer: sweating\n"
          ]
        },
        {
          "output_type": "stream",
          "name": "stderr",
          "text": [
            " 28%|██▊       | 336/1221 [01:04<02:44,  5.39it/s]"
          ]
        },
        {
          "output_type": "stream",
          "name": "stdout",
          "text": [
            "Q: A traveler laments the fact that mass transit is limited in his city when his groceries get soaked by the rain as he waits where?\n",
            "O: bus stop /// library /// motel /// airport /// subway\n",
            "A:  subway station stop /// subway station station station station station\n",
            "\n",
            "\n",
            "Model: subway station stop and Actual Answer: bus stop\n",
            "Q: The person was in physical distress, where should he go?\n",
            "O: synagogue /// for help /// hospital /// bus stop /// building\n",
            "A:  hospital building building building building building building building building building\n",
            "\n",
            "\n",
            "Model: hospital building building building building building building building building building and Actual Answer: hospital\n"
          ]
        },
        {
          "output_type": "stream",
          "name": "stderr",
          "text": [
            " 28%|██▊       | 338/1221 [01:05<02:43,  5.40it/s]"
          ]
        },
        {
          "output_type": "stream",
          "name": "stdout",
          "text": [
            "Q: The cancer patient was expecting to die, so he made out his what?\n",
            "O: not to live /// write will /// never want /// seek help /// go to hell\n",
            "A:  seek help from hell\n",
            "\n",
            "\n",
            "Model: seek help from hell and Actual Answer: write will\n",
            "Q: There was a toll road that meandered from Maine to New Hampshire, where was it?\n",
            "O: massachusetts /// new england /// my house /// new jersey /// connecticut\n",
            "A:  new jersey jersey jersey jersey jersey jersey jersey jersey jersey\n",
            "\n",
            "\n",
            "Model: new jersey jersey jersey jersey jersey jersey jersey jersey jersey and Actual Answer: new england\n"
          ]
        },
        {
          "output_type": "stream",
          "name": "stderr",
          "text": [
            " 28%|██▊       | 340/1221 [01:05<02:43,  5.40it/s]"
          ]
        },
        {
          "output_type": "stream",
          "name": "stdout",
          "text": [
            "Q: If you partied all night you could find yourself already what, even when just beginning work?\n",
            "O: getting tired /// working /// procrastination /// jumping /// sitting down\n",
            "A:  procrastination and procrastination\n",
            "\n",
            "\n",
            "Model: procrastination and procrastination and Actual Answer: getting tired\n",
            "Q: The cat carefully navigated the area, they do everything they can to avoid what?\n",
            "O: get wet /// eat vegetables /// falling /// wool sweater /// sharp claws\n",
            "A:  wool sweater sweater sweater sweater sweater sweater sweater sweater sweater\n",
            "\n",
            "\n",
            "Model: wool sweater sweater sweater sweater sweater sweater sweater sweater sweater and Actual Answer: get wet\n"
          ]
        },
        {
          "output_type": "stream",
          "name": "stderr",
          "text": [
            " 28%|██▊       | 342/1221 [01:05<02:42,  5.40it/s]"
          ]
        },
        {
          "output_type": "stream",
          "name": "stdout",
          "text": [
            "Q: What is someone usually doing if someone else is talking to him or her?\n",
            "O: listening /// language /// looking at eyes /// planning the perfect murder /// voice\n",
            "A:  listening to voice of someone else's voice of someone\n",
            "\n",
            "\n",
            "Model: listening to voice of someone else's voice of someone and Actual Answer: listening\n",
            "Q: What does the sky do before a rain?\n",
            "O: appear beautiful /// appear blue /// shows a rainbow /// rain water /// cloud over\n",
            "A:  appear blue blue blue blue blue blue blue blue blue\n",
            "\n",
            "\n",
            "Model: appear blue blue blue blue blue blue blue blue blue and Actual Answer: cloud over\n"
          ]
        },
        {
          "output_type": "stream",
          "name": "stderr",
          "text": [
            " 28%|██▊       | 344/1221 [01:06<02:42,  5.40it/s]"
          ]
        },
        {
          "output_type": "stream",
          "name": "stdout",
          "text": [
            "Q: Pens, computers, text books and paper clips can all be found where?\n",
            "O: desktop /// university /// drawer /// table /// work\n",
            "A:  desk drawer drawer drawer drawer drawer drawer drawer drawer drawer\n",
            "\n",
            "\n",
            "Model: desk drawer drawer drawer drawer drawer drawer drawer drawer drawer and Actual Answer: university\n",
            "Q: What geographic area is a lizard likely to be?\n",
            "O: ball stopped /// west texas /// arid regions /// garden /// warm place\n",
            "A:  arid regions of texas of texas of\n",
            "\n",
            "\n",
            "Model: arid regions of texas of texas of and Actual Answer: west texas\n"
          ]
        },
        {
          "output_type": "stream",
          "name": "stderr",
          "text": [
            " 28%|██▊       | 346/1221 [01:06<02:42,  5.40it/s]"
          ]
        },
        {
          "output_type": "stream",
          "name": "stdout",
          "text": [
            "Q: What do you use to carry your briefcase?\n",
            "O: office building /// school /// courtroom /// airport /// hand\n",
            "A:  handbag /// handbag\n",
            "\n",
            "\n",
            "Model: handbag and Actual Answer: hand\n",
            "Q: He picked up his pace to a run, he wanted to do what?\n",
            "O: learn to walk /// frightened /// get away from /// exercise /// go faster\n",
            "A:  get away from home from home from home from home\n",
            "\n",
            "\n",
            "Model: get away from home from home from home from home and Actual Answer: go faster\n"
          ]
        },
        {
          "output_type": "stream",
          "name": "stderr",
          "text": [
            " 29%|██▊       | 348/1221 [01:06<02:42,  5.38it/s]"
          ]
        },
        {
          "output_type": "stream",
          "name": "stdout",
          "text": [
            "Q: What would a person do if they do not have any friends?\n",
            "O: talk to people /// try again /// fall asleep /// stand alone /// thank god\n",
            "A:  stand alone alone alone alone alone alone alone alone alone\n",
            "\n",
            "\n",
            "Model: stand alone alone alone alone alone alone alone alone alone and Actual Answer: stand alone\n",
            "Q: As a result of dying, what happens to organic material?\n",
            "O: change of color /// stop breathing /// wake up /// death and decay /// getting cold\n",
            "A:  get cold and decay decay decay decay and decay decay\n",
            "\n",
            "\n",
            "Model: get cold and decay decay decay decay and decay decay and Actual Answer: death and decay\n"
          ]
        },
        {
          "output_type": "stream",
          "name": "stderr",
          "text": [
            " 29%|██▊       | 350/1221 [01:07<02:41,  5.39it/s]"
          ]
        },
        {
          "output_type": "stream",
          "name": "stdout",
          "text": [
            "Q: What does everyone have in relation to other people?\n",
            "O: feelings /// food /// unique personality /// different standards /// values\n",
            "A:  unique personality personality characteristic of other people in relation to\n",
            "\n",
            "\n",
            "Model: unique personality personality characteristic of other people in relation to and Actual Answer: feelings\n",
            "Q: What do you ask a child to do when you first meet her?\n",
            "O: ask questions /// count to ten /// costume /// state name /// dress herself\n",
            "A:  dress herself herself herself herself herself herself herself herself herself\n",
            "\n",
            "\n",
            "Model: dress herself herself herself herself herself herself herself herself herself and Actual Answer: state name\n"
          ]
        },
        {
          "output_type": "stream",
          "name": "stderr",
          "text": [
            " 29%|██▉       | 352/1221 [01:07<02:41,  5.39it/s]"
          ]
        },
        {
          "output_type": "stream",
          "name": "stdout",
          "text": [
            "Q: Where can you buy a clock, clothing and wrenches?\n",
            "O: counter /// train station /// school room /// desk /// department store\n",
            "A:  department store room room room room room room room room\n",
            "\n",
            "\n",
            "Model: department store room room room room room room room room and Actual Answer: department store\n",
            "Q: What do you do when you're in a new place and want to see new things?\n",
            "O: interesting /// look around /// take pictures /// change of surroundings /// new experience\n",
            "A:  new experience experience experience experience experience of experience of experience\n",
            "\n",
            "\n",
            "Model: new experience experience experience experience experience of experience of experience and Actual Answer: look around\n"
          ]
        },
        {
          "output_type": "stream",
          "name": "stderr",
          "text": [
            " 29%|██▉       | 354/1221 [01:08<02:40,  5.40it/s]"
          ]
        },
        {
          "output_type": "stream",
          "name": "stdout",
          "text": [
            "Q: What happens when to ice when it is in the sun?\n",
            "O: carved /// melted /// ice cream /// antarctica /// sculptured\n",
            "A:  melted ice cream ice cream ice cream ice cream ice\n",
            "\n",
            "\n",
            "Model: melted ice cream ice cream ice cream ice cream ice and Actual Answer: melted\n",
            "Q: Where can you store your dishes in your dwelling?\n",
            "O: drawer /// shelf /// pantry /// apartment /// cabinet\n",
            "A:  cabinet cabinet cabinet drawer drawer drawer drawer drawer drawer drawer\n",
            "\n",
            "\n",
            "Model: cabinet cabinet cabinet drawer drawer drawer drawer drawer drawer drawer and Actual Answer: shelf\n"
          ]
        },
        {
          "output_type": "stream",
          "name": "stderr",
          "text": [
            " 29%|██▉       | 356/1221 [01:08<02:41,  5.36it/s]"
          ]
        },
        {
          "output_type": "stream",
          "name": "stdout",
          "text": [
            "Q: The man laid on the soft moss and looked up at the trees, where was the man?\n",
            "O: niagra falls /// forest /// waterfall /// ground /// tree\n",
            "A:  tree falls down tree down tree down tree down tree\n",
            "\n",
            "\n",
            "Model: tree falls down tree down tree down tree down tree and Actual Answer: forest\n",
            "Q: What is someone doing if he or she is sitting quietly and his or her eyes are moving?\n",
            "O: reading /// meditate /// fall asleep /// bunk /// think\n",
            "A:  meditate while reading books and reading books and reading\n",
            "\n",
            "\n",
            "Model: meditate while reading books and reading books and reading and Actual Answer: reading\n"
          ]
        },
        {
          "output_type": "stream",
          "name": "stderr",
          "text": [
            " 29%|██▉       | 358/1221 [01:08<02:40,  5.38it/s]"
          ]
        },
        {
          "output_type": "stream",
          "name": "stdout",
          "text": [
            "Q: Where can I find a stapler in many places?\n",
            "O: desk drawer /// office building /// manual /// office supply store /// desktop\n",
            "A:  office supply store store store store store store store store\n",
            "\n",
            "\n",
            "Model: office supply store store store store store store store store and Actual Answer: office building\n",
            "Q: A man takes a seat at a museum outside of Barcelona, where is he likely?\n",
            "O: in cinema /// martorell /// falling down /// show /// airplane\n",
            "A:  in cinema airport terminal terminal terminal terminal terminal terminal terminal\n",
            "\n",
            "\n",
            "Model: in cinema airport terminal terminal terminal terminal terminal terminal terminal and Actual Answer: martorell\n"
          ]
        },
        {
          "output_type": "stream",
          "name": "stderr",
          "text": [
            " 29%|██▉       | 360/1221 [01:09<02:40,  5.38it/s]"
          ]
        },
        {
          "output_type": "stream",
          "name": "stdout",
          "text": [
            "Q: Where would you find a toy soldier that is being played with?\n",
            "O: toy box /// movies /// child's hand /// toybos /// child park\n",
            "A:  toy box box box box box box box box box\n",
            "\n",
            "\n",
            "Model: toy box box box box box box box box box and Actual Answer: child's hand\n",
            "Q: Where are you when you're about to use your plane ticket?\n",
            "O: pocket /// terrorists hands /// airport /// sea ship /// briefcase\n",
            "A:  airport ticket ticket ticket ticket ticket ticket ticket ticket ticket\n",
            "\n",
            "\n",
            "Model: airport ticket ticket ticket ticket ticket ticket ticket ticket ticket and Actual Answer: airport\n"
          ]
        },
        {
          "output_type": "stream",
          "name": "stderr",
          "text": [
            " 30%|██▉       | 362/1221 [01:09<02:39,  5.39it/s]"
          ]
        },
        {
          "output_type": "stream",
          "name": "stdout",
          "text": [
            "Q: Flowers make a good center focal point, just one of many arrangements that look good on a what?\n",
            "O: market /// table /// countryside /// anthology /// vase\n",
            "A:  table book anthology anthology anthology anthology anthology anthology anthology anthology\n",
            "\n",
            "\n",
            "Model: table book anthology anthology anthology anthology anthology anthology anthology anthology and Actual Answer: table\n",
            "Q: How can a human cross a river and not mess up their hair?\n",
            "O: wisconsin /// waterfall /// hatred /// bridge /// valley\n",
            "A:  bridge bridge bridge bridge bridge bridge bridge bridge bridge bridge\n",
            "\n",
            "\n",
            "Model: bridge bridge bridge bridge bridge bridge bridge bridge bridge bridge and Actual Answer: bridge\n"
          ]
        },
        {
          "output_type": "stream",
          "name": "stderr",
          "text": [
            " 30%|██▉       | 364/1221 [01:09<02:38,  5.39it/s]"
          ]
        },
        {
          "output_type": "stream",
          "name": "stdout",
          "text": [
            "Q: Batman bought beer.  There were no bottles available.  He had to settle for what?.\n",
            "O: shelf /// soccer game /// keg /// can /// refrigerator\n",
            "A:  shelf /// shelf\n",
            "\n",
            "\n",
            "Model: shelf and Actual Answer: can\n",
            "Q: You can find a monkey in what West African region on the Gulf of Guinea\n",
            "O: south american country /// rain forest /// pay debts /// works /// nigeria\n",
            "A:  nigeria country on the Gulf of Guinea-Col\n",
            "\n",
            "\n",
            "Model: nigeria country on the Gulf of Guinea-Col and Actual Answer: nigeria\n"
          ]
        },
        {
          "output_type": "stream",
          "name": "stderr",
          "text": [
            " 30%|██▉       | 366/1221 [01:10<02:38,  5.41it/s]"
          ]
        },
        {
          "output_type": "stream",
          "name": "stdout",
          "text": [
            "Q: Surprising an angry person could lead to what?\n",
            "O: humor /// fight /// jocose /// laughter /// accidents\n",
            "A:  accidents caused by jocose\n",
            "\n",
            "\n",
            "Model: accidents caused by jocose and Actual Answer: fight\n",
            "Q: Where is a dining area likely to be small?\n",
            "O: cruise ship /// home /// mall /// restaurant /// dark cave\n",
            "A:  restaurant restaurant restaurant restaurant restaurant restaurant restaurant restaurant restaurant restaurant\n",
            "\n",
            "\n",
            "Model: restaurant restaurant restaurant restaurant restaurant restaurant restaurant restaurant restaurant restaurant and Actual Answer: home\n"
          ]
        },
        {
          "output_type": "stream",
          "name": "stderr",
          "text": [
            " 30%|███       | 368/1221 [01:10<02:38,  5.39it/s]"
          ]
        },
        {
          "output_type": "stream",
          "name": "stdout",
          "text": [
            "Q: Killing people should not cause what emotion?\n",
            "O: vengeance /// going to prison /// joy /// afraid /// terrible\n",
            "A:  vengeance or punishment for killing people caused by vengeance for\n",
            "\n",
            "\n",
            "Model: vengeance or punishment for killing people caused by vengeance for and Actual Answer: joy\n",
            "Q: James slamed into someone playing football, and not for the first time.  He was concerned about the consequences of many what?\n",
            "O: exhilaration /// interactions /// head injuries /// death /// having fun\n",
            "A:  head injuries /// death of death of death of death\n",
            "\n",
            "\n",
            "Model: head injuries and Actual Answer: head injuries\n"
          ]
        },
        {
          "output_type": "stream",
          "name": "stderr",
          "text": [
            " 30%|███       | 370/1221 [01:11<02:38,  5.37it/s]"
          ]
        },
        {
          "output_type": "stream",
          "name": "stdout",
          "text": [
            "Q: More people should lower the guard and just have fun, we don't got long just what?\n",
            "O: enjoy living /// happy /// enjoyable /// get laid /// do enjoy\n",
            "A:  enjoy living life enjoyable life enjoyable life enjoyable life enjoyable\n",
            "\n",
            "\n",
            "Model: enjoy living life enjoyable life enjoyable life enjoyable life enjoyable and Actual Answer: enjoy living\n",
            "Q: Where can you get a lizard to keep in your home?\n",
            "O: desert country /// dessert /// pet shop /// tropical areas /// zoo\n",
            "A:  pet shop shop shop shop shop shop shop shop shop\n",
            "\n",
            "\n",
            "Model: pet shop shop shop shop shop shop shop shop shop and Actual Answer: pet shop\n"
          ]
        },
        {
          "output_type": "stream",
          "name": "stderr",
          "text": [
            " 30%|███       | 372/1221 [01:11<02:38,  5.36it/s]"
          ]
        },
        {
          "output_type": "stream",
          "name": "stdout",
          "text": [
            "Q: What would use a musical instrument?\n",
            "O: guitar /// music room /// orchestra /// case /// movie\n",
            "A:  music room /// orchestra room\n",
            "\n",
            "\n",
            "Model: music room and Actual Answer: orchestra\n",
            "Q: She was in an affair, what did that end upon discovery by her husband?\n",
            "O: relationship /// marriage /// fidelity /// love /// divorce\n",
            "A:  marriage fidelity fidelity /// marriage fidelity\n",
            "\n",
            "\n",
            "Model: marriage fidelity fidelity and Actual Answer: marriage\n"
          ]
        },
        {
          "output_type": "stream",
          "name": "stderr",
          "text": [
            " 31%|███       | 374/1221 [01:11<02:38,  5.35it/s]"
          ]
        },
        {
          "output_type": "stream",
          "name": "stdout",
          "text": [
            "Q: What is the most famous constellation out of earth?\n",
            "O: one moon /// milky way /// god's creation /// stars /// universe\n",
            "A:  one moon moon moon moon moon moon moon moon moon\n",
            "\n",
            "\n",
            "Model: one moon moon moon moon moon moon moon moon moon and Actual Answer: milky way\n",
            "Q: If a reception is held with hotel guests walking by, what is the likely venue?\n",
            "O: room service /// church basement /// lobby /// large room /// country club\n",
            "A:  church basement reception room service room service room service room\n",
            "\n",
            "\n",
            "Model: church basement reception room service room service room service room and Actual Answer: lobby\n"
          ]
        },
        {
          "output_type": "stream",
          "name": "stderr",
          "text": [
            " 31%|███       | 376/1221 [01:12<02:38,  5.32it/s]"
          ]
        },
        {
          "output_type": "stream",
          "name": "stdout",
          "text": [
            "Q: What is a place that is far away from your house and where you could consume beer?\n",
            "O: refrigerator /// friend's house /// keg /// neighbor's house /// kitchen\n",
            "A:  neighbor's house and keg house and keg\n",
            "\n",
            "\n",
            "Model: neighbor's house and keg house and keg and Actual Answer: friend's house\n",
            "Q: If a court case is dismissed after hearing testimony, what would be a likely cause?\n",
            "O: change of heart /// anguish /// anger /// boredom /// anxiety\n",
            "A:  anger and frustration /// anger and frustration\n",
            "\n",
            "\n",
            "Model: anger and frustration and Actual Answer: change of heart\n"
          ]
        },
        {
          "output_type": "stream",
          "name": "stderr",
          "text": [
            " 31%|███       | 378/1221 [01:12<02:38,  5.34it/s]"
          ]
        },
        {
          "output_type": "stream",
          "name": "stdout",
          "text": [
            "Q: Sitting down quickly after eating beans could lead to what?\n",
            "O: flatulence /// happiness /// laziness /// fall asleep /// comfort\n",
            "A:  comforted sleepiness and comforted sleepiness and\n",
            "\n",
            "\n",
            "Model: comforted sleepiness and comforted sleepiness and and Actual Answer: flatulence\n",
            "Q: John was my neighbor, it was easy to talk to him. He was never what?\n",
            "O: away /// distant /// remote person /// bore /// foe\n",
            "A:  distant person /// distant person.  distant person.\n",
            "\n",
            "\n",
            "Model: distant person and Actual Answer: distant\n"
          ]
        },
        {
          "output_type": "stream",
          "name": "stderr",
          "text": [
            " 31%|███       | 380/1221 [01:12<02:37,  5.32it/s]"
          ]
        },
        {
          "output_type": "stream",
          "name": "stdout",
          "text": [
            "Q: Where do people want to have a lot of coffee?\n",
            "O: table /// office /// desk /// kitchen /// ocean\n",
            "A:  table table room room room room room room room room\n",
            "\n",
            "\n",
            "Model: table table room room room room room room room room and Actual Answer: office\n",
            "Q: You stop and have food all around you, what are you?\n",
            "O: stay alive /// wanted to survive /// nutrition /// grew /// full\n",
            "A:  hungry to survive survived survived survived survived survived survived survived\n",
            "\n",
            "\n",
            "Model: hungry to survive survived survived survived survived survived survived survived and Actual Answer: full\n"
          ]
        },
        {
          "output_type": "stream",
          "name": "stderr",
          "text": [
            " 31%|███▏      | 382/1221 [01:13<02:36,  5.35it/s]"
          ]
        },
        {
          "output_type": "stream",
          "name": "stdout",
          "text": [
            "Q: James was meeting a friend.  They had planed a slow day. They didn't want to do much.  They just wanted what?\n",
            "O: relaxation /// panic /// alarm /// joy /// cheer\n",
            "A:  cheerfulness /// excitement\n",
            "\n",
            "\n",
            "Model: cheerfulness and Actual Answer: relaxation\n",
            "Q: The car's steering seem quite loose, but he still considered purchasing it because he needed something small and what?\n",
            "O: sturdy /// faithful /// bound /// compact /// packaged\n",
            "A:  compact packaged packaged packaged packaged packaged packaged packaged packaged packaged\n",
            "\n",
            "\n",
            "Model: compact packaged packaged packaged packaged packaged packaged packaged packaged packaged and Actual Answer: compact\n"
          ]
        },
        {
          "output_type": "stream",
          "name": "stderr",
          "text": [
            " 31%|███▏      | 384/1221 [01:13<02:35,  5.38it/s]"
          ]
        },
        {
          "output_type": "stream",
          "name": "stdout",
          "text": [
            "Q: Dan was a farmer with just one heifer.  But that was okay, he only kept her for milk, and he didn't think he'd find good farmland in a place as cold as where?\n",
            "O: arizona /// farm yard /// michigan /// german field /// dairy farm\n",
            "A:  farm yard yard\n",
            "\n",
            "\n",
            "Model: farm yard yard and Actual Answer: michigan\n",
            "Q: It's Friday night and Alice puts off going to bed because she plans on doing what Saturday?\n",
            "O: hatred /// sleeping in /// rest /// making love /// insomnia\n",
            "A:  rest in bed because of insomnia caused by insomnia caused\n",
            "\n",
            "\n",
            "Model: rest in bed because of insomnia caused by insomnia caused and Actual Answer: sleeping in\n"
          ]
        },
        {
          "output_type": "stream",
          "name": "stderr",
          "text": [
            " 32%|███▏      | 386/1221 [01:14<02:35,  5.36it/s]"
          ]
        },
        {
          "output_type": "stream",
          "name": "stdout",
          "text": [
            "Q: His phone was dead and they couldn't find the expressway, he opened up the glove compartment and handed his passenger the what to navigate?\n",
            "O: eastern united states /// michigan /// map /// choppers /// american city\n",
            "A:  map map map map map map map map map map\n",
            "\n",
            "\n",
            "Model: map map map map map map map map map map and Actual Answer: map\n",
            "Q: What would someone use a personal key for?\n",
            "O: car stand /// at hotel /// own home /// front door /// bus depot\n",
            "A:  front door door door door door door door door door\n",
            "\n",
            "\n",
            "Model: front door door door door door door door door door and Actual Answer: own home\n"
          ]
        },
        {
          "output_type": "stream",
          "name": "stderr",
          "text": [
            " 32%|███▏      | 388/1221 [01:14<02:34,  5.38it/s]"
          ]
        },
        {
          "output_type": "stream",
          "name": "stdout",
          "text": [
            "Q: The cat kept pestering it's owner, it was that time of the day and it was what?\n",
            "O: litter tray /// whiskers /// hungry /// feline /// thirsty\n",
            "A:  hungry child's appetite tray tray tray tray. \n",
            "\n",
            "\n",
            "Model: hungry child's appetite tray tray tray tray. and Actual Answer: hungry\n",
            "Q: Her voice lent her to the alto section, what group did she join?\n",
            "O: symphony /// concerto /// choir /// theater troupe /// marching band\n",
            "A:  choir troupe troupe troupe troupe trou\n",
            "\n",
            "\n",
            "Model: choir troupe troupe troupe troupe trou and Actual Answer: choir\n"
          ]
        },
        {
          "output_type": "stream",
          "name": "stderr",
          "text": [
            " 32%|███▏      | 390/1221 [01:14<02:34,  5.39it/s]"
          ]
        },
        {
          "output_type": "stream",
          "name": "stdout",
          "text": [
            "Q: Where are you likely to find a Japanese restaurant not run by people from Japan?\n",
            "O: california /// downtown /// large town /// tokio /// china town\n",
            "A:  california town town town town town town town\n",
            "\n",
            "\n",
            "Model: california town town town town town town town and Actual Answer: california\n",
            "Q: Animals who have hair and don't lay eggs are what?\n",
            "O: reproduce asexually /// males /// mammals /// attack /// ocean\n",
            "A:  males and mammals are mammals in mammals.  males\n",
            "\n",
            "\n",
            "Model: males and mammals are mammals in mammals.  males and Actual Answer: mammals\n"
          ]
        },
        {
          "output_type": "stream",
          "name": "stderr",
          "text": [
            " 32%|███▏      | 392/1221 [01:15<02:33,  5.39it/s]"
          ]
        },
        {
          "output_type": "stream",
          "name": "stdout",
          "text": [
            "Q: John was an aristocratic fox hunter.  Where might he live?\n",
            "O: england /// new hampshire /// street /// arkansas /// north dakota\n",
            "A:  england area of hampshire /// england\n",
            "\n",
            "\n",
            "Model: england area of hampshire and Actual Answer: new hampshire\n",
            "Q: Where is a grape likely to be being fed to someone else?\n",
            "O: field /// bathroom /// michigan /// minnesota /// painting\n",
            "A:  michigan michigan michigan m\n",
            "\n",
            "\n",
            "Model: michigan michigan michigan m and Actual Answer: painting\n"
          ]
        },
        {
          "output_type": "stream",
          "name": "stderr",
          "text": [
            " 32%|███▏      | 394/1221 [01:15<02:34,  5.36it/s]"
          ]
        },
        {
          "output_type": "stream",
          "name": "stdout",
          "text": [
            "Q: Some food can be stored at room temperature until you open it, then you should keep it in what?\n",
            "O: shop /// bookcase /// shelf /// refrigerators /// kitchen\n",
            "A:  shelf temperature room temperature room temperature room temperature room temperature\n",
            "\n",
            "\n",
            "Model: shelf temperature room temperature room temperature room temperature room temperature and Actual Answer: refrigerators\n",
            "Q: Sam couldn't get back to sleep because of a dream he had.  It was a what?\n",
            "O: awake /// horror /// dreamworker /// reality /// nightmare\n",
            "A:  nightmare worker's dreamworker's dreamworker's dream\n",
            "\n",
            "\n",
            "Model: nightmare worker's dreamworker's dreamworker's dream and Actual Answer: nightmare\n"
          ]
        },
        {
          "output_type": "stream",
          "name": "stderr",
          "text": [
            " 32%|███▏      | 396/1221 [01:15<02:33,  5.39it/s]"
          ]
        },
        {
          "output_type": "stream",
          "name": "stdout",
          "text": [
            "Q: If you're going to a party in a new town what are you hoping to make?\n",
            "O: getting drunk /// making new friends /// new contacts /// doing drugs /// set home\n",
            "A:  getting drunk in a new contacts encounted in a\n",
            "\n",
            "\n",
            "Model: getting drunk in a new contacts encounted in a and Actual Answer: making new friends\n",
            "Q: How is riding a bike getting it to move?\n",
            "O: practice /// sense of balance /// driving /// good balance /// pedalling\n",
            "A:  pedalling a bike getting it to move to move\n",
            "\n",
            "\n",
            "Model: pedalling a bike getting it to move to move and Actual Answer: pedalling\n"
          ]
        },
        {
          "output_type": "stream",
          "name": "stderr",
          "text": [
            " 33%|███▎      | 398/1221 [01:16<02:33,  5.36it/s]"
          ]
        },
        {
          "output_type": "stream",
          "name": "stdout",
          "text": [
            "Q: Where does one usually keep literature?\n",
            "O: books and magazines /// own home /// kitchen /// shelf /// meeting\n",
            "A:  shelf books and magazines and magazines and magazines and magazines\n",
            "\n",
            "\n",
            "Model: shelf books and magazines and magazines and magazines and magazines and Actual Answer: shelf\n",
            "Q: WHat type of keyboard is made up of one or more pipe divisions?\n",
            "O: killing /// typewriter /// office /// terminal /// organ\n",
            "A:  terminal terminal terminal terminal device division division division division division\n",
            "\n",
            "\n",
            "Model: terminal terminal terminal terminal device division division division division division and Actual Answer: organ\n"
          ]
        },
        {
          "output_type": "stream",
          "name": "stderr",
          "text": [
            " 33%|███▎      | 400/1221 [01:16<02:32,  5.39it/s]"
          ]
        },
        {
          "output_type": "stream",
          "name": "stdout",
          "text": [
            "Q: The bell rang, and the congregation began to what in to the church?\n",
            "O: run away /// wind instrument /// funnel /// blunderbuss /// associated with telephones\n",
            "A:  run away from home from home from home from home\n",
            "\n",
            "\n",
            "Model: run away from home from home from home from home and Actual Answer: funnel\n",
            "Q: James needed smooth sandpaper, but instead he got what type?\n",
            "O: rough /// non smooth /// uneven /// plastic /// bumpy\n",
            "A:  rough sandpaper rough sandpaper rough sandpaper rough\n",
            "\n",
            "\n",
            "Model: rough sandpaper rough sandpaper rough sandpaper rough and Actual Answer: rough\n"
          ]
        },
        {
          "output_type": "stream",
          "name": "stderr",
          "text": [
            " 33%|███▎      | 402/1221 [01:17<02:32,  5.37it/s]"
          ]
        },
        {
          "output_type": "stream",
          "name": "stdout",
          "text": [
            "Q: Where would you borrow furniture if you do not have any?\n",
            "O: sewer /// neighbor's house /// apartment /// room /// floor\n",
            "A:  neighbor's house floor floor floor floor floor floor floor\n",
            "\n",
            "\n",
            "Model: neighbor's house floor floor floor floor floor floor floor and Actual Answer: neighbor's house\n",
            "Q: What must happen for an animal to and it's offspring to continue livng?\n",
            "O: death /// flying /// reproducing /// food consumed /// eventually die\n",
            "A:  reproduce succeeding inbreeding\n",
            "\n",
            "\n",
            "Model: reproduce succeeding inbreeding and Actual Answer: reproducing\n"
          ]
        },
        {
          "output_type": "stream",
          "name": "stderr",
          "text": [
            " 33%|███▎      | 404/1221 [01:17<02:32,  5.37it/s]"
          ]
        },
        {
          "output_type": "stream",
          "name": "stdout",
          "text": [
            "Q: I want my wine stored in darkness, where should it go?\n",
            "O: movies /// bed /// moon /// vault /// cellar\n",
            "A:  cellar cellar cellar cellar cellar cellar cellar cellar cellar cellar\n",
            "\n",
            "\n",
            "Model: cellar cellar cellar cellar cellar cellar cellar cellar cellar cellar and Actual Answer: cellar\n",
            "Q: If I want to open a steakhouse, what should I get first?\n",
            "O: michigan /// florida /// wine /// texas /// building\n",
            "A:  wine tasting room /// wine tasting room\n",
            "\n",
            "\n",
            "Model: wine tasting room and Actual Answer: building\n"
          ]
        },
        {
          "output_type": "stream",
          "name": "stderr",
          "text": [
            " 33%|███▎      | 406/1221 [01:17<02:31,  5.38it/s]"
          ]
        },
        {
          "output_type": "stream",
          "name": "stdout",
          "text": [
            "Q: Sarah didn't like to play but she didn't want to be sedentary and bored, either, so she took up what?\n",
            "O: serious /// longplay /// musical /// eat cake /// doing nothing\n",
            "A:  longplay musical play music music music music music music\n",
            "\n",
            "\n",
            "Model: longplay musical play music music music music music music and Actual Answer: musical\n",
            "Q: Joe found spiders while checking something outside.  What might that be?\n",
            "O: cupboard /// closet /// storage bag /// mail box /// garage\n",
            "A:  garage bag bag bag bag bag bag bag bag bag\n",
            "\n",
            "\n",
            "Model: garage bag bag bag bag bag bag bag bag bag and Actual Answer: mail box\n"
          ]
        },
        {
          "output_type": "stream",
          "name": "stderr",
          "text": [
            " 33%|███▎      | 408/1221 [01:18<02:31,  5.37it/s]"
          ]
        },
        {
          "output_type": "stream",
          "name": "stdout",
          "text": [
            "Q: What would you do if your date does not show up?\n",
            "O: wait for /// bathe /// go for haircut /// plan revenge /// dress nice\n",
            "A:  wait for date for haircut for haircut for haircut for\n",
            "\n",
            "\n",
            "Model: wait for date for haircut for haircut for haircut for and Actual Answer: wait for\n",
            "Q: What did the adult do before the job interview?\n",
            "O: work /// dress himself /// marry /// dress herself /// drive train\n",
            "A:  dress himself himself himself himself himself himself himself himself before\n",
            "\n",
            "\n",
            "Model: dress himself himself himself himself himself himself himself himself before and Actual Answer: dress himself\n"
          ]
        },
        {
          "output_type": "stream",
          "name": "stderr",
          "text": [
            " 34%|███▎      | 410/1221 [01:18<02:30,  5.38it/s]"
          ]
        },
        {
          "output_type": "stream",
          "name": "stdout",
          "text": [
            "Q: Most items in retail stores are what even when they are on sale?\n",
            "O: overpriced /// purchase /// expensive /// park /// buying\n",
            "A:  expensive items in retail stores are expensive and expensive.\n",
            "\n",
            "\n",
            "Model: expensive items in retail stores are expensive and expensive. and Actual Answer: overpriced\n",
            "Q: John farms anemone in what type of facility?\n",
            "O: michigan /// swimming pool /// atlantic ocean /// nursery /// gulf of mexico\n",
            "A:  michigan ocean michigan ocean mich\n",
            "\n",
            "\n",
            "Model: michigan ocean michigan ocean mich and Actual Answer: nursery\n"
          ]
        },
        {
          "output_type": "stream",
          "name": "stderr",
          "text": [
            " 34%|███▎      | 412/1221 [01:18<02:29,  5.40it/s]"
          ]
        },
        {
          "output_type": "stream",
          "name": "stdout",
          "text": [
            "Q: Brawn opened the curtains so that the sun could do what?\n",
            "O: dry clothes /// warm house /// warm room /// shine brightly /// get dark\n",
            "A:  warm house /// warm house /// warm house\n",
            "\n",
            "\n",
            "Model: warm house and Actual Answer: warm room\n",
            "Q: How might releasing energy that has built up feel?\n",
            "O: damage /// wonderful /// exhaustion /// orgasm /// lazy\n",
            "A:  pleasure /// pleasure /// pleasure\n",
            "\n",
            "\n",
            "Model: pleasure and Actual Answer: wonderful\n"
          ]
        },
        {
          "output_type": "stream",
          "name": "stderr",
          "text": [
            " 34%|███▍      | 414/1221 [01:19<02:30,  5.35it/s]"
          ]
        },
        {
          "output_type": "stream",
          "name": "stdout",
          "text": [
            "Q: What would you do if you have curiosity but are blind and paralyzed?\n",
            "O: hear news /// analyse /// go somewhere /// examine thing /// see favorite show\n",
            "A:  listen to news show show show show show show show\n",
            "\n",
            "\n",
            "Model: listen to news show show show show show show show and Actual Answer: analyse\n",
            "Q: Where might it be hard to get furniture to?\n",
            "O: apartment /// loft /// store /// rug /// stairs\n",
            "A:  apartment building /// loft\n",
            "\n",
            "\n",
            "Model: apartment building and Actual Answer: loft\n"
          ]
        },
        {
          "output_type": "stream",
          "name": "stderr",
          "text": [
            " 34%|███▍      | 416/1221 [01:19<02:29,  5.37it/s]"
          ]
        },
        {
          "output_type": "stream",
          "name": "stdout",
          "text": [
            "Q: A great teacher can be what when you are attending school?\n",
            "O: detention /// graduate /// follower /// inspiration /// boredom\n",
            "A:  follower follower of inspiration /// inspiration inspiration inspiration inspiration inspiration\n",
            "\n",
            "\n",
            "Model: follower follower of inspiration and Actual Answer: inspiration\n",
            "Q: Where would you get jeans and other wearable items to take home with you?\n",
            "O: shopping mall /// museum /// laundromat /// clothing store /// bedroom\n",
            "A:  shopping mall mall mall mall area area area area area\n",
            "\n",
            "\n",
            "Model: shopping mall mall mall mall area area area area area and Actual Answer: clothing store\n"
          ]
        },
        {
          "output_type": "stream",
          "name": "stderr",
          "text": [
            " 34%|███▍      | 418/1221 [01:20<02:29,  5.38it/s]"
          ]
        },
        {
          "output_type": "stream",
          "name": "stdout",
          "text": [
            "Q: In what substance do clouds float?\n",
            "O: sky /// top of mountain /// air /// ground level /// outer space\n",
            "A:  sky level level level mountain mountain mountain mountain mountain mountain\n",
            "\n",
            "\n",
            "Model: sky level level level mountain mountain mountain mountain mountain mountain and Actual Answer: air\n",
            "Q: Where is the large area location of the empire state building?\n",
            "O: manhattan /// office /// the city /// fifth avenue /// new york city\n",
            "A:  manhattan city city city city city city city city\n",
            "\n",
            "\n",
            "Model: manhattan city city city city city city city city and Actual Answer: new york city\n"
          ]
        },
        {
          "output_type": "stream",
          "name": "stderr",
          "text": [
            " 34%|███▍      | 420/1221 [01:20<02:29,  5.37it/s]"
          ]
        },
        {
          "output_type": "stream",
          "name": "stdout",
          "text": [
            "Q: Where do most people make coffee?\n",
            "O: coffee shop /// office /// table /// washing /// kitchen\n",
            "A:  coffee shop /// coffee shop\n",
            "\n",
            "\n",
            "Model: coffee shop and Actual Answer: kitchen\n",
            "Q: What kind of service is my body a part of when I'm no longer here?\n",
            "O: bodycam /// home /// coffin /// funeral /// graveyard\n",
            "A:  coffin coffin coffin coffin coffin coffin coffin coffin coffin coffin\n",
            "\n",
            "\n",
            "Model: coffin coffin coffin coffin coffin coffin coffin coffin coffin coffin and Actual Answer: funeral\n"
          ]
        },
        {
          "output_type": "stream",
          "name": "stderr",
          "text": [
            " 35%|███▍      | 422/1221 [01:20<02:28,  5.37it/s]"
          ]
        },
        {
          "output_type": "stream",
          "name": "stdout",
          "text": [
            "Q: Many people wanted to leave their country estates for row houses, what did they need to move to?\n",
            "O: living less expensively /// england /// prison /// city /// town\n",
            "A:  city town hall building building building building building building building\n",
            "\n",
            "\n",
            "Model: city town hall building building building building building building building and Actual Answer: city\n",
            "Q: Where can someone get a new saw?\n",
            "O: hardware store /// toolbox /// logging camp /// tool kit /// auger\n",
            "A:  tool kit kit kit kit kit kit kit kit kit\n",
            "\n",
            "\n",
            "Model: tool kit kit kit kit kit kit kit kit kit and Actual Answer: hardware store\n"
          ]
        },
        {
          "output_type": "stream",
          "name": "stderr",
          "text": [
            " 35%|███▍      | 424/1221 [01:21<02:27,  5.39it/s]"
          ]
        },
        {
          "output_type": "stream",
          "name": "stdout",
          "text": [
            "Q: What would you do to a crime scene before asking a question?\n",
            "O: express information /// touch everything /// think /// give clue /// analyse\n",
            "A:  express information to everyone else\n",
            "\n",
            "\n",
            "Model: express information to everyone else and Actual Answer: analyse\n",
            "Q: The man didn't do great in college, all his best memories were late night with his brothers at the what?\n",
            "O: big city /// fraternity house /// school /// building /// big town\n",
            "A:  big city building building building building building building building building\n",
            "\n",
            "\n",
            "Model: big city building building building building building building building building and Actual Answer: fraternity house\n"
          ]
        },
        {
          "output_type": "stream",
          "name": "stderr",
          "text": [
            " 35%|███▍      | 426/1221 [01:21<02:27,  5.38it/s]"
          ]
        },
        {
          "output_type": "stream",
          "name": "stdout",
          "text": [
            "Q: In a horror movie victims usually trip when the run in order to do what in regards to the killer?\n",
            "O: frightened /// run up stairs /// get away from /// go quickly /// go faster\n",
            "A:  run up stairs stairs stairs stairs stairs stairs stairs stairs\n",
            "\n",
            "\n",
            "Model: run up stairs stairs stairs stairs stairs stairs stairs stairs and Actual Answer: get away from\n",
            "Q: The coach decided to make a lineup change, the team's effort was suffering from what?\n",
            "O: stagnant /// stagnation /// tradition /// hunger /// paper money\n",
            "A:  stagnation /// stagnation /// stagnation\n",
            "\n",
            "\n",
            "Model: stagnation and Actual Answer: stagnation\n"
          ]
        },
        {
          "output_type": "stream",
          "name": "stderr",
          "text": [
            " 35%|███▌      | 428/1221 [01:21<02:27,  5.37it/s]"
          ]
        },
        {
          "output_type": "stream",
          "name": "stdout",
          "text": [
            "Q: Where would you go if you want to buy some clothes?\n",
            "O: mall /// grocery store /// grocery store /// shop /// supermarket\n",
            "A:  supermarket store store store store store store store store store\n",
            "\n",
            "\n",
            "Model: supermarket store store store store store store store store store and Actual Answer: mall\n",
            "Q: Where is food likely to stay dry?\n",
            "O: etna /// cupboard /// oven /// stomach /// fridge\n",
            "A:  fridge fridge fridge fridge fridge fridge fridge fridge fridge fridge\n",
            "\n",
            "\n",
            "Model: fridge fridge fridge fridge fridge fridge fridge fridge fridge fridge and Actual Answer: cupboard\n"
          ]
        },
        {
          "output_type": "stream",
          "name": "stderr",
          "text": [
            " 35%|███▌      | 430/1221 [01:22<02:29,  5.30it/s]"
          ]
        },
        {
          "output_type": "stream",
          "name": "stdout",
          "text": [
            "Q: What is it called when a person with mental illness is able to lead a relatively normal life?\n",
            "O: managed /// effectively treated /// recur /// cause delusion /// illusion\n",
            "A:  managed treatment of delusion caused delusion caused delusion caused delusion\n",
            "\n",
            "\n",
            "Model: managed treatment of delusion caused delusion caused delusion caused delusion and Actual Answer: managed\n",
            "Q: Where do you keep musical instrument so it doesn't get scratched?\n",
            "O: bank /// orchestra /// case /// music room /// movie\n",
            "A:  case room music room music room music room music room\n",
            "\n",
            "\n",
            "Model: case room music room music room music room music room and Actual Answer: case\n"
          ]
        },
        {
          "output_type": "stream",
          "name": "stderr",
          "text": [
            " 35%|███▌      | 432/1221 [01:22<02:28,  5.31it/s]"
          ]
        },
        {
          "output_type": "stream",
          "name": "stdout",
          "text": [
            "Q: The woman is watching television and trying to forget her day, what is her goal?\n",
            "O: entertainment /// falling asleep /// getting fat /// crying /// relaxation\n",
            "A:  relaxation /// relaxation\n",
            "\n",
            "\n",
            "Model: relaxation and Actual Answer: relaxation\n",
            "Q: While John Candy and Dan Aykroyd didn't run into a gazelle, you'd have to go where to see one?\n",
            "O: eastern hemisphere /// the city /// open plain /// television program /// great outdoors\n",
            "A:  television program program program program program program program program program\n",
            "\n",
            "\n",
            "Model: television program program program program program program program program program and Actual Answer: great outdoors\n"
          ]
        },
        {
          "output_type": "stream",
          "name": "stderr",
          "text": [
            " 36%|███▌      | 434/1221 [01:23<02:28,  5.32it/s]"
          ]
        },
        {
          "output_type": "stream",
          "name": "stdout",
          "text": [
            "Q: When we are running what are we doing?\n",
            "O: stretches /// running from police /// learn to walk /// go quickly /// get out of bed\n",
            "A:  running from police officer officer officer officer officer officer officer\n",
            "\n",
            "\n",
            "Model: running from police officer officer officer officer officer officer officer and Actual Answer: go quickly\n",
            "Q: It's dangerous to let pet birds free so it's better to keep them what?\n",
            "O: slavery /// caught /// caged in /// topfree /// prisoner\n",
            "A:  prisoner in slavery /// slave in slavery\n",
            "\n",
            "\n",
            "Model: prisoner in slavery and Actual Answer: caged in\n"
          ]
        },
        {
          "output_type": "stream",
          "name": "stderr",
          "text": [
            " 36%|███▌      | 436/1221 [01:23<02:28,  5.29it/s]"
          ]
        },
        {
          "output_type": "stream",
          "name": "stdout",
          "text": [
            "Q: A beaver is know for building prowess, their supplies come from where?\n",
            "O: british columbia /// body of water /// wooded area /// pay debts /// zoo\n",
            "A:  british columbia columbia col\n",
            "\n",
            "\n",
            "Model: british columbia columbia col and Actual Answer: wooded area\n",
            "Q: Zane doesn't like answering questions.  He's not good at it because he suffers from what?\n",
            "O: panic /// discussion /// attention /// confusion /// satisfaction\n",
            "A:  confusion /// confusion\n",
            "\n",
            "\n",
            "Model: confusion and Actual Answer: confusion\n"
          ]
        },
        {
          "output_type": "stream",
          "name": "stderr",
          "text": [
            " 36%|███▌      | 438/1221 [01:23<02:27,  5.32it/s]"
          ]
        },
        {
          "output_type": "stream",
          "name": "stdout",
          "text": [
            "Q: Going public about a common problem can gain what for a celebrity?\n",
            "O: wide acceptance /// a degree /// pain /// getting high /// press coverage\n",
            "A:  publicity coverage coverage of a celebrity event event event event\n",
            "\n",
            "\n",
            "Model: publicity coverage coverage of a celebrity event event event event and Actual Answer: wide acceptance\n",
            "Q: The electricity went out and everyone was shrouded in darkness.  They all remained in their seats, because it would have been dangerous to try to find there way out.  Where mihgt they have been?\n",
            "O: opera /// concert /// basement /// bedroom /// grand canyon\n",
            "A:  concert basement basement basement basement basement basement basement basement basement\n",
            "\n",
            "\n",
            "Model: concert basement basement basement basement basement basement basement basement basement and Actual Answer: opera\n"
          ]
        },
        {
          "output_type": "stream",
          "name": "stderr",
          "text": [
            " 36%|███▌      | 440/1221 [01:24<02:25,  5.36it/s]"
          ]
        },
        {
          "output_type": "stream",
          "name": "stdout",
          "text": [
            "Q: Where could you find hundreds of beauty salon?\n",
            "O: clerk /// mall /// strip mall /// city /// neighborhood\n",
            "A:  strip mall area area area area area area area area\n",
            "\n",
            "\n",
            "Model: strip mall area area area area area area area area and Actual Answer: city\n",
            "Q: If it is Chrismas time what came most recently before?\n",
            "O: halloween /// summer /// easter /// kwaanza /// give gift\n",
            "A:  kwaanzaanzaanza time event event event event\n",
            "\n",
            "\n",
            "Model: kwaanzaanzaanza time event event event event and Actual Answer: halloween\n"
          ]
        },
        {
          "output_type": "stream",
          "name": "stderr",
          "text": [
            " 36%|███▌      | 442/1221 [01:24<02:23,  5.42it/s]"
          ]
        },
        {
          "output_type": "stream",
          "name": "stdout",
          "text": [
            "Q: If someone found out their brother was having a daughter, they would have to add a niece limb to the what?\n",
            "O: family picture book /// family reunion /// brother's house /// family tree /// baby shower\n",
            "A:  family reunion reunion reunion tree tree tree tree tree tree\n",
            "\n",
            "\n",
            "Model: family reunion reunion reunion tree tree tree tree tree tree and Actual Answer: family tree\n",
            "Q: The criminal insisted he must do the crime to the bank teller, but she tried to convince him there were other ways in life and this was what?\n",
            "O: willing /// optional /// should not /// have to /// unnecessary\n",
            "A:  optional\n",
            "\n",
            "\n",
            "Model: optional and Actual Answer: unnecessary\n"
          ]
        },
        {
          "output_type": "stream",
          "name": "stderr",
          "text": [
            " 36%|███▋      | 444/1221 [01:24<02:22,  5.44it/s]"
          ]
        },
        {
          "output_type": "stream",
          "name": "stdout",
          "text": [
            "Q: what do you fill with ink to write?\n",
            "O: squid /// fountain pen /// pencil case /// newspaper /// printer\n",
            "A:  pencil case case case case case case case case case\n",
            "\n",
            "\n",
            "Model: pencil case case case case case case case case case and Actual Answer: fountain pen\n",
            "Q: He walked into the room and had a great shock, his friends had what him?\n",
            "O: expected /// wanting /// calm /// thundershock /// surprised\n",
            "A:  expectantantantantantantantantant\n",
            "\n",
            "\n",
            "Model: expectantantantantantantantantant and Actual Answer: surprised\n"
          ]
        },
        {
          "output_type": "stream",
          "name": "stderr",
          "text": [
            " 37%|███▋      | 446/1221 [01:25<02:21,  5.46it/s]"
          ]
        },
        {
          "output_type": "stream",
          "name": "stdout",
          "text": [
            "Q: He wasn't the hugging type, even when he meet friend he'd just do what?\n",
            "O: have sex /// smile /// hug each other /// conversation /// handshake\n",
            "A:  hug each other while meeting friend while meeting friend.\n",
            "\n",
            "\n",
            "Model: hug each other while meeting friend while meeting friend. and Actual Answer: handshake\n",
            "Q: If you were lost you might need a map, the best place to find one on the road is at any what?\n",
            "O: truck stop /// amusement park /// atlas /// mall /// gas station\n",
            "A:  amusement park park park park park park park park park\n",
            "\n",
            "\n",
            "Model: amusement park park park park park park park park park and Actual Answer: gas station\n"
          ]
        },
        {
          "output_type": "stream",
          "name": "stderr",
          "text": [
            " 37%|███▋      | 448/1221 [01:25<02:21,  5.47it/s]"
          ]
        },
        {
          "output_type": "stream",
          "name": "stdout",
          "text": [
            "Q: Where would you put a net if you wanted to use it?\n",
            "O: sports /// fishing gear /// soccer game /// fishing boat /// badminton\n",
            "A:  fishing gear bag /// fishing boat boat boat boat boat\n",
            "\n",
            "\n",
            "Model: fishing gear bag and Actual Answer: fishing boat\n",
            "Q: Sage loved communicating  He liked doing what with his peers?\n",
            "O: exchanging ideas /// confusion /// peer pressure /// response /// learning\n",
            "A:  learning about ideas /// learning about ideas\n",
            "\n",
            "\n",
            "Model: learning about ideas and Actual Answer: exchanging ideas\n"
          ]
        },
        {
          "output_type": "stream",
          "name": "stderr",
          "text": [
            " 37%|███▋      | 450/1221 [01:25<02:22,  5.43it/s]"
          ]
        },
        {
          "output_type": "stream",
          "name": "stdout",
          "text": [
            "Q: Where would a cat snuggle up with their human?\n",
            "O: floor /// humane society /// bed /// comfortable chair /// window sill\n",
            "A:  bedside chair sill sill sill sill sill sill sill\n",
            "\n",
            "\n",
            "Model: bedside chair sill sill sill sill sill sill sill and Actual Answer: comfortable chair\n",
            "Q: What is a place that has large cable hanging overhead?\n",
            "O: radio shack /// electrical device /// shower /// substation /// television\n",
            "A:  television shack /// television shackles\n",
            "\n",
            "\n",
            "Model: television shack and Actual Answer: substation\n"
          ]
        },
        {
          "output_type": "stream",
          "name": "stderr",
          "text": [
            " 37%|███▋      | 452/1221 [01:26<02:22,  5.41it/s]"
          ]
        },
        {
          "output_type": "stream",
          "name": "stdout",
          "text": [
            "Q: Where do cars usually travel at very high speeds?\n",
            "O: freeway /// road /// race track /// alley /// parking lot\n",
            "A:  freeway area of road area of road area of road\n",
            "\n",
            "\n",
            "Model: freeway area of road area of road area of road and Actual Answer: race track\n",
            "Q: What might a person be watching if they see a man with a suitcase full of money?\n",
            "O: baggage compartment /// movie /// subway /// airplane /// cargo hold\n",
            "A:  airplane seat compartment shuttle shuttle shuttle shuttle shuttle shuttle shuttle\n",
            "\n",
            "\n",
            "Model: airplane seat compartment shuttle shuttle shuttle shuttle shuttle shuttle shuttle and Actual Answer: movie\n"
          ]
        },
        {
          "output_type": "stream",
          "name": "stderr",
          "text": [
            " 37%|███▋      | 454/1221 [01:26<02:21,  5.43it/s]"
          ]
        },
        {
          "output_type": "stream",
          "name": "stdout",
          "text": [
            "Q: Eating breakfast in bed while seeing a homeless person shivering outside your window may cause you to what?\n",
            "O: mess /// hungry /// feel guilty /// indigestion /// spills\n",
            "A:  feel guilty while eating breakfast in bed while watching a\n",
            "\n",
            "\n",
            "Model: feel guilty while eating breakfast in bed while watching a and Actual Answer: feel guilty\n",
            "Q: If I put in my key and open a hinged door, where am I likely entering?\n",
            "O: kitchen /// safe /// own house /// building /// pantry\n",
            "A:  safe house building building building building building building building building\n",
            "\n",
            "\n",
            "Model: safe house building building building building building building building building and Actual Answer: own house\n"
          ]
        },
        {
          "output_type": "stream",
          "name": "stderr",
          "text": [
            " 37%|███▋      | 456/1221 [01:27<02:20,  5.45it/s]"
          ]
        },
        {
          "output_type": "stream",
          "name": "stdout",
          "text": [
            "Q: If somebody is working at a reception desk, they are located at the front entrance of the what?\n",
            "O: motel /// hostel /// building /// lobby /// office park\n",
            "A:  hotel room park park park park park park park park\n",
            "\n",
            "\n",
            "Model: hotel room park park park park park park park park and Actual Answer: building\n",
            "Q: If you're reading a newspaper from another country what are you doing?\n",
            "O: learning about world /// education /// get angry /// concern /// eat cake\n",
            "A:  learning about world world world world world world world world\n",
            "\n",
            "\n",
            "Model: learning about world world world world world world world world and Actual Answer: learning about world\n"
          ]
        },
        {
          "output_type": "stream",
          "name": "stderr",
          "text": [
            " 38%|███▊      | 458/1221 [01:27<02:19,  5.47it/s]"
          ]
        },
        {
          "output_type": "stream",
          "name": "stdout",
          "text": [
            "Q: They wanted to recognize his accomplishment, where should they put his name?\n",
            "O: certificate /// directory /// phone book /// lineup /// roster\n",
            "A:  phone book list list list list list list list list\n",
            "\n",
            "\n",
            "Model: phone book list list list list list list list list and Actual Answer: certificate\n",
            "Q: What is it called when a person tends to leave things to the last minute?\n",
            "O: procrastinate /// complete collection /// headache /// good time management /// have to hold\n",
            "A:  have to hold things to last minute\n",
            "\n",
            "\n",
            "Model: have to hold things to last minute and Actual Answer: procrastinate\n"
          ]
        },
        {
          "output_type": "stream",
          "name": "stderr",
          "text": [
            " 38%|███▊      | 460/1221 [01:27<02:18,  5.48it/s]"
          ]
        },
        {
          "output_type": "stream",
          "name": "stdout",
          "text": [
            "Q: What will you do if you do not want to settle in one place?\n",
            "O: walk /// agitate /// wander /// remove /// disturb\n",
            "A:  walk in one place /// walk in one place ///\n",
            "\n",
            "\n",
            "Model: walk in one place and Actual Answer: wander\n",
            "Q: Where would a person live that isn't in the metro area but still has good schools?\n",
            "O: woods /// bed /// suburbs /// rural /// neighborhood\n",
            "A:  suburbs area of town of town of town of town\n",
            "\n",
            "\n",
            "Model: suburbs area of town of town of town of town and Actual Answer: suburbs\n"
          ]
        },
        {
          "output_type": "stream",
          "name": "stderr",
          "text": [
            " 38%|███▊      | 462/1221 [01:28<02:18,  5.48it/s]"
          ]
        },
        {
          "output_type": "stream",
          "name": "stdout",
          "text": [
            "Q: Jane works for the government as a senator, where does she spend a lot of time?\n",
            "O: capitol building /// everything /// washington d.c /// russia /// canada\n",
            "A:  washington d.c.c.c.\n",
            "\n",
            "\n",
            "Model: washington d.c.c.c. and Actual Answer: capitol building\n",
            "Q: What is it called when two people in love have children?\n",
            "O: take oath /// procreate /// matrimony /// please parents /// live life\n",
            "A:  matrimony and matrimony and matrim\n",
            "\n",
            "\n",
            "Model: matrimony and matrimony and matrim and Actual Answer: procreate\n"
          ]
        },
        {
          "output_type": "stream",
          "name": "stderr",
          "text": [
            " 38%|███▊      | 464/1221 [01:28<02:18,  5.48it/s]"
          ]
        },
        {
          "output_type": "stream",
          "name": "stdout",
          "text": [
            "Q: What did the policemen do when they heard a cry from a distance?\n",
            "O: run away /// hurry along /// fine motorists /// direct traffic /// help\n",
            "A:  run away from a distance from a distance from a\n",
            "\n",
            "\n",
            "Model: run away from a distance from a distance from a and Actual Answer: help\n",
            "Q: It takes ambition to complete a job, but the first step is to what?\n",
            "O: take care of proposals /// begin work /// in charge of project /// eat cake /// go to school\n",
            "A:  take care of proposals to work towards project project project\n",
            "\n",
            "\n",
            "Model: take care of proposals to work towards project project project and Actual Answer: begin work\n"
          ]
        },
        {
          "output_type": "stream",
          "name": "stderr",
          "text": [
            " 38%|███▊      | 466/1221 [01:28<02:17,  5.48it/s]"
          ]
        },
        {
          "output_type": "stream",
          "name": "stdout",
          "text": [
            "Q: Where would I not want a fox?\n",
            "O: hen house /// english hunt /// mountains /// outside bedroom window /// england\n",
            "A:  england window window window window window window window window\n",
            "\n",
            "\n",
            "Model: england window window window window window window window window and Actual Answer: hen house\n",
            "Q: What type of building has the most top floor?\n",
            "O: go down /// apartment building /// tall building /// office building /// cabin\n",
            "A:  apartment building building building building building building building building building\n",
            "\n",
            "\n",
            "Model: apartment building building building building building building building building building and Actual Answer: tall building\n"
          ]
        },
        {
          "output_type": "stream",
          "name": "stderr",
          "text": [
            " 38%|███▊      | 468/1221 [01:29<02:17,  5.48it/s]"
          ]
        },
        {
          "output_type": "stream",
          "name": "stdout",
          "text": [
            "Q: What do humans do to other humans after death?\n",
            "O: celebrate /// burial /// life /// rebirth /// decomposition\n",
            "A:  rebirth and rebirth and rebirth and rebirth and rebirth and\n",
            "\n",
            "\n",
            "Model: rebirth and rebirth and rebirth and rebirth and rebirth and and Actual Answer: burial\n",
            "Q: Where can you find a restaurant's phone number?\n",
            "O: yellow pages /// town /// business sector /// town /// at hotel\n",
            "A:  town area town area area area area area area area\n",
            "\n",
            "\n",
            "Model: town area town area area area area area area area and Actual Answer: yellow pages\n"
          ]
        },
        {
          "output_type": "stream",
          "name": "stderr",
          "text": [
            " 38%|███▊      | 470/1221 [01:29<02:17,  5.46it/s]"
          ]
        },
        {
          "output_type": "stream",
          "name": "stdout",
          "text": [
            "Q: What would you put coins into to make it work?\n",
            "O: stove /// water fountain /// desk /// purse /// jar\n",
            "A:  jar of water fountain fountain fountain fountain fountain fountain fountain\n",
            "\n",
            "\n",
            "Model: jar of water fountain fountain fountain fountain fountain fountain fountain and Actual Answer: water fountain\n",
            "Q: A patriotic guy with a camera is looking for a bald eagle, what is he likely to do with the eagle if he finds one?\n",
            "O: city /// canada /// minnesota /// thermal /// photograph\n",
            "A:  photograph photograph photograph photograph photograph photograph photograph photograph photograph photograph\n",
            "\n",
            "\n",
            "Model: photograph photograph photograph photograph photograph photograph photograph photograph photograph photograph and Actual Answer: photograph\n"
          ]
        },
        {
          "output_type": "stream",
          "name": "stderr",
          "text": [
            " 39%|███▊      | 472/1221 [01:30<02:17,  5.44it/s]"
          ]
        },
        {
          "output_type": "stream",
          "name": "stdout",
          "text": [
            "Q: Where can you go to use a piano in your neighborhood if you don't have one?\n",
            "O: music school /// music store /// neighbor's house /// lunch /// drawing room\n",
            "A:  music store in the neighborhood of the neighborhood of the\n",
            "\n",
            "\n",
            "Model: music store in the neighborhood of the neighborhood of the and Actual Answer: neighbor's house\n",
            "Q: Where would you get a shower curtain if you do not have one?\n",
            "O: department store /// restaurant /// hotel /// dime store /// bathtub\n",
            "A:  department store store store store store store store store store\n",
            "\n",
            "\n",
            "Model: department store store store store store store store store store and Actual Answer: department store\n"
          ]
        },
        {
          "output_type": "stream",
          "name": "stderr",
          "text": [
            " 39%|███▉      | 474/1221 [01:30<02:18,  5.39it/s]"
          ]
        },
        {
          "output_type": "stream",
          "name": "stdout",
          "text": [
            "Q: Kissing is normally an activity reserved for your romantic what?\n",
            "O: anus /// partner /// arousal /// trust /// cooperation\n",
            "A:  partner's anus /// partner's anus /// partner's\n",
            "\n",
            "\n",
            "Model: partner's anus and Actual Answer: partner\n",
            "Q: What does a child learn to do before school?\n",
            "O: count to ten /// state name /// dress herself /// clean room /// socialize\n",
            "A:  dress herself herself herself herself herself herself herself herself herself\n",
            "\n",
            "\n",
            "Model: dress herself herself herself herself herself herself herself herself herself and Actual Answer: dress herself\n"
          ]
        },
        {
          "output_type": "stream",
          "name": "stderr",
          "text": [
            " 39%|███▉      | 476/1221 [01:30<02:19,  5.35it/s]"
          ]
        },
        {
          "output_type": "stream",
          "name": "stdout",
          "text": [
            "Q: He was getting advice for the job interview, they told him when talking to the interviewer always make what?\n",
            "O: get tired of /// small talk /// eye contact /// friendship /// social life\n",
            "A:  friendship life life life life life life life life life\n",
            "\n",
            "\n",
            "Model: friendship life life life life life life life life life and Actual Answer: eye contact\n",
            "Q: According to what book did an apple tree lead to the downfall of man?\n",
            "O: bible /// spain /// harry potter /// new york /// woods\n",
            "A:  new yorkorkorkorkorkorkorkork\n",
            "\n",
            "\n",
            "Model: new yorkorkorkorkorkorkorkork and Actual Answer: bible\n"
          ]
        },
        {
          "output_type": "stream",
          "name": "stderr",
          "text": [
            " 39%|███▉      | 478/1221 [01:31<02:19,  5.34it/s]"
          ]
        },
        {
          "output_type": "stream",
          "name": "stdout",
          "text": [
            "Q: The neighborhood had a great sense of community, there was always a crowd at the landing of the what?\n",
            "O: stairwell /// arena /// ocean /// airport /// apartment building\n",
            "A:  apartment building building building building building building building building building\n",
            "\n",
            "\n",
            "Model: apartment building building building building building building building building building and Actual Answer: apartment building\n",
            "Q: What might a kind person do?\n",
            "O: cross street /// talk to themselves /// open doors /// throw away /// study greek\n",
            "A:  open doors /// open doors /// open doors\n",
            "\n",
            "\n",
            "Model: open doors and Actual Answer: open doors\n"
          ]
        },
        {
          "output_type": "stream",
          "name": "stderr",
          "text": [
            " 39%|███▉      | 480/1221 [01:31<02:17,  5.39it/s]"
          ]
        },
        {
          "output_type": "stream",
          "name": "stdout",
          "text": [
            "Q: What will a person do at work?\n",
            "O: cross street /// draw attention to themselves /// make money /// falling down /// come home\n",
            "A:  draw attention to themselves to themselves at work, draw\n",
            "\n",
            "\n",
            "Model: draw attention to themselves to themselves at work, draw and Actual Answer: make money\n",
            "Q: John saw a fox running along the beach and was glad to be on the east coast.  Where might he have been?\n",
            "O: tennessee /// south carolina /// louisiana /// oklahoma /// mountains\n",
            "A:  louisiana louisiana louisiana lou\n",
            "\n",
            "\n",
            "Model: louisiana louisiana louisiana lou and Actual Answer: south carolina\n"
          ]
        },
        {
          "output_type": "stream",
          "name": "stderr",
          "text": [
            " 39%|███▉      | 482/1221 [01:31<02:16,  5.41it/s]"
          ]
        },
        {
          "output_type": "stream",
          "name": "stdout",
          "text": [
            "Q: Name a location where you would not want to find mice.\n",
            "O: loft /// attic /// bell cat /// countryside /// laboratory\n",
            "A:  attic loft loft loft loft loft loft loft loft loft\n",
            "\n",
            "\n",
            "Model: attic loft loft loft loft loft loft loft loft loft and Actual Answer: attic\n",
            "Q: The man started to learn jogging, what was he hoping to do?\n",
            "O: exhaustion /// getting in shape /// fitness /// injure himself /// fatigue\n",
            "A:  get in shape /// get in shape /// get in\n",
            "\n",
            "\n",
            "Model: get in shape and Actual Answer: getting in shape\n"
          ]
        },
        {
          "output_type": "stream",
          "name": "stderr",
          "text": [
            " 40%|███▉      | 484/1221 [01:32<02:15,  5.44it/s]"
          ]
        },
        {
          "output_type": "stream",
          "name": "stdout",
          "text": [
            "Q: Where do most people turn to get information on their phones?\n",
            "O: internet /// book /// online /// google /// manual\n",
            "A:  internet web page /// internet page /// internet page\n",
            "\n",
            "\n",
            "Model: internet web page and Actual Answer: google\n",
            "Q: What happens to a body after death?\n",
            "O: rebirth /// human experience /// sadness /// decomposition /// obesity\n",
            "A:  decomposition of body\n",
            "\n",
            "\n",
            "Model: decomposition of body and Actual Answer: decomposition\n"
          ]
        },
        {
          "output_type": "stream",
          "name": "stderr",
          "text": [
            " 40%|███▉      | 486/1221 [01:32<02:15,  5.41it/s]"
          ]
        },
        {
          "output_type": "stream",
          "name": "stdout",
          "text": [
            "Q: What type of non-vegetarian soup is one likely to find a potato?\n",
            "O: beef stew /// own kitchen /// clam chowder /// kitchen cabinet /// pantry\n",
            "A:  clam chowder stew recipe recipe recipe recipe recipe recipe\n",
            "\n",
            "\n",
            "Model: clam chowder stew recipe recipe recipe recipe recipe recipe and Actual Answer: clam chowder\n",
            "Q: Though she had a disability, what did her encouraging and positive coach see in her?\n",
            "O: qualification /// strength /// pity /// competence /// potential\n",
            "A:  potential competence\n",
            "\n",
            "\n",
            "Model: potential competence and Actual Answer: potential\n"
          ]
        },
        {
          "output_type": "stream",
          "name": "stderr",
          "text": [
            " 40%|███▉      | 488/1221 [01:32<02:15,  5.39it/s]"
          ]
        },
        {
          "output_type": "stream",
          "name": "stdout",
          "text": [
            "Q: They had a theory of what they could do in t he big game, so over and over they would what?\n",
            "O: park /// practice /// fact /// practical /// practise\n",
            "A:  practise practise practise practise practise practise practise practise practise practise\n",
            "\n",
            "\n",
            "Model: practise practise practise practise practise practise practise practise practise practise and Actual Answer: practice\n",
            "Q: When you see something rise, you are where in relation to it?\n",
            "O: sun set /// near /// fall /// below /// lower\n",
            "A:  below ground ground ground ground ground ground ground ground ground\n",
            "\n",
            "\n",
            "Model: below ground ground ground ground ground ground ground ground ground and Actual Answer: below\n"
          ]
        },
        {
          "output_type": "stream",
          "name": "stderr",
          "text": [
            " 40%|████      | 490/1221 [01:33<02:15,  5.40it/s]"
          ]
        },
        {
          "output_type": "stream",
          "name": "stdout",
          "text": [
            "Q: They were getting ready for a really long hike, he put the food can in his what?\n",
            "O: cabinet /// house /// recycling center /// backpack /// make person sick\n",
            "A:  backpack /// backpack\n",
            "\n",
            "\n",
            "Model: backpack and Actual Answer: backpack\n",
            "Q: Where would you keep a rug near your front door?\n",
            "O: persia /// desk /// table /// living room /// hall\n",
            "A:  table room room room room room room room room room\n",
            "\n",
            "\n",
            "Model: table room room room room room room room room room and Actual Answer: living room\n"
          ]
        },
        {
          "output_type": "stream",
          "name": "stderr",
          "text": [
            " 40%|████      | 492/1221 [01:33<02:16,  5.34it/s]"
          ]
        },
        {
          "output_type": "stream",
          "name": "stdout",
          "text": [
            "Q: When you slip from a ladder propped on anything what will you do?\n",
            "O: obesity /// fall down /// matter to /// whatever /// surprise\n",
            "A:  fall down down down down down down down down down\n",
            "\n",
            "\n",
            "Model: fall down down down down down down down down down and Actual Answer: fall down\n",
            "Q: What do you do when you need to get food?\n",
            "O: table /// disneyland /// refrigerators /// pantry /// shop\n",
            "A:  store room room room room room room room room room\n",
            "\n",
            "\n",
            "Model: store room room room room room room room room room and Actual Answer: shop\n"
          ]
        },
        {
          "output_type": "stream",
          "name": "stderr",
          "text": [
            " 40%|████      | 494/1221 [01:34<02:16,  5.33it/s]"
          ]
        },
        {
          "output_type": "stream",
          "name": "stdout",
          "text": [
            "Q: Brad tried to arise from bed but he could not.  Instead, he just continued to do what?\n",
            "O: go down /// fall down /// lie down /// lie to himself /// sit down\n",
            "A:  lie to himself to himself to himself to himself to\n",
            "\n",
            "\n",
            "Model: lie to himself to himself to himself to himself to and Actual Answer: lie down\n",
            "Q: If a heifer is really high quality, you might take her where?\n",
            "O: home /// dairy farm /// cattle show /// dairy barn /// corral\n",
            "A:  dairy barn barns show /// dairy barns show\n",
            "\n",
            "\n",
            "Model: dairy barn barns show and Actual Answer: cattle show\n"
          ]
        },
        {
          "output_type": "stream",
          "name": "stderr",
          "text": [
            " 41%|████      | 496/1221 [01:34<02:15,  5.34it/s]"
          ]
        },
        {
          "output_type": "stream",
          "name": "stdout",
          "text": [
            "Q: What do people want to acquire from opening business?\n",
            "O: home /// wealth /// bankruptcy /// lose money /// get rich\n",
            "A:  get rich /// get rich\n",
            "\n",
            "\n",
            "Model: get rich and Actual Answer: wealth\n",
            "Q: What has someone who had finished their undergraduate done?\n",
            "O: graduated /// masters /// postgraduate /// phd /// professor\n",
            "A:  graduate students graduate students graduate students graduate students graduate students\n",
            "\n",
            "\n",
            "Model: graduate students graduate students graduate students graduate students graduate students and Actual Answer: graduated\n"
          ]
        },
        {
          "output_type": "stream",
          "name": "stderr",
          "text": [
            " 41%|████      | 498/1221 [01:34<02:16,  5.30it/s]"
          ]
        },
        {
          "output_type": "stream",
          "name": "stdout",
          "text": [
            "Q: Where are bus stops more common in what parts?\n",
            "O: ocean /// getting off of bus /// airport /// urban area /// towns\n",
            "A:  urban area area area area area area area area area\n",
            "\n",
            "\n",
            "Model: urban area area area area area area area area area and Actual Answer: urban area\n",
            "Q: Bill wanted to pick up a stranger, preferably a responsible one with kids.  Where might he look for one?\n",
            "O: bus station /// paradise /// train station /// park /// sea\n",
            "A:  train station station station station station station station station station\n",
            "\n",
            "\n",
            "Model: train station station station station station station station station station and Actual Answer: park\n"
          ]
        },
        {
          "output_type": "stream",
          "name": "stderr",
          "text": [
            " 41%|████      | 500/1221 [01:35<02:15,  5.34it/s]"
          ]
        },
        {
          "output_type": "stream",
          "name": "stdout",
          "text": [
            "Q: Where might a lemur frolic in the market?\n",
            "O: desert /// hole /// india /// cage /// rain forest\n",
            "A:  desert area area area area area area area area area\n",
            "\n",
            "\n",
            "Model: desert area area area area area area area area area and Actual Answer: india\n",
            "Q: What might I place under the furniture?\n",
            "O: rug /// room /// toy /// friend's house /// building\n",
            "A:  rug /// rug /// rug\n",
            "\n",
            "\n",
            "Model: rug and Actual Answer: rug\n"
          ]
        },
        {
          "output_type": "stream",
          "name": "stderr",
          "text": [
            " 41%|████      | 502/1221 [01:35<02:14,  5.36it/s]"
          ]
        },
        {
          "output_type": "stream",
          "name": "stdout",
          "text": [
            "Q: Everybody began performing once their director stated what?\n",
            "O: fear /// injury /// happiness /// action /// cut\n",
            "A:  injury caused by injury caused by injury caused by injury\n",
            "\n",
            "\n",
            "Model: injury caused by injury caused by injury caused by injury and Actual Answer: action\n",
            "Q: By learning about the world, many poor college students gain what?\n",
            "O: pleasure /// greater mobility /// desire to travel /// global warming /// increased security\n",
            "A:  greater mobility and mobility in travel in travel: \n",
            "\n",
            "\n",
            "Model: greater mobility and mobility in travel in travel: and Actual Answer: desire to travel\n"
          ]
        },
        {
          "output_type": "stream",
          "name": "stderr",
          "text": [
            " 41%|████▏     | 504/1221 [01:35<02:13,  5.37it/s]"
          ]
        },
        {
          "output_type": "stream",
          "name": "stdout",
          "text": [
            "Q: Where are required to carry books all day?\n",
            "O: friend's house /// university /// large city /// storage /// table\n",
            "A:  friend's house, large city hall hall hall hall\n",
            "\n",
            "\n",
            "Model: friend's house, large city hall hall hall hall and Actual Answer: university\n",
            "Q: where is seaweed from?\n",
            "O: beach /// sea /// ocean /// water /// sea plant\n",
            "A:  sea plant plant plant plant plant plant plant plant plant\n",
            "\n",
            "\n",
            "Model: sea plant plant plant plant plant plant plant plant plant and Actual Answer: ocean\n"
          ]
        },
        {
          "output_type": "stream",
          "name": "stderr",
          "text": [
            " 41%|████▏     | 506/1221 [01:36<02:13,  5.37it/s]"
          ]
        },
        {
          "output_type": "stream",
          "name": "stdout",
          "text": [
            "Q: how can i store cooked steak?\n",
            "O: oven /// freezer /// plate /// tupperware /// grill\n",
            "A:  plateware oven oven oven oven oven oven oven oven\n",
            "\n",
            "\n",
            "Model: plateware oven oven oven oven oven oven oven oven and Actual Answer: freezer\n",
            "Q: John wanted to clean all of the dust out of his place before settling down to watch his favorite shows.  What might he hardest do dust?\n",
            "O: closet /// under the bed /// television /// attic /// most buildings\n",
            "A:  attic room room room room room room room room room\n",
            "\n",
            "\n",
            "Model: attic room room room room room room room room room and Actual Answer: attic\n"
          ]
        },
        {
          "output_type": "stream",
          "name": "stderr",
          "text": [
            " 42%|████▏     | 508/1221 [01:36<02:12,  5.37it/s]"
          ]
        },
        {
          "output_type": "stream",
          "name": "stdout",
          "text": [
            "Q: Something had the nerve to break into the garbage last night, what did it?\n",
            "O: eyes /// animal /// fingertips /// brainstem /// human body\n",
            "A:  brainstem stem cell cell cell cell cell cell cell\n",
            "\n",
            "\n",
            "Model: brainstem stem cell cell cell cell cell cell cell and Actual Answer: animal\n",
            "Q: Where would you go to get some pamphlets if you want to own them?\n",
            "O: bookstore /// drawer /// health department /// mail box /// library\n",
            "A:  library library library library library library library library library library\n",
            "\n",
            "\n",
            "Model: library library library library library library library library library library and Actual Answer: bookstore\n"
          ]
        },
        {
          "output_type": "stream",
          "name": "stderr",
          "text": [
            " 42%|████▏     | 510/1221 [01:37<02:12,  5.38it/s]"
          ]
        },
        {
          "output_type": "stream",
          "name": "stdout",
          "text": [
            "Q: The audience cheered when a goal was scored, what were they spectating?\n",
            "O: school /// sporting event /// concert hall /// show /// television\n",
            "A:  sporting event hall hall hall hall hall hall hall hall\n",
            "\n",
            "\n",
            "Model: sporting event hall hall hall hall hall hall hall hall and Actual Answer: sporting event\n",
            "Q: What western state has thousands of miles of shore?\n",
            "O: picture of sea side /// seaside town /// beach /// california /// see side picture\n",
            "A:  california california california cal\n",
            "\n",
            "\n",
            "Model: california california california cal and Actual Answer: california\n"
          ]
        },
        {
          "output_type": "stream",
          "name": "stderr",
          "text": [
            " 42%|████▏     | 512/1221 [01:37<02:10,  5.44it/s]"
          ]
        },
        {
          "output_type": "stream",
          "name": "stdout",
          "text": [
            "Q: Everybody seemed to be crying at the holy site, the tour guide explained that this was what?\n",
            "O: profane /// halibut /// damaged /// common /// halibut\n",
            "A:  commonensical /// commonensical\n",
            "\n",
            "\n",
            "Model: commonensical and Actual Answer: common\n",
            "Q: The smile gave away that the what was one of happiness?\n",
            "O: manual /// rainbow /// cry /// frown /// make others happy too\n",
            "A:  smile frown frown frown frown frown frown frown frown frown\n",
            "\n",
            "\n",
            "Model: smile frown frown frown frown frown frown frown frown frown and Actual Answer: cry\n"
          ]
        },
        {
          "output_type": "stream",
          "name": "stderr",
          "text": [
            " 42%|████▏     | 514/1221 [01:37<02:10,  5.41it/s]"
          ]
        },
        {
          "output_type": "stream",
          "name": "stdout",
          "text": [
            "Q: Where is a public monument likely to be erected by a city?\n",
            "O: municipal park /// office /// state park /// cemetary /// public gardens\n",
            "A:  public gardens conducency park conducency park conducency\n",
            "\n",
            "\n",
            "Model: public gardens conducency park conducency park conducency and Actual Answer: municipal park\n",
            "Q: Where would a person live if they wanted no neighbors?\n",
            "O: housing estate /// neighborhood /// mars /// woods /// suburbs\n",
            "A:  neighborhood estate estate estate estate estate estate estate estate estate\n",
            "\n",
            "\n",
            "Model: neighborhood estate estate estate estate estate estate estate estate estate and Actual Answer: woods\n"
          ]
        },
        {
          "output_type": "stream",
          "name": "stderr",
          "text": [
            " 42%|████▏     | 516/1221 [01:38<02:10,  5.41it/s]"
          ]
        },
        {
          "output_type": "stream",
          "name": "stdout",
          "text": [
            "Q: Where is the control room that controls a PWR located?\n",
            "O: building /// factory /// window /// prison /// nuclear power plant\n",
            "A:  building building building building building building building building building building\n",
            "\n",
            "\n",
            "Model: building building building building building building building building building building and Actual Answer: nuclear power plant\n",
            "Q: What happens to a dog before someone puts up posters of them?\n",
            "O: get lost /// require water /// trained /// bark /// roll over\n",
            "A:  bark over /// bark over\n",
            "\n",
            "\n",
            "Model: bark over and Actual Answer: get lost\n"
          ]
        },
        {
          "output_type": "stream",
          "name": "stderr",
          "text": [
            " 42%|████▏     | 518/1221 [01:38<02:09,  5.42it/s]"
          ]
        },
        {
          "output_type": "stream",
          "name": "stdout",
          "text": [
            "Q: Where are the most famous BBQ steakhouses in america?\n",
            "O: texas /// building /// kansas city /// maine /// falling down\n",
            "A:  kansas city city city city city city city city\n",
            "\n",
            "\n",
            "Model: kansas city city city city city city city city and Actual Answer: texas\n",
            "Q: He kept plugging away in his cubicle, it seemed he was the only person not called into the what?\n",
            "O: building /// conference /// assessment /// demonstration /// garage\n",
            "A:  demonstration demonstration demonstration demonstration demonstration demonstration demonstration demonstration demonstration demonstration\n",
            "\n",
            "\n",
            "Model: demonstration demonstration demonstration demonstration demonstration demonstration demonstration demonstration demonstration demonstration and Actual Answer: conference\n"
          ]
        },
        {
          "output_type": "stream",
          "name": "stderr",
          "text": [
            " 43%|████▎     | 520/1221 [01:38<02:09,  5.42it/s]"
          ]
        },
        {
          "output_type": "stream",
          "name": "stdout",
          "text": [
            "Q: If you're attending school and are falling asleep you're likely experiencing what?\n",
            "O: boredom /// malaria /// graduate /// inspiration /// detention\n",
            "A:  boredom extingishment boredom extingishment extingishment extingishment\n",
            "\n",
            "\n",
            "Model: boredom extingishment boredom extingishment extingishment extingishment and Actual Answer: boredom\n",
            "Q: I want to buy a gong, where should I look for one?\n",
            "O: orchestra /// church /// chinese temple /// chinatown /// music store\n",
            "A:  music store /// music store\n",
            "\n",
            "\n",
            "Model: music store and Actual Answer: music store\n"
          ]
        },
        {
          "output_type": "stream",
          "name": "stderr",
          "text": [
            " 43%|████▎     | 522/1221 [01:39<02:08,  5.43it/s]"
          ]
        },
        {
          "output_type": "stream",
          "name": "stdout",
          "text": [
            "Q: What would friends do if they need each others' help?\n",
            "O: call each other /// group together /// understand each other /// meet for lunch /// part company\n",
            "A:  meet for lunch for lunch for lunch for lunch for\n",
            "\n",
            "\n",
            "Model: meet for lunch for lunch for lunch for lunch for and Actual Answer: group together\n",
            "Q: When people are playing a game, what is their motivation to play?\n",
            "O: believe in god /// dance /// desire to win /// destroy each other /// run amok\n",
            "A:  desire to win each other's game /// desire to\n",
            "\n",
            "\n",
            "Model: desire to win each other's game and Actual Answer: desire to win\n"
          ]
        },
        {
          "output_type": "stream",
          "name": "stderr",
          "text": [
            " 43%|████▎     | 524/1221 [01:39<02:08,  5.41it/s]"
          ]
        },
        {
          "output_type": "stream",
          "name": "stdout",
          "text": [
            "Q: Where could there be a battle that involves words?\n",
            "O: court room /// war /// video game /// iraq /// church\n",
            "A:  video game game game game game game game game game\n",
            "\n",
            "\n",
            "Model: video game game game game game game game game game and Actual Answer: court room\n",
            "Q: John didn't mind getting in line.  It was what game after that he hated.  The time, the sore feet. He did not like doing what?\n",
            "O: have to wait for /// standing in line /// eat cake /// less confusion /// being ordered\n",
            "A:  being ordered to wait for order to wait for order\n",
            "\n",
            "\n",
            "Model: being ordered to wait for order to wait for order and Actual Answer: standing in line\n"
          ]
        },
        {
          "output_type": "stream",
          "name": "stderr",
          "text": [
            " 43%|████▎     | 526/1221 [01:40<02:08,  5.42it/s]"
          ]
        },
        {
          "output_type": "stream",
          "name": "stdout",
          "text": [
            "Q: What is the process of going somewhere?\n",
            "O: fire /// energy /// car /// transporting /// staying in place\n",
            "A:  staying in place in place in place in place in\n",
            "\n",
            "\n",
            "Model: staying in place in place in place in place in and Actual Answer: transporting\n",
            "Q: The old man needed to have rest multiple times a day, he would do what on the couch and catnap?\n",
            "O: lay in bed /// lay in bed /// go to bed /// relax /// lie down\n",
            "A:  lay in bed in bed in bed in bed in\n",
            "\n",
            "\n",
            "Model: lay in bed in bed in bed in bed in and Actual Answer: lie down\n"
          ]
        },
        {
          "output_type": "stream",
          "name": "stderr",
          "text": [
            " 43%|████▎     | 528/1221 [01:40<02:07,  5.43it/s]"
          ]
        },
        {
          "output_type": "stream",
          "name": "stdout",
          "text": [
            "Q: The end of the barrel of what primitive firearm is bell shaped?\n",
            "O: barbell /// funnel /// blunderbuss /// wind instrument /// kettlebell\n",
            "A:  barbell kitbell kit kit kit kit kit kit\n",
            "\n",
            "\n",
            "Model: barbell kitbell kit kit kit kit kit kit and Actual Answer: blunderbuss\n",
            "Q: Where is a good place to store pamphlets in your home or office?\n",
            "O: library /// health department /// mail box /// drawer /// bookstore\n",
            "A:  mail box drawer drawer drawer drawer drawer drawer drawer drawer\n",
            "\n",
            "\n",
            "Model: mail box drawer drawer drawer drawer drawer drawer drawer drawer and Actual Answer: drawer\n"
          ]
        },
        {
          "output_type": "stream",
          "name": "stderr",
          "text": [
            " 43%|████▎     | 530/1221 [01:40<02:07,  5.43it/s]"
          ]
        },
        {
          "output_type": "stream",
          "name": "stdout",
          "text": [
            "Q: Many humans enjoy fishing and enjoy another relaxing activity at the same time, what activity is it?\n",
            "O: getting tied up lure. /// looking for information /// get wet /// drink beer /// sit quietly\n",
            "A:  getting wet /// getting wet /// getting wet\n",
            "\n",
            "\n",
            "Model: getting wet and Actual Answer: drink beer\n",
            "Q: Where would you get some maps that you own?\n",
            "O: bookstore /// library /// electrical circuit /// cabinet /// important when traveling\n",
            "A:  library library library library library library library library library library\n",
            "\n",
            "\n",
            "Model: library library library library library library library library library library and Actual Answer: cabinet\n"
          ]
        },
        {
          "output_type": "stream",
          "name": "stderr",
          "text": [
            " 44%|████▎     | 532/1221 [01:41<02:07,  5.41it/s]"
          ]
        },
        {
          "output_type": "stream",
          "name": "stdout",
          "text": [
            "Q: Where is a good place to put a hamburger?\n",
            "O: resturant /// fast food restaurant /// mouth /// kitchen /// pizza\n",
            "A:  pizza restaurant menu menu menu menu menu menu menu menu\n",
            "\n",
            "\n",
            "Model: pizza restaurant menu menu menu menu menu menu menu menu and Actual Answer: mouth\n",
            "Q: Where is a handy place to store a steel pen in your office?\n",
            "O: car shop /// desk drawer /// car. /// warehouse /// hand\n",
            "A:  desk drawer drawer drawer drawer drawer drawer drawer drawer drawer\n",
            "\n",
            "\n",
            "Model: desk drawer drawer drawer drawer drawer drawer drawer drawer drawer and Actual Answer: desk drawer\n"
          ]
        },
        {
          "output_type": "stream",
          "name": "stderr",
          "text": [
            " 44%|████▎     | 534/1221 [01:41<02:07,  5.40it/s]"
          ]
        },
        {
          "output_type": "stream",
          "name": "stdout",
          "text": [
            "Q: A story about World War II would be set when?\n",
            "O: book or library /// book or magazine /// newspaper /// past /// future\n",
            "A:  future future future future future future future future future future\n",
            "\n",
            "\n",
            "Model: future future future future future future future future future future and Actual Answer: past\n",
            "Q: What type of geographic area will you find a marmot?\n",
            "O: mountainous area /// wood pile /// jungle /// petting zoo /// animals\n",
            "A:  petting zoo zoo zoo zoo zoo zoo zoo zoo\n",
            "\n",
            "\n",
            "Model: petting zoo zoo zoo zoo zoo zoo zoo zoo and Actual Answer: mountainous area\n"
          ]
        },
        {
          "output_type": "stream",
          "name": "stderr",
          "text": [
            " 44%|████▍     | 536/1221 [01:41<02:06,  5.42it/s]"
          ]
        },
        {
          "output_type": "stream",
          "name": "stdout",
          "text": [
            "Q: Most people make stupid assumptions that are based on their prejudices.  What might they do instead to achieve better outcomes?\n",
            "O: set table /// think /// read books /// play games /// lie\n",
            "A:  set table table table /// think differently\n",
            "\n",
            "\n",
            "Model: set table table table and Actual Answer: think\n",
            "Q: What is something children can do while traveling in a car?\n",
            "O: listen to music /// watch television /// play chess /// walk /// play basketball\n",
            "A:  play chess game basketball game while traveling in a car\n",
            "\n",
            "\n",
            "Model: play chess game basketball game while traveling in a car and Actual Answer: listen to music\n"
          ]
        },
        {
          "output_type": "stream",
          "name": "stderr",
          "text": [
            " 44%|████▍     | 538/1221 [01:42<02:05,  5.44it/s]"
          ]
        },
        {
          "output_type": "stream",
          "name": "stdout",
          "text": [
            "Q: Where would you hear a trumpet along with other instruments made from the same material?\n",
            "O: music store /// bass /// brass band /// orchestra /// marching band\n",
            "A:  music store /// music store /// orchestra band band band\n",
            "\n",
            "\n",
            "Model: music store and Actual Answer: brass band\n",
            "Q: The audience listened to the orchestra play, where were they watching the performance?\n",
            "O: concert hall /// museum /// school /// hockey game /// sporting event\n",
            "A:  sporting event hall stadium stadium stadium stadium stadium stadium stadium\n",
            "\n",
            "\n",
            "Model: sporting event hall stadium stadium stadium stadium stadium stadium stadium and Actual Answer: concert hall\n"
          ]
        },
        {
          "output_type": "stream",
          "name": "stderr",
          "text": [
            " 44%|████▍     | 540/1221 [01:42<02:04,  5.47it/s]"
          ]
        },
        {
          "output_type": "stream",
          "name": "stdout",
          "text": [
            "Q: Stabbing to death of a person is what sort of way to die?\n",
            "O: pool of blood /// gruesome /// charming /// being arrested /// killing\n",
            "A:  being arrested by police arrest of a person who is\n",
            "\n",
            "\n",
            "Model: being arrested by police arrest of a person who is and Actual Answer: gruesome\n",
            "Q: What are you getting from you boss at the end of the week?\n",
            "O: asking for /// money /// food /// work /// energy\n",
            "A:  energy /// energy\n",
            "\n",
            "\n",
            "Model: energy and Actual Answer: money\n"
          ]
        },
        {
          "output_type": "stream",
          "name": "stderr",
          "text": [
            " 44%|████▍     | 542/1221 [01:42<02:03,  5.50it/s]"
          ]
        },
        {
          "output_type": "stream",
          "name": "stdout",
          "text": [
            "Q: If you have a ticket and you are planning to eat hot dogs, where would you go?\n",
            "O: lottery /// person's hand /// baseball stadium /// movie /// kitchen\n",
            "A:  movie stadium stadium stadium /// movie stadium /// movie stadium\n",
            "\n",
            "\n",
            "Model: movie stadium stadium stadium and Actual Answer: baseball stadium\n",
            "Q: Where is a great place to buy fresh fruit?\n",
            "O: san francisco /// refrigerator /// big box retailer /// tree /// market\n",
            "A:  supermarket store store store store store store store store store\n",
            "\n",
            "\n",
            "Model: supermarket store store store store store store store store store and Actual Answer: market\n"
          ]
        },
        {
          "output_type": "stream",
          "name": "stderr",
          "text": [
            " 45%|████▍     | 544/1221 [01:43<02:03,  5.49it/s]"
          ]
        },
        {
          "output_type": "stream",
          "name": "stdout",
          "text": [
            "Q: The man took paperwork to other people to consult over it, where was he heading?\n",
            "O: desk /// meeting /// office /// table /// work\n",
            "A:  office meeting meeting meeting meeting meeting meeting meeting meeting meeting\n",
            "\n",
            "\n",
            "Model: office meeting meeting meeting meeting meeting meeting meeting meeting meeting and Actual Answer: meeting\n",
            "Q: Stark was just having fun, and he wasn't hurting anyone.  What might have he been doing?\n",
            "O: painting his nails /// playing marbles /// constructing /// need for rest /// wild ride\n",
            "A:  painting his nails and building marbles\n",
            "\n",
            "\n",
            "Model: painting his nails and building marbles and Actual Answer: playing marbles\n"
          ]
        },
        {
          "output_type": "stream",
          "name": "stderr",
          "text": [
            " 45%|████▍     | 546/1221 [01:43<02:03,  5.46it/s]"
          ]
        },
        {
          "output_type": "stream",
          "name": "stdout",
          "text": [
            "Q: The church was giving assistance, what were they hoping to accomplish?\n",
            "O: exhilliration /// hardship /// risk taking /// helping others /// happiness\n",
            "A:  helping others /// helping others\n",
            "\n",
            "\n",
            "Model: helping others and Actual Answer: helping others\n",
            "Q: I you believe in god, where will you go when you die?\n",
            "O: heaven /// church /// imagination /// synagogue /// monastery\n",
            "A:  heaven and heaven and heaven and heaven and heaven and\n",
            "\n",
            "\n",
            "Model: heaven and heaven and heaven and heaven and heaven and and Actual Answer: heaven\n"
          ]
        },
        {
          "output_type": "stream",
          "name": "stderr",
          "text": [
            " 45%|████▍     | 548/1221 [01:44<02:04,  5.41it/s]"
          ]
        },
        {
          "output_type": "stream",
          "name": "stdout",
          "text": [
            "Q: What can eating hamburger cause immediately after eating it?\n",
            "O: tasty /// health problems /// eat cake /// indigestion /// gain weight\n",
            "A:  health problems caused by eating cake caused by eating cake\n",
            "\n",
            "\n",
            "Model: health problems caused by eating cake caused by eating cake and Actual Answer: indigestion\n",
            "Q: Where is a shelf likely to be hidden behind a door?\n",
            "O: refrigerator /// bookstore /// cupboard /// school building /// wardrobe\n",
            "A:  school building building building building building building building building building\n",
            "\n",
            "\n",
            "Model: school building building building building building building building building building and Actual Answer: cupboard\n"
          ]
        },
        {
          "output_type": "stream",
          "name": "stderr",
          "text": [
            " 45%|████▌     | 550/1221 [01:44<02:03,  5.42it/s]"
          ]
        },
        {
          "output_type": "stream",
          "name": "stdout",
          "text": [
            "Q: The man got a pail to catch the draining motor oil, where was he likely doing this at home?\n",
            "O: garage /// hardware store /// utility room /// wishing well /// laundry\n",
            "A:  hardware store room /// hardware store room\n",
            "\n",
            "\n",
            "Model: hardware store room and Actual Answer: garage\n",
            "Q: What kind of cold storage could you find in your house?\n",
            "O: ice pack /// freezer /// laboratory /// warehouse /// refrigerator\n",
            "A:  freezer freezer freezer freezer freezer freezer freezer freezer freezer freezer\n",
            "\n",
            "\n",
            "Model: freezer freezer freezer freezer freezer freezer freezer freezer freezer freezer and Actual Answer: refrigerator\n"
          ]
        },
        {
          "output_type": "stream",
          "name": "stderr",
          "text": [
            " 45%|████▌     | 552/1221 [01:44<02:03,  5.44it/s]"
          ]
        },
        {
          "output_type": "stream",
          "name": "stdout",
          "text": [
            "Q: Where could you go to between 1000 and 10000 restaurant?\n",
            "O: big city /// town /// small town /// canada /// yellow pages\n",
            "A:  town town town town town town town town town town\n",
            "\n",
            "\n",
            "Model: town town town town town town town town town town and Actual Answer: big city\n",
            "Q: The pitcher stepped on the mound ready to throw, where was he located specifically?\n",
            "O: hell /// baseball stadium /// golf course /// africa /// baseball diamond\n",
            "A:  baseball stadium /// baseball stadium\n",
            "\n",
            "\n",
            "Model: baseball stadium and Actual Answer: baseball diamond\n"
          ]
        },
        {
          "output_type": "stream",
          "name": "stderr",
          "text": [
            " 45%|████▌     | 554/1221 [01:45<02:02,  5.43it/s]"
          ]
        },
        {
          "output_type": "stream",
          "name": "stdout",
          "text": [
            "Q: Where is a statute found on a platform?\n",
            "O: below /// arena /// concert hall /// museum /// building\n",
            "A:  arena hall hall hall building building building building building building\n",
            "\n",
            "\n",
            "Model: arena hall hall hall building building building building building building and Actual Answer: museum\n",
            "Q: If it's not used for hair a round brush is an example of what?\n",
            "O: hair brush /// ladies bathroom /// art supplies /// shower /// hair salon\n",
            "A:  hair salon /// hair salon /// hair salon\n",
            "\n",
            "\n",
            "Model: hair salon and Actual Answer: art supplies\n"
          ]
        },
        {
          "output_type": "stream",
          "name": "stderr",
          "text": [
            " 46%|████▌     | 556/1221 [01:45<02:03,  5.39it/s]"
          ]
        },
        {
          "output_type": "stream",
          "name": "stdout",
          "text": [
            "Q: His parents thought he was suffering from boredom, but the teen loved to lay in bed and just do what?\n",
            "O: meet interesting people /// lift weights /// listen to music /// play chess /// entertain\n",
            "A:  listen to music to music to music to music to\n",
            "\n",
            "\n",
            "Model: listen to music to music to music to music to and Actual Answer: listen to music\n",
            "Q: At the picnic she was stuck eating hamburger, she was worried because she forgot her chewables to prevent what?\n",
            "O: eat cake /// have fun /// food poisoning /// heartburn /// gain weight\n",
            "A:  heartburn\n",
            "\n",
            "\n",
            "Model: heartburn and Actual Answer: heartburn\n"
          ]
        },
        {
          "output_type": "stream",
          "name": "stderr",
          "text": [
            " 46%|████▌     | 558/1221 [01:45<02:02,  5.41it/s]"
          ]
        },
        {
          "output_type": "stream",
          "name": "stdout",
          "text": [
            "Q: The electrode wouldn't spark, it turned out that the what hadn't been connected?\n",
            "O: battery /// electronic equipment /// electrolytic cell /// charge /// tube\n",
            "A:  battery tube cell cell cell cell cell cell cell cell\n",
            "\n",
            "\n",
            "Model: battery tube cell cell cell cell cell cell cell cell and Actual Answer: battery\n",
            "Q: For what entity should the government work?\n",
            "O: country /// democracy /// canada /// civilization /// tax office\n",
            "A:  country democracy /// country democracy /// country democracy\n",
            "\n",
            "\n",
            "Model: country democracy and Actual Answer: country\n"
          ]
        },
        {
          "output_type": "stream",
          "name": "stderr",
          "text": [
            " 46%|████▌     | 560/1221 [01:46<02:03,  5.36it/s]"
          ]
        },
        {
          "output_type": "stream",
          "name": "stdout",
          "text": [
            "Q: What must a student in engineering do?\n",
            "O: answer question /// learn language /// do mathematics /// be able to count /// begin to study\n",
            "A:  learn language /// learn language /// learn language\n",
            "\n",
            "\n",
            "Model: learn language and Actual Answer: do mathematics\n",
            "Q: The teacher knew her students understood division, what was she hoping they would learn next?\n",
            "O: multiplication /// multiply /// putting together /// unity /// pay debts\n",
            "A:  multiplication and multiplication and multiplication and multiplication are divided by\n",
            "\n",
            "\n",
            "Model: multiplication and multiplication and multiplication and multiplication are divided by and Actual Answer: multiplication\n"
          ]
        },
        {
          "output_type": "stream",
          "name": "stderr",
          "text": [
            " 46%|████▌     | 562/1221 [01:46<02:03,  5.35it/s]"
          ]
        },
        {
          "output_type": "stream",
          "name": "stdout",
          "text": [
            "Q: There were times where kids wanted to know a definition, so there was a nice big dictionary in the what?\n",
            "O: pocket /// classroom /// table /// library /// shelf\n",
            "A:  classroom library shelf library library library library library library library\n",
            "\n",
            "\n",
            "Model: classroom library shelf library library library library library library library and Actual Answer: classroom\n",
            "Q: Riding a bike for a long time can cause what?\n",
            "O: enjoyment /// fatigue /// falling down /// getting lost /// thirst\n",
            "A:  exhaustion and thirstiness and thirstiness and thirstiness\n",
            "\n",
            "\n",
            "Model: exhaustion and thirstiness and thirstiness and thirstiness and Actual Answer: fatigue\n"
          ]
        },
        {
          "output_type": "stream",
          "name": "stderr",
          "text": [
            " 46%|████▌     | 564/1221 [01:47<02:02,  5.36it/s]"
          ]
        },
        {
          "output_type": "stream",
          "name": "stdout",
          "text": [
            "Q: What could happen to a cat other than wanting food?\n",
            "O: feline /// thirsty /// sharp claws /// pussycat /// hungry\n",
            "A:  hungry cats are hungry and hungry and hungry. \n",
            "\n",
            "\n",
            "Model: hungry cats are hungry and hungry and hungry. and Actual Answer: thirsty\n",
            "Q: If you turn off the music in a room with no other noise that room would be what?\n",
            "O: silent /// opera /// silence /// television /// elevator\n",
            "A:  silent room with no other noise that room that room\n",
            "\n",
            "\n",
            "Model: silent room with no other noise that room that room and Actual Answer: silent\n"
          ]
        },
        {
          "output_type": "stream",
          "name": "stderr",
          "text": [
            " 46%|████▋     | 566/1221 [01:47<02:01,  5.39it/s]"
          ]
        },
        {
          "output_type": "stream",
          "name": "stdout",
          "text": [
            "Q: In what country are the most fast food restaurants?\n",
            "O: new york /// blocks of flats /// center of town /// america /// big cities\n",
            "A:  america big cities and big cities and big cities\n",
            "\n",
            "\n",
            "Model: america big cities and big cities and big cities and Actual Answer: america\n",
            "Q: I want to use string to keep something from moving, how should I do it?\n",
            "O: tie around /// wind around /// weave /// stringbed /// ball up\n",
            "A:  stringbed around stringbed around stringbed around string\n",
            "\n",
            "\n",
            "Model: stringbed around stringbed around stringbed around string and Actual Answer: tie around\n"
          ]
        },
        {
          "output_type": "stream",
          "name": "stderr",
          "text": [
            " 47%|████▋     | 568/1221 [01:47<02:00,  5.41it/s]"
          ]
        },
        {
          "output_type": "stream",
          "name": "stdout",
          "text": [
            "Q: Where would walk through a central passage to catch an elevator?\n",
            "O: tomb /// arena /// access rooms /// public building /// house\n",
            "A:  public building building building building building building building building building\n",
            "\n",
            "\n",
            "Model: public building building building building building building building building building and Actual Answer: public building\n",
            "Q: A potato is kept in the cellar, where is likely to be stored?\n",
            "O: farmer's market /// grocery bag /// pantry /// bushel basket /// fridge\n",
            "A:  pantry basket basket basket basket basket basket basket basket\n",
            "\n",
            "\n",
            "Model: pantry basket basket basket basket basket basket basket basket and Actual Answer: bushel basket\n"
          ]
        },
        {
          "output_type": "stream",
          "name": "stderr",
          "text": [
            " 47%|████▋     | 570/1221 [01:48<02:00,  5.40it/s]"
          ]
        },
        {
          "output_type": "stream",
          "name": "stdout",
          "text": [
            "Q: What do people do when networking?\n",
            "O: build trust /// hurry home /// ignore people /// believe in god /// jump to conclusions\n",
            "A:  build trust in god /// build trust in god ///\n",
            "\n",
            "\n",
            "Model: build trust in god and Actual Answer: build trust\n",
            "Q: Where can you store you spare linens near your socks?\n",
            "O: hospital /// chest /// home /// dresser drawers /// cabinet\n",
            "A:  chest drawer drawers drawers drawers drawers\n",
            "\n",
            "\n",
            "Model: chest drawer drawers drawers drawers drawers and Actual Answer: dresser drawers\n"
          ]
        },
        {
          "output_type": "stream",
          "name": "stderr",
          "text": [
            " 47%|████▋     | 572/1221 [01:48<02:00,  5.38it/s]"
          ]
        },
        {
          "output_type": "stream",
          "name": "stdout",
          "text": [
            "Q: What do people do when they think too quickly?\n",
            "O: jump to conclusions /// hurry home /// build trust /// pay bills /// sing\n",
            "A:  pay bills while doing business with others /// pay bills\n",
            "\n",
            "\n",
            "Model: pay bills while doing business with others and Actual Answer: jump to conclusions\n",
            "Q: What is someone likely to want as a result of sex?\n",
            "O: sexploiter /// chicken /// reproductive cycle /// procreation /// human experience\n",
            "A:  reproductive cycle cycle cycle cycle cycle cycle cycle cycle cycle\n",
            "\n",
            "\n",
            "Model: reproductive cycle cycle cycle cycle cycle cycle cycle cycle cycle and Actual Answer: procreation\n"
          ]
        },
        {
          "output_type": "stream",
          "name": "stderr",
          "text": [
            " 47%|████▋     | 574/1221 [01:48<01:59,  5.39it/s]"
          ]
        },
        {
          "output_type": "stream",
          "name": "stdout",
          "text": [
            "Q: What might someone do after they finish creating art?\n",
            "O: frustration /// relax /// eat /// enlightenment /// communication\n",
            "A:  communicate with each other while creating art /// communicate with\n",
            "\n",
            "\n",
            "Model: communicate with each other while creating art and Actual Answer: relax\n",
            "Q: To get clean clothes you to what to them?\n",
            "O: get dirty /// writing /// use water /// launder /// soap\n",
            "A:  use water launder clothes to get dirty clothes.\n",
            "\n",
            "\n",
            "Model: use water launder clothes to get dirty clothes. and Actual Answer: launder\n"
          ]
        },
        {
          "output_type": "stream",
          "name": "stderr",
          "text": [
            " 47%|████▋     | 576/1221 [01:49<02:00,  5.37it/s]"
          ]
        },
        {
          "output_type": "stream",
          "name": "stdout",
          "text": [
            "Q: The person tried to reduce his weight with a shrink ray, but he got it backwards and only did what?\n",
            "O: grow /// gain weight /// make larger /// augment /// get bigger\n",
            "A:  gain weight /// gain weight\n",
            "\n",
            "\n",
            "Model: gain weight and Actual Answer: make larger\n",
            "Q: Christine couldn't be having a baby at her age, she thought to herself. What was Christine?\n",
            "O: old person /// begin to talk /// adult /// old man /// girl\n",
            "A:  young man's person's person's person's person\n",
            "\n",
            "\n",
            "Model: young man's person's person's person's person and Actual Answer: old person\n"
          ]
        },
        {
          "output_type": "stream",
          "name": "stderr",
          "text": [
            " 47%|████▋     | 578/1221 [01:49<01:59,  5.38it/s]"
          ]
        },
        {
          "output_type": "stream",
          "name": "stdout",
          "text": [
            "Q: Joe plays a percussion instrument in something.  What might be play in?\n",
            "O: own home /// music store /// marching band /// orchestra /// party\n",
            "A:  orchestra band band /// orchestra band band /// orchestra band\n",
            "\n",
            "\n",
            "Model: orchestra band band and Actual Answer: orchestra\n",
            "Q: If I'm playing ball, I'm mostly trying to do what?\n",
            "O: losing /// competition /// having fun /// win /// injury\n",
            "A:  losing fun\n",
            "\n",
            "\n",
            "Model: losing fun and Actual Answer: having fun\n"
          ]
        },
        {
          "output_type": "stream",
          "name": "stderr",
          "text": [
            " 48%|████▊     | 580/1221 [01:50<02:00,  5.32it/s]"
          ]
        },
        {
          "output_type": "stream",
          "name": "stdout",
          "text": [
            "Q: What do the terms need to be in order to compete against someone?\n",
            "O: cheat /// fair /// in competition /// practice /// sabotage\n",
            "A:  cheat against someone else in competition against someone else in\n",
            "\n",
            "\n",
            "Model: cheat against someone else in competition against someone else in and Actual Answer: fair\n",
            "Q: If you wanted to show off silk, what item could it be on?\n",
            "O: jean /// mulberry tree /// garments /// expensive clothing /// parachutes\n",
            "A:  expensive clothing items in the mulberry tree /// expensive\n",
            "\n",
            "\n",
            "Model: expensive clothing items in the mulberry tree and Actual Answer: expensive clothing\n"
          ]
        },
        {
          "output_type": "stream",
          "name": "stderr",
          "text": [
            " 48%|████▊     | 582/1221 [01:50<01:58,  5.37it/s]"
          ]
        },
        {
          "output_type": "stream",
          "name": "stdout",
          "text": [
            "Q: Where is known to be a wealth of information?\n",
            "O: park /// internet /// meeting /// library /// book\n",
            "A:  internet meeting /// internet meeting /// internet meeting\n",
            "\n",
            "\n",
            "Model: internet meeting and Actual Answer: library\n",
            "Q: I saw the receptionist carelessly toss my resume into the drawer, where did I want it to end up?\n",
            "O: file cabinet /// nightstand /// kitchen cabinet /// office desk /// the floor\n",
            "A:  office cabinet cabinet cabinet cabinet cabinet cabinet cabinet cabinet cabinet\n",
            "\n",
            "\n",
            "Model: office cabinet cabinet cabinet cabinet cabinet cabinet cabinet cabinet cabinet and Actual Answer: office desk\n"
          ]
        },
        {
          "output_type": "stream",
          "name": "stderr",
          "text": [
            " 48%|████▊     | 584/1221 [01:50<01:57,  5.44it/s]"
          ]
        },
        {
          "output_type": "stream",
          "name": "stdout",
          "text": [
            "Q: What will happen if you inject water into yourself?\n",
            "O: dilute /// thin blood /// take several forms /// wet clothes /// move mountains\n",
            "A:  dilute blood into yourself and move mountains\n",
            "\n",
            "\n",
            "Model: dilute blood into yourself and move mountains and Actual Answer: thin blood\n",
            "Q: Athletes soak in hot tubs to relieve what after playing baseball?\n",
            "O: fame /// errors /// pain /// strikes /// sore muscles\n",
            "A:  sore muscles muscles muscles muscles muscles muscles muscles muscles muscles\n",
            "\n",
            "\n",
            "Model: sore muscles muscles muscles muscles muscles muscles muscles muscles muscles and Actual Answer: sore muscles\n"
          ]
        },
        {
          "output_type": "stream",
          "name": "stderr",
          "text": [
            " 48%|████▊     | 586/1221 [01:51<01:56,  5.47it/s]"
          ]
        },
        {
          "output_type": "stream",
          "name": "stdout",
          "text": [
            "Q: What does a gambler do that causes him or her to be unhappy?\n",
            "O: play cards /// double winnings /// lose money /// play poker /// to win the prize\n",
            "A:  play cards to win the prize money prize money prize\n",
            "\n",
            "\n",
            "Model: play cards to win the prize money prize money prize and Actual Answer: lose money\n",
            "Q: There's one obvious reason to eat vegetables, they're plain what you?\n",
            "O: lose weight /// good for /// bland /// chewing /// fibre\n",
            "A:  bland for food /// bland for food\n",
            "\n",
            "\n",
            "Model: bland for food and Actual Answer: good for\n"
          ]
        },
        {
          "output_type": "stream",
          "name": "stderr",
          "text": [
            " 48%|████▊     | 588/1221 [01:51<01:56,  5.43it/s]"
          ]
        },
        {
          "output_type": "stream",
          "name": "stdout",
          "text": [
            "Q: John was a bit think in the head, but he knew that he never saw the lady before.  They were what?\n",
            "O: pay debts /// slender /// unacquainted /// free flowing /// sparse\n",
            "A:  free flowing flowing flowing flowing flowing flowing flowing flowing flowing\n",
            "\n",
            "\n",
            "Model: free flowing flowing flowing flowing flowing flowing flowing flowing flowing and Actual Answer: unacquainted\n",
            "Q: Where would you hear a violin along side many string and wind instruments?\n",
            "O: school /// string quartet /// orchestra /// kitchen /// music room\n",
            "A:  music room /// music room\n",
            "\n",
            "\n",
            "Model: music room and Actual Answer: orchestra\n"
          ]
        },
        {
          "output_type": "stream",
          "name": "stderr",
          "text": [
            " 48%|████▊     | 590/1221 [01:51<01:56,  5.40it/s]"
          ]
        },
        {
          "output_type": "stream",
          "name": "stdout",
          "text": [
            "Q: What is the sun ultimately responsible for?\n",
            "O: earth warming /// sun tan /// light /// life on earth /// heat\n",
            "A:  life on earth earth earth warming up earth warming up\n",
            "\n",
            "\n",
            "Model: life on earth earth earth warming up earth warming up and Actual Answer: life on earth\n",
            "Q: Mandy lived in a train station.  She longed to see distant places. Where might she imagine going?\n",
            "O: downtown area /// centre of town /// bedroom /// europe /// big city\n",
            "A:  big city area of town of town of town of\n",
            "\n",
            "\n",
            "Model: big city area of town of town of town of and Actual Answer: europe\n"
          ]
        },
        {
          "output_type": "stream",
          "name": "stderr",
          "text": [
            " 48%|████▊     | 592/1221 [01:52<01:56,  5.38it/s]"
          ]
        },
        {
          "output_type": "stream",
          "name": "stdout",
          "text": [
            "Q: Joe is a  squirrel, which is an animal. He probably lives in what sort of place.\n",
            "O: pet store /// outside /// woodland /// ocean /// cafe\n",
            "A:  pet store location in cafe cafe cafe cafe cafe cafe\n",
            "\n",
            "\n",
            "Model: pet store location in cafe cafe cafe cafe cafe cafe and Actual Answer: woodland\n",
            "Q: Where could a personal ficus live?\n",
            "O: cabin in the woods /// california /// front yard /// conservatory /// tropical forest\n",
            "A:  conservatory in the woods.  conservatory in\n",
            "\n",
            "\n",
            "Model: conservatory in the woods.  conservatory in and Actual Answer: front yard\n"
          ]
        },
        {
          "output_type": "stream",
          "name": "stderr",
          "text": [
            " 49%|████▊     | 594/1221 [01:52<01:56,  5.39it/s]"
          ]
        },
        {
          "output_type": "stream",
          "name": "stdout",
          "text": [
            "Q: The shark actually counted as evidence, so where did the legal team bring it?\n",
            "O: court room /// shallow waters /// poker game /// sea world /// pond arena\n",
            "A:  court room room arena arena arena arena arena arena arena\n",
            "\n",
            "\n",
            "Model: court room room arena arena arena arena arena arena arena and Actual Answer: court room\n",
            "Q: If the president wanted to ban snakes, where would he issue such a decree?\n",
            "O: street /// tropical forest /// garden of eden /// new mexico /// white house\n",
            "A:  white house of eden\n",
            "\n",
            "\n",
            "Model: white house of eden and Actual Answer: white house\n"
          ]
        },
        {
          "output_type": "stream",
          "name": "stderr",
          "text": [
            " 49%|████▉     | 596/1221 [01:52<01:55,  5.39it/s]"
          ]
        },
        {
          "output_type": "stream",
          "name": "stdout",
          "text": [
            "Q: They were searching for rocks, so they missed the birds overhead as they stared at the what?\n",
            "O: ground /// drawer /// surface of earth /// pizza /// waterfall\n",
            "A:  ground of earth earth earth earth earth earth earth earth\n",
            "\n",
            "\n",
            "Model: ground of earth earth earth earth earth earth earth earth and Actual Answer: ground\n",
            "Q: Her son scraped his knee, she fetched a bottle of peroxide from the what?\n",
            "O: supermarket /// diaper bag /// liquor store /// hollow log /// medicine cabinet\n",
            "A:  medicine cabinet /// medicine cabinet\n",
            "\n",
            "\n",
            "Model: medicine cabinet and Actual Answer: medicine cabinet\n"
          ]
        },
        {
          "output_type": "stream",
          "name": "stderr",
          "text": [
            " 49%|████▉     | 598/1221 [01:53<01:56,  5.36it/s]"
          ]
        },
        {
          "output_type": "stream",
          "name": "stdout",
          "text": [
            "Q: Where would you expect to find a dictionary along side other writings you can borrow?\n",
            "O: classroom /// shelf /// explain meaning of words /// table /// library\n",
            "A:  library shelf in library in library in library in library\n",
            "\n",
            "\n",
            "Model: library shelf in library in library in library in library and Actual Answer: library\n",
            "Q: What would be necessary for getting in shape?\n",
            "O: good health /// exercise /// muscle tone /// sweat /// feel better\n",
            "A:  sweat tone better than muscle tone better than muscle tone\n",
            "\n",
            "\n",
            "Model: sweat tone better than muscle tone better than muscle tone and Actual Answer: exercise\n"
          ]
        },
        {
          "output_type": "stream",
          "name": "stderr",
          "text": [
            " 49%|████▉     | 600/1221 [01:53<01:55,  5.38it/s]"
          ]
        },
        {
          "output_type": "stream",
          "name": "stdout",
          "text": [
            "Q: A statue that shoots liquid is called a what?\n",
            "O: water fountain /// large city /// museum /// pool /// central park\n",
            "A:  large city park park park park park park park park\n",
            "\n",
            "\n",
            "Model: large city park park park park park park park park and Actual Answer: water fountain\n",
            "Q: If you have a child who gets in trouble for being hyperactive you may need to teach them how to what down?\n",
            "O: park /// calm /// being good /// good behavior /// safe\n",
            "A:  safe behavior for being good behavior for being good behavior\n",
            "\n",
            "\n",
            "Model: safe behavior for being good behavior for being good behavior and Actual Answer: calm\n"
          ]
        },
        {
          "output_type": "stream",
          "name": "stderr",
          "text": [
            " 49%|████▉     | 602/1221 [01:54<01:55,  5.38it/s]"
          ]
        },
        {
          "output_type": "stream",
          "name": "stdout",
          "text": [
            "Q: John loved to paint houses.  How did he usually do it?\n",
            "O: clothes get stained /// with brush /// wallpaper /// electrical circuit /// draw\n",
            "A:  draw sketches /// draw sketches /// draw sketches\n",
            "\n",
            "\n",
            "Model: draw sketches and Actual Answer: with brush\n",
            "Q: When you wipe you feet on the door mat and walk through the door where do you enter?\n",
            "O: a chair /// school /// living room /// doorway /// bathroom\n",
            "A:  doorway mat and doorway mat and doorway challengor\n",
            "\n",
            "\n",
            "Model: doorway mat and doorway mat and doorway challengor and Actual Answer: living room\n"
          ]
        },
        {
          "output_type": "stream",
          "name": "stderr",
          "text": [
            " 49%|████▉     | 604/1221 [01:54<01:54,  5.39it/s]"
          ]
        },
        {
          "output_type": "stream",
          "name": "stdout",
          "text": [
            "Q: What can you use to store a book while traveling?\n",
            "O: library of congress /// pocket /// backpack /// suitcase /// synagogue\n",
            "A:  backpack of congress of congress of congress of congress of\n",
            "\n",
            "\n",
            "Model: backpack of congress of congress of congress of congress of and Actual Answer: suitcase\n",
            "Q: Where would you find gazelle under a G?\n",
            "O: open field /// ivory coast /// dictionary /// steppe /// encyclopedia\n",
            "A:  encyclopedia entry dictionary entry dictionary entry dictionary entry dictionary entry\n",
            "\n",
            "\n",
            "Model: encyclopedia entry dictionary entry dictionary entry dictionary entry dictionary entry and Actual Answer: encyclopedia\n"
          ]
        },
        {
          "output_type": "stream",
          "name": "stderr",
          "text": [
            " 50%|████▉     | 606/1221 [01:54<01:54,  5.35it/s]"
          ]
        },
        {
          "output_type": "stream",
          "name": "stdout",
          "text": [
            "Q: Competing can lead to great highs, and also great lows when suffering what?\n",
            "O: winning or losing /// aggression /// gain /// defeat /// sweat\n",
            "A:  losing or losing or losing\n",
            "\n",
            "\n",
            "Model: losing or losing or losing and Actual Answer: defeat\n",
            "Q: What blocks sunshine?\n",
            "O: summer /// park /// desktop /// sea /// moon\n",
            "A:  moon base park park park park park park park park\n",
            "\n",
            "\n",
            "Model: moon base park park park park park park park park and Actual Answer: moon\n"
          ]
        },
        {
          "output_type": "stream",
          "name": "stderr",
          "text": [
            " 50%|████▉     | 608/1221 [01:55<01:55,  5.32it/s]"
          ]
        },
        {
          "output_type": "stream",
          "name": "stdout",
          "text": [
            "Q: When you feel too much heat in your home you can turn on what?\n",
            "O: coolness /// fan /// get wet /// coldness /// air conditioning\n",
            "A:  air conditioning heater heater heater heater heater heater heater heater\n",
            "\n",
            "\n",
            "Model: air conditioning heater heater heater heater heater heater heater heater and Actual Answer: air conditioning\n",
            "Q: Where would you store a pillow case that is not in use?\n",
            "O: kitchen cupboard /// bedding store /// england /// drawer /// bedroom\n",
            "A:  drawer drawer drawer drawer drawer drawer drawer drawer drawer drawer\n",
            "\n",
            "\n",
            "Model: drawer drawer drawer drawer drawer drawer drawer drawer drawer drawer and Actual Answer: drawer\n"
          ]
        },
        {
          "output_type": "stream",
          "name": "stderr",
          "text": [
            " 50%|████▉     | 610/1221 [01:55<01:54,  5.32it/s]"
          ]
        },
        {
          "output_type": "stream",
          "name": "stdout",
          "text": [
            "Q: If the kitten was going to grow up to be a mouser like it's mother, where should it spend most of it's time?\n",
            "O: shelter /// floor /// warm place /// farmhouse /// living room\n",
            "A:  shelter househouse house house house house house house house\n",
            "\n",
            "\n",
            "Model: shelter househouse house house house house house house house and Actual Answer: farmhouse\n",
            "Q: Where is that man buying silk from?\n",
            "O: space shuttle /// theater /// china /// indian resteraunt /// bar\n",
            "A:  china resterauntauntauntauntauntaunt\n",
            "\n",
            "\n",
            "Model: china resterauntauntauntauntauntaunt and Actual Answer: china\n"
          ]
        },
        {
          "output_type": "stream",
          "name": "stderr",
          "text": [
            " 50%|█████     | 612/1221 [01:55<01:53,  5.35it/s]"
          ]
        },
        {
          "output_type": "stream",
          "name": "stdout",
          "text": [
            "Q: Where is a teacher likely to keep her clavichord?\n",
            "O: living room /// parlor /// music hall /// music room /// museum\n",
            "A:  music room room room room room room room room room\n",
            "\n",
            "\n",
            "Model: music room room room room room room room room room and Actual Answer: music room\n",
            "Q: Where are you if your bieifcase is going through an x-ray machine?\n",
            "O: luggage store /// courtroom /// airport /// office building /// hand\n",
            "A:  airport building building building building building building building building building\n",
            "\n",
            "\n",
            "Model: airport building building building building building building building building building and Actual Answer: airport\n"
          ]
        },
        {
          "output_type": "stream",
          "name": "stderr",
          "text": [
            " 50%|█████     | 614/1221 [01:56<01:54,  5.30it/s]"
          ]
        },
        {
          "output_type": "stream",
          "name": "stdout",
          "text": [
            "Q: They were kissing each other good bye, they had no worries because their relationship had a strong foundation of what?\n",
            "O: partner /// trust /// cooperation /// bricks /// herpes\n",
            "A:  friendship /// friendship\n",
            "\n",
            "\n",
            "Model: friendship and Actual Answer: trust\n",
            "Q: Why would you take a bus to work?\n",
            "O: commute /// flying /// get somewhere /// travel /// go home\n",
            "A:  travel home to work and travel to work and travel\n",
            "\n",
            "\n",
            "Model: travel home to work and travel to work and travel and Actual Answer: commute\n"
          ]
        },
        {
          "output_type": "stream",
          "name": "stderr",
          "text": [
            " 50%|█████     | 616/1221 [01:56<01:53,  5.31it/s]"
          ]
        },
        {
          "output_type": "stream",
          "name": "stdout",
          "text": [
            "Q: If you are hungry and going fishing, why would you be going fishing?\n",
            "O: to see the fish /// have fun /// catching fish /// wet clothes /// killing\n",
            "A:  wet clothes are fun to see fish fish fish fish\n",
            "\n",
            "\n",
            "Model: wet clothes are fun to see fish fish fish fish and Actual Answer: catching fish\n",
            "Q: Dogs are very loyal if they have a good owner, they will always what them?\n",
            "O: fleas /// eat cake /// attack /// defend /// run fast\n",
            "A:  defend themselves against each other while running fast\n",
            "\n",
            "\n",
            "Model: defend themselves against each other while running fast and Actual Answer: defend\n"
          ]
        },
        {
          "output_type": "stream",
          "name": "stderr",
          "text": [
            " 51%|█████     | 618/1221 [01:57<01:54,  5.28it/s]"
          ]
        },
        {
          "output_type": "stream",
          "name": "stdout",
          "text": [
            "Q: What does a farmer need to do to make  a maze on his farm in the fall?\n",
            "O: seed plants /// plant seeds /// garden /// grow corn /// produce food\n",
            "A:  grow corn seeds on farm in the fall /// plant\n",
            "\n",
            "\n",
            "Model: grow corn seeds on farm in the fall and Actual Answer: grow corn\n",
            "Q: For many males hair is a concern as they get older, it begins to what, causing a receding hairline?\n",
            "O: thin out /// grow in ear /// fall out /// bulge /// composted\n",
            "A:  grow in earline /// grow in earline\n",
            "\n",
            "\n",
            "Model: grow in earline and Actual Answer: fall out\n"
          ]
        },
        {
          "output_type": "stream",
          "name": "stderr",
          "text": [
            " 51%|█████     | 620/1221 [01:57<01:54,  5.27it/s]"
          ]
        },
        {
          "output_type": "stream",
          "name": "stdout",
          "text": [
            "Q: What happens someone who is bad play poker?\n",
            "O: think /// ante up /// drink /// win money /// losing money\n",
            "A:  lose money /// lose money\n",
            "\n",
            "\n",
            "Model: lose money and Actual Answer: losing money\n",
            "Q: John loved his snake.  It was the only ting he loved. He hated everyone else and was abrasive to most people, but he loved his snake.   How might you describe the snake?\n",
            "O: sun itself /// tropical forest /// pet /// rude /// sharp\n",
            "A:  pet rude to most people.  rude to most\n",
            "\n",
            "\n",
            "Model: pet rude to most people.  rude to most and Actual Answer: pet\n"
          ]
        },
        {
          "output_type": "stream",
          "name": "stderr",
          "text": [
            " 51%|█████     | 622/1221 [01:57<01:54,  5.23it/s]"
          ]
        },
        {
          "output_type": "stream",
          "name": "stdout",
          "text": [
            "Q: The fresh herbs, flowers, and vegetables will shrivel up if people don't do this?\n",
            "O: water plants /// believe in god /// drive to the nearest pool /// speaking english /// raise children\n",
            "A:  water plants are shrivel up if people don't\n",
            "\n",
            "\n",
            "Model: water plants are shrivel up if people don't and Actual Answer: water plants\n",
            "Q: I picked from an apple tree outside of Fort Wayne, where am I?\n",
            "O: woods /// illinois /// indiana /// washington state /// tampa\n",
            "A:  washington state of america /// washington state\n",
            "\n",
            "\n",
            "Model: washington state of america and Actual Answer: indiana\n"
          ]
        },
        {
          "output_type": "stream",
          "name": "stderr",
          "text": [
            " 51%|█████     | 624/1221 [01:58<01:53,  5.24it/s]"
          ]
        },
        {
          "output_type": "stream",
          "name": "stdout",
          "text": [
            "Q: The janitor never had much to clean after services, but there was still always a paper or two to pick up where?\n",
            "O: synagogue /// front porch /// classroom /// obesity /// grocery store\n",
            "A:  front porch porch porch porch porch /// classroom\n",
            "\n",
            "\n",
            "Model: front porch porch porch porch porch and Actual Answer: synagogue\n",
            "Q: If you're celebrating with too many cocktails what may you have in the morning?\n",
            "O: drunkenness /// have fun /// headache /// hang over /// intimacy\n",
            "A:  headache headache headache headache headache headache headache headache headache headache\n",
            "\n",
            "\n",
            "Model: headache headache headache headache headache headache headache headache headache headache and Actual Answer: hang over\n"
          ]
        },
        {
          "output_type": "stream",
          "name": "stderr",
          "text": [
            " 51%|█████▏    | 626/1221 [01:58<01:52,  5.30it/s]"
          ]
        },
        {
          "output_type": "stream",
          "name": "stdout",
          "text": [
            "Q: Danny found an old film in a sealed what?\n",
            "O: clingfilm /// disneyland /// cave /// cabinet /// movie\n",
            "A:  cabinet /// cabinet\n",
            "\n",
            "\n",
            "Model: cabinet and Actual Answer: cabinet\n",
            "Q: Where are you likely to find much more than a drop of blood on the floor?\n",
            "O: crime scene /// vein /// blood bank /// slaughter house /// needle\n",
            "A:  blood bank transaction house crime scene in crime scene in\n",
            "\n",
            "\n",
            "Model: blood bank transaction house crime scene in crime scene in and Actual Answer: slaughter house\n"
          ]
        },
        {
          "output_type": "stream",
          "name": "stderr",
          "text": [
            " 51%|█████▏    | 628/1221 [01:59<01:51,  5.33it/s]"
          ]
        },
        {
          "output_type": "stream",
          "name": "stdout",
          "text": [
            "Q: Where is the first place someone leaving the planet ends up?\n",
            "O: pay debts /// galaxy /// outer space /// orbit /// universe\n",
            "A:  galaxy galaxy galaxy galaxy galaxy galaxy galaxy galaxy galaxy galaxy\n",
            "\n",
            "\n",
            "Model: galaxy galaxy galaxy galaxy galaxy galaxy galaxy galaxy galaxy galaxy and Actual Answer: outer space\n",
            "Q: The town house went right to the curb, a slot effectively made a mailbox of the what?\n",
            "O: apartment building /// front door /// back door /// street corner /// porch\n",
            "A:  front door door door door of the front door of\n",
            "\n",
            "\n",
            "Model: front door door door door of the front door of and Actual Answer: front door\n"
          ]
        },
        {
          "output_type": "stream",
          "name": "stderr",
          "text": [
            " 52%|█████▏    | 630/1221 [01:59<01:50,  5.33it/s]"
          ]
        },
        {
          "output_type": "stream",
          "name": "stdout",
          "text": [
            "Q: The architect thought that a mezzanine would look good, but the planning committee rejected it.  They told the architect that they felt it was a potential hazard given the ages of the people who would be using it.  What might they be designing?\n",
            "O: actors /// theater /// concert hall /// floors /// school\n",
            "A:  theater hall /// theater hall\n",
            "\n",
            "\n",
            "Model: theater hall and Actual Answer: school\n",
            "Q: The person wasn't bothered by the weather, she had remembered to bring her what?\n",
            "O: read book /// own house /// apartment /// more rice /// warm coat\n",
            "A:  warm coat coat coat coat /// warm coat\n",
            "\n",
            "\n",
            "Model: warm coat coat coat coat and Actual Answer: warm coat\n"
          ]
        },
        {
          "output_type": "stream",
          "name": "stderr",
          "text": [
            " 52%|█████▏    | 632/1221 [01:59<01:50,  5.32it/s]"
          ]
        },
        {
          "output_type": "stream",
          "name": "stdout",
          "text": [
            "Q: If you want to learn about the world and understand the real reasons behind cultural norms and mores, you have achieved a sense of what?\n",
            "O: enlightenment /// open mind /// confusion /// smartness /// anger\n",
            "A:  enlightenmentensicalnessensicalnessensicalnessensicalnessensical\n",
            "\n",
            "\n",
            "Model: enlightenmentensicalnessensicalnessensicalnessensicalnessensical and Actual Answer: enlightenment\n",
            "Q: What is the hopeful result of going to see a play?\n",
            "O: sit /// being entertained /// jobless /// meet /// laugh\n",
            "A:  meeting with friends /// being entertained\n",
            "\n",
            "\n",
            "Model: meeting with friends and Actual Answer: being entertained\n"
          ]
        },
        {
          "output_type": "stream",
          "name": "stderr",
          "text": [
            " 52%|█████▏    | 634/1221 [02:00<01:50,  5.33it/s]"
          ]
        },
        {
          "output_type": "stream",
          "name": "stdout",
          "text": [
            "Q: A person would join a trade school for finding information related to what?\n",
            "O: ulcers /// degree /// understanding of /// gaining knowledge /// happiness\n",
            "A:  knowledge of knowledge of knowledge of knowledge related to knowledge\n",
            "\n",
            "\n",
            "Model: knowledge of knowledge of knowledge of knowledge related to knowledge and Actual Answer: gaining knowledge\n",
            "Q: Joan was a baby, so there were many things she couldn't do, which caused problems for her parents.  Name one thing that makes raising a baby difficult.\n",
            "O: arrive early /// learn to walk /// boy or girl /// bring joy /// talk nonsense\n",
            "A:  boy or girl or girl or girl or girl or\n",
            "\n",
            "\n",
            "Model: boy or girl or girl or girl or girl or and Actual Answer: talk nonsense\n"
          ]
        },
        {
          "output_type": "stream",
          "name": "stderr",
          "text": [
            " 52%|█████▏    | 636/1221 [02:00<01:48,  5.41it/s]"
          ]
        },
        {
          "output_type": "stream",
          "name": "stdout",
          "text": [
            "Q: Where would you put some ham if you want to cook it?\n",
            "O: hamshackle /// pizza /// fridge /// refrigerator /// part of meal\n",
            "A:  fridge fridge fridge fridge fridge fridge fridge fridge fridge fridge\n",
            "\n",
            "\n",
            "Model: fridge fridge fridge fridge fridge fridge fridge fridge fridge fridge and Actual Answer: pizza\n",
            "Q: Running errands with screaming kids will likely cause what?\n",
            "O: efficiency /// insanity /// aggravation /// tiredness /// stress\n",
            "A:  stress aggravation caused by insanity caused by insanity caused\n",
            "\n",
            "\n",
            "Model: stress aggravation caused by insanity caused by insanity caused and Actual Answer: aggravation\n"
          ]
        },
        {
          "output_type": "stream",
          "name": "stderr",
          "text": [
            " 52%|█████▏    | 638/1221 [02:00<01:47,  5.43it/s]"
          ]
        },
        {
          "output_type": "stream",
          "name": "stdout",
          "text": [
            "Q: Sam wasn't lying, but he left out important details. He was being what?\n",
            "O: dishonesty /// deceitful /// imagination /// deceptive /// poker face\n",
            "A:  deceitfulensicalensicalensicalensicalensicalensicalensicalensical\n",
            "\n",
            "\n",
            "Model: deceitfulensicalensicalensicalensicalensicalensicalensicalensical and Actual Answer: deceitful\n",
            "Q: what does someone have that causes them committing murder?\n",
            "O: problems /// distress /// fear /// go to jail /// killer\n",
            "A:  problems encountered while committing murder while committing murder while\n",
            "\n",
            "\n",
            "Model: problems encountered while committing murder while committing murder while and Actual Answer: problems\n"
          ]
        },
        {
          "output_type": "stream",
          "name": "stderr",
          "text": [
            " 52%|█████▏    | 640/1221 [02:01<01:47,  5.41it/s]"
          ]
        },
        {
          "output_type": "stream",
          "name": "stdout",
          "text": [
            "Q: What kind of place has a leader?\n",
            "O: army /// battle /// wildlife /// country /// organization\n",
            "A:  army corps corps corps corps corps corps corps corps corps\n",
            "\n",
            "\n",
            "Model: army corps corps corps corps corps corps corps corps corps and Actual Answer: country\n",
            "Q: How is a person likely to communicatewith others?\n",
            "O: say words /// meet friends /// open mouth /// thank god /// die of cancer\n",
            "A:  say words to friends and say words to friends and\n",
            "\n",
            "\n",
            "Model: say words to friends and say words to friends and and Actual Answer: say words\n"
          ]
        },
        {
          "output_type": "stream",
          "name": "stderr",
          "text": [
            " 53%|█████▎    | 642/1221 [02:01<01:47,  5.38it/s]"
          ]
        },
        {
          "output_type": "stream",
          "name": "stdout",
          "text": [
            "Q: Where may you be if you're buying pork chops at a corner shop?\n",
            "O: england /// town /// desert /// kentucky /// iowa\n",
            "A:  kentucky town town town town town town town\n",
            "\n",
            "\n",
            "Model: kentucky town town town town town town town and Actual Answer: iowa\n",
            "Q: Where is a well used toy car likely to be found?\n",
            "O: child's room /// boy's bedroom /// own home /// toy store /// house\n",
            "A:  toy store /// toy store\n",
            "\n",
            "\n",
            "Model: toy store and Actual Answer: child's room\n"
          ]
        },
        {
          "output_type": "stream",
          "name": "stderr",
          "text": [
            " 53%|█████▎    | 644/1221 [02:01<01:46,  5.40it/s]"
          ]
        },
        {
          "output_type": "stream",
          "name": "stdout",
          "text": [
            "Q: Where can fisherman store their rods when on a fishing trip?\n",
            "O: hardware store /// engine /// fishing camp /// lake /// sporting goods store\n",
            "A:  sporting goods store store store store store store store store\n",
            "\n",
            "\n",
            "Model: sporting goods store store store store store store store store and Actual Answer: fishing camp\n",
            "Q: Danny is having fun just dancing and singing with his friends. He wasn't concerned with things that weren't fun. For him having fun is the same as what?\n",
            "O: injuries /// smiling /// being happy /// glee /// jump\n",
            "A:  being happy when being happy when being happy when being\n",
            "\n",
            "\n",
            "Model: being happy when being happy when being happy when being and Actual Answer: being happy\n"
          ]
        },
        {
          "output_type": "stream",
          "name": "stderr",
          "text": [
            " 53%|█████▎    | 646/1221 [02:02<01:47,  5.34it/s]"
          ]
        },
        {
          "output_type": "stream",
          "name": "stdout",
          "text": [
            "Q: Where would you find an office worker gossiping with their colleagues?\n",
            "O: water cooler /// space shuttle /// baby shower /// bus stop /// family\n",
            "A:  family room shuttle shuttle shuttle shuttle shuttle shuttle shuttle shuttle\n",
            "\n",
            "\n",
            "Model: family room shuttle shuttle shuttle shuttle shuttle shuttle shuttle shuttle and Actual Answer: water cooler\n",
            "Q: Where would you put nails if they are already packaged?\n",
            "O: pocket /// container /// cabinet /// jar /// store\n",
            "A:  container container container container container container container container container container\n",
            "\n",
            "\n",
            "Model: container container container container container container container container container container and Actual Answer: cabinet\n"
          ]
        },
        {
          "output_type": "stream",
          "name": "stderr",
          "text": [
            " 53%|█████▎    | 648/1221 [02:02<01:46,  5.37it/s]"
          ]
        },
        {
          "output_type": "stream",
          "name": "stdout",
          "text": [
            "Q: What is a person who is good at sports considered?\n",
            "O: lazy /// own house /// talented /// affluent /// reproduce\n",
            "A:  rich at sports /// rich at sports /// rich at\n",
            "\n",
            "\n",
            "Model: rich at sports and Actual Answer: talented\n",
            "Q: The man acted ridiculous at the funeral, what attitude should he have taken?\n",
            "O: straightforward /// serious /// solemn /// somber /// funny\n",
            "A:  seriousensicalensicalensical at the funeral.  serious\n",
            "\n",
            "\n",
            "Model: seriousensicalensicalensical at the funeral.  serious and Actual Answer: solemn\n"
          ]
        },
        {
          "output_type": "stream",
          "name": "stderr",
          "text": [
            " 53%|█████▎    | 650/1221 [02:03<01:47,  5.33it/s]"
          ]
        },
        {
          "output_type": "stream",
          "name": "stdout",
          "text": [
            "Q: The pencil sharpener was broken in the classroom, where did the teacher recommend the student go?\n",
            "O: home /// library /// stationery store /// cabinet /// desk drawer\n",
            "A:  desk drawer drawer drawer drawer drawer drawer drawer drawer drawer\n",
            "\n",
            "\n",
            "Model: desk drawer drawer drawer drawer drawer drawer drawer drawer drawer and Actual Answer: library\n",
            "Q: Where does a child likely sit at a desk?\n",
            "O: furniture store /// schoolroom /// patio /// office building /// library\n",
            "A:  schoolroom room room room room room room room room\n",
            "\n",
            "\n",
            "Model: schoolroom room room room room room room room room and Actual Answer: schoolroom\n"
          ]
        },
        {
          "output_type": "stream",
          "name": "stderr",
          "text": [
            " 53%|█████▎    | 652/1221 [02:03<01:46,  5.33it/s]"
          ]
        },
        {
          "output_type": "stream",
          "name": "stdout",
          "text": [
            "Q: He was trying to procreate with many individuals, this led to a what?\n",
            "O: moaning /// die /// kiss /// std /// sanity\n",
            "A:  die dying person's kiss or die.  die\n",
            "\n",
            "\n",
            "Model: die dying person's kiss or die.  die and Actual Answer: std\n",
            "Q: What does playing soccer and winning lead to?\n",
            "O: excitement /// getting tired /// overtime /// anger /// fights\n",
            "A:  anger getting tired of being tired of being tired of\n",
            "\n",
            "\n",
            "Model: anger getting tired of being tired of being tired of and Actual Answer: excitement\n"
          ]
        },
        {
          "output_type": "stream",
          "name": "stderr",
          "text": [
            " 54%|█████▎    | 654/1221 [02:03<01:45,  5.35it/s]"
          ]
        },
        {
          "output_type": "stream",
          "name": "stdout",
          "text": [
            "Q: What attraction is sometimes so large that you need a map to find your way around?\n",
            "O: amusement park /// truck stop /// mcdonalds /// backpack /// classroom\n",
            "A:  amusement park park amusement park amusement park amusement park amusement\n",
            "\n",
            "\n",
            "Model: amusement park park amusement park amusement park amusement park amusement and Actual Answer: amusement park\n",
            "Q: If my husband never helps me doing housework, what might that lead to?\n",
            "O: boredom /// arguments /// headache /// exhaustion /// park\n",
            "A:  exhaustion cumbersiness cumbersiness cumbersiness cumbersiness cumbers\n",
            "\n",
            "\n",
            "Model: exhaustion cumbersiness cumbersiness cumbersiness cumbersiness cumbers and Actual Answer: arguments\n"
          ]
        },
        {
          "output_type": "stream",
          "name": "stderr",
          "text": [
            " 54%|█████▎    | 656/1221 [02:04<01:46,  5.31it/s]"
          ]
        },
        {
          "output_type": "stream",
          "name": "stdout",
          "text": [
            "Q: The advertisement came in the form of a pop-up, where did it appear?\n",
            "O: web page /// store /// la ville /// bus /// email\n",
            "A:  web page /// web page\n",
            "\n",
            "\n",
            "Model: web page and Actual Answer: web page\n",
            "Q: WHere do people live?\n",
            "O: apartment /// eat cake /// bus depot /// football stadium /// surface of earth\n",
            "A:  apartment building stadium stadium stadium stadium stadium stadium stadium stadium\n",
            "\n",
            "\n",
            "Model: apartment building stadium stadium stadium stadium stadium stadium stadium stadium and Actual Answer: surface of earth\n"
          ]
        },
        {
          "output_type": "stream",
          "name": "stderr",
          "text": [
            " 54%|█████▍    | 658/1221 [02:04<01:45,  5.35it/s]"
          ]
        },
        {
          "output_type": "stream",
          "name": "stdout",
          "text": [
            "Q: People are what when you're a stranger?\n",
            "O: train /// strange /// human /// stupid /// dangerous\n",
            "A:  human beings are what?\n",
            "\n",
            "\n",
            "Model: human beings are what? and Actual Answer: strange\n",
            "Q: The juror was quite bored and zoning out but wanted to convey he was hearing testimony, so he just sat there doing what?\n",
            "O: take notes /// nodding /// change of heart /// writing down /// listening\n",
            "A:  nodding down to sentence sentence sentence sentence sentence sentence sentence\n",
            "\n",
            "\n",
            "Model: nodding down to sentence sentence sentence sentence sentence sentence sentence and Actual Answer: nodding\n"
          ]
        },
        {
          "output_type": "stream",
          "name": "stderr",
          "text": [
            " 54%|█████▍    | 660/1221 [02:04<01:43,  5.40it/s]"
          ]
        },
        {
          "output_type": "stream",
          "name": "stdout",
          "text": [
            "Q: They wanted to try blowfish, so they went to get some where?\n",
            "O: atlantic ocean /// books /// france /// aquarium /// fish market\n",
            "A:  atlantic ocean ocean ocean ocean ocean ocean ocean\n",
            "\n",
            "\n",
            "Model: atlantic ocean ocean ocean ocean ocean ocean ocean and Actual Answer: fish market\n",
            "Q: When a main artery is used to expedite travel what would it be referred to as?\n",
            "O: neck /// busy city /// own brain /// thruway /// food\n",
            "A:  busy city city city city city city city city city\n",
            "\n",
            "\n",
            "Model: busy city city city city city city city city city and Actual Answer: thruway\n"
          ]
        },
        {
          "output_type": "stream",
          "name": "stderr",
          "text": [
            " 54%|█████▍    | 662/1221 [02:05<01:44,  5.36it/s]"
          ]
        },
        {
          "output_type": "stream",
          "name": "stdout",
          "text": [
            "Q: If someone rules the universe of what are they in charge?\n",
            "O: classroom /// football game /// everything /// text book /// lawbook\n",
            "A:  lawbook book book book book book book book book\n",
            "\n",
            "\n",
            "Model: lawbook book book book book book book book book and Actual Answer: everything\n",
            "Q: The butt was bare, and Sam couldn't stop staring at it.  It was very what?\n",
            "O: full /// ample /// covered /// bareword /// ample\n",
            "A:  ampleensicalensicalensicalensicalensicalensicalensicalensicalensical\n",
            "\n",
            "\n",
            "Model: ampleensicalensicalensicalensicalensicalensicalensicalensicalensical and Actual Answer: ample\n"
          ]
        },
        {
          "output_type": "stream",
          "name": "stderr",
          "text": [
            " 54%|█████▍    | 664/1221 [02:05<01:43,  5.41it/s]"
          ]
        },
        {
          "output_type": "stream",
          "name": "stdout",
          "text": [
            "Q: Where can many stores with clothing be found?\n",
            "O: shop /// mall /// department store /// drawer /// library\n",
            "A:  department store store store store store store store store store\n",
            "\n",
            "\n",
            "Model: department store store store store store store store store store and Actual Answer: mall\n",
            "Q: After working on the car, what did it end up doing?\n",
            "O: going too fast /// last several years /// honk the horn /// go fast /// start running\n",
            "A:  going too fast and running fast and running fast and\n",
            "\n",
            "\n",
            "Model: going too fast and running fast and running fast and and Actual Answer: start running\n"
          ]
        },
        {
          "output_type": "stream",
          "name": "stderr",
          "text": [
            " 55%|█████▍    | 666/1221 [02:06<01:43,  5.35it/s]"
          ]
        },
        {
          "output_type": "stream",
          "name": "stdout",
          "text": [
            "Q: When an elderly person needs help performing daily tasks, who might they call?\n",
            "O: creativity /// hatred /// caregiver /// own house /// much money\n",
            "A:  caregiveriveriver's house house house house house\n",
            "\n",
            "\n",
            "Model: caregiveriveriver's house house house house house and Actual Answer: caregiver\n",
            "Q: Where is beer drank by people watching sticks and pucks?\n",
            "O: bottle /// refrigerator /// hockey game /// casino /// bar\n",
            "A:  bar bar bar bar bar bar bar bar bar bar\n",
            "\n",
            "\n",
            "Model: bar bar bar bar bar bar bar bar bar bar and Actual Answer: hockey game\n"
          ]
        },
        {
          "output_type": "stream",
          "name": "stderr",
          "text": [
            " 55%|█████▍    | 668/1221 [02:06<01:42,  5.38it/s]"
          ]
        },
        {
          "output_type": "stream",
          "name": "stdout",
          "text": [
            "Q: Where is there a telephone book in almost every room?\n",
            "O: at hotel /// house /// library /// bedsit /// closet\n",
            "A:  bedroomitlan library room room room room room room\n",
            "\n",
            "\n",
            "Model: bedroomitlan library room room room room room room and Actual Answer: at hotel\n",
            "Q: Where might you see a green field while driving?\n",
            "O: kansas /// meadow /// farmland /// countryside /// rural area\n",
            "A:  countryside area area area area area area area area area\n",
            "\n",
            "\n",
            "Model: countryside area area area area area area area area area and Actual Answer: countryside\n"
          ]
        },
        {
          "output_type": "stream",
          "name": "stderr",
          "text": [
            " 55%|█████▍    | 670/1221 [02:06<01:42,  5.40it/s]"
          ]
        },
        {
          "output_type": "stream",
          "name": "stdout",
          "text": [
            "Q: Some people got escorted out of the library, they were probably what?\n",
            "O: state facts /// talking loudly /// making money /// amount to nothing /// believe in god\n",
            "A:  amount to nothing to nothing to nothing to nothing to\n",
            "\n",
            "\n",
            "Model: amount to nothing to nothing to nothing to nothing to and Actual Answer: talking loudly\n",
            "Q: If there is a pond with trees around it, where it it likely located?\n",
            "O: ground /// bathroom /// forest /// countryside /// rural area\n",
            "A:  countryside area of countryside of countryside of countryside of countryside\n",
            "\n",
            "\n",
            "Model: countryside area of countryside of countryside of countryside of countryside and Actual Answer: forest\n"
          ]
        },
        {
          "output_type": "stream",
          "name": "stderr",
          "text": [
            " 55%|█████▌    | 672/1221 [02:07<01:43,  5.31it/s]"
          ]
        },
        {
          "output_type": "stream",
          "name": "stdout",
          "text": [
            "Q: Blowfish require what specific thing to live?\n",
            "O: sea water /// hatred /// fish market /// body of water /// jungle\n",
            "A:  body of water fish market fish market fish market fish\n",
            "\n",
            "\n",
            "Model: body of water fish market fish market fish market fish and Actual Answer: sea water\n",
            "Q: What is the least likely immediate side effect of eating hamburger?\n",
            "O: nausea /// death /// illness /// health problems /// gain weight\n",
            "A:  health problems caused by illness caused by illness caused by\n",
            "\n",
            "\n",
            "Model: health problems caused by illness caused by illness caused by and Actual Answer: death\n"
          ]
        },
        {
          "output_type": "stream",
          "name": "stderr",
          "text": [
            " 55%|█████▌    | 674/1221 [02:07<01:42,  5.34it/s]"
          ]
        },
        {
          "output_type": "stream",
          "name": "stdout",
          "text": [
            "Q: What would I be doing while going to work and walking?\n",
            "O: listen to radio /// solve problems /// driving /// walk /// being late\n",
            "A:  walking late night walk and walking late night walk and\n",
            "\n",
            "\n",
            "Model: walking late night walk and walking late night walk and and Actual Answer: listen to radio\n",
            "Q: A showroom feature washers and refrigerators, where is this showroom located?\n",
            "O: appliance store /// vegas /// electronics store /// car dealership /// kitchen\n",
            "A:  appliance store store store store store store store store store\n",
            "\n",
            "\n",
            "Model: appliance store store store store store store store store store and Actual Answer: appliance store\n"
          ]
        },
        {
          "output_type": "stream",
          "name": "stderr",
          "text": [
            " 55%|█████▌    | 676/1221 [02:07<01:41,  5.38it/s]"
          ]
        },
        {
          "output_type": "stream",
          "name": "stdout",
          "text": [
            "Q: The man often made smart remarks, like that any restaurant is a mexican restaurant where?\n",
            "O: city /// mexica /// san diego /// spain /// mexico\n",
            "A:  mexico city /// mexico city\n",
            "\n",
            "\n",
            "Model: mexico city and Actual Answer: mexico\n",
            "Q: I am looking for honey right from the source, where should I look?\n",
            "O: last all night /// beehive /// farmer's market /// jar /// honeyful\n",
            "A:  jar jar jar jar jar jar jar jar jar jar\n",
            "\n",
            "\n",
            "Model: jar jar jar jar jar jar jar jar jar jar and Actual Answer: beehive\n"
          ]
        },
        {
          "output_type": "stream",
          "name": "stderr",
          "text": [
            " 56%|█████▌    | 678/1221 [02:08<01:41,  5.35it/s]"
          ]
        },
        {
          "output_type": "stream",
          "name": "stdout",
          "text": [
            "Q: Where are there likely to be a variety of flats to choose from?\n",
            "O: london /// apartment building /// city /// falling down /// town\n",
            "A:  town building building building building building building building building building\n",
            "\n",
            "\n",
            "Model: town building building building building building building building building building and Actual Answer: city\n",
            "Q: A weasel has a thin body and short legs to easier burrow after prey in a what?\n",
            "O: tree /// mulberry bush /// chicken coop /// viking ship /// rabbit warren\n",
            "A:  mulberry bushren tree warren tree warren\n",
            "\n",
            "\n",
            "Model: mulberry bushren tree warren tree warren and Actual Answer: rabbit warren\n"
          ]
        },
        {
          "output_type": "stream",
          "name": "stderr",
          "text": [
            " 56%|█████▌    | 680/1221 [02:08<01:41,  5.34it/s]"
          ]
        },
        {
          "output_type": "stream",
          "name": "stdout",
          "text": [
            "Q: What can disease destroy?\n",
            "O: rug /// third world country /// human body /// hospital /// building\n",
            "A:  human body body body body body body body body body\n",
            "\n",
            "\n",
            "Model: human body body body body body body body body body and Actual Answer: human body\n",
            "Q: What does a person from Avalon live in?\n",
            "O: pain /// meaningful work /// english house /// cotton candy /// headache\n",
            "A:  cotton candy candy candy candy cane candy cane candy cane\n",
            "\n",
            "\n",
            "Model: cotton candy candy candy candy cane candy cane candy cane and Actual Answer: english house\n"
          ]
        },
        {
          "output_type": "stream",
          "name": "stderr",
          "text": [
            " 56%|█████▌    | 682/1221 [02:09<01:43,  5.23it/s]"
          ]
        },
        {
          "output_type": "stream",
          "name": "stdout",
          "text": [
            "Q: Where is one likely to find a fan for their stove?\n",
            "O: appliance store /// sports stadium /// dress emporium /// hot room /// football stadium\n",
            "A:  sports stadium stadium stadium stadium stadium stadium stadium stadium stadium\n",
            "\n",
            "\n",
            "Model: sports stadium stadium stadium stadium stadium stadium stadium stadium stadium and Actual Answer: appliance store\n",
            "Q: Jodie felt a tightness in her chest. She was worried but didn't want to go to the hospital. Where might she go instead?\n",
            "O: istanbul /// concert /// bedroom /// antique shop /// human being\n",
            "A:  concert shop /// concert shop\n",
            "\n",
            "\n",
            "Model: concert shop and Actual Answer: bedroom\n"
          ]
        },
        {
          "output_type": "stream",
          "name": "stderr",
          "text": [
            " 56%|█████▌    | 684/1221 [02:09<01:41,  5.29it/s]"
          ]
        },
        {
          "output_type": "stream",
          "name": "stdout",
          "text": [
            "Q: If you're buying beer for a float trip what are you preparing to do?\n",
            "O: get arrested /// have fun /// get sick /// spend money /// stupidity\n",
            "A:  spend money /// have fun while doing business\n",
            "\n",
            "\n",
            "Model: spend money and Actual Answer: have fun\n",
            "Q: Piece of land in Canada where you can find marmot?\n",
            "O: north america /// united states /// vancouver island /// american /// cage\n",
            "A:  united states United States of american united states of\n",
            "\n",
            "\n",
            "Model: united states United States of american united states of and Actual Answer: vancouver island\n"
          ]
        },
        {
          "output_type": "stream",
          "name": "stderr",
          "text": [
            " 56%|█████▌    | 686/1221 [02:09<01:40,  5.33it/s]"
          ]
        },
        {
          "output_type": "stream",
          "name": "stdout",
          "text": [
            "Q: The surgeon's clients had begun to reduce, it seemed girls no longer want to what?\n",
            "O: reduction /// make larger /// augment /// gain weight /// expand\n",
            "A:  increase weight\n",
            "\n",
            "\n",
            "Model: increase weight and Actual Answer: augment\n",
            "Q: While waiting for this appointment, people often read magazines.\n",
            "O: doctor /// train station /// newsagent /// market /// table\n",
            "A:  newsagent /// newsagent\n",
            "\n",
            "\n",
            "Model: newsagent and Actual Answer: doctor\n"
          ]
        },
        {
          "output_type": "stream",
          "name": "stderr",
          "text": [
            " 56%|█████▋    | 688/1221 [02:10<01:40,  5.33it/s]"
          ]
        },
        {
          "output_type": "stream",
          "name": "stdout",
          "text": [
            "Q: Where would you find a fox that is made up?\n",
            "O: storybook /// woods /// hen house /// natural habitat /// back yard\n",
            "A:  storybook storybook storybook storybook storybook\n",
            "\n",
            "\n",
            "Model: storybook storybook storybook storybook storybook and Actual Answer: storybook\n",
            "Q: In basic training they build you up only to do what, all in hopes of building you up even stronger the next time?\n",
            "O: destroying /// tear down /// raze /// mutilate /// demolition\n",
            "A:  tear down\n",
            "\n",
            "\n",
            "Model: tear down and Actual Answer: tear down\n"
          ]
        },
        {
          "output_type": "stream",
          "name": "stderr",
          "text": [
            " 57%|█████▋    | 690/1221 [02:10<01:39,  5.33it/s]"
          ]
        },
        {
          "output_type": "stream",
          "name": "stdout",
          "text": [
            "Q: Billy saw a dog running from him and did his best to get away from it.  The leaped up to where the dog couldn't reach and was stuck.  Where might he have been trapped?\n",
            "O: kennel /// table /// porch /// backyard /// park\n",
            "A:  porch porch porch porch porch porch porch porch porch porch\n",
            "\n",
            "\n",
            "Model: porch porch porch porch porch porch porch porch porch porch and Actual Answer: table\n",
            "Q: John and Judy were parents.  They had two wonderful kids who weren't always well behaved.  They were light tough, though.  They felt it was a parent's job to do what?\n",
            "O: control children /// guide children /// speak freely /// cry /// understand children\n",
            "A:  control children's children's children's children's children\n",
            "\n",
            "\n",
            "Model: control children's children's children's children's children and Actual Answer: guide children\n"
          ]
        },
        {
          "output_type": "stream",
          "name": "stderr",
          "text": [
            " 57%|█████▋    | 692/1221 [02:10<01:38,  5.36it/s]"
          ]
        },
        {
          "output_type": "stream",
          "name": "stdout",
          "text": [
            "Q: What are you playing if you're fiddling on a violin?\n",
            "O: bluegrass music /// make music /// drop /// string instrument /// troubles\n",
            "A:  strings instrument instrument instrument instrumentes are used to make\n",
            "\n",
            "\n",
            "Model: strings instrument instrument instrument instrumentes are used to make and Actual Answer: bluegrass music\n",
            "Q: If somebody buys something and gives it to me as a free gift, what is the cost status of the gift?\n",
            "O: deadly /// imprisoned /// paid for /// expensive /// in prison\n",
            "A:  in prison prison sentence for life for life for life\n",
            "\n",
            "\n",
            "Model: in prison prison sentence for life for life for life and Actual Answer: paid for\n"
          ]
        },
        {
          "output_type": "stream",
          "name": "stderr",
          "text": [
            " 57%|█████▋    | 694/1221 [02:11<01:38,  5.34it/s]"
          ]
        },
        {
          "output_type": "stream",
          "name": "stdout",
          "text": [
            "Q: Why does someone flirt with many people at once?\n",
            "O: have sex /// get laid /// were lonely /// attract attention /// dance\n",
            "A:  have sex with many people at once, have sex\n",
            "\n",
            "\n",
            "Model: have sex with many people at once, have sex and Actual Answer: attract attention\n",
            "Q: James tore the antenna off of his boat due to bad reception as he was crossing the channel from France.  Where was he going?\n",
            "O: river /// television /// india /// england /// europe\n",
            "A:  englandland /// englandland /// england\n",
            "\n",
            "\n",
            "Model: englandland and Actual Answer: england\n"
          ]
        },
        {
          "output_type": "stream",
          "name": "stderr",
          "text": [
            " 57%|█████▋    | 696/1221 [02:11<01:37,  5.37it/s]"
          ]
        },
        {
          "output_type": "stream",
          "name": "stdout",
          "text": [
            "Q: Why would a band be performing when there are no people nearby?\n",
            "O: record album /// play music /// hold concert /// blaring /// practice\n",
            "A:  play music music music music music music music music music\n",
            "\n",
            "\n",
            "Model: play music music music music music music music music music and Actual Answer: record album\n",
            "Q: The dogs were protecting their own when they decided to what the bad man?\n",
            "O: bad breath /// defend /// run fast /// ocean /// attack\n",
            "A:  run fast and run fast and run fast and run\n",
            "\n",
            "\n",
            "Model: run fast and run fast and run fast and run and Actual Answer: attack\n"
          ]
        },
        {
          "output_type": "stream",
          "name": "stderr",
          "text": [
            " 57%|█████▋    | 698/1221 [02:12<01:37,  5.35it/s]"
          ]
        },
        {
          "output_type": "stream",
          "name": "stdout",
          "text": [
            "Q: What is used to grind wheat for bread?\n",
            "O: farmer's field /// countryside /// cereal packets /// bread /// mill\n",
            "A:  miller's field /// miller's field ///\n",
            "\n",
            "\n",
            "Model: miller's field and Actual Answer: mill\n",
            "Q: If you have a large satchel with you when you fly you'll be asked to store it where?\n",
            "O: airport /// luggage compartment /// with the pilot /// room /// clothing store\n",
            "A:  suitcase suitcase suitcase suitcase suitcase suitcase suitcase suitcase suitcase suitcase\n",
            "\n",
            "\n",
            "Model: suitcase suitcase suitcase suitcase suitcase suitcase suitcase suitcase suitcase suitcase and Actual Answer: luggage compartment\n"
          ]
        },
        {
          "output_type": "stream",
          "name": "stderr",
          "text": [
            " 57%|█████▋    | 700/1221 [02:12<01:37,  5.34it/s]"
          ]
        },
        {
          "output_type": "stream",
          "name": "stdout",
          "text": [
            "Q: Where would someone keep their nylon leggings?\n",
            "O: stockings /// rope /// car /// clothing /// drawer\n",
            "A:  stockings drawer drawer drawer drawer drawer drawer drawer drawer\n",
            "\n",
            "\n",
            "Model: stockings drawer drawer drawer drawer drawer drawer drawer drawer and Actual Answer: drawer\n",
            "Q: If you spend a long time running after a ball how are you likely to feel?\n",
            "O: laughter /// sweating /// embarrassed /// breathing heavily /// tiredness\n",
            "A:  sweating heavily breathing heavily breathing heavily /// sweating heavily breathing\n",
            "\n",
            "\n",
            "Model: sweating heavily breathing heavily breathing heavily and Actual Answer: tiredness\n"
          ]
        },
        {
          "output_type": "stream",
          "name": "stderr",
          "text": [
            " 57%|█████▋    | 702/1221 [02:12<01:37,  5.34it/s]"
          ]
        },
        {
          "output_type": "stream",
          "name": "stdout",
          "text": [
            "Q: When you need to rest it's often because you have been doing what?\n",
            "O: action /// sleep /// sleeping /// in motion /// using energy\n",
            "A:  sleep in motion while doing what?  sleep in\n",
            "\n",
            "\n",
            "Model: sleep in motion while doing what?  sleep in and Actual Answer: using energy\n",
            "Q: Boredom and hunger led to a wandering waste of time and a cart full of unhealthy snacks during her trip to where?\n",
            "O: new moon /// play cards /// read book /// see art /// grocery shop\n",
            "A:  play cards cards with art book and play cards with\n",
            "\n",
            "\n",
            "Model: play cards cards with art book and play cards with and Actual Answer: grocery shop\n"
          ]
        },
        {
          "output_type": "stream",
          "name": "stderr",
          "text": [
            " 58%|█████▊    | 704/1221 [02:13<01:36,  5.35it/s]"
          ]
        },
        {
          "output_type": "stream",
          "name": "stdout",
          "text": [
            "Q: He was beginning to worry they wouldn't get on the ride before closing, they had been standing in queue for a long what?\n",
            "O: frustration /// waiting /// hair /// time /// patience\n",
            "A:  waiting time for time for time for time for time\n",
            "\n",
            "\n",
            "Model: waiting time for time for time for time for time and Actual Answer: time\n",
            "Q: This is an unavoidable physiological consequence of running.  What is it?\n",
            "O: breathlessness /// increased heart rate /// falling down /// muscle bulk /// calluses\n",
            "A:  breathinglessness caused by breathinglessness caused by breathinglessness\n",
            "\n",
            "\n",
            "Model: breathinglessness caused by breathinglessness caused by breathinglessness and Actual Answer: increased heart rate\n"
          ]
        },
        {
          "output_type": "stream",
          "name": "stderr",
          "text": [
            " 58%|█████▊    | 706/1221 [02:13<01:36,  5.35it/s]"
          ]
        },
        {
          "output_type": "stream",
          "name": "stdout",
          "text": [
            "Q: Sometimes a person has a fear of water or a dislike of being wet, it is still important to make sure they are having a bath why?\n",
            "O: flooding /// drowning /// wet skin /// get wet /// rash\n",
            "A:  wet skin or dry skin or dry skin or dry\n",
            "\n",
            "\n",
            "Model: wet skin or dry skin or dry skin or dry and Actual Answer: rash\n",
            "Q: Where would there be an auditorium with only a single person speaking?\n",
            "O: lights /// crowd /// university campus /// theater /// park\n",
            "A:  auditorium campus campus campus campus campus campus campus campus\n",
            "\n",
            "\n",
            "Model: auditorium campus campus campus campus campus campus campus campus and Actual Answer: university campus\n"
          ]
        },
        {
          "output_type": "stream",
          "name": "stderr",
          "text": [
            " 58%|█████▊    | 708/1221 [02:13<01:35,  5.38it/s]"
          ]
        },
        {
          "output_type": "stream",
          "name": "stdout",
          "text": [
            "Q: To get out of there the person had to keep on walking, they had to keep on what?\n",
            "O: moving forward /// locomotion /// blisters /// rollerskate /// exercise\n",
            "A:  moving forward /// moving forward /// moving forward\n",
            "\n",
            "\n",
            "Model: moving forward and Actual Answer: moving forward\n",
            "Q: What very large group of western citizens has bees everywhere?\n",
            "O: united states /// space station /// trash can /// field of flowers /// bouquet of flowers\n",
            "A:  space station station station station station station station station station\n",
            "\n",
            "\n",
            "Model: space station station station station station station station station station and Actual Answer: united states\n"
          ]
        },
        {
          "output_type": "stream",
          "name": "stderr",
          "text": [
            " 58%|█████▊    | 710/1221 [02:14<01:36,  5.32it/s]"
          ]
        },
        {
          "output_type": "stream",
          "name": "stdout",
          "text": [
            "Q: Miss Grady took a stick from Bob because he was playing with it during class.  She wanted to make sure that he couldn't get to it so she put it where?\n",
            "O: desk drawer /// kitchen drawer /// classroom /// pocket /// office\n",
            "A:  classroom drawer drawer drawer\n",
            "\n",
            "\n",
            "Model: classroom drawer drawer drawer and Actual Answer: desk drawer\n",
            "Q: How does a person begin reproducing?\n",
            "O: genetic mutation /// have sex /// kiss /// flirting /// going on a date\n",
            "A:  genetic mutation mutation mutation mutation mutation mutation mutation mutation mutation\n",
            "\n",
            "\n",
            "Model: genetic mutation mutation mutation mutation mutation mutation mutation mutation mutation and Actual Answer: have sex\n"
          ]
        },
        {
          "output_type": "stream",
          "name": "stderr",
          "text": [
            " 58%|█████▊    | 712/1221 [02:14<01:35,  5.34it/s]"
          ]
        },
        {
          "output_type": "stream",
          "name": "stdout",
          "text": [
            "Q: Joe and Jill didn't want their children to be sedentary.  They might limit the time they children spend doing what?\n",
            "O: play sports /// throw things /// reading /// watch tv /// play with toys\n",
            "A:  play sports sports sports sports sports sports sports sports sports\n",
            "\n",
            "\n",
            "Model: play sports sports sports sports sports sports sports sports sports and Actual Answer: watch tv\n",
            "Q: They were making sauerkraut, the instructor explained the liquid should be above the cabbage in the what?\n",
            "O: jar /// drinking glass /// pot /// container /// can\n",
            "A:  container of cabbage container of cabbage container of cabbage container\n",
            "\n",
            "\n",
            "Model: container of cabbage container of cabbage container of cabbage container and Actual Answer: jar\n"
          ]
        },
        {
          "output_type": "stream",
          "name": "stderr",
          "text": [
            " 58%|█████▊    | 714/1221 [02:15<01:35,  5.33it/s]"
          ]
        },
        {
          "output_type": "stream",
          "name": "stdout",
          "text": [
            "Q: From where would you normally take a cup when you're about to get a drink?\n",
            "O: dishwasher /// water fountain /// sand box /// toilet /// kitchen cabinet\n",
            "A:  water fountain cabinet /// water fountain cabinet\n",
            "\n",
            "\n",
            "Model: water fountain cabinet and Actual Answer: kitchen cabinet\n",
            "Q: What are you using if there are speakers strapped on your ears?\n",
            "O: take it all in /// headphones /// desktop /// conference /// concert\n",
            "A:  headphones headphones headphones headphones headphones headphones headphones headphones headphones headphones\n",
            "\n",
            "\n",
            "Model: headphones headphones headphones headphones headphones headphones headphones headphones headphones headphones and Actual Answer: headphones\n"
          ]
        },
        {
          "output_type": "stream",
          "name": "stderr",
          "text": [
            " 59%|█████▊    | 716/1221 [02:15<01:34,  5.37it/s]"
          ]
        },
        {
          "output_type": "stream",
          "name": "stdout",
          "text": [
            "Q: Because of his anger he couldn't clearly explain or what?\n",
            "O: cool off /// write letter /// get mad /// illustrate point /// destroy enemy\n",
            "A:  write letter letter letter letter letter letter letter letter letter\n",
            "\n",
            "\n",
            "Model: write letter letter letter letter letter letter letter letter letter and Actual Answer: illustrate point\n",
            "Q: Where is likely to not just have a kosher restaurant?\n",
            "O: jerusalem /// jewish neighborhoods /// dining in /// new york city /// dining\n",
            "A:  kosher neighborhoods in New york city /// kosher neighborhoods\n",
            "\n",
            "\n",
            "Model: kosher neighborhoods in New york city and Actual Answer: new york city\n"
          ]
        },
        {
          "output_type": "stream",
          "name": "stderr",
          "text": [
            " 59%|█████▉    | 718/1221 [02:15<01:34,  5.35it/s]"
          ]
        },
        {
          "output_type": "stream",
          "name": "stdout",
          "text": [
            "Q: The bald eagle flew from Mount St Helen's to the Puget Sound and all over what?\n",
            "O: washington state /// utah /// pacific northwest /// northern california /// the desert\n",
            "A:  pacific northwest california state california\n",
            "\n",
            "\n",
            "Model: pacific northwest california state california and Actual Answer: washington state\n",
            "Q: Where could you get some knives if you are planning to bring them outside with you?\n",
            "O: sporting goods store /// backpack /// kitchen /// sharp edges /// dog house\n",
            "A:  backpack bag bag bag bag bag bag bag bag bag\n",
            "\n",
            "\n",
            "Model: backpack bag bag bag bag bag bag bag bag bag and Actual Answer: kitchen\n"
          ]
        },
        {
          "output_type": "stream",
          "name": "stderr",
          "text": [
            " 59%|█████▉    | 720/1221 [02:16<01:34,  5.32it/s]"
          ]
        },
        {
          "output_type": "stream",
          "name": "stdout",
          "text": [
            "Q: How can people fulfill their own calorie requirements?\n",
            "O: compete with each other /// feed themselves /// feel lonely /// talk to each other /// ask a doctor\n",
            "A:  feed themselves themselves themselves themselves themselves themselves themselves themselves to\n",
            "\n",
            "\n",
            "Model: feed themselves themselves themselves themselves themselves themselves themselves themselves to and Actual Answer: feed themselves\n",
            "Q: What does a stove do to the place that it's in?\n",
            "O: cool house /// warm room /// gas or electric /// burn child /// brown meat\n",
            "A:  cool house /// cool house /// cool house\n",
            "\n",
            "\n",
            "Model: cool house and Actual Answer: warm room\n"
          ]
        },
        {
          "output_type": "stream",
          "name": "stderr",
          "text": [
            " 59%|█████▉    | 722/1221 [02:16<01:33,  5.33it/s]"
          ]
        },
        {
          "output_type": "stream",
          "name": "stdout",
          "text": [
            "Q: What is the best way to begin going into trance?\n",
            "O: religious experience /// closed eyes /// loss of control /// sleep /// hallucination\n",
            "A:  hallucination experience experience experience experience experience experience experience experience\n",
            "\n",
            "\n",
            "Model: hallucination experience experience experience experience experience experience experience experience and Actual Answer: closed eyes\n",
            "Q: A computer user working on an important work assignment is located in what structure?\n",
            "O: office building /// internet cafe /// house /// school /// internet cafe\n",
            "A:  office building building building building building building building building building\n",
            "\n",
            "\n",
            "Model: office building building building building building building building building building and Actual Answer: office building\n"
          ]
        },
        {
          "output_type": "stream",
          "name": "stderr",
          "text": [
            " 59%|█████▉    | 724/1221 [02:16<01:33,  5.33it/s]"
          ]
        },
        {
          "output_type": "stream",
          "name": "stdout",
          "text": [
            "Q: The music was festive but why are the horses dancing in circles\n",
            "O: carnival /// night club /// theatre /// opera /// ringmaster\n",
            "A:  carnival circus circus circus circus circus circus circus circus\n",
            "\n",
            "\n",
            "Model: carnival circus circus circus circus circus circus circus circus and Actual Answer: carnival\n",
            "Q: In the building where James worked there was a small mezzanine in the auditorium to make more space for seats.  Where might James work?\n",
            "O: theater /// floors /// concert hall /// education /// school\n",
            "A:  auditorium floor /// auditorium floor\n",
            "\n",
            "\n",
            "Model: auditorium floor and Actual Answer: theater\n"
          ]
        },
        {
          "output_type": "stream",
          "name": "stderr",
          "text": [
            " 59%|█████▉    | 726/1221 [02:17<01:32,  5.34it/s]"
          ]
        },
        {
          "output_type": "stream",
          "name": "stdout",
          "text": [
            "Q: If you aren't well rested and it's a rainy day what might you do?\n",
            "O: sleep /// write /// make bread /// stay in bed /// enjoy film\n",
            "A:  sleep in bed in bed in bed in bed in\n",
            "\n",
            "\n",
            "Model: sleep in bed in bed in bed in bed in and Actual Answer: stay in bed\n",
            "Q: Where would you have a stove if you don't live in a detached dwelling?\n",
            "O: tent /// car /// living room /// friend's house /// apartment\n",
            "A:  apartment building apartment building building building building building building building\n",
            "\n",
            "\n",
            "Model: apartment building apartment building building building building building building building and Actual Answer: apartment\n"
          ]
        },
        {
          "output_type": "stream",
          "name": "stderr",
          "text": [
            " 60%|█████▉    | 728/1221 [02:17<01:31,  5.36it/s]"
          ]
        },
        {
          "output_type": "stream",
          "name": "stdout",
          "text": [
            "Q: What kind of place has a revolving door and has things to buy in it?\n",
            "O: new york /// public place /// bank /// mall /// supermarket door\n",
            "A:  mall door and mall door and mall door and mall\n",
            "\n",
            "\n",
            "Model: mall door and mall door and mall door and mall and Actual Answer: mall\n",
            "Q: Where can books be read?\n",
            "O: cabinet /// backpack /// table /// shelf /// sink\n",
            "A:  shelf drawer drawer drawer drawer drawer drawer drawer drawer drawer\n",
            "\n",
            "\n",
            "Model: shelf drawer drawer drawer drawer drawer drawer drawer drawer drawer and Actual Answer: table\n"
          ]
        },
        {
          "output_type": "stream",
          "name": "stderr",
          "text": [
            " 60%|█████▉    | 730/1221 [02:18<01:31,  5.35it/s]"
          ]
        },
        {
          "output_type": "stream",
          "name": "stdout",
          "text": [
            "Q: Where is seaweed usually found alive?\n",
            "O: ocean /// found in ocean /// water /// found in sea /// beach\n",
            "A:  ocean water beach beach beach beach beach beach beach beach\n",
            "\n",
            "\n",
            "Model: ocean water beach beach beach beach beach beach beach beach and Actual Answer: water\n",
            "Q: If a lizard is fed by people every day, what has happened to it?\n",
            "O: documentary /// costa rica /// garden /// encouragement /// captivity\n",
            "A:  costa rica rica rica rica\n",
            "\n",
            "\n",
            "Model: costa rica rica rica rica and Actual Answer: captivity\n"
          ]
        },
        {
          "output_type": "stream",
          "name": "stderr",
          "text": [
            " 60%|█████▉    | 732/1221 [02:18<01:31,  5.37it/s]"
          ]
        },
        {
          "output_type": "stream",
          "name": "stdout",
          "text": [
            "Q: What will happen to someone if his or her spirits cannot elevate?\n",
            "O: sadden /// demote /// depress /// drop /// decrease\n",
            "A:  decrease in value of value of value of value of\n",
            "\n",
            "\n",
            "Model: decrease in value of value of value of value of and Actual Answer: depress\n",
            "Q: If you wanted a license to catch crabs, what government office would you go to?\n",
            "O: most offices /// fish department /// fancy restaurant /// government submarine /// chesapeake bay\n",
            "A:  chesapeake bay bay bay bay bay bay bay\n",
            "\n",
            "\n",
            "Model: chesapeake bay bay bay bay bay bay bay and Actual Answer: fish department\n"
          ]
        },
        {
          "output_type": "stream",
          "name": "stderr",
          "text": [
            " 60%|██████    | 734/1221 [02:18<01:30,  5.38it/s]"
          ]
        },
        {
          "output_type": "stream",
          "name": "stdout",
          "text": [
            "Q: What furniture will you normally find near a side chair?\n",
            "O: bedroom /// table /// wheel barrow /// building /// office\n",
            "A:  office building building building building building building building building building\n",
            "\n",
            "\n",
            "Model: office building building building building building building building building building and Actual Answer: table\n",
            "Q: Metal is used to make what?\n",
            "O: junkyard /// ore /// instruments /// metal fabrication shop /// bowls\n",
            "A:  metal fabrication shop shop shop shop shop shop shop shop\n",
            "\n",
            "\n",
            "Model: metal fabrication shop shop shop shop shop shop shop shop and Actual Answer: instruments\n"
          ]
        },
        {
          "output_type": "stream",
          "name": "stderr",
          "text": [
            " 60%|██████    | 736/1221 [02:19<01:31,  5.30it/s]"
          ]
        },
        {
          "output_type": "stream",
          "name": "stdout",
          "text": [
            "Q: What is the word added to Manchester that signifies what county it is in?\n",
            "O: england /// united kingdome /// lancashire /// greater manchester /// cheshire\n",
            "A:  england manchester county manchester county manchester\n",
            "\n",
            "\n",
            "Model: england manchester county manchester county manchester and Actual Answer: greater manchester\n",
            "Q: The program kept getting errors, the amateur end user began to what?\n",
            "O: get mad /// compile /// debug /// write code /// get frustrated\n",
            "A:  compile code code code code code /// write code ///\n",
            "\n",
            "\n",
            "Model: compile code code code code code and Actual Answer: get frustrated\n"
          ]
        },
        {
          "output_type": "stream",
          "name": "stderr",
          "text": [
            " 60%|██████    | 738/1221 [02:19<01:31,  5.28it/s]"
          ]
        },
        {
          "output_type": "stream",
          "name": "stdout",
          "text": [
            "Q: John knew that the sun produced a massive amount of energy in two forms.  If you were on the surface of the sun, what would kill you first?\n",
            "O: ocean /// heat /// life on earth /// wrinkles /// light\n",
            "A:  life on earth /// life on earth /// life on\n",
            "\n",
            "\n",
            "Model: life on earth and Actual Answer: heat\n",
            "Q: Lawyers often talk in front of an audience where?\n",
            "O: work /// courtroom /// office building /// press charges /// theatre\n",
            "A:  press charges against person who is charged against person who\n",
            "\n",
            "\n",
            "Model: press charges against person who is charged against person who and Actual Answer: courtroom\n"
          ]
        },
        {
          "output_type": "stream",
          "name": "stderr",
          "text": [
            " 61%|██████    | 740/1221 [02:19<01:30,  5.31it/s]"
          ]
        },
        {
          "output_type": "stream",
          "name": "stdout",
          "text": [
            "Q: James bought a new set of tire chains and put them somewhere he could find them.  Where would he put them?\n",
            "O: gear shift /// garage /// kitchen /// jewelry store /// hardware store\n",
            "A:  hardware store /// hardware store\n",
            "\n",
            "\n",
            "Model: hardware store and Actual Answer: garage\n",
            "Q: If I wanted to eat something that is made from plants and needs to be washed, what would it be?\n",
            "O: roots /// millions of cells /// see work /// leaves to gather light /// flowers on\n",
            "A:  roots on roots on roots on roots on roots on\n",
            "\n",
            "\n",
            "Model: roots on roots on roots on roots on roots on and Actual Answer: roots\n"
          ]
        },
        {
          "output_type": "stream",
          "name": "stderr",
          "text": [
            " 61%|██████    | 742/1221 [02:20<01:30,  5.27it/s]"
          ]
        },
        {
          "output_type": "stream",
          "name": "stdout",
          "text": [
            "Q: Ficus can be planted in a yard to make summer more bearable, what sort of areas do they create?\n",
            "O: shady places /// screened porch /// pots /// ceramics /// clay pot\n",
            "A:  clay pottery pottery pottery pottery pot\n",
            "\n",
            "\n",
            "Model: clay pottery pottery pottery pottery pot and Actual Answer: shady places\n",
            "Q: Children's behavior is a direct reflection of their what?\n",
            "O: parents /// old people /// play ball /// many adults /// grown ups\n",
            "A:  parents are young people who play ball ball ball ball\n",
            "\n",
            "\n",
            "Model: parents are young people who play ball ball ball ball and Actual Answer: parents\n"
          ]
        },
        {
          "output_type": "stream",
          "name": "stderr",
          "text": [
            " 61%|██████    | 744/1221 [02:20<01:29,  5.31it/s]"
          ]
        },
        {
          "output_type": "stream",
          "name": "stdout",
          "text": [
            "Q: Most people who are family like to greet each other with a what?\n",
            "O: apartments /// listen to music /// have friends /// know what ophiolites /// hug\n",
            "A:  hug each other with a good friend's friend's\n",
            "\n",
            "\n",
            "Model: hug each other with a good friend's friend's and Actual Answer: hug\n",
            "Q: John bought a new water hose.  But he found his old one near his car.  Where did he find the old one?\n",
            "O: garden shed /// hardware store /// greenhouse /// garage /// in a van\n",
            "A:  garage shed shed shed shed shed shed shed shed shed\n",
            "\n",
            "\n",
            "Model: garage shed shed shed shed shed shed shed shed shed and Actual Answer: garage\n"
          ]
        },
        {
          "output_type": "stream",
          "name": "stderr",
          "text": [
            " 61%|██████    | 746/1221 [02:21<01:29,  5.28it/s]"
          ]
        },
        {
          "output_type": "stream",
          "name": "stdout",
          "text": [
            "Q: Where is a control room needed to prevent wide spread disaster?\n",
            "O: airbase /// prison /// mill /// nuclear plant /// recording studio\n",
            "A:  prison facility facility facility facility facility facility facility facility facility\n",
            "\n",
            "\n",
            "Model: prison facility facility facility facility facility facility facility facility facility and Actual Answer: nuclear plant\n",
            "Q: Where do you keep your pizza slice before you eat it?\n",
            "O: table /// plate /// restaurant /// oven /// popular\n",
            "A:  table table before you eat it before you eat it\n",
            "\n",
            "\n",
            "Model: table table before you eat it before you eat it and Actual Answer: plate\n"
          ]
        },
        {
          "output_type": "stream",
          "name": "stderr",
          "text": [
            " 61%|██████▏   | 748/1221 [02:21<01:28,  5.33it/s]"
          ]
        },
        {
          "output_type": "stream",
          "name": "stdout",
          "text": [
            "Q: Everybody was changing into costumes in the dressing room, it was almost time to take the what stage?\n",
            "O: theater /// train /// bathhouse /// dwelling /// actors and actresses\n",
            "A:  theater and actresses and actresses and actresses and actresses and\n",
            "\n",
            "\n",
            "Model: theater and actresses and actresses and actresses and actresses and and Actual Answer: theater\n",
            "Q: The homeowner frowned at the price of gas, what did he have to do later?\n",
            "O: own home /// mail property tax payments /// board windows /// cut grass /// receive mail\n",
            "A:  mail property tax payments to seller's own home tax\n",
            "\n",
            "\n",
            "Model: mail property tax payments to seller's own home tax and Actual Answer: cut grass\n"
          ]
        },
        {
          "output_type": "stream",
          "name": "stderr",
          "text": [
            " 61%|██████▏   | 750/1221 [02:21<01:28,  5.33it/s]"
          ]
        },
        {
          "output_type": "stream",
          "name": "stdout",
          "text": [
            "Q: A thoroughfare meandered through fields and woods, where was it passing though?\n",
            "O: move about /// city /// country /// town /// new york city\n",
            "A:  town town town town town town town town town town\n",
            "\n",
            "\n",
            "Model: town town town town town town town town town town and Actual Answer: country\n",
            "Q: If I want a new ottoman, where should I go?\n",
            "O: furniture store /// parlor /// turkey /// living room /// den\n",
            "A:  living room store store store store store store store store\n",
            "\n",
            "\n",
            "Model: living room store store store store store store store store and Actual Answer: furniture store\n"
          ]
        },
        {
          "output_type": "stream",
          "name": "stderr",
          "text": [
            " 62%|██████▏   | 752/1221 [02:22<01:28,  5.30it/s]"
          ]
        },
        {
          "output_type": "stream",
          "name": "stdout",
          "text": [
            "Q: Sean was leaving work and took the roadway that led to his what?\n",
            "O: neighborhood /// city /// fate /// countryside /// maps\n",
            "A:  countryside map /// countryside map map map map map map\n",
            "\n",
            "\n",
            "Model: countryside map and Actual Answer: neighborhood\n",
            "Q: What can you use to get a jellyfish?\n",
            "O: adriatic sea /// mediterranean sea /// hand /// see /// atlantic ocean\n",
            "A:  mediterranean sea sea sea sea sea sea sea sea\n",
            "\n",
            "\n",
            "Model: mediterranean sea sea sea sea sea sea sea sea and Actual Answer: hand\n"
          ]
        },
        {
          "output_type": "stream",
          "name": "stderr",
          "text": [
            " 62%|██████▏   | 754/1221 [02:22<01:27,  5.34it/s]"
          ]
        },
        {
          "output_type": "stream",
          "name": "stdout",
          "text": [
            "Q: What has a shelf that does not allow you to see what is inside of it?\n",
            "O: chest of drawers /// stove /// hold alcohol /// bookcase /// grocery store\n",
            "A:  bookcase case case case case case case case case\n",
            "\n",
            "\n",
            "Model: bookcase case case case case case case case case and Actual Answer: chest of drawers\n",
            "Q: What will likely happen after stabbing to death a person?\n",
            "O: gruesome /// being arrested /// pool of blood /// mess /// grisly\n",
            "A:  being arrested or being arrested or being arrested or being\n",
            "\n",
            "\n",
            "Model: being arrested or being arrested or being arrested or being and Actual Answer: being arrested\n"
          ]
        },
        {
          "output_type": "stream",
          "name": "stderr",
          "text": [
            " 62%|██████▏   | 756/1221 [02:22<01:26,  5.36it/s]"
          ]
        },
        {
          "output_type": "stream",
          "name": "stdout",
          "text": [
            "Q: The boat passenger was explaining his fear of blowfish, but the captain figured he meant piranhas since they were on a river in the what?\n",
            "O: cuba /// styx /// atlantic ocean /// france /// jungle\n",
            "A:  franceville river basin in the woods in the\n",
            "\n",
            "\n",
            "Model: franceville river basin in the woods in the and Actual Answer: jungle\n",
            "Q: Where could you find only a few office?\n",
            "O: skyscraper /// new york /// school building /// city /// work\n",
            "A:  skyscraper building building building building building building building building\n",
            "\n",
            "\n",
            "Model: skyscraper building building building building building building building building and Actual Answer: school building\n"
          ]
        },
        {
          "output_type": "stream",
          "name": "stderr",
          "text": [
            " 62%|██████▏   | 758/1221 [02:23<01:26,  5.33it/s]"
          ]
        },
        {
          "output_type": "stream",
          "name": "stdout",
          "text": [
            "Q: Where can I go to be a religious gentleman?\n",
            "O: club /// restaurant /// university /// pub /// church\n",
            "A:  pub club club club club club club club club club\n",
            "\n",
            "\n",
            "Model: pub club club club club club club club club club and Actual Answer: church\n",
            "Q: I want to see a prepared slide up close, what would I use to help?\n",
            "O: microscope /// abbreviate /// glasses /// camera /// telescope\n",
            "A:  microscope telescope /// microscope telescope /// microscope\n",
            "\n",
            "\n",
            "Model: microscope telescope and Actual Answer: microscope\n"
          ]
        },
        {
          "output_type": "stream",
          "name": "stderr",
          "text": [
            " 62%|██████▏   | 760/1221 [02:23<01:26,  5.36it/s]"
          ]
        },
        {
          "output_type": "stream",
          "name": "stdout",
          "text": [
            "Q: Where can you buy a magazine, paper or gum?\n",
            "O: bank /// rack /// bed /// newsstand /// bus depot\n",
            "A:  bank depot shuttle shuttle shuttle shuttle shuttle shuttle shuttle shuttle\n",
            "\n",
            "\n",
            "Model: bank depot shuttle shuttle shuttle shuttle shuttle shuttle shuttle shuttle and Actual Answer: newsstand\n",
            "Q: Where would you get some wood if you do not have any?\n",
            "O: carpet /// boat /// river /// lumberyard /// synagogue\n",
            "A:  boat boat boat boat boat boat boat boat boat boat\n",
            "\n",
            "\n",
            "Model: boat boat boat boat boat boat boat boat boat boat and Actual Answer: lumberyard\n"
          ]
        },
        {
          "output_type": "stream",
          "name": "stderr",
          "text": [
            " 62%|██████▏   | 762/1221 [02:24<01:26,  5.31it/s]"
          ]
        },
        {
          "output_type": "stream",
          "name": "stdout",
          "text": [
            "Q: The pitcher felt stress and tension on the mound, what did he feel like?\n",
            "O: desert /// baseball field /// hell /// baseball diamond /// baseball stadium\n",
            "A:  baseball stadium stadium stadium stadium stadium stadium stadium stadium stadium\n",
            "\n",
            "\n",
            "Model: baseball stadium stadium stadium stadium stadium stadium stadium stadium stadium and Actual Answer: hell\n",
            "Q: What negative effect can competing in a chess game on a cold day have?\n",
            "O: enemies /// perform better /// sweat /// tension /// frostbite\n",
            "A:  tension encountered in chess game /// tension encountered\n",
            "\n",
            "\n",
            "Model: tension encountered in chess game and Actual Answer: tension\n"
          ]
        },
        {
          "output_type": "stream",
          "name": "stderr",
          "text": [
            "\r 62%|██████▏   | 763/1221 [02:24<01:26,  5.29it/s]"
          ]
        },
        {
          "output_type": "stream",
          "name": "stdout",
          "text": [
            "Q: Why is it hard for a young child to read a long book?\n",
            "O: knowledge /// cover /// no pictures /// past /// many words\n",
            "A:  knowledge of history is hard for a young child to\n",
            "\n",
            "\n",
            "Model: knowledge of history is hard for a young child to and Actual Answer: many words\n"
          ]
        },
        {
          "output_type": "stream",
          "name": "stderr",
          "text": [
            " 63%|██████▎   | 765/1221 [02:24<01:27,  5.20it/s]"
          ]
        },
        {
          "output_type": "stream",
          "name": "stdout",
          "text": [
            "Q: On a hot day what can you do to enjoy something cool and sweet?\n",
            "O: dive /// cool off /// fresh cake /// go for swim /// eat ice cream\n",
            "A:  cool off water off water off water off water off\n",
            "\n",
            "\n",
            "Model: cool off water off water off water off water off and Actual Answer: eat ice cream\n",
            "Q: What is likely to be found in a book that is not a foreword?\n",
            "O: last word /// conclusion /// ikea instructions /// afterword /// epilogue\n",
            "A:  epilogue\n",
            "\n",
            "\n",
            "Model: epilogue and Actual Answer: epilogue\n"
          ]
        },
        {
          "output_type": "stream",
          "name": "stderr",
          "text": [
            " 63%|██████▎   | 767/1221 [02:25<01:26,  5.23it/s]"
          ]
        },
        {
          "output_type": "stream",
          "name": "stdout",
          "text": [
            "Q: How many hours are in a day?\n",
            "O: week /// bright /// night /// twenty four /// year\n",
            "A:  week and bright night night night night night night night\n",
            "\n",
            "\n",
            "Model: week and bright night night night night night night night and Actual Answer: twenty four\n",
            "Q: Why is religion so hard to understand?\n",
            "O: both positive and negative /// unknowable /// important to people /// ocean /// confusing\n",
            "A:  confusing and contradictory to peopleensical to peopleensical to\n",
            "\n",
            "\n",
            "Model: confusing and contradictory to peopleensical to peopleensical to and Actual Answer: confusing\n"
          ]
        },
        {
          "output_type": "stream",
          "name": "stderr",
          "text": [
            " 63%|██████▎   | 769/1221 [02:25<01:25,  5.31it/s]"
          ]
        },
        {
          "output_type": "stream",
          "name": "stdout",
          "text": [
            "Q: The couple explained they were having trouble communicating, it seemed every conversation took great what?\n",
            "O: thinking /// effort /// laugh /// force /// medium\n",
            "A:  effort effort effort effort effort effort effort effort effort effort\n",
            "\n",
            "\n",
            "Model: effort effort effort effort effort effort effort effort effort effort and Actual Answer: effort\n",
            "Q: What would a person need to do if his or her captain dies at sea?\n",
            "O: cross street /// have a party /// experience life /// cross road /// man crew\n",
            "A:  cross road road road road road road road road road\n",
            "\n",
            "\n",
            "Model: cross road road road road road road road road road and Actual Answer: man crew\n"
          ]
        },
        {
          "output_type": "stream",
          "name": "stderr",
          "text": [
            " 63%|██████▎   | 771/1221 [02:25<01:24,  5.32it/s]"
          ]
        },
        {
          "output_type": "stream",
          "name": "stdout",
          "text": [
            "Q: What do children require to grow up healthy?\n",
            "O: need care /// come home /// fast food /// watch television /// wash dishes\n",
            "A:  wash dishes and wash dishes and wash dishes and wash\n",
            "\n",
            "\n",
            "Model: wash dishes and wash dishes and wash dishes and wash and Actual Answer: need care\n",
            "Q: I house outside the center of a community is said to be where?\n",
            "O: city /// subdivision /// newspaper /// residential area /// street\n",
            "A:  street corner corner corner corner corner corner corner corner corner\n",
            "\n",
            "\n",
            "Model: street corner corner corner corner corner corner corner corner corner and Actual Answer: subdivision\n"
          ]
        },
        {
          "output_type": "stream",
          "name": "stderr",
          "text": [
            " 63%|██████▎   | 773/1221 [02:26<01:24,  5.32it/s]"
          ]
        },
        {
          "output_type": "stream",
          "name": "stdout",
          "text": [
            "Q: The field general began to write out a letter to the king, he was told to send what when the enemy was near?\n",
            "O: syllable /// english alphabet /// word /// email /// invitation\n",
            "A:  syllable word word word word word word word word\n",
            "\n",
            "\n",
            "Model: syllable word word word word word word word word and Actual Answer: word\n",
            "Q: What will you put on a pen to prevent it from drying out?\n",
            "O: write sentences on paper /// ink in /// ink cartridges /// caps /// cling film\n",
            "A:  ink cartridges in ink cartridges in ink cartridges in ink\n",
            "\n",
            "\n",
            "Model: ink cartridges in ink cartridges in ink cartridges in ink and Actual Answer: caps\n"
          ]
        },
        {
          "output_type": "stream",
          "name": "stderr",
          "text": [
            " 63%|██████▎   | 775/1221 [02:26<01:23,  5.33it/s]"
          ]
        },
        {
          "output_type": "stream",
          "name": "stdout",
          "text": [
            "Q: After climbing the mountains, the explored found the cave, what was the general goegraphy of the region he found it in?\n",
            "O: west virginia /// kentucky /// desert /// sea /// rocky hills\n",
            "A:  kentucky region of virginia kentucky\n",
            "\n",
            "\n",
            "Model: kentucky region of virginia kentucky and Actual Answer: rocky hills\n",
            "Q: They dealt with combustible mixtures in their experiments, this is why they kept a fire extinguisher where?\n",
            "O: hospital /// chemistry lab /// most businesses /// classroom /// public building\n",
            "A:  classroom building /// classroom building building building building building building\n",
            "\n",
            "\n",
            "Model: classroom building and Actual Answer: chemistry lab\n"
          ]
        },
        {
          "output_type": "stream",
          "name": "stderr",
          "text": [
            " 64%|██████▎   | 777/1221 [02:26<01:23,  5.34it/s]"
          ]
        },
        {
          "output_type": "stream",
          "name": "stdout",
          "text": [
            "Q: If someone mean wanted to insult somebody by calling them a fruit, where is probably not the smartest place to do it?\n",
            "O: gay bar /// market /// grocery store /// refrigerator /// container\n",
            "A:  grocery store container container container container container container container container\n",
            "\n",
            "\n",
            "Model: grocery store container container container container container container container container and Actual Answer: gay bar\n",
            "Q: Where would you get a toothpick if you do not have any?\n",
            "O: box /// grocery store /// eyes /// chewing /// mouth\n",
            "A:  mouthwash bottle /// mouthwash bottle /// mouthwash\n",
            "\n",
            "\n",
            "Model: mouthwash bottle and Actual Answer: grocery store\n"
          ]
        },
        {
          "output_type": "stream",
          "name": "stderr",
          "text": [
            " 64%|██████▍   | 779/1221 [02:27<01:22,  5.34it/s]"
          ]
        },
        {
          "output_type": "stream",
          "name": "stdout",
          "text": [
            "Q: What would you be building if you designed a place for an annoying critter to stay?\n",
            "O: spread disease /// swamp /// fly away /// cat condo /// bug campers\n",
            "A:  cat condo condo tenters are living room condoers\n",
            "\n",
            "\n",
            "Model: cat condo condo tenters are living room condoers and Actual Answer: bug campers\n",
            "Q: The man working in the attic swatted away a bee, but soon the single bee was an entire what?\n",
            "O: swarm /// pack /// countryside /// soft drink /// field of flowers\n",
            "A:  swarm swarm swarm swarm of bees swarm of bees swarm\n",
            "\n",
            "\n",
            "Model: swarm swarm swarm swarm of bees swarm of bees swarm and Actual Answer: swarm\n"
          ]
        },
        {
          "output_type": "stream",
          "name": "stderr",
          "text": [
            " 64%|██████▍   | 781/1221 [02:27<01:22,  5.30it/s]"
          ]
        },
        {
          "output_type": "stream",
          "name": "stdout",
          "text": [
            "Q: What do you need to wear when hiking?\n",
            "O: cast iron stomach /// physical exertion /// shin splints /// adventure /// fatigue\n",
            "A:  shin splints and toes splints and toes spl\n",
            "\n",
            "\n",
            "Model: shin splints and toes splints and toes spl and Actual Answer: shin splints\n",
            "Q: What type of store would have lots of sports equipment?\n",
            "O: mall /// office supply store /// school /// sporting goods store /// sporting event\n",
            "A:  sporting event store store store store store store store store\n",
            "\n",
            "\n",
            "Model: sporting event store store store store store store store store and Actual Answer: sporting goods store\n"
          ]
        },
        {
          "output_type": "stream",
          "name": "stderr",
          "text": [
            " 64%|██████▍   | 783/1221 [02:28<01:22,  5.29it/s]"
          ]
        },
        {
          "output_type": "stream",
          "name": "stdout",
          "text": [
            "Q: The business man was promoted recently, to celebrate he went where to buy an expensive wristwatch?\n",
            "O: case /// jewelry store /// shopping /// jewelery box /// hock\n",
            "A:  jewelery store shop shop shop shop shop shop shop\n",
            "\n",
            "\n",
            "Model: jewelery store shop shop shop shop shop shop shop and Actual Answer: jewelry store\n",
            "Q: How is a child eager to be going to play likely to get there?\n",
            "O: slowly /// rush /// being entertained /// have fun /// enjoyment\n",
            "A:  being entertained by entertainable by entertainable by entertain\n",
            "\n",
            "\n",
            "Model: being entertained by entertainable by entertainable by entertain and Actual Answer: rush\n"
          ]
        },
        {
          "output_type": "stream",
          "name": "stderr",
          "text": [
            " 64%|██████▍   | 785/1221 [02:28<01:21,  5.32it/s]"
          ]
        },
        {
          "output_type": "stream",
          "name": "stdout",
          "text": [
            "Q: There's some new buying products designed to get you money if you have none. The first step is that it will show you how to declare what?\n",
            "O: tax return /// bankruptcy /// pleasure /// debt /// spending money\n",
            "A:  debt return /// debt return\n",
            "\n",
            "\n",
            "Model: debt return and Actual Answer: bankruptcy\n",
            "Q: Where can you buy a replacement ax handle?\n",
            "O: bathroom /// hardware store /// water fountain /// grocery store /// fridge\n",
            "A:  hardware store /// hardware store /// hardware store\n",
            "\n",
            "\n",
            "Model: hardware store and Actual Answer: hardware store\n"
          ]
        },
        {
          "output_type": "stream",
          "name": "stderr",
          "text": [
            " 64%|██████▍   | 787/1221 [02:28<01:21,  5.33it/s]"
          ]
        },
        {
          "output_type": "stream",
          "name": "stdout",
          "text": [
            "Q: Is that person acting as silly as a clown?\n",
            "O: make mistakes /// ridiculous /// have no home /// mentally unhinged /// schizophrenia\n",
            "A:  insane person is stupid as a clown.  insane\n",
            "\n",
            "\n",
            "Model: insane person is stupid as a clown.  insane and Actual Answer: ridiculous\n",
            "Q: Which group of states is Louisiana part of?\n",
            "O: deep south /// 98 of world's crayfish /// united states /// gulf states /// bible belt\n",
            "A:  gulf states united states united states united states united states\n",
            "\n",
            "\n",
            "Model: gulf states united states united states united states united states and Actual Answer: gulf states\n"
          ]
        },
        {
          "output_type": "stream",
          "name": "stderr",
          "text": [
            " 65%|██████▍   | 789/1221 [02:29<01:21,  5.31it/s]"
          ]
        },
        {
          "output_type": "stream",
          "name": "stdout",
          "text": [
            "Q: Where would you put a plate immediately after eating from it?\n",
            "O: kitchen cupboard /// floor /// table /// dishwasher /// flea market\n",
            "A:  table cupboard table cupboard /// table cupboard\n",
            "\n",
            "\n",
            "Model: table cupboard table cupboard and Actual Answer: dishwasher\n",
            "Q: James couldn't get comfortable.  There was too much dirt.  He needed to clean out what?\n",
            "O: ground /// subway /// bank /// bed /// street\n",
            "A:  ground floor floor floor floor floor floor floor floor floor\n",
            "\n",
            "\n",
            "Model: ground floor floor floor floor floor floor floor floor floor and Actual Answer: bed\n"
          ]
        },
        {
          "output_type": "stream",
          "name": "stderr",
          "text": [
            " 65%|██████▍   | 791/1221 [02:29<01:20,  5.32it/s]"
          ]
        },
        {
          "output_type": "stream",
          "name": "stdout",
          "text": [
            "Q: The rats were hiding in the house, where were they?\n",
            "O: sewers /// laboratory /// basement /// clinic /// cellar\n",
            "A:  basement basement basement basement basement basement basement basement basement basement\n",
            "\n",
            "\n",
            "Model: basement basement basement basement basement basement basement basement basement basement and Actual Answer: cellar\n",
            "Q: What do people do when they don't understand something?\n",
            "O: ask questions /// experience joy /// believe in god /// talk to each other /// get sick\n",
            "A:  ask questions to questions to each other about each other\n",
            "\n",
            "\n",
            "Model: ask questions to questions to each other about each other and Actual Answer: ask questions\n"
          ]
        },
        {
          "output_type": "stream",
          "name": "stderr",
          "text": [
            " 65%|██████▍   | 793/1221 [02:29<01:20,  5.34it/s]"
          ]
        },
        {
          "output_type": "stream",
          "name": "stdout",
          "text": [
            "Q: James saw a kite flying in the sky.  He traced the string back to its origin and found it.  Where did the string begin?\n",
            "O: end of line /// hobby shop /// his hand /// toy store /// child's hand\n",
            "A:  toy store /// toy store /// toy store\n",
            "\n",
            "\n",
            "Model: toy store and Actual Answer: child's hand\n",
            "Q: What rubber toy filled with helium will make a child happy?\n",
            "O: loved /// learn /// eat cake /// balloon /// become adult\n",
            "A:  become adult adult adult adult adult adult adult adult adult\n",
            "\n",
            "\n",
            "Model: become adult adult adult adult adult adult adult adult adult and Actual Answer: balloon\n"
          ]
        },
        {
          "output_type": "stream",
          "name": "stderr",
          "text": [
            " 65%|██████▌   | 795/1221 [02:30<01:20,  5.32it/s]"
          ]
        },
        {
          "output_type": "stream",
          "name": "stdout",
          "text": [
            "Q: Where do people get beer after a bit of gambling?\n",
            "O: bottle /// grocery store /// casino /// spaceship /// hockey game\n",
            "A:  casino game game game game game game game game game\n",
            "\n",
            "\n",
            "Model: casino game game game game game game game game game and Actual Answer: casino\n",
            "Q: What can happen to you when you are using television and it is not interesting?\n",
            "O: turn off /// functions /// turning off /// entertainment /// fall asleep\n",
            "A:  fall asleep asleep asleep asleep while watching television and fall\n",
            "\n",
            "\n",
            "Model: fall asleep asleep asleep asleep while watching television and fall and Actual Answer: fall asleep\n"
          ]
        },
        {
          "output_type": "stream",
          "name": "stderr",
          "text": [
            " 65%|██████▌   | 797/1221 [02:30<01:20,  5.24it/s]"
          ]
        },
        {
          "output_type": "stream",
          "name": "stdout",
          "text": [
            "Q: The business men left the discussion in the dressing room, now they just wanted to relax in the sauna of the what?\n",
            "O: brush hair /// theater /// house /// dwelling /// bathhouse\n",
            "A:  bathhouse /// house house house house house house house\n",
            "\n",
            "\n",
            "Model: bathhouse and Actual Answer: bathhouse\n",
            "Q: Where is a likely place for an ivy plant?\n",
            "O: flower pot /// shelf /// windowsill /// outside /// sill\n",
            "A:  shelf pot lid /// shelf pot lid\n",
            "\n",
            "\n",
            "Model: shelf pot lid and Actual Answer: outside\n"
          ]
        },
        {
          "output_type": "stream",
          "name": "stderr",
          "text": [
            " 65%|██████▌   | 799/1221 [02:31<01:20,  5.26it/s]"
          ]
        },
        {
          "output_type": "stream",
          "name": "stdout",
          "text": [
            "Q: Where has the newest baseball stadium?\n",
            "O: phoenix /// chicago /// antarctica /// san francisco /// urban areas\n",
            "A:  urban areas of america /// urban areas of americ\n",
            "\n",
            "\n",
            "Model: urban areas of america and Actual Answer: phoenix\n",
            "Q: What type of residence has a ground floor with a stoop?\n",
            "O: brownstone /// hotel /// condominium /// entering building /// office building\n",
            "A:  condominium building building building building building building building building\n",
            "\n",
            "\n",
            "Model: condominium building building building building building building building building and Actual Answer: brownstone\n"
          ]
        },
        {
          "output_type": "stream",
          "name": "stderr",
          "text": [
            " 66%|██████▌   | 801/1221 [02:31<01:19,  5.26it/s]"
          ]
        },
        {
          "output_type": "stream",
          "name": "stdout",
          "text": [
            "Q: If the wood texture is not smooth it is what?\n",
            "O: gilded /// porous /// solid /// painted /// less dense than water\n",
            "A:  porous than water water permeated /// porous\n",
            "\n",
            "\n",
            "Model: porous than water water permeated and Actual Answer: porous\n",
            "Q: What might happen if someone is not losing weight?\n",
            "O: loose skin /// beauty /// miss universe /// death /// healthier\n",
            "A:  lose skin skin and lose skin and lose skin and\n",
            "\n",
            "\n",
            "Model: lose skin skin and lose skin and lose skin and and Actual Answer: death\n"
          ]
        },
        {
          "output_type": "stream",
          "name": "stderr",
          "text": [
            " 66%|██████▌   | 803/1221 [02:31<01:19,  5.24it/s]"
          ]
        },
        {
          "output_type": "stream",
          "name": "stdout",
          "text": [
            "Q: Billy lived in the capital of his country, then he moved.  Where might he move to?\n",
            "O: small town /// jail /// lower case /// contain governmental activities /// lowercase\n",
            "A:  lower case case case case case case case case case\n",
            "\n",
            "\n",
            "Model: lower case case case case case case case case case and Actual Answer: small town\n",
            "Q: Making a schedule was easy to pick, the major called for knowledge that required a certain what?\n",
            "O: color /// class /// meeting /// university /// encyclopedia\n",
            "A:  meeting meeting meeting meeting meeting meeting meeting meeting meeting meeting\n",
            "\n",
            "\n",
            "Model: meeting meeting meeting meeting meeting meeting meeting meeting meeting meeting and Actual Answer: class\n"
          ]
        },
        {
          "output_type": "stream",
          "name": "stderr",
          "text": [
            " 66%|██████▌   | 805/1221 [02:32<01:19,  5.22it/s]"
          ]
        },
        {
          "output_type": "stream",
          "name": "stdout",
          "text": [
            "Q: When getting in shape, this is something that does wonders?\n",
            "O: eat more /// starve /// give up /// period of recovery /// jogging\n",
            "A:  starve to starve to starve to starve to starve to\n",
            "\n",
            "\n",
            "Model: starve to starve to starve to starve to starve to and Actual Answer: jogging\n",
            "Q: What could prevent a driving car from continuing to drive?\n",
            "O: automobile accidents /// backache /// pollution /// smoke /// low fuel tank\n",
            "A:  pollution tank tank tank tank tank tank tank tank tank\n",
            "\n",
            "\n",
            "Model: pollution tank tank tank tank tank tank tank tank tank and Actual Answer: automobile accidents\n"
          ]
        },
        {
          "output_type": "stream",
          "name": "stderr",
          "text": [
            " 66%|██████▌   | 807/1221 [02:32<01:18,  5.28it/s]"
          ]
        },
        {
          "output_type": "stream",
          "name": "stdout",
          "text": [
            "Q: Where do you store a large container?\n",
            "O: supermarket /// factory /// juice /// hostel /// cabinet\n",
            "A:  supermarket cabinet /// cabinet\n",
            "\n",
            "\n",
            "Model: supermarket cabinet and Actual Answer: cabinet\n",
            "Q: What is a person likely to experience after they stop being married to a mean person?\n",
            "O: isolation /// grief /// happiness /// relief /// angry\n",
            "A:  grief stricken person's grief stricken person's grief stricken\n",
            "\n",
            "\n",
            "Model: grief stricken person's grief stricken person's grief stricken and Actual Answer: happiness\n"
          ]
        },
        {
          "output_type": "stream",
          "name": "stderr",
          "text": [
            " 66%|██████▋   | 809/1221 [02:32<01:17,  5.30it/s]"
          ]
        },
        {
          "output_type": "stream",
          "name": "stdout",
          "text": [
            "Q: Despite the large crowds, how did the depressed man feel?\n",
            "O: small group /// alone /// solitary /// solitude /// panic\n",
            "A:  alone alone alone alone alone alone alone alone alone alone\n",
            "\n",
            "\n",
            "Model: alone alone alone alone alone alone alone alone alone alone and Actual Answer: solitary\n",
            "Q: Where does a maid empty a trash can?\n",
            "O: bus stop /// corner /// hockey game /// motel /// alley\n",
            "A:  motel room room room room room room room room room\n",
            "\n",
            "\n",
            "Model: motel room room room room room room room room room and Actual Answer: motel\n"
          ]
        },
        {
          "output_type": "stream",
          "name": "stderr",
          "text": [
            " 66%|██████▋   | 811/1221 [02:33<01:16,  5.32it/s]"
          ]
        },
        {
          "output_type": "stream",
          "name": "stdout",
          "text": [
            "Q: The dog curled up for a nap, it was tuckered out because it had just been what?\n",
            "O: walked /// petted /// affection /// go outside /// scratch\n",
            "A:  petted out of petted out of petted\n",
            "\n",
            "\n",
            "Model: petted out of petted out of petted and Actual Answer: walked\n",
            "Q: He used an umbrella while tanning, where was he likely?\n",
            "O: waves /// seattle /// suitcase /// beach /// jacket closet\n",
            "A:  beach closet closet closet closet closet closet closet closet closet\n",
            "\n",
            "\n",
            "Model: beach closet closet closet closet closet closet closet closet closet and Actual Answer: beach\n"
          ]
        },
        {
          "output_type": "stream",
          "name": "stderr",
          "text": [
            " 67%|██████▋   | 813/1221 [02:33<01:16,  5.36it/s]"
          ]
        },
        {
          "output_type": "stream",
          "name": "stdout",
          "text": [
            "Q: What do the feathers look like on birds found in the rainforest?\n",
            "O: pretty smart /// singing /// dark /// very colorful /// light\n",
            "A:  pretty smart and colorful.  very colorful. \n",
            "\n",
            "\n",
            "Model: pretty smart and colorful.  very colorful. and Actual Answer: very colorful\n",
            "Q: The ancient seafaring Norse tribesman brought pelts of weasel aboard his what?\n",
            "O: rabbit warren /// used car lot /// chicken coop /// cruise /// viking ship\n",
            "A:  used car lot lot lot lot lot lot lot lot\n",
            "\n",
            "\n",
            "Model: used car lot lot lot lot lot lot lot lot and Actual Answer: viking ship\n"
          ]
        },
        {
          "output_type": "stream",
          "name": "stderr",
          "text": [
            " 67%|██████▋   | 815/1221 [02:34<01:16,  5.32it/s]"
          ]
        },
        {
          "output_type": "stream",
          "name": "stdout",
          "text": [
            "Q: What is the opposite of an area of elevation?\n",
            "O: disgust /// reduction /// depression /// demotion /// diminishment\n",
            "A:  demotion of elevation of elevation of elevation of elevation\n",
            "\n",
            "\n",
            "Model: demotion of elevation of elevation of elevation of elevation and Actual Answer: depression\n",
            "Q: What do singers need to do before a show?\n",
            "O: warm up /// use microphones /// clear throats /// create music /// sound beautiful\n",
            "A:  create music music music music music music music music music\n",
            "\n",
            "\n",
            "Model: create music music music music music music music music music and Actual Answer: warm up\n"
          ]
        },
        {
          "output_type": "stream",
          "name": "stderr",
          "text": [
            " 67%|██████▋   | 817/1221 [02:34<01:15,  5.34it/s]"
          ]
        },
        {
          "output_type": "stream",
          "name": "stdout",
          "text": [
            "Q: When a person with mental illness receives medication and therapy, what has happened?\n",
            "O: cause irrational behaviour /// recur /// effectively treated /// managed /// cause suffering\n",
            "A:  cause irrational behaviour /// cause irrational behaviour\n",
            "\n",
            "\n",
            "Model: cause irrational behaviour and Actual Answer: effectively treated\n",
            "Q: What type of feeling is performing for the first time likely to produce?\n",
            "O: action /// butterflies /// happiness /// a sense of calm /// anxiety\n",
            "A:  anxiety and happiness in calmness in calmness in\n",
            "\n",
            "\n",
            "Model: anxiety and happiness in calmness in calmness in and Actual Answer: anxiety\n"
          ]
        },
        {
          "output_type": "stream",
          "name": "stderr",
          "text": [
            " 67%|██████▋   | 819/1221 [02:34<01:15,  5.36it/s]"
          ]
        },
        {
          "output_type": "stream",
          "name": "stdout",
          "text": [
            "Q: If someone is found to be committing murder, what did they do to someone?\n",
            "O: misery /// kill /// distress /// tickel /// go to jail\n",
            "A:  go to jail while committing murder while committing murder while\n",
            "\n",
            "\n",
            "Model: go to jail while committing murder while committing murder while and Actual Answer: kill\n",
            "Q: The computer was hooked up to the internet, what could it do as a result?\n",
            "O: process information /// believe in god /// make decisions /// process information /// receive data\n",
            "A:  process information /// process information\n",
            "\n",
            "\n",
            "Model: process information and Actual Answer: receive data\n"
          ]
        },
        {
          "output_type": "stream",
          "name": "stderr",
          "text": [
            " 67%|██████▋   | 821/1221 [02:35<01:14,  5.34it/s]"
          ]
        },
        {
          "output_type": "stream",
          "name": "stdout",
          "text": [
            "Q: The planet Mercury is unsuitable for human life or what?\n",
            "O: toxic /// uninhabitable /// mercury sulphide /// poisonous /// jupiter\n",
            "A:  poisonous sulphide sulphide sulphide sulphide sulph\n",
            "\n",
            "\n",
            "Model: poisonous sulphide sulphide sulphide sulphide sulph and Actual Answer: uninhabitable\n",
            "Q: Seeing idea become reality was a dream of hers for a long time, but as the time came to get on stage she had more what?\n",
            "O: build /// anxiety /// celebrate /// very nice /// ocean\n",
            "A:  build anxiety /// build anxiety /// build anxiety\n",
            "\n",
            "\n",
            "Model: build anxiety and Actual Answer: anxiety\n"
          ]
        },
        {
          "output_type": "stream",
          "name": "stderr",
          "text": [
            " 67%|██████▋   | 823/1221 [02:35<01:14,  5.35it/s]"
          ]
        },
        {
          "output_type": "stream",
          "name": "stdout",
          "text": [
            "Q: A creek could be located in the opposite for the city which is called what?\n",
            "O: meadow /// stick /// valley /// forest /// countryside\n",
            "A:  countryside valley valley valley valley valley valley valley valley valley\n",
            "\n",
            "\n",
            "Model: countryside valley valley valley valley valley valley valley valley valley and Actual Answer: countryside\n",
            "Q: Where off the eastern U.S. would you find an anemone?\n",
            "O: flower bed /// tide pool /// florida keys /// coral sea /// aquarium\n",
            "A:  flower bed area in the florida keys.\n",
            "\n",
            "\n",
            "Model: flower bed area in the florida keys. and Actual Answer: florida keys\n"
          ]
        },
        {
          "output_type": "stream",
          "name": "stderr",
          "text": [
            " 68%|██████▊   | 825/1221 [02:35<01:14,  5.34it/s]"
          ]
        },
        {
          "output_type": "stream",
          "name": "stdout",
          "text": [
            "Q: Where are traveling clothes often kept?\n",
            "O: suitcase /// bedroom /// closet /// draws /// dresser\n",
            "A:  closet drawer drawer drawer drawer drawer drawer drawer drawer drawer\n",
            "\n",
            "\n",
            "Model: closet drawer drawer drawer drawer drawer drawer drawer drawer drawer and Actual Answer: suitcase\n",
            "Q: If one needed the bathroom they needed a key, to get it they had to also buy something from the what?\n",
            "O: school /// convenience store /// rest area /// mall /// theater\n",
            "A:  convenience store store location location location location location location location\n",
            "\n",
            "\n",
            "Model: convenience store store location location location location location location location and Actual Answer: convenience store\n"
          ]
        },
        {
          "output_type": "stream",
          "name": "stderr",
          "text": [
            " 68%|██████▊   | 827/1221 [02:36<01:13,  5.33it/s]"
          ]
        },
        {
          "output_type": "stream",
          "name": "stdout",
          "text": [
            "Q: Although the sun did rise, what did the pessimist warn everyone it would do?\n",
            "O: lay /// go down /// fall /// below /// sundown\n",
            "A:  fall down down down down down down down down down\n",
            "\n",
            "\n",
            "Model: fall down down down down down down down down down and Actual Answer: go down\n",
            "Q: The hardcovers were especially tall, so he removed a shelf on the what to make room?\n",
            "O: chest of drawers /// grocery store /// hold alcohol /// nightstand /// bookcase\n",
            "A:  chest of drawers and bookscase of drawers\n",
            "\n",
            "\n",
            "Model: chest of drawers and bookscase of drawers and Actual Answer: bookcase\n"
          ]
        },
        {
          "output_type": "stream",
          "name": "stderr",
          "text": [
            " 68%|██████▊   | 829/1221 [02:36<01:13,  5.34it/s]"
          ]
        },
        {
          "output_type": "stream",
          "name": "stdout",
          "text": [
            "Q: If you're watching a comedy film what would you expect to hear from the audience?\n",
            "O: park /// insight /// being entertained /// laughter /// fear\n",
            "A:  laughter emanating from the audience /// laughter emanating from the\n",
            "\n",
            "\n",
            "Model: laughter emanating from the audience and Actual Answer: laughter\n",
            "Q: What can eating lunch cause that is painful?\n",
            "O: headache /// bad breath /// heartburn /// gain weight /// farts\n",
            "A:  heartburn /// heartburn\n",
            "\n",
            "\n",
            "Model: heartburn and Actual Answer: heartburn\n"
          ]
        },
        {
          "output_type": "stream",
          "name": "stderr",
          "text": [
            " 68%|██████▊   | 831/1221 [02:37<01:13,  5.33it/s]"
          ]
        },
        {
          "output_type": "stream",
          "name": "stdout",
          "text": [
            "Q: The performer was ready to put on a show and stepped onto the launch platform, what was his job?\n",
            "O: cape canaveral florida /// nasa /// battleship /// ocean /// trapeze\n",
            "A:  battleship vessel vessel vessel vessel vessel vessel vessel vessel\n",
            "\n",
            "\n",
            "Model: battleship vessel vessel vessel vessel vessel vessel vessel vessel and Actual Answer: trapeze\n",
            "Q: Eating is part of living, but your body doesn't use it all and the next day you will be doing what?\n",
            "O: reduced /// getting full /// becoming full /// chewing /// defecating\n",
            "A:  becoming full and full and full and full and full\n",
            "\n",
            "\n",
            "Model: becoming full and full and full and full and full and Actual Answer: defecating\n"
          ]
        },
        {
          "output_type": "stream",
          "name": "stderr",
          "text": [
            " 68%|██████▊   | 833/1221 [02:37<01:12,  5.36it/s]"
          ]
        },
        {
          "output_type": "stream",
          "name": "stdout",
          "text": [
            "Q: Where are you if you've paid to get a pizza?\n",
            "O: popular /// baked in oven /// restaurant /// oven /// plate\n",
            "A:  restaurant menu menu menu menu menu menu menu menu menu\n",
            "\n",
            "\n",
            "Model: restaurant menu menu menu menu menu menu menu menu menu and Actual Answer: restaurant\n",
            "Q: What would you use to find a place to stay?\n",
            "O: mexico /// phone book /// town /// city /// sun dial\n",
            "A:  phone book book book book book book book book book\n",
            "\n",
            "\n",
            "Model: phone book book book book book book book book book and Actual Answer: phone book\n"
          ]
        },
        {
          "output_type": "stream",
          "name": "stderr",
          "text": [
            " 68%|██████▊   | 835/1221 [02:37<01:12,  5.36it/s]"
          ]
        },
        {
          "output_type": "stream",
          "name": "stdout",
          "text": [
            "Q: If you're seeking a connection for your laptop, what are you trying to hook up with?\n",
            "O: computer network /// electrical circuit /// lineage /// company /// wall\n",
            "A:  computer network connection connection connection connection connection connection connection connection\n",
            "\n",
            "\n",
            "Model: computer network connection connection connection connection connection connection connection connection and Actual Answer: computer network\n",
            "Q: The child didn't know the problems his mother was going through, all he had was what for her?\n",
            "O: care /// balloon /// loved /// become adult /// learn\n",
            "A:  become adult adult adult adult adult adult adult adult adult\n",
            "\n",
            "\n",
            "Model: become adult adult adult adult adult adult adult adult adult and Actual Answer: loved\n"
          ]
        },
        {
          "output_type": "stream",
          "name": "stderr",
          "text": [
            " 69%|██████▊   | 837/1221 [02:38<01:12,  5.33it/s]"
          ]
        },
        {
          "output_type": "stream",
          "name": "stdout",
          "text": [
            "Q: To see new films you must?\n",
            "O: open eyes /// go to movies /// kick ball /// make art /// look for\n",
            "A:  open eyes /// open eyes /// open eyes\n",
            "\n",
            "\n",
            "Model: open eyes and Actual Answer: go to movies\n",
            "Q: What can happen when you contemplate alone for a long time?\n",
            "O: daydream /// headache /// get ideas /// sleep /// become distracted\n",
            "A:  become distracted /// become distracted\n",
            "\n",
            "\n",
            "Model: become distracted and Actual Answer: daydream\n"
          ]
        },
        {
          "output_type": "stream",
          "name": "stderr",
          "text": [
            " 69%|██████▊   | 839/1221 [02:38<01:12,  5.28it/s]"
          ]
        },
        {
          "output_type": "stream",
          "name": "stdout",
          "text": [
            "Q: The pioneer went to the general store for storage measures, what was he looking for?\n",
            "O: checkers /// barrels /// baking soda /// buffalo /// salt\n",
            "A:  salt water salt water salt water salt water salt water\n",
            "\n",
            "\n",
            "Model: salt water salt water salt water salt water salt water and Actual Answer: barrels\n",
            "Q: I was apprehensive to buy the expensive equipment to play a game with so much walking and swinging around in grass, but now I understand why people what?\n",
            "O: care less /// play golf /// shake hands /// believe in god /// trip over\n",
            "A:  care less less less less less about golf course over\n",
            "\n",
            "\n",
            "Model: care less less less less less about golf course over and Actual Answer: play golf\n"
          ]
        },
        {
          "output_type": "stream",
          "name": "stderr",
          "text": [
            " 69%|██████▉   | 841/1221 [02:38<01:11,  5.33it/s]"
          ]
        },
        {
          "output_type": "stream",
          "name": "stdout",
          "text": [
            "Q: What can a newspaper be used to do to an engagement?\n",
            "O: announce /// communicate /// educate /// inform /// cancel\n",
            "A:  communicate with each other /// communicate with each other with\n",
            "\n",
            "\n",
            "Model: communicate with each other and Actual Answer: announce\n",
            "Q: John needed a straight wire.  Unfortunately, this one had endured some abuse and had become what?\n",
            "O: bent /// bent /// crooked /// straightforth /// curved\n",
            "A:  bent upwards /// bent upwards /// bent upwards\n",
            "\n",
            "\n",
            "Model: bent upwards and Actual Answer: bent\n"
          ]
        },
        {
          "output_type": "stream",
          "name": "stderr",
          "text": [
            " 69%|██████▉   | 843/1221 [02:39<01:11,  5.29it/s]"
          ]
        },
        {
          "output_type": "stream",
          "name": "stdout",
          "text": [
            "Q: Metal is taken from what which is pulled from the ground?\n",
            "O: dirt /// instruments /// ore /// car /// junkyard\n",
            "A:  junkyardardardardardardardard\n",
            "\n",
            "\n",
            "Model: junkyardardardardardardardard and Actual Answer: ore\n",
            "Q: When not in use where on your property would you store you bucket?\n",
            "O: utility closet /// outside /// well /// garden shed /// garage\n",
            "A:  utility closet shed shed shed shed shed shed shed shed\n",
            "\n",
            "\n",
            "Model: utility closet shed shed shed shed shed shed shed shed and Actual Answer: garden shed\n"
          ]
        },
        {
          "output_type": "stream",
          "name": "stderr",
          "text": [
            " 69%|██████▉   | 845/1221 [02:39<01:11,  5.28it/s]"
          ]
        },
        {
          "output_type": "stream",
          "name": "stdout",
          "text": [
            "Q: What does someone do to relax at night?\n",
            "O: find time /// check mail /// listen to music /// go to bed /// stop worrying\n",
            "A:  check mail mail mail mail mail mail mail mail mail\n",
            "\n",
            "\n",
            "Model: check mail mail mail mail mail mail mail mail mail and Actual Answer: go to bed\n",
            "Q: Where might the stapler be if I cannot find it?\n",
            "O: office building /// office supply store /// desk drawer /// with dwight /// desktop\n",
            "A:  desk drawer drawer drawer drawer drawer drawer drawer drawer drawer\n",
            "\n",
            "\n",
            "Model: desk drawer drawer drawer drawer drawer drawer drawer drawer drawer and Actual Answer: desk drawer\n"
          ]
        },
        {
          "output_type": "stream",
          "name": "stderr",
          "text": [
            " 69%|██████▉   | 847/1221 [02:40<01:11,  5.25it/s]"
          ]
        },
        {
          "output_type": "stream",
          "name": "stdout",
          "text": [
            "Q: Many homes in this country are built around a courtyard. Where is it?\n",
            "O: candidate /// spain /// lawn /// asshole /// office complex\n",
            "A:  office complex /// office complex /// office complex\n",
            "\n",
            "\n",
            "Model: office complex and Actual Answer: spain\n",
            "Q: Sean was a wreck.  He  loved to build houses, but in his current state, he couldn't do what?\n",
            "O: stand up /// produce /// construct /// make /// build\n",
            "A:  construct /// construct\n",
            "\n",
            "\n",
            "Model: construct and Actual Answer: construct\n"
          ]
        },
        {
          "output_type": "stream",
          "name": "stderr",
          "text": [
            " 70%|██████▉   | 849/1221 [02:40<01:10,  5.31it/s]"
          ]
        },
        {
          "output_type": "stream",
          "name": "stdout",
          "text": [
            "Q: What would be happening if you are pretending to be a police officer?\n",
            "O: fighting /// misunderstanding /// deception /// play /// distrust\n",
            "A:  misunderstanding caused by misunderstanding caused by misunderstanding caused by misunderstanding\n",
            "\n",
            "\n",
            "Model: misunderstanding caused by misunderstanding caused by misunderstanding caused by misunderstanding and Actual Answer: deception\n",
            "Q: Where would you buy a finely crafted writing instrument?\n",
            "O: nasa /// classroom /// stationery store /// purse /// office supply store\n",
            "A:  office supply storeery storeery storeery storeery\n",
            "\n",
            "\n",
            "Model: office supply storeery storeery storeery storeery and Actual Answer: stationery store\n"
          ]
        },
        {
          "output_type": "stream",
          "name": "stderr",
          "text": [
            " 70%|██████▉   | 851/1221 [02:40<01:09,  5.33it/s]"
          ]
        },
        {
          "output_type": "stream",
          "name": "stdout",
          "text": [
            "Q: The detective was finding information from witnesses, why would he do that?\n",
            "O: fun /// ulcers /// get answers /// happiness /// power\n",
            "A:  get answers from witnesses, get answers from witnesses,\n",
            "\n",
            "\n",
            "Model: get answers from witnesses, get answers from witnesses, and Actual Answer: get answers\n",
            "Q: Joe found spiders in the place where he keeps his tools.  Where might that be?\n",
            "O: cupboard /// toolbox /// closet /// garage /// mail box\n",
            "A:  garage garage garage garage garage garage garage garage garage garage\n",
            "\n",
            "\n",
            "Model: garage garage garage garage garage garage garage garage garage garage and Actual Answer: garage\n"
          ]
        },
        {
          "output_type": "stream",
          "name": "stderr",
          "text": [
            " 70%|██████▉   | 853/1221 [02:41<01:09,  5.33it/s]"
          ]
        },
        {
          "output_type": "stream",
          "name": "stdout",
          "text": [
            "Q: While on the fan boat he thought he'd see swamps and gators, but he was surprised to spot a bald eagle in what nature area?\n",
            "O: everglades /// high places /// natural habitat /// new york /// colorado\n",
            "A:  natural habitat area of interest in interest in interest in\n",
            "\n",
            "\n",
            "Model: natural habitat area of interest in interest in interest in and Actual Answer: everglades\n",
            "Q: Where are you likely to find a supermarket?\n",
            "O: buy food for family /// city or town /// get supplies /// strip mall /// vermont\n",
            "A:  strip mall or town or town or town or town\n",
            "\n",
            "\n",
            "Model: strip mall or town or town or town or town and Actual Answer: city or town\n"
          ]
        },
        {
          "output_type": "stream",
          "name": "stderr",
          "text": [
            " 70%|███████   | 855/1221 [02:41<01:08,  5.37it/s]"
          ]
        },
        {
          "output_type": "stream",
          "name": "stdout",
          "text": [
            "Q: Where would you need to use a lantern?\n",
            "O: grocery store /// antique shop /// house /// dark place /// street\n",
            "A:  street corner shop corner shop corner shop corner shop corner\n",
            "\n",
            "\n",
            "Model: street corner shop corner shop corner shop corner shop corner and Actual Answer: dark place\n",
            "Q: What area does a police officer patrol?\n",
            "O: direct traffic /// city /// beat /// street /// park\n",
            "A:  street corner corner corner corner corner corner corner corner corner\n",
            "\n",
            "\n",
            "Model: street corner corner corner corner corner corner corner corner corner and Actual Answer: beat\n"
          ]
        },
        {
          "output_type": "stream",
          "name": "stderr",
          "text": [
            " 70%|███████   | 857/1221 [02:41<01:07,  5.37it/s]"
          ]
        },
        {
          "output_type": "stream",
          "name": "stdout",
          "text": [
            "Q: Why would a woman kill a stranger she met in a dark alley?\n",
            "O: being raped /// get rid of /// they didn't know the passcode /// get revenge /// were evil\n",
            "A:  get revenge against tyrancy of tyran of\n",
            "\n",
            "\n",
            "Model: get revenge against tyrancy of tyran of and Actual Answer: being raped\n",
            "Q: The baby was cranky, it needed to eat breakfast but refused to what?\n",
            "O: buy food /// open mouth /// get out of bed /// cry /// wake up\n",
            "A:  get out of bed and get out of bed and\n",
            "\n",
            "\n",
            "Model: get out of bed and get out of bed and and Actual Answer: open mouth\n"
          ]
        },
        {
          "output_type": "stream",
          "name": "stderr",
          "text": [
            " 70%|███████   | 859/1221 [02:42<01:08,  5.25it/s]"
          ]
        },
        {
          "output_type": "stream",
          "name": "stdout",
          "text": [
            "Q: What is made up of people?\n",
            "O: buildings /// audience /// apartment /// classroom /// falling down\n",
            "A:  building building building building building building building building building building\n",
            "\n",
            "\n",
            "Model: building building building building building building building building building building and Actual Answer: audience\n",
            "Q: He was afraid he would die from his cold, so he wisely decided to what?\n",
            "O: ocean /// write will /// never want /// were shot /// seek help\n",
            "A:  seek help\n",
            "\n",
            "\n",
            "Model: seek help and Actual Answer: seek help\n"
          ]
        },
        {
          "output_type": "stream",
          "name": "stderr",
          "text": [
            " 71%|███████   | 861/1221 [02:42<01:09,  5.18it/s]"
          ]
        },
        {
          "output_type": "stream",
          "name": "stdout",
          "text": [
            "Q: Where would you get a pen if you do not have one?\n",
            "O: briefcase /// desk drawer /// friend's house /// pocket /// sidewalk\n",
            "A:  briefcase drawer drawer drawer drawer drawer drawer drawer drawer\n",
            "\n",
            "\n",
            "Model: briefcase drawer drawer drawer drawer drawer drawer drawer drawer and Actual Answer: friend's house\n",
            "Q: Why would a small dog pant if it's hot outside?\n",
            "O: outside /// europe /// heat /// wet /// dog show\n",
            "A:  outside /// outside /// outside\n",
            "\n",
            "\n",
            "Model: outside and Actual Answer: heat\n"
          ]
        },
        {
          "output_type": "stream",
          "name": "stderr",
          "text": [
            " 71%|███████   | 863/1221 [02:43<01:09,  5.16it/s]"
          ]
        },
        {
          "output_type": "stream",
          "name": "stdout",
          "text": [
            "Q: She asked her little boy why, he replied that he didn't know and it was just what?\n",
            "O: case /// reason /// how /// because /// answer\n",
            "A:  reason for reason for reason for reason for reason for\n",
            "\n",
            "\n",
            "Model: reason for reason for reason for reason for reason for and Actual Answer: because\n",
            "Q: Where would you display a picture on a horizontal surface?\n",
            "O: microwave /// desktop /// shelf /// art show /// wall\n",
            "A:  desktop display area /// desktop area\n",
            "\n",
            "\n",
            "Model: desktop display area and Actual Answer: shelf\n"
          ]
        },
        {
          "output_type": "stream",
          "name": "stderr",
          "text": [
            " 71%|███████   | 865/1221 [02:43<01:08,  5.17it/s]"
          ]
        },
        {
          "output_type": "stream",
          "name": "stdout",
          "text": [
            "Q: What skill is needed for riding a bike?\n",
            "O: wheels /// feet /// pedalling /// practice /// good balance\n",
            "A:  pedalling a bike wheel and pedalling a wheel\n",
            "\n",
            "\n",
            "Model: pedalling a bike wheel and pedalling a wheel and Actual Answer: good balance\n",
            "Q: He looked at the field of pumps, all slowing churning oil out of the what?\n",
            "O: manual /// street /// restaurant /// ground /// service station\n",
            "A:  service station station station station station station station station station\n",
            "\n",
            "\n",
            "Model: service station station station station station station station station station and Actual Answer: ground\n"
          ]
        },
        {
          "output_type": "stream",
          "name": "stderr",
          "text": [
            " 71%|███████   | 867/1221 [02:43<01:07,  5.24it/s]"
          ]
        },
        {
          "output_type": "stream",
          "name": "stdout",
          "text": [
            "Q: The department to where vendors deliver goods for sale is called what?\n",
            "O: delivered /// take away /// receiving /// pick up /// keep\n",
            "A:  receiving goods from sale /// receiving goods from sale\n",
            "\n",
            "\n",
            "Model: receiving goods from sale and Actual Answer: receiving\n",
            "Q: Where is the worst place to be in a ticket office?\n",
            "O: at the top /// movie theaters /// train station /// end of line /// opera house\n",
            "A:  train station station station station station station station station station\n",
            "\n",
            "\n",
            "Model: train station station station station station station station station station and Actual Answer: end of line\n"
          ]
        },
        {
          "output_type": "stream",
          "name": "stderr",
          "text": [
            " 71%|███████   | 869/1221 [02:44<01:06,  5.27it/s]"
          ]
        },
        {
          "output_type": "stream",
          "name": "stdout",
          "text": [
            "Q: Exercise is very good for you, for faster recovery you should always do what afterwards?\n",
            "O: stretch /// lower cholesterol /// weigh /// track /// expend energy\n",
            "A:  expend energy /// expend energy\n",
            "\n",
            "\n",
            "Model: expend energy and Actual Answer: stretch\n",
            "Q: What happens when you go somewhere and forget something at home?\n",
            "O: arriving /// arrive there /// turn around /// go back /// fart\n",
            "A:  arrive there and go back to home and go back\n",
            "\n",
            "\n",
            "Model: arrive there and go back to home and go back and Actual Answer: go back\n"
          ]
        },
        {
          "output_type": "stream",
          "name": "stderr",
          "text": [
            " 71%|███████▏  | 871/1221 [02:44<01:06,  5.30it/s]"
          ]
        },
        {
          "output_type": "stream",
          "name": "stdout",
          "text": [
            "Q: Where would you acquire a wind instrument for you own use?\n",
            "O: band practice /// concert /// music store /// symphony /// music room\n",
            "A:  music room /// music room\n",
            "\n",
            "\n",
            "Model: music room and Actual Answer: music store\n",
            "Q: Where would a person light alcohol on fire to observe the reaction?\n",
            "O: supermarket /// bar /// pub /// restaurants /// chemistry lab\n",
            "A:  pub /// bar bar restaurant /// restaurant\n",
            "\n",
            "\n",
            "Model: pub and Actual Answer: chemistry lab\n"
          ]
        },
        {
          "output_type": "stream",
          "name": "stderr",
          "text": [
            " 71%|███████▏  | 873/1221 [02:45<01:05,  5.33it/s]"
          ]
        },
        {
          "output_type": "stream",
          "name": "stdout",
          "text": [
            "Q: If a storey contained a panoramic view, what kind of structure would it be in?\n",
            "O: horizontal room /// storey book /// mall /// tall building /// book of stories\n",
            "A:  tall buildingy buildingy book of stories of stories\n",
            "\n",
            "\n",
            "Model: tall buildingy buildingy book of stories of stories and Actual Answer: tall building\n",
            "Q: Where does lettuce arrive by large trucks?\n",
            "O: kitchen /// supermarket /// farmer's market /// salad /// refrigerator\n",
            "A:  supermarket market market market market market market market market market\n",
            "\n",
            "\n",
            "Model: supermarket market market market market market market market market market and Actual Answer: supermarket\n"
          ]
        },
        {
          "output_type": "stream",
          "name": "stderr",
          "text": [
            " 72%|███████▏  | 875/1221 [02:45<01:04,  5.33it/s]"
          ]
        },
        {
          "output_type": "stream",
          "name": "stdout",
          "text": [
            "Q: Why do people who are dying receive social security payments?\n",
            "O: rejuvenation /// born again /// no longer exist /// unable to work /// change of color\n",
            "A:  birth again exist againortunatelyortunatelyortunatelyortunatelyortunatelyortunately\n",
            "\n",
            "\n",
            "Model: birth again exist againortunatelyortunatelyortunatelyortunatelyortunatelyortunately and Actual Answer: unable to work\n",
            "Q: What should I do with a jumping rope?\n",
            "O: fatigue /// sweating /// get tired /// tiredness /// hopping\n",
            "A:  get tiredness and sweating /// sweating\n",
            "\n",
            "\n",
            "Model: get tiredness and sweating and Actual Answer: hopping\n"
          ]
        },
        {
          "output_type": "stream",
          "name": "stderr",
          "text": [
            " 72%|███████▏  | 877/1221 [02:45<01:04,  5.35it/s]"
          ]
        },
        {
          "output_type": "stream",
          "name": "stdout",
          "text": [
            "Q: What do geese do every fall in fields?\n",
            "O: guard house /// fly /// eat /// follow ultralight airplane /// group together\n",
            "A:  follow ultralight airplane airplane airplane airplane airplane airplane\n",
            "\n",
            "\n",
            "Model: follow ultralight airplane airplane airplane airplane airplane airplane and Actual Answer: group together\n",
            "Q: I took my seat, the curtains drew back and I enjoyed the what?\n",
            "O: airplane /// movie /// auditorium /// theatre /// show\n",
            "A:  movie theatre /// auditorium /// auditorium\n",
            "\n",
            "\n",
            "Model: movie theatre and Actual Answer: show\n"
          ]
        },
        {
          "output_type": "stream",
          "name": "stderr",
          "text": [
            " 72%|███████▏  | 879/1221 [02:46<01:03,  5.36it/s]"
          ]
        },
        {
          "output_type": "stream",
          "name": "stdout",
          "text": [
            "Q: What should everyone do who doesn't want to fight anymore?\n",
            "O: explicate /// pay tribute to king /// hope for peace /// wear shoes /// do well\n",
            "A:  do well for peace and do well for peace and\n",
            "\n",
            "\n",
            "Model: do well for peace and do well for peace and and Actual Answer: hope for peace\n",
            "Q: Where is the ideal location for a post office?\n",
            "O: building /// business district /// above ground /// most towns /// center of town\n",
            "A:  center of town of town of town of town of\n",
            "\n",
            "\n",
            "Model: center of town of town of town of town of and Actual Answer: center of town\n"
          ]
        },
        {
          "output_type": "stream",
          "name": "stderr",
          "text": [
            " 72%|███████▏  | 881/1221 [02:46<01:03,  5.32it/s]"
          ]
        },
        {
          "output_type": "stream",
          "name": "stdout",
          "text": [
            "Q: Where outside of a city would a squirrel live?\n",
            "O: roof /// inside home /// forest /// yard /// park\n",
            "A:  roof roof roofed area of city park of city\n",
            "\n",
            "\n",
            "Model: roof roof roofed area of city park of city and Actual Answer: forest\n",
            "Q: You should watch out for snakes if floating down what African body of water?\n",
            "O: wet grass /// western texas /// high grass /// amazon river /// tree\n",
            "A:  amazon river river river river river river river river\n",
            "\n",
            "\n",
            "Model: amazon river river river river river river river river and Actual Answer: amazon river\n"
          ]
        },
        {
          "output_type": "stream",
          "name": "stderr",
          "text": [
            " 72%|███████▏  | 883/1221 [02:46<01:03,  5.32it/s]"
          ]
        },
        {
          "output_type": "stream",
          "name": "stdout",
          "text": [
            "Q: At the end of the day as he began to eat he paused and thanked her, it wasn't often she would what?\n",
            "O: cook dinner /// did chores /// make food /// stretch out /// get food\n",
            "A:  stretch out out out out out out out out out\n",
            "\n",
            "\n",
            "Model: stretch out out out out out out out out out and Actual Answer: cook dinner\n",
            "Q: To what do trees roots cling?\n",
            "O: yard /// orchard /// museum /// countryside /// surface of earth\n",
            "A:  surface of earth earth earth earth earth earth earth earth\n",
            "\n",
            "\n",
            "Model: surface of earth earth earth earth earth earth earth earth and Actual Answer: surface of earth\n"
          ]
        },
        {
          "output_type": "stream",
          "name": "stderr",
          "text": [
            " 72%|███████▏  | 885/1221 [02:47<01:03,  5.31it/s]"
          ]
        },
        {
          "output_type": "stream",
          "name": "stdout",
          "text": [
            "Q: What probably has a lot of dust in the back?\n",
            "O: closet /// door /// corner /// shelf /// library\n",
            "A:  shelf shelf shelf shelf shelf shelf shelf shelf shelf shelf\n",
            "\n",
            "\n",
            "Model: shelf shelf shelf shelf shelf shelf shelf shelf shelf shelf and Actual Answer: closet\n",
            "Q: At the new comic store he found himself making friends, it was nice to meet people with what?\n",
            "O: smiling /// smile /// open mind /// common interests /// laughter\n",
            "A:  smile smiling throughout /// smile throughout\n",
            "\n",
            "\n",
            "Model: smile smiling throughout and Actual Answer: common interests\n"
          ]
        },
        {
          "output_type": "stream",
          "name": "stderr",
          "text": [
            " 73%|███████▎  | 887/1221 [02:47<01:02,  5.34it/s]"
          ]
        },
        {
          "output_type": "stream",
          "name": "stdout",
          "text": [
            "Q: The student explained he had a clue what neuroepithelium was and got really nervous, he then lost his balance because a what issue?\n",
            "O: tastebud /// retina /// inner ear /// nasal cavity /// autistic\n",
            "A:  retina cavity cavity cavity cavity cavity cavity cavity cavity cavity\n",
            "\n",
            "\n",
            "Model: retina cavity cavity cavity cavity cavity cavity cavity cavity cavity and Actual Answer: inner ear\n",
            "Q: What could people do that involves talking?\n",
            "O: confession /// state park /// sing /// carnival /// opera\n",
            "A:  sing /// state park park park park park park park\n",
            "\n",
            "\n",
            "Model: sing and Actual Answer: confession\n"
          ]
        },
        {
          "output_type": "stream",
          "name": "stderr",
          "text": [
            " 73%|███████▎  | 889/1221 [02:48<01:01,  5.37it/s]"
          ]
        },
        {
          "output_type": "stream",
          "name": "stdout",
          "text": [
            "Q: If you're a child answering questions and an adult is asking them that adult is doing what?\n",
            "O: discussion /// explaning /// teaching /// confusion /// correct\n",
            "A:  explaning\n",
            "\n",
            "\n",
            "Model: explaning and Actual Answer: teaching\n",
            "Q: He has lactose intolerant, but was eating dinner made of cheese, what followed for him?\n",
            "O: digestive /// feel better /// sleepiness /// indigestion /// illness\n",
            "A:  digestive tract infection caused by lactose intolerant disease\n",
            "\n",
            "\n",
            "Model: digestive tract infection caused by lactose intolerant disease and Actual Answer: indigestion\n"
          ]
        },
        {
          "output_type": "stream",
          "name": "stderr",
          "text": [
            " 73%|███████▎  | 891/1221 [02:48<01:01,  5.33it/s]"
          ]
        },
        {
          "output_type": "stream",
          "name": "stdout",
          "text": [
            "Q: The teacher played on the upright piano, she was explaining the song to all the students in the what?\n",
            "O: music room /// bathroom /// house /// living room /// music store\n",
            "A:  music store /// music store\n",
            "\n",
            "\n",
            "Model: music store and Actual Answer: music room\n",
            "Q: When you get an F, you fail. If you get A's you are?\n",
            "O: passed /// completing /// passed /// passing /// succeeding\n",
            "A:  passing /// succeeding\n",
            "\n",
            "\n",
            "Model: passing and Actual Answer: passing\n"
          ]
        },
        {
          "output_type": "stream",
          "name": "stderr",
          "text": [
            " 73%|███████▎  | 893/1221 [02:48<01:01,  5.31it/s]"
          ]
        },
        {
          "output_type": "stream",
          "name": "stdout",
          "text": [
            "Q: What is the main purpose of having a bath?\n",
            "O: cleanness /// wetness /// exfoliation /// use water /// hygiene\n",
            "A:  use water to cleanliness /// use water to clean\n",
            "\n",
            "\n",
            "Model: use water to cleanliness and Actual Answer: cleanness\n",
            "Q: The ball was hit over a boundary and struck an audience member.  What kind of game were they playing?\n",
            "O: sporting event /// sporting /// basketball /// society /// ranch country\n",
            "A:  sporting event event sporting event sporting event sporting event sporting\n",
            "\n",
            "\n",
            "Model: sporting event event sporting event sporting event sporting event sporting and Actual Answer: sporting event\n"
          ]
        },
        {
          "output_type": "stream",
          "name": "stderr",
          "text": [
            " 73%|███████▎  | 895/1221 [02:49<01:01,  5.30it/s]"
          ]
        },
        {
          "output_type": "stream",
          "name": "stdout",
          "text": [
            "Q: What is someone operating a vehicle likely to be accused of after becoming inebriated?\n",
            "O: punish /// arrest /// automobile accidents /// drunk driving /// talking nonsense\n",
            "A:  driving accident while driving while driving while driving while driving\n",
            "\n",
            "\n",
            "Model: driving accident while driving while driving while driving while driving and Actual Answer: drunk driving\n",
            "Q: Where would you get jewelry if you do not have any?\n",
            "O: vault /// suitcase /// neighbour's house /// department store /// safe deposit box\n",
            "A:  safe deposit box box box box box box box box\n",
            "\n",
            "\n",
            "Model: safe deposit box box box box box box box box and Actual Answer: department store\n"
          ]
        },
        {
          "output_type": "stream",
          "name": "stderr",
          "text": [
            " 73%|███████▎  | 897/1221 [02:49<01:00,  5.35it/s]"
          ]
        },
        {
          "output_type": "stream",
          "name": "stdout",
          "text": [
            "Q: What is a philosopher waiting for to eventually gain through his studies?\n",
            "O: job /// boredom /// anxiety /// impatience /// wisdom\n",
            "A:  boredom probleynessinessinessinessinessinessiness\n",
            "\n",
            "\n",
            "Model: boredom probleynessinessinessinessinessinessiness and Actual Answer: wisdom\n",
            "Q: What do young boys do on the ice in the winter?\n",
            "O: ski /// play hockey /// summer /// knit /// warm\n",
            "A:  warm up in the ice in the ice in the\n",
            "\n",
            "\n",
            "Model: warm up in the ice in the ice in the and Actual Answer: play hockey\n"
          ]
        },
        {
          "output_type": "stream",
          "name": "stderr",
          "text": [
            " 74%|███████▎  | 899/1221 [02:49<01:00,  5.36it/s]"
          ]
        },
        {
          "output_type": "stream",
          "name": "stdout",
          "text": [
            "Q: She loved spending money at the thrift store on knickknacks, this resulted in a lot of what on every shelf in her house?\n",
            "O: poverty /// clutter /// getting /// satisfaction /// more happiness\n",
            "A:  satisfaction with life /// satisfaction with life with life with\n",
            "\n",
            "\n",
            "Model: satisfaction with life and Actual Answer: clutter\n",
            "Q: I listened to lecture intensely, what is my goal?\n",
            "O: gain confidence /// concentrate /// get attention /// pay attention /// stop talking\n",
            "A:  get attentionoreAnd attentionoreAnd attentionoreAnd attentionoreAnd attention\n",
            "\n",
            "\n",
            "Model: get attentionoreAnd attentionoreAnd attentionoreAnd attentionoreAnd attention and Actual Answer: concentrate\n"
          ]
        },
        {
          "output_type": "stream",
          "name": "stderr",
          "text": [
            " 74%|███████▍  | 901/1221 [02:50<00:59,  5.35it/s]"
          ]
        },
        {
          "output_type": "stream",
          "name": "stdout",
          "text": [
            "Q: If a person is using a computer to talk to their granddaughter, what might the computer cause for them?\n",
            "O: program created /// stress /// happiness /// ocean /// headache\n",
            "A:  stress caused by program created by program created by program\n",
            "\n",
            "\n",
            "Model: stress caused by program created by program created by program and Actual Answer: happiness\n",
            "Q: Joe was there to meet a large number of people.  As he filed though the entrance hall, he saw many strangers who came from far away.  What sort of building is he probably in?\n",
            "O: person /// box /// convention center /// public building /// large building\n",
            "A:  public building /// public building\n",
            "\n",
            "\n",
            "Model: public building and Actual Answer: convention center\n"
          ]
        },
        {
          "output_type": "stream",
          "name": "stderr",
          "text": [
            " 74%|███████▍  | 903/1221 [02:50<00:59,  5.34it/s]"
          ]
        },
        {
          "output_type": "stream",
          "name": "stdout",
          "text": [
            "Q: John wanted scatter his wife's remains in a lake in the wilderness.  He had to delay before of where he lived.  Where did he live?\n",
            "O: mountains /// dead body /// pay debts /// state park /// new york\n",
            "A:  state park park park park park park park park park\n",
            "\n",
            "\n",
            "Model: state park park park park park park park park park and Actual Answer: new york\n",
            "Q: Many towns and cities have trash cans where on sidewalks?\n",
            "O: hospital /// park /// corner /// motel /// office\n",
            "A:  park corner corner corner corner corner corner corner corner corner\n",
            "\n",
            "\n",
            "Model: park corner corner corner corner corner corner corner corner corner and Actual Answer: corner\n"
          ]
        },
        {
          "output_type": "stream",
          "name": "stderr",
          "text": [
            " 74%|███████▍  | 905/1221 [02:51<00:58,  5.37it/s]"
          ]
        },
        {
          "output_type": "stream",
          "name": "stdout",
          "text": [
            "Q: The family wanted to adopt for enviro-ethical reasons, what did they abhor?\n",
            "O: orphan /// biological child /// give away /// foster child /// abandon\n",
            "A:  foster child child child child's biological child's biological\n",
            "\n",
            "\n",
            "Model: foster child child child child's biological child's biological and Actual Answer: biological child\n",
            "Q: What happens when airplane engines cut off and are unable to be restarted in flight?\n",
            "O: stall /// start melting /// taxi /// crash /// speed up\n",
            "A:  start melting ice up and start melting up in flight\n",
            "\n",
            "\n",
            "Model: start melting ice up and start melting up in flight and Actual Answer: crash\n"
          ]
        },
        {
          "output_type": "stream",
          "name": "stderr",
          "text": [
            " 74%|███████▍  | 907/1221 [02:51<00:58,  5.32it/s]"
          ]
        },
        {
          "output_type": "stream",
          "name": "stdout",
          "text": [
            "Q: Where would you be concerned about finding a cavity?\n",
            "O: solid object /// molar /// dentist /// unbrushed tooth /// teeth\n",
            "A:  teeth plaque plaque plaque plaque plaque plaque plaque plaque plaque\n",
            "\n",
            "\n",
            "Model: teeth plaque plaque plaque plaque plaque plaque plaque plaque plaque and Actual Answer: teeth\n",
            "Q: Human beings learn about current events from what print item?\n",
            "O: question authority /// melt /// read newspapers /// act /// dictionary\n",
            "A:  question authority authority authority authority authority authority authority authority authority\n",
            "\n",
            "\n",
            "Model: question authority authority authority authority authority authority authority authority authority and Actual Answer: read newspapers\n"
          ]
        },
        {
          "output_type": "stream",
          "name": "stderr",
          "text": [
            " 74%|███████▍  | 909/1221 [02:51<00:58,  5.32it/s]"
          ]
        },
        {
          "output_type": "stream",
          "name": "stdout",
          "text": [
            "Q: In what kind of environment does an anemone live?\n",
            "O: nursery /// south pacific /// desert /// sea water /// atlantic ocean\n",
            "A:  south pacific ocean ocean ocean ocean ocean ocean ocean\n",
            "\n",
            "\n",
            "Model: south pacific ocean ocean ocean ocean ocean ocean ocean and Actual Answer: sea water\n",
            "Q: He wanted lodging in the actual what, so that he was already where he needed to be?\n",
            "O: a yurt /// resort area /// big city /// michigan /// going on vacation\n",
            "A:  big city area area area area area area area area\n",
            "\n",
            "\n",
            "Model: big city area area area area area area area area and Actual Answer: resort area\n"
          ]
        },
        {
          "output_type": "stream",
          "name": "stderr",
          "text": [
            " 75%|███████▍  | 911/1221 [02:52<00:58,  5.30it/s]"
          ]
        },
        {
          "output_type": "stream",
          "name": "stdout",
          "text": [
            "Q: If I am suffering from boredom, and I want to see something beautiful, what should I do?\n",
            "O: see art /// see ghost /// watch film /// grocery shop /// do crossword puzzle\n",
            "A:  watch film film film film film film film film film\n",
            "\n",
            "\n",
            "Model: watch film film film film film film film film film and Actual Answer: see art\n",
            "Q: The goal was to hit the target, but a projectile ball can't hit anything if it isn't in what?\n",
            "O: motion /// ocean /// flintlock /// arcade /// tennis court\n",
            "A:  motion motion motion motion motion ball game game game game\n",
            "\n",
            "\n",
            "Model: motion motion motion motion motion ball game game game game and Actual Answer: motion\n"
          ]
        },
        {
          "output_type": "stream",
          "name": "stderr",
          "text": [
            " 75%|███████▍  | 913/1221 [02:52<00:57,  5.33it/s]"
          ]
        },
        {
          "output_type": "stream",
          "name": "stdout",
          "text": [
            "Q: Where is a good place to set a cup of coffee while relaxing?\n",
            "O: coffee shop /// kitchen /// hand /// table /// office\n",
            "A:  table table table room room room room room room room\n",
            "\n",
            "\n",
            "Model: table table table room room room room room room room and Actual Answer: table\n",
            "Q: If a fried egg was runny and there was no toast to sop it up, after the meal there'd be a messy what?\n",
            "O: henhouse /// garden /// plate /// supermarket /// bird's nest\n",
            "A:  plate of eggs basket of eggs basket of eggs basket\n",
            "\n",
            "\n",
            "Model: plate of eggs basket of eggs basket of eggs basket and Actual Answer: plate\n"
          ]
        },
        {
          "output_type": "stream",
          "name": "stderr",
          "text": [
            " 75%|███████▍  | 915/1221 [02:52<00:57,  5.35it/s]"
          ]
        },
        {
          "output_type": "stream",
          "name": "stdout",
          "text": [
            "Q: If I want to behave with proper aplomb, what manners should I avoid?\n",
            "O: inappropriate /// incomplete /// impolite /// none /// incorrect\n",
            "A:  inappropriate /// inappropriate\n",
            "\n",
            "\n",
            "Model: inappropriate and Actual Answer: inappropriate\n",
            "Q: Before lifting weights he liked to warm up on the squash court, he really enjoyed the facilities of the what?\n",
            "O: swimming pool /// rich person's house /// country club /// fitness center /// park\n",
            "A:  park club club club club club club club club club\n",
            "\n",
            "\n",
            "Model: park club club club club club club club club club and Actual Answer: fitness center\n"
          ]
        },
        {
          "output_type": "stream",
          "name": "stderr",
          "text": [
            " 75%|███████▌  | 917/1221 [02:53<00:56,  5.35it/s]"
          ]
        },
        {
          "output_type": "stream",
          "name": "stdout",
          "text": [
            "Q: What will happen to animals after eating food?\n",
            "O: bite /// digestion /// feel pleasure /// pass water /// listen to each other\n",
            "A:  feel pleasure while pleasure while listening to each other's\n",
            "\n",
            "\n",
            "Model: feel pleasure while pleasure while listening to each other's and Actual Answer: feel pleasure\n",
            "Q: If I wanted to grow plants, where could I put a lot of dirt?\n",
            "O: corner /// street /// closet /// garden /// bathtub\n",
            "A:  garden shed closet /// garden shed\n",
            "\n",
            "\n",
            "Model: garden shed closet and Actual Answer: garden\n"
          ]
        },
        {
          "output_type": "stream",
          "name": "stderr",
          "text": [
            " 75%|███████▌  | 919/1221 [02:53<00:57,  5.25it/s]"
          ]
        },
        {
          "output_type": "stream",
          "name": "stdout",
          "text": [
            "Q: What does a person often feel about someone judging them guilty?\n",
            "O: controversy /// responsibility /// resentment /// judge feelings /// hurt feelings\n",
            "A:  resentment feelings of guilt and resentment caused by resentment caused\n",
            "\n",
            "\n",
            "Model: resentment feelings of guilt and resentment caused by resentment caused and Actual Answer: resentment\n",
            "Q: A town between two mountains is located in a what?\n",
            "O: valley /// hospital /// state /// train station /// michigan\n",
            "A:  michigan valley valley valley valley valley valley valley\n",
            "\n",
            "\n",
            "Model: michigan valley valley valley valley valley valley valley and Actual Answer: valley\n"
          ]
        },
        {
          "output_type": "stream",
          "name": "stderr",
          "text": [
            " 75%|███████▌  | 921/1221 [02:54<00:57,  5.20it/s]"
          ]
        },
        {
          "output_type": "stream",
          "name": "stdout",
          "text": [
            "Q: James need to use a toilet but there were no public ones in sight.  Eventually he broke down and did something very expensive so that he could get a toilet.  Where might he have gone?\n",
            "O: motel room /// apartment /// bathroom /// games /// house\n",
            "A:  apartment room room room room room room room room room\n",
            "\n",
            "\n",
            "Model: apartment room room room room room room room room room and Actual Answer: motel room\n",
            "Q: Why did the heavy metal band need electricity at the stadium?\n",
            "O: concert /// bedroom /// make person sick /// building /// church\n",
            "A:  concert hall /// concert hall\n",
            "\n",
            "\n",
            "Model: concert hall and Actual Answer: concert\n"
          ]
        },
        {
          "output_type": "stream",
          "name": "stderr",
          "text": [
            " 76%|███████▌  | 923/1221 [02:54<00:57,  5.22it/s]"
          ]
        },
        {
          "output_type": "stream",
          "name": "stdout",
          "text": [
            "Q: What is a person looking for when completing puzzles or riddles?\n",
            "O: avoid pain /// compliments /// intellectual challenge /// passing grade /// attention\n",
            "A:  attention deficit problem problem problem problem problem problem problem problem\n",
            "\n",
            "\n",
            "Model: attention deficit problem problem problem problem problem problem problem problem and Actual Answer: intellectual challenge\n",
            "Q: If someone was making breakfast, they'd probably put two slices of bread in the what?\n",
            "O: plastic bag /// pantry /// supermarket /// toaster /// prison\n",
            "A:  pantry /// pantry /// pantry\n",
            "\n",
            "\n",
            "Model: pantry and Actual Answer: toaster\n"
          ]
        },
        {
          "output_type": "stream",
          "name": "stderr",
          "text": [
            " 76%|███████▌  | 925/1221 [02:54<00:56,  5.22it/s]"
          ]
        },
        {
          "output_type": "stream",
          "name": "stdout",
          "text": [
            "Q: His house was a mess, he began doing housework to get what?\n",
            "O: boredom /// nice home /// michigan /// feeling satisfied /// house clean\n",
            "A:  house cleanliness /// house cleanliness\n",
            "\n",
            "\n",
            "Model: house cleanliness and Actual Answer: house clean\n",
            "Q: Where would a corpse be covered by a blanket?\n",
            "O: bath store /// bedroom /// hospital /// flower garden /// michigan\n",
            "A:  hospital room store store store store store store store store\n",
            "\n",
            "\n",
            "Model: hospital room store store store store store store store store and Actual Answer: hospital\n"
          ]
        },
        {
          "output_type": "stream",
          "name": "stderr",
          "text": [
            " 76%|███████▌  | 927/1221 [02:55<00:55,  5.28it/s]"
          ]
        },
        {
          "output_type": "stream",
          "name": "stdout",
          "text": [
            "Q: The man  tried to break the glass in order to make his escape in time, but he could not.  The person in the cat, trying to kill him, did what?\n",
            "O: accelerate /// putting together /// working /// construct /// train\n",
            "A:  train /// construct\n",
            "\n",
            "\n",
            "Model: train and Actual Answer: accelerate\n",
            "Q: The trucker plopped on the bench with a sense of relief, where did he arrive?\n",
            "O: bordello /// rest area /// garden /// bus stop /// state park\n",
            "A:  rest area area of town park park park park park\n",
            "\n",
            "\n",
            "Model: rest area area of town park park park park park and Actual Answer: rest area\n"
          ]
        },
        {
          "output_type": "stream",
          "name": "stderr",
          "text": [
            " 76%|███████▌  | 929/1221 [02:55<00:54,  5.32it/s]"
          ]
        },
        {
          "output_type": "stream",
          "name": "stdout",
          "text": [
            "Q: What is part of a republic like the USA?\n",
            "O: state /// democratic /// kingdom /// democracy /// dictatorship\n",
            "A:  democracy republic republic republic republic republic republic republic republic republic\n",
            "\n",
            "\n",
            "Model: democracy republic republic republic republic republic republic republic republic republic and Actual Answer: state\n",
            "Q: Where do you keep extra clothing on a hike?\n",
            "O: person /// hamper /// closet /// upstairs /// backpack\n",
            "A:  backpack bag bag bag bag bag bag bag bag bag\n",
            "\n",
            "\n",
            "Model: backpack bag bag bag bag bag bag bag bag bag and Actual Answer: backpack\n"
          ]
        },
        {
          "output_type": "stream",
          "name": "stderr",
          "text": [
            " 76%|███████▌  | 931/1221 [02:55<00:54,  5.34it/s]"
          ]
        },
        {
          "output_type": "stream",
          "name": "stdout",
          "text": [
            "Q: What could an apple tree do?\n",
            "O: new hampshire /// bloom /// washington state /// sunshine /// spontaneously combust\n",
            "A:  bloom in hampshire state of hampshire\n",
            "\n",
            "\n",
            "Model: bloom in hampshire state of hampshire and Actual Answer: bloom\n",
            "Q: What very cold area in the east can a crab be found?\n",
            "O: fish market /// shallow waters /// atlantic ocean /// fresh water /// shore line\n",
            "A:  fish market market market market market market market market market\n",
            "\n",
            "\n",
            "Model: fish market market market market market market market market market and Actual Answer: atlantic ocean\n"
          ]
        },
        {
          "output_type": "stream",
          "name": "stderr",
          "text": [
            " 76%|███████▋  | 933/1221 [02:56<00:54,  5.31it/s]"
          ]
        },
        {
          "output_type": "stream",
          "name": "stdout",
          "text": [
            "Q: The chef wanted to perfect his craft, what did he do?\n",
            "O: thin potatos /// prepare food /// study french cooking /// drink /// cook dinner\n",
            "A:  prepare food for dinner for dinner for dinner for dinner\n",
            "\n",
            "\n",
            "Model: prepare food for dinner for dinner for dinner for dinner and Actual Answer: study french cooking\n",
            "Q: She wanted a kitten and puppy so why did she only get the puppy?\n",
            "O: one choice for pet /// cute /// kennel /// soft /// waxy\n",
            "A:  cute pet pet pet pet pet pet pet pet pet\n",
            "\n",
            "\n",
            "Model: cute pet pet pet pet pet pet pet pet pet and Actual Answer: one choice for pet\n"
          ]
        },
        {
          "output_type": "stream",
          "name": "stderr",
          "text": [
            " 77%|███████▋  | 935/1221 [02:56<00:53,  5.34it/s]"
          ]
        },
        {
          "output_type": "stream",
          "name": "stdout",
          "text": [
            "Q: There was no shade for Jenny.  She was forced to lie there exposed to what?\n",
            "O: full sunlight /// bright sunshine /// sunny place /// eat cake /// direct sunlight\n",
            "A:  bright sunshine place for Jenny.  bright sunshine place\n",
            "\n",
            "\n",
            "Model: bright sunshine place for Jenny.  bright sunshine place and Actual Answer: full sunlight\n",
            "Q: What could happen to you after you are cleaning house for a long time?\n",
            "O: neatness /// tiredness /// order /// exhaustion /// sneezing\n",
            "A:  tirednessiness and exhaustion caused by exhaustion caused by\n",
            "\n",
            "\n",
            "Model: tirednessiness and exhaustion caused by exhaustion caused by and Actual Answer: exhaustion\n"
          ]
        },
        {
          "output_type": "stream",
          "name": "stderr",
          "text": [
            " 77%|███████▋  | 937/1221 [02:57<00:53,  5.34it/s]"
          ]
        },
        {
          "output_type": "stream",
          "name": "stdout",
          "text": [
            "Q: What is someone doing when scheduling when to go to party?\n",
            "O: rumpspringa /// meeting new people /// having fun /// meet new people /// plan\n",
            "A:  meeting new people meeting new people meeting new people meeting\n",
            "\n",
            "\n",
            "Model: meeting new people meeting new people meeting new people meeting and Actual Answer: plan\n",
            "Q: What kind of path do comets tend to have?\n",
            "O: ice /// set orbits /// universe /// space /// solid nucleus\n",
            "A:  space nucleus nucleus nucleus nucleus nucleus nucleus nucleus nucleus nucleus\n",
            "\n",
            "\n",
            "Model: space nucleus nucleus nucleus nucleus nucleus nucleus nucleus nucleus nucleus and Actual Answer: set orbits\n"
          ]
        },
        {
          "output_type": "stream",
          "name": "stderr",
          "text": [
            " 77%|███████▋  | 939/1221 [02:57<00:52,  5.36it/s]"
          ]
        },
        {
          "output_type": "stream",
          "name": "stdout",
          "text": [
            "Q: What do people feel after having sex that requires them to shower?\n",
            "O: bedroom /// pleasant /// obesity /// painful /// dirty\n",
            "A:  painful painless bedroom painless bedroom painless bedroom\n",
            "\n",
            "\n",
            "Model: painful painless bedroom painless bedroom painless bedroom and Actual Answer: dirty\n",
            "Q: The vet found malignant tumors on the animals, what is their likely fate?\n",
            "O: euthanasia /// pass water /// die of cancer /// feel pain /// feel pleasure\n",
            "A:  die of cancer in cancer disease in disease in disease\n",
            "\n",
            "\n",
            "Model: die of cancer in cancer disease in disease in disease and Actual Answer: die of cancer\n"
          ]
        },
        {
          "output_type": "stream",
          "name": "stderr",
          "text": [
            " 77%|███████▋  | 941/1221 [02:57<00:52,  5.32it/s]"
          ]
        },
        {
          "output_type": "stream",
          "name": "stdout",
          "text": [
            "Q: What is the thing that is agitated in your head when kissing?\n",
            "O: sexual stimulation /// herpes /// headache /// catch cold /// happiness\n",
            "A:  herpes herpes herpes herpes herpes herpes herpes herpes herpes herpes\n",
            "\n",
            "\n",
            "Model: herpes herpes herpes herpes herpes herpes herpes herpes herpes herpes and Actual Answer: happiness\n",
            "Q: Billy was reading the newspaper as he commuted to work, but once he got to his destination he balled it up and put it somewhere. Where did it put it?\n",
            "O: trash /// floor /// subway /// ground /// lawn\n",
            "A:  ground floor floor floor floor floor floor floor floor floor\n",
            "\n",
            "\n",
            "Model: ground floor floor floor floor floor floor floor floor floor and Actual Answer: trash\n"
          ]
        },
        {
          "output_type": "stream",
          "name": "stderr",
          "text": [
            " 77%|███████▋  | 943/1221 [02:58<00:52,  5.33it/s]"
          ]
        },
        {
          "output_type": "stream",
          "name": "stdout",
          "text": [
            "Q: Where do you keep a pail in your house?\n",
            "O: garage /// pool /// utility room /// hardware store /// wishing well\n",
            "A:  hardware store room in your garage garage garage /// hardware\n",
            "\n",
            "\n",
            "Model: hardware store room in your garage garage garage and Actual Answer: utility room\n",
            "Q: what is printed with ink and distributed daily?\n",
            "O: fountain pen /// squid /// newspaper /// book /// printer\n",
            "A:  newspaper article /// newspaper\n",
            "\n",
            "\n",
            "Model: newspaper article and Actual Answer: newspaper\n"
          ]
        },
        {
          "output_type": "stream",
          "name": "stderr",
          "text": [
            " 77%|███████▋  | 945/1221 [02:58<00:51,  5.34it/s]"
          ]
        },
        {
          "output_type": "stream",
          "name": "stdout",
          "text": [
            "Q: What are people likely to do when an unexpected decent outcome occurs?\n",
            "O: kill each other /// thank god /// experience pain /// hatred /// talk to each other\n",
            "A:  kill each other with each other with each other with\n",
            "\n",
            "\n",
            "Model: kill each other with each other with each other with and Actual Answer: thank god\n",
            "Q: The terrace had Kanji written on it, indicating that it was made where?\n",
            "O: japan /// rice paddy /// garden /// michigan /// italy\n",
            "A:  michigan michigan michigan m\n",
            "\n",
            "\n",
            "Model: michigan michigan michigan m and Actual Answer: japan\n"
          ]
        },
        {
          "output_type": "stream",
          "name": "stderr",
          "text": [
            " 78%|███████▊  | 947/1221 [02:58<00:51,  5.35it/s]"
          ]
        },
        {
          "output_type": "stream",
          "name": "stdout",
          "text": [
            "Q: The company sent off many purchases, they used recycled cardboard as their what?\n",
            "O: packaging materials /// recycle bin /// box factory /// warehouse /// bowler hats\n",
            "A:  packaging materials store container containers containers containers containers containers containers\n",
            "\n",
            "\n",
            "Model: packaging materials store container containers containers containers containers containers containers and Actual Answer: packaging materials\n",
            "Q: Why might a person be known as a liar?\n",
            "O: have no home /// false information /// hungry /// made fun of /// brain tumor\n",
            "A:  false information\n",
            "\n",
            "\n",
            "Model: false information and Actual Answer: false information\n"
          ]
        },
        {
          "output_type": "stream",
          "name": "stderr",
          "text": [
            " 78%|███████▊  | 949/1221 [02:59<00:50,  5.35it/s]"
          ]
        },
        {
          "output_type": "stream",
          "name": "stdout",
          "text": [
            "Q: The child was politely waiting for dessert, he was eventually rewarded for his what?\n",
            "O: timing /// expenditure of time /// getting bored /// anger /// patience\n",
            "A:  timing of time /// timing of time of time of\n",
            "\n",
            "\n",
            "Model: timing of time and Actual Answer: patience\n",
            "Q: The man was giving assistance to a pan handler in the streets, how did he give assistance?\n",
            "O: feeling good /// killing /// law suits /// out of pocket /// feel loved\n",
            "A:  feeling loved loved loved loved loved loved loved loved loved\n",
            "\n",
            "\n",
            "Model: feeling loved loved loved loved loved loved loved loved loved and Actual Answer: out of pocket\n"
          ]
        },
        {
          "output_type": "stream",
          "name": "stderr",
          "text": [
            " 78%|███████▊  | 951/1221 [02:59<00:50,  5.35it/s]"
          ]
        },
        {
          "output_type": "stream",
          "name": "stdout",
          "text": [
            "Q: What do you call the caretakers of a child?\n",
            "O: principal /// birth /// loving couple /// act of sex /// parents\n",
            "A:  caretakers of child's sex and act of\n",
            "\n",
            "\n",
            "Model: caretakers of child's sex and act of and Actual Answer: parents\n",
            "Q: Where would you run in to a niece you only see every one and a while?\n",
            "O: family reunion /// brother's house /// family picture book /// family tree /// party\n",
            "A:  family reunion reunion reunion reunion picture book book book book\n",
            "\n",
            "\n",
            "Model: family reunion reunion reunion reunion picture book book book book and Actual Answer: family reunion\n"
          ]
        },
        {
          "output_type": "stream",
          "name": "stderr",
          "text": [
            " 78%|███████▊  | 953/1221 [03:00<00:50,  5.34it/s]"
          ]
        },
        {
          "output_type": "stream",
          "name": "stdout",
          "text": [
            "Q: Working on the elaborate task was taxing, it require extreme what?\n",
            "O: holding /// concentration /// energy /// job /// energh\n",
            "A:  energy energy expenditure /// energy expenditure\n",
            "\n",
            "\n",
            "Model: energy energy expenditure and Actual Answer: concentration\n",
            "Q: What may you have after awaking after a night of heavy drinking?\n",
            "O: get up /// discomfort /// discomfort /// headache /// shock\n",
            "A:  discomfort /// discomfort\n",
            "\n",
            "\n",
            "Model: discomfort and Actual Answer: headache\n"
          ]
        },
        {
          "output_type": "stream",
          "name": "stderr",
          "text": [
            " 78%|███████▊  | 955/1221 [03:00<00:49,  5.33it/s]"
          ]
        },
        {
          "output_type": "stream",
          "name": "stdout",
          "text": [
            "Q: What uses a ribbon to put words on paper?\n",
            "O: wrapping paper /// girl's hair /// bath /// floral arrangement /// typewriter\n",
            "A:  wrapping paper paper paper on paper on paper on paper\n",
            "\n",
            "\n",
            "Model: wrapping paper paper paper on paper on paper on paper and Actual Answer: typewriter\n",
            "Q: Where are sheep likely to live?\n",
            "O: school /// meadow /// lamb /// farm /// fairgrounds\n",
            "A:  farm grounds grounds grounds grounds grounds grounds grounds grounds grounds\n",
            "\n",
            "\n",
            "Model: farm grounds grounds grounds grounds grounds grounds grounds grounds grounds and Actual Answer: farm\n"
          ]
        },
        {
          "output_type": "stream",
          "name": "stderr",
          "text": [
            " 78%|███████▊  | 957/1221 [03:00<00:49,  5.30it/s]"
          ]
        },
        {
          "output_type": "stream",
          "name": "stdout",
          "text": [
            "Q: If I was watching TV on the couch and the air was stuffy, I might turn the fan on to make the what more comfortable?\n",
            "O: hockey game /// living room /// bathroom /// football stadium /// hot room\n",
            "A:  hockey game stadium /// hockey stadium /// hockey stadium\n",
            "\n",
            "\n",
            "Model: hockey game stadium and Actual Answer: living room\n",
            "Q: While walking the student needed to store his writing insturment away, where did he put it?\n",
            "O: desk drawer /// cabinet /// purse /// classroom /// pocket\n",
            "A:  pocket drawer drawer drawer drawer drawer drawer drawer drawer drawer\n",
            "\n",
            "\n",
            "Model: pocket drawer drawer drawer drawer drawer drawer drawer drawer drawer and Actual Answer: pocket\n"
          ]
        },
        {
          "output_type": "stream",
          "name": "stderr",
          "text": [
            " 79%|███████▊  | 959/1221 [03:01<00:49,  5.31it/s]"
          ]
        },
        {
          "output_type": "stream",
          "name": "stdout",
          "text": [
            "Q: Who watches a play in an auditorium?\n",
            "O: building /// crowd /// city /// group /// high school\n",
            "A:  group meeting meeting meeting meeting meeting meeting meeting meeting meeting\n",
            "\n",
            "\n",
            "Model: group meeting meeting meeting meeting meeting meeting meeting meeting meeting and Actual Answer: crowd\n",
            "Q: What is a possible outcome for committing murder?\n",
            "O: problems /// incarceration /// trial /// imprisonment /// prosecution\n",
            "A:  prosecution prosecution prosecution prosecution of murder in prosecution of murder\n",
            "\n",
            "\n",
            "Model: prosecution prosecution prosecution prosecution of murder in prosecution of murder and Actual Answer: imprisonment\n"
          ]
        },
        {
          "output_type": "stream",
          "name": "stderr",
          "text": [
            " 79%|███████▊  | 961/1221 [03:01<00:48,  5.32it/s]"
          ]
        },
        {
          "output_type": "stream",
          "name": "stdout",
          "text": [
            "Q: where is a good place to obtain new soap?\n",
            "O: supermarket /// washing /// cabinet /// own home /// sink\n",
            "A:  own home building /// own home building /// own home\n",
            "\n",
            "\n",
            "Model: own home building and Actual Answer: supermarket\n",
            "Q: What do people do for food?\n",
            "O: talk to each other /// complete job /// wear hats /// kill animals /// believe in god\n",
            "A:  talk to each other while talking to each other while\n",
            "\n",
            "\n",
            "Model: talk to each other while talking to each other while and Actual Answer: kill animals\n"
          ]
        },
        {
          "output_type": "stream",
          "name": "stderr",
          "text": [
            " 79%|███████▉  | 963/1221 [03:01<00:48,  5.34it/s]"
          ]
        },
        {
          "output_type": "stream",
          "name": "stdout",
          "text": [
            "Q: There was many a bottle to choose from behind the cashier where?\n",
            "O: grocery store /// diaper bag /// gas station /// liquor store /// medicine cabinet\n",
            "A:  grocery store store /// grocery store\n",
            "\n",
            "\n",
            "Model: grocery store store and Actual Answer: liquor store\n",
            "Q: They had to know where to go, they got on the national highway after consulting the what?\n",
            "O: canada /// atlas /// united states /// major cities /// book\n",
            "A:  major cities and cities and cities and cities and cities\n",
            "\n",
            "\n",
            "Model: major cities and cities and cities and cities and cities and Actual Answer: atlas\n"
          ]
        },
        {
          "output_type": "stream",
          "name": "stderr",
          "text": [
            " 79%|███████▉  | 965/1221 [03:02<00:48,  5.32it/s]"
          ]
        },
        {
          "output_type": "stream",
          "name": "stdout",
          "text": [
            "Q: What do professors primarily do?\n",
            "O: master physics /// state facts /// wear wrinkled tweed jackets /// school students /// teach courses\n",
            "A:  teach courses courses courses courses courses courses courses courses courses\n",
            "\n",
            "\n",
            "Model: teach courses courses courses courses courses courses courses courses courses and Actual Answer: teach courses\n",
            "Q: Where do you throw a ball at pins?\n",
            "O: bowling alley /// football stadium /// soccer field /// sporting event /// sporting goods store\n",
            "A:  sporting event stadium stadium stadium stadium stadium stadium stadium stadium\n",
            "\n",
            "\n",
            "Model: sporting event stadium stadium stadium stadium stadium stadium stadium stadium and Actual Answer: bowling alley\n"
          ]
        },
        {
          "output_type": "stream",
          "name": "stderr",
          "text": [
            " 79%|███████▉  | 967/1221 [03:02<00:47,  5.36it/s]"
          ]
        },
        {
          "output_type": "stream",
          "name": "stdout",
          "text": [
            "Q: What might you need to do cleaning?\n",
            "O: sing a song /// neatness /// allergies /// healthy living /// using water\n",
            "A:  use water to cleanliness /// use water to clean\n",
            "\n",
            "\n",
            "Model: use water to cleanliness and Actual Answer: using water\n",
            "Q: If i were to spit a lot without noticing i may have extra what?\n",
            "O: phlegm /// saliva nd mouth /// disease /// germs /// spittle\n",
            "A:  germs nd mouth nd mouth nd\n",
            "\n",
            "\n",
            "Model: germs nd mouth nd mouth nd and Actual Answer: saliva nd mouth\n"
          ]
        },
        {
          "output_type": "stream",
          "name": "stderr",
          "text": [
            " 79%|███████▉  | 969/1221 [03:03<00:46,  5.40it/s]"
          ]
        },
        {
          "output_type": "stream",
          "name": "stdout",
          "text": [
            "Q: If student got a list of supplies from class like paper and pencils, their parent would have to go where?\n",
            "O: classroom /// parking garage /// store /// backpack /// cabinet\n",
            "A:  store garage garage garage garage garage garage garage garage garage\n",
            "\n",
            "\n",
            "Model: store garage garage garage garage garage garage garage garage garage and Actual Answer: store\n",
            "Q: Why do young people swallow semen ?\n",
            "O: you're into /// prostitute /// you're curious /// curiosity /// heterosexual woman in love\n",
            "A:  you're into woman in love and prostitute in love\n",
            "\n",
            "\n",
            "Model: you're into woman in love and prostitute in love and Actual Answer: you're curious\n"
          ]
        },
        {
          "output_type": "stream",
          "name": "stderr",
          "text": [
            " 80%|███████▉  | 971/1221 [03:03<00:46,  5.38it/s]"
          ]
        },
        {
          "output_type": "stream",
          "name": "stdout",
          "text": [
            "Q: Sally was standing in queue.  The line was very, very slow.  What was she feeling?\n",
            "O: frustration /// delays /// being annoyed /// moving forward /// progress\n",
            "A:  delays progressing forward /// delays forward\n",
            "\n",
            "\n",
            "Model: delays progressing forward and Actual Answer: frustration\n",
            "Q: What is the animal trying to accomplish?\n",
            "O: sand trap /// live long /// leave home /// feel pain /// eating\n",
            "A:  live long long long long long long long long long\n",
            "\n",
            "\n",
            "Model: live long long long long long long long long long and Actual Answer: live long\n"
          ]
        },
        {
          "output_type": "stream",
          "name": "stderr",
          "text": [
            " 80%|███████▉  | 973/1221 [03:03<00:46,  5.31it/s]"
          ]
        },
        {
          "output_type": "stream",
          "name": "stdout",
          "text": [
            "Q: James and Holly went dancing together. As they danced, he  pressed himself against her what?\n",
            "O: euphoria /// moving body /// rhythmic movement /// happiness /// fatigue\n",
            "A:  euphoria movement body movement /// euphoria body movement\n",
            "\n",
            "\n",
            "Model: euphoria movement body movement and Actual Answer: moving body\n",
            "Q: If a house has a subscription, what likely shows up in the driveway every morning?\n",
            "O: subdivision /// newspaper /// street /// laundry mat /// surface of earth\n",
            "A:  street matrimonial matrimonial matrimonial\n",
            "\n",
            "\n",
            "Model: street matrimonial matrimonial matrimonial and Actual Answer: newspaper\n"
          ]
        },
        {
          "output_type": "stream",
          "name": "stderr",
          "text": [
            " 80%|███████▉  | 975/1221 [03:04<00:46,  5.28it/s]"
          ]
        },
        {
          "output_type": "stream",
          "name": "stdout",
          "text": [
            "Q: What does a person do when they feel dirty?\n",
            "O: feel lucky /// cross street /// wash themselves /// eat /// wonder what happened\n",
            "A:  wash themselves while washing themselves while washing themselves while washing\n",
            "\n",
            "\n",
            "Model: wash themselves while washing themselves while washing themselves while washing and Actual Answer: wash themselves\n",
            "Q: After the weight cut he was worried about his energy levels, but this was part of participating in a what?\n",
            "O: work /// wrestle /// play sports /// matter /// sleep\n",
            "A:  work sports sports /// work sports /// work sports\n",
            "\n",
            "\n",
            "Model: work sports sports and Actual Answer: wrestle\n"
          ]
        },
        {
          "output_type": "stream",
          "name": "stderr",
          "text": [
            " 80%|████████  | 977/1221 [03:04<00:45,  5.32it/s]"
          ]
        },
        {
          "output_type": "stream",
          "name": "stdout",
          "text": [
            "Q: what does a person do to stay healthy?\n",
            "O: fever /// eat every day /// excited /// headache /// expressive\n",
            "A:  eat every day, excitedly and excitedly excited\n",
            "\n",
            "\n",
            "Model: eat every day, excitedly and excitedly excited and Actual Answer: eat every day\n",
            "Q: Who is the guard here for?\n",
            "O: man post /// attack /// intimidation /// prisoner /// unprotected\n",
            "A:  man post office post office office office office office office\n",
            "\n",
            "\n",
            "Model: man post office post office office office office office office and Actual Answer: prisoner\n"
          ]
        },
        {
          "output_type": "stream",
          "name": "stderr",
          "text": [
            " 80%|████████  | 979/1221 [03:04<00:46,  5.19it/s]"
          ]
        },
        {
          "output_type": "stream",
          "name": "stdout",
          "text": [
            "Q: If a person stutters when he experiences anxiety or excitement, he'll have difficult doing what?\n",
            "O: express information /// dance /// library /// go somewhere /// study\n",
            "A:  dance somewhere somewhere somewhere somewhere somewhere somewhere somewhere somewhere somewhere\n",
            "\n",
            "\n",
            "Model: dance somewhere somewhere somewhere somewhere somewhere somewhere somewhere somewhere somewhere and Actual Answer: express information\n",
            "Q: Where can you keep letter opener when it likely to be needed soon?\n",
            "O: office supply store /// stationery store /// dek /// martyr's chest /// refrigerator\n",
            "A:  office supply storeery storeery storeery storeery\n",
            "\n",
            "\n",
            "Model: office supply storeery storeery storeery storeery and Actual Answer: dek\n"
          ]
        },
        {
          "output_type": "stream",
          "name": "stderr",
          "text": [
            " 80%|████████  | 981/1221 [03:05<00:46,  5.17it/s]"
          ]
        },
        {
          "output_type": "stream",
          "name": "stdout",
          "text": [
            "Q: Danny found that the carpet did not ,match the drapes, which was disappointing, because this place was expensive.  But it was the only place in town that wasn't booked solid for the week and he needed it while he was in town, so he couldn't complain.   Where might this place be?\n",
            "O: brothel /// restaurant /// building /// bowling alley /// at hotel\n",
            "A:  brothel\n",
            "\n",
            "\n",
            "Model: brothel and Actual Answer: at hotel\n",
            "Q: What do people need to do to change their lives?\n",
            "O: face problems /// better themselves /// pay bills /// become disillusioned /// eat chicken\n",
            "A:  pay bills /// pay bills /// pay bills\n",
            "\n",
            "\n",
            "Model: pay bills and Actual Answer: face problems\n"
          ]
        },
        {
          "output_type": "stream",
          "name": "stderr",
          "text": [
            " 81%|████████  | 983/1221 [03:05<00:45,  5.20it/s]"
          ]
        },
        {
          "output_type": "stream",
          "name": "stdout",
          "text": [
            "Q: Humans need shelter to survive.  They usually find shelter where?\n",
            "O: underpass /// homes /// workplace /// school /// space shuttle\n",
            "A:  space shuttle shuttle shuttle shuttle shuttle shuttle shuttle shuttle shuttle\n",
            "\n",
            "\n",
            "Model: space shuttle shuttle shuttle shuttle shuttle shuttle shuttle shuttle shuttle and Actual Answer: homes\n",
            "Q: Someone who had a very bad flight might be given a trip in this to make up for it?\n",
            "O: first class /// propitious /// reputable /// one /// sufficient\n",
            "A:  reputable reputable reputable source of source of source of source\n",
            "\n",
            "\n",
            "Model: reputable reputable reputable source of source of source of source and Actual Answer: first class\n"
          ]
        },
        {
          "output_type": "stream",
          "name": "stderr",
          "text": [
            " 81%|████████  | 985/1221 [03:06<00:45,  5.16it/s]"
          ]
        },
        {
          "output_type": "stream",
          "name": "stdout",
          "text": [
            "Q: Nature can be good and bad for the person who walks, what are some things?\n",
            "O: seeing bear /// see beautiful views /// get wet /// getting lost /// murdered by a landshark\n",
            "A:  see beautiful views of bear bear bear bear bear bear\n",
            "\n",
            "\n",
            "Model: see beautiful views of bear bear bear bear bear bear and Actual Answer: see beautiful views\n",
            "Q: Jim decided to lose weight.  He thought that exercise is the best way to lose weight because you can't get rid of what?\n",
            "O: need for food /// fitness /// sweating /// fastfood /// thirst\n",
            "A:  thirst for food /// thirst for food\n",
            "\n",
            "\n",
            "Model: thirst for food and Actual Answer: need for food\n"
          ]
        },
        {
          "output_type": "stream",
          "name": "stderr",
          "text": [
            " 81%|████████  | 987/1221 [03:06<00:44,  5.23it/s]"
          ]
        },
        {
          "output_type": "stream",
          "name": "stdout",
          "text": [
            "Q: Nature creates more beautiful structures than those that are what?\n",
            "O: artificial /// indoors /// city /// man made /// eat cake\n",
            "A:  man made cake cake cake cake cake cake cake cake\n",
            "\n",
            "\n",
            "Model: man made cake cake cake cake cake cake cake cake and Actual Answer: man made\n",
            "Q: The water in clouds turn in to what when it gets cold?\n",
            "O: typhoon /// snowflake /// laddle /// teardrops /// sink\n",
            "A:  laddle teardropside teardro\n",
            "\n",
            "\n",
            "Model: laddle teardropside teardro and Actual Answer: snowflake\n"
          ]
        },
        {
          "output_type": "stream",
          "name": "stderr",
          "text": [
            " 81%|████████  | 989/1221 [03:06<00:44,  5.24it/s]"
          ]
        },
        {
          "output_type": "stream",
          "name": "stdout",
          "text": [
            "Q: What southern U.S. state is know for having many swamps?\n",
            "O: wetlands /// new york /// michigan /// louisiana /// river delta\n",
            "A:  louisiana michigan tyrana tyrana\n",
            "\n",
            "\n",
            "Model: louisiana michigan tyrana tyrana and Actual Answer: louisiana\n",
            "Q: When going to sleep what happens to your body?\n",
            "O: snoring /// latency /// dreams /// relaxation /// dreaming\n",
            "A:  dreams dreams and dreams and dreams and dreams and dreams\n",
            "\n",
            "\n",
            "Model: dreams dreams and dreams and dreams and dreams and dreams and Actual Answer: relaxation\n"
          ]
        },
        {
          "output_type": "stream",
          "name": "stderr",
          "text": [
            " 81%|████████  | 991/1221 [03:07<00:43,  5.24it/s]"
          ]
        },
        {
          "output_type": "stream",
          "name": "stdout",
          "text": [
            "Q: Where is a monkey likely to enjoy being?\n",
            "O: banana tree /// sailor suit /// theatre /// mulberry bush /// research laboratory\n",
            "A:  mulberry bush bush bush bush bush bush bush bush\n",
            "\n",
            "\n",
            "Model: mulberry bush bush bush bush bush bush bush bush and Actual Answer: banana tree\n",
            "Q: What is a form of anaerobic exercising?\n",
            "O: shortness of breath /// lift weights /// error /// fall down /// run\n",
            "A:  run down stairs /// run down stairs\n",
            "\n",
            "\n",
            "Model: run down stairs and Actual Answer: run\n"
          ]
        },
        {
          "output_type": "stream",
          "name": "stderr",
          "text": [
            " 81%|████████▏ | 993/1221 [03:07<00:43,  5.30it/s]"
          ]
        },
        {
          "output_type": "stream",
          "name": "stdout",
          "text": [
            "Q: The earth is one planet in what?\n",
            "O: tree /// orbit /// solar system /// fotograph /// dreams\n",
            "A:  solar system planet in fotographographograph galaxy\n",
            "\n",
            "\n",
            "Model: solar system planet in fotographographograph galaxy and Actual Answer: solar system\n",
            "Q: Where would you put a container can after you buy it?\n",
            "O: pantry /// store /// gas /// liquid /// garage\n",
            "A:  garage garage garage garage garage garage garage garage garage garage\n",
            "\n",
            "\n",
            "Model: garage garage garage garage garage garage garage garage garage garage and Actual Answer: garage\n"
          ]
        },
        {
          "output_type": "stream",
          "name": "stderr",
          "text": [
            " 81%|████████▏ | 995/1221 [03:08<00:42,  5.27it/s]"
          ]
        },
        {
          "output_type": "stream",
          "name": "stdout",
          "text": [
            "Q: Where did you meet your best friend since Kindergarten?\n",
            "O: friend's house /// school /// fraternity house /// internet cafe /// airplane\n",
            "A:  friend's house /// friend's house /// friend's\n",
            "\n",
            "\n",
            "Model: friend's house and Actual Answer: school\n",
            "Q: James was below the balloon.  He watched it rise.  What direction did he look in?\n",
            "O: upstairs /// aloft /// diagonal /// upstream /// upwards\n",
            "A:  upwards upwards upwards upwards upwards upwards upwards upwards upwards upwards\n",
            "\n",
            "\n",
            "Model: upwards upwards upwards upwards upwards upwards upwards upwards upwards upwards and Actual Answer: upwards\n"
          ]
        },
        {
          "output_type": "stream",
          "name": "stderr",
          "text": [
            " 82%|████████▏ | 997/1221 [03:08<00:42,  5.24it/s]"
          ]
        },
        {
          "output_type": "stream",
          "name": "stdout",
          "text": [
            "Q: John and Tim like playing. It makes them what?\n",
            "O: feeling happy /// learning /// injury /// burn /// get hungry\n",
            "A:  feel happy and feel happy and feel happy and feel\n",
            "\n",
            "\n",
            "Model: feel happy and feel happy and feel happy and feel and Actual Answer: feeling happy\n",
            "Q: What could happen if someone is seeing new presents at a birthday party?\n",
            "O: envy /// jealousy /// education /// fear /// excitement\n",
            "A:  jealousy encounteance encounteance encounteance\n",
            "\n",
            "\n",
            "Model: jealousy encounteance encounteance encounteance and Actual Answer: excitement\n"
          ]
        },
        {
          "output_type": "stream",
          "name": "stderr",
          "text": [
            " 82%|████████▏ | 999/1221 [03:08<00:42,  5.23it/s]"
          ]
        },
        {
          "output_type": "stream",
          "name": "stdout",
          "text": [
            "Q: Joe's cat smelled something delicious and jumped into this, causing him to panic and fear for its life. Where might it have jumped?\n",
            "O: meat loaf /// bedroom /// microwave /// living room /// floor\n",
            "A:  floor floor floor floor floor floor floor floor floor floor\n",
            "\n",
            "\n",
            "Model: floor floor floor floor floor floor floor floor floor floor and Actual Answer: microwave\n",
            "Q: Why would a person put flowers in a room with dirty gym socks?\n",
            "O: continue to grow /// plant themselves /// many colors /// smell good /// make pretty\n",
            "A:  make pretty pretty pretty pretty pretty pretty pretty pretty pretty\n",
            "\n",
            "\n",
            "Model: make pretty pretty pretty pretty pretty pretty pretty pretty pretty and Actual Answer: smell good\n"
          ]
        },
        {
          "output_type": "stream",
          "name": "stderr",
          "text": [
            " 82%|████████▏ | 1001/1221 [03:09<00:41,  5.25it/s]"
          ]
        },
        {
          "output_type": "stream",
          "name": "stdout",
          "text": [
            "Q: The table wasn't level.  some parts were higher and some were lower with no rhyme or reason.   It was very what?\n",
            "O: electrical circuit /// build evenly /// uneven /// unbalanced /// tilted\n",
            "A:  unevenly balanced.  unevenly balanced. \n",
            "\n",
            "\n",
            "Model: unevenly balanced.  unevenly balanced. and Actual Answer: uneven\n",
            "Q: The person signed up for home insurance, what is he seeking?\n",
            "O: financial security /// live well /// good relationship /// compliments /// discounted furniture\n",
            "A:  good relationship with friends /// good relationship with friends ///\n",
            "\n",
            "\n",
            "Model: good relationship with friends and Actual Answer: financial security\n"
          ]
        },
        {
          "output_type": "stream",
          "name": "stderr",
          "text": [
            " 82%|████████▏ | 1003/1221 [03:09<00:41,  5.25it/s]"
          ]
        },
        {
          "output_type": "stream",
          "name": "stdout",
          "text": [
            "Q: James know that committing murder was wrong, but he thought that he could get away with it.  He was really troubled  and fearful because of what?\n",
            "O: happiness /// problems /// prosecution /// distress /// misery\n",
            "A:  distress caused by problems caused by problems caused by problems\n",
            "\n",
            "\n",
            "Model: distress caused by problems caused by problems caused by problems and Actual Answer: prosecution\n",
            "Q: How can someone die from eating hamburger?\n",
            "O: gas /// getting full /// mad cow disease /// death /// feel full\n",
            "A:  death from eating hamburger disease disease disease disease disease\n",
            "\n",
            "\n",
            "Model: death from eating hamburger disease disease disease disease disease and Actual Answer: mad cow disease\n"
          ]
        },
        {
          "output_type": "stream",
          "name": "stderr",
          "text": [
            " 82%|████████▏ | 1005/1221 [03:09<00:41,  5.26it/s]"
          ]
        },
        {
          "output_type": "stream",
          "name": "stdout",
          "text": [
            "Q: Where would using a boat not require navigation skills?\n",
            "O: water /// ocean /// garage /// harbor /// river\n",
            "A:  ocean water garage garage garage garage garage garage garage garage\n",
            "\n",
            "\n",
            "Model: ocean water garage garage garage garage garage garage garage garage and Actual Answer: river\n",
            "Q: What does a self assured person often do?\n",
            "O: acknowledgment /// focused /// know what time /// feel important /// trust himself\n",
            "A:  focus himself and trust himself and trust himself and trust\n",
            "\n",
            "\n",
            "Model: focus himself and trust himself and trust himself and trust and Actual Answer: feel important\n"
          ]
        },
        {
          "output_type": "stream",
          "name": "stderr",
          "text": [
            " 82%|████████▏ | 1007/1221 [03:10<00:40,  5.27it/s]"
          ]
        },
        {
          "output_type": "stream",
          "name": "stdout",
          "text": [
            "Q: He was very outgoing, for him making friends was no personal what?\n",
            "O: scary /// having friends /// good feeling /// conflict /// friendship\n",
            "A:  friendship with friends /// friendship with friends /// friendship with\n",
            "\n",
            "\n",
            "Model: friendship with friends and Actual Answer: conflict\n",
            "Q: What do you feel when giving assistance to the needy?\n",
            "O: reward /// boredom /// pleasure /// happiness /// satisfaction\n",
            "A:  satisfaction with boredom encountlement with boredom encountlement with\n",
            "\n",
            "\n",
            "Model: satisfaction with boredom encountlement with boredom encountlement with and Actual Answer: satisfaction\n"
          ]
        },
        {
          "output_type": "stream",
          "name": "stderr",
          "text": [
            " 83%|████████▎ | 1009/1221 [03:10<00:40,  5.28it/s]"
          ]
        },
        {
          "output_type": "stream",
          "name": "stdout",
          "text": [
            "Q: Paul wants carrots and doesn't need to drive anywhere. He gets them from where?\n",
            "O: refrigerator /// store /// farmer's market /// supermarket /// dryer\n",
            "A:  supermarket market market market market market market market market market\n",
            "\n",
            "\n",
            "Model: supermarket market market market market market market market market market and Actual Answer: refrigerator\n",
            "Q: He was a sloppy eater, so where did he leave a mess?\n",
            "O: sailboat /// desk /// closet /// table /// apartment\n",
            "A:  closet /// closet\n",
            "\n",
            "\n",
            "Model: closet and Actual Answer: table\n"
          ]
        },
        {
          "output_type": "stream",
          "name": "stderr",
          "text": [
            " 83%|████████▎ | 1011/1221 [03:11<00:39,  5.26it/s]"
          ]
        },
        {
          "output_type": "stream",
          "name": "stdout",
          "text": [
            "Q: What does every person want?\n",
            "O: life partner /// larger house /// second chances /// money /// headache\n",
            "A:  life partner partner partner partner partner partner partner partner partner\n",
            "\n",
            "\n",
            "Model: life partner partner partner partner partner partner partner partner partner and Actual Answer: life partner\n",
            "Q: If a small flying animal picks up a string, where are they taking it?\n",
            "O: bird's nest /// park /// guitar /// kite /// quark\n",
            "A:  kite nest tree tree tree tree tree tree tree\n",
            "\n",
            "\n",
            "Model: kite nest tree tree tree tree tree tree tree and Actual Answer: bird's nest\n"
          ]
        },
        {
          "output_type": "stream",
          "name": "stderr",
          "text": [
            " 83%|████████▎ | 1013/1221 [03:11<00:39,  5.30it/s]"
          ]
        },
        {
          "output_type": "stream",
          "name": "stdout",
          "text": [
            "Q: He had no issue committing perjury, he had a what that he would get away with it?\n",
            "O: confidence /// go to jail /// telling lies /// lying /// manual\n",
            "A:  lying to lie to lie to lie to lie to\n",
            "\n",
            "\n",
            "Model: lying to lie to lie to lie to lie to and Actual Answer: confidence\n",
            "Q: What could go to a tennis court?\n",
            "O: desert /// college campus /// recreational center /// athletic club /// park\n",
            "A:  recreational center campus campus campus campus campus campus campus campus\n",
            "\n",
            "\n",
            "Model: recreational center campus campus campus campus campus campus campus campus and Actual Answer: athletic club\n"
          ]
        },
        {
          "output_type": "stream",
          "name": "stderr",
          "text": [
            " 83%|████████▎ | 1015/1221 [03:11<00:38,  5.32it/s]"
          ]
        },
        {
          "output_type": "stream",
          "name": "stdout",
          "text": [
            "Q: What could you use to fill a cup and then drink from it?\n",
            "O: sand box /// kitchen cabinet /// waterfall /// water fountain /// table\n",
            "A:  water fountain fountain fountain fountain fountain fountain fountain fountain fountain\n",
            "\n",
            "\n",
            "Model: water fountain fountain fountain fountain fountain fountain fountain fountain fountain and Actual Answer: water fountain\n",
            "Q: The two played video games all night in the living room, he enjoyed visiting where?\n",
            "O: formal seating /// friend's house /// movies /// home /// apartment\n",
            "A:  friend's house /// friend's house /// friend's\n",
            "\n",
            "\n",
            "Model: friend's house and Actual Answer: friend's house\n"
          ]
        },
        {
          "output_type": "stream",
          "name": "stderr",
          "text": [
            " 83%|████████▎ | 1017/1221 [03:12<00:38,  5.32it/s]"
          ]
        },
        {
          "output_type": "stream",
          "name": "stdout",
          "text": [
            "Q: The weasel ran up away from danger, somebody joked only our first president could get him down from the what?\n",
            "O: washington dc /// ladder /// natural history museum /// cherry tree /// chicken coop\n",
            "A:  natural history museum museum museum museum museum museum museum museum\n",
            "\n",
            "\n",
            "Model: natural history museum museum museum museum museum museum museum museum and Actual Answer: cherry tree\n",
            "Q: If you were looking for a blowfish, you wouldn't look on dry land, you'd look in a what?\n",
            "O: fish market /// jungle /// sea water /// body of water /// soup\n",
            "A:  soup market market market market market market market market market\n",
            "\n",
            "\n",
            "Model: soup market market market market market market market market market and Actual Answer: body of water\n"
          ]
        },
        {
          "output_type": "stream",
          "name": "stderr",
          "text": [
            " 83%|████████▎ | 1019/1221 [03:12<00:37,  5.33it/s]"
          ]
        },
        {
          "output_type": "stream",
          "name": "stdout",
          "text": [
            "Q: George checked the rotor of the Apache, which wasn't powered by internal combustion, but by what?\n",
            "O: jet engine /// helicopter /// electric motor /// rotator /// electrical circuit\n",
            "A:  rotor rotor rotor rotor generator /// rotor generator /// rotor\n",
            "\n",
            "\n",
            "Model: rotor rotor rotor rotor generator and Actual Answer: jet engine\n",
            "Q: The poker dealer spread the flop of cards across the what?\n",
            "O: players /// play games /// casino /// table /// toy store\n",
            "A:  casino game store /// casino store store\n",
            "\n",
            "\n",
            "Model: casino game store and Actual Answer: table\n"
          ]
        },
        {
          "output_type": "stream",
          "name": "stderr",
          "text": [
            " 84%|████████▎ | 1021/1221 [03:12<00:37,  5.33it/s]"
          ]
        },
        {
          "output_type": "stream",
          "name": "stdout",
          "text": [
            "Q: Where is a salt shaker most often kept?\n",
            "O: cruet /// table setting /// kitchen cupboard /// cabinet /// store\n",
            "A:  cabinet setting table setting table setting table setting table setting\n",
            "\n",
            "\n",
            "Model: cabinet setting table setting table setting table setting table setting and Actual Answer: table setting\n",
            "Q: Where would you put a dollar if you want to go to a store and buy something with it?\n",
            "O: cash drawer /// teh bank /// safety deposit box /// pocket /// piggy bank\n",
            "A:  pocket pocket pocket pocket pocket pocket pocket pocket pocket pocket\n",
            "\n",
            "\n",
            "Model: pocket pocket pocket pocket pocket pocket pocket pocket pocket pocket and Actual Answer: pocket\n"
          ]
        },
        {
          "output_type": "stream",
          "name": "stderr",
          "text": [
            " 84%|████████▍ | 1023/1221 [03:13<00:37,  5.34it/s]"
          ]
        },
        {
          "output_type": "stream",
          "name": "stdout",
          "text": [
            "Q: What room is likely to have a sideboard on the counter?\n",
            "O: home /// serve food buffet /// dining room /// living room /// kitchen\n",
            "A:  dining room with kitchen buffet buffet buffet buffet buffet buffet\n",
            "\n",
            "\n",
            "Model: dining room with kitchen buffet buffet buffet buffet buffet buffet and Actual Answer: kitchen\n",
            "Q: What is unlikely to get bugs on its windshield due to bugs' inability to reach it when it is moving?\n",
            "O: airplane /// scooter /// motorboat /// car /// motor vehicle\n",
            "A:  motorboat /// motorboat /// motorboat\n",
            "\n",
            "\n",
            "Model: motorboat and Actual Answer: airplane\n"
          ]
        },
        {
          "output_type": "stream",
          "name": "stderr",
          "text": [
            " 84%|████████▍ | 1025/1221 [03:13<00:36,  5.36it/s]"
          ]
        },
        {
          "output_type": "stream",
          "name": "stdout",
          "text": [
            "Q: What mall store sells jeans for a decent price?\n",
            "O: clothing store /// bedroom /// thrift store /// apartment /// gap\n",
            "A:  apartment store store store store store store store store store\n",
            "\n",
            "\n",
            "Model: apartment store store store store store store store store store and Actual Answer: gap\n",
            "Q: Where can a bath towel be borrowed?\n",
            "O: cupboard /// at hotel /// swimming pool /// clothes line /// backpack\n",
            "A:  backpack bag bag bag bag bag bag bag bag bag\n",
            "\n",
            "\n",
            "Model: backpack bag bag bag bag bag bag bag bag bag and Actual Answer: at hotel\n"
          ]
        },
        {
          "output_type": "stream",
          "name": "stderr",
          "text": [
            " 84%|████████▍ | 1027/1221 [03:14<00:36,  5.32it/s]"
          ]
        },
        {
          "output_type": "stream",
          "name": "stdout",
          "text": [
            "Q: Why do people stop caring about their problems?\n",
            "O: no problems /// better themselves /// face problems /// learn from each other /// become disillusioned\n",
            "A:  become disillusioned and disillusioned with each other's\n",
            "\n",
            "\n",
            "Model: become disillusioned and disillusioned with each other's and Actual Answer: become disillusioned\n",
            "Q: John rode on the plain until it reached the ocean and couldn't go any farther. What might he have bee on?\n",
            "O: mountain /// fancy /// sandplain /// cliff /// gorge\n",
            "A:  gorge gorge gorge gorge gorge gorge gorge gorge gorge gorge\n",
            "\n",
            "\n",
            "Model: gorge gorge gorge gorge gorge gorge gorge gorge gorge gorge and Actual Answer: cliff\n"
          ]
        },
        {
          "output_type": "stream",
          "name": "stderr",
          "text": [
            " 84%|████████▍ | 1029/1221 [03:14<00:36,  5.25it/s]"
          ]
        },
        {
          "output_type": "stream",
          "name": "stdout",
          "text": [
            "Q: They were never going to be big actors, but they all had passion for the local what?\n",
            "O: theater /// opera /// show /// television /// blockbuster feature\n",
            "A:  television feature film feature film feature film feature film feature\n",
            "\n",
            "\n",
            "Model: television feature film feature film feature film feature film feature and Actual Answer: theater\n",
            "Q: Where would you use a folding chair but not store one?\n",
            "O: beach /// city hall /// closet /// garage /// school\n",
            "A:  garage hall hall hall hall hall hall hall hall hall\n",
            "\n",
            "\n",
            "Model: garage hall hall hall hall hall hall hall hall hall and Actual Answer: beach\n"
          ]
        },
        {
          "output_type": "stream",
          "name": "stderr",
          "text": [
            " 84%|████████▍ | 1031/1221 [03:14<00:36,  5.17it/s]"
          ]
        },
        {
          "output_type": "stream",
          "name": "stdout",
          "text": [
            "Q: If you spend a long time shopping in uncomfortable shoes, you might develop what?\n",
            "O: tiredness /// calluses /// bankruptcy /// standing in line /// sleepyness\n",
            "A:  tirednessinessnessinessinessinessinessinessiness\n",
            "\n",
            "\n",
            "Model: tirednessinessnessinessinessinessinessinessiness and Actual Answer: calluses\n",
            "Q: What does impeachment mean for the president?\n",
            "O: vote /// election /// trouble /// board room /// corporation\n",
            "A:  vote room room room room room room room room room\n",
            "\n",
            "\n",
            "Model: vote room room room room room room room room room and Actual Answer: trouble\n"
          ]
        },
        {
          "output_type": "stream",
          "name": "stderr",
          "text": [
            " 85%|████████▍ | 1033/1221 [03:15<00:36,  5.15it/s]"
          ]
        },
        {
          "output_type": "stream",
          "name": "stdout",
          "text": [
            "Q: Noble citizen of the Roman empire believed those born with lower status were what to them?\n",
            "O: loser /// ignoble /// peasant /// inferior /// plebeian\n",
            "A:  inferior to other nations\n",
            "\n",
            "\n",
            "Model: inferior to other nations and Actual Answer: inferior\n",
            "Q: Spraining an ankle while playing baseball will cause what?\n",
            "O: strikes /// eating /// injury /// sore muscles /// pain\n",
            "A:  injury caused by injury caused by injury caused by injury\n",
            "\n",
            "\n",
            "Model: injury caused by injury caused by injury caused by injury and Actual Answer: pain\n"
          ]
        },
        {
          "output_type": "stream",
          "name": "stderr",
          "text": [
            " 85%|████████▍ | 1035/1221 [03:15<00:35,  5.17it/s]"
          ]
        },
        {
          "output_type": "stream",
          "name": "stdout",
          "text": [
            "Q: John was traveling to a new city and took time to check out a business.  He noticed that its carpet was stained with sauces and ketchup. What type of business might that be?\n",
            "O: bedroom /// chair /// bowling alley /// at hotel /// restaurant\n",
            "A:  restaurant restaurant restaurant restaurant restaurant restaurant restaurant restaurant restaurant restaurant\n",
            "\n",
            "\n",
            "Model: restaurant restaurant restaurant restaurant restaurant restaurant restaurant restaurant restaurant restaurant and Actual Answer: restaurant\n",
            "Q: If you have a condo in a Wisconsin city known for beer, where are you?\n",
            "O: city /// electrical circuit /// residential area /// suburbia /// milwaukee\n",
            "A:  suburbia area of america city of america\n",
            "\n",
            "\n",
            "Model: suburbia area of america city of america and Actual Answer: milwaukee\n"
          ]
        },
        {
          "output_type": "stream",
          "name": "stderr",
          "text": [
            " 85%|████████▍ | 1037/1221 [03:16<00:35,  5.18it/s]"
          ]
        },
        {
          "output_type": "stream",
          "name": "stdout",
          "text": [
            "Q: Where is hard to read note likely to be?\n",
            "O: fridge /// sheet music /// desk /// bed /// medical chart\n",
            "A:  desk music chart /// desk music chart\n",
            "\n",
            "\n",
            "Model: desk music chart and Actual Answer: medical chart\n",
            "Q: How does someone go about buying beer?\n",
            "O: have no money /// pants /// relaxation /// lose money /// spend money\n",
            "A:  spend money /// spend money\n",
            "\n",
            "\n",
            "Model: spend money and Actual Answer: spend money\n"
          ]
        },
        {
          "output_type": "stream",
          "name": "stderr",
          "text": [
            " 85%|████████▌ | 1039/1221 [03:16<00:35,  5.14it/s]"
          ]
        },
        {
          "output_type": "stream",
          "name": "stdout",
          "text": [
            "Q: If there is gum on your shoe where did it likely come from?\n",
            "O: shelf /// movies /// sidewalk /// water fountain /// table\n",
            "A:  table table table table table table table table table table\n",
            "\n",
            "\n",
            "Model: table table table table table table table table table table and Actual Answer: sidewalk\n",
            "Q: If a person isn't able to pay their bills what must they do?\n",
            "O: know everything /// acknowledgment /// make more money /// throw a party /// spare time\n",
            "A:  pay bills /// pay bills /// pay bills\n",
            "\n",
            "\n",
            "Model: pay bills and Actual Answer: make more money\n"
          ]
        },
        {
          "output_type": "stream",
          "name": "stderr",
          "text": [
            " 85%|████████▌ | 1041/1221 [03:16<00:35,  5.11it/s]"
          ]
        },
        {
          "output_type": "stream",
          "name": "stdout",
          "text": [
            "Q: What is main benefit to exercising?\n",
            "O: losing weight /// healthy /// get in shape /// weight loss /// sweat\n",
            "A:  get in shape and weight loss\n",
            "\n",
            "\n",
            "Model: get in shape and weight loss and Actual Answer: get in shape\n",
            "Q: Steve thought that it was possible, but he agreed that it was what?\n",
            "O: no go /// unable /// unlikely /// impossibility /// cant do\n",
            "A:  impossible\n",
            "\n",
            "\n",
            "Model: impossible and Actual Answer: unlikely\n"
          ]
        },
        {
          "output_type": "stream",
          "name": "stderr",
          "text": [
            " 85%|████████▌ | 1043/1221 [03:17<00:34,  5.16it/s]"
          ]
        },
        {
          "output_type": "stream",
          "name": "stdout",
          "text": [
            "Q: What region of a west coast U.S. city would you find a Japanese restaurant?\n",
            "O: california /// tokio /// downtown /// narnia /// large town\n",
            "A:  california california california cal\n",
            "\n",
            "\n",
            "Model: california california california cal and Actual Answer: downtown\n",
            "Q: What is a tactic used to interfere with learning about science?\n",
            "O: repetition /// sense of wonder /// accidents /// intimidation /// increased knowledge\n",
            "A:  intimidation /// intimidation /// intimidation\n",
            "\n",
            "\n",
            "Model: intimidation and Actual Answer: intimidation\n"
          ]
        },
        {
          "output_type": "stream",
          "name": "stderr",
          "text": [
            " 86%|████████▌ | 1045/1221 [03:17<00:34,  5.05it/s]"
          ]
        },
        {
          "output_type": "stream",
          "name": "stdout",
          "text": [
            "Q: What do people usually feel when falling in love?\n",
            "O: getting married /// pain /// happiness /// getting married /// suffering\n",
            "A:  happiness while married /// happiness while married\n",
            "\n",
            "\n",
            "Model: happiness while married and Actual Answer: happiness\n",
            "Q: The tiger was stuck in what animal prison where he got lazy and fat?\n",
            "O: jungle /// zoo /// kill /// india /// eat cake\n",
            "A:  zoo zoo zoo zoo zoo zoo zoo zoo zoo zoo\n",
            "\n",
            "\n",
            "Model: zoo zoo zoo zoo zoo zoo zoo zoo zoo zoo and Actual Answer: zoo\n"
          ]
        },
        {
          "output_type": "stream",
          "name": "stderr",
          "text": [
            " 86%|████████▌ | 1047/1221 [03:17<00:33,  5.17it/s]"
          ]
        },
        {
          "output_type": "stream",
          "name": "stdout",
          "text": [
            "Q: What do parents tell a child to do on the weekend?\n",
            "O: study /// begin school /// go out to play /// row boat /// clean room\n",
            "A:  go out to play swimming pool to play pool to\n",
            "\n",
            "\n",
            "Model: go out to play swimming pool to play pool to and Actual Answer: go out to play\n",
            "Q: Why are dogs often known as man's best friend?\n",
            "O: aggressive /// friendly /// very loyal /// found outside /// very smart\n",
            "A:  friendly and loyal to each other.  friendly and\n",
            "\n",
            "\n",
            "Model: friendly and loyal to each other.  friendly and and Actual Answer: very loyal\n"
          ]
        },
        {
          "output_type": "stream",
          "name": "stderr",
          "text": [
            " 86%|████████▌ | 1049/1221 [03:18<00:32,  5.25it/s]"
          ]
        },
        {
          "output_type": "stream",
          "name": "stdout",
          "text": [
            "Q: Where can you buy a two wheel transportation machine?\n",
            "O: boat /// michigan /// train station /// bicycle shop /// trunk of car\n",
            "A:  train station station station station station station station station station\n",
            "\n",
            "\n",
            "Model: train station station station station station station station station station and Actual Answer: bicycle shop\n",
            "Q: Where might an alien use a vacuum?\n",
            "O: space /// closet /// kitchen /// orbit /// container\n",
            "A:  space shuttle shuttle shuttle shuttle shuttle shuttle shuttle shuttle shuttle\n",
            "\n",
            "\n",
            "Model: space shuttle shuttle shuttle shuttle shuttle shuttle shuttle shuttle shuttle and Actual Answer: space\n"
          ]
        },
        {
          "output_type": "stream",
          "name": "stderr",
          "text": [
            " 86%|████████▌ | 1051/1221 [03:18<00:31,  5.36it/s]"
          ]
        },
        {
          "output_type": "stream",
          "name": "stdout",
          "text": [
            "Q: Where do you buy condoms?\n",
            "O: supermarket /// sock drawer /// cd store /// medicine chest /// bedroom\n",
            "A:  pharmacy chestnut drawer drawer drawer drawer drawer drawer drawer\n",
            "\n",
            "\n",
            "Model: pharmacy chestnut drawer drawer drawer drawer drawer drawer drawer and Actual Answer: supermarket\n",
            "Q: What animal is known for being a follower?\n",
            "O: goat /// expensive /// lion /// wolf /// meadow\n",
            "A:  lion's elephan elephan elephan elephan\n",
            "\n",
            "\n",
            "Model: lion's elephan elephan elephan elephan and Actual Answer: goat\n"
          ]
        },
        {
          "output_type": "stream",
          "name": "stderr",
          "text": [
            " 86%|████████▌ | 1053/1221 [03:19<00:31,  5.37it/s]"
          ]
        },
        {
          "output_type": "stream",
          "name": "stdout",
          "text": [
            "Q: The soldier was told to get to the rendezvous point, for there he was suppose to what?\n",
            "O: fight enemy /// go to war /// fight for freedom /// wait for orders /// follow instructions\n",
            "A:  fight enemy for freedom for freedom for freedom for freedom\n",
            "\n",
            "\n",
            "Model: fight enemy for freedom for freedom for freedom for freedom and Actual Answer: wait for orders\n",
            "Q: If you want to kill someone you can do what to them with a gun?\n",
            "O: sip through /// damnation /// shoot /// commit crime /// eat breakfast\n",
            "A:  shoot through through through through through through through through through\n",
            "\n",
            "\n",
            "Model: shoot through through through through through through through through through and Actual Answer: shoot\n"
          ]
        },
        {
          "output_type": "stream",
          "name": "stderr",
          "text": [
            " 86%|████████▋ | 1055/1221 [03:19<00:30,  5.36it/s]"
          ]
        },
        {
          "output_type": "stream",
          "name": "stdout",
          "text": [
            "Q: The hostess greeted the employees to the program, she then led them to their what?\n",
            "O: group people /// welcome guests /// occupations /// work room /// seat customer\n",
            "A:  group people room room room room room room room room\n",
            "\n",
            "\n",
            "Model: group people room room room room room room room room and Actual Answer: work room\n",
            "Q: Where is a likely place to store unused soap?\n",
            "O: cabinet /// supermarket /// jail /// butt /// own home\n",
            "A:  own home home home home home home home home home\n",
            "\n",
            "\n",
            "Model: own home home home home home home home home home and Actual Answer: cabinet\n"
          ]
        },
        {
          "output_type": "stream",
          "name": "stderr",
          "text": [
            " 87%|████████▋ | 1057/1221 [03:19<00:30,  5.34it/s]"
          ]
        },
        {
          "output_type": "stream",
          "name": "stdout",
          "text": [
            "Q: Loss of someone you love can cause what kind of feeling in your heart?\n",
            "O: painful /// happy /// blind /// contagious /// bring joy\n",
            "A:  contagious disease contagious disease caused by disease caused by disease\n",
            "\n",
            "\n",
            "Model: contagious disease contagious disease caused by disease caused by disease and Actual Answer: painful\n",
            "Q: Where in your home would you keep a ballpoint pen when not in use?\n",
            "O: backpack /// bank /// desk drawer /// eat cake /// office desk\n",
            "A:  desk drawer drawer drawer drawer drawer drawer drawer drawer drawer\n",
            "\n",
            "\n",
            "Model: desk drawer drawer drawer drawer drawer drawer drawer drawer drawer and Actual Answer: desk drawer\n"
          ]
        },
        {
          "output_type": "stream",
          "name": "stderr",
          "text": [
            " 87%|████████▋ | 1059/1221 [03:20<00:30,  5.33it/s]"
          ]
        },
        {
          "output_type": "stream",
          "name": "stdout",
          "text": [
            "Q: James was someone who was caught in his own delusions.  To him, the truth didn't do what what?\n",
            "O: work to advantage /// matter to /// help /// free mind /// further knowledge\n",
            "A:  work to advantage to advantage to advantage to advantage to\n",
            "\n",
            "\n",
            "Model: work to advantage to advantage to advantage to advantage to and Actual Answer: matter to\n",
            "Q: He wanted to live somewhere were every yard was uniform in size and landscaping, where should he look for a house?\n",
            "O: city /// three feet /// subdivision /// parking garage /// michigan\n",
            "A:  three feet feet feet feet feet feet feet feet feet\n",
            "\n",
            "\n",
            "Model: three feet feet feet feet feet feet feet feet feet and Actual Answer: subdivision\n"
          ]
        },
        {
          "output_type": "stream",
          "name": "stderr",
          "text": [
            " 87%|████████▋ | 1061/1221 [03:20<00:29,  5.38it/s]"
          ]
        },
        {
          "output_type": "stream",
          "name": "stdout",
          "text": [
            "Q: The flasks was used to distill elements, where was is being used?\n",
            "O: laboratory /// chemistry lab /// coat pocket /// after hours speakeasy /// bordello\n",
            "A:  laboratory laboratory laboratory laboratory laboratory laboratory laboratory laboratory laboratory laboratory\n",
            "\n",
            "\n",
            "Model: laboratory laboratory laboratory laboratory laboratory laboratory laboratory laboratory laboratory laboratory and Actual Answer: chemistry lab\n",
            "Q: What was the man encouraged to do after he expressed his anger violently?\n",
            "O: cool off /// punch /// illustrate point /// fight /// release energy\n",
            "A:  punch or illustrate point point point point point point point\n",
            "\n",
            "\n",
            "Model: punch or illustrate point point point point point point point and Actual Answer: cool off\n"
          ]
        },
        {
          "output_type": "stream",
          "name": "stderr",
          "text": [
            " 87%|████████▋ | 1063/1221 [03:20<00:29,  5.42it/s]"
          ]
        },
        {
          "output_type": "stream",
          "name": "stdout",
          "text": [
            "Q: Where can a student learn to play a triangle?\n",
            "O: math class /// math book /// in pythagorus' band /// orchestra /// music class\n",
            "A:  music class class class class music class music class music\n",
            "\n",
            "\n",
            "Model: music class class class class music class music class music and Actual Answer: music class\n",
            "Q: What do you need to do to use television if it is already turned on?\n",
            "O: get wet /// open eyes /// kill /// plug in /// first turn on power\n",
            "A:  open eyes /// open eyes /// open eyes\n",
            "\n",
            "\n",
            "Model: open eyes and Actual Answer: open eyes\n"
          ]
        },
        {
          "output_type": "stream",
          "name": "stderr",
          "text": [
            " 87%|████████▋ | 1065/1221 [03:21<00:29,  5.35it/s]"
          ]
        },
        {
          "output_type": "stream",
          "name": "stdout",
          "text": [
            "Q: The guys had a regular poker game, rather than going to the movies this what their what?\n",
            "O: competition /// fun game /// losing money /// fun /// social event\n",
            "A:  fun game game /// fun game event\n",
            "\n",
            "\n",
            "Model: fun game game and Actual Answer: social event\n",
            "Q: When you stroke a dogs fur what have you done?\n",
            "O: start fighting /// play /// lots of attention /// petted /// bone\n",
            "A:  play games /// play games /// play games\n",
            "\n",
            "\n",
            "Model: play games and Actual Answer: petted\n"
          ]
        },
        {
          "output_type": "stream",
          "name": "stderr",
          "text": [
            " 87%|████████▋ | 1067/1221 [03:21<00:28,  5.32it/s]"
          ]
        },
        {
          "output_type": "stream",
          "name": "stdout",
          "text": [
            "Q: Dan fell off a bar stool.  He did this because he was what than ever before?\n",
            "O: kitchen /// drunker /// tavern /// restaurant /// shorter\n",
            "A:  drunkerger /// taverner\n",
            "\n",
            "\n",
            "Model: drunkerger and Actual Answer: drunker\n",
            "Q: The wood was still rough to the touch, what did the woodworker have to do?\n",
            "O: petrify /// sanded /// warp /// composted /// clean\n",
            "A:  composted /// composted\n",
            "\n",
            "\n",
            "Model: composted and Actual Answer: sanded\n"
          ]
        },
        {
          "output_type": "stream",
          "name": "stderr",
          "text": [
            " 88%|████████▊ | 1069/1221 [03:22<00:29,  5.20it/s]"
          ]
        },
        {
          "output_type": "stream",
          "name": "stdout",
          "text": [
            "Q: The chief saw his entire tribe wiped out, he was a leader with a single what?\n",
            "O: peon /// indian /// minister /// follower /// employee\n",
            "A:  follower of leader with leader with leader with leader with\n",
            "\n",
            "\n",
            "Model: follower of leader with leader with leader with leader with and Actual Answer: follower\n",
            "Q: The flower grew tall to compete for sunlight, what did its neighbor do?\n",
            "O: blossom /// park /// open /// cast shadow /// vase\n",
            "A:  open flower park /// open flower park\n",
            "\n",
            "\n",
            "Model: open flower park and Actual Answer: cast shadow\n"
          ]
        },
        {
          "output_type": "stream",
          "name": "stderr",
          "text": [
            " 88%|████████▊ | 1071/1221 [03:22<00:28,  5.24it/s]"
          ]
        },
        {
          "output_type": "stream",
          "name": "stdout",
          "text": [
            "Q: If while driving to work another car makes a careless maneuver, what emotion might you feel?\n",
            "O: boredom /// happiness /// transportation cost /// getting there /// road rage\n",
            "A:  road rage cost money in money in money in money\n",
            "\n",
            "\n",
            "Model: road rage cost money in money in money in money and Actual Answer: road rage\n",
            "Q: What kind of food makes someone sick?\n",
            "O: boat /// necessary to live /// edible /// unhealthy /// kitchen\n",
            "A:  edible food is needed to live in kitchen. \n",
            "\n",
            "\n",
            "Model: edible food is needed to live in kitchen. and Actual Answer: unhealthy\n"
          ]
        },
        {
          "output_type": "stream",
          "name": "stderr",
          "text": [
            " 88%|████████▊ | 1073/1221 [03:22<00:28,  5.28it/s]"
          ]
        },
        {
          "output_type": "stream",
          "name": "stdout",
          "text": [
            "Q: Where would you find the sharpest parts of a triangle?\n",
            "O: three vertices /// point /// 3 sides /// three sides /// math book\n",
            "A:  three sides sides of triangle proported triangles proported\n",
            "\n",
            "\n",
            "Model: three sides sides of triangle proported triangles proported and Actual Answer: three vertices\n",
            "Q: How might a automobile get off a freeway?\n",
            "O: exit ramp /// garage /// driveway /// repair shop /// stop light\n",
            "A:  stop light light light light light light light light light\n",
            "\n",
            "\n",
            "Model: stop light light light light light light light light light and Actual Answer: exit ramp\n"
          ]
        },
        {
          "output_type": "stream",
          "name": "stderr",
          "text": [
            " 88%|████████▊ | 1075/1221 [03:23<00:27,  5.28it/s]"
          ]
        },
        {
          "output_type": "stream",
          "name": "stdout",
          "text": [
            "Q: What does going to bed with your spouse for sex lead to?\n",
            "O: bad dreams /// a good nights sleep /// rest /// sleepiness /// get pregnant\n",
            "A:  get pregnant /// sleepinessinessinessinessinessiness\n",
            "\n",
            "\n",
            "Model: get pregnant and Actual Answer: get pregnant\n",
            "Q: What would it be if they get a surprising show over and over?\n",
            "O: surprise /// fight /// annoyance /// might scare /// irritated\n",
            "A:  surprise me߰߰ might scare me�\n",
            "\n",
            "\n",
            "Model: surprise me߰߰ might scare me� and Actual Answer: annoyance\n"
          ]
        },
        {
          "output_type": "stream",
          "name": "stderr",
          "text": [
            " 88%|████████▊ | 1077/1221 [03:23<00:27,  5.30it/s]"
          ]
        },
        {
          "output_type": "stream",
          "name": "stdout",
          "text": [
            "Q: Sally thought that competing wasn't worth the risk. If she pushed more what might happen?\n",
            "O: pressure /// trying harder /// put harder /// enemies /// death\n",
            "A:  death pressure /// death pressure\n",
            "\n",
            "\n",
            "Model: death pressure and Actual Answer: death\n",
            "Q: John is sitting in a toilet stall in a bathroom, outside he can hear cars going around in circles.  What is the function of the place he is most likely at?\n",
            "O: eating food /// public place /// race track /// at hotel /// public building\n",
            "A:  public place building /// public building\n",
            "\n",
            "\n",
            "Model: public place building and Actual Answer: race track\n"
          ]
        },
        {
          "output_type": "stream",
          "name": "stderr",
          "text": [
            " 88%|████████▊ | 1079/1221 [03:24<00:26,  5.29it/s]"
          ]
        },
        {
          "output_type": "stream",
          "name": "stdout",
          "text": [
            "Q: What event might one buy tickets for seats?\n",
            "O: park /// show /// auditorium /// movies /// rest area\n",
            "A:  show area /// movie theater /// movie theater\n",
            "\n",
            "\n",
            "Model: show area and Actual Answer: show\n",
            "Q: The merchant wanted to open in a high-traffic space, where did he rent space?\n",
            "O: mall /// business /// store /// sale /// sell goods\n",
            "A:  store space shuttle /// store space shuttle\n",
            "\n",
            "\n",
            "Model: store space shuttle and Actual Answer: mall\n"
          ]
        },
        {
          "output_type": "stream",
          "name": "stderr",
          "text": [
            " 89%|████████▊ | 1081/1221 [03:24<00:26,  5.28it/s]"
          ]
        },
        {
          "output_type": "stream",
          "name": "stdout",
          "text": [
            "Q: The newlyweds began copulating their marriage, they wanted many what?\n",
            "O: babies /// odors /// sadness /// rapport /// ejaculation\n",
            "A:  babies odors /// babies odors\n",
            "\n",
            "\n",
            "Model: babies odors and Actual Answer: babies\n",
            "Q: How does a planet usually move around the sun?\n",
            "O: writing /// universe /// outer space /// outerspace /// orbit\n",
            "A:  outer space space space space space space space space space\n",
            "\n",
            "\n",
            "Model: outer space space space space space space space space space and Actual Answer: orbit\n"
          ]
        },
        {
          "output_type": "stream",
          "name": "stderr",
          "text": [
            " 89%|████████▊ | 1083/1221 [03:24<00:25,  5.37it/s]"
          ]
        },
        {
          "output_type": "stream",
          "name": "stdout",
          "text": [
            "Q: When a group of people are talking at work they might be doing what?\n",
            "O: having a concert. /// cough /// sharing of ideas /// speak /// sneeze\n",
            "A:  sharing of ideas /// sharing ideas /// sharing ideas\n",
            "\n",
            "\n",
            "Model: sharing of ideas and Actual Answer: sharing of ideas\n",
            "Q: What emotion leads to punching?\n",
            "O: fists /// hitting /// boxing gloves /// anger /// hands\n",
            "A:  fists fists hitting fists against fists against fists against fists\n",
            "\n",
            "\n",
            "Model: fists fists hitting fists against fists against fists against fists and Actual Answer: anger\n"
          ]
        },
        {
          "output_type": "stream",
          "name": "stderr",
          "text": [
            " 89%|████████▉ | 1085/1221 [03:25<00:25,  5.41it/s]"
          ]
        },
        {
          "output_type": "stream",
          "name": "stdout",
          "text": [
            "Q: They kept doing things the same, she suggested they also try doing things what?\n",
            "O: differently /// otherwise /// expensive /// only /// mere\n",
            "A:  differently expensive and expensive and expensive and expensive and expensive\n",
            "\n",
            "\n",
            "Model: differently expensive and expensive and expensive and expensive and expensive and Actual Answer: differently\n",
            "Q: Where could you find a shark before it was caught?\n",
            "O: pool hall /// tomales bay /// marine museum /// business /// desert\n",
            "A:  ocean hall hall hall hall hall hall hall hall hall\n",
            "\n",
            "\n",
            "Model: ocean hall hall hall hall hall hall hall hall hall and Actual Answer: tomales bay\n"
          ]
        },
        {
          "output_type": "stream",
          "name": "stderr",
          "text": [
            " 89%|████████▉ | 1087/1221 [03:25<00:25,  5.34it/s]"
          ]
        },
        {
          "output_type": "stream",
          "name": "stdout",
          "text": [
            "Q: Where is one likely to find poker chips?\n",
            "O: supermarket /// pantry /// motherboard /// bar /// bar\n",
            "A:  barbershop barbershop barbershop bar\n",
            "\n",
            "\n",
            "Model: barbershop barbershop barbershop bar and Actual Answer: bar\n",
            "Q: Dance can be elegant and specific, or you can just have fun and what?\n",
            "O: falling down /// trip /// fall down /// move around /// celebrate\n",
            "A:  fall down down down down down down down down down\n",
            "\n",
            "\n",
            "Model: fall down down down down down down down down down and Actual Answer: move around\n"
          ]
        },
        {
          "output_type": "stream",
          "name": "stderr",
          "text": [
            " 89%|████████▉ | 1089/1221 [03:25<00:24,  5.30it/s]"
          ]
        },
        {
          "output_type": "stream",
          "name": "stdout",
          "text": [
            "Q: Where can one obtain a bass fiddle?\n",
            "O: jazz band /// string quartet /// group band /// nursery rhyme /// music store\n",
            "A:  music store /// music store /// music store\n",
            "\n",
            "\n",
            "Model: music store and Actual Answer: music store\n",
            "Q: Why does having a disability sometimes making academic tasks hard for a person?\n",
            "O: mentally challenged /// have choice /// lots of space /// hungry /// acknowledgment\n",
            "A:  mental challengedness challenged by people who have choice and\n",
            "\n",
            "\n",
            "Model: mental challengedness challenged by people who have choice and and Actual Answer: mentally challenged\n"
          ]
        },
        {
          "output_type": "stream",
          "name": "stderr",
          "text": [
            " 89%|████████▉ | 1091/1221 [03:26<00:24,  5.31it/s]"
          ]
        },
        {
          "output_type": "stream",
          "name": "stdout",
          "text": [
            "Q: What is the purpose of playing games for children?\n",
            "O: winning /// learning /// losing /// fatigue /// skill\n",
            "A:  learning about game for children are fun for children.\n",
            "\n",
            "\n",
            "Model: learning about game for children are fun for children. and Actual Answer: learning\n",
            "Q: If for some reason you were to start killing people, what would you be likely to receive?\n",
            "O: feelings of guilt /// prison sentence /// terrible /// encouragement /// die\n",
            "A:  feelings of guilt and guilt of guilt of guilt of\n",
            "\n",
            "\n",
            "Model: feelings of guilt and guilt of guilt of guilt of and Actual Answer: prison sentence\n"
          ]
        },
        {
          "output_type": "stream",
          "name": "stderr",
          "text": [
            " 90%|████████▉ | 1093/1221 [03:26<00:23,  5.34it/s]"
          ]
        },
        {
          "output_type": "stream",
          "name": "stdout",
          "text": [
            "Q: If someone laughs after surprising them they have a good sense of what?\n",
            "O: joy /// fight /// frightened /// humor /// laughter\n",
            "A:  laughter /// laughter\n",
            "\n",
            "\n",
            "Model: laughter and Actual Answer: humor\n",
            "Q: People played a variety of games in the soccer field.  It was the closest thing they had to what?\n",
            "O: town /// beach /// park /// near /// outside\n",
            "A:  park outside of town of town of town of town\n",
            "\n",
            "\n",
            "Model: park outside of town of town of town of town and Actual Answer: park\n"
          ]
        },
        {
          "output_type": "stream",
          "name": "stderr",
          "text": [
            " 90%|████████▉ | 1095/1221 [03:26<00:23,  5.40it/s]"
          ]
        },
        {
          "output_type": "stream",
          "name": "stdout",
          "text": [
            "Q: What is likely to have a better school cafeteria?\n",
            "O: high school /// canteen /// polytechnic /// large room /// all kinds of schools\n",
            "A:  large room room room room room room room room room\n",
            "\n",
            "\n",
            "Model: large room room room room room room room room room and Actual Answer: polytechnic\n",
            "Q: When someone has little knowledge and is judging someone they are considered what?\n",
            "O: objectivity /// knowing yourself /// experience /// ignorance /// introduction\n",
            "A:  objectivity and experienceivity /// objectivity\n",
            "\n",
            "\n",
            "Model: objectivity and experienceivity and Actual Answer: ignorance\n"
          ]
        },
        {
          "output_type": "stream",
          "name": "stderr",
          "text": [
            " 90%|████████▉ | 1097/1221 [03:27<00:23,  5.39it/s]"
          ]
        },
        {
          "output_type": "stream",
          "name": "stdout",
          "text": [
            "Q: She wanted to get in shape, but she couldn't stay focused on the hour long what?\n",
            "O: sweating /// excercise /// work out /// video /// swim\n",
            "A:  video game game game game /// treadmill exercise exercise exercise\n",
            "\n",
            "\n",
            "Model: video game game game game and Actual Answer: work out\n",
            "Q: When you do something and have fun, its something you?\n",
            "O: spontaneous /// stop working /// pay for /// do like /// do enjoy\n",
            "A:  do like like like like like like like like like\n",
            "\n",
            "\n",
            "Model: do like like like like like like like like like and Actual Answer: do enjoy\n"
          ]
        },
        {
          "output_type": "stream",
          "name": "stderr",
          "text": [
            " 90%|█████████ | 1099/1221 [03:27<00:23,  5.30it/s]"
          ]
        },
        {
          "output_type": "stream",
          "name": "stdout",
          "text": [
            "Q: What is a salesman responsible to do at work?\n",
            "O: traveling to chicago /// get fired /// books /// sell products /// service account\n",
            "A:  travel to chicago chicago chicago chicago\n",
            "\n",
            "\n",
            "Model: travel to chicago chicago chicago chicago and Actual Answer: sell products\n",
            "Q: How does going jogging generally affect one's self esteem?\n",
            "O: feel better /// feel pride /// sweating /// ocean /// arthritis\n",
            "A:  feeling pride and pride in pride in pride in pride\n",
            "\n",
            "\n",
            "Model: feeling pride and pride in pride in pride in pride and Actual Answer: feel better\n"
          ]
        },
        {
          "output_type": "stream",
          "name": "stderr",
          "text": [
            " 90%|█████████ | 1101/1221 [03:28<00:23,  5.16it/s]"
          ]
        },
        {
          "output_type": "stream",
          "name": "stdout",
          "text": [
            "Q: Where would you find people standing in a line outside?\n",
            "O: bus depot /// end of line /// opera /// neighbor's house /// meeting\n",
            "A:  bus depot location in line station station station station station\n",
            "\n",
            "\n",
            "Model: bus depot location in line station station station station station and Actual Answer: bus depot\n",
            "Q: If you are committing perjury you have done what while under oath?\n",
            "O: crime /// disrespect judge /// embarrassment /// lie /// indictment\n",
            "A:  dishon judge judge judge judge judge judge judge judge judge\n",
            "\n",
            "\n",
            "Model: dishon judge judge judge judge judge judge judge judge judge and Actual Answer: lie\n"
          ]
        },
        {
          "output_type": "stream",
          "name": "stderr",
          "text": [
            " 90%|█████████ | 1103/1221 [03:28<00:22,  5.17it/s]"
          ]
        },
        {
          "output_type": "stream",
          "name": "stdout",
          "text": [
            "Q: Where can you find the meaning of \"ficus\"?\n",
            "O: dictionary /// apartment /// libary /// middle east /// arboretum\n",
            "A:  dictionary dictionary dictionary /// dictionary /// dictionary\n",
            "\n",
            "\n",
            "Model: dictionary dictionary dictionary and Actual Answer: dictionary\n",
            "Q: When are people buying products more?\n",
            "O: debt /// economic boom /// being able to use /// disagreements /// trading\n",
            "A:  economic boom and being able to use it more?\n",
            "\n",
            "\n",
            "Model: economic boom and being able to use it more? and Actual Answer: economic boom\n"
          ]
        },
        {
          "output_type": "stream",
          "name": "stderr",
          "text": [
            " 90%|█████████ | 1105/1221 [03:28<00:22,  5.15it/s]"
          ]
        },
        {
          "output_type": "stream",
          "name": "stdout",
          "text": [
            "Q: The buildings were intended to not have residential kitchens in them, what were they designed for?\n",
            "O: large city /// small /// eat cake /// university /// town\n",
            "A:  small city town town town town town town town town\n",
            "\n",
            "\n",
            "Model: small city town town town town town town town town and Actual Answer: university\n",
            "Q: Animals come in all types, some fly thanks to their lightweight hollow what?\n",
            "O: tails /// bones /// eyes /// heads /// bodies\n",
            "A:  tails /// tails /// tails\n",
            "\n",
            "\n",
            "Model: tails and Actual Answer: bones\n"
          ]
        },
        {
          "output_type": "stream",
          "name": "stderr",
          "text": [
            " 91%|█████████ | 1107/1221 [03:29<00:21,  5.21it/s]"
          ]
        },
        {
          "output_type": "stream",
          "name": "stdout",
          "text": [
            "Q: The child felt like it was all pretend, he didn't understand what?\n",
            "O: people believe /// daydreams /// transcendentalism /// laughter /// religion\n",
            "A:  people believe in god and believe in god and believe\n",
            "\n",
            "\n",
            "Model: people believe in god and believe in god and believe and Actual Answer: religion\n",
            "Q: Where is a lake likely to be glacial?\n",
            "O: michigan /// new york /// new york /// mountains /// countryside\n",
            "A:  mountains mountains mountains mountains mountains mountains mountains mountains mountains mountains\n",
            "\n",
            "\n",
            "Model: mountains mountains mountains mountains mountains mountains mountains mountains mountains mountains and Actual Answer: mountains\n"
          ]
        },
        {
          "output_type": "stream",
          "name": "stderr",
          "text": [
            " 91%|█████████ | 1109/1221 [03:29<00:21,  5.26it/s]"
          ]
        },
        {
          "output_type": "stream",
          "name": "stdout",
          "text": [
            "Q: They needed grape juice for their party, they went to buy it and other snacks at the what?\n",
            "O: field /// restaurant /// salad /// market /// food store\n",
            "A:  market store store store store store store store store store\n",
            "\n",
            "\n",
            "Model: market store store store store store store store store store and Actual Answer: food store\n",
            "Q: Why do some people get passports and go to different locations?\n",
            "O: believe in god /// smoke marijuana /// desire to travel /// use weapons /// throw away\n",
            "A:  use weapons and use weapons and use weapons and use\n",
            "\n",
            "\n",
            "Model: use weapons and use weapons and use weapons and use and Actual Answer: desire to travel\n"
          ]
        },
        {
          "output_type": "stream",
          "name": "stderr",
          "text": [
            " 91%|█████████ | 1111/1221 [03:30<00:20,  5.32it/s]"
          ]
        },
        {
          "output_type": "stream",
          "name": "stdout",
          "text": [
            "Q: Where do apples form on an apple tree?\n",
            "O: south africa /// sunshine /// new york /// bloom /// trunk\n",
            "A:  south africa area area area area area area area\n",
            "\n",
            "\n",
            "Model: south africa area area area area area area area and Actual Answer: bloom\n",
            "Q: Where areas are there likely to be many nightclubs?\n",
            "O: manhattan /// drink and dance /// alcohol /// major city /// downtown area\n",
            "A:  downtown area area area area area area area area area\n",
            "\n",
            "\n",
            "Model: downtown area area area area area area area area area and Actual Answer: major city\n"
          ]
        },
        {
          "output_type": "stream",
          "name": "stderr",
          "text": [
            " 91%|█████████ | 1113/1221 [03:30<00:20,  5.38it/s]"
          ]
        },
        {
          "output_type": "stream",
          "name": "stdout",
          "text": [
            "Q: What can machines do that humans cannot?\n",
            "O: fail to work /// perform work /// answering questions /// see work /// fly\n",
            "A:  perform work work work work work work work work work\n",
            "\n",
            "\n",
            "Model: perform work work work work work work work work work and Actual Answer: fly\n",
            "Q: What does someone stop doing when being dead?\n",
            "O: moving /// working /// breathing /// alive /// deadworks\n",
            "A:  breathing works well and breathing well and breathing well and\n",
            "\n",
            "\n",
            "Model: breathing works well and breathing well and breathing well and and Actual Answer: breathing\n"
          ]
        },
        {
          "output_type": "stream",
          "name": "stderr",
          "text": [
            " 91%|█████████▏| 1115/1221 [03:30<00:19,  5.42it/s]"
          ]
        },
        {
          "output_type": "stream",
          "name": "stdout",
          "text": [
            "Q: The place where my linen closet is really needs repainting a light color as it only has one overhead light.\n",
            "O: house /// home /// pool house /// hallway /// bedroom\n",
            "A:  house house house house house house house house house house\n",
            "\n",
            "\n",
            "Model: house house house house house house house house house house and Actual Answer: hallway\n",
            "Q: Punk rock music is an important part of what action sport?\n",
            "O: skate /// listen /// opera /// opera /// relax\n",
            "A:  opera /// opera /// opera\n",
            "\n",
            "\n",
            "Model: opera and Actual Answer: skate\n"
          ]
        },
        {
          "output_type": "stream",
          "name": "stderr",
          "text": [
            " 91%|█████████▏| 1117/1221 [03:31<00:19,  5.44it/s]"
          ]
        },
        {
          "output_type": "stream",
          "name": "stdout",
          "text": [
            "Q: Where might a mouse be found to make it country?\n",
            "O: kitchen /// cook /// computer lab /// old barn /// research laboratory\n",
            "A:  old barns barns barns barns barn\n",
            "\n",
            "\n",
            "Model: old barns barns barns barns barn and Actual Answer: old barn\n",
            "Q: Where is a bird likely to make it's home?\n",
            "O: forest /// nest /// roof /// leaves /// sky\n",
            "A:  nest tree trunk tree trunk tree trunk tree trunk tree\n",
            "\n",
            "\n",
            "Model: nest tree trunk tree trunk tree trunk tree trunk tree and Actual Answer: forest\n"
          ]
        },
        {
          "output_type": "stream",
          "name": "stderr",
          "text": [
            " 92%|█████████▏| 1119/1221 [03:31<00:19,  5.35it/s]"
          ]
        },
        {
          "output_type": "stream",
          "name": "stdout",
          "text": [
            "Q: When a person suffers from hunger early in the day what do they do?\n",
            "O: eat hamburger /// eat breakfast /// open fridge /// buy food /// cook dinner\n",
            "A:  eat breakfast before dinner before dinner before dinner before dinner\n",
            "\n",
            "\n",
            "Model: eat breakfast before dinner before dinner before dinner before dinner and Actual Answer: eat breakfast\n",
            "Q: How would you express information if you do not have a pen or pencil?\n",
            "O: may disagree /// close mouth /// write down /// talk /// eyes\n",
            "A:  close mouth /// write down\n",
            "\n",
            "\n",
            "Model: close mouth and Actual Answer: talk\n"
          ]
        },
        {
          "output_type": "stream",
          "name": "stderr",
          "text": [
            " 92%|█████████▏| 1121/1221 [03:31<00:19,  5.23it/s]"
          ]
        },
        {
          "output_type": "stream",
          "name": "stdout",
          "text": [
            "Q: What does everyone feel of monsters?\n",
            "O: looking for love /// afraid of /// good at /// make pet /// different\n",
            "A:  fear of being afraid of being afraid of being afraid\n",
            "\n",
            "\n",
            "Model: fear of being afraid of being afraid of being afraid and Actual Answer: afraid of\n",
            "Q: Why does someone want to examine thing closely?\n",
            "O: buy /// learn about /// buy /// complex /// interesting\n",
            "A:  learn about thing closely about thing closely.  learn\n",
            "\n",
            "\n",
            "Model: learn about thing closely about thing closely.  learn and Actual Answer: learn about\n"
          ]
        },
        {
          "output_type": "stream",
          "name": "stderr",
          "text": [
            " 92%|█████████▏| 1123/1221 [03:32<00:18,  5.17it/s]"
          ]
        },
        {
          "output_type": "stream",
          "name": "stdout",
          "text": [
            "Q: What does \tdrinking alcohol lead to?\n",
            "O: have fun /// intoxication /// vomiting /// drinking more alcohol /// nausea\n",
            "A:  vomiting more alcohol leads to vomit and vomiting more alcohol\n",
            "\n",
            "\n",
            "Model: vomiting more alcohol leads to vomit and vomiting more alcohol and Actual Answer: intoxication\n",
            "Q: Where would your hear a bass clarinet along side other wood wind instruments?\n",
            "O: opera house /// school band /// music store /// orchestra /// bathroom stall\n",
            "A:  music store stall stall stall stall stall stall /// music\n",
            "\n",
            "\n",
            "Model: music store stall stall stall stall stall stall and Actual Answer: orchestra\n"
          ]
        },
        {
          "output_type": "stream",
          "name": "stderr",
          "text": [
            " 92%|█████████▏| 1125/1221 [03:32<00:18,  5.13it/s]"
          ]
        },
        {
          "output_type": "stream",
          "name": "stdout",
          "text": [
            "Q: What is the opposite of a little of something?\n",
            "O: much /// plenty /// more /// big /// lot of\n",
            "A:  much more than enough to get out of something else\n",
            "\n",
            "\n",
            "Model: much more than enough to get out of something else and Actual Answer: lot of\n",
            "Q: The princess was pure, the evil wizard wished to do what to her?\n",
            "O: dirty /// tarnish /// corrupt /// contaminated /// applied\n",
            "A:  contaminate\n",
            "\n",
            "\n",
            "Model: contaminate and Actual Answer: corrupt\n"
          ]
        },
        {
          "output_type": "stream",
          "name": "stderr",
          "text": [
            " 92%|█████████▏| 1127/1221 [03:33<00:18,  5.16it/s]"
          ]
        },
        {
          "output_type": "stream",
          "name": "stdout",
          "text": [
            "Q: The piece of paper was worth a lot of money, it was an old Apple Inc what?\n",
            "O: notebook /// copy machine /// stock certificate /// ream /// thumb drive\n",
            "A:  stock certificate certificate certificate certificate certificate certificate certificate certificate certificate\n",
            "\n",
            "\n",
            "Model: stock certificate certificate certificate certificate certificate certificate certificate certificate certificate and Actual Answer: stock certificate\n",
            "Q: During the winter hunt he could hear every motion in the woods, this was because of the what of everything?\n",
            "O: being still /// silence /// stationary /// stillness /// standing still\n",
            "A:  stationary stillness stillness stillness stillness still\n",
            "\n",
            "\n",
            "Model: stationary stillness stillness stillness stillness still and Actual Answer: stillness\n"
          ]
        },
        {
          "output_type": "stream",
          "name": "stderr",
          "text": [
            " 92%|█████████▏| 1129/1221 [03:33<00:17,  5.21it/s]"
          ]
        },
        {
          "output_type": "stream",
          "name": "stdout",
          "text": [
            "Q: If a car-less person want to listen to talk radio in private, where might they listen to it?\n",
            "O: trunk /// bedroom /// diner /// space shuttle /// shop\n",
            "A:  diner diner diner diner diner diner diner diner diner diner\n",
            "\n",
            "\n",
            "Model: diner diner diner diner diner diner diner diner diner diner and Actual Answer: bedroom\n",
            "Q: Billy was an astronaut.  When he looked at the world from space, how did it look?\n",
            "O: diverse /// round /// square /// orange /// complicated\n",
            "A:  round\n",
            "\n",
            "\n",
            "Model: round and Actual Answer: round\n"
          ]
        },
        {
          "output_type": "stream",
          "name": "stderr",
          "text": [
            " 93%|█████████▎| 1131/1221 [03:33<00:17,  5.27it/s]"
          ]
        },
        {
          "output_type": "stream",
          "name": "stdout",
          "text": [
            "Q: Where is a good place to have a fireplace in a house?\n",
            "O: big house /// train /// cabin /// living room /// home\n",
            "A:  cabin cabin cabin cabin cabin cabin cabin cabin cabin cabin\n",
            "\n",
            "\n",
            "Model: cabin cabin cabin cabin cabin cabin cabin cabin cabin cabin and Actual Answer: living room\n",
            "Q: If you own a cat where is the last place you'd want to find it?\n",
            "O: trouble /// dog's mouth /// backyard /// nature /// home\n",
            "A:  backyard backyard backyard backyard backyard backyard backyard backyard backyard backyard\n",
            "\n",
            "\n",
            "Model: backyard backyard backyard backyard backyard backyard backyard backyard backyard backyard and Actual Answer: dog's mouth\n"
          ]
        },
        {
          "output_type": "stream",
          "name": "stderr",
          "text": [
            " 93%|█████████▎| 1133/1221 [03:34<00:16,  5.25it/s]"
          ]
        },
        {
          "output_type": "stream",
          "name": "stdout",
          "text": [
            "Q: Where would you find a kosher deli along side a number of different places to eat?\n",
            "O: los angeles /// food court /// new york city /// jewish community /// jewish neighborhoods\n",
            "A:  jewish community area of american community of americ\n",
            "\n",
            "\n",
            "Model: jewish community area of american community of americ and Actual Answer: food court\n",
            "Q: What do you do when you're going to market?\n",
            "O: buy food /// see other people /// buying vegetables /// buy a fat pig /// traveling\n",
            "A:  buy food and vegetables and vegetables and vegetables and vegetables\n",
            "\n",
            "\n",
            "Model: buy food and vegetables and vegetables and vegetables and vegetables and Actual Answer: buy food\n"
          ]
        },
        {
          "output_type": "stream",
          "name": "stderr",
          "text": [
            " 93%|█████████▎| 1135/1221 [03:34<00:16,  5.27it/s]"
          ]
        },
        {
          "output_type": "stream",
          "name": "stdout",
          "text": [
            "Q: She feared that she had cancer, but upon discovering truth that she hadn't, what was her attitude toward life?\n",
            "O: conclusion /// pain /// happiness /// relief /// boring\n",
            "A:  relief relief of life /// relief of life\n",
            "\n",
            "\n",
            "Model: relief relief of life and Actual Answer: happiness\n",
            "Q: What is the feeling of one having fun?\n",
            "O: smiling /// pleasure /// hurt /// injuries /// laughter\n",
            "A:  happiness while laughing while laughing while laughing while laughing while\n",
            "\n",
            "\n",
            "Model: happiness while laughing while laughing while laughing while laughing while and Actual Answer: pleasure\n"
          ]
        },
        {
          "output_type": "stream",
          "name": "stderr",
          "text": [
            " 93%|█████████▎| 1137/1221 [03:35<00:16,  5.23it/s]"
          ]
        },
        {
          "output_type": "stream",
          "name": "stdout",
          "text": [
            "Q: If I keep getting crumbs under my table, what should I put under it?\n",
            "O: conference /// neighbor's house /// rug /// net /// card room\n",
            "A:  rug room rug room room room room room room room\n",
            "\n",
            "\n",
            "Model: rug room rug room room room room room room room and Actual Answer: rug\n",
            "Q: Christians believe you will go to heaven if you're what?\n",
            "O: unable to work /// born again /// change of color /// dead /// no longer exist\n",
            "A:  born again and again until again exist again if you\n",
            "\n",
            "\n",
            "Model: born again and again until again exist again if you and Actual Answer: born again\n"
          ]
        },
        {
          "output_type": "stream",
          "name": "stderr",
          "text": [
            " 93%|█████████▎| 1139/1221 [03:35<00:15,  5.17it/s]"
          ]
        },
        {
          "output_type": "stream",
          "name": "stdout",
          "text": [
            "Q: James loved to surf but he wasn't good at it. He would always do what?\n",
            "O: wipe out /// enjoy yourself /// start fighting /// get wet /// drown\n",
            "A:  drown out yourself while fighting yourself while fighting yourself while\n",
            "\n",
            "\n",
            "Model: drown out yourself while fighting yourself while fighting yourself while and Actual Answer: wipe out\n",
            "Q: Sarah gave her brother a guy to her home.  While she was gone, he used it to do what?\n",
            "O: front door /// turn lock /// solution to problem /// install /// open doors\n",
            "A:  turn lock door /// turn lock door\n",
            "\n",
            "\n",
            "Model: turn lock door and Actual Answer: open doors\n"
          ]
        },
        {
          "output_type": "stream",
          "name": "stderr",
          "text": [
            " 93%|█████████▎| 1141/1221 [03:35<00:15,  5.21it/s]"
          ]
        },
        {
          "output_type": "stream",
          "name": "stdout",
          "text": [
            "Q: When did mammoth's live?\n",
            "O: boscage /// forest /// prehistory /// prehistoric times /// ancient times\n",
            "A:  prehistoric times /// prehistoric times /// prehistoric times\n",
            "\n",
            "\n",
            "Model: prehistoric times and Actual Answer: ancient times\n",
            "Q: After killing people, the murderer went to church after feeling what?\n",
            "O: murder /// remorse /// religious /// retaliation /// anguish\n",
            "A:  remorseful punishment for killing people /// remorse for killing\n",
            "\n",
            "\n",
            "Model: remorseful punishment for killing people and Actual Answer: remorse\n"
          ]
        },
        {
          "output_type": "stream",
          "name": "stderr",
          "text": [
            " 94%|█████████▎| 1143/1221 [03:36<00:14,  5.26it/s]"
          ]
        },
        {
          "output_type": "stream",
          "name": "stdout",
          "text": [
            "Q: What might result in an unsuccessful suicide attempt?\n",
            "O: die /// interruption /// bleed /// hatred /// dying\n",
            "A:  die from death from death from death from death from\n",
            "\n",
            "\n",
            "Model: die from death from death from death from death from and Actual Answer: interruption\n",
            "Q: What can happen if you are buying products that someone else does not want you to buy?\n",
            "O: joy /// disagreements /// agony /// pleasure /// owning\n",
            "A:  pleasure /// pleasure\n",
            "\n",
            "\n",
            "Model: pleasure and Actual Answer: disagreements\n"
          ]
        },
        {
          "output_type": "stream",
          "name": "stderr",
          "text": [
            " 94%|█████████▍| 1145/1221 [03:36<00:14,  5.28it/s]"
          ]
        },
        {
          "output_type": "stream",
          "name": "stdout",
          "text": [
            "Q: The child was getting many gifts for his birthday, his father reminded him to do what after opening each one?\n",
            "O: show appreciation /// asking for /// exchanging /// say thank /// smile\n",
            "A:  ask for each other for each other's appreciation for\n",
            "\n",
            "\n",
            "Model: ask for each other for each other's appreciation for and Actual Answer: say thank\n",
            "Q: Bob stands in the grass surrounded by trees and nature, where is Bob?\n",
            "O: rest area /// desert /// state park /// fairgrounds /// soccer game\n",
            "A:  rest area area area area area park park park park\n",
            "\n",
            "\n",
            "Model: rest area area area area area park park park park and Actual Answer: state park\n"
          ]
        },
        {
          "output_type": "stream",
          "name": "stderr",
          "text": [
            " 94%|█████████▍| 1147/1221 [03:36<00:13,  5.33it/s]"
          ]
        },
        {
          "output_type": "stream",
          "name": "stdout",
          "text": [
            "Q: Bart entered his horse into the contest.  Where did he do this?\n",
            "O: circus /// in kentucky /// western movie /// central park /// state fair\n",
            "A:  kentucky movie park park park park park park\n",
            "\n",
            "\n",
            "Model: kentucky movie park park park park park park and Actual Answer: state fair\n",
            "Q: From where does a snowflake form?\n",
            "O: cloud /// snow storm /// billow /// air /// snowstorm\n",
            "A:  snowstorm storm storm storm storm storm storm storm storm\n",
            "\n",
            "\n",
            "Model: snowstorm storm storm storm storm storm storm storm storm and Actual Answer: cloud\n"
          ]
        },
        {
          "output_type": "stream",
          "name": "stderr",
          "text": [
            " 94%|█████████▍| 1149/1221 [03:37<00:13,  5.37it/s]"
          ]
        },
        {
          "output_type": "stream",
          "name": "stdout",
          "text": [
            "Q: All the power tools like the drill used for fixing cars made for a very loud workplace where?\n",
            "O: basement /// work shop /// tool shed /// repair shop /// store room\n",
            "A:  basement basement basement basement basement basement basement basement basement basement\n",
            "\n",
            "\n",
            "Model: basement basement basement basement basement basement basement basement basement basement and Actual Answer: repair shop\n",
            "Q: Applying for a job can make someone feel what sort of emotion, even if they get it?\n",
            "O: working hard /// frustration /// rejection /// defeat /// stress\n",
            "A:  stress\n",
            "\n",
            "\n",
            "Model: stress and Actual Answer: stress\n"
          ]
        },
        {
          "output_type": "stream",
          "name": "stderr",
          "text": [
            " 94%|█████████▍| 1151/1221 [03:37<00:13,  5.34it/s]"
          ]
        },
        {
          "output_type": "stream",
          "name": "stdout",
          "text": [
            "Q: A farmer sees a weasel in the woods, where is the farmer?\n",
            "O: chicken coop /// beach /// fairytale /// great outdoors /// corn fields\n",
            "A:  fairytale area of america /// fairyt\n",
            "\n",
            "\n",
            "Model: fairytale area of america and Actual Answer: great outdoors\n",
            "Q: He picked up the perfect pebble, he planned to skip it across the entire small what?\n",
            "O: manual /// lake /// aquarium /// pond /// playground\n",
            "A:  pond pool pool pool pool pool pool pool pool pool\n",
            "\n",
            "\n",
            "Model: pond pool pool pool pool pool pool pool pool pool and Actual Answer: pond\n"
          ]
        },
        {
          "output_type": "stream",
          "name": "stderr",
          "text": [
            " 94%|█████████▍| 1153/1221 [03:38<00:12,  5.27it/s]"
          ]
        },
        {
          "output_type": "stream",
          "name": "stdout",
          "text": [
            "Q: Traveling from new place to new place is likely to be what?\n",
            "O: going somewhere /// exhilarating /// diarrhea /// relocation /// exhausting\n",
            "A:  going somewhere else to new place to new place to\n",
            "\n",
            "\n",
            "Model: going somewhere else to new place to new place to and Actual Answer: exhilarating\n",
            "Q: Turkey only has a small northern part of their country located in part of the what?\n",
            "O: middle east /// oven /// balkan peninsula /// provide meat /// asia minor\n",
            "A:  balkan peninsula peninsula peninsula peninsula peninsula peninsula peninsula peninsula\n",
            "\n",
            "\n",
            "Model: balkan peninsula peninsula peninsula peninsula peninsula peninsula peninsula peninsula and Actual Answer: balkan peninsula\n"
          ]
        },
        {
          "output_type": "stream",
          "name": "stderr",
          "text": [
            " 95%|█████████▍| 1155/1221 [03:38<00:12,  5.28it/s]"
          ]
        },
        {
          "output_type": "stream",
          "name": "stdout",
          "text": [
            "Q: Where might someone store a reusable shopping bag?\n",
            "O: supermarket /// home /// mart /// obesity /// closet\n",
            "A:  home gymnasium /// supermarket store basement basement basement\n",
            "\n",
            "\n",
            "Model: home gymnasium and Actual Answer: closet\n",
            "Q: How could you have fun by yourself with no one around you?\n",
            "O: fairgrounds /// watching television /// tired /// enjoyable /// friend's house\n",
            "A:  enjoying television show television show /// enjoying television show show\n",
            "\n",
            "\n",
            "Model: enjoying television show television show and Actual Answer: watching television\n"
          ]
        },
        {
          "output_type": "stream",
          "name": "stderr",
          "text": [
            " 95%|█████████▍| 1157/1221 [03:38<00:12,  5.27it/s]"
          ]
        },
        {
          "output_type": "stream",
          "name": "stdout",
          "text": [
            "Q: The potato might be the official vegetable of what?\n",
            "O: vegans /// kitchen cupboard /// restaurants /// chicken /// maryland\n",
            "A:  restaurant cupboard cupboard cupboard cupboard cup\n",
            "\n",
            "\n",
            "Model: restaurant cupboard cupboard cupboard cupboard cup and Actual Answer: maryland\n",
            "Q: Where is the sky most beautiful?\n",
            "O: planetarium /// outdoors /// atmosphere /// night /// photo\n",
            "A:  night sky sky sky sky sky sky sky sky sky\n",
            "\n",
            "\n",
            "Model: night sky sky sky sky sky sky sky sky sky and Actual Answer: outdoors\n"
          ]
        },
        {
          "output_type": "stream",
          "name": "stderr",
          "text": [
            " 95%|█████████▍| 1159/1221 [03:39<00:11,  5.21it/s]"
          ]
        },
        {
          "output_type": "stream",
          "name": "stdout",
          "text": [
            "Q: What type of fruit is easily broken in to sections?\n",
            "O: slide /// citrus /// band /// orchestra /// coconut\n",
            "A:  band orchestra band /// band band band band band band\n",
            "\n",
            "\n",
            "Model: band orchestra band and Actual Answer: citrus\n",
            "Q: Marathoners feel fatigued after running twenty six miles, but some that have pushed them self too hard might be prone to what?\n",
            "O: excruciating pain /// passing out /// death /// drunk /// exhaustion\n",
            "A:  exhaustion pain pain pain pain pain pain pain pain pain\n",
            "\n",
            "\n",
            "Model: exhaustion pain pain pain pain pain pain pain pain pain and Actual Answer: passing out\n"
          ]
        },
        {
          "output_type": "stream",
          "name": "stderr",
          "text": [
            " 95%|█████████▌| 1161/1221 [03:39<00:11,  5.20it/s]"
          ]
        },
        {
          "output_type": "stream",
          "name": "stdout",
          "text": [
            "Q: Billy liked driving cars.  He was good at it.  But he was rattled ever since his father experienced what?\n",
            "O: transportation /// pollution /// stress /// death /// go somewhere\n",
            "A:  stressors caused by pollution\n",
            "\n",
            "\n",
            "Model: stressors caused by pollution and Actual Answer: death\n",
            "Q: I am cold, what should I do to stay warm?\n",
            "O: stay in bed /// light fire /// freezer /// lay on ice /// spit\n",
            "A:  stay in bed and ice cold /// stay in bed\n",
            "\n",
            "\n",
            "Model: stay in bed and ice cold and Actual Answer: light fire\n"
          ]
        },
        {
          "output_type": "stream",
          "name": "stderr",
          "text": [
            " 95%|█████████▌| 1163/1221 [03:39<00:11,  5.13it/s]"
          ]
        },
        {
          "output_type": "stream",
          "name": "stdout",
          "text": [
            "Q: Copulating with the wrong partner may be ill advised, many diseases can be transferred that can cause different types of what?\n",
            "O: intense pleasure /// ejaculation /// period of rest /// enjoyment /// skin irritation\n",
            "A:  periods of restlessness of restlessness of restlessness\n",
            "\n",
            "\n",
            "Model: periods of restlessness of restlessness of restlessness and Actual Answer: skin irritation\n",
            "Q: What do audiences clap for?\n",
            "O: cinema /// theatre /// movies /// show /// hockey game\n",
            "A:  movie theatre movie theatre theatre theatre theatre theatre theatre theatre\n",
            "\n",
            "\n",
            "Model: movie theatre movie theatre theatre theatre theatre theatre theatre theatre and Actual Answer: show\n"
          ]
        },
        {
          "output_type": "stream",
          "name": "stderr",
          "text": [
            " 95%|█████████▌| 1165/1221 [03:40<00:10,  5.09it/s]"
          ]
        },
        {
          "output_type": "stream",
          "name": "stdout",
          "text": [
            "Q: Where would you get a balalaika if you do not have one?\n",
            "O: orchestra /// music store /// buy music /// make music /// symphony\n",
            "A:  symphony store music store music store music store music\n",
            "\n",
            "\n",
            "Model: symphony store music store music store music store music and Actual Answer: music store\n",
            "Q: Hoping for a beautiful day, what did the clouds do that disappointed everyone?\n",
            "O: homely /// overcast /// hideous /// overrated /// misshapen\n",
            "A:  misshapened upcasty upcasty\n",
            "\n",
            "\n",
            "Model: misshapened upcasty upcasty and Actual Answer: overcast\n"
          ]
        },
        {
          "output_type": "stream",
          "name": "stderr",
          "text": [
            " 96%|█████████▌| 1167/1221 [03:40<00:10,  5.09it/s]"
          ]
        },
        {
          "output_type": "stream",
          "name": "stdout",
          "text": [
            "Q: What type of demands to the unions need to be making to go off strike?\n",
            "O: reasonable /// more money /// not go to work /// return to work /// union\n",
            "A:  union contract to work to work to work to work\n",
            "\n",
            "\n",
            "Model: union contract to work to work to work to work and Actual Answer: reasonable\n",
            "Q: The landscaper was carefully arching stones together, he was creating an elaborate what over the creek?\n",
            "O: park /// made from rocks /// balloon /// field /// bridge\n",
            "A:  balloon balloon balloon balloon /// balloon\n",
            "\n",
            "\n",
            "Model: balloon balloon balloon balloon and Actual Answer: bridge\n"
          ]
        },
        {
          "output_type": "stream",
          "name": "stderr",
          "text": [
            " 96%|█████████▌| 1169/1221 [03:41<00:10,  5.13it/s]"
          ]
        },
        {
          "output_type": "stream",
          "name": "stdout",
          "text": [
            "Q: John was not happy with his marriage. He and his wife drifted apart.     All and all, recent turns could be described as what?\n",
            "O: inappropriate /// sadness /// unsatisfied /// unfortunate /// disenchanted\n",
            "A:  disenchantedensicalensicalensicalensicalensicalensicalensical\n",
            "\n",
            "\n",
            "Model: disenchantedensicalensicalensicalensicalensicalensicalensical and Actual Answer: unfortunate\n",
            "Q: The poor girls needed a light to see, what was the relationship between that light and finishing her homework?\n",
            "O: darkness /// cumbersome /// obesity /// forceful /// crucial\n",
            "A:  forceful forceful forceful forceful forceful forceful forceful forceful forceful forceful\n",
            "\n",
            "\n",
            "Model: forceful forceful forceful forceful forceful forceful forceful forceful forceful forceful and Actual Answer: crucial\n"
          ]
        },
        {
          "output_type": "stream",
          "name": "stderr",
          "text": [
            " 96%|█████████▌| 1171/1221 [03:41<00:09,  5.13it/s]"
          ]
        },
        {
          "output_type": "stream",
          "name": "stdout",
          "text": [
            "Q: Where would you find a ticket booth and see a concert?\n",
            "O: clerk /// indoors /// movie theater /// venue /// auditorium\n",
            "A:  auditorium auditorium auditorium auditorium auditorium\n",
            "\n",
            "\n",
            "Model: auditorium auditorium auditorium auditorium auditorium and Actual Answer: venue\n",
            "Q: Who is not famous for a superhighway with no speed limit?\n",
            "O: europe /// germany /// industrialized country /// city /// america\n",
            "A:  america /// america /// america\n",
            "\n",
            "\n",
            "Model: america and Actual Answer: america\n"
          ]
        },
        {
          "output_type": "stream",
          "name": "stderr",
          "text": [
            " 96%|█████████▌| 1173/1221 [03:41<00:09,  5.12it/s]"
          ]
        },
        {
          "output_type": "stream",
          "name": "stdout",
          "text": [
            "Q: The low trickle of water revealed a stone, where was the stone found?\n",
            "O: ocean /// gallbladder /// driveway /// river bed /// creek bed\n",
            "A:  gallbladder bed bed bed bed bed bed bed\n",
            "\n",
            "\n",
            "Model: gallbladder bed bed bed bed bed bed bed and Actual Answer: creek bed\n",
            "Q: Where is the closest place from where you could borrow salt?\n",
            "O: ocean water /// table /// shaker /// neighbor's house /// lake\n",
            "A:  neighbor's house house house house house house house house\n",
            "\n",
            "\n",
            "Model: neighbor's house house house house house house house house and Actual Answer: neighbor's house\n"
          ]
        },
        {
          "output_type": "stream",
          "name": "stderr",
          "text": [
            " 96%|█████████▌| 1175/1221 [03:42<00:09,  5.08it/s]"
          ]
        },
        {
          "output_type": "stream",
          "name": "stdout",
          "text": [
            "Q: No matter what date you put on it, we all know the universe to be what?\n",
            "O: very old /// infiniverse /// getting younger /// infinite /// real\n",
            "A:  infinite universe to be what?  infinite universe to\n",
            "\n",
            "\n",
            "Model: infinite universe to be what?  infinite universe to and Actual Answer: very old\n",
            "Q: A meteor travels through galaxies which are a part of what?\n",
            "O: republic of ireland /// sky /// orbit /// universe /// school\n",
            "A:  universe of ireland /// universe of ireland\n",
            "\n",
            "\n",
            "Model: universe of ireland and Actual Answer: universe\n"
          ]
        },
        {
          "output_type": "stream",
          "name": "stderr",
          "text": [
            " 96%|█████████▋| 1177/1221 [03:42<00:08,  5.16it/s]"
          ]
        },
        {
          "output_type": "stream",
          "name": "stdout",
          "text": [
            "Q: What is a person considered a bully known for?\n",
            "O: ridiculous /// false information /// made fun of /// brain tumor /// bull rider\n",
            "A:  bull rider rider rider tyr rider tyr rider tyr rider\n",
            "\n",
            "\n",
            "Model: bull rider rider rider tyr rider tyr rider tyr rider and Actual Answer: made fun of\n",
            "Q: She had an interest in the man, what did she want to do with him?\n",
            "O: see particular program /// see exhibits /// see people play game /// have conversation /// watch film\n",
            "A:  see exhibits\n",
            "\n",
            "\n",
            "Model: see exhibits and Actual Answer: have conversation\n"
          ]
        },
        {
          "output_type": "stream",
          "name": "stderr",
          "text": [
            " 97%|█████████▋| 1179/1221 [03:43<00:08,  5.19it/s]"
          ]
        },
        {
          "output_type": "stream",
          "name": "stdout",
          "text": [
            "Q: Where is a drug kept in a home bathroom?\n",
            "O: nursery /// ghetto /// cupboard /// pharmacy /// medicine cabinet\n",
            "A:  pharmacy cabinet /// pharmacy cabinet\n",
            "\n",
            "\n",
            "Model: pharmacy cabinet and Actual Answer: medicine cabinet\n",
            "Q: When cooking sheep meat a lot of people might want to be well?\n",
            "O: ram /// lamb /// done /// ram /// wolf\n",
            "A:  ram  ram  ram\n",
            "\n",
            "\n",
            "Model: ram  ram  ram and Actual Answer: done\n"
          ]
        },
        {
          "output_type": "stream",
          "name": "stderr",
          "text": [
            " 97%|█████████▋| 1181/1221 [03:43<00:07,  5.17it/s]"
          ]
        },
        {
          "output_type": "stream",
          "name": "stdout",
          "text": [
            "Q: Where would you sit in a chair while working toward an advanced degree?\n",
            "O: aeroport /// church /// furniture store /// university /// living room\n",
            "A:  university building building building building building building building building building\n",
            "\n",
            "\n",
            "Model: university building building building building building building building building building and Actual Answer: university\n",
            "Q: Farm land makes use of what?\n",
            "O: countryside /// michigan /// north dakota /// farming areas /// illinois\n",
            "A:  countryside area of michigan area of mich\n",
            "\n",
            "\n",
            "Model: countryside area of michigan area of mich and Actual Answer: farming areas\n"
          ]
        },
        {
          "output_type": "stream",
          "name": "stderr",
          "text": [
            " 97%|█████████▋| 1183/1221 [03:43<00:07,  5.16it/s]"
          ]
        },
        {
          "output_type": "stream",
          "name": "stdout",
          "text": [
            "Q: A good interview after applying for a job may cause you to feel what?\n",
            "O: offer /// income /// rejection /// hostile /// hope\n",
            "A:  rejection rejection rejection rejection rejection rejection rejection rejection rejection rejection\n",
            "\n",
            "\n",
            "Model: rejection rejection rejection rejection rejection rejection rejection rejection rejection rejection and Actual Answer: hope\n",
            "Q: Computers have allowed everybody to answer questions they have quickly, but still we seem to be getting duller despite access to this what?\n",
            "O: economic boom /// advance knowledge /// produce sound /// teach /// follow instructions\n",
            "A:  advance knowledge of knowledge of knowledge of knowledge of knowledge\n",
            "\n",
            "\n",
            "Model: advance knowledge of knowledge of knowledge of knowledge of knowledge and Actual Answer: advance knowledge\n"
          ]
        },
        {
          "output_type": "stream",
          "name": "stderr",
          "text": [
            " 97%|█████████▋| 1185/1221 [03:44<00:07,  5.13it/s]"
          ]
        },
        {
          "output_type": "stream",
          "name": "stdout",
          "text": [
            "Q: There was a long cottage somewhere.  People thought it was haunted.  It was overgrown, there was nothing near it.  It's was far into the what?\n",
            "O: mountains /// countryside /// train /// painting /// village\n",
            "A:  countryside village village village village village village village village village\n",
            "\n",
            "\n",
            "Model: countryside village village village village village village village village village and Actual Answer: countryside\n",
            "Q: Where is knight always portrayed as a hero?\n",
            "O: middle ages /// chess board /// kids story /// fairy tale /// castle\n",
            "A:  fairy tale tale tale castle castle castle castle castle castle\n",
            "\n",
            "\n",
            "Model: fairy tale tale tale castle castle castle castle castle castle and Actual Answer: fairy tale\n"
          ]
        },
        {
          "output_type": "stream",
          "name": "stderr",
          "text": [
            " 97%|█████████▋| 1187/1221 [03:44<00:06,  5.23it/s]"
          ]
        },
        {
          "output_type": "stream",
          "name": "stdout",
          "text": [
            "Q: James is carrying a duffel bag with him because he doesn't have a vehicle of his own and needs a bag to carry his things in while he uses what?\n",
            "O: library /// transit /// bus station /// army barracks /// locker room\n",
            "A:  transit station station station station station station station station station\n",
            "\n",
            "\n",
            "Model: transit station station station station station station station station station and Actual Answer: transit\n",
            "Q: What would you need if you want to smoke?\n",
            "O: you're stupid /// kill yourself /// roll joint /// cigarette /// lighter fluid.\n",
            "A:  you're stupid and stupid and stupid.  you\n",
            "\n",
            "\n",
            "Model: you're stupid and stupid and stupid.  you and Actual Answer: cigarette\n"
          ]
        },
        {
          "output_type": "stream",
          "name": "stderr",
          "text": [
            " 97%|█████████▋| 1189/1221 [03:45<00:06,  5.29it/s]"
          ]
        },
        {
          "output_type": "stream",
          "name": "stdout",
          "text": [
            "Q: James decided that competing was the right choice.   Not competing has a defined outcome, but if he competes then what could happen?\n",
            "O: might win /// perform better /// enemies /// winners and losers /// lose\n",
            "A:  lose money and losers and losers and losers\n",
            "\n",
            "\n",
            "Model: lose money and losers and losers and losers and Actual Answer: might win\n",
            "Q: What could you use to get to some airplanes?\n",
            "O: taxi /// carry people /// car /// stall /// crash\n",
            "A:  taxi shuttle shuttle shuttle shuttle shuttle shuttle shuttle shuttle shuttle\n",
            "\n",
            "\n",
            "Model: taxi shuttle shuttle shuttle shuttle shuttle shuttle shuttle shuttle shuttle and Actual Answer: taxi\n"
          ]
        },
        {
          "output_type": "stream",
          "name": "stderr",
          "text": [
            " 98%|█████████▊| 1191/1221 [03:45<00:05,  5.28it/s]"
          ]
        },
        {
          "output_type": "stream",
          "name": "stdout",
          "text": [
            "Q: What happens when driving?\n",
            "O: lack of fuel /// paint scratching /// wheels turning /// tire wear /// traffic accident\n",
            "A:  traffic accident caused by traffic accident caused by traffic accident\n",
            "\n",
            "\n",
            "Model: traffic accident caused by traffic accident caused by traffic accident and Actual Answer: wheels turning\n",
            "Q: What are our bodies doing after having food?\n",
            "O: falling down /// digesting /// gas /// weight gain /// not hungry\n",
            "A:  digesting food while eating food while eating food while\n",
            "\n",
            "\n",
            "Model: digesting food while eating food while eating food while and Actual Answer: digesting\n"
          ]
        },
        {
          "output_type": "stream",
          "name": "stderr",
          "text": [
            " 98%|█████████▊| 1193/1221 [03:45<00:05,  5.28it/s]"
          ]
        },
        {
          "output_type": "stream",
          "name": "stdout",
          "text": [
            "Q: Why would one try to avoid work?\n",
            "O: making money /// leave home /// success /// malaise /// bad mood\n",
            "A:  bad mood mood mood mood mood mood mood mood mood\n",
            "\n",
            "\n",
            "Model: bad mood mood mood mood mood mood mood mood mood and Actual Answer: malaise\n",
            "Q: What do you do in order to fly in airplane?\n",
            "O: buy tickets /// passenger /// read /// add gas /// run through checklists\n",
            "A:  run through checklists and checklists and checklists\n",
            "\n",
            "\n",
            "Model: run through checklists and checklists and checklists and Actual Answer: buy tickets\n"
          ]
        },
        {
          "output_type": "stream",
          "name": "stderr",
          "text": [
            " 98%|█████████▊| 1195/1221 [03:46<00:04,  5.30it/s]"
          ]
        },
        {
          "output_type": "stream",
          "name": "stdout",
          "text": [
            "Q: What is another name for the color of the fur of a dog with light colored fur?\n",
            "O: fair /// basket /// dog hair /// game /// sun\n",
            "A:  fair basket of fur /// fair basket of fur\n",
            "\n",
            "\n",
            "Model: fair basket of fur and Actual Answer: fair\n",
            "Q: Sally was bored because she didn't like the junk that was on what?\n",
            "O: drawer /// garage /// caddy /// bed /// television\n",
            "A:  bedside drawer drawer drawer drawer drawer drawer drawer drawer\n",
            "\n",
            "\n",
            "Model: bedside drawer drawer drawer drawer drawer drawer drawer drawer and Actual Answer: television\n"
          ]
        },
        {
          "output_type": "stream",
          "name": "stderr",
          "text": [
            " 98%|█████████▊| 1197/1221 [03:46<00:04,  5.23it/s]"
          ]
        },
        {
          "output_type": "stream",
          "name": "stdout",
          "text": [
            "Q: The lion sensed his competitor was timid, so what attitude did the lion take?\n",
            "O: reckless /// bellicose /// defensive /// aggressive /// dauntless\n",
            "A:  defensive stance against opponent's stance against opponent's stance\n",
            "\n",
            "\n",
            "Model: defensive stance against opponent's stance against opponent's stance and Actual Answer: aggressive\n",
            "Q: John felt a snake slither over him as he rested.  He was afraid to raise his covers for fear of startling it.  Where might he be?\n",
            "O: pet shops /// oklahoma /// basement /// bedroom /// dreams\n",
            "A:  pet shops basement basement basement basement basement basement basement basement\n",
            "\n",
            "\n",
            "Model: pet shops basement basement basement basement basement basement basement basement and Actual Answer: bedroom\n"
          ]
        },
        {
          "output_type": "stream",
          "name": "stderr",
          "text": [
            " 98%|█████████▊| 1199/1221 [03:46<00:04,  5.19it/s]"
          ]
        },
        {
          "output_type": "stream",
          "name": "stdout",
          "text": [
            "Q: Where can you find a place to eat in an urban area close to local nightlife?\n",
            "O: city /// downtown /// mall /// shopping center /// own house\n",
            "A:  downtown area mall area mall area mall area mall area\n",
            "\n",
            "\n",
            "Model: downtown area mall area mall area mall area mall area and Actual Answer: downtown\n",
            "Q: You have to a lot of thinking while studying a new subject, but it is how you gain what?\n",
            "O: fatigue /// depression /// best way /// weight /// knowledge\n",
            "A:  knowledge of new subject\n",
            "\n",
            "\n",
            "Model: knowledge of new subject and Actual Answer: knowledge\n"
          ]
        },
        {
          "output_type": "stream",
          "name": "stderr",
          "text": [
            " 98%|█████████▊| 1201/1221 [03:47<00:03,  5.27it/s]"
          ]
        },
        {
          "output_type": "stream",
          "name": "stdout",
          "text": [
            "Q: How will you communicate if you are far away from who you want to communicate with?\n",
            "O: think /// talk with people /// talk to people /// speak out /// send email\n",
            "A:  talk with people with people with people with people with\n",
            "\n",
            "\n",
            "Model: talk with people with people with people with people with and Actual Answer: send email\n",
            "Q: Why would you not trust your friends after chatting with friends?\n",
            "O: fever /// smoke /// laughing /// coughing /// lie\n",
            "A:  coughing cough cough cough cough cough cough cough cough cough\n",
            "\n",
            "\n",
            "Model: coughing cough cough cough cough cough cough cough cough cough and Actual Answer: lie\n"
          ]
        },
        {
          "output_type": "stream",
          "name": "stderr",
          "text": [
            " 99%|█████████▊| 1203/1221 [03:47<00:03,  5.30it/s]"
          ]
        },
        {
          "output_type": "stream",
          "name": "stdout",
          "text": [
            "Q: He came from old money and had a fortune, but he made new money making shrewd trades where?\n",
            "O: eat cake /// cookie /// stock market /// real estate /// treasure chest\n",
            "A:  stock market market market market market market market market market\n",
            "\n",
            "\n",
            "Model: stock market market market market market market market market market and Actual Answer: stock market\n",
            "Q: Animals make up a large part of the?\n",
            "O: carrying cargo /// favorite /// ecosystem /// nature /// ecology\n",
            "A:  ecology ecology ecology ecology ecology ecology ecology ecology ecology ecology\n",
            "\n",
            "\n",
            "Model: ecology ecology ecology ecology ecology ecology ecology ecology ecology ecology and Actual Answer: ecosystem\n"
          ]
        },
        {
          "output_type": "stream",
          "name": "stderr",
          "text": [
            " 99%|█████████▊| 1205/1221 [03:48<00:03,  5.25it/s]"
          ]
        },
        {
          "output_type": "stream",
          "name": "stdout",
          "text": [
            "Q: At a shop what can you buy to put your spare unused things?\n",
            "O: basement /// cardboard box /// ocean floor /// high school /// container\n",
            "A:  container container container container container container container container container container\n",
            "\n",
            "\n",
            "Model: container container container container container container container container container container and Actual Answer: container\n",
            "Q: A person with digestion issues eats a meat-filled breakfast, what does he feel?\n",
            "O: heartburn /// overeating /// happiness /// being satisfied /// gain energy\n",
            "A:  heartburning energy /// heartburning energy\n",
            "\n",
            "\n",
            "Model: heartburning energy and Actual Answer: heartburn\n"
          ]
        },
        {
          "output_type": "stream",
          "name": "stderr",
          "text": [
            " 99%|█████████▉| 1207/1221 [03:48<00:02,  5.24it/s]"
          ]
        },
        {
          "output_type": "stream",
          "name": "stdout",
          "text": [
            "Q: What is a prisoner sentenced to do?\n",
            "O: scape jail /// dream of freedom /// become a hairdresser /// attempt to escape /// do time\n",
            "A:  attempt to escape from prison sentence to escape from prison\n",
            "\n",
            "\n",
            "Model: attempt to escape from prison sentence to escape from prison and Actual Answer: do time\n",
            "Q: Jesse  enjoyed remembering the past because he helped him understand it.  And understanding the past helped him with doing what?\n",
            "O: phoning /// nostalgia /// writing down /// active /// being prepared\n",
            "A:  writing down\n",
            "\n",
            "\n",
            "Model: writing down and Actual Answer: being prepared\n"
          ]
        },
        {
          "output_type": "stream",
          "name": "stderr",
          "text": [
            " 99%|█████████▉| 1209/1221 [03:48<00:02,  5.17it/s]"
          ]
        },
        {
          "output_type": "stream",
          "name": "stdout",
          "text": [
            "Q: David watched some nesting birds using his binoculars while on vacation.  Where might David be?.\n",
            "O: sky /// vaccation /// forest /// countryside /// roof\n",
            "A:  countryside roof roof roof roof roof roof roof roof roof\n",
            "\n",
            "\n",
            "Model: countryside roof roof roof roof roof roof roof roof roof and Actual Answer: forest\n",
            "Q: Where would you find many varieties of plants including a rosebush?\n",
            "O: kew gardens /// garder /// backyard /// shop /// beautiful garden\n",
            "A:  garderererererer gardens area area\n",
            "\n",
            "\n",
            "Model: garderererererer gardens area area and Actual Answer: beautiful garden\n"
          ]
        },
        {
          "output_type": "stream",
          "name": "stderr",
          "text": [
            " 99%|█████████▉| 1211/1221 [03:49<00:01,  5.13it/s]"
          ]
        },
        {
          "output_type": "stream",
          "name": "stdout",
          "text": [
            "Q: If I did not have a rosebush, where would I get one?\n",
            "O: pot /// museum /// garden center /// formal garden /// backyard\n",
            "A:  formal garden center center center center center center center center\n",
            "\n",
            "\n",
            "Model: formal garden center center center center center center center center and Actual Answer: garden center\n",
            "Q: What does a person with a what likely do?\n",
            "O: feel important /// trust himself /// own house /// electrical circuit /// know what time\n",
            "A:  trust himself himself himself himself himself himself himself himself himself\n",
            "\n",
            "\n",
            "Model: trust himself himself himself himself himself himself himself himself himself and Actual Answer: know what time\n"
          ]
        },
        {
          "output_type": "stream",
          "name": "stderr",
          "text": [
            " 99%|█████████▉| 1213/1221 [03:49<00:01,  5.17it/s]"
          ]
        },
        {
          "output_type": "stream",
          "name": "stdout",
          "text": [
            "Q: What are cats often known for?\n",
            "O: whiskers /// sharp teeth /// purr /// four legs /// sharp claws\n",
            "A:  sharp claws are claws are often used to make a\n",
            "\n",
            "\n",
            "Model: sharp claws are claws are often used to make a and Actual Answer: sharp claws\n",
            "Q: As he looked out the window, he knew the landing was happening soon, and it made him nervous, but where would he be soon?\n",
            "O: apartment building /// disembark /// stairwell /// deplane /// airport\n",
            "A:  airport building building building building building building building building building\n",
            "\n",
            "\n",
            "Model: airport building building building building building building building building building and Actual Answer: airport\n"
          ]
        },
        {
          "output_type": "stream",
          "name": "stderr",
          "text": [
            "100%|█████████▉| 1215/1221 [03:49<00:01,  5.17it/s]"
          ]
        },
        {
          "output_type": "stream",
          "name": "stdout",
          "text": [
            "Q: Where can you find a dogs house?\n",
            "O: found outside /// faithful /// frightening /// cold /// four legs\n",
            "A:  faithful faithful faithful faithful faithful faithful faithful faithful faithful faithful\n",
            "\n",
            "\n",
            "Model: faithful faithful faithful faithful faithful faithful faithful faithful faithful faithful and Actual Answer: found outside\n",
            "Q: Tweed is a rare fabric in modern clothing, what brand should I look for when buying it?\n",
            "O: scotland /// brown /// fabric store /// clothing stores /// eddie bauer\n",
            "A:  clothing stores stores stores stores stores stores stores stores stores\n",
            "\n",
            "\n",
            "Model: clothing stores stores stores stores stores stores stores stores stores and Actual Answer: eddie bauer\n"
          ]
        },
        {
          "output_type": "stream",
          "name": "stderr",
          "text": [
            "100%|█████████▉| 1217/1221 [03:50<00:00,  5.15it/s]"
          ]
        },
        {
          "output_type": "stream",
          "name": "stdout",
          "text": [
            "Q: If you really wanted a grape, where would you go to get it?\n",
            "O: winery /// fruit stand /// field /// kitchen /// food\n",
            "A:  winery stand /// fruit stand\n",
            "\n",
            "\n",
            "Model: winery stand and Actual Answer: fruit stand\n",
            "Q: What would you do to a rock when climb up a cliff?\n",
            "O: grab /// look down /// throw /// falling /// may fall\n",
            "A:  fall down cliff down cliff down cliff down cliff down\n",
            "\n",
            "\n",
            "Model: fall down cliff down cliff down cliff down cliff down and Actual Answer: grab\n"
          ]
        },
        {
          "output_type": "stream",
          "name": "stderr",
          "text": [
            "100%|█████████▉| 1219/1221 [03:50<00:00,  5.07it/s]"
          ]
        },
        {
          "output_type": "stream",
          "name": "stdout",
          "text": [
            "Q: His compressor needed a new hose, where did he go?\n",
            "O: garden shed /// hardware store /// brothel /// garage /// greenhouse\n",
            "A:  hardware store store store store store store store store store\n",
            "\n",
            "\n",
            "Model: hardware store store store store store store store store store and Actual Answer: hardware store\n",
            "Q: The man closed his eyes as the music played, what effect did the music have?\n",
            "O: coma /// enjoyable /// soothing /// universal /// good or bad\n",
            "A:  soothing or bad or bad bad bad or bad or\n",
            "\n",
            "\n",
            "Model: soothing or bad or bad bad bad or bad or and Actual Answer: soothing\n"
          ]
        },
        {
          "output_type": "stream",
          "name": "stderr",
          "text": [
            "\r100%|█████████▉| 1220/1221 [03:50<00:00,  5.05it/s]"
          ]
        },
        {
          "output_type": "stream",
          "name": "stdout",
          "text": [
            "Q: Setting up framing, truss and beam are some of the first steps in what?\n",
            "O: new construction /// warehouse /// driving /// ceiling /// bridge\n",
            "A:  bridge bridge bridge bridge bridge bridge bridge bridge bridge bridge\n",
            "\n",
            "\n",
            "Model: bridge bridge bridge bridge bridge bridge bridge bridge bridge bridge and Actual Answer: new construction\n"
          ]
        },
        {
          "output_type": "stream",
          "name": "stderr",
          "text": [
            "100%|██████████| 1221/1221 [03:51<00:00,  5.28it/s]"
          ]
        },
        {
          "output_type": "stream",
          "name": "stdout",
          "text": [
            "Q: What is another name for a disk for storing information?\n",
            "O: computer store /// computer to store data /// computer hard drive /// cd player /// usb mouse\n",
            "A:  computer store data to store information to store information to\n",
            "\n",
            "\n",
            "Model: computer store data to store information to store information to and Actual Answer: computer hard drive\n",
            "Accuracy: 3.60%\n"
          ]
        },
        {
          "output_type": "stream",
          "name": "stderr",
          "text": [
            "\n"
          ]
        }
      ]
    },
    {
      "cell_type": "code",
      "source": [
        "model.eval()\n",
        "import torch\n",
        "# prompt = f\"Q: {question}\\nChoices:\\n\"\n",
        "#     for choice in choices:\n",
        "#         prompt += f\"- {choice}\\n\"\n",
        "#     prompt += \"Answer:\"\n",
        "q = \"What do people aim to do at work?\"\n",
        "options = ['complete job', 'learn from each other', 'kill animals', 'wear hats', 'talk to each other']\n",
        "options2 = ' /// '.join(options)\n",
        "from IPython.display import display, Math\n",
        "prompt = f\"Q: {q}\\nO: {options2}\\nA: \"\n",
        "inputs = tokenizer(prompt, return_tensors=\"pt\").to(base_model.device)\n",
        "\n",
        "with torch.no_grad():\n",
        "    outputs = model.generate(\n",
        "    input_ids=inputs[\"input_ids\"],\n",
        "    attention_mask=inputs[\"attention_mask\"],\n",
        "    max_new_tokens=10,\n",
        "    do_sample=False,\n",
        "    pad_token_id=tokenizer.eos_token_id,\n",
        "    eos_token_id=tokenizer.eos_token_id,\n",
        "    early_stopping=True,\n",
        "    num_beams=5,  # Optional: beam search for stronger outputs\n",
        "  )\n",
        "\n",
        "print(tokenizer.decode(outputs[0], skip_special_tokens=False))"
      ],
      "metadata": {
        "colab": {
          "base_uri": "https://localhost:8080/"
        },
        "id": "jh5lyEeTOz40",
        "outputId": "44d38104-c723-477a-c7fa-1b6d9fdf524b"
      },
      "execution_count": 14,
      "outputs": [
        {
          "output_type": "stream",
          "name": "stdout",
          "text": [
            "Q: What do people aim to do at work?\n",
            "O: complete job /// learn from each other /// kill animals /// wear hats /// talk to each other\n",
            "A:  learn from each other, learn from each other,\n"
          ]
        }
      ]
    },
    {
      "cell_type": "code",
      "source": [
        "import math\n",
        "from transformers import Trainer, TrainingArguments\n",
        "\n",
        "eval_results = trainer.evaluate(eval_dataset=tokenized_eval)\n",
        "print(f\"Perplexity: {math.exp(eval_results['eval_loss']):.2f}\")"
      ],
      "metadata": {
        "id": "xwM6oaMTO2Fk",
        "colab": {
          "base_uri": "https://localhost:8080/",
          "height": 54
        },
        "outputId": "adb2bb2c-2bcc-4342-91db-f6b652fd0877"
      },
      "execution_count": 15,
      "outputs": [
        {
          "output_type": "display_data",
          "data": {
            "text/plain": [
              "<IPython.core.display.HTML object>"
            ],
            "text/html": [
              "\n",
              "    <div>\n",
              "      \n",
              "      <progress value='153' max='153' style='width:300px; height:20px; vertical-align: middle;'></progress>\n",
              "      [153/153 00:03]\n",
              "    </div>\n",
              "    "
            ]
          },
          "metadata": {}
        },
        {
          "output_type": "stream",
          "name": "stdout",
          "text": [
            "Perplexity: 14.31\n"
          ]
        }
      ]
    }
  ]
}