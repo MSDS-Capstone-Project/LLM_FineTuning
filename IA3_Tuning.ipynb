{
  "cells": [
    {
      "cell_type": "code",
      "execution_count": 61,
      "id": "0ab179f9",
      "metadata": {
        "colab": {
          "base_uri": "https://localhost:8080/"
        },
        "id": "0ab179f9",
        "outputId": "8514afe0-3825-4f65-9c4b-6e877d195a99"
      },
      "outputs": [
        {
          "output_type": "stream",
          "name": "stdout",
          "text": [
            "Dataset({\n",
            "    features: ['id', 'question', 'question_concept', 'choices', 'answerKey'],\n",
            "    num_rows: 9741\n",
            "})\n"
          ]
        }
      ],
      "source": [
        "### Loading the Dataset\n",
        "\n",
        "try: from datasets import load_dataset\n",
        "except:\n",
        "    !pip install datasets\n",
        "    from datasets import load_dataset\n",
        "\n",
        "\n",
        "# dataset = load_dataset(\"nvidia/OpenMathInstruct-2\", split = \"train_1M\")\n",
        "dataset = load_dataset(\"commonsense_qa\")\n",
        "# dataset_small = dataset.select(range(10000))\n",
        "# dataset_split = dataset_small.train_test_split(test_size=0.1, seed=42)\n",
        "# train_data, eval_data = dataset_split[\"train\"], dataset_split[\"test\"]\n",
        "train_data, eval_data = dataset[\"train\"], dataset[\"validation\"]\n",
        "\n",
        "print(train_data)"
      ]
    },
    {
      "cell_type": "code",
      "execution_count": 62,
      "id": "E7Sda7pG9tVN",
      "metadata": {
        "colab": {
          "base_uri": "https://localhost:8080/",
          "height": 379
        },
        "id": "E7Sda7pG9tVN",
        "outputId": "f085a4ee-ddf4-4e9f-a295-8ddd659174b9"
      },
      "outputs": [
        {
          "output_type": "execute_result",
          "data": {
            "text/plain": [
              "                                 id  \\\n",
              "0  1afa02df02c908a558b4036e80242fac   \n",
              "1  a7ab086045575bb497933726e4e6ad28   \n",
              "2  b8c0a4703079cf661d7261a60a1bcbff   \n",
              "3  e68fb2448fd74e402aae9982aa76e527   \n",
              "4  2435de612dd69f2012b9e40d6af4ce38   \n",
              "\n",
              "                                            question question_concept  \\\n",
              "0  A revolving door is convenient for two directi...   revolving door   \n",
              "1                  What do people aim to do at work?           people   \n",
              "2  Where would you find magazines along side many...        magazines   \n",
              "3         Where are  you likely to find a hamburger?        hamburger   \n",
              "4  James was looking for a good place to buy farm...         farmland   \n",
              "\n",
              "                                             choices answerKey  \n",
              "0  {'label': ['A', 'B', 'C', 'D', 'E'], 'text': [...         A  \n",
              "1  {'label': ['A', 'B', 'C', 'D', 'E'], 'text': [...         A  \n",
              "2  {'label': ['A', 'B', 'C', 'D', 'E'], 'text': [...         B  \n",
              "3  {'label': ['A', 'B', 'C', 'D', 'E'], 'text': [...         A  \n",
              "4  {'label': ['A', 'B', 'C', 'D', 'E'], 'text': [...         A  "
            ],
            "text/html": [
              "\n",
              "  <div id=\"df-139d6478-5846-4cd9-9fc4-8afa8c43c6e4\" class=\"colab-df-container\">\n",
              "    <div>\n",
              "<style scoped>\n",
              "    .dataframe tbody tr th:only-of-type {\n",
              "        vertical-align: middle;\n",
              "    }\n",
              "\n",
              "    .dataframe tbody tr th {\n",
              "        vertical-align: top;\n",
              "    }\n",
              "\n",
              "    .dataframe thead th {\n",
              "        text-align: right;\n",
              "    }\n",
              "</style>\n",
              "<table border=\"1\" class=\"dataframe\">\n",
              "  <thead>\n",
              "    <tr style=\"text-align: right;\">\n",
              "      <th></th>\n",
              "      <th>id</th>\n",
              "      <th>question</th>\n",
              "      <th>question_concept</th>\n",
              "      <th>choices</th>\n",
              "      <th>answerKey</th>\n",
              "    </tr>\n",
              "  </thead>\n",
              "  <tbody>\n",
              "    <tr>\n",
              "      <th>0</th>\n",
              "      <td>1afa02df02c908a558b4036e80242fac</td>\n",
              "      <td>A revolving door is convenient for two directi...</td>\n",
              "      <td>revolving door</td>\n",
              "      <td>{'label': ['A', 'B', 'C', 'D', 'E'], 'text': [...</td>\n",
              "      <td>A</td>\n",
              "    </tr>\n",
              "    <tr>\n",
              "      <th>1</th>\n",
              "      <td>a7ab086045575bb497933726e4e6ad28</td>\n",
              "      <td>What do people aim to do at work?</td>\n",
              "      <td>people</td>\n",
              "      <td>{'label': ['A', 'B', 'C', 'D', 'E'], 'text': [...</td>\n",
              "      <td>A</td>\n",
              "    </tr>\n",
              "    <tr>\n",
              "      <th>2</th>\n",
              "      <td>b8c0a4703079cf661d7261a60a1bcbff</td>\n",
              "      <td>Where would you find magazines along side many...</td>\n",
              "      <td>magazines</td>\n",
              "      <td>{'label': ['A', 'B', 'C', 'D', 'E'], 'text': [...</td>\n",
              "      <td>B</td>\n",
              "    </tr>\n",
              "    <tr>\n",
              "      <th>3</th>\n",
              "      <td>e68fb2448fd74e402aae9982aa76e527</td>\n",
              "      <td>Where are  you likely to find a hamburger?</td>\n",
              "      <td>hamburger</td>\n",
              "      <td>{'label': ['A', 'B', 'C', 'D', 'E'], 'text': [...</td>\n",
              "      <td>A</td>\n",
              "    </tr>\n",
              "    <tr>\n",
              "      <th>4</th>\n",
              "      <td>2435de612dd69f2012b9e40d6af4ce38</td>\n",
              "      <td>James was looking for a good place to buy farm...</td>\n",
              "      <td>farmland</td>\n",
              "      <td>{'label': ['A', 'B', 'C', 'D', 'E'], 'text': [...</td>\n",
              "      <td>A</td>\n",
              "    </tr>\n",
              "  </tbody>\n",
              "</table>\n",
              "</div>\n",
              "    <div class=\"colab-df-buttons\">\n",
              "\n",
              "  <div class=\"colab-df-container\">\n",
              "    <button class=\"colab-df-convert\" onclick=\"convertToInteractive('df-139d6478-5846-4cd9-9fc4-8afa8c43c6e4')\"\n",
              "            title=\"Convert this dataframe to an interactive table.\"\n",
              "            style=\"display:none;\">\n",
              "\n",
              "  <svg xmlns=\"http://www.w3.org/2000/svg\" height=\"24px\" viewBox=\"0 -960 960 960\">\n",
              "    <path d=\"M120-120v-720h720v720H120Zm60-500h600v-160H180v160Zm220 220h160v-160H400v160Zm0 220h160v-160H400v160ZM180-400h160v-160H180v160Zm440 0h160v-160H620v160ZM180-180h160v-160H180v160Zm440 0h160v-160H620v160Z\"/>\n",
              "  </svg>\n",
              "    </button>\n",
              "\n",
              "  <style>\n",
              "    .colab-df-container {\n",
              "      display:flex;\n",
              "      gap: 12px;\n",
              "    }\n",
              "\n",
              "    .colab-df-convert {\n",
              "      background-color: #E8F0FE;\n",
              "      border: none;\n",
              "      border-radius: 50%;\n",
              "      cursor: pointer;\n",
              "      display: none;\n",
              "      fill: #1967D2;\n",
              "      height: 32px;\n",
              "      padding: 0 0 0 0;\n",
              "      width: 32px;\n",
              "    }\n",
              "\n",
              "    .colab-df-convert:hover {\n",
              "      background-color: #E2EBFA;\n",
              "      box-shadow: 0px 1px 2px rgba(60, 64, 67, 0.3), 0px 1px 3px 1px rgba(60, 64, 67, 0.15);\n",
              "      fill: #174EA6;\n",
              "    }\n",
              "\n",
              "    .colab-df-buttons div {\n",
              "      margin-bottom: 4px;\n",
              "    }\n",
              "\n",
              "    [theme=dark] .colab-df-convert {\n",
              "      background-color: #3B4455;\n",
              "      fill: #D2E3FC;\n",
              "    }\n",
              "\n",
              "    [theme=dark] .colab-df-convert:hover {\n",
              "      background-color: #434B5C;\n",
              "      box-shadow: 0px 1px 3px 1px rgba(0, 0, 0, 0.15);\n",
              "      filter: drop-shadow(0px 1px 2px rgba(0, 0, 0, 0.3));\n",
              "      fill: #FFFFFF;\n",
              "    }\n",
              "  </style>\n",
              "\n",
              "    <script>\n",
              "      const buttonEl =\n",
              "        document.querySelector('#df-139d6478-5846-4cd9-9fc4-8afa8c43c6e4 button.colab-df-convert');\n",
              "      buttonEl.style.display =\n",
              "        google.colab.kernel.accessAllowed ? 'block' : 'none';\n",
              "\n",
              "      async function convertToInteractive(key) {\n",
              "        const element = document.querySelector('#df-139d6478-5846-4cd9-9fc4-8afa8c43c6e4');\n",
              "        const dataTable =\n",
              "          await google.colab.kernel.invokeFunction('convertToInteractive',\n",
              "                                                    [key], {});\n",
              "        if (!dataTable) return;\n",
              "\n",
              "        const docLinkHtml = 'Like what you see? Visit the ' +\n",
              "          '<a target=\"_blank\" href=https://colab.research.google.com/notebooks/data_table.ipynb>data table notebook</a>'\n",
              "          + ' to learn more about interactive tables.';\n",
              "        element.innerHTML = '';\n",
              "        dataTable['output_type'] = 'display_data';\n",
              "        await google.colab.output.renderOutput(dataTable, element);\n",
              "        const docLink = document.createElement('div');\n",
              "        docLink.innerHTML = docLinkHtml;\n",
              "        element.appendChild(docLink);\n",
              "      }\n",
              "    </script>\n",
              "  </div>\n",
              "\n",
              "\n",
              "<div id=\"df-ab81e130-a896-4b22-9c66-fca18c86546a\">\n",
              "  <button class=\"colab-df-quickchart\" onclick=\"quickchart('df-ab81e130-a896-4b22-9c66-fca18c86546a')\"\n",
              "            title=\"Suggest charts\"\n",
              "            style=\"display:none;\">\n",
              "\n",
              "<svg xmlns=\"http://www.w3.org/2000/svg\" height=\"24px\"viewBox=\"0 0 24 24\"\n",
              "     width=\"24px\">\n",
              "    <g>\n",
              "        <path d=\"M19 3H5c-1.1 0-2 .9-2 2v14c0 1.1.9 2 2 2h14c1.1 0 2-.9 2-2V5c0-1.1-.9-2-2-2zM9 17H7v-7h2v7zm4 0h-2V7h2v10zm4 0h-2v-4h2v4z\"/>\n",
              "    </g>\n",
              "</svg>\n",
              "  </button>\n",
              "\n",
              "<style>\n",
              "  .colab-df-quickchart {\n",
              "      --bg-color: #E8F0FE;\n",
              "      --fill-color: #1967D2;\n",
              "      --hover-bg-color: #E2EBFA;\n",
              "      --hover-fill-color: #174EA6;\n",
              "      --disabled-fill-color: #AAA;\n",
              "      --disabled-bg-color: #DDD;\n",
              "  }\n",
              "\n",
              "  [theme=dark] .colab-df-quickchart {\n",
              "      --bg-color: #3B4455;\n",
              "      --fill-color: #D2E3FC;\n",
              "      --hover-bg-color: #434B5C;\n",
              "      --hover-fill-color: #FFFFFF;\n",
              "      --disabled-bg-color: #3B4455;\n",
              "      --disabled-fill-color: #666;\n",
              "  }\n",
              "\n",
              "  .colab-df-quickchart {\n",
              "    background-color: var(--bg-color);\n",
              "    border: none;\n",
              "    border-radius: 50%;\n",
              "    cursor: pointer;\n",
              "    display: none;\n",
              "    fill: var(--fill-color);\n",
              "    height: 32px;\n",
              "    padding: 0;\n",
              "    width: 32px;\n",
              "  }\n",
              "\n",
              "  .colab-df-quickchart:hover {\n",
              "    background-color: var(--hover-bg-color);\n",
              "    box-shadow: 0 1px 2px rgba(60, 64, 67, 0.3), 0 1px 3px 1px rgba(60, 64, 67, 0.15);\n",
              "    fill: var(--button-hover-fill-color);\n",
              "  }\n",
              "\n",
              "  .colab-df-quickchart-complete:disabled,\n",
              "  .colab-df-quickchart-complete:disabled:hover {\n",
              "    background-color: var(--disabled-bg-color);\n",
              "    fill: var(--disabled-fill-color);\n",
              "    box-shadow: none;\n",
              "  }\n",
              "\n",
              "  .colab-df-spinner {\n",
              "    border: 2px solid var(--fill-color);\n",
              "    border-color: transparent;\n",
              "    border-bottom-color: var(--fill-color);\n",
              "    animation:\n",
              "      spin 1s steps(1) infinite;\n",
              "  }\n",
              "\n",
              "  @keyframes spin {\n",
              "    0% {\n",
              "      border-color: transparent;\n",
              "      border-bottom-color: var(--fill-color);\n",
              "      border-left-color: var(--fill-color);\n",
              "    }\n",
              "    20% {\n",
              "      border-color: transparent;\n",
              "      border-left-color: var(--fill-color);\n",
              "      border-top-color: var(--fill-color);\n",
              "    }\n",
              "    30% {\n",
              "      border-color: transparent;\n",
              "      border-left-color: var(--fill-color);\n",
              "      border-top-color: var(--fill-color);\n",
              "      border-right-color: var(--fill-color);\n",
              "    }\n",
              "    40% {\n",
              "      border-color: transparent;\n",
              "      border-right-color: var(--fill-color);\n",
              "      border-top-color: var(--fill-color);\n",
              "    }\n",
              "    60% {\n",
              "      border-color: transparent;\n",
              "      border-right-color: var(--fill-color);\n",
              "    }\n",
              "    80% {\n",
              "      border-color: transparent;\n",
              "      border-right-color: var(--fill-color);\n",
              "      border-bottom-color: var(--fill-color);\n",
              "    }\n",
              "    90% {\n",
              "      border-color: transparent;\n",
              "      border-bottom-color: var(--fill-color);\n",
              "    }\n",
              "  }\n",
              "</style>\n",
              "\n",
              "  <script>\n",
              "    async function quickchart(key) {\n",
              "      const quickchartButtonEl =\n",
              "        document.querySelector('#' + key + ' button');\n",
              "      quickchartButtonEl.disabled = true;  // To prevent multiple clicks.\n",
              "      quickchartButtonEl.classList.add('colab-df-spinner');\n",
              "      try {\n",
              "        const charts = await google.colab.kernel.invokeFunction(\n",
              "            'suggestCharts', [key], {});\n",
              "      } catch (error) {\n",
              "        console.error('Error during call to suggestCharts:', error);\n",
              "      }\n",
              "      quickchartButtonEl.classList.remove('colab-df-spinner');\n",
              "      quickchartButtonEl.classList.add('colab-df-quickchart-complete');\n",
              "    }\n",
              "    (() => {\n",
              "      let quickchartButtonEl =\n",
              "        document.querySelector('#df-ab81e130-a896-4b22-9c66-fca18c86546a button');\n",
              "      quickchartButtonEl.style.display =\n",
              "        google.colab.kernel.accessAllowed ? 'block' : 'none';\n",
              "    })();\n",
              "  </script>\n",
              "</div>\n",
              "\n",
              "    </div>\n",
              "  </div>\n"
            ],
            "application/vnd.google.colaboratory.intrinsic+json": {
              "type": "dataframe",
              "summary": "{\n  \"name\": \"eval_data\",\n  \"rows\": 5,\n  \"fields\": [\n    {\n      \"column\": \"id\",\n      \"properties\": {\n        \"dtype\": \"string\",\n        \"num_unique_values\": 5,\n        \"samples\": [\n          \"a7ab086045575bb497933726e4e6ad28\",\n          \"2435de612dd69f2012b9e40d6af4ce38\",\n          \"b8c0a4703079cf661d7261a60a1bcbff\"\n        ],\n        \"semantic_type\": \"\",\n        \"description\": \"\"\n      }\n    },\n    {\n      \"column\": \"question\",\n      \"properties\": {\n        \"dtype\": \"string\",\n        \"num_unique_values\": 5,\n        \"samples\": [\n          \"What do people aim to do at work?\",\n          \"James was looking for a good place to buy farmland.  Where might he look?\",\n          \"Where would you find magazines along side many other printed works?\"\n        ],\n        \"semantic_type\": \"\",\n        \"description\": \"\"\n      }\n    },\n    {\n      \"column\": \"question_concept\",\n      \"properties\": {\n        \"dtype\": \"string\",\n        \"num_unique_values\": 5,\n        \"samples\": [\n          \"people\",\n          \"farmland\",\n          \"magazines\"\n        ],\n        \"semantic_type\": \"\",\n        \"description\": \"\"\n      }\n    },\n    {\n      \"column\": \"choices\",\n      \"properties\": {\n        \"dtype\": \"object\",\n        \"semantic_type\": \"\",\n        \"description\": \"\"\n      }\n    },\n    {\n      \"column\": \"answerKey\",\n      \"properties\": {\n        \"dtype\": \"category\",\n        \"num_unique_values\": 2,\n        \"samples\": [\n          \"B\",\n          \"A\"\n        ],\n        \"semantic_type\": \"\",\n        \"description\": \"\"\n      }\n    }\n  ]\n}"
            }
          },
          "metadata": {},
          "execution_count": 62
        }
      ],
      "source": [
        "eval_data.to_pandas().head()"
      ]
    },
    {
      "cell_type": "code",
      "execution_count": 3,
      "id": "97328828",
      "metadata": {
        "colab": {
          "base_uri": "https://localhost:8080/",
          "height": 104,
          "referenced_widgets": [
            "5c8bc09cfe494f8695855a43b55835d1",
            "849eea3ca7074e3ab7bb3087190581c1",
            "85e3d2539cbf4dbb9767ae0a5da3a3e8",
            "9caf653747734bebb68e78b3af36a31b",
            "0c4d414b919445af9c116efd0b72ad86",
            "eca617f1edc64f98b6faafdb54d1f350",
            "a0e3f097bbdf4fc999c4e65159278163",
            "97bb02a3a036458f8f431a0803056d80",
            "d53972f1d04f4469af66609b7f428dd4",
            "c9b0248d85c447d39a46e1a08165a862",
            "d010226906754df0aff5b93c4cc8e4dd",
            "333226a676cf4161b63970774f363d29",
            "1f21bfd5f48c42a8ad9dd153be1e738c",
            "5712460b0c7e4d73b2b52e308f08d14f",
            "222474c59cd7489488b946600e5280c5",
            "a1a684c04989453caed73f5efff6e35b",
            "d9964334aad046ed99c3fad1b4dc17df",
            "90ed10c7ff834169b0fa586f3586d1ad",
            "431dc0bd2cda481db10ca652e6d702bf",
            "844b712b84c2424ab1da5c310f151d0f"
          ]
        },
        "id": "97328828",
        "outputId": "e834bf6f-7b79-4c43-9964-b6e83e56a77a"
      },
      "outputs": [
        {
          "output_type": "stream",
          "name": "stdout",
          "text": [
            "Collecting python-dotenv\n",
            "  Downloading python_dotenv-1.1.0-py3-none-any.whl.metadata (24 kB)\n",
            "Downloading python_dotenv-1.1.0-py3-none-any.whl (20 kB)\n",
            "Installing collected packages: python-dotenv\n",
            "Successfully installed python-dotenv-1.1.0\n"
          ]
        },
        {
          "output_type": "display_data",
          "data": {
            "text/plain": [
              "VBox(children=(HTML(value='<center> <img\\nsrc=https://huggingface.co/front/assets/huggingface_logo-noborder.sv…"
            ],
            "application/vnd.jupyter.widget-view+json": {
              "version_major": 2,
              "version_minor": 0,
              "model_id": "5c8bc09cfe494f8695855a43b55835d1"
            }
          },
          "metadata": {}
        }
      ],
      "source": [
        "### Logging into HuggingFace\n",
        "\n",
        "try:\n",
        "  from dotenv import load_dotenv\n",
        "except:\n",
        "  !pip install python-dotenv\n",
        "  from dotenv import load_dotenv\n",
        "\n",
        "from huggingface_hub import login, whoami\n",
        "import os\n",
        "\n",
        "load_dotenv()\n",
        "login(os.getenv(\"hugging_face_key2\"))"
      ]
    },
    {
      "cell_type": "code",
      "execution_count": 4,
      "id": "PNL2rAvbNOsb",
      "metadata": {
        "colab": {
          "base_uri": "https://localhost:8080/"
        },
        "id": "PNL2rAvbNOsb",
        "outputId": "8679e127-0916-4ed7-b604-662d85297518"
      },
      "outputs": [
        {
          "output_type": "stream",
          "name": "stdout",
          "text": [
            "Requirement already satisfied: peft in /usr/local/lib/python3.11/dist-packages (0.14.0)\n",
            "Requirement already satisfied: numpy>=1.17 in /usr/local/lib/python3.11/dist-packages (from peft) (2.0.2)\n",
            "Requirement already satisfied: packaging>=20.0 in /usr/local/lib/python3.11/dist-packages (from peft) (24.2)\n",
            "Requirement already satisfied: psutil in /usr/local/lib/python3.11/dist-packages (from peft) (5.9.5)\n",
            "Requirement already satisfied: pyyaml in /usr/local/lib/python3.11/dist-packages (from peft) (6.0.2)\n",
            "Requirement already satisfied: torch>=1.13.0 in /usr/local/lib/python3.11/dist-packages (from peft) (2.6.0+cu124)\n",
            "Requirement already satisfied: transformers in /usr/local/lib/python3.11/dist-packages (from peft) (4.51.3)\n",
            "Requirement already satisfied: tqdm in /usr/local/lib/python3.11/dist-packages (from peft) (4.67.1)\n",
            "Requirement already satisfied: accelerate>=0.21.0 in /usr/local/lib/python3.11/dist-packages (from peft) (1.5.2)\n",
            "Requirement already satisfied: safetensors in /usr/local/lib/python3.11/dist-packages (from peft) (0.5.3)\n",
            "Requirement already satisfied: huggingface-hub>=0.25.0 in /usr/local/lib/python3.11/dist-packages (from peft) (0.30.2)\n",
            "Requirement already satisfied: filelock in /usr/local/lib/python3.11/dist-packages (from huggingface-hub>=0.25.0->peft) (3.18.0)\n",
            "Requirement already satisfied: fsspec>=2023.5.0 in /usr/local/lib/python3.11/dist-packages (from huggingface-hub>=0.25.0->peft) (2024.12.0)\n",
            "Requirement already satisfied: requests in /usr/local/lib/python3.11/dist-packages (from huggingface-hub>=0.25.0->peft) (2.32.3)\n",
            "Requirement already satisfied: typing-extensions>=3.7.4.3 in /usr/local/lib/python3.11/dist-packages (from huggingface-hub>=0.25.0->peft) (4.13.2)\n",
            "Requirement already satisfied: networkx in /usr/local/lib/python3.11/dist-packages (from torch>=1.13.0->peft) (3.4.2)\n",
            "Requirement already satisfied: jinja2 in /usr/local/lib/python3.11/dist-packages (from torch>=1.13.0->peft) (3.1.6)\n",
            "Collecting nvidia-cuda-nvrtc-cu12==12.4.127 (from torch>=1.13.0->peft)\n",
            "  Downloading nvidia_cuda_nvrtc_cu12-12.4.127-py3-none-manylinux2014_x86_64.whl.metadata (1.5 kB)\n",
            "Collecting nvidia-cuda-runtime-cu12==12.4.127 (from torch>=1.13.0->peft)\n",
            "  Downloading nvidia_cuda_runtime_cu12-12.4.127-py3-none-manylinux2014_x86_64.whl.metadata (1.5 kB)\n",
            "Collecting nvidia-cuda-cupti-cu12==12.4.127 (from torch>=1.13.0->peft)\n",
            "  Downloading nvidia_cuda_cupti_cu12-12.4.127-py3-none-manylinux2014_x86_64.whl.metadata (1.6 kB)\n",
            "Collecting nvidia-cudnn-cu12==9.1.0.70 (from torch>=1.13.0->peft)\n",
            "  Downloading nvidia_cudnn_cu12-9.1.0.70-py3-none-manylinux2014_x86_64.whl.metadata (1.6 kB)\n",
            "Collecting nvidia-cublas-cu12==12.4.5.8 (from torch>=1.13.0->peft)\n",
            "  Downloading nvidia_cublas_cu12-12.4.5.8-py3-none-manylinux2014_x86_64.whl.metadata (1.5 kB)\n",
            "Collecting nvidia-cufft-cu12==11.2.1.3 (from torch>=1.13.0->peft)\n",
            "  Downloading nvidia_cufft_cu12-11.2.1.3-py3-none-manylinux2014_x86_64.whl.metadata (1.5 kB)\n",
            "Collecting nvidia-curand-cu12==10.3.5.147 (from torch>=1.13.0->peft)\n",
            "  Downloading nvidia_curand_cu12-10.3.5.147-py3-none-manylinux2014_x86_64.whl.metadata (1.5 kB)\n",
            "Collecting nvidia-cusolver-cu12==11.6.1.9 (from torch>=1.13.0->peft)\n",
            "  Downloading nvidia_cusolver_cu12-11.6.1.9-py3-none-manylinux2014_x86_64.whl.metadata (1.6 kB)\n",
            "Collecting nvidia-cusparse-cu12==12.3.1.170 (from torch>=1.13.0->peft)\n",
            "  Downloading nvidia_cusparse_cu12-12.3.1.170-py3-none-manylinux2014_x86_64.whl.metadata (1.6 kB)\n",
            "Requirement already satisfied: nvidia-cusparselt-cu12==0.6.2 in /usr/local/lib/python3.11/dist-packages (from torch>=1.13.0->peft) (0.6.2)\n",
            "Requirement already satisfied: nvidia-nccl-cu12==2.21.5 in /usr/local/lib/python3.11/dist-packages (from torch>=1.13.0->peft) (2.21.5)\n",
            "Requirement already satisfied: nvidia-nvtx-cu12==12.4.127 in /usr/local/lib/python3.11/dist-packages (from torch>=1.13.0->peft) (12.4.127)\n",
            "Collecting nvidia-nvjitlink-cu12==12.4.127 (from torch>=1.13.0->peft)\n",
            "  Downloading nvidia_nvjitlink_cu12-12.4.127-py3-none-manylinux2014_x86_64.whl.metadata (1.5 kB)\n",
            "Requirement already satisfied: triton==3.2.0 in /usr/local/lib/python3.11/dist-packages (from torch>=1.13.0->peft) (3.2.0)\n",
            "Requirement already satisfied: sympy==1.13.1 in /usr/local/lib/python3.11/dist-packages (from torch>=1.13.0->peft) (1.13.1)\n",
            "Requirement already satisfied: mpmath<1.4,>=1.1.0 in /usr/local/lib/python3.11/dist-packages (from sympy==1.13.1->torch>=1.13.0->peft) (1.3.0)\n",
            "Requirement already satisfied: regex!=2019.12.17 in /usr/local/lib/python3.11/dist-packages (from transformers->peft) (2024.11.6)\n",
            "Requirement already satisfied: tokenizers<0.22,>=0.21 in /usr/local/lib/python3.11/dist-packages (from transformers->peft) (0.21.1)\n",
            "Requirement already satisfied: MarkupSafe>=2.0 in /usr/local/lib/python3.11/dist-packages (from jinja2->torch>=1.13.0->peft) (3.0.2)\n",
            "Requirement already satisfied: charset-normalizer<4,>=2 in /usr/local/lib/python3.11/dist-packages (from requests->huggingface-hub>=0.25.0->peft) (3.4.1)\n",
            "Requirement already satisfied: idna<4,>=2.5 in /usr/local/lib/python3.11/dist-packages (from requests->huggingface-hub>=0.25.0->peft) (3.10)\n",
            "Requirement already satisfied: urllib3<3,>=1.21.1 in /usr/local/lib/python3.11/dist-packages (from requests->huggingface-hub>=0.25.0->peft) (2.3.0)\n",
            "Requirement already satisfied: certifi>=2017.4.17 in /usr/local/lib/python3.11/dist-packages (from requests->huggingface-hub>=0.25.0->peft) (2025.1.31)\n",
            "Downloading nvidia_cublas_cu12-12.4.5.8-py3-none-manylinux2014_x86_64.whl (363.4 MB)\n",
            "\u001b[2K   \u001b[90m━━━━━━━━━━━━━━━━━━━━━━━━━━━━━━━━━━━━━━━━\u001b[0m \u001b[32m363.4/363.4 MB\u001b[0m \u001b[31m3.0 MB/s\u001b[0m eta \u001b[36m0:00:00\u001b[0m\n",
            "\u001b[?25hDownloading nvidia_cuda_cupti_cu12-12.4.127-py3-none-manylinux2014_x86_64.whl (13.8 MB)\n",
            "\u001b[2K   \u001b[90m━━━━━━━━━━━━━━━━━━━━━━━━━━━━━━━━━━━━━━━━\u001b[0m \u001b[32m13.8/13.8 MB\u001b[0m \u001b[31m124.8 MB/s\u001b[0m eta \u001b[36m0:00:00\u001b[0m\n",
            "\u001b[?25hDownloading nvidia_cuda_nvrtc_cu12-12.4.127-py3-none-manylinux2014_x86_64.whl (24.6 MB)\n",
            "\u001b[2K   \u001b[90m━━━━━━━━━━━━━━━━━━━━━━━━━━━━━━━━━━━━━━━━\u001b[0m \u001b[32m24.6/24.6 MB\u001b[0m \u001b[31m97.6 MB/s\u001b[0m eta \u001b[36m0:00:00\u001b[0m\n",
            "\u001b[?25hDownloading nvidia_cuda_runtime_cu12-12.4.127-py3-none-manylinux2014_x86_64.whl (883 kB)\n",
            "\u001b[2K   \u001b[90m━━━━━━━━━━━━━━━━━━━━━━━━━━━━━━━━━━━━━━━━\u001b[0m \u001b[32m883.7/883.7 kB\u001b[0m \u001b[31m56.0 MB/s\u001b[0m eta \u001b[36m0:00:00\u001b[0m\n",
            "\u001b[?25hDownloading nvidia_cudnn_cu12-9.1.0.70-py3-none-manylinux2014_x86_64.whl (664.8 MB)\n",
            "\u001b[2K   \u001b[90m━━━━━━━━━━━━━━━━━━━━━━━━━━━━━━━━━━━━━━━━\u001b[0m \u001b[32m664.8/664.8 MB\u001b[0m \u001b[31m2.0 MB/s\u001b[0m eta \u001b[36m0:00:00\u001b[0m\n",
            "\u001b[?25hDownloading nvidia_cufft_cu12-11.2.1.3-py3-none-manylinux2014_x86_64.whl (211.5 MB)\n",
            "\u001b[2K   \u001b[90m━━━━━━━━━━━━━━━━━━━━━━━━━━━━━━━━━━━━━━━━\u001b[0m \u001b[32m211.5/211.5 MB\u001b[0m \u001b[31m12.0 MB/s\u001b[0m eta \u001b[36m0:00:00\u001b[0m\n",
            "\u001b[?25hDownloading nvidia_curand_cu12-10.3.5.147-py3-none-manylinux2014_x86_64.whl (56.3 MB)\n",
            "\u001b[2K   \u001b[90m━━━━━━━━━━━━━━━━━━━━━━━━━━━━━━━━━━━━━━━━\u001b[0m \u001b[32m56.3/56.3 MB\u001b[0m \u001b[31m44.4 MB/s\u001b[0m eta \u001b[36m0:00:00\u001b[0m\n",
            "\u001b[?25hDownloading nvidia_cusolver_cu12-11.6.1.9-py3-none-manylinux2014_x86_64.whl (127.9 MB)\n",
            "\u001b[2K   \u001b[90m━━━━━━━━━━━━━━━━━━━━━━━━━━━━━━━━━━━━━━━━\u001b[0m \u001b[32m127.9/127.9 MB\u001b[0m \u001b[31m20.1 MB/s\u001b[0m eta \u001b[36m0:00:00\u001b[0m\n",
            "\u001b[?25hDownloading nvidia_cusparse_cu12-12.3.1.170-py3-none-manylinux2014_x86_64.whl (207.5 MB)\n",
            "\u001b[2K   \u001b[90m━━━━━━━━━━━━━━━━━━━━━━━━━━━━━━━━━━━━━━━━\u001b[0m \u001b[32m207.5/207.5 MB\u001b[0m \u001b[31m3.3 MB/s\u001b[0m eta \u001b[36m0:00:00\u001b[0m\n",
            "\u001b[?25hDownloading nvidia_nvjitlink_cu12-12.4.127-py3-none-manylinux2014_x86_64.whl (21.1 MB)\n",
            "\u001b[2K   \u001b[90m━━━━━━━━━━━━━━━━━━━━━━━━━━━━━━━━━━━━━━━━\u001b[0m \u001b[32m21.1/21.1 MB\u001b[0m \u001b[31m105.8 MB/s\u001b[0m eta \u001b[36m0:00:00\u001b[0m\n",
            "\u001b[?25hInstalling collected packages: nvidia-nvjitlink-cu12, nvidia-curand-cu12, nvidia-cufft-cu12, nvidia-cuda-runtime-cu12, nvidia-cuda-nvrtc-cu12, nvidia-cuda-cupti-cu12, nvidia-cublas-cu12, nvidia-cusparse-cu12, nvidia-cudnn-cu12, nvidia-cusolver-cu12\n",
            "  Attempting uninstall: nvidia-nvjitlink-cu12\n",
            "    Found existing installation: nvidia-nvjitlink-cu12 12.5.82\n",
            "    Uninstalling nvidia-nvjitlink-cu12-12.5.82:\n",
            "      Successfully uninstalled nvidia-nvjitlink-cu12-12.5.82\n",
            "  Attempting uninstall: nvidia-curand-cu12\n",
            "    Found existing installation: nvidia-curand-cu12 10.3.6.82\n",
            "    Uninstalling nvidia-curand-cu12-10.3.6.82:\n",
            "      Successfully uninstalled nvidia-curand-cu12-10.3.6.82\n",
            "  Attempting uninstall: nvidia-cufft-cu12\n",
            "    Found existing installation: nvidia-cufft-cu12 11.2.3.61\n",
            "    Uninstalling nvidia-cufft-cu12-11.2.3.61:\n",
            "      Successfully uninstalled nvidia-cufft-cu12-11.2.3.61\n",
            "  Attempting uninstall: nvidia-cuda-runtime-cu12\n",
            "    Found existing installation: nvidia-cuda-runtime-cu12 12.5.82\n",
            "    Uninstalling nvidia-cuda-runtime-cu12-12.5.82:\n",
            "      Successfully uninstalled nvidia-cuda-runtime-cu12-12.5.82\n",
            "  Attempting uninstall: nvidia-cuda-nvrtc-cu12\n",
            "    Found existing installation: nvidia-cuda-nvrtc-cu12 12.5.82\n",
            "    Uninstalling nvidia-cuda-nvrtc-cu12-12.5.82:\n",
            "      Successfully uninstalled nvidia-cuda-nvrtc-cu12-12.5.82\n",
            "  Attempting uninstall: nvidia-cuda-cupti-cu12\n",
            "    Found existing installation: nvidia-cuda-cupti-cu12 12.5.82\n",
            "    Uninstalling nvidia-cuda-cupti-cu12-12.5.82:\n",
            "      Successfully uninstalled nvidia-cuda-cupti-cu12-12.5.82\n",
            "  Attempting uninstall: nvidia-cublas-cu12\n",
            "    Found existing installation: nvidia-cublas-cu12 12.5.3.2\n",
            "    Uninstalling nvidia-cublas-cu12-12.5.3.2:\n",
            "      Successfully uninstalled nvidia-cublas-cu12-12.5.3.2\n",
            "  Attempting uninstall: nvidia-cusparse-cu12\n",
            "    Found existing installation: nvidia-cusparse-cu12 12.5.1.3\n",
            "    Uninstalling nvidia-cusparse-cu12-12.5.1.3:\n",
            "      Successfully uninstalled nvidia-cusparse-cu12-12.5.1.3\n",
            "  Attempting uninstall: nvidia-cudnn-cu12\n",
            "    Found existing installation: nvidia-cudnn-cu12 9.3.0.75\n",
            "    Uninstalling nvidia-cudnn-cu12-9.3.0.75:\n",
            "      Successfully uninstalled nvidia-cudnn-cu12-9.3.0.75\n",
            "  Attempting uninstall: nvidia-cusolver-cu12\n",
            "    Found existing installation: nvidia-cusolver-cu12 11.6.3.83\n",
            "    Uninstalling nvidia-cusolver-cu12-11.6.3.83:\n",
            "      Successfully uninstalled nvidia-cusolver-cu12-11.6.3.83\n",
            "Successfully installed nvidia-cublas-cu12-12.4.5.8 nvidia-cuda-cupti-cu12-12.4.127 nvidia-cuda-nvrtc-cu12-12.4.127 nvidia-cuda-runtime-cu12-12.4.127 nvidia-cudnn-cu12-9.1.0.70 nvidia-cufft-cu12-11.2.1.3 nvidia-curand-cu12-10.3.5.147 nvidia-cusolver-cu12-11.6.1.9 nvidia-cusparse-cu12-12.3.1.170 nvidia-nvjitlink-cu12-12.4.127\n"
          ]
        }
      ],
      "source": [
        "!pip install peft"
      ]
    },
    {
      "cell_type": "code",
      "execution_count": 86,
      "id": "107c32c2",
      "metadata": {
        "colab": {
          "base_uri": "https://localhost:8080/"
        },
        "id": "107c32c2",
        "outputId": "926a9bff-833a-419c-930d-c8205b6a223b"
      },
      "outputs": [
        {
          "output_type": "stream",
          "name": "stdout",
          "text": [
            "trainable params: 36,864 || all params: 124,476,672 || trainable%: 0.0296\n"
          ]
        },
        {
          "output_type": "stream",
          "name": "stderr",
          "text": [
            "/usr/local/lib/python3.11/dist-packages/peft/tuners/ia3/model.py:135: UserWarning: fan_in_fan_out is set to False but the target module is `Conv1D`. Setting fan_in_fan_out to True.\n",
            "  warnings.warn(\n"
          ]
        }
      ],
      "source": [
        "from transformers import AutoModelForCausalLM, AutoTokenizer\n",
        "from peft import get_peft_model, IA3Config, TaskType\n",
        "\n",
        "\n",
        "model_name = \"gpt2\"\n",
        "# model_name = \"tiiuae/falcon-7b\"\n",
        "# model_name = \"mistralai/Mistral-7B-Instruct-v0.2\"\n",
        "\n",
        "tokenizer = AutoTokenizer.from_pretrained(model_name)\n",
        "tokenizer.pad_token = tokenizer.eos_token\n",
        "model = AutoModelForCausalLM.from_pretrained(model_name)\n",
        "\n",
        "peft_config = IA3Config(\n",
        "    task_type=TaskType.CAUSAL_LM,\n",
        "    target_modules=[\"attn.c_attn\", \"mlp.c_fc\"],\n",
        "    feedforward_modules=[\"mlp.c_fc\"],\n",
        ")\n",
        "\n",
        "peft_model = get_peft_model(model, peft_config)\n",
        "peft_model.print_trainable_parameters()\n"
      ]
    },
    {
      "cell_type": "code",
      "execution_count": 125,
      "id": "02ef61f4",
      "metadata": {
        "colab": {
          "base_uri": "https://localhost:8080/",
          "height": 81,
          "referenced_widgets": [
            "16e625f184454acfb9132858684190e3",
            "6d2faf9cce894a46b5c0647602c4c66c",
            "d5a17422e1194897aff6f2810e731459",
            "bb35ef304a57407d977f405141396631",
            "e7ea7ff3746e462d98a16a5ed651c341",
            "a0d400babbcb48f0824e4d6a11b0ad6b",
            "1c4894ed57c74707bb98c72c4d902912",
            "cf0e9ff496754a60bb9389e72638ad3b",
            "6e64b05e6b0f407791c086f9952f6f18",
            "b1aac3d274bb49439c8c73d1bdce1103",
            "4a486623a1ab46f9b7f4a1882fd452e9",
            "b850efc3e8624604b1c0879bfdbe4652",
            "d684f44f29de40179169705924476683",
            "195a28d782cb48d8ac1cad47e91b6c08",
            "792404d6135f47bf93b22bfdf506b6b8",
            "de30c181bb704d7a862d76ba0e0c2d6a",
            "6eb1b54d426b44df9ef48fff5e3d80ad",
            "e2606138b10745f7b3ca3edc61ea9e58",
            "34115e5d50df4b2dbd0918ad1ee972cb",
            "00354da72438418b8f7cb7df05deeca2",
            "b3c4efc34a5a48a39a844e3625607dce",
            "6f5382908e894456850e02ee62c4df71"
          ]
        },
        "id": "02ef61f4",
        "outputId": "427df34e-cf33-4415-f080-837f19c0e55b"
      },
      "outputs": [
        {
          "output_type": "display_data",
          "data": {
            "text/plain": [
              "Map:   0%|          | 0/9741 [00:00<?, ? examples/s]"
            ],
            "application/vnd.jupyter.widget-view+json": {
              "version_major": 2,
              "version_minor": 0,
              "model_id": "16e625f184454acfb9132858684190e3"
            }
          },
          "metadata": {}
        },
        {
          "output_type": "display_data",
          "data": {
            "text/plain": [
              "Map:   0%|          | 0/1221 [00:00<?, ? examples/s]"
            ],
            "application/vnd.jupyter.widget-view+json": {
              "version_major": 2,
              "version_minor": 0,
              "model_id": "b850efc3e8624604b1c0879bfdbe4652"
            }
          },
          "metadata": {}
        }
      ],
      "source": [
        "import numpy as np\n",
        "def format_prompt(example):\n",
        "    question = example['question']\n",
        "    choices = example['choices']['text']\n",
        "    labels = example['choices']['label']\n",
        "    answer_key = example['answerKey']\n",
        "\n",
        "    # Find the correct answer text\n",
        "    answer_index = labels.index(answer_key)\n",
        "    answer_text = choices[answer_index]\n",
        "\n",
        "    # Create the prompt\n",
        "    prompt = f\"Q: {question}\\nO: {' /// '.join(choices)}\\nA: \"\n",
        "    full_text = prompt + \" \" + answer_text\n",
        "\n",
        "    # Tokenize full input\n",
        "    tokenized = tokenizer(\n",
        "        full_text,\n",
        "        padding=\"max_length\",\n",
        "        truncation=True,\n",
        "        max_length=128,\n",
        "    )\n",
        "\n",
        "    # Calculate where the completion starts\n",
        "    prompt_ids = tokenizer(prompt,\n",
        "                           truncation=True,\n",
        "                           max_length=128)[\"input_ids\"]\n",
        "    completion_start = len(prompt_ids)\n",
        "\n",
        "    # Mask prompt tokens in the labels\n",
        "    labels = [-np.inf] * completion_start + tokenized[\"input_ids\"][completion_start:]\n",
        "    labels += [-np.inf] * (128 - len(labels))  # pad label to match input\n",
        "\n",
        "    tokenized[\"labels\"] = labels\n",
        "    return tokenized\n",
        "\n",
        "\n",
        "tokenized_train = train_data.map(format_prompt, batched=False, remove_columns=train_data.column_names)\n",
        "tokenized_eval = eval_data.map(format_prompt, batched=False, remove_columns=eval_data.column_names)\n",
        "\n",
        "tokenized_train.set_format(type=\"torch\", columns=[\"input_ids\", \"attention_mask\", \"labels\"])\n",
        "tokenized_eval.set_format(type=\"torch\", columns=[\"input_ids\", \"attention_mask\", \"labels\"])\n"
      ]
    },
    {
      "cell_type": "code",
      "source": [
        "tokenized_train.to_pandas().head()"
      ],
      "metadata": {
        "id": "TY6S84CrUb5Q",
        "outputId": "329b93bd-4d0e-44c8-f936-c7509fc40caf",
        "colab": {
          "base_uri": "https://localhost:8080/",
          "height": 206
        }
      },
      "id": "TY6S84CrUb5Q",
      "execution_count": 126,
      "outputs": [
        {
          "output_type": "execute_result",
          "data": {
            "text/plain": [
              "                                           input_ids  \\\n",
              "0  [48, 25, 383, 9388, 1028, 262, 1524, 547, 257,...   \n",
              "1  [48, 25, 44067, 2227, 284, 467, 284, 810, 262,...   \n",
              "2  [48, 25, 1675, 17276, 257, 442, 11020, 407, 51...   \n",
              "3  [48, 25, 3012, 20347, 290, 584, 12763, 290, 46...   \n",
              "4  [48, 25, 383, 21831, 6807, 422, 262, 1748, 656...   \n",
              "\n",
              "                                      attention_mask  \\\n",
              "0  [1, 1, 1, 1, 1, 1, 1, 1, 1, 1, 1, 1, 1, 1, 1, ...   \n",
              "1  [1, 1, 1, 1, 1, 1, 1, 1, 1, 1, 1, 1, 1, 1, 1, ...   \n",
              "2  [1, 1, 1, 1, 1, 1, 1, 1, 1, 1, 1, 1, 1, 1, 1, ...   \n",
              "3  [1, 1, 1, 1, 1, 1, 1, 1, 1, 1, 1, 1, 1, 1, 1, ...   \n",
              "4  [1, 1, 1, 1, 1, 1, 1, 1, 1, 1, 1, 1, 1, 1, 1, ...   \n",
              "\n",
              "                                              labels  \n",
              "0  [-inf, -inf, -inf, -inf, -inf, -inf, -inf, -in...  \n",
              "1  [-inf, -inf, -inf, -inf, -inf, -inf, -inf, -in...  \n",
              "2  [-inf, -inf, -inf, -inf, -inf, -inf, -inf, -in...  \n",
              "3  [-inf, -inf, -inf, -inf, -inf, -inf, -inf, -in...  \n",
              "4  [-inf, -inf, -inf, -inf, -inf, -inf, -inf, -in...  "
            ],
            "text/html": [
              "\n",
              "  <div id=\"df-546ca6fb-e411-4a7e-9502-9801428e4f51\" class=\"colab-df-container\">\n",
              "    <div>\n",
              "<style scoped>\n",
              "    .dataframe tbody tr th:only-of-type {\n",
              "        vertical-align: middle;\n",
              "    }\n",
              "\n",
              "    .dataframe tbody tr th {\n",
              "        vertical-align: top;\n",
              "    }\n",
              "\n",
              "    .dataframe thead th {\n",
              "        text-align: right;\n",
              "    }\n",
              "</style>\n",
              "<table border=\"1\" class=\"dataframe\">\n",
              "  <thead>\n",
              "    <tr style=\"text-align: right;\">\n",
              "      <th></th>\n",
              "      <th>input_ids</th>\n",
              "      <th>attention_mask</th>\n",
              "      <th>labels</th>\n",
              "    </tr>\n",
              "  </thead>\n",
              "  <tbody>\n",
              "    <tr>\n",
              "      <th>0</th>\n",
              "      <td>[48, 25, 383, 9388, 1028, 262, 1524, 547, 257,...</td>\n",
              "      <td>[1, 1, 1, 1, 1, 1, 1, 1, 1, 1, 1, 1, 1, 1, 1, ...</td>\n",
              "      <td>[-inf, -inf, -inf, -inf, -inf, -inf, -inf, -in...</td>\n",
              "    </tr>\n",
              "    <tr>\n",
              "      <th>1</th>\n",
              "      <td>[48, 25, 44067, 2227, 284, 467, 284, 810, 262,...</td>\n",
              "      <td>[1, 1, 1, 1, 1, 1, 1, 1, 1, 1, 1, 1, 1, 1, 1, ...</td>\n",
              "      <td>[-inf, -inf, -inf, -inf, -inf, -inf, -inf, -in...</td>\n",
              "    </tr>\n",
              "    <tr>\n",
              "      <th>2</th>\n",
              "      <td>[48, 25, 1675, 17276, 257, 442, 11020, 407, 51...</td>\n",
              "      <td>[1, 1, 1, 1, 1, 1, 1, 1, 1, 1, 1, 1, 1, 1, 1, ...</td>\n",
              "      <td>[-inf, -inf, -inf, -inf, -inf, -inf, -inf, -in...</td>\n",
              "    </tr>\n",
              "    <tr>\n",
              "      <th>3</th>\n",
              "      <td>[48, 25, 3012, 20347, 290, 584, 12763, 290, 46...</td>\n",
              "      <td>[1, 1, 1, 1, 1, 1, 1, 1, 1, 1, 1, 1, 1, 1, 1, ...</td>\n",
              "      <td>[-inf, -inf, -inf, -inf, -inf, -inf, -inf, -in...</td>\n",
              "    </tr>\n",
              "    <tr>\n",
              "      <th>4</th>\n",
              "      <td>[48, 25, 383, 21831, 6807, 422, 262, 1748, 656...</td>\n",
              "      <td>[1, 1, 1, 1, 1, 1, 1, 1, 1, 1, 1, 1, 1, 1, 1, ...</td>\n",
              "      <td>[-inf, -inf, -inf, -inf, -inf, -inf, -inf, -in...</td>\n",
              "    </tr>\n",
              "  </tbody>\n",
              "</table>\n",
              "</div>\n",
              "    <div class=\"colab-df-buttons\">\n",
              "\n",
              "  <div class=\"colab-df-container\">\n",
              "    <button class=\"colab-df-convert\" onclick=\"convertToInteractive('df-546ca6fb-e411-4a7e-9502-9801428e4f51')\"\n",
              "            title=\"Convert this dataframe to an interactive table.\"\n",
              "            style=\"display:none;\">\n",
              "\n",
              "  <svg xmlns=\"http://www.w3.org/2000/svg\" height=\"24px\" viewBox=\"0 -960 960 960\">\n",
              "    <path d=\"M120-120v-720h720v720H120Zm60-500h600v-160H180v160Zm220 220h160v-160H400v160Zm0 220h160v-160H400v160ZM180-400h160v-160H180v160Zm440 0h160v-160H620v160ZM180-180h160v-160H180v160Zm440 0h160v-160H620v160Z\"/>\n",
              "  </svg>\n",
              "    </button>\n",
              "\n",
              "  <style>\n",
              "    .colab-df-container {\n",
              "      display:flex;\n",
              "      gap: 12px;\n",
              "    }\n",
              "\n",
              "    .colab-df-convert {\n",
              "      background-color: #E8F0FE;\n",
              "      border: none;\n",
              "      border-radius: 50%;\n",
              "      cursor: pointer;\n",
              "      display: none;\n",
              "      fill: #1967D2;\n",
              "      height: 32px;\n",
              "      padding: 0 0 0 0;\n",
              "      width: 32px;\n",
              "    }\n",
              "\n",
              "    .colab-df-convert:hover {\n",
              "      background-color: #E2EBFA;\n",
              "      box-shadow: 0px 1px 2px rgba(60, 64, 67, 0.3), 0px 1px 3px 1px rgba(60, 64, 67, 0.15);\n",
              "      fill: #174EA6;\n",
              "    }\n",
              "\n",
              "    .colab-df-buttons div {\n",
              "      margin-bottom: 4px;\n",
              "    }\n",
              "\n",
              "    [theme=dark] .colab-df-convert {\n",
              "      background-color: #3B4455;\n",
              "      fill: #D2E3FC;\n",
              "    }\n",
              "\n",
              "    [theme=dark] .colab-df-convert:hover {\n",
              "      background-color: #434B5C;\n",
              "      box-shadow: 0px 1px 3px 1px rgba(0, 0, 0, 0.15);\n",
              "      filter: drop-shadow(0px 1px 2px rgba(0, 0, 0, 0.3));\n",
              "      fill: #FFFFFF;\n",
              "    }\n",
              "  </style>\n",
              "\n",
              "    <script>\n",
              "      const buttonEl =\n",
              "        document.querySelector('#df-546ca6fb-e411-4a7e-9502-9801428e4f51 button.colab-df-convert');\n",
              "      buttonEl.style.display =\n",
              "        google.colab.kernel.accessAllowed ? 'block' : 'none';\n",
              "\n",
              "      async function convertToInteractive(key) {\n",
              "        const element = document.querySelector('#df-546ca6fb-e411-4a7e-9502-9801428e4f51');\n",
              "        const dataTable =\n",
              "          await google.colab.kernel.invokeFunction('convertToInteractive',\n",
              "                                                    [key], {});\n",
              "        if (!dataTable) return;\n",
              "\n",
              "        const docLinkHtml = 'Like what you see? Visit the ' +\n",
              "          '<a target=\"_blank\" href=https://colab.research.google.com/notebooks/data_table.ipynb>data table notebook</a>'\n",
              "          + ' to learn more about interactive tables.';\n",
              "        element.innerHTML = '';\n",
              "        dataTable['output_type'] = 'display_data';\n",
              "        await google.colab.output.renderOutput(dataTable, element);\n",
              "        const docLink = document.createElement('div');\n",
              "        docLink.innerHTML = docLinkHtml;\n",
              "        element.appendChild(docLink);\n",
              "      }\n",
              "    </script>\n",
              "  </div>\n",
              "\n",
              "\n",
              "<div id=\"df-d8358e25-212d-4627-b047-094905599bd2\">\n",
              "  <button class=\"colab-df-quickchart\" onclick=\"quickchart('df-d8358e25-212d-4627-b047-094905599bd2')\"\n",
              "            title=\"Suggest charts\"\n",
              "            style=\"display:none;\">\n",
              "\n",
              "<svg xmlns=\"http://www.w3.org/2000/svg\" height=\"24px\"viewBox=\"0 0 24 24\"\n",
              "     width=\"24px\">\n",
              "    <g>\n",
              "        <path d=\"M19 3H5c-1.1 0-2 .9-2 2v14c0 1.1.9 2 2 2h14c1.1 0 2-.9 2-2V5c0-1.1-.9-2-2-2zM9 17H7v-7h2v7zm4 0h-2V7h2v10zm4 0h-2v-4h2v4z\"/>\n",
              "    </g>\n",
              "</svg>\n",
              "  </button>\n",
              "\n",
              "<style>\n",
              "  .colab-df-quickchart {\n",
              "      --bg-color: #E8F0FE;\n",
              "      --fill-color: #1967D2;\n",
              "      --hover-bg-color: #E2EBFA;\n",
              "      --hover-fill-color: #174EA6;\n",
              "      --disabled-fill-color: #AAA;\n",
              "      --disabled-bg-color: #DDD;\n",
              "  }\n",
              "\n",
              "  [theme=dark] .colab-df-quickchart {\n",
              "      --bg-color: #3B4455;\n",
              "      --fill-color: #D2E3FC;\n",
              "      --hover-bg-color: #434B5C;\n",
              "      --hover-fill-color: #FFFFFF;\n",
              "      --disabled-bg-color: #3B4455;\n",
              "      --disabled-fill-color: #666;\n",
              "  }\n",
              "\n",
              "  .colab-df-quickchart {\n",
              "    background-color: var(--bg-color);\n",
              "    border: none;\n",
              "    border-radius: 50%;\n",
              "    cursor: pointer;\n",
              "    display: none;\n",
              "    fill: var(--fill-color);\n",
              "    height: 32px;\n",
              "    padding: 0;\n",
              "    width: 32px;\n",
              "  }\n",
              "\n",
              "  .colab-df-quickchart:hover {\n",
              "    background-color: var(--hover-bg-color);\n",
              "    box-shadow: 0 1px 2px rgba(60, 64, 67, 0.3), 0 1px 3px 1px rgba(60, 64, 67, 0.15);\n",
              "    fill: var(--button-hover-fill-color);\n",
              "  }\n",
              "\n",
              "  .colab-df-quickchart-complete:disabled,\n",
              "  .colab-df-quickchart-complete:disabled:hover {\n",
              "    background-color: var(--disabled-bg-color);\n",
              "    fill: var(--disabled-fill-color);\n",
              "    box-shadow: none;\n",
              "  }\n",
              "\n",
              "  .colab-df-spinner {\n",
              "    border: 2px solid var(--fill-color);\n",
              "    border-color: transparent;\n",
              "    border-bottom-color: var(--fill-color);\n",
              "    animation:\n",
              "      spin 1s steps(1) infinite;\n",
              "  }\n",
              "\n",
              "  @keyframes spin {\n",
              "    0% {\n",
              "      border-color: transparent;\n",
              "      border-bottom-color: var(--fill-color);\n",
              "      border-left-color: var(--fill-color);\n",
              "    }\n",
              "    20% {\n",
              "      border-color: transparent;\n",
              "      border-left-color: var(--fill-color);\n",
              "      border-top-color: var(--fill-color);\n",
              "    }\n",
              "    30% {\n",
              "      border-color: transparent;\n",
              "      border-left-color: var(--fill-color);\n",
              "      border-top-color: var(--fill-color);\n",
              "      border-right-color: var(--fill-color);\n",
              "    }\n",
              "    40% {\n",
              "      border-color: transparent;\n",
              "      border-right-color: var(--fill-color);\n",
              "      border-top-color: var(--fill-color);\n",
              "    }\n",
              "    60% {\n",
              "      border-color: transparent;\n",
              "      border-right-color: var(--fill-color);\n",
              "    }\n",
              "    80% {\n",
              "      border-color: transparent;\n",
              "      border-right-color: var(--fill-color);\n",
              "      border-bottom-color: var(--fill-color);\n",
              "    }\n",
              "    90% {\n",
              "      border-color: transparent;\n",
              "      border-bottom-color: var(--fill-color);\n",
              "    }\n",
              "  }\n",
              "</style>\n",
              "\n",
              "  <script>\n",
              "    async function quickchart(key) {\n",
              "      const quickchartButtonEl =\n",
              "        document.querySelector('#' + key + ' button');\n",
              "      quickchartButtonEl.disabled = true;  // To prevent multiple clicks.\n",
              "      quickchartButtonEl.classList.add('colab-df-spinner');\n",
              "      try {\n",
              "        const charts = await google.colab.kernel.invokeFunction(\n",
              "            'suggestCharts', [key], {});\n",
              "      } catch (error) {\n",
              "        console.error('Error during call to suggestCharts:', error);\n",
              "      }\n",
              "      quickchartButtonEl.classList.remove('colab-df-spinner');\n",
              "      quickchartButtonEl.classList.add('colab-df-quickchart-complete');\n",
              "    }\n",
              "    (() => {\n",
              "      let quickchartButtonEl =\n",
              "        document.querySelector('#df-d8358e25-212d-4627-b047-094905599bd2 button');\n",
              "      quickchartButtonEl.style.display =\n",
              "        google.colab.kernel.accessAllowed ? 'block' : 'none';\n",
              "    })();\n",
              "  </script>\n",
              "</div>\n",
              "\n",
              "    </div>\n",
              "  </div>\n"
            ],
            "application/vnd.google.colaboratory.intrinsic+json": {
              "type": "dataframe",
              "summary": "{\n  \"name\": \"tokenized_train\",\n  \"rows\": 5,\n  \"fields\": [\n    {\n      \"column\": \"input_ids\",\n      \"properties\": {\n        \"dtype\": \"object\",\n        \"semantic_type\": \"\",\n        \"description\": \"\"\n      }\n    },\n    {\n      \"column\": \"attention_mask\",\n      \"properties\": {\n        \"dtype\": \"object\",\n        \"semantic_type\": \"\",\n        \"description\": \"\"\n      }\n    },\n    {\n      \"column\": \"labels\",\n      \"properties\": {\n        \"dtype\": \"object\",\n        \"semantic_type\": \"\",\n        \"description\": \"\"\n      }\n    }\n  ]\n}"
            }
          },
          "metadata": {},
          "execution_count": 126
        }
      ]
    },
    {
      "cell_type": "code",
      "execution_count": 127,
      "id": "1d54e4d1",
      "metadata": {
        "colab": {
          "base_uri": "https://localhost:8080/",
          "height": 1000
        },
        "id": "1d54e4d1",
        "outputId": "63e55d3c-b599-485c-9c1c-c82fec69de96"
      },
      "outputs": [
        {
          "output_type": "stream",
          "name": "stderr",
          "text": [
            "No label_names provided for model class `PeftModelForCausalLM`. Since `PeftModel` hides base models input arguments, if label_names is not given, label_names can't be set automatically within `Trainer`. Note that empty label_names list will be used instead.\n"
          ]
        },
        {
          "output_type": "display_data",
          "data": {
            "text/plain": [
              "<IPython.core.display.HTML object>"
            ],
            "text/html": [
              "\n",
              "    <div>\n",
              "      \n",
              "      <progress value='3654' max='3654' style='width:300px; height:20px; vertical-align: middle;'></progress>\n",
              "      [3654/3654 05:06, Epoch 3/3]\n",
              "    </div>\n",
              "    <table border=\"1\" class=\"dataframe\">\n",
              "  <thead>\n",
              " <tr style=\"text-align: left;\">\n",
              "      <th>Step</th>\n",
              "      <th>Training Loss</th>\n",
              "      <th>Validation Loss</th>\n",
              "    </tr>\n",
              "  </thead>\n",
              "  <tbody>\n",
              "    <tr>\n",
              "      <td>100</td>\n",
              "      <td>2.867200</td>\n",
              "      <td>2.800848</td>\n",
              "    </tr>\n",
              "    <tr>\n",
              "      <td>200</td>\n",
              "      <td>2.816400</td>\n",
              "      <td>2.792110</td>\n",
              "    </tr>\n",
              "    <tr>\n",
              "      <td>300</td>\n",
              "      <td>2.802600</td>\n",
              "      <td>2.796878</td>\n",
              "    </tr>\n",
              "    <tr>\n",
              "      <td>400</td>\n",
              "      <td>2.836500</td>\n",
              "      <td>2.800002</td>\n",
              "    </tr>\n",
              "    <tr>\n",
              "      <td>500</td>\n",
              "      <td>2.810800</td>\n",
              "      <td>2.796836</td>\n",
              "    </tr>\n",
              "    <tr>\n",
              "      <td>600</td>\n",
              "      <td>2.815000</td>\n",
              "      <td>2.791668</td>\n",
              "    </tr>\n",
              "    <tr>\n",
              "      <td>700</td>\n",
              "      <td>2.832800</td>\n",
              "      <td>2.790341</td>\n",
              "    </tr>\n",
              "    <tr>\n",
              "      <td>800</td>\n",
              "      <td>2.826300</td>\n",
              "      <td>2.787473</td>\n",
              "    </tr>\n",
              "    <tr>\n",
              "      <td>900</td>\n",
              "      <td>2.817200</td>\n",
              "      <td>2.782891</td>\n",
              "    </tr>\n",
              "    <tr>\n",
              "      <td>1000</td>\n",
              "      <td>2.829400</td>\n",
              "      <td>2.787349</td>\n",
              "    </tr>\n",
              "    <tr>\n",
              "      <td>1100</td>\n",
              "      <td>2.814000</td>\n",
              "      <td>2.777052</td>\n",
              "    </tr>\n",
              "    <tr>\n",
              "      <td>1200</td>\n",
              "      <td>2.804400</td>\n",
              "      <td>2.778624</td>\n",
              "    </tr>\n",
              "    <tr>\n",
              "      <td>1300</td>\n",
              "      <td>2.776400</td>\n",
              "      <td>2.781342</td>\n",
              "    </tr>\n",
              "    <tr>\n",
              "      <td>1400</td>\n",
              "      <td>2.803000</td>\n",
              "      <td>2.779537</td>\n",
              "    </tr>\n",
              "    <tr>\n",
              "      <td>1500</td>\n",
              "      <td>2.806600</td>\n",
              "      <td>2.774576</td>\n",
              "    </tr>\n",
              "    <tr>\n",
              "      <td>1600</td>\n",
              "      <td>2.781100</td>\n",
              "      <td>2.779038</td>\n",
              "    </tr>\n",
              "    <tr>\n",
              "      <td>1700</td>\n",
              "      <td>2.808300</td>\n",
              "      <td>2.775173</td>\n",
              "    </tr>\n",
              "    <tr>\n",
              "      <td>1800</td>\n",
              "      <td>2.784300</td>\n",
              "      <td>2.781327</td>\n",
              "    </tr>\n",
              "    <tr>\n",
              "      <td>1900</td>\n",
              "      <td>2.794200</td>\n",
              "      <td>2.773773</td>\n",
              "    </tr>\n",
              "    <tr>\n",
              "      <td>2000</td>\n",
              "      <td>2.827900</td>\n",
              "      <td>2.775088</td>\n",
              "    </tr>\n",
              "    <tr>\n",
              "      <td>2100</td>\n",
              "      <td>2.830000</td>\n",
              "      <td>2.772289</td>\n",
              "    </tr>\n",
              "    <tr>\n",
              "      <td>2200</td>\n",
              "      <td>2.803000</td>\n",
              "      <td>2.769590</td>\n",
              "    </tr>\n",
              "    <tr>\n",
              "      <td>2300</td>\n",
              "      <td>2.816000</td>\n",
              "      <td>2.773129</td>\n",
              "    </tr>\n",
              "    <tr>\n",
              "      <td>2400</td>\n",
              "      <td>2.802500</td>\n",
              "      <td>2.769454</td>\n",
              "    </tr>\n",
              "    <tr>\n",
              "      <td>2500</td>\n",
              "      <td>2.846700</td>\n",
              "      <td>2.768395</td>\n",
              "    </tr>\n",
              "    <tr>\n",
              "      <td>2600</td>\n",
              "      <td>2.780700</td>\n",
              "      <td>2.768158</td>\n",
              "    </tr>\n",
              "    <tr>\n",
              "      <td>2700</td>\n",
              "      <td>2.802100</td>\n",
              "      <td>2.769028</td>\n",
              "    </tr>\n",
              "    <tr>\n",
              "      <td>2800</td>\n",
              "      <td>2.764800</td>\n",
              "      <td>2.769476</td>\n",
              "    </tr>\n",
              "    <tr>\n",
              "      <td>2900</td>\n",
              "      <td>2.800600</td>\n",
              "      <td>2.767972</td>\n",
              "    </tr>\n",
              "    <tr>\n",
              "      <td>3000</td>\n",
              "      <td>2.769800</td>\n",
              "      <td>2.764670</td>\n",
              "    </tr>\n",
              "    <tr>\n",
              "      <td>3100</td>\n",
              "      <td>2.768300</td>\n",
              "      <td>2.768509</td>\n",
              "    </tr>\n",
              "    <tr>\n",
              "      <td>3200</td>\n",
              "      <td>2.792600</td>\n",
              "      <td>2.766207</td>\n",
              "    </tr>\n",
              "    <tr>\n",
              "      <td>3300</td>\n",
              "      <td>2.795700</td>\n",
              "      <td>2.767022</td>\n",
              "    </tr>\n",
              "    <tr>\n",
              "      <td>3400</td>\n",
              "      <td>2.769900</td>\n",
              "      <td>2.763896</td>\n",
              "    </tr>\n",
              "    <tr>\n",
              "      <td>3500</td>\n",
              "      <td>2.784800</td>\n",
              "      <td>2.766581</td>\n",
              "    </tr>\n",
              "    <tr>\n",
              "      <td>3600</td>\n",
              "      <td>2.787600</td>\n",
              "      <td>2.765156</td>\n",
              "    </tr>\n",
              "  </tbody>\n",
              "</table><p>"
            ]
          },
          "metadata": {}
        },
        {
          "output_type": "execute_result",
          "data": {
            "text/plain": [
              "TrainOutput(global_step=3654, training_loss=2.80487118592077, metrics={'train_runtime': 306.813, 'train_samples_per_second': 95.247, 'train_steps_per_second': 11.91, 'total_flos': 1909761611268096.0, 'train_loss': 2.80487118592077, 'epoch': 3.0})"
            ]
          },
          "metadata": {},
          "execution_count": 127
        }
      ],
      "source": [
        "from transformers import Trainer, TrainingArguments, DataCollatorForLanguageModeling\n",
        "\n",
        "data_collator = DataCollatorForLanguageModeling(\n",
        "    tokenizer=tokenizer,\n",
        "    mlm=False\n",
        ")\n",
        "\n",
        "\n",
        "training_args = TrainingArguments(\n",
        "    output_dir=f\"./IA3_{model_name}\",\n",
        "    per_device_train_batch_size=8,\n",
        "    per_device_eval_batch_size=8,\n",
        "    num_train_epochs=3,\n",
        "    eval_strategy=\"steps\",\n",
        "    eval_steps=100,\n",
        "    save_steps=1000,\n",
        "    logging_dir=\"./logs\",\n",
        "    logging_steps=100,\n",
        "    report_to=\"none\",\n",
        "\n",
        "    learning_rate=5e-3,\n",
        "\n",
        ")\n",
        "\n",
        "trainer = Trainer(\n",
        "    model=peft_model,\n",
        "    args=training_args,\n",
        "    train_dataset=tokenized_train,\n",
        "    eval_dataset=tokenized_eval,\n",
        "    data_collator=data_collator,\n",
        ")\n",
        "\n",
        "\n",
        "trainer.train()\n",
        "\n"
      ]
    },
    {
      "cell_type": "code",
      "execution_count": 130,
      "id": "9e9841a4",
      "metadata": {
        "colab": {
          "base_uri": "https://localhost:8080/"
        },
        "id": "9e9841a4",
        "outputId": "b40179ec-09c4-494f-af25-984cbc94f68a"
      },
      "outputs": [
        {
          "output_type": "execute_result",
          "data": {
            "text/plain": [
              "('./IA3_gpt2_final/tokenizer_config.json',\n",
              " './IA3_gpt2_final/special_tokens_map.json',\n",
              " './IA3_gpt2_final/vocab.json',\n",
              " './IA3_gpt2_final/merges.txt',\n",
              " './IA3_gpt2_final/added_tokens.json',\n",
              " './IA3_gpt2_final/tokenizer.json')"
            ]
          },
          "metadata": {},
          "execution_count": 130
        }
      ],
      "source": [
        "peft_model.save_pretrained(f\"./IA3_{model_name}_final\")\n",
        "tokenizer.save_pretrained(f\"./IA3_{model_name}_final\")"
      ]
    },
    {
      "cell_type": "code",
      "execution_count": 131,
      "id": "3c8e9c82",
      "metadata": {
        "id": "3c8e9c82"
      },
      "outputs": [],
      "source": [
        "from peft import PeftModel, PeftConfig\n",
        "peft_config = PeftConfig.from_pretrained(f\"./IA3_{model_name}_final\")\n",
        "\n",
        "base_model = AutoModelForCausalLM.from_pretrained(peft_config.base_model_name_or_path)\n",
        "model = PeftModel.from_pretrained(base_model, f\"./IA3_{model_name}_final\")\n",
        "\n",
        "tokenizer = AutoTokenizer.from_pretrained(f\"./IA3_{model_name}_final\")"
      ]
    },
    {
      "cell_type": "code",
      "source": [
        "from transformers import pipeline\n",
        "import torch\n",
        "from tqdm import tqdm\n",
        "\n",
        "# Use the PEFT model (already trained) and tokenizer\n",
        "peft_model.eval()\n",
        "pipe = pipeline(\"text-generation\", model=peft_model, tokenizer=tokenizer, device=0 if torch.cuda.is_available() else -1)\n",
        "\n",
        "def format_prompt(example):\n",
        "    question = example[\"question\"]\n",
        "    choices = example[\"choices\"][\"text\"]\n",
        "    prompt = f\"Q: {question}\\nO: {' /// '.join(choices)}\\nA: \"\n",
        "    return prompt, choices\n",
        "\n",
        "correct = 0\n",
        "total = 0\n",
        "\n",
        "for example in tqdm(eval_data, total=len(eval_data)):\n",
        "    prompt, choices = format_prompt(example)\n",
        "\n",
        "    # Generate prediction\n",
        "    output = pipe(prompt, max_new_tokens=10, do_sample=False, eos_token_id=tokenizer.eos_token_id)[0][\"generated_text\"]\n",
        "\n",
        "    # Extract generated answer (after \"Answer:\")\n",
        "    generated = output.split(\"\\n\")[2].split(\"A:\")[-1].strip().split(\" /// \")[0].strip()\n",
        "\n",
        "\n",
        "    # Get ground truth\n",
        "    answer_key = example[\"answerKey\"]\n",
        "    labels = example[\"choices\"][\"label\"]\n",
        "    true_answer = example[\"choices\"][\"text\"][labels.index(answer_key)].strip()\n",
        "\n",
        "    print(\"\\n\".join(output.split(\"\\n\")[:3]))\n",
        "    print(f\"\\n\\nModel: {generated} and Actual Answer: {true_answer}\")\n",
        "\n",
        "    if generated == true_answer:\n",
        "        correct += 1\n",
        "    total += 1\n",
        "\n",
        "accuracy = correct / total\n",
        "print(f\"Accuracy: {accuracy:.2%}\")\n"
      ],
      "metadata": {
        "id": "vif2bErZEA_Y",
        "outputId": "a90b1aa1-aacb-4555-9345-e781c0cece40",
        "colab": {
          "base_uri": "https://localhost:8080/"
        }
      },
      "id": "vif2bErZEA_Y",
      "execution_count": 137,
      "outputs": [
        {
          "output_type": "stream",
          "name": "stderr",
          "text": [
            "Device set to use cuda:0\n",
            "The model 'PeftModelForCausalLM' is not supported for text-generation. Supported models are ['AriaTextForCausalLM', 'BambaForCausalLM', 'BartForCausalLM', 'BertLMHeadModel', 'BertGenerationDecoder', 'BigBirdForCausalLM', 'BigBirdPegasusForCausalLM', 'BioGptForCausalLM', 'BlenderbotForCausalLM', 'BlenderbotSmallForCausalLM', 'BloomForCausalLM', 'CamembertForCausalLM', 'LlamaForCausalLM', 'CodeGenForCausalLM', 'CohereForCausalLM', 'Cohere2ForCausalLM', 'CpmAntForCausalLM', 'CTRLLMHeadModel', 'Data2VecTextForCausalLM', 'DbrxForCausalLM', 'DeepseekV3ForCausalLM', 'DiffLlamaForCausalLM', 'ElectraForCausalLM', 'Emu3ForCausalLM', 'ErnieForCausalLM', 'FalconForCausalLM', 'FalconMambaForCausalLM', 'FuyuForCausalLM', 'GemmaForCausalLM', 'Gemma2ForCausalLM', 'Gemma3ForConditionalGeneration', 'Gemma3ForCausalLM', 'GitForCausalLM', 'GlmForCausalLM', 'Glm4ForCausalLM', 'GotOcr2ForConditionalGeneration', 'GPT2LMHeadModel', 'GPT2LMHeadModel', 'GPTBigCodeForCausalLM', 'GPTNeoForCausalLM', 'GPTNeoXForCausalLM', 'GPTNeoXJapaneseForCausalLM', 'GPTJForCausalLM', 'GraniteForCausalLM', 'GraniteMoeForCausalLM', 'GraniteMoeSharedForCausalLM', 'HeliumForCausalLM', 'JambaForCausalLM', 'JetMoeForCausalLM', 'LlamaForCausalLM', 'Llama4ForCausalLM', 'Llama4ForCausalLM', 'MambaForCausalLM', 'Mamba2ForCausalLM', 'MarianForCausalLM', 'MBartForCausalLM', 'MegaForCausalLM', 'MegatronBertForCausalLM', 'MistralForCausalLM', 'MixtralForCausalLM', 'MllamaForCausalLM', 'MoshiForCausalLM', 'MptForCausalLM', 'MusicgenForCausalLM', 'MusicgenMelodyForCausalLM', 'MvpForCausalLM', 'NemotronForCausalLM', 'OlmoForCausalLM', 'Olmo2ForCausalLM', 'OlmoeForCausalLM', 'OpenLlamaForCausalLM', 'OpenAIGPTLMHeadModel', 'OPTForCausalLM', 'PegasusForCausalLM', 'PersimmonForCausalLM', 'PhiForCausalLM', 'Phi3ForCausalLM', 'Phi4MultimodalForCausalLM', 'PhimoeForCausalLM', 'PLBartForCausalLM', 'ProphetNetForCausalLM', 'QDQBertLMHeadModel', 'Qwen2ForCausalLM', 'Qwen2MoeForCausalLM', 'Qwen3ForCausalLM', 'Qwen3MoeForCausalLM', 'RecurrentGemmaForCausalLM', 'ReformerModelWithLMHead', 'RemBertForCausalLM', 'RobertaForCausalLM', 'RobertaPreLayerNormForCausalLM', 'RoCBertForCausalLM', 'RoFormerForCausalLM', 'RwkvForCausalLM', 'Speech2Text2ForCausalLM', 'StableLmForCausalLM', 'Starcoder2ForCausalLM', 'TransfoXLLMHeadModel', 'TrOCRForCausalLM', 'WhisperForCausalLM', 'XGLMForCausalLM', 'XLMWithLMHeadModel', 'XLMProphetNetForCausalLM', 'XLMRobertaForCausalLM', 'XLMRobertaXLForCausalLM', 'XLNetLMHeadModel', 'XmodForCausalLM', 'ZambaForCausalLM', 'Zamba2ForCausalLM'].\n",
            "  0%|          | 2/1221 [00:00<02:38,  7.71it/s]"
          ]
        },
        {
          "output_type": "stream",
          "name": "stdout",
          "text": [
            "Q: A revolving door is convenient for two direction travel, but it also serves as a security measure at a what?\n",
            "O: bank /// library /// department store /// mall /// new york\n",
            "A:  library /// department store /// mall\n",
            "\n",
            "\n",
            "Model: library and Actual Answer: bank\n",
            "Q: What do people aim to do at work?\n",
            "O: complete job /// learn from each other /// kill animals /// wear hats /// talk to each other\n",
            "A:  learn from each other /// talk to each other\n",
            "\n",
            "\n",
            "Model: learn from each other and Actual Answer: complete job\n"
          ]
        },
        {
          "output_type": "stream",
          "name": "stderr",
          "text": [
            "  0%|          | 4/1221 [00:00<02:35,  7.83it/s]"
          ]
        },
        {
          "output_type": "stream",
          "name": "stdout",
          "text": [
            "Q: Where would you find magazines along side many other printed works?\n",
            "O: doctor /// bookstore /// market /// train station /// mortuary\n",
            "A:  bookstore /// mortuary\n",
            "\n",
            "\n",
            "Model: bookstore and Actual Answer: bookstore\n",
            "Q: Where are  you likely to find a hamburger?\n",
            "O: fast food restaurant /// pizza /// ground up dead cows /// mouth /// cow carcus\n",
            "A:  ground up dead cows /// mouth\n",
            "\n",
            "\n",
            "Model: ground up dead cows and Actual Answer: fast food restaurant\n"
          ]
        },
        {
          "output_type": "stream",
          "name": "stderr",
          "text": [
            "  0%|          | 6/1221 [00:00<02:38,  7.66it/s]"
          ]
        },
        {
          "output_type": "stream",
          "name": "stdout",
          "text": [
            "Q: James was looking for a good place to buy farmland.  Where might he look?\n",
            "O: midwest /// countryside /// estate /// farming areas /// illinois\n",
            "A:  countryside /// estate\n",
            "\n",
            "\n",
            "Model: countryside and Actual Answer: midwest\n",
            "Q: What island country is ferret popular?\n",
            "O: own home /// north carolina /// great britain /// hutch /// outdoors\n",
            "A:  hutch\n",
            "\n",
            "\n",
            "Model: hutch and Actual Answer: great britain\n"
          ]
        },
        {
          "output_type": "stream",
          "name": "stderr",
          "text": [
            "  1%|          | 8/1221 [00:01<02:40,  7.58it/s]"
          ]
        },
        {
          "output_type": "stream",
          "name": "stdout",
          "text": [
            "Q: In what Spanish speaking North American country can you get a great cup of coffee?\n",
            "O: mildred's coffee shop /// mexico /// diner /// kitchen /// canteen\n",
            "A:  mexico /// diner\n",
            "\n",
            "\n",
            "Model: mexico and Actual Answer: mexico\n",
            "Q: What do animals do when an enemy is approaching?\n",
            "O: feel pleasure /// procreate /// pass water /// listen to each other /// sing\n",
            "A:  procreate /// pass water\n",
            "\n",
            "\n",
            "Model: procreate and Actual Answer: listen to each other\n"
          ]
        },
        {
          "output_type": "stream",
          "name": "stderr",
          "text": [
            "  1%|          | 10/1221 [00:01<02:38,  7.62it/s]"
          ]
        },
        {
          "output_type": "stream",
          "name": "stdout",
          "text": [
            "Q: Reading newspaper one of many ways to practice your what?\n",
            "O: literacy /// knowing how to read /// money /// buying /// money bank\n",
            "A:  learning how to read /// money bank\n",
            "\n",
            "\n",
            "Model: learning how to read and Actual Answer: literacy\n",
            "Q: What do people typically do while playing guitar?\n",
            "O: cry /// hear sounds /// singing /// arthritis /// making music\n",
            "A:  cry /// make music\n",
            "\n",
            "\n",
            "Model: cry and Actual Answer: singing\n"
          ]
        },
        {
          "output_type": "stream",
          "name": "stderr",
          "text": [
            "  1%|          | 12/1221 [00:01<02:38,  7.63it/s]"
          ]
        },
        {
          "output_type": "stream",
          "name": "stdout",
          "text": [
            "Q: What would vinyl be an odd thing to replace?\n",
            "O: pants /// record albums /// record store /// cheese /// wallpaper\n",
            "A:  cheese /// wallpaper\n",
            "\n",
            "\n",
            "Model: cheese and Actual Answer: wallpaper\n",
            "Q: If you want harmony, what is something you should try to do with the world?\n",
            "O: take time /// make noise /// make war /// make peace /// make haste\n",
            "A:  make peace /// make haste\n",
            "\n",
            "\n",
            "Model: make peace and Actual Answer: make peace\n"
          ]
        },
        {
          "output_type": "stream",
          "name": "stderr",
          "text": [
            "  1%|          | 14/1221 [00:01<02:37,  7.65it/s]"
          ]
        },
        {
          "output_type": "stream",
          "name": "stdout",
          "text": [
            "Q: Where does a heifer's master live?\n",
            "O: farm house /// barnyard /// stockyard /// slaughter house /// eat cake\n",
            "A:  farm house /// slaughter house\n",
            "\n",
            "\n",
            "Model: farm house and Actual Answer: farm house\n",
            "Q: Aside from water and nourishment what does your dog need?\n",
            "O: bone /// charm /// petted /// lots of attention /// walked\n",
            "A:  bone /// charm /// lot of attention\n",
            "\n",
            "\n",
            "Model: bone and Actual Answer: lots of attention\n"
          ]
        },
        {
          "output_type": "stream",
          "name": "stderr",
          "text": [
            "  1%|▏         | 16/1221 [00:02<02:38,  7.63it/s]"
          ]
        },
        {
          "output_type": "stream",
          "name": "stdout",
          "text": [
            "Q: Janet was watching the film because she liked what?\n",
            "O: erection /// laughter /// being entertained /// fear /// bordem\n",
            "A:  being entertained /// bordem\n",
            "\n",
            "\n",
            "Model: being entertained and Actual Answer: being entertained\n",
            "Q: What are you waiting alongside with when you're in a reception area?\n",
            "O: motel /// chair /// hospital /// people /// hotels\n",
            "A:  hotel /// hotel\n",
            "\n",
            "\n",
            "Model: hotel and Actual Answer: people\n"
          ]
        },
        {
          "output_type": "stream",
          "name": "stderr",
          "text": [
            "  1%|▏         | 18/1221 [00:02<02:36,  7.70it/s]"
          ]
        },
        {
          "output_type": "stream",
          "name": "stdout",
          "text": [
            "Q: When drinking booze what can you do to stay busy?\n",
            "O: reach tentative agreement /// stay in bed /// stop bicycle /// examine thing /// suicide\n",
            "A:  stay in bed /// stop bicycle\n",
            "\n",
            "\n",
            "Model: stay in bed and Actual Answer: examine thing\n",
            "Q: A fencing thrust with a sharp sword towards a person would result in what?\n",
            "O: injury /// small cuts /// fever /// competition /// puncture wound\n",
            "A:  injury /// injury\n",
            "\n",
            "\n",
            "Model: injury and Actual Answer: puncture wound\n"
          ]
        },
        {
          "output_type": "stream",
          "name": "stderr",
          "text": [
            "  2%|▏         | 20/1221 [00:02<02:34,  7.76it/s]"
          ]
        },
        {
          "output_type": "stream",
          "name": "stdout",
          "text": [
            "Q: Unlike a spider and his many sight seers, people only have what?\n",
            "O: tongues /// names /// brains /// feelings /// two eyes\n",
            "A:  tongues /// brains\n",
            "\n",
            "\n",
            "Model: tongues and Actual Answer: two eyes\n",
            "Q: Where do adults use glue sticks?\n",
            "O: classroom /// desk drawer /// at school /// office /// kitchen drawer\n",
            "A:  desk drawer\n",
            "\n",
            "\n",
            "Model: desk drawer and Actual Answer: office\n"
          ]
        },
        {
          "output_type": "stream",
          "name": "stderr",
          "text": [
            "  2%|▏         | 22/1221 [00:02<02:40,  7.49it/s]"
          ]
        },
        {
          "output_type": "stream",
          "name": "stdout",
          "text": [
            "Q: What could go on top of wood?\n",
            "O: lumberyard /// synagogue /// floor /// carpet /// hardware store\n",
            "A:  carpet /// floor\n",
            "\n",
            "\n",
            "Model: carpet and Actual Answer: carpet\n",
            "Q: The artist was sitting quietly pondering, then suddenly he began to paint when what struck him?\n",
            "O: sadness /// anxiety /// inspiration /// discomfort /// insights\n",
            "A:  discomfort /// insight\n",
            "\n",
            "\n",
            "Model: discomfort and Actual Answer: inspiration\n"
          ]
        },
        {
          "output_type": "stream",
          "name": "stderr",
          "text": [
            "  2%|▏         | 24/1221 [00:03<02:40,  7.48it/s]"
          ]
        },
        {
          "output_type": "stream",
          "name": "stdout",
          "text": [
            "Q: Though the thin film seemed fragile, for it's intended purpose it was actually nearly what?\n",
            "O: indestructible /// durable /// undestroyable /// indestructible /// unbreakable\n",
            "A:  indestructible /// indestructible\n",
            "\n",
            "\n",
            "Model: indestructible and Actual Answer: indestructible\n",
            "Q: Where could you find a toilet that only friends can use?\n",
            "O: rest area /// school /// stadium /// apartment /// hospital\n",
            "A:  hospital /// hospital\n",
            "\n",
            "\n",
            "Model: hospital and Actual Answer: apartment\n"
          ]
        },
        {
          "output_type": "stream",
          "name": "stderr",
          "text": [
            "  2%|▏         | 26/1221 [00:03<02:35,  7.69it/s]"
          ]
        },
        {
          "output_type": "stream",
          "name": "stdout",
          "text": [
            "Q: What is someone who isn't clever, bright, or competent called?\n",
            "O: clumsy /// ineffectual /// dull /// clumsy /// stupid\n",
            "A:  stupid\n",
            "\n",
            "\n",
            "Model: stupid and Actual Answer: stupid\n",
            "Q: When wildlife reproduce we often refer to what comes out as what?\n",
            "O: raise children /// have children /// photo copy /// offspring /// accidently got pregnant somehow\n",
            "A:  offspring /// accidently got pregnant\n",
            "\n",
            "\n",
            "Model: offspring and Actual Answer: offspring\n"
          ]
        },
        {
          "output_type": "stream",
          "name": "stderr",
          "text": [
            "  2%|▏         | 28/1221 [00:03<02:33,  7.77it/s]"
          ]
        },
        {
          "output_type": "stream",
          "name": "stdout",
          "text": [
            "Q: The weasel was becoming a problem, it kept getting into the chicken eggs kept in the what?\n",
            "O: forrest /// barn /// public office /// out of doors /// freezer\n",
            "A:  barn /// out of doors\n",
            "\n",
            "\n",
            "Model: barn and Actual Answer: barn\n",
            "Q: Blue read material outside of his comfort zone because he wanted to gain what?\n",
            "O: new perspective /// entertained /// understanding /// hunger /// tired eyes\n",
            "A:  tired eyes\n",
            "\n",
            "\n",
            "Model: tired eyes and Actual Answer: new perspective\n"
          ]
        },
        {
          "output_type": "stream",
          "name": "stderr",
          "text": [
            "  2%|▏         | 30/1221 [00:03<02:34,  7.71it/s]"
          ]
        },
        {
          "output_type": "stream",
          "name": "stdout",
          "text": [
            "Q: After he got hired he hoped for success at his what?\n",
            "O: vocation /// new job /// michigan /// working hard /// manual\n",
            "A:  working hard /// manual\n",
            "\n",
            "\n",
            "Model: working hard and Actual Answer: new job\n",
            "Q: Committing perjury is a serious what?\n",
            "O: indictment /// crime /// violence /// lie /// go to jail\n",
            "A:  crime /// go to jail\n",
            "\n",
            "\n",
            "Model: crime and Actual Answer: crime\n"
          ]
        },
        {
          "output_type": "stream",
          "name": "stderr",
          "text": [
            "  3%|▎         | 32/1221 [00:04<02:32,  7.77it/s]"
          ]
        },
        {
          "output_type": "stream",
          "name": "stdout",
          "text": [
            "Q: If you are prone to postpone work what will you have to do in order to finish on time?\n",
            "O: eat /// hasten /// antedate /// bring forward /// advance\n",
            "A:  hasten /// advance\n",
            "\n",
            "\n",
            "Model: hasten and Actual Answer: hasten\n",
            "Q: James wanted to find an old underground map from the 50s.  Where might he look for one?\n",
            "O: library /// subway station /// county engineer's office /// super market /// home\n",
            "A:  subway station /// super market\n",
            "\n",
            "\n",
            "Model: subway station and Actual Answer: library\n"
          ]
        },
        {
          "output_type": "stream",
          "name": "stderr",
          "text": [
            "  3%|▎         | 34/1221 [00:04<02:31,  7.86it/s]"
          ]
        },
        {
          "output_type": "stream",
          "name": "stdout",
          "text": [
            "Q: Sean was in a rush to get home, but the light turned yellow and he was forced to do what?\n",
            "O: take time /// dawdle /// go slowly /// ocean /// slow down\n",
            "A:  go slowly /// slow down\n",
            "\n",
            "\n",
            "Model: go slowly and Actual Answer: slow down\n",
            "Q: Where would a person be doing when having to wait their turn?\n",
            "O: have patience /// get in line /// sing /// stand in line /// turn left\n",
            "A:  stand in line /// stand in line\n",
            "\n",
            "\n",
            "Model: stand in line and Actual Answer: stand in line\n"
          ]
        },
        {
          "output_type": "stream",
          "name": "stderr",
          "text": [
            "  3%|▎         | 36/1221 [00:04<02:30,  7.88it/s]"
          ]
        },
        {
          "output_type": "stream",
          "name": "stdout",
          "text": [
            "Q: She was always helping at the senior center, it brought her what?\n",
            "O: satisfaction /// heart /// feel better /// pay /// happiness\n",
            "A:  satisfaction /// pay\n",
            "\n",
            "\n",
            "Model: satisfaction and Actual Answer: happiness\n",
            "Q: The lock kept the steering wheel from moving, but the thief still took his chances and began to work on the what?\n",
            "O: keep cloesd /// train /// ignition switch /// drawer /// firearm\n",
            "A:  drawer /// ignition switch\n",
            "\n",
            "\n",
            "Model: drawer and Actual Answer: ignition switch\n"
          ]
        },
        {
          "output_type": "stream",
          "name": "stderr",
          "text": [
            "  3%|▎         | 38/1221 [00:04<02:30,  7.86it/s]"
          ]
        },
        {
          "output_type": "stream",
          "name": "stdout",
          "text": [
            "Q: Who is a police officer likely to work for?\n",
            "O: beat /// direct traffic /// city /// street /// president\n",
            "A:  city /// president\n",
            "\n",
            "\n",
            "Model: city and Actual Answer: city\n",
            "Q: If you have leftover cake, where would you put it?\n",
            "O: quandry /// refrigerator /// oven /// night stand /// bakery\n",
            "A:  quandry /// oven\n",
            "\n",
            "\n",
            "Model: quandry and Actual Answer: refrigerator\n"
          ]
        },
        {
          "output_type": "stream",
          "name": "stderr",
          "text": [
            "  3%|▎         | 40/1221 [00:05<02:30,  7.83it/s]"
          ]
        },
        {
          "output_type": "stream",
          "name": "stdout",
          "text": [
            "Q: A human wants to submerge himself in water, what should he use?\n",
            "O: whirlpool bath /// coffee cup /// cup /// soft drink /// puddle\n",
            "A:  soft drink /// cup\n",
            "\n",
            "\n",
            "Model: soft drink and Actual Answer: whirlpool bath\n",
            "Q: Where is a doormat likely to be in front of?\n",
            "O: facade /// front door /// doorway /// entrance porch /// hallway\n",
            "A:  doorway /// hallway\n",
            "\n",
            "\n",
            "Model: doorway and Actual Answer: front door\n"
          ]
        },
        {
          "output_type": "stream",
          "name": "stderr",
          "text": [
            "  3%|▎         | 42/1221 [00:05<02:29,  7.89it/s]"
          ]
        },
        {
          "output_type": "stream",
          "name": "stdout",
          "text": [
            "Q: Bob the lizard lives in a warm place with lots of water.  Where does he probably live?\n",
            "O: rock /// tropical rainforest /// jazz club /// new mexico /// rocky places\n",
            "A:  rocky places\n",
            "\n",
            "\n",
            "Model: rocky places and Actual Answer: tropical rainforest\n",
            "Q: August needed  money because he was afraid that he'd be kicked out of his house.  What did he need money to do?\n",
            "O: control people /// pay bills /// hurt people /// buy food /// get things\n",
            "A:  get things\n",
            "\n",
            "\n",
            "Model: get things and Actual Answer: pay bills\n"
          ]
        },
        {
          "output_type": "stream",
          "name": "stderr",
          "text": [
            "  4%|▎         | 44/1221 [00:05<02:30,  7.81it/s]"
          ]
        },
        {
          "output_type": "stream",
          "name": "stdout",
          "text": [
            "Q: He needed more information to fix it, so he consulted the what?\n",
            "O: chickens /// google /// newspaper /// online /// manual\n",
            "A:  newspaper /// manual\n",
            "\n",
            "\n",
            "Model: newspaper and Actual Answer: manual\n",
            "Q: Where can you put a picture frame when it's not hung vertically?\n",
            "O: art show /// wall /// newspaper /// car /// table\n",
            "A:  wall /// table\n",
            "\n",
            "\n",
            "Model: wall and Actual Answer: table\n"
          ]
        },
        {
          "output_type": "stream",
          "name": "stderr",
          "text": [
            "  4%|▍         | 46/1221 [00:05<02:32,  7.71it/s]"
          ]
        },
        {
          "output_type": "stream",
          "name": "stdout",
          "text": [
            "Q: James knew that he shouldn't have been buying beer for minors.  He didn't even get paid for it.  Why was this bad?\n",
            "O: lose money /// fun /// have no money /// broken law /// relaxation\n",
            "A:  lose money /// relaxation\n",
            "\n",
            "\n",
            "Model: lose money and Actual Answer: broken law\n",
            "Q: What is the result of applying for  job?\n",
            "O: anxiety and fear /// increased workload /// praise /// less sleep /// being employed\n",
            "A:  anxiety and fear /// increased workload\n",
            "\n",
            "\n",
            "Model: anxiety and fear and Actual Answer: being employed\n"
          ]
        },
        {
          "output_type": "stream",
          "name": "stderr",
          "text": [
            "  4%|▍         | 48/1221 [00:06<02:30,  7.79it/s]"
          ]
        },
        {
          "output_type": "stream",
          "name": "stdout",
          "text": [
            "Q: What must someone do before they shop?\n",
            "O: get money /// have money /// bring cash /// go to market /// bring cash\n",
            "A:  bring cash /// bring cash\n",
            "\n",
            "\n",
            "Model: bring cash and Actual Answer: get money\n",
            "Q: Because John was first violin, he had to bring something important to work ever day. What did he need to bring to work?\n",
            "O: music store /// obesity /// symphony orchestra /// ochestra /// violin case\n",
            "A:  piano case\n",
            "\n",
            "\n",
            "Model: piano case and Actual Answer: violin case\n"
          ]
        },
        {
          "output_type": "stream",
          "name": "stderr",
          "text": [
            "  4%|▍         | 50/1221 [00:06<02:28,  7.86it/s]"
          ]
        },
        {
          "output_type": "stream",
          "name": "stdout",
          "text": [
            "Q: What is a place that usually does not have an elevator and that sometimes has a telephone book?\n",
            "O: at hotel /// kitchen /// library /// telephone booth /// house\n",
            "A:  library /// telephone booth\n",
            "\n",
            "\n",
            "Model: library and Actual Answer: house\n",
            "Q: Who is likely to be excited about a crab?\n",
            "O: fish market /// pet shop /// fishmongers /// intertidal zone /// obesity\n",
            "A:  pet shop /// intertidal zone\n",
            "\n",
            "\n",
            "Model: pet shop and Actual Answer: fishmongers\n"
          ]
        },
        {
          "output_type": "stream",
          "name": "stderr",
          "text": [
            "  4%|▍         | 52/1221 [00:06<02:28,  7.89it/s]"
          ]
        },
        {
          "output_type": "stream",
          "name": "stdout",
          "text": [
            "Q: Where can a human find clothes that aren't pants?\n",
            "O: pants shop /// on planet earth /// dress shop /// school /// train wreck\n",
            "A:  dress shop /// train wreck\n",
            "\n",
            "\n",
            "Model: dress shop and Actual Answer: dress shop\n",
            "Q: If I was getting drunk, and people couldn't understand me, what might I be having?\n",
            "O: a seizure /// slurred speech /// death /// forgetfulness /// pass out\n",
            "A:  pass out\n",
            "\n",
            "\n",
            "Model: pass out and Actual Answer: slurred speech\n"
          ]
        },
        {
          "output_type": "stream",
          "name": "stderr",
          "text": [
            "  4%|▍         | 54/1221 [00:06<02:28,  7.85it/s]"
          ]
        },
        {
          "output_type": "stream",
          "name": "stdout",
          "text": [
            "Q: When a person is beginning work, what are they building?\n",
            "O: time /// accomplishing /// working /// momentum /// tiredness\n",
            "A:  working /// tiredness\n",
            "\n",
            "\n",
            "Model: working and Actual Answer: momentum\n",
            "Q: A child wants to play, what would they likely want?\n",
            "O: fall down /// breathe /// play tag /// be dismembered by a chainsaw /// become adult\n",
            "A:  fall down /// become adult\n",
            "\n",
            "\n",
            "Model: fall down and Actual Answer: play tag\n"
          ]
        },
        {
          "output_type": "stream",
          "name": "stderr",
          "text": [
            "  5%|▍         | 56/1221 [00:07<02:27,  7.89it/s]"
          ]
        },
        {
          "output_type": "stream",
          "name": "stdout",
          "text": [
            "Q: Talking to the same person about the same thing over and over again is something someone can what?\n",
            "O: social life /// friendship /// eye contact /// get tired of /// learn lessons from\n",
            "A:  social life /// learn lessons from\n",
            "\n",
            "\n",
            "Model: social life and Actual Answer: get tired of\n",
            "Q: The teacher doesn't tolerate noise during a test in their what?\n",
            "O: movie theatre /// bowling alley /// factory /// store /// classroom\n",
            "A:  bowling alley /// classroom\n",
            "\n",
            "\n",
            "Model: bowling alley and Actual Answer: classroom\n"
          ]
        },
        {
          "output_type": "stream",
          "name": "stderr",
          "text": [
            "  5%|▍         | 58/1221 [00:07<02:26,  7.91it/s]"
          ]
        },
        {
          "output_type": "stream",
          "name": "stdout",
          "text": [
            "Q: The freeway had no traffic and few buildings, where is it?\n",
            "O: california /// countryside /// big town /// florida /// america\n",
            "A:  florida /// big city\n",
            "\n",
            "\n",
            "Model: florida and Actual Answer: countryside\n",
            "Q: Where would you go if you wanted to have fun with a few people?\n",
            "O: watching television /// good /// cinema /// friend's house /// fairgrounds\n",
            "A:  fairgrounds\n",
            "\n",
            "\n",
            "Model: fairgrounds and Actual Answer: friend's house\n"
          ]
        },
        {
          "output_type": "stream",
          "name": "stderr",
          "text": [
            "  5%|▍         | 60/1221 [00:07<02:26,  7.91it/s]"
          ]
        },
        {
          "output_type": "stream",
          "name": "stdout",
          "text": [
            "Q: If there is a place that is hot and arid, what could it be?\n",
            "O: bland /// lifeless /// sandy /// neutral /// freezing\n",
            "A:  neutral /// sandy\n",
            "\n",
            "\n",
            "Model: neutral and Actual Answer: lifeless\n",
            "Q: What is likely to satisfy someone's curiosity?\n",
            "O: hear news /// read book /// see favorite show /// comedy show /// go somewhere\n",
            "A:  hear news /// read book\n",
            "\n",
            "\n",
            "Model: hear news and Actual Answer: hear news\n"
          ]
        },
        {
          "output_type": "stream",
          "name": "stderr",
          "text": [
            "  5%|▌         | 62/1221 [00:08<02:32,  7.62it/s]"
          ]
        },
        {
          "output_type": "stream",
          "name": "stdout",
          "text": [
            "Q: If you are in a bar in a glove shaped state where are you?\n",
            "O: in my pocket /// michigan /// new york city /// restaurant /// public house\n",
            "A:  michigan /// new york city\n",
            "\n",
            "\n",
            "Model: michigan and Actual Answer: michigan\n",
            "Q: Where would a computer user be using their own computer?\n",
            "O: hell /// school /// indoors /// internet cafe /// house\n",
            "A:  internet cafe /// house\n",
            "\n",
            "\n",
            "Model: internet cafe and Actual Answer: house\n"
          ]
        },
        {
          "output_type": "stream",
          "name": "stderr",
          "text": [
            "  5%|▌         | 64/1221 [00:08<02:30,  7.68it/s]"
          ]
        },
        {
          "output_type": "stream",
          "name": "stdout",
          "text": [
            "Q: Crabs live in what sort of environment?\n",
            "O: maritime /// bodies of water /// saltwater /// galapagos /// fish market\n",
            "A:  sea /// sea\n",
            "\n",
            "\n",
            "Model: sea and Actual Answer: saltwater\n",
            "Q: Where can you find a snake in tall grass?\n",
            "O: tree /// in a jar /// pet shops /// feild /// tropical forest\n",
            "A:  tropical forest /// pet shops\n",
            "\n",
            "\n",
            "Model: tropical forest and Actual Answer: feild\n"
          ]
        },
        {
          "output_type": "stream",
          "name": "stderr",
          "text": [
            "  5%|▌         | 66/1221 [00:08<02:29,  7.74it/s]"
          ]
        },
        {
          "output_type": "stream",
          "name": "stdout",
          "text": [
            "Q: What is a place that has a bench nestled in trees?\n",
            "O: state park /// bus stop /// bus depot /// statue /// train station\n",
            "A:  bus stop /// train station\n",
            "\n",
            "\n",
            "Model: bus stop and Actual Answer: state park\n",
            "Q: Where is a human likely to go as a result of being hungry?\n",
            "O: eat in restaurant /// make bread /// have lunch /// cook dinner /// friends house\n",
            "A:  eat in restaurant /// cook dinner\n",
            "\n",
            "\n",
            "Model: eat in restaurant and Actual Answer: eat in restaurant\n"
          ]
        },
        {
          "output_type": "stream",
          "name": "stderr",
          "text": [
            "  6%|▌         | 68/1221 [00:08<02:28,  7.75it/s]"
          ]
        },
        {
          "output_type": "stream",
          "name": "stdout",
          "text": [
            "Q: He was beginning to regret taking the fight when he saw how what his opponent was?\n",
            "O: fun /// joy /// satisfaction /// confident /// pride\n",
            "A:  joy /// pride\n",
            "\n",
            "\n",
            "Model: joy and Actual Answer: confident\n",
            "Q: Where would you find a single shower curtain being used?\n",
            "O: bathtub /// washing area /// hotel /// shower stall /// department store\n",
            "A:  bathroom stall\n",
            "\n",
            "\n",
            "Model: bathroom stall and Actual Answer: bathtub\n"
          ]
        },
        {
          "output_type": "stream",
          "name": "stderr",
          "text": [
            "  6%|▌         | 70/1221 [00:09<02:27,  7.81it/s]"
          ]
        },
        {
          "output_type": "stream",
          "name": "stdout",
          "text": [
            "Q: Where is a good idea but not required to have a fire extinguisher?\n",
            "O: school bus /// boat /// house /// hospital /// school\n",
            "A:  school bus\n",
            "\n",
            "\n",
            "Model: school bus and Actual Answer: house\n",
            "Q: What continent has the most castles?\n",
            "O: fairy tale /// edinburgh /// germany /// europe /// antarctica\n",
            "A:  antarctica\n",
            "\n",
            "\n",
            "Model: antarctica and Actual Answer: europe\n"
          ]
        },
        {
          "output_type": "stream",
          "name": "stderr",
          "text": [
            "  6%|▌         | 72/1221 [00:09<02:27,  7.78it/s]"
          ]
        },
        {
          "output_type": "stream",
          "name": "stdout",
          "text": [
            "Q: If you have to read a book that is very dry and long you may become what?\n",
            "O: have time /// boring /// learn new /// enjoyable /// bored\n",
            "A:  bored\n",
            "\n",
            "\n",
            "Model: bored and Actual Answer: bored\n",
            "Q: Sally used a clipboard to hold her papers while she read off names at the beginning of the day.  Where might she work?\n",
            "O: desk /// windows 95 /// office supply store /// see work /// school\n",
            "A:  desk /// office supply store\n",
            "\n",
            "\n",
            "Model: desk and Actual Answer: school\n"
          ]
        },
        {
          "output_type": "stream",
          "name": "stderr",
          "text": [
            "  6%|▌         | 74/1221 [00:09<02:27,  7.79it/s]"
          ]
        },
        {
          "output_type": "stream",
          "name": "stdout",
          "text": [
            "Q: The kids didn't clean up after they had done what?\n",
            "O: learn things /// play games /// disneyland /// play with toys /// talking\n",
            "A:  learn things /// play with toys\n",
            "\n",
            "\n",
            "Model: learn things and Actual Answer: play with toys\n",
            "Q: Despite the name a pawn can be quite versatile, all the parts are important in a what?\n",
            "O: chess game /// scheme /// chess set /// checkers /// north carolina\n",
            "A:  chess set /// checkers /// north carolina\n",
            "\n",
            "\n",
            "Model: chess set and Actual Answer: chess game\n"
          ]
        },
        {
          "output_type": "stream",
          "name": "stderr",
          "text": [
            "  6%|▌         | 76/1221 [00:09<02:28,  7.71it/s]"
          ]
        },
        {
          "output_type": "stream",
          "name": "stdout",
          "text": [
            "Q: What would not be true about a basketball if it had a hole in it but it did not lose its general shape?\n",
            "O: punctured /// popular in america /// full of air /// gone /// round\n",
            "A:  full of air /// round\n",
            "\n",
            "\n",
            "Model: full of air and Actual Answer: full of air\n",
            "Q: If you are awaking multiple times throughout the night because a lot is on your mind, what is a likely cause?\n",
            "O: irritability /// depression /// getting out of bed /// happiness /// discomfort\n",
            "A:  discomfort /// discomfort\n",
            "\n",
            "\n",
            "Model: discomfort and Actual Answer: depression\n"
          ]
        },
        {
          "output_type": "stream",
          "name": "stderr",
          "text": [
            "  6%|▋         | 78/1221 [00:10<02:29,  7.66it/s]"
          ]
        },
        {
          "output_type": "stream",
          "name": "stdout",
          "text": [
            "Q: Where does a wild bird usually live?\n",
            "O: cage /// sky /// countryside /// desert /// windowsill\n",
            "A:  desert /// window\n",
            "\n",
            "\n",
            "Model: desert and Actual Answer: countryside\n",
            "Q: Where would you expect to find white mice?\n",
            "O: bell cat /// bush /// attic /// countryside /// laboratory\n",
            "A:  bush /// attic\n",
            "\n",
            "\n",
            "Model: bush and Actual Answer: laboratory\n"
          ]
        },
        {
          "output_type": "stream",
          "name": "stderr",
          "text": [
            "  7%|▋         | 80/1221 [00:10<02:28,  7.68it/s]"
          ]
        },
        {
          "output_type": "stream",
          "name": "stdout",
          "text": [
            "Q: John felt that his actions were fate.   Harry said that he could have always made a different what?\n",
            "O: free will /// choice /// will /// alcohol /// freedom\n",
            "A:  freedom /// choice\n",
            "\n",
            "\n",
            "Model: freedom and Actual Answer: choice\n",
            "Q: What could committing murder prevent someone from doing?\n",
            "O: go to jail /// cry /// find god /// guilty conscience /// problems\n",
            "A:  problems\n",
            "\n",
            "\n",
            "Model: problems and Actual Answer: find god\n"
          ]
        },
        {
          "output_type": "stream",
          "name": "stderr",
          "text": [
            "  7%|▋         | 82/1221 [00:10<02:27,  7.72it/s]"
          ]
        },
        {
          "output_type": "stream",
          "name": "stdout",
          "text": [
            "Q: George didn't have a car, but he still had his two feet.   His socks were smelly and his soles were blistered, but that didn't matter.  He could still do what?\n",
            "O: michigan /// walk /// stay still /// stink /// hands\n",
            "A:  walk /// stink\n",
            "\n",
            "\n",
            "Model: walk and Actual Answer: walk\n",
            "Q: A crane uses many a steel cable when working a what?\n",
            "O: abaft /// ship /// winch /// construction site /// building\n",
            "A:  building site /// building site\n",
            "\n",
            "\n",
            "Model: building site and Actual Answer: construction site\n"
          ]
        },
        {
          "output_type": "stream",
          "name": "stderr",
          "text": [
            "  7%|▋         | 84/1221 [00:10<02:29,  7.60it/s]"
          ]
        },
        {
          "output_type": "stream",
          "name": "stdout",
          "text": [
            "Q: What is the main purpose of farmers?\n",
            "O: raise cattle /// grow corn /// farm land /// drive tractors /// supply food\n",
            "A:  raise cattle /// drive tractors /// supply food\n",
            "\n",
            "\n",
            "Model: raise cattle and Actual Answer: supply food\n",
            "Q: Where can I put this penny to save for later?\n",
            "O: piggy bank /// wallet /// toy /// ground /// pocket\n",
            "A:  pocket /// pocket\n",
            "\n",
            "\n",
            "Model: pocket and Actual Answer: piggy bank\n"
          ]
        },
        {
          "output_type": "stream",
          "name": "stderr",
          "text": [
            "  7%|▋         | 86/1221 [00:11<02:28,  7.63it/s]"
          ]
        },
        {
          "output_type": "stream",
          "name": "stdout",
          "text": [
            "Q: Where would you put uncooked crab meat?\n",
            "O: wharf /// red lobster /// tidepools /// boss's office /// stew pot\n",
            "A:  red lobster\n",
            "\n",
            "\n",
            "Model: red lobster and Actual Answer: stew pot\n",
            "Q: The man had a fear of illness, so he never visited friends who were a what?\n",
            "O: sick person /// hospital /// elderly person /// graveyard /// doctor's office\n",
            "A:  hospital /// doctor's office\n",
            "\n",
            "\n",
            "Model: hospital and Actual Answer: sick person\n"
          ]
        },
        {
          "output_type": "stream",
          "name": "stderr",
          "text": [
            "  7%|▋         | 88/1221 [00:11<02:27,  7.67it/s]"
          ]
        },
        {
          "output_type": "stream",
          "name": "stdout",
          "text": [
            "Q: Where would you put pans if you want to bring them with you?\n",
            "O: cooking /// cook food /// kitchen /// backpack /// drawer\n",
            "A:  drawer\n",
            "\n",
            "\n",
            "Model: drawer and Actual Answer: backpack\n",
            "Q: If you're remembering something, it's because of your what of it to begin with?\n",
            "O: knowledge /// knowing /// forgetful /// pleasure /// depression\n",
            "A:  knowledge /// forgetful\n",
            "\n",
            "\n",
            "Model: knowledge and Actual Answer: knowing\n"
          ]
        },
        {
          "output_type": "stream",
          "name": "stderr",
          "text": [
            "  7%|▋         | 90/1221 [00:11<02:28,  7.63it/s]"
          ]
        },
        {
          "output_type": "stream",
          "name": "stdout",
          "text": [
            "Q: Which large land mass is home to the most monkeys?\n",
            "O: amazon basin /// friend's house /// lift number 3 /// research laboratory /// african continent\n",
            "A:  friend's house /// lift number 3\n",
            "\n",
            "\n",
            "Model: friend's house and Actual Answer: african continent\n",
            "Q: Friday was James's 5th Anniversary.  They planned on going to bed early so that they could spend a long time doing what?\n",
            "O: rest /// insomnia /// making love /// sleeping in /// texting\n",
            "A:  sleeping in\n",
            "\n",
            "\n",
            "Model: sleeping in and Actual Answer: making love\n"
          ]
        },
        {
          "output_type": "stream",
          "name": "stderr",
          "text": [
            "  8%|▊         | 92/1221 [00:11<02:29,  7.56it/s]"
          ]
        },
        {
          "output_type": "stream",
          "name": "stdout",
          "text": [
            "Q: The teens were trying to hide that they get drink, but when they walked in the door their what gave it away?\n",
            "O: health /// fall down /// stagger /// get arrested /// vomit\n",
            "A:  vomit /// get arrested\n",
            "\n",
            "\n",
            "Model: vomit and Actual Answer: stagger\n",
            "Q: You'll find a landing at the top of what?\n",
            "O: ocean /// apartment building /// stairwell /// airport /// room\n",
            "A:  airport\n",
            "\n",
            "\n",
            "Model: airport and Actual Answer: stairwell\n"
          ]
        },
        {
          "output_type": "stream",
          "name": "stderr",
          "text": [
            "  8%|▊         | 94/1221 [00:12<02:27,  7.63it/s]"
          ]
        },
        {
          "output_type": "stream",
          "name": "stdout",
          "text": [
            "Q: Anybody could be hired in the kitchen, what was needed of them?\n",
            "O: forget /// oil squeaky hinge /// question authority /// wash dishes /// oik squeaky hinge\n",
            "A:  wash dishes /// question authority /// oik squeaky\n",
            "\n",
            "\n",
            "Model: wash dishes and Actual Answer: wash dishes\n",
            "Q: Where can you find a number of wind instruments together in public?\n",
            "O: music store /// create music /// zoo /// music room /// symphony\n",
            "A:  music store /// symphony\n",
            "\n",
            "\n",
            "Model: music store and Actual Answer: symphony\n"
          ]
        },
        {
          "output_type": "stream",
          "name": "stderr",
          "text": [
            "  8%|▊         | 96/1221 [00:12<02:24,  7.78it/s]"
          ]
        },
        {
          "output_type": "stream",
          "name": "stdout",
          "text": [
            "Q: A mountie got off at a subway stop.  What city might he be in?\n",
            "O: urban area /// metropolis /// chicago /// new york city /// toronto\n",
            "A:  metropolis /// new york city\n",
            "\n",
            "\n",
            "Model: metropolis and Actual Answer: toronto\n",
            "Q: What do you want someone to do when you illustrate point?\n",
            "O: did not understand /// accepting /// make clear /// understood /// understanding\n",
            "A:  understood /// understanding\n",
            "\n",
            "\n",
            "Model: understood and Actual Answer: understanding\n"
          ]
        },
        {
          "output_type": "stream",
          "name": "stderr",
          "text": [
            "  8%|▊         | 98/1221 [00:12<02:24,  7.79it/s]"
          ]
        },
        {
          "output_type": "stream",
          "name": "stdout",
          "text": [
            "Q: Billy set aside a block of time for having fun after work. Why might he do this?\n",
            "O: happiness /// stress relief /// pleasure /// ocean /// may laugh\n",
            "A:  pleasure /// may laugh\n",
            "\n",
            "\n",
            "Model: pleasure and Actual Answer: stress relief\n",
            "Q: The man in the white suit was very lazy.  He did nothing useful.  Meanwhile, the ban in the blue had put in effort and was very what?\n",
            "O: restless /// active /// lazybutt /// productive /// hard work\n",
            "A:  productive /// lazy\n",
            "\n",
            "\n",
            "Model: productive and Actual Answer: productive\n"
          ]
        },
        {
          "output_type": "stream",
          "name": "stderr",
          "text": [
            "  8%|▊         | 100/1221 [00:12<02:24,  7.75it/s]"
          ]
        },
        {
          "output_type": "stream",
          "name": "stdout",
          "text": [
            "Q: What would you be unable to do if you have too much greed?\n",
            "O: keep things /// make friends /// play poker /// conquer opponent /// lie\n",
            "A:  keep things /// play poker\n",
            "\n",
            "\n",
            "Model: keep things and Actual Answer: make friends\n",
            "Q: It was a long trip from the farm, so he stayed in a hotel when he arrived at the what?\n",
            "O: bed away from home /// wwii bunker /// resort /// las vegas /// city\n",
            "A:  resort /// hotel\n",
            "\n",
            "\n",
            "Model: resort and Actual Answer: city\n"
          ]
        },
        {
          "output_type": "stream",
          "name": "stderr",
          "text": [
            "  8%|▊         | 102/1221 [00:13<02:24,  7.76it/s]"
          ]
        },
        {
          "output_type": "stream",
          "name": "stdout",
          "text": [
            "Q: I did not need a servant.  I was not a what?\n",
            "O: freedom /// rich person /// hired help /// in charge /// busy\n",
            "A:  free /// in charge\n",
            "\n",
            "\n",
            "Model: free and Actual Answer: rich person\n",
            "Q: How would you get from one side of a canal to another?\n",
            "O: michigan /// amsterdam /// venice /// bridge /// barges to travel on\n",
            "A:  bridge /// amsterdam\n",
            "\n",
            "\n",
            "Model: bridge and Actual Answer: bridge\n"
          ]
        },
        {
          "output_type": "stream",
          "name": "stderr",
          "text": [
            "  9%|▊         | 104/1221 [00:13<02:22,  7.83it/s]"
          ]
        },
        {
          "output_type": "stream",
          "name": "stdout",
          "text": [
            "Q: When learning about the world and different cultures, what is important if you are committed to eliminating preconceived notions\n",
            "O: newness /// loss of innocence /// enlightenment /// open mind /// smartness\n",
            "A:  newness /// open mind\n",
            "\n",
            "\n",
            "Model: newness and Actual Answer: open mind\n",
            "Q: An underrated thing about computers is how they manage workflow, at one time it was a big deal when they could first do what?\n",
            "O: share files /// do arithmetic /// turn on /// cost money /// multitask\n",
            "A:  multitask /// cost money\n",
            "\n",
            "\n",
            "Model: multitask and Actual Answer: multitask\n"
          ]
        },
        {
          "output_type": "stream",
          "name": "stderr",
          "text": [
            "  9%|▊         | 106/1221 [00:13<02:23,  7.79it/s]"
          ]
        },
        {
          "output_type": "stream",
          "name": "stdout",
          "text": [
            "Q: Obstructing justice is sometimes an excuse used for police brutality which causes what in people?\n",
            "O: committing perjury /// prosecution /// attack /// getting hurt /// riot\n",
            "A:  prosecution /// riot\n",
            "\n",
            "\n",
            "Model: prosecution and Actual Answer: getting hurt\n",
            "Q: While washing clothes they became what when caught on the sharp object?\n",
            "O: damaged /// wet clothes /// wear out /// torn /// have fun\n",
            "A:  torn /// have fun\n",
            "\n",
            "\n",
            "Model: torn and Actual Answer: torn\n"
          ]
        },
        {
          "output_type": "stream",
          "name": "stderr",
          "text": [
            "  9%|▉         | 108/1221 [00:13<02:24,  7.70it/s]"
          ]
        },
        {
          "output_type": "stream",
          "name": "stdout",
          "text": [
            "Q: Seafood restaurants are used to draw tourists where?\n",
            "O: maine /// shoe shop /// city /// boston /// coastal cities\n",
            "A:  maine\n",
            "\n",
            "\n",
            "Model: maine and Actual Answer: coastal cities\n",
            "Q: James's nice asked him about her grandfather. She was interested in learning about what?\n",
            "O: family tree /// family reunion /// babysitting /// brother's house /// heirlooms\n",
            "A:  family reunion /// brother's house\n",
            "\n",
            "\n",
            "Model: family reunion and Actual Answer: family tree\n"
          ]
        },
        {
          "output_type": "stream",
          "name": "stderr",
          "text": [
            "  9%|▉         | 110/1221 [00:14<02:24,  7.70it/s]"
          ]
        },
        {
          "output_type": "stream",
          "name": "stdout",
          "text": [
            "Q: James looked up and saw the start twinkling in the black yonder.  He marveled the sheer number of them and the size of what?\n",
            "O: universe /// orbit /// night sky /// outer space /// his wallet\n",
            "A:  outer space /// his wallet\n",
            "\n",
            "\n",
            "Model: outer space and Actual Answer: universe\n",
            "Q: What would encourage someone to continue playing tennis?\n",
            "O: becoming tired /// tennis elbow /// exercise /// hunger /// victory\n",
            "A:  becoming tired /// exercise\n",
            "\n",
            "\n",
            "Model: becoming tired and Actual Answer: victory\n"
          ]
        },
        {
          "output_type": "stream",
          "name": "stderr",
          "text": [
            "  9%|▉         | 112/1221 [00:14<02:23,  7.75it/s]"
          ]
        },
        {
          "output_type": "stream",
          "name": "stdout",
          "text": [
            "Q: James found the sound relaxing.   It was so relaxing he almost did what despite his efforts?\n",
            "O: deep breathing /// worried /// fall asleep /// invigorating /// feeling good\n",
            "A:  feeling good\n",
            "\n",
            "\n",
            "Model: feeling good and Actual Answer: fall asleep\n",
            "Q: What regions of a town would you have found a dime store?\n",
            "O: commercial building /// old movie /// small neighborhood /// past /// mall\n",
            "A:  commercial building /// old movie\n",
            "\n",
            "\n",
            "Model: commercial building and Actual Answer: small neighborhood\n"
          ]
        },
        {
          "output_type": "stream",
          "name": "stderr",
          "text": [
            "  9%|▉         | 114/1221 [00:14<02:24,  7.67it/s]"
          ]
        },
        {
          "output_type": "stream",
          "name": "stdout",
          "text": [
            "Q: Where might an unused chess set be stored?\n",
            "O: toy store /// michigan /// living room /// attic /// cupboard\n",
            "A:  cupboard\n",
            "\n",
            "\n",
            "Model: cupboard and Actual Answer: cupboard\n",
            "Q: james told his son to settle down and be careful.  There were many frogs mating in the area, and James didn't want his son to do what to them?\n",
            "O: wander /// migrate /// scare /// disturb /// agitate\n",
            "A:  disturb /// agitate\n",
            "\n",
            "\n",
            "Model: disturb and Actual Answer: disturb\n"
          ]
        },
        {
          "output_type": "stream",
          "name": "stderr",
          "text": [
            " 10%|▉         | 116/1221 [00:15<02:22,  7.75it/s]"
          ]
        },
        {
          "output_type": "stream",
          "name": "stdout",
          "text": [
            "Q: A man wants air conditioning while we watches the game on Saturday, where will it likely be installed?\n",
            "O: car /// house /// offices /// park /// movie theatre\n",
            "A:  office /// movie theatre\n",
            "\n",
            "\n",
            "Model: office and Actual Answer: house\n",
            "Q: What could be playing a balailaika?\n",
            "O: movie dr /// orchestra /// music store /// cat /// symphony\n",
            "A:  orchestra /// music store\n",
            "\n",
            "\n",
            "Model: orchestra and Actual Answer: orchestra\n"
          ]
        },
        {
          "output_type": "stream",
          "name": "stderr",
          "text": [
            " 10%|▉         | 118/1221 [00:15<02:22,  7.76it/s]"
          ]
        },
        {
          "output_type": "stream",
          "name": "stdout",
          "text": [
            "Q: Sailors drive many different types of boats, what type of boat involves their namesake.\n",
            "O: coming home /// row boat /// board ship /// inflatable raft /// sail boat\n",
            "A:  row boat /// inflatable raft\n",
            "\n",
            "\n",
            "Model: row boat and Actual Answer: sail boat\n",
            "Q: Where could a person avoid the rain?\n",
            "O: bus stop /// tunnel /// synagogue /// fairy tale /// street corner\n",
            "A:  subway station\n",
            "\n",
            "\n",
            "Model: subway station and Actual Answer: synagogue\n"
          ]
        },
        {
          "output_type": "stream",
          "name": "stderr",
          "text": [
            " 10%|▉         | 120/1221 [00:15<02:21,  7.80it/s]"
          ]
        },
        {
          "output_type": "stream",
          "name": "stdout",
          "text": [
            "Q: Why would a person like to have a large house?\n",
            "O: have choice /// mentally challenged /// own house /// obesity /// lots of space\n",
            "A:  have choice /// own house\n",
            "\n",
            "\n",
            "Model: have choice and Actual Answer: lots of space\n",
            "Q: Where will a cheap book be found?\n",
            "O: bookstore /// classroom /// discount store /// school room /// bedside table\n",
            "A:  bookstore /// discount store /// bedside table\n",
            "\n",
            "\n",
            "Model: bookstore and Actual Answer: discount store\n"
          ]
        },
        {
          "output_type": "stream",
          "name": "stderr",
          "text": [
            " 10%|▉         | 122/1221 [00:15<02:23,  7.65it/s]"
          ]
        },
        {
          "output_type": "stream",
          "name": "stdout",
          "text": [
            "Q: John and James are idiots. They bought two tickets to the Falcons vs the Jets even though neither wanted to see the what?\n",
            "O: internet cafe /// sporting event /// pressing wrong buttons /// obesity /// hockey game\n",
            "A:  press wrong buttons /// press wrong buttons\n",
            "\n",
            "\n",
            "Model: press wrong buttons and Actual Answer: sporting event\n",
            "Q: James noticed that his penis was bigger. .  How might he act toward his plastic surgeon?\n",
            "O: accidental /// detestable /// effusive /// enabled /// apathetic\n",
            "A:  enabled /// apathetic\n",
            "\n",
            "\n",
            "Model: enabled and Actual Answer: effusive\n"
          ]
        },
        {
          "output_type": "stream",
          "name": "stderr",
          "text": [
            " 10%|█         | 124/1221 [00:16<02:25,  7.56it/s]"
          ]
        },
        {
          "output_type": "stream",
          "name": "stdout",
          "text": [
            "Q: Who do professors work with?\n",
            "O: methods of facts /// teach courses /// wear wrinkled tweed jackets /// school students /// state facts\n",
            "A:  state facts\n",
            "\n",
            "\n",
            "Model: state facts and Actual Answer: school students\n",
            "Q: Colorful anemone look somewhat like what object you find on window sills?\n",
            "O: intertidal zone /// coral sea /// under water /// flower bed /// florida keys\n",
            "A:  flower bed /// under water\n",
            "\n",
            "\n",
            "Model: flower bed and Actual Answer: flower bed\n"
          ]
        },
        {
          "output_type": "stream",
          "name": "stderr",
          "text": [
            " 10%|█         | 126/1221 [00:16<02:23,  7.61it/s]"
          ]
        },
        {
          "output_type": "stream",
          "name": "stdout",
          "text": [
            "Q: From where do aliens arrive?\n",
            "O: outer space /// weekly world news /// roswell /// universe /// mars\n",
            "A:  outer space /// roswell\n",
            "\n",
            "\n",
            "Model: outer space and Actual Answer: outer space\n",
            "Q: The hikers stopped to have a drink, simply put they what?\n",
            "O: had a party /// were thirsty /// refreshment /// getting drunk /// celebrating\n",
            "A:  celebrating /// celebrating\n",
            "\n",
            "\n",
            "Model: celebrating and Actual Answer: were thirsty\n"
          ]
        },
        {
          "output_type": "stream",
          "name": "stderr",
          "text": [
            " 10%|█         | 128/1221 [00:16<02:22,  7.69it/s]"
          ]
        },
        {
          "output_type": "stream",
          "name": "stdout",
          "text": [
            "Q: When you get up in the morning before you begin work you should do what?\n",
            "O: apply for job /// sleep /// concentrate /// shower /// just do\n",
            "A:  concentrate /// sleep\n",
            "\n",
            "\n",
            "Model: concentrate and Actual Answer: shower\n",
            "Q: The kitten had nothing to dig it's claws into, so when it tried to stop it slid across what?\n",
            "O: living room /// floor /// warm place /// carpet /// farmhouse\n",
            "A:  carpet /// carpet\n",
            "\n",
            "\n",
            "Model: carpet and Actual Answer: floor\n"
          ]
        },
        {
          "output_type": "stream",
          "name": "stderr",
          "text": [
            " 11%|█         | 130/1221 [00:16<02:22,  7.63it/s]"
          ]
        },
        {
          "output_type": "stream",
          "name": "stdout",
          "text": [
            "Q: If a person is trying to keep something in their hand what should they do?\n",
            "O: complete collection /// own house /// procrastinate /// explode /// have to hold\n",
            "A:  procrastinate /// explode\n",
            "\n",
            "\n",
            "Model: procrastinate and Actual Answer: have to hold\n",
            "Q: Where could you find hundreds of thousands of home?\n",
            "O: field /// neighborhood /// star can /// city or town /// apartment building\n",
            "A:  city or town\n",
            "\n",
            "\n",
            "Model: city or town and Actual Answer: city or town\n"
          ]
        },
        {
          "output_type": "stream",
          "name": "stderr",
          "text": [
            " 11%|█         | 132/1221 [00:17<02:22,  7.66it/s]"
          ]
        },
        {
          "output_type": "stream",
          "name": "stdout",
          "text": [
            "Q: Playing baseball is a lot like any other sport, there is always a risk of what?\n",
            "O: sore muscles /// errors /// happiness /// injury /// fun\n",
            "A:  injury /// fun\n",
            "\n",
            "\n",
            "Model: injury and Actual Answer: injury\n",
            "Q: If I want to watch a movie without leaving my home what might I use?\n",
            "O: drive in movie /// drive in movie /// television /// video store /// show\n",
            "A:  television /// video store\n",
            "\n",
            "\n",
            "Model: television and Actual Answer: television\n"
          ]
        },
        {
          "output_type": "stream",
          "name": "stderr",
          "text": [
            " 11%|█         | 134/1221 [00:17<02:20,  7.76it/s]"
          ]
        },
        {
          "output_type": "stream",
          "name": "stdout",
          "text": [
            "Q: The victim was to take stand today, they were going to do what?\n",
            "O: testify /// runaway /// witness /// tell truth /// go home\n",
            "A:  testify /// go home\n",
            "\n",
            "\n",
            "Model: testify and Actual Answer: testify\n",
            "Q: What does a successful dog grooming session likely to make a owner feel?\n",
            "O: cleanliness /// mistakes /// growth /// satisfaction /// late\n",
            "A:  success /// pain\n",
            "\n",
            "\n",
            "Model: success and Actual Answer: satisfaction\n"
          ]
        },
        {
          "output_type": "stream",
          "name": "stderr",
          "text": [
            " 11%|█         | 136/1221 [00:17<02:18,  7.82it/s]"
          ]
        },
        {
          "output_type": "stream",
          "name": "stdout",
          "text": [
            "Q: The runner was in third place, but he pushed harder and thought he might be able to reach second.  What was beginning to do?\n",
            "O: near finish line /// finish /// get tired /// gain ground /// trip over\n",
            "A:  get tired /// trip over\n",
            "\n",
            "\n",
            "Model: get tired and Actual Answer: gain ground\n",
            "Q: The tourist entered Mammoth cave, what state were they in?\n",
            "O: west virginia /// kentucky /// rocky hills /// scotland /// canyon\n",
            "A:  rocky hills /// scotland\n",
            "\n",
            "\n",
            "Model: rocky hills and Actual Answer: kentucky\n"
          ]
        },
        {
          "output_type": "stream",
          "name": "stderr",
          "text": [
            " 11%|█▏        | 138/1221 [00:17<02:20,  7.71it/s]"
          ]
        },
        {
          "output_type": "stream",
          "name": "stdout",
          "text": [
            "Q: What does someone typically feel when applying for a job?\n",
            "O: horror /// anxiety and fear /// rejection /// increased workload /// being employed\n",
            "A:  increased workload /// increased workload\n",
            "\n",
            "\n",
            "Model: increased workload and Actual Answer: anxiety and fear\n",
            "Q: He was on trial for obstructing justice, during which he made a questionable comment and was also found guilty of what?\n",
            "O: prosecution /// getting hurt /// sweat /// steam /// committing perjury\n",
            "A:  prosecution /// prosecution\n",
            "\n",
            "\n",
            "Model: prosecution and Actual Answer: committing perjury\n"
          ]
        },
        {
          "output_type": "stream",
          "name": "stderr",
          "text": [
            " 11%|█▏        | 140/1221 [00:18<02:18,  7.79it/s]"
          ]
        },
        {
          "output_type": "stream",
          "name": "stdout",
          "text": [
            "Q: What kind of feelings does buying presents for others create?\n",
            "O: tears /// please /// like /// thank /// make happy\n",
            "A:  tears /// like\n",
            "\n",
            "\n",
            "Model: tears and Actual Answer: make happy\n",
            "Q: What green area is a marmot likely to be found in?\n",
            "O: countryside /// great plains /// encyclopedia /// jungle /// north america\n",
            "A:  jungle /// jungle /// north america\n",
            "\n",
            "\n",
            "Model: jungle and Actual Answer: countryside\n"
          ]
        },
        {
          "output_type": "stream",
          "name": "stderr",
          "text": [
            " 12%|█▏        | 142/1221 [00:18<02:17,  7.82it/s]"
          ]
        },
        {
          "output_type": "stream",
          "name": "stdout",
          "text": [
            "Q: Jan tested the current, and noticed that it was high.  He thought that the wires might have too much what?\n",
            "O: later /// updated /// still /// resistance /// now\n",
            "A:  resistance /// now\n",
            "\n",
            "\n",
            "Model: resistance and Actual Answer: resistance\n",
            "Q: What does a kindergarten teacher do before nap time?\n",
            "O: lower expectations /// encourage /// fear /// time test /// tell story\n",
            "A:  time test /// tell story\n",
            "\n",
            "\n",
            "Model: time test and Actual Answer: tell story\n"
          ]
        },
        {
          "output_type": "stream",
          "name": "stderr",
          "text": [
            " 12%|█▏        | 144/1221 [00:18<02:17,  7.82it/s]"
          ]
        },
        {
          "output_type": "stream",
          "name": "stdout",
          "text": [
            "Q: Sam was a stranger.  Even so, Mark treated him like what?\n",
            "O: friend /// family /// known person /// park /// outsider\n",
            "A:  known person /// known person\n",
            "\n",
            "\n",
            "Model: known person and Actual Answer: family\n",
            "Q: Bob's only light source was a small bulb.  There were four walls, if there was a door he couldn't see it.  What was Bob in?\n",
            "O: closed room /// sky /// dard /// his grave /// house\n",
            "A:  house\n",
            "\n",
            "\n",
            "Model: house and Actual Answer: closed room\n"
          ]
        },
        {
          "output_type": "stream",
          "name": "stderr",
          "text": [
            " 12%|█▏        | 146/1221 [00:18<02:19,  7.73it/s]"
          ]
        },
        {
          "output_type": "stream",
          "name": "stdout",
          "text": [
            "Q: James thought of criminal justice like a computer program.  It need to work right.   What ideas might James not like?\n",
            "O: manual /// process information /// power down /// control model /// reason exists\n",
            "A:  power down /// control model\n",
            "\n",
            "\n",
            "Model: power down and Actual Answer: control model\n",
            "Q: With the card slot lit up he knew how to get started finding his balance with what?\n",
            "O: slot machine /// ticket machine /// bank machine /// telephone /// automated teller\n",
            "A:  bank machine /// telephone\n",
            "\n",
            "\n",
            "Model: bank machine and Actual Answer: automated teller\n"
          ]
        },
        {
          "output_type": "stream",
          "name": "stderr",
          "text": [
            " 12%|█▏        | 148/1221 [00:19<02:18,  7.75it/s]"
          ]
        },
        {
          "output_type": "stream",
          "name": "stdout",
          "text": [
            "Q: To play sports professionally you must do what very often?\n",
            "O: wash your clothes /// get in shape /// practice /// take off uniform /// stretch\n",
            "A:  practice /// stretch\n",
            "\n",
            "\n",
            "Model: practice and Actual Answer: practice\n",
            "Q: Some people prefer releasing energy through work while others prefer to release it through what?\n",
            "O: motion /// stretch /// exercise /// movement /// muscles\n",
            "A:  motion /// stretch\n",
            "\n",
            "\n",
            "Model: motion and Actual Answer: exercise\n"
          ]
        },
        {
          "output_type": "stream",
          "name": "stderr",
          "text": [
            " 12%|█▏        | 150/1221 [00:19<02:17,  7.79it/s]"
          ]
        },
        {
          "output_type": "stream",
          "name": "stdout",
          "text": [
            "Q: What will a person going for a jog likely be wearing?\n",
            "O: grope /// acknowledgment /// comfortable clothes /// ipod /// passionate kisses\n",
            "A:  comfortable clothes /// ipod\n",
            "\n",
            "\n",
            "Model: comfortable clothes and Actual Answer: comfortable clothes\n",
            "Q: The child pretended he was reading newspaper, he couldn't actually do it without what?\n",
            "O: patience /// falling down /// literacy /// buying /// knowing how to read\n",
            "A:  falling down /// falling down\n",
            "\n",
            "\n",
            "Model: falling down and Actual Answer: knowing how to read\n"
          ]
        },
        {
          "output_type": "stream",
          "name": "stderr",
          "text": [
            " 12%|█▏        | 152/1221 [00:19<02:17,  7.80it/s]"
          ]
        },
        {
          "output_type": "stream",
          "name": "stdout",
          "text": [
            "Q: Jenny enjoyed helping people.  It brought her a great deal of what?\n",
            "O: satisfaction /// complications /// train /// feel good about yourself /// enjoyment\n",
            "A:  satisfaction /// feel good about yourself\n",
            "\n",
            "\n",
            "Model: satisfaction and Actual Answer: satisfaction\n",
            "Q: What might someone believe in if they are cleaning clothes?\n",
            "O: feminism /// sanitation /// ruined /// wrinkles /// buttons to fall off\n",
            "A:  sanitation /// wrinkles\n",
            "\n",
            "\n",
            "Model: sanitation and Actual Answer: sanitation\n"
          ]
        },
        {
          "output_type": "stream",
          "name": "stderr",
          "text": [
            " 13%|█▎        | 154/1221 [00:19<02:19,  7.67it/s]"
          ]
        },
        {
          "output_type": "stream",
          "name": "stdout",
          "text": [
            "Q: Where would you find a basement that can be accessed with an elevator?\n",
            "O: eat cake /// closet /// church /// office building /// own house\n",
            "A:  closet /// own house\n",
            "\n",
            "\n",
            "Model: closet and Actual Answer: office building\n",
            "Q: In order to learn to program from another person you can do what?\n",
            "O: learn how to /// have a friend /// knowledge /// take class /// have computer\n",
            "A:  learn how to program /// have computer\n",
            "\n",
            "\n",
            "Model: learn how to program and Actual Answer: take class\n"
          ]
        },
        {
          "output_type": "stream",
          "name": "stderr",
          "text": [
            " 13%|█▎        | 156/1221 [00:20<02:17,  7.73it/s]"
          ]
        },
        {
          "output_type": "stream",
          "name": "stdout",
          "text": [
            "Q: He was at the gym trying to build muscle, what is it called that he is trying to build muscle on?\n",
            "O: body of animal /// arm /// bodybuilder /// body of dog /// human body\n",
            "A:  body of animal /// body of dog\n",
            "\n",
            "\n",
            "Model: body of animal and Actual Answer: human body\n",
            "Q: What part of plants is pretty?\n",
            "O: dirt /// no neurons in /// millions of cells /// flowers on /// roots\n",
            "A:  roots /// roots\n",
            "\n",
            "\n",
            "Model: roots and Actual Answer: flowers on\n"
          ]
        },
        {
          "output_type": "stream",
          "name": "stderr",
          "text": [
            " 13%|█▎        | 158/1221 [00:20<02:16,  7.77it/s]"
          ]
        },
        {
          "output_type": "stream",
          "name": "stdout",
          "text": [
            "Q: The man was going fishing instead of work, what is he seeking?\n",
            "O: food /// relaxation /// killing /// missing morning cartoons /// boredom\n",
            "A:  boredom /// boredom\n",
            "\n",
            "\n",
            "Model: boredom and Actual Answer: relaxation\n",
            "Q: What could you get an unsmooth pit from?\n",
            "O: backyard /// rock /// mine /// cherry /// peach\n",
            "A:  peach /// peach\n",
            "\n",
            "\n",
            "Model: peach and Actual Answer: peach\n"
          ]
        },
        {
          "output_type": "stream",
          "name": "stderr",
          "text": [
            " 13%|█▎        | 160/1221 [00:20<02:19,  7.62it/s]"
          ]
        },
        {
          "output_type": "stream",
          "name": "stdout",
          "text": [
            "Q: The man tried to reply to the woman, but he had difficulty keeping track of conversations that he didn't do what to?\n",
            "O: initiate /// ignore /// question /// answer /// ask\n",
            "A:  answer\n",
            "\n",
            "\n",
            "Model: answer and Actual Answer: initiate\n",
            "Q: I couldn't find anybody who recalled the event, what were they adroit at doing?\n",
            "O: question authority /// act fool /// wash dishes /// act innocent /// forget\n",
            "A:  act innocent /// act innocent\n",
            "\n",
            "\n",
            "Model: act innocent and Actual Answer: forget\n"
          ]
        },
        {
          "output_type": "stream",
          "name": "stderr",
          "text": [
            " 13%|█▎        | 162/1221 [00:20<02:17,  7.72it/s]"
          ]
        },
        {
          "output_type": "stream",
          "name": "stdout",
          "text": [
            "Q: Where would you find a large dining room containing a fancy chandelier?\n",
            "O: mansion /// every house /// own home /// table /// restaurant\n",
            "A:  house /// table\n",
            "\n",
            "\n",
            "Model: house and Actual Answer: mansion\n",
            "Q: The extremely large cargo plane could only land at a specialized runway, these were only located at a what?\n",
            "O: back yard /// bowling alley /// city /// military base /// fashion show\n",
            "A:  back yard /// military base\n",
            "\n",
            "\n",
            "Model: back yard and Actual Answer: military base\n"
          ]
        },
        {
          "output_type": "stream",
          "name": "stderr",
          "text": [
            " 13%|█▎        | 164/1221 [00:21<02:16,  7.76it/s]"
          ]
        },
        {
          "output_type": "stream",
          "name": "stdout",
          "text": [
            "Q: The carpet was smelly and discouraged the league from playing there, where was this smelly carpet installed?\n",
            "O: bedroom /// movie theater /// bowling alley /// church /// office\n",
            "A:  bowling alley /// office\n",
            "\n",
            "\n",
            "Model: bowling alley and Actual Answer: bowling alley\n",
            "Q: How can someone be let into a brownstone?\n",
            "O: brooklyn /// ring /// subdivision /// bricks /// new york city\n",
            "A:  brooklyn /// new york city\n",
            "\n",
            "\n",
            "Model: brooklyn and Actual Answer: ring\n"
          ]
        },
        {
          "output_type": "stream",
          "name": "stderr",
          "text": [
            " 14%|█▎        | 166/1221 [00:21<02:16,  7.76it/s]"
          ]
        },
        {
          "output_type": "stream",
          "name": "stdout",
          "text": [
            "Q: Where would someone purchase an upright piano?\n",
            "O: music class /// college /// music store /// music room /// music band\n",
            "A:  music class\n",
            "\n",
            "\n",
            "Model: music class and Actual Answer: music store\n",
            "Q: Where would you keep an ottoman near your front door?\n",
            "O: living room /// parlor /// furniture store /// basement /// kitchen\n",
            "A:  kitchen\n",
            "\n",
            "\n",
            "Model: kitchen and Actual Answer: living room\n"
          ]
        },
        {
          "output_type": "stream",
          "name": "stderr",
          "text": [
            " 14%|█▍        | 168/1221 [00:21<02:16,  7.71it/s]"
          ]
        },
        {
          "output_type": "stream",
          "name": "stdout",
          "text": [
            "Q: Diving into backyard pools can be very dangerous and can lead to serious head and what?\n",
            "O: going somewhere /// splats /// cancer /// getting wet /// spinal injuries\n",
            "A:  getting wet /// spinal injuries\n",
            "\n",
            "\n",
            "Model: getting wet and Actual Answer: spinal injuries\n",
            "Q: Where would one find a snake in a cage?\n",
            "O: tropical forest /// oregon /// woods /// pet store /// louisiana\n",
            "A:  louisiana\n",
            "\n",
            "\n",
            "Model: louisiana and Actual Answer: pet store\n"
          ]
        },
        {
          "output_type": "stream",
          "name": "stderr",
          "text": [
            " 14%|█▍        | 170/1221 [00:22<02:15,  7.74it/s]"
          ]
        },
        {
          "output_type": "stream",
          "name": "stdout",
          "text": [
            "Q: Where are people likely to become impatient?\n",
            "O: end of line /// buildings /// apartment /// neighbor's house /// address\n",
            "A:  apartment /// neighbor's house\n",
            "\n",
            "\n",
            "Model: apartment and Actual Answer: end of line\n",
            "Q: When you fail to finish something, you failed at doing what to it\n",
            "O: winning /// passing /// completing /// do well /// succeeding\n",
            "A:  succeeding /// succeeding\n",
            "\n",
            "\n",
            "Model: succeeding and Actual Answer: completing\n"
          ]
        },
        {
          "output_type": "stream",
          "name": "stderr",
          "text": [
            " 14%|█▍        | 172/1221 [00:22<02:15,  7.77it/s]"
          ]
        },
        {
          "output_type": "stream",
          "name": "stdout",
          "text": [
            "Q: John didn't care about style.  He felt that form was less important than what?\n",
            "O: shapeless /// quality /// function /// change shape /// chaos\n",
            "A:  quality /// function\n",
            "\n",
            "\n",
            "Model: quality and Actual Answer: function\n",
            "Q: When you get together with friends to watch film, you might do plenty of this?\n",
            "O: see what happens /// enjoy stories /// pass time /// have fun /// interesting\n",
            "A:  enjoy stories /// have fun\n",
            "\n",
            "\n",
            "Model: enjoy stories and Actual Answer: have fun\n"
          ]
        },
        {
          "output_type": "stream",
          "name": "stderr",
          "text": [
            " 14%|█▍        | 174/1221 [00:22<02:14,  7.77it/s]"
          ]
        },
        {
          "output_type": "stream",
          "name": "stdout",
          "text": [
            "Q: A supermarket is uncommon in what type of collection of shops?\n",
            "O: strip mall /// city or town /// shoppingcentre /// boutique /// vermont\n",
            "A:  shopping mall /// vermont\n",
            "\n",
            "\n",
            "Model: shopping mall and Actual Answer: strip mall\n",
            "Q: Bill puts meat on the scale, where does Bill work?\n",
            "O: music store /// assay office /// tidal wave /// butcher shop /// bathroom\n",
            "A:  butcher shop /// bathroom\n",
            "\n",
            "\n",
            "Model: butcher shop and Actual Answer: butcher shop\n"
          ]
        },
        {
          "output_type": "stream",
          "name": "stderr",
          "text": [
            " 14%|█▍        | 176/1221 [00:22<02:14,  7.76it/s]"
          ]
        },
        {
          "output_type": "stream",
          "name": "stdout",
          "text": [
            "Q: I'm having some food at my party, what will I need to serve it?\n",
            "O: zoo /// pan /// bowl /// kitchen /// spoon\n",
            "A:  bowl /// kitchen\n",
            "\n",
            "\n",
            "Model: bowl and Actual Answer: spoon\n",
            "Q: Before racers start to run they must do what at the starting line?\n",
            "O: learn to walk /// walking /// walk slowly /// breathe /// stand still\n",
            "A:  walk slowly /// breathe\n",
            "\n",
            "\n",
            "Model: walk slowly and Actual Answer: stand still\n"
          ]
        },
        {
          "output_type": "stream",
          "name": "stderr",
          "text": [
            " 15%|█▍        | 178/1221 [00:23<02:17,  7.57it/s]"
          ]
        },
        {
          "output_type": "stream",
          "name": "stdout",
          "text": [
            "Q: What does an actor do when they are bored of their roles?\n",
            "O: mask /// branch out /// wear costume /// pretend /// sing songs\n",
            "A:  pretend songs\n",
            "\n",
            "\n",
            "Model: pretend songs and Actual Answer: branch out\n",
            "Q: What is a person called who doesn't have immortality?\n",
            "O: mortal /// dying /// death /// dead /// mortal\n",
            "A:  dead /// dead\n",
            "\n",
            "\n",
            "Model: dead and Actual Answer: mortal\n"
          ]
        },
        {
          "output_type": "stream",
          "name": "stderr",
          "text": [
            " 15%|█▍        | 180/1221 [00:23<02:18,  7.53it/s]"
          ]
        },
        {
          "output_type": "stream",
          "name": "stdout",
          "text": [
            "Q: Why would you be watching tv instead of doing something else?\n",
            "O: headache /// laughter /// laziness /// erections /// wasting time\n",
            "A:  headache /// laziness\n",
            "\n",
            "\n",
            "Model: headache and Actual Answer: laziness\n",
            "Q: If chewing food is difficult for you, what is a possible reason?\n",
            "O: broken jaw /// sore mouth /// eating /// good digestion /// avoiding choking\n",
            "A:  broken jaw /// eating food\n",
            "\n",
            "\n",
            "Model: broken jaw and Actual Answer: sore mouth\n"
          ]
        },
        {
          "output_type": "stream",
          "name": "stderr",
          "text": [
            " 15%|█▍        | 182/1221 [00:23<02:18,  7.52it/s]"
          ]
        },
        {
          "output_type": "stream",
          "name": "stdout",
          "text": [
            "Q: He had to wear a tuxedo while playing the keyboard instrument, so did the other hundred members of the what?\n",
            "O: music store /// band /// medium /// orchestra /// piano store\n",
            "A:  orchestra /// music store\n",
            "\n",
            "\n",
            "Model: orchestra and Actual Answer: orchestra\n",
            "Q: Where do you find the most amount of leafs?\n",
            "O: floral arrangement /// ground /// forrest /// field /// compost pile\n",
            "A:  ground /// ground\n",
            "\n",
            "\n",
            "Model: ground and Actual Answer: forrest\n"
          ]
        },
        {
          "output_type": "stream",
          "name": "stderr",
          "text": [
            " 15%|█▌        | 184/1221 [00:23<02:18,  7.48it/s]"
          ]
        },
        {
          "output_type": "stream",
          "name": "stdout",
          "text": [
            "Q: Where can children play with animals?\n",
            "O: meadow /// play room /// surface of earth /// zoos /// fairgrounds\n",
            "A:  fairgrounds\n",
            "\n",
            "\n",
            "Model: fairgrounds and Actual Answer: fairgrounds\n",
            "Q: What kind of tale might feature a talking weasel?\n",
            "O: mulberry bush /// animated film /// chicken coop /// history book /// children's story\n",
            "A:  children's story\n",
            "\n",
            "\n",
            "Model: children's story and Actual Answer: children's story\n"
          ]
        },
        {
          "output_type": "stream",
          "name": "stderr",
          "text": [
            " 15%|█▌        | 186/1221 [00:24<02:18,  7.50it/s]"
          ]
        },
        {
          "output_type": "stream",
          "name": "stdout",
          "text": [
            "Q: What kind of status is the bald eagle given?\n",
            "O: outside /// world /// protection /// colorado /// america\n",
            "A:  world /// colorado\n",
            "\n",
            "\n",
            "Model: world and Actual Answer: protection\n",
            "Q: Why do most people take a quick rest during the day?\n",
            "O: need to /// hungry /// feel more energetic /// weak /// regenerate\n",
            "A:  weak /// regenerate\n",
            "\n",
            "\n",
            "Model: weak and Actual Answer: feel more energetic\n"
          ]
        },
        {
          "output_type": "stream",
          "name": "stderr",
          "text": [
            " 15%|█▌        | 188/1221 [00:24<02:16,  7.57it/s]"
          ]
        },
        {
          "output_type": "stream",
          "name": "stdout",
          "text": [
            "Q: What could suddenly stop someone when he or she is running?\n",
            "O: mushroom /// falling down /// sweating /// exhaustion /// getting tired\n",
            "A:  sweating /// getting tired\n",
            "\n",
            "\n",
            "Model: sweating and Actual Answer: falling down\n",
            "Q: Where would you find a monkey in the wild?\n",
            "O: zoo /// barrel /// research laboratory /// captivity /// thailand\n",
            "A:  thailand\n",
            "\n",
            "\n",
            "Model: thailand and Actual Answer: thailand\n"
          ]
        },
        {
          "output_type": "stream",
          "name": "stderr",
          "text": [
            " 16%|█▌        | 190/1221 [00:24<02:16,  7.55it/s]"
          ]
        },
        {
          "output_type": "stream",
          "name": "stdout",
          "text": [
            "Q: Where could a sloth live?\n",
            "O: tropical jungle /// manual /// work /// transit /// countryside\n",
            "A:  countryside\n",
            "\n",
            "\n",
            "Model: countryside and Actual Answer: tropical jungle\n",
            "Q: A gentleman is carrying equipment for golf, what is he likely to have?\n",
            "O: club /// assembly hall /// meditation center /// meeting /// church\n",
            "A:  meeting /// assembly hall\n",
            "\n",
            "\n",
            "Model: meeting and Actual Answer: club\n"
          ]
        },
        {
          "output_type": "stream",
          "name": "stderr",
          "text": [
            " 16%|█▌        | 192/1221 [00:24<02:14,  7.63it/s]"
          ]
        },
        {
          "output_type": "stream",
          "name": "stdout",
          "text": [
            "Q: If you have a home with a courtyard, what's one thing you probably don't have to care for any longer?\n",
            "O: lawn /// kids /// asshole /// spain /// office complex\n",
            "A:  lawn /// office complex\n",
            "\n",
            "\n",
            "Model: lawn and Actual Answer: lawn\n",
            "Q: The computer was difficult for he to understand at the store, so what did she sign up for to learn more?\n",
            "O: classroom /// facebook /// school /// apartment /// demonstration\n",
            "A:  classroom /// school\n",
            "\n",
            "\n",
            "Model: classroom and Actual Answer: demonstration\n"
          ]
        },
        {
          "output_type": "stream",
          "name": "stderr",
          "text": [
            " 16%|█▌        | 194/1221 [00:25<02:14,  7.65it/s]"
          ]
        },
        {
          "output_type": "stream",
          "name": "stdout",
          "text": [
            "Q: If you take the risk buying a used car, you still hope it can what?\n",
            "O: go fast /// start running /// going too fast /// look good /// last several years\n",
            "A:  last several years /// last several years\n",
            "\n",
            "\n",
            "Model: last several years and Actual Answer: last several years\n",
            "Q: Dan was ditting quietly on the couch with a book in his hand.  Laurie thought that he was just focused on what he was doing, but he actually did what?\n",
            "O: eat /// think /// reading /// meditate /// fall asleep\n",
            "A:  meditate /// fall asleep\n",
            "\n",
            "\n",
            "Model: meditate and Actual Answer: fall asleep\n"
          ]
        },
        {
          "output_type": "stream",
          "name": "stderr",
          "text": [
            " 16%|█▌        | 196/1221 [00:25<02:13,  7.67it/s]"
          ]
        },
        {
          "output_type": "stream",
          "name": "stdout",
          "text": [
            "Q: What is the primary purpose of cars?\n",
            "O: cost money /// slow down /// move people /// turn right /// get girls\n",
            "A:  cost money /// speed\n",
            "\n",
            "\n",
            "Model: cost money and Actual Answer: move people\n",
            "Q: Alabama is full of different people, but they are all citizens of what?\n",
            "O: united states /// deep south /// floribama /// gulf states /// florabama\n",
            "A:  united states /// florid state\n",
            "\n",
            "\n",
            "Model: united states and Actual Answer: united states\n"
          ]
        },
        {
          "output_type": "stream",
          "name": "stderr",
          "text": [
            " 16%|█▌        | 198/1221 [00:25<02:15,  7.54it/s]"
          ]
        },
        {
          "output_type": "stream",
          "name": "stdout",
          "text": [
            "Q: They were hoping their campaign would create a rise in awareness of the problem and hopefully do what to its effect?\n",
            "O: set /// fall /// park /// descend /// reduce\n",
            "A:  decrease\n",
            "\n",
            "\n",
            "Model: decrease and Actual Answer: reduce\n",
            "Q: What do airplanes do as they are arriving at the gate?\n",
            "O: slow down /// crash /// speed up /// land /// carry people\n",
            "A:  speed up /// speed up\n",
            "\n",
            "\n",
            "Model: speed up and Actual Answer: slow down\n"
          ]
        },
        {
          "output_type": "stream",
          "name": "stderr",
          "text": [
            " 16%|█▋        | 200/1221 [00:25<02:18,  7.39it/s]"
          ]
        },
        {
          "output_type": "stream",
          "name": "stdout",
          "text": [
            "Q: If a person with mental illness stops treatment what will likely happen?\n",
            "O: managed /// dancing /// recur /// effectively treated /// cause suffering\n",
            "A:  cause suffering /// cause suffering\n",
            "\n",
            "\n",
            "Model: cause suffering and Actual Answer: recur\n",
            "Q: The gimmicky low brow TV show was about animals when they what?\n",
            "O: sick /// mammals /// males /// bite /// attack\n",
            "A:  animals\n",
            "\n",
            "\n",
            "Model: animals and Actual Answer: attack\n"
          ]
        },
        {
          "output_type": "stream",
          "name": "stderr",
          "text": [
            " 17%|█▋        | 202/1221 [00:26<02:14,  7.57it/s]"
          ]
        },
        {
          "output_type": "stream",
          "name": "stdout",
          "text": [
            "Q: A loud machine is irritating, but many are expected where?\n",
            "O: museum /// house /// laboratory /// library /// industrial area\n",
            "A:  industrial area\n",
            "\n",
            "\n",
            "Model: industrial area and Actual Answer: industrial area\n",
            "Q: What part of a table would you put a ruler in?\n",
            "O: drawer /// desk /// the backside /// office /// measure distance\n",
            "A:  desk /// drawer\n",
            "\n",
            "\n",
            "Model: desk and Actual Answer: drawer\n"
          ]
        },
        {
          "output_type": "stream",
          "name": "stderr",
          "text": [
            " 17%|█▋        | 204/1221 [00:26<02:12,  7.66it/s]"
          ]
        },
        {
          "output_type": "stream",
          "name": "stdout",
          "text": [
            "Q: What happens if someone kisses too long?\n",
            "O: strong feelings /// herpes /// shortness of breath /// excitement /// arousal\n",
            "A:  arousal\n",
            "\n",
            "\n",
            "Model: arousal and Actual Answer: shortness of breath\n",
            "Q: If I have a modern light source in my living room, what is it likely to be?\n",
            "O: sky /// house /// lamp /// match /// candle\n",
            "A:  candle\n",
            "\n",
            "\n",
            "Model: candle and Actual Answer: lamp\n"
          ]
        },
        {
          "output_type": "stream",
          "name": "stderr",
          "text": [
            " 17%|█▋        | 206/1221 [00:26<02:12,  7.63it/s]"
          ]
        },
        {
          "output_type": "stream",
          "name": "stdout",
          "text": [
            "Q: The person saw the mess his children made, what was his following reaction?\n",
            "O: smell smoke /// cross street /// cry /// bank savings /// look angry\n",
            "A:  look angry /// cry out\n",
            "\n",
            "\n",
            "Model: look angry and Actual Answer: look angry\n",
            "Q: Who might wear dark glasses indoors?\n",
            "O: blind person /// glove box /// movie studio /// ray charles /// glove compartment\n",
            "A:  movie studio /// glove compartment\n",
            "\n",
            "\n",
            "Model: movie studio and Actual Answer: blind person\n"
          ]
        },
        {
          "output_type": "stream",
          "name": "stderr",
          "text": [
            " 17%|█▋        | 208/1221 [00:27<02:11,  7.71it/s]"
          ]
        },
        {
          "output_type": "stream",
          "name": "stdout",
          "text": [
            "Q: Where would stones not be arranged in a path?\n",
            "O: quarries /// field /// park /// bridge /// made from rocks\n",
            "A:  quarries /// field /// bridge\n",
            "\n",
            "\n",
            "Model: quarries and Actual Answer: field\n",
            "Q: A bald eagle is likely to be found on what kind of work?\n",
            "O: rural area /// book /// canada /// painting /// aviary\n",
            "A:  canada /// painting\n",
            "\n",
            "\n",
            "Model: canada and Actual Answer: painting\n"
          ]
        },
        {
          "output_type": "stream",
          "name": "stderr",
          "text": [
            " 17%|█▋        | 210/1221 [00:27<02:10,  7.72it/s]"
          ]
        },
        {
          "output_type": "stream",
          "name": "stdout",
          "text": [
            "Q: The hostess was good at her job, she always had a smile when she would what?\n",
            "O: group people /// ready parlor for guests /// welcome guests /// work room /// park\n",
            "A:  welcome guests /// work room\n",
            "\n",
            "\n",
            "Model: welcome guests and Actual Answer: welcome guests\n",
            "Q: What is likely to happen to someone who is learning?\n",
            "O: overconfidence /// effectiveness /// knowing more /// head grows larger /// growth\n",
            "A:  head grows larger /// head grows larger\n",
            "\n",
            "\n",
            "Model: head grows larger and Actual Answer: knowing more\n"
          ]
        },
        {
          "output_type": "stream",
          "name": "stderr",
          "text": [
            " 17%|█▋        | 212/1221 [00:27<02:10,  7.75it/s]"
          ]
        },
        {
          "output_type": "stream",
          "name": "stdout",
          "text": [
            "Q: The inspector was agreeing with the factory protocols, what was the status of the factory?\n",
            "O: compliance /// eligible /// contract /// harmony /// friendship\n",
            "A:  compliance /// harmony\n",
            "\n",
            "\n",
            "Model: compliance and Actual Answer: compliance\n",
            "Q: After standing up I had to sit right back down, why would I feel like this?\n",
            "O: train /// effort /// balance /// feet /// muscles\n",
            "A:  effort /// feet\n",
            "\n",
            "\n",
            "Model: effort and Actual Answer: balance\n"
          ]
        },
        {
          "output_type": "stream",
          "name": "stderr",
          "text": [
            " 18%|█▊        | 214/1221 [00:27<02:10,  7.70it/s]"
          ]
        },
        {
          "output_type": "stream",
          "name": "stdout",
          "text": [
            "Q: Where do you go on a night out before going to the bar?\n",
            "O: new york city /// las vegas /// restaurant /// nightclub /// park\n",
            "A:  restaurant /// park\n",
            "\n",
            "\n",
            "Model: restaurant and Actual Answer: restaurant\n",
            "Q: The dad wanted to protect his house, where did he put his gun?\n",
            "O: police station /// crime scene /// restroom /// drawer /// holster\n",
            "A:  police station /// drawer\n",
            "\n",
            "\n",
            "Model: police station and Actual Answer: drawer\n"
          ]
        },
        {
          "output_type": "stream",
          "name": "stderr",
          "text": [
            " 18%|█▊        | 216/1221 [00:28<02:09,  7.79it/s]"
          ]
        },
        {
          "output_type": "stream",
          "name": "stdout",
          "text": [
            "Q: What instrument can be played with an air of happiness?\n",
            "O: jump up and down /// jump up and down /// sing /// play games /// fiddle\n",
            "A:  play games /// play games\n",
            "\n",
            "\n",
            "Model: play games and Actual Answer: fiddle\n",
            "Q: What to kids do for boredom on a ramp?\n",
            "O: watch film /// fire game /// hang out at bar /// go skiing /// skateboard\n",
            "A:  skateboard /// go skiing\n",
            "\n",
            "\n",
            "Model: skateboard and Actual Answer: skateboard\n"
          ]
        },
        {
          "output_type": "stream",
          "name": "stderr",
          "text": [
            " 18%|█▊        | 218/1221 [00:28<02:10,  7.67it/s]"
          ]
        },
        {
          "output_type": "stream",
          "name": "stdout",
          "text": [
            "Q: What animal has quills all over it?\n",
            "O: feather /// chicken /// calligraphy /// porcupine /// hedgehog\n",
            "A:  hedgehog\n",
            "\n",
            "\n",
            "Model: hedgehog and Actual Answer: hedgehog\n",
            "Q: Why would you go to an office?\n",
            "O: work /// school building /// paper /// city /// habit\n",
            "A:  work\n",
            "\n",
            "\n",
            "Model: work and Actual Answer: work\n"
          ]
        },
        {
          "output_type": "stream",
          "name": "stderr",
          "text": [
            " 18%|█▊        | 220/1221 [00:28<02:12,  7.57it/s]"
          ]
        },
        {
          "output_type": "stream",
          "name": "stdout",
          "text": [
            "Q: When is the worst time for having food?\n",
            "O: digesting /// not hungry /// gas /// weight gain /// feeling of fullness\n",
            "A:  hunger /// feeling of fullness\n",
            "\n",
            "\n",
            "Model: hunger and Actual Answer: not hungry\n",
            "Q: If you spend all your time buying and not saving what is is likely to happen?\n",
            "O: using money /// feel better /// ocean /// losing money /// go broke\n",
            "A:  losing money /// losing money\n",
            "\n",
            "\n",
            "Model: losing money and Actual Answer: go broke\n"
          ]
        },
        {
          "output_type": "stream",
          "name": "stderr",
          "text": [
            " 18%|█▊        | 222/1221 [00:28<02:11,  7.58it/s]"
          ]
        },
        {
          "output_type": "stream",
          "name": "stdout",
          "text": [
            "Q: Though a mouse might prefer your house, you might also see him where?\n",
            "O: tin /// department store /// garden /// small hole /// cupboard\n",
            "A:  cupboard\n",
            "\n",
            "\n",
            "Model: cupboard and Actual Answer: garden\n",
            "Q: What is performing a type of?\n",
            "O: singing /// act /// feat /// smile /// acting\n",
            "A:  acting /// acting\n",
            "\n",
            "\n",
            "Model: acting and Actual Answer: act\n"
          ]
        },
        {
          "output_type": "stream",
          "name": "stderr",
          "text": [
            " 18%|█▊        | 224/1221 [00:29<02:10,  7.65it/s]"
          ]
        },
        {
          "output_type": "stream",
          "name": "stdout",
          "text": [
            "Q: The car was going from Alabama to New York, what was its goal?\n",
            "O: head north /// speed up /// heading north /// go fast /// headed south\n",
            "A:  heading north /// heading north\n",
            "\n",
            "\n",
            "Model: heading north and Actual Answer: head north\n",
            "Q: What do they call the trash in Australia?\n",
            "O: dirt /// subway /// state park /// container /// dustbin\n",
            "A:  trash bin\n",
            "\n",
            "\n",
            "Model: trash bin and Actual Answer: dustbin\n"
          ]
        },
        {
          "output_type": "stream",
          "name": "stderr",
          "text": [
            " 19%|█▊        | 226/1221 [00:29<02:08,  7.72it/s]"
          ]
        },
        {
          "output_type": "stream",
          "name": "stdout",
          "text": [
            "Q: Joan wants to cook a potato, where should she place it?\n",
            "O: boiling water /// paper bag /// restaurants /// underground /// cupboard\n",
            "A:  cupboard\n",
            "\n",
            "\n",
            "Model: cupboard and Actual Answer: boiling water\n",
            "Q: Writers with a great what can amass a large fortune?\n",
            "O: cookie /// bank /// real estate /// imagination /// bank roll\n",
            "A:  bankroll\n",
            "\n",
            "\n",
            "Model: bankroll and Actual Answer: imagination\n"
          ]
        },
        {
          "output_type": "stream",
          "name": "stderr",
          "text": [
            " 19%|█▊        | 228/1221 [00:29<02:09,  7.66it/s]"
          ]
        },
        {
          "output_type": "stream",
          "name": "stdout",
          "text": [
            "Q: Where do all animals live?\n",
            "O: the moon /// fairgrounds /// surface of earth /// meadow /// zoos\n",
            "A:  zoos\n",
            "\n",
            "\n",
            "Model: zoos and Actual Answer: surface of earth\n",
            "Q: How are the conditions for someone who is living in a homeless shelter?\n",
            "O: sometimes bad /// happy /// respiration /// growing older /// death\n",
            "A:  death\n",
            "\n",
            "\n",
            "Model: death and Actual Answer: sometimes bad\n"
          ]
        },
        {
          "output_type": "stream",
          "name": "stderr",
          "text": [
            " 19%|█▉        | 230/1221 [00:29<02:15,  7.31it/s]"
          ]
        },
        {
          "output_type": "stream",
          "name": "stdout",
          "text": [
            "Q: You can do knitting to get the feeling of what?\n",
            "O: relaxation /// arthritis /// adrenaline /// your /// sweater may produced\n",
            "A:  relaxation /// sweater may produced\n",
            "\n",
            "\n",
            "Model: relaxation and Actual Answer: relaxation\n",
            "Q: What might a very large table be?\n",
            "O: dining room /// conference /// kitchen /// in a lake /// demonstration\n",
            "A:  conference /// kitchen\n",
            "\n",
            "\n",
            "Model: conference and Actual Answer: conference\n"
          ]
        },
        {
          "output_type": "stream",
          "name": "stderr",
          "text": [
            " 19%|█▉        | 232/1221 [00:30<02:11,  7.52it/s]"
          ]
        },
        {
          "output_type": "stream",
          "name": "stdout",
          "text": [
            "Q: John got his tax refund back.  He treated it like it was what?\n",
            "O: candy /// death and /// free money /// discount /// credit\n",
            "A:  free money /// discount\n",
            "\n",
            "\n",
            "Model: free money and Actual Answer: free money\n",
            "Q: A person with an allergy might be doing what if they awake suddenly?\n",
            "O: have fun /// enjoy with friends /// stretch /// yawn /// sneezing\n",
            "A:  yawning /// yawning\n",
            "\n",
            "\n",
            "Model: yawning and Actual Answer: sneezing\n"
          ]
        },
        {
          "output_type": "stream",
          "name": "stderr",
          "text": [
            " 19%|█▉        | 234/1221 [00:30<02:08,  7.69it/s]"
          ]
        },
        {
          "output_type": "stream",
          "name": "stdout",
          "text": [
            "Q: Where is a ferret unlikely to be?\n",
            "O: classroom /// outdoors /// aquarium /// north carolina /// great britain\n",
            "A:  aquarium /// aquarium /// aquarium\n",
            "\n",
            "\n",
            "Model: aquarium and Actual Answer: classroom\n",
            "Q: If you jump in any of the oceans you will get?\n",
            "O: tanned /// wet /// wide /// very deep /// fish\n",
            "A:  very deep\n",
            "\n",
            "\n",
            "Model: very deep and Actual Answer: wet\n"
          ]
        },
        {
          "output_type": "stream",
          "name": "stderr",
          "text": [
            " 19%|█▉        | 236/1221 [00:30<02:08,  7.65it/s]"
          ]
        },
        {
          "output_type": "stream",
          "name": "stdout",
          "text": [
            "Q: Immediately after peeing, a person's bladder is what?\n",
            "O: collapsed /// empty /// full /// filled /// stretchable\n",
            "A:  empty /// stretchable\n",
            "\n",
            "\n",
            "Model: empty and Actual Answer: empty\n",
            "Q: The lady would eat and eat, and because of mental issues would then make herself what?\n",
            "O: wash dishes /// throwing up /// drinking /// throw up /// turn inside out\n",
            "A:  throw up\n",
            "\n",
            "\n",
            "Model: throw up and Actual Answer: throw up\n"
          ]
        },
        {
          "output_type": "stream",
          "name": "stderr",
          "text": [
            " 19%|█▉        | 238/1221 [00:30<02:07,  7.71it/s]"
          ]
        },
        {
          "output_type": "stream",
          "name": "stdout",
          "text": [
            "Q: A car was hailed to chauffeur someone to the opera house, where was it heading?\n",
            "O: go downtown /// appear suddenly /// go fast /// bottom out /// east\n",
            "A:  east /// east\n",
            "\n",
            "\n",
            "Model: east and Actual Answer: go downtown\n",
            "Q: What do you go to see for live entertainment?\n",
            "O: movie /// show /// concert venue /// casino /// theatre\n",
            "A:  theatre /// theatre\n",
            "\n",
            "\n",
            "Model: theatre and Actual Answer: show\n"
          ]
        },
        {
          "output_type": "stream",
          "name": "stderr",
          "text": [
            " 20%|█▉        | 240/1221 [00:31<02:06,  7.73it/s]"
          ]
        },
        {
          "output_type": "stream",
          "name": "stdout",
          "text": [
            "Q: The teacher thought that a ferret can be very mischievous and probably wouldn't make a great pet for the entire what?\n",
            "O: bad mood /// hutch /// classroom /// pair of trousers /// year\n",
            "A:  bad mood /// pair of trousers\n",
            "\n",
            "\n",
            "Model: bad mood and Actual Answer: classroom\n",
            "Q: A creek is a body of water found in what low land?\n",
            "O: forest /// valley /// outdoors /// countryside /// woods\n",
            "A:  forest /// woods\n",
            "\n",
            "\n",
            "Model: forest and Actual Answer: valley\n"
          ]
        },
        {
          "output_type": "stream",
          "name": "stderr",
          "text": [
            " 20%|█▉        | 242/1221 [00:31<02:05,  7.77it/s]"
          ]
        },
        {
          "output_type": "stream",
          "name": "stdout",
          "text": [
            "Q: If I have a pet bird, what does it likely live in?\n",
            "O: forest /// bathroom /// windowsill /// countryside /// cage\n",
            "A:  countryside /// cage\n",
            "\n",
            "\n",
            "Model: countryside and Actual Answer: cage\n",
            "Q: Joe and Mac were playing basketball. They did it every day in their back yard.  Why were they playing basketball?\n",
            "O: study /// have fun /// pain /// cheers /// knee injury\n",
            "A:  pain /// knee injury\n",
            "\n",
            "\n",
            "Model: pain and Actual Answer: have fun\n"
          ]
        },
        {
          "output_type": "stream",
          "name": "stderr",
          "text": [
            " 20%|█▉        | 244/1221 [00:31<02:06,  7.71it/s]"
          ]
        },
        {
          "output_type": "stream",
          "name": "stdout",
          "text": [
            "Q: What makes someone a nomad?\n",
            "O: unpleasant things /// hangnail /// have no home /// have no car /// schizophrenia\n",
            "A:  have no home /// have no car\n",
            "\n",
            "\n",
            "Model: have no home and Actual Answer: have no home\n",
            "Q: What is a treat that you dog will enjoy?\n",
            "O: salad /// petted /// affection /// bone /// lots of attention\n",
            "A:  love\n",
            "\n",
            "\n",
            "Model: love and Actual Answer: bone\n"
          ]
        },
        {
          "output_type": "stream",
          "name": "stderr",
          "text": [
            " 20%|██        | 246/1221 [00:31<02:07,  7.66it/s]"
          ]
        },
        {
          "output_type": "stream",
          "name": "stdout",
          "text": [
            "Q: Women used to be expected to wear a dress but it's now acceptable for them to wear what?\n",
            "O: man suit /// pants /// naked /// action /// long skirt\n",
            "A:  long skirt /// long skirt\n",
            "\n",
            "\n",
            "Model: long skirt and Actual Answer: pants\n",
            "Q: The fact that Joe was able to memorize the list in spite of his apparent  state proved that part of his brain was what?\n",
            "O: awake /// repeat /// sleeping /// concentrate /// read aloud\n",
            "A:  sleep /// read aloud\n",
            "\n",
            "\n",
            "Model: sleep and Actual Answer: awake\n"
          ]
        },
        {
          "output_type": "stream",
          "name": "stderr",
          "text": [
            " 20%|██        | 248/1221 [00:32<02:07,  7.66it/s]"
          ]
        },
        {
          "output_type": "stream",
          "name": "stdout",
          "text": [
            "Q: What is a wet person likely to do?\n",
            "O: gain weight /// thank god /// catch cold /// suicide /// cross street\n",
            "A:  gain weight /// catch cold\n",
            "\n",
            "\n",
            "Model: gain weight and Actual Answer: catch cold\n",
            "Q: After recovering from the disease, what did the doctor call the patient?\n",
            "O: healthy /// passing around /// cure /// wellness /// healthy\n",
            "A:  healthy /// cure\n",
            "\n",
            "\n",
            "Model: healthy and Actual Answer: healthy\n"
          ]
        },
        {
          "output_type": "stream",
          "name": "stderr",
          "text": [
            " 20%|██        | 250/1221 [00:32<02:06,  7.69it/s]"
          ]
        },
        {
          "output_type": "stream",
          "name": "stdout",
          "text": [
            "Q: The painter started to edge the room with tape, he always took extra care to make the lines clean and crisp when working with an what?\n",
            "O: triangle /// middle /// corner /// center /// interior\n",
            "A:  corner /// interior\n",
            "\n",
            "\n",
            "Model: corner and Actual Answer: interior\n",
            "Q: After high tide, where on the coast can you look to find a sea anemone?\n",
            "O: nursery /// museum /// gulf of mexico /// tide pool /// intertidal zone\n",
            "A:  gulf of mexico /// intertidal zone\n",
            "\n",
            "\n",
            "Model: gulf of mexico and Actual Answer: tide pool\n"
          ]
        },
        {
          "output_type": "stream",
          "name": "stderr",
          "text": [
            " 21%|██        | 252/1221 [00:32<02:08,  7.52it/s]"
          ]
        },
        {
          "output_type": "stream",
          "name": "stdout",
          "text": [
            "Q: What could a driving car do to a pedestrian?\n",
            "O: say hello /// wreak /// pollution /// smoke /// relaxation\n",
            "A:  pollution /// smoke\n",
            "\n",
            "\n",
            "Model: pollution and Actual Answer: wreak\n",
            "Q: People do many things to alleviate boredom.  If you can't get out of the house you might decide to do what?\n",
            "O: play cards /// skateboard /// meet interesting people /// listen to music /// go to a concert\n",
            "A:  skateboard /// meet interesting people\n",
            "\n",
            "\n",
            "Model: skateboard and Actual Answer: listen to music\n"
          ]
        },
        {
          "output_type": "stream",
          "name": "stderr",
          "text": [
            " 21%|██        | 254/1221 [00:33<02:06,  7.63it/s]"
          ]
        },
        {
          "output_type": "stream",
          "name": "stdout",
          "text": [
            "Q: At a grocery store they sell individual potatoes, where does the grocery clerk likely put the potato?\n",
            "O: boiling water /// root cellar /// rocket ship /// paper bag /// underground\n",
            "A:  rocket ship /// paper bag\n",
            "\n",
            "\n",
            "Model: rocket ship and Actual Answer: paper bag\n",
            "Q: What room is a rubber bath mat usually kept?\n",
            "O: doorway /// living room /// sand /// floors /// bathroom\n",
            "A:  floor /// bathroom\n",
            "\n",
            "\n",
            "Model: floor and Actual Answer: bathroom\n"
          ]
        },
        {
          "output_type": "stream",
          "name": "stderr",
          "text": [
            " 21%|██        | 256/1221 [00:33<02:06,  7.64it/s]"
          ]
        },
        {
          "output_type": "stream",
          "name": "stdout",
          "text": [
            "Q: What would you put meat on top of to cook it?\n",
            "O: oil /// freezer /// ham sandwich /// oven /// frying pan\n",
            "A:  oven /// frying pan\n",
            "\n",
            "\n",
            "Model: oven and Actual Answer: frying pan\n",
            "Q: Minerals can be obtained in what way for a person who avoids leafy greens?\n",
            "O: multivitamin /// farm /// michigan /// earth /// ore\n",
            "A:  michigan /// earth\n",
            "\n",
            "\n",
            "Model: michigan and Actual Answer: multivitamin\n"
          ]
        },
        {
          "output_type": "stream",
          "name": "stderr",
          "text": [
            " 21%|██        | 258/1221 [00:33<02:05,  7.68it/s]"
          ]
        },
        {
          "output_type": "stream",
          "name": "stdout",
          "text": [
            "Q: What could you be a few hours after you finish cashing in due to your cash?\n",
            "O: happy /// receiving money /// getting paid /// spending money /// selling out\n",
            "A:  receiving money /// spending money\n",
            "\n",
            "\n",
            "Model: receiving money and Actual Answer: happy\n",
            "Q: The smelly man was having a bath, but what is he pursuing?\n",
            "O: hydration /// being clear /// personal cleanliness /// will drown /// use of water\n",
            "A:  personal cleanliness /// use of water\n",
            "\n",
            "\n",
            "Model: personal cleanliness and Actual Answer: personal cleanliness\n"
          ]
        },
        {
          "output_type": "stream",
          "name": "stderr",
          "text": [
            " 21%|██▏       | 260/1221 [00:33<02:05,  7.64it/s]"
          ]
        },
        {
          "output_type": "stream",
          "name": "stdout",
          "text": [
            "Q: What might a couple have a lot of when they are deciding on stopping being married to each other?\n",
            "O: pleasure /// detachment /// exercise /// bankruptcy /// fights\n",
            "A:  divorce /// divorce\n",
            "\n",
            "\n",
            "Model: divorce and Actual Answer: fights\n",
            "Q: If a person is working a lot, what are they likely trying to earn?\n",
            "O: much money /// own house /// creativity /// new car /// caregiver\n",
            "A:  new car /// creativity\n",
            "\n",
            "\n",
            "Model: new car and Actual Answer: much money\n"
          ]
        },
        {
          "output_type": "stream",
          "name": "stderr",
          "text": [
            " 21%|██▏       | 262/1221 [00:34<02:04,  7.69it/s]"
          ]
        },
        {
          "output_type": "stream",
          "name": "stdout",
          "text": [
            "Q: The traveling business man was glad his credit card had perks, it offset the high prices for travel from a what?\n",
            "O: car /// theatre /// airport /// hotel /// disneyland\n",
            "A:  airport /// disneyland\n",
            "\n",
            "\n",
            "Model: airport and Actual Answer: airport\n",
            "Q: Billy hated using other people's toilets. He was only comfortable on his own.  So whenever he needed to poop, he would go back to his what?\n",
            "O: bathroom /// motel room /// nearest public restroom /// house /// apartment\n",
            "A:  bathroom\n",
            "\n",
            "\n",
            "Model: bathroom and Actual Answer: house\n"
          ]
        },
        {
          "output_type": "stream",
          "name": "stderr",
          "text": [
            " 22%|██▏       | 264/1221 [00:34<02:05,  7.65it/s]"
          ]
        },
        {
          "output_type": "stream",
          "name": "stdout",
          "text": [
            "Q: The forest experienced a cold winter, where is it located?\n",
            "O: earth /// south america /// amazon basin /// temperate zone /// national park\n",
            "A:  amazon basin /// temperate zone\n",
            "\n",
            "\n",
            "Model: amazon basin and Actual Answer: temperate zone\n",
            "Q: How can you let someone know about your anger without hurting him or her?\n",
            "O: release energy /// destroy enemy /// punch /// write letter /// lose your temper\n",
            "A:  write letter /// lose your temper\n",
            "\n",
            "\n",
            "Model: write letter and Actual Answer: write letter\n"
          ]
        },
        {
          "output_type": "stream",
          "name": "stderr",
          "text": [
            " 22%|██▏       | 266/1221 [00:34<02:08,  7.44it/s]"
          ]
        },
        {
          "output_type": "stream",
          "name": "stdout",
          "text": [
            "Q: Where is one likely to find a brownstone?\n",
            "O: new york city /// subdivision /// ring /// hazleton /// live in\n",
            "A:  new york city /// ring /// live in\n",
            "\n",
            "\n",
            "Model: new york city and Actual Answer: new york city\n",
            "Q: What may I place the telephone on?\n",
            "O: bar /// friend's house /// desktop /// party /// office\n",
            "A:  desktop\n",
            "\n",
            "\n",
            "Model: desktop and Actual Answer: desktop\n"
          ]
        },
        {
          "output_type": "stream",
          "name": "stderr",
          "text": [
            " 22%|██▏       | 268/1221 [00:34<02:06,  7.52it/s]"
          ]
        },
        {
          "output_type": "stream",
          "name": "stdout",
          "text": [
            "Q: What language type is someone from Iran likely to use?\n",
            "O: books /// dard /// sky /// closed room /// television\n",
            "A:  books /// television\n",
            "\n",
            "\n",
            "Model: books and Actual Answer: dard\n",
            "Q: John went to a party that lasted all night.  Because of this, he didn't have time for what?\n",
            "O: meeting /// blowing off steam /// stay home /// partying hard /// studying\n",
            "A:  partying hard /// partying hard\n",
            "\n",
            "\n",
            "Model: partying hard and Actual Answer: studying\n"
          ]
        },
        {
          "output_type": "stream",
          "name": "stderr",
          "text": [
            " 22%|██▏       | 270/1221 [00:35<02:04,  7.65it/s]"
          ]
        },
        {
          "output_type": "stream",
          "name": "stdout",
          "text": [
            "Q: The child wasn't allowed in the kitchen but still wanted to help, what could it do to help in the dining room?\n",
            "O: set table /// form opinions /// make honey /// become adult /// gather flowers\n",
            "A:  gather flowers\n",
            "\n",
            "\n",
            "Model: gather flowers and Actual Answer: set table\n",
            "Q: He was having a hard time expressing himself in a healthy way, the psychologist said he was mentally what?\n",
            "O: slow /// understood /// suffering /// embarrassment /// fun\n",
            "A:  embarrassed /// fun\n",
            "\n",
            "\n",
            "Model: embarrassed and Actual Answer: suffering\n"
          ]
        },
        {
          "output_type": "stream",
          "name": "stderr",
          "text": [
            " 22%|██▏       | 272/1221 [00:35<02:03,  7.68it/s]"
          ]
        },
        {
          "output_type": "stream",
          "name": "stdout",
          "text": [
            "Q: When someone is physically competing what does their body do?\n",
            "O: tension /// perform better /// releases heat /// winning or losing /// sweat\n",
            "A:  sweat /// sweat /// sweat\n",
            "\n",
            "\n",
            "Model: sweat and Actual Answer: sweat\n",
            "Q: How would you express information to a deaf person?\n",
            "O: summarize main points /// close mouth /// write down /// may disagree /// talk\n",
            "A:  summarize main points /// write down\n",
            "\n",
            "\n",
            "Model: summarize main points and Actual Answer: write down\n"
          ]
        },
        {
          "output_type": "stream",
          "name": "stderr",
          "text": [
            " 22%|██▏       | 274/1221 [00:35<02:03,  7.65it/s]"
          ]
        },
        {
          "output_type": "stream",
          "name": "stdout",
          "text": [
            "Q: Printing on a printer can get expensive because it does what?\n",
            "O: explode /// use paper /// store information /// queue /// noise\n",
            "A:  use paper /// print on a printer\n",
            "\n",
            "\n",
            "Model: use paper and Actual Answer: use paper\n",
            "Q: What will god never do according to religion?\n",
            "O: anything /// judge people /// work miracles /// judge men /// everywhere\n",
            "A:  judge men /// judge men\n",
            "\n",
            "\n",
            "Model: judge men and Actual Answer: judge people\n"
          ]
        },
        {
          "output_type": "stream",
          "name": "stderr",
          "text": [
            " 23%|██▎       | 276/1221 [00:35<02:05,  7.55it/s]"
          ]
        },
        {
          "output_type": "stream",
          "name": "stdout",
          "text": [
            "Q: One of the potential hazards of attending school is what?\n",
            "O: cooties /// get smart /// boredom /// colds and flu /// taking tests\n",
            "A:  boredom /// cooties\n",
            "\n",
            "\n",
            "Model: boredom and Actual Answer: colds and flu\n",
            "Q: What has a surface with many sides?\n",
            "O: tetrahedron /// object /// geometry problem /// lake /// triangle\n",
            "A:  triangle\n",
            "\n",
            "\n",
            "Model: triangle and Actual Answer: tetrahedron\n"
          ]
        },
        {
          "output_type": "stream",
          "name": "stderr",
          "text": [
            " 23%|██▎       | 278/1221 [00:36<02:04,  7.59it/s]"
          ]
        },
        {
          "output_type": "stream",
          "name": "stdout",
          "text": [
            "Q: What could bring a container from one place to another?\n",
            "O: food /// refrigerator /// cargo ship /// port /// fuel\n",
            "A:  cargo ship /// fuel ship\n",
            "\n",
            "\n",
            "Model: cargo ship and Actual Answer: cargo ship\n",
            "Q: The old style pop ups literally let you see the story when you did what?\n",
            "O: giggle /// visualize /// open book /// reading /// go to movies\n",
            "A:  go to movies\n",
            "\n",
            "\n",
            "Model: go to movies and Actual Answer: open book\n"
          ]
        },
        {
          "output_type": "stream",
          "name": "stderr",
          "text": [
            " 23%|██▎       | 280/1221 [00:36<02:02,  7.67it/s]"
          ]
        },
        {
          "output_type": "stream",
          "name": "stdout",
          "text": [
            "Q: What is it called when you are talking to someone?\n",
            "O: communication /// quiet /// boredom /// persuaded /// learn\n",
            "A:  communication /// boredom\n",
            "\n",
            "\n",
            "Model: communication and Actual Answer: communication\n",
            "Q: The family finished dinner, the child's chore was to load the dirty dishes where?\n",
            "O: restaurant kitchen /// dishwasher /// son's room /// cabinet /// party\n",
            "A:  cabinet /// dishwasher\n",
            "\n",
            "\n",
            "Model: cabinet and Actual Answer: dishwasher\n"
          ]
        },
        {
          "output_type": "stream",
          "name": "stderr",
          "text": [
            " 23%|██▎       | 282/1221 [00:36<02:02,  7.67it/s]"
          ]
        },
        {
          "output_type": "stream",
          "name": "stdout",
          "text": [
            "Q: Where could you find a bureau as well as many politicians?\n",
            "O: each city /// office building /// a zoo /// french government /// washington dc\n",
            "A:  office building /// washington dc\n",
            "\n",
            "\n",
            "Model: office building and Actual Answer: washington dc\n",
            "Q: Dad wanted to hide the check in his office, where did he put it?\n",
            "O: cash register /// desk drawer /// fish tank /// bank /// pay envelope\n",
            "A:  cash register /// desk drawer\n",
            "\n",
            "\n",
            "Model: cash register and Actual Answer: desk drawer\n"
          ]
        },
        {
          "output_type": "stream",
          "name": "stderr",
          "text": [
            " 23%|██▎       | 284/1221 [00:36<02:01,  7.71it/s]"
          ]
        },
        {
          "output_type": "stream",
          "name": "stdout",
          "text": [
            "Q: For some reason she was devoid of regular emotions, buying products was the only way she could feel what?\n",
            "O: pleasure /// owning /// debt /// spending money /// smart\n",
            "A:  spending money\n",
            "\n",
            "\n",
            "Model: spending money and Actual Answer: pleasure\n",
            "Q: Where are horses judged on appearance?\n",
            "O: race track /// fair /// raised by humans /// in a field /// countryside\n",
            "A:  fair /// in a field\n",
            "\n",
            "\n",
            "Model: fair and Actual Answer: fair\n"
          ]
        },
        {
          "output_type": "stream",
          "name": "stderr",
          "text": [
            " 23%|██▎       | 286/1221 [00:37<02:00,  7.75it/s]"
          ]
        },
        {
          "output_type": "stream",
          "name": "stdout",
          "text": [
            "Q: Why do people read non fiction?\n",
            "O: having fun /// it's more relatable /// learn new things /// becoming absorbed /// falling asleep\n",
            "A:  learning new things /// falling asleep\n",
            "\n",
            "\n",
            "Model: learning new things and Actual Answer: learn new things\n",
            "Q: While knitting you can do what using a radio?\n",
            "O: listen to music /// watch television /// making blankets /// eat /// watching tv\n",
            "A:  watch television /// make blankets\n",
            "\n",
            "\n",
            "Model: watch television and Actual Answer: listen to music\n"
          ]
        },
        {
          "output_type": "stream",
          "name": "stderr",
          "text": [
            " 24%|██▎       | 288/1221 [00:37<01:58,  7.85it/s]"
          ]
        },
        {
          "output_type": "stream",
          "name": "stdout",
          "text": [
            "Q: Where are you likely to set papers while working on them?\n",
            "O: table /// meeting /// drawer /// toilet /// garage\n",
            "A:  drawer /// garage\n",
            "\n",
            "\n",
            "Model: drawer and Actual Answer: table\n",
            "Q: John had a massive debt to 50 million dollars.  Compared to that, Leo's 2000 dollar debt seemed what?\n",
            "O: dwarf /// inconsequential /// insubstantial /// lame /// tiny\n",
            "A:  insignificant\n",
            "\n",
            "\n",
            "Model: insignificant and Actual Answer: insubstantial\n"
          ]
        },
        {
          "output_type": "stream",
          "name": "stderr",
          "text": [
            " 24%|██▍       | 290/1221 [00:37<02:00,  7.74it/s]"
          ]
        },
        {
          "output_type": "stream",
          "name": "stdout",
          "text": [
            "Q: The man flew his airplane over the city and saw pollution visibly in the sky, what was polluted?\n",
            "O: forest /// street /// air /// caused by humans /// car show\n",
            "A:  air /// caused by humans\n",
            "\n",
            "\n",
            "Model: air and Actual Answer: air\n",
            "Q: What is a very unlikely side effect of becoming inebriated?\n",
            "O: fights /// drunkenness /// staggering /// puke /// paralysis\n",
            "A:  puke\n",
            "\n",
            "\n",
            "Model: puke and Actual Answer: paralysis\n"
          ]
        },
        {
          "output_type": "stream",
          "name": "stderr",
          "text": [
            " 24%|██▍       | 292/1221 [00:38<02:00,  7.72it/s]"
          ]
        },
        {
          "output_type": "stream",
          "name": "stdout",
          "text": [
            "Q: when communicating with my boss what should i do\n",
            "O: misunderstandings /// transfer of information /// learning /// confusion /// silence\n",
            "A:  confusion /// confusion\n",
            "\n",
            "\n",
            "Model: confusion and Actual Answer: transfer of information\n",
            "Q: If not in a stream but in a market where will you find fish?\n",
            "O: stream /// aquarium /// refrigerator /// boat ride /// market\n",
            "A:  aquarium /// aquarium\n",
            "\n",
            "\n",
            "Model: aquarium and Actual Answer: refrigerator\n"
          ]
        },
        {
          "output_type": "stream",
          "name": "stderr",
          "text": [
            " 24%|██▍       | 294/1221 [00:38<01:59,  7.77it/s]"
          ]
        },
        {
          "output_type": "stream",
          "name": "stdout",
          "text": [
            "Q: What are people likely to want to do with their friends?\n",
            "O: own land /// own home /// talk to each other /// believe in god /// spend time\n",
            "A:  spend time /// spend time\n",
            "\n",
            "\n",
            "Model: spend time and Actual Answer: spend time\n",
            "Q: During a shark filled tornado where should you not be?\n",
            "O: marine museum /// pool hall /// noodle house /// bad movie /// outside\n",
            "A:  marine museum /// pool hall\n",
            "\n",
            "\n",
            "Model: marine museum and Actual Answer: outside\n"
          ]
        },
        {
          "output_type": "stream",
          "name": "stderr",
          "text": [
            " 24%|██▍       | 296/1221 [00:38<01:58,  7.80it/s]"
          ]
        },
        {
          "output_type": "stream",
          "name": "stdout",
          "text": [
            "Q: What is the likely result of buying products in excess?\n",
            "O: running out of money /// spending money /// poverty /// comparison shopping /// overstocking\n",
            "A:  spending money /// overstocking\n",
            "\n",
            "\n",
            "Model: spending money and Actual Answer: overstocking\n",
            "Q: What is a person trying to accomplish when taking analgesics?\n",
            "O: acceptance /// avoid pain /// acknowledgment /// passing grade /// intellectual challenge\n",
            "A:  acceptance /// passing grade\n",
            "\n",
            "\n",
            "Model: acceptance and Actual Answer: avoid pain\n"
          ]
        },
        {
          "output_type": "stream",
          "name": "stderr",
          "text": [
            " 24%|██▍       | 298/1221 [00:38<01:58,  7.76it/s]"
          ]
        },
        {
          "output_type": "stream",
          "name": "stdout",
          "text": [
            "Q: Where would you put a glass after drinking from it?\n",
            "O: ocean /// water cooler /// cabinet /// dishwasher /// dining room\n",
            "A:  cabinet /// dining room\n",
            "\n",
            "\n",
            "Model: cabinet and Actual Answer: dishwasher\n",
            "Q: Where would you buy food?\n",
            "O: freezer /// store /// home /// hatred /// kitchen\n",
            "A:  kitchen\n",
            "\n",
            "\n",
            "Model: kitchen and Actual Answer: store\n"
          ]
        },
        {
          "output_type": "stream",
          "name": "stderr",
          "text": [
            " 25%|██▍       | 300/1221 [00:39<01:58,  7.77it/s]"
          ]
        },
        {
          "output_type": "stream",
          "name": "stdout",
          "text": [
            "Q: When a person admits his mistakes, what are they doing?\n",
            "O: accident /// learn to swim /// thank god /// feel relieved /// act responsibly\n",
            "A:  act responsibly /// act responsibly\n",
            "\n",
            "\n",
            "Model: act responsibly and Actual Answer: act responsibly\n",
            "Q: Where do play a game for money?\n",
            "O: casino /// football ground /// ballpark /// family room /// toy store\n",
            "A:  toy store\n",
            "\n",
            "\n",
            "Model: toy store and Actual Answer: casino\n"
          ]
        },
        {
          "output_type": "stream",
          "name": "stderr",
          "text": [
            " 25%|██▍       | 302/1221 [00:39<01:57,  7.81it/s]"
          ]
        },
        {
          "output_type": "stream",
          "name": "stdout",
          "text": [
            "Q: When you travel you should what in case of unexpected costs?\n",
            "O: go somewhere /// energy /// spend frivilously /// fly in airplane /// have money\n",
            "A:  spend frivilously /// fly in airplane\n",
            "\n",
            "\n",
            "Model: spend frivilously and Actual Answer: have money\n",
            "Q: Donald is a prominent figure for the federal government, so in what city does he likely spend a lot of time?\n",
            "O: everything /// capitol building /// tourist sites /// canada /// washington d.c\n",
            "A:  tourist sites /// canada\n",
            "\n",
            "\n",
            "Model: tourist sites and Actual Answer: washington d.c\n"
          ]
        },
        {
          "output_type": "stream",
          "name": "stderr",
          "text": [
            " 25%|██▍       | 304/1221 [00:39<01:57,  7.81it/s]"
          ]
        },
        {
          "output_type": "stream",
          "name": "stdout",
          "text": [
            "Q: There was more than one bum asking for change or a ticket, it was the cheapest way to travel so it was no surprise sight at the what?\n",
            "O: train station /// beach /// bus depot /// bridge /// stumblebum\n",
            "A:  train station /// bridge\n",
            "\n",
            "\n",
            "Model: train station and Actual Answer: bus depot\n",
            "Q: John and Joe like planning games but Joe  was hit by a ball and fell down. What might have happened to Joe.\n",
            "O: anger /// good natured ribbing. /// enjoying /// injury /// enjoyment\n",
            "A:  injury /// injury\n",
            "\n",
            "\n",
            "Model: injury and Actual Answer: injury\n"
          ]
        },
        {
          "output_type": "stream",
          "name": "stderr",
          "text": [
            " 25%|██▌       | 306/1221 [00:39<02:09,  7.07it/s]"
          ]
        },
        {
          "output_type": "stream",
          "name": "stdout",
          "text": [
            "Q: Where can you buy jeans at one of may indoor merchants?\n",
            "O: gap /// shopping mall /// bedroom /// laundromat /// bathroom\n",
            "A:  shopping mall /// laundromat\n",
            "\n",
            "\n",
            "Model: shopping mall and Actual Answer: shopping mall\n",
            "Q: What do you write letter in in America?\n",
            "O: syllable /// post office /// envelope /// english alphabet /// word\n",
            "A:  letter in english alphabet\n",
            "\n",
            "\n",
            "Model: letter in english alphabet and Actual Answer: english alphabet\n"
          ]
        },
        {
          "output_type": "stream",
          "name": "stderr",
          "text": [
            " 25%|██▌       | 308/1221 [00:40<02:04,  7.35it/s]"
          ]
        },
        {
          "output_type": "stream",
          "name": "stdout",
          "text": [
            "Q: Joe owned back taxes as well as what other type of taxes?\n",
            "O: anterior /// front /// main /// front /// current\n",
            "A:  main /// main\n",
            "\n",
            "\n",
            "Model: main and Actual Answer: current\n",
            "Q: Where is a broadcast studio likely to be heard?\n",
            "O: microphone /// arena /// radio station /// trees /// town\n",
            "A:  radio station /// radio station\n",
            "\n",
            "\n",
            "Model: radio station and Actual Answer: radio station\n"
          ]
        },
        {
          "output_type": "stream",
          "name": "stderr",
          "text": [
            " 25%|██▌       | 310/1221 [00:40<01:59,  7.60it/s]"
          ]
        },
        {
          "output_type": "stream",
          "name": "stdout",
          "text": [
            "Q: Kramer wrote a self-referential book.  What might that book be about?\n",
            "O: counter /// coffee table /// school room /// backpack /// bedside table\n",
            "A:  counter /// backpack\n",
            "\n",
            "\n",
            "Model: counter and Actual Answer: coffee table\n",
            "Q: Of all the sports, Billy enjoys football, but what does his concerned mother think of the sport?\n",
            "O: very entertaining /// fun /// slow /// competitive /// violent\n",
            "A:  competitive /// competitive\n",
            "\n",
            "\n",
            "Model: competitive and Actual Answer: violent\n"
          ]
        },
        {
          "output_type": "stream",
          "name": "stderr",
          "text": [
            " 26%|██▌       | 312/1221 [00:40<01:57,  7.72it/s]"
          ]
        },
        {
          "output_type": "stream",
          "name": "stdout",
          "text": [
            "Q: What city will likely have many parking structures?\n",
            "O: chicago /// big city /// large city building /// environment /// college campus\n",
            "A:  large city building /// environment\n",
            "\n",
            "\n",
            "Model: large city building and Actual Answer: chicago\n",
            "Q: Sally was afraid of danger and always double checked what?\n",
            "O: fight enemy /// secure /// being safe /// safety /// vicinity\n",
            "A:  safety /// safe\n",
            "\n",
            "\n",
            "Model: safety and Actual Answer: safety\n"
          ]
        },
        {
          "output_type": "stream",
          "name": "stderr",
          "text": [
            " 26%|██▌       | 314/1221 [00:40<01:57,  7.72it/s]"
          ]
        },
        {
          "output_type": "stream",
          "name": "stdout",
          "text": [
            "Q: What is the habitat of the fox?\n",
            "O: hen house /// burrow /// california /// england /// mountains\n",
            "A:  california /// england\n",
            "\n",
            "\n",
            "Model: california and Actual Answer: mountains\n",
            "Q: People are very much like the animals, but one thing has secured or dominance over the planet.  We're better at doing what?\n",
            "O: eat eggs /// make tools /// eat dosa /// talk to each other /// smoke pot\n",
            "A:  talk to each other /// smoke pot\n",
            "\n",
            "\n",
            "Model: talk to each other and Actual Answer: make tools\n"
          ]
        },
        {
          "output_type": "stream",
          "name": "stderr",
          "text": [
            " 26%|██▌       | 316/1221 [00:41<01:56,  7.80it/s]"
          ]
        },
        {
          "output_type": "stream",
          "name": "stdout",
          "text": [
            "Q: They children loved having a back yard, and the parents loved that it was a safe what?\n",
            "O: suburb /// neighborhood /// back of house /// roundabout /// property\n",
            "A:  suburb /// back of house\n",
            "\n",
            "\n",
            "Model: suburb and Actual Answer: neighborhood\n",
            "Q: While people just throw coins down them now, what originally had a pail to be lowered for it's intended use?\n",
            "O: garage /// utility room /// slide /// wishing well /// garden\n",
            "A:  utility room /// slide\n",
            "\n",
            "\n",
            "Model: utility room and Actual Answer: wishing well\n"
          ]
        },
        {
          "output_type": "stream",
          "name": "stderr",
          "text": [
            " 26%|██▌       | 318/1221 [00:41<01:55,  7.83it/s]"
          ]
        },
        {
          "output_type": "stream",
          "name": "stdout",
          "text": [
            "Q: Joe was thrown from his boat into the water.  The water was cold because it was the middle of winter and he cried out to his crew for help.  They couldn't hear him over the sound of the what?\n",
            "O: surface of earth /// teardrops /// snowflake /// typhoon /// motor\n",
            "A:  surface of earth /// surface of earth\n",
            "\n",
            "\n",
            "Model: surface of earth and Actual Answer: typhoon\n",
            "Q: When a human is earning money, where are they often found?\n",
            "O: deep thought /// park /// friend's house /// place of work /// school\n",
            "A:  friend's house /// friend's house\n",
            "\n",
            "\n",
            "Model: friend's house and Actual Answer: place of work\n"
          ]
        },
        {
          "output_type": "stream",
          "name": "stderr",
          "text": [
            " 26%|██▌       | 320/1221 [00:41<01:56,  7.75it/s]"
          ]
        },
        {
          "output_type": "stream",
          "name": "stdout",
          "text": [
            "Q: They passed a apple tree on their way to the racetrack, the were going to watch the biggest motorsport spectacle in the world where?\n",
            "O: maryland /// indiana /// on tv /// park /// new jersey\n",
            "A:  maryland /// park\n",
            "\n",
            "\n",
            "Model: maryland and Actual Answer: indiana\n",
            "Q: Why do people play chess on the weekends?\n",
            "O: satisfaction /// have fun /// thrilling /// made /// smart\n",
            "A:  satisfaction /// excitement\n",
            "\n",
            "\n",
            "Model: satisfaction and Actual Answer: have fun\n"
          ]
        },
        {
          "output_type": "stream",
          "name": "stderr",
          "text": [
            " 26%|██▋       | 322/1221 [00:41<01:56,  7.69it/s]"
          ]
        },
        {
          "output_type": "stream",
          "name": "stdout",
          "text": [
            "Q: What do you need energy to do in gym class?\n",
            "O: work /// tacos /// mass /// play sports /// wrestle\n",
            "A:  work /// work\n",
            "\n",
            "\n",
            "Model: work and Actual Answer: play sports\n",
            "Q: Sarah dropped the marble because she wanted to do what?\n",
            "O: game /// pouch /// home /// store /// jar\n",
            "A:  store /// jar\n",
            "\n",
            "\n",
            "Model: store and Actual Answer: game\n"
          ]
        },
        {
          "output_type": "stream",
          "name": "stderr",
          "text": [
            " 27%|██▋       | 324/1221 [00:42<01:54,  7.81it/s]"
          ]
        },
        {
          "output_type": "stream",
          "name": "stdout",
          "text": [
            "Q: We are all human, and we all what?\n",
            "O: write /// eat cake /// smile /// think critically /// die\n",
            "A:  think critically /// think critically /// die\n",
            "\n",
            "\n",
            "Model: think critically and Actual Answer: die\n",
            "Q: If a person were going to bed, what would be their goal?\n",
            "O: lazy /// insomnia /// rest /// falling asleep /// dreaming of\n",
            "A:  sleepiness\n",
            "\n",
            "\n",
            "Model: sleepiness and Actual Answer: falling asleep\n"
          ]
        },
        {
          "output_type": "stream",
          "name": "stderr",
          "text": [
            " 27%|██▋       | 326/1221 [00:42<01:53,  7.86it/s]"
          ]
        },
        {
          "output_type": "stream",
          "name": "stdout",
          "text": [
            "Q: What are candles good for eliminating?\n",
            "O: shelf /// board /// church /// table /// dark\n",
            "A:  shelf /// table\n",
            "\n",
            "\n",
            "Model: shelf and Actual Answer: dark\n",
            "Q: WHat leads to an early death?\n",
            "O: poisonous gas /// homicide /// cinder /// nuclear weapons /// cyanide\n",
            "A:  cyanide\n",
            "\n",
            "\n",
            "Model: cyanide and Actual Answer: homicide\n"
          ]
        },
        {
          "output_type": "stream",
          "name": "stderr",
          "text": [
            " 27%|██▋       | 328/1221 [00:42<01:53,  7.87it/s]"
          ]
        },
        {
          "output_type": "stream",
          "name": "stdout",
          "text": [
            "Q: What room would you find many bookcases and is used for contemplation?\n",
            "O: study /// house /// homw /// kitchen /// den\n",
            "A:  house /// den\n",
            "\n",
            "\n",
            "Model: house and Actual Answer: study\n",
            "Q: Where do you head to travel to a star?\n",
            "O: night sky /// galaxy /// outer space /// hollywood /// eat cake\n",
            "A:  hollywood /// outer space\n",
            "\n",
            "\n",
            "Model: hollywood and Actual Answer: outer space\n"
          ]
        },
        {
          "output_type": "stream",
          "name": "stderr",
          "text": [
            " 27%|██▋       | 330/1221 [00:42<01:52,  7.89it/s]"
          ]
        },
        {
          "output_type": "stream",
          "name": "stdout",
          "text": [
            "Q: The player lifted his cornet and walked in rhythm, what was the player a member of?\n",
            "O: museum /// high school band /// marching band /// orchestra /// band\n",
            "A:  band /// orchestra\n",
            "\n",
            "\n",
            "Model: band and Actual Answer: marching band\n",
            "Q: What happens at soon as a living being is born?\n",
            "O: expiration /// growing older /// sometimes bad /// death /// start reproduction\n",
            "A:  death /// start reproduction\n",
            "\n",
            "\n",
            "Model: death and Actual Answer: growing older\n"
          ]
        },
        {
          "output_type": "stream",
          "name": "stderr",
          "text": [
            " 27%|██▋       | 332/1221 [00:43<01:52,  7.89it/s]"
          ]
        },
        {
          "output_type": "stream",
          "name": "stdout",
          "text": [
            "Q: When someone is talking and you missed something, what can you do to get them to repeat it?\n",
            "O: walking /// ask question /// think /// write question in crayon /// sneeze\n",
            "A:  ask question in crayon /// write question in\n",
            "\n",
            "\n",
            "Model: ask question in crayon and Actual Answer: ask question\n",
            "Q: Where does one store fabric in their own home?\n",
            "O: sewing room /// clothing store /// tailor shop /// clothes store /// cotton mill\n",
            "A:  clothing store /// cotton mill\n",
            "\n",
            "\n",
            "Model: clothing store and Actual Answer: sewing room\n"
          ]
        },
        {
          "output_type": "stream",
          "name": "stderr",
          "text": [
            " 27%|██▋       | 334/1221 [00:43<01:52,  7.90it/s]"
          ]
        },
        {
          "output_type": "stream",
          "name": "stdout",
          "text": [
            "Q: What do most companies not want to have relative to demand?\n",
            "O: oversupply /// plentitude /// stockpile /// superabundance /// busy\n",
            "A:  oversupply /// stockpile\n",
            "\n",
            "\n",
            "Model: oversupply and Actual Answer: oversupply\n",
            "Q: What is happening while he's playing basketball for such a long time?\n",
            "O: sweating /// pain /// having fun /// medium /// knee injury\n",
            "A:  pain /// pain\n",
            "\n",
            "\n",
            "Model: pain and Actual Answer: sweating\n"
          ]
        },
        {
          "output_type": "stream",
          "name": "stderr",
          "text": [
            " 28%|██▊       | 336/1221 [00:43<01:52,  7.89it/s]"
          ]
        },
        {
          "output_type": "stream",
          "name": "stdout",
          "text": [
            "Q: A traveler laments the fact that mass transit is limited in his city when his groceries get soaked by the rain as he waits where?\n",
            "O: bus stop /// library /// motel /// airport /// subway\n",
            "A:  subway stop /// airport\n",
            "\n",
            "\n",
            "Model: subway stop and Actual Answer: bus stop\n",
            "Q: The person was in physical distress, where should he go?\n",
            "O: synagogue /// for help /// hospital /// bus stop /// building\n",
            "A:  hospital /// building\n",
            "\n",
            "\n",
            "Model: hospital and Actual Answer: hospital\n"
          ]
        },
        {
          "output_type": "stream",
          "name": "stderr",
          "text": [
            " 28%|██▊       | 338/1221 [00:43<01:54,  7.72it/s]"
          ]
        },
        {
          "output_type": "stream",
          "name": "stdout",
          "text": [
            "Q: The cancer patient was expecting to die, so he made out his what?\n",
            "O: not to live /// write will /// never want /// seek help /// go to hell\n",
            "A:  never want /// never want\n",
            "\n",
            "\n",
            "Model: never want and Actual Answer: write will\n",
            "Q: There was a toll road that meandered from Maine to New Hampshire, where was it?\n",
            "O: massachusetts /// new england /// my house /// new jersey /// connecticut\n",
            "A:  new england /// my house\n",
            "\n",
            "\n",
            "Model: new england and Actual Answer: new england\n"
          ]
        },
        {
          "output_type": "stream",
          "name": "stderr",
          "text": [
            " 28%|██▊       | 340/1221 [00:44<01:53,  7.77it/s]"
          ]
        },
        {
          "output_type": "stream",
          "name": "stdout",
          "text": [
            "Q: If you partied all night you could find yourself already what, even when just beginning work?\n",
            "O: getting tired /// working /// procrastination /// jumping /// sitting down\n",
            "A:  working /// sitting down\n",
            "\n",
            "\n",
            "Model: working and Actual Answer: getting tired\n",
            "Q: The cat carefully navigated the area, they do everything they can to avoid what?\n",
            "O: get wet /// eat vegetables /// falling /// wool sweater /// sharp claws\n",
            "A:  wool sweater /// sharp claws\n",
            "\n",
            "\n",
            "Model: wool sweater and Actual Answer: get wet\n"
          ]
        },
        {
          "output_type": "stream",
          "name": "stderr",
          "text": [
            " 28%|██▊       | 342/1221 [00:44<01:52,  7.82it/s]"
          ]
        },
        {
          "output_type": "stream",
          "name": "stdout",
          "text": [
            "Q: What is someone usually doing if someone else is talking to him or her?\n",
            "O: listening /// language /// looking at eyes /// planning the perfect murder /// voice\n",
            "A:  listening to eyes /// planning the perfect murder\n",
            "\n",
            "\n",
            "Model: listening to eyes and Actual Answer: listening\n",
            "Q: What does the sky do before a rain?\n",
            "O: appear beautiful /// appear blue /// shows a rainbow /// rain water /// cloud over\n",
            "A:  appear blue /// rain water\n",
            "\n",
            "\n",
            "Model: appear blue and Actual Answer: cloud over\n"
          ]
        },
        {
          "output_type": "stream",
          "name": "stderr",
          "text": [
            " 28%|██▊       | 344/1221 [00:44<01:51,  7.85it/s]"
          ]
        },
        {
          "output_type": "stream",
          "name": "stdout",
          "text": [
            "Q: Pens, computers, text books and paper clips can all be found where?\n",
            "O: desktop /// university /// drawer /// table /// work\n",
            "A:  desk drawer\n",
            "\n",
            "\n",
            "Model: desk drawer and Actual Answer: university\n",
            "Q: What geographic area is a lizard likely to be?\n",
            "O: ball stopped /// west texas /// arid regions /// garden /// warm place\n",
            "A:  arid regions /// warm place\n",
            "\n",
            "\n",
            "Model: arid regions and Actual Answer: west texas\n"
          ]
        },
        {
          "output_type": "stream",
          "name": "stderr",
          "text": [
            " 28%|██▊       | 346/1221 [00:44<01:54,  7.62it/s]"
          ]
        },
        {
          "output_type": "stream",
          "name": "stdout",
          "text": [
            "Q: What do you use to carry your briefcase?\n",
            "O: office building /// school /// courtroom /// airport /// hand\n",
            "A:  hand /// hand\n",
            "\n",
            "\n",
            "Model: hand and Actual Answer: hand\n",
            "Q: He picked up his pace to a run, he wanted to do what?\n",
            "O: learn to walk /// frightened /// get away from /// exercise /// go faster\n",
            "A:  get away from /// exercise\n",
            "\n",
            "\n",
            "Model: get away from and Actual Answer: go faster\n"
          ]
        },
        {
          "output_type": "stream",
          "name": "stderr",
          "text": [
            " 29%|██▊       | 348/1221 [00:45<01:53,  7.69it/s]"
          ]
        },
        {
          "output_type": "stream",
          "name": "stdout",
          "text": [
            "Q: What would a person do if they do not have any friends?\n",
            "O: talk to people /// try again /// fall asleep /// stand alone /// thank god\n",
            "A:  fall asleep /// thank god\n",
            "\n",
            "\n",
            "Model: fall asleep and Actual Answer: stand alone\n",
            "Q: As a result of dying, what happens to organic material?\n",
            "O: change of color /// stop breathing /// wake up /// death and decay /// getting cold\n",
            "A:  death and decay /// getting cold\n",
            "\n",
            "\n",
            "Model: death and decay and Actual Answer: death and decay\n"
          ]
        },
        {
          "output_type": "stream",
          "name": "stderr",
          "text": [
            " 29%|██▊       | 350/1221 [00:45<01:52,  7.77it/s]"
          ]
        },
        {
          "output_type": "stream",
          "name": "stdout",
          "text": [
            "Q: What does everyone have in relation to other people?\n",
            "O: feelings /// food /// unique personality /// different standards /// values\n",
            "A:  feelings /// feelings\n",
            "\n",
            "\n",
            "Model: feelings and Actual Answer: feelings\n",
            "Q: What do you ask a child to do when you first meet her?\n",
            "O: ask questions /// count to ten /// costume /// state name /// dress herself\n",
            "A:  dress herself\n",
            "\n",
            "\n",
            "Model: dress herself and Actual Answer: state name\n"
          ]
        },
        {
          "output_type": "stream",
          "name": "stderr",
          "text": [
            " 29%|██▉       | 352/1221 [00:45<01:52,  7.69it/s]"
          ]
        },
        {
          "output_type": "stream",
          "name": "stdout",
          "text": [
            "Q: Where can you buy a clock, clothing and wrenches?\n",
            "O: counter /// train station /// school room /// desk /// department store\n",
            "A:  department store /// desk\n",
            "\n",
            "\n",
            "Model: department store and Actual Answer: department store\n",
            "Q: What do you do when you're in a new place and want to see new things?\n",
            "O: interesting /// look around /// take pictures /// change of surroundings /// new experience\n",
            "A:  new experience\n",
            "\n",
            "\n",
            "Model: new experience and Actual Answer: look around\n"
          ]
        },
        {
          "output_type": "stream",
          "name": "stderr",
          "text": [
            " 29%|██▉       | 354/1221 [00:46<01:54,  7.57it/s]"
          ]
        },
        {
          "output_type": "stream",
          "name": "stdout",
          "text": [
            "Q: What happens when to ice when it is in the sun?\n",
            "O: carved /// melted /// ice cream /// antarctica /// sculptured\n",
            "A:  melted /// antarctica\n",
            "\n",
            "\n",
            "Model: melted and Actual Answer: melted\n",
            "Q: Where can you store your dishes in your dwelling?\n",
            "O: drawer /// shelf /// pantry /// apartment /// cabinet\n",
            "A:  cabinet /// cabinet\n",
            "\n",
            "\n",
            "Model: cabinet and Actual Answer: shelf\n"
          ]
        },
        {
          "output_type": "stream",
          "name": "stderr",
          "text": [
            " 29%|██▉       | 356/1221 [00:46<01:53,  7.60it/s]"
          ]
        },
        {
          "output_type": "stream",
          "name": "stdout",
          "text": [
            "Q: The man laid on the soft moss and looked up at the trees, where was the man?\n",
            "O: niagra falls /// forest /// waterfall /// ground /// tree\n",
            "A:  ground /// ground\n",
            "\n",
            "\n",
            "Model: ground and Actual Answer: forest\n",
            "Q: What is someone doing if he or she is sitting quietly and his or her eyes are moving?\n",
            "O: reading /// meditate /// fall asleep /// bunk /// think\n",
            "A:  meditating /// think\n",
            "\n",
            "\n",
            "Model: meditating and Actual Answer: reading\n"
          ]
        },
        {
          "output_type": "stream",
          "name": "stderr",
          "text": [
            " 29%|██▉       | 358/1221 [00:46<01:53,  7.63it/s]"
          ]
        },
        {
          "output_type": "stream",
          "name": "stdout",
          "text": [
            "Q: Where can I find a stapler in many places?\n",
            "O: desk drawer /// office building /// manual /// office supply store /// desktop\n",
            "A:  desk drawer /// office supply store\n",
            "\n",
            "\n",
            "Model: desk drawer and Actual Answer: office building\n",
            "Q: A man takes a seat at a museum outside of Barcelona, where is he likely?\n",
            "O: in cinema /// martorell /// falling down /// show /// airplane\n",
            "A:  martorell\n",
            "\n",
            "\n",
            "Model: martorell and Actual Answer: martorell\n"
          ]
        },
        {
          "output_type": "stream",
          "name": "stderr",
          "text": [
            " 29%|██▉       | 360/1221 [00:46<01:51,  7.70it/s]"
          ]
        },
        {
          "output_type": "stream",
          "name": "stdout",
          "text": [
            "Q: Where would you find a toy soldier that is being played with?\n",
            "O: toy box /// movies /// child's hand /// toybos /// child park\n",
            "A:  toy box /// toy box\n",
            "\n",
            "\n",
            "Model: toy box and Actual Answer: child's hand\n",
            "Q: Where are you when you're about to use your plane ticket?\n",
            "O: pocket /// terrorists hands /// airport /// sea ship /// briefcase\n",
            "A:  airport /// briefcase\n",
            "\n",
            "\n",
            "Model: airport and Actual Answer: airport\n"
          ]
        },
        {
          "output_type": "stream",
          "name": "stderr",
          "text": [
            " 30%|██▉       | 362/1221 [00:47<01:50,  7.76it/s]"
          ]
        },
        {
          "output_type": "stream",
          "name": "stdout",
          "text": [
            "Q: Flowers make a good center focal point, just one of many arrangements that look good on a what?\n",
            "O: market /// table /// countryside /// anthology /// vase\n",
            "A:  table /// countryside\n",
            "\n",
            "\n",
            "Model: table and Actual Answer: table\n",
            "Q: How can a human cross a river and not mess up their hair?\n",
            "O: wisconsin /// waterfall /// hatred /// bridge /// valley\n",
            "A:  bridge\n",
            "\n",
            "\n",
            "Model: bridge and Actual Answer: bridge\n"
          ]
        },
        {
          "output_type": "stream",
          "name": "stderr",
          "text": [
            " 30%|██▉       | 364/1221 [00:47<01:49,  7.82it/s]"
          ]
        },
        {
          "output_type": "stream",
          "name": "stdout",
          "text": [
            "Q: Batman bought beer.  There were no bottles available.  He had to settle for what?.\n",
            "O: shelf /// soccer game /// keg /// can /// refrigerator\n",
            "A:  can /// fridge\n",
            "\n",
            "\n",
            "Model: can and Actual Answer: can\n",
            "Q: You can find a monkey in what West African region on the Gulf of Guinea\n",
            "O: south american country /// rain forest /// pay debts /// works /// nigeria\n",
            "A:  south american country /// rain forest\n",
            "\n",
            "\n",
            "Model: south american country and Actual Answer: nigeria\n"
          ]
        },
        {
          "output_type": "stream",
          "name": "stderr",
          "text": [
            " 30%|██▉       | 366/1221 [00:47<01:48,  7.91it/s]"
          ]
        },
        {
          "output_type": "stream",
          "name": "stdout",
          "text": [
            "Q: Surprising an angry person could lead to what?\n",
            "O: humor /// fight /// jocose /// laughter /// accidents\n",
            "A:  accidents\n",
            "\n",
            "\n",
            "Model: accidents and Actual Answer: fight\n",
            "Q: Where is a dining area likely to be small?\n",
            "O: cruise ship /// home /// mall /// restaurant /// dark cave\n",
            "A:  mall /// dark cave\n",
            "\n",
            "\n",
            "Model: mall and Actual Answer: home\n"
          ]
        },
        {
          "output_type": "stream",
          "name": "stderr",
          "text": [
            " 30%|███       | 368/1221 [00:47<01:47,  7.95it/s]"
          ]
        },
        {
          "output_type": "stream",
          "name": "stdout",
          "text": [
            "Q: Killing people should not cause what emotion?\n",
            "O: vengeance /// going to prison /// joy /// afraid /// terrible\n",
            "A:  rage /// fear\n",
            "\n",
            "\n",
            "Model: rage and Actual Answer: joy\n",
            "Q: James slamed into someone playing football, and not for the first time.  He was concerned about the consequences of many what?\n",
            "O: exhilaration /// interactions /// head injuries /// death /// having fun\n",
            "A:  having fun /// having fun\n",
            "\n",
            "\n",
            "Model: having fun and Actual Answer: head injuries\n"
          ]
        },
        {
          "output_type": "stream",
          "name": "stderr",
          "text": [
            " 30%|███       | 370/1221 [00:48<01:46,  7.97it/s]"
          ]
        },
        {
          "output_type": "stream",
          "name": "stdout",
          "text": [
            "Q: More people should lower the guard and just have fun, we don't got long just what?\n",
            "O: enjoy living /// happy /// enjoyable /// get laid /// do enjoy\n",
            "A:  enjoy living /// enjoy living\n",
            "\n",
            "\n",
            "Model: enjoy living and Actual Answer: enjoy living\n",
            "Q: Where can you get a lizard to keep in your home?\n",
            "O: desert country /// dessert /// pet shop /// tropical areas /// zoo\n",
            "A:  pet shop\n",
            "\n",
            "\n",
            "Model: pet shop and Actual Answer: pet shop\n"
          ]
        },
        {
          "output_type": "stream",
          "name": "stderr",
          "text": [
            " 30%|███       | 372/1221 [00:48<01:46,  7.97it/s]"
          ]
        },
        {
          "output_type": "stream",
          "name": "stdout",
          "text": [
            "Q: What would use a musical instrument?\n",
            "O: guitar /// music room /// orchestra /// case /// movie\n",
            "A:  music room\n",
            "\n",
            "\n",
            "Model: music room and Actual Answer: orchestra\n",
            "Q: She was in an affair, what did that end upon discovery by her husband?\n",
            "O: relationship /// marriage /// fidelity /// love /// divorce\n",
            "A:  marriage /// divorce\n",
            "\n",
            "\n",
            "Model: marriage and Actual Answer: marriage\n"
          ]
        },
        {
          "output_type": "stream",
          "name": "stderr",
          "text": [
            " 31%|███       | 374/1221 [00:48<01:45,  8.02it/s]"
          ]
        },
        {
          "output_type": "stream",
          "name": "stdout",
          "text": [
            "Q: What is the most famous constellation out of earth?\n",
            "O: one moon /// milky way /// god's creation /// stars /// universe\n",
            "A:  stars\n",
            "\n",
            "\n",
            "Model: stars and Actual Answer: milky way\n",
            "Q: If a reception is held with hotel guests walking by, what is the likely venue?\n",
            "O: room service /// church basement /// lobby /// large room /// country club\n",
            "A:  lobby /// large room\n",
            "\n",
            "\n",
            "Model: lobby and Actual Answer: lobby\n"
          ]
        },
        {
          "output_type": "stream",
          "name": "stderr",
          "text": [
            " 31%|███       | 376/1221 [00:48<01:49,  7.73it/s]"
          ]
        },
        {
          "output_type": "stream",
          "name": "stdout",
          "text": [
            "Q: What is a place that is far away from your house and where you could consume beer?\n",
            "O: refrigerator /// friend's house /// keg /// neighbor's house /// kitchen\n",
            "A:  neighbor's house\n",
            "\n",
            "\n",
            "Model: neighbor's house and Actual Answer: friend's house\n",
            "Q: If a court case is dismissed after hearing testimony, what would be a likely cause?\n",
            "O: change of heart /// anguish /// anger /// boredom /// anxiety\n",
            "A:  anger /// anxiety\n",
            "\n",
            "\n",
            "Model: anger and Actual Answer: change of heart\n"
          ]
        },
        {
          "output_type": "stream",
          "name": "stderr",
          "text": [
            " 31%|███       | 378/1221 [00:49<01:48,  7.79it/s]"
          ]
        },
        {
          "output_type": "stream",
          "name": "stdout",
          "text": [
            "Q: Sitting down quickly after eating beans could lead to what?\n",
            "O: flatulence /// happiness /// laziness /// fall asleep /// comfort\n",
            "A:  fall asleep /// comfort\n",
            "\n",
            "\n",
            "Model: fall asleep and Actual Answer: flatulence\n",
            "Q: John was my neighbor, it was easy to talk to him. He was never what?\n",
            "O: away /// distant /// remote person /// bore /// foe\n",
            "A:  distant person\n",
            "\n",
            "\n",
            "Model: distant person and Actual Answer: distant\n"
          ]
        },
        {
          "output_type": "stream",
          "name": "stderr",
          "text": [
            " 31%|███       | 380/1221 [00:49<01:47,  7.83it/s]"
          ]
        },
        {
          "output_type": "stream",
          "name": "stdout",
          "text": [
            "Q: Where do people want to have a lot of coffee?\n",
            "O: table /// office /// desk /// kitchen /// ocean\n",
            "A:  desk /// kitchen\n",
            "\n",
            "\n",
            "Model: desk and Actual Answer: office\n",
            "Q: You stop and have food all around you, what are you?\n",
            "O: stay alive /// wanted to survive /// nutrition /// grew /// full\n",
            "A:  food /// food\n",
            "\n",
            "\n",
            "Model: food and Actual Answer: full\n"
          ]
        },
        {
          "output_type": "stream",
          "name": "stderr",
          "text": [
            " 31%|███▏      | 382/1221 [00:49<01:46,  7.85it/s]"
          ]
        },
        {
          "output_type": "stream",
          "name": "stdout",
          "text": [
            "Q: James was meeting a friend.  They had planed a slow day. They didn't want to do much.  They just wanted what?\n",
            "O: relaxation /// panic /// alarm /// joy /// cheer\n",
            "A:  relaxation /// alarm\n",
            "\n",
            "\n",
            "Model: relaxation and Actual Answer: relaxation\n",
            "Q: The car's steering seem quite loose, but he still considered purchasing it because he needed something small and what?\n",
            "O: sturdy /// faithful /// bound /// compact /// packaged\n",
            "A:  compact /// compact\n",
            "\n",
            "\n",
            "Model: compact and Actual Answer: compact\n"
          ]
        },
        {
          "output_type": "stream",
          "name": "stderr",
          "text": [
            " 31%|███▏      | 384/1221 [00:49<01:46,  7.84it/s]"
          ]
        },
        {
          "output_type": "stream",
          "name": "stdout",
          "text": [
            "Q: Dan was a farmer with just one heifer.  But that was okay, he only kept her for milk, and he didn't think he'd find good farmland in a place as cold as where?\n",
            "O: arizona /// farm yard /// michigan /// german field /// dairy farm\n",
            "A:  farm yard /// michigan\n",
            "\n",
            "\n",
            "Model: farm yard and Actual Answer: michigan\n",
            "Q: It's Friday night and Alice puts off going to bed because she plans on doing what Saturday?\n",
            "O: hatred /// sleeping in /// rest /// making love /// insomnia\n",
            "A:  sleep in /// sleep in\n",
            "\n",
            "\n",
            "Model: sleep in and Actual Answer: sleeping in\n"
          ]
        },
        {
          "output_type": "stream",
          "name": "stderr",
          "text": [
            " 32%|███▏      | 386/1221 [00:50<01:46,  7.88it/s]"
          ]
        },
        {
          "output_type": "stream",
          "name": "stdout",
          "text": [
            "Q: His phone was dead and they couldn't find the expressway, he opened up the glove compartment and handed his passenger the what to navigate?\n",
            "O: eastern united states /// michigan /// map /// choppers /// american city\n",
            "A:  map /// choppers\n",
            "\n",
            "\n",
            "Model: map and Actual Answer: map\n",
            "Q: What would someone use a personal key for?\n",
            "O: car stand /// at hotel /// own home /// front door /// bus depot\n",
            "A:  car stand /// front door\n",
            "\n",
            "\n",
            "Model: car stand and Actual Answer: own home\n"
          ]
        },
        {
          "output_type": "stream",
          "name": "stderr",
          "text": [
            " 32%|███▏      | 388/1221 [00:50<01:45,  7.89it/s]"
          ]
        },
        {
          "output_type": "stream",
          "name": "stdout",
          "text": [
            "Q: The cat kept pestering it's owner, it was that time of the day and it was what?\n",
            "O: litter tray /// whiskers /// hungry /// feline /// thirsty\n",
            "A:  hungry /// thirsty\n",
            "\n",
            "\n",
            "Model: hungry and Actual Answer: hungry\n",
            "Q: Her voice lent her to the alto section, what group did she join?\n",
            "O: symphony /// concerto /// choir /// theater troupe /// marching band\n",
            "A:  orchestra /// concerto\n",
            "\n",
            "\n",
            "Model: orchestra and Actual Answer: choir\n"
          ]
        },
        {
          "output_type": "stream",
          "name": "stderr",
          "text": [
            " 32%|███▏      | 390/1221 [00:50<01:45,  7.89it/s]"
          ]
        },
        {
          "output_type": "stream",
          "name": "stdout",
          "text": [
            "Q: Where are you likely to find a Japanese restaurant not run by people from Japan?\n",
            "O: california /// downtown /// large town /// tokio /// china town\n",
            "A:  california /// large town /// large town\n",
            "\n",
            "\n",
            "Model: california and Actual Answer: california\n",
            "Q: Animals who have hair and don't lay eggs are what?\n",
            "O: reproduce asexually /// males /// mammals /// attack /// ocean\n",
            "A:  males /// mammals\n",
            "\n",
            "\n",
            "Model: males and Actual Answer: mammals\n"
          ]
        },
        {
          "output_type": "stream",
          "name": "stderr",
          "text": [
            " 32%|███▏      | 392/1221 [00:50<01:46,  7.79it/s]"
          ]
        },
        {
          "output_type": "stream",
          "name": "stdout",
          "text": [
            "Q: John was an aristocratic fox hunter.  Where might he live?\n",
            "O: england /// new hampshire /// street /// arkansas /// north dakota\n",
            "A:  england /// street /// arkansas\n",
            "\n",
            "\n",
            "Model: england and Actual Answer: new hampshire\n",
            "Q: Where is a grape likely to be being fed to someone else?\n",
            "O: field /// bathroom /// michigan /// minnesota /// painting\n",
            "A:  michigan /// painting\n",
            "\n",
            "\n",
            "Model: michigan and Actual Answer: painting\n"
          ]
        },
        {
          "output_type": "stream",
          "name": "stderr",
          "text": [
            " 32%|███▏      | 394/1221 [00:51<01:45,  7.82it/s]"
          ]
        },
        {
          "output_type": "stream",
          "name": "stdout",
          "text": [
            "Q: Some food can be stored at room temperature until you open it, then you should keep it in what?\n",
            "O: shop /// bookcase /// shelf /// refrigerators /// kitchen\n",
            "A:  fridge\n",
            "\n",
            "\n",
            "Model: fridge and Actual Answer: refrigerators\n",
            "Q: Sam couldn't get back to sleep because of a dream he had.  It was a what?\n",
            "O: awake /// horror /// dreamworker /// reality /// nightmare\n",
            "A:  nightmare\n",
            "\n",
            "\n",
            "Model: nightmare and Actual Answer: nightmare\n"
          ]
        },
        {
          "output_type": "stream",
          "name": "stderr",
          "text": [
            " 32%|███▏      | 396/1221 [00:51<01:45,  7.85it/s]"
          ]
        },
        {
          "output_type": "stream",
          "name": "stdout",
          "text": [
            "Q: If you're going to a party in a new town what are you hoping to make?\n",
            "O: getting drunk /// making new friends /// new contacts /// doing drugs /// set home\n",
            "A:  new contacts /// new contacts\n",
            "\n",
            "\n",
            "Model: new contacts and Actual Answer: making new friends\n",
            "Q: How is riding a bike getting it to move?\n",
            "O: practice /// sense of balance /// driving /// good balance /// pedalling\n",
            "A:  pedalling /// feeling good\n",
            "\n",
            "\n",
            "Model: pedalling and Actual Answer: pedalling\n"
          ]
        },
        {
          "output_type": "stream",
          "name": "stderr",
          "text": [
            " 33%|███▎      | 398/1221 [00:51<01:45,  7.80it/s]"
          ]
        },
        {
          "output_type": "stream",
          "name": "stdout",
          "text": [
            "Q: Where does one usually keep literature?\n",
            "O: books and magazines /// own home /// kitchen /// shelf /// meeting\n",
            "A:  library /// shelf\n",
            "\n",
            "\n",
            "Model: library and Actual Answer: shelf\n",
            "Q: WHat type of keyboard is made up of one or more pipe divisions?\n",
            "O: killing /// typewriter /// office /// terminal /// organ\n",
            "A:  terminal /// typewriter\n",
            "\n",
            "\n",
            "Model: terminal and Actual Answer: organ\n"
          ]
        },
        {
          "output_type": "stream",
          "name": "stderr",
          "text": [
            " 33%|███▎      | 400/1221 [00:51<01:45,  7.75it/s]"
          ]
        },
        {
          "output_type": "stream",
          "name": "stdout",
          "text": [
            "Q: The bell rang, and the congregation began to what in to the church?\n",
            "O: run away /// wind instrument /// funnel /// blunderbuss /// associated with telephones\n",
            "A:  wind instrument /// blunderbuss\n",
            "\n",
            "\n",
            "Model: wind instrument and Actual Answer: funnel\n",
            "Q: James needed smooth sandpaper, but instead he got what type?\n",
            "O: rough /// non smooth /// uneven /// plastic /// bumpy\n",
            "A:  rough /// uneven\n",
            "\n",
            "\n",
            "Model: rough and Actual Answer: rough\n"
          ]
        },
        {
          "output_type": "stream",
          "name": "stderr",
          "text": [
            " 33%|███▎      | 402/1221 [00:52<01:44,  7.84it/s]"
          ]
        },
        {
          "output_type": "stream",
          "name": "stdout",
          "text": [
            "Q: Where would you borrow furniture if you do not have any?\n",
            "O: sewer /// neighbor's house /// apartment /// room /// floor\n",
            "A:  neighbor's house\n",
            "\n",
            "\n",
            "Model: neighbor's house and Actual Answer: neighbor's house\n",
            "Q: What must happen for an animal to and it's offspring to continue livng?\n",
            "O: death /// flying /// reproducing /// food consumed /// eventually die\n",
            "A:  reproduce /// reproduce\n",
            "\n",
            "\n",
            "Model: reproduce and Actual Answer: reproducing\n"
          ]
        },
        {
          "output_type": "stream",
          "name": "stderr",
          "text": [
            " 33%|███▎      | 404/1221 [00:52<01:43,  7.89it/s]"
          ]
        },
        {
          "output_type": "stream",
          "name": "stdout",
          "text": [
            "Q: I want my wine stored in darkness, where should it go?\n",
            "O: movies /// bed /// moon /// vault /// cellar\n",
            "A:  cellar\n",
            "\n",
            "\n",
            "Model: cellar and Actual Answer: cellar\n",
            "Q: If I want to open a steakhouse, what should I get first?\n",
            "O: michigan /// florida /// wine /// texas /// building\n",
            "A:  building\n",
            "\n",
            "\n",
            "Model: building and Actual Answer: building\n"
          ]
        },
        {
          "output_type": "stream",
          "name": "stderr",
          "text": [
            " 33%|███▎      | 406/1221 [00:52<01:42,  7.92it/s]"
          ]
        },
        {
          "output_type": "stream",
          "name": "stdout",
          "text": [
            "Q: Sarah didn't like to play but she didn't want to be sedentary and bored, either, so she took up what?\n",
            "O: serious /// longplay /// musical /// eat cake /// doing nothing\n",
            "A:  longplay /// eating cake\n",
            "\n",
            "\n",
            "Model: longplay and Actual Answer: musical\n",
            "Q: Joe found spiders while checking something outside.  What might that be?\n",
            "O: cupboard /// closet /// storage bag /// mail box /// garage\n",
            "A:  closet /// mail box\n",
            "\n",
            "\n",
            "Model: closet and Actual Answer: mail box\n"
          ]
        },
        {
          "output_type": "stream",
          "name": "stderr",
          "text": [
            " 33%|███▎      | 408/1221 [00:52<01:42,  7.92it/s]"
          ]
        },
        {
          "output_type": "stream",
          "name": "stdout",
          "text": [
            "Q: What would you do if your date does not show up?\n",
            "O: wait for /// bathe /// go for haircut /// plan revenge /// dress nice\n",
            "A:  wait for haircut /// plan revenge\n",
            "\n",
            "\n",
            "Model: wait for haircut and Actual Answer: wait for\n",
            "Q: What did the adult do before the job interview?\n",
            "O: work /// dress himself /// marry /// dress herself /// drive train\n",
            "A:  dress himself /// dress himself /// drive train\n",
            "\n",
            "\n",
            "Model: dress himself and Actual Answer: dress himself\n"
          ]
        },
        {
          "output_type": "stream",
          "name": "stderr",
          "text": [
            " 34%|███▎      | 410/1221 [00:53<01:42,  7.93it/s]"
          ]
        },
        {
          "output_type": "stream",
          "name": "stdout",
          "text": [
            "Q: Most items in retail stores are what even when they are on sale?\n",
            "O: overpriced /// purchase /// expensive /// park /// buying\n",
            "A:  expensive /// expensive\n",
            "\n",
            "\n",
            "Model: expensive and Actual Answer: overpriced\n",
            "Q: John farms anemone in what type of facility?\n",
            "O: michigan /// swimming pool /// atlantic ocean /// nursery /// gulf of mexico\n",
            "A:  swimming pool /// nursery\n",
            "\n",
            "\n",
            "Model: swimming pool and Actual Answer: nursery\n"
          ]
        },
        {
          "output_type": "stream",
          "name": "stderr",
          "text": [
            " 34%|███▎      | 412/1221 [00:53<01:41,  7.95it/s]"
          ]
        },
        {
          "output_type": "stream",
          "name": "stdout",
          "text": [
            "Q: Brawn opened the curtains so that the sun could do what?\n",
            "O: dry clothes /// warm house /// warm room /// shine brightly /// get dark\n",
            "A:  shine brightly /// get dark\n",
            "\n",
            "\n",
            "Model: shine brightly and Actual Answer: warm room\n",
            "Q: How might releasing energy that has built up feel?\n",
            "O: damage /// wonderful /// exhaustion /// orgasm /// lazy\n",
            "A:  exhaustion /// orgasm\n",
            "\n",
            "\n",
            "Model: exhaustion and Actual Answer: wonderful\n"
          ]
        },
        {
          "output_type": "stream",
          "name": "stderr",
          "text": [
            " 34%|███▍      | 414/1221 [00:53<01:42,  7.89it/s]"
          ]
        },
        {
          "output_type": "stream",
          "name": "stdout",
          "text": [
            "Q: What would you do if you have curiosity but are blind and paralyzed?\n",
            "O: hear news /// analyse /// go somewhere /// examine thing /// see favorite show\n",
            "A:  examine thing /// go somewhere\n",
            "\n",
            "\n",
            "Model: examine thing and Actual Answer: analyse\n",
            "Q: Where might it be hard to get furniture to?\n",
            "O: apartment /// loft /// store /// rug /// stairs\n",
            "A:  loft /// apartment\n",
            "\n",
            "\n",
            "Model: loft and Actual Answer: loft\n"
          ]
        },
        {
          "output_type": "stream",
          "name": "stderr",
          "text": [
            " 34%|███▍      | 416/1221 [00:53<01:44,  7.68it/s]"
          ]
        },
        {
          "output_type": "stream",
          "name": "stdout",
          "text": [
            "Q: A great teacher can be what when you are attending school?\n",
            "O: detention /// graduate /// follower /// inspiration /// boredom\n",
            "A:  inspiration /// boredom\n",
            "\n",
            "\n",
            "Model: inspiration and Actual Answer: inspiration\n",
            "Q: Where would you get jeans and other wearable items to take home with you?\n",
            "O: shopping mall /// museum /// laundromat /// clothing store /// bedroom\n",
            "A:  clothing store /// bedroom\n",
            "\n",
            "\n",
            "Model: clothing store and Actual Answer: clothing store\n"
          ]
        },
        {
          "output_type": "stream",
          "name": "stderr",
          "text": [
            " 34%|███▍      | 418/1221 [00:54<01:42,  7.80it/s]"
          ]
        },
        {
          "output_type": "stream",
          "name": "stdout",
          "text": [
            "Q: In what substance do clouds float?\n",
            "O: sky /// top of mountain /// air /// ground level /// outer space\n",
            "A:  sky /// ground level\n",
            "\n",
            "\n",
            "Model: sky and Actual Answer: air\n",
            "Q: Where is the large area location of the empire state building?\n",
            "O: manhattan /// office /// the city /// fifth avenue /// new york city\n",
            "A:  office /// new york city\n",
            "\n",
            "\n",
            "Model: office and Actual Answer: new york city\n"
          ]
        },
        {
          "output_type": "stream",
          "name": "stderr",
          "text": [
            " 34%|███▍      | 420/1221 [00:54<01:41,  7.89it/s]"
          ]
        },
        {
          "output_type": "stream",
          "name": "stdout",
          "text": [
            "Q: Where do most people make coffee?\n",
            "O: coffee shop /// office /// table /// washing /// kitchen\n",
            "A:  coffee shop /// kitchen\n",
            "\n",
            "\n",
            "Model: coffee shop and Actual Answer: kitchen\n",
            "Q: What kind of service is my body a part of when I'm no longer here?\n",
            "O: bodycam /// home /// coffin /// funeral /// graveyard\n",
            "A:  funeral /// graveyard\n",
            "\n",
            "\n",
            "Model: funeral and Actual Answer: funeral\n"
          ]
        },
        {
          "output_type": "stream",
          "name": "stderr",
          "text": [
            " 35%|███▍      | 422/1221 [00:54<01:41,  7.88it/s]"
          ]
        },
        {
          "output_type": "stream",
          "name": "stdout",
          "text": [
            "Q: Many people wanted to leave their country estates for row houses, what did they need to move to?\n",
            "O: living less expensively /// england /// prison /// city /// town\n",
            "A:  living less expensively /// england\n",
            "\n",
            "\n",
            "Model: living less expensively and Actual Answer: city\n",
            "Q: Where can someone get a new saw?\n",
            "O: hardware store /// toolbox /// logging camp /// tool kit /// auger\n",
            "A:  toolbox /// toolbox\n",
            "\n",
            "\n",
            "Model: toolbox and Actual Answer: hardware store\n"
          ]
        },
        {
          "output_type": "stream",
          "name": "stderr",
          "text": [
            " 35%|███▍      | 424/1221 [00:54<01:40,  7.93it/s]"
          ]
        },
        {
          "output_type": "stream",
          "name": "stdout",
          "text": [
            "Q: What would you do to a crime scene before asking a question?\n",
            "O: express information /// touch everything /// think /// give clue /// analyse\n",
            "A:  express information /// think\n",
            "\n",
            "\n",
            "Model: express information and Actual Answer: analyse\n",
            "Q: The man didn't do great in college, all his best memories were late night with his brothers at the what?\n",
            "O: big city /// fraternity house /// school /// building /// big town\n",
            "A:  fraternity house /// building\n",
            "\n",
            "\n",
            "Model: fraternity house and Actual Answer: fraternity house\n"
          ]
        },
        {
          "output_type": "stream",
          "name": "stderr",
          "text": [
            " 35%|███▍      | 426/1221 [00:55<01:40,  7.94it/s]"
          ]
        },
        {
          "output_type": "stream",
          "name": "stdout",
          "text": [
            "Q: In a horror movie victims usually trip when the run in order to do what in regards to the killer?\n",
            "O: frightened /// run up stairs /// get away from /// go quickly /// go faster\n",
            "A:  run up stairs /// go faster\n",
            "\n",
            "\n",
            "Model: run up stairs and Actual Answer: get away from\n",
            "Q: The coach decided to make a lineup change, the team's effort was suffering from what?\n",
            "O: stagnant /// stagnation /// tradition /// hunger /// paper money\n",
            "A:  stagnation /// paper money\n",
            "\n",
            "\n",
            "Model: stagnation and Actual Answer: stagnation\n"
          ]
        },
        {
          "output_type": "stream",
          "name": "stderr",
          "text": [
            " 35%|███▌      | 428/1221 [00:55<01:39,  7.95it/s]"
          ]
        },
        {
          "output_type": "stream",
          "name": "stdout",
          "text": [
            "Q: Where would you go if you want to buy some clothes?\n",
            "O: mall /// grocery store /// grocery store /// shop /// supermarket\n",
            "A:  mall /// grocery store\n",
            "\n",
            "\n",
            "Model: mall and Actual Answer: mall\n",
            "Q: Where is food likely to stay dry?\n",
            "O: etna /// cupboard /// oven /// stomach /// fridge\n",
            "A:  cupboard /// oven\n",
            "\n",
            "\n",
            "Model: cupboard and Actual Answer: cupboard\n"
          ]
        },
        {
          "output_type": "stream",
          "name": "stderr",
          "text": [
            " 35%|███▌      | 430/1221 [00:55<01:39,  7.92it/s]"
          ]
        },
        {
          "output_type": "stream",
          "name": "stdout",
          "text": [
            "Q: What is it called when a person with mental illness is able to lead a relatively normal life?\n",
            "O: managed /// effectively treated /// recur /// cause delusion /// illusion\n",
            "A:  cause delusion /// illusion\n",
            "\n",
            "\n",
            "Model: cause delusion and Actual Answer: managed\n",
            "Q: Where do you keep musical instrument so it doesn't get scratched?\n",
            "O: bank /// orchestra /// case /// music room /// movie\n",
            "A:  music room\n",
            "\n",
            "\n",
            "Model: music room and Actual Answer: case\n"
          ]
        },
        {
          "output_type": "stream",
          "name": "stderr",
          "text": [
            " 35%|███▌      | 432/1221 [00:55<01:40,  7.86it/s]"
          ]
        },
        {
          "output_type": "stream",
          "name": "stdout",
          "text": [
            "Q: The woman is watching television and trying to forget her day, what is her goal?\n",
            "O: entertainment /// falling asleep /// getting fat /// crying /// relaxation\n",
            "A:  relaxation /// relaxation\n",
            "\n",
            "\n",
            "Model: relaxation and Actual Answer: relaxation\n",
            "Q: While John Candy and Dan Aykroyd didn't run into a gazelle, you'd have to go where to see one?\n",
            "O: eastern hemisphere /// the city /// open plain /// television program /// great outdoors\n",
            "A:  east hemisphere /// open plain\n",
            "\n",
            "\n",
            "Model: east hemisphere and Actual Answer: great outdoors\n"
          ]
        },
        {
          "output_type": "stream",
          "name": "stderr",
          "text": [
            " 36%|███▌      | 434/1221 [00:56<01:39,  7.88it/s]"
          ]
        },
        {
          "output_type": "stream",
          "name": "stdout",
          "text": [
            "Q: When we are running what are we doing?\n",
            "O: stretches /// running from police /// learn to walk /// go quickly /// get out of bed\n",
            "A:  get out of bed /// get out of bed\n",
            "\n",
            "\n",
            "Model: get out of bed and Actual Answer: go quickly\n",
            "Q: It's dangerous to let pet birds free so it's better to keep them what?\n",
            "O: slavery /// caught /// caged in /// topfree /// prisoner\n",
            "A:  topfree\n",
            "\n",
            "\n",
            "Model: topfree and Actual Answer: caged in\n"
          ]
        },
        {
          "output_type": "stream",
          "name": "stderr",
          "text": [
            " 36%|███▌      | 436/1221 [00:56<01:39,  7.89it/s]"
          ]
        },
        {
          "output_type": "stream",
          "name": "stdout",
          "text": [
            "Q: A beaver is know for building prowess, their supplies come from where?\n",
            "O: british columbia /// body of water /// wooded area /// pay debts /// zoo\n",
            "A:  british columbia /// body of water\n",
            "\n",
            "\n",
            "Model: british columbia and Actual Answer: wooded area\n",
            "Q: Zane doesn't like answering questions.  He's not good at it because he suffers from what?\n",
            "O: panic /// discussion /// attention /// confusion /// satisfaction\n",
            "A:  confusion /// anxiety\n",
            "\n",
            "\n",
            "Model: confusion and Actual Answer: confusion\n"
          ]
        },
        {
          "output_type": "stream",
          "name": "stderr",
          "text": [
            " 36%|███▌      | 438/1221 [00:56<01:39,  7.90it/s]"
          ]
        },
        {
          "output_type": "stream",
          "name": "stdout",
          "text": [
            "Q: Going public about a common problem can gain what for a celebrity?\n",
            "O: wide acceptance /// a degree /// pain /// getting high /// press coverage\n",
            "A:  getting high /// getting high\n",
            "\n",
            "\n",
            "Model: getting high and Actual Answer: wide acceptance\n",
            "Q: The electricity went out and everyone was shrouded in darkness.  They all remained in their seats, because it would have been dangerous to try to find there way out.  Where mihgt they have been?\n",
            "O: opera /// concert /// basement /// bedroom /// grand canyon\n",
            "A:  basement /// bedroom\n",
            "\n",
            "\n",
            "Model: basement and Actual Answer: opera\n"
          ]
        },
        {
          "output_type": "stream",
          "name": "stderr",
          "text": [
            " 36%|███▌      | 440/1221 [00:56<01:38,  7.90it/s]"
          ]
        },
        {
          "output_type": "stream",
          "name": "stdout",
          "text": [
            "Q: Where could you find hundreds of beauty salon?\n",
            "O: clerk /// mall /// strip mall /// city /// neighborhood\n",
            "A:  mall /// strip mall\n",
            "\n",
            "\n",
            "Model: mall and Actual Answer: city\n",
            "Q: If it is Chrismas time what came most recently before?\n",
            "O: halloween /// summer /// easter /// kwaanza /// give gift\n",
            "A:  halloween /// easter /// give gift\n",
            "\n",
            "\n",
            "Model: halloween and Actual Answer: halloween\n"
          ]
        },
        {
          "output_type": "stream",
          "name": "stderr",
          "text": [
            " 36%|███▌      | 442/1221 [00:57<01:39,  7.83it/s]"
          ]
        },
        {
          "output_type": "stream",
          "name": "stdout",
          "text": [
            "Q: If someone found out their brother was having a daughter, they would have to add a niece limb to the what?\n",
            "O: family picture book /// family reunion /// brother's house /// family tree /// baby shower\n",
            "A:  family tree /// family tree\n",
            "\n",
            "\n",
            "Model: family tree and Actual Answer: family tree\n",
            "Q: The criminal insisted he must do the crime to the bank teller, but she tried to convince him there were other ways in life and this was what?\n",
            "O: willing /// optional /// should not /// have to /// unnecessary\n",
            "A:  unnecessary /// unnecessary\n",
            "\n",
            "\n",
            "Model: unnecessary and Actual Answer: unnecessary\n"
          ]
        },
        {
          "output_type": "stream",
          "name": "stderr",
          "text": [
            " 36%|███▋      | 444/1221 [00:57<01:42,  7.56it/s]"
          ]
        },
        {
          "output_type": "stream",
          "name": "stdout",
          "text": [
            "Q: what do you fill with ink to write?\n",
            "O: squid /// fountain pen /// pencil case /// newspaper /// printer\n",
            "A:  fountain pen\n",
            "\n",
            "\n",
            "Model: fountain pen and Actual Answer: fountain pen\n",
            "Q: He walked into the room and had a great shock, his friends had what him?\n",
            "O: expected /// wanting /// calm /// thundershock /// surprised\n",
            "A:  surprised\n",
            "\n",
            "\n",
            "Model: surprised and Actual Answer: surprised\n"
          ]
        },
        {
          "output_type": "stream",
          "name": "stderr",
          "text": [
            " 37%|███▋      | 446/1221 [00:57<01:42,  7.60it/s]"
          ]
        },
        {
          "output_type": "stream",
          "name": "stdout",
          "text": [
            "Q: He wasn't the hugging type, even when he meet friend he'd just do what?\n",
            "O: have sex /// smile /// hug each other /// conversation /// handshake\n",
            "A:  kiss each other\n",
            "\n",
            "\n",
            "Model: kiss each other and Actual Answer: handshake\n",
            "Q: If you were lost you might need a map, the best place to find one on the road is at any what?\n",
            "O: truck stop /// amusement park /// atlas /// mall /// gas station\n",
            "A:  amusement park /// gas station\n",
            "\n",
            "\n",
            "Model: amusement park and Actual Answer: gas station\n"
          ]
        },
        {
          "output_type": "stream",
          "name": "stderr",
          "text": [
            " 37%|███▋      | 448/1221 [00:58<01:40,  7.68it/s]"
          ]
        },
        {
          "output_type": "stream",
          "name": "stdout",
          "text": [
            "Q: Where would you put a net if you wanted to use it?\n",
            "O: sports /// fishing gear /// soccer game /// fishing boat /// badminton\n",
            "A:  fishing boat /// badminton\n",
            "\n",
            "\n",
            "Model: fishing boat and Actual Answer: fishing boat\n",
            "Q: Sage loved communicating  He liked doing what with his peers?\n",
            "O: exchanging ideas /// confusion /// peer pressure /// response /// learning\n",
            "A:  learning /// learning\n",
            "\n",
            "\n",
            "Model: learning and Actual Answer: exchanging ideas\n"
          ]
        },
        {
          "output_type": "stream",
          "name": "stderr",
          "text": [
            " 37%|███▋      | 450/1221 [00:58<01:41,  7.60it/s]"
          ]
        },
        {
          "output_type": "stream",
          "name": "stdout",
          "text": [
            "Q: Where would a cat snuggle up with their human?\n",
            "O: floor /// humane society /// bed /// comfortable chair /// window sill\n",
            "A:  comfortable chair\n",
            "\n",
            "\n",
            "Model: comfortable chair and Actual Answer: comfortable chair\n",
            "Q: What is a place that has large cable hanging overhead?\n",
            "O: radio shack /// electrical device /// shower /// substation /// television\n",
            "A:  television shack /// television shack\n",
            "\n",
            "\n",
            "Model: television shack and Actual Answer: substation\n"
          ]
        },
        {
          "output_type": "stream",
          "name": "stderr",
          "text": [
            " 37%|███▋      | 452/1221 [00:58<01:47,  7.14it/s]"
          ]
        },
        {
          "output_type": "stream",
          "name": "stdout",
          "text": [
            "Q: Where do cars usually travel at very high speeds?\n",
            "O: freeway /// road /// race track /// alley /// parking lot\n",
            "A:  road /// alley\n",
            "\n",
            "\n",
            "Model: road and Actual Answer: race track\n",
            "Q: What might a person be watching if they see a man with a suitcase full of money?\n",
            "O: baggage compartment /// movie /// subway /// airplane /// cargo hold\n",
            "A:  baggage compartment /// airplane\n",
            "\n",
            "\n",
            "Model: baggage compartment and Actual Answer: movie\n"
          ]
        },
        {
          "output_type": "stream",
          "name": "stderr",
          "text": [
            " 37%|███▋      | 454/1221 [00:58<01:44,  7.36it/s]"
          ]
        },
        {
          "output_type": "stream",
          "name": "stdout",
          "text": [
            "Q: Eating breakfast in bed while seeing a homeless person shivering outside your window may cause you to what?\n",
            "O: mess /// hungry /// feel guilty /// indigestion /// spills\n",
            "A:  indigestion /// feeling guilty\n",
            "\n",
            "\n",
            "Model: indigestion and Actual Answer: feel guilty\n",
            "Q: If I put in my key and open a hinged door, where am I likely entering?\n",
            "O: kitchen /// safe /// own house /// building /// pantry\n",
            "A:  building /// pantry\n",
            "\n",
            "\n",
            "Model: building and Actual Answer: own house\n"
          ]
        },
        {
          "output_type": "stream",
          "name": "stderr",
          "text": [
            " 37%|███▋      | 456/1221 [00:59<01:40,  7.61it/s]"
          ]
        },
        {
          "output_type": "stream",
          "name": "stdout",
          "text": [
            "Q: If somebody is working at a reception desk, they are located at the front entrance of the what?\n",
            "O: motel /// hostel /// building /// lobby /// office park\n",
            "A:  hotel /// reception desk\n",
            "\n",
            "\n",
            "Model: hotel and Actual Answer: building\n",
            "Q: If you're reading a newspaper from another country what are you doing?\n",
            "O: learning about world /// education /// get angry /// concern /// eat cake\n",
            "A:  learning about world /// concern\n",
            "\n",
            "\n",
            "Model: learning about world and Actual Answer: learning about world\n"
          ]
        },
        {
          "output_type": "stream",
          "name": "stderr",
          "text": [
            " 38%|███▊      | 458/1221 [00:59<01:38,  7.72it/s]"
          ]
        },
        {
          "output_type": "stream",
          "name": "stdout",
          "text": [
            "Q: They wanted to recognize his accomplishment, where should they put his name?\n",
            "O: certificate /// directory /// phone book /// lineup /// roster\n",
            "A:  roster\n",
            "\n",
            "\n",
            "Model: roster and Actual Answer: certificate\n",
            "Q: What is it called when a person tends to leave things to the last minute?\n",
            "O: procrastinate /// complete collection /// headache /// good time management /// have to hold\n",
            "A:  complete collection /// have to hold\n",
            "\n",
            "\n",
            "Model: complete collection and Actual Answer: procrastinate\n"
          ]
        },
        {
          "output_type": "stream",
          "name": "stderr",
          "text": [
            " 38%|███▊      | 460/1221 [00:59<01:37,  7.79it/s]"
          ]
        },
        {
          "output_type": "stream",
          "name": "stdout",
          "text": [
            "Q: What will you do if you do not want to settle in one place?\n",
            "O: walk /// agitate /// wander /// remove /// disturb\n",
            "A:  walk /// remove\n",
            "\n",
            "\n",
            "Model: walk and Actual Answer: wander\n",
            "Q: Where would a person live that isn't in the metro area but still has good schools?\n",
            "O: woods /// bed /// suburbs /// rural /// neighborhood\n",
            "A:  rural /// suburb\n",
            "\n",
            "\n",
            "Model: rural and Actual Answer: suburbs\n"
          ]
        },
        {
          "output_type": "stream",
          "name": "stderr",
          "text": [
            " 38%|███▊      | 462/1221 [00:59<01:38,  7.74it/s]"
          ]
        },
        {
          "output_type": "stream",
          "name": "stdout",
          "text": [
            "Q: Jane works for the government as a senator, where does she spend a lot of time?\n",
            "O: capitol building /// everything /// washington d.c /// russia /// canada\n",
            "A:  washington d.c.\n",
            "\n",
            "\n",
            "Model: washington d.c. and Actual Answer: capitol building\n",
            "Q: What is it called when two people in love have children?\n",
            "O: take oath /// procreate /// matrimony /// please parents /// live life\n",
            "A:  procreate /// live life\n",
            "\n",
            "\n",
            "Model: procreate and Actual Answer: procreate\n"
          ]
        },
        {
          "output_type": "stream",
          "name": "stderr",
          "text": [
            " 38%|███▊      | 464/1221 [01:00<01:36,  7.83it/s]"
          ]
        },
        {
          "output_type": "stream",
          "name": "stdout",
          "text": [
            "Q: What did the policemen do when they heard a cry from a distance?\n",
            "O: run away /// hurry along /// fine motorists /// direct traffic /// help\n",
            "A:  run away /// hurry along /// direct traffic\n",
            "\n",
            "\n",
            "Model: run away and Actual Answer: help\n",
            "Q: It takes ambition to complete a job, but the first step is to what?\n",
            "O: take care of proposals /// begin work /// in charge of project /// eat cake /// go to school\n",
            "A:  start work /// start work\n",
            "\n",
            "\n",
            "Model: start work and Actual Answer: begin work\n"
          ]
        },
        {
          "output_type": "stream",
          "name": "stderr",
          "text": [
            " 38%|███▊      | 466/1221 [01:00<01:36,  7.82it/s]"
          ]
        },
        {
          "output_type": "stream",
          "name": "stdout",
          "text": [
            "Q: Where would I not want a fox?\n",
            "O: hen house /// english hunt /// mountains /// outside bedroom window /// england\n",
            "A:  england\n",
            "\n",
            "\n",
            "Model: england and Actual Answer: hen house\n",
            "Q: What type of building has the most top floor?\n",
            "O: go down /// apartment building /// tall building /// office building /// cabin\n",
            "A:  cabin\n",
            "\n",
            "\n",
            "Model: cabin and Actual Answer: tall building\n"
          ]
        },
        {
          "output_type": "stream",
          "name": "stderr",
          "text": [
            " 38%|███▊      | 468/1221 [01:00<01:36,  7.83it/s]"
          ]
        },
        {
          "output_type": "stream",
          "name": "stdout",
          "text": [
            "Q: What do humans do to other humans after death?\n",
            "O: celebrate /// burial /// life /// rebirth /// decomposition\n",
            "A:  rebirth /// decomposition\n",
            "\n",
            "\n",
            "Model: rebirth and Actual Answer: burial\n",
            "Q: Where can you find a restaurant's phone number?\n",
            "O: yellow pages /// town /// business sector /// town /// at hotel\n",
            "A:  town /// business sector\n",
            "\n",
            "\n",
            "Model: town and Actual Answer: yellow pages\n"
          ]
        },
        {
          "output_type": "stream",
          "name": "stderr",
          "text": [
            " 38%|███▊      | 470/1221 [01:00<01:35,  7.84it/s]"
          ]
        },
        {
          "output_type": "stream",
          "name": "stdout",
          "text": [
            "Q: What would you put coins into to make it work?\n",
            "O: stove /// water fountain /// desk /// purse /// jar\n",
            "A:  desk /// jar\n",
            "\n",
            "\n",
            "Model: desk and Actual Answer: water fountain\n",
            "Q: A patriotic guy with a camera is looking for a bald eagle, what is he likely to do with the eagle if he finds one?\n",
            "O: city /// canada /// minnesota /// thermal /// photograph\n",
            "A:  photograph\n",
            "\n",
            "\n",
            "Model: photograph and Actual Answer: photograph\n"
          ]
        },
        {
          "output_type": "stream",
          "name": "stderr",
          "text": [
            " 39%|███▊      | 472/1221 [01:01<01:35,  7.83it/s]"
          ]
        },
        {
          "output_type": "stream",
          "name": "stdout",
          "text": [
            "Q: Where can you go to use a piano in your neighborhood if you don't have one?\n",
            "O: music school /// music store /// neighbor's house /// lunch /// drawing room\n",
            "A:  music store /// neighbor's house\n",
            "\n",
            "\n",
            "Model: music store and Actual Answer: neighbor's house\n",
            "Q: Where would you get a shower curtain if you do not have one?\n",
            "O: department store /// restaurant /// hotel /// dime store /// bathtub\n",
            "A:  hotel /// bathtub\n",
            "\n",
            "\n",
            "Model: hotel and Actual Answer: department store\n"
          ]
        },
        {
          "output_type": "stream",
          "name": "stderr",
          "text": [
            " 39%|███▉      | 474/1221 [01:01<01:35,  7.84it/s]"
          ]
        },
        {
          "output_type": "stream",
          "name": "stdout",
          "text": [
            "Q: Kissing is normally an activity reserved for your romantic what?\n",
            "O: anus /// partner /// arousal /// trust /// cooperation\n",
            "A:  intimacy /// cooperation\n",
            "\n",
            "\n",
            "Model: intimacy and Actual Answer: partner\n",
            "Q: What does a child learn to do before school?\n",
            "O: count to ten /// state name /// dress herself /// clean room /// socialize\n",
            "A:  socialize /// dress herself\n",
            "\n",
            "\n",
            "Model: socialize and Actual Answer: dress herself\n"
          ]
        },
        {
          "output_type": "stream",
          "name": "stderr",
          "text": [
            " 39%|███▉      | 476/1221 [01:01<01:34,  7.85it/s]"
          ]
        },
        {
          "output_type": "stream",
          "name": "stdout",
          "text": [
            "Q: He was getting advice for the job interview, they told him when talking to the interviewer always make what?\n",
            "O: get tired of /// small talk /// eye contact /// friendship /// social life\n",
            "A:  social life\n",
            "\n",
            "\n",
            "Model: social life and Actual Answer: eye contact\n",
            "Q: According to what book did an apple tree lead to the downfall of man?\n",
            "O: bible /// spain /// harry potter /// new york /// woods\n",
            "A:  bible /// spain\n",
            "\n",
            "\n",
            "Model: bible and Actual Answer: bible\n"
          ]
        },
        {
          "output_type": "stream",
          "name": "stderr",
          "text": [
            " 39%|███▉      | 478/1221 [01:01<01:34,  7.85it/s]"
          ]
        },
        {
          "output_type": "stream",
          "name": "stdout",
          "text": [
            "Q: The neighborhood had a great sense of community, there was always a crowd at the landing of the what?\n",
            "O: stairwell /// arena /// ocean /// airport /// apartment building\n",
            "A:  airport /// apartment building\n",
            "\n",
            "\n",
            "Model: airport and Actual Answer: apartment building\n",
            "Q: What might a kind person do?\n",
            "O: cross street /// talk to themselves /// open doors /// throw away /// study greek\n",
            "A:  open doors /// throw away\n",
            "\n",
            "\n",
            "Model: open doors and Actual Answer: open doors\n"
          ]
        },
        {
          "output_type": "stream",
          "name": "stderr",
          "text": [
            " 39%|███▉      | 480/1221 [01:02<01:33,  7.90it/s]"
          ]
        },
        {
          "output_type": "stream",
          "name": "stdout",
          "text": [
            "Q: What will a person do at work?\n",
            "O: cross street /// draw attention to themselves /// make money /// falling down /// come home\n",
            "A:  draw attention to themselves /// fall down\n",
            "\n",
            "\n",
            "Model: draw attention to themselves and Actual Answer: make money\n",
            "Q: John saw a fox running along the beach and was glad to be on the east coast.  Where might he have been?\n",
            "O: tennessee /// south carolina /// louisiana /// oklahoma /// mountains\n",
            "A:  louisiana /// oklahoma\n",
            "\n",
            "\n",
            "Model: louisiana and Actual Answer: south carolina\n"
          ]
        },
        {
          "output_type": "stream",
          "name": "stderr",
          "text": [
            " 39%|███▉      | 482/1221 [01:02<01:33,  7.90it/s]"
          ]
        },
        {
          "output_type": "stream",
          "name": "stdout",
          "text": [
            "Q: Name a location where you would not want to find mice.\n",
            "O: loft /// attic /// bell cat /// countryside /// laboratory\n",
            "A:  loft /// barn\n",
            "\n",
            "\n",
            "Model: loft and Actual Answer: attic\n",
            "Q: The man started to learn jogging, what was he hoping to do?\n",
            "O: exhaustion /// getting in shape /// fitness /// injure himself /// fatigue\n",
            "A:  exhaustion /// fatigue\n",
            "\n",
            "\n",
            "Model: exhaustion and Actual Answer: getting in shape\n"
          ]
        },
        {
          "output_type": "stream",
          "name": "stderr",
          "text": [
            " 40%|███▉      | 484/1221 [01:02<01:33,  7.91it/s]"
          ]
        },
        {
          "output_type": "stream",
          "name": "stdout",
          "text": [
            "Q: Where do most people turn to get information on their phones?\n",
            "O: internet /// book /// online /// google /// manual\n",
            "A:  google\n",
            "\n",
            "\n",
            "Model: google and Actual Answer: google\n",
            "Q: What happens to a body after death?\n",
            "O: rebirth /// human experience /// sadness /// decomposition /// obesity\n",
            "A:  decomposition /// death\n",
            "\n",
            "\n",
            "Model: decomposition and Actual Answer: decomposition\n"
          ]
        },
        {
          "output_type": "stream",
          "name": "stderr",
          "text": [
            " 40%|███▉      | 486/1221 [01:02<01:33,  7.88it/s]"
          ]
        },
        {
          "output_type": "stream",
          "name": "stdout",
          "text": [
            "Q: What type of non-vegetarian soup is one likely to find a potato?\n",
            "O: beef stew /// own kitchen /// clam chowder /// kitchen cabinet /// pantry\n",
            "A:  clam chowder /// pantry\n",
            "\n",
            "\n",
            "Model: clam chowder and Actual Answer: clam chowder\n",
            "Q: Though she had a disability, what did her encouraging and positive coach see in her?\n",
            "O: qualification /// strength /// pity /// competence /// potential\n",
            "A:  qualification /// potential\n",
            "\n",
            "\n",
            "Model: qualification and Actual Answer: potential\n"
          ]
        },
        {
          "output_type": "stream",
          "name": "stderr",
          "text": [
            " 40%|███▉      | 488/1221 [01:03<01:33,  7.83it/s]"
          ]
        },
        {
          "output_type": "stream",
          "name": "stdout",
          "text": [
            "Q: They had a theory of what they could do in t he big game, so over and over they would what?\n",
            "O: park /// practice /// fact /// practical /// practise\n",
            "A:  practice /// practice\n",
            "\n",
            "\n",
            "Model: practice and Actual Answer: practice\n",
            "Q: When you see something rise, you are where in relation to it?\n",
            "O: sun set /// near /// fall /// below /// lower\n",
            "A:  below\n",
            "\n",
            "\n",
            "Model: below and Actual Answer: below\n"
          ]
        },
        {
          "output_type": "stream",
          "name": "stderr",
          "text": [
            " 40%|████      | 490/1221 [01:03<01:33,  7.85it/s]"
          ]
        },
        {
          "output_type": "stream",
          "name": "stdout",
          "text": [
            "Q: They were getting ready for a really long hike, he put the food can in his what?\n",
            "O: cabinet /// house /// recycling center /// backpack /// make person sick\n",
            "A:  cabinet /// backpack\n",
            "\n",
            "\n",
            "Model: cabinet and Actual Answer: backpack\n",
            "Q: Where would you keep a rug near your front door?\n",
            "O: persia /// desk /// table /// living room /// hall\n",
            "A:  living room /// table\n",
            "\n",
            "\n",
            "Model: living room and Actual Answer: living room\n"
          ]
        },
        {
          "output_type": "stream",
          "name": "stderr",
          "text": [
            " 40%|████      | 492/1221 [01:03<01:32,  7.84it/s]"
          ]
        },
        {
          "output_type": "stream",
          "name": "stdout",
          "text": [
            "Q: When you slip from a ladder propped on anything what will you do?\n",
            "O: obesity /// fall down /// matter to /// whatever /// surprise\n",
            "A:  surprise\n",
            "\n",
            "\n",
            "Model: surprise and Actual Answer: fall down\n",
            "Q: What do you do when you need to get food?\n",
            "O: table /// disneyland /// refrigerators /// pantry /// shop\n",
            "A:  refrigerators /// pantry\n",
            "\n",
            "\n",
            "Model: refrigerators and Actual Answer: shop\n"
          ]
        },
        {
          "output_type": "stream",
          "name": "stderr",
          "text": [
            " 40%|████      | 494/1221 [01:03<01:32,  7.86it/s]"
          ]
        },
        {
          "output_type": "stream",
          "name": "stdout",
          "text": [
            "Q: Brad tried to arise from bed but he could not.  Instead, he just continued to do what?\n",
            "O: go down /// fall down /// lie down /// lie to himself /// sit down\n",
            "A:  sit down /// lie down\n",
            "\n",
            "\n",
            "Model: sit down and Actual Answer: lie down\n",
            "Q: If a heifer is really high quality, you might take her where?\n",
            "O: home /// dairy farm /// cattle show /// dairy barn /// corral\n",
            "A:  corral /// corral\n",
            "\n",
            "\n",
            "Model: corral and Actual Answer: cattle show\n"
          ]
        },
        {
          "output_type": "stream",
          "name": "stderr",
          "text": [
            " 41%|████      | 496/1221 [01:04<01:31,  7.95it/s]"
          ]
        },
        {
          "output_type": "stream",
          "name": "stdout",
          "text": [
            "Q: What do people want to acquire from opening business?\n",
            "O: home /// wealth /// bankruptcy /// lose money /// get rich\n",
            "A:  bankruptcy /// lose money\n",
            "\n",
            "\n",
            "Model: bankruptcy and Actual Answer: wealth\n",
            "Q: What has someone who had finished their undergraduate done?\n",
            "O: graduated /// masters /// postgraduate /// phd /// professor\n",
            "A:  graduate\n",
            "\n",
            "\n",
            "Model: graduate and Actual Answer: graduated\n"
          ]
        },
        {
          "output_type": "stream",
          "name": "stderr",
          "text": [
            " 41%|████      | 498/1221 [01:04<01:30,  8.00it/s]"
          ]
        },
        {
          "output_type": "stream",
          "name": "stdout",
          "text": [
            "Q: Where are bus stops more common in what parts?\n",
            "O: ocean /// getting off of bus /// airport /// urban area /// towns\n",
            "A:  urban area\n",
            "\n",
            "\n",
            "Model: urban area and Actual Answer: urban area\n",
            "Q: Bill wanted to pick up a stranger, preferably a responsible one with kids.  Where might he look for one?\n",
            "O: bus station /// paradise /// train station /// park /// sea\n",
            "A:  train station /// park\n",
            "\n",
            "\n",
            "Model: train station and Actual Answer: park\n"
          ]
        },
        {
          "output_type": "stream",
          "name": "stderr",
          "text": [
            " 41%|████      | 500/1221 [01:04<01:30,  7.95it/s]"
          ]
        },
        {
          "output_type": "stream",
          "name": "stdout",
          "text": [
            "Q: Where might a lemur frolic in the market?\n",
            "O: desert /// hole /// india /// cage /// rain forest\n",
            "A:  desert /// rain forest\n",
            "\n",
            "\n",
            "Model: desert and Actual Answer: india\n",
            "Q: What might I place under the furniture?\n",
            "O: rug /// room /// toy /// friend's house /// building\n",
            "A:  room /// friend's house\n",
            "\n",
            "\n",
            "Model: room and Actual Answer: rug\n"
          ]
        },
        {
          "output_type": "stream",
          "name": "stderr",
          "text": [
            " 41%|████      | 502/1221 [01:04<01:30,  7.93it/s]"
          ]
        },
        {
          "output_type": "stream",
          "name": "stdout",
          "text": [
            "Q: Everybody began performing once their director stated what?\n",
            "O: fear /// injury /// happiness /// action /// cut\n",
            "A:  injury /// action\n",
            "\n",
            "\n",
            "Model: injury and Actual Answer: action\n",
            "Q: By learning about the world, many poor college students gain what?\n",
            "O: pleasure /// greater mobility /// desire to travel /// global warming /// increased security\n",
            "A:  greater mobility /// greater mobility\n",
            "\n",
            "\n",
            "Model: greater mobility and Actual Answer: desire to travel\n"
          ]
        },
        {
          "output_type": "stream",
          "name": "stderr",
          "text": [
            " 41%|████▏     | 504/1221 [01:05<01:30,  7.91it/s]"
          ]
        },
        {
          "output_type": "stream",
          "name": "stdout",
          "text": [
            "Q: Where are required to carry books all day?\n",
            "O: friend's house /// university /// large city /// storage /// table\n",
            "A:  large city /// table\n",
            "\n",
            "\n",
            "Model: large city and Actual Answer: university\n",
            "Q: where is seaweed from?\n",
            "O: beach /// sea /// ocean /// water /// sea plant\n",
            "A:  ocean /// ocean\n",
            "\n",
            "\n",
            "Model: ocean and Actual Answer: ocean\n"
          ]
        },
        {
          "output_type": "stream",
          "name": "stderr",
          "text": [
            " 41%|████▏     | 506/1221 [01:05<01:30,  7.87it/s]"
          ]
        },
        {
          "output_type": "stream",
          "name": "stdout",
          "text": [
            "Q: how can i store cooked steak?\n",
            "O: oven /// freezer /// plate /// tupperware /// grill\n",
            "A:  freezer /// plate\n",
            "\n",
            "\n",
            "Model: freezer and Actual Answer: freezer\n",
            "Q: John wanted to clean all of the dust out of his place before settling down to watch his favorite shows.  What might he hardest do dust?\n",
            "O: closet /// under the bed /// television /// attic /// most buildings\n",
            "A:  attic /// closet\n",
            "\n",
            "\n",
            "Model: attic and Actual Answer: attic\n"
          ]
        },
        {
          "output_type": "stream",
          "name": "stderr",
          "text": [
            " 42%|████▏     | 508/1221 [01:05<01:30,  7.89it/s]"
          ]
        },
        {
          "output_type": "stream",
          "name": "stdout",
          "text": [
            "Q: Something had the nerve to break into the garbage last night, what did it?\n",
            "O: eyes /// animal /// fingertips /// brainstem /// human body\n",
            "A:  brainstem /// human body\n",
            "\n",
            "\n",
            "Model: brainstem and Actual Answer: animal\n",
            "Q: Where would you go to get some pamphlets if you want to own them?\n",
            "O: bookstore /// drawer /// health department /// mail box /// library\n",
            "A:  library /// drawer\n",
            "\n",
            "\n",
            "Model: library and Actual Answer: bookstore\n"
          ]
        },
        {
          "output_type": "stream",
          "name": "stderr",
          "text": [
            " 42%|████▏     | 510/1221 [01:05<01:29,  7.94it/s]"
          ]
        },
        {
          "output_type": "stream",
          "name": "stdout",
          "text": [
            "Q: The audience cheered when a goal was scored, what were they spectating?\n",
            "O: school /// sporting event /// concert hall /// show /// television\n",
            "A:  sporting event /// concert hall\n",
            "\n",
            "\n",
            "Model: sporting event and Actual Answer: sporting event\n",
            "Q: What western state has thousands of miles of shore?\n",
            "O: picture of sea side /// seaside town /// beach /// california /// see side picture\n",
            "A:  california /// california\n",
            "\n",
            "\n",
            "Model: california and Actual Answer: california\n"
          ]
        },
        {
          "output_type": "stream",
          "name": "stderr",
          "text": [
            " 42%|████▏     | 512/1221 [01:06<01:29,  7.96it/s]"
          ]
        },
        {
          "output_type": "stream",
          "name": "stdout",
          "text": [
            "Q: Everybody seemed to be crying at the holy site, the tour guide explained that this was what?\n",
            "O: profane /// halibut /// damaged /// common /// halibut\n",
            "A:  common /// common\n",
            "\n",
            "\n",
            "Model: common and Actual Answer: common\n",
            "Q: The smile gave away that the what was one of happiness?\n",
            "O: manual /// rainbow /// cry /// frown /// make others happy too\n",
            "A:  smile /// frown\n",
            "\n",
            "\n",
            "Model: smile and Actual Answer: cry\n"
          ]
        },
        {
          "output_type": "stream",
          "name": "stderr",
          "text": [
            " 42%|████▏     | 514/1221 [01:06<01:28,  8.00it/s]"
          ]
        },
        {
          "output_type": "stream",
          "name": "stdout",
          "text": [
            "Q: Where is a public monument likely to be erected by a city?\n",
            "O: municipal park /// office /// state park /// cemetary /// public gardens\n",
            "A:  cemetary /// public gardens\n",
            "\n",
            "\n",
            "Model: cemetary and Actual Answer: municipal park\n",
            "Q: Where would a person live if they wanted no neighbors?\n",
            "O: housing estate /// neighborhood /// mars /// woods /// suburbs\n",
            "A:  neighborhood /// mars\n",
            "\n",
            "\n",
            "Model: neighborhood and Actual Answer: woods\n"
          ]
        },
        {
          "output_type": "stream",
          "name": "stderr",
          "text": [
            " 42%|████▏     | 516/1221 [01:06<01:28,  8.01it/s]"
          ]
        },
        {
          "output_type": "stream",
          "name": "stdout",
          "text": [
            "Q: Where is the control room that controls a PWR located?\n",
            "O: building /// factory /// window /// prison /// nuclear power plant\n",
            "A:  building /// factory /// prison\n",
            "\n",
            "\n",
            "Model: building and Actual Answer: nuclear power plant\n",
            "Q: What happens to a dog before someone puts up posters of them?\n",
            "O: get lost /// require water /// trained /// bark /// roll over\n",
            "A:  bark /// roll over\n",
            "\n",
            "\n",
            "Model: bark and Actual Answer: get lost\n"
          ]
        },
        {
          "output_type": "stream",
          "name": "stderr",
          "text": [
            " 42%|████▏     | 518/1221 [01:06<01:28,  7.95it/s]"
          ]
        },
        {
          "output_type": "stream",
          "name": "stdout",
          "text": [
            "Q: Where are the most famous BBQ steakhouses in america?\n",
            "O: texas /// building /// kansas city /// maine /// falling down\n",
            "A:  maine\n",
            "\n",
            "\n",
            "Model: maine and Actual Answer: texas\n",
            "Q: He kept plugging away in his cubicle, it seemed he was the only person not called into the what?\n",
            "O: building /// conference /// assessment /// demonstration /// garage\n",
            "A:  garage /// garage\n",
            "\n",
            "\n",
            "Model: garage and Actual Answer: conference\n"
          ]
        },
        {
          "output_type": "stream",
          "name": "stderr",
          "text": [
            " 43%|████▎     | 520/1221 [01:07<01:28,  7.92it/s]"
          ]
        },
        {
          "output_type": "stream",
          "name": "stdout",
          "text": [
            "Q: If you're attending school and are falling asleep you're likely experiencing what?\n",
            "O: boredom /// malaria /// graduate /// inspiration /// detention\n",
            "A:  boredom /// boredom\n",
            "\n",
            "\n",
            "Model: boredom and Actual Answer: boredom\n",
            "Q: I want to buy a gong, where should I look for one?\n",
            "O: orchestra /// church /// chinese temple /// chinatown /// music store\n",
            "A:  music store\n",
            "\n",
            "\n",
            "Model: music store and Actual Answer: music store\n"
          ]
        },
        {
          "output_type": "stream",
          "name": "stderr",
          "text": [
            " 43%|████▎     | 522/1221 [01:07<01:28,  7.91it/s]"
          ]
        },
        {
          "output_type": "stream",
          "name": "stdout",
          "text": [
            "Q: What would friends do if they need each others' help?\n",
            "O: call each other /// group together /// understand each other /// meet for lunch /// part company\n",
            "A:  meet for lunch /// meet for lunch\n",
            "\n",
            "\n",
            "Model: meet for lunch and Actual Answer: group together\n",
            "Q: When people are playing a game, what is their motivation to play?\n",
            "O: believe in god /// dance /// desire to win /// destroy each other /// run amok\n",
            "A:  desire to win /// destroy each other\n",
            "\n",
            "\n",
            "Model: desire to win and Actual Answer: desire to win\n"
          ]
        },
        {
          "output_type": "stream",
          "name": "stderr",
          "text": [
            " 43%|████▎     | 524/1221 [01:07<01:28,  7.90it/s]"
          ]
        },
        {
          "output_type": "stream",
          "name": "stdout",
          "text": [
            "Q: Where could there be a battle that involves words?\n",
            "O: court room /// war /// video game /// iraq /// church\n",
            "A:  video game\n",
            "\n",
            "\n",
            "Model: video game and Actual Answer: court room\n",
            "Q: John didn't mind getting in line.  It was what game after that he hated.  The time, the sore feet. He did not like doing what?\n",
            "O: have to wait for /// standing in line /// eat cake /// less confusion /// being ordered\n",
            "A:  wait for /// wait for /// wait for\n",
            "\n",
            "\n",
            "Model: wait for and Actual Answer: standing in line\n"
          ]
        },
        {
          "output_type": "stream",
          "name": "stderr",
          "text": [
            " 43%|████▎     | 526/1221 [01:07<01:27,  7.96it/s]"
          ]
        },
        {
          "output_type": "stream",
          "name": "stdout",
          "text": [
            "Q: What is the process of going somewhere?\n",
            "O: fire /// energy /// car /// transporting /// staying in place\n",
            "A:  moving /// moving\n",
            "\n",
            "\n",
            "Model: moving and Actual Answer: transporting\n",
            "Q: The old man needed to have rest multiple times a day, he would do what on the couch and catnap?\n",
            "O: lay in bed /// lay in bed /// go to bed /// relax /// lie down\n",
            "A:  lay in bed /// lie down\n",
            "\n",
            "\n",
            "Model: lay in bed and Actual Answer: lie down\n"
          ]
        },
        {
          "output_type": "stream",
          "name": "stderr",
          "text": [
            " 43%|████▎     | 528/1221 [01:08<01:28,  7.84it/s]"
          ]
        },
        {
          "output_type": "stream",
          "name": "stdout",
          "text": [
            "Q: The end of the barrel of what primitive firearm is bell shaped?\n",
            "O: barbell /// funnel /// blunderbuss /// wind instrument /// kettlebell\n",
            "A:  barbell /// blunderbuss\n",
            "\n",
            "\n",
            "Model: barbell and Actual Answer: blunderbuss\n",
            "Q: Where is a good place to store pamphlets in your home or office?\n",
            "O: library /// health department /// mail box /// drawer /// bookstore\n",
            "A:  library /// drawer\n",
            "\n",
            "\n",
            "Model: library and Actual Answer: drawer\n"
          ]
        },
        {
          "output_type": "stream",
          "name": "stderr",
          "text": [
            " 43%|████▎     | 530/1221 [01:08<01:27,  7.89it/s]"
          ]
        },
        {
          "output_type": "stream",
          "name": "stdout",
          "text": [
            "Q: Many humans enjoy fishing and enjoy another relaxing activity at the same time, what activity is it?\n",
            "O: getting tied up lure. /// looking for information /// get wet /// drink beer /// sit quietly\n",
            "A:  getting tied up lure\n",
            "\n",
            "\n",
            "Model: getting tied up lure and Actual Answer: drink beer\n",
            "Q: Where would you get some maps that you own?\n",
            "O: bookstore /// library /// electrical circuit /// cabinet /// important when traveling\n",
            "A:  cabinet /// electronics circuit\n",
            "\n",
            "\n",
            "Model: cabinet and Actual Answer: cabinet\n"
          ]
        },
        {
          "output_type": "stream",
          "name": "stderr",
          "text": [
            " 44%|████▎     | 532/1221 [01:08<01:27,  7.90it/s]"
          ]
        },
        {
          "output_type": "stream",
          "name": "stdout",
          "text": [
            "Q: Where is a good place to put a hamburger?\n",
            "O: resturant /// fast food restaurant /// mouth /// kitchen /// pizza\n",
            "A:  kitchen /// mouth\n",
            "\n",
            "\n",
            "Model: kitchen and Actual Answer: mouth\n",
            "Q: Where is a handy place to store a steel pen in your office?\n",
            "O: car shop /// desk drawer /// car. /// warehouse /// hand\n",
            "A:  hand /// hand\n",
            "\n",
            "\n",
            "Model: hand and Actual Answer: desk drawer\n"
          ]
        },
        {
          "output_type": "stream",
          "name": "stderr",
          "text": [
            " 44%|████▎     | 534/1221 [01:09<01:27,  7.84it/s]"
          ]
        },
        {
          "output_type": "stream",
          "name": "stdout",
          "text": [
            "Q: A story about World War II would be set when?\n",
            "O: book or library /// book or magazine /// newspaper /// past /// future\n",
            "A:  book or magazine\n",
            "\n",
            "\n",
            "Model: book or magazine and Actual Answer: past\n",
            "Q: What type of geographic area will you find a marmot?\n",
            "O: mountainous area /// wood pile /// jungle /// petting zoo /// animals\n",
            "A:  jungle area /// petting zoo\n",
            "\n",
            "\n",
            "Model: jungle area and Actual Answer: mountainous area\n"
          ]
        },
        {
          "output_type": "stream",
          "name": "stderr",
          "text": [
            " 44%|████▍     | 536/1221 [01:09<01:27,  7.85it/s]"
          ]
        },
        {
          "output_type": "stream",
          "name": "stdout",
          "text": [
            "Q: Most people make stupid assumptions that are based on their prejudices.  What might they do instead to achieve better outcomes?\n",
            "O: set table /// think /// read books /// play games /// lie\n",
            "A:  think /// read books /// lie\n",
            "\n",
            "\n",
            "Model: think and Actual Answer: think\n",
            "Q: What is something children can do while traveling in a car?\n",
            "O: listen to music /// watch television /// play chess /// walk /// play basketball\n",
            "A:  play basketball /// play basketball\n",
            "\n",
            "\n",
            "Model: play basketball and Actual Answer: listen to music\n"
          ]
        },
        {
          "output_type": "stream",
          "name": "stderr",
          "text": [
            " 44%|████▍     | 538/1221 [01:09<01:26,  7.86it/s]"
          ]
        },
        {
          "output_type": "stream",
          "name": "stdout",
          "text": [
            "Q: Where would you hear a trumpet along with other instruments made from the same material?\n",
            "O: music store /// bass /// brass band /// orchestra /// marching band\n",
            "A:  brass band\n",
            "\n",
            "\n",
            "Model: brass band and Actual Answer: brass band\n",
            "Q: The audience listened to the orchestra play, where were they watching the performance?\n",
            "O: concert hall /// museum /// school /// hockey game /// sporting event\n",
            "A:  hockey game\n",
            "\n",
            "\n",
            "Model: hockey game and Actual Answer: concert hall\n"
          ]
        },
        {
          "output_type": "stream",
          "name": "stderr",
          "text": [
            " 44%|████▍     | 540/1221 [01:09<01:28,  7.73it/s]"
          ]
        },
        {
          "output_type": "stream",
          "name": "stdout",
          "text": [
            "Q: Stabbing to death of a person is what sort of way to die?\n",
            "O: pool of blood /// gruesome /// charming /// being arrested /// killing\n",
            "A:  gruesome /// being arrested\n",
            "\n",
            "\n",
            "Model: gruesome and Actual Answer: gruesome\n",
            "Q: What are you getting from you boss at the end of the week?\n",
            "O: asking for /// money /// food /// work /// energy\n",
            "A:  food /// work\n",
            "\n",
            "\n",
            "Model: food and Actual Answer: money\n"
          ]
        },
        {
          "output_type": "stream",
          "name": "stderr",
          "text": [
            " 44%|████▍     | 542/1221 [01:10<01:32,  7.37it/s]"
          ]
        },
        {
          "output_type": "stream",
          "name": "stdout",
          "text": [
            "Q: If you have a ticket and you are planning to eat hot dogs, where would you go?\n",
            "O: lottery /// person's hand /// baseball stadium /// movie /// kitchen\n",
            "A:  movie theater /// restaurant\n",
            "\n",
            "\n",
            "Model: movie theater and Actual Answer: baseball stadium\n",
            "Q: Where is a great place to buy fresh fruit?\n",
            "O: san francisco /// refrigerator /// big box retailer /// tree /// market\n",
            "A:  big box retailer\n",
            "\n",
            "\n",
            "Model: big box retailer and Actual Answer: market\n"
          ]
        },
        {
          "output_type": "stream",
          "name": "stderr",
          "text": [
            " 45%|████▍     | 544/1221 [01:10<01:31,  7.39it/s]"
          ]
        },
        {
          "output_type": "stream",
          "name": "stdout",
          "text": [
            "Q: The man took paperwork to other people to consult over it, where was he heading?\n",
            "O: desk /// meeting /// office /// table /// work\n",
            "A:  meeting /// office\n",
            "\n",
            "\n",
            "Model: meeting and Actual Answer: meeting\n",
            "Q: Stark was just having fun, and he wasn't hurting anyone.  What might have he been doing?\n",
            "O: painting his nails /// playing marbles /// constructing /// need for rest /// wild ride\n",
            "A:  painting his nails /// painting his nails\n",
            "\n",
            "\n",
            "Model: painting his nails and Actual Answer: playing marbles\n"
          ]
        },
        {
          "output_type": "stream",
          "name": "stderr",
          "text": [
            " 45%|████▍     | 546/1221 [01:10<01:28,  7.65it/s]"
          ]
        },
        {
          "output_type": "stream",
          "name": "stdout",
          "text": [
            "Q: The church was giving assistance, what were they hoping to accomplish?\n",
            "O: exhilliration /// hardship /// risk taking /// helping others /// happiness\n",
            "A:  exhilliration /// hardship\n",
            "\n",
            "\n",
            "Model: exhilliration and Actual Answer: helping others\n",
            "Q: I you believe in god, where will you go when you die?\n",
            "O: heaven /// church /// imagination /// synagogue /// monastery\n",
            "A:  church /// imagination\n",
            "\n",
            "\n",
            "Model: church and Actual Answer: heaven\n"
          ]
        },
        {
          "output_type": "stream",
          "name": "stderr",
          "text": [
            " 45%|████▍     | 548/1221 [01:10<01:27,  7.71it/s]"
          ]
        },
        {
          "output_type": "stream",
          "name": "stdout",
          "text": [
            "Q: What can eating hamburger cause immediately after eating it?\n",
            "O: tasty /// health problems /// eat cake /// indigestion /// gain weight\n",
            "A:  health problems /// gain weight\n",
            "\n",
            "\n",
            "Model: health problems and Actual Answer: indigestion\n",
            "Q: Where is a shelf likely to be hidden behind a door?\n",
            "O: refrigerator /// bookstore /// cupboard /// school building /// wardrobe\n",
            "A:  closet /// wardrobe\n",
            "\n",
            "\n",
            "Model: closet and Actual Answer: cupboard\n"
          ]
        },
        {
          "output_type": "stream",
          "name": "stderr",
          "text": [
            " 45%|████▌     | 550/1221 [01:11<01:26,  7.76it/s]"
          ]
        },
        {
          "output_type": "stream",
          "name": "stdout",
          "text": [
            "Q: The man got a pail to catch the draining motor oil, where was he likely doing this at home?\n",
            "O: garage /// hardware store /// utility room /// wishing well /// laundry\n",
            "A:  hardware store /// laundry\n",
            "\n",
            "\n",
            "Model: hardware store and Actual Answer: garage\n",
            "Q: What kind of cold storage could you find in your house?\n",
            "O: ice pack /// freezer /// laboratory /// warehouse /// refrigerator\n",
            "A:  freezer /// lab\n",
            "\n",
            "\n",
            "Model: freezer and Actual Answer: refrigerator\n"
          ]
        },
        {
          "output_type": "stream",
          "name": "stderr",
          "text": [
            " 45%|████▌     | 552/1221 [01:11<01:25,  7.83it/s]"
          ]
        },
        {
          "output_type": "stream",
          "name": "stdout",
          "text": [
            "Q: Where could you go to between 1000 and 10000 restaurant?\n",
            "O: big city /// town /// small town /// canada /// yellow pages\n",
            "A:  town /// small town\n",
            "\n",
            "\n",
            "Model: town and Actual Answer: big city\n",
            "Q: The pitcher stepped on the mound ready to throw, where was he located specifically?\n",
            "O: hell /// baseball stadium /// golf course /// africa /// baseball diamond\n",
            "A:  baseball diamond\n",
            "\n",
            "\n",
            "Model: baseball diamond and Actual Answer: baseball diamond\n"
          ]
        },
        {
          "output_type": "stream",
          "name": "stderr",
          "text": [
            " 45%|████▌     | 554/1221 [01:11<01:24,  7.88it/s]"
          ]
        },
        {
          "output_type": "stream",
          "name": "stdout",
          "text": [
            "Q: Where is a statute found on a platform?\n",
            "O: below /// arena /// concert hall /// museum /// building\n",
            "A:  museum /// building\n",
            "\n",
            "\n",
            "Model: museum and Actual Answer: museum\n",
            "Q: If it's not used for hair a round brush is an example of what?\n",
            "O: hair brush /// ladies bathroom /// art supplies /// shower /// hair salon\n",
            "A:  hair brush /// hair salon\n",
            "\n",
            "\n",
            "Model: hair brush and Actual Answer: art supplies\n"
          ]
        },
        {
          "output_type": "stream",
          "name": "stderr",
          "text": [
            " 46%|████▌     | 556/1221 [01:11<01:27,  7.57it/s]"
          ]
        },
        {
          "output_type": "stream",
          "name": "stdout",
          "text": [
            "Q: His parents thought he was suffering from boredom, but the teen loved to lay in bed and just do what?\n",
            "O: meet interesting people /// lift weights /// listen to music /// play chess /// entertain\n",
            "A:  listen to music /// play chess\n",
            "\n",
            "\n",
            "Model: listen to music and Actual Answer: listen to music\n",
            "Q: At the picnic she was stuck eating hamburger, she was worried because she forgot her chewables to prevent what?\n",
            "O: eat cake /// have fun /// food poisoning /// heartburn /// gain weight\n",
            "A:  have fun /// gain weight\n",
            "\n",
            "\n",
            "Model: have fun and Actual Answer: heartburn\n"
          ]
        },
        {
          "output_type": "stream",
          "name": "stderr",
          "text": [
            " 46%|████▌     | 558/1221 [01:12<01:25,  7.73it/s]"
          ]
        },
        {
          "output_type": "stream",
          "name": "stdout",
          "text": [
            "Q: The electrode wouldn't spark, it turned out that the what hadn't been connected?\n",
            "O: battery /// electronic equipment /// electrolytic cell /// charge /// tube\n",
            "A:  electrolytic cell\n",
            "\n",
            "\n",
            "Model: electrolytic cell and Actual Answer: battery\n",
            "Q: For what entity should the government work?\n",
            "O: country /// democracy /// canada /// civilization /// tax office\n",
            "A:  democracy /// canada\n",
            "\n",
            "\n",
            "Model: democracy and Actual Answer: country\n"
          ]
        },
        {
          "output_type": "stream",
          "name": "stderr",
          "text": [
            " 46%|████▌     | 560/1221 [01:12<01:24,  7.83it/s]"
          ]
        },
        {
          "output_type": "stream",
          "name": "stdout",
          "text": [
            "Q: What must a student in engineering do?\n",
            "O: answer question /// learn language /// do mathematics /// be able to count /// begin to study\n",
            "A:  learn language /// learn mathematics\n",
            "\n",
            "\n",
            "Model: learn language and Actual Answer: do mathematics\n",
            "Q: The teacher knew her students understood division, what was she hoping they would learn next?\n",
            "O: multiplication /// multiply /// putting together /// unity /// pay debts\n",
            "A:  multiplication /// multiplication /// pay debts\n",
            "\n",
            "\n",
            "Model: multiplication and Actual Answer: multiplication\n"
          ]
        },
        {
          "output_type": "stream",
          "name": "stderr",
          "text": [
            " 46%|████▌     | 562/1221 [01:12<01:23,  7.89it/s]"
          ]
        },
        {
          "output_type": "stream",
          "name": "stdout",
          "text": [
            "Q: There were times where kids wanted to know a definition, so there was a nice big dictionary in the what?\n",
            "O: pocket /// classroom /// table /// library /// shelf\n",
            "A:  shelf /// table\n",
            "\n",
            "\n",
            "Model: shelf and Actual Answer: classroom\n",
            "Q: Riding a bike for a long time can cause what?\n",
            "O: enjoyment /// fatigue /// falling down /// getting lost /// thirst\n",
            "A:  thirst /// thirst\n",
            "\n",
            "\n",
            "Model: thirst and Actual Answer: fatigue\n"
          ]
        },
        {
          "output_type": "stream",
          "name": "stderr",
          "text": [
            " 46%|████▌     | 564/1221 [01:12<01:23,  7.85it/s]"
          ]
        },
        {
          "output_type": "stream",
          "name": "stdout",
          "text": [
            "Q: What could happen to a cat other than wanting food?\n",
            "O: feline /// thirsty /// sharp claws /// pussycat /// hungry\n",
            "A:  hungry /// sharp claws\n",
            "\n",
            "\n",
            "Model: hungry and Actual Answer: thirsty\n",
            "Q: If you turn off the music in a room with no other noise that room would be what?\n",
            "O: silent /// opera /// silence /// television /// elevator\n",
            "A:  silent /// silent\n",
            "\n",
            "\n",
            "Model: silent and Actual Answer: silent\n"
          ]
        },
        {
          "output_type": "stream",
          "name": "stderr",
          "text": [
            " 46%|████▋     | 566/1221 [01:13<01:23,  7.84it/s]"
          ]
        },
        {
          "output_type": "stream",
          "name": "stdout",
          "text": [
            "Q: In what country are the most fast food restaurants?\n",
            "O: new york /// blocks of flats /// center of town /// america /// big cities\n",
            "A:  big cities\n",
            "\n",
            "\n",
            "Model: big cities and Actual Answer: america\n",
            "Q: I want to use string to keep something from moving, how should I do it?\n",
            "O: tie around /// wind around /// weave /// stringbed /// ball up\n",
            "A:  string up /// weave around\n",
            "\n",
            "\n",
            "Model: string up and Actual Answer: tie around\n"
          ]
        },
        {
          "output_type": "stream",
          "name": "stderr",
          "text": [
            " 47%|████▋     | 568/1221 [01:13<01:22,  7.89it/s]"
          ]
        },
        {
          "output_type": "stream",
          "name": "stdout",
          "text": [
            "Q: Where would walk through a central passage to catch an elevator?\n",
            "O: tomb /// arena /// access rooms /// public building /// house\n",
            "A:  public building /// public building\n",
            "\n",
            "\n",
            "Model: public building and Actual Answer: public building\n",
            "Q: A potato is kept in the cellar, where is likely to be stored?\n",
            "O: farmer's market /// grocery bag /// pantry /// bushel basket /// fridge\n",
            "A:  pantry /// pantry\n",
            "\n",
            "\n",
            "Model: pantry and Actual Answer: bushel basket\n"
          ]
        },
        {
          "output_type": "stream",
          "name": "stderr",
          "text": [
            " 47%|████▋     | 570/1221 [01:13<01:22,  7.89it/s]"
          ]
        },
        {
          "output_type": "stream",
          "name": "stdout",
          "text": [
            "Q: What do people do when networking?\n",
            "O: build trust /// hurry home /// ignore people /// believe in god /// jump to conclusions\n",
            "A:  believe in god /// believe in god\n",
            "\n",
            "\n",
            "Model: believe in god and Actual Answer: build trust\n",
            "Q: Where can you store you spare linens near your socks?\n",
            "O: hospital /// chest /// home /// dresser drawers /// cabinet\n",
            "A:  closet drawers\n",
            "\n",
            "\n",
            "Model: closet drawers and Actual Answer: dresser drawers\n"
          ]
        },
        {
          "output_type": "stream",
          "name": "stderr",
          "text": [
            " 47%|████▋     | 572/1221 [01:13<01:23,  7.82it/s]"
          ]
        },
        {
          "output_type": "stream",
          "name": "stdout",
          "text": [
            "Q: What do people do when they think too quickly?\n",
            "O: jump to conclusions /// hurry home /// build trust /// pay bills /// sing\n",
            "A:  hurry home /// pay bills\n",
            "\n",
            "\n",
            "Model: hurry home and Actual Answer: jump to conclusions\n",
            "Q: What is someone likely to want as a result of sex?\n",
            "O: sexploiter /// chicken /// reproductive cycle /// procreation /// human experience\n",
            "A:  procreation /// human experience\n",
            "\n",
            "\n",
            "Model: procreation and Actual Answer: procreation\n"
          ]
        },
        {
          "output_type": "stream",
          "name": "stderr",
          "text": [
            " 47%|████▋     | 574/1221 [01:14<01:22,  7.88it/s]"
          ]
        },
        {
          "output_type": "stream",
          "name": "stdout",
          "text": [
            "Q: What might someone do after they finish creating art?\n",
            "O: frustration /// relax /// eat /// enlightenment /// communication\n",
            "A:  communication\n",
            "\n",
            "\n",
            "Model: communication and Actual Answer: relax\n",
            "Q: To get clean clothes you to what to them?\n",
            "O: get dirty /// writing /// use water /// launder /// soap\n",
            "A:  soap\n",
            "\n",
            "\n",
            "Model: soap and Actual Answer: launder\n"
          ]
        },
        {
          "output_type": "stream",
          "name": "stderr",
          "text": [
            " 47%|████▋     | 576/1221 [01:14<01:21,  7.95it/s]"
          ]
        },
        {
          "output_type": "stream",
          "name": "stdout",
          "text": [
            "Q: The person tried to reduce his weight with a shrink ray, but he got it backwards and only did what?\n",
            "O: grow /// gain weight /// make larger /// augment /// get bigger\n",
            "A:  gain weight /// get bigger\n",
            "\n",
            "\n",
            "Model: gain weight and Actual Answer: make larger\n",
            "Q: Christine couldn't be having a baby at her age, she thought to herself. What was Christine?\n",
            "O: old person /// begin to talk /// adult /// old man /// girl\n",
            "A:  old man\n",
            "\n",
            "\n",
            "Model: old man and Actual Answer: old person\n"
          ]
        },
        {
          "output_type": "stream",
          "name": "stderr",
          "text": [
            " 47%|████▋     | 578/1221 [01:14<01:20,  7.95it/s]"
          ]
        },
        {
          "output_type": "stream",
          "name": "stdout",
          "text": [
            "Q: Joe plays a percussion instrument in something.  What might be play in?\n",
            "O: own home /// music store /// marching band /// orchestra /// party\n",
            "A:  music store /// orchestra\n",
            "\n",
            "\n",
            "Model: music store and Actual Answer: orchestra\n",
            "Q: If I'm playing ball, I'm mostly trying to do what?\n",
            "O: losing /// competition /// having fun /// win /// injury\n",
            "A:  losing /// injury\n",
            "\n",
            "\n",
            "Model: losing and Actual Answer: having fun\n"
          ]
        },
        {
          "output_type": "stream",
          "name": "stderr",
          "text": [
            " 48%|████▊     | 580/1221 [01:14<01:21,  7.85it/s]"
          ]
        },
        {
          "output_type": "stream",
          "name": "stdout",
          "text": [
            "Q: What do the terms need to be in order to compete against someone?\n",
            "O: cheat /// fair /// in competition /// practice /// sabotage\n",
            "A:  cheat /// in competition\n",
            "\n",
            "\n",
            "Model: cheat and Actual Answer: fair\n",
            "Q: If you wanted to show off silk, what item could it be on?\n",
            "O: jean /// mulberry tree /// garments /// expensive clothing /// parachutes\n",
            "A:  parachutes\n",
            "\n",
            "\n",
            "Model: parachutes and Actual Answer: expensive clothing\n"
          ]
        },
        {
          "output_type": "stream",
          "name": "stderr",
          "text": [
            " 48%|████▊     | 582/1221 [01:15<01:21,  7.81it/s]"
          ]
        },
        {
          "output_type": "stream",
          "name": "stdout",
          "text": [
            "Q: Where is known to be a wealth of information?\n",
            "O: park /// internet /// meeting /// library /// book\n",
            "A:  library /// meeting\n",
            "\n",
            "\n",
            "Model: library and Actual Answer: library\n",
            "Q: I saw the receptionist carelessly toss my resume into the drawer, where did I want it to end up?\n",
            "O: file cabinet /// nightstand /// kitchen cabinet /// office desk /// the floor\n",
            "A:  office desk\n",
            "\n",
            "\n",
            "Model: office desk and Actual Answer: office desk\n"
          ]
        },
        {
          "output_type": "stream",
          "name": "stderr",
          "text": [
            " 48%|████▊     | 584/1221 [01:15<01:24,  7.53it/s]"
          ]
        },
        {
          "output_type": "stream",
          "name": "stdout",
          "text": [
            "Q: What will happen if you inject water into yourself?\n",
            "O: dilute /// thin blood /// take several forms /// wet clothes /// move mountains\n",
            "A:  dilute /// take several forms\n",
            "\n",
            "\n",
            "Model: dilute and Actual Answer: thin blood\n",
            "Q: Athletes soak in hot tubs to relieve what after playing baseball?\n",
            "O: fame /// errors /// pain /// strikes /// sore muscles\n",
            "A:  sore muscles\n",
            "\n",
            "\n",
            "Model: sore muscles and Actual Answer: sore muscles\n"
          ]
        },
        {
          "output_type": "stream",
          "name": "stderr",
          "text": [
            " 48%|████▊     | 586/1221 [01:15<01:24,  7.56it/s]"
          ]
        },
        {
          "output_type": "stream",
          "name": "stdout",
          "text": [
            "Q: What does a gambler do that causes him or her to be unhappy?\n",
            "O: play cards /// double winnings /// lose money /// play poker /// to win the prize\n",
            "A:  lose money /// play poker\n",
            "\n",
            "\n",
            "Model: lose money and Actual Answer: lose money\n",
            "Q: There's one obvious reason to eat vegetables, they're plain what you?\n",
            "O: lose weight /// good for /// bland /// chewing /// fibre\n",
            "A:  bland /// chewable\n",
            "\n",
            "\n",
            "Model: bland and Actual Answer: good for\n"
          ]
        },
        {
          "output_type": "stream",
          "name": "stderr",
          "text": [
            " 48%|████▊     | 588/1221 [01:15<01:23,  7.60it/s]"
          ]
        },
        {
          "output_type": "stream",
          "name": "stdout",
          "text": [
            "Q: John was a bit think in the head, but he knew that he never saw the lady before.  They were what?\n",
            "O: pay debts /// slender /// unacquainted /// free flowing /// sparse\n",
            "A:  free flowing /// sparse\n",
            "\n",
            "\n",
            "Model: free flowing and Actual Answer: unacquainted\n",
            "Q: Where would you hear a violin along side many string and wind instruments?\n",
            "O: school /// string quartet /// orchestra /// kitchen /// music room\n",
            "A:  music room\n",
            "\n",
            "\n",
            "Model: music room and Actual Answer: orchestra\n"
          ]
        },
        {
          "output_type": "stream",
          "name": "stderr",
          "text": [
            " 48%|████▊     | 590/1221 [01:16<01:22,  7.66it/s]"
          ]
        },
        {
          "output_type": "stream",
          "name": "stdout",
          "text": [
            "Q: What is the sun ultimately responsible for?\n",
            "O: earth warming /// sun tan /// light /// life on earth /// heat\n",
            "A:  sun tan /// life on earth\n",
            "\n",
            "\n",
            "Model: sun tan and Actual Answer: life on earth\n",
            "Q: Mandy lived in a train station.  She longed to see distant places. Where might she imagine going?\n",
            "O: downtown area /// centre of town /// bedroom /// europe /// big city\n",
            "A:  big city /// europe\n",
            "\n",
            "\n",
            "Model: big city and Actual Answer: europe\n"
          ]
        },
        {
          "output_type": "stream",
          "name": "stderr",
          "text": [
            " 48%|████▊     | 592/1221 [01:16<01:21,  7.76it/s]"
          ]
        },
        {
          "output_type": "stream",
          "name": "stdout",
          "text": [
            "Q: Joe is a  squirrel, which is an animal. He probably lives in what sort of place.\n",
            "O: pet store /// outside /// woodland /// ocean /// cafe\n",
            "A:  cafe /// animal cafe\n",
            "\n",
            "\n",
            "Model: cafe and Actual Answer: woodland\n",
            "Q: Where could a personal ficus live?\n",
            "O: cabin in the woods /// california /// front yard /// conservatory /// tropical forest\n",
            "A:  conservatory /// tropical forest\n",
            "\n",
            "\n",
            "Model: conservatory and Actual Answer: front yard\n"
          ]
        },
        {
          "output_type": "stream",
          "name": "stderr",
          "text": [
            " 49%|████▊     | 594/1221 [01:16<01:22,  7.58it/s]"
          ]
        },
        {
          "output_type": "stream",
          "name": "stdout",
          "text": [
            "Q: The shark actually counted as evidence, so where did the legal team bring it?\n",
            "O: court room /// shallow waters /// poker game /// sea world /// pond arena\n",
            "A:  court room /// pond arena\n",
            "\n",
            "\n",
            "Model: court room and Actual Answer: court room\n",
            "Q: If the president wanted to ban snakes, where would he issue such a decree?\n",
            "O: street /// tropical forest /// garden of eden /// new mexico /// white house\n",
            "A:  white house\n",
            "\n",
            "\n",
            "Model: white house and Actual Answer: white house\n"
          ]
        },
        {
          "output_type": "stream",
          "name": "stderr",
          "text": [
            " 49%|████▉     | 596/1221 [01:17<01:20,  7.72it/s]"
          ]
        },
        {
          "output_type": "stream",
          "name": "stdout",
          "text": [
            "Q: They were searching for rocks, so they missed the birds overhead as they stared at the what?\n",
            "O: ground /// drawer /// surface of earth /// pizza /// waterfall\n",
            "A:  ground /// surface of earth\n",
            "\n",
            "\n",
            "Model: ground and Actual Answer: ground\n",
            "Q: Her son scraped his knee, she fetched a bottle of peroxide from the what?\n",
            "O: supermarket /// diaper bag /// liquor store /// hollow log /// medicine cabinet\n",
            "A:  liquor store /// medicine cabinet\n",
            "\n",
            "\n",
            "Model: liquor store and Actual Answer: medicine cabinet\n"
          ]
        },
        {
          "output_type": "stream",
          "name": "stderr",
          "text": [
            " 49%|████▉     | 598/1221 [01:17<01:19,  7.83it/s]"
          ]
        },
        {
          "output_type": "stream",
          "name": "stdout",
          "text": [
            "Q: Where would you expect to find a dictionary along side other writings you can borrow?\n",
            "O: classroom /// shelf /// explain meaning of words /// table /// library\n",
            "A:  shelf /// library\n",
            "\n",
            "\n",
            "Model: shelf and Actual Answer: library\n",
            "Q: What would be necessary for getting in shape?\n",
            "O: good health /// exercise /// muscle tone /// sweat /// feel better\n",
            "A:  sweat /// feel better\n",
            "\n",
            "\n",
            "Model: sweat and Actual Answer: exercise\n"
          ]
        },
        {
          "output_type": "stream",
          "name": "stderr",
          "text": [
            " 49%|████▉     | 600/1221 [01:17<01:18,  7.87it/s]"
          ]
        },
        {
          "output_type": "stream",
          "name": "stdout",
          "text": [
            "Q: A statue that shoots liquid is called a what?\n",
            "O: water fountain /// large city /// museum /// pool /// central park\n",
            "A:  fountain /// central park\n",
            "\n",
            "\n",
            "Model: fountain and Actual Answer: water fountain\n",
            "Q: If you have a child who gets in trouble for being hyperactive you may need to teach them how to what down?\n",
            "O: park /// calm /// being good /// good behavior /// safe\n",
            "A:  safe behavior /// safe behavior\n",
            "\n",
            "\n",
            "Model: safe behavior and Actual Answer: calm\n"
          ]
        },
        {
          "output_type": "stream",
          "name": "stderr",
          "text": [
            " 49%|████▉     | 602/1221 [01:17<01:19,  7.83it/s]"
          ]
        },
        {
          "output_type": "stream",
          "name": "stdout",
          "text": [
            "Q: John loved to paint houses.  How did he usually do it?\n",
            "O: clothes get stained /// with brush /// wallpaper /// electrical circuit /// draw\n",
            "A:  brush /// electrical circuit\n",
            "\n",
            "\n",
            "Model: brush and Actual Answer: with brush\n",
            "Q: When you wipe you feet on the door mat and walk through the door where do you enter?\n",
            "O: a chair /// school /// living room /// doorway /// bathroom\n",
            "A:  bathroom\n",
            "\n",
            "\n",
            "Model: bathroom and Actual Answer: living room\n"
          ]
        },
        {
          "output_type": "stream",
          "name": "stderr",
          "text": [
            " 49%|████▉     | 604/1221 [01:18<01:18,  7.87it/s]"
          ]
        },
        {
          "output_type": "stream",
          "name": "stdout",
          "text": [
            "Q: What can you use to store a book while traveling?\n",
            "O: library of congress /// pocket /// backpack /// suitcase /// synagogue\n",
            "A:  suitcase /// backpack\n",
            "\n",
            "\n",
            "Model: suitcase and Actual Answer: suitcase\n",
            "Q: Where would you find gazelle under a G?\n",
            "O: open field /// ivory coast /// dictionary /// steppe /// encyclopedia\n",
            "A:  encyclopedia  steppe /// encyclopedia\n",
            "\n",
            "\n",
            "Model: encyclopedia  steppe and Actual Answer: encyclopedia\n"
          ]
        },
        {
          "output_type": "stream",
          "name": "stderr",
          "text": [
            " 50%|████▉     | 606/1221 [01:18<01:17,  7.91it/s]"
          ]
        },
        {
          "output_type": "stream",
          "name": "stdout",
          "text": [
            "Q: Competing can lead to great highs, and also great lows when suffering what?\n",
            "O: winning or losing /// aggression /// gain /// defeat /// sweat\n",
            "A:  losing or losing /// sweat\n",
            "\n",
            "\n",
            "Model: losing or losing and Actual Answer: defeat\n",
            "Q: What blocks sunshine?\n",
            "O: summer /// park /// desktop /// sea /// moon\n",
            "A:  moon /// moon\n",
            "\n",
            "\n",
            "Model: moon and Actual Answer: moon\n"
          ]
        },
        {
          "output_type": "stream",
          "name": "stderr",
          "text": [
            " 50%|████▉     | 608/1221 [01:18<01:17,  7.90it/s]"
          ]
        },
        {
          "output_type": "stream",
          "name": "stdout",
          "text": [
            "Q: When you feel too much heat in your home you can turn on what?\n",
            "O: coolness /// fan /// get wet /// coldness /// air conditioning\n",
            "A:  coolness /// coldness\n",
            "\n",
            "\n",
            "Model: coolness and Actual Answer: air conditioning\n",
            "Q: Where would you store a pillow case that is not in use?\n",
            "O: kitchen cupboard /// bedding store /// england /// drawer /// bedroom\n",
            "A:  drawer\n",
            "\n",
            "\n",
            "Model: drawer and Actual Answer: drawer\n"
          ]
        },
        {
          "output_type": "stream",
          "name": "stderr",
          "text": [
            " 50%|████▉     | 610/1221 [01:18<01:17,  7.86it/s]"
          ]
        },
        {
          "output_type": "stream",
          "name": "stdout",
          "text": [
            "Q: If the kitten was going to grow up to be a mouser like it's mother, where should it spend most of it's time?\n",
            "O: shelter /// floor /// warm place /// farmhouse /// living room\n",
            "A:  shelter /// farmhouse\n",
            "\n",
            "\n",
            "Model: shelter and Actual Answer: farmhouse\n",
            "Q: Where is that man buying silk from?\n",
            "O: space shuttle /// theater /// china /// indian resteraunt /// bar\n",
            "A:  theater /// china\n",
            "\n",
            "\n",
            "Model: theater and Actual Answer: china\n"
          ]
        },
        {
          "output_type": "stream",
          "name": "stderr",
          "text": [
            " 50%|█████     | 612/1221 [01:19<01:17,  7.84it/s]"
          ]
        },
        {
          "output_type": "stream",
          "name": "stdout",
          "text": [
            "Q: Where is a teacher likely to keep her clavichord?\n",
            "O: living room /// parlor /// music hall /// music room /// museum\n",
            "A:  music hall /// museum\n",
            "\n",
            "\n",
            "Model: music hall and Actual Answer: music room\n",
            "Q: Where are you if your bieifcase is going through an x-ray machine?\n",
            "O: luggage store /// courtroom /// airport /// office building /// hand\n",
            "A:  hand /// hand\n",
            "\n",
            "\n",
            "Model: hand and Actual Answer: airport\n"
          ]
        },
        {
          "output_type": "stream",
          "name": "stderr",
          "text": [
            " 50%|█████     | 614/1221 [01:19<01:16,  7.92it/s]"
          ]
        },
        {
          "output_type": "stream",
          "name": "stdout",
          "text": [
            "Q: They were kissing each other good bye, they had no worries because their relationship had a strong foundation of what?\n",
            "O: partner /// trust /// cooperation /// bricks /// herpes\n",
            "A:  friendship /// friendship\n",
            "\n",
            "\n",
            "Model: friendship and Actual Answer: trust\n",
            "Q: Why would you take a bus to work?\n",
            "O: commute /// flying /// get somewhere /// travel /// go home\n",
            "A:  travel /// travel\n",
            "\n",
            "\n",
            "Model: travel and Actual Answer: commute\n"
          ]
        },
        {
          "output_type": "stream",
          "name": "stderr",
          "text": [
            " 50%|█████     | 616/1221 [01:19<01:15,  7.98it/s]"
          ]
        },
        {
          "output_type": "stream",
          "name": "stdout",
          "text": [
            "Q: If you are hungry and going fishing, why would you be going fishing?\n",
            "O: to see the fish /// have fun /// catching fish /// wet clothes /// killing\n",
            "A:  catching fish\n",
            "\n",
            "\n",
            "Model: catching fish and Actual Answer: catching fish\n",
            "Q: Dogs are very loyal if they have a good owner, they will always what them?\n",
            "O: fleas /// eat cake /// attack /// defend /// run fast\n",
            "A:  defend /// run fast\n",
            "\n",
            "\n",
            "Model: defend and Actual Answer: defend\n"
          ]
        },
        {
          "output_type": "stream",
          "name": "stderr",
          "text": [
            " 51%|█████     | 618/1221 [01:19<01:16,  7.84it/s]"
          ]
        },
        {
          "output_type": "stream",
          "name": "stdout",
          "text": [
            "Q: What does a farmer need to do to make  a maze on his farm in the fall?\n",
            "O: seed plants /// plant seeds /// garden /// grow corn /// produce food\n",
            "A:  grow corn /// produce food\n",
            "\n",
            "\n",
            "Model: grow corn and Actual Answer: grow corn\n",
            "Q: For many males hair is a concern as they get older, it begins to what, causing a receding hairline?\n",
            "O: thin out /// grow in ear /// fall out /// bulge /// composted\n",
            "A:  grow in ear /// grow in ear\n",
            "\n",
            "\n",
            "Model: grow in ear and Actual Answer: fall out\n"
          ]
        },
        {
          "output_type": "stream",
          "name": "stderr",
          "text": [
            " 51%|█████     | 620/1221 [01:20<01:16,  7.88it/s]"
          ]
        },
        {
          "output_type": "stream",
          "name": "stdout",
          "text": [
            "Q: What happens someone who is bad play poker?\n",
            "O: think /// ante up /// drink /// win money /// losing money\n",
            "A:  lose money /// lose money\n",
            "\n",
            "\n",
            "Model: lose money and Actual Answer: losing money\n",
            "Q: John loved his snake.  It was the only ting he loved. He hated everyone else and was abrasive to most people, but he loved his snake.   How might you describe the snake?\n",
            "O: sun itself /// tropical forest /// pet /// rude /// sharp\n",
            "A:  rude\n",
            "\n",
            "\n",
            "Model: rude and Actual Answer: pet\n"
          ]
        },
        {
          "output_type": "stream",
          "name": "stderr",
          "text": [
            " 51%|█████     | 622/1221 [01:20<01:16,  7.83it/s]"
          ]
        },
        {
          "output_type": "stream",
          "name": "stdout",
          "text": [
            "Q: The fresh herbs, flowers, and vegetables will shrivel up if people don't do this?\n",
            "O: water plants /// believe in god /// drive to the nearest pool /// speaking english /// raise children\n",
            "A:  water plants /// believe in god\n",
            "\n",
            "\n",
            "Model: water plants and Actual Answer: water plants\n",
            "Q: I picked from an apple tree outside of Fort Wayne, where am I?\n",
            "O: woods /// illinois /// indiana /// washington state /// tampa\n",
            "A:  indiana /// washington state\n",
            "\n",
            "\n",
            "Model: indiana and Actual Answer: indiana\n"
          ]
        },
        {
          "output_type": "stream",
          "name": "stderr",
          "text": [
            " 51%|█████     | 624/1221 [01:20<01:15,  7.86it/s]"
          ]
        },
        {
          "output_type": "stream",
          "name": "stdout",
          "text": [
            "Q: The janitor never had much to clean after services, but there was still always a paper or two to pick up where?\n",
            "O: synagogue /// front porch /// classroom /// obesity /// grocery store\n",
            "A:  front porch /// classroom\n",
            "\n",
            "\n",
            "Model: front porch and Actual Answer: synagogue\n",
            "Q: If you're celebrating with too many cocktails what may you have in the morning?\n",
            "O: drunkenness /// have fun /// headache /// hang over /// intimacy\n",
            "A:  hang over\n",
            "\n",
            "\n",
            "Model: hang over and Actual Answer: hang over\n"
          ]
        },
        {
          "output_type": "stream",
          "name": "stderr",
          "text": [
            " 51%|█████▏    | 626/1221 [01:20<01:16,  7.78it/s]"
          ]
        },
        {
          "output_type": "stream",
          "name": "stdout",
          "text": [
            "Q: Danny found an old film in a sealed what?\n",
            "O: clingfilm /// disneyland /// cave /// cabinet /// movie\n",
            "A:  drawer\n",
            "\n",
            "\n",
            "Model: drawer and Actual Answer: cabinet\n",
            "Q: Where are you likely to find much more than a drop of blood on the floor?\n",
            "O: crime scene /// vein /// blood bank /// slaughter house /// needle\n",
            "A:  blood bank /// blood bank\n",
            "\n",
            "\n",
            "Model: blood bank and Actual Answer: slaughter house\n"
          ]
        },
        {
          "output_type": "stream",
          "name": "stderr",
          "text": [
            " 51%|█████▏    | 628/1221 [01:21<01:17,  7.67it/s]"
          ]
        },
        {
          "output_type": "stream",
          "name": "stdout",
          "text": [
            "Q: Where is the first place someone leaving the planet ends up?\n",
            "O: pay debts /// galaxy /// outer space /// orbit /// universe\n",
            "A:  outer space /// orbit\n",
            "\n",
            "\n",
            "Model: outer space and Actual Answer: outer space\n",
            "Q: The town house went right to the curb, a slot effectively made a mailbox of the what?\n",
            "O: apartment building /// front door /// back door /// street corner /// porch\n",
            "A:  front door /// street corner\n",
            "\n",
            "\n",
            "Model: front door and Actual Answer: front door\n"
          ]
        },
        {
          "output_type": "stream",
          "name": "stderr",
          "text": [
            " 52%|█████▏    | 630/1221 [01:21<01:16,  7.71it/s]"
          ]
        },
        {
          "output_type": "stream",
          "name": "stdout",
          "text": [
            "Q: The architect thought that a mezzanine would look good, but the planning committee rejected it.  They told the architect that they felt it was a potential hazard given the ages of the people who would be using it.  What might they be designing?\n",
            "O: actors /// theater /// concert hall /// floors /// school\n",
            "A:  theater /// floor\n",
            "\n",
            "\n",
            "Model: theater and Actual Answer: school\n",
            "Q: The person wasn't bothered by the weather, she had remembered to bring her what?\n",
            "O: read book /// own house /// apartment /// more rice /// warm coat\n",
            "A:  cooler coat\n",
            "\n",
            "\n",
            "Model: cooler coat and Actual Answer: warm coat\n"
          ]
        },
        {
          "output_type": "stream",
          "name": "stderr",
          "text": [
            " 52%|█████▏    | 632/1221 [01:21<01:16,  7.72it/s]"
          ]
        },
        {
          "output_type": "stream",
          "name": "stdout",
          "text": [
            "Q: If you want to learn about the world and understand the real reasons behind cultural norms and mores, you have achieved a sense of what?\n",
            "O: enlightenment /// open mind /// confusion /// smartness /// anger\n",
            "A:  enlightenment /// confusion\n",
            "\n",
            "\n",
            "Model: enlightenment and Actual Answer: enlightenment\n",
            "Q: What is the hopeful result of going to see a play?\n",
            "O: sit /// being entertained /// jobless /// meet /// laugh\n",
            "A:  jobless /// laugh\n",
            "\n",
            "\n",
            "Model: jobless and Actual Answer: being entertained\n"
          ]
        },
        {
          "output_type": "stream",
          "name": "stderr",
          "text": [
            " 52%|█████▏    | 634/1221 [01:21<01:15,  7.83it/s]"
          ]
        },
        {
          "output_type": "stream",
          "name": "stdout",
          "text": [
            "Q: A person would join a trade school for finding information related to what?\n",
            "O: ulcers /// degree /// understanding of /// gaining knowledge /// happiness\n",
            "A:  understanding of /// understanding of\n",
            "\n",
            "\n",
            "Model: understanding of and Actual Answer: gaining knowledge\n",
            "Q: Joan was a baby, so there were many things she couldn't do, which caused problems for her parents.  Name one thing that makes raising a baby difficult.\n",
            "O: arrive early /// learn to walk /// boy or girl /// bring joy /// talk nonsense\n",
            "A:  learn to walk /// talk nonsense\n",
            "\n",
            "\n",
            "Model: learn to walk and Actual Answer: talk nonsense\n"
          ]
        },
        {
          "output_type": "stream",
          "name": "stderr",
          "text": [
            " 52%|█████▏    | 636/1221 [01:22<01:14,  7.85it/s]"
          ]
        },
        {
          "output_type": "stream",
          "name": "stdout",
          "text": [
            "Q: Where would you put some ham if you want to cook it?\n",
            "O: hamshackle /// pizza /// fridge /// refrigerator /// part of meal\n",
            "A:  fridge /// part of meal\n",
            "\n",
            "\n",
            "Model: fridge and Actual Answer: pizza\n",
            "Q: Running errands with screaming kids will likely cause what?\n",
            "O: efficiency /// insanity /// aggravation /// tiredness /// stress\n",
            "A:  tiredness\n",
            "\n",
            "\n",
            "Model: tiredness and Actual Answer: aggravation\n"
          ]
        },
        {
          "output_type": "stream",
          "name": "stderr",
          "text": [
            " 52%|█████▏    | 638/1221 [01:22<01:13,  7.89it/s]"
          ]
        },
        {
          "output_type": "stream",
          "name": "stdout",
          "text": [
            "Q: Sam wasn't lying, but he left out important details. He was being what?\n",
            "O: dishonesty /// deceitful /// imagination /// deceptive /// poker face\n",
            "A:  deception /// deception\n",
            "\n",
            "\n",
            "Model: deception and Actual Answer: deceitful\n",
            "Q: what does someone have that causes them committing murder?\n",
            "O: problems /// distress /// fear /// go to jail /// killer\n",
            "A:  fear /// go to jail\n",
            "\n",
            "\n",
            "Model: fear and Actual Answer: problems\n"
          ]
        },
        {
          "output_type": "stream",
          "name": "stderr",
          "text": [
            " 52%|█████▏    | 640/1221 [01:22<01:13,  7.92it/s]"
          ]
        },
        {
          "output_type": "stream",
          "name": "stdout",
          "text": [
            "Q: What kind of place has a leader?\n",
            "O: army /// battle /// wildlife /// country /// organization\n",
            "A:  army /// country\n",
            "\n",
            "\n",
            "Model: army and Actual Answer: country\n",
            "Q: How is a person likely to communicatewith others?\n",
            "O: say words /// meet friends /// open mouth /// thank god /// die of cancer\n",
            "A:  say words /// open mouth /// thank god\n",
            "\n",
            "\n",
            "Model: say words and Actual Answer: say words\n"
          ]
        },
        {
          "output_type": "stream",
          "name": "stderr",
          "text": [
            " 53%|█████▎    | 642/1221 [01:22<01:13,  7.88it/s]"
          ]
        },
        {
          "output_type": "stream",
          "name": "stdout",
          "text": [
            "Q: Where may you be if you're buying pork chops at a corner shop?\n",
            "O: england /// town /// desert /// kentucky /// iowa\n",
            "A:  england /// town /// iowa\n",
            "\n",
            "\n",
            "Model: england and Actual Answer: iowa\n",
            "Q: Where is a well used toy car likely to be found?\n",
            "O: child's room /// boy's bedroom /// own home /// toy store /// house\n",
            "A:  toy store /// house\n",
            "\n",
            "\n",
            "Model: toy store and Actual Answer: child's room\n"
          ]
        },
        {
          "output_type": "stream",
          "name": "stderr",
          "text": [
            " 53%|█████▎    | 644/1221 [01:23<01:13,  7.86it/s]"
          ]
        },
        {
          "output_type": "stream",
          "name": "stdout",
          "text": [
            "Q: Where can fisherman store their rods when on a fishing trip?\n",
            "O: hardware store /// engine /// fishing camp /// lake /// sporting goods store\n",
            "A:  fishing camp /// lake\n",
            "\n",
            "\n",
            "Model: fishing camp and Actual Answer: fishing camp\n",
            "Q: Danny is having fun just dancing and singing with his friends. He wasn't concerned with things that weren't fun. For him having fun is the same as what?\n",
            "O: injuries /// smiling /// being happy /// glee /// jump\n",
            "A:  glee\n",
            "\n",
            "\n",
            "Model: glee and Actual Answer: being happy\n"
          ]
        },
        {
          "output_type": "stream",
          "name": "stderr",
          "text": [
            " 53%|█████▎    | 646/1221 [01:23<01:12,  7.88it/s]"
          ]
        },
        {
          "output_type": "stream",
          "name": "stdout",
          "text": [
            "Q: Where would you find an office worker gossiping with their colleagues?\n",
            "O: water cooler /// space shuttle /// baby shower /// bus stop /// family\n",
            "A:  bus stop\n",
            "\n",
            "\n",
            "Model: bus stop and Actual Answer: water cooler\n",
            "Q: Where would you put nails if they are already packaged?\n",
            "O: pocket /// container /// cabinet /// jar /// store\n",
            "A:  cabinet /// jar\n",
            "\n",
            "\n",
            "Model: cabinet and Actual Answer: cabinet\n"
          ]
        },
        {
          "output_type": "stream",
          "name": "stderr",
          "text": [
            " 53%|█████▎    | 648/1221 [01:23<01:12,  7.88it/s]"
          ]
        },
        {
          "output_type": "stream",
          "name": "stdout",
          "text": [
            "Q: What is a person who is good at sports considered?\n",
            "O: lazy /// own house /// talented /// affluent /// reproduce\n",
            "A:  wealthy /// rich\n",
            "\n",
            "\n",
            "Model: wealthy and Actual Answer: talented\n",
            "Q: The man acted ridiculous at the funeral, what attitude should he have taken?\n",
            "O: straightforward /// serious /// solemn /// somber /// funny\n",
            "A:  solemn /// somber\n",
            "\n",
            "\n",
            "Model: solemn and Actual Answer: solemn\n"
          ]
        },
        {
          "output_type": "stream",
          "name": "stderr",
          "text": [
            " 53%|█████▎    | 650/1221 [01:23<01:12,  7.91it/s]"
          ]
        },
        {
          "output_type": "stream",
          "name": "stdout",
          "text": [
            "Q: The pencil sharpener was broken in the classroom, where did the teacher recommend the student go?\n",
            "O: home /// library /// stationery store /// cabinet /// desk drawer\n",
            "A:  desk drawer\n",
            "\n",
            "\n",
            "Model: desk drawer and Actual Answer: library\n",
            "Q: Where does a child likely sit at a desk?\n",
            "O: furniture store /// schoolroom /// patio /// office building /// library\n",
            "A:  library /// office building\n",
            "\n",
            "\n",
            "Model: library and Actual Answer: schoolroom\n"
          ]
        },
        {
          "output_type": "stream",
          "name": "stderr",
          "text": [
            " 53%|█████▎    | 652/1221 [01:24<01:12,  7.89it/s]"
          ]
        },
        {
          "output_type": "stream",
          "name": "stdout",
          "text": [
            "Q: He was trying to procreate with many individuals, this led to a what?\n",
            "O: moaning /// die /// kiss /// std /// sanity\n",
            "A:  die /// kiss\n",
            "\n",
            "\n",
            "Model: die and Actual Answer: std\n",
            "Q: What does playing soccer and winning lead to?\n",
            "O: excitement /// getting tired /// overtime /// anger /// fights\n",
            "A:  excitement /// anger\n",
            "\n",
            "\n",
            "Model: excitement and Actual Answer: excitement\n"
          ]
        },
        {
          "output_type": "stream",
          "name": "stderr",
          "text": [
            " 54%|█████▎    | 654/1221 [01:24<01:11,  7.92it/s]"
          ]
        },
        {
          "output_type": "stream",
          "name": "stdout",
          "text": [
            "Q: What attraction is sometimes so large that you need a map to find your way around?\n",
            "O: amusement park /// truck stop /// mcdonalds /// backpack /// classroom\n",
            "A:  backpack\n",
            "\n",
            "\n",
            "Model: backpack and Actual Answer: amusement park\n",
            "Q: If my husband never helps me doing housework, what might that lead to?\n",
            "O: boredom /// arguments /// headache /// exhaustion /// park\n",
            "A:  boredom /// headache\n",
            "\n",
            "\n",
            "Model: boredom and Actual Answer: arguments\n"
          ]
        },
        {
          "output_type": "stream",
          "name": "stderr",
          "text": [
            " 54%|█████▎    | 656/1221 [01:24<01:12,  7.75it/s]"
          ]
        },
        {
          "output_type": "stream",
          "name": "stdout",
          "text": [
            "Q: The advertisement came in the form of a pop-up, where did it appear?\n",
            "O: web page /// store /// la ville /// bus /// email\n",
            "A:  bus /// bus\n",
            "\n",
            "\n",
            "Model: bus and Actual Answer: web page\n",
            "Q: WHere do people live?\n",
            "O: apartment /// eat cake /// bus depot /// football stadium /// surface of earth\n",
            "A:  apartment /// surface of earth\n",
            "\n",
            "\n",
            "Model: apartment and Actual Answer: surface of earth\n"
          ]
        },
        {
          "output_type": "stream",
          "name": "stderr",
          "text": [
            " 54%|█████▍    | 658/1221 [01:24<01:14,  7.57it/s]"
          ]
        },
        {
          "output_type": "stream",
          "name": "stdout",
          "text": [
            "Q: People are what when you're a stranger?\n",
            "O: train /// strange /// human /// stupid /// dangerous\n",
            "A:  stupid\n",
            "\n",
            "\n",
            "Model: stupid and Actual Answer: strange\n",
            "Q: The juror was quite bored and zoning out but wanted to convey he was hearing testimony, so he just sat there doing what?\n",
            "O: take notes /// nodding /// change of heart /// writing down /// listening\n",
            "A:  change of heart /// listening\n",
            "\n",
            "\n",
            "Model: change of heart and Actual Answer: nodding\n"
          ]
        },
        {
          "output_type": "stream",
          "name": "stderr",
          "text": [
            " 54%|█████▍    | 660/1221 [01:25<01:13,  7.61it/s]"
          ]
        },
        {
          "output_type": "stream",
          "name": "stdout",
          "text": [
            "Q: They wanted to try blowfish, so they went to get some where?\n",
            "O: atlantic ocean /// books /// france /// aquarium /// fish market\n",
            "A:  aquarium /// fish market\n",
            "\n",
            "\n",
            "Model: aquarium and Actual Answer: fish market\n",
            "Q: When a main artery is used to expedite travel what would it be referred to as?\n",
            "O: neck /// busy city /// own brain /// thruway /// food\n",
            "A:  busy city /// road\n",
            "\n",
            "\n",
            "Model: busy city and Actual Answer: thruway\n"
          ]
        },
        {
          "output_type": "stream",
          "name": "stderr",
          "text": [
            " 54%|█████▍    | 662/1221 [01:25<01:11,  7.77it/s]"
          ]
        },
        {
          "output_type": "stream",
          "name": "stdout",
          "text": [
            "Q: If someone rules the universe of what are they in charge?\n",
            "O: classroom /// football game /// everything /// text book /// lawbook\n",
            "A:  law book /// text book\n",
            "\n",
            "\n",
            "Model: law book and Actual Answer: everything\n",
            "Q: The butt was bare, and Sam couldn't stop staring at it.  It was very what?\n",
            "O: full /// ample /// covered /// bareword /// ample\n",
            "A:  bareword\n",
            "\n",
            "\n",
            "Model: bareword and Actual Answer: ample\n"
          ]
        },
        {
          "output_type": "stream",
          "name": "stderr",
          "text": [
            " 54%|█████▍    | 664/1221 [01:25<01:13,  7.61it/s]"
          ]
        },
        {
          "output_type": "stream",
          "name": "stdout",
          "text": [
            "Q: Where can many stores with clothing be found?\n",
            "O: shop /// mall /// department store /// drawer /// library\n",
            "A:  library /// drawer\n",
            "\n",
            "\n",
            "Model: library and Actual Answer: mall\n",
            "Q: After working on the car, what did it end up doing?\n",
            "O: going too fast /// last several years /// honk the horn /// go fast /// start running\n",
            "A:  honk the horn /// go fast\n",
            "\n",
            "\n",
            "Model: honk the horn and Actual Answer: start running\n"
          ]
        },
        {
          "output_type": "stream",
          "name": "stderr",
          "text": [
            " 55%|█████▍    | 666/1221 [01:26<01:12,  7.61it/s]"
          ]
        },
        {
          "output_type": "stream",
          "name": "stdout",
          "text": [
            "Q: When an elderly person needs help performing daily tasks, who might they call?\n",
            "O: creativity /// hatred /// caregiver /// own house /// much money\n",
            "A:  own house /// own house\n",
            "\n",
            "\n",
            "Model: own house and Actual Answer: caregiver\n",
            "Q: Where is beer drank by people watching sticks and pucks?\n",
            "O: bottle /// refrigerator /// hockey game /// casino /// bar\n",
            "A:  hockey game\n",
            "\n",
            "\n",
            "Model: hockey game and Actual Answer: hockey game\n"
          ]
        },
        {
          "output_type": "stream",
          "name": "stderr",
          "text": [
            " 55%|█████▍    | 668/1221 [01:26<01:11,  7.69it/s]"
          ]
        },
        {
          "output_type": "stream",
          "name": "stdout",
          "text": [
            "Q: Where is there a telephone book in almost every room?\n",
            "O: at hotel /// house /// library /// bedsit /// closet\n",
            "A:  closet /// closet\n",
            "\n",
            "\n",
            "Model: closet and Actual Answer: at hotel\n",
            "Q: Where might you see a green field while driving?\n",
            "O: kansas /// meadow /// farmland /// countryside /// rural area\n",
            "A:  countryside /// rural area\n",
            "\n",
            "\n",
            "Model: countryside and Actual Answer: countryside\n"
          ]
        },
        {
          "output_type": "stream",
          "name": "stderr",
          "text": [
            " 55%|█████▍    | 670/1221 [01:26<01:10,  7.80it/s]"
          ]
        },
        {
          "output_type": "stream",
          "name": "stdout",
          "text": [
            "Q: Some people got escorted out of the library, they were probably what?\n",
            "O: state facts /// talking loudly /// making money /// amount to nothing /// believe in god\n",
            "A:  state facts /// believe in god\n",
            "\n",
            "\n",
            "Model: state facts and Actual Answer: talking loudly\n",
            "Q: If there is a pond with trees around it, where it it likely located?\n",
            "O: ground /// bathroom /// forest /// countryside /// rural area\n",
            "A:  countryside /// countryside\n",
            "\n",
            "\n",
            "Model: countryside and Actual Answer: forest\n"
          ]
        },
        {
          "output_type": "stream",
          "name": "stderr",
          "text": [
            " 55%|█████▌    | 672/1221 [01:26<01:10,  7.79it/s]"
          ]
        },
        {
          "output_type": "stream",
          "name": "stdout",
          "text": [
            "Q: Blowfish require what specific thing to live?\n",
            "O: sea water /// hatred /// fish market /// body of water /// jungle\n",
            "A:  jungle\n",
            "\n",
            "\n",
            "Model: jungle and Actual Answer: sea water\n",
            "Q: What is the least likely immediate side effect of eating hamburger?\n",
            "O: nausea /// death /// illness /// health problems /// gain weight\n",
            "A:  health problems /// gain weight\n",
            "\n",
            "\n",
            "Model: health problems and Actual Answer: death\n"
          ]
        },
        {
          "output_type": "stream",
          "name": "stderr",
          "text": [
            " 55%|█████▌    | 674/1221 [01:27<01:09,  7.88it/s]"
          ]
        },
        {
          "output_type": "stream",
          "name": "stdout",
          "text": [
            "Q: What would I be doing while going to work and walking?\n",
            "O: listen to radio /// solve problems /// driving /// walk /// being late\n",
            "A:  being late\n",
            "\n",
            "\n",
            "Model: being late and Actual Answer: listen to radio\n",
            "Q: A showroom feature washers and refrigerators, where is this showroom located?\n",
            "O: appliance store /// vegas /// electronics store /// car dealership /// kitchen\n",
            "A:  appliance store /// car dealership\n",
            "\n",
            "\n",
            "Model: appliance store and Actual Answer: appliance store\n"
          ]
        },
        {
          "output_type": "stream",
          "name": "stderr",
          "text": [
            " 55%|█████▌    | 676/1221 [01:27<01:08,  7.94it/s]"
          ]
        },
        {
          "output_type": "stream",
          "name": "stdout",
          "text": [
            "Q: The man often made smart remarks, like that any restaurant is a mexican restaurant where?\n",
            "O: city /// mexica /// san diego /// spain /// mexico\n",
            "A:  city /// spain\n",
            "\n",
            "\n",
            "Model: city and Actual Answer: mexico\n",
            "Q: I am looking for honey right from the source, where should I look?\n",
            "O: last all night /// beehive /// farmer's market /// jar /// honeyful\n",
            "A:  jar /// jar\n",
            "\n",
            "\n",
            "Model: jar and Actual Answer: beehive\n"
          ]
        },
        {
          "output_type": "stream",
          "name": "stderr",
          "text": [
            " 56%|█████▌    | 678/1221 [01:27<01:08,  7.95it/s]"
          ]
        },
        {
          "output_type": "stream",
          "name": "stdout",
          "text": [
            "Q: Where are there likely to be a variety of flats to choose from?\n",
            "O: london /// apartment building /// city /// falling down /// town\n",
            "A:  apartment building /// city\n",
            "\n",
            "\n",
            "Model: apartment building and Actual Answer: city\n",
            "Q: A weasel has a thin body and short legs to easier burrow after prey in a what?\n",
            "O: tree /// mulberry bush /// chicken coop /// viking ship /// rabbit warren\n",
            "A:  rabbit warren\n",
            "\n",
            "\n",
            "Model: rabbit warren and Actual Answer: rabbit warren\n"
          ]
        },
        {
          "output_type": "stream",
          "name": "stderr",
          "text": [
            " 56%|█████▌    | 680/1221 [01:27<01:08,  7.86it/s]"
          ]
        },
        {
          "output_type": "stream",
          "name": "stdout",
          "text": [
            "Q: What can disease destroy?\n",
            "O: rug /// third world country /// human body /// hospital /// building\n",
            "A:  human body /// building\n",
            "\n",
            "\n",
            "Model: human body and Actual Answer: human body\n",
            "Q: What does a person from Avalon live in?\n",
            "O: pain /// meaningful work /// english house /// cotton candy /// headache\n",
            "A:  meaningful work /// cotton candy\n",
            "\n",
            "\n",
            "Model: meaningful work and Actual Answer: english house\n"
          ]
        },
        {
          "output_type": "stream",
          "name": "stderr",
          "text": [
            " 56%|█████▌    | 682/1221 [01:28<01:08,  7.87it/s]"
          ]
        },
        {
          "output_type": "stream",
          "name": "stdout",
          "text": [
            "Q: Where is one likely to find a fan for their stove?\n",
            "O: appliance store /// sports stadium /// dress emporium /// hot room /// football stadium\n",
            "A:  hot room /// dress emporium\n",
            "\n",
            "\n",
            "Model: hot room and Actual Answer: appliance store\n",
            "Q: Jodie felt a tightness in her chest. She was worried but didn't want to go to the hospital. Where might she go instead?\n",
            "O: istanbul /// concert /// bedroom /// antique shop /// human being\n",
            "A:  human being\n",
            "\n",
            "\n",
            "Model: human being and Actual Answer: bedroom\n"
          ]
        },
        {
          "output_type": "stream",
          "name": "stderr",
          "text": [
            " 56%|█████▌    | 684/1221 [01:28<01:08,  7.82it/s]"
          ]
        },
        {
          "output_type": "stream",
          "name": "stdout",
          "text": [
            "Q: If you're buying beer for a float trip what are you preparing to do?\n",
            "O: get arrested /// have fun /// get sick /// spend money /// stupidity\n",
            "A:  spend money /// spend money\n",
            "\n",
            "\n",
            "Model: spend money and Actual Answer: have fun\n",
            "Q: Piece of land in Canada where you can find marmot?\n",
            "O: north america /// united states /// vancouver island /// american /// cage\n",
            "A:  united states /// united states\n",
            "\n",
            "\n",
            "Model: united states and Actual Answer: vancouver island\n"
          ]
        },
        {
          "output_type": "stream",
          "name": "stderr",
          "text": [
            " 56%|█████▌    | 686/1221 [01:28<01:09,  7.75it/s]"
          ]
        },
        {
          "output_type": "stream",
          "name": "stdout",
          "text": [
            "Q: The surgeon's clients had begun to reduce, it seemed girls no longer want to what?\n",
            "O: reduction /// make larger /// augment /// gain weight /// expand\n",
            "A:  enlarge /// enlarge /// enlarge\n",
            "\n",
            "\n",
            "Model: enlarge and Actual Answer: augment\n",
            "Q: While waiting for this appointment, people often read magazines.\n",
            "O: doctor /// train station /// newsagent /// market /// table\n",
            "A:  doctor /// table\n",
            "\n",
            "\n",
            "Model: doctor and Actual Answer: doctor\n"
          ]
        },
        {
          "output_type": "stream",
          "name": "stderr",
          "text": [
            " 56%|█████▋    | 688/1221 [01:28<01:09,  7.70it/s]"
          ]
        },
        {
          "output_type": "stream",
          "name": "stdout",
          "text": [
            "Q: Where would you find a fox that is made up?\n",
            "O: storybook /// woods /// hen house /// natural habitat /// back yard\n",
            "A:  back yard /// backyard\n",
            "\n",
            "\n",
            "Model: back yard and Actual Answer: storybook\n",
            "Q: In basic training they build you up only to do what, all in hopes of building you up even stronger the next time?\n",
            "O: destroying /// tear down /// raze /// mutilate /// demolition\n",
            "A:  tear down /// destroy\n",
            "\n",
            "\n",
            "Model: tear down and Actual Answer: tear down\n"
          ]
        },
        {
          "output_type": "stream",
          "name": "stderr",
          "text": [
            " 57%|█████▋    | 690/1221 [01:29<01:08,  7.79it/s]"
          ]
        },
        {
          "output_type": "stream",
          "name": "stdout",
          "text": [
            "Q: Billy saw a dog running from him and did his best to get away from it.  The leaped up to where the dog couldn't reach and was stuck.  Where might he have been trapped?\n",
            "O: kennel /// table /// porch /// backyard /// park\n",
            "A:  porch /// backyard\n",
            "\n",
            "\n",
            "Model: porch and Actual Answer: table\n",
            "Q: John and Judy were parents.  They had two wonderful kids who weren't always well behaved.  They were light tough, though.  They felt it was a parent's job to do what?\n",
            "O: control children /// guide children /// speak freely /// cry /// understand children\n",
            "A:  control children /// speak freely\n",
            "\n",
            "\n",
            "Model: control children and Actual Answer: guide children\n"
          ]
        },
        {
          "output_type": "stream",
          "name": "stderr",
          "text": [
            " 57%|█████▋    | 692/1221 [01:29<01:07,  7.81it/s]"
          ]
        },
        {
          "output_type": "stream",
          "name": "stdout",
          "text": [
            "Q: What are you playing if you're fiddling on a violin?\n",
            "O: bluegrass music /// make music /// drop /// string instrument /// troubles\n",
            "A:  string instrument /// troubles\n",
            "\n",
            "\n",
            "Model: string instrument and Actual Answer: bluegrass music\n",
            "Q: If somebody buys something and gives it to me as a free gift, what is the cost status of the gift?\n",
            "O: deadly /// imprisoned /// paid for /// expensive /// in prison\n",
            "A:  paid for\n",
            "\n",
            "\n",
            "Model: paid for and Actual Answer: paid for\n"
          ]
        },
        {
          "output_type": "stream",
          "name": "stderr",
          "text": [
            " 57%|█████▋    | 694/1221 [01:29<01:07,  7.83it/s]"
          ]
        },
        {
          "output_type": "stream",
          "name": "stdout",
          "text": [
            "Q: Why does someone flirt with many people at once?\n",
            "O: have sex /// get laid /// were lonely /// attract attention /// dance\n",
            "A:  attract attention /// attract attention\n",
            "\n",
            "\n",
            "Model: attract attention and Actual Answer: attract attention\n",
            "Q: James tore the antenna off of his boat due to bad reception as he was crossing the channel from France.  Where was he going?\n",
            "O: river /// television /// india /// england /// europe\n",
            "A:  england /// england\n",
            "\n",
            "\n",
            "Model: england and Actual Answer: england\n"
          ]
        },
        {
          "output_type": "stream",
          "name": "stderr",
          "text": [
            " 57%|█████▋    | 696/1221 [01:29<01:07,  7.82it/s]"
          ]
        },
        {
          "output_type": "stream",
          "name": "stdout",
          "text": [
            "Q: Why would a band be performing when there are no people nearby?\n",
            "O: record album /// play music /// hold concert /// blaring /// practice\n",
            "A:  blaring music /// practice\n",
            "\n",
            "\n",
            "Model: blaring music and Actual Answer: record album\n",
            "Q: The dogs were protecting their own when they decided to what the bad man?\n",
            "O: bad breath /// defend /// run fast /// ocean /// attack\n",
            "A:  defend /// run fast\n",
            "\n",
            "\n",
            "Model: defend and Actual Answer: attack\n"
          ]
        },
        {
          "output_type": "stream",
          "name": "stderr",
          "text": [
            " 57%|█████▋    | 698/1221 [01:30<01:06,  7.84it/s]"
          ]
        },
        {
          "output_type": "stream",
          "name": "stdout",
          "text": [
            "Q: What is used to grind wheat for bread?\n",
            "O: farmer's field /// countryside /// cereal packets /// bread /// mill\n",
            "A:  farmer's field /// mill\n",
            "\n",
            "\n",
            "Model: farmer's field and Actual Answer: mill\n",
            "Q: If you have a large satchel with you when you fly you'll be asked to store it where?\n",
            "O: airport /// luggage compartment /// with the pilot /// room /// clothing store\n",
            "A:  luggage compartment /// luggage compartment\n",
            "\n",
            "\n",
            "Model: luggage compartment and Actual Answer: luggage compartment\n"
          ]
        },
        {
          "output_type": "stream",
          "name": "stderr",
          "text": [
            " 57%|█████▋    | 700/1221 [01:30<01:06,  7.87it/s]"
          ]
        },
        {
          "output_type": "stream",
          "name": "stdout",
          "text": [
            "Q: Where would someone keep their nylon leggings?\n",
            "O: stockings /// rope /// car /// clothing /// drawer\n",
            "A:  stockings /// clothing\n",
            "\n",
            "\n",
            "Model: stockings and Actual Answer: drawer\n",
            "Q: If you spend a long time running after a ball how are you likely to feel?\n",
            "O: laughter /// sweating /// embarrassed /// breathing heavily /// tiredness\n",
            "A:  tiredness\n",
            "\n",
            "\n",
            "Model: tiredness and Actual Answer: tiredness\n"
          ]
        },
        {
          "output_type": "stream",
          "name": "stderr",
          "text": [
            " 57%|█████▋    | 702/1221 [01:30<01:06,  7.82it/s]"
          ]
        },
        {
          "output_type": "stream",
          "name": "stdout",
          "text": [
            "Q: When you need to rest it's often because you have been doing what?\n",
            "O: action /// sleep /// sleeping /// in motion /// using energy\n",
            "A:  sleeping /// sleep\n",
            "\n",
            "\n",
            "Model: sleeping and Actual Answer: using energy\n",
            "Q: Boredom and hunger led to a wandering waste of time and a cart full of unhealthy snacks during her trip to where?\n",
            "O: new moon /// play cards /// read book /// see art /// grocery shop\n",
            "A:  grocery shop\n",
            "\n",
            "\n",
            "Model: grocery shop and Actual Answer: grocery shop\n"
          ]
        },
        {
          "output_type": "stream",
          "name": "stderr",
          "text": [
            " 58%|█████▊    | 704/1221 [01:30<01:05,  7.87it/s]"
          ]
        },
        {
          "output_type": "stream",
          "name": "stdout",
          "text": [
            "Q: He was beginning to worry they wouldn't get on the ride before closing, they had been standing in queue for a long what?\n",
            "O: frustration /// waiting /// hair /// time /// patience\n",
            "A:  waiting /// time\n",
            "\n",
            "\n",
            "Model: waiting and Actual Answer: time\n",
            "Q: This is an unavoidable physiological consequence of running.  What is it?\n",
            "O: breathlessness /// increased heart rate /// falling down /// muscle bulk /// calluses\n",
            "A:  breathinglessness /// calluses\n",
            "\n",
            "\n",
            "Model: breathinglessness and Actual Answer: increased heart rate\n"
          ]
        },
        {
          "output_type": "stream",
          "name": "stderr",
          "text": [
            " 58%|█████▊    | 706/1221 [01:31<01:04,  7.94it/s]"
          ]
        },
        {
          "output_type": "stream",
          "name": "stdout",
          "text": [
            "Q: Sometimes a person has a fear of water or a dislike of being wet, it is still important to make sure they are having a bath why?\n",
            "O: flooding /// drowning /// wet skin /// get wet /// rash\n",
            "A:  getting wet\n",
            "\n",
            "\n",
            "Model: getting wet and Actual Answer: rash\n",
            "Q: Where would there be an auditorium with only a single person speaking?\n",
            "O: lights /// crowd /// university campus /// theater /// park\n",
            "A:  theater /// auditorium\n",
            "\n",
            "\n",
            "Model: theater and Actual Answer: university campus\n"
          ]
        },
        {
          "output_type": "stream",
          "name": "stderr",
          "text": [
            " 58%|█████▊    | 708/1221 [01:31<01:04,  7.95it/s]"
          ]
        },
        {
          "output_type": "stream",
          "name": "stdout",
          "text": [
            "Q: To get out of there the person had to keep on walking, they had to keep on what?\n",
            "O: moving forward /// locomotion /// blisters /// rollerskate /// exercise\n",
            "A:  locomotion /// rollerskate\n",
            "\n",
            "\n",
            "Model: locomotion and Actual Answer: moving forward\n",
            "Q: What very large group of western citizens has bees everywhere?\n",
            "O: united states /// space station /// trash can /// field of flowers /// bouquet of flowers\n",
            "A:  bouquet of flowers\n",
            "\n",
            "\n",
            "Model: bouquet of flowers and Actual Answer: united states\n"
          ]
        },
        {
          "output_type": "stream",
          "name": "stderr",
          "text": [
            " 58%|█████▊    | 710/1221 [01:31<01:04,  7.94it/s]"
          ]
        },
        {
          "output_type": "stream",
          "name": "stdout",
          "text": [
            "Q: Miss Grady took a stick from Bob because he was playing with it during class.  She wanted to make sure that he couldn't get to it so she put it where?\n",
            "O: desk drawer /// kitchen drawer /// classroom /// pocket /// office\n",
            "A:  desk drawer /// pocket\n",
            "\n",
            "\n",
            "Model: desk drawer and Actual Answer: desk drawer\n",
            "Q: How does a person begin reproducing?\n",
            "O: genetic mutation /// have sex /// kiss /// flirting /// going on a date\n",
            "A:  have sex /// flirting /// date\n",
            "\n",
            "\n",
            "Model: have sex and Actual Answer: have sex\n"
          ]
        },
        {
          "output_type": "stream",
          "name": "stderr",
          "text": [
            " 58%|█████▊    | 712/1221 [01:31<01:05,  7.75it/s]"
          ]
        },
        {
          "output_type": "stream",
          "name": "stdout",
          "text": [
            "Q: Joe and Jill didn't want their children to be sedentary.  They might limit the time they children spend doing what?\n",
            "O: play sports /// throw things /// reading /// watch tv /// play with toys\n",
            "A:  play with toys /// play with toys\n",
            "\n",
            "\n",
            "Model: play with toys and Actual Answer: watch tv\n",
            "Q: They were making sauerkraut, the instructor explained the liquid should be above the cabbage in the what?\n",
            "O: jar /// drinking glass /// pot /// container /// can\n",
            "A:  jar /// container\n",
            "\n",
            "\n",
            "Model: jar and Actual Answer: jar\n"
          ]
        },
        {
          "output_type": "stream",
          "name": "stderr",
          "text": [
            " 58%|█████▊    | 714/1221 [01:32<01:04,  7.88it/s]"
          ]
        },
        {
          "output_type": "stream",
          "name": "stdout",
          "text": [
            "Q: From where would you normally take a cup when you're about to get a drink?\n",
            "O: dishwasher /// water fountain /// sand box /// toilet /// kitchen cabinet\n",
            "A:  water fountain /// toilet\n",
            "\n",
            "\n",
            "Model: water fountain and Actual Answer: kitchen cabinet\n",
            "Q: What are you using if there are speakers strapped on your ears?\n",
            "O: take it all in /// headphones /// desktop /// conference /// concert\n",
            "A:  conference /// headphones\n",
            "\n",
            "\n",
            "Model: conference and Actual Answer: headphones\n"
          ]
        },
        {
          "output_type": "stream",
          "name": "stderr",
          "text": [
            " 59%|█████▊    | 716/1221 [01:32<01:03,  7.93it/s]"
          ]
        },
        {
          "output_type": "stream",
          "name": "stdout",
          "text": [
            "Q: Because of his anger he couldn't clearly explain or what?\n",
            "O: cool off /// write letter /// get mad /// illustrate point /// destroy enemy\n",
            "A:  cool off /// write letter\n",
            "\n",
            "\n",
            "Model: cool off and Actual Answer: illustrate point\n",
            "Q: Where is likely to not just have a kosher restaurant?\n",
            "O: jerusalem /// jewish neighborhoods /// dining in /// new york city /// dining\n",
            "A:  new york city /// dining in\n",
            "\n",
            "\n",
            "Model: new york city and Actual Answer: new york city\n"
          ]
        },
        {
          "output_type": "stream",
          "name": "stderr",
          "text": [
            " 59%|█████▉    | 718/1221 [01:32<01:03,  7.91it/s]"
          ]
        },
        {
          "output_type": "stream",
          "name": "stdout",
          "text": [
            "Q: The bald eagle flew from Mount St Helen's to the Puget Sound and all over what?\n",
            "O: washington state /// utah /// pacific northwest /// northern california /// the desert\n",
            "A:  pacific northwest /// northern california\n",
            "\n",
            "\n",
            "Model: pacific northwest and Actual Answer: washington state\n",
            "Q: Where could you get some knives if you are planning to bring them outside with you?\n",
            "O: sporting goods store /// backpack /// kitchen /// sharp edges /// dog house\n",
            "A:  kitchen\n",
            "\n",
            "\n",
            "Model: kitchen and Actual Answer: kitchen\n"
          ]
        },
        {
          "output_type": "stream",
          "name": "stderr",
          "text": [
            " 59%|█████▉    | 720/1221 [01:32<01:03,  7.92it/s]"
          ]
        },
        {
          "output_type": "stream",
          "name": "stdout",
          "text": [
            "Q: How can people fulfill their own calorie requirements?\n",
            "O: compete with each other /// feed themselves /// feel lonely /// talk to each other /// ask a doctor\n",
            "A:  feel lonely /// ask a doctor\n",
            "\n",
            "\n",
            "Model: feel lonely and Actual Answer: feed themselves\n",
            "Q: What does a stove do to the place that it's in?\n",
            "O: cool house /// warm room /// gas or electric /// burn child /// brown meat\n",
            "A:  cool room /// gas or electric\n",
            "\n",
            "\n",
            "Model: cool room and Actual Answer: warm room\n"
          ]
        },
        {
          "output_type": "stream",
          "name": "stderr",
          "text": [
            " 59%|█████▉    | 722/1221 [01:33<01:03,  7.86it/s]"
          ]
        },
        {
          "output_type": "stream",
          "name": "stdout",
          "text": [
            "Q: What is the best way to begin going into trance?\n",
            "O: religious experience /// closed eyes /// loss of control /// sleep /// hallucination\n",
            "A:  hallucination\n",
            "\n",
            "\n",
            "Model: hallucination and Actual Answer: closed eyes\n",
            "Q: A computer user working on an important work assignment is located in what structure?\n",
            "O: office building /// internet cafe /// house /// school /// internet cafe\n",
            "A:  office building /// internet cafe\n",
            "\n",
            "\n",
            "Model: office building and Actual Answer: office building\n"
          ]
        },
        {
          "output_type": "stream",
          "name": "stderr",
          "text": [
            " 59%|█████▉    | 724/1221 [01:33<01:03,  7.86it/s]"
          ]
        },
        {
          "output_type": "stream",
          "name": "stdout",
          "text": [
            "Q: The music was festive but why are the horses dancing in circles\n",
            "O: carnival /// night club /// theatre /// opera /// ringmaster\n",
            "A:  carnival /// theatre\n",
            "\n",
            "\n",
            "Model: carnival and Actual Answer: carnival\n",
            "Q: In the building where James worked there was a small mezzanine in the auditorium to make more space for seats.  Where might James work?\n",
            "O: theater /// floors /// concert hall /// education /// school\n",
            "A:  auditorium /// school\n",
            "\n",
            "\n",
            "Model: auditorium and Actual Answer: theater\n"
          ]
        },
        {
          "output_type": "stream",
          "name": "stderr",
          "text": [
            " 59%|█████▉    | 726/1221 [01:33<01:02,  7.92it/s]"
          ]
        },
        {
          "output_type": "stream",
          "name": "stdout",
          "text": [
            "Q: If you aren't well rested and it's a rainy day what might you do?\n",
            "O: sleep /// write /// make bread /// stay in bed /// enjoy film\n",
            "A:  stay in bed /// enjoy film\n",
            "\n",
            "\n",
            "Model: stay in bed and Actual Answer: stay in bed\n",
            "Q: Where would you have a stove if you don't live in a detached dwelling?\n",
            "O: tent /// car /// living room /// friend's house /// apartment\n",
            "A:  living room /// friend's house\n",
            "\n",
            "\n",
            "Model: living room and Actual Answer: apartment\n"
          ]
        },
        {
          "output_type": "stream",
          "name": "stderr",
          "text": [
            " 60%|█████▉    | 728/1221 [01:33<01:04,  7.67it/s]"
          ]
        },
        {
          "output_type": "stream",
          "name": "stdout",
          "text": [
            "Q: What kind of place has a revolving door and has things to buy in it?\n",
            "O: new york /// public place /// bank /// mall /// supermarket door\n",
            "A:  mall /// bank\n",
            "\n",
            "\n",
            "Model: mall and Actual Answer: mall\n",
            "Q: Where can books be read?\n",
            "O: cabinet /// backpack /// table /// shelf /// sink\n",
            "A:  shelf /// shelf\n",
            "\n",
            "\n",
            "Model: shelf and Actual Answer: table\n"
          ]
        },
        {
          "output_type": "stream",
          "name": "stderr",
          "text": [
            " 60%|█████▉    | 730/1221 [01:34<01:02,  7.79it/s]"
          ]
        },
        {
          "output_type": "stream",
          "name": "stdout",
          "text": [
            "Q: Where is seaweed usually found alive?\n",
            "O: ocean /// found in ocean /// water /// found in sea /// beach\n",
            "A:  ocean /// beach\n",
            "\n",
            "\n",
            "Model: ocean and Actual Answer: water\n",
            "Q: If a lizard is fed by people every day, what has happened to it?\n",
            "O: documentary /// costa rica /// garden /// encouragement /// captivity\n",
            "A:  captivity\n",
            "\n",
            "\n",
            "Model: captivity and Actual Answer: captivity\n"
          ]
        },
        {
          "output_type": "stream",
          "name": "stderr",
          "text": [
            " 60%|█████▉    | 732/1221 [01:34<01:02,  7.84it/s]"
          ]
        },
        {
          "output_type": "stream",
          "name": "stdout",
          "text": [
            "Q: What will happen to someone if his or her spirits cannot elevate?\n",
            "O: sadden /// demote /// depress /// drop /// decrease\n",
            "A:  demote /// decrease\n",
            "\n",
            "\n",
            "Model: demote and Actual Answer: depress\n",
            "Q: If you wanted a license to catch crabs, what government office would you go to?\n",
            "O: most offices /// fish department /// fancy restaurant /// government submarine /// chesapeake bay\n",
            "A:  government submarine /// chesapeake bay\n",
            "\n",
            "\n",
            "Model: government submarine and Actual Answer: fish department\n"
          ]
        },
        {
          "output_type": "stream",
          "name": "stderr",
          "text": [
            " 60%|██████    | 734/1221 [01:34<01:01,  7.86it/s]"
          ]
        },
        {
          "output_type": "stream",
          "name": "stdout",
          "text": [
            "Q: What furniture will you normally find near a side chair?\n",
            "O: bedroom /// table /// wheel barrow /// building /// office\n",
            "A:  table /// wheel barrow\n",
            "\n",
            "\n",
            "Model: table and Actual Answer: table\n",
            "Q: Metal is used to make what?\n",
            "O: junkyard /// ore /// instruments /// metal fabrication shop /// bowls\n",
            "A:  metal fabrication shop /// metal fabrication shop\n",
            "\n",
            "\n",
            "Model: metal fabrication shop and Actual Answer: instruments\n"
          ]
        },
        {
          "output_type": "stream",
          "name": "stderr",
          "text": [
            " 60%|██████    | 736/1221 [01:34<01:02,  7.82it/s]"
          ]
        },
        {
          "output_type": "stream",
          "name": "stdout",
          "text": [
            "Q: What is the word added to Manchester that signifies what county it is in?\n",
            "O: england /// united kingdome /// lancashire /// greater manchester /// cheshire\n",
            "A:  united kingdome /// united kingdome\n",
            "\n",
            "\n",
            "Model: united kingdome and Actual Answer: greater manchester\n",
            "Q: The program kept getting errors, the amateur end user began to what?\n",
            "O: get mad /// compile /// debug /// write code /// get frustrated\n",
            "A:  get mad /// get frustrated\n",
            "\n",
            "\n",
            "Model: get mad and Actual Answer: get frustrated\n"
          ]
        },
        {
          "output_type": "stream",
          "name": "stderr",
          "text": [
            " 60%|██████    | 738/1221 [01:35<01:01,  7.84it/s]"
          ]
        },
        {
          "output_type": "stream",
          "name": "stdout",
          "text": [
            "Q: John knew that the sun produced a massive amount of energy in two forms.  If you were on the surface of the sun, what would kill you first?\n",
            "O: ocean /// heat /// life on earth /// wrinkles /// light\n",
            "A:  sun /// sun\n",
            "\n",
            "\n",
            "Model: sun and Actual Answer: heat\n",
            "Q: Lawyers often talk in front of an audience where?\n",
            "O: work /// courtroom /// office building /// press charges /// theatre\n",
            "A:  office building /// theatre\n",
            "\n",
            "\n",
            "Model: office building and Actual Answer: courtroom\n"
          ]
        },
        {
          "output_type": "stream",
          "name": "stderr",
          "text": [
            " 61%|██████    | 740/1221 [01:35<01:01,  7.87it/s]"
          ]
        },
        {
          "output_type": "stream",
          "name": "stdout",
          "text": [
            "Q: James bought a new set of tire chains and put them somewhere he could find them.  Where would he put them?\n",
            "O: gear shift /// garage /// kitchen /// jewelry store /// hardware store\n",
            "A:  hardware store /// hardware store\n",
            "\n",
            "\n",
            "Model: hardware store and Actual Answer: garage\n",
            "Q: If I wanted to eat something that is made from plants and needs to be washed, what would it be?\n",
            "O: roots /// millions of cells /// see work /// leaves to gather light /// flowers on\n",
            "A:  leaves to gather light /// leaves to gather light\n",
            "\n",
            "\n",
            "Model: leaves to gather light and Actual Answer: roots\n"
          ]
        },
        {
          "output_type": "stream",
          "name": "stderr",
          "text": [
            " 61%|██████    | 742/1221 [01:35<01:02,  7.72it/s]"
          ]
        },
        {
          "output_type": "stream",
          "name": "stdout",
          "text": [
            "Q: Ficus can be planted in a yard to make summer more bearable, what sort of areas do they create?\n",
            "O: shady places /// screened porch /// pots /// ceramics /// clay pot\n",
            "A:  clay pot /// clay pot\n",
            "\n",
            "\n",
            "Model: clay pot and Actual Answer: shady places\n",
            "Q: Children's behavior is a direct reflection of their what?\n",
            "O: parents /// old people /// play ball /// many adults /// grown ups\n",
            "A:  parents /// grown ups\n",
            "\n",
            "\n",
            "Model: parents and Actual Answer: parents\n"
          ]
        },
        {
          "output_type": "stream",
          "name": "stderr",
          "text": [
            " 61%|██████    | 744/1221 [01:35<01:01,  7.71it/s]"
          ]
        },
        {
          "output_type": "stream",
          "name": "stdout",
          "text": [
            "Q: Most people who are family like to greet each other with a what?\n",
            "O: apartments /// listen to music /// have friends /// know what ophiolites /// hug\n",
            "A:  hug\n",
            "\n",
            "\n",
            "Model: hug and Actual Answer: hug\n",
            "Q: John bought a new water hose.  But he found his old one near his car.  Where did he find the old one?\n",
            "O: garden shed /// hardware store /// greenhouse /// garage /// in a van\n",
            "A:  garage /// in a van\n",
            "\n",
            "\n",
            "Model: garage and Actual Answer: garage\n"
          ]
        },
        {
          "output_type": "stream",
          "name": "stderr",
          "text": [
            " 61%|██████    | 746/1221 [01:36<01:00,  7.81it/s]"
          ]
        },
        {
          "output_type": "stream",
          "name": "stdout",
          "text": [
            "Q: Where is a control room needed to prevent wide spread disaster?\n",
            "O: airbase /// prison /// mill /// nuclear plant /// recording studio\n",
            "A:  airbase /// mill\n",
            "\n",
            "\n",
            "Model: airbase and Actual Answer: nuclear plant\n",
            "Q: Where do you keep your pizza slice before you eat it?\n",
            "O: table /// plate /// restaurant /// oven /// popular\n",
            "A:  plate /// oven\n",
            "\n",
            "\n",
            "Model: plate and Actual Answer: plate\n"
          ]
        },
        {
          "output_type": "stream",
          "name": "stderr",
          "text": [
            " 61%|██████▏   | 748/1221 [01:36<01:00,  7.85it/s]"
          ]
        },
        {
          "output_type": "stream",
          "name": "stdout",
          "text": [
            "Q: Everybody was changing into costumes in the dressing room, it was almost time to take the what stage?\n",
            "O: theater /// train /// bathhouse /// dwelling /// actors and actresses\n",
            "A:  theater /// dressing room\n",
            "\n",
            "\n",
            "Model: theater and Actual Answer: theater\n",
            "Q: The homeowner frowned at the price of gas, what did he have to do later?\n",
            "O: own home /// mail property tax payments /// board windows /// cut grass /// receive mail\n",
            "A:  receive mail /// receive mail\n",
            "\n",
            "\n",
            "Model: receive mail and Actual Answer: cut grass\n"
          ]
        },
        {
          "output_type": "stream",
          "name": "stderr",
          "text": [
            " 61%|██████▏   | 750/1221 [01:36<01:00,  7.83it/s]"
          ]
        },
        {
          "output_type": "stream",
          "name": "stdout",
          "text": [
            "Q: A thoroughfare meandered through fields and woods, where was it passing though?\n",
            "O: move about /// city /// country /// town /// new york city\n",
            "A:  city /// new york city\n",
            "\n",
            "\n",
            "Model: city and Actual Answer: country\n",
            "Q: If I want a new ottoman, where should I go?\n",
            "O: furniture store /// parlor /// turkey /// living room /// den\n",
            "A:  living room /// den\n",
            "\n",
            "\n",
            "Model: living room and Actual Answer: furniture store\n"
          ]
        },
        {
          "output_type": "stream",
          "name": "stderr",
          "text": [
            " 62%|██████▏   | 752/1221 [01:36<00:59,  7.82it/s]"
          ]
        },
        {
          "output_type": "stream",
          "name": "stdout",
          "text": [
            "Q: Sean was leaving work and took the roadway that led to his what?\n",
            "O: neighborhood /// city /// fate /// countryside /// maps\n",
            "A:  map\n",
            "\n",
            "\n",
            "Model: map and Actual Answer: neighborhood\n",
            "Q: What can you use to get a jellyfish?\n",
            "O: adriatic sea /// mediterranean sea /// hand /// see /// atlantic ocean\n",
            "A:  see\n",
            "\n",
            "\n",
            "Model: see and Actual Answer: hand\n"
          ]
        },
        {
          "output_type": "stream",
          "name": "stderr",
          "text": [
            " 62%|██████▏   | 754/1221 [01:37<00:59,  7.87it/s]"
          ]
        },
        {
          "output_type": "stream",
          "name": "stdout",
          "text": [
            "Q: What has a shelf that does not allow you to see what is inside of it?\n",
            "O: chest of drawers /// stove /// hold alcohol /// bookcase /// grocery store\n",
            "A:  grocery store /// shelf of drawers\n",
            "\n",
            "\n",
            "Model: grocery store and Actual Answer: chest of drawers\n",
            "Q: What will likely happen after stabbing to death a person?\n",
            "O: gruesome /// being arrested /// pool of blood /// mess /// grisly\n",
            "A:  being arrested /// mess\n",
            "\n",
            "\n",
            "Model: being arrested and Actual Answer: being arrested\n"
          ]
        },
        {
          "output_type": "stream",
          "name": "stderr",
          "text": [
            " 62%|██████▏   | 756/1221 [01:37<00:58,  7.93it/s]"
          ]
        },
        {
          "output_type": "stream",
          "name": "stdout",
          "text": [
            "Q: The boat passenger was explaining his fear of blowfish, but the captain figured he meant piranhas since they were on a river in the what?\n",
            "O: cuba /// styx /// atlantic ocean /// france /// jungle\n",
            "A:  france\n",
            "\n",
            "\n",
            "Model: france and Actual Answer: jungle\n",
            "Q: Where could you find only a few office?\n",
            "O: skyscraper /// new york /// school building /// city /// work\n",
            "A:  school building /// school building\n",
            "\n",
            "\n",
            "Model: school building and Actual Answer: school building\n"
          ]
        },
        {
          "output_type": "stream",
          "name": "stderr",
          "text": [
            " 62%|██████▏   | 758/1221 [01:37<00:58,  7.89it/s]"
          ]
        },
        {
          "output_type": "stream",
          "name": "stdout",
          "text": [
            "Q: Where can I go to be a religious gentleman?\n",
            "O: club /// restaurant /// university /// pub /// church\n",
            "A:  church /// church\n",
            "\n",
            "\n",
            "Model: church and Actual Answer: church\n",
            "Q: I want to see a prepared slide up close, what would I use to help?\n",
            "O: microscope /// abbreviate /// glasses /// camera /// telescope\n",
            "A:  telescope\n",
            "\n",
            "\n",
            "Model: telescope and Actual Answer: microscope\n"
          ]
        },
        {
          "output_type": "stream",
          "name": "stderr",
          "text": [
            " 62%|██████▏   | 760/1221 [01:38<00:58,  7.89it/s]"
          ]
        },
        {
          "output_type": "stream",
          "name": "stdout",
          "text": [
            "Q: Where can you buy a magazine, paper or gum?\n",
            "O: bank /// rack /// bed /// newsstand /// bus depot\n",
            "A:  rack /// bus depot\n",
            "\n",
            "\n",
            "Model: rack and Actual Answer: newsstand\n",
            "Q: Where would you get some wood if you do not have any?\n",
            "O: carpet /// boat /// river /// lumberyard /// synagogue\n",
            "A:  carpet /// lumberyard\n",
            "\n",
            "\n",
            "Model: carpet and Actual Answer: lumberyard\n"
          ]
        },
        {
          "output_type": "stream",
          "name": "stderr",
          "text": [
            " 62%|██████▏   | 762/1221 [01:38<00:58,  7.91it/s]"
          ]
        },
        {
          "output_type": "stream",
          "name": "stdout",
          "text": [
            "Q: The pitcher felt stress and tension on the mound, what did he feel like?\n",
            "O: desert /// baseball field /// hell /// baseball diamond /// baseball stadium\n",
            "A:  baseball diamond\n",
            "\n",
            "\n",
            "Model: baseball diamond and Actual Answer: hell\n",
            "Q: What negative effect can competing in a chess game on a cold day have?\n",
            "O: enemies /// perform better /// sweat /// tension /// frostbite\n",
            "A:  frostbite\n",
            "\n",
            "\n",
            "Model: frostbite and Actual Answer: tension\n"
          ]
        },
        {
          "output_type": "stream",
          "name": "stderr",
          "text": [
            " 63%|██████▎   | 764/1221 [01:38<00:58,  7.83it/s]"
          ]
        },
        {
          "output_type": "stream",
          "name": "stdout",
          "text": [
            "Q: Why is it hard for a young child to read a long book?\n",
            "O: knowledge /// cover /// no pictures /// past /// many words\n",
            "A:  knowledge /// cover\n",
            "\n",
            "\n",
            "Model: knowledge and Actual Answer: many words\n",
            "Q: On a hot day what can you do to enjoy something cool and sweet?\n",
            "O: dive /// cool off /// fresh cake /// go for swim /// eat ice cream\n",
            "A:  cool off /// go for swim\n",
            "\n",
            "\n",
            "Model: cool off and Actual Answer: eat ice cream\n"
          ]
        },
        {
          "output_type": "stream",
          "name": "stderr",
          "text": [
            " 63%|██████▎   | 766/1221 [01:38<00:58,  7.84it/s]"
          ]
        },
        {
          "output_type": "stream",
          "name": "stdout",
          "text": [
            "Q: What is likely to be found in a book that is not a foreword?\n",
            "O: last word /// conclusion /// ikea instructions /// afterword /// epilogue\n",
            "A:  epilogue /// afterword\n",
            "\n",
            "\n",
            "Model: epilogue and Actual Answer: epilogue\n",
            "Q: How many hours are in a day?\n",
            "O: week /// bright /// night /// twenty four /// year\n",
            "A:  twenty four\n",
            "\n",
            "\n",
            "Model: twenty four and Actual Answer: twenty four\n"
          ]
        },
        {
          "output_type": "stream",
          "name": "stderr",
          "text": [
            " 63%|██████▎   | 768/1221 [01:39<00:57,  7.91it/s]"
          ]
        },
        {
          "output_type": "stream",
          "name": "stdout",
          "text": [
            "Q: Why is religion so hard to understand?\n",
            "O: both positive and negative /// unknowable /// important to people /// ocean /// confusing\n",
            "A:  important to people /// confusing\n",
            "\n",
            "\n",
            "Model: important to people and Actual Answer: confusing\n",
            "Q: The couple explained they were having trouble communicating, it seemed every conversation took great what?\n",
            "O: thinking /// effort /// laugh /// force /// medium\n",
            "A:  effort /// effort\n",
            "\n",
            "\n",
            "Model: effort and Actual Answer: effort\n"
          ]
        },
        {
          "output_type": "stream",
          "name": "stderr",
          "text": [
            " 63%|██████▎   | 770/1221 [01:39<00:57,  7.91it/s]"
          ]
        },
        {
          "output_type": "stream",
          "name": "stdout",
          "text": [
            "Q: What would a person need to do if his or her captain dies at sea?\n",
            "O: cross street /// have a party /// experience life /// cross road /// man crew\n",
            "A:  cross road /// experience life\n",
            "\n",
            "\n",
            "Model: cross road and Actual Answer: man crew\n",
            "Q: What do children require to grow up healthy?\n",
            "O: need care /// come home /// fast food /// watch television /// wash dishes\n",
            "A:  need care /// watch television\n",
            "\n",
            "\n",
            "Model: need care and Actual Answer: need care\n"
          ]
        },
        {
          "output_type": "stream",
          "name": "stderr",
          "text": [
            " 63%|██████▎   | 772/1221 [01:39<00:57,  7.85it/s]"
          ]
        },
        {
          "output_type": "stream",
          "name": "stdout",
          "text": [
            "Q: I house outside the center of a community is said to be where?\n",
            "O: city /// subdivision /// newspaper /// residential area /// street\n",
            "A:  residential area\n",
            "\n",
            "\n",
            "Model: residential area and Actual Answer: subdivision\n",
            "Q: The field general began to write out a letter to the king, he was told to send what when the enemy was near?\n",
            "O: syllable /// english alphabet /// word /// email /// invitation\n",
            "A:  letter /// invitation\n",
            "\n",
            "\n",
            "Model: letter and Actual Answer: word\n"
          ]
        },
        {
          "output_type": "stream",
          "name": "stderr",
          "text": [
            " 63%|██████▎   | 774/1221 [01:39<00:56,  7.85it/s]"
          ]
        },
        {
          "output_type": "stream",
          "name": "stdout",
          "text": [
            "Q: What will you put on a pen to prevent it from drying out?\n",
            "O: write sentences on paper /// ink in /// ink cartridges /// caps /// cling film\n",
            "A:  cling film\n",
            "\n",
            "\n",
            "Model: cling film and Actual Answer: caps\n",
            "Q: After climbing the mountains, the explored found the cave, what was the general goegraphy of the region he found it in?\n",
            "O: west virginia /// kentucky /// desert /// sea /// rocky hills\n",
            "A:  desert /// rocky hills\n",
            "\n",
            "\n",
            "Model: desert and Actual Answer: rocky hills\n"
          ]
        },
        {
          "output_type": "stream",
          "name": "stderr",
          "text": [
            " 64%|██████▎   | 776/1221 [01:40<00:56,  7.91it/s]"
          ]
        },
        {
          "output_type": "stream",
          "name": "stdout",
          "text": [
            "Q: They dealt with combustible mixtures in their experiments, this is why they kept a fire extinguisher where?\n",
            "O: hospital /// chemistry lab /// most businesses /// classroom /// public building\n",
            "A:  chemistry lab /// laboratory\n",
            "\n",
            "\n",
            "Model: chemistry lab and Actual Answer: chemistry lab\n",
            "Q: If someone mean wanted to insult somebody by calling them a fruit, where is probably not the smartest place to do it?\n",
            "O: gay bar /// market /// grocery store /// refrigerator /// container\n",
            "A:  grocery store /// refrigerator\n",
            "\n",
            "\n",
            "Model: grocery store and Actual Answer: gay bar\n"
          ]
        },
        {
          "output_type": "stream",
          "name": "stderr",
          "text": [
            " 64%|██████▎   | 778/1221 [01:40<00:55,  7.97it/s]"
          ]
        },
        {
          "output_type": "stream",
          "name": "stdout",
          "text": [
            "Q: Where would you get a toothpick if you do not have any?\n",
            "O: box /// grocery store /// eyes /// chewing /// mouth\n",
            "A:  mouth /// mouth\n",
            "\n",
            "\n",
            "Model: mouth and Actual Answer: grocery store\n",
            "Q: What would you be building if you designed a place for an annoying critter to stay?\n",
            "O: spread disease /// swamp /// fly away /// cat condo /// bug campers\n",
            "A:  fly away /// bug campers\n",
            "\n",
            "\n",
            "Model: fly away and Actual Answer: bug campers\n"
          ]
        },
        {
          "output_type": "stream",
          "name": "stderr",
          "text": [
            " 64%|██████▍   | 780/1221 [01:40<00:55,  7.96it/s]"
          ]
        },
        {
          "output_type": "stream",
          "name": "stdout",
          "text": [
            "Q: The man working in the attic swatted away a bee, but soon the single bee was an entire what?\n",
            "O: swarm /// pack /// countryside /// soft drink /// field of flowers\n",
            "A:  swarm /// field of flowers\n",
            "\n",
            "\n",
            "Model: swarm and Actual Answer: swarm\n",
            "Q: What do you need to wear when hiking?\n",
            "O: cast iron stomach /// physical exertion /// shin splints /// adventure /// fatigue\n",
            "A:  physical exertion /// shin splints\n",
            "\n",
            "\n",
            "Model: physical exertion and Actual Answer: shin splints\n"
          ]
        },
        {
          "output_type": "stream",
          "name": "stderr",
          "text": [
            " 64%|██████▍   | 782/1221 [01:40<00:56,  7.79it/s]"
          ]
        },
        {
          "output_type": "stream",
          "name": "stdout",
          "text": [
            "Q: What type of store would have lots of sports equipment?\n",
            "O: mall /// office supply store /// school /// sporting goods store /// sporting event\n",
            "A:  sporting goods store /// sporting goods store\n",
            "\n",
            "\n",
            "Model: sporting goods store and Actual Answer: sporting goods store\n",
            "Q: The business man was promoted recently, to celebrate he went where to buy an expensive wristwatch?\n",
            "O: case /// jewelry store /// shopping /// jewelery box /// hock\n",
            "A:  jewelry store /// hock\n",
            "\n",
            "\n",
            "Model: jewelry store and Actual Answer: jewelry store\n"
          ]
        },
        {
          "output_type": "stream",
          "name": "stderr",
          "text": [
            " 64%|██████▍   | 784/1221 [01:41<00:55,  7.81it/s]"
          ]
        },
        {
          "output_type": "stream",
          "name": "stdout",
          "text": [
            "Q: How is a child eager to be going to play likely to get there?\n",
            "O: slowly /// rush /// being entertained /// have fun /// enjoyment\n",
            "A:  enjoying /// enjoying\n",
            "\n",
            "\n",
            "Model: enjoying and Actual Answer: rush\n",
            "Q: There's some new buying products designed to get you money if you have none. The first step is that it will show you how to declare what?\n",
            "O: tax return /// bankruptcy /// pleasure /// debt /// spending money\n",
            "A:  tax return /// spending money\n",
            "\n",
            "\n",
            "Model: tax return and Actual Answer: bankruptcy\n"
          ]
        },
        {
          "output_type": "stream",
          "name": "stderr",
          "text": [
            " 64%|██████▍   | 786/1221 [01:41<00:55,  7.85it/s]"
          ]
        },
        {
          "output_type": "stream",
          "name": "stdout",
          "text": [
            "Q: Where can you buy a replacement ax handle?\n",
            "O: bathroom /// hardware store /// water fountain /// grocery store /// fridge\n",
            "A:  hardware store /// fridge\n",
            "\n",
            "\n",
            "Model: hardware store and Actual Answer: hardware store\n",
            "Q: Is that person acting as silly as a clown?\n",
            "O: make mistakes /// ridiculous /// have no home /// mentally unhinged /// schizophrenia\n",
            "A:  mentally unhinged /// mentally unhinged\n",
            "\n",
            "\n",
            "Model: mentally unhinged and Actual Answer: ridiculous\n"
          ]
        },
        {
          "output_type": "stream",
          "name": "stderr",
          "text": [
            " 65%|██████▍   | 788/1221 [01:41<00:54,  7.89it/s]"
          ]
        },
        {
          "output_type": "stream",
          "name": "stdout",
          "text": [
            "Q: Which group of states is Louisiana part of?\n",
            "O: deep south /// 98 of world's crayfish /// united states /// gulf states /// bible belt\n",
            "A:  united states /// united states\n",
            "\n",
            "\n",
            "Model: united states and Actual Answer: gulf states\n",
            "Q: Where would you put a plate immediately after eating from it?\n",
            "O: kitchen cupboard /// floor /// table /// dishwasher /// flea market\n",
            "A:  kitchen cupboard /// table\n",
            "\n",
            "\n",
            "Model: kitchen cupboard and Actual Answer: dishwasher\n"
          ]
        },
        {
          "output_type": "stream",
          "name": "stderr",
          "text": [
            " 65%|██████▍   | 790/1221 [01:41<00:55,  7.82it/s]"
          ]
        },
        {
          "output_type": "stream",
          "name": "stdout",
          "text": [
            "Q: James couldn't get comfortable.  There was too much dirt.  He needed to clean out what?\n",
            "O: ground /// subway /// bank /// bed /// street\n",
            "A:  subway /// ground\n",
            "\n",
            "\n",
            "Model: subway and Actual Answer: bed\n",
            "Q: The rats were hiding in the house, where were they?\n",
            "O: sewers /// laboratory /// basement /// clinic /// cellar\n",
            "A:  basement /// basement\n",
            "\n",
            "\n",
            "Model: basement and Actual Answer: cellar\n"
          ]
        },
        {
          "output_type": "stream",
          "name": "stderr",
          "text": [
            " 65%|██████▍   | 792/1221 [01:42<00:54,  7.89it/s]"
          ]
        },
        {
          "output_type": "stream",
          "name": "stdout",
          "text": [
            "Q: What do people do when they don't understand something?\n",
            "O: ask questions /// experience joy /// believe in god /// talk to each other /// get sick\n",
            "A:  experience joy /// believe in god\n",
            "\n",
            "\n",
            "Model: experience joy and Actual Answer: ask questions\n",
            "Q: James saw a kite flying in the sky.  He traced the string back to its origin and found it.  Where did the string begin?\n",
            "O: end of line /// hobby shop /// his hand /// toy store /// child's hand\n",
            "A:  toy store /// toy store\n",
            "\n",
            "\n",
            "Model: toy store and Actual Answer: child's hand\n"
          ]
        },
        {
          "output_type": "stream",
          "name": "stderr",
          "text": [
            " 65%|██████▌   | 794/1221 [01:42<00:53,  7.91it/s]"
          ]
        },
        {
          "output_type": "stream",
          "name": "stdout",
          "text": [
            "Q: What rubber toy filled with helium will make a child happy?\n",
            "O: loved /// learn /// eat cake /// balloon /// become adult\n",
            "A:  balloon\n",
            "\n",
            "\n",
            "Model: balloon and Actual Answer: balloon\n",
            "Q: Where do people get beer after a bit of gambling?\n",
            "O: bottle /// grocery store /// casino /// spaceship /// hockey game\n",
            "A:  casino /// hockey game\n",
            "\n",
            "\n",
            "Model: casino and Actual Answer: casino\n"
          ]
        },
        {
          "output_type": "stream",
          "name": "stderr",
          "text": [
            " 65%|██████▌   | 796/1221 [01:42<00:53,  7.91it/s]"
          ]
        },
        {
          "output_type": "stream",
          "name": "stdout",
          "text": [
            "Q: What can happen to you when you are using television and it is not interesting?\n",
            "O: turn off /// functions /// turning off /// entertainment /// fall asleep\n",
            "A:  functions /// turn off\n",
            "\n",
            "\n",
            "Model: functions and Actual Answer: fall asleep\n",
            "Q: The business men left the discussion in the dressing room, now they just wanted to relax in the sauna of the what?\n",
            "O: brush hair /// theater /// house /// dwelling /// bathhouse\n",
            "A:  house /// bathhouse\n",
            "\n",
            "\n",
            "Model: house and Actual Answer: bathhouse\n"
          ]
        },
        {
          "output_type": "stream",
          "name": "stderr",
          "text": [
            " 65%|██████▌   | 798/1221 [01:42<00:53,  7.87it/s]"
          ]
        },
        {
          "output_type": "stream",
          "name": "stdout",
          "text": [
            "Q: Where is a likely place for an ivy plant?\n",
            "O: flower pot /// shelf /// windowsill /// outside /// sill\n",
            "A:  shelf /// outside\n",
            "\n",
            "\n",
            "Model: shelf and Actual Answer: outside\n",
            "Q: Where has the newest baseball stadium?\n",
            "O: phoenix /// chicago /// antarctica /// san francisco /// urban areas\n",
            "A:  urban areas\n",
            "\n",
            "\n",
            "Model: urban areas and Actual Answer: phoenix\n"
          ]
        },
        {
          "output_type": "stream",
          "name": "stderr",
          "text": [
            " 66%|██████▌   | 800/1221 [01:43<00:53,  7.86it/s]"
          ]
        },
        {
          "output_type": "stream",
          "name": "stdout",
          "text": [
            "Q: What type of residence has a ground floor with a stoop?\n",
            "O: brownstone /// hotel /// condominium /// entering building /// office building\n",
            "A:  condominium /// building\n",
            "\n",
            "\n",
            "Model: condominium and Actual Answer: brownstone\n",
            "Q: If the wood texture is not smooth it is what?\n",
            "O: gilded /// porous /// solid /// painted /// less dense than water\n",
            "A:  porous /// porous /// less dense\n",
            "\n",
            "\n",
            "Model: porous and Actual Answer: porous\n"
          ]
        },
        {
          "output_type": "stream",
          "name": "stderr",
          "text": [
            " 66%|██████▌   | 802/1221 [01:43<00:53,  7.81it/s]"
          ]
        },
        {
          "output_type": "stream",
          "name": "stdout",
          "text": [
            "Q: What might happen if someone is not losing weight?\n",
            "O: loose skin /// beauty /// miss universe /// death /// healthier\n",
            "A:  lose universe /// lose universe /// healthier\n",
            "\n",
            "\n",
            "Model: lose universe and Actual Answer: death\n",
            "Q: Billy lived in the capital of his country, then he moved.  Where might he move to?\n",
            "O: small town /// jail /// lower case /// contain governmental activities /// lowercase\n",
            "A:  lower case /// contain governmental activities\n",
            "\n",
            "\n",
            "Model: lower case and Actual Answer: small town\n"
          ]
        },
        {
          "output_type": "stream",
          "name": "stderr",
          "text": [
            " 66%|██████▌   | 804/1221 [01:43<00:53,  7.85it/s]"
          ]
        },
        {
          "output_type": "stream",
          "name": "stdout",
          "text": [
            "Q: Making a schedule was easy to pick, the major called for knowledge that required a certain what?\n",
            "O: color /// class /// meeting /// university /// encyclopedia\n",
            "A:  meeting /// meeting\n",
            "\n",
            "\n",
            "Model: meeting and Actual Answer: class\n",
            "Q: When getting in shape, this is something that does wonders?\n",
            "O: eat more /// starve /// give up /// period of recovery /// jogging\n",
            "A:  period of recovery /// jog\n",
            "\n",
            "\n",
            "Model: period of recovery and Actual Answer: jogging\n"
          ]
        },
        {
          "output_type": "stream",
          "name": "stderr",
          "text": [
            " 66%|██████▌   | 806/1221 [01:43<00:53,  7.79it/s]"
          ]
        },
        {
          "output_type": "stream",
          "name": "stdout",
          "text": [
            "Q: What could prevent a driving car from continuing to drive?\n",
            "O: automobile accidents /// backache /// pollution /// smoke /// low fuel tank\n",
            "A:  pollution /// smoke\n",
            "\n",
            "\n",
            "Model: pollution and Actual Answer: automobile accidents\n",
            "Q: Where do you store a large container?\n",
            "O: supermarket /// factory /// juice /// hostel /// cabinet\n",
            "A:  cabinet /// cabinet\n",
            "\n",
            "\n",
            "Model: cabinet and Actual Answer: cabinet\n"
          ]
        },
        {
          "output_type": "stream",
          "name": "stderr",
          "text": [
            " 66%|██████▌   | 808/1221 [01:44<00:53,  7.77it/s]"
          ]
        },
        {
          "output_type": "stream",
          "name": "stdout",
          "text": [
            "Q: What is a person likely to experience after they stop being married to a mean person?\n",
            "O: isolation /// grief /// happiness /// relief /// angry\n",
            "A:  happiness /// relief\n",
            "\n",
            "\n",
            "Model: happiness and Actual Answer: happiness\n",
            "Q: Despite the large crowds, how did the depressed man feel?\n",
            "O: small group /// alone /// solitary /// solitude /// panic\n",
            "A:  solitary /// isolated\n",
            "\n",
            "\n",
            "Model: solitary and Actual Answer: solitary\n"
          ]
        },
        {
          "output_type": "stream",
          "name": "stderr",
          "text": [
            " 66%|██████▋   | 810/1221 [01:44<00:53,  7.66it/s]"
          ]
        },
        {
          "output_type": "stream",
          "name": "stdout",
          "text": [
            "Q: Where does a maid empty a trash can?\n",
            "O: bus stop /// corner /// hockey game /// motel /// alley\n",
            "A:  alleyway\n",
            "\n",
            "\n",
            "Model: alleyway and Actual Answer: motel\n",
            "Q: The dog curled up for a nap, it was tuckered out because it had just been what?\n",
            "O: walked /// petted /// affection /// go outside /// scratch\n",
            "A:  go outside /// scratch\n",
            "\n",
            "\n",
            "Model: go outside and Actual Answer: walked\n"
          ]
        },
        {
          "output_type": "stream",
          "name": "stderr",
          "text": [
            " 67%|██████▋   | 812/1221 [01:44<00:53,  7.65it/s]"
          ]
        },
        {
          "output_type": "stream",
          "name": "stdout",
          "text": [
            "Q: He used an umbrella while tanning, where was he likely?\n",
            "O: waves /// seattle /// suitcase /// beach /// jacket closet\n",
            "A:  suitcase /// suitcase closet\n",
            "\n",
            "\n",
            "Model: suitcase and Actual Answer: beach\n",
            "Q: What do the feathers look like on birds found in the rainforest?\n",
            "O: pretty smart /// singing /// dark /// very colorful /// light\n",
            "A:  dark /// very colorful\n",
            "\n",
            "\n",
            "Model: dark and Actual Answer: very colorful\n"
          ]
        },
        {
          "output_type": "stream",
          "name": "stderr",
          "text": [
            " 67%|██████▋   | 814/1221 [01:44<00:52,  7.77it/s]"
          ]
        },
        {
          "output_type": "stream",
          "name": "stdout",
          "text": [
            "Q: The ancient seafaring Norse tribesman brought pelts of weasel aboard his what?\n",
            "O: rabbit warren /// used car lot /// chicken coop /// cruise /// viking ship\n",
            "A:  used car lot /// cruise ship\n",
            "\n",
            "\n",
            "Model: used car lot and Actual Answer: viking ship\n",
            "Q: What is the opposite of an area of elevation?\n",
            "O: disgust /// reduction /// depression /// demotion /// diminishment\n",
            "A:  demotion /// diminishment\n",
            "\n",
            "\n",
            "Model: demotion and Actual Answer: depression\n"
          ]
        },
        {
          "output_type": "stream",
          "name": "stderr",
          "text": [
            " 67%|██████▋   | 816/1221 [01:45<00:52,  7.77it/s]"
          ]
        },
        {
          "output_type": "stream",
          "name": "stdout",
          "text": [
            "Q: What do singers need to do before a show?\n",
            "O: warm up /// use microphones /// clear throats /// create music /// sound beautiful\n",
            "A:  use microphones /// sound beautiful\n",
            "\n",
            "\n",
            "Model: use microphones and Actual Answer: warm up\n",
            "Q: When a person with mental illness receives medication and therapy, what has happened?\n",
            "O: cause irrational behaviour /// recur /// effectively treated /// managed /// cause suffering\n",
            "A:  caused suffering /// cause suffering\n",
            "\n",
            "\n",
            "Model: caused suffering and Actual Answer: effectively treated\n"
          ]
        },
        {
          "output_type": "stream",
          "name": "stderr",
          "text": [
            " 67%|██████▋   | 818/1221 [01:45<00:51,  7.82it/s]"
          ]
        },
        {
          "output_type": "stream",
          "name": "stdout",
          "text": [
            "Q: What type of feeling is performing for the first time likely to produce?\n",
            "O: action /// butterflies /// happiness /// a sense of calm /// anxiety\n",
            "A:  anxiety /// feeling of calm\n",
            "\n",
            "\n",
            "Model: anxiety and Actual Answer: anxiety\n",
            "Q: If someone is found to be committing murder, what did they do to someone?\n",
            "O: misery /// kill /// distress /// tickel /// go to jail\n",
            "A:  go to jail /// go to jail\n",
            "\n",
            "\n",
            "Model: go to jail and Actual Answer: kill\n"
          ]
        },
        {
          "output_type": "stream",
          "name": "stderr",
          "text": [
            " 67%|██████▋   | 820/1221 [01:45<00:51,  7.76it/s]"
          ]
        },
        {
          "output_type": "stream",
          "name": "stdout",
          "text": [
            "Q: The computer was hooked up to the internet, what could it do as a result?\n",
            "O: process information /// believe in god /// make decisions /// process information /// receive data\n",
            "A:  process information /// receive data\n",
            "\n",
            "\n",
            "Model: process information and Actual Answer: receive data\n",
            "Q: The planet Mercury is unsuitable for human life or what?\n",
            "O: toxic /// uninhabitable /// mercury sulphide /// poisonous /// jupiter\n",
            "A:  toxic /// poisonous\n",
            "\n",
            "\n",
            "Model: toxic and Actual Answer: uninhabitable\n"
          ]
        },
        {
          "output_type": "stream",
          "name": "stderr",
          "text": [
            " 67%|██████▋   | 822/1221 [01:45<00:51,  7.73it/s]"
          ]
        },
        {
          "output_type": "stream",
          "name": "stdout",
          "text": [
            "Q: Seeing idea become reality was a dream of hers for a long time, but as the time came to get on stage she had more what?\n",
            "O: build /// anxiety /// celebrate /// very nice /// ocean\n",
            "A:  very nice /// very nice\n",
            "\n",
            "\n",
            "Model: very nice and Actual Answer: anxiety\n",
            "Q: A creek could be located in the opposite for the city which is called what?\n",
            "O: meadow /// stick /// valley /// forest /// countryside\n",
            "A:  countryside /// countryside\n",
            "\n",
            "\n",
            "Model: countryside and Actual Answer: countryside\n"
          ]
        },
        {
          "output_type": "stream",
          "name": "stderr",
          "text": [
            " 67%|██████▋   | 824/1221 [01:46<00:50,  7.82it/s]"
          ]
        },
        {
          "output_type": "stream",
          "name": "stdout",
          "text": [
            "Q: Where off the eastern U.S. would you find an anemone?\n",
            "O: flower bed /// tide pool /// florida keys /// coral sea /// aquarium\n",
            "A:  florida keys /// coral sea\n",
            "\n",
            "\n",
            "Model: florida keys and Actual Answer: florida keys\n",
            "Q: Where are traveling clothes often kept?\n",
            "O: suitcase /// bedroom /// closet /// draws /// dresser\n",
            "A:  closet /// closet\n",
            "\n",
            "\n",
            "Model: closet and Actual Answer: suitcase\n"
          ]
        },
        {
          "output_type": "stream",
          "name": "stderr",
          "text": [
            " 68%|██████▊   | 826/1221 [01:46<00:50,  7.84it/s]"
          ]
        },
        {
          "output_type": "stream",
          "name": "stdout",
          "text": [
            "Q: If one needed the bathroom they needed a key, to get it they had to also buy something from the what?\n",
            "O: school /// convenience store /// rest area /// mall /// theater\n",
            "A:  mall /// convenience store\n",
            "\n",
            "\n",
            "Model: mall and Actual Answer: convenience store\n",
            "Q: Although the sun did rise, what did the pessimist warn everyone it would do?\n",
            "O: lay /// go down /// fall /// below /// sundown\n",
            "A:  fall below\n",
            "\n",
            "\n",
            "Model: fall below and Actual Answer: go down\n"
          ]
        },
        {
          "output_type": "stream",
          "name": "stderr",
          "text": [
            " 68%|██████▊   | 828/1221 [01:46<00:50,  7.86it/s]"
          ]
        },
        {
          "output_type": "stream",
          "name": "stdout",
          "text": [
            "Q: The hardcovers were especially tall, so he removed a shelf on the what to make room?\n",
            "O: chest of drawers /// grocery store /// hold alcohol /// nightstand /// bookcase\n",
            "A:  chest of drawers /// bookcase\n",
            "\n",
            "\n",
            "Model: chest of drawers and Actual Answer: bookcase\n",
            "Q: If you're watching a comedy film what would you expect to hear from the audience?\n",
            "O: park /// insight /// being entertained /// laughter /// fear\n",
            "A:  laughter /// fear\n",
            "\n",
            "\n",
            "Model: laughter and Actual Answer: laughter\n"
          ]
        },
        {
          "output_type": "stream",
          "name": "stderr",
          "text": [
            " 68%|██████▊   | 830/1221 [01:46<00:49,  7.85it/s]"
          ]
        },
        {
          "output_type": "stream",
          "name": "stdout",
          "text": [
            "Q: What can eating lunch cause that is painful?\n",
            "O: headache /// bad breath /// heartburn /// gain weight /// farts\n",
            "A:  headache /// farts\n",
            "\n",
            "\n",
            "Model: headache and Actual Answer: heartburn\n",
            "Q: The performer was ready to put on a show and stepped onto the launch platform, what was his job?\n",
            "O: cape canaveral florida /// nasa /// battleship /// ocean /// trapeze\n",
            "A:  battleship /// ocean\n",
            "\n",
            "\n",
            "Model: battleship and Actual Answer: trapeze\n"
          ]
        },
        {
          "output_type": "stream",
          "name": "stderr",
          "text": [
            " 68%|██████▊   | 832/1221 [01:47<00:49,  7.91it/s]"
          ]
        },
        {
          "output_type": "stream",
          "name": "stdout",
          "text": [
            "Q: Eating is part of living, but your body doesn't use it all and the next day you will be doing what?\n",
            "O: reduced /// getting full /// becoming full /// chewing /// defecating\n",
            "A:  defecating /// chewing\n",
            "\n",
            "\n",
            "Model: defecating and Actual Answer: defecating\n",
            "Q: Where are you if you've paid to get a pizza?\n",
            "O: popular /// baked in oven /// restaurant /// oven /// plate\n",
            "A:  restaurant /// oven\n",
            "\n",
            "\n",
            "Model: restaurant and Actual Answer: restaurant\n"
          ]
        },
        {
          "output_type": "stream",
          "name": "stderr",
          "text": [
            " 68%|██████▊   | 834/1221 [01:47<00:48,  7.99it/s]"
          ]
        },
        {
          "output_type": "stream",
          "name": "stdout",
          "text": [
            "Q: What would you use to find a place to stay?\n",
            "O: mexico /// phone book /// town /// city /// sun dial\n",
            "A:  sun dial\n",
            "\n",
            "\n",
            "Model: sun dial and Actual Answer: phone book\n",
            "Q: If you're seeking a connection for your laptop, what are you trying to hook up with?\n",
            "O: computer network /// electrical circuit /// lineage /// company /// wall\n",
            "A:  computer network /// computer network\n",
            "\n",
            "\n",
            "Model: computer network and Actual Answer: computer network\n"
          ]
        },
        {
          "output_type": "stream",
          "name": "stderr",
          "text": [
            " 68%|██████▊   | 836/1221 [01:47<00:48,  7.97it/s]"
          ]
        },
        {
          "output_type": "stream",
          "name": "stdout",
          "text": [
            "Q: The child didn't know the problems his mother was going through, all he had was what for her?\n",
            "O: care /// balloon /// loved /// become adult /// learn\n",
            "A:  learn\n",
            "\n",
            "\n",
            "Model: learn and Actual Answer: loved\n",
            "Q: To see new films you must?\n",
            "O: open eyes /// go to movies /// kick ball /// make art /// look for\n",
            "A:  open eyes /// go to movies\n",
            "\n",
            "\n",
            "Model: open eyes and Actual Answer: go to movies\n"
          ]
        },
        {
          "output_type": "stream",
          "name": "stderr",
          "text": [
            " 69%|██████▊   | 838/1221 [01:47<00:50,  7.62it/s]"
          ]
        },
        {
          "output_type": "stream",
          "name": "stdout",
          "text": [
            "Q: What can happen when you contemplate alone for a long time?\n",
            "O: daydream /// headache /// get ideas /// sleep /// become distracted\n",
            "A:  become distracted\n",
            "\n",
            "\n",
            "Model: become distracted and Actual Answer: daydream\n",
            "Q: The pioneer went to the general store for storage measures, what was he looking for?\n",
            "O: checkers /// barrels /// baking soda /// buffalo /// salt\n",
            "A:  checkers /// barrels\n",
            "\n",
            "\n",
            "Model: checkers and Actual Answer: barrels\n"
          ]
        },
        {
          "output_type": "stream",
          "name": "stderr",
          "text": [
            " 69%|██████▉   | 840/1221 [01:48<00:49,  7.75it/s]"
          ]
        },
        {
          "output_type": "stream",
          "name": "stdout",
          "text": [
            "Q: I was apprehensive to buy the expensive equipment to play a game with so much walking and swinging around in grass, but now I understand why people what?\n",
            "O: care less /// play golf /// shake hands /// believe in god /// trip over\n",
            "A:  play golf /// shake hands\n",
            "\n",
            "\n",
            "Model: play golf and Actual Answer: play golf\n",
            "Q: What can a newspaper be used to do to an engagement?\n",
            "O: announce /// communicate /// educate /// inform /// cancel\n",
            "A:  inform /// cancel\n",
            "\n",
            "\n",
            "Model: inform and Actual Answer: announce\n"
          ]
        },
        {
          "output_type": "stream",
          "name": "stderr",
          "text": [
            " 69%|██████▉   | 842/1221 [01:48<00:48,  7.88it/s]"
          ]
        },
        {
          "output_type": "stream",
          "name": "stdout",
          "text": [
            "Q: John needed a straight wire.  Unfortunately, this one had endured some abuse and had become what?\n",
            "O: bent /// bent /// crooked /// straightforth /// curved\n",
            "A:  bent /// straightforth\n",
            "\n",
            "\n",
            "Model: bent and Actual Answer: bent\n",
            "Q: Metal is taken from what which is pulled from the ground?\n",
            "O: dirt /// instruments /// ore /// car /// junkyard\n",
            "A:  junkyard\n",
            "\n",
            "\n",
            "Model: junkyard and Actual Answer: ore\n"
          ]
        },
        {
          "output_type": "stream",
          "name": "stderr",
          "text": [
            " 69%|██████▉   | 844/1221 [01:48<00:47,  7.94it/s]"
          ]
        },
        {
          "output_type": "stream",
          "name": "stdout",
          "text": [
            "Q: When not in use where on your property would you store you bucket?\n",
            "O: utility closet /// outside /// well /// garden shed /// garage\n",
            "A:  well /// garage\n",
            "\n",
            "\n",
            "Model: well and Actual Answer: garden shed\n",
            "Q: What does someone do to relax at night?\n",
            "O: find time /// check mail /// listen to music /// go to bed /// stop worrying\n",
            "A:  listen to music /// stop worrying\n",
            "\n",
            "\n",
            "Model: listen to music and Actual Answer: go to bed\n"
          ]
        },
        {
          "output_type": "stream",
          "name": "stderr",
          "text": [
            " 69%|██████▉   | 846/1221 [01:48<00:47,  7.90it/s]"
          ]
        },
        {
          "output_type": "stream",
          "name": "stdout",
          "text": [
            "Q: Where might the stapler be if I cannot find it?\n",
            "O: office building /// office supply store /// desk drawer /// with dwight /// desktop\n",
            "A:  desk drawer\n",
            "\n",
            "\n",
            "Model: desk drawer and Actual Answer: desk drawer\n",
            "Q: Many homes in this country are built around a courtyard. Where is it?\n",
            "O: candidate /// spain /// lawn /// asshole /// office complex\n",
            "A:  spain /// office complex\n",
            "\n",
            "\n",
            "Model: spain and Actual Answer: spain\n"
          ]
        },
        {
          "output_type": "stream",
          "name": "stderr",
          "text": [
            " 69%|██████▉   | 848/1221 [01:49<00:46,  7.94it/s]"
          ]
        },
        {
          "output_type": "stream",
          "name": "stdout",
          "text": [
            "Q: Sean was a wreck.  He  loved to build houses, but in his current state, he couldn't do what?\n",
            "O: stand up /// produce /// construct /// make /// build\n",
            "A:  make\n",
            "\n",
            "\n",
            "Model: make and Actual Answer: construct\n",
            "Q: What would be happening if you are pretending to be a police officer?\n",
            "O: fighting /// misunderstanding /// deception /// play /// distrust\n",
            "A:  misunderstanding /// mistrust\n",
            "\n",
            "\n",
            "Model: misunderstanding and Actual Answer: deception\n"
          ]
        },
        {
          "output_type": "stream",
          "name": "stderr",
          "text": [
            " 70%|██████▉   | 850/1221 [01:49<00:46,  7.95it/s]"
          ]
        },
        {
          "output_type": "stream",
          "name": "stdout",
          "text": [
            "Q: Where would you buy a finely crafted writing instrument?\n",
            "O: nasa /// classroom /// stationery store /// purse /// office supply store\n",
            "A:  classroom /// purse\n",
            "\n",
            "\n",
            "Model: classroom and Actual Answer: stationery store\n",
            "Q: The detective was finding information from witnesses, why would he do that?\n",
            "O: fun /// ulcers /// get answers /// happiness /// power\n",
            "A:  ulcers /// get answers\n",
            "\n",
            "\n",
            "Model: ulcers and Actual Answer: get answers\n"
          ]
        },
        {
          "output_type": "stream",
          "name": "stderr",
          "text": [
            " 70%|██████▉   | 852/1221 [01:49<00:47,  7.82it/s]"
          ]
        },
        {
          "output_type": "stream",
          "name": "stdout",
          "text": [
            "Q: Joe found spiders in the place where he keeps his tools.  Where might that be?\n",
            "O: cupboard /// toolbox /// closet /// garage /// mail box\n",
            "A:  drawer\n",
            "\n",
            "\n",
            "Model: drawer and Actual Answer: garage\n",
            "Q: While on the fan boat he thought he'd see swamps and gators, but he was surprised to spot a bald eagle in what nature area?\n",
            "O: everglades /// high places /// natural habitat /// new york /// colorado\n",
            "A:  natural habitat /// new york\n",
            "\n",
            "\n",
            "Model: natural habitat and Actual Answer: everglades\n"
          ]
        },
        {
          "output_type": "stream",
          "name": "stderr",
          "text": [
            " 70%|██████▉   | 854/1221 [01:49<00:46,  7.86it/s]"
          ]
        },
        {
          "output_type": "stream",
          "name": "stdout",
          "text": [
            "Q: Where are you likely to find a supermarket?\n",
            "O: buy food for family /// city or town /// get supplies /// strip mall /// vermont\n",
            "A:  vermont\n",
            "\n",
            "\n",
            "Model: vermont and Actual Answer: city or town\n",
            "Q: Where would you need to use a lantern?\n",
            "O: grocery store /// antique shop /// house /// dark place /// street\n",
            "A:  dark place\n",
            "\n",
            "\n",
            "Model: dark place and Actual Answer: dark place\n"
          ]
        },
        {
          "output_type": "stream",
          "name": "stderr",
          "text": [
            " 70%|███████   | 856/1221 [01:50<00:46,  7.92it/s]"
          ]
        },
        {
          "output_type": "stream",
          "name": "stdout",
          "text": [
            "Q: What area does a police officer patrol?\n",
            "O: direct traffic /// city /// beat /// street /// park\n",
            "A:  city /// street\n",
            "\n",
            "\n",
            "Model: city and Actual Answer: beat\n",
            "Q: Why would a woman kill a stranger she met in a dark alley?\n",
            "O: being raped /// get rid of /// they didn't know the passcode /// get revenge /// were evil\n",
            "A:  being raped\n",
            "\n",
            "\n",
            "Model: being raped and Actual Answer: being raped\n"
          ]
        },
        {
          "output_type": "stream",
          "name": "stderr",
          "text": [
            " 70%|███████   | 858/1221 [01:50<00:45,  7.92it/s]"
          ]
        },
        {
          "output_type": "stream",
          "name": "stdout",
          "text": [
            "Q: The baby was cranky, it needed to eat breakfast but refused to what?\n",
            "O: buy food /// open mouth /// get out of bed /// cry /// wake up\n",
            "A:  cry /// wake up\n",
            "\n",
            "\n",
            "Model: cry and Actual Answer: open mouth\n",
            "Q: What is made up of people?\n",
            "O: buildings /// audience /// apartment /// classroom /// falling down\n",
            "A:  apartment /// classroom\n",
            "\n",
            "\n",
            "Model: apartment and Actual Answer: audience\n"
          ]
        },
        {
          "output_type": "stream",
          "name": "stderr",
          "text": [
            " 70%|███████   | 860/1221 [01:50<00:45,  7.88it/s]"
          ]
        },
        {
          "output_type": "stream",
          "name": "stdout",
          "text": [
            "Q: He was afraid he would die from his cold, so he wisely decided to what?\n",
            "O: ocean /// write will /// never want /// were shot /// seek help\n",
            "A:  never want /// never want\n",
            "\n",
            "\n",
            "Model: never want and Actual Answer: seek help\n",
            "Q: Where would you get a pen if you do not have one?\n",
            "O: briefcase /// desk drawer /// friend's house /// pocket /// sidewalk\n",
            "A:  pocket /// pocket\n",
            "\n",
            "\n",
            "Model: pocket and Actual Answer: friend's house\n"
          ]
        },
        {
          "output_type": "stream",
          "name": "stderr",
          "text": [
            " 71%|███████   | 862/1221 [01:51<00:45,  7.81it/s]"
          ]
        },
        {
          "output_type": "stream",
          "name": "stdout",
          "text": [
            "Q: Why would a small dog pant if it's hot outside?\n",
            "O: outside /// europe /// heat /// wet /// dog show\n",
            "A:  cold /// dog show\n",
            "\n",
            "\n",
            "Model: cold and Actual Answer: heat\n",
            "Q: She asked her little boy why, he replied that he didn't know and it was just what?\n",
            "O: case /// reason /// how /// because /// answer\n",
            "A:  reason /// answer\n",
            "\n",
            "\n",
            "Model: reason and Actual Answer: because\n"
          ]
        },
        {
          "output_type": "stream",
          "name": "stderr",
          "text": [
            " 71%|███████   | 864/1221 [01:51<00:45,  7.81it/s]"
          ]
        },
        {
          "output_type": "stream",
          "name": "stdout",
          "text": [
            "Q: Where would you display a picture on a horizontal surface?\n",
            "O: microwave /// desktop /// shelf /// art show /// wall\n",
            "A:  wall\n",
            "\n",
            "\n",
            "Model: wall and Actual Answer: shelf\n",
            "Q: What skill is needed for riding a bike?\n",
            "O: wheels /// feet /// pedalling /// practice /// good balance\n",
            "A:  pedalling /// pedalling\n",
            "\n",
            "\n",
            "Model: pedalling and Actual Answer: good balance\n"
          ]
        },
        {
          "output_type": "stream",
          "name": "stderr",
          "text": [
            " 71%|███████   | 866/1221 [01:51<00:45,  7.88it/s]"
          ]
        },
        {
          "output_type": "stream",
          "name": "stdout",
          "text": [
            "Q: He looked at the field of pumps, all slowing churning oil out of the what?\n",
            "O: manual /// street /// restaurant /// ground /// service station\n",
            "A:  manual /// street\n",
            "\n",
            "\n",
            "Model: manual and Actual Answer: ground\n",
            "Q: The department to where vendors deliver goods for sale is called what?\n",
            "O: delivered /// take away /// receiving /// pick up /// keep\n",
            "A:  deliver goods /// pick up\n",
            "\n",
            "\n",
            "Model: deliver goods and Actual Answer: receiving\n"
          ]
        },
        {
          "output_type": "stream",
          "name": "stderr",
          "text": [
            " 71%|███████   | 868/1221 [01:51<00:44,  7.95it/s]"
          ]
        },
        {
          "output_type": "stream",
          "name": "stdout",
          "text": [
            "Q: Where is the worst place to be in a ticket office?\n",
            "O: at the top /// movie theaters /// train station /// end of line /// opera house\n",
            "A:  train station /// end of line\n",
            "\n",
            "\n",
            "Model: train station and Actual Answer: end of line\n",
            "Q: Exercise is very good for you, for faster recovery you should always do what afterwards?\n",
            "O: stretch /// lower cholesterol /// weigh /// track /// expend energy\n",
            "A:  stretch /// expend energy\n",
            "\n",
            "\n",
            "Model: stretch and Actual Answer: stretch\n"
          ]
        },
        {
          "output_type": "stream",
          "name": "stderr",
          "text": [
            " 71%|███████▏  | 870/1221 [01:52<00:44,  7.93it/s]"
          ]
        },
        {
          "output_type": "stream",
          "name": "stdout",
          "text": [
            "Q: What happens when you go somewhere and forget something at home?\n",
            "O: arriving /// arrive there /// turn around /// go back /// fart\n",
            "A:  arrive there /// fart\n",
            "\n",
            "\n",
            "Model: arrive there and Actual Answer: go back\n",
            "Q: Where would you acquire a wind instrument for you own use?\n",
            "O: band practice /// concert /// music store /// symphony /// music room\n",
            "A:  music store /// symphony\n",
            "\n",
            "\n",
            "Model: music store and Actual Answer: music store\n"
          ]
        },
        {
          "output_type": "stream",
          "name": "stderr",
          "text": [
            " 71%|███████▏  | 872/1221 [01:52<00:44,  7.92it/s]"
          ]
        },
        {
          "output_type": "stream",
          "name": "stdout",
          "text": [
            "Q: Where would a person light alcohol on fire to observe the reaction?\n",
            "O: supermarket /// bar /// pub /// restaurants /// chemistry lab\n",
            "A:  bar /// restaurant\n",
            "\n",
            "\n",
            "Model: bar and Actual Answer: chemistry lab\n",
            "Q: If a storey contained a panoramic view, what kind of structure would it be in?\n",
            "O: horizontal room /// storey book /// mall /// tall building /// book of stories\n",
            "A:  tall building /// tall building\n",
            "\n",
            "\n",
            "Model: tall building and Actual Answer: tall building\n"
          ]
        },
        {
          "output_type": "stream",
          "name": "stderr",
          "text": [
            " 72%|███████▏  | 874/1221 [01:52<00:43,  7.95it/s]"
          ]
        },
        {
          "output_type": "stream",
          "name": "stdout",
          "text": [
            "Q: Where does lettuce arrive by large trucks?\n",
            "O: kitchen /// supermarket /// farmer's market /// salad /// refrigerator\n",
            "A:  supermarket /// refrigerator\n",
            "\n",
            "\n",
            "Model: supermarket and Actual Answer: supermarket\n",
            "Q: Why do people who are dying receive social security payments?\n",
            "O: rejuvenation /// born again /// no longer exist /// unable to work /// change of color\n",
            "A:  no longer exist /// unable to work /// change of\n",
            "\n",
            "\n",
            "Model: no longer exist and Actual Answer: unable to work\n"
          ]
        },
        {
          "output_type": "stream",
          "name": "stderr",
          "text": [
            " 72%|███████▏  | 876/1221 [01:52<00:44,  7.79it/s]"
          ]
        },
        {
          "output_type": "stream",
          "name": "stdout",
          "text": [
            "Q: What should I do with a jumping rope?\n",
            "O: fatigue /// sweating /// get tired /// tiredness /// hopping\n",
            "A:  fatigue /// fatigue\n",
            "\n",
            "\n",
            "Model: fatigue and Actual Answer: hopping\n",
            "Q: What do geese do every fall in fields?\n",
            "O: guard house /// fly /// eat /// follow ultralight airplane /// group together\n",
            "A:  guard house /// fly airplane\n",
            "\n",
            "\n",
            "Model: guard house and Actual Answer: group together\n"
          ]
        },
        {
          "output_type": "stream",
          "name": "stderr",
          "text": [
            " 72%|███████▏  | 878/1221 [01:53<00:43,  7.85it/s]"
          ]
        },
        {
          "output_type": "stream",
          "name": "stdout",
          "text": [
            "Q: I took my seat, the curtains drew back and I enjoyed the what?\n",
            "O: airplane /// movie /// auditorium /// theatre /// show\n",
            "A:  theater /// auditorium\n",
            "\n",
            "\n",
            "Model: theater and Actual Answer: show\n",
            "Q: What should everyone do who doesn't want to fight anymore?\n",
            "O: explicate /// pay tribute to king /// hope for peace /// wear shoes /// do well\n",
            "A:  do well\n",
            "\n",
            "\n",
            "Model: do well and Actual Answer: hope for peace\n"
          ]
        },
        {
          "output_type": "stream",
          "name": "stderr",
          "text": [
            " 72%|███████▏  | 880/1221 [01:53<00:43,  7.90it/s]"
          ]
        },
        {
          "output_type": "stream",
          "name": "stdout",
          "text": [
            "Q: Where is the ideal location for a post office?\n",
            "O: building /// business district /// above ground /// most towns /// center of town\n",
            "A:  business district /// most towns\n",
            "\n",
            "\n",
            "Model: business district and Actual Answer: center of town\n",
            "Q: Where outside of a city would a squirrel live?\n",
            "O: roof /// inside home /// forest /// yard /// park\n",
            "A:  yard /// park\n",
            "\n",
            "\n",
            "Model: yard and Actual Answer: forest\n"
          ]
        },
        {
          "output_type": "stream",
          "name": "stderr",
          "text": [
            " 72%|███████▏  | 882/1221 [01:53<00:42,  7.93it/s]"
          ]
        },
        {
          "output_type": "stream",
          "name": "stdout",
          "text": [
            "Q: You should watch out for snakes if floating down what African body of water?\n",
            "O: wet grass /// western texas /// high grass /// amazon river /// tree\n",
            "A:  amazon river /// amazon river\n",
            "\n",
            "\n",
            "Model: amazon river and Actual Answer: amazon river\n",
            "Q: At the end of the day as he began to eat he paused and thanked her, it wasn't often she would what?\n",
            "O: cook dinner /// did chores /// make food /// stretch out /// get food\n",
            "A:  do chores /// stretch out\n",
            "\n",
            "\n",
            "Model: do chores and Actual Answer: cook dinner\n"
          ]
        },
        {
          "output_type": "stream",
          "name": "stderr",
          "text": [
            " 72%|███████▏  | 884/1221 [01:53<00:42,  7.88it/s]"
          ]
        },
        {
          "output_type": "stream",
          "name": "stdout",
          "text": [
            "Q: To what do trees roots cling?\n",
            "O: yard /// orchard /// museum /// countryside /// surface of earth\n",
            "A:  yard /// surface of earth\n",
            "\n",
            "\n",
            "Model: yard and Actual Answer: surface of earth\n",
            "Q: What probably has a lot of dust in the back?\n",
            "O: closet /// door /// corner /// shelf /// library\n",
            "A:  shelf /// shelf\n",
            "\n",
            "\n",
            "Model: shelf and Actual Answer: closet\n"
          ]
        },
        {
          "output_type": "stream",
          "name": "stderr",
          "text": [
            " 73%|███████▎  | 886/1221 [01:54<00:42,  7.93it/s]"
          ]
        },
        {
          "output_type": "stream",
          "name": "stdout",
          "text": [
            "Q: At the new comic store he found himself making friends, it was nice to meet people with what?\n",
            "O: smiling /// smile /// open mind /// common interests /// laughter\n",
            "A:  common interests /// laughter\n",
            "\n",
            "\n",
            "Model: common interests and Actual Answer: common interests\n",
            "Q: The student explained he had a clue what neuroepithelium was and got really nervous, he then lost his balance because a what issue?\n",
            "O: tastebud /// retina /// inner ear /// nasal cavity /// autistic\n",
            "A:  inner ear /// nasal cavity\n",
            "\n",
            "\n",
            "Model: inner ear and Actual Answer: inner ear\n"
          ]
        },
        {
          "output_type": "stream",
          "name": "stderr",
          "text": [
            " 73%|███████▎  | 888/1221 [01:54<00:41,  7.98it/s]"
          ]
        },
        {
          "output_type": "stream",
          "name": "stdout",
          "text": [
            "Q: What could people do that involves talking?\n",
            "O: confession /// state park /// sing /// carnival /// opera\n",
            "A:  confession /// sing carnival\n",
            "\n",
            "\n",
            "Model: confession and Actual Answer: confession\n",
            "Q: If you're a child answering questions and an adult is asking them that adult is doing what?\n",
            "O: discussion /// explaning /// teaching /// confusion /// correct\n",
            "A:  confusion /// correct\n",
            "\n",
            "\n",
            "Model: confusion and Actual Answer: teaching\n"
          ]
        },
        {
          "output_type": "stream",
          "name": "stderr",
          "text": [
            " 73%|███████▎  | 890/1221 [01:54<00:41,  8.01it/s]"
          ]
        },
        {
          "output_type": "stream",
          "name": "stdout",
          "text": [
            "Q: He has lactose intolerant, but was eating dinner made of cheese, what followed for him?\n",
            "O: digestive /// feel better /// sleepiness /// indigestion /// illness\n",
            "A:  digestive discomfort /// indigestion\n",
            "\n",
            "\n",
            "Model: digestive discomfort and Actual Answer: indigestion\n",
            "Q: The teacher played on the upright piano, she was explaining the song to all the students in the what?\n",
            "O: music room /// bathroom /// house /// living room /// music store\n",
            "A:  music room /// music room\n",
            "\n",
            "\n",
            "Model: music room and Actual Answer: music room\n"
          ]
        },
        {
          "output_type": "stream",
          "name": "stderr",
          "text": [
            " 73%|███████▎  | 892/1221 [01:54<00:42,  7.80it/s]"
          ]
        },
        {
          "output_type": "stream",
          "name": "stdout",
          "text": [
            "Q: When you get an F, you fail. If you get A's you are?\n",
            "O: passed /// completing /// passed /// passing /// succeeding\n",
            "A:  succeeding /// succeeding\n",
            "\n",
            "\n",
            "Model: succeeding and Actual Answer: passing\n",
            "Q: What is the main purpose of having a bath?\n",
            "O: cleanness /// wetness /// exfoliation /// use water /// hygiene\n",
            "A:  use water /// use water\n",
            "\n",
            "\n",
            "Model: use water and Actual Answer: cleanness\n"
          ]
        },
        {
          "output_type": "stream",
          "name": "stderr",
          "text": [
            " 73%|███████▎  | 894/1221 [01:55<00:42,  7.70it/s]"
          ]
        },
        {
          "output_type": "stream",
          "name": "stdout",
          "text": [
            "Q: The ball was hit over a boundary and struck an audience member.  What kind of game were they playing?\n",
            "O: sporting event /// sporting /// basketball /// society /// ranch country\n",
            "A:  sporting event /// ranch country\n",
            "\n",
            "\n",
            "Model: sporting event and Actual Answer: sporting event\n",
            "Q: What is someone operating a vehicle likely to be accused of after becoming inebriated?\n",
            "O: punish /// arrest /// automobile accidents /// drunk driving /// talking nonsense\n",
            "A:  arrest /// automobile accidents\n",
            "\n",
            "\n",
            "Model: arrest and Actual Answer: drunk driving\n"
          ]
        },
        {
          "output_type": "stream",
          "name": "stderr",
          "text": [
            " 73%|███████▎  | 896/1221 [01:55<00:42,  7.74it/s]"
          ]
        },
        {
          "output_type": "stream",
          "name": "stdout",
          "text": [
            "Q: Where would you get jewelry if you do not have any?\n",
            "O: vault /// suitcase /// neighbour's house /// department store /// safe deposit box\n",
            "A:  vault /// suitcase\n",
            "\n",
            "\n",
            "Model: vault and Actual Answer: department store\n",
            "Q: What is a philosopher waiting for to eventually gain through his studies?\n",
            "O: job /// boredom /// anxiety /// impatience /// wisdom\n",
            "A:  boredom /// impatience\n",
            "\n",
            "\n",
            "Model: boredom and Actual Answer: wisdom\n"
          ]
        },
        {
          "output_type": "stream",
          "name": "stderr",
          "text": [
            " 74%|███████▎  | 898/1221 [01:55<00:41,  7.72it/s]"
          ]
        },
        {
          "output_type": "stream",
          "name": "stdout",
          "text": [
            "Q: What do young boys do on the ice in the winter?\n",
            "O: ski /// play hockey /// summer /// knit /// warm\n",
            "A:  winter\n",
            "\n",
            "\n",
            "Model: winter and Actual Answer: play hockey\n",
            "Q: She loved spending money at the thrift store on knickknacks, this resulted in a lot of what on every shelf in her house?\n",
            "O: poverty /// clutter /// getting /// satisfaction /// more happiness\n",
            "A:  clutter /// more happiness\n",
            "\n",
            "\n",
            "Model: clutter and Actual Answer: clutter\n"
          ]
        },
        {
          "output_type": "stream",
          "name": "stderr",
          "text": [
            " 74%|███████▎  | 900/1221 [01:55<00:41,  7.72it/s]"
          ]
        },
        {
          "output_type": "stream",
          "name": "stdout",
          "text": [
            "Q: I listened to lecture intensely, what is my goal?\n",
            "O: gain confidence /// concentrate /// get attention /// pay attention /// stop talking\n",
            "A:  get attention /// pay attention /// stop talking\n",
            "\n",
            "\n",
            "Model: get attention and Actual Answer: concentrate\n",
            "Q: If a person is using a computer to talk to their granddaughter, what might the computer cause for them?\n",
            "O: program created /// stress /// happiness /// ocean /// headache\n",
            "A:  stress /// headache\n",
            "\n",
            "\n",
            "Model: stress and Actual Answer: happiness\n"
          ]
        },
        {
          "output_type": "stream",
          "name": "stderr",
          "text": [
            " 74%|███████▍  | 902/1221 [01:56<00:41,  7.72it/s]"
          ]
        },
        {
          "output_type": "stream",
          "name": "stdout",
          "text": [
            "Q: Joe was there to meet a large number of people.  As he filed though the entrance hall, he saw many strangers who came from far away.  What sort of building is he probably in?\n",
            "O: person /// box /// convention center /// public building /// large building\n",
            "A:  large building\n",
            "\n",
            "\n",
            "Model: large building and Actual Answer: convention center\n",
            "Q: John wanted scatter his wife's remains in a lake in the wilderness.  He had to delay before of where he lived.  Where did he live?\n",
            "O: mountains /// dead body /// pay debts /// state park /// new york\n",
            "A:  new york /// new york\n",
            "\n",
            "\n",
            "Model: new york and Actual Answer: new york\n"
          ]
        },
        {
          "output_type": "stream",
          "name": "stderr",
          "text": [
            " 74%|███████▍  | 904/1221 [01:56<00:40,  7.82it/s]"
          ]
        },
        {
          "output_type": "stream",
          "name": "stdout",
          "text": [
            "Q: Many towns and cities have trash cans where on sidewalks?\n",
            "O: hospital /// park /// corner /// motel /// office\n",
            "A:  park /// motel\n",
            "\n",
            "\n",
            "Model: park and Actual Answer: corner\n",
            "Q: The family wanted to adopt for enviro-ethical reasons, what did they abhor?\n",
            "O: orphan /// biological child /// give away /// foster child /// abandon\n",
            "A:  adopt\n",
            "\n",
            "\n",
            "Model: adopt and Actual Answer: biological child\n"
          ]
        },
        {
          "output_type": "stream",
          "name": "stderr",
          "text": [
            " 74%|███████▍  | 906/1221 [01:56<00:39,  7.92it/s]"
          ]
        },
        {
          "output_type": "stream",
          "name": "stdout",
          "text": [
            "Q: What happens when airplane engines cut off and are unable to be restarted in flight?\n",
            "O: stall /// start melting /// taxi /// crash /// speed up\n",
            "A:  speed up /// speed up\n",
            "\n",
            "\n",
            "Model: speed up and Actual Answer: crash\n",
            "Q: Where would you be concerned about finding a cavity?\n",
            "O: solid object /// molar /// dentist /// unbrushed tooth /// teeth\n",
            "A:  dentistry /// dentistry\n",
            "\n",
            "\n",
            "Model: dentistry and Actual Answer: teeth\n"
          ]
        },
        {
          "output_type": "stream",
          "name": "stderr",
          "text": [
            " 74%|███████▍  | 908/1221 [01:56<00:39,  7.88it/s]"
          ]
        },
        {
          "output_type": "stream",
          "name": "stdout",
          "text": [
            "Q: Human beings learn about current events from what print item?\n",
            "O: question authority /// melt /// read newspapers /// act /// dictionary\n",
            "A:  question authority /// read newspapers\n",
            "\n",
            "\n",
            "Model: question authority and Actual Answer: read newspapers\n",
            "Q: In what kind of environment does an anemone live?\n",
            "O: nursery /// south pacific /// desert /// sea water /// atlantic ocean\n",
            "A:  south pacific /// desert\n",
            "\n",
            "\n",
            "Model: south pacific and Actual Answer: sea water\n"
          ]
        },
        {
          "output_type": "stream",
          "name": "stderr",
          "text": [
            " 75%|███████▍  | 910/1221 [01:57<00:39,  7.93it/s]"
          ]
        },
        {
          "output_type": "stream",
          "name": "stdout",
          "text": [
            "Q: He wanted lodging in the actual what, so that he was already where he needed to be?\n",
            "O: a yurt /// resort area /// big city /// michigan /// going on vacation\n",
            "A:  resort area /// big city\n",
            "\n",
            "\n",
            "Model: resort area and Actual Answer: resort area\n",
            "Q: If I am suffering from boredom, and I want to see something beautiful, what should I do?\n",
            "O: see art /// see ghost /// watch film /// grocery shop /// do crossword puzzle\n",
            "A:  watch film /// watch film\n",
            "\n",
            "\n",
            "Model: watch film and Actual Answer: see art\n"
          ]
        },
        {
          "output_type": "stream",
          "name": "stderr",
          "text": [
            " 75%|███████▍  | 912/1221 [01:57<00:38,  7.99it/s]"
          ]
        },
        {
          "output_type": "stream",
          "name": "stdout",
          "text": [
            "Q: The goal was to hit the target, but a projectile ball can't hit anything if it isn't in what?\n",
            "O: motion /// ocean /// flintlock /// arcade /// tennis court\n",
            "A:  tennis court\n",
            "\n",
            "\n",
            "Model: tennis court and Actual Answer: motion\n",
            "Q: Where is a good place to set a cup of coffee while relaxing?\n",
            "O: coffee shop /// kitchen /// hand /// table /// office\n",
            "A:  coffee shop /// office\n",
            "\n",
            "\n",
            "Model: coffee shop and Actual Answer: table\n"
          ]
        },
        {
          "output_type": "stream",
          "name": "stderr",
          "text": [
            " 75%|███████▍  | 914/1221 [01:57<00:38,  7.94it/s]"
          ]
        },
        {
          "output_type": "stream",
          "name": "stdout",
          "text": [
            "Q: If a fried egg was runny and there was no toast to sop it up, after the meal there'd be a messy what?\n",
            "O: henhouse /// garden /// plate /// supermarket /// bird's nest\n",
            "A:  supermarket /// chicken nest\n",
            "\n",
            "\n",
            "Model: supermarket and Actual Answer: plate\n",
            "Q: If I want to behave with proper aplomb, what manners should I avoid?\n",
            "O: inappropriate /// incomplete /// impolite /// none /// incorrect\n",
            "A:  impolite /// impolite\n",
            "\n",
            "\n",
            "Model: impolite and Actual Answer: inappropriate\n"
          ]
        },
        {
          "output_type": "stream",
          "name": "stderr",
          "text": [
            " 75%|███████▌  | 916/1221 [01:57<00:40,  7.55it/s]"
          ]
        },
        {
          "output_type": "stream",
          "name": "stdout",
          "text": [
            "Q: Before lifting weights he liked to warm up on the squash court, he really enjoyed the facilities of the what?\n",
            "O: swimming pool /// rich person's house /// country club /// fitness center /// park\n",
            "A:  swimming pool /// country club\n",
            "\n",
            "\n",
            "Model: swimming pool and Actual Answer: fitness center\n",
            "Q: What will happen to animals after eating food?\n",
            "O: bite /// digestion /// feel pleasure /// pass water /// listen to each other\n",
            "A:  digestion /// pass water\n",
            "\n",
            "\n",
            "Model: digestion and Actual Answer: feel pleasure\n"
          ]
        },
        {
          "output_type": "stream",
          "name": "stderr",
          "text": [
            " 75%|███████▌  | 918/1221 [01:58<00:39,  7.72it/s]"
          ]
        },
        {
          "output_type": "stream",
          "name": "stdout",
          "text": [
            "Q: If I wanted to grow plants, where could I put a lot of dirt?\n",
            "O: corner /// street /// closet /// garden /// bathtub\n",
            "A:  corner /// garden\n",
            "\n",
            "\n",
            "Model: corner and Actual Answer: garden\n",
            "Q: What does a person often feel about someone judging them guilty?\n",
            "O: controversy /// responsibility /// resentment /// judge feelings /// hurt feelings\n",
            "A:  resentment /// anger\n",
            "\n",
            "\n",
            "Model: resentment and Actual Answer: resentment\n"
          ]
        },
        {
          "output_type": "stream",
          "name": "stderr",
          "text": [
            " 75%|███████▌  | 920/1221 [01:58<00:38,  7.81it/s]"
          ]
        },
        {
          "output_type": "stream",
          "name": "stdout",
          "text": [
            "Q: A town between two mountains is located in a what?\n",
            "O: valley /// hospital /// state /// train station /// michigan\n",
            "A:  michigan /// michigan\n",
            "\n",
            "\n",
            "Model: michigan and Actual Answer: valley\n",
            "Q: James need to use a toilet but there were no public ones in sight.  Eventually he broke down and did something very expensive so that he could get a toilet.  Where might he have gone?\n",
            "O: motel room /// apartment /// bathroom /// games /// house\n",
            "A:  bathroom\n",
            "\n",
            "\n",
            "Model: bathroom and Actual Answer: motel room\n"
          ]
        },
        {
          "output_type": "stream",
          "name": "stderr",
          "text": [
            " 76%|███████▌  | 922/1221 [01:58<00:38,  7.85it/s]"
          ]
        },
        {
          "output_type": "stream",
          "name": "stdout",
          "text": [
            "Q: Why did the heavy metal band need electricity at the stadium?\n",
            "O: concert /// bedroom /// make person sick /// building /// church\n",
            "A:  church\n",
            "\n",
            "\n",
            "Model: church and Actual Answer: concert\n",
            "Q: What is a person looking for when completing puzzles or riddles?\n",
            "O: avoid pain /// compliments /// intellectual challenge /// passing grade /// attention\n",
            "A:  attention /// passing grade\n",
            "\n",
            "\n",
            "Model: attention and Actual Answer: intellectual challenge\n"
          ]
        },
        {
          "output_type": "stream",
          "name": "stderr",
          "text": [
            " 76%|███████▌  | 924/1221 [01:58<00:37,  7.89it/s]"
          ]
        },
        {
          "output_type": "stream",
          "name": "stdout",
          "text": [
            "Q: If someone was making breakfast, they'd probably put two slices of bread in the what?\n",
            "O: plastic bag /// pantry /// supermarket /// toaster /// prison\n",
            "A:  pantry /// pantry\n",
            "\n",
            "\n",
            "Model: pantry and Actual Answer: toaster\n",
            "Q: His house was a mess, he began doing housework to get what?\n",
            "O: boredom /// nice home /// michigan /// feeling satisfied /// house clean\n",
            "A:  michigan /// house clean\n",
            "\n",
            "\n",
            "Model: michigan and Actual Answer: house clean\n"
          ]
        },
        {
          "output_type": "stream",
          "name": "stderr",
          "text": [
            " 76%|███████▌  | 926/1221 [01:59<00:37,  7.90it/s]"
          ]
        },
        {
          "output_type": "stream",
          "name": "stdout",
          "text": [
            "Q: Where would a corpse be covered by a blanket?\n",
            "O: bath store /// bedroom /// hospital /// flower garden /// michigan\n",
            "A:  flower garden /// hospital\n",
            "\n",
            "\n",
            "Model: flower garden and Actual Answer: hospital\n",
            "Q: The man  tried to break the glass in order to make his escape in time, but he could not.  The person in the cat, trying to kill him, did what?\n",
            "O: accelerate /// putting together /// working /// construct /// train\n",
            "A:  accelerate /// construct\n",
            "\n",
            "\n",
            "Model: accelerate and Actual Answer: accelerate\n"
          ]
        },
        {
          "output_type": "stream",
          "name": "stderr",
          "text": [
            " 76%|███████▌  | 928/1221 [01:59<00:36,  7.92it/s]"
          ]
        },
        {
          "output_type": "stream",
          "name": "stdout",
          "text": [
            "Q: The trucker plopped on the bench with a sense of relief, where did he arrive?\n",
            "O: bordello /// rest area /// garden /// bus stop /// state park\n",
            "A:  bus stop /// rest area\n",
            "\n",
            "\n",
            "Model: bus stop and Actual Answer: rest area\n",
            "Q: What is part of a republic like the USA?\n",
            "O: state /// democratic /// kingdom /// democracy /// dictatorship\n",
            "A:  democracy /// democracy\n",
            "\n",
            "\n",
            "Model: democracy and Actual Answer: state\n"
          ]
        },
        {
          "output_type": "stream",
          "name": "stderr",
          "text": [
            " 76%|███████▌  | 930/1221 [01:59<00:37,  7.78it/s]"
          ]
        },
        {
          "output_type": "stream",
          "name": "stdout",
          "text": [
            "Q: Where do you keep extra clothing on a hike?\n",
            "O: person /// hamper /// closet /// upstairs /// backpack\n",
            "A:  backpack\n",
            "\n",
            "\n",
            "Model: backpack and Actual Answer: backpack\n",
            "Q: What could an apple tree do?\n",
            "O: new hampshire /// bloom /// washington state /// sunshine /// spontaneously combust\n",
            "A:  bloom /// bloom /// spontaneously combust\n",
            "\n",
            "\n",
            "Model: bloom and Actual Answer: bloom\n"
          ]
        },
        {
          "output_type": "stream",
          "name": "stderr",
          "text": [
            " 76%|███████▋  | 932/1221 [01:59<00:37,  7.65it/s]"
          ]
        },
        {
          "output_type": "stream",
          "name": "stdout",
          "text": [
            "Q: What very cold area in the east can a crab be found?\n",
            "O: fish market /// shallow waters /// atlantic ocean /// fresh water /// shore line\n",
            "A:  shallow waters /// shore line\n",
            "\n",
            "\n",
            "Model: shallow waters and Actual Answer: atlantic ocean\n",
            "Q: The chef wanted to perfect his craft, what did he do?\n",
            "O: thin potatos /// prepare food /// study french cooking /// drink /// cook dinner\n",
            "A:  study french cooking /// cook dinner\n",
            "\n",
            "\n",
            "Model: study french cooking and Actual Answer: study french cooking\n"
          ]
        },
        {
          "output_type": "stream",
          "name": "stderr",
          "text": [
            " 76%|███████▋  | 934/1221 [02:00<00:36,  7.77it/s]"
          ]
        },
        {
          "output_type": "stream",
          "name": "stdout",
          "text": [
            "Q: She wanted a kitten and puppy so why did she only get the puppy?\n",
            "O: one choice for pet /// cute /// kennel /// soft /// waxy\n",
            "A:  soft /// waxy\n",
            "\n",
            "\n",
            "Model: soft and Actual Answer: one choice for pet\n",
            "Q: There was no shade for Jenny.  She was forced to lie there exposed to what?\n",
            "O: full sunlight /// bright sunshine /// sunny place /// eat cake /// direct sunlight\n",
            "A:  sunny place /// sunny place\n",
            "\n",
            "\n",
            "Model: sunny place and Actual Answer: full sunlight\n"
          ]
        },
        {
          "output_type": "stream",
          "name": "stderr",
          "text": [
            " 77%|███████▋  | 936/1221 [02:00<00:36,  7.87it/s]"
          ]
        },
        {
          "output_type": "stream",
          "name": "stdout",
          "text": [
            "Q: What could happen to you after you are cleaning house for a long time?\n",
            "O: neatness /// tiredness /// order /// exhaustion /// sneezing\n",
            "A:  tiredness\n",
            "\n",
            "\n",
            "Model: tiredness and Actual Answer: exhaustion\n",
            "Q: What is someone doing when scheduling when to go to party?\n",
            "O: rumpspringa /// meeting new people /// having fun /// meet new people /// plan\n",
            "A:  meeting new people /// planning\n",
            "\n",
            "\n",
            "Model: meeting new people and Actual Answer: plan\n"
          ]
        },
        {
          "output_type": "stream",
          "name": "stderr",
          "text": [
            " 77%|███████▋  | 938/1221 [02:00<00:35,  7.88it/s]"
          ]
        },
        {
          "output_type": "stream",
          "name": "stdout",
          "text": [
            "Q: What kind of path do comets tend to have?\n",
            "O: ice /// set orbits /// universe /// space /// solid nucleus\n",
            "A:  solid nucleus /// space\n",
            "\n",
            "\n",
            "Model: solid nucleus and Actual Answer: set orbits\n",
            "Q: What do people feel after having sex that requires them to shower?\n",
            "O: bedroom /// pleasant /// obesity /// painful /// dirty\n",
            "A:  painful /// dirty\n",
            "\n",
            "\n",
            "Model: painful and Actual Answer: dirty\n"
          ]
        },
        {
          "output_type": "stream",
          "name": "stderr",
          "text": [
            " 77%|███████▋  | 940/1221 [02:00<00:35,  7.88it/s]"
          ]
        },
        {
          "output_type": "stream",
          "name": "stdout",
          "text": [
            "Q: The vet found malignant tumors on the animals, what is their likely fate?\n",
            "O: euthanasia /// pass water /// die of cancer /// feel pain /// feel pleasure\n",
            "A:  die of cancer /// feel pain\n",
            "\n",
            "\n",
            "Model: die of cancer and Actual Answer: die of cancer\n",
            "Q: What is the thing that is agitated in your head when kissing?\n",
            "O: sexual stimulation /// herpes /// headache /// catch cold /// happiness\n",
            "A:  herpes /// headache\n",
            "\n",
            "\n",
            "Model: herpes and Actual Answer: happiness\n"
          ]
        },
        {
          "output_type": "stream",
          "name": "stderr",
          "text": [
            " 77%|███████▋  | 942/1221 [02:01<00:35,  7.87it/s]"
          ]
        },
        {
          "output_type": "stream",
          "name": "stdout",
          "text": [
            "Q: Billy was reading the newspaper as he commuted to work, but once he got to his destination he balled it up and put it somewhere. Where did it put it?\n",
            "O: trash /// floor /// subway /// ground /// lawn\n",
            "A:  ground /// subway\n",
            "\n",
            "\n",
            "Model: ground and Actual Answer: trash\n",
            "Q: Where do you keep a pail in your house?\n",
            "O: garage /// pool /// utility room /// hardware store /// wishing well\n",
            "A:  garage /// utility room\n",
            "\n",
            "\n",
            "Model: garage and Actual Answer: utility room\n"
          ]
        },
        {
          "output_type": "stream",
          "name": "stderr",
          "text": [
            " 77%|███████▋  | 944/1221 [02:01<00:35,  7.90it/s]"
          ]
        },
        {
          "output_type": "stream",
          "name": "stdout",
          "text": [
            "Q: what is printed with ink and distributed daily?\n",
            "O: fountain pen /// squid /// newspaper /// book /// printer\n",
            "A:  fountain pen /// newspaper\n",
            "\n",
            "\n",
            "Model: fountain pen and Actual Answer: newspaper\n",
            "Q: What are people likely to do when an unexpected decent outcome occurs?\n",
            "O: kill each other /// thank god /// experience pain /// hatred /// talk to each other\n",
            "A:  hate each other /// experience pain\n",
            "\n",
            "\n",
            "Model: hate each other and Actual Answer: thank god\n"
          ]
        },
        {
          "output_type": "stream",
          "name": "stderr",
          "text": [
            " 77%|███████▋  | 946/1221 [02:01<00:34,  7.89it/s]"
          ]
        },
        {
          "output_type": "stream",
          "name": "stdout",
          "text": [
            "Q: The terrace had Kanji written on it, indicating that it was made where?\n",
            "O: japan /// rice paddy /// garden /// michigan /// italy\n",
            "A:  michigan /// rice paddy\n",
            "\n",
            "\n",
            "Model: michigan and Actual Answer: japan\n",
            "Q: The company sent off many purchases, they used recycled cardboard as their what?\n",
            "O: packaging materials /// recycle bin /// box factory /// warehouse /// bowler hats\n",
            "A:  packaging materials /// recycling bin\n",
            "\n",
            "\n",
            "Model: packaging materials and Actual Answer: packaging materials\n"
          ]
        },
        {
          "output_type": "stream",
          "name": "stderr",
          "text": [
            " 78%|███████▊  | 948/1221 [02:01<00:34,  7.88it/s]"
          ]
        },
        {
          "output_type": "stream",
          "name": "stdout",
          "text": [
            "Q: Why might a person be known as a liar?\n",
            "O: have no home /// false information /// hungry /// made fun of /// brain tumor\n",
            "A:  brain tumor\n",
            "\n",
            "\n",
            "Model: brain tumor and Actual Answer: false information\n",
            "Q: The child was politely waiting for dessert, he was eventually rewarded for his what?\n",
            "O: timing /// expenditure of time /// getting bored /// anger /// patience\n",
            "A:  patience /// patience\n",
            "\n",
            "\n",
            "Model: patience and Actual Answer: patience\n"
          ]
        },
        {
          "output_type": "stream",
          "name": "stderr",
          "text": [
            " 78%|███████▊  | 950/1221 [02:02<00:34,  7.87it/s]"
          ]
        },
        {
          "output_type": "stream",
          "name": "stdout",
          "text": [
            "Q: The man was giving assistance to a pan handler in the streets, how did he give assistance?\n",
            "O: feeling good /// killing /// law suits /// out of pocket /// feel loved\n",
            "A:  feeling good /// out of pocket\n",
            "\n",
            "\n",
            "Model: feeling good and Actual Answer: out of pocket\n",
            "Q: What do you call the caretakers of a child?\n",
            "O: principal /// birth /// loving couple /// act of sex /// parents\n",
            "A:  parents\n",
            "\n",
            "\n",
            "Model: parents and Actual Answer: parents\n"
          ]
        },
        {
          "output_type": "stream",
          "name": "stderr",
          "text": [
            " 78%|███████▊  | 952/1221 [02:02<00:34,  7.91it/s]"
          ]
        },
        {
          "output_type": "stream",
          "name": "stdout",
          "text": [
            "Q: Where would you run in to a niece you only see every one and a while?\n",
            "O: family reunion /// brother's house /// family picture book /// family tree /// party\n",
            "A:  family tree\n",
            "\n",
            "\n",
            "Model: family tree and Actual Answer: family reunion\n",
            "Q: Working on the elaborate task was taxing, it require extreme what?\n",
            "O: holding /// concentration /// energy /// job /// energh\n",
            "A:  job\n",
            "\n",
            "\n",
            "Model: job and Actual Answer: concentration\n"
          ]
        },
        {
          "output_type": "stream",
          "name": "stderr",
          "text": [
            " 78%|███████▊  | 954/1221 [02:02<00:34,  7.83it/s]"
          ]
        },
        {
          "output_type": "stream",
          "name": "stdout",
          "text": [
            "Q: What may you have after awaking after a night of heavy drinking?\n",
            "O: get up /// discomfort /// discomfort /// headache /// shock\n",
            "A:  discomfort /// shock\n",
            "\n",
            "\n",
            "Model: discomfort and Actual Answer: headache\n",
            "Q: What uses a ribbon to put words on paper?\n",
            "O: wrapping paper /// girl's hair /// bath /// floral arrangement /// typewriter\n",
            "A:  typewriter\n",
            "\n",
            "\n",
            "Model: typewriter and Actual Answer: typewriter\n"
          ]
        },
        {
          "output_type": "stream",
          "name": "stderr",
          "text": [
            " 78%|███████▊  | 956/1221 [02:02<00:33,  7.86it/s]"
          ]
        },
        {
          "output_type": "stream",
          "name": "stdout",
          "text": [
            "Q: Where are sheep likely to live?\n",
            "O: school /// meadow /// lamb /// farm /// fairgrounds\n",
            "A:  fairgrounds\n",
            "\n",
            "\n",
            "Model: fairgrounds and Actual Answer: farm\n",
            "Q: If I was watching TV on the couch and the air was stuffy, I might turn the fan on to make the what more comfortable?\n",
            "O: hockey game /// living room /// bathroom /// football stadium /// hot room\n",
            "A:  football stadium /// football stadium\n",
            "\n",
            "\n",
            "Model: football stadium and Actual Answer: living room\n"
          ]
        },
        {
          "output_type": "stream",
          "name": "stderr",
          "text": [
            " 78%|███████▊  | 958/1221 [02:03<00:33,  7.81it/s]"
          ]
        },
        {
          "output_type": "stream",
          "name": "stdout",
          "text": [
            "Q: While walking the student needed to store his writing insturment away, where did he put it?\n",
            "O: desk drawer /// cabinet /// purse /// classroom /// pocket\n",
            "A:  desk drawer /// pocket\n",
            "\n",
            "\n",
            "Model: desk drawer and Actual Answer: pocket\n",
            "Q: Who watches a play in an auditorium?\n",
            "O: building /// crowd /// city /// group /// high school\n",
            "A:  crowd /// group\n",
            "\n",
            "\n",
            "Model: crowd and Actual Answer: crowd\n"
          ]
        },
        {
          "output_type": "stream",
          "name": "stderr",
          "text": [
            " 79%|███████▊  | 960/1221 [02:03<00:33,  7.86it/s]"
          ]
        },
        {
          "output_type": "stream",
          "name": "stdout",
          "text": [
            "Q: What is a possible outcome for committing murder?\n",
            "O: problems /// incarceration /// trial /// imprisonment /// prosecution\n",
            "A:  imprisonment /// prosecution\n",
            "\n",
            "\n",
            "Model: imprisonment and Actual Answer: imprisonment\n",
            "Q: where is a good place to obtain new soap?\n",
            "O: supermarket /// washing /// cabinet /// own home /// sink\n",
            "A:  sink\n",
            "\n",
            "\n",
            "Model: sink and Actual Answer: supermarket\n"
          ]
        },
        {
          "output_type": "stream",
          "name": "stderr",
          "text": [
            " 79%|███████▉  | 962/1221 [02:03<00:33,  7.76it/s]"
          ]
        },
        {
          "output_type": "stream",
          "name": "stdout",
          "text": [
            "Q: What do people do for food?\n",
            "O: talk to each other /// complete job /// wear hats /// kill animals /// believe in god\n",
            "A:  talk to each other /// believe in god\n",
            "\n",
            "\n",
            "Model: talk to each other and Actual Answer: kill animals\n",
            "Q: There was many a bottle to choose from behind the cashier where?\n",
            "O: grocery store /// diaper bag /// gas station /// liquor store /// medicine cabinet\n",
            "A:  grocery store /// liquor store\n",
            "\n",
            "\n",
            "Model: grocery store and Actual Answer: liquor store\n"
          ]
        },
        {
          "output_type": "stream",
          "name": "stderr",
          "text": [
            " 79%|███████▉  | 964/1221 [02:04<00:33,  7.76it/s]"
          ]
        },
        {
          "output_type": "stream",
          "name": "stdout",
          "text": [
            "Q: They had to know where to go, they got on the national highway after consulting the what?\n",
            "O: canada /// atlas /// united states /// major cities /// book\n",
            "A:  major cities /// major cities\n",
            "\n",
            "\n",
            "Model: major cities and Actual Answer: atlas\n",
            "Q: What do professors primarily do?\n",
            "O: master physics /// state facts /// wear wrinkled tweed jackets /// school students /// teach courses\n",
            "A:  teach courses\n",
            "\n",
            "\n",
            "Model: teach courses and Actual Answer: teach courses\n"
          ]
        },
        {
          "output_type": "stream",
          "name": "stderr",
          "text": [
            " 79%|███████▉  | 966/1221 [02:04<00:32,  7.75it/s]"
          ]
        },
        {
          "output_type": "stream",
          "name": "stdout",
          "text": [
            "Q: Where do you throw a ball at pins?\n",
            "O: bowling alley /// football stadium /// soccer field /// sporting event /// sporting goods store\n",
            "A:  sporting event\n",
            "\n",
            "\n",
            "Model: sporting event and Actual Answer: bowling alley\n",
            "Q: What might you need to do cleaning?\n",
            "O: sing a song /// neatness /// allergies /// healthy living /// using water\n",
            "A:  cleanliness /// cleanliness\n",
            "\n",
            "\n",
            "Model: cleanliness and Actual Answer: using water\n"
          ]
        },
        {
          "output_type": "stream",
          "name": "stderr",
          "text": [
            " 79%|███████▉  | 968/1221 [02:04<00:32,  7.82it/s]"
          ]
        },
        {
          "output_type": "stream",
          "name": "stdout",
          "text": [
            "Q: If i were to spit a lot without noticing i may have extra what?\n",
            "O: phlegm /// saliva nd mouth /// disease /// germs /// spittle\n",
            "A:  saliva nd mouth /// germs\n",
            "\n",
            "\n",
            "Model: saliva nd mouth and Actual Answer: saliva nd mouth\n",
            "Q: If student got a list of supplies from class like paper and pencils, their parent would have to go where?\n",
            "O: classroom /// parking garage /// store /// backpack /// cabinet\n",
            "A:  classroom /// backpack\n",
            "\n",
            "\n",
            "Model: classroom and Actual Answer: store\n"
          ]
        },
        {
          "output_type": "stream",
          "name": "stderr",
          "text": [
            " 79%|███████▉  | 970/1221 [02:04<00:31,  7.86it/s]"
          ]
        },
        {
          "output_type": "stream",
          "name": "stdout",
          "text": [
            "Q: Why do young people swallow semen ?\n",
            "O: you're into /// prostitute /// you're curious /// curiosity /// heterosexual woman in love\n",
            "A:  curiosity /// curiosity\n",
            "\n",
            "\n",
            "Model: curiosity and Actual Answer: you're curious\n",
            "Q: Sally was standing in queue.  The line was very, very slow.  What was she feeling?\n",
            "O: frustration /// delays /// being annoyed /// moving forward /// progress\n",
            "A:  frustration /// moving forward\n",
            "\n",
            "\n",
            "Model: frustration and Actual Answer: frustration\n"
          ]
        },
        {
          "output_type": "stream",
          "name": "stderr",
          "text": [
            " 80%|███████▉  | 972/1221 [02:05<00:31,  7.90it/s]"
          ]
        },
        {
          "output_type": "stream",
          "name": "stdout",
          "text": [
            "Q: What is the animal trying to accomplish?\n",
            "O: sand trap /// live long /// leave home /// feel pain /// eating\n",
            "A:  live long /// feel pain\n",
            "\n",
            "\n",
            "Model: live long and Actual Answer: live long\n",
            "Q: James and Holly went dancing together. As they danced, he  pressed himself against her what?\n",
            "O: euphoria /// moving body /// rhythmic movement /// happiness /// fatigue\n",
            "A:  euphoria /// euphoria\n",
            "\n",
            "\n",
            "Model: euphoria and Actual Answer: moving body\n"
          ]
        },
        {
          "output_type": "stream",
          "name": "stderr",
          "text": [
            " 80%|███████▉  | 974/1221 [02:05<00:31,  7.90it/s]"
          ]
        },
        {
          "output_type": "stream",
          "name": "stdout",
          "text": [
            "Q: If a house has a subscription, what likely shows up in the driveway every morning?\n",
            "O: subdivision /// newspaper /// street /// laundry mat /// surface of earth\n",
            "A:  newspaper /// surface of earth\n",
            "\n",
            "\n",
            "Model: newspaper and Actual Answer: newspaper\n",
            "Q: What does a person do when they feel dirty?\n",
            "O: feel lucky /// cross street /// wash themselves /// eat /// wonder what happened\n",
            "A:  wash themselves /// wonder what happened\n",
            "\n",
            "\n",
            "Model: wash themselves and Actual Answer: wash themselves\n"
          ]
        },
        {
          "output_type": "stream",
          "name": "stderr",
          "text": [
            " 80%|███████▉  | 976/1221 [02:05<00:31,  7.89it/s]"
          ]
        },
        {
          "output_type": "stream",
          "name": "stdout",
          "text": [
            "Q: After the weight cut he was worried about his energy levels, but this was part of participating in a what?\n",
            "O: work /// wrestle /// play sports /// matter /// sleep\n",
            "A:  work /// work\n",
            "\n",
            "\n",
            "Model: work and Actual Answer: wrestle\n",
            "Q: what does a person do to stay healthy?\n",
            "O: fever /// eat every day /// excited /// headache /// expressive\n",
            "A:  fever /// headache\n",
            "\n",
            "\n",
            "Model: fever and Actual Answer: eat every day\n"
          ]
        },
        {
          "output_type": "stream",
          "name": "stderr",
          "text": [
            " 80%|████████  | 978/1221 [02:05<00:30,  7.85it/s]"
          ]
        },
        {
          "output_type": "stream",
          "name": "stdout",
          "text": [
            "Q: Who is the guard here for?\n",
            "O: man post /// attack /// intimidation /// prisoner /// unprotected\n",
            "A:  prisoner /// prisoner\n",
            "\n",
            "\n",
            "Model: prisoner and Actual Answer: prisoner\n",
            "Q: If a person stutters when he experiences anxiety or excitement, he'll have difficult doing what?\n",
            "O: express information /// dance /// library /// go somewhere /// study\n",
            "A:  dance /// study\n",
            "\n",
            "\n",
            "Model: dance and Actual Answer: express information\n"
          ]
        },
        {
          "output_type": "stream",
          "name": "stderr",
          "text": [
            " 80%|████████  | 980/1221 [02:06<00:30,  7.86it/s]"
          ]
        },
        {
          "output_type": "stream",
          "name": "stdout",
          "text": [
            "Q: Where can you keep letter opener when it likely to be needed soon?\n",
            "O: office supply store /// stationery store /// dek /// martyr's chest /// refrigerator\n",
            "A:  office supply store /// martyr's chest\n",
            "\n",
            "\n",
            "Model: office supply store and Actual Answer: dek\n",
            "Q: Danny found that the carpet did not ,match the drapes, which was disappointing, because this place was expensive.  But it was the only place in town that wasn't booked solid for the week and he needed it while he was in town, so he couldn't complain.   Where might this place be?\n",
            "O: brothel /// restaurant /// building /// bowling alley /// at hotel\n",
            "A:  bowling alley /// bowling alley\n",
            "\n",
            "\n",
            "Model: bowling alley and Actual Answer: at hotel\n"
          ]
        },
        {
          "output_type": "stream",
          "name": "stderr",
          "text": [
            " 80%|████████  | 982/1221 [02:06<00:30,  7.74it/s]"
          ]
        },
        {
          "output_type": "stream",
          "name": "stdout",
          "text": [
            "Q: What do people need to do to change their lives?\n",
            "O: face problems /// better themselves /// pay bills /// become disillusioned /// eat chicken\n",
            "A:  become disillusioned /// become disillusioned\n",
            "\n",
            "\n",
            "Model: become disillusioned and Actual Answer: face problems\n",
            "Q: Humans need shelter to survive.  They usually find shelter where?\n",
            "O: underpass /// homes /// workplace /// school /// space shuttle\n",
            "A:  workplace /// workplace\n",
            "\n",
            "\n",
            "Model: workplace and Actual Answer: homes\n"
          ]
        },
        {
          "output_type": "stream",
          "name": "stderr",
          "text": [
            " 81%|████████  | 984/1221 [02:06<00:30,  7.77it/s]"
          ]
        },
        {
          "output_type": "stream",
          "name": "stdout",
          "text": [
            "Q: Someone who had a very bad flight might be given a trip in this to make up for it?\n",
            "O: first class /// propitious /// reputable /// one /// sufficient\n",
            "A:  reputable /// sufficient\n",
            "\n",
            "\n",
            "Model: reputable and Actual Answer: first class\n",
            "Q: Nature can be good and bad for the person who walks, what are some things?\n",
            "O: seeing bear /// see beautiful views /// get wet /// getting lost /// murdered by a landshark\n",
            "A:  seeing beautiful views /// getting lost\n",
            "\n",
            "\n",
            "Model: seeing beautiful views and Actual Answer: see beautiful views\n"
          ]
        },
        {
          "output_type": "stream",
          "name": "stderr",
          "text": [
            " 81%|████████  | 986/1221 [02:06<00:29,  7.84it/s]"
          ]
        },
        {
          "output_type": "stream",
          "name": "stdout",
          "text": [
            "Q: Jim decided to lose weight.  He thought that exercise is the best way to lose weight because you can't get rid of what?\n",
            "O: need for food /// fitness /// sweating /// fastfood /// thirst\n",
            "A:  thirst /// thirst\n",
            "\n",
            "\n",
            "Model: thirst and Actual Answer: need for food\n",
            "Q: Nature creates more beautiful structures than those that are what?\n",
            "O: artificial /// indoors /// city /// man made /// eat cake\n",
            "A:  artificial /// artificial\n",
            "\n",
            "\n",
            "Model: artificial and Actual Answer: man made\n"
          ]
        },
        {
          "output_type": "stream",
          "name": "stderr",
          "text": [
            " 81%|████████  | 988/1221 [02:07<00:29,  7.85it/s]"
          ]
        },
        {
          "output_type": "stream",
          "name": "stdout",
          "text": [
            "Q: The water in clouds turn in to what when it gets cold?\n",
            "O: typhoon /// snowflake /// laddle /// teardrops /// sink\n",
            "A:  typhoon /// sink\n",
            "\n",
            "\n",
            "Model: typhoon and Actual Answer: snowflake\n",
            "Q: What southern U.S. state is know for having many swamps?\n",
            "O: wetlands /// new york /// michigan /// louisiana /// river delta\n",
            "A:  louisiana /// river delta\n",
            "\n",
            "\n",
            "Model: louisiana and Actual Answer: louisiana\n"
          ]
        },
        {
          "output_type": "stream",
          "name": "stderr",
          "text": [
            " 81%|████████  | 990/1221 [02:07<00:29,  7.71it/s]"
          ]
        },
        {
          "output_type": "stream",
          "name": "stdout",
          "text": [
            "Q: When going to sleep what happens to your body?\n",
            "O: snoring /// latency /// dreams /// relaxation /// dreaming\n",
            "A:  sleep\n",
            "\n",
            "\n",
            "Model: sleep and Actual Answer: relaxation\n",
            "Q: Where is a monkey likely to enjoy being?\n",
            "O: banana tree /// sailor suit /// theatre /// mulberry bush /// research laboratory\n",
            "A:  sailor suit /// mulberry bush\n",
            "\n",
            "\n",
            "Model: sailor suit and Actual Answer: banana tree\n"
          ]
        },
        {
          "output_type": "stream",
          "name": "stderr",
          "text": [
            " 81%|████████  | 992/1221 [02:07<00:29,  7.64it/s]"
          ]
        },
        {
          "output_type": "stream",
          "name": "stdout",
          "text": [
            "Q: What is a form of anaerobic exercising?\n",
            "O: shortness of breath /// lift weights /// error /// fall down /// run\n",
            "A:  fall down /// fall down\n",
            "\n",
            "\n",
            "Model: fall down and Actual Answer: run\n",
            "Q: The earth is one planet in what?\n",
            "O: tree /// orbit /// solar system /// fotograph /// dreams\n",
            "A:  solar system\n",
            "\n",
            "\n",
            "Model: solar system and Actual Answer: solar system\n"
          ]
        },
        {
          "output_type": "stream",
          "name": "stderr",
          "text": [
            " 81%|████████▏ | 994/1221 [02:07<00:30,  7.41it/s]"
          ]
        },
        {
          "output_type": "stream",
          "name": "stdout",
          "text": [
            "Q: Where would you put a container can after you buy it?\n",
            "O: pantry /// store /// gas /// liquid /// garage\n",
            "A:  store /// gas station\n",
            "\n",
            "\n",
            "Model: store and Actual Answer: garage\n",
            "Q: Where did you meet your best friend since Kindergarten?\n",
            "O: friend's house /// school /// fraternity house /// internet cafe /// airplane\n",
            "A:  fraternity house /// internet cafe\n",
            "\n",
            "\n",
            "Model: fraternity house and Actual Answer: school\n"
          ]
        },
        {
          "output_type": "stream",
          "name": "stderr",
          "text": [
            " 82%|████████▏ | 996/1221 [02:08<00:29,  7.66it/s]"
          ]
        },
        {
          "output_type": "stream",
          "name": "stdout",
          "text": [
            "Q: James was below the balloon.  He watched it rise.  What direction did he look in?\n",
            "O: upstairs /// aloft /// diagonal /// upstream /// upwards\n",
            "A:  upwards /// upwards\n",
            "\n",
            "\n",
            "Model: upwards and Actual Answer: upwards\n",
            "Q: John and Tim like playing. It makes them what?\n",
            "O: feeling happy /// learning /// injury /// burn /// get hungry\n",
            "A:  feeling happy /// getting hungry\n",
            "\n",
            "\n",
            "Model: feeling happy and Actual Answer: feeling happy\n"
          ]
        },
        {
          "output_type": "stream",
          "name": "stderr",
          "text": [
            " 82%|████████▏ | 998/1221 [02:08<00:28,  7.77it/s]"
          ]
        },
        {
          "output_type": "stream",
          "name": "stdout",
          "text": [
            "Q: What could happen if someone is seeing new presents at a birthday party?\n",
            "O: envy /// jealousy /// education /// fear /// excitement\n",
            "A:  envy /// fear\n",
            "\n",
            "\n",
            "Model: envy and Actual Answer: excitement\n",
            "Q: Joe's cat smelled something delicious and jumped into this, causing him to panic and fear for its life. Where might it have jumped?\n",
            "O: meat loaf /// bedroom /// microwave /// living room /// floor\n",
            "A:  living room /// microwave\n",
            "\n",
            "\n",
            "Model: living room and Actual Answer: microwave\n"
          ]
        },
        {
          "output_type": "stream",
          "name": "stderr",
          "text": [
            " 82%|████████▏ | 1000/1221 [02:08<00:28,  7.82it/s]"
          ]
        },
        {
          "output_type": "stream",
          "name": "stdout",
          "text": [
            "Q: Why would a person put flowers in a room with dirty gym socks?\n",
            "O: continue to grow /// plant themselves /// many colors /// smell good /// make pretty\n",
            "A:  smell good\n",
            "\n",
            "\n",
            "Model: smell good and Actual Answer: smell good\n",
            "Q: The table wasn't level.  some parts were higher and some were lower with no rhyme or reason.   It was very what?\n",
            "O: electrical circuit /// build evenly /// uneven /// unbalanced /// tilted\n",
            "A:  uneven /// tilted\n",
            "\n",
            "\n",
            "Model: uneven and Actual Answer: uneven\n"
          ]
        },
        {
          "output_type": "stream",
          "name": "stderr",
          "text": [
            " 82%|████████▏ | 1002/1221 [02:08<00:28,  7.80it/s]"
          ]
        },
        {
          "output_type": "stream",
          "name": "stdout",
          "text": [
            "Q: The person signed up for home insurance, what is he seeking?\n",
            "O: financial security /// live well /// good relationship /// compliments /// discounted furniture\n",
            "A:  financial security /// compliments\n",
            "\n",
            "\n",
            "Model: financial security and Actual Answer: financial security\n",
            "Q: James know that committing murder was wrong, but he thought that he could get away with it.  He was really troubled  and fearful because of what?\n",
            "O: happiness /// problems /// prosecution /// distress /// misery\n",
            "A:  problems /// distress\n",
            "\n",
            "\n",
            "Model: problems and Actual Answer: prosecution\n"
          ]
        },
        {
          "output_type": "stream",
          "name": "stderr",
          "text": [
            " 82%|████████▏ | 1004/1221 [02:09<00:27,  7.85it/s]"
          ]
        },
        {
          "output_type": "stream",
          "name": "stdout",
          "text": [
            "Q: How can someone die from eating hamburger?\n",
            "O: gas /// getting full /// mad cow disease /// death /// feel full\n",
            "A:  death from eating hamburger /// feeling full\n",
            "\n",
            "\n",
            "Model: death from eating hamburger and Actual Answer: mad cow disease\n",
            "Q: Where would using a boat not require navigation skills?\n",
            "O: water /// ocean /// garage /// harbor /// river\n",
            "A:  ocean /// harbor\n",
            "\n",
            "\n",
            "Model: ocean and Actual Answer: river\n"
          ]
        },
        {
          "output_type": "stream",
          "name": "stderr",
          "text": [
            " 82%|████████▏ | 1006/1221 [02:09<00:27,  7.89it/s]"
          ]
        },
        {
          "output_type": "stream",
          "name": "stdout",
          "text": [
            "Q: What does a self assured person often do?\n",
            "O: acknowledgment /// focused /// know what time /// feel important /// trust himself\n",
            "A:  feel important /// trust himself\n",
            "\n",
            "\n",
            "Model: feel important and Actual Answer: feel important\n",
            "Q: He was very outgoing, for him making friends was no personal what?\n",
            "O: scary /// having friends /// good feeling /// conflict /// friendship\n",
            "A:  having friends /// friendship\n",
            "\n",
            "\n",
            "Model: having friends and Actual Answer: conflict\n"
          ]
        },
        {
          "output_type": "stream",
          "name": "stderr",
          "text": [
            " 83%|████████▎ | 1008/1221 [02:09<00:27,  7.87it/s]"
          ]
        },
        {
          "output_type": "stream",
          "name": "stdout",
          "text": [
            "Q: What do you feel when giving assistance to the needy?\n",
            "O: reward /// boredom /// pleasure /// happiness /// satisfaction\n",
            "A:  happiness /// pleasure\n",
            "\n",
            "\n",
            "Model: happiness and Actual Answer: satisfaction\n",
            "Q: Paul wants carrots and doesn't need to drive anywhere. He gets them from where?\n",
            "O: refrigerator /// store /// farmer's market /// supermarket /// dryer\n",
            "A:  supermarket /// dryer\n",
            "\n",
            "\n",
            "Model: supermarket and Actual Answer: refrigerator\n"
          ]
        },
        {
          "output_type": "stream",
          "name": "stderr",
          "text": [
            " 83%|████████▎ | 1010/1221 [02:09<00:26,  7.86it/s]"
          ]
        },
        {
          "output_type": "stream",
          "name": "stdout",
          "text": [
            "Q: He was a sloppy eater, so where did he leave a mess?\n",
            "O: sailboat /// desk /// closet /// table /// apartment\n",
            "A:  closet /// apartment\n",
            "\n",
            "\n",
            "Model: closet and Actual Answer: table\n",
            "Q: What does every person want?\n",
            "O: life partner /// larger house /// second chances /// money /// headache\n",
            "A:  money /// headache\n",
            "\n",
            "\n",
            "Model: money and Actual Answer: life partner\n"
          ]
        },
        {
          "output_type": "stream",
          "name": "stderr",
          "text": [
            " 83%|████████▎ | 1012/1221 [02:10<00:26,  7.82it/s]"
          ]
        },
        {
          "output_type": "stream",
          "name": "stdout",
          "text": [
            "Q: If a small flying animal picks up a string, where are they taking it?\n",
            "O: bird's nest /// park /// guitar /// kite /// quark\n",
            "A:  quark\n",
            "\n",
            "\n",
            "Model: quark and Actual Answer: bird's nest\n",
            "Q: He had no issue committing perjury, he had a what that he would get away with it?\n",
            "O: confidence /// go to jail /// telling lies /// lying /// manual\n",
            "A:  lying /// manual\n",
            "\n",
            "\n",
            "Model: lying and Actual Answer: confidence\n"
          ]
        },
        {
          "output_type": "stream",
          "name": "stderr",
          "text": [
            " 83%|████████▎ | 1014/1221 [02:10<00:26,  7.87it/s]"
          ]
        },
        {
          "output_type": "stream",
          "name": "stdout",
          "text": [
            "Q: What could go to a tennis court?\n",
            "O: desert /// college campus /// recreational center /// athletic club /// park\n",
            "A:  recreational center /// athletic club\n",
            "\n",
            "\n",
            "Model: recreational center and Actual Answer: athletic club\n",
            "Q: What could you use to fill a cup and then drink from it?\n",
            "O: sand box /// kitchen cabinet /// waterfall /// water fountain /// table\n",
            "A:  water fountain /// table\n",
            "\n",
            "\n",
            "Model: water fountain and Actual Answer: water fountain\n"
          ]
        },
        {
          "output_type": "stream",
          "name": "stderr",
          "text": [
            " 83%|████████▎ | 1016/1221 [02:10<00:25,  7.90it/s]"
          ]
        },
        {
          "output_type": "stream",
          "name": "stdout",
          "text": [
            "Q: The two played video games all night in the living room, he enjoyed visiting where?\n",
            "O: formal seating /// friend's house /// movies /// home /// apartment\n",
            "A:  home /// apartment\n",
            "\n",
            "\n",
            "Model: home and Actual Answer: friend's house\n",
            "Q: The weasel ran up away from danger, somebody joked only our first president could get him down from the what?\n",
            "O: washington dc /// ladder /// natural history museum /// cherry tree /// chicken coop\n",
            "A:  natural history museum /// chicken coop\n",
            "\n",
            "\n",
            "Model: natural history museum and Actual Answer: cherry tree\n"
          ]
        },
        {
          "output_type": "stream",
          "name": "stderr",
          "text": [
            " 83%|████████▎ | 1018/1221 [02:10<00:25,  7.90it/s]"
          ]
        },
        {
          "output_type": "stream",
          "name": "stdout",
          "text": [
            "Q: If you were looking for a blowfish, you wouldn't look on dry land, you'd look in a what?\n",
            "O: fish market /// jungle /// sea water /// body of water /// soup\n",
            "A:  soup\n",
            "\n",
            "\n",
            "Model: soup and Actual Answer: body of water\n",
            "Q: George checked the rotor of the Apache, which wasn't powered by internal combustion, but by what?\n",
            "O: jet engine /// helicopter /// electric motor /// rotator /// electrical circuit\n",
            "A:  electric motor /// rotator\n",
            "\n",
            "\n",
            "Model: electric motor and Actual Answer: jet engine\n"
          ]
        },
        {
          "output_type": "stream",
          "name": "stderr",
          "text": [
            " 84%|████████▎ | 1020/1221 [02:11<00:25,  7.89it/s]"
          ]
        },
        {
          "output_type": "stream",
          "name": "stdout",
          "text": [
            "Q: The poker dealer spread the flop of cards across the what?\n",
            "O: players /// play games /// casino /// table /// toy store\n",
            "A:  table /// toy store\n",
            "\n",
            "\n",
            "Model: table and Actual Answer: table\n",
            "Q: Where is a salt shaker most often kept?\n",
            "O: cruet /// table setting /// kitchen cupboard /// cabinet /// store\n",
            "A:  cabinet /// cabinet\n",
            "\n",
            "\n",
            "Model: cabinet and Actual Answer: table setting\n"
          ]
        },
        {
          "output_type": "stream",
          "name": "stderr",
          "text": [
            " 84%|████████▎ | 1022/1221 [02:11<00:25,  7.86it/s]"
          ]
        },
        {
          "output_type": "stream",
          "name": "stdout",
          "text": [
            "Q: Where would you put a dollar if you want to go to a store and buy something with it?\n",
            "O: cash drawer /// teh bank /// safety deposit box /// pocket /// piggy bank\n",
            "A:  cash drawer /// pocket\n",
            "\n",
            "\n",
            "Model: cash drawer and Actual Answer: pocket\n",
            "Q: What room is likely to have a sideboard on the counter?\n",
            "O: home /// serve food buffet /// dining room /// living room /// kitchen\n",
            "A:  dining room /// kitchen\n",
            "\n",
            "\n",
            "Model: dining room and Actual Answer: kitchen\n"
          ]
        },
        {
          "output_type": "stream",
          "name": "stderr",
          "text": [
            " 84%|████████▍ | 1024/1221 [02:11<00:25,  7.77it/s]"
          ]
        },
        {
          "output_type": "stream",
          "name": "stdout",
          "text": [
            "Q: What is unlikely to get bugs on its windshield due to bugs' inability to reach it when it is moving?\n",
            "O: airplane /// scooter /// motorboat /// car /// motor vehicle\n",
            "A:  motorboat /// motor vehicle\n",
            "\n",
            "\n",
            "Model: motorboat and Actual Answer: airplane\n",
            "Q: What mall store sells jeans for a decent price?\n",
            "O: clothing store /// bedroom /// thrift store /// apartment /// gap\n",
            "A:  clothing store /// apartment\n",
            "\n",
            "\n",
            "Model: clothing store and Actual Answer: gap\n"
          ]
        },
        {
          "output_type": "stream",
          "name": "stderr",
          "text": [
            " 84%|████████▍ | 1026/1221 [02:11<00:25,  7.71it/s]"
          ]
        },
        {
          "output_type": "stream",
          "name": "stdout",
          "text": [
            "Q: Where can a bath towel be borrowed?\n",
            "O: cupboard /// at hotel /// swimming pool /// clothes line /// backpack\n",
            "A:  swimming pool /// backpack\n",
            "\n",
            "\n",
            "Model: swimming pool and Actual Answer: at hotel\n",
            "Q: Why do people stop caring about their problems?\n",
            "O: no problems /// better themselves /// face problems /// learn from each other /// become disillusioned\n",
            "A:  become disillusioned /// become disillusioned\n",
            "\n",
            "\n",
            "Model: become disillusioned and Actual Answer: become disillusioned\n"
          ]
        },
        {
          "output_type": "stream",
          "name": "stderr",
          "text": [
            " 84%|████████▍ | 1028/1221 [02:12<00:24,  7.74it/s]"
          ]
        },
        {
          "output_type": "stream",
          "name": "stdout",
          "text": [
            "Q: John rode on the plain until it reached the ocean and couldn't go any farther. What might he have bee on?\n",
            "O: mountain /// fancy /// sandplain /// cliff /// gorge\n",
            "A:  sandplain /// cliff\n",
            "\n",
            "\n",
            "Model: sandplain and Actual Answer: cliff\n",
            "Q: They were never going to be big actors, but they all had passion for the local what?\n",
            "O: theater /// opera /// show /// television /// blockbuster feature\n",
            "A:  theater /// television\n",
            "\n",
            "\n",
            "Model: theater and Actual Answer: theater\n"
          ]
        },
        {
          "output_type": "stream",
          "name": "stderr",
          "text": [
            " 84%|████████▍ | 1030/1221 [02:12<00:24,  7.84it/s]"
          ]
        },
        {
          "output_type": "stream",
          "name": "stdout",
          "text": [
            "Q: Where would you use a folding chair but not store one?\n",
            "O: beach /// city hall /// closet /// garage /// school\n",
            "A:  garage /// school\n",
            "\n",
            "\n",
            "Model: garage and Actual Answer: beach\n",
            "Q: If you spend a long time shopping in uncomfortable shoes, you might develop what?\n",
            "O: tiredness /// calluses /// bankruptcy /// standing in line /// sleepyness\n",
            "A:  tiredness /// calluses\n",
            "\n",
            "\n",
            "Model: tiredness and Actual Answer: calluses\n"
          ]
        },
        {
          "output_type": "stream",
          "name": "stderr",
          "text": [
            " 85%|████████▍ | 1032/1221 [02:12<00:23,  7.88it/s]"
          ]
        },
        {
          "output_type": "stream",
          "name": "stdout",
          "text": [
            "Q: What does impeachment mean for the president?\n",
            "O: vote /// election /// trouble /// board room /// corporation\n",
            "A:  election /// board room\n",
            "\n",
            "\n",
            "Model: election and Actual Answer: trouble\n",
            "Q: Noble citizen of the Roman empire believed those born with lower status were what to them?\n",
            "O: loser /// ignoble /// peasant /// inferior /// plebeian\n",
            "A:  inferior /// inferior\n",
            "\n",
            "\n",
            "Model: inferior and Actual Answer: inferior\n"
          ]
        },
        {
          "output_type": "stream",
          "name": "stderr",
          "text": [
            " 85%|████████▍ | 1034/1221 [02:12<00:23,  7.92it/s]"
          ]
        },
        {
          "output_type": "stream",
          "name": "stdout",
          "text": [
            "Q: Spraining an ankle while playing baseball will cause what?\n",
            "O: strikes /// eating /// injury /// sore muscles /// pain\n",
            "A:  injury /// sore muscles\n",
            "\n",
            "\n",
            "Model: injury and Actual Answer: pain\n",
            "Q: John was traveling to a new city and took time to check out a business.  He noticed that its carpet was stained with sauces and ketchup. What type of business might that be?\n",
            "O: bedroom /// chair /// bowling alley /// at hotel /// restaurant\n",
            "A:  bowling alley /// restaurant\n",
            "\n",
            "\n",
            "Model: bowling alley and Actual Answer: restaurant\n"
          ]
        },
        {
          "output_type": "stream",
          "name": "stderr",
          "text": [
            " 85%|████████▍ | 1036/1221 [02:13<00:23,  7.90it/s]"
          ]
        },
        {
          "output_type": "stream",
          "name": "stdout",
          "text": [
            "Q: If you have a condo in a Wisconsin city known for beer, where are you?\n",
            "O: city /// electrical circuit /// residential area /// suburbia /// milwaukee\n",
            "A:  residential area /// milwaukee\n",
            "\n",
            "\n",
            "Model: residential area and Actual Answer: milwaukee\n",
            "Q: Where is hard to read note likely to be?\n",
            "O: fridge /// sheet music /// desk /// bed /// medical chart\n",
            "A:  desk /// bed\n",
            "\n",
            "\n",
            "Model: desk and Actual Answer: medical chart\n"
          ]
        },
        {
          "output_type": "stream",
          "name": "stderr",
          "text": [
            " 85%|████████▌ | 1038/1221 [02:13<00:23,  7.83it/s]"
          ]
        },
        {
          "output_type": "stream",
          "name": "stdout",
          "text": [
            "Q: How does someone go about buying beer?\n",
            "O: have no money /// pants /// relaxation /// lose money /// spend money\n",
            "A:  spend money /// lose money\n",
            "\n",
            "\n",
            "Model: spend money and Actual Answer: spend money\n",
            "Q: If there is gum on your shoe where did it likely come from?\n",
            "O: shelf /// movies /// sidewalk /// water fountain /// table\n",
            "A:  shelf /// table\n",
            "\n",
            "\n",
            "Model: shelf and Actual Answer: sidewalk\n"
          ]
        },
        {
          "output_type": "stream",
          "name": "stderr",
          "text": [
            " 85%|████████▌ | 1040/1221 [02:13<00:23,  7.77it/s]"
          ]
        },
        {
          "output_type": "stream",
          "name": "stdout",
          "text": [
            "Q: If a person isn't able to pay their bills what must they do?\n",
            "O: know everything /// acknowledgment /// make more money /// throw a party /// spare time\n",
            "A:  throw a party /// spare time\n",
            "\n",
            "\n",
            "Model: throw a party and Actual Answer: make more money\n",
            "Q: What is main benefit to exercising?\n",
            "O: losing weight /// healthy /// get in shape /// weight loss /// sweat\n",
            "A:  weight loss /// sweat\n",
            "\n",
            "\n",
            "Model: weight loss and Actual Answer: get in shape\n"
          ]
        },
        {
          "output_type": "stream",
          "name": "stderr",
          "text": [
            " 85%|████████▌ | 1042/1221 [02:14<00:23,  7.69it/s]"
          ]
        },
        {
          "output_type": "stream",
          "name": "stdout",
          "text": [
            "Q: Steve thought that it was possible, but he agreed that it was what?\n",
            "O: no go /// unable /// unlikely /// impossibility /// cant do\n",
            "A:  impossible\n",
            "\n",
            "\n",
            "Model: impossible and Actual Answer: unlikely\n",
            "Q: What region of a west coast U.S. city would you find a Japanese restaurant?\n",
            "O: california /// tokio /// downtown /// narnia /// large town\n",
            "A:  large town\n",
            "\n",
            "\n",
            "Model: large town and Actual Answer: downtown\n"
          ]
        },
        {
          "output_type": "stream",
          "name": "stderr",
          "text": [
            " 86%|████████▌ | 1044/1221 [02:14<00:22,  7.78it/s]"
          ]
        },
        {
          "output_type": "stream",
          "name": "stdout",
          "text": [
            "Q: What is a tactic used to interfere with learning about science?\n",
            "O: repetition /// sense of wonder /// accidents /// intimidation /// increased knowledge\n",
            "A:  repetition /// intimidation\n",
            "\n",
            "\n",
            "Model: repetition and Actual Answer: intimidation\n",
            "Q: What do people usually feel when falling in love?\n",
            "O: getting married /// pain /// happiness /// getting married /// suffering\n",
            "A:  happiness /// pain\n",
            "\n",
            "\n",
            "Model: happiness and Actual Answer: happiness\n"
          ]
        },
        {
          "output_type": "stream",
          "name": "stderr",
          "text": [
            " 86%|████████▌ | 1046/1221 [02:14<00:22,  7.79it/s]"
          ]
        },
        {
          "output_type": "stream",
          "name": "stdout",
          "text": [
            "Q: The tiger was stuck in what animal prison where he got lazy and fat?\n",
            "O: jungle /// zoo /// kill /// india /// eat cake\n",
            "A:  jungle /// india\n",
            "\n",
            "\n",
            "Model: jungle and Actual Answer: zoo\n",
            "Q: What do parents tell a child to do on the weekend?\n",
            "O: study /// begin school /// go out to play /// row boat /// clean room\n",
            "A:  study /// row boat\n",
            "\n",
            "\n",
            "Model: study and Actual Answer: go out to play\n"
          ]
        },
        {
          "output_type": "stream",
          "name": "stderr",
          "text": [
            " 86%|████████▌ | 1048/1221 [02:14<00:22,  7.76it/s]"
          ]
        },
        {
          "output_type": "stream",
          "name": "stdout",
          "text": [
            "Q: Why are dogs often known as man's best friend?\n",
            "O: aggressive /// friendly /// very loyal /// found outside /// very smart\n",
            "A:  friendly /// very loyal\n",
            "\n",
            "\n",
            "Model: friendly and Actual Answer: very loyal\n",
            "Q: Where can you buy a two wheel transportation machine?\n",
            "O: boat /// michigan /// train station /// bicycle shop /// trunk of car\n",
            "A:  trunk of car\n",
            "\n",
            "\n",
            "Model: trunk of car and Actual Answer: bicycle shop\n"
          ]
        },
        {
          "output_type": "stream",
          "name": "stderr",
          "text": [
            " 86%|████████▌ | 1050/1221 [02:15<00:21,  7.80it/s]"
          ]
        },
        {
          "output_type": "stream",
          "name": "stdout",
          "text": [
            "Q: Where might an alien use a vacuum?\n",
            "O: space /// closet /// kitchen /// orbit /// container\n",
            "A:  space\n",
            "\n",
            "\n",
            "Model: space and Actual Answer: space\n",
            "Q: Where do you buy condoms?\n",
            "O: supermarket /// sock drawer /// cd store /// medicine chest /// bedroom\n",
            "A:  bedroom\n",
            "\n",
            "\n",
            "Model: bedroom and Actual Answer: supermarket\n"
          ]
        },
        {
          "output_type": "stream",
          "name": "stderr",
          "text": [
            " 86%|████████▌ | 1052/1221 [02:15<00:21,  7.80it/s]"
          ]
        },
        {
          "output_type": "stream",
          "name": "stdout",
          "text": [
            "Q: What animal is known for being a follower?\n",
            "O: goat /// expensive /// lion /// wolf /// meadow\n",
            "A:  lion /// meadow\n",
            "\n",
            "\n",
            "Model: lion and Actual Answer: goat\n",
            "Q: The soldier was told to get to the rendezvous point, for there he was suppose to what?\n",
            "O: fight enemy /// go to war /// fight for freedom /// wait for orders /// follow instructions\n",
            "A:  fight for freedom /// wait for orders\n",
            "\n",
            "\n",
            "Model: fight for freedom and Actual Answer: wait for orders\n"
          ]
        },
        {
          "output_type": "stream",
          "name": "stderr",
          "text": [
            " 86%|████████▋ | 1054/1221 [02:15<00:21,  7.83it/s]"
          ]
        },
        {
          "output_type": "stream",
          "name": "stdout",
          "text": [
            "Q: If you want to kill someone you can do what to them with a gun?\n",
            "O: sip through /// damnation /// shoot /// commit crime /// eat breakfast\n",
            "A:  commit crime /// commit crime\n",
            "\n",
            "\n",
            "Model: commit crime and Actual Answer: shoot\n",
            "Q: The hostess greeted the employees to the program, she then led them to their what?\n",
            "O: group people /// welcome guests /// occupations /// work room /// seat customer\n",
            "A:  sit customer /// work room\n",
            "\n",
            "\n",
            "Model: sit customer and Actual Answer: work room\n"
          ]
        },
        {
          "output_type": "stream",
          "name": "stderr",
          "text": [
            " 86%|████████▋ | 1056/1221 [02:15<00:21,  7.62it/s]"
          ]
        },
        {
          "output_type": "stream",
          "name": "stdout",
          "text": [
            "Q: Where is a likely place to store unused soap?\n",
            "O: cabinet /// supermarket /// jail /// butt /// own home\n",
            "A:  store /// butt\n",
            "\n",
            "\n",
            "Model: store and Actual Answer: cabinet\n",
            "Q: Loss of someone you love can cause what kind of feeling in your heart?\n",
            "O: painful /// happy /// blind /// contagious /// bring joy\n",
            "A:  contagious /// bring joy\n",
            "\n",
            "\n",
            "Model: contagious and Actual Answer: painful\n"
          ]
        },
        {
          "output_type": "stream",
          "name": "stderr",
          "text": [
            " 87%|████████▋ | 1058/1221 [02:16<00:21,  7.69it/s]"
          ]
        },
        {
          "output_type": "stream",
          "name": "stdout",
          "text": [
            "Q: Where in your home would you keep a ballpoint pen when not in use?\n",
            "O: backpack /// bank /// desk drawer /// eat cake /// office desk\n",
            "A:  desk drawer /// desk drawer\n",
            "\n",
            "\n",
            "Model: desk drawer and Actual Answer: desk drawer\n",
            "Q: James was someone who was caught in his own delusions.  To him, the truth didn't do what what?\n",
            "O: work to advantage /// matter to /// help /// free mind /// further knowledge\n",
            "A:  further knowledge /// further knowledge\n",
            "\n",
            "\n",
            "Model: further knowledge and Actual Answer: matter to\n"
          ]
        },
        {
          "output_type": "stream",
          "name": "stderr",
          "text": [
            " 87%|████████▋ | 1060/1221 [02:16<00:20,  7.73it/s]"
          ]
        },
        {
          "output_type": "stream",
          "name": "stdout",
          "text": [
            "Q: He wanted to live somewhere were every yard was uniform in size and landscaping, where should he look for a house?\n",
            "O: city /// three feet /// subdivision /// parking garage /// michigan\n",
            "A:  city /// three feet\n",
            "\n",
            "\n",
            "Model: city and Actual Answer: subdivision\n",
            "Q: The flasks was used to distill elements, where was is being used?\n",
            "O: laboratory /// chemistry lab /// coat pocket /// after hours speakeasy /// bordello\n",
            "A:  chemist's lab /// coat pocket /// after hours\n",
            "\n",
            "\n",
            "Model: chemist's lab and Actual Answer: chemistry lab\n"
          ]
        },
        {
          "output_type": "stream",
          "name": "stderr",
          "text": [
            " 87%|████████▋ | 1062/1221 [02:16<00:20,  7.74it/s]"
          ]
        },
        {
          "output_type": "stream",
          "name": "stdout",
          "text": [
            "Q: What was the man encouraged to do after he expressed his anger violently?\n",
            "O: cool off /// punch /// illustrate point /// fight /// release energy\n",
            "A:  cool off /// fight\n",
            "\n",
            "\n",
            "Model: cool off and Actual Answer: cool off\n",
            "Q: Where can a student learn to play a triangle?\n",
            "O: math class /// math book /// in pythagorus' band /// orchestra /// music class\n",
            "A:  music class\n",
            "\n",
            "\n",
            "Model: music class and Actual Answer: music class\n"
          ]
        },
        {
          "output_type": "stream",
          "name": "stderr",
          "text": [
            " 87%|████████▋ | 1064/1221 [02:16<00:20,  7.71it/s]"
          ]
        },
        {
          "output_type": "stream",
          "name": "stdout",
          "text": [
            "Q: What do you need to do to use television if it is already turned on?\n",
            "O: get wet /// open eyes /// kill /// plug in /// first turn on power\n",
            "A:  open eyes /// plug in\n",
            "\n",
            "\n",
            "Model: open eyes and Actual Answer: open eyes\n",
            "Q: The guys had a regular poker game, rather than going to the movies this what their what?\n",
            "O: competition /// fun game /// losing money /// fun /// social event\n",
            "A:  fun game /// social event\n",
            "\n",
            "\n",
            "Model: fun game and Actual Answer: social event\n"
          ]
        },
        {
          "output_type": "stream",
          "name": "stderr",
          "text": [
            " 87%|████████▋ | 1066/1221 [02:17<00:20,  7.71it/s]"
          ]
        },
        {
          "output_type": "stream",
          "name": "stdout",
          "text": [
            "Q: When you stroke a dogs fur what have you done?\n",
            "O: start fighting /// play /// lots of attention /// petted /// bone\n",
            "A:  start fighting /// play\n",
            "\n",
            "\n",
            "Model: start fighting and Actual Answer: petted\n",
            "Q: Dan fell off a bar stool.  He did this because he was what than ever before?\n",
            "O: kitchen /// drunker /// tavern /// restaurant /// shorter\n",
            "A:  tavern /// restaurant\n",
            "\n",
            "\n",
            "Model: tavern and Actual Answer: drunker\n"
          ]
        },
        {
          "output_type": "stream",
          "name": "stderr",
          "text": [
            " 87%|████████▋ | 1068/1221 [02:17<00:19,  7.77it/s]"
          ]
        },
        {
          "output_type": "stream",
          "name": "stdout",
          "text": [
            "Q: The wood was still rough to the touch, what did the woodworker have to do?\n",
            "O: petrify /// sanded /// warp /// composted /// clean\n",
            "A:  sanded /// composted\n",
            "\n",
            "\n",
            "Model: sanded and Actual Answer: sanded\n",
            "Q: The chief saw his entire tribe wiped out, he was a leader with a single what?\n",
            "O: peon /// indian /// minister /// follower /// employee\n",
            "A:  minister /// follower\n",
            "\n",
            "\n",
            "Model: minister and Actual Answer: follower\n"
          ]
        },
        {
          "output_type": "stream",
          "name": "stderr",
          "text": [
            " 88%|████████▊ | 1070/1221 [02:17<00:19,  7.75it/s]"
          ]
        },
        {
          "output_type": "stream",
          "name": "stdout",
          "text": [
            "Q: The flower grew tall to compete for sunlight, what did its neighbor do?\n",
            "O: blossom /// park /// open /// cast shadow /// vase\n",
            "A:  park /// open\n",
            "\n",
            "\n",
            "Model: park and Actual Answer: cast shadow\n",
            "Q: If while driving to work another car makes a careless maneuver, what emotion might you feel?\n",
            "O: boredom /// happiness /// transportation cost /// getting there /// road rage\n",
            "A:  happiness /// road rage\n",
            "\n",
            "\n",
            "Model: happiness and Actual Answer: road rage\n"
          ]
        },
        {
          "output_type": "stream",
          "name": "stderr",
          "text": [
            " 88%|████████▊ | 1072/1221 [02:17<00:20,  7.22it/s]"
          ]
        },
        {
          "output_type": "stream",
          "name": "stdout",
          "text": [
            "Q: What kind of food makes someone sick?\n",
            "O: boat /// necessary to live /// edible /// unhealthy /// kitchen\n",
            "A:  edible\n",
            "\n",
            "\n",
            "Model: edible and Actual Answer: unhealthy\n",
            "Q: Where would you find the sharpest parts of a triangle?\n",
            "O: three vertices /// point /// 3 sides /// three sides /// math book\n",
            "A:  three sides /// three sides\n",
            "\n",
            "\n",
            "Model: three sides and Actual Answer: three vertices\n"
          ]
        },
        {
          "output_type": "stream",
          "name": "stderr",
          "text": [
            " 88%|████████▊ | 1074/1221 [02:18<00:19,  7.45it/s]"
          ]
        },
        {
          "output_type": "stream",
          "name": "stdout",
          "text": [
            "Q: How might a automobile get off a freeway?\n",
            "O: exit ramp /// garage /// driveway /// repair shop /// stop light\n",
            "A:  garage /// driveway\n",
            "\n",
            "\n",
            "Model: garage and Actual Answer: exit ramp\n",
            "Q: What does going to bed with your spouse for sex lead to?\n",
            "O: bad dreams /// a good nights sleep /// rest /// sleepiness /// get pregnant\n",
            "A:  bad dreams /// sleepiness\n",
            "\n",
            "\n",
            "Model: bad dreams and Actual Answer: get pregnant\n"
          ]
        },
        {
          "output_type": "stream",
          "name": "stderr",
          "text": [
            " 88%|████████▊ | 1076/1221 [02:18<00:18,  7.65it/s]"
          ]
        },
        {
          "output_type": "stream",
          "name": "stdout",
          "text": [
            "Q: What would it be if they get a surprising show over and over?\n",
            "O: surprise /// fight /// annoyance /// might scare /// irritated\n",
            "A:  surprise /// annoyance\n",
            "\n",
            "\n",
            "Model: surprise and Actual Answer: annoyance\n",
            "Q: Sally thought that competing wasn't worth the risk. If she pushed more what might happen?\n",
            "O: pressure /// trying harder /// put harder /// enemies /// death\n",
            "A:  pressure /// put harder\n",
            "\n",
            "\n",
            "Model: pressure and Actual Answer: death\n"
          ]
        },
        {
          "output_type": "stream",
          "name": "stderr",
          "text": [
            " 88%|████████▊ | 1078/1221 [02:18<00:18,  7.62it/s]"
          ]
        },
        {
          "output_type": "stream",
          "name": "stdout",
          "text": [
            "Q: John is sitting in a toilet stall in a bathroom, outside he can hear cars going around in circles.  What is the function of the place he is most likely at?\n",
            "O: eating food /// public place /// race track /// at hotel /// public building\n",
            "A:  public place /// race track\n",
            "\n",
            "\n",
            "Model: public place and Actual Answer: race track\n",
            "Q: What event might one buy tickets for seats?\n",
            "O: park /// show /// auditorium /// movies /// rest area\n",
            "A:  rest area /// auditorium\n",
            "\n",
            "\n",
            "Model: rest area and Actual Answer: show\n"
          ]
        },
        {
          "output_type": "stream",
          "name": "stderr",
          "text": [
            " 88%|████████▊ | 1080/1221 [02:18<00:18,  7.54it/s]"
          ]
        },
        {
          "output_type": "stream",
          "name": "stdout",
          "text": [
            "Q: The merchant wanted to open in a high-traffic space, where did he rent space?\n",
            "O: mall /// business /// store /// sale /// sell goods\n",
            "A:  store /// sale\n",
            "\n",
            "\n",
            "Model: store and Actual Answer: mall\n",
            "Q: The newlyweds began copulating their marriage, they wanted many what?\n",
            "O: babies /// odors /// sadness /// rapport /// ejaculation\n",
            "A:  intercourse /// intercourse\n",
            "\n",
            "\n",
            "Model: intercourse and Actual Answer: babies\n"
          ]
        },
        {
          "output_type": "stream",
          "name": "stderr",
          "text": [
            " 89%|████████▊ | 1082/1221 [02:19<00:18,  7.60it/s]"
          ]
        },
        {
          "output_type": "stream",
          "name": "stdout",
          "text": [
            "Q: How does a planet usually move around the sun?\n",
            "O: writing /// universe /// outer space /// outerspace /// orbit\n",
            "A:  outer space /// orbit\n",
            "\n",
            "\n",
            "Model: outer space and Actual Answer: orbit\n",
            "Q: When a group of people are talking at work they might be doing what?\n",
            "O: having a concert. /// cough /// sharing of ideas /// speak /// sneeze\n",
            "A:  sharing of ideas /// sneeze\n",
            "\n",
            "\n",
            "Model: sharing of ideas and Actual Answer: sharing of ideas\n"
          ]
        },
        {
          "output_type": "stream",
          "name": "stderr",
          "text": [
            " 89%|████████▉ | 1084/1221 [02:19<00:17,  7.71it/s]"
          ]
        },
        {
          "output_type": "stream",
          "name": "stdout",
          "text": [
            "Q: What emotion leads to punching?\n",
            "O: fists /// hitting /// boxing gloves /// anger /// hands\n",
            "A:  fists /// fists\n",
            "\n",
            "\n",
            "Model: fists and Actual Answer: anger\n",
            "Q: They kept doing things the same, she suggested they also try doing things what?\n",
            "O: differently /// otherwise /// expensive /// only /// mere\n",
            "A:  different /// expensive\n",
            "\n",
            "\n",
            "Model: different and Actual Answer: differently\n"
          ]
        },
        {
          "output_type": "stream",
          "name": "stderr",
          "text": [
            " 89%|████████▉ | 1086/1221 [02:19<00:17,  7.75it/s]"
          ]
        },
        {
          "output_type": "stream",
          "name": "stdout",
          "text": [
            "Q: Where could you find a shark before it was caught?\n",
            "O: pool hall /// tomales bay /// marine museum /// business /// desert\n",
            "A:  ocean\n",
            "\n",
            "\n",
            "Model: ocean and Actual Answer: tomales bay\n",
            "Q: Where is one likely to find poker chips?\n",
            "O: supermarket /// pantry /// motherboard /// bar /// bar\n",
            "A:  pantry /// pantry\n",
            "\n",
            "\n",
            "Model: pantry and Actual Answer: bar\n"
          ]
        },
        {
          "output_type": "stream",
          "name": "stderr",
          "text": [
            " 89%|████████▉ | 1088/1221 [02:20<00:17,  7.81it/s]"
          ]
        },
        {
          "output_type": "stream",
          "name": "stdout",
          "text": [
            "Q: Dance can be elegant and specific, or you can just have fun and what?\n",
            "O: falling down /// trip /// fall down /// move around /// celebrate\n",
            "A:  fall down /// move around\n",
            "\n",
            "\n",
            "Model: fall down and Actual Answer: move around\n",
            "Q: Where can one obtain a bass fiddle?\n",
            "O: jazz band /// string quartet /// group band /// nursery rhyme /// music store\n",
            "A:  music store\n",
            "\n",
            "\n",
            "Model: music store and Actual Answer: music store\n"
          ]
        },
        {
          "output_type": "stream",
          "name": "stderr",
          "text": [
            " 89%|████████▉ | 1090/1221 [02:20<00:16,  7.80it/s]"
          ]
        },
        {
          "output_type": "stream",
          "name": "stdout",
          "text": [
            "Q: Why does having a disability sometimes making academic tasks hard for a person?\n",
            "O: mentally challenged /// have choice /// lots of space /// hungry /// acknowledgment\n",
            "A:  have choice /// have choice\n",
            "\n",
            "\n",
            "Model: have choice and Actual Answer: mentally challenged\n",
            "Q: What is the purpose of playing games for children?\n",
            "O: winning /// learning /// losing /// fatigue /// skill\n",
            "A:  learning /// fatigue\n",
            "\n",
            "\n",
            "Model: learning and Actual Answer: learning\n"
          ]
        },
        {
          "output_type": "stream",
          "name": "stderr",
          "text": [
            " 89%|████████▉ | 1092/1221 [02:20<00:16,  7.81it/s]"
          ]
        },
        {
          "output_type": "stream",
          "name": "stdout",
          "text": [
            "Q: If for some reason you were to start killing people, what would you be likely to receive?\n",
            "O: feelings of guilt /// prison sentence /// terrible /// encouragement /// die\n",
            "A:  feelings of guilt /// death\n",
            "\n",
            "\n",
            "Model: feelings of guilt and Actual Answer: prison sentence\n",
            "Q: If someone laughs after surprising them they have a good sense of what?\n",
            "O: joy /// fight /// frightened /// humor /// laughter\n",
            "A:  laughter /// laughter\n",
            "\n",
            "\n",
            "Model: laughter and Actual Answer: humor\n"
          ]
        },
        {
          "output_type": "stream",
          "name": "stderr",
          "text": [
            " 90%|████████▉ | 1094/1221 [02:20<00:16,  7.76it/s]"
          ]
        },
        {
          "output_type": "stream",
          "name": "stdout",
          "text": [
            "Q: People played a variety of games in the soccer field.  It was the closest thing they had to what?\n",
            "O: town /// beach /// park /// near /// outside\n",
            "A:  beach /// outside\n",
            "\n",
            "\n",
            "Model: beach and Actual Answer: park\n",
            "Q: What is likely to have a better school cafeteria?\n",
            "O: high school /// canteen /// polytechnic /// large room /// all kinds of schools\n",
            "A:  large room /// large room\n",
            "\n",
            "\n",
            "Model: large room and Actual Answer: polytechnic\n"
          ]
        },
        {
          "output_type": "stream",
          "name": "stderr",
          "text": [
            " 90%|████████▉ | 1096/1221 [02:21<00:16,  7.76it/s]"
          ]
        },
        {
          "output_type": "stream",
          "name": "stdout",
          "text": [
            "Q: When someone has little knowledge and is judging someone they are considered what?\n",
            "O: objectivity /// knowing yourself /// experience /// ignorance /// introduction\n",
            "A:  ignorance /// experience\n",
            "\n",
            "\n",
            "Model: ignorance and Actual Answer: ignorance\n",
            "Q: She wanted to get in shape, but she couldn't stay focused on the hour long what?\n",
            "O: sweating /// excercise /// work out /// video /// swim\n",
            "A:  work out /// video\n",
            "\n",
            "\n",
            "Model: work out and Actual Answer: work out\n"
          ]
        },
        {
          "output_type": "stream",
          "name": "stderr",
          "text": [
            " 90%|████████▉ | 1098/1221 [02:21<00:15,  7.83it/s]"
          ]
        },
        {
          "output_type": "stream",
          "name": "stdout",
          "text": [
            "Q: When you do something and have fun, its something you?\n",
            "O: spontaneous /// stop working /// pay for /// do like /// do enjoy\n",
            "A:  do like like like like like like like like like\n",
            "\n",
            "\n",
            "Model: do like like like like like like like like like and Actual Answer: do enjoy\n",
            "Q: What is a salesman responsible to do at work?\n",
            "O: traveling to chicago /// get fired /// books /// sell products /// service account\n",
            "A:  travel to chicago /// get fired\n",
            "\n",
            "\n",
            "Model: travel to chicago and Actual Answer: sell products\n"
          ]
        },
        {
          "output_type": "stream",
          "name": "stderr",
          "text": [
            " 90%|█████████ | 1100/1221 [02:21<00:15,  7.86it/s]"
          ]
        },
        {
          "output_type": "stream",
          "name": "stdout",
          "text": [
            "Q: How does going jogging generally affect one's self esteem?\n",
            "O: feel better /// feel pride /// sweating /// ocean /// arthritis\n",
            "A:  feeling better /// sweating /// feeling better\n",
            "\n",
            "\n",
            "Model: feeling better and Actual Answer: feel better\n",
            "Q: Where would you find people standing in a line outside?\n",
            "O: bus depot /// end of line /// opera /// neighbor's house /// meeting\n",
            "A:  neighbor's house /// meeting\n",
            "\n",
            "\n",
            "Model: neighbor's house and Actual Answer: bus depot\n"
          ]
        },
        {
          "output_type": "stream",
          "name": "stderr",
          "text": [
            " 90%|█████████ | 1102/1221 [02:21<00:15,  7.79it/s]"
          ]
        },
        {
          "output_type": "stream",
          "name": "stdout",
          "text": [
            "Q: If you are committing perjury you have done what while under oath?\n",
            "O: crime /// disrespect judge /// embarrassment /// lie /// indictment\n",
            "A:  perjury /// indictment\n",
            "\n",
            "\n",
            "Model: perjury and Actual Answer: lie\n",
            "Q: Where can you find the meaning of \"ficus\"?\n",
            "O: dictionary /// apartment /// libary /// middle east /// arboretum\n",
            "A:  arboretum\n",
            "\n",
            "\n",
            "Model: arboretum and Actual Answer: dictionary\n"
          ]
        },
        {
          "output_type": "stream",
          "name": "stderr",
          "text": [
            " 90%|█████████ | 1104/1221 [02:22<00:14,  7.83it/s]"
          ]
        },
        {
          "output_type": "stream",
          "name": "stdout",
          "text": [
            "Q: When are people buying products more?\n",
            "O: debt /// economic boom /// being able to use /// disagreements /// trading\n",
            "A:  economic boom /// being able to use\n",
            "\n",
            "\n",
            "Model: economic boom and Actual Answer: economic boom\n",
            "Q: The buildings were intended to not have residential kitchens in them, what were they designed for?\n",
            "O: large city /// small /// eat cake /// university /// town\n",
            "A:  large city /// large city\n",
            "\n",
            "\n",
            "Model: large city and Actual Answer: university\n"
          ]
        },
        {
          "output_type": "stream",
          "name": "stderr",
          "text": [
            " 91%|█████████ | 1106/1221 [02:22<00:14,  7.85it/s]"
          ]
        },
        {
          "output_type": "stream",
          "name": "stdout",
          "text": [
            "Q: Animals come in all types, some fly thanks to their lightweight hollow what?\n",
            "O: tails /// bones /// eyes /// heads /// bodies\n",
            "A:  tails /// heads\n",
            "\n",
            "\n",
            "Model: tails and Actual Answer: bones\n",
            "Q: The child felt like it was all pretend, he didn't understand what?\n",
            "O: people believe /// daydreams /// transcendentalism /// laughter /// religion\n",
            "A:  transcendentalism /// laughter\n",
            "\n",
            "\n",
            "Model: transcendentalism and Actual Answer: religion\n"
          ]
        },
        {
          "output_type": "stream",
          "name": "stderr",
          "text": [
            " 91%|█████████ | 1108/1221 [02:22<00:14,  7.87it/s]"
          ]
        },
        {
          "output_type": "stream",
          "name": "stdout",
          "text": [
            "Q: Where is a lake likely to be glacial?\n",
            "O: michigan /// new york /// new york /// mountains /// countryside\n",
            "A:  mountains /// mountains /// countryside\n",
            "\n",
            "\n",
            "Model: mountains and Actual Answer: mountains\n",
            "Q: They needed grape juice for their party, they went to buy it and other snacks at the what?\n",
            "O: field /// restaurant /// salad /// market /// food store\n",
            "A:  salad /// food store\n",
            "\n",
            "\n",
            "Model: salad and Actual Answer: food store\n"
          ]
        },
        {
          "output_type": "stream",
          "name": "stderr",
          "text": [
            " 91%|█████████ | 1110/1221 [02:22<00:14,  7.73it/s]"
          ]
        },
        {
          "output_type": "stream",
          "name": "stdout",
          "text": [
            "Q: Why do some people get passports and go to different locations?\n",
            "O: believe in god /// smoke marijuana /// desire to travel /// use weapons /// throw away\n",
            "A:  use weapons /// use weapons\n",
            "\n",
            "\n",
            "Model: use weapons and Actual Answer: desire to travel\n",
            "Q: Where do apples form on an apple tree?\n",
            "O: south africa /// sunshine /// new york /// bloom /// trunk\n",
            "A:  new york /// trunk\n",
            "\n",
            "\n",
            "Model: new york and Actual Answer: bloom\n"
          ]
        },
        {
          "output_type": "stream",
          "name": "stderr",
          "text": [
            " 91%|█████████ | 1112/1221 [02:23<00:14,  7.75it/s]"
          ]
        },
        {
          "output_type": "stream",
          "name": "stdout",
          "text": [
            "Q: Where areas are there likely to be many nightclubs?\n",
            "O: manhattan /// drink and dance /// alcohol /// major city /// downtown area\n",
            "A:  major city /// major city\n",
            "\n",
            "\n",
            "Model: major city and Actual Answer: major city\n",
            "Q: What can machines do that humans cannot?\n",
            "O: fail to work /// perform work /// answering questions /// see work /// fly\n",
            "A:  perform work /// see work\n",
            "\n",
            "\n",
            "Model: perform work and Actual Answer: fly\n"
          ]
        },
        {
          "output_type": "stream",
          "name": "stderr",
          "text": [
            " 91%|█████████ | 1114/1221 [02:23<00:13,  7.84it/s]"
          ]
        },
        {
          "output_type": "stream",
          "name": "stdout",
          "text": [
            "Q: What does someone stop doing when being dead?\n",
            "O: moving /// working /// breathing /// alive /// deadworks\n",
            "A:  working /// deadworks\n",
            "\n",
            "\n",
            "Model: working and Actual Answer: breathing\n",
            "Q: The place where my linen closet is really needs repainting a light color as it only has one overhead light.\n",
            "O: house /// home /// pool house /// hallway /// bedroom\n",
            "A:  house /// hallway\n",
            "\n",
            "\n",
            "Model: house and Actual Answer: hallway\n"
          ]
        },
        {
          "output_type": "stream",
          "name": "stderr",
          "text": [
            " 91%|█████████▏| 1116/1221 [02:23<00:13,  7.89it/s]"
          ]
        },
        {
          "output_type": "stream",
          "name": "stdout",
          "text": [
            "Q: Punk rock music is an important part of what action sport?\n",
            "O: skate /// listen /// opera /// opera /// relax\n",
            "A:  opera /// skateboarding\n",
            "\n",
            "\n",
            "Model: opera and Actual Answer: skate\n",
            "Q: Where might a mouse be found to make it country?\n",
            "O: kitchen /// cook /// computer lab /// old barn /// research laboratory\n",
            "A:  old barn\n",
            "\n",
            "\n",
            "Model: old barn and Actual Answer: old barn\n"
          ]
        },
        {
          "output_type": "stream",
          "name": "stderr",
          "text": [
            " 92%|█████████▏| 1118/1221 [02:23<00:13,  7.73it/s]"
          ]
        },
        {
          "output_type": "stream",
          "name": "stdout",
          "text": [
            "Q: Where is a bird likely to make it's home?\n",
            "O: forest /// nest /// roof /// leaves /// sky\n",
            "A:  tree /// roof\n",
            "\n",
            "\n",
            "Model: tree and Actual Answer: forest\n",
            "Q: When a person suffers from hunger early in the day what do they do?\n",
            "O: eat hamburger /// eat breakfast /// open fridge /// buy food /// cook dinner\n",
            "A:  eat breakfast /// open fridge\n",
            "\n",
            "\n",
            "Model: eat breakfast and Actual Answer: eat breakfast\n"
          ]
        },
        {
          "output_type": "stream",
          "name": "stderr",
          "text": [
            " 92%|█████████▏| 1120/1221 [02:24<00:12,  7.78it/s]"
          ]
        },
        {
          "output_type": "stream",
          "name": "stdout",
          "text": [
            "Q: How would you express information if you do not have a pen or pencil?\n",
            "O: may disagree /// close mouth /// write down /// talk /// eyes\n",
            "A:  eyes\n",
            "\n",
            "\n",
            "Model: eyes and Actual Answer: talk\n",
            "Q: What does everyone feel of monsters?\n",
            "O: looking for love /// afraid of /// good at /// make pet /// different\n",
            "A:  fear of /// fear of\n",
            "\n",
            "\n",
            "Model: fear of and Actual Answer: afraid of\n"
          ]
        },
        {
          "output_type": "stream",
          "name": "stderr",
          "text": [
            " 92%|█████████▏| 1122/1221 [02:24<00:12,  7.83it/s]"
          ]
        },
        {
          "output_type": "stream",
          "name": "stdout",
          "text": [
            "Q: Why does someone want to examine thing closely?\n",
            "O: buy /// learn about /// buy /// complex /// interesting\n",
            "A:  learn about\n",
            "\n",
            "\n",
            "Model: learn about and Actual Answer: learn about\n",
            "Q: What does \tdrinking alcohol lead to?\n",
            "O: have fun /// intoxication /// vomiting /// drinking more alcohol /// nausea\n",
            "A:  vomiting /// vomiting /// nausea\n",
            "\n",
            "\n",
            "Model: vomiting and Actual Answer: intoxication\n"
          ]
        },
        {
          "output_type": "stream",
          "name": "stderr",
          "text": [
            " 92%|█████████▏| 1124/1221 [02:24<00:12,  7.88it/s]"
          ]
        },
        {
          "output_type": "stream",
          "name": "stdout",
          "text": [
            "Q: Where would your hear a bass clarinet along side other wood wind instruments?\n",
            "O: opera house /// school band /// music store /// orchestra /// bathroom stall\n",
            "A:  orchestra /// music store\n",
            "\n",
            "\n",
            "Model: orchestra and Actual Answer: orchestra\n",
            "Q: What is the opposite of a little of something?\n",
            "O: much /// plenty /// more /// big /// lot of\n",
            "A:  big\n",
            "\n",
            "\n",
            "Model: big and Actual Answer: lot of\n"
          ]
        },
        {
          "output_type": "stream",
          "name": "stderr",
          "text": [
            " 92%|█████████▏| 1126/1221 [02:24<00:12,  7.76it/s]"
          ]
        },
        {
          "output_type": "stream",
          "name": "stdout",
          "text": [
            "Q: The princess was pure, the evil wizard wished to do what to her?\n",
            "O: dirty /// tarnish /// corrupt /// contaminated /// applied\n",
            "A:  tarnish /// applied\n",
            "\n",
            "\n",
            "Model: tarnish and Actual Answer: corrupt\n",
            "Q: The piece of paper was worth a lot of money, it was an old Apple Inc what?\n",
            "O: notebook /// copy machine /// stock certificate /// ream /// thumb drive\n",
            "A:  thumb drive\n",
            "\n",
            "\n",
            "Model: thumb drive and Actual Answer: stock certificate\n"
          ]
        },
        {
          "output_type": "stream",
          "name": "stderr",
          "text": [
            " 92%|█████████▏| 1128/1221 [02:25<00:11,  7.79it/s]"
          ]
        },
        {
          "output_type": "stream",
          "name": "stdout",
          "text": [
            "Q: During the winter hunt he could hear every motion in the woods, this was because of the what of everything?\n",
            "O: being still /// silence /// stationary /// stillness /// standing still\n",
            "A:  stillness\n",
            "\n",
            "\n",
            "Model: stillness and Actual Answer: stillness\n",
            "Q: If a car-less person want to listen to talk radio in private, where might they listen to it?\n",
            "O: trunk /// bedroom /// diner /// space shuttle /// shop\n",
            "A:  shop /// shop\n",
            "\n",
            "\n",
            "Model: shop and Actual Answer: bedroom\n"
          ]
        },
        {
          "output_type": "stream",
          "name": "stderr",
          "text": [
            " 93%|█████████▎| 1130/1221 [02:25<00:11,  7.85it/s]"
          ]
        },
        {
          "output_type": "stream",
          "name": "stdout",
          "text": [
            "Q: Billy was an astronaut.  When he looked at the world from space, how did it look?\n",
            "O: diverse /// round /// square /// orange /// complicated\n",
            "A:  square /// complex\n",
            "\n",
            "\n",
            "Model: square and Actual Answer: round\n",
            "Q: Where is a good place to have a fireplace in a house?\n",
            "O: big house /// train /// cabin /// living room /// home\n",
            "A:  cabin /// living room\n",
            "\n",
            "\n",
            "Model: cabin and Actual Answer: living room\n"
          ]
        },
        {
          "output_type": "stream",
          "name": "stderr",
          "text": [
            " 93%|█████████▎| 1132/1221 [02:25<00:11,  7.79it/s]"
          ]
        },
        {
          "output_type": "stream",
          "name": "stdout",
          "text": [
            "Q: If you own a cat where is the last place you'd want to find it?\n",
            "O: trouble /// dog's mouth /// backyard /// nature /// home\n",
            "A:  home\n",
            "\n",
            "\n",
            "Model: home and Actual Answer: dog's mouth\n",
            "Q: Where would you find a kosher deli along side a number of different places to eat?\n",
            "O: los angeles /// food court /// new york city /// jewish community /// jewish neighborhoods\n",
            "A:  jewish community /// jewish neighborhood\n",
            "\n",
            "\n",
            "Model: jewish community and Actual Answer: food court\n"
          ]
        },
        {
          "output_type": "stream",
          "name": "stderr",
          "text": [
            " 93%|█████████▎| 1134/1221 [02:25<00:11,  7.71it/s]"
          ]
        },
        {
          "output_type": "stream",
          "name": "stdout",
          "text": [
            "Q: What do you do when you're going to market?\n",
            "O: buy food /// see other people /// buying vegetables /// buy a fat pig /// traveling\n",
            "A:  buy food /// travel\n",
            "\n",
            "\n",
            "Model: buy food and Actual Answer: buy food\n",
            "Q: She feared that she had cancer, but upon discovering truth that she hadn't, what was her attitude toward life?\n",
            "O: conclusion /// pain /// happiness /// relief /// boring\n",
            "A:  happiness /// pain\n",
            "\n",
            "\n",
            "Model: happiness and Actual Answer: happiness\n"
          ]
        },
        {
          "output_type": "stream",
          "name": "stderr",
          "text": [
            " 93%|█████████▎| 1136/1221 [02:26<00:10,  7.80it/s]"
          ]
        },
        {
          "output_type": "stream",
          "name": "stdout",
          "text": [
            "Q: What is the feeling of one having fun?\n",
            "O: smiling /// pleasure /// hurt /// injuries /// laughter\n",
            "A:  pain /// hurt\n",
            "\n",
            "\n",
            "Model: pain and Actual Answer: pleasure\n",
            "Q: If I keep getting crumbs under my table, what should I put under it?\n",
            "O: conference /// neighbor's house /// rug /// net /// card room\n",
            "A:  rug /// net\n",
            "\n",
            "\n",
            "Model: rug and Actual Answer: rug\n"
          ]
        },
        {
          "output_type": "stream",
          "name": "stderr",
          "text": [
            " 93%|█████████▎| 1138/1221 [02:26<00:10,  7.88it/s]"
          ]
        },
        {
          "output_type": "stream",
          "name": "stdout",
          "text": [
            "Q: Christians believe you will go to heaven if you're what?\n",
            "O: unable to work /// born again /// change of color /// dead /// no longer exist\n",
            "A:  dead /// no longer exist\n",
            "\n",
            "\n",
            "Model: dead and Actual Answer: born again\n",
            "Q: James loved to surf but he wasn't good at it. He would always do what?\n",
            "O: wipe out /// enjoy yourself /// start fighting /// get wet /// drown\n",
            "A:  enjoy yourself /// get wet\n",
            "\n",
            "\n",
            "Model: enjoy yourself and Actual Answer: wipe out\n"
          ]
        },
        {
          "output_type": "stream",
          "name": "stderr",
          "text": [
            " 93%|█████████▎| 1140/1221 [02:26<00:10,  7.85it/s]"
          ]
        },
        {
          "output_type": "stream",
          "name": "stdout",
          "text": [
            "Q: Sarah gave her brother a guy to her home.  While she was gone, he used it to do what?\n",
            "O: front door /// turn lock /// solution to problem /// install /// open doors\n",
            "A:  turn lock /// install solution to problem\n",
            "\n",
            "\n",
            "Model: turn lock and Actual Answer: open doors\n",
            "Q: When did mammoth's live?\n",
            "O: boscage /// forest /// prehistory /// prehistoric times /// ancient times\n",
            "A:  prehistory\n",
            "\n",
            "\n",
            "Model: prehistory and Actual Answer: ancient times\n"
          ]
        },
        {
          "output_type": "stream",
          "name": "stderr",
          "text": [
            " 94%|█████████▎| 1142/1221 [02:26<00:10,  7.81it/s]"
          ]
        },
        {
          "output_type": "stream",
          "name": "stdout",
          "text": [
            "Q: After killing people, the murderer went to church after feeling what?\n",
            "O: murder /// remorse /// religious /// retaliation /// anguish\n",
            "A:  revenge /// retribution\n",
            "\n",
            "\n",
            "Model: revenge and Actual Answer: remorse\n",
            "Q: What might result in an unsuccessful suicide attempt?\n",
            "O: die /// interruption /// bleed /// hatred /// dying\n",
            "A:  death /// bleed\n",
            "\n",
            "\n",
            "Model: death and Actual Answer: interruption\n"
          ]
        },
        {
          "output_type": "stream",
          "name": "stderr",
          "text": [
            " 94%|█████████▎| 1144/1221 [02:27<00:09,  7.79it/s]"
          ]
        },
        {
          "output_type": "stream",
          "name": "stdout",
          "text": [
            "Q: What can happen if you are buying products that someone else does not want you to buy?\n",
            "O: joy /// disagreements /// agony /// pleasure /// owning\n",
            "A:  pleasure /// pain\n",
            "\n",
            "\n",
            "Model: pleasure and Actual Answer: disagreements\n",
            "Q: The child was getting many gifts for his birthday, his father reminded him to do what after opening each one?\n",
            "O: show appreciation /// asking for /// exchanging /// say thank /// smile\n",
            "A:  say thank\n",
            "\n",
            "\n",
            "Model: say thank and Actual Answer: say thank\n"
          ]
        },
        {
          "output_type": "stream",
          "name": "stderr",
          "text": [
            " 94%|█████████▍| 1146/1221 [02:27<00:09,  7.87it/s]"
          ]
        },
        {
          "output_type": "stream",
          "name": "stdout",
          "text": [
            "Q: Bob stands in the grass surrounded by trees and nature, where is Bob?\n",
            "O: rest area /// desert /// state park /// fairgrounds /// soccer game\n",
            "A:  desert /// fairgrounds\n",
            "\n",
            "\n",
            "Model: desert and Actual Answer: state park\n",
            "Q: Bart entered his horse into the contest.  Where did he do this?\n",
            "O: circus /// in kentucky /// western movie /// central park /// state fair\n",
            "A:  in kentucky /// central park /// central park\n",
            "\n",
            "\n",
            "Model: in kentucky and Actual Answer: state fair\n"
          ]
        },
        {
          "output_type": "stream",
          "name": "stderr",
          "text": [
            " 94%|█████████▍| 1148/1221 [02:27<00:09,  7.84it/s]"
          ]
        },
        {
          "output_type": "stream",
          "name": "stdout",
          "text": [
            "Q: From where does a snowflake form?\n",
            "O: cloud /// snow storm /// billow /// air /// snowstorm\n",
            "A:  air /// snowstorm\n",
            "\n",
            "\n",
            "Model: air and Actual Answer: cloud\n",
            "Q: All the power tools like the drill used for fixing cars made for a very loud workplace where?\n",
            "O: basement /// work shop /// tool shed /// repair shop /// store room\n",
            "A:  repair shop /// tool shed\n",
            "\n",
            "\n",
            "Model: repair shop and Actual Answer: repair shop\n"
          ]
        },
        {
          "output_type": "stream",
          "name": "stderr",
          "text": [
            " 94%|█████████▍| 1150/1221 [02:27<00:09,  7.83it/s]"
          ]
        },
        {
          "output_type": "stream",
          "name": "stdout",
          "text": [
            "Q: Applying for a job can make someone feel what sort of emotion, even if they get it?\n",
            "O: working hard /// frustration /// rejection /// defeat /// stress\n",
            "A:  rejection /// stress\n",
            "\n",
            "\n",
            "Model: rejection and Actual Answer: stress\n",
            "Q: A farmer sees a weasel in the woods, where is the farmer?\n",
            "O: chicken coop /// beach /// fairytale /// great outdoors /// corn fields\n",
            "A:  corn fields\n",
            "\n",
            "\n",
            "Model: corn fields and Actual Answer: great outdoors\n"
          ]
        },
        {
          "output_type": "stream",
          "name": "stderr",
          "text": [
            " 94%|█████████▍| 1152/1221 [02:28<00:08,  7.88it/s]"
          ]
        },
        {
          "output_type": "stream",
          "name": "stdout",
          "text": [
            "Q: He picked up the perfect pebble, he planned to skip it across the entire small what?\n",
            "O: manual /// lake /// aquarium /// pond /// playground\n",
            "A:  pond /// playground\n",
            "\n",
            "\n",
            "Model: pond and Actual Answer: pond\n",
            "Q: Traveling from new place to new place is likely to be what?\n",
            "O: going somewhere /// exhilarating /// diarrhea /// relocation /// exhausting\n",
            "A:  exhilarating /// going somewhere\n",
            "\n",
            "\n",
            "Model: exhilarating and Actual Answer: exhilarating\n"
          ]
        },
        {
          "output_type": "stream",
          "name": "stderr",
          "text": [
            " 95%|█████████▍| 1154/1221 [02:28<00:08,  7.93it/s]"
          ]
        },
        {
          "output_type": "stream",
          "name": "stdout",
          "text": [
            "Q: Turkey only has a small northern part of their country located in part of the what?\n",
            "O: middle east /// oven /// balkan peninsula /// provide meat /// asia minor\n",
            "A:  asia minor\n",
            "\n",
            "\n",
            "Model: asia minor and Actual Answer: balkan peninsula\n",
            "Q: Where might someone store a reusable shopping bag?\n",
            "O: supermarket /// home /// mart /// obesity /// closet\n",
            "A:  mart /// closet\n",
            "\n",
            "\n",
            "Model: mart and Actual Answer: closet\n"
          ]
        },
        {
          "output_type": "stream",
          "name": "stderr",
          "text": [
            " 95%|█████████▍| 1156/1221 [02:28<00:08,  7.83it/s]"
          ]
        },
        {
          "output_type": "stream",
          "name": "stdout",
          "text": [
            "Q: How could you have fun by yourself with no one around you?\n",
            "O: fairgrounds /// watching television /// tired /// enjoyable /// friend's house\n",
            "A:  enjoyable\n",
            "\n",
            "\n",
            "Model: enjoyable and Actual Answer: watching television\n",
            "Q: The potato might be the official vegetable of what?\n",
            "O: vegans /// kitchen cupboard /// restaurants /// chicken /// maryland\n",
            "A:  restaurants /// maryland\n",
            "\n",
            "\n",
            "Model: restaurants and Actual Answer: maryland\n"
          ]
        },
        {
          "output_type": "stream",
          "name": "stderr",
          "text": [
            " 95%|█████████▍| 1158/1221 [02:28<00:08,  7.81it/s]"
          ]
        },
        {
          "output_type": "stream",
          "name": "stdout",
          "text": [
            "Q: Where is the sky most beautiful?\n",
            "O: planetarium /// outdoors /// atmosphere /// night /// photo\n",
            "A:  planetarium\n",
            "\n",
            "\n",
            "Model: planetarium and Actual Answer: outdoors\n",
            "Q: What type of fruit is easily broken in to sections?\n",
            "O: slide /// citrus /// band /// orchestra /// coconut\n",
            "A:  band /// band\n",
            "\n",
            "\n",
            "Model: band and Actual Answer: citrus\n"
          ]
        },
        {
          "output_type": "stream",
          "name": "stderr",
          "text": [
            " 95%|█████████▌| 1160/1221 [02:29<00:07,  7.70it/s]"
          ]
        },
        {
          "output_type": "stream",
          "name": "stdout",
          "text": [
            "Q: Marathoners feel fatigued after running twenty six miles, but some that have pushed them self too hard might be prone to what?\n",
            "O: excruciating pain /// passing out /// death /// drunk /// exhaustion\n",
            "A:  exhaustion\n",
            "\n",
            "\n",
            "Model: exhaustion and Actual Answer: passing out\n",
            "Q: Billy liked driving cars.  He was good at it.  But he was rattled ever since his father experienced what?\n",
            "O: transportation /// pollution /// stress /// death /// go somewhere\n",
            "A:  traffic\n",
            "\n",
            "\n",
            "Model: traffic and Actual Answer: death\n"
          ]
        },
        {
          "output_type": "stream",
          "name": "stderr",
          "text": [
            " 95%|█████████▌| 1162/1221 [02:29<00:07,  7.78it/s]"
          ]
        },
        {
          "output_type": "stream",
          "name": "stdout",
          "text": [
            "Q: I am cold, what should I do to stay warm?\n",
            "O: stay in bed /// light fire /// freezer /// lay on ice /// spit\n",
            "A:  stay in bed /// lay on ice\n",
            "\n",
            "\n",
            "Model: stay in bed and Actual Answer: light fire\n",
            "Q: Copulating with the wrong partner may be ill advised, many diseases can be transferred that can cause different types of what?\n",
            "O: intense pleasure /// ejaculation /// period of rest /// enjoyment /// skin irritation\n",
            "A:  skin irritation /// skin irritation\n",
            "\n",
            "\n",
            "Model: skin irritation and Actual Answer: skin irritation\n"
          ]
        },
        {
          "output_type": "stream",
          "name": "stderr",
          "text": [
            " 95%|█████████▌| 1164/1221 [02:29<00:07,  7.83it/s]"
          ]
        },
        {
          "output_type": "stream",
          "name": "stdout",
          "text": [
            "Q: What do audiences clap for?\n",
            "O: cinema /// theatre /// movies /// show /// hockey game\n",
            "A:  theatre /// hockey game\n",
            "\n",
            "\n",
            "Model: theatre and Actual Answer: show\n",
            "Q: Where would you get a balalaika if you do not have one?\n",
            "O: orchestra /// music store /// buy music /// make music /// symphony\n",
            "A:  symphony\n",
            "\n",
            "\n",
            "Model: symphony and Actual Answer: music store\n"
          ]
        },
        {
          "output_type": "stream",
          "name": "stderr",
          "text": [
            " 95%|█████████▌| 1166/1221 [02:30<00:07,  7.83it/s]"
          ]
        },
        {
          "output_type": "stream",
          "name": "stdout",
          "text": [
            "Q: Hoping for a beautiful day, what did the clouds do that disappointed everyone?\n",
            "O: homely /// overcast /// hideous /// overrated /// misshapen\n",
            "A:  overrated /// misshapen\n",
            "\n",
            "\n",
            "Model: overrated and Actual Answer: overcast\n",
            "Q: What type of demands to the unions need to be making to go off strike?\n",
            "O: reasonable /// more money /// not go to work /// return to work /// union\n",
            "A:  union /// union /// union\n",
            "\n",
            "\n",
            "Model: union and Actual Answer: reasonable\n"
          ]
        },
        {
          "output_type": "stream",
          "name": "stderr",
          "text": [
            " 96%|█████████▌| 1168/1221 [02:30<00:06,  7.73it/s]"
          ]
        },
        {
          "output_type": "stream",
          "name": "stdout",
          "text": [
            "Q: The landscaper was carefully arching stones together, he was creating an elaborate what over the creek?\n",
            "O: park /// made from rocks /// balloon /// field /// bridge\n",
            "A:  field /// bridge\n",
            "\n",
            "\n",
            "Model: field and Actual Answer: bridge\n",
            "Q: John was not happy with his marriage. He and his wife drifted apart.     All and all, recent turns could be described as what?\n",
            "O: inappropriate /// sadness /// unsatisfied /// unfortunate /// disenchanted\n",
            "A:  disenchanted\n",
            "\n",
            "\n",
            "Model: disenchanted and Actual Answer: unfortunate\n"
          ]
        },
        {
          "output_type": "stream",
          "name": "stderr",
          "text": [
            " 96%|█████████▌| 1170/1221 [02:30<00:06,  7.56it/s]"
          ]
        },
        {
          "output_type": "stream",
          "name": "stdout",
          "text": [
            "Q: The poor girls needed a light to see, what was the relationship between that light and finishing her homework?\n",
            "O: darkness /// cumbersome /// obesity /// forceful /// crucial\n",
            "A:  indispensability\n",
            "\n",
            "\n",
            "Model: indispensability and Actual Answer: crucial\n",
            "Q: Where would you find a ticket booth and see a concert?\n",
            "O: clerk /// indoors /// movie theater /// venue /// auditorium\n",
            "A:  auditorium\n",
            "\n",
            "\n",
            "Model: auditorium and Actual Answer: venue\n"
          ]
        },
        {
          "output_type": "stream",
          "name": "stderr",
          "text": [
            " 96%|█████████▌| 1172/1221 [02:30<00:06,  7.71it/s]"
          ]
        },
        {
          "output_type": "stream",
          "name": "stdout",
          "text": [
            "Q: Who is not famous for a superhighway with no speed limit?\n",
            "O: europe /// germany /// industrialized country /// city /// america\n",
            "A:  america\n",
            "\n",
            "\n",
            "Model: america and Actual Answer: america\n",
            "Q: The low trickle of water revealed a stone, where was the stone found?\n",
            "O: ocean /// gallbladder /// driveway /// river bed /// creek bed\n",
            "A:  river bed /// creek bed\n",
            "\n",
            "\n",
            "Model: river bed and Actual Answer: creek bed\n"
          ]
        },
        {
          "output_type": "stream",
          "name": "stderr",
          "text": [
            " 96%|█████████▌| 1174/1221 [02:31<00:06,  7.77it/s]"
          ]
        },
        {
          "output_type": "stream",
          "name": "stdout",
          "text": [
            "Q: Where is the closest place from where you could borrow salt?\n",
            "O: ocean water /// table /// shaker /// neighbor's house /// lake\n",
            "A:  neighbor's house\n",
            "\n",
            "\n",
            "Model: neighbor's house and Actual Answer: neighbor's house\n",
            "Q: No matter what date you put on it, we all know the universe to be what?\n",
            "O: very old /// infiniverse /// getting younger /// infinite /// real\n",
            "A:  infinite\n",
            "\n",
            "\n",
            "Model: infinite and Actual Answer: very old\n"
          ]
        },
        {
          "output_type": "stream",
          "name": "stderr",
          "text": [
            " 96%|█████████▋| 1176/1221 [02:31<00:05,  7.84it/s]"
          ]
        },
        {
          "output_type": "stream",
          "name": "stdout",
          "text": [
            "Q: A meteor travels through galaxies which are a part of what?\n",
            "O: republic of ireland /// sky /// orbit /// universe /// school\n",
            "A:  universe /// sky\n",
            "\n",
            "\n",
            "Model: universe and Actual Answer: universe\n",
            "Q: What is a person considered a bully known for?\n",
            "O: ridiculous /// false information /// made fun of /// brain tumor /// bull rider\n",
            "A:  false information /// brain tumor\n",
            "\n",
            "\n",
            "Model: false information and Actual Answer: made fun of\n"
          ]
        },
        {
          "output_type": "stream",
          "name": "stderr",
          "text": [
            " 96%|█████████▋| 1178/1221 [02:31<00:05,  7.92it/s]"
          ]
        },
        {
          "output_type": "stream",
          "name": "stdout",
          "text": [
            "Q: She had an interest in the man, what did she want to do with him?\n",
            "O: see particular program /// see exhibits /// see people play game /// have conversation /// watch film\n",
            "A:  see exhibits /// see people play game\n",
            "\n",
            "\n",
            "Model: see exhibits and Actual Answer: have conversation\n",
            "Q: Where is a drug kept in a home bathroom?\n",
            "O: nursery /// ghetto /// cupboard /// pharmacy /// medicine cabinet\n",
            "A:  pharmacy /// medicine cabinet\n",
            "\n",
            "\n",
            "Model: pharmacy and Actual Answer: medicine cabinet\n"
          ]
        },
        {
          "output_type": "stream",
          "name": "stderr",
          "text": [
            " 97%|█████████▋| 1180/1221 [02:31<00:05,  7.51it/s]"
          ]
        },
        {
          "output_type": "stream",
          "name": "stdout",
          "text": [
            "Q: When cooking sheep meat a lot of people might want to be well?\n",
            "O: ram /// lamb /// done /// ram /// wolf\n",
            "A:  lamb /// wolf\n",
            "\n",
            "\n",
            "Model: lamb and Actual Answer: done\n",
            "Q: Where would you sit in a chair while working toward an advanced degree?\n",
            "O: aeroport /// church /// furniture store /// university /// living room\n",
            "A:  living room /// furniture store\n",
            "\n",
            "\n",
            "Model: living room and Actual Answer: university\n"
          ]
        },
        {
          "output_type": "stream",
          "name": "stderr",
          "text": [
            " 97%|█████████▋| 1182/1221 [02:32<00:05,  7.66it/s]"
          ]
        },
        {
          "output_type": "stream",
          "name": "stdout",
          "text": [
            "Q: Farm land makes use of what?\n",
            "O: countryside /// michigan /// north dakota /// farming areas /// illinois\n",
            "A:  farming areas /// michigan /// rural areas\n",
            "\n",
            "\n",
            "Model: farming areas and Actual Answer: farming areas\n",
            "Q: A good interview after applying for a job may cause you to feel what?\n",
            "O: offer /// income /// rejection /// hostile /// hope\n",
            "A:  rejection /// rejection\n",
            "\n",
            "\n",
            "Model: rejection and Actual Answer: hope\n"
          ]
        },
        {
          "output_type": "stream",
          "name": "stderr",
          "text": [
            " 97%|█████████▋| 1184/1221 [02:32<00:04,  7.83it/s]"
          ]
        },
        {
          "output_type": "stream",
          "name": "stdout",
          "text": [
            "Q: Computers have allowed everybody to answer questions they have quickly, but still we seem to be getting duller despite access to this what?\n",
            "O: economic boom /// advance knowledge /// produce sound /// teach /// follow instructions\n",
            "A:  advance knowledge /// follow instructions\n",
            "\n",
            "\n",
            "Model: advance knowledge and Actual Answer: advance knowledge\n",
            "Q: There was a long cottage somewhere.  People thought it was haunted.  It was overgrown, there was nothing near it.  It's was far into the what?\n",
            "O: mountains /// countryside /// train /// painting /// village\n",
            "A:  countryside /// countryside\n",
            "\n",
            "\n",
            "Model: countryside and Actual Answer: countryside\n"
          ]
        },
        {
          "output_type": "stream",
          "name": "stderr",
          "text": [
            " 97%|█████████▋| 1186/1221 [02:32<00:04,  7.87it/s]"
          ]
        },
        {
          "output_type": "stream",
          "name": "stdout",
          "text": [
            "Q: Where is knight always portrayed as a hero?\n",
            "O: middle ages /// chess board /// kids story /// fairy tale /// castle\n",
            "A:  castle\n",
            "\n",
            "\n",
            "Model: castle and Actual Answer: fairy tale\n",
            "Q: James is carrying a duffel bag with him because he doesn't have a vehicle of his own and needs a bag to carry his things in while he uses what?\n",
            "O: library /// transit /// bus station /// army barracks /// locker room\n",
            "A:  transit station /// bus station\n",
            "\n",
            "\n",
            "Model: transit station and Actual Answer: transit\n"
          ]
        },
        {
          "output_type": "stream",
          "name": "stderr",
          "text": [
            " 97%|█████████▋| 1188/1221 [02:32<00:04,  7.80it/s]"
          ]
        },
        {
          "output_type": "stream",
          "name": "stdout",
          "text": [
            "Q: What would you need if you want to smoke?\n",
            "O: you're stupid /// kill yourself /// roll joint /// cigarette /// lighter fluid.\n",
            "A:  cigarette /// lighter fluid fluid\n",
            "\n",
            "\n",
            "Model: cigarette and Actual Answer: cigarette\n",
            "Q: James decided that competing was the right choice.   Not competing has a defined outcome, but if he competes then what could happen?\n",
            "O: might win /// perform better /// enemies /// winners and losers /// lose\n",
            "A:  might win and losers /// lose\n",
            "\n",
            "\n",
            "Model: might win and losers and Actual Answer: might win\n"
          ]
        },
        {
          "output_type": "stream",
          "name": "stderr",
          "text": [
            " 97%|█████████▋| 1190/1221 [02:33<00:03,  7.75it/s]"
          ]
        },
        {
          "output_type": "stream",
          "name": "stdout",
          "text": [
            "Q: What could you use to get to some airplanes?\n",
            "O: taxi /// carry people /// car /// stall /// crash\n",
            "A:  taxi /// carry people\n",
            "\n",
            "\n",
            "Model: taxi and Actual Answer: taxi\n",
            "Q: What happens when driving?\n",
            "O: lack of fuel /// paint scratching /// wheels turning /// tire wear /// traffic accident\n",
            "A:  tire wear /// tire wear\n",
            "\n",
            "\n",
            "Model: tire wear and Actual Answer: wheels turning\n"
          ]
        },
        {
          "output_type": "stream",
          "name": "stderr",
          "text": [
            " 98%|█████████▊| 1192/1221 [02:33<00:03,  7.81it/s]"
          ]
        },
        {
          "output_type": "stream",
          "name": "stdout",
          "text": [
            "Q: What are our bodies doing after having food?\n",
            "O: falling down /// digesting /// gas /// weight gain /// not hungry\n",
            "A:  digesting /// weight gain\n",
            "\n",
            "\n",
            "Model: digesting and Actual Answer: digesting\n",
            "Q: Why would one try to avoid work?\n",
            "O: making money /// leave home /// success /// malaise /// bad mood\n",
            "A:  success /// malaise\n",
            "\n",
            "\n",
            "Model: success and Actual Answer: malaise\n"
          ]
        },
        {
          "output_type": "stream",
          "name": "stderr",
          "text": [
            " 98%|█████████▊| 1194/1221 [02:33<00:03,  7.90it/s]"
          ]
        },
        {
          "output_type": "stream",
          "name": "stdout",
          "text": [
            "Q: What do you do in order to fly in airplane?\n",
            "O: buy tickets /// passenger /// read /// add gas /// run through checklists\n",
            "A:  add gas /// add gas\n",
            "\n",
            "\n",
            "Model: add gas and Actual Answer: buy tickets\n",
            "Q: What is another name for the color of the fur of a dog with light colored fur?\n",
            "O: fair /// basket /// dog hair /// game /// sun\n",
            "A:  fair /// basket\n",
            "\n",
            "\n",
            "Model: fair and Actual Answer: fair\n"
          ]
        },
        {
          "output_type": "stream",
          "name": "stderr",
          "text": [
            " 98%|█████████▊| 1196/1221 [02:33<00:03,  7.76it/s]"
          ]
        },
        {
          "output_type": "stream",
          "name": "stdout",
          "text": [
            "Q: Sally was bored because she didn't like the junk that was on what?\n",
            "O: drawer /// garage /// caddy /// bed /// television\n",
            "A:  drawer /// bed\n",
            "\n",
            "\n",
            "Model: drawer and Actual Answer: television\n",
            "Q: The lion sensed his competitor was timid, so what attitude did the lion take?\n",
            "O: reckless /// bellicose /// defensive /// aggressive /// dauntless\n",
            "A:  aggressive /// dauntless\n",
            "\n",
            "\n",
            "Model: aggressive and Actual Answer: aggressive\n"
          ]
        },
        {
          "output_type": "stream",
          "name": "stderr",
          "text": [
            " 98%|█████████▊| 1198/1221 [02:34<00:02,  7.84it/s]"
          ]
        },
        {
          "output_type": "stream",
          "name": "stdout",
          "text": [
            "Q: John felt a snake slither over him as he rested.  He was afraid to raise his covers for fear of startling it.  Where might he be?\n",
            "O: pet shops /// oklahoma /// basement /// bedroom /// dreams\n",
            "A:  bedroom\n",
            "\n",
            "\n",
            "Model: bedroom and Actual Answer: bedroom\n",
            "Q: Where can you find a place to eat in an urban area close to local nightlife?\n",
            "O: city /// downtown /// mall /// shopping center /// own house\n",
            "A:  mall /// downtown /// own house\n",
            "\n",
            "\n",
            "Model: mall and Actual Answer: downtown\n"
          ]
        },
        {
          "output_type": "stream",
          "name": "stderr",
          "text": [
            " 98%|█████████▊| 1200/1221 [02:34<00:02,  7.88it/s]"
          ]
        },
        {
          "output_type": "stream",
          "name": "stdout",
          "text": [
            "Q: You have to a lot of thinking while studying a new subject, but it is how you gain what?\n",
            "O: fatigue /// depression /// best way /// weight /// knowledge\n",
            "A:  fatigue /// knowledge\n",
            "\n",
            "\n",
            "Model: fatigue and Actual Answer: knowledge\n",
            "Q: How will you communicate if you are far away from who you want to communicate with?\n",
            "O: think /// talk with people /// talk to people /// speak out /// send email\n",
            "A:  talk to people /// communicate with people\n",
            "\n",
            "\n",
            "Model: talk to people and Actual Answer: send email\n"
          ]
        },
        {
          "output_type": "stream",
          "name": "stderr",
          "text": [
            " 98%|█████████▊| 1202/1221 [02:34<00:02,  7.89it/s]"
          ]
        },
        {
          "output_type": "stream",
          "name": "stdout",
          "text": [
            "Q: Why would you not trust your friends after chatting with friends?\n",
            "O: fever /// smoke /// laughing /// coughing /// lie\n",
            "A:  coughing /// lie\n",
            "\n",
            "\n",
            "Model: coughing and Actual Answer: lie\n",
            "Q: He came from old money and had a fortune, but he made new money making shrewd trades where?\n",
            "O: eat cake /// cookie /// stock market /// real estate /// treasure chest\n",
            "A:  stock market /// treasure chest\n",
            "\n",
            "\n",
            "Model: stock market and Actual Answer: stock market\n"
          ]
        },
        {
          "output_type": "stream",
          "name": "stderr",
          "text": [
            " 99%|█████████▊| 1204/1221 [02:34<00:02,  7.85it/s]"
          ]
        },
        {
          "output_type": "stream",
          "name": "stdout",
          "text": [
            "Q: Animals make up a large part of the?\n",
            "O: carrying cargo /// favorite /// ecosystem /// nature /// ecology\n",
            "A:  nature\n",
            "\n",
            "\n",
            "Model: nature and Actual Answer: ecosystem\n",
            "Q: At a shop what can you buy to put your spare unused things?\n",
            "O: basement /// cardboard box /// ocean floor /// high school /// container\n",
            "A:  cardboard box /// high school\n",
            "\n",
            "\n",
            "Model: cardboard box and Actual Answer: container\n"
          ]
        },
        {
          "output_type": "stream",
          "name": "stderr",
          "text": [
            " 99%|█████████▉| 1206/1221 [02:35<00:01,  7.81it/s]"
          ]
        },
        {
          "output_type": "stream",
          "name": "stdout",
          "text": [
            "Q: A person with digestion issues eats a meat-filled breakfast, what does he feel?\n",
            "O: heartburn /// overeating /// happiness /// being satisfied /// gain energy\n",
            "A:  hunger /// feeling satisfied\n",
            "\n",
            "\n",
            "Model: hunger and Actual Answer: heartburn\n",
            "Q: What is a prisoner sentenced to do?\n",
            "O: scape jail /// dream of freedom /// become a hairdresser /// attempt to escape /// do time\n",
            "A:  escape prison /// escape prison /// do time\n",
            "\n",
            "\n",
            "Model: escape prison and Actual Answer: do time\n"
          ]
        },
        {
          "output_type": "stream",
          "name": "stderr",
          "text": [
            " 99%|█████████▉| 1208/1221 [02:35<00:01,  7.86it/s]"
          ]
        },
        {
          "output_type": "stream",
          "name": "stdout",
          "text": [
            "Q: Jesse  enjoyed remembering the past because he helped him understand it.  And understanding the past helped him with doing what?\n",
            "O: phoning /// nostalgia /// writing down /// active /// being prepared\n",
            "A:  being prepared /// being prepared\n",
            "\n",
            "\n",
            "Model: being prepared and Actual Answer: being prepared\n",
            "Q: David watched some nesting birds using his binoculars while on vacation.  Where might David be?.\n",
            "O: sky /// vaccation /// forest /// countryside /// roof\n",
            "A:  forest /// roof\n",
            "\n",
            "\n",
            "Model: forest and Actual Answer: forest\n"
          ]
        },
        {
          "output_type": "stream",
          "name": "stderr",
          "text": [
            " 99%|█████████▉| 1210/1221 [02:35<00:01,  7.89it/s]"
          ]
        },
        {
          "output_type": "stream",
          "name": "stdout",
          "text": [
            "Q: Where would you find many varieties of plants including a rosebush?\n",
            "O: kew gardens /// garder /// backyard /// shop /// beautiful garden\n",
            "A:  garden /// garden\n",
            "\n",
            "\n",
            "Model: garden and Actual Answer: beautiful garden\n",
            "Q: If I did not have a rosebush, where would I get one?\n",
            "O: pot /// museum /// garden center /// formal garden /// backyard\n",
            "A:  garden center /// formal garden\n",
            "\n",
            "\n",
            "Model: garden center and Actual Answer: garden center\n"
          ]
        },
        {
          "output_type": "stream",
          "name": "stderr",
          "text": [
            " 99%|█████████▉| 1212/1221 [02:35<00:01,  7.77it/s]"
          ]
        },
        {
          "output_type": "stream",
          "name": "stdout",
          "text": [
            "Q: What does a person with a what likely do?\n",
            "O: feel important /// trust himself /// own house /// electrical circuit /// know what time\n",
            "A:  know what time period\n",
            "\n",
            "\n",
            "Model: know what time period and Actual Answer: know what time\n",
            "Q: What are cats often known for?\n",
            "O: whiskers /// sharp teeth /// purr /// four legs /// sharp claws\n",
            "A:  sharp claws\n",
            "\n",
            "\n",
            "Model: sharp claws and Actual Answer: sharp claws\n"
          ]
        },
        {
          "output_type": "stream",
          "name": "stderr",
          "text": [
            " 99%|█████████▉| 1214/1221 [02:36<00:00,  7.78it/s]"
          ]
        },
        {
          "output_type": "stream",
          "name": "stdout",
          "text": [
            "Q: As he looked out the window, he knew the landing was happening soon, and it made him nervous, but where would he be soon?\n",
            "O: apartment building /// disembark /// stairwell /// deplane /// airport\n",
            "A:  airport\n",
            "\n",
            "\n",
            "Model: airport and Actual Answer: airport\n",
            "Q: Where can you find a dogs house?\n",
            "O: found outside /// faithful /// frightening /// cold /// four legs\n",
            "A:  cold /// cold\n",
            "\n",
            "\n",
            "Model: cold and Actual Answer: found outside\n"
          ]
        },
        {
          "output_type": "stream",
          "name": "stderr",
          "text": [
            "100%|█████████▉| 1216/1221 [02:36<00:00,  7.86it/s]"
          ]
        },
        {
          "output_type": "stream",
          "name": "stdout",
          "text": [
            "Q: Tweed is a rare fabric in modern clothing, what brand should I look for when buying it?\n",
            "O: scotland /// brown /// fabric store /// clothing stores /// eddie bauer\n",
            "A:  brown /// fabric store\n",
            "\n",
            "\n",
            "Model: brown and Actual Answer: eddie bauer\n",
            "Q: If you really wanted a grape, where would you go to get it?\n",
            "O: winery /// fruit stand /// field /// kitchen /// food\n",
            "A:  fruit stand /// kitchen\n",
            "\n",
            "\n",
            "Model: fruit stand and Actual Answer: fruit stand\n"
          ]
        },
        {
          "output_type": "stream",
          "name": "stderr",
          "text": [
            "100%|█████████▉| 1218/1221 [02:36<00:00,  7.85it/s]"
          ]
        },
        {
          "output_type": "stream",
          "name": "stdout",
          "text": [
            "Q: What would you do to a rock when climb up a cliff?\n",
            "O: grab /// look down /// throw /// falling /// may fall\n",
            "A:  fall /// fall\n",
            "\n",
            "\n",
            "Model: fall and Actual Answer: grab\n",
            "Q: His compressor needed a new hose, where did he go?\n",
            "O: garden shed /// hardware store /// brothel /// garage /// greenhouse\n",
            "A:  hardware store /// garage\n",
            "\n",
            "\n",
            "Model: hardware store and Actual Answer: hardware store\n"
          ]
        },
        {
          "output_type": "stream",
          "name": "stderr",
          "text": [
            "100%|█████████▉| 1220/1221 [02:36<00:00,  7.89it/s]"
          ]
        },
        {
          "output_type": "stream",
          "name": "stdout",
          "text": [
            "Q: The man closed his eyes as the music played, what effect did the music have?\n",
            "O: coma /// enjoyable /// soothing /// universal /// good or bad\n",
            "A:  soothing /// universal\n",
            "\n",
            "\n",
            "Model: soothing and Actual Answer: soothing\n",
            "Q: Setting up framing, truss and beam are some of the first steps in what?\n",
            "O: new construction /// warehouse /// driving /// ceiling /// bridge\n",
            "A:  new construction /// ceiling\n",
            "\n",
            "\n",
            "Model: new construction and Actual Answer: new construction\n"
          ]
        },
        {
          "output_type": "stream",
          "name": "stderr",
          "text": [
            "100%|██████████| 1221/1221 [02:37<00:00,  7.77it/s]"
          ]
        },
        {
          "output_type": "stream",
          "name": "stdout",
          "text": [
            "Q: What is another name for a disk for storing information?\n",
            "O: computer store /// computer to store data /// computer hard drive /// cd player /// usb mouse\n",
            "A:  computer store /// computer to store data\n",
            "\n",
            "\n",
            "Model: computer store and Actual Answer: computer hard drive\n",
            "Accuracy: 27.93%\n"
          ]
        },
        {
          "output_type": "stream",
          "name": "stderr",
          "text": [
            "\n"
          ]
        }
      ]
    },
    {
      "cell_type": "code",
      "execution_count": 92,
      "id": "Kd0dvUaa87GI",
      "metadata": {
        "colab": {
          "base_uri": "https://localhost:8080/"
        },
        "id": "Kd0dvUaa87GI",
        "outputId": "8eecc879-8b03-4256-fdc5-59d8d1f02f5f"
      },
      "outputs": [
        {
          "output_type": "stream",
          "name": "stderr",
          "text": [
            "Setting `pad_token_id` to `eos_token_id`:50256 for open-end generation.\n"
          ]
        },
        {
          "output_type": "stream",
          "name": "stdout",
          "text": [
            "What is 9 + 11?\n",
            "\n",
            "Answer: It's not a coincidence. In fact, it's a common mistake among people who want to know the answer to an important question.\n",
            "\n",
            "You might ask: \"Why do you think you're so smart?\" or \"Why do you think you're so funny?\" or \"Why do you think you're so smart?\" or \"Why do you think you're so funny?\" or \"Why do you think you're so funny?\" or \"Why do you think you're so\n"
          ]
        }
      ],
      "source": [
        "# model.eval()\n",
        "# import torch\n",
        "# from IPython.display import display, Math\n",
        "# prompt = \"What is 9 + 11?\"\n",
        "# inputs = tokenizer(prompt, return_tensors=\"pt\").to(peft_model.device)\n",
        "\n",
        "# with torch.no_grad():\n",
        "#     outputs = peft_model.generate(\n",
        "#         **inputs,\n",
        "#         max_new_tokens=100,\n",
        "#         do_sample=True,\n",
        "#         temperature=0.7,\n",
        "#         top_p=0.95\n",
        "#     )\n",
        "\n",
        "# print(tokenizer.decode(outputs[0], skip_special_tokens=False))"
      ]
    },
    {
      "cell_type": "code",
      "source": [
        "model.eval()\n",
        "import torch\n",
        "# prompt = f\"Q: {question}\\nChoices:\\n\"\n",
        "#     for choice in choices:\n",
        "#         prompt += f\"- {choice}\\n\"\n",
        "#     prompt += \"Answer:\"\n",
        "q = \"What do people aim to do at work?\"\n",
        "options = ['complete job', 'learn from each other', 'kill animals', 'wear hats', 'talk to each other']\n",
        "options2 = ' /// '.join(options)\n",
        "from IPython.display import display, Math\n",
        "prompt = f\"Q: {q}\\nO: {options2}\\nA: \"\n",
        "inputs = tokenizer(prompt, return_tensors=\"pt\").to(base_model.device)\n",
        "\n",
        "with torch.no_grad():\n",
        "    outputs = model.generate(\n",
        "    input_ids=inputs[\"input_ids\"],\n",
        "    attention_mask=inputs[\"attention_mask\"],\n",
        "    max_new_tokens=10,\n",
        "    do_sample=False,\n",
        "    pad_token_id=tokenizer.eos_token_id,\n",
        "    eos_token_id=tokenizer.eos_token_id,\n",
        "    early_stopping=True,\n",
        "    num_beams=5,  # Optional: beam search for stronger outputs\n",
        "  )\n",
        "\n",
        "print(tokenizer.decode(outputs[0], skip_special_tokens=False))"
      ],
      "metadata": {
        "id": "aGNZcQpi5glS",
        "outputId": "d62ac776-4ca2-4ed4-bc2e-63b1dc3c4c80",
        "colab": {
          "base_uri": "https://localhost:8080/"
        }
      },
      "id": "aGNZcQpi5glS",
      "execution_count": 138,
      "outputs": [
        {
          "output_type": "stream",
          "name": "stdout",
          "text": [
            "Q: What do people aim to do at work?\n",
            "O: complete job /// learn from each other /// kill animals /// wear hats /// talk to each other\n",
            "A:  learn from each other /// talk to each other\n",
            "\n"
          ]
        }
      ]
    },
    {
      "cell_type": "code",
      "execution_count": null,
      "id": "UTZ5QfpGC-iQ",
      "metadata": {
        "id": "UTZ5QfpGC-iQ"
      },
      "outputs": [],
      "source": []
    }
  ],
  "metadata": {
    "accelerator": "GPU",
    "colab": {
      "gpuType": "A100",
      "machine_shape": "hm",
      "provenance": []
    },
    "kernelspec": {
      "display_name": "Python 3",
      "name": "python3"
    },
    "language_info": {
      "codemirror_mode": {
        "name": "ipython",
        "version": 3
      },
      "file_extension": ".py",
      "mimetype": "text/x-python",
      "name": "python",
      "nbconvert_exporter": "python",
      "pygments_lexer": "ipython3",
      "version": "3.12.3"
    },
    "widgets": {
      "application/vnd.jupyter.widget-state+json": {
        "5c8bc09cfe494f8695855a43b55835d1": {
          "model_module": "@jupyter-widgets/controls",
          "model_name": "VBoxModel",
          "model_module_version": "1.5.0",
          "state": {
            "_dom_classes": [],
            "_model_module": "@jupyter-widgets/controls",
            "_model_module_version": "1.5.0",
            "_model_name": "VBoxModel",
            "_view_count": null,
            "_view_module": "@jupyter-widgets/controls",
            "_view_module_version": "1.5.0",
            "_view_name": "VBoxView",
            "box_style": "",
            "children": [],
            "layout": "IPY_MODEL_a0e3f097bbdf4fc999c4e65159278163"
          }
        },
        "849eea3ca7074e3ab7bb3087190581c1": {
          "model_module": "@jupyter-widgets/controls",
          "model_name": "HTMLModel",
          "model_module_version": "1.5.0",
          "state": {
            "_dom_classes": [],
            "_model_module": "@jupyter-widgets/controls",
            "_model_module_version": "1.5.0",
            "_model_name": "HTMLModel",
            "_view_count": null,
            "_view_module": "@jupyter-widgets/controls",
            "_view_module_version": "1.5.0",
            "_view_name": "HTMLView",
            "description": "",
            "description_tooltip": null,
            "layout": "IPY_MODEL_97bb02a3a036458f8f431a0803056d80",
            "placeholder": "​",
            "style": "IPY_MODEL_d53972f1d04f4469af66609b7f428dd4",
            "value": "<center> <img\nsrc=https://huggingface.co/front/assets/huggingface_logo-noborder.svg\nalt='Hugging Face'> <br> Copy a token from <a\nhref=\"https://huggingface.co/settings/tokens\" target=\"_blank\">your Hugging Face\ntokens page</a> and paste it below. <br> Immediately click login after copying\nyour token or it might be stored in plain text in this notebook file. </center>"
          }
        },
        "85e3d2539cbf4dbb9767ae0a5da3a3e8": {
          "model_module": "@jupyter-widgets/controls",
          "model_name": "PasswordModel",
          "model_module_version": "1.5.0",
          "state": {
            "_dom_classes": [],
            "_model_module": "@jupyter-widgets/controls",
            "_model_module_version": "1.5.0",
            "_model_name": "PasswordModel",
            "_view_count": null,
            "_view_module": "@jupyter-widgets/controls",
            "_view_module_version": "1.5.0",
            "_view_name": "PasswordView",
            "continuous_update": true,
            "description": "Token:",
            "description_tooltip": null,
            "disabled": false,
            "layout": "IPY_MODEL_c9b0248d85c447d39a46e1a08165a862",
            "placeholder": "​",
            "style": "IPY_MODEL_d010226906754df0aff5b93c4cc8e4dd",
            "value": ""
          }
        },
        "9caf653747734bebb68e78b3af36a31b": {
          "model_module": "@jupyter-widgets/controls",
          "model_name": "CheckboxModel",
          "model_module_version": "1.5.0",
          "state": {
            "_dom_classes": [],
            "_model_module": "@jupyter-widgets/controls",
            "_model_module_version": "1.5.0",
            "_model_name": "CheckboxModel",
            "_view_count": null,
            "_view_module": "@jupyter-widgets/controls",
            "_view_module_version": "1.5.0",
            "_view_name": "CheckboxView",
            "description": "Add token as git credential?",
            "description_tooltip": null,
            "disabled": false,
            "indent": true,
            "layout": "IPY_MODEL_333226a676cf4161b63970774f363d29",
            "style": "IPY_MODEL_1f21bfd5f48c42a8ad9dd153be1e738c",
            "value": true
          }
        },
        "0c4d414b919445af9c116efd0b72ad86": {
          "model_module": "@jupyter-widgets/controls",
          "model_name": "ButtonModel",
          "model_module_version": "1.5.0",
          "state": {
            "_dom_classes": [],
            "_model_module": "@jupyter-widgets/controls",
            "_model_module_version": "1.5.0",
            "_model_name": "ButtonModel",
            "_view_count": null,
            "_view_module": "@jupyter-widgets/controls",
            "_view_module_version": "1.5.0",
            "_view_name": "ButtonView",
            "button_style": "",
            "description": "Login",
            "disabled": false,
            "icon": "",
            "layout": "IPY_MODEL_5712460b0c7e4d73b2b52e308f08d14f",
            "style": "IPY_MODEL_222474c59cd7489488b946600e5280c5",
            "tooltip": ""
          }
        },
        "eca617f1edc64f98b6faafdb54d1f350": {
          "model_module": "@jupyter-widgets/controls",
          "model_name": "HTMLModel",
          "model_module_version": "1.5.0",
          "state": {
            "_dom_classes": [],
            "_model_module": "@jupyter-widgets/controls",
            "_model_module_version": "1.5.0",
            "_model_name": "HTMLModel",
            "_view_count": null,
            "_view_module": "@jupyter-widgets/controls",
            "_view_module_version": "1.5.0",
            "_view_name": "HTMLView",
            "description": "",
            "description_tooltip": null,
            "layout": "IPY_MODEL_a1a684c04989453caed73f5efff6e35b",
            "placeholder": "​",
            "style": "IPY_MODEL_d9964334aad046ed99c3fad1b4dc17df",
            "value": "\n<b>Pro Tip:</b> If you don't already have one, you can create a dedicated\n'notebooks' token with 'write' access, that you can then easily reuse for all\nnotebooks. </center>"
          }
        },
        "a0e3f097bbdf4fc999c4e65159278163": {
          "model_module": "@jupyter-widgets/base",
          "model_name": "LayoutModel",
          "model_module_version": "1.2.0",
          "state": {
            "_model_module": "@jupyter-widgets/base",
            "_model_module_version": "1.2.0",
            "_model_name": "LayoutModel",
            "_view_count": null,
            "_view_module": "@jupyter-widgets/base",
            "_view_module_version": "1.2.0",
            "_view_name": "LayoutView",
            "align_content": null,
            "align_items": "center",
            "align_self": null,
            "border": null,
            "bottom": null,
            "display": "flex",
            "flex": null,
            "flex_flow": "column",
            "grid_area": null,
            "grid_auto_columns": null,
            "grid_auto_flow": null,
            "grid_auto_rows": null,
            "grid_column": null,
            "grid_gap": null,
            "grid_row": null,
            "grid_template_areas": null,
            "grid_template_columns": null,
            "grid_template_rows": null,
            "height": null,
            "justify_content": null,
            "justify_items": null,
            "left": null,
            "margin": null,
            "max_height": null,
            "max_width": null,
            "min_height": null,
            "min_width": null,
            "object_fit": null,
            "object_position": null,
            "order": null,
            "overflow": null,
            "overflow_x": null,
            "overflow_y": null,
            "padding": null,
            "right": null,
            "top": null,
            "visibility": null,
            "width": "50%"
          }
        },
        "97bb02a3a036458f8f431a0803056d80": {
          "model_module": "@jupyter-widgets/base",
          "model_name": "LayoutModel",
          "model_module_version": "1.2.0",
          "state": {
            "_model_module": "@jupyter-widgets/base",
            "_model_module_version": "1.2.0",
            "_model_name": "LayoutModel",
            "_view_count": null,
            "_view_module": "@jupyter-widgets/base",
            "_view_module_version": "1.2.0",
            "_view_name": "LayoutView",
            "align_content": null,
            "align_items": null,
            "align_self": null,
            "border": null,
            "bottom": null,
            "display": null,
            "flex": null,
            "flex_flow": null,
            "grid_area": null,
            "grid_auto_columns": null,
            "grid_auto_flow": null,
            "grid_auto_rows": null,
            "grid_column": null,
            "grid_gap": null,
            "grid_row": null,
            "grid_template_areas": null,
            "grid_template_columns": null,
            "grid_template_rows": null,
            "height": null,
            "justify_content": null,
            "justify_items": null,
            "left": null,
            "margin": null,
            "max_height": null,
            "max_width": null,
            "min_height": null,
            "min_width": null,
            "object_fit": null,
            "object_position": null,
            "order": null,
            "overflow": null,
            "overflow_x": null,
            "overflow_y": null,
            "padding": null,
            "right": null,
            "top": null,
            "visibility": null,
            "width": null
          }
        },
        "d53972f1d04f4469af66609b7f428dd4": {
          "model_module": "@jupyter-widgets/controls",
          "model_name": "DescriptionStyleModel",
          "model_module_version": "1.5.0",
          "state": {
            "_model_module": "@jupyter-widgets/controls",
            "_model_module_version": "1.5.0",
            "_model_name": "DescriptionStyleModel",
            "_view_count": null,
            "_view_module": "@jupyter-widgets/base",
            "_view_module_version": "1.2.0",
            "_view_name": "StyleView",
            "description_width": ""
          }
        },
        "c9b0248d85c447d39a46e1a08165a862": {
          "model_module": "@jupyter-widgets/base",
          "model_name": "LayoutModel",
          "model_module_version": "1.2.0",
          "state": {
            "_model_module": "@jupyter-widgets/base",
            "_model_module_version": "1.2.0",
            "_model_name": "LayoutModel",
            "_view_count": null,
            "_view_module": "@jupyter-widgets/base",
            "_view_module_version": "1.2.0",
            "_view_name": "LayoutView",
            "align_content": null,
            "align_items": null,
            "align_self": null,
            "border": null,
            "bottom": null,
            "display": null,
            "flex": null,
            "flex_flow": null,
            "grid_area": null,
            "grid_auto_columns": null,
            "grid_auto_flow": null,
            "grid_auto_rows": null,
            "grid_column": null,
            "grid_gap": null,
            "grid_row": null,
            "grid_template_areas": null,
            "grid_template_columns": null,
            "grid_template_rows": null,
            "height": null,
            "justify_content": null,
            "justify_items": null,
            "left": null,
            "margin": null,
            "max_height": null,
            "max_width": null,
            "min_height": null,
            "min_width": null,
            "object_fit": null,
            "object_position": null,
            "order": null,
            "overflow": null,
            "overflow_x": null,
            "overflow_y": null,
            "padding": null,
            "right": null,
            "top": null,
            "visibility": null,
            "width": null
          }
        },
        "d010226906754df0aff5b93c4cc8e4dd": {
          "model_module": "@jupyter-widgets/controls",
          "model_name": "DescriptionStyleModel",
          "model_module_version": "1.5.0",
          "state": {
            "_model_module": "@jupyter-widgets/controls",
            "_model_module_version": "1.5.0",
            "_model_name": "DescriptionStyleModel",
            "_view_count": null,
            "_view_module": "@jupyter-widgets/base",
            "_view_module_version": "1.2.0",
            "_view_name": "StyleView",
            "description_width": ""
          }
        },
        "333226a676cf4161b63970774f363d29": {
          "model_module": "@jupyter-widgets/base",
          "model_name": "LayoutModel",
          "model_module_version": "1.2.0",
          "state": {
            "_model_module": "@jupyter-widgets/base",
            "_model_module_version": "1.2.0",
            "_model_name": "LayoutModel",
            "_view_count": null,
            "_view_module": "@jupyter-widgets/base",
            "_view_module_version": "1.2.0",
            "_view_name": "LayoutView",
            "align_content": null,
            "align_items": null,
            "align_self": null,
            "border": null,
            "bottom": null,
            "display": null,
            "flex": null,
            "flex_flow": null,
            "grid_area": null,
            "grid_auto_columns": null,
            "grid_auto_flow": null,
            "grid_auto_rows": null,
            "grid_column": null,
            "grid_gap": null,
            "grid_row": null,
            "grid_template_areas": null,
            "grid_template_columns": null,
            "grid_template_rows": null,
            "height": null,
            "justify_content": null,
            "justify_items": null,
            "left": null,
            "margin": null,
            "max_height": null,
            "max_width": null,
            "min_height": null,
            "min_width": null,
            "object_fit": null,
            "object_position": null,
            "order": null,
            "overflow": null,
            "overflow_x": null,
            "overflow_y": null,
            "padding": null,
            "right": null,
            "top": null,
            "visibility": null,
            "width": null
          }
        },
        "1f21bfd5f48c42a8ad9dd153be1e738c": {
          "model_module": "@jupyter-widgets/controls",
          "model_name": "DescriptionStyleModel",
          "model_module_version": "1.5.0",
          "state": {
            "_model_module": "@jupyter-widgets/controls",
            "_model_module_version": "1.5.0",
            "_model_name": "DescriptionStyleModel",
            "_view_count": null,
            "_view_module": "@jupyter-widgets/base",
            "_view_module_version": "1.2.0",
            "_view_name": "StyleView",
            "description_width": ""
          }
        },
        "5712460b0c7e4d73b2b52e308f08d14f": {
          "model_module": "@jupyter-widgets/base",
          "model_name": "LayoutModel",
          "model_module_version": "1.2.0",
          "state": {
            "_model_module": "@jupyter-widgets/base",
            "_model_module_version": "1.2.0",
            "_model_name": "LayoutModel",
            "_view_count": null,
            "_view_module": "@jupyter-widgets/base",
            "_view_module_version": "1.2.0",
            "_view_name": "LayoutView",
            "align_content": null,
            "align_items": null,
            "align_self": null,
            "border": null,
            "bottom": null,
            "display": null,
            "flex": null,
            "flex_flow": null,
            "grid_area": null,
            "grid_auto_columns": null,
            "grid_auto_flow": null,
            "grid_auto_rows": null,
            "grid_column": null,
            "grid_gap": null,
            "grid_row": null,
            "grid_template_areas": null,
            "grid_template_columns": null,
            "grid_template_rows": null,
            "height": null,
            "justify_content": null,
            "justify_items": null,
            "left": null,
            "margin": null,
            "max_height": null,
            "max_width": null,
            "min_height": null,
            "min_width": null,
            "object_fit": null,
            "object_position": null,
            "order": null,
            "overflow": null,
            "overflow_x": null,
            "overflow_y": null,
            "padding": null,
            "right": null,
            "top": null,
            "visibility": null,
            "width": null
          }
        },
        "222474c59cd7489488b946600e5280c5": {
          "model_module": "@jupyter-widgets/controls",
          "model_name": "ButtonStyleModel",
          "model_module_version": "1.5.0",
          "state": {
            "_model_module": "@jupyter-widgets/controls",
            "_model_module_version": "1.5.0",
            "_model_name": "ButtonStyleModel",
            "_view_count": null,
            "_view_module": "@jupyter-widgets/base",
            "_view_module_version": "1.2.0",
            "_view_name": "StyleView",
            "button_color": null,
            "font_weight": ""
          }
        },
        "a1a684c04989453caed73f5efff6e35b": {
          "model_module": "@jupyter-widgets/base",
          "model_name": "LayoutModel",
          "model_module_version": "1.2.0",
          "state": {
            "_model_module": "@jupyter-widgets/base",
            "_model_module_version": "1.2.0",
            "_model_name": "LayoutModel",
            "_view_count": null,
            "_view_module": "@jupyter-widgets/base",
            "_view_module_version": "1.2.0",
            "_view_name": "LayoutView",
            "align_content": null,
            "align_items": null,
            "align_self": null,
            "border": null,
            "bottom": null,
            "display": null,
            "flex": null,
            "flex_flow": null,
            "grid_area": null,
            "grid_auto_columns": null,
            "grid_auto_flow": null,
            "grid_auto_rows": null,
            "grid_column": null,
            "grid_gap": null,
            "grid_row": null,
            "grid_template_areas": null,
            "grid_template_columns": null,
            "grid_template_rows": null,
            "height": null,
            "justify_content": null,
            "justify_items": null,
            "left": null,
            "margin": null,
            "max_height": null,
            "max_width": null,
            "min_height": null,
            "min_width": null,
            "object_fit": null,
            "object_position": null,
            "order": null,
            "overflow": null,
            "overflow_x": null,
            "overflow_y": null,
            "padding": null,
            "right": null,
            "top": null,
            "visibility": null,
            "width": null
          }
        },
        "d9964334aad046ed99c3fad1b4dc17df": {
          "model_module": "@jupyter-widgets/controls",
          "model_name": "DescriptionStyleModel",
          "model_module_version": "1.5.0",
          "state": {
            "_model_module": "@jupyter-widgets/controls",
            "_model_module_version": "1.5.0",
            "_model_name": "DescriptionStyleModel",
            "_view_count": null,
            "_view_module": "@jupyter-widgets/base",
            "_view_module_version": "1.2.0",
            "_view_name": "StyleView",
            "description_width": ""
          }
        },
        "90ed10c7ff834169b0fa586f3586d1ad": {
          "model_module": "@jupyter-widgets/controls",
          "model_name": "LabelModel",
          "model_module_version": "1.5.0",
          "state": {
            "_dom_classes": [],
            "_model_module": "@jupyter-widgets/controls",
            "_model_module_version": "1.5.0",
            "_model_name": "LabelModel",
            "_view_count": null,
            "_view_module": "@jupyter-widgets/controls",
            "_view_module_version": "1.5.0",
            "_view_name": "LabelView",
            "description": "",
            "description_tooltip": null,
            "layout": "IPY_MODEL_431dc0bd2cda481db10ca652e6d702bf",
            "placeholder": "​",
            "style": "IPY_MODEL_844b712b84c2424ab1da5c310f151d0f",
            "value": "Connecting..."
          }
        },
        "431dc0bd2cda481db10ca652e6d702bf": {
          "model_module": "@jupyter-widgets/base",
          "model_name": "LayoutModel",
          "model_module_version": "1.2.0",
          "state": {
            "_model_module": "@jupyter-widgets/base",
            "_model_module_version": "1.2.0",
            "_model_name": "LayoutModel",
            "_view_count": null,
            "_view_module": "@jupyter-widgets/base",
            "_view_module_version": "1.2.0",
            "_view_name": "LayoutView",
            "align_content": null,
            "align_items": null,
            "align_self": null,
            "border": null,
            "bottom": null,
            "display": null,
            "flex": null,
            "flex_flow": null,
            "grid_area": null,
            "grid_auto_columns": null,
            "grid_auto_flow": null,
            "grid_auto_rows": null,
            "grid_column": null,
            "grid_gap": null,
            "grid_row": null,
            "grid_template_areas": null,
            "grid_template_columns": null,
            "grid_template_rows": null,
            "height": null,
            "justify_content": null,
            "justify_items": null,
            "left": null,
            "margin": null,
            "max_height": null,
            "max_width": null,
            "min_height": null,
            "min_width": null,
            "object_fit": null,
            "object_position": null,
            "order": null,
            "overflow": null,
            "overflow_x": null,
            "overflow_y": null,
            "padding": null,
            "right": null,
            "top": null,
            "visibility": null,
            "width": null
          }
        },
        "844b712b84c2424ab1da5c310f151d0f": {
          "model_module": "@jupyter-widgets/controls",
          "model_name": "DescriptionStyleModel",
          "model_module_version": "1.5.0",
          "state": {
            "_model_module": "@jupyter-widgets/controls",
            "_model_module_version": "1.5.0",
            "_model_name": "DescriptionStyleModel",
            "_view_count": null,
            "_view_module": "@jupyter-widgets/base",
            "_view_module_version": "1.2.0",
            "_view_name": "StyleView",
            "description_width": ""
          }
        },
        "16e625f184454acfb9132858684190e3": {
          "model_module": "@jupyter-widgets/controls",
          "model_name": "HBoxModel",
          "model_module_version": "1.5.0",
          "state": {
            "_dom_classes": [],
            "_model_module": "@jupyter-widgets/controls",
            "_model_module_version": "1.5.0",
            "_model_name": "HBoxModel",
            "_view_count": null,
            "_view_module": "@jupyter-widgets/controls",
            "_view_module_version": "1.5.0",
            "_view_name": "HBoxView",
            "box_style": "",
            "children": [
              "IPY_MODEL_6d2faf9cce894a46b5c0647602c4c66c",
              "IPY_MODEL_d5a17422e1194897aff6f2810e731459",
              "IPY_MODEL_bb35ef304a57407d977f405141396631"
            ],
            "layout": "IPY_MODEL_e7ea7ff3746e462d98a16a5ed651c341"
          }
        },
        "6d2faf9cce894a46b5c0647602c4c66c": {
          "model_module": "@jupyter-widgets/controls",
          "model_name": "HTMLModel",
          "model_module_version": "1.5.0",
          "state": {
            "_dom_classes": [],
            "_model_module": "@jupyter-widgets/controls",
            "_model_module_version": "1.5.0",
            "_model_name": "HTMLModel",
            "_view_count": null,
            "_view_module": "@jupyter-widgets/controls",
            "_view_module_version": "1.5.0",
            "_view_name": "HTMLView",
            "description": "",
            "description_tooltip": null,
            "layout": "IPY_MODEL_a0d400babbcb48f0824e4d6a11b0ad6b",
            "placeholder": "​",
            "style": "IPY_MODEL_1c4894ed57c74707bb98c72c4d902912",
            "value": "Map: 100%"
          }
        },
        "d5a17422e1194897aff6f2810e731459": {
          "model_module": "@jupyter-widgets/controls",
          "model_name": "FloatProgressModel",
          "model_module_version": "1.5.0",
          "state": {
            "_dom_classes": [],
            "_model_module": "@jupyter-widgets/controls",
            "_model_module_version": "1.5.0",
            "_model_name": "FloatProgressModel",
            "_view_count": null,
            "_view_module": "@jupyter-widgets/controls",
            "_view_module_version": "1.5.0",
            "_view_name": "ProgressView",
            "bar_style": "success",
            "description": "",
            "description_tooltip": null,
            "layout": "IPY_MODEL_cf0e9ff496754a60bb9389e72638ad3b",
            "max": 9741,
            "min": 0,
            "orientation": "horizontal",
            "style": "IPY_MODEL_6e64b05e6b0f407791c086f9952f6f18",
            "value": 9741
          }
        },
        "bb35ef304a57407d977f405141396631": {
          "model_module": "@jupyter-widgets/controls",
          "model_name": "HTMLModel",
          "model_module_version": "1.5.0",
          "state": {
            "_dom_classes": [],
            "_model_module": "@jupyter-widgets/controls",
            "_model_module_version": "1.5.0",
            "_model_name": "HTMLModel",
            "_view_count": null,
            "_view_module": "@jupyter-widgets/controls",
            "_view_module_version": "1.5.0",
            "_view_name": "HTMLView",
            "description": "",
            "description_tooltip": null,
            "layout": "IPY_MODEL_b1aac3d274bb49439c8c73d1bdce1103",
            "placeholder": "​",
            "style": "IPY_MODEL_4a486623a1ab46f9b7f4a1882fd452e9",
            "value": " 9741/9741 [00:06&lt;00:00, 1461.88 examples/s]"
          }
        },
        "e7ea7ff3746e462d98a16a5ed651c341": {
          "model_module": "@jupyter-widgets/base",
          "model_name": "LayoutModel",
          "model_module_version": "1.2.0",
          "state": {
            "_model_module": "@jupyter-widgets/base",
            "_model_module_version": "1.2.0",
            "_model_name": "LayoutModel",
            "_view_count": null,
            "_view_module": "@jupyter-widgets/base",
            "_view_module_version": "1.2.0",
            "_view_name": "LayoutView",
            "align_content": null,
            "align_items": null,
            "align_self": null,
            "border": null,
            "bottom": null,
            "display": null,
            "flex": null,
            "flex_flow": null,
            "grid_area": null,
            "grid_auto_columns": null,
            "grid_auto_flow": null,
            "grid_auto_rows": null,
            "grid_column": null,
            "grid_gap": null,
            "grid_row": null,
            "grid_template_areas": null,
            "grid_template_columns": null,
            "grid_template_rows": null,
            "height": null,
            "justify_content": null,
            "justify_items": null,
            "left": null,
            "margin": null,
            "max_height": null,
            "max_width": null,
            "min_height": null,
            "min_width": null,
            "object_fit": null,
            "object_position": null,
            "order": null,
            "overflow": null,
            "overflow_x": null,
            "overflow_y": null,
            "padding": null,
            "right": null,
            "top": null,
            "visibility": null,
            "width": null
          }
        },
        "a0d400babbcb48f0824e4d6a11b0ad6b": {
          "model_module": "@jupyter-widgets/base",
          "model_name": "LayoutModel",
          "model_module_version": "1.2.0",
          "state": {
            "_model_module": "@jupyter-widgets/base",
            "_model_module_version": "1.2.0",
            "_model_name": "LayoutModel",
            "_view_count": null,
            "_view_module": "@jupyter-widgets/base",
            "_view_module_version": "1.2.0",
            "_view_name": "LayoutView",
            "align_content": null,
            "align_items": null,
            "align_self": null,
            "border": null,
            "bottom": null,
            "display": null,
            "flex": null,
            "flex_flow": null,
            "grid_area": null,
            "grid_auto_columns": null,
            "grid_auto_flow": null,
            "grid_auto_rows": null,
            "grid_column": null,
            "grid_gap": null,
            "grid_row": null,
            "grid_template_areas": null,
            "grid_template_columns": null,
            "grid_template_rows": null,
            "height": null,
            "justify_content": null,
            "justify_items": null,
            "left": null,
            "margin": null,
            "max_height": null,
            "max_width": null,
            "min_height": null,
            "min_width": null,
            "object_fit": null,
            "object_position": null,
            "order": null,
            "overflow": null,
            "overflow_x": null,
            "overflow_y": null,
            "padding": null,
            "right": null,
            "top": null,
            "visibility": null,
            "width": null
          }
        },
        "1c4894ed57c74707bb98c72c4d902912": {
          "model_module": "@jupyter-widgets/controls",
          "model_name": "DescriptionStyleModel",
          "model_module_version": "1.5.0",
          "state": {
            "_model_module": "@jupyter-widgets/controls",
            "_model_module_version": "1.5.0",
            "_model_name": "DescriptionStyleModel",
            "_view_count": null,
            "_view_module": "@jupyter-widgets/base",
            "_view_module_version": "1.2.0",
            "_view_name": "StyleView",
            "description_width": ""
          }
        },
        "cf0e9ff496754a60bb9389e72638ad3b": {
          "model_module": "@jupyter-widgets/base",
          "model_name": "LayoutModel",
          "model_module_version": "1.2.0",
          "state": {
            "_model_module": "@jupyter-widgets/base",
            "_model_module_version": "1.2.0",
            "_model_name": "LayoutModel",
            "_view_count": null,
            "_view_module": "@jupyter-widgets/base",
            "_view_module_version": "1.2.0",
            "_view_name": "LayoutView",
            "align_content": null,
            "align_items": null,
            "align_self": null,
            "border": null,
            "bottom": null,
            "display": null,
            "flex": null,
            "flex_flow": null,
            "grid_area": null,
            "grid_auto_columns": null,
            "grid_auto_flow": null,
            "grid_auto_rows": null,
            "grid_column": null,
            "grid_gap": null,
            "grid_row": null,
            "grid_template_areas": null,
            "grid_template_columns": null,
            "grid_template_rows": null,
            "height": null,
            "justify_content": null,
            "justify_items": null,
            "left": null,
            "margin": null,
            "max_height": null,
            "max_width": null,
            "min_height": null,
            "min_width": null,
            "object_fit": null,
            "object_position": null,
            "order": null,
            "overflow": null,
            "overflow_x": null,
            "overflow_y": null,
            "padding": null,
            "right": null,
            "top": null,
            "visibility": null,
            "width": null
          }
        },
        "6e64b05e6b0f407791c086f9952f6f18": {
          "model_module": "@jupyter-widgets/controls",
          "model_name": "ProgressStyleModel",
          "model_module_version": "1.5.0",
          "state": {
            "_model_module": "@jupyter-widgets/controls",
            "_model_module_version": "1.5.0",
            "_model_name": "ProgressStyleModel",
            "_view_count": null,
            "_view_module": "@jupyter-widgets/base",
            "_view_module_version": "1.2.0",
            "_view_name": "StyleView",
            "bar_color": null,
            "description_width": ""
          }
        },
        "b1aac3d274bb49439c8c73d1bdce1103": {
          "model_module": "@jupyter-widgets/base",
          "model_name": "LayoutModel",
          "model_module_version": "1.2.0",
          "state": {
            "_model_module": "@jupyter-widgets/base",
            "_model_module_version": "1.2.0",
            "_model_name": "LayoutModel",
            "_view_count": null,
            "_view_module": "@jupyter-widgets/base",
            "_view_module_version": "1.2.0",
            "_view_name": "LayoutView",
            "align_content": null,
            "align_items": null,
            "align_self": null,
            "border": null,
            "bottom": null,
            "display": null,
            "flex": null,
            "flex_flow": null,
            "grid_area": null,
            "grid_auto_columns": null,
            "grid_auto_flow": null,
            "grid_auto_rows": null,
            "grid_column": null,
            "grid_gap": null,
            "grid_row": null,
            "grid_template_areas": null,
            "grid_template_columns": null,
            "grid_template_rows": null,
            "height": null,
            "justify_content": null,
            "justify_items": null,
            "left": null,
            "margin": null,
            "max_height": null,
            "max_width": null,
            "min_height": null,
            "min_width": null,
            "object_fit": null,
            "object_position": null,
            "order": null,
            "overflow": null,
            "overflow_x": null,
            "overflow_y": null,
            "padding": null,
            "right": null,
            "top": null,
            "visibility": null,
            "width": null
          }
        },
        "4a486623a1ab46f9b7f4a1882fd452e9": {
          "model_module": "@jupyter-widgets/controls",
          "model_name": "DescriptionStyleModel",
          "model_module_version": "1.5.0",
          "state": {
            "_model_module": "@jupyter-widgets/controls",
            "_model_module_version": "1.5.0",
            "_model_name": "DescriptionStyleModel",
            "_view_count": null,
            "_view_module": "@jupyter-widgets/base",
            "_view_module_version": "1.2.0",
            "_view_name": "StyleView",
            "description_width": ""
          }
        },
        "b850efc3e8624604b1c0879bfdbe4652": {
          "model_module": "@jupyter-widgets/controls",
          "model_name": "HBoxModel",
          "model_module_version": "1.5.0",
          "state": {
            "_dom_classes": [],
            "_model_module": "@jupyter-widgets/controls",
            "_model_module_version": "1.5.0",
            "_model_name": "HBoxModel",
            "_view_count": null,
            "_view_module": "@jupyter-widgets/controls",
            "_view_module_version": "1.5.0",
            "_view_name": "HBoxView",
            "box_style": "",
            "children": [
              "IPY_MODEL_d684f44f29de40179169705924476683",
              "IPY_MODEL_195a28d782cb48d8ac1cad47e91b6c08",
              "IPY_MODEL_792404d6135f47bf93b22bfdf506b6b8"
            ],
            "layout": "IPY_MODEL_de30c181bb704d7a862d76ba0e0c2d6a"
          }
        },
        "d684f44f29de40179169705924476683": {
          "model_module": "@jupyter-widgets/controls",
          "model_name": "HTMLModel",
          "model_module_version": "1.5.0",
          "state": {
            "_dom_classes": [],
            "_model_module": "@jupyter-widgets/controls",
            "_model_module_version": "1.5.0",
            "_model_name": "HTMLModel",
            "_view_count": null,
            "_view_module": "@jupyter-widgets/controls",
            "_view_module_version": "1.5.0",
            "_view_name": "HTMLView",
            "description": "",
            "description_tooltip": null,
            "layout": "IPY_MODEL_6eb1b54d426b44df9ef48fff5e3d80ad",
            "placeholder": "​",
            "style": "IPY_MODEL_e2606138b10745f7b3ca3edc61ea9e58",
            "value": "Map: 100%"
          }
        },
        "195a28d782cb48d8ac1cad47e91b6c08": {
          "model_module": "@jupyter-widgets/controls",
          "model_name": "FloatProgressModel",
          "model_module_version": "1.5.0",
          "state": {
            "_dom_classes": [],
            "_model_module": "@jupyter-widgets/controls",
            "_model_module_version": "1.5.0",
            "_model_name": "FloatProgressModel",
            "_view_count": null,
            "_view_module": "@jupyter-widgets/controls",
            "_view_module_version": "1.5.0",
            "_view_name": "ProgressView",
            "bar_style": "success",
            "description": "",
            "description_tooltip": null,
            "layout": "IPY_MODEL_34115e5d50df4b2dbd0918ad1ee972cb",
            "max": 1221,
            "min": 0,
            "orientation": "horizontal",
            "style": "IPY_MODEL_00354da72438418b8f7cb7df05deeca2",
            "value": 1221
          }
        },
        "792404d6135f47bf93b22bfdf506b6b8": {
          "model_module": "@jupyter-widgets/controls",
          "model_name": "HTMLModel",
          "model_module_version": "1.5.0",
          "state": {
            "_dom_classes": [],
            "_model_module": "@jupyter-widgets/controls",
            "_model_module_version": "1.5.0",
            "_model_name": "HTMLModel",
            "_view_count": null,
            "_view_module": "@jupyter-widgets/controls",
            "_view_module_version": "1.5.0",
            "_view_name": "HTMLView",
            "description": "",
            "description_tooltip": null,
            "layout": "IPY_MODEL_b3c4efc34a5a48a39a844e3625607dce",
            "placeholder": "​",
            "style": "IPY_MODEL_6f5382908e894456850e02ee62c4df71",
            "value": " 1221/1221 [00:00&lt;00:00, 1383.76 examples/s]"
          }
        },
        "de30c181bb704d7a862d76ba0e0c2d6a": {
          "model_module": "@jupyter-widgets/base",
          "model_name": "LayoutModel",
          "model_module_version": "1.2.0",
          "state": {
            "_model_module": "@jupyter-widgets/base",
            "_model_module_version": "1.2.0",
            "_model_name": "LayoutModel",
            "_view_count": null,
            "_view_module": "@jupyter-widgets/base",
            "_view_module_version": "1.2.0",
            "_view_name": "LayoutView",
            "align_content": null,
            "align_items": null,
            "align_self": null,
            "border": null,
            "bottom": null,
            "display": null,
            "flex": null,
            "flex_flow": null,
            "grid_area": null,
            "grid_auto_columns": null,
            "grid_auto_flow": null,
            "grid_auto_rows": null,
            "grid_column": null,
            "grid_gap": null,
            "grid_row": null,
            "grid_template_areas": null,
            "grid_template_columns": null,
            "grid_template_rows": null,
            "height": null,
            "justify_content": null,
            "justify_items": null,
            "left": null,
            "margin": null,
            "max_height": null,
            "max_width": null,
            "min_height": null,
            "min_width": null,
            "object_fit": null,
            "object_position": null,
            "order": null,
            "overflow": null,
            "overflow_x": null,
            "overflow_y": null,
            "padding": null,
            "right": null,
            "top": null,
            "visibility": null,
            "width": null
          }
        },
        "6eb1b54d426b44df9ef48fff5e3d80ad": {
          "model_module": "@jupyter-widgets/base",
          "model_name": "LayoutModel",
          "model_module_version": "1.2.0",
          "state": {
            "_model_module": "@jupyter-widgets/base",
            "_model_module_version": "1.2.0",
            "_model_name": "LayoutModel",
            "_view_count": null,
            "_view_module": "@jupyter-widgets/base",
            "_view_module_version": "1.2.0",
            "_view_name": "LayoutView",
            "align_content": null,
            "align_items": null,
            "align_self": null,
            "border": null,
            "bottom": null,
            "display": null,
            "flex": null,
            "flex_flow": null,
            "grid_area": null,
            "grid_auto_columns": null,
            "grid_auto_flow": null,
            "grid_auto_rows": null,
            "grid_column": null,
            "grid_gap": null,
            "grid_row": null,
            "grid_template_areas": null,
            "grid_template_columns": null,
            "grid_template_rows": null,
            "height": null,
            "justify_content": null,
            "justify_items": null,
            "left": null,
            "margin": null,
            "max_height": null,
            "max_width": null,
            "min_height": null,
            "min_width": null,
            "object_fit": null,
            "object_position": null,
            "order": null,
            "overflow": null,
            "overflow_x": null,
            "overflow_y": null,
            "padding": null,
            "right": null,
            "top": null,
            "visibility": null,
            "width": null
          }
        },
        "e2606138b10745f7b3ca3edc61ea9e58": {
          "model_module": "@jupyter-widgets/controls",
          "model_name": "DescriptionStyleModel",
          "model_module_version": "1.5.0",
          "state": {
            "_model_module": "@jupyter-widgets/controls",
            "_model_module_version": "1.5.0",
            "_model_name": "DescriptionStyleModel",
            "_view_count": null,
            "_view_module": "@jupyter-widgets/base",
            "_view_module_version": "1.2.0",
            "_view_name": "StyleView",
            "description_width": ""
          }
        },
        "34115e5d50df4b2dbd0918ad1ee972cb": {
          "model_module": "@jupyter-widgets/base",
          "model_name": "LayoutModel",
          "model_module_version": "1.2.0",
          "state": {
            "_model_module": "@jupyter-widgets/base",
            "_model_module_version": "1.2.0",
            "_model_name": "LayoutModel",
            "_view_count": null,
            "_view_module": "@jupyter-widgets/base",
            "_view_module_version": "1.2.0",
            "_view_name": "LayoutView",
            "align_content": null,
            "align_items": null,
            "align_self": null,
            "border": null,
            "bottom": null,
            "display": null,
            "flex": null,
            "flex_flow": null,
            "grid_area": null,
            "grid_auto_columns": null,
            "grid_auto_flow": null,
            "grid_auto_rows": null,
            "grid_column": null,
            "grid_gap": null,
            "grid_row": null,
            "grid_template_areas": null,
            "grid_template_columns": null,
            "grid_template_rows": null,
            "height": null,
            "justify_content": null,
            "justify_items": null,
            "left": null,
            "margin": null,
            "max_height": null,
            "max_width": null,
            "min_height": null,
            "min_width": null,
            "object_fit": null,
            "object_position": null,
            "order": null,
            "overflow": null,
            "overflow_x": null,
            "overflow_y": null,
            "padding": null,
            "right": null,
            "top": null,
            "visibility": null,
            "width": null
          }
        },
        "00354da72438418b8f7cb7df05deeca2": {
          "model_module": "@jupyter-widgets/controls",
          "model_name": "ProgressStyleModel",
          "model_module_version": "1.5.0",
          "state": {
            "_model_module": "@jupyter-widgets/controls",
            "_model_module_version": "1.5.0",
            "_model_name": "ProgressStyleModel",
            "_view_count": null,
            "_view_module": "@jupyter-widgets/base",
            "_view_module_version": "1.2.0",
            "_view_name": "StyleView",
            "bar_color": null,
            "description_width": ""
          }
        },
        "b3c4efc34a5a48a39a844e3625607dce": {
          "model_module": "@jupyter-widgets/base",
          "model_name": "LayoutModel",
          "model_module_version": "1.2.0",
          "state": {
            "_model_module": "@jupyter-widgets/base",
            "_model_module_version": "1.2.0",
            "_model_name": "LayoutModel",
            "_view_count": null,
            "_view_module": "@jupyter-widgets/base",
            "_view_module_version": "1.2.0",
            "_view_name": "LayoutView",
            "align_content": null,
            "align_items": null,
            "align_self": null,
            "border": null,
            "bottom": null,
            "display": null,
            "flex": null,
            "flex_flow": null,
            "grid_area": null,
            "grid_auto_columns": null,
            "grid_auto_flow": null,
            "grid_auto_rows": null,
            "grid_column": null,
            "grid_gap": null,
            "grid_row": null,
            "grid_template_areas": null,
            "grid_template_columns": null,
            "grid_template_rows": null,
            "height": null,
            "justify_content": null,
            "justify_items": null,
            "left": null,
            "margin": null,
            "max_height": null,
            "max_width": null,
            "min_height": null,
            "min_width": null,
            "object_fit": null,
            "object_position": null,
            "order": null,
            "overflow": null,
            "overflow_x": null,
            "overflow_y": null,
            "padding": null,
            "right": null,
            "top": null,
            "visibility": null,
            "width": null
          }
        },
        "6f5382908e894456850e02ee62c4df71": {
          "model_module": "@jupyter-widgets/controls",
          "model_name": "DescriptionStyleModel",
          "model_module_version": "1.5.0",
          "state": {
            "_model_module": "@jupyter-widgets/controls",
            "_model_module_version": "1.5.0",
            "_model_name": "DescriptionStyleModel",
            "_view_count": null,
            "_view_module": "@jupyter-widgets/base",
            "_view_module_version": "1.2.0",
            "_view_name": "StyleView",
            "description_width": ""
          }
        }
      }
    }
  },
  "nbformat": 4,
  "nbformat_minor": 5
}